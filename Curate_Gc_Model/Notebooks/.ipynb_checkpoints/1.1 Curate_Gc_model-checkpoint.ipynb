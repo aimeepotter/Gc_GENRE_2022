{
 "cells": [
  {
   "cell_type": "code",
   "execution_count": 15,
   "metadata": {
    "scrolled": true
   },
   "outputs": [],
   "source": [
    "# Import libraries - REQUIRES pip version 9.0.3\n",
    "import pandas\n",
    "import os\n",
    "from os.path import join\n",
    "import sys\n",
    "import scipy.stats\n",
    "import numpy\n",
    "import math\n",
    "import pickle\n",
    "import copy\n",
    "import time\n",
    "import warnings\n",
    "import gc\n",
    "\n",
    "# Using Cobrapy 0.13.0\n",
    "import cobra\n",
    "import cobra.test\n",
    "import cobra.flux_analysis.gapfilling\n",
    "from cobra import Reaction, Metabolite\n",
    "from cobra.io import write_sbml_model\n",
    "from cobra.flux_analysis import  flux_variability_analysis\n",
    "from cobra.flux_analysis.reaction import assess_component\n",
    "from cobra.manipulation.delete import *\n",
    "from cobra.flux_analysis.parsimonious import add_pfba\n",
    "from cobra.medium import find_boundary_types\n",
    "from cobra.util import solver as sutil\n",
    "\n",
    "\n",
    "#Simplify reading/writing files\n",
    "cwd=os.path.realpath(os.path.join(os.path.dirname(os.getcwd()),\"..\",\"..\"))"
   ]
  },
  {
   "cell_type": "code",
   "execution_count": 16,
   "metadata": {
    "scrolled": true
   },
   "outputs": [],
   "source": [
    "# Quicker way to read in models\n",
    "import pickle\n",
    "def read_model(fileName, obj='none'):\n",
    "    \n",
    "    fileType = fileName.split('.')[-1]\n",
    "    \n",
    "    if fileType == 'sbml' or fileType == 'xml':\n",
    "        model = cobra.io.read_sbml_model(fileName)\n",
    "    elif fileType == 'json':\n",
    "        model = cobra.io.load_json_model(fileName)\n",
    "    elif fileType == 'yaml':\n",
    "        model = cobra.io.load_yaml_model(fileName)\n",
    "    elif fileType == 'mat':\n",
    "        model = cobra.io.load_matlab_model(fileName)\n",
    "    elif fileType == 'pkl':\n",
    "        model = pickle.load(open(fileName, 'rb'))\n",
    "    else:\n",
    "        raise TypeError('Unrecognized file extension')\n",
    "    \n",
    "    if obj != 'none': model.objective = obj\n",
    "    for rxn in model.boundary: rxn.bounds = (-1000., 1000.)\n",
    "        \n",
    "    return model"
   ]
  },
  {
   "cell_type": "code",
   "execution_count": 17,
   "metadata": {},
   "outputs": [],
   "source": [
    "#Set media\n",
    "\n",
    "def complete(model):\n",
    "    for reaction in model.reactions:\n",
    "        if 'EX_' in  reaction.id:\n",
    "            reaction.lower_bound=-20.\n"
   ]
  },
  {
   "cell_type": "code",
   "execution_count": 18,
   "metadata": {
    "scrolled": true,
    "tags": []
   },
   "outputs": [
    {
     "ename": "FileNotFoundError",
     "evalue": "[Errno 2] No such file or directory: 'C:\\\\Users\\\\Aimee\\\\OneDrive\\\\Documents\\\\UVA/Gc_GENRE_2022/Models/AE004969.1.json'",
     "output_type": "error",
     "traceback": [
      "\u001b[1;31m---------------------------------------------------------------------------\u001b[0m",
      "\u001b[1;31mFileNotFoundError\u001b[0m                         Traceback (most recent call last)",
      "\u001b[1;32m<ipython-input-18-22a986b936b2>\u001b[0m in \u001b[0;36m<module>\u001b[1;34m\u001b[0m\n\u001b[0;32m      1\u001b[0m \u001b[1;31m# Read in  model\u001b[0m\u001b[1;33m\u001b[0m\u001b[1;33m\u001b[0m\u001b[1;33m\u001b[0m\u001b[0m\n\u001b[1;32m----> 2\u001b[1;33m \u001b[0mmodel\u001b[0m\u001b[1;33m=\u001b[0m\u001b[0mread_model\u001b[0m\u001b[1;33m(\u001b[0m\u001b[0mcwd\u001b[0m\u001b[1;33m+\u001b[0m\u001b[1;34m'/Gc_GENRE_2022/Models/AE004969.1.json'\u001b[0m\u001b[1;33m)\u001b[0m\u001b[1;33m\u001b[0m\u001b[1;33m\u001b[0m\u001b[0m\n\u001b[0m\u001b[0;32m      3\u001b[0m \u001b[0mmodel\u001b[0m\u001b[1;33m\u001b[0m\u001b[1;33m\u001b[0m\u001b[0m\n",
      "\u001b[1;32m<ipython-input-16-56961fe54e8e>\u001b[0m in \u001b[0;36mread_model\u001b[1;34m(fileName, obj)\u001b[0m\n\u001b[0;32m      8\u001b[0m         \u001b[0mmodel\u001b[0m \u001b[1;33m=\u001b[0m \u001b[0mcobra\u001b[0m\u001b[1;33m.\u001b[0m\u001b[0mio\u001b[0m\u001b[1;33m.\u001b[0m\u001b[0mread_sbml_model\u001b[0m\u001b[1;33m(\u001b[0m\u001b[0mfileName\u001b[0m\u001b[1;33m)\u001b[0m\u001b[1;33m\u001b[0m\u001b[1;33m\u001b[0m\u001b[0m\n\u001b[0;32m      9\u001b[0m     \u001b[1;32melif\u001b[0m \u001b[0mfileType\u001b[0m \u001b[1;33m==\u001b[0m \u001b[1;34m'json'\u001b[0m\u001b[1;33m:\u001b[0m\u001b[1;33m\u001b[0m\u001b[1;33m\u001b[0m\u001b[0m\n\u001b[1;32m---> 10\u001b[1;33m         \u001b[0mmodel\u001b[0m \u001b[1;33m=\u001b[0m \u001b[0mcobra\u001b[0m\u001b[1;33m.\u001b[0m\u001b[0mio\u001b[0m\u001b[1;33m.\u001b[0m\u001b[0mload_json_model\u001b[0m\u001b[1;33m(\u001b[0m\u001b[0mfileName\u001b[0m\u001b[1;33m)\u001b[0m\u001b[1;33m\u001b[0m\u001b[1;33m\u001b[0m\u001b[0m\n\u001b[0m\u001b[0;32m     11\u001b[0m     \u001b[1;32melif\u001b[0m \u001b[0mfileType\u001b[0m \u001b[1;33m==\u001b[0m \u001b[1;34m'yaml'\u001b[0m\u001b[1;33m:\u001b[0m\u001b[1;33m\u001b[0m\u001b[1;33m\u001b[0m\u001b[0m\n\u001b[0;32m     12\u001b[0m         \u001b[0mmodel\u001b[0m \u001b[1;33m=\u001b[0m \u001b[0mcobra\u001b[0m\u001b[1;33m.\u001b[0m\u001b[0mio\u001b[0m\u001b[1;33m.\u001b[0m\u001b[0mload_yaml_model\u001b[0m\u001b[1;33m(\u001b[0m\u001b[0mfileName\u001b[0m\u001b[1;33m)\u001b[0m\u001b[1;33m\u001b[0m\u001b[1;33m\u001b[0m\u001b[0m\n",
      "\u001b[1;32m~\\anaconda3\\lib\\site-packages\\cobra\\io\\json.py\u001b[0m in \u001b[0;36mload_json_model\u001b[1;34m(filename)\u001b[0m\n\u001b[0;32m    137\u001b[0m     \"\"\"\n\u001b[0;32m    138\u001b[0m     \u001b[1;32mif\u001b[0m \u001b[0misinstance\u001b[0m\u001b[1;33m(\u001b[0m\u001b[0mfilename\u001b[0m\u001b[1;33m,\u001b[0m \u001b[0mstr\u001b[0m\u001b[1;33m)\u001b[0m\u001b[1;33m:\u001b[0m\u001b[1;33m\u001b[0m\u001b[1;33m\u001b[0m\u001b[0m\n\u001b[1;32m--> 139\u001b[1;33m         \u001b[1;32mwith\u001b[0m \u001b[0mopen\u001b[0m\u001b[1;33m(\u001b[0m\u001b[0mfilename\u001b[0m\u001b[1;33m,\u001b[0m \u001b[1;34m\"r\"\u001b[0m\u001b[1;33m)\u001b[0m \u001b[1;32mas\u001b[0m \u001b[0mfile_handle\u001b[0m\u001b[1;33m:\u001b[0m\u001b[1;33m\u001b[0m\u001b[1;33m\u001b[0m\u001b[0m\n\u001b[0m\u001b[0;32m    140\u001b[0m             \u001b[1;32mreturn\u001b[0m \u001b[0mmodel_from_dict\u001b[0m\u001b[1;33m(\u001b[0m\u001b[0mjson\u001b[0m\u001b[1;33m.\u001b[0m\u001b[0mload\u001b[0m\u001b[1;33m(\u001b[0m\u001b[0mfile_handle\u001b[0m\u001b[1;33m)\u001b[0m\u001b[1;33m)\u001b[0m\u001b[1;33m\u001b[0m\u001b[1;33m\u001b[0m\u001b[0m\n\u001b[0;32m    141\u001b[0m     \u001b[1;32melse\u001b[0m\u001b[1;33m:\u001b[0m\u001b[1;33m\u001b[0m\u001b[1;33m\u001b[0m\u001b[0m\n",
      "\u001b[1;31mFileNotFoundError\u001b[0m: [Errno 2] No such file or directory: 'C:\\\\Users\\\\Aimee\\\\OneDrive\\\\Documents\\\\UVA/Gc_GENRE_2022/Models/AE004969.1.json'"
     ]
    }
   ],
   "source": [
    "# Read in  model\n",
    "model=read_model(cwd+'/Gc_GENRE_2022/Models/AE004969.1.json')\n",
    "model"
   ]
  },
  {
   "cell_type": "code",
   "execution_count": 14,
   "metadata": {},
   "outputs": [
    {
     "data": {
      "text/plain": [
       "56.06769359666865"
      ]
     },
     "execution_count": 14,
     "metadata": {},
     "output_type": "execute_result"
    }
   ],
   "source": [
    "model.slim_optimize()"
   ]
  },
  {
   "cell_type": "code",
   "execution_count": 15,
   "metadata": {
    "scrolled": true
   },
   "outputs": [
    {
     "name": "stdout",
     "output_type": "stream",
     "text": [
      "RPMI_Molarity: 0.26786812887471584\n"
     ]
    }
   ],
   "source": [
    "rpmi_molarity(model)\n",
    "print ('RPMI_Molarity:', model.slim_optimize())"
   ]
  },
  {
   "cell_type": "code",
   "execution_count": 16,
   "metadata": {},
   "outputs": [],
   "source": [
    "# Fix compartment labels to be more specific  "
   ]
  },
  {
   "cell_type": "code",
   "execution_count": 17,
   "metadata": {},
   "outputs": [],
   "source": [
    "for metabolite in model.metabolites:\n",
    "    if '_c' in metabolite.id:\n",
    "        metabolite.compartment = 'cytosol'\n",
    "    if '_p' in metabolite.id:\n",
    "        metabolite.compartment = 'periplasm'\n",
    "    if '_e' in metabolite.id:\n",
    "        metabolite.compartment = 'extracellular'"
   ]
  },
  {
   "cell_type": "code",
   "execution_count": 18,
   "metadata": {},
   "outputs": [],
   "source": [
    "for metabolite in model.metabolites:\n",
    "    if '_p_c' in metabolite.id:\n",
    "        print (metabolite.id)"
   ]
  },
  {
   "cell_type": "code",
   "execution_count": 19,
   "metadata": {},
   "outputs": [
    {
     "data": {
      "text/html": [
       "\n",
       "        <table>\n",
       "            <tr>\n",
       "                <td><strong>Name</strong></td>\n",
       "                <td>AE004969.1</td>\n",
       "            </tr><tr>\n",
       "                <td><strong>Memory address</strong></td>\n",
       "                <td>0x02a32d968460</td>\n",
       "            </tr><tr>\n",
       "                <td><strong>Number of metabolites</strong></td>\n",
       "                <td>1297</td>\n",
       "            </tr><tr>\n",
       "                <td><strong>Number of reactions</strong></td>\n",
       "                <td>1484</td>\n",
       "            </tr><tr>\n",
       "                <td><strong>Number of groups</strong></td>\n",
       "                <td>0</td>\n",
       "            </tr><tr>\n",
       "                <td><strong>Objective expression</strong></td>\n",
       "                <td>1.0*Nm_Ess_biomass - 1.0*Nm_Ess_biomass_reverse_46af5</td>\n",
       "            </tr><tr>\n",
       "                <td><strong>Compartments</strong></td>\n",
       "                <td>periplasm, cytosol, extracellular, Cytosol</td>\n",
       "            </tr>\n",
       "          </table>"
      ],
      "text/plain": [
       "<Model AE004969.1 at 0x2a32d968460>"
      ]
     },
     "execution_count": 19,
     "metadata": {},
     "output_type": "execute_result"
    }
   ],
   "source": [
    "model"
   ]
  },
  {
   "cell_type": "code",
   "execution_count": 20,
   "metadata": {},
   "outputs": [
    {
     "name": "stdout",
     "output_type": "stream",
     "text": [
      "essbiomass\n",
      "protein\n",
      "capminusbiomass\n",
      "biomass\n"
     ]
    }
   ],
   "source": [
    "for metabolite in model.metabolites:\n",
    "    if 'Cytosol' in metabolite.compartment:\n",
    "        print (metabolite.id)\n",
    "        metabolite.compartment = 'cytosol'"
   ]
  },
  {
   "cell_type": "code",
   "execution_count": 21,
   "metadata": {},
   "outputs": [
    {
     "data": {
      "text/html": [
       "\n",
       "        <table>\n",
       "            <tr>\n",
       "                <td><strong>Name</strong></td>\n",
       "                <td>AE004969.1</td>\n",
       "            </tr><tr>\n",
       "                <td><strong>Memory address</strong></td>\n",
       "                <td>0x02a32d968460</td>\n",
       "            </tr><tr>\n",
       "                <td><strong>Number of metabolites</strong></td>\n",
       "                <td>1297</td>\n",
       "            </tr><tr>\n",
       "                <td><strong>Number of reactions</strong></td>\n",
       "                <td>1484</td>\n",
       "            </tr><tr>\n",
       "                <td><strong>Number of groups</strong></td>\n",
       "                <td>0</td>\n",
       "            </tr><tr>\n",
       "                <td><strong>Objective expression</strong></td>\n",
       "                <td>1.0*Nm_Ess_biomass - 1.0*Nm_Ess_biomass_reverse_46af5</td>\n",
       "            </tr><tr>\n",
       "                <td><strong>Compartments</strong></td>\n",
       "                <td>periplasm, cytosol, extracellular</td>\n",
       "            </tr>\n",
       "          </table>"
      ],
      "text/plain": [
       "<Model AE004969.1 at 0x2a32d968460>"
      ]
     },
     "execution_count": 21,
     "metadata": {},
     "output_type": "execute_result"
    }
   ],
   "source": [
    "model"
   ]
  },
  {
   "cell_type": "code",
   "execution_count": 22,
   "metadata": {
    "scrolled": true
   },
   "outputs": [
    {
     "data": {
      "text/plain": [
       "514"
      ]
     },
     "execution_count": 22,
     "metadata": {},
     "output_type": "execute_result"
    }
   ],
   "source": [
    "len(model.genes)"
   ]
  },
  {
   "cell_type": "code",
   "execution_count": 23,
   "metadata": {
    "scrolled": true
   },
   "outputs": [],
   "source": [
    "# Set up counts for tracking changes\n",
    "init_rxn = [str(x.id) for x in model.reactions]\n",
    "\n",
    "new_genes = 0\n",
    "new_rxns = 0\n",
    "new_cpds = 0"
   ]
  },
  {
   "cell_type": "code",
   "execution_count": 24,
   "metadata": {
    "scrolled": true
   },
   "outputs": [
    {
     "name": "stdout",
     "output_type": "stream",
     "text": [
      "422 422 422\n"
     ]
    },
    {
     "data": {
      "text/html": [
       "<div>\n",
       "<style scoped>\n",
       "    .dataframe tbody tr th:only-of-type {\n",
       "        vertical-align: middle;\n",
       "    }\n",
       "\n",
       "    .dataframe tbody tr th {\n",
       "        vertical-align: top;\n",
       "    }\n",
       "\n",
       "    .dataframe thead th {\n",
       "        text-align: right;\n",
       "    }\n",
       "</style>\n",
       "<table border=\"1\" class=\"dataframe\">\n",
       "  <thead>\n",
       "    <tr style=\"text-align: right;\">\n",
       "      <th></th>\n",
       "      <th>Reactions</th>\n",
       "      <th>Charge</th>\n",
       "      <th>Masses</th>\n",
       "    </tr>\n",
       "  </thead>\n",
       "  <tbody>\n",
       "    <tr>\n",
       "      <th>0</th>\n",
       "      <td>3HAD161x</td>\n",
       "      <td></td>\n",
       "      <td>{'H': 49.0, 'O': 9.0, 'C': 27.0, 'N': 2.0, 'P'...</td>\n",
       "    </tr>\n",
       "    <tr>\n",
       "      <th>1</th>\n",
       "      <td>3OAR161x</td>\n",
       "      <td></td>\n",
       "      <td>{'C': -27.0, 'H': -49.0, 'N': -2.0, 'O': -9.0,...</td>\n",
       "    </tr>\n",
       "    <tr>\n",
       "      <th>2</th>\n",
       "      <td>3OAS161a</td>\n",
       "      <td></td>\n",
       "      <td>{'C': -12.0, 'H': -21.0, 'N': -2.0, 'O': -9.0,...</td>\n",
       "    </tr>\n",
       "    <tr>\n",
       "      <th>3</th>\n",
       "      <td>ACCOAC</td>\n",
       "      <td></td>\n",
       "      <td>{'C': -9.999999999621423e-06, 'H': -1.49999999...</td>\n",
       "    </tr>\n",
       "    <tr>\n",
       "      <th>4</th>\n",
       "      <td>ACHBS</td>\n",
       "      <td></td>\n",
       "      <td>{'C': -1.2e-06, 'H': -1.6e-06, 'O': -7e-07, 'N...</td>\n",
       "    </tr>\n",
       "    <tr>\n",
       "      <th>...</th>\n",
       "      <td>...</td>\n",
       "      <td>...</td>\n",
       "      <td>...</td>\n",
       "    </tr>\n",
       "    <tr>\n",
       "      <th>417</th>\n",
       "      <td>THRD_L</td>\n",
       "      <td></td>\n",
       "      <td>{'C': -8.000000000230045e-07, 'H': -8.00000000...</td>\n",
       "    </tr>\n",
       "    <tr>\n",
       "      <th>418</th>\n",
       "      <td>THRS</td>\n",
       "      <td></td>\n",
       "      <td>{'H': -8.000000004670937e-07, 'O': -5.99999999...</td>\n",
       "    </tr>\n",
       "    <tr>\n",
       "      <th>419</th>\n",
       "      <td>TRDR1</td>\n",
       "      <td></td>\n",
       "      <td>{'X': 1.0}</td>\n",
       "    </tr>\n",
       "    <tr>\n",
       "      <th>420</th>\n",
       "      <td>TSULST</td>\n",
       "      <td></td>\n",
       "      <td>{'H': -2.0}</td>\n",
       "    </tr>\n",
       "    <tr>\n",
       "      <th>421</th>\n",
       "      <td>UAPGR</td>\n",
       "      <td></td>\n",
       "      <td>{'C': -2.69999999957804e-06, 'H': -3.100000000...</td>\n",
       "    </tr>\n",
       "  </tbody>\n",
       "</table>\n",
       "<p>422 rows × 3 columns</p>\n",
       "</div>"
      ],
      "text/plain": [
       "    Reactions Charge                                             Masses\n",
       "0    3HAD161x         {'H': 49.0, 'O': 9.0, 'C': 27.0, 'N': 2.0, 'P'...\n",
       "1    3OAR161x         {'C': -27.0, 'H': -49.0, 'N': -2.0, 'O': -9.0,...\n",
       "2    3OAS161a         {'C': -12.0, 'H': -21.0, 'N': -2.0, 'O': -9.0,...\n",
       "3      ACCOAC         {'C': -9.999999999621423e-06, 'H': -1.49999999...\n",
       "4       ACHBS         {'C': -1.2e-06, 'H': -1.6e-06, 'O': -7e-07, 'N...\n",
       "..        ...    ...                                                ...\n",
       "417    THRD_L         {'C': -8.000000000230045e-07, 'H': -8.00000000...\n",
       "418      THRS         {'H': -8.000000004670937e-07, 'O': -5.99999999...\n",
       "419     TRDR1                                                {'X': 1.0}\n",
       "420    TSULST                                               {'H': -2.0}\n",
       "421     UAPGR         {'C': -2.69999999957804e-06, 'H': -3.100000000...\n",
       "\n",
       "[422 rows x 3 columns]"
      ]
     },
     "execution_count": 24,
     "metadata": {},
     "output_type": "execute_result"
    }
   ],
   "source": [
    "#Count number of imbalances\n",
    "reactions = []\n",
    "charge = []\n",
    "mass = []\n",
    "for react in model.reactions:\n",
    "    result = react.check_mass_balance()\n",
    "    if len(result) == 0:\n",
    "        continue\n",
    "    else: \n",
    "        reactions.append(react.id)\n",
    "        masses = {}\n",
    "        for key in result.keys():\n",
    "            if key == 'charge':\n",
    "                charge.append(result['charge'])\n",
    "            else:\n",
    "                masses[key] = result[key]\n",
    "        if 'charge' not in result.keys():\n",
    "            charge.append('')\n",
    "        mass.append(masses)\n",
    "print(len(reactions), len(charge), len(mass))\n",
    "\n",
    "mass_charge_dict = {'Reactions': reactions, 'Charge': charge, 'Masses': mass}\n",
    "mass_charge = pandas.DataFrame(mass_charge_dict)\n",
    "mass_charge.to_csv('totalimbalances.csv')\n",
    "mass_charge"
   ]
  },
  {
   "cell_type": "code",
   "execution_count": 25,
   "metadata": {
    "scrolled": true
   },
   "outputs": [
    {
     "name": "stdout",
     "output_type": "stream",
     "text": [
      "essbiomass\n",
      "Hg2_p\n",
      "Hg2_c\n",
      "dhap_e\n",
      "dhap_p\n",
      "protein\n",
      "dsbgox_p\n",
      "dsbdrd_c\n",
      "3hcpalm5eACP_c\n",
      "pepglycan_NM_p\n",
      "dsbdox_c\n",
      "capminusbiomass\n",
      "lipid_NM_p\n",
      "esslipid_NM_p\n",
      "rna_c\n",
      "trnaglu_c\n",
      "dsbcrd_p\n",
      "dsbcox_p\n",
      "biomass\n",
      "dna_c\n"
     ]
    }
   ],
   "source": [
    "#Several imbalances are due to missing formulas. \n",
    "#Find missing formulas\n",
    "no_formula = (\"\")\n",
    "for metabolites in model.metabolites:\n",
    "        if metabolites.formula == no_formula:\n",
    "            print (metabolites.id)"
   ]
  },
  {
   "cell_type": "code",
   "execution_count": 26,
   "metadata": {
    "scrolled": true
   },
   "outputs": [],
   "source": [
    "#Correct missing formulas\n",
    "model.metabolites.get_by_id(\"Hg2_p\").formula =\"Hg\"\n",
    "model.metabolites.get_by_id(\"Hg2_c\").formula =\"Hg\"\n",
    "model.metabolites.get_by_id(\"dhap_p\").formula =\"C3H5O6P\"\n",
    "model.metabolites.get_by_id(\"dhap_e\").formula =\"C3H5O6P\"\n",
    "model.metabolites.get_by_id(\"dsbgox_p\").formula =\"X\"\n",
    "model.metabolites.get_by_id(\"dsbdrd_c\").formula =\"XH2\"\n",
    "model.metabolites.get_by_id(\"3hcpalm5eACP_c\").formula =\"C27H49N2O9PRS\"\n",
    "model.metabolites.get_by_id(\"dsbdox_c\").formula =\"X\"\n",
    "model.metabolites.get_by_id(\"trnaglu_c\").formula =\"R\"\n",
    "model.metabolites.get_by_id(\"dsbcrd_p\").formula =\"XH2\"\n",
    "model.metabolites.get_by_id(\"dsbcox_p\").formula =\"X\"\n",
    "#model.metabolites.get_by_id(\"M_co2_c-c\").formula =\"CO2\"\n",
    "#model.metabolites.get_by_id(\"M_mal_L_c_c\").formula =\"C4H4O5\"\n",
    "#model.metabolites.get_by_id(\"M_nad_c_c\").formula =\"C21H26N7O14P2\"\n",
    "#model.metabolites.get_by_id(\"M_nadh_c_c\").formula =\"C21H27N7O14P2\"\n",
    "#model.metabolites.get_by_id(\"M_pyr_c_c\").formula =\"C3H3O3\"\n",
    "#model.metabolites.get_by_id(\"M_nadp_c_c\").formula =\"C21H25N7O17P3\"\n",
    "#model.metabolites.get_by_id(\"M_nadph_c_c\").formula =\"C21H26N7O17P3\"\n",
    "\n"
   ]
  },
  {
   "cell_type": "code",
   "execution_count": 27,
   "metadata": {
    "scrolled": true
   },
   "outputs": [
    {
     "name": "stdout",
     "output_type": "stream",
     "text": [
      "essbiomass\n",
      "protein\n",
      "pepglycan_NM_p\n",
      "capminusbiomass\n",
      "lipid_NM_p\n",
      "esslipid_NM_p\n",
      "rna_c\n",
      "biomass\n",
      "dna_c\n"
     ]
    }
   ],
   "source": [
    "#Remaining metabolites with no formula are okay\n",
    "no_formula = (\"\")\n",
    "for metabolites in model.metabolites:\n",
    "        if metabolites.formula == no_formula:\n",
    "            print (metabolites.id)"
   ]
  },
  {
   "cell_type": "code",
   "execution_count": 28,
   "metadata": {
    "scrolled": true
   },
   "outputs": [],
   "source": [
    "#Define biomass reactions to exclude from imbalance check\n",
    "biomass_reactions = set(['PLIPIDS', 'PLIPIDS_ESS', 'PROTS', 'PEPGLY','RNAS', 'DNAS' ])\n"
   ]
  },
  {
   "cell_type": "code",
   "execution_count": 29,
   "metadata": {
    "scrolled": true
   },
   "outputs": [
    {
     "name": "stdout",
     "output_type": "stream",
     "text": [
      "140 140 140\n"
     ]
    },
    {
     "data": {
      "text/html": [
       "<div>\n",
       "<style scoped>\n",
       "    .dataframe tbody tr th:only-of-type {\n",
       "        vertical-align: middle;\n",
       "    }\n",
       "\n",
       "    .dataframe tbody tr th {\n",
       "        vertical-align: top;\n",
       "    }\n",
       "\n",
       "    .dataframe thead th {\n",
       "        text-align: right;\n",
       "    }\n",
       "</style>\n",
       "<table border=\"1\" class=\"dataframe\">\n",
       "  <thead>\n",
       "    <tr style=\"text-align: right;\">\n",
       "      <th></th>\n",
       "      <th>Reactions</th>\n",
       "      <th>Charge</th>\n",
       "      <th>Masses</th>\n",
       "    </tr>\n",
       "  </thead>\n",
       "  <tbody>\n",
       "    <tr>\n",
       "      <th>0</th>\n",
       "      <td>3OAS161a</td>\n",
       "      <td></td>\n",
       "      <td>{'C': -12.0, 'H': -21.0, 'N': -2.0, 'O': -9.0,...</td>\n",
       "    </tr>\n",
       "    <tr>\n",
       "      <th>1</th>\n",
       "      <td>ACCOAC</td>\n",
       "      <td></td>\n",
       "      <td>{'C': -9.999999999621423e-06, 'H': -1.49999999...</td>\n",
       "    </tr>\n",
       "    <tr>\n",
       "      <th>2</th>\n",
       "      <td>ACHBS</td>\n",
       "      <td></td>\n",
       "      <td>{'C': -1.2e-06, 'H': -1.6e-06, 'O': -7e-07, 'N...</td>\n",
       "    </tr>\n",
       "    <tr>\n",
       "      <th>3</th>\n",
       "      <td>ACLS</td>\n",
       "      <td></td>\n",
       "      <td>{'C': -1.2e-06, 'H': -1.6e-06, 'O': -7e-07, 'N...</td>\n",
       "    </tr>\n",
       "    <tr>\n",
       "      <th>4</th>\n",
       "      <td>ACPH</td>\n",
       "      <td></td>\n",
       "      <td>{'H': -2.0, 'O': -1.0, 'R': -1.0}</td>\n",
       "    </tr>\n",
       "    <tr>\n",
       "      <th>...</th>\n",
       "      <td>...</td>\n",
       "      <td>...</td>\n",
       "      <td>...</td>\n",
       "    </tr>\n",
       "    <tr>\n",
       "      <th>135</th>\n",
       "      <td>THRD_L</td>\n",
       "      <td></td>\n",
       "      <td>{'C': -8.000000000230045e-07, 'H': -8.00000000...</td>\n",
       "    </tr>\n",
       "    <tr>\n",
       "      <th>136</th>\n",
       "      <td>THRS</td>\n",
       "      <td></td>\n",
       "      <td>{'H': -8.000000004670937e-07, 'O': -5.99999999...</td>\n",
       "    </tr>\n",
       "    <tr>\n",
       "      <th>137</th>\n",
       "      <td>TRDR1</td>\n",
       "      <td></td>\n",
       "      <td>{'X': 1.0}</td>\n",
       "    </tr>\n",
       "    <tr>\n",
       "      <th>138</th>\n",
       "      <td>TSULST</td>\n",
       "      <td></td>\n",
       "      <td>{'H': -2.0}</td>\n",
       "    </tr>\n",
       "    <tr>\n",
       "      <th>139</th>\n",
       "      <td>UAPGR</td>\n",
       "      <td></td>\n",
       "      <td>{'C': -2.69999999957804e-06, 'H': -3.100000000...</td>\n",
       "    </tr>\n",
       "  </tbody>\n",
       "</table>\n",
       "<p>140 rows × 3 columns</p>\n",
       "</div>"
      ],
      "text/plain": [
       "    Reactions Charge                                             Masses\n",
       "0    3OAS161a         {'C': -12.0, 'H': -21.0, 'N': -2.0, 'O': -9.0,...\n",
       "1      ACCOAC         {'C': -9.999999999621423e-06, 'H': -1.49999999...\n",
       "2       ACHBS         {'C': -1.2e-06, 'H': -1.6e-06, 'O': -7e-07, 'N...\n",
       "3        ACLS         {'C': -1.2e-06, 'H': -1.6e-06, 'O': -7e-07, 'N...\n",
       "4        ACPH                         {'H': -2.0, 'O': -1.0, 'R': -1.0}\n",
       "..        ...    ...                                                ...\n",
       "135    THRD_L         {'C': -8.000000000230045e-07, 'H': -8.00000000...\n",
       "136      THRS         {'H': -8.000000004670937e-07, 'O': -5.99999999...\n",
       "137     TRDR1                                                {'X': 1.0}\n",
       "138    TSULST                                               {'H': -2.0}\n",
       "139     UAPGR         {'C': -2.69999999957804e-06, 'H': -3.100000000...\n",
       "\n",
       "[140 rows x 3 columns]"
      ]
     },
     "execution_count": 29,
     "metadata": {},
     "output_type": "execute_result"
    }
   ],
   "source": [
    "#Define remaining imbalances\n",
    "#Many of these are due to the presence of cofactors in the reaction equation. In favor of correct stoichiometries, these cofactors are removed. \n",
    "reactions = []\n",
    "charge = []\n",
    "mass = []\n",
    "for react in model.reactions:\n",
    "    result = react.check_mass_balance()\n",
    "    if 'EX_' in  react.id:\n",
    "        continue\n",
    "    if 'Nm_' in  react.id:\n",
    "        continue\n",
    "    if 'DM_' in  react.id:\n",
    "        continue \n",
    "    if react.id in biomass_reactions:\n",
    "        continue\n",
    "    if len(result) == 0:\n",
    "        continue\n",
    "    else: \n",
    "        reactions.append(react.id)\n",
    "        masses = {}\n",
    "        for key in result.keys():\n",
    "            if key == 'charge':\n",
    "                charge.append(result['charge'])\n",
    "            else:\n",
    "                masses[key] = result[key]\n",
    "        if 'charge' not in result.keys():\n",
    "            charge.append('')\n",
    "        mass.append(masses)\n",
    "print(len(reactions), len(charge), len(mass))\n",
    "\n",
    "mass_charge_dict = {'Reactions': reactions, 'Charge': charge, 'Masses': mass}\n",
    "mass_charge = pandas.DataFrame(mass_charge_dict)\n",
    "mass_charge.to_csv('imbalancesinitial.csv')\n",
    "mass_charge"
   ]
  },
  {
   "cell_type": "code",
   "execution_count": 30,
   "metadata": {
    "scrolled": true
   },
   "outputs": [
    {
     "name": "stdout",
     "output_type": "stream",
     "text": [
      "btn_c\n",
      "thmpp_c\n",
      "fad_c\n",
      "pydx5p_c\n",
      "nad_c\n",
      "zn2_c\n",
      "ca2_c\n"
     ]
    }
   ],
   "source": [
    "#Define cofactors\n",
    "cofactors = set(['btn_c', 'thmpp_c', 'fad_c', 'pydx5p_c', 'nad_c', 'zn2_c', 'ca2_c'])\n",
    "\n",
    "for metabolites in model.metabolites:\n",
    "    if metabolites.id in cofactors:\n",
    "        print (metabolites.id)\n",
    "\n"
   ]
  },
  {
   "cell_type": "code",
   "execution_count": 31,
   "metadata": {
    "tags": []
   },
   "outputs": [
    {
     "name": "stdout",
     "output_type": "stream",
     "text": [
      "   ACCOAC :  btn_c : -1e-06\n",
      "     BTS4 :  btn_c : 1.0\n"
     ]
    }
   ],
   "source": [
    "#Remove biotin as a cofactor\n",
    "cofactor_rxns =[]\n",
    "for react in model.reactions:\n",
    "    result = react.check_mass_balance()\n",
    "    if 'EX_' in  react.id:\n",
    "        continue\n",
    "    if 'Nm_' in react.id:\n",
    "        continue\n",
    "    if \"DM_\" in react.id:\n",
    "        continue\n",
    "    if react.id in biomass_reactions:\n",
    "        continue\n",
    "    if len(result) == 0:\n",
    "        continue\n",
    "    else: \n",
    "        if \"btn_c\" in react.reaction:\n",
    "            cofactor_rxns.append(react.id)\n",
    "            print('%9s :  btn_c : %s' % (react.id, react._metabolites[model.metabolites.get_by_id('btn_c')]))\n",
    "            original_coefficient = react._metabolites[model.metabolites.get_by_id('btn_c')]\n",
    "            if abs(original_coefficient) >100:\n",
    "                react.subtract_metabolites({model.metabolites.btn_c: original_coefficient})\n",
    "            if abs(original_coefficient) <0.001:\n",
    "                react.subtract_metabolites({model.metabolites.btn_c: original_coefficient})\n",
    "            \n",
    "            \n",
    "if len(cofactor_rxns) == 0:\n",
    "        print ('No reactions')"
   ]
  },
  {
   "cell_type": "code",
   "execution_count": 32,
   "metadata": {
    "scrolled": true
   },
   "outputs": [
    {
     "data": {
      "text/html": [
       "\n",
       "        <table>\n",
       "            <tr>\n",
       "                <td><strong>Reaction identifier</strong></td><td>ACCOAC</td>\n",
       "            </tr><tr>\n",
       "                <td><strong>Name</strong></td><td>R_ACCOAC</td>\n",
       "            </tr><tr>\n",
       "                <td><strong>Memory address</strong></td>\n",
       "                <td>0x02a33651f550</td>\n",
       "            </tr><tr>\n",
       "                <td><strong>Stoichiometry</strong></td>\n",
       "                <td>\n",
       "                    <p style='text-align:right'>accoa_c + atp_c + hco3_c --> adp_c + h_c + malcoa_c + pi_c</p>\n",
       "                    <p style='text-align:right'>M_accoa_c + M_atp_c + M_hco3_c --> M_adp_c + M_h_c + M_malcoa_c + M_pi_c</p>\n",
       "                </td>\n",
       "            </tr><tr>\n",
       "                <td><strong>GPR</strong></td><td>(NGO0821 or NGO0821) and NGO0044 and NGO0249 and NGO0045 and NGO2001</td>\n",
       "            </tr><tr>\n",
       "                <td><strong>Lower bound</strong></td><td>0.0</td>\n",
       "            </tr><tr>\n",
       "                <td><strong>Upper bound</strong></td><td>999999.0</td>\n",
       "            </tr>\n",
       "        </table>\n",
       "        "
      ],
      "text/plain": [
       "<Reaction ACCOAC at 0x2a33651f550>"
      ]
     },
     "execution_count": 32,
     "metadata": {},
     "output_type": "execute_result"
    }
   ],
   "source": [
    "#Biotin has been removed as a cofactor all reactions\n",
    "#example\n",
    "model.reactions.ACCOAC"
   ]
  },
  {
   "cell_type": "code",
   "execution_count": 33,
   "metadata": {
    "scrolled": true
   },
   "outputs": [
    {
     "data": {
      "text/html": [
       "\n",
       "        <table>\n",
       "            <tr>\n",
       "                <td><strong>Reaction identifier</strong></td><td>BTS4</td>\n",
       "            </tr><tr>\n",
       "                <td><strong>Name</strong></td><td>R_BTS4</td>\n",
       "            </tr><tr>\n",
       "                <td><strong>Memory address</strong></td>\n",
       "                <td>0x02a3365abf70</td>\n",
       "            </tr><tr>\n",
       "                <td><strong>Stoichiometry</strong></td>\n",
       "                <td>\n",
       "                    <p style='text-align:right'>amet_c + dtbt_c + h_c --> btn_c + dad_5_c + h2o_c + met_L_c + o2_c</p>\n",
       "                    <p style='text-align:right'>M_amet_c + M_dtbt_c + M_h_c --> M_btn_c + M_dad_5_c + M_h2o_c + M_met_L_c + M_o2_c</p>\n",
       "                </td>\n",
       "            </tr><tr>\n",
       "                <td><strong>GPR</strong></td><td>NGO0813 or NGO0813</td>\n",
       "            </tr><tr>\n",
       "                <td><strong>Lower bound</strong></td><td>0.0</td>\n",
       "            </tr><tr>\n",
       "                <td><strong>Upper bound</strong></td><td>999999.0</td>\n",
       "            </tr>\n",
       "        </table>\n",
       "        "
      ],
      "text/plain": [
       "<Reaction BTS4 at 0x2a3365abf70>"
      ]
     },
     "execution_count": 33,
     "metadata": {},
     "output_type": "execute_result"
    }
   ],
   "source": [
    "#But Biotin has not been removed if it is an actual reactant\n",
    "#example\n",
    "model.reactions.BTS4"
   ]
  },
  {
   "cell_type": "code",
   "execution_count": 34,
   "metadata": {},
   "outputs": [
    {
     "data": {
      "text/plain": [
       "0.267868652680108"
      ]
     },
     "execution_count": 34,
     "metadata": {},
     "output_type": "execute_result"
    }
   ],
   "source": [
    "model.slim_optimize()"
   ]
  },
  {
   "cell_type": "code",
   "execution_count": 35,
   "metadata": {
    "scrolled": true
   },
   "outputs": [
    {
     "name": "stdout",
     "output_type": "stream",
     "text": [
      "    ACHBS :  thmpp_c : -1e-07\n",
      "     ACLS :  thmpp_c : -1e-07\n",
      "       CS :  thmpp_c : -1e-06\n",
      "     DXPS :  thmpp_c : -1e-07\n",
      "      PDH :  thmpp_c : -1e-06\n"
     ]
    }
   ],
   "source": [
    "#Remove thmpp_c\n",
    "cofactor_rxns =[]\n",
    "for react in model.reactions:\n",
    "    result = react.check_mass_balance()\n",
    "    if 'EX_' in  react.id:\n",
    "        continue\n",
    "    if 'Nm_' in react.id:\n",
    "        continue\n",
    "    if \"DM_\" in react.id:\n",
    "        continue\n",
    "    if react.id in biomass_reactions:\n",
    "        continue\n",
    "    if len(result) == 0:\n",
    "        continue\n",
    "    else: \n",
    "        if \"thmpp_c\" in react.reaction:\n",
    "            cofactor_rxns.append(react.id)\n",
    "            print('%9s :  thmpp_c : %s' % (react.id, react._metabolites[model.metabolites.get_by_id('thmpp_c')]))\n",
    "            original_coefficient = react._metabolites[model.metabolites.get_by_id('thmpp_c')]\n",
    "            if abs(original_coefficient) >100:\n",
    "                react.subtract_metabolites({model.metabolites.thmpp_c: original_coefficient})\n",
    "            if abs(original_coefficient) <0.001:\n",
    "                react.subtract_metabolites({model.metabolites.thmpp_c: original_coefficient})\n",
    "            \n",
    "            \n",
    "if len(cofactor_rxns) == 0:\n",
    "        print ('No reactions')"
   ]
  },
  {
   "cell_type": "code",
   "execution_count": 36,
   "metadata": {
    "scrolled": true
   },
   "outputs": [
    {
     "data": {
      "text/html": [
       "\n",
       "        <table>\n",
       "            <tr>\n",
       "                <td><strong>Reaction identifier</strong></td><td>ACHBS</td>\n",
       "            </tr><tr>\n",
       "                <td><strong>Name</strong></td><td>R_ACHBS</td>\n",
       "            </tr><tr>\n",
       "                <td><strong>Memory address</strong></td>\n",
       "                <td>0x02a336525670</td>\n",
       "            </tr><tr>\n",
       "                <td><strong>Stoichiometry</strong></td>\n",
       "                <td>\n",
       "                    <p style='text-align:right'>2obut_c + h_c + pyr_c --> 2ahbut_c + co2_c</p>\n",
       "                    <p style='text-align:right'>M_2obut_c + M_h_c + M_pyr_c --> M_2ahbut_c + M_co2_c</p>\n",
       "                </td>\n",
       "            </tr><tr>\n",
       "                <td><strong>GPR</strong></td><td>NGO1236 and (Blank or NGO1235)</td>\n",
       "            </tr><tr>\n",
       "                <td><strong>Lower bound</strong></td><td>0.0</td>\n",
       "            </tr><tr>\n",
       "                <td><strong>Upper bound</strong></td><td>999999.0</td>\n",
       "            </tr>\n",
       "        </table>\n",
       "        "
      ],
      "text/plain": [
       "<Reaction ACHBS at 0x2a336525670>"
      ]
     },
     "execution_count": 36,
     "metadata": {},
     "output_type": "execute_result"
    }
   ],
   "source": [
    "#example\n",
    "model.reactions.ACHBS"
   ]
  },
  {
   "cell_type": "code",
   "execution_count": 37,
   "metadata": {},
   "outputs": [
    {
     "data": {
      "text/plain": [
       "0.2678699313365744"
      ]
     },
     "execution_count": 37,
     "metadata": {},
     "output_type": "execute_result"
    }
   ],
   "source": [
    "#Fix naming for thiamine\n",
    "#model.metabolites.get_by_id(\"the_c\").id= \"thm_e\"\n",
    "#model.metabolites.get_by_id(\"thp_c\").id = \"thm_p\"\n",
    "#model.metabolites.get_by_id(\"thc_c\").id = \"thm_c\"\n",
    "\n",
    "model.slim_optimize()"
   ]
  },
  {
   "cell_type": "code",
   "execution_count": 38,
   "metadata": {
    "scrolled": true
   },
   "outputs": [
    {
     "name": "stdout",
     "output_type": "stream",
     "text": [
      "    ASPO3 :  fad_c : -1e-07\n",
      "    ASPO5 :  fad_c : -1e-07\n",
      "    ASPO6 :  fad_c : -1e-07\n",
      "    CHORS :  fad_c : -1e-07\n",
      "   DHORD2 :  fad_c : -1e-07\n",
      "     FUMR :  fad_c : -1e-08\n",
      "   MTHFR2 :  fad_c : -1e-07\n",
      " NADH16pp :  fad_c : -1e-07\n",
      "    NADH5 :  fad_c : -1e-07\n",
      "  NADHQNa :  fad_c : -1e-07\n",
      " NADPHQR2 :  fad_c : -1e-07\n",
      "    PPPGO :  fad_c : -1e-07\n",
      "    SUCD1 :  fad_c : -1e-08\n",
      "    UAPGR :  fad_c : -1e-07\n"
     ]
    }
   ],
   "source": [
    "#Remove fad_c\n",
    "cofactor_rxns =[]\n",
    "for react in model.reactions:\n",
    "    result = react.check_mass_balance()\n",
    "    if 'EX_' in  react.id:\n",
    "        continue\n",
    "    if 'Nm_' in react.id:\n",
    "        continue\n",
    "    if \"DM_\" in react.id:\n",
    "        continue\n",
    "    if react.id in biomass_reactions:\n",
    "        continue\n",
    "    if len(result) == 0:\n",
    "        continue\n",
    "    else: \n",
    "        if \"fad_c\" in react.reaction:\n",
    "            cofactor_rxns.append(react.id)\n",
    "            print('%9s :  fad_c : %s' % (react.id, react._metabolites[model.metabolites.get_by_id('fad_c')]))\n",
    "            original_coefficient = react._metabolites[model.metabolites.get_by_id('fad_c')]\n",
    "            if abs(original_coefficient) >100:\n",
    "                react.subtract_metabolites({model.metabolites.fad_c: original_coefficient})\n",
    "            if abs(original_coefficient) <0.001:\n",
    "                react.subtract_metabolites({model.metabolites.fad_c: original_coefficient})\n",
    "            \n",
    "            \n",
    "if len(cofactor_rxns) == 0:\n",
    "        print ('No reactions')"
   ]
  },
  {
   "cell_type": "code",
   "execution_count": 39,
   "metadata": {},
   "outputs": [
    {
     "data": {
      "text/plain": [
       "0.26787000114254017"
      ]
     },
     "execution_count": 39,
     "metadata": {},
     "output_type": "execute_result"
    }
   ],
   "source": [
    "model.slim_optimize()"
   ]
  },
  {
   "cell_type": "code",
   "execution_count": 40,
   "metadata": {
    "tags": []
   },
   "outputs": [
    {
     "name": "stdout",
     "output_type": "stream",
     "text": [
      "     ADCL :  pydx5p_c : -1e-07\n",
      "     ADCS :  pydx5p_c : -1e-07\n",
      "   AMAOTr :  pydx5p_c : -1e-07\n",
      "    ARGDC :  pydx5p_c : -1e-07\n",
      "     CYSS :  pydx5p_c : -1e-07\n",
      "    DAPDC :  pydx5p_c : -1e-07\n",
      "     PGCD :  pydx5p_c : -1e-07\n",
      "   PSD120 :  pydx5p_c : -1e-07\n",
      "   PSD140 :  pydx5p_c : -1e-07\n",
      "   PSD141 :  pydx5p_c : -1e-07\n",
      "  PSD141b :  pydx5p_c : -1e-07\n",
      "   PSD160 :  pydx5p_c : -1e-07\n",
      "  PSD160a :  pydx5p_c : -1e-07\n",
      "  PSD160b :  pydx5p_c : -1e-07\n",
      "  PSD160c :  pydx5p_c : -1e-07\n",
      "  PSD160e :  pydx5p_c : -1e-07\n",
      "  PSD161a :  pydx5p_c : -1e-07\n",
      "   PSD180 :  pydx5p_c : -1e-07\n",
      "   PSD181 :  pydx5p_c : -1e-07\n",
      "    PSERT :  pydx5p_c : -1e-07\n",
      "   SERD_L :  pydx5p_c : -1e-07\n",
      "    SHSL5 :  pydx5p_c : -1e-07\n",
      "   THRD_L :  pydx5p_c : -1e-07\n",
      "     THRS :  pydx5p_c : -1e-07\n"
     ]
    }
   ],
   "source": [
    "#Remove pydx5p_c\n",
    "cofactor_rxns =[]\n",
    "for react in model.reactions:\n",
    "    result = react.check_mass_balance()\n",
    "    if 'EX_' in  react.id:\n",
    "        continue\n",
    "    if 'Nm_' in react.id:\n",
    "        continue\n",
    "    if \"DM_\" in react.id:\n",
    "        continue\n",
    "    if react.id in biomass_reactions:\n",
    "        continue\n",
    "    if len(result) == 0:\n",
    "        continue\n",
    "    else: \n",
    "        if \"pydx5p_c\" in react.reaction:\n",
    "            cofactor_rxns.append(react.id)\n",
    "            print('%9s :  pydx5p_c : %s' % (react.id, react._metabolites[model.metabolites.get_by_id('pydx5p_c')]))\n",
    "            original_coefficient = react._metabolites[model.metabolites.get_by_id('pydx5p_c')]\n",
    "            if abs(original_coefficient) >100:\n",
    "                react.subtract_metabolites({model.metabolites.pydx5p_c: original_coefficient})\n",
    "            if abs(original_coefficient) <0.001:\n",
    "                react.subtract_metabolites({model.metabolites.pydx5p_c: original_coefficient})\n",
    "            \n",
    "            \n",
    "if len(cofactor_rxns) == 0:\n",
    "        print ('No reactions')"
   ]
  },
  {
   "cell_type": "code",
   "execution_count": 41,
   "metadata": {},
   "outputs": [
    {
     "data": {
      "text/plain": [
       "0.2678700063567923"
      ]
     },
     "execution_count": 41,
     "metadata": {},
     "output_type": "execute_result"
    }
   ],
   "source": [
    "model.slim_optimize()"
   ]
  },
  {
   "cell_type": "code",
   "execution_count": 42,
   "metadata": {
    "scrolled": true
   },
   "outputs": [
    {
     "name": "stdout",
     "output_type": "stream",
     "text": [
      "    AGMHE :  nad_c : -1e-07\n",
      "   AMPMS2 :  nad_c : -1.0\n",
      "     DHQS :  nad_c : -1e-07\n",
      " GLYCLTDx :  nad_c : 1.0\n",
      "     IPPS :  nad_c : -1e-07\n",
      "  NADHQNa :  nad_c : 1.0\n"
     ]
    }
   ],
   "source": [
    "#Remove nad_c\n",
    "cofactor_rxns =[]\n",
    "for react in model.reactions:\n",
    "    result = react.check_mass_balance()\n",
    "    if 'EX_' in  react.id:\n",
    "        continue\n",
    "    if 'Nm_' in react.id:\n",
    "        continue\n",
    "    if \"DM_\" in react.id:\n",
    "        continue\n",
    "    if react.id in biomass_reactions:\n",
    "        continue\n",
    "    if len(result) == 0:\n",
    "        continue\n",
    "    else: \n",
    "        if \"nad_c\" in react.reaction:\n",
    "            cofactor_rxns.append(react.id)\n",
    "            print('%9s :  nad_c : %s' % (react.id, react._metabolites[model.metabolites.get_by_id('nad_c')]))\n",
    "            original_coefficient = react._metabolites[model.metabolites.get_by_id('nad_c')]\n",
    "            if abs(original_coefficient) >100:\n",
    "                react.subtract_metabolites({model.metabolites.nad_c: original_coefficient})\n",
    "            if abs(original_coefficient) <0.001:\n",
    "                react.subtract_metabolites({model.metabolites.nad_c: original_coefficient})\n",
    "            \n",
    "            \n",
    "if len(cofactor_rxns) == 0:\n",
    "        print ('No reactions')"
   ]
  },
  {
   "cell_type": "code",
   "execution_count": 43,
   "metadata": {
    "scrolled": true
   },
   "outputs": [
    {
     "name": "stdout",
     "output_type": "stream",
     "text": [
      "AMPTASECG :  zn2_c : -1e-07\n",
      "     METS :  zn2_c : -1e-07\n",
      "   PPBNGS :  zn2_c : -1e-07\n"
     ]
    }
   ],
   "source": [
    "#Remove zn2_c\n",
    "cofactor_rxns =[]\n",
    "for react in model.reactions:\n",
    "    result = react.check_mass_balance()\n",
    "    if 'EX_' in  react.id:\n",
    "        continue\n",
    "    if 'Nm_' in react.id:\n",
    "        continue\n",
    "    if \"DM_\" in react.id:\n",
    "        continue\n",
    "    if react.id in biomass_reactions:\n",
    "        continue\n",
    "    if len(result) == 0:\n",
    "        continue\n",
    "    else: \n",
    "        if \"zn2_c\" in react.reaction:\n",
    "            cofactor_rxns.append(react.id)\n",
    "            print('%9s :  zn2_c : %s' % (react.id, react._metabolites[model.metabolites.get_by_id('zn2_c')]))\n",
    "            original_coefficient = react._metabolites[model.metabolites.get_by_id('zn2_c')]\n",
    "            if abs(original_coefficient) >100:\n",
    "                react.subtract_metabolites({model.metabolites.zn2_c: original_coefficient})\n",
    "            if abs(original_coefficient) <0.001:\n",
    "                react.subtract_metabolites({model.metabolites.zn2_c: original_coefficient})\n",
    "            \n",
    "            \n",
    "if len(cofactor_rxns) == 0:\n",
    "        print ('No reactions')"
   ]
  },
  {
   "cell_type": "code",
   "execution_count": 44,
   "metadata": {
    "scrolled": true
   },
   "outputs": [
    {
     "name": "stdout",
     "output_type": "stream",
     "text": [
      "PLIPA1A120pp :  ca2_c : -1e-07\n",
      "PLIPA1A140pp :  ca2_c : -1e-07\n",
      "PLIPA1A141b :  ca2_c : -1e-07\n",
      "PLIPA1A141pp :  ca2_c : -1e-07\n",
      "PLIPA1A160a :  ca2_c : -1e-07\n",
      "PLIPA1A160b :  ca2_c : -1e-07\n",
      "PLIPA1A160c :  ca2_c : -1e-07\n",
      "PLIPA1A160e :  ca2_c : -1e-07\n",
      "PLIPA1A160pp :  ca2_c : -1e-07\n",
      "PLIPA1A161a :  ca2_c : -1e-07\n",
      "PLIPA1A180pp :  ca2_c : -1e-07\n",
      "PLIPA1A181pp :  ca2_c : -1e-07\n",
      "PLIPA1E120pp :  ca2_c : -1e-07\n",
      "PLIPA1E140pp :  ca2_c : -1e-07\n",
      "PLIPA1E141b :  ca2_c : -1e-07\n",
      "PLIPA1E141pp :  ca2_c : -1e-07\n",
      "PLIPA1E160a :  ca2_c : -1e-07\n",
      "PLIPA1E160b :  ca2_c : -1e-07\n",
      "PLIPA1E160c :  ca2_c : -1e-07\n",
      "PLIPA1E160e :  ca2_c : -1e-07\n",
      "PLIPA1E160pp :  ca2_c : -1e-07\n",
      "PLIPA1E161a :  ca2_c : -1e-07\n",
      "PLIPA1E180pp :  ca2_c : -1e-07\n",
      "PLIPA1E181pp :  ca2_c : -1e-07\n",
      "PLIPA1G120pp :  ca2_c : -1e-07\n",
      "PLIPA1G140pp :  ca2_c : -1e-07\n",
      "PLIPA1G141b :  ca2_c : -1e-07\n",
      "PLIPA1G141pp :  ca2_c : -1e-07\n",
      "PLIPA1G160a :  ca2_c : -1e-07\n",
      "PLIPA1G160b :  ca2_c : -1e-07\n",
      "PLIPA1G160c :  ca2_c : -1e-07\n",
      "PLIPA1G160e :  ca2_c : -1e-07\n",
      "PLIPA1G160pp :  ca2_c : -1e-07\n",
      "PLIPA1G161a :  ca2_c : -1e-07\n",
      "PLIPA1G180pp :  ca2_c : -1e-07\n",
      "PLIPA1G181pp :  ca2_c : -1e-07\n"
     ]
    }
   ],
   "source": [
    "#Remove ca2_c\n",
    "cofactor_rxns =[]\n",
    "for react in model.reactions:\n",
    "    result = react.check_mass_balance()\n",
    "    if 'EX_' in  react.id:\n",
    "        continue\n",
    "    if 'Nm_' in react.id:\n",
    "        continue\n",
    "    if \"DM_\" in react.id:\n",
    "        continue\n",
    "    if react.id in biomass_reactions:\n",
    "        continue\n",
    "    if len(result) == 0:\n",
    "        continue\n",
    "    else: \n",
    "        if \"ca2_c\" in react.reaction:\n",
    "            cofactor_rxns.append(react.id)\n",
    "            print('%9s :  ca2_c : %s' % (react.id, react._metabolites[model.metabolites.get_by_id('ca2_c')]))\n",
    "            original_coefficient = react._metabolites[model.metabolites.get_by_id('ca2_c')]\n",
    "            if abs(original_coefficient) >100:\n",
    "                react.subtract_metabolites({model.metabolites.ca2_c: original_coefficient})\n",
    "            if abs(original_coefficient) <0.001:\n",
    "                react.subtract_metabolites({model.metabolites.ca2_c: original_coefficient})\n",
    "            \n",
    "            \n",
    "if len(cofactor_rxns) == 0:\n",
    "        print ('No reactions')"
   ]
  },
  {
   "cell_type": "code",
   "execution_count": 45,
   "metadata": {
    "scrolled": true
   },
   "outputs": [
    {
     "name": "stdout",
     "output_type": "stream",
     "text": [
      "  SPODMMn :  mn2_c : -1e-07\n"
     ]
    }
   ],
   "source": [
    "#Remove mn2_c\n",
    "cofactor_rxns =[]\n",
    "for react in model.reactions:\n",
    "    result = react.check_mass_balance()\n",
    "    if 'EX_' in  react.id:\n",
    "        continue\n",
    "    if 'Nm_' in react.id:\n",
    "        continue\n",
    "    if \"DM_\" in react.id:\n",
    "        continue\n",
    "    if react.id in biomass_reactions:\n",
    "        continue\n",
    "    if len(result) == 0:\n",
    "        continue\n",
    "    else: \n",
    "        if \"mn2_c\" in react.reaction:\n",
    "            cofactor_rxns.append(react.id)\n",
    "            print('%9s :  mn2_c : %s' % (react.id, react._metabolites[model.metabolites.get_by_id('mn2_c')]))\n",
    "            original_coefficient = react._metabolites[model.metabolites.get_by_id('mn2_c')]\n",
    "            if abs(original_coefficient) >100:\n",
    "                react.subtract_metabolites({model.metabolites.mn2_c: original_coefficient})\n",
    "            if abs(original_coefficient) <0.001:\n",
    "                react.subtract_metabolites({model.metabolites.mn2_c: original_coefficient})\n",
    "            \n",
    "            \n",
    "if len(cofactor_rxns) == 0:\n",
    "        print ('No reactions')"
   ]
  },
  {
   "cell_type": "code",
   "execution_count": 46,
   "metadata": {
    "scrolled": true
   },
   "outputs": [
    {
     "name": "stdout",
     "output_type": "stream",
     "text": [
      "PHEMEFErel :  fe2_c : 1.0\n",
      "    PROHX :  fe2_c : -1e-07\n"
     ]
    }
   ],
   "source": [
    "#Remove fe2_c\n",
    "cofactor_rxns =[]\n",
    "for react in model.reactions:\n",
    "    result = react.check_mass_balance()\n",
    "    if 'EX_' in  react.id:\n",
    "        continue\n",
    "    if 'Nm_' in react.id:\n",
    "        continue\n",
    "    if \"DM_\" in react.id:\n",
    "        continue\n",
    "    if react.id in biomass_reactions:\n",
    "        continue\n",
    "    if len(result) == 0:\n",
    "        continue\n",
    "    else: \n",
    "        if \"fe2_c\" in react.reaction:\n",
    "            cofactor_rxns.append(react.id)\n",
    "            print('%9s :  fe2_c : %s' % (react.id, react._metabolites[model.metabolites.get_by_id('fe2_c')]))\n",
    "            original_coefficient = react._metabolites[model.metabolites.get_by_id('fe2_c')]\n",
    "            if abs(original_coefficient) >100:\n",
    "                react.subtract_metabolites({model.metabolites.fe2_c: original_coefficient})\n",
    "            if abs(original_coefficient) <0.001:\n",
    "                react.subtract_metabolites({model.metabolites.fe2_c: original_coefficient})\n",
    "            \n",
    "            \n",
    "if len(cofactor_rxns) == 0:\n",
    "        print ('No reactions')"
   ]
  },
  {
   "cell_type": "code",
   "execution_count": 47,
   "metadata": {
    "scrolled": true
   },
   "outputs": [
    {
     "name": "stdout",
     "output_type": "stream",
     "text": [
      "68 68 68\n"
     ]
    },
    {
     "data": {
      "text/html": [
       "<div>\n",
       "<style scoped>\n",
       "    .dataframe tbody tr th:only-of-type {\n",
       "        vertical-align: middle;\n",
       "    }\n",
       "\n",
       "    .dataframe tbody tr th {\n",
       "        vertical-align: top;\n",
       "    }\n",
       "\n",
       "    .dataframe thead th {\n",
       "        text-align: right;\n",
       "    }\n",
       "</style>\n",
       "<table border=\"1\" class=\"dataframe\">\n",
       "  <thead>\n",
       "    <tr style=\"text-align: right;\">\n",
       "      <th></th>\n",
       "      <th>Reactions</th>\n",
       "      <th>Charge</th>\n",
       "      <th>Masses</th>\n",
       "    </tr>\n",
       "  </thead>\n",
       "  <tbody>\n",
       "    <tr>\n",
       "      <th>0</th>\n",
       "      <td>3OAS161a</td>\n",
       "      <td></td>\n",
       "      <td>{'C': -12.0, 'H': -21.0, 'N': -2.0, 'O': -9.0,...</td>\n",
       "    </tr>\n",
       "    <tr>\n",
       "      <th>1</th>\n",
       "      <td>ACPH</td>\n",
       "      <td></td>\n",
       "      <td>{'H': -2.0, 'O': -1.0, 'R': -1.0}</td>\n",
       "    </tr>\n",
       "    <tr>\n",
       "      <th>2</th>\n",
       "      <td>ACPS1</td>\n",
       "      <td></td>\n",
       "      <td>{'H': 1.0, 'O': 1.0, 'R': 1.0}</td>\n",
       "    </tr>\n",
       "    <tr>\n",
       "      <th>3</th>\n",
       "      <td>AGPAT160e</td>\n",
       "      <td></td>\n",
       "      <td>{'C': 2.0, 'H': 4.0}</td>\n",
       "    </tr>\n",
       "    <tr>\n",
       "      <th>4</th>\n",
       "      <td>AMPMS2</td>\n",
       "      <td></td>\n",
       "      <td>{'H': 1.0, 'O': -3.0, 'P': -1.0}</td>\n",
       "    </tr>\n",
       "    <tr>\n",
       "      <th>...</th>\n",
       "      <td>...</td>\n",
       "      <td>...</td>\n",
       "      <td>...</td>\n",
       "    </tr>\n",
       "    <tr>\n",
       "      <th>63</th>\n",
       "      <td>SHSL5</td>\n",
       "      <td></td>\n",
       "      <td>{'H': -1.0}</td>\n",
       "    </tr>\n",
       "    <tr>\n",
       "      <th>64</th>\n",
       "      <td>SIALT1</td>\n",
       "      <td></td>\n",
       "      <td>{'C': -11.0, 'H': -18.0, 'N': -1.0, 'O': -8.0}</td>\n",
       "    </tr>\n",
       "    <tr>\n",
       "      <th>65</th>\n",
       "      <td>TFFE</td>\n",
       "      <td></td>\n",
       "      <td>{'Fe': 1.0}</td>\n",
       "    </tr>\n",
       "    <tr>\n",
       "      <th>66</th>\n",
       "      <td>TRDR1</td>\n",
       "      <td></td>\n",
       "      <td>{'X': 1.0}</td>\n",
       "    </tr>\n",
       "    <tr>\n",
       "      <th>67</th>\n",
       "      <td>TSULST</td>\n",
       "      <td></td>\n",
       "      <td>{'H': -2.0}</td>\n",
       "    </tr>\n",
       "  </tbody>\n",
       "</table>\n",
       "<p>68 rows × 3 columns</p>\n",
       "</div>"
      ],
      "text/plain": [
       "    Reactions Charge                                             Masses\n",
       "0    3OAS161a         {'C': -12.0, 'H': -21.0, 'N': -2.0, 'O': -9.0,...\n",
       "1        ACPH                         {'H': -2.0, 'O': -1.0, 'R': -1.0}\n",
       "2       ACPS1                            {'H': 1.0, 'O': 1.0, 'R': 1.0}\n",
       "3   AGPAT160e                                      {'C': 2.0, 'H': 4.0}\n",
       "4      AMPMS2                          {'H': 1.0, 'O': -3.0, 'P': -1.0}\n",
       "..        ...    ...                                                ...\n",
       "63      SHSL5                                               {'H': -1.0}\n",
       "64     SIALT1            {'C': -11.0, 'H': -18.0, 'N': -1.0, 'O': -8.0}\n",
       "65       TFFE                                               {'Fe': 1.0}\n",
       "66      TRDR1                                                {'X': 1.0}\n",
       "67     TSULST                                               {'H': -2.0}\n",
       "\n",
       "[68 rows x 3 columns]"
      ]
     },
     "execution_count": 47,
     "metadata": {},
     "output_type": "execute_result"
    }
   ],
   "source": [
    "#After bulk removing cofactors, what reaction imbalances remain?\n",
    "reactions = []\n",
    "charge = []\n",
    "mass = []\n",
    "for react in model.reactions:\n",
    "    result = react.check_mass_balance()\n",
    "    if 'EX_' in  react.id:\n",
    "        continue\n",
    "    if 'Nm_' in  react.id:\n",
    "        continue\n",
    "    if 'DM_' in  react.id:\n",
    "        continue \n",
    "    if react.id in biomass_reactions:\n",
    "        continue\n",
    "    if len(result) == 0:\n",
    "        continue\n",
    "    else: \n",
    "        reactions.append(react.id)\n",
    "        masses = {}\n",
    "        for key in result.keys():\n",
    "            if key == 'charge':\n",
    "                charge.append(result['charge'])\n",
    "            else:\n",
    "                masses[key] = result[key]\n",
    "        if 'charge' not in result.keys():\n",
    "            charge.append('')\n",
    "        mass.append(masses)\n",
    "print(len(reactions), len(charge), len(mass))\n",
    "\n",
    "mass_charge_dict = {'Reactions': reactions, 'Charge': charge, 'Masses': mass}\n",
    "mass_charge = pandas.DataFrame(mass_charge_dict)\n",
    "mass_charge.to_csv('imbalancesremaining.csv')\n",
    "mass_charge"
   ]
  },
  {
   "cell_type": "code",
   "execution_count": 48,
   "metadata": {},
   "outputs": [
    {
     "data": {
      "text/plain": [
       "0.267870006384196"
      ]
     },
     "execution_count": 48,
     "metadata": {},
     "output_type": "execute_result"
    }
   ],
   "source": [
    "model.slim_optimize()"
   ]
  },
  {
   "cell_type": "code",
   "execution_count": 49,
   "metadata": {
    "scrolled": true
   },
   "outputs": [
    {
     "name": "stdout",
     "output_type": "stream",
     "text": [
      "{'H': -2.0, 'O': -1.0, 'R': -1.0}\n"
     ]
    },
    {
     "data": {
      "text/html": [
       "\n",
       "        <table>\n",
       "            <tr>\n",
       "                <td><strong>Reaction identifier</strong></td><td>ACPH</td>\n",
       "            </tr><tr>\n",
       "                <td><strong>Name</strong></td><td>R_ACPH</td>\n",
       "            </tr><tr>\n",
       "                <td><strong>Memory address</strong></td>\n",
       "                <td>0x02a33652c610</td>\n",
       "            </tr><tr>\n",
       "                <td><strong>Stoichiometry</strong></td>\n",
       "                <td>\n",
       "                    <p style='text-align:right'>ACP_c + h2o_c --> pan4p_c</p>\n",
       "                    <p style='text-align:right'>M_ACP_c + M_h2o_c --> M_pan4p_c</p>\n",
       "                </td>\n",
       "            </tr><tr>\n",
       "                <td><strong>GPR</strong></td><td>Orphan</td>\n",
       "            </tr><tr>\n",
       "                <td><strong>Lower bound</strong></td><td>0.0</td>\n",
       "            </tr><tr>\n",
       "                <td><strong>Upper bound</strong></td><td>999999.0</td>\n",
       "            </tr>\n",
       "        </table>\n",
       "        "
      ],
      "text/plain": [
       "<Reaction ACPH at 0x2a33652c610>"
      ]
     },
     "execution_count": 49,
     "metadata": {},
     "output_type": "execute_result"
    }
   ],
   "source": [
    "#Correct Imbalances for ACP reactions\n",
    "#ACPH\n",
    "r = model.reactions.get_by_id('ACPH')\n",
    "print(r.check_mass_balance())\n",
    "r\n"
   ]
  },
  {
   "cell_type": "code",
   "execution_count": 50,
   "metadata": {
    "scrolled": true
   },
   "outputs": [
    {
     "name": "stdout",
     "output_type": "stream",
     "text": [
      "ACPH: ACP_c + h2o_c --> apoACP_c + h_c + pan4p_c\n",
      "{}\n"
     ]
    }
   ],
   "source": [
    "apoACP_c = Metabolite(\n",
    "    'apoACP_c',\n",
    "    formula='HOR',\n",
    "    name='apo acyl-carrier-protein',\n",
    "    compartment='cytosol')\n",
    "\n",
    "h_c = model.metabolites.get_by_id('h_c')\n",
    "\n",
    "r.add_metabolites({\n",
    "    apoACP_c: 1.0,\n",
    "    h_c: 1.0})\n",
    "\n",
    "print(r)\n",
    "print(r.check_mass_balance())"
   ]
  },
  {
   "cell_type": "code",
   "execution_count": 51,
   "metadata": {},
   "outputs": [
    {
     "data": {
      "text/plain": [
       "0.26787000638419023"
      ]
     },
     "execution_count": 51,
     "metadata": {},
     "output_type": "execute_result"
    }
   ],
   "source": [
    "model.slim_optimize()"
   ]
  },
  {
   "cell_type": "code",
   "execution_count": 52,
   "metadata": {
    "scrolled": true
   },
   "outputs": [
    {
     "name": "stdout",
     "output_type": "stream",
     "text": [
      "{'H': 1.0, 'O': 1.0, 'R': 1.0}\n"
     ]
    },
    {
     "data": {
      "text/html": [
       "\n",
       "        <table>\n",
       "            <tr>\n",
       "                <td><strong>Reaction identifier</strong></td><td>ACPS1</td>\n",
       "            </tr><tr>\n",
       "                <td><strong>Name</strong></td><td>R_ACPS1</td>\n",
       "            </tr><tr>\n",
       "                <td><strong>Memory address</strong></td>\n",
       "                <td>0x02a336531550</td>\n",
       "            </tr><tr>\n",
       "                <td><strong>Stoichiometry</strong></td>\n",
       "                <td>\n",
       "                    <p style='text-align:right'>coa_c --> ACP_c + h_c + pap_c</p>\n",
       "                    <p style='text-align:right'>M_coa_c --> M_ACP_c + M_h_c + M_pap_c</p>\n",
       "                </td>\n",
       "            </tr><tr>\n",
       "                <td><strong>GPR</strong></td><td>NGO1507</td>\n",
       "            </tr><tr>\n",
       "                <td><strong>Lower bound</strong></td><td>0.0</td>\n",
       "            </tr><tr>\n",
       "                <td><strong>Upper bound</strong></td><td>999999.0</td>\n",
       "            </tr>\n",
       "        </table>\n",
       "        "
      ],
      "text/plain": [
       "<Reaction ACPS1 at 0x2a336531550>"
      ]
     },
     "execution_count": 52,
     "metadata": {},
     "output_type": "execute_result"
    }
   ],
   "source": [
    "#ACPS1\n",
    "r = model.reactions.get_by_id('ACPS1')\n",
    "print(r.check_mass_balance())\n",
    "r\n"
   ]
  },
  {
   "cell_type": "code",
   "execution_count": 53,
   "metadata": {
    "scrolled": true
   },
   "outputs": [
    {
     "name": "stdout",
     "output_type": "stream",
     "text": [
      "ACPS1: apoACP_c + coa_c --> ACP_c + h_c + pap_c\n",
      "{}\n"
     ]
    }
   ],
   "source": [
    "r.add_metabolites({\n",
    "    apoACP_c: -1.0})\n",
    "\n",
    "print(r)\n",
    "print(r.check_mass_balance())"
   ]
  },
  {
   "cell_type": "code",
   "execution_count": 54,
   "metadata": {
    "scrolled": true
   },
   "outputs": [],
   "source": [
    "#Add apoACP import reaction. This is required to show \"synthesis\" of a protein based cofactor. \n",
    "#Integration of Biomass Formulations of Genome-Scale Metabolic Models with Experimental Data Reveals Universally Essential Cofactors in Prokaryotes\n",
    "#Joana C Xavier, Kiran Raosaheb Patil, Isabel Rocha\n",
    "#PMID: 27939572 PMCID: PMC5249239\n",
    "\n",
    "apoACP_c = model.metabolites.get_by_id('apoACP_c')\n",
    "\n",
    "EX_apoACP_c_ = cobra.Reaction('EX_apoACP_c_')\n",
    "EX_apoACP_c_.notes = {'citations': 'PMCID: PMC5249239', 'type': 'essential cofactor', 'annotation': ''}\n",
    "EX_apoACP_c_.name = 'exchange of apoACP'\n",
    "EX_apoACP_c_.gene_reaction_rule = ''\n",
    "EX_apoACP_c_.lower_bound = 0.\n",
    "EX_apoACP_c_.upper_bound = 1000.\n",
    "EX_apoACP_c_.add_metabolites({\n",
    "    apoACP_c: -1.0,\n",
    "  \n",
    "})\n",
    "\n",
    "model.add_reactions([EX_apoACP_c_])\n",
    "new_rxns += 1"
   ]
  },
  {
   "cell_type": "code",
   "execution_count": 55,
   "metadata": {
    "scrolled": true
   },
   "outputs": [
    {
     "data": {
      "text/html": [
       "\n",
       "        <table>\n",
       "            <tr>\n",
       "                <td><strong>Reaction identifier</strong></td><td>EX_apoACP_c_</td>\n",
       "            </tr><tr>\n",
       "                <td><strong>Name</strong></td><td>exchange of apoACP</td>\n",
       "            </tr><tr>\n",
       "                <td><strong>Memory address</strong></td>\n",
       "                <td>0x02a336bf0820</td>\n",
       "            </tr><tr>\n",
       "                <td><strong>Stoichiometry</strong></td>\n",
       "                <td>\n",
       "                    <p style='text-align:right'>apoACP_c --></p>\n",
       "                    <p style='text-align:right'>apo acyl-carrier-protein --></p>\n",
       "                </td>\n",
       "            </tr><tr>\n",
       "                <td><strong>GPR</strong></td><td></td>\n",
       "            </tr><tr>\n",
       "                <td><strong>Lower bound</strong></td><td>0.0</td>\n",
       "            </tr><tr>\n",
       "                <td><strong>Upper bound</strong></td><td>1000.0</td>\n",
       "            </tr>\n",
       "        </table>\n",
       "        "
      ],
      "text/plain": [
       "<Reaction EX_apoACP_c_ at 0x2a336bf0820>"
      ]
     },
     "execution_count": 55,
     "metadata": {},
     "output_type": "execute_result"
    }
   ],
   "source": [
    "r=model.reactions.get_by_id('EX_apoACP_c_')\n",
    "r"
   ]
  },
  {
   "cell_type": "code",
   "execution_count": 56,
   "metadata": {},
   "outputs": [],
   "source": [
    "rpmi_molarity(model)"
   ]
  },
  {
   "cell_type": "code",
   "execution_count": 57,
   "metadata": {},
   "outputs": [
    {
     "data": {
      "text/plain": [
       "0.2678700063841961"
      ]
     },
     "execution_count": 57,
     "metadata": {},
     "output_type": "execute_result"
    }
   ],
   "source": [
    "model.slim_optimize()"
   ]
  },
  {
   "cell_type": "code",
   "execution_count": 58,
   "metadata": {},
   "outputs": [],
   "source": [
    "#complete(model)\n",
    "#model.slim_optimize()"
   ]
  },
  {
   "cell_type": "code",
   "execution_count": 59,
   "metadata": {
    "scrolled": true
   },
   "outputs": [
    {
     "name": "stdout",
     "output_type": "stream",
     "text": [
      "{'H': 1.0, 'O': -3.0, 'P': -1.0}\n"
     ]
    },
    {
     "data": {
      "text/html": [
       "\n",
       "        <table>\n",
       "            <tr>\n",
       "                <td><strong>Reaction identifier</strong></td><td>AMPMS2</td>\n",
       "            </tr><tr>\n",
       "                <td><strong>Name</strong></td><td>R_AMPMS2</td>\n",
       "            </tr><tr>\n",
       "                <td><strong>Memory address</strong></td>\n",
       "                <td>0x02a33657b6a0</td>\n",
       "            </tr><tr>\n",
       "                <td><strong>Stoichiometry</strong></td>\n",
       "                <td>\n",
       "                    <p style='text-align:right'>air_c + h2o_c + nad_c --> 4ahmmp_c + 2.0 for_c + 3.0 h_c + nadh_c</p>\n",
       "                    <p style='text-align:right'>M_air_c + M_h2o_c + M_nad_c --> M_4ahmmp_c + 2.0 M_for_c + 3.0 M_h_c + M_nadh_c</p>\n",
       "                </td>\n",
       "            </tr><tr>\n",
       "                <td><strong>GPR</strong></td><td>NGO2041</td>\n",
       "            </tr><tr>\n",
       "                <td><strong>Lower bound</strong></td><td>0.0</td>\n",
       "            </tr><tr>\n",
       "                <td><strong>Upper bound</strong></td><td>999999.0</td>\n",
       "            </tr>\n",
       "        </table>\n",
       "        "
      ],
      "text/plain": [
       "<Reaction AMPMS2 at 0x2a33657b6a0>"
      ]
     },
     "execution_count": 59,
     "metadata": {},
     "output_type": "execute_result"
    }
   ],
   "source": [
    "#AMPMS2\n",
    "r = model.reactions.get_by_id('AMPMS2')\n",
    "print(r.check_mass_balance())\n",
    "r"
   ]
  },
  {
   "cell_type": "code",
   "execution_count": 60,
   "metadata": {
    "scrolled": true
   },
   "outputs": [],
   "source": [
    "#The reaction AMPMS2 should use 4ampm rather than 4ahmmp according to BIGG and KEGG. Replaced this metabolite in the reaction.\n"
   ]
  },
  {
   "cell_type": "code",
   "execution_count": 61,
   "metadata": {},
   "outputs": [
    {
     "name": "stdout",
     "output_type": "stream",
     "text": [
      "{}\n"
     ]
    },
    {
     "data": {
      "text/html": [
       "\n",
       "        <table>\n",
       "            <tr>\n",
       "                <td><strong>Reaction identifier</strong></td><td>AMPMS2</td>\n",
       "            </tr><tr>\n",
       "                <td><strong>Name</strong></td><td>R_AMPMS2</td>\n",
       "            </tr><tr>\n",
       "                <td><strong>Memory address</strong></td>\n",
       "                <td>0x02a33657b6a0</td>\n",
       "            </tr><tr>\n",
       "                <td><strong>Stoichiometry</strong></td>\n",
       "                <td>\n",
       "                    <p style='text-align:right'>air_c + h2o_c + nad_c --> 4ampm_c + 2.0 for_c + 3.0 h_c + nadh_c</p>\n",
       "                    <p style='text-align:right'>M_air_c + M_h2o_c + M_nad_c --> M_4ampm_c + 2.0 M_for_c + 3.0 M_h_c + M_nadh_c</p>\n",
       "                </td>\n",
       "            </tr><tr>\n",
       "                <td><strong>GPR</strong></td><td>NGO2041</td>\n",
       "            </tr><tr>\n",
       "                <td><strong>Lower bound</strong></td><td>0.0</td>\n",
       "            </tr><tr>\n",
       "                <td><strong>Upper bound</strong></td><td>999999.0</td>\n",
       "            </tr>\n",
       "        </table>\n",
       "        "
      ],
      "text/plain": [
       "<Reaction AMPMS2 at 0x2a33657b6a0>"
      ]
     },
     "execution_count": 61,
     "metadata": {},
     "output_type": "execute_result"
    }
   ],
   "source": [
    "met1=model.metabolites.get_by_id('4ampm_c')\n",
    "met2 = model.metabolites.get_by_id('4ahmmp_c')\n",
    "\n",
    "r.subtract_metabolites({\n",
    "    met2: 1.0})\n",
    "r.add_metabolites({\n",
    "    met1: 1.0})\n",
    "\n",
    "print(r.check_mass_balance())\n",
    "r"
   ]
  },
  {
   "cell_type": "code",
   "execution_count": 62,
   "metadata": {},
   "outputs": [
    {
     "data": {
      "text/plain": [
       "0.26787000638418484"
      ]
     },
     "execution_count": 62,
     "metadata": {},
     "output_type": "execute_result"
    }
   ],
   "source": [
    "#However, now model doesn't grow in RPMI which doesn't contain added thiamine. Thiamine synthesis seems to have been disrupted by changing the metabolite. \n",
    "model.slim_optimize()"
   ]
  },
  {
   "cell_type": "code",
   "execution_count": 63,
   "metadata": {
    "scrolled": true
   },
   "outputs": [
    {
     "name": "stdout",
     "output_type": "stream",
     "text": [
      "{'H': 2.0, 'O': 2.0}\n"
     ]
    },
    {
     "data": {
      "text/html": [
       "\n",
       "        <table>\n",
       "            <tr>\n",
       "                <td><strong>Reaction identifier</strong></td><td>ASNSYN</td>\n",
       "            </tr><tr>\n",
       "                <td><strong>Name</strong></td><td>R_ASNSYN</td>\n",
       "            </tr><tr>\n",
       "                <td><strong>Memory address</strong></td>\n",
       "                <td>0x02a336592e50</td>\n",
       "            </tr><tr>\n",
       "                <td><strong>Stoichiometry</strong></td>\n",
       "                <td>\n",
       "                    <p style='text-align:right'>asp_L_c + atp_c + gln_L_c + h_c --> adp_c + asn_L_c + glu_L_c + h2o_c + pi_c</p>\n",
       "                    <p style='text-align:right'>M_asp_L_c + M_atp_c + M_gln_L_c + M_h_c --> M_adp_c + M_asn_L_c + M_glu_L_c + M_h2o_c + M_pi_c</p>\n",
       "                </td>\n",
       "            </tr><tr>\n",
       "                <td><strong>GPR</strong></td><td>NGO1489 and NGO0663 and NGO0662 and NGO0660</td>\n",
       "            </tr><tr>\n",
       "                <td><strong>Lower bound</strong></td><td>0.0</td>\n",
       "            </tr><tr>\n",
       "                <td><strong>Upper bound</strong></td><td>999999.0</td>\n",
       "            </tr>\n",
       "        </table>\n",
       "        "
      ],
      "text/plain": [
       "<Reaction ASNSYN at 0x2a336592e50>"
      ]
     },
     "execution_count": 63,
     "metadata": {},
     "output_type": "execute_result"
    }
   ],
   "source": [
    "#ASNSYN\n",
    "r = model.reactions.get_by_id('ASNSYN')\n",
    "print(r.check_mass_balance())\n",
    "r"
   ]
  },
  {
   "cell_type": "code",
   "execution_count": null,
   "metadata": {},
   "outputs": [],
   "source": []
  },
  {
   "cell_type": "raw",
   "metadata": {},
   "source": [
    "h_c = model.metabolites.get_by_id('h_c')\n",
    "h2o_c = model.metabolites.get_by_id('h2o_c')\n",
    "\n",
    "r.add_metabolites({\n",
    "    h2o_c: -2.0,\n",
    "    h_c: 2.0})\n",
    "\n",
    "print(r)\n",
    "print(r.check_mass_balance())"
   ]
  },
  {
   "cell_type": "code",
   "execution_count": 64,
   "metadata": {
    "scrolled": true
   },
   "outputs": [
    {
     "name": "stdout",
     "output_type": "stream",
     "text": [
      "{'O': 3.0, 'S': 1.0}\n"
     ]
    },
    {
     "data": {
      "text/html": [
       "\n",
       "        <table>\n",
       "            <tr>\n",
       "                <td><strong>Reaction identifier</strong></td><td>BTS4</td>\n",
       "            </tr><tr>\n",
       "                <td><strong>Name</strong></td><td>R_BTS4</td>\n",
       "            </tr><tr>\n",
       "                <td><strong>Memory address</strong></td>\n",
       "                <td>0x02a3365abf70</td>\n",
       "            </tr><tr>\n",
       "                <td><strong>Stoichiometry</strong></td>\n",
       "                <td>\n",
       "                    <p style='text-align:right'>amet_c + dtbt_c + h_c --> btn_c + dad_5_c + h2o_c + met_L_c + o2_c</p>\n",
       "                    <p style='text-align:right'>M_amet_c + M_dtbt_c + M_h_c --> M_btn_c + M_dad_5_c + M_h2o_c + M_met_L_c + M_o2_c</p>\n",
       "                </td>\n",
       "            </tr><tr>\n",
       "                <td><strong>GPR</strong></td><td>NGO0813 or NGO0813</td>\n",
       "            </tr><tr>\n",
       "                <td><strong>Lower bound</strong></td><td>0.0</td>\n",
       "            </tr><tr>\n",
       "                <td><strong>Upper bound</strong></td><td>999999.0</td>\n",
       "            </tr>\n",
       "        </table>\n",
       "        "
      ],
      "text/plain": [
       "<Reaction BTS4 at 0x2a3365abf70>"
      ]
     },
     "execution_count": 64,
     "metadata": {},
     "output_type": "execute_result"
    }
   ],
   "source": [
    "#BTS4\n",
    "r = model.reactions.get_by_id('BTS4')\n",
    "print(r.check_mass_balance())\n",
    "r"
   ]
  },
  {
   "cell_type": "code",
   "execution_count": 65,
   "metadata": {
    "scrolled": true
   },
   "outputs": [
    {
     "name": "stdout",
     "output_type": "stream",
     "text": [
      "BTS4: amet_c + dtbt_c --> btn_c + dad_5_c + h_c + met_L_c\n",
      "{'S': 1.0}\n"
     ]
    }
   ],
   "source": [
    "#Reaction will remain imbalanced for Sulfer. The sulfer is donated by the enzyme itself and not by a metabolite.\n",
    "h_c = model.metabolites.get_by_id('h_c')\n",
    "h2o_c = model.metabolites.get_by_id('h2o_c')\n",
    "o2_c = model.metabolites.get_by_id('o2_c')\n",
    "\n",
    "r.add_metabolites({\n",
    "    h2o_c: -1.0,\n",
    "    h_c: 2.0,\n",
    "    o2_c: -1.0\n",
    "})\n",
    "\n",
    "print(r)\n",
    "print(r.check_mass_balance())"
   ]
  },
  {
   "cell_type": "code",
   "execution_count": 66,
   "metadata": {
    "scrolled": true
   },
   "outputs": [
    {
     "name": "stdout",
     "output_type": "stream",
     "text": [
      "{'H': 1.0}\n"
     ]
    },
    {
     "data": {
      "text/html": [
       "\n",
       "        <table>\n",
       "            <tr>\n",
       "                <td><strong>Reaction identifier</strong></td><td>CTPS3</td>\n",
       "            </tr><tr>\n",
       "                <td><strong>Name</strong></td><td>R_CTPS3</td>\n",
       "            </tr><tr>\n",
       "                <td><strong>Memory address</strong></td>\n",
       "                <td>0x02a3365d3850</td>\n",
       "            </tr><tr>\n",
       "                <td><strong>Stoichiometry</strong></td>\n",
       "                <td>\n",
       "                    <p style='text-align:right'>ctp_c + h2o_c <=> nh4_c + utp_c</p>\n",
       "                    <p style='text-align:right'>M_ctp_c + M_h2o_c <=> M_nh4_c + M_utp_c</p>\n",
       "                </td>\n",
       "            </tr><tr>\n",
       "                <td><strong>GPR</strong></td><td>NGO0421</td>\n",
       "            </tr><tr>\n",
       "                <td><strong>Lower bound</strong></td><td>-999999.0</td>\n",
       "            </tr><tr>\n",
       "                <td><strong>Upper bound</strong></td><td>999999.0</td>\n",
       "            </tr>\n",
       "        </table>\n",
       "        "
      ],
      "text/plain": [
       "<Reaction CTPS3 at 0x2a3365d3850>"
      ]
     },
     "execution_count": 66,
     "metadata": {},
     "output_type": "execute_result"
    }
   ],
   "source": [
    "#CTPS3\n",
    "r = model.reactions.get_by_id('CTPS3')\n",
    "print(r.check_mass_balance())\n",
    "r"
   ]
  },
  {
   "cell_type": "code",
   "execution_count": 67,
   "metadata": {
    "scrolled": true
   },
   "outputs": [
    {
     "name": "stdout",
     "output_type": "stream",
     "text": [
      "CTPS3: ctp_c + h2o_c <=> nh3_c + utp_c\n",
      "{}\n"
     ]
    }
   ],
   "source": [
    "nh3_c= Metabolite(\n",
    "    'nh3_c',\n",
    "    formula='NH3',\n",
    "    name='Ammonia',\n",
    "    compartment='cytosol')\n",
    "\n",
    "nh4_c = model.metabolites.get_by_id('nh4_c')\n",
    "\n",
    "\n",
    "r.add_metabolites({\n",
    "    nh4_c: -1.0,\n",
    "    nh3_c: 1.0,\n",
    "})\n",
    "\n",
    "print(r)\n",
    "print(r.check_mass_balance())"
   ]
  },
  {
   "cell_type": "code",
   "execution_count": 68,
   "metadata": {},
   "outputs": [
    {
     "data": {
      "text/plain": [
       "0.26787000638418634"
      ]
     },
     "execution_count": 68,
     "metadata": {},
     "output_type": "execute_result"
    }
   ],
   "source": [
    "model.slim_optimize()"
   ]
  },
  {
   "cell_type": "code",
   "execution_count": 69,
   "metadata": {
    "scrolled": true
   },
   "outputs": [
    {
     "name": "stdout",
     "output_type": "stream",
     "text": [
      "{'C': -1.6999999985500835e-06, 'H': -1.900000000887303e-06, 'N': -3.9999999978945766e-07, 'O': -8.999999998593466e-07, 'P': -1e-07}\n"
     ]
    },
    {
     "data": {
      "text/html": [
       "\n",
       "        <table>\n",
       "            <tr>\n",
       "                <td><strong>Reaction identifier</strong></td><td>DHORD2</td>\n",
       "            </tr><tr>\n",
       "                <td><strong>Name</strong></td><td>R_DHORD2</td>\n",
       "            </tr><tr>\n",
       "                <td><strong>Memory address</strong></td>\n",
       "                <td>0x02a33660cc70</td>\n",
       "            </tr><tr>\n",
       "                <td><strong>Stoichiometry</strong></td>\n",
       "                <td>\n",
       "                    <p style='text-align:right'>dhor_S_c + 1e-07 fmn_c + q8_c --> orot_c + q8h2_c</p>\n",
       "                    <p style='text-align:right'>M_dhor_S_c + 1e-07 M_fmn_c + M_q8_c --> M_orot_c + M_q8h2_c</p>\n",
       "                </td>\n",
       "            </tr><tr>\n",
       "                <td><strong>GPR</strong></td><td>NGO1761</td>\n",
       "            </tr><tr>\n",
       "                <td><strong>Lower bound</strong></td><td>0.0</td>\n",
       "            </tr><tr>\n",
       "                <td><strong>Upper bound</strong></td><td>999999.0</td>\n",
       "            </tr>\n",
       "        </table>\n",
       "        "
      ],
      "text/plain": [
       "<Reaction DHORD2 at 0x2a33660cc70>"
      ]
     },
     "execution_count": 69,
     "metadata": {},
     "output_type": "execute_result"
    }
   ],
   "source": [
    "#DHORD2\n",
    "r = model.reactions.get_by_id('DHORD2')\n",
    "print(r.check_mass_balance())\n",
    "r"
   ]
  },
  {
   "cell_type": "code",
   "execution_count": 70,
   "metadata": {
    "scrolled": true
   },
   "outputs": [
    {
     "name": "stdout",
     "output_type": "stream",
     "text": [
      "DHORD2: dhor_S_c + q8_c --> orot_c + q8h2_c\n",
      "{}\n"
     ]
    }
   ],
   "source": [
    "fmn_c = model.metabolites.get_by_id('fmn_c')\n",
    "\n",
    "\n",
    "\n",
    "r.add_metabolites({\n",
    "    fmn_c: 1e-07,\n",
    "})\n",
    "\n",
    "print(r)\n",
    "print(r.check_mass_balance())"
   ]
  },
  {
   "cell_type": "code",
   "execution_count": 71,
   "metadata": {
    "scrolled": true
   },
   "outputs": [
    {
     "name": "stdout",
     "output_type": "stream",
     "text": [
      "{'Co': -1e-07}\n"
     ]
    },
    {
     "data": {
      "text/html": [
       "\n",
       "        <table>\n",
       "            <tr>\n",
       "                <td><strong>Reaction identifier</strong></td><td>DHQS</td>\n",
       "            </tr><tr>\n",
       "                <td><strong>Name</strong></td><td>R_DHQS</td>\n",
       "            </tr><tr>\n",
       "                <td><strong>Memory address</strong></td>\n",
       "                <td>0x02a33661a4c0</td>\n",
       "            </tr><tr>\n",
       "                <td><strong>Stoichiometry</strong></td>\n",
       "                <td>\n",
       "                    <p style='text-align:right'>2dda7p_c + 1e-07 cobalt2_c --> 3dhq_c + pi_c</p>\n",
       "                    <p style='text-align:right'>M_2dda7p_c + 1e-07 M_cobalt2_c --> M_3dhq_c + M_pi_c</p>\n",
       "                </td>\n",
       "            </tr><tr>\n",
       "                <td><strong>GPR</strong></td><td>NGO0092</td>\n",
       "            </tr><tr>\n",
       "                <td><strong>Lower bound</strong></td><td>0.0</td>\n",
       "            </tr><tr>\n",
       "                <td><strong>Upper bound</strong></td><td>999999.0</td>\n",
       "            </tr>\n",
       "        </table>\n",
       "        "
      ],
      "text/plain": [
       "<Reaction DHQS at 0x2a33661a4c0>"
      ]
     },
     "execution_count": 71,
     "metadata": {},
     "output_type": "execute_result"
    }
   ],
   "source": [
    "#DHQS\n",
    "r = model.reactions.get_by_id('DHQS')\n",
    "print(r.check_mass_balance())\n",
    "r"
   ]
  },
  {
   "cell_type": "code",
   "execution_count": 72,
   "metadata": {
    "scrolled": true
   },
   "outputs": [
    {
     "name": "stdout",
     "output_type": "stream",
     "text": [
      "DHQS: 2dda7p_c --> 3dhq_c + pi_c\n",
      "{}\n"
     ]
    }
   ],
   "source": [
    "cobalt2_c = model.metabolites.get_by_id('cobalt2_c')\n",
    "\n",
    "\n",
    "\n",
    "r.add_metabolites({\n",
    "    cobalt2_c: 1e-07,\n",
    "})\n",
    "\n",
    "print(r)\n",
    "print(r.check_mass_balance())"
   ]
  },
  {
   "cell_type": "code",
   "execution_count": 73,
   "metadata": {},
   "outputs": [
    {
     "data": {
      "text/plain": [
       "0.26787001097449564"
      ]
     },
     "execution_count": 73,
     "metadata": {},
     "output_type": "execute_result"
    }
   ],
   "source": [
    "model.slim_optimize()"
   ]
  },
  {
   "cell_type": "code",
   "execution_count": 74,
   "metadata": {
    "scrolled": true
   },
   "outputs": [
    {
     "name": "stdout",
     "output_type": "stream",
     "text": [
      "{'H': 1.0}\n"
     ]
    },
    {
     "data": {
      "text/html": [
       "\n",
       "        <table>\n",
       "            <tr>\n",
       "                <td><strong>Reaction identifier</strong></td><td>GLYCLTDx</td>\n",
       "            </tr><tr>\n",
       "                <td><strong>Name</strong></td><td>R_GLYCLTDx</td>\n",
       "            </tr><tr>\n",
       "                <td><strong>Memory address</strong></td>\n",
       "                <td>0x02a33671c670</td>\n",
       "            </tr><tr>\n",
       "                <td><strong>Stoichiometry</strong></td>\n",
       "                <td>\n",
       "                    <p style='text-align:right'>glx_c + nadh_c --> glyclt_c + nad_c</p>\n",
       "                    <p style='text-align:right'>M_glx_c + M_nadh_c --> M_glyclt_c + M_nad_c</p>\n",
       "                </td>\n",
       "            </tr><tr>\n",
       "                <td><strong>GPR</strong></td><td>NGO2043</td>\n",
       "            </tr><tr>\n",
       "                <td><strong>Lower bound</strong></td><td>0.0</td>\n",
       "            </tr><tr>\n",
       "                <td><strong>Upper bound</strong></td><td>999999.0</td>\n",
       "            </tr>\n",
       "        </table>\n",
       "        "
      ],
      "text/plain": [
       "<Reaction GLYCLTDx at 0x2a33671c670>"
      ]
     },
     "execution_count": 74,
     "metadata": {},
     "output_type": "execute_result"
    }
   ],
   "source": [
    "#GLYCLTDx\n",
    "r = model.reactions.get_by_id('GLYCLTDx')\n",
    "print(r.check_mass_balance())\n",
    "r"
   ]
  },
  {
   "cell_type": "code",
   "execution_count": 75,
   "metadata": {
    "scrolled": true
   },
   "outputs": [
    {
     "name": "stdout",
     "output_type": "stream",
     "text": [
      "GLYCLTDx: glx_c + h_c + nadh_c --> glyclt_c + nad_c\n",
      "{}\n"
     ]
    }
   ],
   "source": [
    "h_c = model.metabolites.get_by_id('h_c')\n",
    "\n",
    "\n",
    "\n",
    "r.add_metabolites({\n",
    "    h_c: -1,\n",
    "})\n",
    "\n",
    "print(r)\n",
    "print(r.check_mass_balance())"
   ]
  },
  {
   "cell_type": "code",
   "execution_count": 76,
   "metadata": {
    "scrolled": true
   },
   "outputs": [
    {
     "name": "stdout",
     "output_type": "stream",
     "text": [
      "{'H': 1.0}\n"
     ]
    },
    {
     "data": {
      "text/html": [
       "\n",
       "        <table>\n",
       "            <tr>\n",
       "                <td><strong>Reaction identifier</strong></td><td>GLYCLTDy</td>\n",
       "            </tr><tr>\n",
       "                <td><strong>Name</strong></td><td>R_GLYCLTDy</td>\n",
       "            </tr><tr>\n",
       "                <td><strong>Memory address</strong></td>\n",
       "                <td>0x02a33671c820</td>\n",
       "            </tr><tr>\n",
       "                <td><strong>Stoichiometry</strong></td>\n",
       "                <td>\n",
       "                    <p style='text-align:right'>glx_c + nadph_c --> glyclt_c + nadp_c</p>\n",
       "                    <p style='text-align:right'>M_glx_c + M_nadph_c --> M_glyclt_c + M_nadp_c</p>\n",
       "                </td>\n",
       "            </tr><tr>\n",
       "                <td><strong>GPR</strong></td><td>NGO2043</td>\n",
       "            </tr><tr>\n",
       "                <td><strong>Lower bound</strong></td><td>0.0</td>\n",
       "            </tr><tr>\n",
       "                <td><strong>Upper bound</strong></td><td>999999.0</td>\n",
       "            </tr>\n",
       "        </table>\n",
       "        "
      ],
      "text/plain": [
       "<Reaction GLYCLTDy at 0x2a33671c820>"
      ]
     },
     "execution_count": 76,
     "metadata": {},
     "output_type": "execute_result"
    }
   ],
   "source": [
    "#GLYCLTDy\n",
    "r = model.reactions.get_by_id('GLYCLTDy')\n",
    "print(r.check_mass_balance())\n",
    "r"
   ]
  },
  {
   "cell_type": "code",
   "execution_count": 77,
   "metadata": {
    "scrolled": true
   },
   "outputs": [
    {
     "name": "stdout",
     "output_type": "stream",
     "text": [
      "GLYCLTDy: glx_c + h_c + nadph_c --> glyclt_c + nadp_c\n",
      "{}\n"
     ]
    }
   ],
   "source": [
    "h_c = model.metabolites.get_by_id('h_c')\n",
    "\n",
    "\n",
    "\n",
    "r.add_metabolites({\n",
    "    h_c: -1,\n",
    "})\n",
    "\n",
    "print(r)\n",
    "print(r.check_mass_balance())"
   ]
  },
  {
   "cell_type": "code",
   "execution_count": 78,
   "metadata": {
    "scrolled": true
   },
   "outputs": [
    {
     "name": "stdout",
     "output_type": "stream",
     "text": [
      "{'H': -1.0}\n"
     ]
    },
    {
     "data": {
      "text/html": [
       "\n",
       "        <table>\n",
       "            <tr>\n",
       "                <td><strong>Reaction identifier</strong></td><td>H2AKGAL</td>\n",
       "            </tr><tr>\n",
       "                <td><strong>Name</strong></td><td>R_H2AKGAL</td>\n",
       "            </tr><tr>\n",
       "                <td><strong>Memory address</strong></td>\n",
       "                <td>0x02a336734df0</td>\n",
       "            </tr><tr>\n",
       "                <td><strong>Stoichiometry</strong></td>\n",
       "                <td>\n",
       "                    <p style='text-align:right'>4h2oglt_c --> glx_c + h_c + pyr_c</p>\n",
       "                    <p style='text-align:right'>M_4h2oglt_c --> M_glx_c + M_h_c + M_pyr_c</p>\n",
       "                </td>\n",
       "            </tr><tr>\n",
       "                <td><strong>GPR</strong></td><td>NGO0713</td>\n",
       "            </tr><tr>\n",
       "                <td><strong>Lower bound</strong></td><td>0.0</td>\n",
       "            </tr><tr>\n",
       "                <td><strong>Upper bound</strong></td><td>999999.0</td>\n",
       "            </tr>\n",
       "        </table>\n",
       "        "
      ],
      "text/plain": [
       "<Reaction H2AKGAL at 0x2a336734df0>"
      ]
     },
     "execution_count": 78,
     "metadata": {},
     "output_type": "execute_result"
    }
   ],
   "source": [
    "#H2AKGAL\n",
    "r = model.reactions.get_by_id('H2AKGAL')\n",
    "print(r.check_mass_balance())\n",
    "r"
   ]
  },
  {
   "cell_type": "code",
   "execution_count": 79,
   "metadata": {
    "scrolled": true
   },
   "outputs": [
    {
     "name": "stdout",
     "output_type": "stream",
     "text": [
      "DDPGA: 4h2oglt_c --> glx_c + 2.0 h_c + pyr_c\n",
      "{'H': 2.0}\n"
     ]
    }
   ],
   "source": [
    "#H2AKGAL is not consistent with the bigg name for this same reaction. Corrected name to DDPGA. \n",
    "#Similarly, the protenation of 4h2oglt_c was used from kegg, which is incorrect for neutral ph.\n",
    "#corrected to the formula from bigg. And removed the now unnecessary hydrogens from the reaction.\n",
    "r.id  ='DDPGA'\n",
    "r.name ='R_DDPGA'\n",
    "model.metabolites.get_by_id('4h2oglt_c').formula = 'C5H4O6'\n",
    "h_c = model.metabolites.get_by_id('h_c')\n",
    "\n",
    "\n",
    "\n",
    "r.add_metabolites({\n",
    "    h_c: 1.0,\n",
    "})\n",
    "\n",
    "print(r)\n",
    "print(r.check_mass_balance())"
   ]
  },
  {
   "cell_type": "code",
   "execution_count": 80,
   "metadata": {
    "scrolled": true
   },
   "outputs": [
    {
     "name": "stdout",
     "output_type": "stream",
     "text": [
      "{}\n"
     ]
    },
    {
     "data": {
      "text/html": [
       "\n",
       "        <table>\n",
       "            <tr>\n",
       "                <td><strong>Reaction identifier</strong></td><td>HGTA</td>\n",
       "            </tr><tr>\n",
       "                <td><strong>Name</strong></td><td>R_HGTA</td>\n",
       "            </tr><tr>\n",
       "                <td><strong>Memory address</strong></td>\n",
       "                <td>0x02a336740fa0</td>\n",
       "            </tr><tr>\n",
       "                <td><strong>Stoichiometry</strong></td>\n",
       "                <td>\n",
       "                    <p style='text-align:right'>akg_c + e4hglu_c <=> 4h2oglt_c + glu_L_c + h_c</p>\n",
       "                    <p style='text-align:right'>M_akg_c + M_e4hglu_c <=> M_4h2oglt_c + M_glu_L_c + M_h_c</p>\n",
       "                </td>\n",
       "            </tr><tr>\n",
       "                <td><strong>GPR</strong></td><td>NGO1452</td>\n",
       "            </tr><tr>\n",
       "                <td><strong>Lower bound</strong></td><td>-999999.0</td>\n",
       "            </tr><tr>\n",
       "                <td><strong>Upper bound</strong></td><td>999999.0</td>\n",
       "            </tr>\n",
       "        </table>\n",
       "        "
      ],
      "text/plain": [
       "<Reaction HGTA at 0x2a336740fa0>"
      ]
     },
     "execution_count": 80,
     "metadata": {},
     "output_type": "execute_result"
    }
   ],
   "source": [
    "#HGTA\n",
    "r = model.reactions.get_by_id('HGTA')\n",
    "print(r.check_mass_balance())\n",
    "r"
   ]
  },
  {
   "cell_type": "code",
   "execution_count": 81,
   "metadata": {
    "scrolled": true
   },
   "outputs": [
    {
     "name": "stdout",
     "output_type": "stream",
     "text": [
      "EHGLAT: akg_c + e4hglu_c <=> 4h2oglt_c + glu_L_c\n",
      "{}\n"
     ]
    }
   ],
   "source": [
    "#HGTA is not consistent with the bigg name for this same reaction. Corrected name to EHGLAT. \n",
    "#Similarly, the protenation of e4hglu_c was used from kegg, which is incorrect for neutral ph.\n",
    "#corrected to the formula from bigg. And removed the now unnecessary hydrogens from the reaction.\n",
    "r.id  ='EHGLAT'\n",
    "r.name ='R_EHGLAT'\n",
    "model.metabolites.get_by_id('e4hglu_c').formula = 'C5H8NO5'\n",
    "h_c = model.metabolites.get_by_id('h_c')\n",
    "\n",
    "\n",
    "\n",
    "r.add_metabolites({\n",
    "    h_c: -1.0,\n",
    "})\n",
    "\n",
    "print(r)\n",
    "print(r.check_mass_balance())"
   ]
  },
  {
   "cell_type": "code",
   "execution_count": 82,
   "metadata": {},
   "outputs": [
    {
     "data": {
      "text/html": [
       "<strong><em>Optimal</em> solution with objective value 0.268</strong><br><div>\n",
       "<style scoped>\n",
       "    .dataframe tbody tr th:only-of-type {\n",
       "        vertical-align: middle;\n",
       "    }\n",
       "\n",
       "    .dataframe tbody tr th {\n",
       "        vertical-align: top;\n",
       "    }\n",
       "\n",
       "    .dataframe thead th {\n",
       "        text-align: right;\n",
       "    }\n",
       "</style>\n",
       "<table border=\"1\" class=\"dataframe\">\n",
       "  <thead>\n",
       "    <tr style=\"text-align: right;\">\n",
       "      <th></th>\n",
       "      <th>fluxes</th>\n",
       "      <th>reduced_costs</th>\n",
       "    </tr>\n",
       "  </thead>\n",
       "  <tbody>\n",
       "    <tr>\n",
       "      <th>12DGR120tipp</th>\n",
       "      <td>0.000000</td>\n",
       "      <td>0.0</td>\n",
       "    </tr>\n",
       "    <tr>\n",
       "      <th>12DGR140tipp</th>\n",
       "      <td>0.000000</td>\n",
       "      <td>0.0</td>\n",
       "    </tr>\n",
       "    <tr>\n",
       "      <th>12DGR141tipp</th>\n",
       "      <td>0.000000</td>\n",
       "      <td>0.0</td>\n",
       "    </tr>\n",
       "    <tr>\n",
       "      <th>12DGR160tipp</th>\n",
       "      <td>0.000000</td>\n",
       "      <td>0.0</td>\n",
       "    </tr>\n",
       "    <tr>\n",
       "      <th>12DGR161tipp</th>\n",
       "      <td>0.000000</td>\n",
       "      <td>0.0</td>\n",
       "    </tr>\n",
       "    <tr>\n",
       "      <th>...</th>\n",
       "      <td>...</td>\n",
       "      <td>...</td>\n",
       "    </tr>\n",
       "    <tr>\n",
       "      <th>XYLtex</th>\n",
       "      <td>0.000000</td>\n",
       "      <td>0.0</td>\n",
       "    </tr>\n",
       "    <tr>\n",
       "      <th>XYLUtex</th>\n",
       "      <td>0.000000</td>\n",
       "      <td>0.0</td>\n",
       "    </tr>\n",
       "    <tr>\n",
       "      <th>ZN2abcpp</th>\n",
       "      <td>0.000846</td>\n",
       "      <td>0.0</td>\n",
       "    </tr>\n",
       "    <tr>\n",
       "      <th>Zn2tex</th>\n",
       "      <td>0.000846</td>\n",
       "      <td>0.0</td>\n",
       "    </tr>\n",
       "    <tr>\n",
       "      <th>EX_apoACP_c_</th>\n",
       "      <td>-0.004662</td>\n",
       "      <td>0.0</td>\n",
       "    </tr>\n",
       "  </tbody>\n",
       "</table>\n",
       "<p>1485 rows × 2 columns</p>\n",
       "</div>"
      ],
      "text/plain": [
       "<Solution 0.268 at 0x2a336bd84f0>"
      ]
     },
     "execution_count": 82,
     "metadata": {},
     "output_type": "execute_result"
    }
   ],
   "source": [
    "model.optimize()"
   ]
  },
  {
   "cell_type": "code",
   "execution_count": 83,
   "metadata": {
    "scrolled": true
   },
   "outputs": [
    {
     "name": "stdout",
     "output_type": "stream",
     "text": [
      "{'H': -1.0}\n"
     ]
    },
    {
     "data": {
      "text/html": [
       "\n",
       "        <table>\n",
       "            <tr>\n",
       "                <td><strong>Reaction identifier</strong></td><td>HMT</td>\n",
       "            </tr><tr>\n",
       "                <td><strong>Name</strong></td><td>R_HMT</td>\n",
       "            </tr><tr>\n",
       "                <td><strong>Memory address</strong></td>\n",
       "                <td>0x02a33674ddc0</td>\n",
       "            </tr><tr>\n",
       "                <td><strong>Stoichiometry</strong></td>\n",
       "                <td>\n",
       "                    <p style='text-align:right'>amet_c + his_L_c --> ahcys_c + mhis_c</p>\n",
       "                    <p style='text-align:right'>M_amet_c + M_his_L_c --> M_ahcys_c + M_mhis_c</p>\n",
       "                </td>\n",
       "            </tr><tr>\n",
       "                <td><strong>GPR</strong></td><td>NGO0746</td>\n",
       "            </tr><tr>\n",
       "                <td><strong>Lower bound</strong></td><td>0.0</td>\n",
       "            </tr><tr>\n",
       "                <td><strong>Upper bound</strong></td><td>999999.0</td>\n",
       "            </tr>\n",
       "        </table>\n",
       "        "
      ],
      "text/plain": [
       "<Reaction HMT at 0x2a33674ddc0>"
      ]
     },
     "execution_count": 83,
     "metadata": {},
     "output_type": "execute_result"
    }
   ],
   "source": [
    "#HMT\n",
    "r = model.reactions.get_by_id('HMT')\n",
    "print(r.check_mass_balance())\n",
    "r"
   ]
  },
  {
   "cell_type": "code",
   "execution_count": 84,
   "metadata": {
    "scrolled": true
   },
   "outputs": [
    {
     "name": "stderr",
     "output_type": "stream",
     "text": [
      "C:\\Users\\Aimee\\anaconda3\\lib\\site-packages\\cobra\\core\\model.py:727: UserWarning: need to pass in a list\n",
      "  warn(\"need to pass in a list\")\n",
      "C:\\Users\\Aimee\\anaconda3\\lib\\site-packages\\cobra\\core\\model.py:738: UserWarning: r not in AE004969.1\n",
      "  warn(\"%s not in %s\" % (reaction, self))\n"
     ]
    }
   ],
   "source": [
    "model.remove_reactions('r')"
   ]
  },
  {
   "cell_type": "code",
   "execution_count": 85,
   "metadata": {
    "scrolled": true
   },
   "outputs": [
    {
     "name": "stdout",
     "output_type": "stream",
     "text": [
      "{'H': -3.0}\n"
     ]
    },
    {
     "data": {
      "text/html": [
       "\n",
       "        <table>\n",
       "            <tr>\n",
       "                <td><strong>Reaction identifier</strong></td><td>MCITS</td>\n",
       "            </tr><tr>\n",
       "                <td><strong>Name</strong></td><td>R_MCITS</td>\n",
       "            </tr><tr>\n",
       "                <td><strong>Memory address</strong></td>\n",
       "                <td>0x02a3367a4f40</td>\n",
       "            </tr><tr>\n",
       "                <td><strong>Stoichiometry</strong></td>\n",
       "                <td>\n",
       "                    <p style='text-align:right'>h2o_c + 2.0 h_c + oaa_c + ppcoa_c --> 2mcit_c + coa_c</p>\n",
       "                    <p style='text-align:right'>M_h2o_c + 2.0 M_h_c + M_oaa_c + M_ppcoa_c --> M_2mcit_c + M_coa_c</p>\n",
       "                </td>\n",
       "            </tr><tr>\n",
       "                <td><strong>GPR</strong></td><td>NGO1525</td>\n",
       "            </tr><tr>\n",
       "                <td><strong>Lower bound</strong></td><td>0.0</td>\n",
       "            </tr><tr>\n",
       "                <td><strong>Upper bound</strong></td><td>999999.0</td>\n",
       "            </tr>\n",
       "        </table>\n",
       "        "
      ],
      "text/plain": [
       "<Reaction MCITS at 0x2a3367a4f40>"
      ]
     },
     "execution_count": 85,
     "metadata": {},
     "output_type": "execute_result"
    }
   ],
   "source": [
    "#MCITS\n",
    "r = model.reactions.get_by_id('MCITS')\n",
    "print(r.check_mass_balance())\n",
    "r"
   ]
  },
  {
   "cell_type": "code",
   "execution_count": 86,
   "metadata": {
    "scrolled": true
   },
   "outputs": [
    {
     "name": "stdout",
     "output_type": "stream",
     "text": [
      "MCITS: h2o_c + oaa_c + ppcoa_c --> 2mcit_c + coa_c + h_c\n",
      "{}\n"
     ]
    }
   ],
   "source": [
    "h_c = model.metabolites.get_by_id('h_c')\n",
    "\n",
    "r.add_metabolites({\n",
    "    h_c: 3.0,\n",
    "})\n",
    "\n",
    "print(r)\n",
    "print(r.check_mass_balance())"
   ]
  },
  {
   "cell_type": "code",
   "execution_count": 87,
   "metadata": {
    "scrolled": true
   },
   "outputs": [
    {
     "name": "stdout",
     "output_type": "stream",
     "text": [
      "{'H': -3.0, 'O': 1.0}\n"
     ]
    },
    {
     "data": {
      "text/html": [
       "\n",
       "        <table>\n",
       "            <tr>\n",
       "                <td><strong>Reaction identifier</strong></td><td>MTHF</td>\n",
       "            </tr><tr>\n",
       "                <td><strong>Name</strong></td><td>R_MTHF</td>\n",
       "            </tr><tr>\n",
       "                <td><strong>Memory address</strong></td>\n",
       "                <td>0x02a3367d6f70</td>\n",
       "            </tr><tr>\n",
       "                <td><strong>Stoichiometry</strong></td>\n",
       "                <td>\n",
       "                    <p style='text-align:right'>5mthf_c --> 10fthf_c</p>\n",
       "                    <p style='text-align:right'>M_5mthf_c --> M_10fthf_c</p>\n",
       "                </td>\n",
       "            </tr><tr>\n",
       "                <td><strong>GPR</strong></td><td>Sgene</td>\n",
       "            </tr><tr>\n",
       "                <td><strong>Lower bound</strong></td><td>0.0</td>\n",
       "            </tr><tr>\n",
       "                <td><strong>Upper bound</strong></td><td>999999.0</td>\n",
       "            </tr>\n",
       "        </table>\n",
       "        "
      ],
      "text/plain": [
       "<Reaction MTHF at 0x2a3367d6f70>"
      ]
     },
     "execution_count": 87,
     "metadata": {},
     "output_type": "execute_result"
    }
   ],
   "source": [
    "#MTHF\n",
    "r = model.reactions.get_by_id('MTHF')\n",
    "print(r.check_mass_balance())\n",
    "r"
   ]
  },
  {
   "cell_type": "code",
   "execution_count": 88,
   "metadata": {
    "scrolled": true
   },
   "outputs": [
    {
     "name": "stdout",
     "output_type": "stream",
     "text": [
      "MTHF: 5mthf_c + h2o_c --> 10fthf_c + 5.0 h_c\n",
      "{}\n"
     ]
    }
   ],
   "source": [
    "#MTHF is a spontaneous reaction. Uncertain how frequently this occurs in nature. \n",
    "#Corrected h2o and hydrogens.\n",
    "h_c = model.metabolites.get_by_id('h_c')\n",
    "h2o_c = model.metabolites.get_by_id('h2o_c')\n",
    "\n",
    "\n",
    "r.add_metabolites({\n",
    "    h_c: 5.0,\n",
    "    h2o_c: -1.0\n",
    "})\n",
    "\n",
    "print(r)\n",
    "print(r.check_mass_balance())"
   ]
  },
  {
   "cell_type": "code",
   "execution_count": 89,
   "metadata": {
    "scrolled": true
   },
   "outputs": [
    {
     "name": "stdout",
     "output_type": "stream",
     "text": [
      "{'C': -1.6999999985500835e-06, 'H': -1.900000000887303e-06, 'N': -4.0000000023354687e-07, 'O': -8.999999998593466e-07, 'P': -1.0000000005838672e-07}\n"
     ]
    },
    {
     "data": {
      "text/html": [
       "\n",
       "        <table>\n",
       "            <tr>\n",
       "                <td><strong>Reaction identifier</strong></td><td>NADHQNa</td>\n",
       "            </tr><tr>\n",
       "                <td><strong>Name</strong></td><td>R_NADHQNa</td>\n",
       "            </tr><tr>\n",
       "                <td><strong>Memory address</strong></td>\n",
       "                <td>0x02a3367e3d30</td>\n",
       "            </tr><tr>\n",
       "                <td><strong>Stoichiometry</strong></td>\n",
       "                <td>\n",
       "                    <p style='text-align:right'>1e-07 fmn_c + h_c + 2.0 na1_c + nadh_c + q8_c --> 2.0 na1_p + nad_c + q8h2_c</p>\n",
       "                    <p style='text-align:right'>1e-07 M_fmn_c + M_h_c + 2.0 M_na1_c + M_nadh_c + M_q8_c --> 2.0 M_na1_p + M_nad_c + M_q8h2_c</p>\n",
       "                </td>\n",
       "            </tr><tr>\n",
       "                <td><strong>GPR</strong></td><td>NGO1418 and NGO1417 and NGO1416 and NGO1415 and NGO1414 and NGO1413</td>\n",
       "            </tr><tr>\n",
       "                <td><strong>Lower bound</strong></td><td>0.0</td>\n",
       "            </tr><tr>\n",
       "                <td><strong>Upper bound</strong></td><td>999999.0</td>\n",
       "            </tr>\n",
       "        </table>\n",
       "        "
      ],
      "text/plain": [
       "<Reaction NADHQNa at 0x2a3367e3d30>"
      ]
     },
     "execution_count": 89,
     "metadata": {},
     "output_type": "execute_result"
    }
   ],
   "source": [
    "#NADHQNa\n",
    "r = model.reactions.get_by_id('NADHQNa')\n",
    "print(r.check_mass_balance())\n",
    "r"
   ]
  },
  {
   "cell_type": "code",
   "execution_count": 90,
   "metadata": {
    "scrolled": true
   },
   "outputs": [
    {
     "name": "stdout",
     "output_type": "stream",
     "text": [
      "NADHQNa: h_c + 2.0 na1_c + nadh_c + q8_c --> 2.0 na1_p + nad_c + q8h2_c\n",
      "{}\n"
     ]
    }
   ],
   "source": [
    "fmn_c = model.metabolites.get_by_id('fmn_c')\n",
    "\n",
    "\n",
    "r.add_metabolites({\n",
    "    fmn_c: 1e-07,\n",
    "})\n",
    "\n",
    "print(r)\n",
    "print(r.check_mass_balance())"
   ]
  },
  {
   "cell_type": "code",
   "execution_count": 91,
   "metadata": {
    "scrolled": true
   },
   "outputs": [
    {
     "name": "stdout",
     "output_type": "stream",
     "text": [
      "57 57 57\n"
     ]
    },
    {
     "data": {
      "text/html": [
       "<div>\n",
       "<style scoped>\n",
       "    .dataframe tbody tr th:only-of-type {\n",
       "        vertical-align: middle;\n",
       "    }\n",
       "\n",
       "    .dataframe tbody tr th {\n",
       "        vertical-align: top;\n",
       "    }\n",
       "\n",
       "    .dataframe thead th {\n",
       "        text-align: right;\n",
       "    }\n",
       "</style>\n",
       "<table border=\"1\" class=\"dataframe\">\n",
       "  <thead>\n",
       "    <tr style=\"text-align: right;\">\n",
       "      <th></th>\n",
       "      <th>Reactions</th>\n",
       "      <th>Charge</th>\n",
       "      <th>Masses</th>\n",
       "    </tr>\n",
       "  </thead>\n",
       "  <tbody>\n",
       "    <tr>\n",
       "      <th>0</th>\n",
       "      <td>3OAS161a</td>\n",
       "      <td></td>\n",
       "      <td>{'C': -12.0, 'H': -21.0, 'N': -2.0, 'O': -9.0,...</td>\n",
       "    </tr>\n",
       "    <tr>\n",
       "      <th>1</th>\n",
       "      <td>AGPAT160e</td>\n",
       "      <td></td>\n",
       "      <td>{'C': 2.0, 'H': 4.0}</td>\n",
       "    </tr>\n",
       "    <tr>\n",
       "      <th>2</th>\n",
       "      <td>ASNSYN</td>\n",
       "      <td></td>\n",
       "      <td>{'H': 2.0, 'O': 2.0}</td>\n",
       "    </tr>\n",
       "    <tr>\n",
       "      <th>3</th>\n",
       "      <td>BTS4</td>\n",
       "      <td></td>\n",
       "      <td>{'S': 1.0}</td>\n",
       "    </tr>\n",
       "    <tr>\n",
       "      <th>4</th>\n",
       "      <td>CYTCS</td>\n",
       "      <td></td>\n",
       "      <td>{'C': 8.0, 'H': 14.0, 'N': 4.0, 'O': 4.0, 'S':...</td>\n",
       "    </tr>\n",
       "    <tr>\n",
       "      <th>5</th>\n",
       "      <td>DASYN141b</td>\n",
       "      <td></td>\n",
       "      <td>{'C': -4.0, 'H': -8.0}</td>\n",
       "    </tr>\n",
       "    <tr>\n",
       "      <th>6</th>\n",
       "      <td>DASYN160e</td>\n",
       "      <td></td>\n",
       "      <td>{'C': -4.0, 'H': -12.0}</td>\n",
       "    </tr>\n",
       "    <tr>\n",
       "      <th>7</th>\n",
       "      <td>DASYN161a</td>\n",
       "      <td></td>\n",
       "      <td>{'H': -1.0}</td>\n",
       "    </tr>\n",
       "    <tr>\n",
       "      <th>8</th>\n",
       "      <td>GARFT2</td>\n",
       "      <td></td>\n",
       "      <td>{'H': -2.0}</td>\n",
       "    </tr>\n",
       "    <tr>\n",
       "      <th>9</th>\n",
       "      <td>GLCTR1</td>\n",
       "      <td></td>\n",
       "      <td>{'O': -5.0}</td>\n",
       "    </tr>\n",
       "    <tr>\n",
       "      <th>10</th>\n",
       "      <td>GNAT2</td>\n",
       "      <td></td>\n",
       "      <td>{'C': 3.0, 'H': 1.0, 'N': -2.0, 'O': 15.0, 'P'...</td>\n",
       "    </tr>\n",
       "    <tr>\n",
       "      <th>11</th>\n",
       "      <td>DDPGA</td>\n",
       "      <td></td>\n",
       "      <td>{'H': 2.0}</td>\n",
       "    </tr>\n",
       "    <tr>\n",
       "      <th>12</th>\n",
       "      <td>HMT</td>\n",
       "      <td></td>\n",
       "      <td>{'H': -1.0}</td>\n",
       "    </tr>\n",
       "    <tr>\n",
       "      <th>13</th>\n",
       "      <td>MAc3</td>\n",
       "      <td></td>\n",
       "      <td>{'O': -2.0}</td>\n",
       "    </tr>\n",
       "    <tr>\n",
       "      <th>14</th>\n",
       "      <td>MDDCP6pp</td>\n",
       "      <td></td>\n",
       "      <td>{'H': 3.0, 'N': -6.0}</td>\n",
       "    </tr>\n",
       "    <tr>\n",
       "      <th>15</th>\n",
       "      <td>MLTGY5pp</td>\n",
       "      <td></td>\n",
       "      <td>{'H': -3.0, 'N': 6.0}</td>\n",
       "    </tr>\n",
       "    <tr>\n",
       "      <th>16</th>\n",
       "      <td>NDPK9</td>\n",
       "      <td></td>\n",
       "      <td>{'H': -3.0}</td>\n",
       "    </tr>\n",
       "    <tr>\n",
       "      <th>17</th>\n",
       "      <td>NTD13</td>\n",
       "      <td></td>\n",
       "      <td>{'H': 1.0}</td>\n",
       "    </tr>\n",
       "    <tr>\n",
       "      <th>18</th>\n",
       "      <td>P3H5CD</td>\n",
       "      <td></td>\n",
       "      <td>{'H': -1.0}</td>\n",
       "    </tr>\n",
       "    <tr>\n",
       "      <th>19</th>\n",
       "      <td>PEAT1</td>\n",
       "      <td></td>\n",
       "      <td>{'C': 8.0, 'H': 12.0}</td>\n",
       "    </tr>\n",
       "    <tr>\n",
       "      <th>20</th>\n",
       "      <td>PGPP141b</td>\n",
       "      <td></td>\n",
       "      <td>{'H': -2.0}</td>\n",
       "    </tr>\n",
       "    <tr>\n",
       "      <th>21</th>\n",
       "      <td>PGPP141bpp</td>\n",
       "      <td></td>\n",
       "      <td>{'H': -2.0}</td>\n",
       "    </tr>\n",
       "    <tr>\n",
       "      <th>22</th>\n",
       "      <td>PGPP160b</td>\n",
       "      <td></td>\n",
       "      <td>{'H': -2.0}</td>\n",
       "    </tr>\n",
       "    <tr>\n",
       "      <th>23</th>\n",
       "      <td>PGPP160bpp</td>\n",
       "      <td></td>\n",
       "      <td>{'H': -2.0}</td>\n",
       "    </tr>\n",
       "    <tr>\n",
       "      <th>24</th>\n",
       "      <td>PGPP160c</td>\n",
       "      <td></td>\n",
       "      <td>{'H': -2.0}</td>\n",
       "    </tr>\n",
       "    <tr>\n",
       "      <th>25</th>\n",
       "      <td>PGPP160cpp</td>\n",
       "      <td></td>\n",
       "      <td>{'H': -2.0}</td>\n",
       "    </tr>\n",
       "    <tr>\n",
       "      <th>26</th>\n",
       "      <td>PGPP160e</td>\n",
       "      <td></td>\n",
       "      <td>{'H': -2.0}</td>\n",
       "    </tr>\n",
       "    <tr>\n",
       "      <th>27</th>\n",
       "      <td>PGPP160epp</td>\n",
       "      <td></td>\n",
       "      <td>{'H': -2.0}</td>\n",
       "    </tr>\n",
       "    <tr>\n",
       "      <th>28</th>\n",
       "      <td>PGSA141b</td>\n",
       "      <td></td>\n",
       "      <td>{'H': 4.0}</td>\n",
       "    </tr>\n",
       "    <tr>\n",
       "      <th>29</th>\n",
       "      <td>PGSA160a</td>\n",
       "      <td></td>\n",
       "      <td>{'H': 4.0}</td>\n",
       "    </tr>\n",
       "    <tr>\n",
       "      <th>30</th>\n",
       "      <td>PGSA160b</td>\n",
       "      <td></td>\n",
       "      <td>{'H': 4.0}</td>\n",
       "    </tr>\n",
       "    <tr>\n",
       "      <th>31</th>\n",
       "      <td>PGSA160c</td>\n",
       "      <td></td>\n",
       "      <td>{'H': 4.0}</td>\n",
       "    </tr>\n",
       "    <tr>\n",
       "      <th>32</th>\n",
       "      <td>PGSA160e</td>\n",
       "      <td></td>\n",
       "      <td>{'H': 4.0}</td>\n",
       "    </tr>\n",
       "    <tr>\n",
       "      <th>33</th>\n",
       "      <td>PGSA161a</td>\n",
       "      <td></td>\n",
       "      <td>{'H': 1.0}</td>\n",
       "    </tr>\n",
       "    <tr>\n",
       "      <th>34</th>\n",
       "      <td>PHEMEFErel</td>\n",
       "      <td></td>\n",
       "      <td>{'H': 4.0}</td>\n",
       "    </tr>\n",
       "    <tr>\n",
       "      <th>35</th>\n",
       "      <td>PLIPA1A160e</td>\n",
       "      <td></td>\n",
       "      <td>{'C': -2.0, 'H': -4.0}</td>\n",
       "    </tr>\n",
       "    <tr>\n",
       "      <th>36</th>\n",
       "      <td>PLIPA1E141b</td>\n",
       "      <td></td>\n",
       "      <td>{'C': 4.0, 'H': 7.0}</td>\n",
       "    </tr>\n",
       "    <tr>\n",
       "      <th>37</th>\n",
       "      <td>PLIPA1E160a</td>\n",
       "      <td></td>\n",
       "      <td>{'H': -1.0}</td>\n",
       "    </tr>\n",
       "    <tr>\n",
       "      <th>38</th>\n",
       "      <td>PLIPA1E160b</td>\n",
       "      <td></td>\n",
       "      <td>{'H': -1.0}</td>\n",
       "    </tr>\n",
       "    <tr>\n",
       "      <th>39</th>\n",
       "      <td>PLIPA1E160c</td>\n",
       "      <td></td>\n",
       "      <td>{'H': -1.0}</td>\n",
       "    </tr>\n",
       "    <tr>\n",
       "      <th>40</th>\n",
       "      <td>PLIPA1E160e</td>\n",
       "      <td></td>\n",
       "      <td>{'C': 2.0, 'H': 7.0}</td>\n",
       "    </tr>\n",
       "    <tr>\n",
       "      <th>41</th>\n",
       "      <td>PLIPA1G141b</td>\n",
       "      <td></td>\n",
       "      <td>{'C': 4.0, 'H': 5.0}</td>\n",
       "    </tr>\n",
       "    <tr>\n",
       "      <th>42</th>\n",
       "      <td>PLIPA1G160a</td>\n",
       "      <td></td>\n",
       "      <td>{'H': -5.0}</td>\n",
       "    </tr>\n",
       "    <tr>\n",
       "      <th>43</th>\n",
       "      <td>PLIPA1G160b</td>\n",
       "      <td></td>\n",
       "      <td>{'H': -3.0}</td>\n",
       "    </tr>\n",
       "    <tr>\n",
       "      <th>44</th>\n",
       "      <td>PLIPA1G160c</td>\n",
       "      <td></td>\n",
       "      <td>{'H': -3.0}</td>\n",
       "    </tr>\n",
       "    <tr>\n",
       "      <th>45</th>\n",
       "      <td>PLIPA1G160e</td>\n",
       "      <td></td>\n",
       "      <td>{'C': 2.0, 'H': 5.0}</td>\n",
       "    </tr>\n",
       "    <tr>\n",
       "      <th>46</th>\n",
       "      <td>PLIPA1G161a</td>\n",
       "      <td></td>\n",
       "      <td>{'H': -1.0}</td>\n",
       "    </tr>\n",
       "    <tr>\n",
       "      <th>47</th>\n",
       "      <td>PMCOAS</td>\n",
       "      <td></td>\n",
       "      <td>{'C': 7.0, 'H': 9.0, 'O': 3.0}</td>\n",
       "    </tr>\n",
       "    <tr>\n",
       "      <th>48</th>\n",
       "      <td>SAMC</td>\n",
       "      <td></td>\n",
       "      <td>{'H': 1.0}</td>\n",
       "    </tr>\n",
       "    <tr>\n",
       "      <th>49</th>\n",
       "      <td>SHSL2</td>\n",
       "      <td></td>\n",
       "      <td>{'H': -1.0}</td>\n",
       "    </tr>\n",
       "    <tr>\n",
       "      <th>50</th>\n",
       "      <td>SHSL3</td>\n",
       "      <td></td>\n",
       "      <td>{'H': -1.0}</td>\n",
       "    </tr>\n",
       "    <tr>\n",
       "      <th>51</th>\n",
       "      <td>SHSL4</td>\n",
       "      <td></td>\n",
       "      <td>{'H': -2.0}</td>\n",
       "    </tr>\n",
       "    <tr>\n",
       "      <th>52</th>\n",
       "      <td>SHSL5</td>\n",
       "      <td></td>\n",
       "      <td>{'H': -1.0}</td>\n",
       "    </tr>\n",
       "    <tr>\n",
       "      <th>53</th>\n",
       "      <td>SIALT1</td>\n",
       "      <td></td>\n",
       "      <td>{'C': -11.0, 'H': -18.0, 'N': -1.0, 'O': -8.0}</td>\n",
       "    </tr>\n",
       "    <tr>\n",
       "      <th>54</th>\n",
       "      <td>TFFE</td>\n",
       "      <td></td>\n",
       "      <td>{'Fe': 1.0}</td>\n",
       "    </tr>\n",
       "    <tr>\n",
       "      <th>55</th>\n",
       "      <td>TRDR1</td>\n",
       "      <td></td>\n",
       "      <td>{'X': 1.0}</td>\n",
       "    </tr>\n",
       "    <tr>\n",
       "      <th>56</th>\n",
       "      <td>TSULST</td>\n",
       "      <td></td>\n",
       "      <td>{'H': -2.0}</td>\n",
       "    </tr>\n",
       "  </tbody>\n",
       "</table>\n",
       "</div>"
      ],
      "text/plain": [
       "      Reactions Charge                                             Masses\n",
       "0      3OAS161a         {'C': -12.0, 'H': -21.0, 'N': -2.0, 'O': -9.0,...\n",
       "1     AGPAT160e                                      {'C': 2.0, 'H': 4.0}\n",
       "2        ASNSYN                                      {'H': 2.0, 'O': 2.0}\n",
       "3          BTS4                                                {'S': 1.0}\n",
       "4         CYTCS         {'C': 8.0, 'H': 14.0, 'N': 4.0, 'O': 4.0, 'S':...\n",
       "5     DASYN141b                                    {'C': -4.0, 'H': -8.0}\n",
       "6     DASYN160e                                   {'C': -4.0, 'H': -12.0}\n",
       "7     DASYN161a                                               {'H': -1.0}\n",
       "8        GARFT2                                               {'H': -2.0}\n",
       "9        GLCTR1                                               {'O': -5.0}\n",
       "10        GNAT2         {'C': 3.0, 'H': 1.0, 'N': -2.0, 'O': 15.0, 'P'...\n",
       "11        DDPGA                                                {'H': 2.0}\n",
       "12          HMT                                               {'H': -1.0}\n",
       "13         MAc3                                               {'O': -2.0}\n",
       "14     MDDCP6pp                                     {'H': 3.0, 'N': -6.0}\n",
       "15     MLTGY5pp                                     {'H': -3.0, 'N': 6.0}\n",
       "16        NDPK9                                               {'H': -3.0}\n",
       "17        NTD13                                                {'H': 1.0}\n",
       "18       P3H5CD                                               {'H': -1.0}\n",
       "19        PEAT1                                     {'C': 8.0, 'H': 12.0}\n",
       "20     PGPP141b                                               {'H': -2.0}\n",
       "21   PGPP141bpp                                               {'H': -2.0}\n",
       "22     PGPP160b                                               {'H': -2.0}\n",
       "23   PGPP160bpp                                               {'H': -2.0}\n",
       "24     PGPP160c                                               {'H': -2.0}\n",
       "25   PGPP160cpp                                               {'H': -2.0}\n",
       "26     PGPP160e                                               {'H': -2.0}\n",
       "27   PGPP160epp                                               {'H': -2.0}\n",
       "28     PGSA141b                                                {'H': 4.0}\n",
       "29     PGSA160a                                                {'H': 4.0}\n",
       "30     PGSA160b                                                {'H': 4.0}\n",
       "31     PGSA160c                                                {'H': 4.0}\n",
       "32     PGSA160e                                                {'H': 4.0}\n",
       "33     PGSA161a                                                {'H': 1.0}\n",
       "34   PHEMEFErel                                                {'H': 4.0}\n",
       "35  PLIPA1A160e                                    {'C': -2.0, 'H': -4.0}\n",
       "36  PLIPA1E141b                                      {'C': 4.0, 'H': 7.0}\n",
       "37  PLIPA1E160a                                               {'H': -1.0}\n",
       "38  PLIPA1E160b                                               {'H': -1.0}\n",
       "39  PLIPA1E160c                                               {'H': -1.0}\n",
       "40  PLIPA1E160e                                      {'C': 2.0, 'H': 7.0}\n",
       "41  PLIPA1G141b                                      {'C': 4.0, 'H': 5.0}\n",
       "42  PLIPA1G160a                                               {'H': -5.0}\n",
       "43  PLIPA1G160b                                               {'H': -3.0}\n",
       "44  PLIPA1G160c                                               {'H': -3.0}\n",
       "45  PLIPA1G160e                                      {'C': 2.0, 'H': 5.0}\n",
       "46  PLIPA1G161a                                               {'H': -1.0}\n",
       "47       PMCOAS                            {'C': 7.0, 'H': 9.0, 'O': 3.0}\n",
       "48         SAMC                                                {'H': 1.0}\n",
       "49        SHSL2                                               {'H': -1.0}\n",
       "50        SHSL3                                               {'H': -1.0}\n",
       "51        SHSL4                                               {'H': -2.0}\n",
       "52        SHSL5                                               {'H': -1.0}\n",
       "53       SIALT1            {'C': -11.0, 'H': -18.0, 'N': -1.0, 'O': -8.0}\n",
       "54         TFFE                                               {'Fe': 1.0}\n",
       "55        TRDR1                                                {'X': 1.0}\n",
       "56       TSULST                                               {'H': -2.0}"
      ]
     },
     "execution_count": 91,
     "metadata": {},
     "output_type": "execute_result"
    }
   ],
   "source": [
    "#Imbalance progress\n",
    "reactions = []\n",
    "charge = []\n",
    "mass = []\n",
    "for react in model.reactions:\n",
    "    result = react.check_mass_balance()\n",
    "    if 'EX_' in  react.id:\n",
    "        continue\n",
    "    if 'Nm_' in  react.id:\n",
    "        continue\n",
    "    if 'DM_' in  react.id:\n",
    "        continue \n",
    "    if react.id in biomass_reactions:\n",
    "        continue\n",
    "    if len(result) == 0:\n",
    "        continue\n",
    "    else: \n",
    "        reactions.append(react.id)\n",
    "        masses = {}\n",
    "        for key in result.keys():\n",
    "            if key == 'charge':\n",
    "                charge.append(result['charge'])\n",
    "            else:\n",
    "                masses[key] = result[key]\n",
    "        if 'charge' not in result.keys():\n",
    "            charge.append('')\n",
    "        mass.append(masses)\n",
    "print(len(reactions), len(charge), len(mass))\n",
    "\n",
    "mass_charge_dict = {'Reactions': reactions, 'Charge': charge, 'Masses': mass}\n",
    "mass_charge = pandas.DataFrame(mass_charge_dict)\n",
    "mass_charge.to_csv('imbalancesprogress.csv')\n",
    "mass_charge"
   ]
  },
  {
   "cell_type": "code",
   "execution_count": 92,
   "metadata": {},
   "outputs": [
    {
     "data": {
      "text/plain": [
       "0.26787001097449614"
      ]
     },
     "execution_count": 92,
     "metadata": {},
     "output_type": "execute_result"
    }
   ],
   "source": [
    "model.slim_optimize()"
   ]
  },
  {
   "cell_type": "code",
   "execution_count": 93,
   "metadata": {
    "scrolled": true
   },
   "outputs": [
    {
     "name": "stdout",
     "output_type": "stream",
     "text": [
      "PLIPIDS: 0.001857 pa120_p + 0.001157 pa140_p + 0.001202 pa141_p + 0.003838 pa160_p + 0.006675 pa161_p + 0.000484 pa180_p + 0.0008971 pa181_p + 0.004466 pe120_p + 0.010539 pe140_p + 0.002913 pe141_p + 0.004721 pe141b_p + 0.009371 pe160_p + 0.01007 pe160a_p + 0.02591 pe160c_p + 0.0186 pe160e_p + 0.01562 pe161_p + 0.001189 pe180_p + 0.022 pe181_p + 0.001551 pg120_p + 0.001283 pg140_p + 0.001016 pg141_p + 0.001668 pg141b_p + 0.003285 pg160_p + 0.002712 pg160a_p + 0.001644 pg160b_p + 0.006129 pg160c_p + 0.006099 pg161_p + 0.000418 pg180_p + 0.000774 pg181_p <=> 0.1483 lipid_NM_p\n"
     ]
    }
   ],
   "source": [
    "r= model.reactions.get_by_id('PLIPIDS')\n",
    "print(r)"
   ]
  },
  {
   "cell_type": "code",
   "execution_count": 94,
   "metadata": {
    "scrolled": true
   },
   "outputs": [
    {
     "name": "stdout",
     "output_type": "stream",
     "text": [
      "PLIPIDS: 0.000503555042155509 pa120_p + 0.000371731800974898 pa141_p + 0.00207597350252432 pa160_p + 0.00564538392418283 pa161_p + 0.000290080640591335 pa180_p + 0.00216477129604764 pa181_p + 0.00234345993674653 pe120_p + 0.0025598346977071 pe140_p + 0.00821977537556325 pe141_p + 0.055748823259178 pe160_p + 0.0255682154771119 pe161_p + 0.00137834776769998 pe180_p + 0.0102822273478348 pe181_p + 0.000703620745734723 pg120_p + 3.03207570481577e-05 pg140_p + 0.00290595573235281 pg141_p + 0.0122303684865845 pg160_p + 0.00862596402374158 pg161_p + 0.000418944804169265 pg180_p + 0.00312454317572049 pg181_p <=> 0.1483 lipid_NM_p\n"
     ]
    }
   ],
   "source": [
    "#Phospholipids adjusted for Gc specific values based on \"Biomass composition from nmb_itm560 updated for Gc\" spreadsheet\n",
    "r= model.reactions.get_by_id('PLIPIDS')\n",
    "\n",
    "pe141b_p= model.metabolites.get_by_id('pe141b_p')\n",
    "pe160a_p= model.metabolites.get_by_id('pe160a_p')\n",
    "pe160c_p= model.metabolites.get_by_id('pe160c_p')\n",
    "pe160e_p= model.metabolites.get_by_id('pe160e_p')\n",
    "pg141b_p= model.metabolites.get_by_id('pg141b_p')\n",
    "pg160a_p= model.metabolites.get_by_id('pg160a_p')\n",
    "pg160b_p= model.metabolites.get_by_id('pg160b_p')\n",
    "pg160c_p= model.metabolites.get_by_id('pg160c_p')\n",
    "\n",
    "pa120_p= model.metabolites.get_by_id('pa120_p')\n",
    "pa140_p= model.metabolites.get_by_id('pa140_p')\n",
    "pa141_p= model.metabolites.get_by_id('pa141_p')\n",
    "pa160_p= model.metabolites.get_by_id('pa160_p')\n",
    "pa161_p= model.metabolites.get_by_id('pa161_p')\n",
    "pa180_p= model.metabolites.get_by_id('pa180_p')\n",
    "pa181_p= model.metabolites.get_by_id('pa181_p')\n",
    "\n",
    "pe120_p= model.metabolites.get_by_id('pe120_p')\n",
    "pe140_p= model.metabolites.get_by_id('pe140_p')\n",
    "pe141_p= model.metabolites.get_by_id('pe141_p')\n",
    "pe160_p= model.metabolites.get_by_id('pe160_p')\n",
    "pe161_p= model.metabolites.get_by_id('pe161_p')\n",
    "pe180_p= model.metabolites.get_by_id('pe180_p')\n",
    "pe181_p= model.metabolites.get_by_id('pe181_p')\n",
    "\n",
    "pg120_p= model.metabolites.get_by_id('pg120_p')\n",
    "pg140_p= model.metabolites.get_by_id('pg140_p')\n",
    "pg141_p= model.metabolites.get_by_id('pg141_p')\n",
    "pg160_p= model.metabolites.get_by_id('pg160_p')\n",
    "pg161_p= model.metabolites.get_by_id('pg161_p')\n",
    "pg180_p= model.metabolites.get_by_id('pg180_p')\n",
    "pg181_p= model.metabolites.get_by_id('pg181_p')\n",
    "\n",
    "\n",
    "r.add_metabolites({\n",
    " \n",
    "    pa120_p:  0.001857, \n",
    "    pa140_p: 0.001157 ,\n",
    "    pa160_p: 0.003838,\n",
    "    pa180_p:  0.000484,\n",
    "    pa141_p: 0.001202 ,\n",
    "    pa161_p: 0.006675,\n",
    "    pa181_p: 0.0008971, \n",
    "    pe120_p: 0.004466 ,\n",
    "    pe140_p: 0.010539 ,\n",
    "    pe141b_p: 0.004721, \n",
    "    pe160_p: 0.009371 ,\n",
    "    pe160a_p: 0.01007 ,\n",
    "    pe160c_p: 0.02591 ,\n",
    "    pe160e_p: 0.0186,\n",
    "    pe180_p: 0.001189, \n",
    "    pe141_p: 0.002913 ,\n",
    "    pe161_p: 0.01562 ,\n",
    "    pe181_p:  0.022 ,\n",
    "    pg120_p: 0.001551 ,\n",
    "    pg140_p: 0.001283 ,\n",
    "    pg160_p: 0.003285 ,\n",
    "    pg160a_p:  0.002712, \n",
    "    pg160b_p: 0.001644 ,\n",
    "    pg160c_p:  0.006129, \n",
    "    pg161_p: 0.006099 ,\n",
    "    pg181_p: 0.000774 ,\n",
    "    pg180_p: 0.000418 ,\n",
    "    pg141_p: 0.001016 ,\n",
    "    pg141b_p: 0.001668, })\n",
    "\n",
    "  \n",
    "r.add_metabolites({   \n",
    "    pa120_p: -0.000503555042155509,\n",
    "    pa160_p: -0.00207597350252432 ,\n",
    "    pa180_p: -0.000290080640591335,\n",
    "    pa141_p: -0.000371731800974898 ,\n",
    "    pa161_p: -0.00564538392418283 ,\n",
    "    pa181_p: -0.00216477129604764 ,\n",
    "    pe120_p: -0.00234345993674653 ,\n",
    "    pe140_p: -0.0025598346977071 ,\n",
    "    pe160_p: -0.055748823259178,\n",
    "    pe180_p: -0.00137834776769998,\n",
    "    pe141_p: -0.00821977537556325,\n",
    "    pe161_p: -0.0255682154771119,\n",
    "    pe181_p: -0.0102822273478348 ,\n",
    "    pg120_p: -0.000703620745734723,\n",
    "    pg140_p: -3.03207570481577E-05,\n",
    "    pg160_p: -0.0122303684865845,\n",
    "    pg180_p: -0.000418944804169265,\n",
    "    pg141_p: -0.00290595573235281,\n",
    "    pg161_p: -0.00862596402374158,\n",
    "    pg181_p: -0.00312454317572049,\n",
    "})\n",
    "\n",
    "print(r)"
   ]
  },
  {
   "cell_type": "code",
   "execution_count": 95,
   "metadata": {},
   "outputs": [
    {
     "data": {
      "text/plain": [
       "0.26787001097449614"
      ]
     },
     "execution_count": 95,
     "metadata": {},
     "output_type": "execute_result"
    }
   ],
   "source": [
    "model.slim_optimize()"
   ]
  },
  {
   "cell_type": "code",
   "execution_count": 96,
   "metadata": {},
   "outputs": [
    {
     "name": "stdout",
     "output_type": "stream",
     "text": [
      "PLIPIDS_ESS: 0.001857 pa120_p + 0.001157 pa140_p + 0.001202 pa141_p + 0.003838 pa160_p + 0.006675 pa161_p + 0.000484 pa180_p + 0.0008971 pa181_p + 0.001551 pg120_p + 0.001283 pg140_p + 0.001016 pg141_p + 0.001668 pg141b_p + 0.003285 pg160_p + 0.002712 pg160a_p + 0.001644 pg160b_p + 0.006129 pg160c_p + 0.006099 pg161_p + 0.000418 pg180_p + 0.000774 pg181_p <=> 0.04269 esslipid_NM_p\n"
     ]
    }
   ],
   "source": [
    "r=model.reactions.get_by_id('PLIPIDS_ESS')\n",
    "print(r)"
   ]
  },
  {
   "cell_type": "code",
   "execution_count": 97,
   "metadata": {
    "scrolled": true
   },
   "outputs": [
    {
     "name": "stdout",
     "output_type": "stream",
     "text": [
      "PLIPIDS_ESS: 0.000503555042155509 pa120_p + 0.000371731800974898 pa141_p + 0.00207597350252432 pa160_p + 0.00564538392418283 pa161_p + 0.000290080640591335 pa180_p + 0.00216477129604764 pa181_p + 0.000703620745734723 pg120_p + 3.03207570481577e-05 pg140_p + 0.00290595573235281 pg141_p + 0.0122303684865845 pg160_p + 0.00862596402374158 pg161_p + 0.000418944804169265 pg180_p + 0.00312454317572049 pg181_p <=> 0.04269 esslipid_NM_p\n"
     ]
    }
   ],
   "source": [
    "r= model.reactions.get_by_id('PLIPIDS_ESS')\n",
    "\n",
    "pg141b_p= model.metabolites.get_by_id('pg141b_p')\n",
    "pg160a_p= model.metabolites.get_by_id('pg160a_p')\n",
    "pg160b_p= model.metabolites.get_by_id('pg160b_p')\n",
    "pg160c_p= model.metabolites.get_by_id('pg160c_p')\n",
    "\n",
    "pe141b_p= model.metabolites.get_by_id('pe141b_p')\n",
    "pe160a_p= model.metabolites.get_by_id('pe160a_p')\n",
    "pe160c_p= model.metabolites.get_by_id('pe160c_p')\n",
    "pe160e_p= model.metabolites.get_by_id('pe160e_p')\n",
    "pg141b_p= model.metabolites.get_by_id('pg141b_p')\n",
    "pg160a_p= model.metabolites.get_by_id('pg160a_p')\n",
    "pg160b_p= model.metabolites.get_by_id('pg160b_p')\n",
    "pg160c_p= model.metabolites.get_by_id('pg160c_p')\n",
    "\n",
    "pa120_p= model.metabolites.get_by_id('pa120_p')\n",
    "pa140_p= model.metabolites.get_by_id('pa140_p')\n",
    "pa141_p= model.metabolites.get_by_id('pa141_p')\n",
    "pa160_p= model.metabolites.get_by_id('pa160_p')\n",
    "pa161_p= model.metabolites.get_by_id('pa161_p')\n",
    "pa180_p= model.metabolites.get_by_id('pa180_p')\n",
    "pa181_p= model.metabolites.get_by_id('pa181_p')\n",
    "\n",
    "pe120_p= model.metabolites.get_by_id('pe120_p')\n",
    "pe140_p= model.metabolites.get_by_id('pe140_p')\n",
    "pe141_p= model.metabolites.get_by_id('pe141_p')\n",
    "pe160_p= model.metabolites.get_by_id('pe160_p')\n",
    "pe161_p= model.metabolites.get_by_id('pe161_p')\n",
    "pe180_p= model.metabolites.get_by_id('pe180_p')\n",
    "pe181_p= model.metabolites.get_by_id('pe181_p')\n",
    "\n",
    "pg120_p= model.metabolites.get_by_id('pg120_p')\n",
    "pg140_p= model.metabolites.get_by_id('pg140_p')\n",
    "pg141_p= model.metabolites.get_by_id('pg141_p')\n",
    "pg160_p= model.metabolites.get_by_id('pg160_p')\n",
    "pg161_p= model.metabolites.get_by_id('pg161_p')\n",
    "pg180_p= model.metabolites.get_by_id('pg180_p')\n",
    "pg181_p= model.metabolites.get_by_id('pg181_p')\n",
    "\n",
    "\n",
    "r.add_metabolites({\n",
    " \n",
    "    pa120_p:  0.001857, \n",
    "    pa140_p: 0.001157 ,\n",
    "    pa141_p: 0.001202 ,\n",
    "    pa160_p: 0.003838,\n",
    "    pa161_p: 0.006675,\n",
    "    pa180_p:  0.000484,\n",
    "    pa181_p: 0.0008971, \n",
    "\n",
    "    pg120_p: 0.001551 ,\n",
    "    pg140_p: 0.001283 ,\n",
    "    pg160_p: 0.003285 ,\n",
    "    pg160a_p:  0.002712, \n",
    "    pg160b_p: 0.001644 ,\n",
    "    pg160c_p:  0.006129, \n",
    "    pg161_p: 0.006099 ,\n",
    "    pg181_p: 0.000774 ,\n",
    "    pg180_p: 0.000418 ,\n",
    "    pg141_p: 0.001016 ,\n",
    "    pg141b_p: 0.001668, })\n",
    "\n",
    "  \n",
    "r.add_metabolites({ \n",
    "    pa120_p: -0.000503555042155509,\n",
    "    \n",
    "    pa141_p: -0.000371731800974898 ,\n",
    "    pa160_p: -0.00207597350252432 ,\n",
    "    pa161_p: -0.00564538392418283 ,\n",
    "    pa180_p: -0.000290080640591335,\n",
    "    pa181_p: -0.00216477129604764 ,\n",
    "  \n",
    "    pg120_p: -0.000703620745734723,\n",
    "    pg140_p: -3.03207570481577E-05,\n",
    "    pg141_p: -0.00290595573235281,\n",
    "    pg160_p: -0.0122303684865845,\n",
    "    pg161_p: -0.00862596402374158,\n",
    "    pg180_p: -0.000418944804169265,\n",
    "    pg181_p: -0.00312454317572049, })\n",
    "\n",
    "print(r)"
   ]
  },
  {
   "cell_type": "code",
   "execution_count": 98,
   "metadata": {},
   "outputs": [
    {
     "data": {
      "text/plain": [
       "0.26369251928851956"
      ]
     },
     "execution_count": 98,
     "metadata": {},
     "output_type": "execute_result"
    }
   ],
   "source": [
    "model.slim_optimize()"
   ]
  },
  {
   "cell_type": "code",
   "execution_count": 99,
   "metadata": {
    "scrolled": true
   },
   "outputs": [
    {
     "name": "stderr",
     "output_type": "stream",
     "text": [
      "C:\\Users\\Aimee\\anaconda3\\lib\\site-packages\\cobra\\core\\model.py:727: UserWarning: need to pass in a list\n",
      "  warn(\"need to pass in a list\")\n"
     ]
    }
   ],
   "source": [
    "model.remove_reactions('AGPAT141b')\n",
    "#model.remove_reactions('AGPAT160a')\n",
    "model.remove_reactions('AGPAT160b')\n",
    "model.remove_reactions('AGPAT160c')\n",
    "model.remove_reactions('AGPAT160e')\n",
    "\n",
    "\n"
   ]
  },
  {
   "cell_type": "code",
   "execution_count": 100,
   "metadata": {},
   "outputs": [
    {
     "data": {
      "text/plain": [
       "0.26369251928851023"
      ]
     },
     "execution_count": 100,
     "metadata": {},
     "output_type": "execute_result"
    }
   ],
   "source": [
    "model.slim_optimize()"
   ]
  },
  {
   "cell_type": "code",
   "execution_count": 101,
   "metadata": {},
   "outputs": [],
   "source": [
    "#model.remove_reactions('AGPAT161a')  can't be deleted. Makes pa161\n",
    "\n",
    "model.remove_reactions('DASYN160a')\n",
    "model.remove_reactions('DASYN160b')\n",
    "model.remove_reactions('DASYN160c')\n",
    "model.remove_reactions('DASYN160e')\n",
    "#model.remove_reactions('DASYN161a')\n",
    "model.remove_reactions('DASYN141b')\n",
    "\n"
   ]
  },
  {
   "cell_type": "code",
   "execution_count": 102,
   "metadata": {},
   "outputs": [
    {
     "data": {
      "text/plain": [
       "0.2636925192884709"
      ]
     },
     "execution_count": 102,
     "metadata": {},
     "output_type": "execute_result"
    }
   ],
   "source": [
    "model.slim_optimize()"
   ]
  },
  {
   "cell_type": "code",
   "execution_count": 103,
   "metadata": {},
   "outputs": [],
   "source": [
    "model.remove_reactions('PGPP141b')\n",
    "model.remove_reactions('PGPP160a')\n",
    "model.remove_reactions('PGPP160b')\n",
    "model.remove_reactions('PGPP160c')\n",
    "model.remove_reactions('PGPP160e')\n",
    "#model.remove_reactions('PGPP161a')"
   ]
  },
  {
   "cell_type": "code",
   "execution_count": 104,
   "metadata": {},
   "outputs": [
    {
     "data": {
      "text/plain": [
       "0.2636925192884534"
      ]
     },
     "execution_count": 104,
     "metadata": {},
     "output_type": "execute_result"
    }
   ],
   "source": [
    "model.slim_optimize()"
   ]
  },
  {
   "cell_type": "code",
   "execution_count": 105,
   "metadata": {},
   "outputs": [],
   "source": [
    "model.remove_reactions('PGPP160app')\n",
    "model.remove_reactions('PGPP160bpp')\n",
    "model.remove_reactions('PGPP160cpp')\n",
    "model.remove_reactions('PGPP160epp')\n",
    "#model.remove_reactions('PGPP161app')\n",
    "model.remove_reactions('PGPP141bpp')"
   ]
  },
  {
   "cell_type": "code",
   "execution_count": 106,
   "metadata": {},
   "outputs": [
    {
     "data": {
      "text/plain": [
       "0.26369251928855075"
      ]
     },
     "execution_count": 106,
     "metadata": {},
     "output_type": "execute_result"
    }
   ],
   "source": [
    "model.slim_optimize()"
   ]
  },
  {
   "cell_type": "code",
   "execution_count": 107,
   "metadata": {},
   "outputs": [],
   "source": [
    "model.remove_reactions('PGSA160a')\n",
    "model.remove_reactions('PGSA160b')\n",
    "model.remove_reactions('PGSA160c')\n",
    "model.remove_reactions('PGSA160e')\n",
    "#model.remove_reactions('PGSA161a')\n",
    "model.remove_reactions('PGSA141b')"
   ]
  },
  {
   "cell_type": "code",
   "execution_count": 108,
   "metadata": {},
   "outputs": [
    {
     "data": {
      "text/plain": [
       "0.26369251928845644"
      ]
     },
     "execution_count": 108,
     "metadata": {},
     "output_type": "execute_result"
    }
   ],
   "source": [
    "model.slim_optimize()"
   ]
  },
  {
   "cell_type": "code",
   "execution_count": 109,
   "metadata": {},
   "outputs": [],
   "source": [
    "model.remove_reactions('PLIPA1A160a')\n",
    "model.remove_reactions('PLIPA1A160b')\n",
    "model.remove_reactions('PLIPA1A160c')\n",
    "model.remove_reactions('PLIPA1A160e')\n",
    "#model.remove_reactions('PLIPA1A161a')\n",
    "model.remove_reactions('PLIPA1A141b')"
   ]
  },
  {
   "cell_type": "code",
   "execution_count": 110,
   "metadata": {},
   "outputs": [
    {
     "data": {
      "text/plain": [
       "0.2636925192880822"
      ]
     },
     "execution_count": 110,
     "metadata": {},
     "output_type": "execute_result"
    }
   ],
   "source": [
    "model.slim_optimize()"
   ]
  },
  {
   "cell_type": "code",
   "execution_count": 111,
   "metadata": {},
   "outputs": [],
   "source": [
    "model.remove_reactions('PLIPA1E160a')\n",
    "model.remove_reactions('PLIPA1E160b')\n",
    "model.remove_reactions('PLIPA1E160c')\n",
    "model.remove_reactions('PLIPA1E160e')\n",
    "#model.remove_reactions('PLIPA1E161a')\n",
    "model.remove_reactions('PLIPA1E141b')"
   ]
  },
  {
   "cell_type": "code",
   "execution_count": 112,
   "metadata": {},
   "outputs": [
    {
     "data": {
      "text/plain": [
       "0.2636925192885352"
      ]
     },
     "execution_count": 112,
     "metadata": {},
     "output_type": "execute_result"
    }
   ],
   "source": [
    "model.slim_optimize()"
   ]
  },
  {
   "cell_type": "code",
   "execution_count": 113,
   "metadata": {},
   "outputs": [],
   "source": [
    "model.remove_reactions('PLIPA1G160a')\n",
    "model.remove_reactions('PLIPA1G160b')\n",
    "model.remove_reactions('PLIPA1G160c')\n",
    "model.remove_reactions('PLIPA1G160e')\n",
    "#model.remove_reactions('PLIPA1G161a')\n",
    "model.remove_reactions('PLIPA1G141b')"
   ]
  },
  {
   "cell_type": "code",
   "execution_count": 114,
   "metadata": {},
   "outputs": [
    {
     "data": {
      "text/plain": [
       "0.2636925192885687"
      ]
     },
     "execution_count": 114,
     "metadata": {},
     "output_type": "execute_result"
    }
   ],
   "source": [
    "model.slim_optimize()"
   ]
  },
  {
   "cell_type": "code",
   "execution_count": 115,
   "metadata": {},
   "outputs": [],
   "source": [
    "model.remove_reactions('PSD160a')\n",
    "model.remove_reactions('PSD160b')\n",
    "model.remove_reactions('PSD160c')\n",
    "model.remove_reactions('PSD160e')\n",
    "#model.remove_reactions('PSD161a')\n",
    "model.remove_reactions('PSD141b')"
   ]
  },
  {
   "cell_type": "code",
   "execution_count": 116,
   "metadata": {},
   "outputs": [
    {
     "data": {
      "text/plain": [
       "0.26369251928858745"
      ]
     },
     "execution_count": 116,
     "metadata": {},
     "output_type": "execute_result"
    }
   ],
   "source": [
    "model.slim_optimize()"
   ]
  },
  {
   "cell_type": "code",
   "execution_count": 117,
   "metadata": {},
   "outputs": [],
   "source": [
    "model.remove_reactions('PSSA160a')\n",
    "model.remove_reactions('PSSA160b')\n",
    "model.remove_reactions('PSSA160c')\n",
    "model.remove_reactions('PSSA160e')\n",
    "#model.remove_reactions('PSSA161a')\n",
    "model.remove_reactions('PSSA141b')"
   ]
  },
  {
   "cell_type": "code",
   "execution_count": 118,
   "metadata": {},
   "outputs": [
    {
     "data": {
      "text/plain": [
       "0.2636925192884408"
      ]
     },
     "execution_count": 118,
     "metadata": {},
     "output_type": "execute_result"
    }
   ],
   "source": [
    "model.slim_optimize()"
   ]
  },
  {
   "cell_type": "code",
   "execution_count": 119,
   "metadata": {},
   "outputs": [],
   "source": [
    "model.remove_reactions('2AGPA181atipp')"
   ]
  },
  {
   "cell_type": "code",
   "execution_count": 120,
   "metadata": {},
   "outputs": [
    {
     "data": {
      "text/plain": [
       "0.26369251928840665"
      ]
     },
     "execution_count": 120,
     "metadata": {},
     "output_type": "execute_result"
    }
   ],
   "source": [
    "model.slim_optimize()"
   ]
  },
  {
   "cell_type": "code",
   "execution_count": 121,
   "metadata": {},
   "outputs": [],
   "source": [
    "model.remove_reactions('PA141babcpp')\n",
    "model.remove_reactions('PA160aabcpp')\n",
    "model.remove_reactions('PA160babcpp')\n",
    "model.remove_reactions('PA160cabcpp')\n",
    "model.remove_reactions('PA160eabcpp')\n",
    "model.remove_reactions('PE160aabcpp')\n",
    "model.remove_reactions('PE160babcpp')\n",
    "model.remove_reactions('PE160cabcpp')\n",
    "model.remove_reactions('PE160eabcpp')\n",
    "model.remove_reactions('PG141babcpp')\n",
    "model.remove_reactions('PG160aabcpp')\n",
    "model.remove_reactions('PG160babcpp')\n",
    "model.remove_reactions('PG160cabcpp')\n",
    "model.remove_reactions('PG160eabcpp')"
   ]
  },
  {
   "cell_type": "code",
   "execution_count": 122,
   "metadata": {},
   "outputs": [],
   "source": [
    "model.remove_reactions('PGP141babcpp')\n",
    "model.remove_reactions('PGP160aabcpp')\n",
    "model.remove_reactions('PGP160babcpp')\n",
    "model.remove_reactions('PGP160cabcpp')\n",
    "model.remove_reactions('PGP160eabcpp')"
   ]
  },
  {
   "cell_type": "code",
   "execution_count": 123,
   "metadata": {},
   "outputs": [
    {
     "data": {
      "text/plain": [
       "0.2636925192885167"
      ]
     },
     "execution_count": 123,
     "metadata": {},
     "output_type": "execute_result"
    }
   ],
   "source": [
    "model.slim_optimize()"
   ]
  },
  {
   "cell_type": "code",
   "execution_count": 124,
   "metadata": {
    "scrolled": true
   },
   "outputs": [
    {
     "name": "stdout",
     "output_type": "stream",
     "text": [
      "{'H': -2.0}\n"
     ]
    },
    {
     "data": {
      "text/html": [
       "\n",
       "        <table>\n",
       "            <tr>\n",
       "                <td><strong>Reaction identifier</strong></td><td>GARFT2</td>\n",
       "            </tr><tr>\n",
       "                <td><strong>Name</strong></td><td>R_GARFT2</td>\n",
       "            </tr><tr>\n",
       "                <td><strong>Memory address</strong></td>\n",
       "                <td>0x02a3366e8cd0</td>\n",
       "            </tr><tr>\n",
       "                <td><strong>Stoichiometry</strong></td>\n",
       "                <td>\n",
       "                    <p style='text-align:right'>gar_c + h2o_c + methf_c --> fgam_c + thf_c</p>\n",
       "                    <p style='text-align:right'>M_gar_c + M_h2o_c + M_methf_c --> M_fgam_c + M_thf_c</p>\n",
       "                </td>\n",
       "            </tr><tr>\n",
       "                <td><strong>GPR</strong></td><td>NGO1224</td>\n",
       "            </tr><tr>\n",
       "                <td><strong>Lower bound</strong></td><td>0.0</td>\n",
       "            </tr><tr>\n",
       "                <td><strong>Upper bound</strong></td><td>999999.0</td>\n",
       "            </tr>\n",
       "        </table>\n",
       "        "
      ],
      "text/plain": [
       "<Reaction GARFT2 at 0x2a3366e8cd0>"
      ]
     },
     "execution_count": 124,
     "metadata": {},
     "output_type": "execute_result"
    }
   ],
   "source": [
    "#GARFT2\n",
    "r = model.reactions.get_by_id('GARFT2')\n",
    "print(r.check_mass_balance())\n",
    "r"
   ]
  },
  {
   "cell_type": "code",
   "execution_count": 125,
   "metadata": {
    "scrolled": true
   },
   "outputs": [
    {
     "name": "stdout",
     "output_type": "stream",
     "text": [
      "GARFT2: gar_c + h2o_c + methf_c --> fgam_c + 2.0 h_c + thf_c\n",
      "{}\n"
     ]
    }
   ],
   "source": [
    "h_c = model.metabolites.get_by_id('h_c')\n",
    "\n",
    "r.add_metabolites({\n",
    "    h_c: 2.0,\n",
    "})\n",
    "\n",
    "print(r)\n",
    "print(r.check_mass_balance())"
   ]
  },
  {
   "cell_type": "code",
   "execution_count": 126,
   "metadata": {
    "scrolled": true
   },
   "outputs": [
    {
     "data": {
      "text/plain": [
       "0.2636925192885169"
      ]
     },
     "execution_count": 126,
     "metadata": {},
     "output_type": "execute_result"
    }
   ],
   "source": [
    "model.slim_optimize()"
   ]
  },
  {
   "cell_type": "code",
   "execution_count": 127,
   "metadata": {
    "scrolled": true
   },
   "outputs": [
    {
     "name": "stdout",
     "output_type": "stream",
     "text": [
      "{'O': -5.0}\n"
     ]
    },
    {
     "data": {
      "text/html": [
       "\n",
       "        <table>\n",
       "            <tr>\n",
       "                <td><strong>Reaction identifier</strong></td><td>GLCTR1</td>\n",
       "            </tr><tr>\n",
       "                <td><strong>Name</strong></td><td>R_GLCTR1</td>\n",
       "            </tr><tr>\n",
       "                <td><strong>Memory address</strong></td>\n",
       "                <td>0x02a3366f8d00</td>\n",
       "            </tr><tr>\n",
       "                <td><strong>Stoichiometry</strong></td>\n",
       "                <td>\n",
       "                    <p style='text-align:right'>peagnahhlipa_c + udpg_c --> h_c + icolipa_c + udp_c</p>\n",
       "                    <p style='text-align:right'>M_peagnahhlipa_c + M_udpg_c --> M_h_c + M_icolipa_c + M_udp_c</p>\n",
       "                </td>\n",
       "            </tr><tr>\n",
       "                <td><strong>GPR</strong></td><td>NGO1353</td>\n",
       "            </tr><tr>\n",
       "                <td><strong>Lower bound</strong></td><td>0.0</td>\n",
       "            </tr><tr>\n",
       "                <td><strong>Upper bound</strong></td><td>999999.0</td>\n",
       "            </tr>\n",
       "        </table>\n",
       "        "
      ],
      "text/plain": [
       "<Reaction GLCTR1 at 0x2a3366f8d00>"
      ]
     },
     "execution_count": 127,
     "metadata": {},
     "output_type": "execute_result"
    }
   ],
   "source": [
    "#GLCTR1\n",
    "r1 = model.reactions.get_by_id('GLCTR1')\n",
    "print(r1.check_mass_balance())\n",
    "r1"
   ]
  },
  {
   "cell_type": "code",
   "execution_count": 128,
   "metadata": {
    "scrolled": true
   },
   "outputs": [
    {
     "name": "stdout",
     "output_type": "stream",
     "text": [
      "{'C': -11.0, 'H': -18.0, 'N': -1.0, 'O': -8.0}\n"
     ]
    },
    {
     "data": {
      "text/html": [
       "\n",
       "        <table>\n",
       "            <tr>\n",
       "                <td><strong>Reaction identifier</strong></td><td>SIALT1</td>\n",
       "            </tr><tr>\n",
       "                <td><strong>Name</strong></td><td>R_SIALT1</td>\n",
       "            </tr><tr>\n",
       "                <td><strong>Memory address</strong></td>\n",
       "                <td>0x02a33696b670</td>\n",
       "            </tr><tr>\n",
       "                <td><strong>Stoichiometry</strong></td>\n",
       "                <td>\n",
       "                    <p style='text-align:right'>cmpacna_c + galgnagalicolipa_c --> cmp_c + lps_NM_c</p>\n",
       "                    <p style='text-align:right'>M_cmpacna_c + M_galgnagalicolipa_c --> M_cmp_c + M_lps_NM_c</p>\n",
       "                </td>\n",
       "            </tr><tr>\n",
       "                <td><strong>GPR</strong></td><td>NGO1081</td>\n",
       "            </tr><tr>\n",
       "                <td><strong>Lower bound</strong></td><td>0.0</td>\n",
       "            </tr><tr>\n",
       "                <td><strong>Upper bound</strong></td><td>999999.0</td>\n",
       "            </tr>\n",
       "        </table>\n",
       "        "
      ],
      "text/plain": [
       "<Reaction SIALT1 at 0x2a33696b670>"
      ]
     },
     "execution_count": 128,
     "metadata": {},
     "output_type": "execute_result"
    }
   ],
   "source": [
    "#SIALT1\n",
    "r2 = model.reactions.get_by_id('SIALT1')\n",
    "print(r2.check_mass_balance())\n",
    "r2"
   ]
  },
  {
   "cell_type": "code",
   "execution_count": 129,
   "metadata": {
    "scrolled": true
   },
   "outputs": [],
   "source": [
    "#rename LPS_NM to LOS_gc\n",
    "\n",
    "model.metabolites.get_by_id('lps_NM_c').id='los_GC_c'\n"
   ]
  },
  {
   "cell_type": "code",
   "execution_count": 130,
   "metadata": {
    "scrolled": true
   },
   "outputs": [],
   "source": [
    "model.metabolites.get_by_id('los_GC_c').name='los_GC_c'"
   ]
  },
  {
   "cell_type": "code",
   "execution_count": 131,
   "metadata": {
    "scrolled": true
   },
   "outputs": [],
   "source": [
    "#rename LPS_NM to LOS_GC\n",
    "#Siaylation is not required for synthesis of LOS. Changed the \"LOS\" \n",
    "# designation to the the final unsialylated component. Renamed the sialylated LOS to \"Sialylated LOS\".\n",
    "model.metabolites.get_by_id('los_GC_c').id='sialylated_los_GC_c'\n",
    "model.metabolites.get_by_id('sialylated_los_GC_c').name='sialylated_los_GC_c'\n",
    "\n",
    "model.metabolites.get_by_id('galgnagalicolipa_c').id='los_GC_c'\n",
    "model.metabolites.get_by_id('los_GC_c').name='los_GC_c'"
   ]
  },
  {
   "cell_type": "code",
   "execution_count": 132,
   "metadata": {
    "scrolled": true
   },
   "outputs": [],
   "source": [
    "#Remove export of LOS and associated extracellular LOS components.\n",
    "model.remove_reactions('LPS3tex')\n",
    "model.remove_reactions('LPS8tex')\n",
    "\n",
    "model.remove_metabolites(model.metabolites.get_by_id('galicolipa_e'))\n",
    "model.remove_metabolites(model.metabolites.get_by_id('lps_NM_e'))"
   ]
  },
  {
   "cell_type": "code",
   "execution_count": 133,
   "metadata": {
    "scrolled": true
   },
   "outputs": [
    {
     "name": "stdout",
     "output_type": "stream",
     "text": [
      "GLCTR1: peagnahhlipa_c + udpg_c --> h_c + icolipa_c + udp_c\n",
      "{}\n",
      "SIALT1: cmpacna_c + los_GC_c --> cmp_c + sialylated_los_GC_c\n",
      "{}\n"
     ]
    }
   ],
   "source": [
    "#For GLCTR1 - Formula for icolipa_c is incorrect. When glc is added to peagnahhlipa_c, the previous reaction did not add the oxygens. \n",
    "#The corresponding reactions in LOS synthesis all are also missing these 5 oxygens. This is corrected here.\n",
    "#Used structure diagrams here PMID: 11496013 and here PMID: 30873172 to determine proper formulas. \n",
    "\n",
    "#The reaction GLCTR1 corresponds to a bigg ID for a slightly different reaction in E.coli LPS biosynthesis. \n",
    "#This was left in place, but may need to be changed at a later time to avoid confusion.\n",
    "\n",
    "#Additionally for SIALT1 - LPS is sialylated, the NeuAC was not actually added to the structure for LPS.  \n",
    "#This is corrected here. Note this sialylation is on the alpha chain of LOS only, which is more common. Not on the beta chain.\n",
    "\n",
    "\n",
    "model.metabolites.get_by_id('icolipa_c').formula= 'C142H250N4O64P3'\n",
    "model.metabolites.get_by_id('galicolipa_c').formula= 'C148H260N4O69P3'\n",
    "model.metabolites.get_by_id('gnagalicolipa_c').formula= 'C159H275N4O89P4'\n",
    "model.metabolites.get_by_id('los_GC_c').formula= 'C165H285N3O94P4'\n",
    "\n",
    "model.metabolites.get_by_id('sialylated_los_GC_c').formula= 'C176H303N4O102P4'\n",
    "\n",
    "\n",
    "\n",
    "\n",
    "\n",
    "\n",
    "print(r1)\n",
    "print(r1.check_mass_balance())\n",
    "print(r2)\n",
    "print(r2.check_mass_balance())"
   ]
  },
  {
   "cell_type": "code",
   "execution_count": 134,
   "metadata": {},
   "outputs": [
    {
     "data": {
      "text/plain": [
       "0.26369251928852244"
      ]
     },
     "execution_count": 134,
     "metadata": {},
     "output_type": "execute_result"
    }
   ],
   "source": [
    "model.slim_optimize()"
   ]
  },
  {
   "cell_type": "code",
   "execution_count": 135,
   "metadata": {
    "scrolled": true
   },
   "outputs": [
    {
     "data": {
      "text/html": [
       "\n",
       "        <table>\n",
       "            <tr>\n",
       "                <td><strong>Reaction identifier</strong></td><td>SIALT1</td>\n",
       "            </tr><tr>\n",
       "                <td><strong>Name</strong></td><td>R_SIALT1</td>\n",
       "            </tr><tr>\n",
       "                <td><strong>Memory address</strong></td>\n",
       "                <td>0x02a33696b670</td>\n",
       "            </tr><tr>\n",
       "                <td><strong>Stoichiometry</strong></td>\n",
       "                <td>\n",
       "                    <p style='text-align:right'>cmpacna_c + los_GC_c --> cmp_c + sialylated_los_GC_c</p>\n",
       "                    <p style='text-align:right'>M_cmpacna_c + los_GC_c --> M_cmp_c + sialylated_los_GC_c</p>\n",
       "                </td>\n",
       "            </tr><tr>\n",
       "                <td><strong>GPR</strong></td><td>NGO1081</td>\n",
       "            </tr><tr>\n",
       "                <td><strong>Lower bound</strong></td><td>0.0</td>\n",
       "            </tr><tr>\n",
       "                <td><strong>Upper bound</strong></td><td>999999.0</td>\n",
       "            </tr>\n",
       "        </table>\n",
       "        "
      ],
      "text/plain": [
       "<Reaction SIALT1 at 0x2a33696b670>"
      ]
     },
     "execution_count": 135,
     "metadata": {},
     "output_type": "execute_result"
    }
   ],
   "source": [
    "#Confirm new LOS reactions display correctly. \n",
    "model.reactions.get_by_id('SIALT1')"
   ]
  },
  {
   "cell_type": "code",
   "execution_count": 136,
   "metadata": {
    "scrolled": true
   },
   "outputs": [
    {
     "name": "stdout",
     "output_type": "stream",
     "text": [
      "GLCTR2: gnahhlipa_c + udpg_c --> glcgnahhlipa_c + h_c + udp_c\n",
      "{}\n"
     ]
    }
   ],
   "source": [
    "#The more common isoform for Gc is 4HEXG. This has the addition of a glc on both the alpha and the beta chain.\n",
    "#The NM model did not have this glc on the beta chain and instead has a PEA. The PEA and glc on the beta chain are mutually exclusive. \n",
    "# Added reaction GLCTR2 to add a glc to the beta chain. \n",
    "\n",
    "glcgnahhlipa_c= Metabolite(\n",
    "    'glcgnahhlipa_c',\n",
    "    formula='C132H232N3O61P2',\n",
    "    name='M_glcgnahhlipa_c',\n",
    "    compartment='cytosol')\n",
    "\n",
    "udpg_c= model.metabolites.get_by_id('udpg_c')\n",
    "udp_c = model.metabolites.get_by_id('udp_c')\n",
    "h_c = model.metabolites.get_by_id('h_c')\n",
    "gnahhlipa_c=model.metabolites.get_by_id('gnahhlipa_c')\n",
    "\n",
    "\n",
    "\n",
    "GLCTR2 = cobra.Reaction('GLCTR2')\n",
    "GLCTR2.notes = {}\n",
    "GLCTR2.name = 'R_GLCTR2'\n",
    "GLCTR2.gene_reaction_rule = 'NGO2072'\n",
    "GLCTR2.lower_bound = 0.\n",
    "GLCTR2.upper_bound = 1000.\n",
    "GLCTR2.add_metabolites({\n",
    "    gnahhlipa_c: -1.0,\n",
    "    glcgnahhlipa_c: 1.0,\n",
    "    udpg_c: -1.0,\n",
    "    udp_c: 1.0,\n",
    "    h_c: 1,\n",
    "})\n",
    "\n",
    "model.add_reactions([GLCTR2])\n",
    "new_rxns += 1\n",
    "\n",
    "r= model.reactions.get_by_id('GLCTR2')\n",
    "print(r)\n",
    "print(r.check_mass_balance())"
   ]
  },
  {
   "cell_type": "code",
   "execution_count": 137,
   "metadata": {
    "scrolled": true
   },
   "outputs": [],
   "source": [
    "#Remove reaction for addition of phosphoethanolamine to beta chain\n",
    "model.remove_reactions('PEAT1')"
   ]
  },
  {
   "cell_type": "code",
   "execution_count": 138,
   "metadata": {
    "scrolled": true,
    "tags": []
   },
   "outputs": [],
   "source": [
    "#Add Gal to end of Beta chain to complete that segment of 4HEXG by adding reaction \n",
    "galglcgnahhlipa_c= Metabolite(\n",
    "    'galglcgnahhlipa_c',\n",
    "    formula='C138H242N3O66P2',\n",
    "    name='M_galglcgnahhlipa_c',\n",
    "    compartment='cytosol')\n",
    "\n",
    "udpgal_c= model.metabolites.get_by_id('udpgal_c')\n",
    "udp_c = model.metabolites.get_by_id('udp_c')\n",
    "h_c = model.metabolites.get_by_id('h_c')\n",
    "glcgnahhlipa_c=model.metabolites.get_by_id('glcgnahhlipa_c')\n",
    "\n",
    "\n",
    "\n",
    "GALT3 = cobra.Reaction('GALT3')\n",
    "GALT3.notes = {}\n",
    "GALT3.name = 'R_GLCTR2'\n",
    "GALT3.gene_reaction_rule = 'NGO2072'\n",
    "GALT3.lower_bound = 0.\n",
    "GALT3.upper_bound = 1000.\n",
    "GALT3.add_metabolites({\n",
    "    glcgnahhlipa_c: -1.0,\n",
    "    galglcgnahhlipa_c: 1.0,\n",
    "    udpg_c: -1.0,\n",
    "    udp_c: 1.0,\n",
    "    h_c: 1,\n",
    "})\n",
    "\n",
    "model.add_reactions([GALT3])\n",
    "new_rxns += 1\n",
    "\n"
   ]
  },
  {
   "cell_type": "code",
   "execution_count": 139,
   "metadata": {
    "scrolled": true
   },
   "outputs": [
    {
     "name": "stdout",
     "output_type": "stream",
     "text": [
      "GALT3: glcgnahhlipa_c + udpg_c --> galglcgnahhlipa_c + h_c + udp_c\n",
      "{}\n"
     ]
    }
   ],
   "source": [
    "r=model.reactions.get_by_id('GALT3')\n",
    "print(r)\n",
    "print(r.check_mass_balance())"
   ]
  },
  {
   "cell_type": "code",
   "execution_count": 140,
   "metadata": {
    "scrolled": true
   },
   "outputs": [],
   "source": [
    "#Create icolipa from the newly created 4HEXG Beta chain.\n",
    "r = model.reactions.get_by_id('GLCTR1')\n",
    "\n",
    "peagnahhlipa_c=model.metabolites.get_by_id('peagnahhlipa_c')\n",
    "\n",
    "r.add_metabolites({\n",
    "    peagnahhlipa_c: 1.0,\n",
    "    galglcgnahhlipa_c: -1.0,\n",
    "})\n"
   ]
  },
  {
   "cell_type": "code",
   "execution_count": 141,
   "metadata": {
    "scrolled": true
   },
   "outputs": [
    {
     "name": "stdout",
     "output_type": "stream",
     "text": [
      "GLCTR1: galglcgnahhlipa_c + udpg_c --> h_c + icolipa_c + udp_c\n",
      "{}\n"
     ]
    }
   ],
   "source": [
    "#Correct the icolipa formula and formulas for the alphachain components to reflect the new 4HEXG beta chain\n",
    "model.metabolites.get_by_id('icolipa_c').formula= 'C144H252N3O71P2'   \n",
    "model.metabolites.get_by_id('galicolipa_c').formula= 'C150H262N3O76P2'\n",
    "model.metabolites.get_by_id('gnagalicolipa_c').formula= 'C158H276N4O81P2'\n",
    "model.metabolites.get_by_id('los_GC_c').formula= 'C164H286N4O86P2'\n",
    "\n",
    "model.metabolites.get_by_id('sialylated_los_GC_c').formula= 'C175H304N5O94P2'\n",
    "\n",
    "print(r)\n",
    "print(r.check_mass_balance())\n"
   ]
  },
  {
   "cell_type": "code",
   "execution_count": 142,
   "metadata": {
    "scrolled": true
   },
   "outputs": [
    {
     "name": "stdout",
     "output_type": "stream",
     "text": [
      "{}\n"
     ]
    },
    {
     "data": {
      "text/html": [
       "\n",
       "        <table>\n",
       "            <tr>\n",
       "                <td><strong>Reaction identifier</strong></td><td>SIALT1</td>\n",
       "            </tr><tr>\n",
       "                <td><strong>Name</strong></td><td>R_SIALT1</td>\n",
       "            </tr><tr>\n",
       "                <td><strong>Memory address</strong></td>\n",
       "                <td>0x02a33696b670</td>\n",
       "            </tr><tr>\n",
       "                <td><strong>Stoichiometry</strong></td>\n",
       "                <td>\n",
       "                    <p style='text-align:right'>cmpacna_c + los_GC_c --> cmp_c + sialylated_los_GC_c</p>\n",
       "                    <p style='text-align:right'>M_cmpacna_c + los_GC_c --> M_cmp_c + sialylated_los_GC_c</p>\n",
       "                </td>\n",
       "            </tr><tr>\n",
       "                <td><strong>GPR</strong></td><td>NGO1081</td>\n",
       "            </tr><tr>\n",
       "                <td><strong>Lower bound</strong></td><td>0.0</td>\n",
       "            </tr><tr>\n",
       "                <td><strong>Upper bound</strong></td><td>999999.0</td>\n",
       "            </tr>\n",
       "        </table>\n",
       "        "
      ],
      "text/plain": [
       "<Reaction SIALT1 at 0x2a33696b670>"
      ]
     },
     "execution_count": 142,
     "metadata": {},
     "output_type": "execute_result"
    }
   ],
   "source": [
    "#Check all the steps of LOS synthesis to ensure its balanced properly. \n",
    "#SIALT1\n",
    "r = model.reactions.get_by_id('SIALT1')\n",
    "print(r.check_mass_balance())\n",
    "r"
   ]
  },
  {
   "cell_type": "code",
   "execution_count": 143,
   "metadata": {
    "scrolled": true
   },
   "outputs": [
    {
     "name": "stdout",
     "output_type": "stream",
     "text": [
      "{}\n"
     ]
    },
    {
     "data": {
      "text/html": [
       "\n",
       "        <table>\n",
       "            <tr>\n",
       "                <td><strong>Reaction identifier</strong></td><td>GALT2</td>\n",
       "            </tr><tr>\n",
       "                <td><strong>Name</strong></td><td>R_GALT2</td>\n",
       "            </tr><tr>\n",
       "                <td><strong>Memory address</strong></td>\n",
       "                <td>0x02a3366def70</td>\n",
       "            </tr><tr>\n",
       "                <td><strong>Stoichiometry</strong></td>\n",
       "                <td>\n",
       "                    <p style='text-align:right'>gnagalicolipa_c + udpgal_c --> h_c + los_GC_c + udp_c</p>\n",
       "                    <p style='text-align:right'>M_gnagalicolipa_c + M_udpgal_c --> M_h_c + los_GC_c + M_udp_c</p>\n",
       "                </td>\n",
       "            </tr><tr>\n",
       "                <td><strong>GPR</strong></td><td>NGO2156</td>\n",
       "            </tr><tr>\n",
       "                <td><strong>Lower bound</strong></td><td>0.0</td>\n",
       "            </tr><tr>\n",
       "                <td><strong>Upper bound</strong></td><td>999999.0</td>\n",
       "            </tr>\n",
       "        </table>\n",
       "        "
      ],
      "text/plain": [
       "<Reaction GALT2 at 0x2a3366def70>"
      ]
     },
     "execution_count": 143,
     "metadata": {},
     "output_type": "execute_result"
    }
   ],
   "source": [
    "#GALT2\n",
    "r = model.reactions.get_by_id('GALT2')\n",
    "print(r.check_mass_balance())\n",
    "r"
   ]
  },
  {
   "cell_type": "code",
   "execution_count": 144,
   "metadata": {
    "scrolled": true
   },
   "outputs": [
    {
     "name": "stdout",
     "output_type": "stream",
     "text": [
      "{}\n"
     ]
    },
    {
     "data": {
      "text/html": [
       "\n",
       "        <table>\n",
       "            <tr>\n",
       "                <td><strong>Reaction identifier</strong></td><td>GNAT2</td>\n",
       "            </tr><tr>\n",
       "                <td><strong>Name</strong></td><td>R_GNAT2</td>\n",
       "            </tr><tr>\n",
       "                <td><strong>Memory address</strong></td>\n",
       "                <td>0x02a336729970</td>\n",
       "            </tr><tr>\n",
       "                <td><strong>Stoichiometry</strong></td>\n",
       "                <td>\n",
       "                    <p style='text-align:right'>galicolipa_c + uacgam_c --> gnagalicolipa_c + udp_c</p>\n",
       "                    <p style='text-align:right'>M_galicolipa_c + M_uacgam_c --> M_gnagalicolipa_c + M_udp_c</p>\n",
       "                </td>\n",
       "            </tr><tr>\n",
       "                <td><strong>GPR</strong></td><td>NGO2158</td>\n",
       "            </tr><tr>\n",
       "                <td><strong>Lower bound</strong></td><td>0.0</td>\n",
       "            </tr><tr>\n",
       "                <td><strong>Upper bound</strong></td><td>999999.0</td>\n",
       "            </tr>\n",
       "        </table>\n",
       "        "
      ],
      "text/plain": [
       "<Reaction GNAT2 at 0x2a336729970>"
      ]
     },
     "execution_count": 144,
     "metadata": {},
     "output_type": "execute_result"
    }
   ],
   "source": [
    "#GNAT2\n",
    "r = model.reactions.get_by_id('GNAT2')\n",
    "print(r.check_mass_balance())\n",
    "r"
   ]
  },
  {
   "cell_type": "code",
   "execution_count": 145,
   "metadata": {
    "scrolled": true
   },
   "outputs": [
    {
     "name": "stdout",
     "output_type": "stream",
     "text": [
      "{}\n"
     ]
    },
    {
     "data": {
      "text/html": [
       "\n",
       "        <table>\n",
       "            <tr>\n",
       "                <td><strong>Reaction identifier</strong></td><td>GALT1</td>\n",
       "            </tr><tr>\n",
       "                <td><strong>Name</strong></td><td>R_GALT1</td>\n",
       "            </tr><tr>\n",
       "                <td><strong>Memory address</strong></td>\n",
       "                <td>0x02a3366dedf0</td>\n",
       "            </tr><tr>\n",
       "                <td><strong>Stoichiometry</strong></td>\n",
       "                <td>\n",
       "                    <p style='text-align:right'>icolipa_c + udpgal_c --> galicolipa_c + h_c + udp_c</p>\n",
       "                    <p style='text-align:right'>M_icolipa_c + M_udpgal_c --> M_galicolipa_c + M_h_c + M_udp_c</p>\n",
       "                </td>\n",
       "            </tr><tr>\n",
       "                <td><strong>GPR</strong></td><td>NGO2159</td>\n",
       "            </tr><tr>\n",
       "                <td><strong>Lower bound</strong></td><td>0.0</td>\n",
       "            </tr><tr>\n",
       "                <td><strong>Upper bound</strong></td><td>999999.0</td>\n",
       "            </tr>\n",
       "        </table>\n",
       "        "
      ],
      "text/plain": [
       "<Reaction GALT1 at 0x2a3366dedf0>"
      ]
     },
     "execution_count": 145,
     "metadata": {},
     "output_type": "execute_result"
    }
   ],
   "source": [
    "#GALT1\n",
    "r = model.reactions.get_by_id('GALT1')\n",
    "print(r.check_mass_balance())\n",
    "r"
   ]
  },
  {
   "cell_type": "code",
   "execution_count": 146,
   "metadata": {
    "scrolled": true
   },
   "outputs": [
    {
     "name": "stdout",
     "output_type": "stream",
     "text": [
      "{}\n"
     ]
    },
    {
     "data": {
      "text/html": [
       "\n",
       "        <table>\n",
       "            <tr>\n",
       "                <td><strong>Reaction identifier</strong></td><td>GALT3</td>\n",
       "            </tr><tr>\n",
       "                <td><strong>Name</strong></td><td>R_GLCTR2</td>\n",
       "            </tr><tr>\n",
       "                <td><strong>Memory address</strong></td>\n",
       "                <td>0x02a33643b6a0</td>\n",
       "            </tr><tr>\n",
       "                <td><strong>Stoichiometry</strong></td>\n",
       "                <td>\n",
       "                    <p style='text-align:right'>glcgnahhlipa_c + udpg_c --> galglcgnahhlipa_c + h_c + udp_c</p>\n",
       "                    <p style='text-align:right'>M_glcgnahhlipa_c + M_udpg_c --> M_galglcgnahhlipa_c + M_h_c + M_udp_c</p>\n",
       "                </td>\n",
       "            </tr><tr>\n",
       "                <td><strong>GPR</strong></td><td>NGO2072</td>\n",
       "            </tr><tr>\n",
       "                <td><strong>Lower bound</strong></td><td>0.0</td>\n",
       "            </tr><tr>\n",
       "                <td><strong>Upper bound</strong></td><td>1000.0</td>\n",
       "            </tr>\n",
       "        </table>\n",
       "        "
      ],
      "text/plain": [
       "<Reaction GALT3 at 0x2a33643b6a0>"
      ]
     },
     "execution_count": 146,
     "metadata": {},
     "output_type": "execute_result"
    }
   ],
   "source": [
    "#GALT3\n",
    "r = model.reactions.get_by_id('GALT3')\n",
    "print(r.check_mass_balance())\n",
    "r"
   ]
  },
  {
   "cell_type": "code",
   "execution_count": 147,
   "metadata": {
    "scrolled": true
   },
   "outputs": [
    {
     "name": "stdout",
     "output_type": "stream",
     "text": [
      "{}\n"
     ]
    },
    {
     "data": {
      "text/html": [
       "\n",
       "        <table>\n",
       "            <tr>\n",
       "                <td><strong>Reaction identifier</strong></td><td>GLCTR2</td>\n",
       "            </tr><tr>\n",
       "                <td><strong>Name</strong></td><td>R_GLCTR2</td>\n",
       "            </tr><tr>\n",
       "                <td><strong>Memory address</strong></td>\n",
       "                <td>0x02a33643fdf0</td>\n",
       "            </tr><tr>\n",
       "                <td><strong>Stoichiometry</strong></td>\n",
       "                <td>\n",
       "                    <p style='text-align:right'>gnahhlipa_c + udpg_c --> glcgnahhlipa_c + h_c + udp_c</p>\n",
       "                    <p style='text-align:right'>M_gnahhlipa_c + M_udpg_c --> M_glcgnahhlipa_c + M_h_c + M_udp_c</p>\n",
       "                </td>\n",
       "            </tr><tr>\n",
       "                <td><strong>GPR</strong></td><td>NGO2072</td>\n",
       "            </tr><tr>\n",
       "                <td><strong>Lower bound</strong></td><td>0.0</td>\n",
       "            </tr><tr>\n",
       "                <td><strong>Upper bound</strong></td><td>1000.0</td>\n",
       "            </tr>\n",
       "        </table>\n",
       "        "
      ],
      "text/plain": [
       "<Reaction GLCTR2 at 0x2a33643fdf0>"
      ]
     },
     "execution_count": 147,
     "metadata": {},
     "output_type": "execute_result"
    }
   ],
   "source": [
    "#GLCTR2\n",
    "r = model.reactions.get_by_id('GLCTR2')\n",
    "print(r.check_mass_balance())\n",
    "r"
   ]
  },
  {
   "cell_type": "code",
   "execution_count": 148,
   "metadata": {
    "scrolled": true
   },
   "outputs": [
    {
     "name": "stdout",
     "output_type": "stream",
     "text": [
      "{}\n"
     ]
    },
    {
     "data": {
      "text/html": [
       "\n",
       "        <table>\n",
       "            <tr>\n",
       "                <td><strong>Reaction identifier</strong></td><td>GLCTR1</td>\n",
       "            </tr><tr>\n",
       "                <td><strong>Name</strong></td><td>R_GLCTR1</td>\n",
       "            </tr><tr>\n",
       "                <td><strong>Memory address</strong></td>\n",
       "                <td>0x02a3366f8d00</td>\n",
       "            </tr><tr>\n",
       "                <td><strong>Stoichiometry</strong></td>\n",
       "                <td>\n",
       "                    <p style='text-align:right'>galglcgnahhlipa_c + udpg_c --> h_c + icolipa_c + udp_c</p>\n",
       "                    <p style='text-align:right'>M_galglcgnahhlipa_c + M_udpg_c --> M_h_c + M_icolipa_c + M_udp_c</p>\n",
       "                </td>\n",
       "            </tr><tr>\n",
       "                <td><strong>GPR</strong></td><td>NGO1353</td>\n",
       "            </tr><tr>\n",
       "                <td><strong>Lower bound</strong></td><td>0.0</td>\n",
       "            </tr><tr>\n",
       "                <td><strong>Upper bound</strong></td><td>999999.0</td>\n",
       "            </tr>\n",
       "        </table>\n",
       "        "
      ],
      "text/plain": [
       "<Reaction GLCTR1 at 0x2a3366f8d00>"
      ]
     },
     "execution_count": 148,
     "metadata": {},
     "output_type": "execute_result"
    }
   ],
   "source": [
    "#GLCTR1\n",
    "r = model.reactions.get_by_id('GLCTR1')\n",
    "print(r.check_mass_balance())\n",
    "r"
   ]
  },
  {
   "cell_type": "code",
   "execution_count": 149,
   "metadata": {
    "scrolled": true
   },
   "outputs": [
    {
     "name": "stdout",
     "output_type": "stream",
     "text": [
      "{}\n"
     ]
    },
    {
     "data": {
      "text/html": [
       "\n",
       "        <table>\n",
       "            <tr>\n",
       "                <td><strong>Reaction identifier</strong></td><td>GNAT1</td>\n",
       "            </tr><tr>\n",
       "                <td><strong>Name</strong></td><td>R_GNAT1</td>\n",
       "            </tr><tr>\n",
       "                <td><strong>Memory address</strong></td>\n",
       "                <td>0x02a3367298b0</td>\n",
       "            </tr><tr>\n",
       "                <td><strong>Stoichiometry</strong></td>\n",
       "                <td>\n",
       "                    <p style='text-align:right'>hhlipa_c + uacgam_c --> gnahhlipa_c + udp_c</p>\n",
       "                    <p style='text-align:right'>M_hhlipa_c + M_uacgam_c --> M_gnahhlipa_c + M_udp_c</p>\n",
       "                </td>\n",
       "            </tr><tr>\n",
       "                <td><strong>GPR</strong></td><td>NGO1354</td>\n",
       "            </tr><tr>\n",
       "                <td><strong>Lower bound</strong></td><td>0.0</td>\n",
       "            </tr><tr>\n",
       "                <td><strong>Upper bound</strong></td><td>999999.0</td>\n",
       "            </tr>\n",
       "        </table>\n",
       "        "
      ],
      "text/plain": [
       "<Reaction GNAT1 at 0x2a3367298b0>"
      ]
     },
     "execution_count": 149,
     "metadata": {},
     "output_type": "execute_result"
    }
   ],
   "source": [
    "#GNAT1\n",
    "r = model.reactions.get_by_id('GNAT1')\n",
    "print(r.check_mass_balance())\n",
    "r"
   ]
  },
  {
   "cell_type": "code",
   "execution_count": 150,
   "metadata": {
    "scrolled": true
   },
   "outputs": [
    {
     "name": "stdout",
     "output_type": "stream",
     "text": [
      "{}\n"
     ]
    },
    {
     "data": {
      "text/html": [
       "\n",
       "        <table>\n",
       "            <tr>\n",
       "                <td><strong>Reaction identifier</strong></td><td>HEPT2</td>\n",
       "            </tr><tr>\n",
       "                <td><strong>Name</strong></td><td>R_HEPT2</td>\n",
       "            </tr><tr>\n",
       "                <td><strong>Memory address</strong></td>\n",
       "                <td>0x02a336740b20</td>\n",
       "            </tr><tr>\n",
       "                <td><strong>Stoichiometry</strong></td>\n",
       "                <td>\n",
       "                    <p style='text-align:right'>adphep_LD_c + hlipa_c --> adp_c + h_c + hhlipa_c</p>\n",
       "                    <p style='text-align:right'>M_adphep_LD_c + M_hlipa_c --> M_adp_c + M_h_c + M_hhlipa_c</p>\n",
       "                </td>\n",
       "            </tr><tr>\n",
       "                <td><strong>GPR</strong></td><td>NGO0987</td>\n",
       "            </tr><tr>\n",
       "                <td><strong>Lower bound</strong></td><td>0.0</td>\n",
       "            </tr><tr>\n",
       "                <td><strong>Upper bound</strong></td><td>999999.0</td>\n",
       "            </tr>\n",
       "        </table>\n",
       "        "
      ],
      "text/plain": [
       "<Reaction HEPT2 at 0x2a336740b20>"
      ]
     },
     "execution_count": 150,
     "metadata": {},
     "output_type": "execute_result"
    }
   ],
   "source": [
    "#HEPT2\n",
    "r = model.reactions.get_by_id('HEPT2')\n",
    "print(r.check_mass_balance())\n",
    "r"
   ]
  },
  {
   "cell_type": "code",
   "execution_count": 151,
   "metadata": {
    "scrolled": true
   },
   "outputs": [
    {
     "name": "stdout",
     "output_type": "stream",
     "text": [
      "{}\n"
     ]
    },
    {
     "data": {
      "text/html": [
       "\n",
       "        <table>\n",
       "            <tr>\n",
       "                <td><strong>Reaction identifier</strong></td><td>HEPT1</td>\n",
       "            </tr><tr>\n",
       "                <td><strong>Name</strong></td><td>R_HEPT1</td>\n",
       "            </tr><tr>\n",
       "                <td><strong>Memory address</strong></td>\n",
       "                <td>0x02a336740a60</td>\n",
       "            </tr><tr>\n",
       "                <td><strong>Stoichiometry</strong></td>\n",
       "                <td>\n",
       "                    <p style='text-align:right'>adphep_LD_c + lipa_c --> adp_c + h_c + hlipa_c</p>\n",
       "                    <p style='text-align:right'>M_adphep_LD_c + M_lipa_c --> M_adp_c + M_h_c + M_hlipa_c</p>\n",
       "                </td>\n",
       "            </tr><tr>\n",
       "                <td><strong>GPR</strong></td><td>NGO1934</td>\n",
       "            </tr><tr>\n",
       "                <td><strong>Lower bound</strong></td><td>0.0</td>\n",
       "            </tr><tr>\n",
       "                <td><strong>Upper bound</strong></td><td>999999.0</td>\n",
       "            </tr>\n",
       "        </table>\n",
       "        "
      ],
      "text/plain": [
       "<Reaction HEPT1 at 0x2a336740a60>"
      ]
     },
     "execution_count": 151,
     "metadata": {},
     "output_type": "execute_result"
    }
   ],
   "source": [
    "#HEPT1\n",
    "r = model.reactions.get_by_id('HEPT1')\n",
    "print(r.check_mass_balance())\n",
    "r"
   ]
  },
  {
   "cell_type": "code",
   "execution_count": 152,
   "metadata": {
    "scrolled": true
   },
   "outputs": [],
   "source": [
    "#All of LOS synthesis looks correct. Continue checking/ correcting other reactions. "
   ]
  },
  {
   "cell_type": "code",
   "execution_count": 153,
   "metadata": {},
   "outputs": [
    {
     "data": {
      "text/plain": [
       "0.2636925192885077"
      ]
     },
     "execution_count": 153,
     "metadata": {},
     "output_type": "execute_result"
    }
   ],
   "source": [
    "model.slim_optimize()"
   ]
  },
  {
   "cell_type": "code",
   "execution_count": 154,
   "metadata": {
    "scrolled": true
   },
   "outputs": [
    {
     "name": "stdout",
     "output_type": "stream",
     "text": [
      "{'H': -1.0}\n"
     ]
    },
    {
     "data": {
      "text/html": [
       "\n",
       "        <table>\n",
       "            <tr>\n",
       "                <td><strong>Reaction identifier</strong></td><td>HMT</td>\n",
       "            </tr><tr>\n",
       "                <td><strong>Name</strong></td><td>R_HMT</td>\n",
       "            </tr><tr>\n",
       "                <td><strong>Memory address</strong></td>\n",
       "                <td>0x02a33674ddc0</td>\n",
       "            </tr><tr>\n",
       "                <td><strong>Stoichiometry</strong></td>\n",
       "                <td>\n",
       "                    <p style='text-align:right'>amet_c + his_L_c --> ahcys_c + mhis_c</p>\n",
       "                    <p style='text-align:right'>M_amet_c + M_his_L_c --> M_ahcys_c + M_mhis_c</p>\n",
       "                </td>\n",
       "            </tr><tr>\n",
       "                <td><strong>GPR</strong></td><td>NGO0746</td>\n",
       "            </tr><tr>\n",
       "                <td><strong>Lower bound</strong></td><td>0.0</td>\n",
       "            </tr><tr>\n",
       "                <td><strong>Upper bound</strong></td><td>999999.0</td>\n",
       "            </tr>\n",
       "        </table>\n",
       "        "
      ],
      "text/plain": [
       "<Reaction HMT at 0x2a33674ddc0>"
      ]
     },
     "execution_count": 154,
     "metadata": {},
     "output_type": "execute_result"
    }
   ],
   "source": [
    "#HMT\n",
    "r = model.reactions.get_by_id('HMT')\n",
    "print(r.check_mass_balance())\n",
    "r"
   ]
  },
  {
   "cell_type": "code",
   "execution_count": 155,
   "metadata": {
    "scrolled": true
   },
   "outputs": [],
   "source": [
    "#No evidence that this reaction exists in Gc. \n",
    "#It forms a dead end metabolite that is not used elsewhere in the network.\n",
    "#The gene (ngo0746) does possibly encode a methyltransferase, but this specific reaction doesn't appear to be found in any other models of bacteria, and isn't included in the CARVEME model for Gc. \n",
    "#As such, I am deleting the reaction. \n",
    "\n",
    "model.remove_reactions('HMT')"
   ]
  },
  {
   "cell_type": "code",
   "execution_count": 156,
   "metadata": {
    "scrolled": true
   },
   "outputs": [
    {
     "name": "stdout",
     "output_type": "stream",
     "text": [
      "{'O': -2.0}\n"
     ]
    },
    {
     "data": {
      "text/html": [
       "\n",
       "        <table>\n",
       "            <tr>\n",
       "                <td><strong>Reaction identifier</strong></td><td>MAc3</td>\n",
       "            </tr><tr>\n",
       "                <td><strong>Name</strong></td><td>R_MAc3</td>\n",
       "            </tr><tr>\n",
       "                <td><strong>Memory address</strong></td>\n",
       "                <td>0x02a336796460</td>\n",
       "            </tr><tr>\n",
       "                <td><strong>Stoichiometry</strong></td>\n",
       "                <td>\n",
       "                    <p style='text-align:right'>accoa_c + h2o_p + murein5p4p_p --> coa_c + murein5p4pOAc_p</p>\n",
       "                    <p style='text-align:right'>M_accoa_c + M_h2o_p + M_murein5p4p_p --> M_coa_c + M_murein5p4pOAc_p</p>\n",
       "                </td>\n",
       "            </tr><tr>\n",
       "                <td><strong>GPR</strong></td><td>NGO0533 and NGO0534 and Orphan</td>\n",
       "            </tr><tr>\n",
       "                <td><strong>Lower bound</strong></td><td>0.0</td>\n",
       "            </tr><tr>\n",
       "                <td><strong>Upper bound</strong></td><td>999999.0</td>\n",
       "            </tr>\n",
       "        </table>\n",
       "        "
      ],
      "text/plain": [
       "<Reaction MAc3 at 0x2a336796460>"
      ]
     },
     "execution_count": 156,
     "metadata": {},
     "output_type": "execute_result"
    }
   ],
   "source": [
    "#MAc3\n",
    "r = model.reactions.get_by_id('MAc3')\n",
    "print(r.check_mass_balance())\n",
    "r"
   ]
  },
  {
   "cell_type": "code",
   "execution_count": 157,
   "metadata": {
    "scrolled": true
   },
   "outputs": [
    {
     "name": "stdout",
     "output_type": "stream",
     "text": [
      "C77H119N15O41\n",
      "C79H123N15O41\n"
     ]
    }
   ],
   "source": [
    "# Both Gc and Nm acylate their peptidoglycan. PMCID: PMC1231103\n",
    "print(model.metabolites.get_by_id('murein5p4p_p').formula)\n",
    "print(model.metabolites.get_by_id('murein5p4pOAc_p').formula)\n"
   ]
  },
  {
   "cell_type": "code",
   "execution_count": 158,
   "metadata": {
    "scrolled": true
   },
   "outputs": [],
   "source": [
    "#In the formula for murein5p4pOAc, the oxygen that gets added during acylation was forgotten. This is added here. \n",
    "model.metabolites.get_by_id('murein5p4pOAc_p').formula= 'C79H123N15O43'  \n"
   ]
  },
  {
   "cell_type": "code",
   "execution_count": 159,
   "metadata": {
    "scrolled": true
   },
   "outputs": [
    {
     "name": "stdout",
     "output_type": "stream",
     "text": [
      "{}\n"
     ]
    },
    {
     "data": {
      "text/html": [
       "\n",
       "        <table>\n",
       "            <tr>\n",
       "                <td><strong>Reaction identifier</strong></td><td>MAc3</td>\n",
       "            </tr><tr>\n",
       "                <td><strong>Name</strong></td><td>R_MAc3</td>\n",
       "            </tr><tr>\n",
       "                <td><strong>Memory address</strong></td>\n",
       "                <td>0x02a336796460</td>\n",
       "            </tr><tr>\n",
       "                <td><strong>Stoichiometry</strong></td>\n",
       "                <td>\n",
       "                    <p style='text-align:right'>accoa_c + h2o_p + murein5p4p_p --> coa_c + murein5p4pOAc_p</p>\n",
       "                    <p style='text-align:right'>M_accoa_c + M_h2o_p + M_murein5p4p_p --> M_coa_c + M_murein5p4pOAc_p</p>\n",
       "                </td>\n",
       "            </tr><tr>\n",
       "                <td><strong>GPR</strong></td><td>NGO0533 and NGO0534 and Orphan</td>\n",
       "            </tr><tr>\n",
       "                <td><strong>Lower bound</strong></td><td>0.0</td>\n",
       "            </tr><tr>\n",
       "                <td><strong>Upper bound</strong></td><td>999999.0</td>\n",
       "            </tr>\n",
       "        </table>\n",
       "        "
      ],
      "text/plain": [
       "<Reaction MAc3 at 0x2a336796460>"
      ]
     },
     "execution_count": 159,
     "metadata": {},
     "output_type": "execute_result"
    }
   ],
   "source": [
    "print(r.check_mass_balance())\n",
    "r"
   ]
  },
  {
   "cell_type": "code",
   "execution_count": 160,
   "metadata": {
    "scrolled": true
   },
   "outputs": [
    {
     "data": {
      "text/html": [
       "\n",
       "        <table>\n",
       "            <tr>\n",
       "                <td><strong>Reaction identifier</strong></td><td>MAc3</td>\n",
       "            </tr><tr>\n",
       "                <td><strong>Name</strong></td><td>R_MAc3</td>\n",
       "            </tr><tr>\n",
       "                <td><strong>Memory address</strong></td>\n",
       "                <td>0x02a336796460</td>\n",
       "            </tr><tr>\n",
       "                <td><strong>Stoichiometry</strong></td>\n",
       "                <td>\n",
       "                    <p style='text-align:right'>accoa_c + h2o_p + murein5p4p_p --> coa_c + murein5p4pOAc_p</p>\n",
       "                    <p style='text-align:right'>M_accoa_c + M_h2o_p + M_murein5p4p_p --> M_coa_c + M_murein5p4pOAc_p</p>\n",
       "                </td>\n",
       "            </tr><tr>\n",
       "                <td><strong>GPR</strong></td><td>NGO0533 and NGO0534</td>\n",
       "            </tr><tr>\n",
       "                <td><strong>Lower bound</strong></td><td>0.0</td>\n",
       "            </tr><tr>\n",
       "                <td><strong>Upper bound</strong></td><td>999999.0</td>\n",
       "            </tr>\n",
       "        </table>\n",
       "        "
      ],
      "text/plain": [
       "<Reaction MAc3 at 0x2a336796460>"
      ]
     },
     "execution_count": 160,
     "metadata": {},
     "output_type": "execute_result"
    }
   ],
   "source": [
    "#peptidoglycan acylation has been shown to occur due to NGO0533 and NGO0534 (NMB1274 and NMB1273) aka PatA and PatB aka PacA and PacB. \n",
    "#THe third protein, proposed as an orphan, is apeI which actually is an esterase. \n",
    "#(PMID: 23373517)\n",
    "#I correct the GPR rules for the MAc1 - MAc8 reactions here. \n",
    "\n",
    "NGO0533 =model.genes.get_by_id('NGO0533')\n",
    "NGO0534= model.genes.get_by_id('NGO0534')\n",
    "model.reactions.get_by_id('MAc1').gene_reaction_rule ='NGO0533 and NGO0534'\n",
    "model.reactions.get_by_id('MAc2').gene_reaction_rule ='NGO0533 and NGO0534'\n",
    "model.reactions.get_by_id('MAc3').gene_reaction_rule ='NGO0533 and NGO0534'\n",
    "model.reactions.get_by_id('MAc4').gene_reaction_rule ='NGO0533 and NGO0534'\n",
    "model.reactions.get_by_id('MAc5').gene_reaction_rule ='NGO0533 and NGO0534'\n",
    "model.reactions.get_by_id('MAc6').gene_reaction_rule ='NGO0533 and NGO0534'\n",
    "model.reactions.get_by_id('MAc7').gene_reaction_rule ='NGO0533 and NGO0534'\n",
    "model.reactions.get_by_id('MAc8').gene_reaction_rule ='NGO0533 and NGO0534'\n",
    "r"
   ]
  },
  {
   "cell_type": "code",
   "execution_count": 161,
   "metadata": {
    "scrolled": true
   },
   "outputs": [
    {
     "name": "stdout",
     "output_type": "stream",
     "text": [
      "{'C': -1.5695700000000001, 'H': -2.433528, 'N': -0.24168599999999998, 'O': -0.8500679999999999}\n",
      "{'C': -1.552902, 'H': -2.341854, 'N': -0.29169, 'O': -0.816732}\n"
     ]
    },
    {
     "data": {
      "text/html": [
       "\n",
       "        <table>\n",
       "            <tr>\n",
       "                <td><strong>Reaction identifier</strong></td><td>PEPGLY</td>\n",
       "            </tr><tr>\n",
       "                <td><strong>Name</strong></td><td>R_PEPGLY</td>\n",
       "            </tr><tr>\n",
       "                <td><strong>Memory address</strong></td>\n",
       "                <td>0x02a33686ae80</td>\n",
       "            </tr><tr>\n",
       "                <td><strong>Stoichiometry</strong></td>\n",
       "                <td>\n",
       "                    <p style='text-align:right'>0.005556 murein4px4px4pOAc_p + 0.008334 murein4px4px4p_p <=> 0.1389 pepglycan_NM_p</p>\n",
       "                    <p style='text-align:right'>0.005556 M_murein4px4px4pOAc_p + 0.008334 M_murein4px4px4p_p <=> 0.1389 M_pepglycan_NM_p</p>\n",
       "                </td>\n",
       "            </tr><tr>\n",
       "                <td><strong>GPR</strong></td><td></td>\n",
       "            </tr><tr>\n",
       "                <td><strong>Lower bound</strong></td><td>-999999.0</td>\n",
       "            </tr><tr>\n",
       "                <td><strong>Upper bound</strong></td><td>999999.0</td>\n",
       "            </tr>\n",
       "        </table>\n",
       "        "
      ],
      "text/plain": [
       "<Reaction PEPGLY at 0x2a33686ae80>"
      ]
     },
     "execution_count": 161,
     "metadata": {},
     "output_type": "execute_result"
    }
   ],
   "source": [
    "#Most of the PG in the cell wall is tetrapeptide in Gc PMCID: PMC551031 and is O-acytelated. \n",
    "#However tripeptide monomer gets released extracellularly and can cause immune responses through NOD1.\n",
    "#Cleavage of the tetrapeptide to tripeptide, is driven by ldcA (NGO1274) (PMCID: PMC5646250)\n",
    "\n",
    "#Confirmed, that tripeptide monomer is produced in the model (anhgm3p_p).\n",
    "\n",
    "\n",
    "\n",
    "# Gc and neisseria in general use tetrapeptide PG in the cell wall, rather than tripeptide which is used in E.coli. \n",
    "# This model uses the \"most common\" o-acetylated tetrapeptide trimer to make PG for biomass. (murein4px4px4pOAc and murein 4p4p4pOAc).\n",
    "#The model uses murein5p5p5p to make murein 4p4p4p (MDDCP6pp) which is then acetylated (MAc1).\n",
    "#Its not clear how this would happen in nature since these reactions typically work on crosslinked peptidoglycan, not on uncrosslinked. \n",
    "#Additionally, peptidoglycan, incorporated into the cell wall, should be crosslinked. \n",
    "\n",
    " \n",
    "#As such, I am removing 4p4p4pOAC as an essential component of the cell wall for biomass (PEPGLY) and replacing it with 4px4px4p, since the cell wall consists of both acetylated and unmodified components.\n",
    "\n",
    "r = model.reactions.get_by_id('PEPGLY')\n",
    "print(r.check_mass_balance())\n",
    "r\n",
    "\n",
    "murein4p4p4pOAc_p=model.metabolites.get_by_id('murein4p4p4pOAc_p')\n",
    "murein4px4px4p_p = model.metabolites.get_by_id('murein4px4px4p_p')\n",
    "\n",
    "r.add_metabolites({\n",
    "    murein4p4p4pOAc_p: 0.008334,\n",
    "    murein4px4px4p_p : -0.008334,\n",
    "})\n",
    "\n",
    "print(r.check_mass_balance())\n",
    "r\n",
    "\n",
    "\n",
    "\n",
    "\n"
   ]
  },
  {
   "cell_type": "code",
   "execution_count": 162,
   "metadata": {},
   "outputs": [],
   "source": [
    "#I am deleting the reaction MDDCP6pp, which I cannot find evidence for currently. \n",
    "model.remove_reactions('MDDCP6pp')\n",
    "\n",
    "\n"
   ]
  },
  {
   "cell_type": "code",
   "execution_count": 163,
   "metadata": {},
   "outputs": [
    {
     "name": "stdout",
     "output_type": "stream",
     "text": [
      "{}\n",
      "{}\n"
     ]
    },
    {
     "data": {
      "text/html": [
       "\n",
       "        <table>\n",
       "            <tr>\n",
       "                <td><strong>Reaction identifier</strong></td><td>MAc7</td>\n",
       "            </tr><tr>\n",
       "                <td><strong>Name</strong></td><td>R_MAc7</td>\n",
       "            </tr><tr>\n",
       "                <td><strong>Memory address</strong></td>\n",
       "                <td>0x02a336796880</td>\n",
       "            </tr><tr>\n",
       "                <td><strong>Stoichiometry</strong></td>\n",
       "                <td>\n",
       "                    <p style='text-align:right'>accoa_c + h2o_p + murein4px4px4pOAc_p --> coa_c + murein4px4px4pdOAc_p</p>\n",
       "                    <p style='text-align:right'>M_accoa_c + M_h2o_p + M_murein4px4px4pOAc_p --> M_coa_c + M_murein4px4px4pdOAc_p</p>\n",
       "                </td>\n",
       "            </tr><tr>\n",
       "                <td><strong>GPR</strong></td><td>NGO0533 and NGO0534</td>\n",
       "            </tr><tr>\n",
       "                <td><strong>Lower bound</strong></td><td>0.0</td>\n",
       "            </tr><tr>\n",
       "                <td><strong>Upper bound</strong></td><td>999999.0</td>\n",
       "            </tr>\n",
       "        </table>\n",
       "        "
      ],
      "text/plain": [
       "<Reaction MAc7 at 0x2a336796880>"
      ]
     },
     "execution_count": 163,
     "metadata": {},
     "output_type": "execute_result"
    }
   ],
   "source": [
    "#MAc7 and MAc8 which produces murein4p4p4pdOac and murein 4p4p4ptOAc respectively, where altered to use murein 4px4px4p as the base instead.\n",
    "r = model.reactions.get_by_id('MAc7')\n",
    "print(r.check_mass_balance())\n",
    "r\n",
    "\n",
    "\n",
    "murein4px4px4pdOAc_p= Metabolite(\n",
    "    'murein4px4px4pdOAc_p',\n",
    "    formula='C115H175N21O62',\n",
    "    name='M_murein4px4px4pdOAc_p',\n",
    "    compartment='periplasm')\n",
    "\n",
    "murein4px4px4ptOAc_p= Metabolite(\n",
    "    'murein4px4px4ptOAc_p',\n",
    "    formula='C117H179N21O64',\n",
    "    name='M_murein4px4px4ptOAc_p',\n",
    "    compartment='periplasm')\n",
    "\n",
    "murein4p4p4pOAC_p=model.metabolites.get_by_id('murein4p4p4pOAc_p')\n",
    "murein4px4px4pOAc_p = model.metabolites.get_by_id('murein4px4px4pOAc_p')\n",
    "murein4p4p4pdOAc_p=model.metabolites.get_by_id('murein4p4p4pdOAc_p')\n",
    "\n",
    "murein4p4p4ptOAc_p=model.metabolites.get_by_id('murein4p4p4ptOAc_p')\n",
    "\n",
    "\n",
    "r.add_metabolites({\n",
    "    murein4p4p4pOAc_p: 1,\n",
    "    murein4px4px4pOAc_p : -1,\n",
    "    murein4p4p4pdOAc_p: -1,\n",
    "    murein4px4px4pdOAc_p : 1,\n",
    "})\n",
    "\n",
    "print(r.check_mass_balance())\n",
    "r\n",
    "\n"
   ]
  },
  {
   "cell_type": "code",
   "execution_count": 164,
   "metadata": {},
   "outputs": [
    {
     "name": "stdout",
     "output_type": "stream",
     "text": [
      "{}\n"
     ]
    }
   ],
   "source": [
    "r = model.reactions.get_by_id('MAc8')\n",
    "print(r.check_mass_balance())\n",
    "r\n",
    "\n",
    "r.add_metabolites({\n",
    "\n",
    "    murein4p4p4pdOAc_p: 1,\n",
    "    murein4px4px4pdOAc_p : -1,\n",
    "    murein4p4p4ptOAc_p: -1,\n",
    "    murein4px4px4ptOAc_p : 1,\n",
    "})\n",
    "\n",
    "\n"
   ]
  },
  {
   "cell_type": "code",
   "execution_count": 165,
   "metadata": {},
   "outputs": [],
   "source": [
    "#And I am deleting MLTGY5pp as the lytic transglycosylase should also only work on crosslinked peptidoglycan, since its catalytic activity is to remove those crosslinks.\n",
    "model.remove_reactions('MLTGY5pp')"
   ]
  },
  {
   "cell_type": "code",
   "execution_count": 166,
   "metadata": {},
   "outputs": [
    {
     "data": {
      "text/html": [
       "<strong><em>Optimal</em> solution with objective value 0.264</strong><br><div>\n",
       "<style scoped>\n",
       "    .dataframe tbody tr th:only-of-type {\n",
       "        vertical-align: middle;\n",
       "    }\n",
       "\n",
       "    .dataframe tbody tr th {\n",
       "        vertical-align: top;\n",
       "    }\n",
       "\n",
       "    .dataframe thead th {\n",
       "        text-align: right;\n",
       "    }\n",
       "</style>\n",
       "<table border=\"1\" class=\"dataframe\">\n",
       "  <thead>\n",
       "    <tr style=\"text-align: right;\">\n",
       "      <th></th>\n",
       "      <th>fluxes</th>\n",
       "      <th>reduced_costs</th>\n",
       "    </tr>\n",
       "  </thead>\n",
       "  <tbody>\n",
       "    <tr>\n",
       "      <th>12DGR120tipp</th>\n",
       "      <td>0.000000</td>\n",
       "      <td>0.000000e+00</td>\n",
       "    </tr>\n",
       "    <tr>\n",
       "      <th>12DGR140tipp</th>\n",
       "      <td>0.000000</td>\n",
       "      <td>0.000000e+00</td>\n",
       "    </tr>\n",
       "    <tr>\n",
       "      <th>12DGR141tipp</th>\n",
       "      <td>0.000000</td>\n",
       "      <td>0.000000e+00</td>\n",
       "    </tr>\n",
       "    <tr>\n",
       "      <th>12DGR160tipp</th>\n",
       "      <td>0.000000</td>\n",
       "      <td>0.000000e+00</td>\n",
       "    </tr>\n",
       "    <tr>\n",
       "      <th>12DGR161tipp</th>\n",
       "      <td>0.000000</td>\n",
       "      <td>0.000000e+00</td>\n",
       "    </tr>\n",
       "    <tr>\n",
       "      <th>...</th>\n",
       "      <td>...</td>\n",
       "      <td>...</td>\n",
       "    </tr>\n",
       "    <tr>\n",
       "      <th>ZN2abcpp</th>\n",
       "      <td>0.000833</td>\n",
       "      <td>0.000000e+00</td>\n",
       "    </tr>\n",
       "    <tr>\n",
       "      <th>Zn2tex</th>\n",
       "      <td>0.000833</td>\n",
       "      <td>5.528911e-14</td>\n",
       "    </tr>\n",
       "    <tr>\n",
       "      <th>EX_apoACP_c_</th>\n",
       "      <td>-0.009690</td>\n",
       "      <td>0.000000e+00</td>\n",
       "    </tr>\n",
       "    <tr>\n",
       "      <th>GLCTR2</th>\n",
       "      <td>0.000000</td>\n",
       "      <td>0.000000e+00</td>\n",
       "    </tr>\n",
       "    <tr>\n",
       "      <th>GALT3</th>\n",
       "      <td>0.000000</td>\n",
       "      <td>0.000000e+00</td>\n",
       "    </tr>\n",
       "  </tbody>\n",
       "</table>\n",
       "<p>1412 rows × 2 columns</p>\n",
       "</div>"
      ],
      "text/plain": [
       "<Solution 0.264 at 0x2a33679fa90>"
      ]
     },
     "execution_count": 166,
     "metadata": {},
     "output_type": "execute_result"
    }
   ],
   "source": [
    "model.optimize()"
   ]
  },
  {
   "cell_type": "code",
   "execution_count": 167,
   "metadata": {},
   "outputs": [],
   "source": [
    "#The third protein encoded in the operon is ApeI which de-O-acetylates and has broad acting esterase activity. \n",
    "#(PMID: 23373517)\n",
    "#The original model removed the esterase activity to prevent futile cycling. I added these reactions back in with the GPR rule for ApeI (NGO0532) below.\n",
    "\n",
    "#MAcES1\n",
    "#h_p =model.metabolites.get_by_id('h_p')\n",
    "#murein4p4p4pOAc_p =model.metabolites.get_by_id('murein4p4p4pOAc_p')\n",
    "#ac_c =model.metabolites.get_by_id('ac_c')\n",
    "#murein4p4p4p_p =model.metabolites.get_by_id('murein4p4p4p_p')\n",
    "\n",
    "\n",
    "#MAcESx = cobra.Reaction('MAcES1')\n",
    "#MAcESx.notes = {}\n",
    "#MAcESx.name = 'R_MAcES1'\n",
    "#MAcESx.gene_reaction_rule = 'NGO0532'\n",
    "#MAcESx.lower_bound = 0.\n",
    "#MAcESx.upper_bound = 1000.\n",
    "#MAcESx.add_metabolites({\n",
    "#    h_p: 1.0,\n",
    "#    murein4p4p4pOAc_p: -1.0,\n",
    "#    ac_c: 1.0,\n",
    "#    murein4p4p4p_p: 1.0\n",
    "#})\n",
    "\n",
    "#model.add_reactions([MAcESx])\n",
    "#new_rxns += 1\n",
    "\n",
    "\n",
    "\n",
    "#Actually - deacytalation of 4p4p4pOAc is no longer needed as a reaction since 4p4p4p is now removed. Skipped adding this reaction back in. \n"
   ]
  },
  {
   "cell_type": "markdown",
   "metadata": {},
   "source": [
    "Like in Nm, the MAcES 2-8 reactions were removed to prevent loops.\n",
    "\n",
    "#MAcES2\n",
    "h_p =model.metabolites.get_by_id('h_p')\n",
    "murein4px4px4pOAc_p =model.metabolites.get_by_id('murein4px4px4pOAc_p')\n",
    "ac_c =model.metabolites.get_by_id('ac_c')\n",
    "murein4px4px4p_p =model.metabolites.get_by_id('murein4px4px4p_p')\n",
    "\n",
    "\n",
    "MAcESx = cobra.Reaction('MAcES2')\n",
    "MAcESx.notes = {}\n",
    "MAcESx.name = 'R_MAcES2'\n",
    "MAcESx.gene_reaction_rule = 'NGO0532'\n",
    "MAcESx.lower_bound = 0.\n",
    "MAcESx.upper_bound = 1000.\n",
    "MAcESx.add_metabolites({\n",
    "    h_p: 1.0,\n",
    "    murein4px4px4pOAc_p: -1.0,\n",
    "    ac_c: 1.0,\n",
    "    murein4px4px4p_p: 1.0\n",
    "})\n",
    "\n",
    "model.add_reactions([MAcESx])\n",
    "new_rxns += 1\n",
    "\n",
    "r = model.reactions.get_by_id('MAcES2')\n",
    "print(r.check_mass_balance())\n",
    "r"
   ]
  },
  {
   "cell_type": "markdown",
   "metadata": {},
   "source": [
    "#MAcES3\n",
    "h_p =model.metabolites.get_by_id('h_p')\n",
    "murein5p4pOAc_p =model.metabolites.get_by_id('murein5p4pOAc_p')\n",
    "ac_c =model.metabolites.get_by_id('ac_c')\n",
    "murein5p4p_p =model.metabolites.get_by_id('murein5p4p_p')\n",
    "\n",
    "\n",
    "MAcESx = cobra.Reaction('MAcES3')\n",
    "MAcESx.notes = {}\n",
    "MAcESx.name = 'R_MAcES3'\n",
    "MAcESx.gene_reaction_rule = 'NGO0532'\n",
    "MAcESx.lower_bound = 0.\n",
    "MAcESx.upper_bound = 1000.\n",
    "MAcESx.add_metabolites({\n",
    "    h_p: 1.0,\n",
    "    murein5p4pOAc_p: -1.0,\n",
    "    ac_c: 1.0,\n",
    "    murein5p4p_p: 1.0\n",
    "})\n",
    "\n",
    "model.add_reactions([MAcESx])\n",
    "new_rxns += 1\n",
    "\n",
    "r = model.reactions.get_by_id('MAcES3')\n",
    "print(r.check_mass_balance())\n",
    "r"
   ]
  },
  {
   "cell_type": "markdown",
   "metadata": {},
   "source": [
    "#MAcES4\n",
    "h_p =model.metabolites.get_by_id('h_p')\n",
    "murein4p4pOAc_p =model.metabolites.get_by_id('murein4p4pOAc_p')\n",
    "ac_c =model.metabolites.get_by_id('ac_c')\n",
    "murein4p4p_p =model.metabolites.get_by_id('murein4p4p_p')\n",
    "\n",
    "\n",
    "MAcESx = cobra.Reaction('MAcES4')\n",
    "MAcESx.notes = {}\n",
    "MAcESx.name = 'R_MAcES4'\n",
    "MAcESx.gene_reaction_rule = 'NGO0532'\n",
    "MAcESx.lower_bound = 0.\n",
    "MAcESx.upper_bound = 1000.\n",
    "MAcESx.add_metabolites({\n",
    "    h_p: 1.0,\n",
    "    murein4p4pOAc_p: -1.0,\n",
    "    ac_c: 1.0,\n",
    "    murein4p4p_p: 1.0\n",
    "})\n",
    "\n",
    "model.add_reactions([MAcESx])\n",
    "new_rxns += 1\n",
    "\n",
    "r = model.reactions.get_by_id('MAcES4')\n",
    "print(r.check_mass_balance())\n",
    "r"
   ]
  },
  {
   "cell_type": "markdown",
   "metadata": {},
   "source": [
    "#MAcES5\n",
    "h_p =model.metabolites.get_by_id('h_p')\n",
    "murein4p4pdOAc_p =model.metabolites.get_by_id('murein4p4pdOAc_p')\n",
    "ac_c =model.metabolites.get_by_id('ac_c')\n",
    "murein4p4pOAc_p =model.metabolites.get_by_id('murein4p4pOAc_p')\n",
    "\n",
    "\n",
    "MAcESx = cobra.Reaction('MAcES5')\n",
    "MAcESx.notes = {}\n",
    "MAcESx.name = 'R_MAcES5'\n",
    "MAcESx.gene_reaction_rule = 'NGO0532'\n",
    "MAcESx.lower_bound = 0.\n",
    "MAcESx.upper_bound = 1000.\n",
    "MAcESx.add_metabolites({\n",
    "    h_p: 1.0,\n",
    "    murein4p4pdOAc_p: -1.0,\n",
    "    ac_c: 1.0,\n",
    "    murein4p4pOAc_p: 1.0\n",
    "})\n",
    "\n",
    "model.add_reactions([MAcESx])\n",
    "new_rxns += 1\n",
    "\n",
    "r = model.reactions.get_by_id('MAcES5')\n",
    "print(r.check_mass_balance())\n",
    "r"
   ]
  },
  {
   "cell_type": "markdown",
   "metadata": {},
   "source": [
    "#MAcES6\n",
    "h_p =model.metabolites.get_by_id('h_p')\n",
    "murein4p3pOAc_p =model.metabolites.get_by_id('murein4p3pOAc_p')\n",
    "ac_c =model.metabolites.get_by_id('ac_c')\n",
    "murein4p3p_p =model.metabolites.get_by_id('murein4p3p_p')\n",
    "\n",
    "\n",
    "MAcESx = cobra.Reaction('MAcES6')\n",
    "MAcESx.notes = {}\n",
    "MAcESx.name = 'R_MAcES6'\n",
    "MAcESx.gene_reaction_rule = 'NGO0532'\n",
    "MAcESx.lower_bound = 0.\n",
    "MAcESx.upper_bound = 1000.\n",
    "MAcESx.add_metabolites({\n",
    "    h_p: 1.0,\n",
    "    murein4p3pOAc_p: -1.0,\n",
    "    ac_c: 1.0,\n",
    "    murein4p3p_p: 1.0\n",
    "})\n",
    "\n",
    "model.add_reactions([MAcESx])\n",
    "new_rxns += 1\n",
    "\n",
    "r = model.reactions.get_by_id('MAcES6')\n",
    "print(r.check_mass_balance())\n",
    "r"
   ]
  },
  {
   "cell_type": "markdown",
   "metadata": {},
   "source": [
    "#MAcES7\n",
    "h_p =model.metabolites.get_by_id('h_p')\n",
    "murein4px4px4pdOAc_p =model.metabolites.get_by_id('murein4px4px4pdOAc_p')\n",
    "ac_c =model.metabolites.get_by_id('ac_c')\n",
    "murein4px4px4pOAc_p =model.metabolites.get_by_id('murein4px4px4pOAc_p')\n",
    "\n",
    "\n",
    "MAcESx = cobra.Reaction('MAcES7')\n",
    "MAcESx.notes = {}\n",
    "MAcESx.name = 'R_MAcES7'\n",
    "MAcESx.gene_reaction_rule = 'NGO0532'\n",
    "MAcESx.lower_bound = 0.\n",
    "MAcESx.upper_bound = 1000.\n",
    "MAcESx.add_metabolites({\n",
    "    h_p: 1.0,\n",
    "    murein4px4px4pdOAc_p: -1.0,\n",
    "    ac_c: 1.0,\n",
    "    murein4px4px4pOAc_p: 1.0\n",
    "})\n",
    "\n",
    "model.add_reactions([MAcESx])\n",
    "new_rxns += 1\n",
    "\n",
    "r = model.reactions.get_by_id('MAcES7')\n",
    "print(r.check_mass_balance())\n",
    "r\n"
   ]
  },
  {
   "cell_type": "markdown",
   "metadata": {},
   "source": [
    "#MAcES8\n",
    "h_p =model.metabolites.get_by_id('h_p')\n",
    "murein4px4px4ptOAc_p =model.metabolites.get_by_id('murein4px4px4ptOAc_p')\n",
    "ac_c =model.metabolites.get_by_id('ac_c')\n",
    "murein4px4px4pdOAc_p =model.metabolites.get_by_id('murein4px4px4pdOAc_p')\n",
    "\n",
    "\n",
    "MAcESx = cobra.Reaction('MAcES8')\n",
    "MAcESx.notes = {}\n",
    "MAcESx.name = 'R_MAcES8'\n",
    "MAcESx.gene_reaction_rule = 'NGO0532'\n",
    "MAcESx.lower_bound = 0.\n",
    "MAcESx.upper_bound = 1000.\n",
    "MAcESx.add_metabolites({\n",
    "    h_p: 1.0,\n",
    "    murein4px4px4ptOAc_p: -1.0,\n",
    "    ac_c: 1.0,\n",
    "    murein4px4px4pdOAc_p: 1.0\n",
    "})\n",
    "\n",
    "model.add_reactions([MAcESx])\n",
    "new_rxns += 1\n",
    "\n",
    "r = model.reactions.get_by_id('MAcES8')\n",
    "print(r.check_mass_balance())\n",
    "r"
   ]
  },
  {
   "cell_type": "code",
   "execution_count": 168,
   "metadata": {},
   "outputs": [
    {
     "data": {
      "text/plain": [
       "0.26369251928851484"
      ]
     },
     "execution_count": 168,
     "metadata": {},
     "output_type": "execute_result"
    }
   ],
   "source": [
    "model.slim_optimize()"
   ]
  },
  {
   "cell_type": "code",
   "execution_count": 169,
   "metadata": {
    "scrolled": true
   },
   "outputs": [
    {
     "name": "stdout",
     "output_type": "stream",
     "text": [
      "{'H': -3.0}\n"
     ]
    },
    {
     "data": {
      "text/html": [
       "\n",
       "        <table>\n",
       "            <tr>\n",
       "                <td><strong>Reaction identifier</strong></td><td>NDPK9</td>\n",
       "            </tr><tr>\n",
       "                <td><strong>Name</strong></td><td>R_NDPK9</td>\n",
       "            </tr><tr>\n",
       "                <td><strong>Memory address</strong></td>\n",
       "                <td>0x02a3367fb520</td>\n",
       "            </tr><tr>\n",
       "                <td><strong>Stoichiometry</strong></td>\n",
       "                <td>\n",
       "                    <p style='text-align:right'>atp_c + didp_c <=> adp_c + ditp_c</p>\n",
       "                    <p style='text-align:right'>M_atp_c + M_didp_c <=> M_adp_c + M_ditp_c</p>\n",
       "                </td>\n",
       "            </tr><tr>\n",
       "                <td><strong>GPR</strong></td><td>NGO0597</td>\n",
       "            </tr><tr>\n",
       "                <td><strong>Lower bound</strong></td><td>-999999.0</td>\n",
       "            </tr><tr>\n",
       "                <td><strong>Upper bound</strong></td><td>999999.0</td>\n",
       "            </tr>\n",
       "        </table>\n",
       "        "
      ],
      "text/plain": [
       "<Reaction NDPK9 at 0x2a3367fb520>"
      ]
     },
     "execution_count": 169,
     "metadata": {},
     "output_type": "execute_result"
    }
   ],
   "source": [
    "r = model.reactions.get_by_id('NDPK9')\n",
    "print(r.check_mass_balance())\n",
    "r"
   ]
  },
  {
   "cell_type": "code",
   "execution_count": 170,
   "metadata": {
    "scrolled": true
   },
   "outputs": [
    {
     "name": "stdout",
     "output_type": "stream",
     "text": [
      "{}\n"
     ]
    },
    {
     "data": {
      "text/html": [
       "\n",
       "        <table>\n",
       "            <tr>\n",
       "                <td><strong>Reaction identifier</strong></td><td>NADPK10</td>\n",
       "            </tr><tr>\n",
       "                <td><strong>Name</strong></td><td>NADPK10</td>\n",
       "            </tr><tr>\n",
       "                <td><strong>Memory address</strong></td>\n",
       "                <td>0x02a3367fb520</td>\n",
       "            </tr><tr>\n",
       "                <td><strong>Stoichiometry</strong></td>\n",
       "                <td>\n",
       "                    <p style='text-align:right'>atp_c + didp_c <=> adp_c + ditp_c</p>\n",
       "                    <p style='text-align:right'>M_atp_c + M_didp_c <=> M_adp_c + M_ditp_c</p>\n",
       "                </td>\n",
       "            </tr><tr>\n",
       "                <td><strong>GPR</strong></td><td>NGO0597</td>\n",
       "            </tr><tr>\n",
       "                <td><strong>Lower bound</strong></td><td>-999999.0</td>\n",
       "            </tr><tr>\n",
       "                <td><strong>Upper bound</strong></td><td>999999.0</td>\n",
       "            </tr>\n",
       "        </table>\n",
       "        "
      ],
      "text/plain": [
       "<Reaction NADPK10 at 0x2a3367fb520>"
      ]
     },
     "execution_count": 170,
     "metadata": {},
     "output_type": "execute_result"
    }
   ],
   "source": [
    "r.name = 'NADPK10'\n",
    "r.id ='NADPK10'\n",
    "\n",
    "model.metabolites.get_by_id('didp_c').formula= 'C10H11N4O10P2'\n",
    "\n",
    "print(r.check_mass_balance())\n",
    "r\n"
   ]
  },
  {
   "cell_type": "code",
   "execution_count": 171,
   "metadata": {},
   "outputs": [
    {
     "name": "stdout",
     "output_type": "stream",
     "text": [
      "{'H': 1.0}\n"
     ]
    },
    {
     "data": {
      "text/html": [
       "\n",
       "        <table>\n",
       "            <tr>\n",
       "                <td><strong>Reaction identifier</strong></td><td>NTD13</td>\n",
       "            </tr><tr>\n",
       "                <td><strong>Name</strong></td><td>R_NTD13</td>\n",
       "            </tr><tr>\n",
       "                <td><strong>Memory address</strong></td>\n",
       "                <td>0x02a3368203a0</td>\n",
       "            </tr><tr>\n",
       "                <td><strong>Stoichiometry</strong></td>\n",
       "                <td>\n",
       "                    <p style='text-align:right'>h2o_c + nicrnt_c --> nicrns_c + pi_c</p>\n",
       "                    <p style='text-align:right'>M_h2o_c + M_nicrnt_c --> M_nicrns_c + M_pi_c</p>\n",
       "                </td>\n",
       "            </tr><tr>\n",
       "                <td><strong>GPR</strong></td><td>NGO1058</td>\n",
       "            </tr><tr>\n",
       "                <td><strong>Lower bound</strong></td><td>0.0</td>\n",
       "            </tr><tr>\n",
       "                <td><strong>Upper bound</strong></td><td>999999.0</td>\n",
       "            </tr>\n",
       "        </table>\n",
       "        "
      ],
      "text/plain": [
       "<Reaction NTD13 at 0x2a3368203a0>"
      ]
     },
     "execution_count": 171,
     "metadata": {},
     "output_type": "execute_result"
    }
   ],
   "source": [
    "#NTD13\n",
    "r = model.reactions.get_by_id('NTD13')\n",
    "print(r.check_mass_balance())\n",
    "r\n"
   ]
  },
  {
   "cell_type": "code",
   "execution_count": 172,
   "metadata": {},
   "outputs": [],
   "source": [
    "#changed nicrns_c formula based on Bigg metabolite formula. \n",
    "model.metabolites.get_by_id('nicrns_c').formula= 'C11H13NO6'"
   ]
  },
  {
   "cell_type": "code",
   "execution_count": 173,
   "metadata": {},
   "outputs": [
    {
     "name": "stdout",
     "output_type": "stream",
     "text": [
      "{}\n"
     ]
    },
    {
     "data": {
      "text/html": [
       "\n",
       "        <table>\n",
       "            <tr>\n",
       "                <td><strong>Reaction identifier</strong></td><td>NTD13</td>\n",
       "            </tr><tr>\n",
       "                <td><strong>Name</strong></td><td>R_NTD13</td>\n",
       "            </tr><tr>\n",
       "                <td><strong>Memory address</strong></td>\n",
       "                <td>0x02a3368203a0</td>\n",
       "            </tr><tr>\n",
       "                <td><strong>Stoichiometry</strong></td>\n",
       "                <td>\n",
       "                    <p style='text-align:right'>h2o_c + nicrnt_c --> nicrns_c + pi_c</p>\n",
       "                    <p style='text-align:right'>M_h2o_c + M_nicrnt_c --> M_nicrns_c + M_pi_c</p>\n",
       "                </td>\n",
       "            </tr><tr>\n",
       "                <td><strong>GPR</strong></td><td>NGO1058</td>\n",
       "            </tr><tr>\n",
       "                <td><strong>Lower bound</strong></td><td>0.0</td>\n",
       "            </tr><tr>\n",
       "                <td><strong>Upper bound</strong></td><td>999999.0</td>\n",
       "            </tr>\n",
       "        </table>\n",
       "        "
      ],
      "text/plain": [
       "<Reaction NTD13 at 0x2a3368203a0>"
      ]
     },
     "execution_count": 173,
     "metadata": {},
     "output_type": "execute_result"
    }
   ],
   "source": [
    "print(r.check_mass_balance())\n",
    "r"
   ]
  },
  {
   "cell_type": "code",
   "execution_count": 174,
   "metadata": {},
   "outputs": [
    {
     "name": "stdout",
     "output_type": "stream",
     "text": [
      "{'H': 4.0}\n"
     ]
    },
    {
     "data": {
      "text/html": [
       "\n",
       "        <table>\n",
       "            <tr>\n",
       "                <td><strong>Reaction identifier</strong></td><td>PHEMEFErel</td>\n",
       "            </tr><tr>\n",
       "                <td><strong>Name</strong></td><td>R_PHEMEFErel</td>\n",
       "            </tr><tr>\n",
       "                <td><strong>Memory address</strong></td>\n",
       "                <td>0x02a3368c0880</td>\n",
       "            </tr><tr>\n",
       "                <td><strong>Stoichiometry</strong></td>\n",
       "                <td>\n",
       "                    <p style='text-align:right'>3.0 h_c + 3.0 nadph_c + 3.0 o2_c + pheme_c --> biliverd_c + co_c + fe2_c + 3.0 h2o_c + 3.0 nadp_c</p>\n",
       "                    <p style='text-align:right'>3.0 M_h_c + 3.0 M_nadph_c + 3.0 M_o2_c + M_pheme_c --> M_biliverd_c + M_co_c + M_fe2_c + 3.0 M_h2o_c + 3.0 M_nadp_c</p>\n",
       "                </td>\n",
       "            </tr><tr>\n",
       "                <td><strong>GPR</strong></td><td>NGO1318</td>\n",
       "            </tr><tr>\n",
       "                <td><strong>Lower bound</strong></td><td>0.0</td>\n",
       "            </tr><tr>\n",
       "                <td><strong>Upper bound</strong></td><td>999999.0</td>\n",
       "            </tr>\n",
       "        </table>\n",
       "        "
      ],
      "text/plain": [
       "<Reaction PHEMEFErel at 0x2a3368c0880>"
      ]
     },
     "execution_count": 174,
     "metadata": {},
     "output_type": "execute_result"
    }
   ],
   "source": [
    "#PHEMEFErel\n",
    "r = model.reactions.get_by_id('PHEMEFErel')\n",
    "print(r.check_mass_balance())\n",
    "r"
   ]
  },
  {
   "cell_type": "code",
   "execution_count": 175,
   "metadata": {},
   "outputs": [
    {
     "name": "stdout",
     "output_type": "stream",
     "text": [
      "{}\n"
     ]
    },
    {
     "data": {
      "text/html": [
       "\n",
       "        <table>\n",
       "            <tr>\n",
       "                <td><strong>Reaction identifier</strong></td><td>PHEMEFErel</td>\n",
       "            </tr><tr>\n",
       "                <td><strong>Name</strong></td><td>R_PHEMEFErel</td>\n",
       "            </tr><tr>\n",
       "                <td><strong>Memory address</strong></td>\n",
       "                <td>0x02a3368c0880</td>\n",
       "            </tr><tr>\n",
       "                <td><strong>Stoichiometry</strong></td>\n",
       "                <td>\n",
       "                    <p style='text-align:right'>3.0 h_c + 6.0 nadph_c + 3.0 o2_c + pheme_c --> biliverd_c + co_c + fe2_c + 3.0 h2o_c + 6.0 nadp_c</p>\n",
       "                    <p style='text-align:right'>3.0 M_h_c + 6.0 M_nadph_c + 3.0 M_o2_c + M_pheme_c --> M_biliverd_c + M_co_c + M_fe2_c + 3.0 M_h2o_c + 6.0 M_nadp_c</p>\n",
       "                </td>\n",
       "            </tr><tr>\n",
       "                <td><strong>GPR</strong></td><td>NGO1318</td>\n",
       "            </tr><tr>\n",
       "                <td><strong>Lower bound</strong></td><td>0.0</td>\n",
       "            </tr><tr>\n",
       "                <td><strong>Upper bound</strong></td><td>999999.0</td>\n",
       "            </tr>\n",
       "        </table>\n",
       "        "
      ],
      "text/plain": [
       "<Reaction PHEMEFErel at 0x2a3368c0880>"
      ]
     },
     "execution_count": 175,
     "metadata": {},
     "output_type": "execute_result"
    }
   ],
   "source": [
    "#Product of a simplified, 3 step reaction that requires 2 NADPHs. PMCID: PMC111422. \n",
    "#This reaction is described in kegg as requiring 3 \"electron donors\" and 3\"electron acceptors, which is likely the cause of the error. https://www.genome.jp/entry/R11816\n",
    "\n",
    "\n",
    "model.metabolites.get_by_id('biliverd_c').formula= 'C33H33N4O6'\n",
    "NADPH_c =model.metabolites.get_by_id('nadph_c')\n",
    "nadp_c =model.metabolites.get_by_id('nadp_c')\n",
    "\n",
    "r.add_metabolites({\n",
    "    NADPH_c: -3,\n",
    "    nadp_c: 3.0\n",
    "})\n",
    "\n",
    "print(r.check_mass_balance())\n",
    "r"
   ]
  },
  {
   "cell_type": "code",
   "execution_count": 176,
   "metadata": {},
   "outputs": [
    {
     "name": "stdout",
     "output_type": "stream",
     "text": [
      "{'C': 7.0, 'H': 9.0, 'O': 3.0}\n"
     ]
    },
    {
     "data": {
      "text/html": [
       "\n",
       "        <table>\n",
       "            <tr>\n",
       "                <td><strong>Reaction identifier</strong></td><td>PMCOAS</td>\n",
       "            </tr><tr>\n",
       "                <td><strong>Name</strong></td><td>R_PMCOAS</td>\n",
       "            </tr><tr>\n",
       "                <td><strong>Memory address</strong></td>\n",
       "                <td>0x02a3368f2d00</td>\n",
       "            </tr><tr>\n",
       "                <td><strong>Stoichiometry</strong></td>\n",
       "                <td>\n",
       "                    <p style='text-align:right'>coa_c --> pmcoa_c</p>\n",
       "                    <p style='text-align:right'>M_coa_c --> M_pmcoa_c</p>\n",
       "                </td>\n",
       "            </tr><tr>\n",
       "                <td><strong>GPR</strong></td><td>NGO1481 and NGO1725</td>\n",
       "            </tr><tr>\n",
       "                <td><strong>Lower bound</strong></td><td>0.0</td>\n",
       "            </tr><tr>\n",
       "                <td><strong>Upper bound</strong></td><td>999999.0</td>\n",
       "            </tr>\n",
       "        </table>\n",
       "        "
      ],
      "text/plain": [
       "<Reaction PMCOAS at 0x2a3368f2d00>"
      ]
     },
     "execution_count": 176,
     "metadata": {},
     "output_type": "execute_result"
    }
   ],
   "source": [
    "#PMCOAS\n",
    "r = model.reactions.get_by_id('PMCOAS')\n",
    "print(r.check_mass_balance())\n",
    "r\n",
    "#Okay to leave unbalanced. THis reaction is a simplification of a multistep ACP dependent reaction that isn't well understood. "
   ]
  },
  {
   "cell_type": "code",
   "execution_count": 177,
   "metadata": {},
   "outputs": [
    {
     "name": "stdout",
     "output_type": "stream",
     "text": [
      "{'H': 1.0}\n"
     ]
    },
    {
     "data": {
      "text/html": [
       "\n",
       "        <table>\n",
       "            <tr>\n",
       "                <td><strong>Reaction identifier</strong></td><td>SAMC</td>\n",
       "            </tr><tr>\n",
       "                <td><strong>Name</strong></td><td>R_SAMC</td>\n",
       "            </tr><tr>\n",
       "                <td><strong>Memory address</strong></td>\n",
       "                <td>0x02a336954e50</td>\n",
       "            </tr><tr>\n",
       "                <td><strong>Stoichiometry</strong></td>\n",
       "                <td>\n",
       "                    <p style='text-align:right'>amet_c --> ametam_c + co2_c</p>\n",
       "                    <p style='text-align:right'>M_amet_c --> M_ametam_c + M_co2_c</p>\n",
       "                </td>\n",
       "            </tr><tr>\n",
       "                <td><strong>GPR</strong></td><td>Orphan</td>\n",
       "            </tr><tr>\n",
       "                <td><strong>Lower bound</strong></td><td>0.0</td>\n",
       "            </tr><tr>\n",
       "                <td><strong>Upper bound</strong></td><td>999999.0</td>\n",
       "            </tr>\n",
       "        </table>\n",
       "        "
      ],
      "text/plain": [
       "<Reaction SAMC at 0x2a336954e50>"
      ]
     },
     "execution_count": 177,
     "metadata": {},
     "output_type": "execute_result"
    }
   ],
   "source": [
    "#SAMC\n",
    "r = model.reactions.get_by_id('SAMC')\n",
    "print(r.check_mass_balance())\n",
    "r\n",
    "\n"
   ]
  },
  {
   "cell_type": "code",
   "execution_count": 178,
   "metadata": {},
   "outputs": [
    {
     "name": "stdout",
     "output_type": "stream",
     "text": [
      "{}\n"
     ]
    },
    {
     "data": {
      "text/html": [
       "\n",
       "        <table>\n",
       "            <tr>\n",
       "                <td><strong>Reaction identifier</strong></td><td>SAMC</td>\n",
       "            </tr><tr>\n",
       "                <td><strong>Name</strong></td><td>R_SAMC</td>\n",
       "            </tr><tr>\n",
       "                <td><strong>Memory address</strong></td>\n",
       "                <td>0x02a336954e50</td>\n",
       "            </tr><tr>\n",
       "                <td><strong>Stoichiometry</strong></td>\n",
       "                <td>\n",
       "                    <p style='text-align:right'>amet_c + h_c --> ametam_c + co2_c</p>\n",
       "                    <p style='text-align:right'>M_amet_c + M_h_c --> M_ametam_c + M_co2_c</p>\n",
       "                </td>\n",
       "            </tr><tr>\n",
       "                <td><strong>GPR</strong></td><td>Orphan</td>\n",
       "            </tr><tr>\n",
       "                <td><strong>Lower bound</strong></td><td>0.0</td>\n",
       "            </tr><tr>\n",
       "                <td><strong>Upper bound</strong></td><td>999999.0</td>\n",
       "            </tr>\n",
       "        </table>\n",
       "        "
      ],
      "text/plain": [
       "<Reaction SAMC at 0x2a336954e50>"
      ]
     },
     "execution_count": 178,
     "metadata": {},
     "output_type": "execute_result"
    }
   ],
   "source": [
    "h_c =model.metabolites.get_by_id('h_c')\n",
    "\n",
    "r.add_metabolites({\n",
    "    h_c: -1,\n",
    "})\n",
    "\n",
    "print(r.check_mass_balance())\n",
    "r"
   ]
  },
  {
   "cell_type": "code",
   "execution_count": 179,
   "metadata": {},
   "outputs": [
    {
     "name": "stdout",
     "output_type": "stream",
     "text": [
      "{'H': -1.0}\n"
     ]
    },
    {
     "data": {
      "text/html": [
       "\n",
       "        <table>\n",
       "            <tr>\n",
       "                <td><strong>Reaction identifier</strong></td><td>SHSL2</td>\n",
       "            </tr><tr>\n",
       "                <td><strong>Name</strong></td><td>R_SHSL2</td>\n",
       "            </tr><tr>\n",
       "                <td><strong>Memory address</strong></td>\n",
       "                <td>0x02a33695ffd0</td>\n",
       "            </tr><tr>\n",
       "                <td><strong>Stoichiometry</strong></td>\n",
       "                <td>\n",
       "                    <p style='text-align:right'>h2s_c + suchms_c --> hcys_L_c + succ_c</p>\n",
       "                    <p style='text-align:right'>M_h2s_c + M_suchms_c --> M_hcys_L_c + M_succ_c</p>\n",
       "                </td>\n",
       "            </tr><tr>\n",
       "                <td><strong>GPR</strong></td><td>NGO1149</td>\n",
       "            </tr><tr>\n",
       "                <td><strong>Lower bound</strong></td><td>0.0</td>\n",
       "            </tr><tr>\n",
       "                <td><strong>Upper bound</strong></td><td>999999.0</td>\n",
       "            </tr>\n",
       "        </table>\n",
       "        "
      ],
      "text/plain": [
       "<Reaction SHSL2 at 0x2a33695ffd0>"
      ]
     },
     "execution_count": 179,
     "metadata": {},
     "output_type": "execute_result"
    }
   ],
   "source": [
    "#SHSL2\n",
    "r = model.reactions.get_by_id('SHSL2')\n",
    "print(r.check_mass_balance())\n",
    "r\n"
   ]
  },
  {
   "cell_type": "code",
   "execution_count": 180,
   "metadata": {},
   "outputs": [
    {
     "name": "stdout",
     "output_type": "stream",
     "text": [
      "{}\n"
     ]
    },
    {
     "data": {
      "text/html": [
       "\n",
       "        <table>\n",
       "            <tr>\n",
       "                <td><strong>Reaction identifier</strong></td><td>SHSL2</td>\n",
       "            </tr><tr>\n",
       "                <td><strong>Name</strong></td><td>R_SHSL2</td>\n",
       "            </tr><tr>\n",
       "                <td><strong>Memory address</strong></td>\n",
       "                <td>0x02a33695ffd0</td>\n",
       "            </tr><tr>\n",
       "                <td><strong>Stoichiometry</strong></td>\n",
       "                <td>\n",
       "                    <p style='text-align:right'>h2s_c + suchms_c --> h_c + hcys_L_c + succ_c</p>\n",
       "                    <p style='text-align:right'>M_h2s_c + M_suchms_c --> M_h_c + M_hcys_L_c + M_succ_c</p>\n",
       "                </td>\n",
       "            </tr><tr>\n",
       "                <td><strong>GPR</strong></td><td>NGO1149</td>\n",
       "            </tr><tr>\n",
       "                <td><strong>Lower bound</strong></td><td>0.0</td>\n",
       "            </tr><tr>\n",
       "                <td><strong>Upper bound</strong></td><td>999999.0</td>\n",
       "            </tr>\n",
       "        </table>\n",
       "        "
      ],
      "text/plain": [
       "<Reaction SHSL2 at 0x2a33695ffd0>"
      ]
     },
     "execution_count": 180,
     "metadata": {},
     "output_type": "execute_result"
    }
   ],
   "source": [
    "h_c =model.metabolites.get_by_id('h_c')\n",
    "\n",
    "r.add_metabolites({\n",
    "    h_c: 1,\n",
    "})\n",
    "\n",
    "print(r.check_mass_balance())\n",
    "r"
   ]
  },
  {
   "cell_type": "code",
   "execution_count": 181,
   "metadata": {},
   "outputs": [
    {
     "name": "stdout",
     "output_type": "stream",
     "text": [
      "{'H': -1.0}\n"
     ]
    },
    {
     "data": {
      "text/html": [
       "\n",
       "        <table>\n",
       "            <tr>\n",
       "                <td><strong>Reaction identifier</strong></td><td>SHSL3</td>\n",
       "            </tr><tr>\n",
       "                <td><strong>Name</strong></td><td>R_SHSL3</td>\n",
       "            </tr><tr>\n",
       "                <td><strong>Memory address</strong></td>\n",
       "                <td>0x02a33695f2e0</td>\n",
       "            </tr><tr>\n",
       "                <td><strong>Stoichiometry</strong></td>\n",
       "                <td>\n",
       "                    <p style='text-align:right'>achms_c + cys_L_c --> ac_c + cyst_L_c</p>\n",
       "                    <p style='text-align:right'>M_achms_c + M_cys_L_c --> M_ac_c + M_cyst_L_c</p>\n",
       "                </td>\n",
       "            </tr><tr>\n",
       "                <td><strong>GPR</strong></td><td>NGO0386</td>\n",
       "            </tr><tr>\n",
       "                <td><strong>Lower bound</strong></td><td>0.0</td>\n",
       "            </tr><tr>\n",
       "                <td><strong>Upper bound</strong></td><td>999999.0</td>\n",
       "            </tr>\n",
       "        </table>\n",
       "        "
      ],
      "text/plain": [
       "<Reaction SHSL3 at 0x2a33695f2e0>"
      ]
     },
     "execution_count": 181,
     "metadata": {},
     "output_type": "execute_result"
    }
   ],
   "source": [
    "#SHLS3\n",
    "r = model.reactions.get_by_id('SHSL3')\n",
    "print(r.check_mass_balance())\n",
    "r\n"
   ]
  },
  {
   "cell_type": "code",
   "execution_count": 182,
   "metadata": {
    "scrolled": true
   },
   "outputs": [
    {
     "name": "stdout",
     "output_type": "stream",
     "text": [
      "{}\n"
     ]
    },
    {
     "data": {
      "text/html": [
       "\n",
       "        <table>\n",
       "            <tr>\n",
       "                <td><strong>Reaction identifier</strong></td><td>SHSL3</td>\n",
       "            </tr><tr>\n",
       "                <td><strong>Name</strong></td><td>R_SHSL3</td>\n",
       "            </tr><tr>\n",
       "                <td><strong>Memory address</strong></td>\n",
       "                <td>0x02a33695f2e0</td>\n",
       "            </tr><tr>\n",
       "                <td><strong>Stoichiometry</strong></td>\n",
       "                <td>\n",
       "                    <p style='text-align:right'>achms_c + cys_L_c --> ac_c + cyst_L_c + h_c</p>\n",
       "                    <p style='text-align:right'>M_achms_c + M_cys_L_c --> M_ac_c + M_cyst_L_c + M_h_c</p>\n",
       "                </td>\n",
       "            </tr><tr>\n",
       "                <td><strong>GPR</strong></td><td>NGO0386</td>\n",
       "            </tr><tr>\n",
       "                <td><strong>Lower bound</strong></td><td>0.0</td>\n",
       "            </tr><tr>\n",
       "                <td><strong>Upper bound</strong></td><td>999999.0</td>\n",
       "            </tr>\n",
       "        </table>\n",
       "        "
      ],
      "text/plain": [
       "<Reaction SHSL3 at 0x2a33695f2e0>"
      ]
     },
     "execution_count": 182,
     "metadata": {},
     "output_type": "execute_result"
    }
   ],
   "source": [
    "h_c =model.metabolites.get_by_id('h_c')\n",
    "\n",
    "r.add_metabolites({\n",
    "    h_c: 1,\n",
    "})\n",
    "\n",
    "print(r.check_mass_balance())\n",
    "r"
   ]
  },
  {
   "cell_type": "code",
   "execution_count": 183,
   "metadata": {
    "scrolled": true
   },
   "outputs": [
    {
     "name": "stdout",
     "output_type": "stream",
     "text": [
      "{'H': -1.0}\n"
     ]
    },
    {
     "data": {
      "text/html": [
       "\n",
       "        <table>\n",
       "            <tr>\n",
       "                <td><strong>Reaction identifier</strong></td><td>SHSL5</td>\n",
       "            </tr><tr>\n",
       "                <td><strong>Name</strong></td><td>R_SHSL5</td>\n",
       "            </tr><tr>\n",
       "                <td><strong>Memory address</strong></td>\n",
       "                <td>0x02a33696b490</td>\n",
       "            </tr><tr>\n",
       "                <td><strong>Stoichiometry</strong></td>\n",
       "                <td>\n",
       "                    <p style='text-align:right'>h2o_c + suchms_c --> 2obut_c + nh4_c + succ_c</p>\n",
       "                    <p style='text-align:right'>M_h2o_c + M_suchms_c --> M_2obut_c + M_nh4_c + M_succ_c</p>\n",
       "                </td>\n",
       "            </tr><tr>\n",
       "                <td><strong>GPR</strong></td><td>NGO0386</td>\n",
       "            </tr><tr>\n",
       "                <td><strong>Lower bound</strong></td><td>0.0</td>\n",
       "            </tr><tr>\n",
       "                <td><strong>Upper bound</strong></td><td>999999.0</td>\n",
       "            </tr>\n",
       "        </table>\n",
       "        "
      ],
      "text/plain": [
       "<Reaction SHSL5 at 0x2a33696b490>"
      ]
     },
     "execution_count": 183,
     "metadata": {},
     "output_type": "execute_result"
    }
   ],
   "source": [
    "#SHLS5\n",
    "r = model.reactions.get_by_id('SHSL5')\n",
    "print(r.check_mass_balance())\n",
    "r\n"
   ]
  },
  {
   "cell_type": "code",
   "execution_count": 184,
   "metadata": {
    "scrolled": true
   },
   "outputs": [
    {
     "name": "stdout",
     "output_type": "stream",
     "text": [
      "{}\n"
     ]
    },
    {
     "data": {
      "text/html": [
       "\n",
       "        <table>\n",
       "            <tr>\n",
       "                <td><strong>Reaction identifier</strong></td><td>SHSL5</td>\n",
       "            </tr><tr>\n",
       "                <td><strong>Name</strong></td><td>R_SHSL5</td>\n",
       "            </tr><tr>\n",
       "                <td><strong>Memory address</strong></td>\n",
       "                <td>0x02a33696b490</td>\n",
       "            </tr><tr>\n",
       "                <td><strong>Stoichiometry</strong></td>\n",
       "                <td>\n",
       "                    <p style='text-align:right'>h2o_c + suchms_c --> 2obut_c + h_c + nh4_c + succ_c</p>\n",
       "                    <p style='text-align:right'>M_h2o_c + M_suchms_c --> M_2obut_c + M_h_c + M_nh4_c + M_succ_c</p>\n",
       "                </td>\n",
       "            </tr><tr>\n",
       "                <td><strong>GPR</strong></td><td>NGO0386</td>\n",
       "            </tr><tr>\n",
       "                <td><strong>Lower bound</strong></td><td>0.0</td>\n",
       "            </tr><tr>\n",
       "                <td><strong>Upper bound</strong></td><td>999999.0</td>\n",
       "            </tr>\n",
       "        </table>\n",
       "        "
      ],
      "text/plain": [
       "<Reaction SHSL5 at 0x2a33696b490>"
      ]
     },
     "execution_count": 184,
     "metadata": {},
     "output_type": "execute_result"
    }
   ],
   "source": [
    "h_c =model.metabolites.get_by_id('h_c')\n",
    "\n",
    "r.add_metabolites({\n",
    "    h_c: 1,\n",
    "})\n",
    "\n",
    "print(r.check_mass_balance())\n",
    "r"
   ]
  },
  {
   "cell_type": "code",
   "execution_count": 185,
   "metadata": {
    "scrolled": true
   },
   "outputs": [
    {
     "name": "stdout",
     "output_type": "stream",
     "text": [
      "{'H': -2.0}\n"
     ]
    },
    {
     "data": {
      "text/html": [
       "\n",
       "        <table>\n",
       "            <tr>\n",
       "                <td><strong>Reaction identifier</strong></td><td>SHSL4</td>\n",
       "            </tr><tr>\n",
       "                <td><strong>Name</strong></td><td>R_SHSL4</td>\n",
       "            </tr><tr>\n",
       "                <td><strong>Memory address</strong></td>\n",
       "                <td>0x02a33695f310</td>\n",
       "            </tr><tr>\n",
       "                <td><strong>Stoichiometry</strong></td>\n",
       "                <td>\n",
       "                    <p style='text-align:right'>achms_c + h_c + trdrd_c + tsul_c --> ac_c + hcys_L_c + so3_c + trdox_c</p>\n",
       "                    <p style='text-align:right'>M_achms_c + M_h_c + M_trdrd_c + M_tsul_c --> M_ac_c + M_hcys_L_c + M_so3_c + M_trdox_c</p>\n",
       "                </td>\n",
       "            </tr><tr>\n",
       "                <td><strong>GPR</strong></td><td>NGO0386</td>\n",
       "            </tr><tr>\n",
       "                <td><strong>Lower bound</strong></td><td>0.0</td>\n",
       "            </tr><tr>\n",
       "                <td><strong>Upper bound</strong></td><td>999999.0</td>\n",
       "            </tr>\n",
       "        </table>\n",
       "        "
      ],
      "text/plain": [
       "<Reaction SHSL4 at 0x2a33695f310>"
      ]
     },
     "execution_count": 185,
     "metadata": {},
     "output_type": "execute_result"
    }
   ],
   "source": [
    "#SHLS4\n",
    "r = model.reactions.get_by_id('SHSL4')\n",
    "print(r.check_mass_balance())\n",
    "r\n"
   ]
  },
  {
   "cell_type": "code",
   "execution_count": 186,
   "metadata": {
    "scrolled": true
   },
   "outputs": [
    {
     "name": "stdout",
     "output_type": "stream",
     "text": [
      "{}\n"
     ]
    },
    {
     "data": {
      "text/html": [
       "\n",
       "        <table>\n",
       "            <tr>\n",
       "                <td><strong>Reaction identifier</strong></td><td>SHSL4</td>\n",
       "            </tr><tr>\n",
       "                <td><strong>Name</strong></td><td>R_SHSL4</td>\n",
       "            </tr><tr>\n",
       "                <td><strong>Memory address</strong></td>\n",
       "                <td>0x02a33695f310</td>\n",
       "            </tr><tr>\n",
       "                <td><strong>Stoichiometry</strong></td>\n",
       "                <td>\n",
       "                    <p style='text-align:right'>achms_c + trdrd_c + tsul_c --> ac_c + h_c + hcys_L_c + so3_c + trdox_c</p>\n",
       "                    <p style='text-align:right'>M_achms_c + M_trdrd_c + M_tsul_c --> M_ac_c + M_h_c + M_hcys_L_c + M_so3_c + M_trdox_c</p>\n",
       "                </td>\n",
       "            </tr><tr>\n",
       "                <td><strong>GPR</strong></td><td>NGO0386</td>\n",
       "            </tr><tr>\n",
       "                <td><strong>Lower bound</strong></td><td>0.0</td>\n",
       "            </tr><tr>\n",
       "                <td><strong>Upper bound</strong></td><td>999999.0</td>\n",
       "            </tr>\n",
       "        </table>\n",
       "        "
      ],
      "text/plain": [
       "<Reaction SHSL4 at 0x2a33695f310>"
      ]
     },
     "execution_count": 186,
     "metadata": {},
     "output_type": "execute_result"
    }
   ],
   "source": [
    "h_c =model.metabolites.get_by_id('h_c')\n",
    "\n",
    "r.add_metabolites({\n",
    "    h_c: 2,\n",
    "})\n",
    "\n",
    "print(r.check_mass_balance())\n",
    "r"
   ]
  },
  {
   "cell_type": "code",
   "execution_count": 187,
   "metadata": {},
   "outputs": [
    {
     "name": "stdout",
     "output_type": "stream",
     "text": [
      "{'Fe': 1.0}\n"
     ]
    },
    {
     "data": {
      "text/html": [
       "\n",
       "        <table>\n",
       "            <tr>\n",
       "                <td><strong>Reaction identifier</strong></td><td>TFFE</td>\n",
       "            </tr><tr>\n",
       "                <td><strong>Name</strong></td><td>R_TFFE</td>\n",
       "            </tr><tr>\n",
       "                <td><strong>Memory address</strong></td>\n",
       "                <td>0x02a336985bb0</td>\n",
       "            </tr><tr>\n",
       "                <td><strong>Stoichiometry</strong></td>\n",
       "                <td>\n",
       "                    <p style='text-align:right'>TfFe3_e --> Tf_e + 2.0 fe3_p</p>\n",
       "                    <p style='text-align:right'>M_TfFe3_e --> M_Tf_e + 2.0 M_fe3_p</p>\n",
       "                </td>\n",
       "            </tr><tr>\n",
       "                <td><strong>GPR</strong></td><td>NGO1496 and NGO1495 and NGO1379 and NGO1378 and (Blank or NGO1377) and NGO0217 and NGO0216 and...</td>\n",
       "            </tr><tr>\n",
       "                <td><strong>Lower bound</strong></td><td>0.0</td>\n",
       "            </tr><tr>\n",
       "                <td><strong>Upper bound</strong></td><td>999999.0</td>\n",
       "            </tr>\n",
       "        </table>\n",
       "        "
      ],
      "text/plain": [
       "<Reaction TFFE at 0x2a336985bb0>"
      ]
     },
     "execution_count": 187,
     "metadata": {},
     "output_type": "execute_result"
    }
   ],
   "source": [
    "#TFFE\n",
    "r = model.reactions.get_by_id('TFFE')\n",
    "print(r.check_mass_balance())\n",
    "r\n"
   ]
  },
  {
   "cell_type": "code",
   "execution_count": 188,
   "metadata": {},
   "outputs": [
    {
     "name": "stdout",
     "output_type": "stream",
     "text": [
      "{}\n"
     ]
    },
    {
     "data": {
      "text/html": [
       "\n",
       "        <table>\n",
       "            <tr>\n",
       "                <td><strong>Reaction identifier</strong></td><td>TFFE</td>\n",
       "            </tr><tr>\n",
       "                <td><strong>Name</strong></td><td>R_TFFE</td>\n",
       "            </tr><tr>\n",
       "                <td><strong>Memory address</strong></td>\n",
       "                <td>0x02a336985bb0</td>\n",
       "            </tr><tr>\n",
       "                <td><strong>Stoichiometry</strong></td>\n",
       "                <td>\n",
       "                    <p style='text-align:right'>TfFe3_e --> Tf_e + fe3_p</p>\n",
       "                    <p style='text-align:right'>M_TfFe3_e --> M_Tf_e + M_fe3_p</p>\n",
       "                </td>\n",
       "            </tr><tr>\n",
       "                <td><strong>GPR</strong></td><td>NGO1496 and NGO1495 and NGO1379 and NGO1378 and (Blank or NGO1377) and NGO0217 and NGO0216 and...</td>\n",
       "            </tr><tr>\n",
       "                <td><strong>Lower bound</strong></td><td>0.0</td>\n",
       "            </tr><tr>\n",
       "                <td><strong>Upper bound</strong></td><td>999999.0</td>\n",
       "            </tr>\n",
       "        </table>\n",
       "        "
      ],
      "text/plain": [
       "<Reaction TFFE at 0x2a336985bb0>"
      ]
     },
     "execution_count": 188,
     "metadata": {},
     "output_type": "execute_result"
    }
   ],
   "source": [
    "#Although transferrin holds two irons, Gc is only capable of stripping one off at a time. So transferrin is made to produce a single iron here. \n",
    "fe3_p =model.metabolites.get_by_id('fe3_p')\n",
    "\n",
    "r.add_metabolites({\n",
    "    fe3_p: -1,\n",
    "})\n",
    "\n",
    "print(r.check_mass_balance())\n",
    "r"
   ]
  },
  {
   "cell_type": "code",
   "execution_count": 189,
   "metadata": {},
   "outputs": [
    {
     "name": "stdout",
     "output_type": "stream",
     "text": [
      "{'X': 1.0}\n"
     ]
    },
    {
     "data": {
      "text/html": [
       "\n",
       "        <table>\n",
       "            <tr>\n",
       "                <td><strong>Reaction identifier</strong></td><td>TRDR1</td>\n",
       "            </tr><tr>\n",
       "                <td><strong>Name</strong></td><td>R_TRDR1</td>\n",
       "            </tr><tr>\n",
       "                <td><strong>Memory address</strong></td>\n",
       "                <td>0x02a33699ff70</td>\n",
       "            </tr><tr>\n",
       "                <td><strong>Stoichiometry</strong></td>\n",
       "                <td>\n",
       "                    <p style='text-align:right'>h_c + nadph_c --> nadp_c + trdrd_c</p>\n",
       "                    <p style='text-align:right'>M_h_c + M_nadph_c --> M_nadp_c + M_trdrd_c</p>\n",
       "                </td>\n",
       "            </tr><tr>\n",
       "                <td><strong>GPR</strong></td><td>NGO0580 and NGO2124</td>\n",
       "            </tr><tr>\n",
       "                <td><strong>Lower bound</strong></td><td>0.0</td>\n",
       "            </tr><tr>\n",
       "                <td><strong>Upper bound</strong></td><td>999999.0</td>\n",
       "            </tr>\n",
       "        </table>\n",
       "        "
      ],
      "text/plain": [
       "<Reaction TRDR1 at 0x2a33699ff70>"
      ]
     },
     "execution_count": 189,
     "metadata": {},
     "output_type": "execute_result"
    }
   ],
   "source": [
    "#TRDR1\n",
    "#synthesis of thioredoxin. Protein based component.\n",
    "r = model.reactions.get_by_id('TRDR1')\n",
    "print(r.check_mass_balance())\n",
    "r\n"
   ]
  },
  {
   "cell_type": "code",
   "execution_count": 190,
   "metadata": {},
   "outputs": [
    {
     "name": "stdout",
     "output_type": "stream",
     "text": [
      "{}\n"
     ]
    },
    {
     "data": {
      "text/html": [
       "\n",
       "        <table>\n",
       "            <tr>\n",
       "                <td><strong>Reaction identifier</strong></td><td>TRDR1</td>\n",
       "            </tr><tr>\n",
       "                <td><strong>Name</strong></td><td>R_TRDR1</td>\n",
       "            </tr><tr>\n",
       "                <td><strong>Memory address</strong></td>\n",
       "                <td>0x02a33699ff70</td>\n",
       "            </tr><tr>\n",
       "                <td><strong>Stoichiometry</strong></td>\n",
       "                <td>\n",
       "                    <p style='text-align:right'>h_c + nadph_c + trdox_c --> nadp_c + trdrd_c</p>\n",
       "                    <p style='text-align:right'>M_h_c + M_nadph_c + M_trdox_c --> M_nadp_c + M_trdrd_c</p>\n",
       "                </td>\n",
       "            </tr><tr>\n",
       "                <td><strong>GPR</strong></td><td>NGO0580 and NGO2124</td>\n",
       "            </tr><tr>\n",
       "                <td><strong>Lower bound</strong></td><td>0.0</td>\n",
       "            </tr><tr>\n",
       "                <td><strong>Upper bound</strong></td><td>999999.0</td>\n",
       "            </tr>\n",
       "        </table>\n",
       "        "
      ],
      "text/plain": [
       "<Reaction TRDR1 at 0x2a33699ff70>"
      ]
     },
     "execution_count": 190,
     "metadata": {},
     "output_type": "execute_result"
    }
   ],
   "source": [
    "trdox_c =model.metabolites.get_by_id('trdox_c')\n",
    "\n",
    "r.add_metabolites({\n",
    "    trdox_c: -1,\n",
    "})\n",
    "\n",
    "print(r.check_mass_balance())\n",
    "r"
   ]
  },
  {
   "cell_type": "code",
   "execution_count": 191,
   "metadata": {},
   "outputs": [],
   "source": [
    "###Figure out why this prevents the model from writing to SBML \n",
    "\n",
    "#Add thioredoxin import reaction. This is required to show \"synthesis\" of a protein based component. \n",
    "#Integration of Biomass Formulations of Genome-Scale Metabolic Models with Experimental Data Reveals Universally Essential Cofactors in Prokaryotes\n",
    "#Joana C Xavier, Kiran Raosaheb Patil, Isabel Rocha\n",
    "#PMID: 27939572 PMCID: PMC5249239\n",
    "\n",
    "trdrd_c = model.metabolites.get_by_id('trdrd_c')\n",
    "\n",
    "EX_trdrd_c_ = cobra.Reaction('EX_trdrd_c_')\n",
    "EX_trdrd_c_.gene_reaction_rule = ''\n",
    "EX_trdrd_c_.lower_bound = 0.\n",
    "EX_trdrd_c_.upper_bound = 1000.\n",
    "EX_trdrd_c_.add_metabolites({\n",
    "    trdrd_c: -1.0,\n",
    "})\n",
    "\n",
    "model.add_reactions([EX_trdrd_c_])\n",
    "new_rxns += 1\n"
   ]
  },
  {
   "cell_type": "code",
   "execution_count": 192,
   "metadata": {},
   "outputs": [
    {
     "name": "stdout",
     "output_type": "stream",
     "text": [
      "{'H': -2.0}\n"
     ]
    },
    {
     "data": {
      "text/html": [
       "\n",
       "        <table>\n",
       "            <tr>\n",
       "                <td><strong>Reaction identifier</strong></td><td>TSULST</td>\n",
       "            </tr><tr>\n",
       "                <td><strong>Name</strong></td><td>R_TSULST</td>\n",
       "            </tr><tr>\n",
       "                <td><strong>Memory address</strong></td>\n",
       "                <td>0x02a3369aaf40</td>\n",
       "            </tr><tr>\n",
       "                <td><strong>Stoichiometry</strong></td>\n",
       "                <td>\n",
       "                    <p style='text-align:right'>acser_c + h_c + trdrd_c + tsul_c <=> ac_c + cys_L_c + so3_c + trdox_c</p>\n",
       "                    <p style='text-align:right'>M_acser_c + M_h_c + M_trdrd_c + M_tsul_c <=> M_ac_c + M_cys_L_c + M_so3_c + M_trdox_c</p>\n",
       "                </td>\n",
       "            </tr><tr>\n",
       "                <td><strong>GPR</strong></td><td>NGO0340</td>\n",
       "            </tr><tr>\n",
       "                <td><strong>Lower bound</strong></td><td>-999999.0</td>\n",
       "            </tr><tr>\n",
       "                <td><strong>Upper bound</strong></td><td>999999.0</td>\n",
       "            </tr>\n",
       "        </table>\n",
       "        "
      ],
      "text/plain": [
       "<Reaction TSULST at 0x2a3369aaf40>"
      ]
     },
     "execution_count": 192,
     "metadata": {},
     "output_type": "execute_result"
    }
   ],
   "source": [
    "#TSULST\n",
    "#synthesis of thioredoxin. Protein based component. \n",
    "r = model.reactions.get_by_id('TSULST')\n",
    "print(r.check_mass_balance())\n",
    "r\n"
   ]
  },
  {
   "cell_type": "code",
   "execution_count": null,
   "metadata": {},
   "outputs": [],
   "source": []
  },
  {
   "cell_type": "code",
   "execution_count": 193,
   "metadata": {},
   "outputs": [
    {
     "name": "stdout",
     "output_type": "stream",
     "text": [
      "{}\n"
     ]
    },
    {
     "data": {
      "text/html": [
       "\n",
       "        <table>\n",
       "            <tr>\n",
       "                <td><strong>Reaction identifier</strong></td><td>TSULST</td>\n",
       "            </tr><tr>\n",
       "                <td><strong>Name</strong></td><td>R_TSULST</td>\n",
       "            </tr><tr>\n",
       "                <td><strong>Memory address</strong></td>\n",
       "                <td>0x02a3369aaf40</td>\n",
       "            </tr><tr>\n",
       "                <td><strong>Stoichiometry</strong></td>\n",
       "                <td>\n",
       "                    <p style='text-align:right'>acser_c + trdrd_c + tsul_c <=> ac_c + cys_L_c + h_c + so3_c + trdox_c</p>\n",
       "                    <p style='text-align:right'>M_acser_c + M_trdrd_c + M_tsul_c <=> M_ac_c + M_cys_L_c + M_h_c + M_so3_c + M_trdox_c</p>\n",
       "                </td>\n",
       "            </tr><tr>\n",
       "                <td><strong>GPR</strong></td><td>NGO0340</td>\n",
       "            </tr><tr>\n",
       "                <td><strong>Lower bound</strong></td><td>-999999.0</td>\n",
       "            </tr><tr>\n",
       "                <td><strong>Upper bound</strong></td><td>999999.0</td>\n",
       "            </tr>\n",
       "        </table>\n",
       "        "
      ],
      "text/plain": [
       "<Reaction TSULST at 0x2a3369aaf40>"
      ]
     },
     "execution_count": 193,
     "metadata": {},
     "output_type": "execute_result"
    }
   ],
   "source": [
    "h_c =model.metabolites.get_by_id('h_c')\n",
    "\n",
    "r.add_metabolites({\n",
    "    h_c: 2,\n",
    "})\n",
    "\n",
    "print(r.check_mass_balance())\n",
    "r"
   ]
  },
  {
   "cell_type": "code",
   "execution_count": 194,
   "metadata": {},
   "outputs": [
    {
     "name": "stdout",
     "output_type": "stream",
     "text": [
      "10 10 10\n"
     ]
    },
    {
     "data": {
      "text/html": [
       "<div>\n",
       "<style scoped>\n",
       "    .dataframe tbody tr th:only-of-type {\n",
       "        vertical-align: middle;\n",
       "    }\n",
       "\n",
       "    .dataframe tbody tr th {\n",
       "        vertical-align: top;\n",
       "    }\n",
       "\n",
       "    .dataframe thead th {\n",
       "        text-align: right;\n",
       "    }\n",
       "</style>\n",
       "<table border=\"1\" class=\"dataframe\">\n",
       "  <thead>\n",
       "    <tr style=\"text-align: right;\">\n",
       "      <th></th>\n",
       "      <th>Reactions</th>\n",
       "      <th>Charge</th>\n",
       "      <th>Masses</th>\n",
       "    </tr>\n",
       "  </thead>\n",
       "  <tbody>\n",
       "    <tr>\n",
       "      <th>0</th>\n",
       "      <td>3OAS161a</td>\n",
       "      <td></td>\n",
       "      <td>{'C': -12.0, 'H': -21.0, 'N': -2.0, 'O': -9.0,...</td>\n",
       "    </tr>\n",
       "    <tr>\n",
       "      <th>1</th>\n",
       "      <td>ASNSYN</td>\n",
       "      <td></td>\n",
       "      <td>{'H': 2.0, 'O': 2.0}</td>\n",
       "    </tr>\n",
       "    <tr>\n",
       "      <th>2</th>\n",
       "      <td>BTS4</td>\n",
       "      <td></td>\n",
       "      <td>{'S': 1.0}</td>\n",
       "    </tr>\n",
       "    <tr>\n",
       "      <th>3</th>\n",
       "      <td>CYTCS</td>\n",
       "      <td></td>\n",
       "      <td>{'C': 8.0, 'H': 14.0, 'N': 4.0, 'O': 4.0, 'S':...</td>\n",
       "    </tr>\n",
       "    <tr>\n",
       "      <th>4</th>\n",
       "      <td>DASYN161a</td>\n",
       "      <td></td>\n",
       "      <td>{'H': -1.0}</td>\n",
       "    </tr>\n",
       "    <tr>\n",
       "      <th>5</th>\n",
       "      <td>DDPGA</td>\n",
       "      <td></td>\n",
       "      <td>{'H': 2.0}</td>\n",
       "    </tr>\n",
       "    <tr>\n",
       "      <th>6</th>\n",
       "      <td>P3H5CD</td>\n",
       "      <td></td>\n",
       "      <td>{'H': -1.0}</td>\n",
       "    </tr>\n",
       "    <tr>\n",
       "      <th>7</th>\n",
       "      <td>PGSA161a</td>\n",
       "      <td></td>\n",
       "      <td>{'H': 1.0}</td>\n",
       "    </tr>\n",
       "    <tr>\n",
       "      <th>8</th>\n",
       "      <td>PLIPA1G161a</td>\n",
       "      <td></td>\n",
       "      <td>{'H': -1.0}</td>\n",
       "    </tr>\n",
       "    <tr>\n",
       "      <th>9</th>\n",
       "      <td>PMCOAS</td>\n",
       "      <td></td>\n",
       "      <td>{'C': 7.0, 'H': 9.0, 'O': 3.0}</td>\n",
       "    </tr>\n",
       "  </tbody>\n",
       "</table>\n",
       "</div>"
      ],
      "text/plain": [
       "     Reactions Charge                                             Masses\n",
       "0     3OAS161a         {'C': -12.0, 'H': -21.0, 'N': -2.0, 'O': -9.0,...\n",
       "1       ASNSYN                                      {'H': 2.0, 'O': 2.0}\n",
       "2         BTS4                                                {'S': 1.0}\n",
       "3        CYTCS         {'C': 8.0, 'H': 14.0, 'N': 4.0, 'O': 4.0, 'S':...\n",
       "4    DASYN161a                                               {'H': -1.0}\n",
       "5        DDPGA                                                {'H': 2.0}\n",
       "6       P3H5CD                                               {'H': -1.0}\n",
       "7     PGSA161a                                                {'H': 1.0}\n",
       "8  PLIPA1G161a                                               {'H': -1.0}\n",
       "9       PMCOAS                            {'C': 7.0, 'H': 9.0, 'O': 3.0}"
      ]
     },
     "execution_count": 194,
     "metadata": {},
     "output_type": "execute_result"
    }
   ],
   "source": [
    "#After bulk removing cofactors, what reaction imbalances remain?\n",
    "reactions = []\n",
    "charge = []\n",
    "mass = []\n",
    "for react in model.reactions:\n",
    "    result = react.check_mass_balance()\n",
    "    if 'EX_' in  react.id:\n",
    "        continue\n",
    "    if 'Nm_' in  react.id:\n",
    "        continue\n",
    "    if 'DM_' in  react.id:\n",
    "        continue \n",
    "    if react.id in biomass_reactions:\n",
    "        continue\n",
    "    if len(result) == 0:\n",
    "        continue\n",
    "    else: \n",
    "        reactions.append(react.id)\n",
    "        masses = {}\n",
    "        for key in result.keys():\n",
    "            if key == 'charge':\n",
    "                charge.append(result['charge'])\n",
    "            else:\n",
    "                masses[key] = result[key]\n",
    "        if 'charge' not in result.keys():\n",
    "            charge.append('')\n",
    "        mass.append(masses)\n",
    "print(len(reactions), len(charge), len(mass))\n",
    "\n",
    "mass_charge_dict = {'Reactions': reactions, 'Charge': charge, 'Masses': mass}\n",
    "mass_charge = pandas.DataFrame(mass_charge_dict)\n",
    "mass_charge.to_csv('imbalancesremaining.csv')\n",
    "mass_charge"
   ]
  },
  {
   "cell_type": "code",
   "execution_count": 195,
   "metadata": {},
   "outputs": [
    {
     "name": "stdout",
     "output_type": "stream",
     "text": [
      "{'H': 2.0}\n"
     ]
    },
    {
     "data": {
      "text/html": [
       "\n",
       "        <table>\n",
       "            <tr>\n",
       "                <td><strong>Reaction identifier</strong></td><td>DDPGA</td>\n",
       "            </tr><tr>\n",
       "                <td><strong>Name</strong></td><td>R_DDPGA</td>\n",
       "            </tr><tr>\n",
       "                <td><strong>Memory address</strong></td>\n",
       "                <td>0x02a336734df0</td>\n",
       "            </tr><tr>\n",
       "                <td><strong>Stoichiometry</strong></td>\n",
       "                <td>\n",
       "                    <p style='text-align:right'>4h2oglt_c --> glx_c + 2.0 h_c + pyr_c</p>\n",
       "                    <p style='text-align:right'>M_4h2oglt_c --> M_glx_c + 2.0 M_h_c + M_pyr_c</p>\n",
       "                </td>\n",
       "            </tr><tr>\n",
       "                <td><strong>GPR</strong></td><td>NGO0713</td>\n",
       "            </tr><tr>\n",
       "                <td><strong>Lower bound</strong></td><td>0.0</td>\n",
       "            </tr><tr>\n",
       "                <td><strong>Upper bound</strong></td><td>999999.0</td>\n",
       "            </tr>\n",
       "        </table>\n",
       "        "
      ],
      "text/plain": [
       "<Reaction DDPGA at 0x2a336734df0>"
      ]
     },
     "execution_count": 195,
     "metadata": {},
     "output_type": "execute_result"
    }
   ],
   "source": [
    "#DDPGA\n",
    "r = model.reactions.get_by_id('DDPGA')\n",
    "print(r.check_mass_balance())\n",
    "r"
   ]
  },
  {
   "cell_type": "code",
   "execution_count": 196,
   "metadata": {},
   "outputs": [
    {
     "name": "stdout",
     "output_type": "stream",
     "text": [
      "{}\n"
     ]
    },
    {
     "data": {
      "text/html": [
       "\n",
       "        <table>\n",
       "            <tr>\n",
       "                <td><strong>Reaction identifier</strong></td><td>DDPGA</td>\n",
       "            </tr><tr>\n",
       "                <td><strong>Name</strong></td><td>R_DDPGA</td>\n",
       "            </tr><tr>\n",
       "                <td><strong>Memory address</strong></td>\n",
       "                <td>0x02a336734df0</td>\n",
       "            </tr><tr>\n",
       "                <td><strong>Stoichiometry</strong></td>\n",
       "                <td>\n",
       "                    <p style='text-align:right'>4h2oglt_c --> glx_c + pyr_c</p>\n",
       "                    <p style='text-align:right'>M_4h2oglt_c --> M_glx_c + M_pyr_c</p>\n",
       "                </td>\n",
       "            </tr><tr>\n",
       "                <td><strong>GPR</strong></td><td>NGO0713</td>\n",
       "            </tr><tr>\n",
       "                <td><strong>Lower bound</strong></td><td>0.0</td>\n",
       "            </tr><tr>\n",
       "                <td><strong>Upper bound</strong></td><td>999999.0</td>\n",
       "            </tr>\n",
       "        </table>\n",
       "        "
      ],
      "text/plain": [
       "<Reaction DDPGA at 0x2a336734df0>"
      ]
     },
     "execution_count": 196,
     "metadata": {},
     "output_type": "execute_result"
    }
   ],
   "source": [
    "#There are two extra Hs produced in this reaction due to changes in protonation for h2oglt/glx. \n",
    "#Bigg does not indicate hydrogens are produced in this reaction. Correcting to match bigg. \n",
    "h_c =model.metabolites.get_by_id('h_c')\n",
    "\n",
    "r.add_metabolites({\n",
    "    h_c: -2,\n",
    "})\n",
    "\n",
    "print(r.check_mass_balance())\n",
    "r"
   ]
  },
  {
   "cell_type": "code",
   "execution_count": 197,
   "metadata": {},
   "outputs": [
    {
     "name": "stdout",
     "output_type": "stream",
     "text": [
      "{'H': -1.0}\n"
     ]
    },
    {
     "data": {
      "text/html": [
       "\n",
       "        <table>\n",
       "            <tr>\n",
       "                <td><strong>Reaction identifier</strong></td><td>P3H5CD</td>\n",
       "            </tr><tr>\n",
       "                <td><strong>Name</strong></td><td>R_P3H5CD</td>\n",
       "            </tr><tr>\n",
       "                <td><strong>Memory address</strong></td>\n",
       "                <td>0x02a336838e50</td>\n",
       "            </tr><tr>\n",
       "                <td><strong>Stoichiometry</strong></td>\n",
       "                <td>\n",
       "                    <p style='text-align:right'>1p3h5c_c + 2.0 h2o_c + nadp_c <=> e4hglu_c + h_c + nadph_c</p>\n",
       "                    <p style='text-align:right'>M_1p3h5c_c + 2.0 M_h2o_c + M_nadp_c <=> M_e4hglu_c + M_h_c + M_nadph_c</p>\n",
       "                </td>\n",
       "            </tr><tr>\n",
       "                <td><strong>GPR</strong></td><td>NGO08225</td>\n",
       "            </tr><tr>\n",
       "                <td><strong>Lower bound</strong></td><td>-999999.0</td>\n",
       "            </tr><tr>\n",
       "                <td><strong>Upper bound</strong></td><td>999999.0</td>\n",
       "            </tr>\n",
       "        </table>\n",
       "        "
      ],
      "text/plain": [
       "<Reaction P3H5CD at 0x2a336838e50>"
      ]
     },
     "execution_count": 197,
     "metadata": {},
     "output_type": "execute_result"
    }
   ],
   "source": [
    "#P3H5CD\n",
    "r = model.reactions.get_by_id('P3H5CD')\n",
    "print(r.check_mass_balance())\n",
    "r"
   ]
  },
  {
   "cell_type": "code",
   "execution_count": 198,
   "metadata": {},
   "outputs": [
    {
     "name": "stdout",
     "output_type": "stream",
     "text": [
      "{}\n"
     ]
    },
    {
     "data": {
      "text/html": [
       "\n",
       "        <table>\n",
       "            <tr>\n",
       "                <td><strong>Reaction identifier</strong></td><td>P3H5CD</td>\n",
       "            </tr><tr>\n",
       "                <td><strong>Name</strong></td><td>R_P3H5CD</td>\n",
       "            </tr><tr>\n",
       "                <td><strong>Memory address</strong></td>\n",
       "                <td>0x02a336838e50</td>\n",
       "            </tr><tr>\n",
       "                <td><strong>Stoichiometry</strong></td>\n",
       "                <td>\n",
       "                    <p style='text-align:right'>1p3h5c_c + 2.0 h2o_c + nadp_c <=> e4hglu_c + 2.0 h_c + nadph_c</p>\n",
       "                    <p style='text-align:right'>M_1p3h5c_c + 2.0 M_h2o_c + M_nadp_c <=> M_e4hglu_c + 2.0 M_h_c + M_nadph_c</p>\n",
       "                </td>\n",
       "            </tr><tr>\n",
       "                <td><strong>GPR</strong></td><td>NGO08225</td>\n",
       "            </tr><tr>\n",
       "                <td><strong>Lower bound</strong></td><td>-999999.0</td>\n",
       "            </tr><tr>\n",
       "                <td><strong>Upper bound</strong></td><td>999999.0</td>\n",
       "            </tr>\n",
       "        </table>\n",
       "        "
      ],
      "text/plain": [
       "<Reaction P3H5CD at 0x2a336838e50>"
      ]
     },
     "execution_count": 198,
     "metadata": {},
     "output_type": "execute_result"
    }
   ],
   "source": [
    "#The protonation of e4hglu was changed when correcting HGTA. This results in having an extra h consumed in P3H5CD.\n",
    "#This is corrected here. \n",
    "h_c =model.metabolites.get_by_id('h_c')\n",
    "\n",
    "r.add_metabolites({\n",
    "    h_c: 1.0,\n",
    "})\n",
    "\n",
    "print(r.check_mass_balance())\n",
    "r"
   ]
  },
  {
   "cell_type": "code",
   "execution_count": 199,
   "metadata": {},
   "outputs": [
    {
     "name": "stdout",
     "output_type": "stream",
     "text": [
      "8 8 8\n"
     ]
    },
    {
     "data": {
      "text/html": [
       "<div>\n",
       "<style scoped>\n",
       "    .dataframe tbody tr th:only-of-type {\n",
       "        vertical-align: middle;\n",
       "    }\n",
       "\n",
       "    .dataframe tbody tr th {\n",
       "        vertical-align: top;\n",
       "    }\n",
       "\n",
       "    .dataframe thead th {\n",
       "        text-align: right;\n",
       "    }\n",
       "</style>\n",
       "<table border=\"1\" class=\"dataframe\">\n",
       "  <thead>\n",
       "    <tr style=\"text-align: right;\">\n",
       "      <th></th>\n",
       "      <th>Reactions</th>\n",
       "      <th>Charge</th>\n",
       "      <th>Masses</th>\n",
       "    </tr>\n",
       "  </thead>\n",
       "  <tbody>\n",
       "    <tr>\n",
       "      <th>0</th>\n",
       "      <td>3OAS161a</td>\n",
       "      <td></td>\n",
       "      <td>{'C': -12.0, 'H': -21.0, 'N': -2.0, 'O': -9.0,...</td>\n",
       "    </tr>\n",
       "    <tr>\n",
       "      <th>1</th>\n",
       "      <td>ASNSYN</td>\n",
       "      <td></td>\n",
       "      <td>{'H': 2.0, 'O': 2.0}</td>\n",
       "    </tr>\n",
       "    <tr>\n",
       "      <th>2</th>\n",
       "      <td>BTS4</td>\n",
       "      <td></td>\n",
       "      <td>{'S': 1.0}</td>\n",
       "    </tr>\n",
       "    <tr>\n",
       "      <th>3</th>\n",
       "      <td>CYTCS</td>\n",
       "      <td></td>\n",
       "      <td>{'C': 8.0, 'H': 14.0, 'N': 4.0, 'O': 4.0, 'S':...</td>\n",
       "    </tr>\n",
       "    <tr>\n",
       "      <th>4</th>\n",
       "      <td>DASYN161a</td>\n",
       "      <td></td>\n",
       "      <td>{'H': -1.0}</td>\n",
       "    </tr>\n",
       "    <tr>\n",
       "      <th>5</th>\n",
       "      <td>PGSA161a</td>\n",
       "      <td></td>\n",
       "      <td>{'H': 1.0}</td>\n",
       "    </tr>\n",
       "    <tr>\n",
       "      <th>6</th>\n",
       "      <td>PLIPA1G161a</td>\n",
       "      <td></td>\n",
       "      <td>{'H': -1.0}</td>\n",
       "    </tr>\n",
       "    <tr>\n",
       "      <th>7</th>\n",
       "      <td>PMCOAS</td>\n",
       "      <td></td>\n",
       "      <td>{'C': 7.0, 'H': 9.0, 'O': 3.0}</td>\n",
       "    </tr>\n",
       "  </tbody>\n",
       "</table>\n",
       "</div>"
      ],
      "text/plain": [
       "     Reactions Charge                                             Masses\n",
       "0     3OAS161a         {'C': -12.0, 'H': -21.0, 'N': -2.0, 'O': -9.0,...\n",
       "1       ASNSYN                                      {'H': 2.0, 'O': 2.0}\n",
       "2         BTS4                                                {'S': 1.0}\n",
       "3        CYTCS         {'C': 8.0, 'H': 14.0, 'N': 4.0, 'O': 4.0, 'S':...\n",
       "4    DASYN161a                                               {'H': -1.0}\n",
       "5     PGSA161a                                                {'H': 1.0}\n",
       "6  PLIPA1G161a                                               {'H': -1.0}\n",
       "7       PMCOAS                            {'C': 7.0, 'H': 9.0, 'O': 3.0}"
      ]
     },
     "execution_count": 199,
     "metadata": {},
     "output_type": "execute_result"
    }
   ],
   "source": [
    "#After bulk removing cofactors, what reaction imbalances remain?\n",
    "reactions = []\n",
    "charge = []\n",
    "mass = []\n",
    "for react in model.reactions:\n",
    "    result = react.check_mass_balance()\n",
    "    if 'EX_' in  react.id:\n",
    "        continue\n",
    "    if 'Nm_' in  react.id:\n",
    "        continue\n",
    "    if 'DM_' in  react.id:\n",
    "        continue \n",
    "    if react.id in biomass_reactions:\n",
    "        continue\n",
    "    if len(result) == 0:\n",
    "        continue\n",
    "    else: \n",
    "        reactions.append(react.id)\n",
    "        masses = {}\n",
    "        for key in result.keys():\n",
    "            if key == 'charge':\n",
    "                charge.append(result['charge'])\n",
    "            else:\n",
    "                masses[key] = result[key]\n",
    "        if 'charge' not in result.keys():\n",
    "            charge.append('')\n",
    "        mass.append(masses)\n",
    "print(len(reactions), len(charge), len(mass))\n",
    "\n",
    "mass_charge_dict = {'Reactions': reactions, 'Charge': charge, 'Masses': mass}\n",
    "mass_charge = pandas.DataFrame(mass_charge_dict)\n",
    "mass_charge.to_csv('imbalancesremaining.csv')\n",
    "mass_charge"
   ]
  },
  {
   "cell_type": "code",
   "execution_count": 200,
   "metadata": {},
   "outputs": [],
   "source": [
    "#Remaining imbalances are ok and due to proteinaceous components or reaction simplifications. "
   ]
  },
  {
   "cell_type": "code",
   "execution_count": 201,
   "metadata": {},
   "outputs": [
    {
     "name": "stdout",
     "output_type": "stream",
     "text": [
      "RPMI 1.4755253491120255\n",
      "MDM 1.5600694866501885\n",
      "RPMI_molarity 0.26369251928844356\n",
      "Complete media 4.209239255277081\n"
     ]
    }
   ],
   "source": [
    "rpmi(model)\n",
    "print ('RPMI',model.slim_optimize())\n",
    "mdm(model)\n",
    "print ('MDM', model.slim_optimize())\n",
    "rpmi_molarity(model)\n",
    "print ('RPMI_molarity', model.slim_optimize())\n",
    "complete(model)\n",
    "print('Complete media', model.slim_optimize())"
   ]
  },
  {
   "cell_type": "code",
   "execution_count": 202,
   "metadata": {
    "scrolled": true
   },
   "outputs": [],
   "source": [
    "#Biomass\n",
    "#https://pubmed.ncbi.nlm.nih.gov/27939572/\n",
    "#Integration of Biomass Formulations of Genome-Scale Metabolic Models with Experimental Data \n",
    "#Reveals Universally Essential Cofactors in Prokaryotes\n",
    "#Joana C Xavier, Kiran Raosaheb Patil, Isabel Rocha\n",
    "#PMID: 27939572 PMCID: PMC5249239\n",
    "\n",
    "#Gc is missing as biomass components that were found to be universally essential:\n",
    "#All of these components are metabolites in the model and just need to be added to the biomass equation.\n",
    "#_acp\n",
    "#_amp\n",
    "#_cmp\n",
    "#_gmp\n",
    "#_cdp\n",
    "#_gdp\n",
    "\n",
    "#Add ACP as a biomass component\n",
    "r=model.reactions.get_by_id('Nm_Ess_biomass')\n"
   ]
  },
  {
   "cell_type": "code",
   "execution_count": 203,
   "metadata": {
    "scrolled": true
   },
   "outputs": [],
   "source": [
    "model.metabolites.trp_L_c.annotation['bigg.metabolite'] = 'trp__L'"
   ]
  },
  {
   "cell_type": "code",
   "execution_count": 204,
   "metadata": {},
   "outputs": [
    {
     "data": {
      "text/plain": [
       "515"
      ]
     },
     "execution_count": 204,
     "metadata": {},
     "output_type": "execute_result"
    }
   ],
   "source": [
    "len(model.genes)"
   ]
  },
  {
   "cell_type": "code",
   "execution_count": 205,
   "metadata": {},
   "outputs": [],
   "source": [
    "model.id ='NGO_516'"
   ]
  },
  {
   "cell_type": "code",
   "execution_count": 206,
   "metadata": {},
   "outputs": [
    {
     "data": {
      "text/html": [
       "\n",
       "        <table>\n",
       "            <tr>\n",
       "                <td><strong>Name</strong></td>\n",
       "                <td>NGO_516</td>\n",
       "            </tr><tr>\n",
       "                <td><strong>Memory address</strong></td>\n",
       "                <td>0x02a32d968460</td>\n",
       "            </tr><tr>\n",
       "                <td><strong>Number of metabolites</strong></td>\n",
       "                <td>1301</td>\n",
       "            </tr><tr>\n",
       "                <td><strong>Number of reactions</strong></td>\n",
       "                <td>1413</td>\n",
       "            </tr><tr>\n",
       "                <td><strong>Number of groups</strong></td>\n",
       "                <td>0</td>\n",
       "            </tr><tr>\n",
       "                <td><strong>Objective expression</strong></td>\n",
       "                <td>1.0*Nm_Ess_biomass - 1.0*Nm_Ess_biomass_reverse_46af5</td>\n",
       "            </tr><tr>\n",
       "                <td><strong>Compartments</strong></td>\n",
       "                <td>periplasm, cytosol, extracellular</td>\n",
       "            </tr>\n",
       "          </table>"
      ],
      "text/plain": [
       "<Model NGO_516 at 0x2a32d968460>"
      ]
     },
     "execution_count": 206,
     "metadata": {},
     "output_type": "execute_result"
    }
   ],
   "source": [
    "model"
   ]
  },
  {
   "cell_type": "code",
   "execution_count": 207,
   "metadata": {
    "scrolled": true
   },
   "outputs": [],
   "source": [
    "cobra.io.write_sbml_model(model, 'C:/Users/Aimee/Documents/UVA/Metabolic_Modeling/organized/models/annotatedGCmodel.xml')"
   ]
  },
  {
   "cell_type": "code",
   "execution_count": 208,
   "metadata": {
    "scrolled": true
   },
   "outputs": [],
   "source": [
    "cobra.io.save_json_model(model, 'C:/Users/Aimee/Documents/UVA/Metabolic_Modeling/organized/models/annotatedGCmodel.json')"
   ]
  },
  {
   "cell_type": "code",
   "execution_count": null,
   "metadata": {
    "scrolled": true
   },
   "outputs": [],
   "source": []
  },
  {
   "cell_type": "code",
   "execution_count": null,
   "metadata": {
    "scrolled": true
   },
   "outputs": [],
   "source": []
  },
  {
   "cell_type": "code",
   "execution_count": null,
   "metadata": {
    "scrolled": true
   },
   "outputs": [],
   "source": []
  },
  {
   "cell_type": "code",
   "execution_count": null,
   "metadata": {
    "scrolled": true
   },
   "outputs": [],
   "source": []
  },
  {
   "cell_type": "code",
   "execution_count": null,
   "metadata": {
    "scrolled": true
   },
   "outputs": [],
   "source": []
  },
  {
   "cell_type": "code",
   "execution_count": null,
   "metadata": {
    "scrolled": true
   },
   "outputs": [],
   "source": []
  },
  {
   "cell_type": "code",
   "execution_count": null,
   "metadata": {
    "scrolled": true
   },
   "outputs": [],
   "source": []
  },
  {
   "cell_type": "code",
   "execution_count": null,
   "metadata": {
    "scrolled": true
   },
   "outputs": [],
   "source": []
  }
 ],
 "metadata": {
  "kernelspec": {
   "display_name": "Python 3",
   "language": "python",
   "name": "python3"
  },
  "language_info": {
   "codemirror_mode": {
    "name": "ipython",
    "version": 3
   },
   "file_extension": ".py",
   "mimetype": "text/x-python",
   "name": "python",
   "nbconvert_exporter": "python",
   "pygments_lexer": "ipython3",
   "version": "3.8.8"
  }
 },
 "nbformat": 4,
 "nbformat_minor": 4
}
