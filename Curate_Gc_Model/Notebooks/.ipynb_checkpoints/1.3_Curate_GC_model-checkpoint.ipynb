{
 "cells": [
  {
   "cell_type": "code",
   "execution_count": 1,
   "id": "adc8ee9d-df91-404b-a602-4bded8bdf414",
   "metadata": {
    "scrolled": true
   },
   "outputs": [
    {
     "name": "stdout",
     "output_type": "stream",
     "text": [
      "Exception reporting mode: Verbose\n"
     ]
    }
   ],
   "source": [
    "# Import libraries - REQUIRES pip version 9.0.3\n",
    "import pandas\n",
    "import os\n",
    "from os.path import join\n",
    "import sys\n",
    "import scipy.stats\n",
    "import numpy\n",
    "import math\n",
    "import pickle\n",
    "import copy\n",
    "import time\n",
    "import warnings\n",
    "import gc\n",
    "\n",
    "# Using Cobrapy 0.13.0\n",
    "import cobra\n",
    "import cobra.test\n",
    "import cobra.flux_analysis.gapfilling\n",
    "from cobra import Reaction, Metabolite\n",
    "from cobra.io import write_sbml_model\n",
    "from cobra.flux_analysis import  flux_variability_analysis\n",
    "from cobra.flux_analysis.reaction import assess_component\n",
    "from cobra.manipulation.delete import *\n",
    "from cobra.flux_analysis.parsimonious import add_pfba\n",
    "from cobra.medium import find_boundary_types\n",
    "from cobra.util import solver as sutil\n",
    "\n",
    "\n",
    "# Confidence levels in each annotation\n",
    "#import probanno\n",
    "\n",
    "# Estabish handler for logger\n",
    "import logging\n",
    "logging.basicConfig()\n",
    "logger = logging.getLogger('logger')\n",
    "\n",
    "# Verbose exception printing\n",
    "%xmode\n"
   ]
  },
  {
   "cell_type": "code",
   "execution_count": 2,
   "id": "bc10d387-71fb-4194-a960-e468035facc7",
   "metadata": {
    "scrolled": true
   },
   "outputs": [],
   "source": [
    "# Define functions\n",
    "\n",
    "# Identify potentially gapfilled reactions\n",
    "def findGapfilledRxn(model, exclude=[]):\n",
    "    gapfilled = []\n",
    "    transport = findTransports(model)\n",
    "    if not type(exclude) is list:\n",
    "        exclude = [exclude]\n",
    "        \n",
    "    for index in model.reactions:\n",
    "        if len(list(index.genes)) == 0:\n",
    "            if not index in model.boundary:\n",
    "                if not index.id in exclude or not index.id in transport:\n",
    "                    gapfilled.append(index.id)\n",
    "    \n",
    "    if len(gapfilled) > 0:\n",
    "        print(str(len(gapfilled)) + ' metabolic reactions not associated with genes')\n",
    "    \n",
    "    return gapfilled\n",
    "\n",
    "# Check for missing transport and exchange reactions\n",
    "def missingRxns(model, extracellular='e'):\n",
    "\n",
    "    transporters = set(findTransports(model))\n",
    "    exchanges = set([x.id for x in model.exchanges])\n",
    "    \n",
    "    missing_exchanges = []\n",
    "    missing_transports = []\n",
    "    \n",
    "    for metabolite in model.metabolites:\n",
    "        if not metabolite.compartment == extracellular:\n",
    "            continue\n",
    "\n",
    "        curr_rxns = set([x.id for x in list(metabolite.reactions)])\n",
    "        \n",
    "        if not bool(curr_rxns & transporters):\n",
    "            missing_transports.append(metabolite.id)\n",
    "        if not bool(curr_rxns & exchanges):\n",
    "            missing_exchanges.append(metabolite.id)\n",
    "    \n",
    "    if len(missing_transports) != 0:\n",
    "        print(str(len(missing_transports)) + ' extracellular metabolites are missing transport reactions')\n",
    "    if len(missing_exchanges) != 0:\n",
    "        print(str(len(missing_exchanges)) + ' extracellular metabolites are missing exchange reactions')\n",
    "        \n",
    "    return missing_transports, missing_exchanges"
   ]
  },
  {
   "cell_type": "code",
   "execution_count": 3,
   "id": "98aa66e0-562e-4575-ae2f-e90cb9c27598",
   "metadata": {
    "scrolled": true
   },
   "outputs": [],
   "source": [
    "# Checks which cytosolic metabolites are generated for free (bacteria only)\n",
    "def checkFreeMass(raw_model, cytosol='cytosol'):\n",
    "    \n",
    "    with raw_model as model:\n",
    "        \n",
    "        # Close all exchanges\n",
    "        for index in model.boundary:\n",
    "            model.reactions.get_by_id(index.id).lower_bound = 0.\n",
    "        \n",
    "        # Identify all metabolites that are produced within the network\n",
    "        demand_metabolites = [x.reactants[0].id for x in model.demands if len(x.reactants) > 0]\n",
    "        demand_metabolites += [x.products[0].id for x in model.demands if len(x.products) > 0]\n",
    "\n",
    "        free = []\n",
    "        for index in model.metabolites: \n",
    "            if index.id in demand_metabolites:\n",
    "                continue\n",
    "            elif not index.compartment in cytosol:\n",
    "                continue\n",
    "            else:\n",
    "                demand = model.add_boundary(index, type='demand')\n",
    "                model.objective = demand\n",
    "                obj_val = model.slim_optimize(error_value=0.)\n",
    "                if obj_val > 1e-8:\n",
    "                    free.append(index.id)\n",
    "                model.remove_reactions([demand])\n",
    "    \n",
    "    if len(free) > 0:\n",
    "        print(str(len(free)) + ' metabolites are generated for free')\n",
    "\n",
    "    return(free)\n"
   ]
  },
  {
   "cell_type": "code",
   "execution_count": null,
   "id": "771396bf-a38e-4d3d-95b8-d3ec044184f1",
   "metadata": {},
   "outputs": [],
   "source": []
  },
  {
   "cell_type": "code",
   "execution_count": 4,
   "id": "23611df2-386a-4735-bcd8-2fe4df8bebec",
   "metadata": {
    "scrolled": true
   },
   "outputs": [],
   "source": [
    "# Check for mass and charge balance in reactions\n",
    "def checkBalance(raw_model, exclude=[]):\n",
    "    \n",
    "    with raw_model as model:\n",
    "        imbalanced = []\n",
    "        mass_imbal = 0\n",
    "        charge_imbal = 0\n",
    "        elem_set = set()\n",
    "        for metabolite in model.metabolites:\n",
    "            try:\n",
    "                elem_set |= set(metabolite.elements.keys())\n",
    "            except:\n",
    "                pass\n",
    "        \n",
    "        if len(elem_set) == 0:\n",
    "            imbalanced = model.reactions\n",
    "            mass_imbal = len(model.reactions)\n",
    "            charge_imbal = len(model.reactions)\n",
    "            print('No elemental data associated with metabolites!')\n",
    "        \n",
    "        else:\n",
    "            if not type(exclude) is list: \n",
    "                exclude = [exclude]\n",
    "            for index in model.reactions:\n",
    "                if index in model.boundary or index.id in exclude:\n",
    "                    continue\n",
    "\n",
    "                else:\n",
    "                    try:\n",
    "                        test = index.check_mass_balance()\n",
    "                    except ValueError:\n",
    "                        continue\n",
    "\n",
    "                    if len(list(test)) > 0:\n",
    "                        imbalanced.append(index.id)\n",
    "\n",
    "                        if 'charge' in test.keys():\n",
    "                            charge_imbal += 1\n",
    "                        if len(set(test.keys()).intersection(elem_set)) > 0:\n",
    "                            mass_imbal += 1\n",
    "\n",
    "    if mass_imbal != 0:\n",
    "        print(str(mass_imbal) + ' reactions are mass imbalanced')\n",
    "    if charge_imbal != 0:\n",
    "        print(str(charge_imbal) + ' reactions are charge imbalanced')\n",
    "    return(imbalanced)"
   ]
  },
  {
   "cell_type": "code",
   "execution_count": 5,
   "id": "6499265d-0da2-4d13-a4a2-8f6e1d213678",
   "metadata": {
    "scrolled": true
   },
   "outputs": [],
   "source": [
    "# Checks the quality of models by a couple metrics and returns problems\n",
    "def checkQuality(model, exclude=[], cytosol='c'):\n",
    "    \n",
    "    start_time = time.time()\n",
    "    \n",
    "    if model.name != None:\n",
    "        model_name = model.name\n",
    "    else:\n",
    "        model_name = 'model'\n",
    "    \n",
    "    gaps = findGapfilledRxn(model, exclude)\n",
    "    freemass = checkFreeMass(model, cytosol)\n",
    "    balance = checkBalance(model, exclude)\n",
    "    trans, exch = missingRxns(model)\n",
    "    \n",
    "    test = gaps + freemass + balance\n",
    "    if len(test) == 0:\n",
    "        print('No inconsistencies detected')\n",
    "    \n",
    "    duration = int(round(time.time() - start_time))\n",
    "    print('Took ' + str(duration) + ' seconds to analyze ' + model_name) \n",
    "\n",
    "    return gaps, freemass, balance, trans, exch"
   ]
  },
  {
   "cell_type": "code",
   "execution_count": 6,
   "id": "dccadc33-dddf-499f-b7de-3501bab68491",
   "metadata": {
    "scrolled": true
   },
   "outputs": [],
   "source": [
    "# Trace back through reactions immediately adjacent to a given reaction to identify blocked precursor synthesis\n",
    "def checkPrecursors(model, reaction):\n",
    "    \n",
    "    if isinstance(reaction, str) == True:\n",
    "        reaction = model.reactions.get_by_id(reaction)\n",
    "    \n",
    "    model.objective = reaction\n",
    "    obj_val = max(model.optimize(objective_sense='maximize').objective_value, abs(model.optimize(objective_sense='minimize').objective_value))\n",
    "\n",
    "    if obj_val > 0.001:\n",
    "        print('Able to produce all precursors for this reaction.')\n",
    "        return None\n",
    "    \n",
    "    else:\n",
    "        reactants = reaction.reactants\n",
    "        check = 0\n",
    "        \n",
    "        for reactant in reactants:\n",
    "            sub_reactions = list(reactant.reactions)\n",
    "            \n",
    "            for sub_reaction in sub_reactions:\n",
    "                model.objective = sub_reaction\n",
    "                obj_val = max(model.optimize(objective_sense='maximize').objective_value, abs(model.optimize(objective_sense='minimize').objective_value))\n",
    "\n",
    "                if obj_val < 0.001 and reactant in sub_reaction.products:                    \n",
    "                    print('Cannot acquire ' + str(reactant.id) + ' via ' + str(sub_reaction.id))\n",
    "                elif obj_val < 0.001 and check < 1 and reactant in sub_reaction.reactants:\n",
    "                    print(str(reactant.id) + ' not produced in any reactions.')\n",
    "                    check += 1\n",
    "\n",
    "#------------------------------------------------------------------------------------#"
   ]
  },
  {
   "cell_type": "code",
   "execution_count": 7,
   "id": "4b579003-7229-47b9-896e-cc44225f4aad",
   "metadata": {
    "scrolled": true
   },
   "outputs": [],
   "source": [
    "# Function to calculate doubling time from objective value\n",
    "def doubling(model):\n",
    "    \n",
    "    with model as m:\n",
    "        ov = m.slim_optimize()\n",
    "        if ov < 1e-6:\n",
    "            growth = 'No growth'\n",
    "        else:\n",
    "            growth = (1 / float(m.slim_optimize())) * 3600\n",
    "        \n",
    "            if growth < 60.0:\n",
    "                growth = str(round(growth, 3)) + ' minutes'\n",
    "            else:\n",
    "                growth = growth / 60\n",
    "                growth = str(round(growth, 3)) + ' hours'\n",
    "            \n",
    "    return growth\n",
    "\n"
   ]
  },
  {
   "cell_type": "code",
   "execution_count": 8,
   "id": "775e180c-a9dd-47b4-8cb7-bdd4a5ece456",
   "metadata": {
    "scrolled": true
   },
   "outputs": [],
   "source": [
    "# Checks for availability of reactants of a given reaction\n",
    "def availability(model, target_rxn):\n",
    "\n",
    "    precursors = model.reactions.get_by_id(target_rxn).reactants\n",
    "    \n",
    "    total = 0\n",
    "    unsuccessful = set()\n",
    "    limited = set()\n",
    "    for precursor in precursors:\n",
    "        precursor_rxn = list(model.metabolites.get_by_id(precursor.id).reactions)\n",
    "        \n",
    "        for rxn in precursor_rxn:\n",
    "            if rxn.id == target_rxn:\n",
    "                continue\n",
    "            elif precursor in model.reactions.get_by_id(rxn.id).reactants:\n",
    "                \n",
    "                model.objective = rxn\n",
    "                obj_val = model.slim_optimize()\n",
    "                if obj_val < 1e-8:\n",
    "                    unsuccessful |= set([rxn.id])\n",
    "                    limited |= set([precursor.id])\n",
    "    \n",
    "    print('Failed reactions: ' + str(len(unsuccessful)))\n",
    "    print('Limiting reactants: ' + str(len(limited)))\n",
    "    \n",
    "    return unsuccessful, limited\n",
    "\n",
    "# Removes all metabolites in a list of metabolite ids and all reactions associated with them\n",
    "def removeAll(model, metabolite_list):\n",
    "    \n",
    "    new_model = copy.deepcopy(model)\n",
    "    \n",
    "    for metabolite in metabolite_list:\n",
    "        try:\n",
    "            metabolite = new_model.metabolites.get_by_id(metabolite)\n",
    "            new_model.remove_reactions(metabolite.reactions)\n",
    "            new_model.remove_metabolites([metabolite])\n",
    "        except KeyError:\n",
    "            print(metabolite + ' not found')\n",
    "            continue\n",
    "        \n",
    "    return new_model\n"
   ]
  },
  {
   "cell_type": "code",
   "execution_count": 9,
   "id": "2a422435-dd74-4ba4-8238-fcb42013a405",
   "metadata": {
    "scrolled": true
   },
   "outputs": [],
   "source": [
    "# Identify transport reactions (for any number compartments)\n",
    "def findTransports(model):\n",
    "    transporters = []\n",
    "    compartments = set(list(model.compartments))\n",
    "    if len(compartments) == 1:\n",
    "        raise Exception('Model only has one compartment!')\n",
    "    \n",
    "    for reaction in model.reactions:\n",
    "        \n",
    "        reactant_compartments = set([x.compartment for x in reaction.reactants])\n",
    "        product_compartments = set([x.compartment for x in reaction.products])\n",
    "        reactant_baseID = set([x.id.split('_')[0] for x in reaction.reactants])\n",
    "        product_baseID = set([x.id.split('_')[0] for x in reaction.products])\n",
    "        \n",
    "        if reactant_compartments == product_compartments and reactant_baseID != product_baseID:\n",
    "            continue\n",
    "        elif bool(compartments & reactant_compartments) == True and bool(compartments & product_compartments) == True:\n",
    "            transporters.append(reaction.id)\n",
    "        \n",
    "    return(transporters)\n",
    "\n",
    "# Removes a given percentage of reactions from a model, ignoring objective\n",
    "def generate_gaps(model, percentage=0.2, prune=False, ignore=[]):\n",
    "    number_to_remove = int(round(len(model.reactions) * percentage))\n",
    "    rxn_ids = [x.id for x in model.reactions]\n",
    "    random.shuffle(rxn_ids)\n",
    "    rxns_to_remove = rxn_ids[-number_to_remove:]\n",
    "        \n",
    "    for rxn in ignore:\n",
    "        try:\n",
    "            rxns_to_remove.remove(rxn)\n",
    "        except ValueError:\n",
    "            continue\n",
    "    \n",
    "    truncated_model = copy.deepcopy(model)\n",
    "    truncated_model.remove_reactions(rxns_to_remove)\n",
    "    \n",
    "    if prune == True:\n",
    "        unused_cpds = prune_unused_metabolites(truncated_model)\n",
    "    \n",
    "    print('Reactions removed: ' + str(len(rxns_to_remove)))\n",
    "    print('New objective value: ' + str(truncated_model.slim_optimize()))\n",
    "    return truncated_model, rxns_to_remove\n"
   ]
  },
  {
   "cell_type": "code",
   "execution_count": 10,
   "id": "81479a5b-601c-47b7-8814-58a63f7eafbe",
   "metadata": {
    "scrolled": true
   },
   "outputs": [],
   "source": [
    "# Calculates the sum of fluxes for a given model\n",
    "def sum_of_fluxes(model):\n",
    "    \n",
    "    with model as m:\n",
    "        solution = m.optimize()\n",
    "        flux_sum = sum(list(solution.fluxes))\n",
    "        \n",
    "    return flux_sum\n",
    "\n",
    "\n",
    "# reports the reaction ids that are in 1 model but not the other\n",
    "def rxn_diff(model_1, model_2):\n",
    "    diff = set([str(x.id) for x in model_1.reactions]).difference([str(y.id) for y in model_2.reactions])\n",
    "    return list(diff)\n",
    "\n",
    "# Check for missing transport and exchange reactions\n",
    "def missingRxn(model, extracellular='extracellular'):\n",
    "\n",
    "    transporters = set(findTransports(model))\n",
    "    exchanges = set([x.id for x in model.exchanges])\n",
    "    \n",
    "    missing_exchanges = []\n",
    "    missing_transports = []\n",
    "    \n",
    "    for metabolite in model.metabolites:\n",
    "        if not metabolite.compartment == extracellular:\n",
    "            continue\n",
    "\n",
    "        curr_rxns = set([x.id for x in list(metabolite.reactions)])\n",
    "        \n",
    "        if not bool(curr_rxns & transporters):\n",
    "            missing_transports.append(metabolite.id)\n",
    "        if not bool(curr_rxns & exchanges):\n",
    "            missing_exchanges.append(metabolite.id)\n",
    "    \n",
    "    if len(missing_transports) != 0:\n",
    "        print(str(len(missing_transports)) + ' extracellular metabolites are missing transport reactions')\n",
    "    if len(missing_exchanges) != 0:\n",
    "        print(str(len(missing_exchanges)) + ' extracellular metabolites are missing exchange reactions')\n",
    "        \n",
    "    return missing_transports, missing_exchanges"
   ]
  },
  {
   "cell_type": "code",
   "execution_count": 11,
   "id": "366e8171-c485-4fb5-a6c3-57f76082f3e1",
   "metadata": {
    "scrolled": true
   },
   "outputs": [],
   "source": [
    "# Quicker way to read in models\n",
    "import pickle\n",
    "def read_model(fileName, obj='none'):\n",
    "    \n",
    "    fileType = fileName.split('.')[-1]\n",
    "    \n",
    "    if fileType == 'sbml' or fileType == 'xml':\n",
    "        model = cobra.io.read_sbml_model(fileName)\n",
    "    elif fileType == 'json':\n",
    "        model = cobra.io.load_json_model(fileName)\n",
    "    elif fileType == 'yaml':\n",
    "        model = cobra.io.load_yaml_model(fileName)\n",
    "    elif fileType == 'mat':\n",
    "        model = cobra.io.load_matlab_model(fileName)\n",
    "    elif fileType == 'pkl':\n",
    "        model = pickle.load(open(fileName, 'rb'))\n",
    "    else:\n",
    "        raise TypeError('Unrecognized file extension')\n",
    "    \n",
    "    if obj != 'none': model.objective = obj\n",
    "    for rxn in model.boundary: rxn.bounds = (-1000., 1000.)\n",
    "        \n",
    "    return model"
   ]
  },
  {
   "cell_type": "code",
   "execution_count": 12,
   "id": "d2dbad7c-ff80-4d1c-bfe6-b34a483371d5",
   "metadata": {},
   "outputs": [],
   "source": [
    "#Set medias\n",
    "rpmi_req=set(['EX_apoACP_c_', 'EX_trdrd_c_','EX_cobalt2_e_','EX_cu2_e_','EX_fe3_e_','EX_mn2_e_','EX_mobd_e_','EX_zn2_e_','EX_ca2_e_','EX_no3_e_','EX_h2o_e_','EX_k_e_','EX_cl_e_','EX_mg2_e_','EX_so4_e_','EX_na1_e_','EX_pi_e_','EX_h_e_','EX_arg_L_e_','EX_asn_L_e_','EX_asp_L_e_','EX_cys_L_e_','EX_glu_L_e_','EX_gly_e_','EX_his_L_e_','EX_ile_L_e_','EX_leu_L_e_','EX_lys_L_e_','EX_met_L_e_','EX_phe_L_e_','EX_pro_L_e_','EX_ser_L_e_','EX_thr_L_e_','EX_trp_L_e_','EX_tyr_L_e_','EX_val_L_e_','EX_pnto_R_e_','EX_chol_e_','EX_inost_e_','EX_glc_D_e_','EX_gthrd_e_','EX_co2_e_'])\n",
    "mdm_req=set(['EX_apoACP_c_', 'EX_trdrd_c_','EX_co2_e_', 'EX_cobalt2_e_', 'EX_cu2_e_' , 'EX_h_e_', 'EX_h2o_e_','EX_mn2_e_','EX_mobd_e_','EX_tungs_e_', 'EX_zn2_e_','EX_na1_e_','EX_cl_e_','EX_k_e_','EX_so4_e_','EX_nh4_e_','EX_mg2_e_','EX_pi_e_','EX_ca2_e_','EX_fe3_e_','EX_no3_e_','EX_asp_L_e_','EX_glu_L_e_','EX_arg_L_e_','EX_gly_e_','EX_ser_L_e_','EX_leu_L_e_','EX_ile_L_e_','EX_val_L_e_','EX_tyr_L_e_','EX_cys_L_e_','EX_pro_L_e_','EX_trp_L_e_','EX_thr_L_e_','EX_phe_L_e_','EX_asn_L_e_','EX_gln_L_e_','EX_his_L_e_','EX_met_L_e_','EX_ala_L_e_','EX_lys_L_e_','EX_gthrd_e_','EX_thm_e_','EX_pnto_R_e_','EX_glc_D_e_','EX_hxan_e_','EX_ura_e_'])\n",
    "\n",
    "def rpmi(model):\n",
    "    for reaction in model.reactions:\n",
    "        if 'EX_' in  reaction.id:\n",
    "            reaction.lower_bound=0\n",
    "        if reaction.id in rpmi_req:\n",
    "            reaction.lower_bound = -20.\n",
    "        if reaction.id == 'EX_o2_e_':\n",
    "            reaction.lower_bound = -20.\n",
    "        if reaction.id == 'EX_glc_D_e_':\n",
    "            reaction.lower_bound = -20.\n",
    "\n",
    "def complete(model):\n",
    "    for reaction in model.reactions:\n",
    "        if 'EX_' in  reaction.id:\n",
    "            reaction.lower_bound=-20.\n",
    "\n",
    "def mdm(model):\n",
    "    for reaction in model.reactions:\n",
    "        if 'EX_' in  reaction.id:\n",
    "            reaction.lower_bound=0\n",
    "        if reaction.id in mdm_req:\n",
    "            reaction.lower_bound = -20.\n",
    "        elif reaction.id == 'EX_o2_e_':\n",
    "            reaction.lower_bound = -20.\n",
    "        elif reaction.id == 'EX_glc_D_e_':\n",
    "            reaction.lower_bound = -20.\n",
    "\n",
    "def rpmi_molarity(model):\n",
    "    for reaction in model.reactions:\n",
    "        if 'EX_' in  reaction.id:\n",
    "            reaction.lower_bound=0\n",
    "        if reaction.id in rpmi_req:\n",
    "            reaction.lower_bound = -20. \n",
    "        if 'EX_glc_D_e_' in reaction.id:\n",
    "            reaction.lower_bound = -11.1012\n",
    "        if 'EX_ser_L_e_' in reaction.id:\n",
    "            reaction.lower_bound = -0.2855\n",
    "        if 'EX_asp_L_e_' in reaction.id:\n",
    "            reaction.lower_bound = -0.1503\n",
    "        if 'EX_asn_L_e_' in reaction.id:\n",
    "            reaction.lower_bound = -0.3784\n",
    "        if 'EX_glu_L_e_' in reaction.id:\n",
    "            reaction.lower_bound = -0.1359\n",
    "        if 'EX_gly_e_' in reaction.id:\n",
    "            reaction.lower_bound = -0.1332\n",
    "        if 'EX_val_L_e_' in reaction.id:\n",
    "            reaction.lower_bound = -0.1707\n",
    "        if 'EX_leu_L_e_' in reaction.id:\n",
    "            reaction.lower_bound = -0.3812\n",
    "        if 'EX_pro_L_e_' in reaction.id:\n",
    "            reaction.lower_bound = -0.1737\n",
    "        if 'EX_phe_L_e_' in reaction.id:\n",
    "            reaction.lower_bound = -0.0908\n",
    "        if 'EX_lys_L_e_' in reaction.id:\n",
    "            reaction.lower_bound = -0.219\n",
    "        if 'EX_ca2_e_' in reaction.id:\n",
    "            reaction.lower_bound = -0.424\n",
    "        if 'EX_no3_e_' in reaction.id:\n",
    "            reaction.lower_bound = -0.847\n",
    "        if 'EX_k_e_' in reaction.id:\n",
    "            reaction.lower_bound = -5.3655\n",
    "        if 'EX_cl_e_' in reaction.id:\n",
    "            reaction.lower_bound = -108.6993\n",
    "        if 'EX_mg2_e_' in reaction.id:\n",
    "            reaction.lower_bound = -0.4056\n",
    "        if 'EX_so4_e_' in reaction.id:\n",
    "            reaction.lower_bound = -0.4056\n",
    "        if 'EX_na1_e_' in reaction.id:\n",
    "            reaction.lower_bound = -137.9818\n",
    "        if 'EX_pi_e_' in reaction.id:\n",
    "            reaction.lower_bound = -6.354\n",
    "        if 'EX_arg_L_e_' in reaction.id:\n",
    "            reaction.lower_bound = -1.1481\n",
    "        if 'EX_cys_L_e_' in reaction.id:\n",
    "            reaction.lower_bound = -10.416\n",
    "        if 'EX_his_L_e_' in reaction.id:\n",
    "            reaction.lower_bound = -0.0967\n",
    "        if 'EX_ile_L_e_' in reaction.id:\n",
    "            reaction.lower_bound = -0.3812\n",
    "        if 'EX_met_L_e_' in reaction.id:\n",
    "            reaction.lower_bound = -0.1005\n",
    "        if 'EX_thr_L_e_' in reaction.id:\n",
    "            reaction.lower_bound = -0.1679\n",
    "        if 'EX_trp_L_e_' in reaction.id:\n",
    "            reaction.lower_bound = -0.0245\n",
    "        if 'EX_lys_L_e_' in reaction.id:\n",
    "            reaction.lower_bound = -0.219\n",
    "        if 'EX_tyr_L_e_' in reaction.id:\n",
    "            reaction.lower_bound = -0.1104\n",
    "        if 'EX_pnto_R_e_' in reaction.id:\n",
    "            reaction.lower_bound = -0.001\n",
    "        if 'EX_chol_e_' in reaction.id:\n",
    "            reaction.lower_bound = -0.0215\n",
    "        if 'EX_inost_e_' in reaction.id:\n",
    "            reaction.lower_bound = -0.1943\n",
    "        if 'EX_gthrd_e_' in reaction.id:\n",
    "            reaction.lower_bound = -0.0033\n",
    "        if reaction.id == 'EX_o2_e_':\n",
    "            reaction.lower_bound = -20."
   ]
  },
  {
   "cell_type": "code",
   "execution_count": 13,
   "id": "04f30e1c-7fae-496c-b661-d95c883414e5",
   "metadata": {},
   "outputs": [
    {
     "name": "stderr",
     "output_type": "stream",
     "text": [
      "WARNING:cobra.io.sbml:MNXR96131 does not conform to 'http(s)://identifiers.org/collection/id' or'http(s)://identifiers.org/COLLECTION:id\n",
      "WARNING:cobra.io.sbml:MNXR97995 does not conform to 'http(s)://identifiers.org/collection/id' or'http(s)://identifiers.org/COLLECTION:id\n",
      "WARNING:cobra.io.sbml:MNXR98011 does not conform to 'http(s)://identifiers.org/collection/id' or'http(s)://identifiers.org/COLLECTION:id\n",
      "WARNING:cobra.io.sbml:MNXR98027 does not conform to 'http(s)://identifiers.org/collection/id' or'http(s)://identifiers.org/COLLECTION:id\n",
      "WARNING:cobra.io.sbml:MNXR98034 does not conform to 'http(s)://identifiers.org/collection/id' or'http(s)://identifiers.org/COLLECTION:id\n",
      "WARNING:cobra.io.sbml:MNXR98037 does not conform to 'http(s)://identifiers.org/collection/id' or'http(s)://identifiers.org/COLLECTION:id\n",
      "WARNING:cobra.io.sbml:MNXR98041 does not conform to 'http(s)://identifiers.org/collection/id' or'http(s)://identifiers.org/COLLECTION:id\n",
      "WARNING:cobra.io.sbml:MNXR98045 does not conform to 'http(s)://identifiers.org/collection/id' or'http(s)://identifiers.org/COLLECTION:id\n",
      "WARNING:cobra.io.sbml:MNXR98057 does not conform to 'http(s)://identifiers.org/collection/id' or'http(s)://identifiers.org/COLLECTION:id\n",
      "WARNING:cobra.io.sbml:MNXR98058 does not conform to 'http(s)://identifiers.org/collection/id' or'http(s)://identifiers.org/COLLECTION:id\n",
      "WARNING:cobra.io.sbml:MNXR98065 does not conform to 'http(s)://identifiers.org/collection/id' or'http(s)://identifiers.org/COLLECTION:id\n",
      "WARNING:cobra.io.sbml:MNXR98078 does not conform to 'http(s)://identifiers.org/collection/id' or'http(s)://identifiers.org/COLLECTION:id\n",
      "WARNING:cobra.io.sbml:MNXR98196 does not conform to 'http(s)://identifiers.org/collection/id' or'http(s)://identifiers.org/COLLECTION:id\n",
      "WARNING:cobra.io.sbml:MNXR98197 does not conform to 'http(s)://identifiers.org/collection/id' or'http(s)://identifiers.org/COLLECTION:id\n",
      "WARNING:cobra.io.sbml:MNXR98202 does not conform to 'http(s)://identifiers.org/collection/id' or'http(s)://identifiers.org/COLLECTION:id\n",
      "WARNING:cobra.io.sbml:MNXR98208 does not conform to 'http(s)://identifiers.org/collection/id' or'http(s)://identifiers.org/COLLECTION:id\n",
      "WARNING:cobra.io.sbml:MNXR98207 does not conform to 'http(s)://identifiers.org/collection/id' or'http(s)://identifiers.org/COLLECTION:id\n",
      "WARNING:cobra.io.sbml:MNXR98210 does not conform to 'http(s)://identifiers.org/collection/id' or'http(s)://identifiers.org/COLLECTION:id\n",
      "WARNING:cobra.io.sbml:MNXR98211 does not conform to 'http(s)://identifiers.org/collection/id' or'http(s)://identifiers.org/COLLECTION:id\n",
      "WARNING:cobra.io.sbml:MNXR98225 does not conform to 'http(s)://identifiers.org/collection/id' or'http(s)://identifiers.org/COLLECTION:id\n",
      "WARNING:cobra.io.sbml:MNXR98229 does not conform to 'http(s)://identifiers.org/collection/id' or'http(s)://identifiers.org/COLLECTION:id\n",
      "WARNING:cobra.io.sbml:MNXR98239 does not conform to 'http(s)://identifiers.org/collection/id' or'http(s)://identifiers.org/COLLECTION:id\n",
      "WARNING:cobra.io.sbml:MNXR98247 does not conform to 'http(s)://identifiers.org/collection/id' or'http(s)://identifiers.org/COLLECTION:id\n",
      "WARNING:cobra.io.sbml:MNXR98248 does not conform to 'http(s)://identifiers.org/collection/id' or'http(s)://identifiers.org/COLLECTION:id\n",
      "WARNING:cobra.io.sbml:MNXR98257 does not conform to 'http(s)://identifiers.org/collection/id' or'http(s)://identifiers.org/COLLECTION:id\n",
      "WARNING:cobra.io.sbml:MNXR98261 does not conform to 'http(s)://identifiers.org/collection/id' or'http(s)://identifiers.org/COLLECTION:id\n",
      "WARNING:cobra.io.sbml:MNXR98264 does not conform to 'http(s)://identifiers.org/collection/id' or'http(s)://identifiers.org/COLLECTION:id\n",
      "WARNING:cobra.io.sbml:MNXR98269 does not conform to 'http(s)://identifiers.org/collection/id' or'http(s)://identifiers.org/COLLECTION:id\n",
      "WARNING:cobra.io.sbml:MNXR98293 does not conform to 'http(s)://identifiers.org/collection/id' or'http(s)://identifiers.org/COLLECTION:id\n",
      "WARNING:cobra.io.sbml:MNXR98306 does not conform to 'http(s)://identifiers.org/collection/id' or'http(s)://identifiers.org/COLLECTION:id\n",
      "WARNING:cobra.io.sbml:MNXR98307 does not conform to 'http(s)://identifiers.org/collection/id' or'http(s)://identifiers.org/COLLECTION:id\n",
      "WARNING:cobra.io.sbml:MNXR98318 does not conform to 'http(s)://identifiers.org/collection/id' or'http(s)://identifiers.org/COLLECTION:id\n",
      "WARNING:cobra.io.sbml:MNXR98330 does not conform to 'http(s)://identifiers.org/collection/id' or'http(s)://identifiers.org/COLLECTION:id\n",
      "WARNING:cobra.io.sbml:MNXR98336 does not conform to 'http(s)://identifiers.org/collection/id' or'http(s)://identifiers.org/COLLECTION:id\n",
      "WARNING:cobra.io.sbml:MNXR98339 does not conform to 'http(s)://identifiers.org/collection/id' or'http(s)://identifiers.org/COLLECTION:id\n",
      "WARNING:cobra.io.sbml:MNXR98346 does not conform to 'http(s)://identifiers.org/collection/id' or'http(s)://identifiers.org/COLLECTION:id\n",
      "WARNING:cobra.io.sbml:MNXR98349 does not conform to 'http(s)://identifiers.org/collection/id' or'http(s)://identifiers.org/COLLECTION:id\n",
      "WARNING:cobra.io.sbml:MNXR98352 does not conform to 'http(s)://identifiers.org/collection/id' or'http(s)://identifiers.org/COLLECTION:id\n",
      "WARNING:cobra.io.sbml:MNXR98354 does not conform to 'http(s)://identifiers.org/collection/id' or'http(s)://identifiers.org/COLLECTION:id\n",
      "WARNING:cobra.io.sbml:MNXR98353 does not conform to 'http(s)://identifiers.org/collection/id' or'http(s)://identifiers.org/COLLECTION:id\n",
      "WARNING:cobra.io.sbml:MNXR98356 does not conform to 'http(s)://identifiers.org/collection/id' or'http(s)://identifiers.org/COLLECTION:id\n",
      "WARNING:cobra.io.sbml:MNXR98359 does not conform to 'http(s)://identifiers.org/collection/id' or'http(s)://identifiers.org/COLLECTION:id\n",
      "WARNING:cobra.io.sbml:MNXR98371 does not conform to 'http(s)://identifiers.org/collection/id' or'http(s)://identifiers.org/COLLECTION:id\n",
      "WARNING:cobra.io.sbml:MNXR98376 does not conform to 'http(s)://identifiers.org/collection/id' or'http(s)://identifiers.org/COLLECTION:id\n",
      "WARNING:cobra.io.sbml:MNXR98385 does not conform to 'http(s)://identifiers.org/collection/id' or'http(s)://identifiers.org/COLLECTION:id\n",
      "WARNING:cobra.io.sbml:MNXR98384 does not conform to 'http(s)://identifiers.org/collection/id' or'http(s)://identifiers.org/COLLECTION:id\n",
      "WARNING:cobra.io.sbml:MNXR98386 does not conform to 'http(s)://identifiers.org/collection/id' or'http(s)://identifiers.org/COLLECTION:id\n",
      "WARNING:cobra.io.sbml:MNXR98387 does not conform to 'http(s)://identifiers.org/collection/id' or'http(s)://identifiers.org/COLLECTION:id\n",
      "WARNING:cobra.io.sbml:MNXR98392 does not conform to 'http(s)://identifiers.org/collection/id' or'http(s)://identifiers.org/COLLECTION:id\n",
      "WARNING:cobra.io.sbml:MNXR98396 does not conform to 'http(s)://identifiers.org/collection/id' or'http(s)://identifiers.org/COLLECTION:id\n",
      "WARNING:cobra.io.sbml:MNXR98398 does not conform to 'http(s)://identifiers.org/collection/id' or'http(s)://identifiers.org/COLLECTION:id\n",
      "WARNING:cobra.io.sbml:MNXR98400 does not conform to 'http(s)://identifiers.org/collection/id' or'http(s)://identifiers.org/COLLECTION:id\n",
      "WARNING:cobra.io.sbml:MNXR98403 does not conform to 'http(s)://identifiers.org/collection/id' or'http(s)://identifiers.org/COLLECTION:id\n",
      "WARNING:cobra.io.sbml:MNXR98407 does not conform to 'http(s)://identifiers.org/collection/id' or'http(s)://identifiers.org/COLLECTION:id\n",
      "WARNING:cobra.io.sbml:MNXR98408 does not conform to 'http(s)://identifiers.org/collection/id' or'http(s)://identifiers.org/COLLECTION:id\n",
      "WARNING:cobra.io.sbml:MNXR98409 does not conform to 'http(s)://identifiers.org/collection/id' or'http(s)://identifiers.org/COLLECTION:id\n",
      "WARNING:cobra.io.sbml:MNXR98410 does not conform to 'http(s)://identifiers.org/collection/id' or'http(s)://identifiers.org/COLLECTION:id\n",
      "WARNING:cobra.io.sbml:MNXR98417 does not conform to 'http(s)://identifiers.org/collection/id' or'http(s)://identifiers.org/COLLECTION:id\n",
      "WARNING:cobra.io.sbml:MNXR98418 does not conform to 'http(s)://identifiers.org/collection/id' or'http(s)://identifiers.org/COLLECTION:id\n",
      "WARNING:cobra.io.sbml:MNXR98424 does not conform to 'http(s)://identifiers.org/collection/id' or'http(s)://identifiers.org/COLLECTION:id\n",
      "WARNING:cobra.io.sbml:MNXR98425 does not conform to 'http(s)://identifiers.org/collection/id' or'http(s)://identifiers.org/COLLECTION:id\n",
      "WARNING:cobra.io.sbml:MNXR98427 does not conform to 'http(s)://identifiers.org/collection/id' or'http(s)://identifiers.org/COLLECTION:id\n",
      "WARNING:cobra.io.sbml:MNXR98433 does not conform to 'http(s)://identifiers.org/collection/id' or'http(s)://identifiers.org/COLLECTION:id\n",
      "WARNING:cobra.io.sbml:MNXR98434 does not conform to 'http(s)://identifiers.org/collection/id' or'http(s)://identifiers.org/COLLECTION:id\n",
      "WARNING:cobra.io.sbml:MNXR98448 does not conform to 'http(s)://identifiers.org/collection/id' or'http(s)://identifiers.org/COLLECTION:id\n",
      "WARNING:cobra.io.sbml:MNXR98459 does not conform to 'http(s)://identifiers.org/collection/id' or'http(s)://identifiers.org/COLLECTION:id\n",
      "WARNING:cobra.io.sbml:MNXR98460 does not conform to 'http(s)://identifiers.org/collection/id' or'http(s)://identifiers.org/COLLECTION:id\n",
      "WARNING:cobra.io.sbml:MNXR98461 does not conform to 'http(s)://identifiers.org/collection/id' or'http(s)://identifiers.org/COLLECTION:id\n",
      "WARNING:cobra.io.sbml:MNXR98462 does not conform to 'http(s)://identifiers.org/collection/id' or'http(s)://identifiers.org/COLLECTION:id\n",
      "WARNING:cobra.io.sbml:MNXR97582 does not conform to 'http(s)://identifiers.org/collection/id' or'http(s)://identifiers.org/COLLECTION:id\n",
      "WARNING:cobra.io.sbml:MNXR98464 does not conform to 'http(s)://identifiers.org/collection/id' or'http(s)://identifiers.org/COLLECTION:id\n",
      "WARNING:cobra.io.sbml:MNXR98465 does not conform to 'http(s)://identifiers.org/collection/id' or'http(s)://identifiers.org/COLLECTION:id\n",
      "WARNING:cobra.io.sbml:MNXR98490 does not conform to 'http(s)://identifiers.org/collection/id' or'http(s)://identifiers.org/COLLECTION:id\n",
      "WARNING:cobra.io.sbml:MNXR98492 does not conform to 'http(s)://identifiers.org/collection/id' or'http(s)://identifiers.org/COLLECTION:id\n",
      "WARNING:cobra.io.sbml:MNXR98493 does not conform to 'http(s)://identifiers.org/collection/id' or'http(s)://identifiers.org/COLLECTION:id\n",
      "WARNING:cobra.io.sbml:MNXR98494 does not conform to 'http(s)://identifiers.org/collection/id' or'http(s)://identifiers.org/COLLECTION:id\n",
      "WARNING:cobra.io.sbml:MNXR98523 does not conform to 'http(s)://identifiers.org/collection/id' or'http(s)://identifiers.org/COLLECTION:id\n",
      "WARNING:cobra.io.sbml:MNXR98525 does not conform to 'http(s)://identifiers.org/collection/id' or'http(s)://identifiers.org/COLLECTION:id\n",
      "WARNING:cobra.io.sbml:MNXR98526 does not conform to 'http(s)://identifiers.org/collection/id' or'http(s)://identifiers.org/COLLECTION:id\n",
      "WARNING:cobra.io.sbml:MNXR98527 does not conform to 'http(s)://identifiers.org/collection/id' or'http(s)://identifiers.org/COLLECTION:id\n",
      "WARNING:cobra.io.sbml:MNXR98528 does not conform to 'http(s)://identifiers.org/collection/id' or'http(s)://identifiers.org/COLLECTION:id\n",
      "WARNING:cobra.io.sbml:MNXR98529 does not conform to 'http(s)://identifiers.org/collection/id' or'http(s)://identifiers.org/COLLECTION:id\n",
      "WARNING:cobra.io.sbml:MNXR98530 does not conform to 'http(s)://identifiers.org/collection/id' or'http(s)://identifiers.org/COLLECTION:id\n",
      "WARNING:cobra.io.sbml:MNXR98531 does not conform to 'http(s)://identifiers.org/collection/id' or'http(s)://identifiers.org/COLLECTION:id\n",
      "WARNING:cobra.io.sbml:MNXR98534 does not conform to 'http(s)://identifiers.org/collection/id' or'http(s)://identifiers.org/COLLECTION:id\n",
      "WARNING:cobra.io.sbml:MNXR98535 does not conform to 'http(s)://identifiers.org/collection/id' or'http(s)://identifiers.org/COLLECTION:id\n",
      "WARNING:cobra.io.sbml:MNXR98533 does not conform to 'http(s)://identifiers.org/collection/id' or'http(s)://identifiers.org/COLLECTION:id\n",
      "WARNING:cobra.io.sbml:MNXR98554 does not conform to 'http(s)://identifiers.org/collection/id' or'http(s)://identifiers.org/COLLECTION:id\n",
      "WARNING:cobra.io.sbml:MNXR98555 does not conform to 'http(s)://identifiers.org/collection/id' or'http(s)://identifiers.org/COLLECTION:id\n",
      "WARNING:cobra.io.sbml:MNXR98557 does not conform to 'http(s)://identifiers.org/collection/id' or'http(s)://identifiers.org/COLLECTION:id\n",
      "WARNING:cobra.io.sbml:MNXR98556 does not conform to 'http(s)://identifiers.org/collection/id' or'http(s)://identifiers.org/COLLECTION:id\n",
      "WARNING:cobra.io.sbml:MNXR98558 does not conform to 'http(s)://identifiers.org/collection/id' or'http(s)://identifiers.org/COLLECTION:id\n",
      "WARNING:cobra.io.sbml:MNXR98568 does not conform to 'http(s)://identifiers.org/collection/id' or'http(s)://identifiers.org/COLLECTION:id\n",
      "WARNING:cobra.io.sbml:MNXR98575 does not conform to 'http(s)://identifiers.org/collection/id' or'http(s)://identifiers.org/COLLECTION:id\n",
      "WARNING:cobra.io.sbml:MNXR98577 does not conform to 'http(s)://identifiers.org/collection/id' or'http(s)://identifiers.org/COLLECTION:id\n",
      "WARNING:cobra.io.sbml:MNXR98576 does not conform to 'http(s)://identifiers.org/collection/id' or'http(s)://identifiers.org/COLLECTION:id\n",
      "WARNING:cobra.io.sbml:MNXR98591 does not conform to 'http(s)://identifiers.org/collection/id' or'http(s)://identifiers.org/COLLECTION:id\n",
      "WARNING:cobra.io.sbml:MNXR98596 does not conform to 'http(s)://identifiers.org/collection/id' or'http(s)://identifiers.org/COLLECTION:id\n",
      "WARNING:cobra.io.sbml:MNXR98597 does not conform to 'http(s)://identifiers.org/collection/id' or'http(s)://identifiers.org/COLLECTION:id\n",
      "WARNING:cobra.io.sbml:MNXR98602 does not conform to 'http(s)://identifiers.org/collection/id' or'http(s)://identifiers.org/COLLECTION:id\n",
      "WARNING:cobra.io.sbml:MNXR98598 does not conform to 'http(s)://identifiers.org/collection/id' or'http(s)://identifiers.org/COLLECTION:id\n",
      "WARNING:cobra.io.sbml:MNXR98599 does not conform to 'http(s)://identifiers.org/collection/id' or'http(s)://identifiers.org/COLLECTION:id\n",
      "WARNING:cobra.io.sbml:MNXR98603 does not conform to 'http(s)://identifiers.org/collection/id' or'http(s)://identifiers.org/COLLECTION:id\n",
      "WARNING:cobra.io.sbml:MNXR98617 does not conform to 'http(s)://identifiers.org/collection/id' or'http(s)://identifiers.org/COLLECTION:id\n",
      "WARNING:cobra.io.sbml:MNXR98626 does not conform to 'http(s)://identifiers.org/collection/id' or'http(s)://identifiers.org/COLLECTION:id\n",
      "WARNING:cobra.io.sbml:MNXR98629 does not conform to 'http(s)://identifiers.org/collection/id' or'http(s)://identifiers.org/COLLECTION:id\n",
      "WARNING:cobra.io.sbml:MNXR98630 does not conform to 'http(s)://identifiers.org/collection/id' or'http(s)://identifiers.org/COLLECTION:id\n",
      "WARNING:cobra.io.sbml:MNXR98631 does not conform to 'http(s)://identifiers.org/collection/id' or'http(s)://identifiers.org/COLLECTION:id\n",
      "WARNING:cobra.io.sbml:MNXR98632 does not conform to 'http(s)://identifiers.org/collection/id' or'http(s)://identifiers.org/COLLECTION:id\n",
      "WARNING:cobra.io.sbml:MNXR98643 does not conform to 'http(s)://identifiers.org/collection/id' or'http(s)://identifiers.org/COLLECTION:id\n",
      "WARNING:cobra.io.sbml:MNXR98638 does not conform to 'http(s)://identifiers.org/collection/id' or'http(s)://identifiers.org/COLLECTION:id\n",
      "WARNING:cobra.io.sbml:MNXR98641 does not conform to 'http(s)://identifiers.org/collection/id' or'http(s)://identifiers.org/COLLECTION:id\n",
      "WARNING:cobra.io.sbml:MNXR98640 does not conform to 'http(s)://identifiers.org/collection/id' or'http(s)://identifiers.org/COLLECTION:id\n",
      "WARNING:cobra.io.sbml:MNXR98642 does not conform to 'http(s)://identifiers.org/collection/id' or'http(s)://identifiers.org/COLLECTION:id\n",
      "WARNING:cobra.io.sbml:MNXR98650 does not conform to 'http(s)://identifiers.org/collection/id' or'http(s)://identifiers.org/COLLECTION:id\n",
      "WARNING:cobra.io.sbml:MNXR98651 does not conform to 'http(s)://identifiers.org/collection/id' or'http(s)://identifiers.org/COLLECTION:id\n",
      "WARNING:cobra.io.sbml:MNXR98655 does not conform to 'http(s)://identifiers.org/collection/id' or'http(s)://identifiers.org/COLLECTION:id\n",
      "WARNING:cobra.io.sbml:MNXR98664 does not conform to 'http(s)://identifiers.org/collection/id' or'http(s)://identifiers.org/COLLECTION:id\n",
      "WARNING:cobra.io.sbml:MNXR98665 does not conform to 'http(s)://identifiers.org/collection/id' or'http(s)://identifiers.org/COLLECTION:id\n",
      "WARNING:cobra.io.sbml:MNXR98678 does not conform to 'http(s)://identifiers.org/collection/id' or'http(s)://identifiers.org/COLLECTION:id\n",
      "WARNING:cobra.io.sbml:MNXR98681 does not conform to 'http(s)://identifiers.org/collection/id' or'http(s)://identifiers.org/COLLECTION:id\n",
      "WARNING:cobra.io.sbml:MNXR98682 does not conform to 'http(s)://identifiers.org/collection/id' or'http(s)://identifiers.org/COLLECTION:id\n",
      "WARNING:cobra.io.sbml:MNXR98684 does not conform to 'http(s)://identifiers.org/collection/id' or'http(s)://identifiers.org/COLLECTION:id\n",
      "WARNING:cobra.io.sbml:MNXR98686 does not conform to 'http(s)://identifiers.org/collection/id' or'http(s)://identifiers.org/COLLECTION:id\n",
      "WARNING:cobra.io.sbml:MNXR98181 does not conform to 'http(s)://identifiers.org/collection/id' or'http(s)://identifiers.org/COLLECTION:id\n",
      "WARNING:cobra.io.sbml:MNXR98180 does not conform to 'http(s)://identifiers.org/collection/id' or'http(s)://identifiers.org/COLLECTION:id\n",
      "WARNING:cobra.io.sbml:MNXR98699 does not conform to 'http(s)://identifiers.org/collection/id' or'http(s)://identifiers.org/COLLECTION:id\n",
      "WARNING:cobra.io.sbml:MNXR98713 does not conform to 'http(s)://identifiers.org/collection/id' or'http(s)://identifiers.org/COLLECTION:id\n",
      "WARNING:cobra.io.sbml:MNXR98733 does not conform to 'http(s)://identifiers.org/collection/id' or'http(s)://identifiers.org/COLLECTION:id\n",
      "WARNING:cobra.io.sbml:MNXR98741 does not conform to 'http(s)://identifiers.org/collection/id' or'http(s)://identifiers.org/COLLECTION:id\n",
      "WARNING:cobra.io.sbml:MNXR98740 does not conform to 'http(s)://identifiers.org/collection/id' or'http(s)://identifiers.org/COLLECTION:id\n",
      "WARNING:cobra.io.sbml:MNXR98743 does not conform to 'http(s)://identifiers.org/collection/id' or'http(s)://identifiers.org/COLLECTION:id\n",
      "WARNING:cobra.io.sbml:MNXR98747 does not conform to 'http(s)://identifiers.org/collection/id' or'http(s)://identifiers.org/COLLECTION:id\n",
      "WARNING:cobra.io.sbml:MNXR98756 does not conform to 'http(s)://identifiers.org/collection/id' or'http(s)://identifiers.org/COLLECTION:id\n",
      "WARNING:cobra.io.sbml:MNXR98760 does not conform to 'http(s)://identifiers.org/collection/id' or'http(s)://identifiers.org/COLLECTION:id\n",
      "WARNING:cobra.io.sbml:MNXR98761 does not conform to 'http(s)://identifiers.org/collection/id' or'http(s)://identifiers.org/COLLECTION:id\n",
      "WARNING:cobra.io.sbml:MNXR98763 does not conform to 'http(s)://identifiers.org/collection/id' or'http(s)://identifiers.org/COLLECTION:id\n",
      "WARNING:cobra.io.sbml:MNXR98764 does not conform to 'http(s)://identifiers.org/collection/id' or'http(s)://identifiers.org/COLLECTION:id\n",
      "WARNING:cobra.io.sbml:MNXR98766 does not conform to 'http(s)://identifiers.org/collection/id' or'http(s)://identifiers.org/COLLECTION:id\n",
      "WARNING:cobra.io.sbml:MNXR98781 does not conform to 'http(s)://identifiers.org/collection/id' or'http(s)://identifiers.org/COLLECTION:id\n",
      "WARNING:cobra.io.sbml:MNXR97601 does not conform to 'http(s)://identifiers.org/collection/id' or'http(s)://identifiers.org/COLLECTION:id\n",
      "WARNING:cobra.io.sbml:MNXR98782 does not conform to 'http(s)://identifiers.org/collection/id' or'http(s)://identifiers.org/COLLECTION:id\n",
      "WARNING:cobra.io.sbml:MNXR98786 does not conform to 'http(s)://identifiers.org/collection/id' or'http(s)://identifiers.org/COLLECTION:id\n",
      "WARNING:cobra.io.sbml:MNXR98787 does not conform to 'http(s)://identifiers.org/collection/id' or'http(s)://identifiers.org/COLLECTION:id\n",
      "WARNING:cobra.io.sbml:MNXR98789 does not conform to 'http(s)://identifiers.org/collection/id' or'http(s)://identifiers.org/COLLECTION:id\n",
      "WARNING:cobra.io.sbml:MNXR97603 does not conform to 'http(s)://identifiers.org/collection/id' or'http(s)://identifiers.org/COLLECTION:id\n",
      "WARNING:cobra.io.sbml:MNXR98790 does not conform to 'http(s)://identifiers.org/collection/id' or'http(s)://identifiers.org/COLLECTION:id\n",
      "WARNING:cobra.io.sbml:MNXR98791 does not conform to 'http(s)://identifiers.org/collection/id' or'http(s)://identifiers.org/COLLECTION:id\n",
      "WARNING:cobra.io.sbml:MNXR98799 does not conform to 'http(s)://identifiers.org/collection/id' or'http(s)://identifiers.org/COLLECTION:id\n",
      "WARNING:cobra.io.sbml:MNXR98800 does not conform to 'http(s)://identifiers.org/collection/id' or'http(s)://identifiers.org/COLLECTION:id\n",
      "WARNING:cobra.io.sbml:MNXR98802 does not conform to 'http(s)://identifiers.org/collection/id' or'http(s)://identifiers.org/COLLECTION:id\n",
      "WARNING:cobra.io.sbml:MNXR98807 does not conform to 'http(s)://identifiers.org/collection/id' or'http(s)://identifiers.org/COLLECTION:id\n",
      "WARNING:cobra.io.sbml:MNXR98808 does not conform to 'http(s)://identifiers.org/collection/id' or'http(s)://identifiers.org/COLLECTION:id\n",
      "WARNING:cobra.io.sbml:MNXR98810 does not conform to 'http(s)://identifiers.org/collection/id' or'http(s)://identifiers.org/COLLECTION:id\n",
      "WARNING:cobra.io.sbml:MNXR98813 does not conform to 'http(s)://identifiers.org/collection/id' or'http(s)://identifiers.org/COLLECTION:id\n",
      "WARNING:cobra.io.sbml:MNXR98814 does not conform to 'http(s)://identifiers.org/collection/id' or'http(s)://identifiers.org/COLLECTION:id\n",
      "WARNING:cobra.io.sbml:MNXR98818 does not conform to 'http(s)://identifiers.org/collection/id' or'http(s)://identifiers.org/COLLECTION:id\n",
      "WARNING:cobra.io.sbml:MNXR98830 does not conform to 'http(s)://identifiers.org/collection/id' or'http(s)://identifiers.org/COLLECTION:id\n",
      "WARNING:cobra.io.sbml:MNXR98848 does not conform to 'http(s)://identifiers.org/collection/id' or'http(s)://identifiers.org/COLLECTION:id\n",
      "WARNING:cobra.io.sbml:MNXR98854 does not conform to 'http(s)://identifiers.org/collection/id' or'http(s)://identifiers.org/COLLECTION:id\n",
      "WARNING:cobra.io.sbml:MNXR98857 does not conform to 'http(s)://identifiers.org/collection/id' or'http(s)://identifiers.org/COLLECTION:id\n",
      "WARNING:cobra.io.sbml:MNXR98858 does not conform to 'http(s)://identifiers.org/collection/id' or'http(s)://identifiers.org/COLLECTION:id\n",
      "WARNING:cobra.io.sbml:MNXR98862 does not conform to 'http(s)://identifiers.org/collection/id' or'http(s)://identifiers.org/COLLECTION:id\n",
      "WARNING:cobra.io.sbml:MNXR98863 does not conform to 'http(s)://identifiers.org/collection/id' or'http(s)://identifiers.org/COLLECTION:id\n",
      "WARNING:cobra.io.sbml:MNXR98867 does not conform to 'http(s)://identifiers.org/collection/id' or'http(s)://identifiers.org/COLLECTION:id\n",
      "WARNING:cobra.io.sbml:MNXR98878 does not conform to 'http(s)://identifiers.org/collection/id' or'http(s)://identifiers.org/COLLECTION:id\n",
      "WARNING:cobra.io.sbml:MNXR98888 does not conform to 'http(s)://identifiers.org/collection/id' or'http(s)://identifiers.org/COLLECTION:id\n",
      "WARNING:cobra.io.sbml:MNXR98895 does not conform to 'http(s)://identifiers.org/collection/id' or'http(s)://identifiers.org/COLLECTION:id\n",
      "WARNING:cobra.io.sbml:MNXR98899 does not conform to 'http(s)://identifiers.org/collection/id' or'http(s)://identifiers.org/COLLECTION:id\n",
      "WARNING:cobra.io.sbml:MNXR98913 does not conform to 'http(s)://identifiers.org/collection/id' or'http(s)://identifiers.org/COLLECTION:id\n",
      "WARNING:cobra.io.sbml:MNXR98931 does not conform to 'http(s)://identifiers.org/collection/id' or'http(s)://identifiers.org/COLLECTION:id\n",
      "WARNING:cobra.io.sbml:MNXR98934 does not conform to 'http(s)://identifiers.org/collection/id' or'http(s)://identifiers.org/COLLECTION:id\n",
      "WARNING:cobra.io.sbml:MNXR98661 does not conform to 'http(s)://identifiers.org/collection/id' or'http(s)://identifiers.org/COLLECTION:id\n",
      "WARNING:cobra.io.sbml:MNXR98935 does not conform to 'http(s)://identifiers.org/collection/id' or'http(s)://identifiers.org/COLLECTION:id\n",
      "WARNING:cobra.io.sbml:MNXR98940 does not conform to 'http(s)://identifiers.org/collection/id' or'http(s)://identifiers.org/COLLECTION:id\n",
      "WARNING:cobra.io.sbml:MNXR97619 does not conform to 'http(s)://identifiers.org/collection/id' or'http(s)://identifiers.org/COLLECTION:id\n",
      "WARNING:cobra.io.sbml:MNXR98949 does not conform to 'http(s)://identifiers.org/collection/id' or'http(s)://identifiers.org/COLLECTION:id\n",
      "WARNING:cobra.io.sbml:MNXR98950 does not conform to 'http(s)://identifiers.org/collection/id' or'http(s)://identifiers.org/COLLECTION:id\n",
      "WARNING:cobra.io.sbml:MNXR98956 does not conform to 'http(s)://identifiers.org/collection/id' or'http(s)://identifiers.org/COLLECTION:id\n",
      "WARNING:cobra.io.sbml:MNXR98962 does not conform to 'http(s)://identifiers.org/collection/id' or'http(s)://identifiers.org/COLLECTION:id\n",
      "WARNING:cobra.io.sbml:MNXR98974 does not conform to 'http(s)://identifiers.org/collection/id' or'http(s)://identifiers.org/COLLECTION:id\n",
      "WARNING:cobra.io.sbml:MNXR98978 does not conform to 'http(s)://identifiers.org/collection/id' or'http(s)://identifiers.org/COLLECTION:id\n",
      "WARNING:cobra.io.sbml:MNXR98979 does not conform to 'http(s)://identifiers.org/collection/id' or'http(s)://identifiers.org/COLLECTION:id\n",
      "WARNING:cobra.io.sbml:MNXR98980 does not conform to 'http(s)://identifiers.org/collection/id' or'http(s)://identifiers.org/COLLECTION:id\n",
      "WARNING:cobra.io.sbml:MNXR98982 does not conform to 'http(s)://identifiers.org/collection/id' or'http(s)://identifiers.org/COLLECTION:id\n",
      "WARNING:cobra.io.sbml:MNXR98983 does not conform to 'http(s)://identifiers.org/collection/id' or'http(s)://identifiers.org/COLLECTION:id\n",
      "WARNING:cobra.io.sbml:MNXR98988 does not conform to 'http(s)://identifiers.org/collection/id' or'http(s)://identifiers.org/COLLECTION:id\n",
      "WARNING:cobra.io.sbml:MNXR98995 does not conform to 'http(s)://identifiers.org/collection/id' or'http(s)://identifiers.org/COLLECTION:id\n",
      "WARNING:cobra.io.sbml:MNXR98996 does not conform to 'http(s)://identifiers.org/collection/id' or'http(s)://identifiers.org/COLLECTION:id\n",
      "WARNING:cobra.io.sbml:MNXR98997 does not conform to 'http(s)://identifiers.org/collection/id' or'http(s)://identifiers.org/COLLECTION:id\n",
      "WARNING:cobra.io.sbml:MNXR99001 does not conform to 'http(s)://identifiers.org/collection/id' or'http(s)://identifiers.org/COLLECTION:id\n",
      "WARNING:cobra.io.sbml:MNXR99003 does not conform to 'http(s)://identifiers.org/collection/id' or'http(s)://identifiers.org/COLLECTION:id\n",
      "WARNING:cobra.io.sbml:MNXR99006 does not conform to 'http(s)://identifiers.org/collection/id' or'http(s)://identifiers.org/COLLECTION:id\n",
      "WARNING:cobra.io.sbml:MNXR99010 does not conform to 'http(s)://identifiers.org/collection/id' or'http(s)://identifiers.org/COLLECTION:id\n",
      "WARNING:cobra.io.sbml:MNXR99016 does not conform to 'http(s)://identifiers.org/collection/id' or'http(s)://identifiers.org/COLLECTION:id\n",
      "WARNING:cobra.io.sbml:MNXR99017 does not conform to 'http(s)://identifiers.org/collection/id' or'http(s)://identifiers.org/COLLECTION:id\n",
      "WARNING:cobra.io.sbml:MNXR99018 does not conform to 'http(s)://identifiers.org/collection/id' or'http(s)://identifiers.org/COLLECTION:id\n",
      "WARNING:cobra.io.sbml:MNXR99019 does not conform to 'http(s)://identifiers.org/collection/id' or'http(s)://identifiers.org/COLLECTION:id\n",
      "WARNING:cobra.io.sbml:MNXR99020 does not conform to 'http(s)://identifiers.org/collection/id' or'http(s)://identifiers.org/COLLECTION:id\n",
      "WARNING:cobra.io.sbml:MNXR99023 does not conform to 'http(s)://identifiers.org/collection/id' or'http(s)://identifiers.org/COLLECTION:id\n",
      "WARNING:cobra.io.sbml:MNXR99025 does not conform to 'http(s)://identifiers.org/collection/id' or'http(s)://identifiers.org/COLLECTION:id\n",
      "WARNING:cobra.io.sbml:MNXR99041 does not conform to 'http(s)://identifiers.org/collection/id' or'http(s)://identifiers.org/COLLECTION:id\n",
      "WARNING:cobra.io.sbml:MNXR99042 does not conform to 'http(s)://identifiers.org/collection/id' or'http(s)://identifiers.org/COLLECTION:id\n",
      "WARNING:cobra.io.sbml:MNXR99049 does not conform to 'http(s)://identifiers.org/collection/id' or'http(s)://identifiers.org/COLLECTION:id\n",
      "WARNING:cobra.io.sbml:MNXR98152 does not conform to 'http(s)://identifiers.org/collection/id' or'http(s)://identifiers.org/COLLECTION:id\n"
     ]
    },
    {
     "data": {
      "text/html": [
       "\n",
       "        <table>\n",
       "            <tr>\n",
       "                <td><strong>Name</strong></td>\n",
       "                <td>iNGO_556</td>\n",
       "            </tr><tr>\n",
       "                <td><strong>Memory address</strong></td>\n",
       "                <td>0x01783cb76460</td>\n",
       "            </tr><tr>\n",
       "                <td><strong>Number of metabolites</strong></td>\n",
       "                <td>1337</td>\n",
       "            </tr><tr>\n",
       "                <td><strong>Number of reactions</strong></td>\n",
       "                <td>1504</td>\n",
       "            </tr><tr>\n",
       "                <td><strong>Number of groups</strong></td>\n",
       "                <td>0</td>\n",
       "            </tr><tr>\n",
       "                <td><strong>Objective expression</strong></td>\n",
       "                <td>1.0*Nm_Ess_biomass - 1.0*Nm_Ess_biomass_reverse_46af5</td>\n",
       "            </tr><tr>\n",
       "                <td><strong>Compartments</strong></td>\n",
       "                <td>periplasm, cytosol, extracellular space, default</td>\n",
       "            </tr>\n",
       "          </table>"
      ],
      "text/plain": [
       "<Model iNGO_556 at 0x1783cb76460>"
      ]
     },
     "execution_count": 13,
     "metadata": {},
     "output_type": "execute_result"
    }
   ],
   "source": [
    "# Read in  model\n",
    "import cobra\n",
    "model=read_model('C://Users/Aimee/Documents/UVA/Metabolic_Modeling/organized/models/curated_models/carvemeupdatedGCmodelpolished.sbml')\n",
    "cobra.io.save_json_model(model, 'C:/Users/Aimee/Documents/UVA/Metabolic_Modeling/organized/models/curated_models/carvemeupdatedGCmodelpolished.json')\n",
    "model=read_model('C://Users/Aimee/Documents/UVA/Metabolic_Modeling/organized/models/curated_models/carvemeupdatedGCmodelpolished.json')\n",
    "model"
   ]
  },
  {
   "cell_type": "code",
   "execution_count": 14,
   "id": "8caf4b6b-dc1b-4c30-b8f8-e986d10057f5",
   "metadata": {},
   "outputs": [],
   "source": [
    "for metabolite in model.metabolites:\n",
    "    if metabolite.compartment == 'e':\n",
    "        metabolite.compartment ='extracellular'\n",
    "for metabolite in model.metabolites:\n",
    "    if metabolite.compartment == 'c':\n",
    "        metabolite.compartment ='cytoplasm'\n",
    "for metabolite in model.metabolites:\n",
    "    if metabolite.compartment == 'cytosol':\n",
    "        metabolite.compartment ='cytoplasm'\n",
    "for metabolite in model.metabolites:\n",
    "    if metabolite.compartment == 'p':\n",
    "        metabolite.compartment ='periplasm'"
   ]
  },
  {
   "cell_type": "code",
   "execution_count": 15,
   "id": "64735b1c-b80d-4706-9140-15c64033a156",
   "metadata": {},
   "outputs": [
    {
     "data": {
      "text/html": [
       "\n",
       "        <table>\n",
       "            <tr>\n",
       "                <td><strong>Name</strong></td>\n",
       "                <td>iNGO_556</td>\n",
       "            </tr><tr>\n",
       "                <td><strong>Memory address</strong></td>\n",
       "                <td>0x01783cb76460</td>\n",
       "            </tr><tr>\n",
       "                <td><strong>Number of metabolites</strong></td>\n",
       "                <td>1337</td>\n",
       "            </tr><tr>\n",
       "                <td><strong>Number of reactions</strong></td>\n",
       "                <td>1504</td>\n",
       "            </tr><tr>\n",
       "                <td><strong>Number of groups</strong></td>\n",
       "                <td>0</td>\n",
       "            </tr><tr>\n",
       "                <td><strong>Objective expression</strong></td>\n",
       "                <td>1.0*Nm_Ess_biomass - 1.0*Nm_Ess_biomass_reverse_46af5</td>\n",
       "            </tr><tr>\n",
       "                <td><strong>Compartments</strong></td>\n",
       "                <td>periplasm, cytoplasm, extracellular</td>\n",
       "            </tr>\n",
       "          </table>"
      ],
      "text/plain": [
       "<Model iNGO_556 at 0x1783cb76460>"
      ]
     },
     "execution_count": 15,
     "metadata": {},
     "output_type": "execute_result"
    }
   ],
   "source": [
    "model"
   ]
  },
  {
   "cell_type": "code",
   "execution_count": 16,
   "id": "737bc2d3-be42-4a5c-8bfc-e1a0690cc83f",
   "metadata": {},
   "outputs": [
    {
     "data": {
      "text/html": [
       "<h3>Objective</h3><p>1.0 Nm_Ess_biomass = 0.9517476917286457</p><h4>Uptake</h4><table border=\"1\" class=\"dataframe\">\n",
       "  <thead>\n",
       "    <tr style=\"text-align: right;\">\n",
       "      <th>Metabolite</th>\n",
       "      <th>Reaction</th>\n",
       "      <th>Flux</th>\n",
       "      <th>C-Number</th>\n",
       "      <th>C-Flux</th>\n",
       "    </tr>\n",
       "  </thead>\n",
       "  <tbody>\n",
       "    <tr>\n",
       "      <td>arg_L_e</td>\n",
       "      <td>EX_arg_L_e_</td>\n",
       "      <td>0.3178</td>\n",
       "      <td>6</td>\n",
       "      <td>0.94%</td>\n",
       "    </tr>\n",
       "    <tr>\n",
       "      <td>asn_L_e</td>\n",
       "      <td>EX_asn_L_e_</td>\n",
       "      <td>0.2395</td>\n",
       "      <td>4</td>\n",
       "      <td>0.47%</td>\n",
       "    </tr>\n",
       "    <tr>\n",
       "      <td>asp_L_e</td>\n",
       "      <td>EX_asp_L_e_</td>\n",
       "      <td>0.7181</td>\n",
       "      <td>4</td>\n",
       "      <td>1.42%</td>\n",
       "    </tr>\n",
       "    <tr>\n",
       "      <td>ca2_e</td>\n",
       "      <td>EX_ca2_e_</td>\n",
       "      <td>0.004508</td>\n",
       "      <td>0</td>\n",
       "      <td>0.00%</td>\n",
       "    </tr>\n",
       "    <tr>\n",
       "      <td>cl_e</td>\n",
       "      <td>EX_cl_e_</td>\n",
       "      <td>0.004508</td>\n",
       "      <td>0</td>\n",
       "      <td>0.00%</td>\n",
       "    </tr>\n",
       "    <tr>\n",
       "      <td>cobalt2_e</td>\n",
       "      <td>EX_cobalt2_e_</td>\n",
       "      <td>0.003006</td>\n",
       "      <td>0</td>\n",
       "      <td>0.00%</td>\n",
       "    </tr>\n",
       "    <tr>\n",
       "      <td>cu2_e</td>\n",
       "      <td>EX_cu2_e_</td>\n",
       "      <td>0.003006</td>\n",
       "      <td>0</td>\n",
       "      <td>0.00%</td>\n",
       "    </tr>\n",
       "    <tr>\n",
       "      <td>cys_L_e</td>\n",
       "      <td>EX_cys_L_e_</td>\n",
       "      <td>0.1727</td>\n",
       "      <td>3</td>\n",
       "      <td>0.26%</td>\n",
       "    </tr>\n",
       "    <tr>\n",
       "      <td>fe3_e</td>\n",
       "      <td>EX_fe3_e_</td>\n",
       "      <td>0.01395</td>\n",
       "      <td>0</td>\n",
       "      <td>0.00%</td>\n",
       "    </tr>\n",
       "    <tr>\n",
       "      <td>glc_D_e</td>\n",
       "      <td>EX_glc_D_e_</td>\n",
       "      <td>20</td>\n",
       "      <td>6</td>\n",
       "      <td>59.42%</td>\n",
       "    </tr>\n",
       "    <tr>\n",
       "      <td>glu_L_e</td>\n",
       "      <td>EX_glu_L_e_</td>\n",
       "      <td>0.9104</td>\n",
       "      <td>5</td>\n",
       "      <td>2.25%</td>\n",
       "    </tr>\n",
       "    <tr>\n",
       "      <td>his_L_e</td>\n",
       "      <td>EX_his_L_e_</td>\n",
       "      <td>0.09625</td>\n",
       "      <td>6</td>\n",
       "      <td>0.29%</td>\n",
       "    </tr>\n",
       "    <tr>\n",
       "      <td>k_e</td>\n",
       "      <td>EX_k_e_</td>\n",
       "      <td>0.169</td>\n",
       "      <td>0</td>\n",
       "      <td>0.00%</td>\n",
       "    </tr>\n",
       "    <tr>\n",
       "      <td>leu_L_e</td>\n",
       "      <td>EX_leu_L_e_</td>\n",
       "      <td>0.4498</td>\n",
       "      <td>6</td>\n",
       "      <td>1.34%</td>\n",
       "    </tr>\n",
       "    <tr>\n",
       "      <td>lys_L_e</td>\n",
       "      <td>EX_lys_L_e_</td>\n",
       "      <td>0.3341</td>\n",
       "      <td>6</td>\n",
       "      <td>0.99%</td>\n",
       "    </tr>\n",
       "    <tr>\n",
       "      <td>mg2_e</td>\n",
       "      <td>EX_mg2_e_</td>\n",
       "      <td>0.007514</td>\n",
       "      <td>0</td>\n",
       "      <td>0.00%</td>\n",
       "    </tr>\n",
       "    <tr>\n",
       "      <td>mn2_e</td>\n",
       "      <td>EX_mn2_e_</td>\n",
       "      <td>0.003006</td>\n",
       "      <td>0</td>\n",
       "      <td>0.00%</td>\n",
       "    </tr>\n",
       "    <tr>\n",
       "      <td>mobd_e</td>\n",
       "      <td>EX_mobd_e_</td>\n",
       "      <td>0.003006</td>\n",
       "      <td>0</td>\n",
       "      <td>0.00%</td>\n",
       "    </tr>\n",
       "    <tr>\n",
       "      <td>o2_e</td>\n",
       "      <td>EX_o2_e_</td>\n",
       "      <td>20</td>\n",
       "      <td>0</td>\n",
       "      <td>0.00%</td>\n",
       "    </tr>\n",
       "    <tr>\n",
       "      <td>phe_L_e</td>\n",
       "      <td>EX_phe_L_e_</td>\n",
       "      <td>0.1894</td>\n",
       "      <td>9</td>\n",
       "      <td>0.84%</td>\n",
       "    </tr>\n",
       "    <tr>\n",
       "      <td>pi_e</td>\n",
       "      <td>EX_pi_e_</td>\n",
       "      <td>0.6966</td>\n",
       "      <td>0</td>\n",
       "      <td>0.00%</td>\n",
       "    </tr>\n",
       "    <tr>\n",
       "      <td>ser_L_e</td>\n",
       "      <td>EX_ser_L_e_</td>\n",
       "      <td>20</td>\n",
       "      <td>3</td>\n",
       "      <td>29.71%</td>\n",
       "    </tr>\n",
       "    <tr>\n",
       "      <td>so4_e</td>\n",
       "      <td>EX_so4_e_</td>\n",
       "      <td>0.003757</td>\n",
       "      <td>0</td>\n",
       "      <td>0.00%</td>\n",
       "    </tr>\n",
       "    <tr>\n",
       "      <td>thr_L_e</td>\n",
       "      <td>EX_thr_L_e_</td>\n",
       "      <td>0.5529</td>\n",
       "      <td>4</td>\n",
       "      <td>1.10%</td>\n",
       "    </tr>\n",
       "    <tr>\n",
       "      <td>trp_L_e</td>\n",
       "      <td>EX_trp_L_e_</td>\n",
       "      <td>0.06562</td>\n",
       "      <td>11</td>\n",
       "      <td>0.36%</td>\n",
       "    </tr>\n",
       "    <tr>\n",
       "      <td>tyr_L_e</td>\n",
       "      <td>EX_tyr_L_e_</td>\n",
       "      <td>0.1361</td>\n",
       "      <td>9</td>\n",
       "      <td>0.61%</td>\n",
       "    </tr>\n",
       "    <tr>\n",
       "      <td>zn2_e</td>\n",
       "      <td>EX_zn2_e_</td>\n",
       "      <td>0.003006</td>\n",
       "      <td>0</td>\n",
       "      <td>0.00%</td>\n",
       "    </tr>\n",
       "  </tbody>\n",
       "</table><h4>Secretion</h4><table border=\"1\" class=\"dataframe\">\n",
       "  <thead>\n",
       "    <tr style=\"text-align: right;\">\n",
       "      <th>Metabolite</th>\n",
       "      <th>Reaction</th>\n",
       "      <th>Flux</th>\n",
       "      <th>C-Number</th>\n",
       "      <th>C-Flux</th>\n",
       "    </tr>\n",
       "  </thead>\n",
       "  <tbody>\n",
       "    <tr>\n",
       "      <td>4hba_c</td>\n",
       "      <td>DM_4HBA</td>\n",
       "      <td>-0.0002445</td>\n",
       "      <td>7</td>\n",
       "      <td>0.00%</td>\n",
       "    </tr>\n",
       "    <tr>\n",
       "      <td>5drib_c</td>\n",
       "      <td>DM_5DRIB</td>\n",
       "      <td>-0.0004264</td>\n",
       "      <td>5</td>\n",
       "      <td>0.00%</td>\n",
       "    </tr>\n",
       "    <tr>\n",
       "      <td>amob_c</td>\n",
       "      <td>DM_AMOB</td>\n",
       "      <td>-1.894E-06</td>\n",
       "      <td>15</td>\n",
       "      <td>0.00%</td>\n",
       "    </tr>\n",
       "    <tr>\n",
       "      <td>essbiomass</td>\n",
       "      <td>DM_ESSBIOMASS</td>\n",
       "      <td>-0.9517</td>\n",
       "      <td>0</td>\n",
       "      <td>0.00%</td>\n",
       "    </tr>\n",
       "    <tr>\n",
       "      <td>hmfurn_c</td>\n",
       "      <td>DM_HMFURN</td>\n",
       "      <td>-0.0004245</td>\n",
       "      <td>5</td>\n",
       "      <td>0.00%</td>\n",
       "    </tr>\n",
       "    <tr>\n",
       "      <td>pap_c</td>\n",
       "      <td>DM_PAP</td>\n",
       "      <td>-0.01657</td>\n",
       "      <td>10</td>\n",
       "      <td>0.10%</td>\n",
       "    </tr>\n",
       "    <tr>\n",
       "      <td>urea_c</td>\n",
       "      <td>DM_UREA</td>\n",
       "      <td>-0.007364</td>\n",
       "      <td>1</td>\n",
       "      <td>0.00%</td>\n",
       "    </tr>\n",
       "    <tr>\n",
       "      <td>ac_e</td>\n",
       "      <td>EX_ac_e_</td>\n",
       "      <td>-29.93</td>\n",
       "      <td>2</td>\n",
       "      <td>36.70%</td>\n",
       "    </tr>\n",
       "    <tr>\n",
       "      <td>ala_D_e</td>\n",
       "      <td>EX_ala_D_e_</td>\n",
       "      <td>-0.03966</td>\n",
       "      <td>3</td>\n",
       "      <td>0.07%</td>\n",
       "    </tr>\n",
       "    <tr>\n",
       "      <td>co2_e</td>\n",
       "      <td>EX_co2_e_</td>\n",
       "      <td>-32.58</td>\n",
       "      <td>1</td>\n",
       "      <td>19.97%</td>\n",
       "    </tr>\n",
       "    <tr>\n",
       "      <td>glyclt_e</td>\n",
       "      <td>EX_glyclt_e_</td>\n",
       "      <td>-0.0006367</td>\n",
       "      <td>2</td>\n",
       "      <td>0.00%</td>\n",
       "    </tr>\n",
       "    <tr>\n",
       "      <td>h2o_e</td>\n",
       "      <td>EX_h2o_e_</td>\n",
       "      <td>-25.17</td>\n",
       "      <td>0</td>\n",
       "      <td>0.00%</td>\n",
       "    </tr>\n",
       "    <tr>\n",
       "      <td>h_e</td>\n",
       "      <td>EX_h_e_</td>\n",
       "      <td>-30.12</td>\n",
       "      <td>0</td>\n",
       "      <td>0.00%</td>\n",
       "    </tr>\n",
       "    <tr>\n",
       "      <td>lac_D_e</td>\n",
       "      <td>EX_lac_D_e_</td>\n",
       "      <td>-23.46</td>\n",
       "      <td>3</td>\n",
       "      <td>43.15%</td>\n",
       "    </tr>\n",
       "    <tr>\n",
       "      <td>nh4_e</td>\n",
       "      <td>EX_nh4_e_</td>\n",
       "      <td>-15.82</td>\n",
       "      <td>0</td>\n",
       "      <td>0.00%</td>\n",
       "    </tr>\n",
       "  </tbody>\n",
       "</table>"
      ],
      "text/plain": [
       "<cobra.summary.model_summary.ModelSummary at 0x1783e3dd1f0>"
      ]
     },
     "execution_count": 16,
     "metadata": {},
     "output_type": "execute_result"
    }
   ],
   "source": [
    "rpmi(model)\n",
    "model.summary()"
   ]
  },
  {
   "cell_type": "code",
   "execution_count": 17,
   "id": "b6c05450-617b-400a-97d3-3e853876b00a",
   "metadata": {
    "scrolled": true
   },
   "outputs": [],
   "source": [
    "# Set up counts for tracking changes\n",
    "init_rxn = [str(x.id) for x in model.reactions]\n",
    "\n",
    "new_genes = 0\n",
    "new_rxns = 0\n",
    "new_cpds = 0"
   ]
  },
  {
   "cell_type": "code",
   "execution_count": 18,
   "id": "fb6e0b56-feb0-4ac5-83ad-457238504330",
   "metadata": {
    "scrolled": true
   },
   "outputs": [
    {
     "name": "stdout",
     "output_type": "stream",
     "text": [
      "891 891 891\n"
     ]
    },
    {
     "data": {
      "text/html": [
       "<div>\n",
       "<style scoped>\n",
       "    .dataframe tbody tr th:only-of-type {\n",
       "        vertical-align: middle;\n",
       "    }\n",
       "\n",
       "    .dataframe tbody tr th {\n",
       "        vertical-align: top;\n",
       "    }\n",
       "\n",
       "    .dataframe thead th {\n",
       "        text-align: right;\n",
       "    }\n",
       "</style>\n",
       "<table border=\"1\" class=\"dataframe\">\n",
       "  <thead>\n",
       "    <tr style=\"text-align: right;\">\n",
       "      <th></th>\n",
       "      <th>Reactions</th>\n",
       "      <th>Charge</th>\n",
       "      <th>Masses</th>\n",
       "    </tr>\n",
       "  </thead>\n",
       "  <tbody>\n",
       "    <tr>\n",
       "      <th>0</th>\n",
       "      <td>2MAHMP</td>\n",
       "      <td>1.0</td>\n",
       "      <td>{}</td>\n",
       "    </tr>\n",
       "    <tr>\n",
       "      <th>1</th>\n",
       "      <td>3HAD160</td>\n",
       "      <td>1.0</td>\n",
       "      <td>{}</td>\n",
       "    </tr>\n",
       "    <tr>\n",
       "      <th>2</th>\n",
       "      <td>3HAD161x</td>\n",
       "      <td></td>\n",
       "      <td>{'H': 49.0, 'O': 9.0, 'C': 27.0, 'N': 2.0, 'P'...</td>\n",
       "    </tr>\n",
       "    <tr>\n",
       "      <th>3</th>\n",
       "      <td>3HAD80</td>\n",
       "      <td>1.0</td>\n",
       "      <td>{}</td>\n",
       "    </tr>\n",
       "    <tr>\n",
       "      <th>4</th>\n",
       "      <td>3OAR161x</td>\n",
       "      <td></td>\n",
       "      <td>{'C': -27.0, 'H': -49.0, 'N': -2.0, 'O': -9.0,...</td>\n",
       "    </tr>\n",
       "    <tr>\n",
       "      <th>...</th>\n",
       "      <td>...</td>\n",
       "      <td>...</td>\n",
       "      <td>...</td>\n",
       "    </tr>\n",
       "    <tr>\n",
       "      <th>886</th>\n",
       "      <td>CDGS</td>\n",
       "      <td>1.0</td>\n",
       "      <td>{}</td>\n",
       "    </tr>\n",
       "    <tr>\n",
       "      <th>887</th>\n",
       "      <td>CDGR</td>\n",
       "      <td>1.0</td>\n",
       "      <td>{}</td>\n",
       "    </tr>\n",
       "    <tr>\n",
       "      <th>888</th>\n",
       "      <td>CCGS</td>\n",
       "      <td>1.0</td>\n",
       "      <td>{}</td>\n",
       "    </tr>\n",
       "    <tr>\n",
       "      <th>889</th>\n",
       "      <td>CYSTINEabcpp</td>\n",
       "      <td>1.0</td>\n",
       "      <td>{}</td>\n",
       "    </tr>\n",
       "    <tr>\n",
       "      <th>890</th>\n",
       "      <td>EX_cystine_L_</td>\n",
       "      <td></td>\n",
       "      <td>{'C': -6.0, 'H': -12.0, 'N': -2.0, 'O': -4.0, ...</td>\n",
       "    </tr>\n",
       "  </tbody>\n",
       "</table>\n",
       "<p>891 rows × 3 columns</p>\n",
       "</div>"
      ],
      "text/plain": [
       "         Reactions Charge                                             Masses\n",
       "0           2MAHMP    1.0                                                 {}\n",
       "1          3HAD160    1.0                                                 {}\n",
       "2         3HAD161x         {'H': 49.0, 'O': 9.0, 'C': 27.0, 'N': 2.0, 'P'...\n",
       "3           3HAD80    1.0                                                 {}\n",
       "4         3OAR161x         {'C': -27.0, 'H': -49.0, 'N': -2.0, 'O': -9.0,...\n",
       "..             ...    ...                                                ...\n",
       "886           CDGS    1.0                                                 {}\n",
       "887           CDGR    1.0                                                 {}\n",
       "888           CCGS    1.0                                                 {}\n",
       "889   CYSTINEabcpp    1.0                                                 {}\n",
       "890  EX_cystine_L_         {'C': -6.0, 'H': -12.0, 'N': -2.0, 'O': -4.0, ...\n",
       "\n",
       "[891 rows x 3 columns]"
      ]
     },
     "execution_count": 18,
     "metadata": {},
     "output_type": "execute_result"
    }
   ],
   "source": [
    "#Count number of imbalances\n",
    "reactions = []\n",
    "charge = []\n",
    "mass = []\n",
    "for react in model.reactions:\n",
    "    result = react.check_mass_balance()\n",
    "    if len(result) == 0:\n",
    "        continue\n",
    "    else: \n",
    "        reactions.append(react.id)\n",
    "        masses = {}\n",
    "        for key in result.keys():\n",
    "            if key == 'charge':\n",
    "                charge.append(result['charge'])\n",
    "            else:\n",
    "                masses[key] = result[key]\n",
    "        if 'charge' not in result.keys():\n",
    "            charge.append('')\n",
    "        mass.append(masses)\n",
    "print(len(reactions), len(charge), len(mass))\n",
    "\n",
    "mass_charge_dict = {'Reactions': reactions, 'Charge': charge, 'Masses': mass}\n",
    "mass_charge = pandas.DataFrame(mass_charge_dict)\n",
    "mass_charge.to_csv('totalimbalances.csv')\n",
    "mass_charge"
   ]
  },
  {
   "cell_type": "code",
   "execution_count": 19,
   "id": "417df0ae-80bd-40f5-8d98-b9ca7d394332",
   "metadata": {
    "scrolled": true
   },
   "outputs": [
    {
     "name": "stdout",
     "output_type": "stream",
     "text": [
      "essbiomass\n",
      "Hg2_p\n",
      "Hg2_c\n",
      "dhap_p\n",
      "protein\n",
      "3hcpalm5eACP_c\n",
      "pepglycan_NM_p\n",
      "capminusbiomass\n",
      "lipid_NM_p\n",
      "esslipid_NM_p\n",
      "rna_c\n",
      "mobd_c\n",
      "mobd_e\n",
      "trnaglu_c\n",
      "biomass\n",
      "dna_c\n"
     ]
    }
   ],
   "source": [
    "#Several imbalances are due to missing formulas. \n",
    "#Find missing formulas\n",
    "no_formula = (\"\")\n",
    "for metabolites in model.metabolites:\n",
    "        if metabolites.formula == no_formula:\n",
    "            print (metabolites.id)"
   ]
  },
  {
   "cell_type": "code",
   "execution_count": 20,
   "id": "ddca6ae5-cdee-4526-8fcc-b88da050ad6d",
   "metadata": {
    "scrolled": true
   },
   "outputs": [],
   "source": [
    "#Correct missing formulas\n",
    "model.metabolites.get_by_id(\"Hg2_p\").formula =\"Hg\"\n",
    "model.metabolites.get_by_id(\"Hg2_c\").formula =\"Hg\"\n",
    "model.metabolites.get_by_id(\"mobd_e\").formula =\"MoO4\"\n",
    "model.metabolites.get_by_id(\"mobd_c\").formula =\"MoO4\"\n",
    "model.metabolites.get_by_id(\"dhap_p\").formula =\"C3H5O6P\"\n",
    "model.metabolites.get_by_id(\"dhap_e\").formula =\"C3H5O6P\"\n",
    "model.metabolites.get_by_id(\"3hcpalm5eACP_c\").formula =\"C27H49N2O9PRS\"\n",
    "model.metabolites.get_by_id(\"trnaglu_c\").formula =\"R\"\n",
    "\n",
    "\n",
    "#model.metabolites.get_by_id(\"dsbgox_p\").formula =\"X\"\n",
    "#model.metabolites.get_by_id(\"dsbdrd_c\").formula =\"XH2\"\n",
    "#model.metabolites.get_by_id(\"dsbcrd_p\").formula =\"XH2\"\n",
    "#model.metabolites.get_by_id(\"dsbcox_p\").formula =\"X\"\n",
    "#model.metabolites.get_by_id(\"dsbdox_c\").formula =\"X\"\n"
   ]
  },
  {
   "cell_type": "code",
   "execution_count": 21,
   "id": "77e311b4-c0b5-43b7-98f4-240db05b085e",
   "metadata": {
    "scrolled": true
   },
   "outputs": [
    {
     "name": "stdout",
     "output_type": "stream",
     "text": [
      "essbiomass\n",
      "protein\n",
      "pepglycan_NM_p\n",
      "capminusbiomass\n",
      "lipid_NM_p\n",
      "esslipid_NM_p\n",
      "rna_c\n",
      "biomass\n",
      "dna_c\n"
     ]
    }
   ],
   "source": [
    "#Remaining metabolites with no formula are okay\n",
    "no_formula = (\"\")\n",
    "for metabolites in model.metabolites:\n",
    "        if metabolites.formula == no_formula:\n",
    "            print (metabolites.id)"
   ]
  },
  {
   "cell_type": "code",
   "execution_count": 22,
   "id": "9146528b-4009-4285-aa83-a42b6a0bbac0",
   "metadata": {},
   "outputs": [],
   "source": [
    "#Many Imbalances are due to lack of charges. Adding charges from the Bigg Ecoli model (what the NM model was based on)\n",
    "ecoli = read_model('C:/Users/Aimee/Documents/UVA/Metabolic_Modeling/organized/models/curated_models/ecoli.json')"
   ]
  },
  {
   "cell_type": "code",
   "execution_count": 23,
   "id": "b1d897e4-2af2-42e4-b896-b97475d58b45",
   "metadata": {},
   "outputs": [],
   "source": [
    "ecolilist=[]\n",
    "for x in ecoli.metabolites:\n",
    "    if x.charge != 0:\n",
    "        ecolilist.append(x.id)"
   ]
  },
  {
   "cell_type": "code",
   "execution_count": 24,
   "id": "99d05ff9-927a-468f-b2f5-7b06fb395486",
   "metadata": {},
   "outputs": [],
   "source": [
    "model.metabolites.get_by_id('2agpg161_c').charge=-1\n",
    "model.metabolites.get_by_id('2agpg161_p').charge=-1\n",
    "model.metabolites.get_by_id('2agpg180_c').charge=-1\n",
    "model.metabolites.get_by_id('2agpg180_p').charge=-1\n",
    "model.metabolites.get_by_id('2agpg181_c').charge=-1\n",
    "model.metabolites.get_by_id('2agpg181_p').charge=-1\n",
    "model.metabolites.get_by_id('2ahbut_c').charge=-1\n",
    "model.metabolites.get_by_id('2amsa_c').charge=0\n",
    "model.metabolites.get_by_id('2aobut_c').charge=0\n",
    "model.metabolites.get_by_id('2cpr5p_c').charge=-3\n",
    "model.metabolites.get_by_id('2dda7p_c').charge=-3\n",
    "model.metabolites.get_by_id('2ddecg3p_c').charge=-1\n",
    "model.metabolites.get_by_id('2ddecg3p_p').charge=-1\n",
    "model.metabolites.get_by_id('2ddg6p_c').charge=-3\n",
    "model.metabolites.get_by_id('2ddglcn_e').charge=-1\n",
    "model.metabolites.get_by_id('2ddglcn_p').charge=-1\n",
    "model.metabolites.get_by_id('2dh3dgal6p_c').charge=-3\n",
    "model.metabolites.get_by_id('12dgr181_c').charge=0\n",
    "model.metabolites.get_by_id('10fthf_c').charge=-2\n",
    "model.metabolites.get_by_id('12dgr120_c').charge=0\n",
    "model.metabolites.get_by_id('2dhp_c').charge=-1\n",
    "model.metabolites.get_by_id('12dgr181_p').charge=0\n",
    "model.metabolites.get_by_id('12dgr120_p').charge=0\n",
    "model.metabolites.get_by_id('12dgr140_c').charge=0\n",
    "model.metabolites.get_by_id('12dgr140_p').charge=0\n",
    "model.metabolites.get_by_id('12dgr141_c').charge=0\n",
    "model.metabolites.get_by_id('12dgr141_p').charge=0\n",
    "model.metabolites.get_by_id('12dgr160_c').charge=0\n",
    "model.metabolites.get_by_id('12dgr160_p').charge=0\n",
    "model.metabolites.get_by_id('2hdecg3p_c').charge=-1\n",
    "model.metabolites.get_by_id('13dpg_c').charge=-4\n",
    "model.metabolites.get_by_id('12dgr161_c').charge=0\n",
    "model.metabolites.get_by_id('2hdecg3p_p').charge=-1\n",
    "model.metabolites.get_by_id('12dgr161_p').charge=0\n",
    "model.metabolites.get_by_id('2ippm_c').charge=-2\n",
    "model.metabolites.get_by_id('12dgr180_c').charge=0\n",
    "model.metabolites.get_by_id('12dgr180_p').charge=0\n",
    "model.metabolites.get_by_id('2mahmp_c').charge=-3\n",
    "model.metabolites.get_by_id('15dap_e').charge=2\n",
    "model.metabolites.get_by_id('15dap_p').charge=2\n",
    "model.metabolites.get_by_id('2mcit_c').charge=-3\n",
    "model.metabolites.get_by_id('2me4p_c').charge=-2\n",
    "model.metabolites.get_by_id('2mecdp_c').charge=-2\n",
    "model.metabolites.get_by_id('2obut_c').charge=-1\n",
    "model.metabolites.get_by_id('3hoctaACP_c').charge=-1\n",
    "model.metabolites.get_by_id('2odecg3p_c').charge=-1\n",
    "model.metabolites.get_by_id('2odecg3p_p').charge=-1\n",
    "model.metabolites.get_by_id('3hpalmACP_c').charge=-1\n",
    "model.metabolites.get_by_id('2ohph_c').charge=0\n",
    "model.metabolites.get_by_id('3hpppn_e').charge=-1\n",
    "model.metabolites.get_by_id('3hpppn_p').charge=-1\n",
    "model.metabolites.get_by_id('2ombzl_c').charge=0\n",
    "model.metabolites.get_by_id('2omhmbl_c').charge=0\n",
    "model.metabolites.get_by_id('1ddecg3p_c').charge=-2\n",
    "model.metabolites.get_by_id('3ig3p_c').charge=-2\n",
    "model.metabolites.get_by_id('3mob_c').charge=-1\n",
    "model.metabolites.get_by_id('2ommbl_c').charge=0\n",
    "model.metabolites.get_by_id('3mop_c').charge=-1\n",
    "model.metabolites.get_by_id('2omph_c').charge=0\n",
    "model.metabolites.get_by_id('1hdec9eg3p_c').charge=-2\n",
    "model.metabolites.get_by_id('3ocddec5eACP_c').charge=-1\n",
    "model.metabolites.get_by_id('2oph_c').charge=0\n",
    "model.metabolites.get_by_id('1hdecg3p_c').charge=-2\n",
    "model.metabolites.get_by_id('2p4c2me_c').charge=-4\n",
    "model.metabolites.get_by_id('1odec11eg3p_c').charge=-2\n",
    "model.metabolites.get_by_id('2pg_c').charge=-3\n",
    "model.metabolites.get_by_id('1odecg3p_c').charge=-2\n",
    "model.metabolites.get_by_id('3ocmrs7eACP_c').charge=-1\n",
    "model.metabolites.get_by_id('3ocpalm9eACP_c').charge=-1\n",
    "model.metabolites.get_by_id('1pyr5c_c').charge=-1\n",
    "model.metabolites.get_by_id('2pglyc_c').charge=-3\n",
    "model.metabolites.get_by_id('1tdec7eg3p_c').charge=-2\n",
    "model.metabolites.get_by_id('2tdec7eg3p_c').charge=-1\n",
    "model.metabolites.get_by_id('1tdecg3p_c').charge=-2\n",
    "model.metabolites.get_by_id('3oddecACP_c').charge=-1\n",
    "model.metabolites.get_by_id('2tdec7eg3p_p').charge=-1\n",
    "model.metabolites.get_by_id('3odecACP_c').charge=-1\n",
    "model.metabolites.get_by_id('2tdecg3p_c').charge=-1\n",
    "model.metabolites.get_by_id('2tdecg3p_p').charge=-1\n",
    "model.metabolites.get_by_id('3ohexACP_c').charge=-1\n",
    "model.metabolites.get_by_id('3omrsACP_c').charge=-1\n",
    "model.metabolites.get_by_id('34dhpac_e').charge=0\n",
    "model.metabolites.get_by_id('3ooctACP_c').charge=-1\n",
    "model.metabolites.get_by_id('34dhpac_p').charge=0\n",
    "model.metabolites.get_by_id('3ooctdACP_c').charge=-1\n",
    "model.metabolites.get_by_id('34hpp_c').charge=-1\n",
    "model.metabolites.get_by_id('3amp_e').charge=-2\n",
    "model.metabolites.get_by_id('3opalmACP_c').charge=-1\n",
    "model.metabolites.get_by_id('3ophb_c').charge=-1\n",
    "model.metabolites.get_by_id('3amp_p').charge=-2\n",
    "model.metabolites.get_by_id('3c2hmp_c').charge=-2\n",
    "model.metabolites.get_by_id('3pg_c').charge=-3\n",
    "model.metabolites.get_by_id('3c3hmp_c').charge=-2\n",
    "model.metabolites.get_by_id('3php_c').charge=-3\n",
    "model.metabolites.get_by_id('3psme_c').charge=-4\n",
    "model.metabolites.get_by_id('3c4mop_c').charge=-2\n",
    "model.metabolites.get_by_id('3cmp_e').charge=-2\n",
    "model.metabolites.get_by_id('3cmp_p').charge=-2\n",
    "model.metabolites.get_by_id('3ump_e').charge=-2\n",
    "model.metabolites.get_by_id('3ump_p').charge=-2\n",
    "model.metabolites.get_by_id('4abut_e').charge=0\n",
    "model.metabolites.get_by_id('23dhdp_c').charge=-2\n",
    "model.metabolites.get_by_id('23dhmb_c').charge=-1\n",
    "model.metabolites.get_by_id('23dhmp_c').charge=-1\n",
    "model.metabolites.get_by_id('4abut_p').charge=0\n",
    "model.metabolites.get_by_id('4abz_c').charge=-1\n",
    "model.metabolites.get_by_id('3dhq_c').charge=-1\n",
    "model.metabolites.get_by_id('4adcho_c').charge=-1\n",
    "model.metabolites.get_by_id('3dhsk_c').charge=-1\n",
    "model.metabolites.get_by_id('25aics_c').charge=-4\n",
    "model.metabolites.get_by_id('4ahmmp_c').charge=0\n",
    "model.metabolites.get_by_id('4ampm_c').charge=-2\n",
    "model.metabolites.get_by_id('4c2me_c').charge=-2\n",
    "model.metabolites.get_by_id('25drapp_c').charge=-2\n",
    "model.metabolites.get_by_id('3haACP_c').charge=-1\n",
    "model.metabolites.get_by_id('26dap_LL_c').charge=0\n",
    "model.metabolites.get_by_id('3hcddec5eACP_c').charge=-1\n",
    "model.metabolites.get_by_id('4hba_c').charge=0\n",
    "model.metabolites.get_by_id('4hbz_c').charge=-1\n",
    "model.metabolites.get_by_id('3hcinnm_e').charge=-1\n",
    "model.metabolites.get_by_id('2agpe120_c').charge=0\n",
    "model.metabolites.get_by_id('4hoxpacd_e').charge=0\n",
    "model.metabolites.get_by_id('3hcinnm_p').charge=-1\n",
    "model.metabolites.get_by_id('4hoxpacd_p').charge=0\n",
    "model.metabolites.get_by_id('2agpe120_p').charge=0\n",
    "model.metabolites.get_by_id('4hthr_c').charge=0\n",
    "model.metabolites.get_by_id('3hcmrs7eACP_c').charge=-1\n",
    "model.metabolites.get_by_id('2agpe140_c').charge=0\n",
    "model.metabolites.get_by_id('3hcpalm9eACP_c').charge=-1\n",
    "model.metabolites.get_by_id('2agpe140_p').charge=0\n",
    "model.metabolites.get_by_id('4mop_c').charge=-1\n",
    "model.metabolites.get_by_id('4mpetz_c').charge=-2\n",
    "model.metabolites.get_by_id('2agpe141_c').charge=0\n",
    "model.metabolites.get_by_id('2agpe141_p').charge=0\n",
    "model.metabolites.get_by_id('2agpe160_c').charge=0\n",
    "model.metabolites.get_by_id('4pasp_c').charge=-2\n",
    "model.metabolites.get_by_id('4per_c').charge=-3\n",
    "model.metabolites.get_by_id('4ppan_c').charge=-3\n",
    "model.metabolites.get_by_id('2agpe160_p').charge=0\n",
    "model.metabolites.get_by_id('3hddecACP_c').charge=-1\n",
    "model.metabolites.get_by_id('2agpe161_c').charge=0\n",
    "model.metabolites.get_by_id('4ppcys_c').charge=-3\n",
    "model.metabolites.get_by_id('3hdecACP_c').charge=-1\n",
    "model.metabolites.get_by_id('4r5au_c').charge=0\n",
    "model.metabolites.get_by_id('2agpe161_p').charge=0\n",
    "model.metabolites.get_by_id('2agpe180_c').charge=0\n",
    "model.metabolites.get_by_id('2agpe180_p').charge=0\n",
    "model.metabolites.get_by_id('5aizc_c').charge=-3\n",
    "model.metabolites.get_by_id('5aop_c').charge=0\n",
    "model.metabolites.get_by_id('5aprbu_c').charge=-2\n",
    "model.metabolites.get_by_id('2agpe181_c').charge=0\n",
    "model.metabolites.get_by_id('3hhexACP_c').charge=-1\n",
    "model.metabolites.get_by_id('2agpe181_p').charge=0\n",
    "model.metabolites.get_by_id('5apru_c').charge=-2\n",
    "model.metabolites.get_by_id('3hmrsACP_c').charge=-1\n",
    "model.metabolites.get_by_id('2agpg120_c').charge=-1\n",
    "model.metabolites.get_by_id('2agpg120_p').charge=-1\n",
    "model.metabolites.get_by_id('5caiz_c').charge=-3\n",
    "model.metabolites.get_by_id('3hoctACP_c').charge=-1\n",
    "model.metabolites.get_by_id('2agpg140_c').charge=-1\n",
    "model.metabolites.get_by_id('2agpg140_p').charge=-1\n",
    "model.metabolites.get_by_id('5dglcn_e').charge=-1\n",
    "model.metabolites.get_by_id('5dglcn_p').charge=-1\n",
    "model.metabolites.get_by_id('5drib_c').charge=0\n",
    "model.metabolites.get_by_id('2agpg141_c').charge=-1\n",
    "model.metabolites.get_by_id('2agpg141_p').charge=-1\n",
    "model.metabolites.get_by_id('2agpg160_c').charge=-1\n",
    "model.metabolites.get_by_id('2agpg160_p').charge=-1\n",
    "model.metabolites.get_by_id('acACP_c').charge=-1\n",
    "model.metabolites.get_by_id('5mta_c').charge=0\n",
    "model.metabolites.get_by_id('ac_c').charge=-1\n",
    "model.metabolites.get_by_id('5mthf_c').charge=-1\n",
    "model.metabolites.get_by_id('ac_e').charge=-1\n",
    "model.metabolites.get_by_id('5mtr_c').charge=0\n",
    "model.metabolites.get_by_id('ac_p').charge=-1\n",
    "model.metabolites.get_by_id('6hmhpt_c').charge=0\n",
    "model.metabolites.get_by_id('6hmhptpp_c').charge=-3\n",
    "model.metabolites.get_by_id('acac_e').charge=-1\n",
    "model.metabolites.get_by_id('6pgc_c').charge=-3\n",
    "model.metabolites.get_by_id('acac_p').charge=-1\n",
    "model.metabolites.get_by_id('6pgl_c').charge=-2\n",
    "model.metabolites.get_by_id('acald_c').charge=0\n",
    "model.metabolites.get_by_id('8aonn_c').charge=0\n",
    "model.metabolites.get_by_id('acald_e').charge=0\n",
    "model.metabolites.get_by_id('ACP_c').charge=-1\n",
    "model.metabolites.get_by_id('acald_p').charge=0\n",
    "model.metabolites.get_by_id('LalaDgluMdapDala_c').charge=-1\n",
    "model.metabolites.get_by_id('LalaDgluMdapDala_e').charge=-1\n",
    "model.metabolites.get_by_id('accoa_c').charge=-4\n",
    "model.metabolites.get_by_id('alltn_e').charge=0\n",
    "model.metabolites.get_by_id('LalaDgluMdapDala_p').charge=-1\n",
    "model.metabolites.get_by_id('LalaDgluMdap_c').charge=-1\n",
    "model.metabolites.get_by_id('alltn_p').charge=0\n",
    "model.metabolites.get_by_id('LalaDgluMdap_e').charge=-1\n",
    "model.metabolites.get_by_id('acg5p_c').charge=-3\n",
    "model.metabolites.get_by_id('LalaDgluMdap_p').charge=-1\n",
    "model.metabolites.get_by_id('acg5sa_c').charge=-1\n",
    "model.metabolites.get_by_id('LalaDglu_c').charge=-1\n",
    "model.metabolites.get_by_id('amet_c').charge=1\n",
    "model.metabolites.get_by_id('acgal_e').charge=0\n",
    "model.metabolites.get_by_id('Sfglutth_c').charge=-1\n",
    "model.metabolites.get_by_id('ametam_c').charge=2\n",
    "model.metabolites.get_by_id('acgal_p').charge=0\n",
    "model.metabolites.get_by_id('amob_c').charge=0\n",
    "model.metabolites.get_by_id('amp_c').charge=-2\n",
    "model.metabolites.get_by_id('acgam1p_c').charge=-2\n",
    "model.metabolites.get_by_id('amp_e').charge=-2\n",
    "model.metabolites.get_by_id('acgam1p_e').charge=-2\n",
    "model.metabolites.get_by_id('amp_p').charge=-2\n",
    "model.metabolites.get_by_id('acgam1p_p').charge=-2\n",
    "model.metabolites.get_by_id('anhgm3p_c').charge=-2\n",
    "model.metabolites.get_by_id('ca2_c').charge=2\n",
    "model.metabolites.get_by_id('ca2_e').charge=2\n",
    "model.metabolites.get_by_id('anhgm3p_p').charge=-2\n",
    "model.metabolites.get_by_id('acgam_c').charge=0\n",
    "model.metabolites.get_by_id('anhgm4p_c').charge=-2\n",
    "model.metabolites.get_by_id('ca2_p').charge=2\n",
    "model.metabolites.get_by_id('acgam_e').charge=0\n",
    "model.metabolites.get_by_id('anhgm4p_p').charge=-2\n",
    "model.metabolites.get_by_id('acgam_p').charge=0\n",
    "model.metabolites.get_by_id('anhgm_c').charge=-1\n",
    "model.metabolites.get_by_id('cbasp_c').charge=-2\n",
    "model.metabolites.get_by_id('anhgm_e').charge=-1\n",
    "model.metabolites.get_by_id('acglu_c').charge=-2\n",
    "model.metabolites.get_by_id('anhgm_p').charge=-1\n",
    "model.metabolites.get_by_id('anhm3p_c').charge=-2\n",
    "model.metabolites.get_by_id('anhm4p_c').charge=-2\n",
    "model.metabolites.get_by_id('acmana_c').charge=0\n",
    "model.metabolites.get_by_id('anhm_c').charge=-1\n",
    "model.metabolites.get_by_id('cbp_c').charge=-2\n",
    "model.metabolites.get_by_id('anth_c').charge=-1\n",
    "model.metabolites.get_by_id('acmana_e').charge=0\n",
    "model.metabolites.get_by_id('cd2_c').charge=2\n",
    "model.metabolites.get_by_id('acmana_p').charge=0\n",
    "model.metabolites.get_by_id('cd2_e').charge=2\n",
    "model.metabolites.get_by_id('cd2_p').charge=2\n",
    "model.metabolites.get_by_id('ap4a_c').charge=-4\n",
    "model.metabolites.get_by_id('cddec5eACP_c').charge=-1\n",
    "model.metabolites.get_by_id('acmum6p_c').charge=-3\n",
    "model.metabolites.get_by_id('cdec3eACP_c').charge=-1\n",
    "model.metabolites.get_by_id('acmum_e').charge=-1\n",
    "model.metabolites.get_by_id('cdp_c').charge=-3\n",
    "model.metabolites.get_by_id('acmum_p').charge=-1\n",
    "model.metabolites.get_by_id('cdpdddecg_c').charge=-2\n",
    "model.metabolites.get_by_id('acnam_c').charge=-1\n",
    "model.metabolites.get_by_id('cdpdhdecg_c').charge=-2\n",
    "model.metabolites.get_by_id('cdpdodecg_c').charge=-2\n",
    "model.metabolites.get_by_id('cdpdtdec7eg_c').charge=-2\n",
    "model.metabolites.get_by_id('cdpdtdecg_c').charge=-2\n",
    "model.metabolites.get_by_id('acon_C_c').charge=-3\n",
    "model.metabolites.get_by_id('acon_T_c').charge=-3\n",
    "model.metabolites.get_by_id('aps_c').charge=-2\n",
    "model.metabolites.get_by_id('cgly_c').charge=0\n",
    "model.metabolites.get_by_id('ara5p_c').charge=-2\n",
    "model.metabolites.get_by_id('acorn_c').charge=0\n",
    "model.metabolites.get_by_id('cgly_e').charge=0\n",
    "model.metabolites.get_by_id('acser_c').charge=0\n",
    "model.metabolites.get_by_id('cgly_p').charge=0\n",
    "model.metabolites.get_by_id('acser_e').charge=0\n",
    "model.metabolites.get_by_id('chol_c').charge=1\n",
    "model.metabolites.get_by_id('acser_p').charge=0\n",
    "model.metabolites.get_by_id('chol_e').charge=1\n",
    "model.metabolites.get_by_id('chol_p').charge=1\n",
    "model.metabolites.get_by_id('actACP_c').charge=-1\n",
    "model.metabolites.get_by_id('chor_c').charge=-2\n",
    "model.metabolites.get_by_id('actp_c').charge=-2\n",
    "model.metabolites.get_by_id('ade_c').charge=0\n",
    "model.metabolites.get_by_id('cit_c').charge=-3\n",
    "model.metabolites.get_by_id('ade_e').charge=0\n",
    "model.metabolites.get_by_id('cit_e').charge=-3\n",
    "model.metabolites.get_by_id('ade_p').charge=0\n",
    "model.metabolites.get_by_id('cit_p').charge=-3\n",
    "model.metabolites.get_by_id('adn_c').charge=0\n",
    "model.metabolites.get_by_id('ckdo_c').charge=-2\n",
    "model.metabolites.get_by_id('cl_c').charge=-1\n",
    "model.metabolites.get_by_id('cl_e').charge=-1\n",
    "model.metabolites.get_by_id('cl_p').charge=-1\n",
    "model.metabolites.get_by_id('clpn120_p').charge=-2\n",
    "model.metabolites.get_by_id('argsuc_c').charge=-1\n",
    "model.metabolites.get_by_id('clpn140_p').charge=-2\n",
    "model.metabolites.get_by_id('clpn141_p').charge=-2\n",
    "model.metabolites.get_by_id('ascb6p_c').charge=-2\n",
    "model.metabolites.get_by_id('clpn160_p').charge=-2\n",
    "model.metabolites.get_by_id('adp_c').charge=-3\n",
    "model.metabolites.get_by_id('clpn161_p').charge=-2\n",
    "model.metabolites.get_by_id('clpn180_p').charge=-2\n",
    "model.metabolites.get_by_id('clpn181_p').charge=-2\n",
    "model.metabolites.get_by_id('cmp_c').charge=-2\n",
    "model.metabolites.get_by_id('cmp_e').charge=-2\n",
    "model.metabolites.get_by_id('adphep_DD_c').charge=-2\n",
    "model.metabolites.get_by_id('cmp_p').charge=-2\n",
    "model.metabolites.get_by_id('adphep_LD_c').charge=-2\n",
    "model.metabolites.get_by_id('aso3_e').charge=-3\n",
    "model.metabolites.get_by_id('co2_c').charge=0\n",
    "model.metabolites.get_by_id('adprib_c').charge=-2\n",
    "model.metabolites.get_by_id('co2_e').charge=0\n",
    "model.metabolites.get_by_id('aso3_p').charge=-3\n",
    "model.metabolites.get_by_id('ag_c').charge=1\n",
    "model.metabolites.get_by_id('co2_p').charge=0\n",
    "model.metabolites.get_by_id('ag_e').charge=1\n",
    "model.metabolites.get_by_id('coa_c').charge=-4\n",
    "model.metabolites.get_by_id('cobalt2_c').charge=2\n",
    "model.metabolites.get_by_id('cobalt2_e').charge=2\n",
    "model.metabolites.get_by_id('agm_c').charge=2\n",
    "model.metabolites.get_by_id('cobalt2_p').charge=2\n",
    "model.metabolites.get_by_id('aspsa_c').charge=0\n",
    "model.metabolites.get_by_id('agm_e').charge=2\n",
    "model.metabolites.get_by_id('agm_p').charge=2\n",
    "model.metabolites.get_by_id('colipa_e').charge=-11\n",
    "model.metabolites.get_by_id('ahcys_c').charge=0\n",
    "model.metabolites.get_by_id('atp_c').charge=-4\n",
    "model.metabolites.get_by_id('ahdt_c').charge=-4\n",
    "model.metabolites.get_by_id('aicar_c').charge=-2\n",
    "model.metabolites.get_by_id('air_c').charge=-2\n",
    "model.metabolites.get_by_id('akg_c').charge=-2\n",
    "model.metabolites.get_by_id('akg_e').charge=-2\n",
    "model.metabolites.get_by_id('akg_p').charge=-2\n",
    "model.metabolites.get_by_id('ala_B_c').charge=0\n",
    "model.metabolites.get_by_id('btn_c').charge=-1\n",
    "model.metabolites.get_by_id('ala_B_e').charge=0\n",
    "model.metabolites.get_by_id('ala_B_p').charge=0\n",
    "model.metabolites.get_by_id('but2eACP_c').charge=-1\n",
    "model.metabolites.get_by_id('butACP_c').charge=-1\n",
    "model.metabolites.get_by_id('cpppg3_c').charge=-4\n",
    "model.metabolites.get_by_id('but_e').charge=-1\n",
    "model.metabolites.get_by_id('but_p').charge=-1\n",
    "model.metabolites.get_by_id('butso3_e').charge=-1\n",
    "model.metabolites.get_by_id('crn_e').charge=0\n",
    "model.metabolites.get_by_id('butso3_p').charge=-1\n",
    "model.metabolites.get_by_id('crn_p').charge=0\n",
    "model.metabolites.get_by_id('alaala_c').charge=0\n",
    "model.metabolites.get_by_id('alaala_e').charge=0\n",
    "model.metabolites.get_by_id('csn_c').charge=0\n",
    "model.metabolites.get_by_id('alaala_p').charge=0\n",
    "model.metabolites.get_by_id('csn_e').charge=0\n",
    "model.metabolites.get_by_id('dopa_p').charge=1\n",
    "model.metabolites.get_by_id('csn_p').charge=0\n",
    "model.metabolites.get_by_id('cu_p').charge=1\n",
    "model.metabolites.get_by_id('dpcoa_c').charge=-2\n",
    "model.metabolites.get_by_id('cyan_e').charge=0\n",
    "model.metabolites.get_by_id('ctp_c').charge=-4\n",
    "model.metabolites.get_by_id('dsbcox_p').charge=0\n",
    "model.metabolites.get_by_id('cyan_p').charge=0\n",
    "model.metabolites.get_by_id('dsbcrd_p').charge=0\n",
    "model.metabolites.get_by_id('cynt_e').charge=-1\n",
    "model.metabolites.get_by_id('cu2_c').charge=2\n",
    "model.metabolites.get_by_id('cu2_e').charge=2\n",
    "model.metabolites.get_by_id('dsbdox_c').charge=0\n",
    "model.metabolites.get_by_id('cu2_p').charge=2\n",
    "model.metabolites.get_by_id('cu_c').charge=1\n",
    "model.metabolites.get_by_id('cynt_p').charge=-1\n",
    "model.metabolites.get_by_id('dsbdrd_c').charge=0\n",
    "model.metabolites.get_by_id('cu_e').charge=1\n",
    "model.metabolites.get_by_id('dsbgox_p').charge=0\n",
    "model.metabolites.get_by_id('dsbgrd_p').charge=0\n",
    "model.metabolites.get_by_id('dscl_c').charge=-7\n",
    "model.metabolites.get_by_id('dtbt_c').charge=-1\n",
    "model.metabolites.get_by_id('cytd_c').charge=0\n",
    "model.metabolites.get_by_id('dtdp4d6dg_c').charge=-2\n",
    "model.metabolites.get_by_id('cytd_e').charge=0\n",
    "model.metabolites.get_by_id('dtdp4d6dm_c').charge=-2\n",
    "model.metabolites.get_by_id('fgam_c').charge=-2\n",
    "model.metabolites.get_by_id('cytd_p').charge=0\n",
    "model.metabolites.get_by_id('dtdp_c').charge=-3\n",
    "model.metabolites.get_by_id('dad_2_c').charge=0\n",
    "model.metabolites.get_by_id('dtdpglu_c').charge=-2\n",
    "model.metabolites.get_by_id('dtdprmn_c').charge=-2\n",
    "model.metabolites.get_by_id('dad_5_c').charge=0\n",
    "model.metabolites.get_by_id('dtmp_c').charge=-2\n",
    "model.metabolites.get_by_id('fmn_c').charge=-2\n",
    "model.metabolites.get_by_id('dadp_c').charge=-3\n",
    "model.metabolites.get_by_id('dtmp_e').charge=-2\n",
    "model.metabolites.get_by_id('damp_c').charge=-2\n",
    "model.metabolites.get_by_id('for_c').charge=-1\n",
    "model.metabolites.get_by_id('dtmp_p').charge=-2\n",
    "model.metabolites.get_by_id('for_e').charge=-1\n",
    "model.metabolites.get_by_id('damp_e').charge=-2\n",
    "model.metabolites.get_by_id('dttp_c').charge=-4\n",
    "model.metabolites.get_by_id('damp_p').charge=-2\n",
    "model.metabolites.get_by_id('for_p').charge=-1\n",
    "model.metabolites.get_by_id('dudp_c').charge=-3\n",
    "model.metabolites.get_by_id('fpram_c').charge=-1\n",
    "model.metabolites.get_by_id('dann_c').charge=1\n",
    "model.metabolites.get_by_id('dump_c').charge=-2\n",
    "model.metabolites.get_by_id('datp_c').charge=-4\n",
    "model.metabolites.get_by_id('fprica_c').charge=-2\n",
    "model.metabolites.get_by_id('dump_e').charge=-2\n",
    "model.metabolites.get_by_id('frdp_c').charge=-3\n",
    "model.metabolites.get_by_id('db4p_c').charge=-2\n",
    "model.metabolites.get_by_id('dump_p').charge=-2\n",
    "model.metabolites.get_by_id('fru_c').charge=0\n",
    "model.metabolites.get_by_id('fru_e').charge=0\n",
    "model.metabolites.get_by_id('dcaACP_c').charge=-1\n",
    "model.metabolites.get_by_id('fru_p').charge=0\n",
    "model.metabolites.get_by_id('dca_e').charge=-1\n",
    "model.metabolites.get_by_id('dca_p').charge=-1\n",
    "model.metabolites.get_by_id('dutp_c').charge=-4\n",
    "model.metabolites.get_by_id('frulys_e').charge=1\n",
    "model.metabolites.get_by_id('dxyl5p_c').charge=-2\n",
    "model.metabolites.get_by_id('frulys_p').charge=1\n",
    "model.metabolites.get_by_id('dcacoa_c').charge=-4\n",
    "model.metabolites.get_by_id('dcamp_c').charge=-4\n",
    "model.metabolites.get_by_id('e4p_c').charge=-2\n",
    "model.metabolites.get_by_id('fruur_e').charge=-1\n",
    "model.metabolites.get_by_id('dcdp_c').charge=-3\n",
    "model.metabolites.get_by_id('dcmp_c').charge=-2\n",
    "model.metabolites.get_by_id('fruur_p').charge=-1\n",
    "model.metabolites.get_by_id('dcmp_e').charge=-2\n",
    "model.metabolites.get_by_id('dcmp_p').charge=-2\n",
    "model.metabolites.get_by_id('dctp_c').charge=-4\n",
    "model.metabolites.get_by_id('dcyt_c').charge=0\n",
    "model.metabolites.get_by_id('fum_c').charge=-2\n",
    "model.metabolites.get_by_id('fum_e').charge=-2\n",
    "model.metabolites.get_by_id('fum_p').charge=-2\n",
    "model.metabolites.get_by_id('eig3p_c').charge=-2\n",
    "model.metabolites.get_by_id('g1p_c').charge=-2\n",
    "model.metabolites.get_by_id('enlipa_e').charge=-6\n",
    "model.metabolites.get_by_id('ddcaACP_c').charge=-1\n",
    "model.metabolites.get_by_id('g1p_e').charge=-2\n",
    "model.metabolites.get_by_id('enlipa_p').charge=-6\n",
    "model.metabolites.get_by_id('g1p_p').charge=-2\n",
    "model.metabolites.get_by_id('g3p_c').charge=-2\n",
    "model.metabolites.get_by_id('ddca_e').charge=-1\n",
    "model.metabolites.get_by_id('ddca_p').charge=-1\n",
    "model.metabolites.get_by_id('g3pc_e').charge=0\n",
    "model.metabolites.get_by_id('ddcacoa_c').charge=-4\n",
    "model.metabolites.get_by_id('dgdp_c').charge=-3\n",
    "model.metabolites.get_by_id('g3pc_p').charge=0\n",
    "model.metabolites.get_by_id('dgmp_c').charge=-2\n",
    "model.metabolites.get_by_id('etha_e').charge=1\n",
    "model.metabolites.get_by_id('dgmp_e').charge=-2\n",
    "model.metabolites.get_by_id('g3pe_e').charge=0\n",
    "model.metabolites.get_by_id('g3pe_p').charge=0\n",
    "model.metabolites.get_by_id('etha_p').charge=1\n",
    "model.metabolites.get_by_id('dgmp_p').charge=-2\n",
    "model.metabolites.get_by_id('dgsn_c').charge=0\n",
    "model.metabolites.get_by_id('g3pg_e').charge=-1\n",
    "model.metabolites.get_by_id('ethso3_e').charge=-1\n",
    "model.metabolites.get_by_id('g3pg_p').charge=-1\n",
    "model.metabolites.get_by_id('dgsn_e').charge=0\n",
    "model.metabolites.get_by_id('ethso3_p').charge=-1\n",
    "model.metabolites.get_by_id('dgsn_p').charge=0\n",
    "model.metabolites.get_by_id('dgtp_c').charge=-4\n",
    "model.metabolites.get_by_id('etoh_c').charge=0\n",
    "model.metabolites.get_by_id('g3pi_e').charge=-1\n",
    "model.metabolites.get_by_id('g3pi_p').charge=-1\n",
    "model.metabolites.get_by_id('etoh_e').charge=0\n",
    "model.metabolites.get_by_id('dha_e').charge=0\n",
    "model.metabolites.get_by_id('etoh_p').charge=0\n",
    "model.metabolites.get_by_id('g3ps_e').charge=-1\n",
    "model.metabolites.get_by_id('dha_p').charge=0\n",
    "model.metabolites.get_by_id('dhap_c').charge=-2\n",
    "model.metabolites.get_by_id('g3ps_p').charge=-1\n",
    "model.metabolites.get_by_id('f6p_c').charge=-2\n",
    "model.metabolites.get_by_id('g6p_c').charge=-2\n",
    "model.metabolites.get_by_id('dhf_c').charge=-2\n",
    "model.metabolites.get_by_id('f6p_e').charge=-2\n",
    "model.metabolites.get_by_id('g6p_e').charge=-2\n",
    "model.metabolites.get_by_id('f6p_p').charge=-2\n",
    "model.metabolites.get_by_id('g6p_p').charge=-2\n",
    "model.metabolites.get_by_id('dhmptp_c').charge=-4\n",
    "model.metabolites.get_by_id('fad_c').charge=-2\n",
    "model.metabolites.get_by_id('fadh2_c').charge=-2\n",
    "model.metabolites.get_by_id('dhnpt_c').charge=0\n",
    "model.metabolites.get_by_id('fald_c').charge=0\n",
    "model.metabolites.get_by_id('gal1p_e').charge=-2\n",
    "model.metabolites.get_by_id('fald_e').charge=0\n",
    "model.metabolites.get_by_id('gal1p_p').charge=-2\n",
    "model.metabolites.get_by_id('dhpmp_c').charge=-2\n",
    "model.metabolites.get_by_id('fald_p').charge=0\n",
    "model.metabolites.get_by_id('gal_bD_e').charge=0\n",
    "model.metabolites.get_by_id('gal_bD_p').charge=0\n",
    "model.metabolites.get_by_id('dhpt_c').charge=-1\n",
    "model.metabolites.get_by_id('dhptd_c').charge=0\n",
    "model.metabolites.get_by_id('gal_c').charge=0\n",
    "model.metabolites.get_by_id('gal_e').charge=0\n",
    "model.metabolites.get_by_id('didp_c').charge=-3\n",
    "model.metabolites.get_by_id('fdp_c').charge=-4\n",
    "model.metabolites.get_by_id('dimp_c').charge=-2\n",
    "model.metabolites.get_by_id('gal_p').charge=0\n",
    "model.metabolites.get_by_id('fe2_c').charge=2\n",
    "model.metabolites.get_by_id('dimp_e').charge=-2\n",
    "model.metabolites.get_by_id('fe2_e').charge=2\n",
    "model.metabolites.get_by_id('dimp_p').charge=-2\n",
    "model.metabolites.get_by_id('fe2_p').charge=2\n",
    "model.metabolites.get_by_id('fe3_c').charge=3\n",
    "model.metabolites.get_by_id('din_e').charge=0\n",
    "model.metabolites.get_by_id('fe3_e').charge=3\n",
    "model.metabolites.get_by_id('din_p').charge=0\n",
    "model.metabolites.get_by_id('fe3_p').charge=3\n",
    "model.metabolites.get_by_id('ditp_c').charge=-4\n",
    "model.metabolites.get_by_id('galt_e').charge=0\n",
    "model.metabolites.get_by_id('galt_p').charge=0\n",
    "model.metabolites.get_by_id('galur_e').charge=-1\n",
    "model.metabolites.get_by_id('dmlz_c').charge=0\n",
    "model.metabolites.get_by_id('dmpp_c').charge=-3\n",
    "model.metabolites.get_by_id('galur_p').charge=-1\n",
    "model.metabolites.get_by_id('dms_e').charge=0\n",
    "model.metabolites.get_by_id('gam1p_c').charge=-1\n",
    "model.metabolites.get_by_id('gam6p_c').charge=-1\n",
    "model.metabolites.get_by_id('gam6p_e').charge=-1\n",
    "model.metabolites.get_by_id('dms_p').charge=0\n",
    "model.metabolites.get_by_id('gam6p_p').charge=-1\n",
    "model.metabolites.get_by_id('gam_e').charge=1\n",
    "model.metabolites.get_by_id('dmso_e').charge=0\n",
    "model.metabolites.get_by_id('dmso_p').charge=0\n",
    "model.metabolites.get_by_id('gam_p').charge=1\n",
    "model.metabolites.get_by_id('gar_c').charge=-1\n",
    "model.metabolites.get_by_id('dnad_c').charge=-2\n",
    "model.metabolites.get_by_id('dopa_e').charge=1\n",
    "model.metabolites.get_by_id('gbbtn_e').charge=0\n",
    "model.metabolites.get_by_id('gbbtn_p').charge=0\n",
    "model.metabolites.get_by_id('gcald_c').charge=0\n",
    "model.metabolites.get_by_id('gdp_e').charge=-3\n",
    "model.metabolites.get_by_id('gdp_p').charge=-3\n",
    "model.metabolites.get_by_id('gdp_c').charge=-3\n",
    "model.metabolites.get_by_id('gdpmann_c').charge=-2\n",
    "model.metabolites.get_by_id('h2_c').charge=0\n",
    "model.metabolites.get_by_id('h2_e').charge=0\n",
    "model.metabolites.get_by_id('h2_p').charge=0\n",
    "model.metabolites.get_by_id('gdptp_c').charge=-7\n",
    "model.metabolites.get_by_id('h2mb4p_c').charge=-3\n",
    "model.metabolites.get_by_id('k_e').charge=1\n",
    "model.metabolites.get_by_id('h2o2_c').charge=0\n",
    "model.metabolites.get_by_id('h2o2_e').charge=0\n",
    "model.metabolites.get_by_id('gg4abut_c').charge=-1\n",
    "model.metabolites.get_by_id('k_p').charge=1\n",
    "model.metabolites.get_by_id('ggbutal_c').charge=0\n",
    "model.metabolites.get_by_id('h2o2_p').charge=0\n",
    "model.metabolites.get_by_id('h2o_c').charge=0\n",
    "model.metabolites.get_by_id('kdo2lipid4L_c').charge=-6\n",
    "model.metabolites.get_by_id('h2o_e').charge=0\n",
    "model.metabolites.get_by_id('ggptrc_c').charge=1\n",
    "model.metabolites.get_by_id('kdo2lipid4_c').charge=-6\n",
    "model.metabolites.get_by_id('h2o_p').charge=0\n",
    "model.metabolites.get_by_id('h2s_c').charge=0\n",
    "model.metabolites.get_by_id('h2s_e').charge=0\n",
    "model.metabolites.get_by_id('h2s_p').charge=0\n",
    "model.metabolites.get_by_id('h_c').charge=1\n",
    "model.metabolites.get_by_id('kdo8p_c').charge=-3\n",
    "model.metabolites.get_by_id('glcn_c').charge=-1\n",
    "model.metabolites.get_by_id('h_e').charge=1\n",
    "model.metabolites.get_by_id('kdo_c').charge=-1\n",
    "model.metabolites.get_by_id('h_p').charge=1\n",
    "model.metabolites.get_by_id('glcn_e').charge=-1\n",
    "model.metabolites.get_by_id('glcn_p').charge=-1\n",
    "model.metabolites.get_by_id('kdolipid4_c').charge=-5\n",
    "model.metabolites.get_by_id('hco3_c').charge=-1\n",
    "model.metabolites.get_by_id('glcr_e').charge=-2\n",
    "model.metabolites.get_by_id('glcr_p').charge=-2\n",
    "model.metabolites.get_by_id('glcur1p_e').charge=-3\n",
    "model.metabolites.get_by_id('glcur1p_p').charge=-3\n",
    "model.metabolites.get_by_id('hdca_e').charge=-1\n",
    "model.metabolites.get_by_id('glcur_e').charge=-1\n",
    "model.metabolites.get_by_id('hdca_p').charge=-1\n",
    "model.metabolites.get_by_id('glcur_p').charge=-1\n",
    "model.metabolites.get_by_id('hdcea_e').charge=-1\n",
    "model.metabolites.get_by_id('hdcea_p').charge=-1\n",
    "model.metabolites.get_by_id('hdcoa_c').charge=-4\n",
    "model.metabolites.get_by_id('glu1sa_c').charge=0\n",
    "model.metabolites.get_by_id('glu5p_c').charge=-2\n",
    "model.metabolites.get_by_id('hdeACP_c').charge=-1\n",
    "model.metabolites.get_by_id('lcts_e').charge=0\n",
    "model.metabolites.get_by_id('glu5sa_c').charge=0\n",
    "model.metabolites.get_by_id('lcts_p').charge=0\n",
    "model.metabolites.get_by_id('hexACP_c').charge=-1\n",
    "model.metabolites.get_by_id('hg2_e').charge=2\n",
    "model.metabolites.get_by_id('hg2_p').charge=2\n",
    "model.metabolites.get_by_id('hhlipa_c').charge=-6\n",
    "model.metabolites.get_by_id('glucys_c').charge=-1\n",
    "model.metabolites.get_by_id('glutrna_c').charge=0\n",
    "model.metabolites.get_by_id('glx_c').charge=-1\n",
    "model.metabolites.get_by_id('lipa_c').charge=-6\n",
    "model.metabolites.get_by_id('gly_c').charge=0\n",
    "model.metabolites.get_by_id('hisp_c').charge=-1\n",
    "model.metabolites.get_by_id('gly_e').charge=0\n",
    "model.metabolites.get_by_id('gly_p').charge=0\n",
    "model.metabolites.get_by_id('glyald_c').charge=0\n",
    "model.metabolites.get_by_id('histd_c').charge=1\n",
    "model.metabolites.get_by_id('glyald_e').charge=0\n",
    "model.metabolites.get_by_id('lipa_e').charge=-6\n",
    "model.metabolites.get_by_id('glyald_p').charge=0\n",
    "model.metabolites.get_by_id('lipa_p').charge=-6\n",
    "model.metabolites.get_by_id('hlipa_c').charge=-6\n",
    "model.metabolites.get_by_id('glyb_c').charge=0\n",
    "model.metabolites.get_by_id('lipidA_c').charge=-4\n",
    "model.metabolites.get_by_id('glyb_e').charge=0\n",
    "model.metabolites.get_by_id('hmbil_c').charge=-8\n",
    "model.metabolites.get_by_id('lipidAds_c').charge=-2\n",
    "model.metabolites.get_by_id('hmfurn_c').charge=0\n",
    "model.metabolites.get_by_id('glyb_p').charge=0\n",
    "model.metabolites.get_by_id('lipidX_c').charge=-2\n",
    "model.metabolites.get_by_id('glyc2p_e').charge=-2\n",
    "model.metabolites.get_by_id('hmgth_c').charge=-1\n",
    "model.metabolites.get_by_id('glyc2p_p').charge=-2\n",
    "model.metabolites.get_by_id('glyc3p_c').charge=-2\n",
    "model.metabolites.get_by_id('glyc3p_e').charge=-2\n",
    "model.metabolites.get_by_id('glyc3p_p').charge=-2\n",
    "model.metabolites.get_by_id('hpyr_c').charge=-1\n",
    "model.metabolites.get_by_id('glyc_c').charge=0\n",
    "model.metabolites.get_by_id('glyc_e').charge=0\n",
    "model.metabolites.get_by_id('hxa_e').charge=-1\n",
    "model.metabolites.get_by_id('hxa_p').charge=-1\n",
    "model.metabolites.get_by_id('glyc_p').charge=0\n",
    "model.metabolites.get_by_id('malACP_c').charge=-2\n",
    "model.metabolites.get_by_id('glyclt_c').charge=-1\n",
    "model.metabolites.get_by_id('glyclt_e').charge=-1\n",
    "model.metabolites.get_by_id('hxan_c').charge=0\n",
    "model.metabolites.get_by_id('hxan_e').charge=0\n",
    "model.metabolites.get_by_id('hxan_p').charge=0\n",
    "model.metabolites.get_by_id('glyclt_p').charge=-1\n",
    "model.metabolites.get_by_id('hxcoa_c').charge=-4\n",
    "model.metabolites.get_by_id('iasp_c').charge=-2\n",
    "model.metabolites.get_by_id('gmhep17bp_c').charge=-4\n",
    "model.metabolites.get_by_id('gmhep1p_c').charge=-2\n",
    "model.metabolites.get_by_id('icit_c').charge=-3\n",
    "model.metabolites.get_by_id('icolipa_c').charge=-11\n",
    "model.metabolites.get_by_id('gmhep7p_c').charge=-2\n",
    "model.metabolites.get_by_id('gmp_c').charge=-2\n",
    "model.metabolites.get_by_id('gmp_e').charge=-2\n",
    "model.metabolites.get_by_id('malcoa_c').charge=-5\n",
    "model.metabolites.get_by_id('gmp_p').charge=-2\n",
    "model.metabolites.get_by_id('malt6p_c').charge=-2\n",
    "model.metabolites.get_by_id('idp_c').charge=-3\n",
    "model.metabolites.get_by_id('grdp_c').charge=-3\n",
    "model.metabolites.get_by_id('malt_c').charge=0\n",
    "model.metabolites.get_by_id('grxox_c').charge=0\n",
    "model.metabolites.get_by_id('malt_e').charge=0\n",
    "model.metabolites.get_by_id('grxrd_c').charge=0\n",
    "model.metabolites.get_by_id('malt_p').charge=0\n",
    "model.metabolites.get_by_id('gsn_c').charge=0\n",
    "model.metabolites.get_by_id('imacp_c').charge=-2\n",
    "model.metabolites.get_by_id('gsn_e').charge=0\n",
    "model.metabolites.get_by_id('imp_c').charge=-2\n",
    "model.metabolites.get_by_id('imp_e').charge=-2\n",
    "model.metabolites.get_by_id('gsn_p').charge=0\n",
    "model.metabolites.get_by_id('gthox_c').charge=-2\n",
    "model.metabolites.get_by_id('imp_p').charge=-2\n",
    "model.metabolites.get_by_id('indole_c').charge=0\n",
    "model.metabolites.get_by_id('gthox_e').charge=-2\n",
    "model.metabolites.get_by_id('gthox_p').charge=-2\n",
    "model.metabolites.get_by_id('indole_e').charge=0\n",
    "model.metabolites.get_by_id('indole_p').charge=0\n",
    "model.metabolites.get_by_id('gthrd_c').charge=-1\n",
    "model.metabolites.get_by_id('gthrd_e').charge=-1\n",
    "model.metabolites.get_by_id('inost_c').charge=0\n",
    "model.metabolites.get_by_id('inost_e').charge=0\n",
    "model.metabolites.get_by_id('gthrd_p').charge=-1\n",
    "model.metabolites.get_by_id('gtp_c').charge=-4\n",
    "model.metabolites.get_by_id('inost_p').charge=0\n",
    "model.metabolites.get_by_id('ins_c').charge=0\n",
    "model.metabolites.get_by_id('gtp_e').charge=-4\n",
    "model.metabolites.get_by_id('gtp_p').charge=-4\n",
    "model.metabolites.get_by_id('ipdp_c').charge=-3\n",
    "model.metabolites.get_by_id('gua_c').charge=0\n",
    "model.metabolites.get_by_id('man1p_c').charge=-2\n",
    "model.metabolites.get_by_id('gua_e').charge=0\n",
    "model.metabolites.get_by_id('isetac_e').charge=-1\n",
    "model.metabolites.get_by_id('man6p_c').charge=-2\n",
    "model.metabolites.get_by_id('isetac_p').charge=-1\n",
    "model.metabolites.get_by_id('gua_p').charge=0\n",
    "model.metabolites.get_by_id('man6p_e').charge=-2\n",
    "model.metabolites.get_by_id('itp_c').charge=-4\n",
    "model.metabolites.get_by_id('man6p_p').charge=-2\n",
    "model.metabolites.get_by_id('k_c').charge=1\n",
    "model.metabolites.get_by_id('man_e').charge=0\n",
    "model.metabolites.get_by_id('o2_p').charge=0\n",
    "model.metabolites.get_by_id('man_p').charge=0\n",
    "model.metabolites.get_by_id('o2s_c').charge=-1\n",
    "model.metabolites.get_by_id('manglyc_e').charge=-1\n",
    "model.metabolites.get_by_id('o2s_e').charge=-1\n",
    "model.metabolites.get_by_id('manglyc_p').charge=-1\n",
    "model.metabolites.get_by_id('mg2_c').charge=2\n",
    "model.metabolites.get_by_id('o2s_p').charge=-1\n",
    "model.metabolites.get_by_id('oaa_c').charge=-2\n",
    "model.metabolites.get_by_id('mg2_e').charge=2\n",
    "model.metabolites.get_by_id('melib_e').charge=0\n",
    "model.metabolites.get_by_id('mg2_p').charge=2\n",
    "model.metabolites.get_by_id('micit_c').charge=-3\n",
    "model.metabolites.get_by_id('ocACP_c').charge=-1\n",
    "model.metabolites.get_by_id('melib_p').charge=0\n",
    "model.metabolites.get_by_id('occoa_c').charge=-4\n",
    "model.metabolites.get_by_id('ocdcaACP_c').charge=-1\n",
    "model.metabolites.get_by_id('ocdca_e').charge=-1\n",
    "model.metabolites.get_by_id('mlthf_c').charge=-2\n",
    "model.metabolites.get_by_id('ocdca_p').charge=-1\n",
    "model.metabolites.get_by_id('ocdcea_e').charge=-1\n",
    "model.metabolites.get_by_id('mmet_e').charge=1\n",
    "model.metabolites.get_by_id('ocdcea_p').charge=-1\n",
    "model.metabolites.get_by_id('octa_e').charge=-1\n",
    "model.metabolites.get_by_id('mmet_p').charge=1\n",
    "model.metabolites.get_by_id('mn2_c').charge=2\n",
    "model.metabolites.get_by_id('octa_p').charge=-1\n",
    "model.metabolites.get_by_id('methf_c').charge=-1\n",
    "model.metabolites.get_by_id('octdp_c').charge=-3\n",
    "model.metabolites.get_by_id('mn2_e').charge=2\n",
    "model.metabolites.get_by_id('mn2_p').charge=2\n",
    "model.metabolites.get_by_id('octeACP_c').charge=-1\n",
    "model.metabolites.get_by_id('pgp141_p').charge=-3\n",
    "model.metabolites.get_by_id('mnl_e').charge=0\n",
    "model.metabolites.get_by_id('mnl_p').charge=0\n",
    "model.metabolites.get_by_id('mobd_c').charge=-2\n",
    "model.metabolites.get_by_id('odecoa_c').charge=-4\n",
    "model.metabolites.get_by_id('ohpb_c').charge=-3\n",
    "model.metabolites.get_by_id('pgp160_c').charge=-3\n",
    "model.metabolites.get_by_id('orn_c').charge=1\n",
    "model.metabolites.get_by_id('mobd_e').charge=-2\n",
    "model.metabolites.get_by_id('pgp160_p').charge=-3\n",
    "model.metabolites.get_by_id('mobd_p').charge=-2\n",
    "model.metabolites.get_by_id('orn_e').charge=1\n",
    "model.metabolites.get_by_id('pgp161_c').charge=-3\n",
    "model.metabolites.get_by_id('orn_p').charge=1\n",
    "model.metabolites.get_by_id('pgp161_p').charge=-3\n",
    "model.metabolites.get_by_id('orot5p_c').charge=-3\n",
    "model.metabolites.get_by_id('pgp180_c').charge=-3\n",
    "model.metabolites.get_by_id('orot_c').charge=-1\n",
    "model.metabolites.get_by_id('orot_e').charge=-1\n",
    "model.metabolites.get_by_id('mso3_e').charge=-1\n",
    "model.metabolites.get_by_id('pgp180_p').charge=-3\n",
    "model.metabolites.get_by_id('mso3_p').charge=-1\n",
    "model.metabolites.get_by_id('orot_p').charge=-1\n",
    "model.metabolites.get_by_id('pgp181_c').charge=-3\n",
    "model.metabolites.get_by_id('mthgxl_c').charge=0\n",
    "model.metabolites.get_by_id('pgp181_p').charge=-3\n",
    "model.metabolites.get_by_id('murein3p3p_p').charge=-4\n",
    "model.metabolites.get_by_id('pa120_c').charge=-2\n",
    "model.metabolites.get_by_id('pa120_p').charge=-2\n",
    "model.metabolites.get_by_id('pa140_c').charge=-2\n",
    "model.metabolites.get_by_id('murein4p3p_p').charge=-4\n",
    "model.metabolites.get_by_id('murein4p4p_p').charge=-4\n",
    "model.metabolites.get_by_id('pa140_p').charge=-2\n",
    "model.metabolites.get_by_id('pa141_c').charge=-2\n",
    "model.metabolites.get_by_id('pheme_c').charge=-2\n",
    "model.metabolites.get_by_id('pa141_p').charge=-2\n",
    "model.metabolites.get_by_id('murein4px4p4p_p').charge=-6\n",
    "model.metabolites.get_by_id('pheme_e').charge=-2\n",
    "model.metabolites.get_by_id('murein4px4p_p').charge=-4\n",
    "model.metabolites.get_by_id('pa160_c').charge=-2\n",
    "model.metabolites.get_by_id('pa160_p').charge=-2\n",
    "model.metabolites.get_by_id('murein4px4px4p_p').charge=-6\n",
    "model.metabolites.get_by_id('pheme_p').charge=-2\n",
    "model.metabolites.get_by_id('murein5p3p_p').charge=-4\n",
    "model.metabolites.get_by_id('pa161_c').charge=-2\n",
    "model.metabolites.get_by_id('pa161_p').charge=-2\n",
    "model.metabolites.get_by_id('pa180_c').charge=-2\n",
    "model.metabolites.get_by_id('murein5p4p_p').charge=-4\n",
    "model.metabolites.get_by_id('murein5p5p5p_p').charge=-6\n",
    "model.metabolites.get_by_id('pa180_p').charge=-2\n",
    "model.metabolites.get_by_id('murein5p5p_p').charge=-4\n",
    "model.metabolites.get_by_id('pa181_c').charge=-2\n",
    "model.metabolites.get_by_id('phom_c').charge=-2\n",
    "model.metabolites.get_by_id('pa181_p').charge=-2\n",
    "model.metabolites.get_by_id('murein5px3p_p').charge=-4\n",
    "model.metabolites.get_by_id('murein5px4p_p').charge=-4\n",
    "model.metabolites.get_by_id('phpyr_c').charge=-1\n",
    "model.metabolites.get_by_id('murein5px4px4p_p').charge=-6\n",
    "model.metabolites.get_by_id('phthr_c').charge=-2\n",
    "model.metabolites.get_by_id('myrsACP_c').charge=-1\n",
    "model.metabolites.get_by_id('n2o_c').charge=0\n",
    "model.metabolites.get_by_id('pacald_e').charge=0\n",
    "model.metabolites.get_by_id('pi_c').charge=-2\n",
    "model.metabolites.get_by_id('pacald_p').charge=0\n",
    "model.metabolites.get_by_id('n2o_e').charge=0\n",
    "model.metabolites.get_by_id('pi_e').charge=-2\n",
    "model.metabolites.get_by_id('n2o_p').charge=0\n",
    "model.metabolites.get_by_id('palmACP_c').charge=-1\n",
    "model.metabolites.get_by_id('pi_p').charge=-2\n",
    "model.metabolites.get_by_id('pan4p_c').charge=-2\n",
    "model.metabolites.get_by_id('pmcoa_c').charge=-5\n",
    "model.metabolites.get_by_id('na1_c').charge=1\n",
    "model.metabolites.get_by_id('pap_c').charge=-4\n",
    "model.metabolites.get_by_id('pmtcoa_c').charge=-4\n",
    "model.metabolites.get_by_id('paps_c').charge=-4\n",
    "model.metabolites.get_by_id('na1_e').charge=1\n",
    "model.metabolites.get_by_id('na1_p').charge=1\n",
    "model.metabolites.get_by_id('pdx5p_c').charge=-2\n",
    "model.metabolites.get_by_id('pe120_c').charge=0\n",
    "model.metabolites.get_by_id('nac_c').charge=-1\n",
    "model.metabolites.get_by_id('nac_e').charge=-1\n",
    "model.metabolites.get_by_id('pe120_p').charge=0\n",
    "model.metabolites.get_by_id('ppa_c').charge=-1\n",
    "model.metabolites.get_by_id('pe140_c').charge=0\n",
    "model.metabolites.get_by_id('nac_p').charge=-1\n",
    "model.metabolites.get_by_id('ppa_e').charge=-1\n",
    "model.metabolites.get_by_id('nad_c').charge=-1\n",
    "model.metabolites.get_by_id('pe140_p').charge=0\n",
    "model.metabolites.get_by_id('ppa_p').charge=-1\n",
    "model.metabolites.get_by_id('pe141_c').charge=0\n",
    "model.metabolites.get_by_id('nadh_c').charge=-2\n",
    "model.metabolites.get_by_id('ppal_c').charge=0\n",
    "model.metabolites.get_by_id('nadp_c').charge=-3\n",
    "model.metabolites.get_by_id('nadph_c').charge=-4\n",
    "model.metabolites.get_by_id('pe141_p').charge=0\n",
    "model.metabolites.get_by_id('pe160_c').charge=0\n",
    "model.metabolites.get_by_id('ppal_e').charge=0\n",
    "model.metabolites.get_by_id('pe160_p').charge=0\n",
    "model.metabolites.get_by_id('ncam_c').charge=0\n",
    "model.metabolites.get_by_id('ppal_p').charge=0\n",
    "model.metabolites.get_by_id('nh4_c').charge=1\n",
    "model.metabolites.get_by_id('ppap_c').charge=-2\n",
    "model.metabolites.get_by_id('nh4_e').charge=1\n",
    "model.metabolites.get_by_id('pe161_c').charge=0\n",
    "model.metabolites.get_by_id('ppbng_c').charge=-1\n",
    "model.metabolites.get_by_id('pe161_p').charge=0\n",
    "model.metabolites.get_by_id('pe180_c').charge=0\n",
    "model.metabolites.get_by_id('nh4_p').charge=1\n",
    "model.metabolites.get_by_id('ppcoa_c').charge=-4\n",
    "model.metabolites.get_by_id('ni2_c').charge=2\n",
    "model.metabolites.get_by_id('pe180_p').charge=0\n",
    "model.metabolites.get_by_id('ppgpp_c').charge=-6\n",
    "model.metabolites.get_by_id('pe181_c').charge=0\n",
    "model.metabolites.get_by_id('ni2_e').charge=2\n",
    "model.metabolites.get_by_id('pphn_c').charge=-2\n",
    "model.metabolites.get_by_id('ni2_p').charge=2\n",
    "model.metabolites.get_by_id('pe181_p').charge=0\n",
    "model.metabolites.get_by_id('nicrnt_c').charge=-2\n",
    "model.metabolites.get_by_id('ppi_c').charge=-3\n",
    "model.metabolites.get_by_id('peamn_e').charge=1\n",
    "model.metabolites.get_by_id('ppp9_c').charge=-2\n",
    "model.metabolites.get_by_id('peamn_p').charge=1\n",
    "model.metabolites.get_by_id('nmn_c').charge=-1\n",
    "model.metabolites.get_by_id('nmn_e').charge=-1\n",
    "model.metabolites.get_by_id('nmn_p').charge=-1\n",
    "model.metabolites.get_by_id('pep_c').charge=-3\n",
    "model.metabolites.get_by_id('pg120_c').charge=-1\n",
    "model.metabolites.get_by_id('pppg9_c').charge=-2\n",
    "model.metabolites.get_by_id('pg120_p').charge=-1\n",
    "model.metabolites.get_by_id('pppi_c').charge=-4\n",
    "model.metabolites.get_by_id('no2_e').charge=-1\n",
    "model.metabolites.get_by_id('pg140_c').charge=-1\n",
    "model.metabolites.get_by_id('pg140_p').charge=-1\n",
    "model.metabolites.get_by_id('pg141_c').charge=-1\n",
    "model.metabolites.get_by_id('no2_p').charge=-1\n",
    "model.metabolites.get_by_id('pppn_e').charge=-1\n",
    "model.metabolites.get_by_id('pg141_p').charge=-1\n",
    "model.metabolites.get_by_id('pppn_p').charge=-1\n",
    "model.metabolites.get_by_id('pg160_c').charge=-1\n",
    "model.metabolites.get_by_id('no3_e').charge=-1\n",
    "model.metabolites.get_by_id('ppt_e').charge=-2\n",
    "model.metabolites.get_by_id('no3_p').charge=-1\n",
    "model.metabolites.get_by_id('pg160_p').charge=-1\n",
    "model.metabolites.get_by_id('ppt_p').charge=-2\n",
    "model.metabolites.get_by_id('pg161_c').charge=-1\n",
    "model.metabolites.get_by_id('no_c').charge=0\n",
    "model.metabolites.get_by_id('pram_c').charge=-1\n",
    "model.metabolites.get_by_id('no_e').charge=0\n",
    "model.metabolites.get_by_id('pg161_p').charge=-1\n",
    "model.metabolites.get_by_id('pran_c').charge=-3\n",
    "model.metabolites.get_by_id('pg180_c').charge=-1\n",
    "model.metabolites.get_by_id('pg180_p').charge=-1\n",
    "model.metabolites.get_by_id('no_p').charge=0\n",
    "model.metabolites.get_by_id('prbamp_c').charge=-4\n",
    "model.metabolites.get_by_id('prbatp_c').charge=-6\n",
    "model.metabolites.get_by_id('pg181_c').charge=-1\n",
    "model.metabolites.get_by_id('pg181_p').charge=-1\n",
    "model.metabolites.get_by_id('prfp_c').charge=-4\n",
    "model.metabolites.get_by_id('pgp120_c').charge=-3\n",
    "model.metabolites.get_by_id('prlp_c').charge=-4\n",
    "model.metabolites.get_by_id('pgp120_p').charge=-3\n",
    "model.metabolites.get_by_id('pro__L_c').charge=0\n",
    "model.metabolites.get_by_id('pgp140_c').charge=-3\n",
    "model.metabolites.get_by_id('pgp140_p').charge=-3\n",
    "model.metabolites.get_by_id('pgp141_c').charge=-3\n",
    "model.metabolites.get_by_id('progly_c').charge=0\n",
    "model.metabolites.get_by_id('o2_c').charge=0\n",
    "model.metabolites.get_by_id('progly_e').charge=0\n",
    "model.metabolites.get_by_id('o2_e').charge=0\n",
    "model.metabolites.get_by_id('r1p_c').charge=-2\n",
    "model.metabolites.get_by_id('progly_p').charge=0\n",
    "model.metabolites.get_by_id('r5p_c').charge=-2\n",
    "model.metabolites.get_by_id('r5p_e').charge=-2\n",
    "model.metabolites.get_by_id('prpp_c').charge=-5\n",
    "model.metabolites.get_by_id('r5p_p').charge=-2\n",
    "model.metabolites.get_by_id('ps120_c').charge=-1\n",
    "model.metabolites.get_by_id('tcynt_p').charge=-1\n",
    "model.metabolites.get_by_id('ps140_c').charge=-1\n",
    "model.metabolites.get_by_id('rbflvrd_c').charge=0\n",
    "model.metabolites.get_by_id('ps141_c').charge=-1\n",
    "model.metabolites.get_by_id('tdcoa_c').charge=-4\n",
    "model.metabolites.get_by_id('ps160_c').charge=-1\n",
    "model.metabolites.get_by_id('tddec2eACP_c').charge=-1\n",
    "model.metabolites.get_by_id('rhcys_c').charge=0\n",
    "model.metabolites.get_by_id('ps161_c').charge=-1\n",
    "model.metabolites.get_by_id('tdeACP_c').charge=-1\n",
    "model.metabolites.get_by_id('ps180_c').charge=-1\n",
    "model.metabolites.get_by_id('tdec2eACP_c').charge=-1\n",
    "model.metabolites.get_by_id('ps181_c').charge=-1\n",
    "model.metabolites.get_by_id('tdecoa_c').charge=-4\n",
    "model.metabolites.get_by_id('thdp_c').charge=-2\n",
    "model.metabolites.get_by_id('ribflv_c').charge=0\n",
    "model.metabolites.get_by_id('psclys_e').charge=1\n",
    "model.metabolites.get_by_id('thex2eACP_c').charge=-1\n",
    "model.metabolites.get_by_id('psclys_p').charge=1\n",
    "model.metabolites.get_by_id('thf_c').charge=-2\n",
    "model.metabolites.get_by_id('thm_c').charge=1\n",
    "model.metabolites.get_by_id('rmn_e').charge=0\n",
    "model.metabolites.get_by_id('rmn_p').charge=0\n",
    "model.metabolites.get_by_id('thm_e').charge=1\n",
    "model.metabolites.get_by_id('thm_p').charge=1\n",
    "model.metabolites.get_by_id('thmmp_c').charge=-1\n",
    "model.metabolites.get_by_id('thmpp_c').charge=-2\n",
    "model.metabolites.get_by_id('s7p_c').charge=-2\n",
    "model.metabolites.get_by_id('ptrc_c').charge=2\n",
    "model.metabolites.get_by_id('ptrc_e').charge=2\n",
    "model.metabolites.get_by_id('ptrc_p').charge=2\n",
    "model.metabolites.get_by_id('pyam5p_c').charge=-1\n",
    "model.metabolites.get_by_id('pydam_c').charge=1\n",
    "model.metabolites.get_by_id('thrp_e').charge=-2\n",
    "model.metabolites.get_by_id('pydx5p_c').charge=-2\n",
    "model.metabolites.get_by_id('thrp_p').charge=-2\n",
    "model.metabolites.get_by_id('pydx_c').charge=0\n",
    "model.metabolites.get_by_id('pydxn_c').charge=0\n",
    "model.metabolites.get_by_id('pyr_c').charge=-1\n",
    "model.metabolites.get_by_id('pyr_e').charge=-1\n",
    "model.metabolites.get_by_id('thym_e').charge=0\n",
    "model.metabolites.get_by_id('thym_p').charge=0\n",
    "model.metabolites.get_by_id('pyr_p').charge=-1\n",
    "model.metabolites.get_by_id('thymd_c').charge=0\n",
    "model.metabolites.get_by_id('q8_c').charge=0\n",
    "model.metabolites.get_by_id('thymd_e').charge=0\n",
    "model.metabolites.get_by_id('q8h2_c').charge=0\n",
    "model.metabolites.get_by_id('thymd_p').charge=0\n",
    "model.metabolites.get_by_id('quln_c').charge=-2\n",
    "model.metabolites.get_by_id('tma_e').charge=1\n",
    "model.metabolites.get_by_id('tma_p').charge=1\n",
    "model.metabolites.get_by_id('tmao_e').charge=0\n",
    "model.metabolites.get_by_id('sheme_c').charge=-8\n",
    "model.metabolites.get_by_id('skm5p_c').charge=-3\n",
    "model.metabolites.get_by_id('tmao_p').charge=0\n",
    "model.metabolites.get_by_id('uaagmda_c').charge=-4\n",
    "model.metabolites.get_by_id('tmrs2eACP_c').charge=-1\n",
    "model.metabolites.get_by_id('skm_c').charge=-1\n",
    "model.metabolites.get_by_id('toct2eACP_c').charge=-1\n",
    "model.metabolites.get_by_id('uaccg_c').charge=-3\n",
    "model.metabolites.get_by_id('toctd2eACP_c').charge=-1\n",
    "model.metabolites.get_by_id('skm_e').charge=-1\n",
    "model.metabolites.get_by_id('uacgam_c').charge=-2\n",
    "model.metabolites.get_by_id('skm_p').charge=-1\n",
    "model.metabolites.get_by_id('sl26da_c').charge=-2\n",
    "model.metabolites.get_by_id('tpalm2eACP_c').charge=-1\n",
    "model.metabolites.get_by_id('uacgam_e').charge=-2\n",
    "model.metabolites.get_by_id('trdox_c').charge=0\n",
    "model.metabolites.get_by_id('sl2a6o_c').charge=-3\n",
    "model.metabolites.get_by_id('uacgam_p').charge=-2\n",
    "model.metabolites.get_by_id('so2_c').charge=0\n",
    "model.metabolites.get_by_id('trdrd_c').charge=0\n",
    "model.metabolites.get_by_id('so2_e').charge=0\n",
    "model.metabolites.get_by_id('so2_p').charge=0\n",
    "model.metabolites.get_by_id('uagmda_c').charge=-4\n",
    "model.metabolites.get_by_id('tre_e').charge=0\n",
    "model.metabolites.get_by_id('so3_c').charge=-2\n",
    "model.metabolites.get_by_id('so3_e').charge=-2\n",
    "model.metabolites.get_by_id('uama_c').charge=-3\n",
    "model.metabolites.get_by_id('so3_p').charge=-2\n",
    "model.metabolites.get_by_id('tre_p').charge=0\n",
    "model.metabolites.get_by_id('uamag_c').charge=-4\n",
    "model.metabolites.get_by_id('so4_c').charge=-2\n",
    "model.metabolites.get_by_id('uamr_c').charge=-3\n",
    "model.metabolites.get_by_id('so4_e').charge=-2\n",
    "model.metabolites.get_by_id('udcpdp_c').charge=-3\n",
    "model.metabolites.get_by_id('so4_p').charge=-2\n",
    "model.metabolites.get_by_id('spmd_c').charge=3\n",
    "model.metabolites.get_by_id('spmd_e').charge=3\n",
    "model.metabolites.get_by_id('udcpdp_p').charge=-3\n",
    "model.metabolites.get_by_id('spmd_p').charge=3\n",
    "model.metabolites.get_by_id('udcpp_c').charge=-2\n",
    "model.metabolites.get_by_id('stcoa_c').charge=-4\n",
    "model.metabolites.get_by_id('trnaglu_c').charge=0\n",
    "model.metabolites.get_by_id('udcpp_p').charge=-2\n",
    "model.metabolites.get_by_id('suc6p_c').charge=-2\n",
    "model.metabolites.get_by_id('succ_c').charge=-2\n",
    "model.metabolites.get_by_id('succ_e').charge=-2\n",
    "model.metabolites.get_by_id('udp_c').charge=-3\n",
    "model.metabolites.get_by_id('succ_p').charge=-2\n",
    "model.metabolites.get_by_id('udpacgal_e').charge=-2\n",
    "model.metabolites.get_by_id('succoa_c').charge=-5\n",
    "model.metabolites.get_by_id('udpacgal_p').charge=-2\n",
    "model.metabolites.get_by_id('udpg_c').charge=-2\n",
    "model.metabolites.get_by_id('suchms_c').charge=-1\n",
    "model.metabolites.get_by_id('udpg_e').charge=-2\n",
    "model.metabolites.get_by_id('udpg_p').charge=-2\n",
    "model.metabolites.get_by_id('sucr_e').charge=0\n",
    "model.metabolites.get_by_id('udpgal_c').charge=-2\n",
    "model.metabolites.get_by_id('udpgal_e').charge=-2\n",
    "model.metabolites.get_by_id('sucr_p').charge=0\n",
    "model.metabolites.get_by_id('sucsal_c').charge=-1\n",
    "model.metabolites.get_by_id('udpgal_p').charge=-2\n",
    "model.metabolites.get_by_id('sulfac_e').charge=-2\n",
    "model.metabolites.get_by_id('sulfac_p').charge=-2\n",
    "model.metabolites.get_by_id('udpglcur_e').charge=-3\n",
    "model.metabolites.get_by_id('t3c5ddeceACP_c').charge=-1\n",
    "model.metabolites.get_by_id('udpglcur_p').charge=-3\n",
    "model.metabolites.get_by_id('tsul_c').charge=-2\n",
    "model.metabolites.get_by_id('t3c7mrseACP_c').charge=-1\n",
    "model.metabolites.get_by_id('ugmd_c').charge=-4\n",
    "model.metabolites.get_by_id('t3c9palmeACP_c').charge=-1\n",
    "model.metabolites.get_by_id('tsul_e').charge=-2\n",
    "model.metabolites.get_by_id('ugmda_c').charge=-4\n",
    "model.metabolites.get_by_id('tsul_p').charge=-2\n",
    "model.metabolites.get_by_id('um4p_c').charge=-4\n",
    "model.metabolites.get_by_id('ump_c').charge=-2\n",
    "model.metabolites.get_by_id('ttdca_e').charge=-1\n",
    "model.metabolites.get_by_id('ttdca_p').charge=-1\n",
    "model.metabolites.get_by_id('ump_e').charge=-2\n",
    "model.metabolites.get_by_id('ump_p').charge=-2\n",
    "model.metabolites.get_by_id('ttdcea_e').charge=-1\n",
    "model.metabolites.get_by_id('unaga_c').charge=-2\n",
    "model.metabolites.get_by_id('ttdcea_p').charge=-1\n",
    "model.metabolites.get_by_id('taur_e').charge=0\n",
    "model.metabolites.get_by_id('tungs_e').charge=-2\n",
    "model.metabolites.get_by_id('taur_p').charge=0\n",
    "model.metabolites.get_by_id('tungs_p').charge=-2\n",
    "model.metabolites.get_by_id('uppg3_c').charge=-8\n",
    "model.metabolites.get_by_id('tym_e').charge=1\n",
    "model.metabolites.get_by_id('tcynt_e').charge=-1\n",
    "model.metabolites.get_by_id('ura_c').charge=0\n",
    "model.metabolites.get_by_id('tym_p').charge=1\n",
    "model.metabolites.get_by_id('ura_e').charge=0\n",
    "model.metabolites.get_by_id('ura_p').charge=0\n",
    "model.metabolites.get_by_id('tyrp_e').charge=-2\n",
    "model.metabolites.get_by_id('tyrp_p').charge=-2\n",
    "model.metabolites.get_by_id('u23ga_c').charge=-2\n",
    "model.metabolites.get_by_id('urea_c').charge=0\n",
    "model.metabolites.get_by_id('u3aga_c').charge=-2\n",
    "model.metabolites.get_by_id('urea_e').charge=0\n",
    "model.metabolites.get_by_id('u3hga_c').charge=-1\n",
    "model.metabolites.get_by_id('urea_p').charge=0\n",
    "model.metabolites.get_by_id('uri_c').charge=0\n",
    "model.metabolites.get_by_id('utp_c').charge=-4\n",
    "model.metabolites.get_by_id('xan_c').charge=0\n",
    "model.metabolites.get_by_id('xan_e').charge=0\n",
    "model.metabolites.get_by_id('xan_p').charge=0\n",
    "model.metabolites.get_by_id('xmp_c').charge=-2\n",
    "model.metabolites.get_by_id('xmp_e').charge=-2\n",
    "model.metabolites.get_by_id('xmp_p').charge=-2\n",
    "model.metabolites.get_by_id('xtp_c').charge=-4\n",
    "model.metabolites.get_by_id('xtsn_c').charge=0\n",
    "model.metabolites.get_by_id('xtsn_e').charge=0\n",
    "model.metabolites.get_by_id('xtsn_p').charge=0\n",
    "model.metabolites.get_by_id('zn2_c').charge=2\n",
    "model.metabolites.get_by_id('zn2_e').charge=2\n",
    "model.metabolites.get_by_id('zn2_p').charge=2"
   ]
  },
  {
   "cell_type": "code",
   "execution_count": 25,
   "id": "4606adf0-28ed-474c-aeeb-142d3de1362a",
   "metadata": {},
   "outputs": [],
   "source": [
    "possibly_charge_imbalanced_metabolites=[]\n",
    "for x in reactions:\n",
    "    for y in model.reactions.get_by_id(x).metabolites:\n",
    "        mets=y.id\n",
    "    possibly_charge_imbalanced_metabolites.append(mets)"
   ]
  },
  {
   "cell_type": "code",
   "execution_count": 26,
   "id": "1435268c-5f28-43d6-82a8-e8577d83603d",
   "metadata": {},
   "outputs": [
    {
     "data": {
      "text/plain": [
       "{'1p3h5c_e',\n",
       " '34dhpac_e',\n",
       " '4abut_e',\n",
       " '4hba_c',\n",
       " '4hoxpacd_e',\n",
       " '5drib_c',\n",
       " 'HgFe3_e',\n",
       " 'Hg_e',\n",
       " 'LfFe3_e',\n",
       " 'Lf_e',\n",
       " 'TfFe3_e',\n",
       " 'Tf_e',\n",
       " 'acgal_e',\n",
       " 'acgam_e',\n",
       " 'acmana_e',\n",
       " 'acser_e',\n",
       " 'ade_e',\n",
       " 'ala_B_e',\n",
       " 'ala_D_e',\n",
       " 'ala_L_e',\n",
       " 'alaala_e',\n",
       " 'all_D_e',\n",
       " 'alltn_e',\n",
       " 'amob_c',\n",
       " 'arab_L_e',\n",
       " 'arg_L_e',\n",
       " 'ascb_L_e',\n",
       " 'asn_L_e',\n",
       " 'asp_L_e',\n",
       " 'biliverd_c',\n",
       " 'cgly_e',\n",
       " 'co2_c',\n",
       " 'co2_e',\n",
       " 'co_e',\n",
       " 'crn_e',\n",
       " 'csn_e',\n",
       " 'cyan_e',\n",
       " 'cys_D_e',\n",
       " 'cys_L_e',\n",
       " 'cyst_L_c',\n",
       " 'cystine_L_e',\n",
       " 'cytd_e',\n",
       " 'dgsn_e',\n",
       " 'dha_e',\n",
       " 'dhap_e',\n",
       " 'dhap_p',\n",
       " 'din_e',\n",
       " 'dms_e',\n",
       " 'dmso_e',\n",
       " 'e4hglu_e',\n",
       " 'etoh_e',\n",
       " 'fald_e',\n",
       " 'fru_e',\n",
       " 'fuc_L_e',\n",
       " 'g3pc_e',\n",
       " 'g3pe_e',\n",
       " 'gal_bD_e',\n",
       " 'gal_e',\n",
       " 'galct_D_e',\n",
       " 'galctn_D_e',\n",
       " 'galctn_L_e',\n",
       " 'galt_e',\n",
       " 'gbbtn_e',\n",
       " 'glc_D_e',\n",
       " 'gln_L_e',\n",
       " 'glu_L_c',\n",
       " 'glu_L_e',\n",
       " 'gly_e',\n",
       " 'glyald_e',\n",
       " 'glyb_e',\n",
       " 'glyc_R_e',\n",
       " 'glyc_e',\n",
       " 'gsn_e',\n",
       " 'gua_e',\n",
       " 'h2_e',\n",
       " 'h2o2_e',\n",
       " 'h2o_c',\n",
       " 'h2o_e',\n",
       " 'h2s_e',\n",
       " 'hdet9ACP_c',\n",
       " 'his_L_e',\n",
       " 'his_L_p',\n",
       " 'hmfurn_c',\n",
       " 'hom_L_e',\n",
       " 'hxan_e',\n",
       " 'hxan_p',\n",
       " 'idon_L_e',\n",
       " 'ile_L_e',\n",
       " 'ile_L_p',\n",
       " 'indole_e',\n",
       " 'inost_e',\n",
       " 'lac_D_e',\n",
       " 'lac_D_p',\n",
       " 'lac_L_e',\n",
       " 'lac_L_p',\n",
       " 'lcts_e',\n",
       " 'leu_L_e',\n",
       " 'leu_L_p',\n",
       " 'lgt_S_c',\n",
       " 'lps_NM_c',\n",
       " 'lys_L_e',\n",
       " 'lys_L_p',\n",
       " 'lyx_L_e',\n",
       " 'mal_D_e',\n",
       " 'mal_L_c',\n",
       " 'mal_L_e',\n",
       " 'malt_e',\n",
       " 'man_e',\n",
       " 'melib_e',\n",
       " 'met_D_e',\n",
       " 'met_L_e',\n",
       " 'met_L_p',\n",
       " 'metsox_R_L_e',\n",
       " 'metsox_S_L_e',\n",
       " 'mhis_c',\n",
       " 'mnl_e',\n",
       " 'mthgxl_c',\n",
       " 'n2o_e',\n",
       " 'no_e',\n",
       " 'no_p',\n",
       " 'o2_c',\n",
       " 'o2_e',\n",
       " 'oaa_e',\n",
       " 'oct7eACP_c',\n",
       " 'pa141b_c',\n",
       " 'pa160a_c',\n",
       " 'pa160a_p',\n",
       " 'pa160b_c',\n",
       " 'pa160b_p',\n",
       " 'pa160c_c',\n",
       " 'pa160c_p',\n",
       " 'pa160e_c',\n",
       " 'pa160e_p',\n",
       " 'pacald_e',\n",
       " 'pant_R_c',\n",
       " 'pe120_p',\n",
       " 'pe160_p',\n",
       " 'pe160a_p',\n",
       " 'pe160b_p',\n",
       " 'pe160c_p',\n",
       " 'pe160e_p',\n",
       " 'pe161_p',\n",
       " 'pe180_p',\n",
       " 'pe181_p',\n",
       " 'peagnahhlipa_c',\n",
       " 'pepglycan_NM_p',\n",
       " 'pg160a_p',\n",
       " 'pg160b_p',\n",
       " 'pg160c_p',\n",
       " 'pg160e_p',\n",
       " 'pgp141b_c',\n",
       " 'pgp160a_c',\n",
       " 'pgp160b_c',\n",
       " 'pgp160c_c',\n",
       " 'pgp160e_c',\n",
       " 'phe_L_e',\n",
       " 'phe_L_p',\n",
       " 'pnto_R_c',\n",
       " 'pnto_R_e',\n",
       " 'ppal_c',\n",
       " 'ppal_e',\n",
       " 'preq0_c',\n",
       " 'preq1_c',\n",
       " 'pro_L_c',\n",
       " 'pro_L_e',\n",
       " 'pro_L_p',\n",
       " 'progly_e',\n",
       " 'pser_L_e',\n",
       " 'q8h2_c',\n",
       " 'rib_D_c',\n",
       " 'rib_D_e',\n",
       " 'ribflv_c',\n",
       " 'rmn_e',\n",
       " 'rnam_c',\n",
       " 'ru5p_D_c',\n",
       " 'sbt_D_e',\n",
       " 'ser_D_e',\n",
       " 'ser_L_c',\n",
       " 'ser_L_e',\n",
       " 'ser_L_p',\n",
       " 'so2_e',\n",
       " 'sucr_e',\n",
       " 't3c5palmeACP_c',\n",
       " 'tartr_L_e',\n",
       " 'taur_e',\n",
       " 'thr_L_c',\n",
       " 'thr_L_e',\n",
       " 'thr_L_p',\n",
       " 'thym_e',\n",
       " 'thymd_c',\n",
       " 'thymd_e',\n",
       " 'tmao_e',\n",
       " 'trdrd_c',\n",
       " 'tre_e',\n",
       " 'trnaglu_c',\n",
       " 'trp_L_e',\n",
       " 'trp_L_p',\n",
       " 'ttdcap_c',\n",
       " 'ttdceap_c',\n",
       " 'tyr_L_c',\n",
       " 'tyr_L_e',\n",
       " 'tyr_L_p',\n",
       " 'ura_e',\n",
       " 'ura_p',\n",
       " 'urea_c',\n",
       " 'urea_e',\n",
       " 'uri_c',\n",
       " 'val_L_c',\n",
       " 'val_L_e',\n",
       " 'val_L_p',\n",
       " 'xan_e',\n",
       " 'xan_p',\n",
       " 'xtsn_c',\n",
       " 'xtsn_e',\n",
       " 'xu5p_D_c',\n",
       " 'xyl_D_e',\n",
       " 'xylu_L_e'}"
      ]
     },
     "execution_count": 26,
     "metadata": {},
     "output_type": "execute_result"
    }
   ],
   "source": [
    "#Additional metabolites might that need charges\n",
    "to_look_up=set(possibly_charge_imbalanced_metabolites) - set(ecolilist)\n",
    "to_look_up"
   ]
  },
  {
   "cell_type": "code",
   "execution_count": 27,
   "id": "c080560c-2bc7-418d-9f8d-8ab588146690",
   "metadata": {},
   "outputs": [],
   "source": [
    "model.metabolites.get_by_id( 'atp_c').charge=-4\n",
    "model.metabolites.get_by_id( 'dhap_p').charge=-2\n",
    "model.metabolites.get_by_id( 'fe3_p').charge=3\n",
    "model.metabolites.get_by_id( 'fum_c').charge=-2\n",
    "model.metabolites.get_by_id( 'glu_L_c').charge=-1\n",
    "model.metabolites.get_by_id( 'h2o_c').charge=0\n",
    "model.metabolites.get_by_id( 'h_c').charge=1\n",
    "model.metabolites.get_by_id( 'hdet9ACP_c').charge=-1\n",
    "model.metabolites.get_by_id( 'ile_L_c').charge=0\n",
    "model.metabolites.get_by_id( 'imacp_c').charge=-1\n",
    "model.metabolites.get_by_id( 'leu_L_c').charge=0\n",
    "model.metabolites.get_by_id( 'lys_L_c').charge=0\n",
    "model.metabolites.get_by_id( 'malACP_c').charge=-2\n",
    "model.metabolites.get_by_id( 'mal_L_c').charge=-2\n",
    "model.metabolites.get_by_id( 'met_L_c').charge=0\n",
    "model.metabolites.get_by_id( 'mthgxl_c').charge=0\n",
    "model.metabolites.get_by_id( 'murein4p3p_p').charge=-4\n",
    "model.metabolites.get_by_id( 'murein4p4p_p').charge=-4\n",
    "model.metabolites.get_by_id( 'murein4px4px4p_p').charge=-6\n",
    "model.metabolites.get_by_id( 'murein5p4p_p').charge=-4\n",
    "model.metabolites.get_by_id( 'nadh_c').charge=-2\n",
    "model.metabolites.get_by_id( 'nadph_c').charge=-4\n",
    "model.metabolites.get_by_id( 'nh4_c').charge=1\n",
    "model.metabolites.get_by_id( 'nh4_p').charge=1\n",
    "model.metabolites.get_by_id( 'no_p').charge=0\n",
    "model.metabolites.get_by_id( 'o2_c').charge=0\n",
    "model.metabolites.get_by_id( 'oct7eACP_c').charge=-1\n",
    "model.metabolites.get_by_id( 'orn_c').charge=1\n",
    "model.metabolites.get_by_id( 'pa160a_c').charge=-1\n",
    "model.metabolites.get_by_id( 'pa161_c').charge=-1\n",
    "model.metabolites.get_by_id( 'pa161_p').charge=-1\n",
    "model.metabolites.get_by_id( 'pa181_c').charge=-1\n",
    "model.metabolites.get_by_id( 'pa181_p').charge=-1\n",
    "model.metabolites.get_by_id( 'pant_R_c').charge=-1\n",
    "model.metabolites.get_by_id( 'pg161_p').charge=-1\n",
    "model.metabolites.get_by_id( 'pgp161_c').charge=-2\n",
    "model.metabolites.get_by_id( 'pgp181_c').charge=-2\n",
    "model.metabolites.get_by_id( 'pheme_c').charge=-2\n",
    "model.metabolites.get_by_id( 'pheme_p').charge=-2\n",
    "model.metabolites.get_by_id( 'phpyr_c').charge=-1\n",
    "model.metabolites.get_by_id( 'phthr_c').charge=-2\n",
    "model.metabolites.get_by_id( 'pi_c').charge=-2\n",
    "model.metabolites.get_by_id( 'pmcoa_c').charge=-5\n",
    "model.metabolites.get_by_id( 'pnto_R_c').charge=-1\n",
    "model.metabolites.get_by_id( 'ppi_c').charge=-3\n",
    "model.metabolites.get_by_id( 'prlp_c').charge=-4\n",
    "model.metabolites.get_by_id( 'prpp_c').charge=-4\n",
    "model.metabolites.get_by_id( 'pser_L_c').charge=-2\n",
    "model.metabolites.get_by_id( 'pyr_c').charge=-1\n",
    "model.metabolites.get_by_id( 'q8h2_c').charge=0\n",
    "model.metabolites.get_by_id( 'ru5p_D_c').charge=-2\n",
    "model.metabolites.get_by_id( 'ser_L_c').charge=0\n",
    "model.metabolites.get_by_id( 'sl2a6o_c').charge=-3\n",
    "model.metabolites.get_by_id( 'succ_c').charge=-2\n",
    "model.metabolites.get_by_id( 'tdec3eACP_c').charge=-1\n",
    "model.metabolites.get_by_id( 'tmrs2eACP_c').charge=-2\n",
    "model.metabolites.get_by_id( 'trnaglu_c').charge=0\n",
    "model.metabolites.get_by_id( 'tyr_L_c').charge=0\n",
    "model.metabolites.get_by_id( 'uamag_c').charge=-4\n",
    "#model.metabolites.get_by_id( 'udp_c').charge=-2\n",
    "#model.metabolites.get_by_id( 'udpgal_c').charge=-2\n",
    "#model.metabolites.get_by_id( 'utp_c').charge=-3\n",
    "model.metabolites.get_by_id( 'val_L_c').charge=0\n",
    "model.metabolites.get_by_id( 'xmp_c').charge=-2\n",
    "model.metabolites.get_by_id( 'xu5p_D_c').charge=-2\n",
    "model.metabolites.get_by_id('cmrs3eACP_c').charge=-1\n",
    "                            \n",
    "#model.metabolites.get_by_id( 'galglcgnahhlipa_c').charge="
   ]
  },
  {
   "cell_type": "code",
   "execution_count": 28,
   "id": "754bf55f-f4b3-4070-a3d9-274d2ee8ade9",
   "metadata": {
    "scrolled": true
   },
   "outputs": [],
   "source": [
    "#Define biomass reactions to exclude from imbalance check\n",
    "biomass_reactions = set(['PLIPIDS', 'PLIPIDS_ESS', 'PROTS', 'PEPGLY','RNAS', 'DNAS' ])\n"
   ]
  },
  {
   "cell_type": "code",
   "execution_count": 29,
   "id": "50b6f10c-c3c3-4ef3-b747-fd7340da4be8",
   "metadata": {
    "scrolled": true
   },
   "outputs": [
    {
     "name": "stdout",
     "output_type": "stream",
     "text": [
      "225 225 225\n"
     ]
    },
    {
     "data": {
      "text/html": [
       "<div>\n",
       "<style scoped>\n",
       "    .dataframe tbody tr th:only-of-type {\n",
       "        vertical-align: middle;\n",
       "    }\n",
       "\n",
       "    .dataframe tbody tr th {\n",
       "        vertical-align: top;\n",
       "    }\n",
       "\n",
       "    .dataframe thead th {\n",
       "        text-align: right;\n",
       "    }\n",
       "</style>\n",
       "<table border=\"1\" class=\"dataframe\">\n",
       "  <thead>\n",
       "    <tr style=\"text-align: right;\">\n",
       "      <th></th>\n",
       "      <th>Reactions</th>\n",
       "      <th>Charge</th>\n",
       "      <th>Masses</th>\n",
       "    </tr>\n",
       "  </thead>\n",
       "  <tbody>\n",
       "    <tr>\n",
       "      <th>0</th>\n",
       "      <td>3HAD140</td>\n",
       "      <td>-1.0</td>\n",
       "      <td>{}</td>\n",
       "    </tr>\n",
       "    <tr>\n",
       "      <th>1</th>\n",
       "      <td>3OAS161a</td>\n",
       "      <td>2.0</td>\n",
       "      <td>{'C': -12.0, 'H': -21.0, 'N': -2.0, 'O': -9.0,...</td>\n",
       "    </tr>\n",
       "    <tr>\n",
       "      <th>2</th>\n",
       "      <td>ACCOAC</td>\n",
       "      <td>0.000001</td>\n",
       "      <td>{'C': -9.999999999621423e-06, 'H': -1.49999999...</td>\n",
       "    </tr>\n",
       "    <tr>\n",
       "      <th>3</th>\n",
       "      <td>ACHBS</td>\n",
       "      <td>0.0</td>\n",
       "      <td>{'C': -1.2e-06, 'H': -1.6e-06, 'O': -7e-07, 'N...</td>\n",
       "    </tr>\n",
       "    <tr>\n",
       "      <th>4</th>\n",
       "      <td>ACLS</td>\n",
       "      <td>1.0</td>\n",
       "      <td>{'C': -1.2e-06, 'H': -1.6e-06, 'O': -7e-07, 'N...</td>\n",
       "    </tr>\n",
       "    <tr>\n",
       "      <th>...</th>\n",
       "      <td>...</td>\n",
       "      <td>...</td>\n",
       "      <td>...</td>\n",
       "    </tr>\n",
       "    <tr>\n",
       "      <th>220</th>\n",
       "      <td>UPPRT</td>\n",
       "      <td>-1.0</td>\n",
       "      <td>{}</td>\n",
       "    </tr>\n",
       "    <tr>\n",
       "      <th>221</th>\n",
       "      <td>XPPT</td>\n",
       "      <td>-1.0</td>\n",
       "      <td>{}</td>\n",
       "    </tr>\n",
       "    <tr>\n",
       "      <th>222</th>\n",
       "      <td>XPRT</td>\n",
       "      <td>-1.0</td>\n",
       "      <td>{}</td>\n",
       "    </tr>\n",
       "    <tr>\n",
       "      <th>223</th>\n",
       "      <td>CYPOX</td>\n",
       "      <td>-2.0</td>\n",
       "      <td>{}</td>\n",
       "    </tr>\n",
       "    <tr>\n",
       "      <th>224</th>\n",
       "      <td>LDH_D2</td>\n",
       "      <td>-1.0</td>\n",
       "      <td>{}</td>\n",
       "    </tr>\n",
       "  </tbody>\n",
       "</table>\n",
       "<p>225 rows × 3 columns</p>\n",
       "</div>"
      ],
      "text/plain": [
       "    Reactions    Charge                                             Masses\n",
       "0     3HAD140      -1.0                                                 {}\n",
       "1    3OAS161a       2.0  {'C': -12.0, 'H': -21.0, 'N': -2.0, 'O': -9.0,...\n",
       "2      ACCOAC  0.000001  {'C': -9.999999999621423e-06, 'H': -1.49999999...\n",
       "3       ACHBS       0.0  {'C': -1.2e-06, 'H': -1.6e-06, 'O': -7e-07, 'N...\n",
       "4        ACLS       1.0  {'C': -1.2e-06, 'H': -1.6e-06, 'O': -7e-07, 'N...\n",
       "..        ...       ...                                                ...\n",
       "220     UPPRT      -1.0                                                 {}\n",
       "221      XPPT      -1.0                                                 {}\n",
       "222      XPRT      -1.0                                                 {}\n",
       "223     CYPOX      -2.0                                                 {}\n",
       "224    LDH_D2      -1.0                                                 {}\n",
       "\n",
       "[225 rows x 3 columns]"
      ]
     },
     "execution_count": 29,
     "metadata": {},
     "output_type": "execute_result"
    }
   ],
   "source": [
    "#Define remaining imbalances\n",
    "#Many of these are due to the presence of cofactors in the reaction equation. In favor of correct stoichiometries, these cofactors are removed. \n",
    "reactions = []\n",
    "charge = []\n",
    "mass = []\n",
    "for react in model.reactions:\n",
    "    result = react.check_mass_balance()\n",
    "    if 'EX_' in  react.id:\n",
    "        continue\n",
    "    if 'Nm_' in  react.id:\n",
    "        continue\n",
    "    if 'DM_' in  react.id:\n",
    "        continue \n",
    "    if react.id in biomass_reactions:\n",
    "        continue\n",
    "    if len(result) == 0:\n",
    "        continue\n",
    "    else: \n",
    "        reactions.append(react.id)\n",
    "        masses = {}\n",
    "        for key in result.keys():\n",
    "            if key == 'charge':\n",
    "                charge.append(result['charge'])\n",
    "            else:\n",
    "                masses[key] = result[key]\n",
    "        if 'charge' not in result.keys():\n",
    "            charge.append('')\n",
    "        mass.append(masses)\n",
    "print(len(reactions), len(charge), len(mass))\n",
    "\n",
    "mass_charge_dict = {'Reactions': reactions, 'Charge': charge, 'Masses': mass}\n",
    "mass_charge = pandas.DataFrame(mass_charge_dict)\n",
    "mass_charge.to_csv('imbalancesinitial.csv')\n",
    "mass_charge"
   ]
  },
  {
   "cell_type": "code",
   "execution_count": 30,
   "id": "71a31d71-bb7f-4471-98ef-93323652e365",
   "metadata": {
    "scrolled": true
   },
   "outputs": [
    {
     "name": "stdout",
     "output_type": "stream",
     "text": [
      "btn_c\n",
      "thmpp_c\n",
      "fad_c\n",
      "pydx5p_c\n",
      "nad_c\n",
      "zn2_c\n",
      "ca2_c\n"
     ]
    }
   ],
   "source": [
    "#Define cofactors\n",
    "cofactors = set(['btn_c', 'thmpp_c', 'fad_c', 'pydx5p_c', 'nad_c', 'zn2_c', 'ca2_c'])\n",
    "\n",
    "for metabolites in model.metabolites:\n",
    "    if metabolites.id in cofactors:\n",
    "        print (metabolites.id)\n",
    "\n"
   ]
  },
  {
   "cell_type": "code",
   "execution_count": 31,
   "id": "41a26340-19dd-4974-8757-d34c0c1103a1",
   "metadata": {
    "scrolled": true
   },
   "outputs": [
    {
     "name": "stdout",
     "output_type": "stream",
     "text": [
      "   ACCOAC :  btn_c : -1e-06\n",
      "     BTS4 :  btn_c : 1.0\n"
     ]
    }
   ],
   "source": [
    "#Remove biotin as a cofactor\n",
    "cofactor_rxns =[]\n",
    "for react in model.reactions:\n",
    "    result = react.check_mass_balance()\n",
    "    if 'EX_' in  react.id:\n",
    "        continue\n",
    "    if 'Nm_' in react.id:\n",
    "        continue\n",
    "    if \"DM_\" in react.id:\n",
    "        continue\n",
    "    if react.id in biomass_reactions:\n",
    "        continue\n",
    "    if len(result) == 0:\n",
    "        continue\n",
    "    else: \n",
    "        if \"btn_c\" in react.reaction:\n",
    "            cofactor_rxns.append(react.id)\n",
    "            print('%9s :  btn_c : %s' % (react.id, react._metabolites[model.metabolites.get_by_id('btn_c')]))\n",
    "            original_coefficient = react._metabolites[model.metabolites.get_by_id('btn_c')]\n",
    "            if abs(original_coefficient) >100:\n",
    "                react.subtract_metabolites({model.metabolites.btn_c: original_coefficient})\n",
    "            if abs(original_coefficient) <0.001:\n",
    "                react.subtract_metabolites({model.metabolites.btn_c: original_coefficient})\n",
    "            \n",
    "            \n",
    "if len(cofactor_rxns) == 0:\n",
    "        print ('No reactions')"
   ]
  },
  {
   "cell_type": "code",
   "execution_count": 32,
   "id": "163170cc-44f3-4cf0-a2ef-7111db70969d",
   "metadata": {
    "scrolled": true
   },
   "outputs": [
    {
     "data": {
      "text/html": [
       "\n",
       "        <table>\n",
       "            <tr>\n",
       "                <td><strong>Reaction identifier</strong></td><td>ACCOAC</td>\n",
       "            </tr><tr>\n",
       "                <td><strong>Name</strong></td><td>Acetyl-CoA carboxylase</td>\n",
       "            </tr><tr>\n",
       "                <td><strong>Memory address</strong></td>\n",
       "                <td>0x01783dcd5af0</td>\n",
       "            </tr><tr>\n",
       "                <td><strong>Stoichiometry</strong></td>\n",
       "                <td>\n",
       "                    <p style='text-align:right'>accoa_c + atp_c + hco3_c --> adp_c + h_c + malcoa_c + pi_c</p>\n",
       "                    <p style='text-align:right'>M_accoa_c + M_atp_c + M_hco3_c --> M_adp_c + M_h_c + M_malcoa_c + M_pi_c</p>\n",
       "                </td>\n",
       "            </tr><tr>\n",
       "                <td><strong>GPR</strong></td><td>( NGO0821 or NGO0821 ) and NGO0044 and NGO0249 and NGO0045 and NGO2001</td>\n",
       "            </tr><tr>\n",
       "                <td><strong>Lower bound</strong></td><td>0.0</td>\n",
       "            </tr><tr>\n",
       "                <td><strong>Upper bound</strong></td><td>1000.0</td>\n",
       "            </tr>\n",
       "        </table>\n",
       "        "
      ],
      "text/plain": [
       "<Reaction ACCOAC at 0x1783dcd5af0>"
      ]
     },
     "execution_count": 32,
     "metadata": {},
     "output_type": "execute_result"
    }
   ],
   "source": [
    "#Biotin has been removed as a cofactor all reactions\n",
    "#example\n",
    "model.reactions.ACCOAC"
   ]
  },
  {
   "cell_type": "code",
   "execution_count": 33,
   "id": "08e2103c-5b91-434f-9620-ff6cccaf81b4",
   "metadata": {
    "scrolled": true
   },
   "outputs": [
    {
     "data": {
      "text/html": [
       "\n",
       "        <table>\n",
       "            <tr>\n",
       "                <td><strong>Reaction identifier</strong></td><td>BTS4</td>\n",
       "            </tr><tr>\n",
       "                <td><strong>Name</strong></td><td>Biotin synthase</td>\n",
       "            </tr><tr>\n",
       "                <td><strong>Memory address</strong></td>\n",
       "                <td>0x01783dd68a60</td>\n",
       "            </tr><tr>\n",
       "                <td><strong>Stoichiometry</strong></td>\n",
       "                <td>\n",
       "                    <p style='text-align:right'>amet_c + dtbt_c + h_c --> btn_c + dad_5_c + h2o_c + met_L_c + o2_c</p>\n",
       "                    <p style='text-align:right'>M_amet_c + M_dtbt_c + M_h_c --> M_btn_c + M_dad_5_c + M_h2o_c + M_met_L_c + M_o2_c</p>\n",
       "                </td>\n",
       "            </tr><tr>\n",
       "                <td><strong>GPR</strong></td><td>NGO0813 or NGO0813</td>\n",
       "            </tr><tr>\n",
       "                <td><strong>Lower bound</strong></td><td>0.0</td>\n",
       "            </tr><tr>\n",
       "                <td><strong>Upper bound</strong></td><td>1000.0</td>\n",
       "            </tr>\n",
       "        </table>\n",
       "        "
      ],
      "text/plain": [
       "<Reaction BTS4 at 0x1783dd68a60>"
      ]
     },
     "execution_count": 33,
     "metadata": {},
     "output_type": "execute_result"
    }
   ],
   "source": [
    "#But Biotin has not been removed if it is an actual reactant\n",
    "#example\n",
    "model.reactions.BTS4"
   ]
  },
  {
   "cell_type": "code",
   "execution_count": 34,
   "id": "4641a0de-4db8-4691-81d0-5233625466a3",
   "metadata": {},
   "outputs": [
    {
     "data": {
      "text/plain": [
       "0.9517477282033404"
      ]
     },
     "execution_count": 34,
     "metadata": {},
     "output_type": "execute_result"
    }
   ],
   "source": [
    "model.slim_optimize()"
   ]
  },
  {
   "cell_type": "code",
   "execution_count": 35,
   "id": "3822a03d-c6d5-4e9c-879a-f8eb7004d2d6",
   "metadata": {
    "scrolled": true
   },
   "outputs": [
    {
     "name": "stdout",
     "output_type": "stream",
     "text": [
      "    ACHBS :  thmpp_c : -1e-07\n",
      "     ACLS :  thmpp_c : -1e-07\n",
      "       CS :  thmpp_c : -1e-06\n",
      "     DXPS :  thmpp_c : -1e-07\n",
      "      PDH :  thmpp_c : -1e-06\n"
     ]
    }
   ],
   "source": [
    "#Remove thmpp_c\n",
    "cofactor_rxns =[]\n",
    "for react in model.reactions:\n",
    "    result = react.check_mass_balance()\n",
    "    if 'EX_' in  react.id:\n",
    "        continue\n",
    "    if 'Nm_' in react.id:\n",
    "        continue\n",
    "    if \"DM_\" in react.id:\n",
    "        continue\n",
    "    if react.id in biomass_reactions:\n",
    "        continue\n",
    "    if len(result) == 0:\n",
    "        continue\n",
    "    else: \n",
    "        if \"thmpp_c\" in react.reaction:\n",
    "            cofactor_rxns.append(react.id)\n",
    "            print('%9s :  thmpp_c : %s' % (react.id, react._metabolites[model.metabolites.get_by_id('thmpp_c')]))\n",
    "            original_coefficient = react._metabolites[model.metabolites.get_by_id('thmpp_c')]\n",
    "            if abs(original_coefficient) >100:\n",
    "                react.subtract_metabolites({model.metabolites.thmpp_c: original_coefficient})\n",
    "            if abs(original_coefficient) <0.001:\n",
    "                react.subtract_metabolites({model.metabolites.thmpp_c: original_coefficient})\n",
    "            \n",
    "            \n",
    "if len(cofactor_rxns) == 0:\n",
    "        print ('No reactions')"
   ]
  },
  {
   "cell_type": "code",
   "execution_count": 36,
   "id": "fc2448d7-118a-4c6e-a027-7759fc40017c",
   "metadata": {
    "scrolled": true
   },
   "outputs": [
    {
     "data": {
      "text/html": [
       "\n",
       "        <table>\n",
       "            <tr>\n",
       "                <td><strong>Reaction identifier</strong></td><td>ACHBS</td>\n",
       "            </tr><tr>\n",
       "                <td><strong>Name</strong></td><td>2-aceto-2-hydroxybutanoate synthase</td>\n",
       "            </tr><tr>\n",
       "                <td><strong>Memory address</strong></td>\n",
       "                <td>0x01783dcdcb80</td>\n",
       "            </tr><tr>\n",
       "                <td><strong>Stoichiometry</strong></td>\n",
       "                <td>\n",
       "                    <p style='text-align:right'>2obut_c + h_c + pyr_c --> 2ahbut_c + co2_c</p>\n",
       "                    <p style='text-align:right'>M_2obut_c + M_h_c + M_pyr_c --> M_2ahbut_c + M_co2_c</p>\n",
       "                </td>\n",
       "            </tr><tr>\n",
       "                <td><strong>GPR</strong></td><td>NGO1236 and ( Blank or NGO1235 )</td>\n",
       "            </tr><tr>\n",
       "                <td><strong>Lower bound</strong></td><td>0.0</td>\n",
       "            </tr><tr>\n",
       "                <td><strong>Upper bound</strong></td><td>1000.0</td>\n",
       "            </tr>\n",
       "        </table>\n",
       "        "
      ],
      "text/plain": [
       "<Reaction ACHBS at 0x1783dcdcb80>"
      ]
     },
     "execution_count": 36,
     "metadata": {},
     "output_type": "execute_result"
    }
   ],
   "source": [
    "#example\n",
    "model.reactions.ACHBS"
   ]
  },
  {
   "cell_type": "code",
   "execution_count": 37,
   "id": "6f76ffa8-6015-4523-97cf-56522ba3134d",
   "metadata": {},
   "outputs": [
    {
     "data": {
      "text/plain": [
       "0.9517542739670938"
      ]
     },
     "execution_count": 37,
     "metadata": {},
     "output_type": "execute_result"
    }
   ],
   "source": [
    "#Fix naming for thiamine\n",
    "#model.metabolites.get_by_id(\"the_c\").id= \"thm_e\"\n",
    "#model.metabolites.get_by_id(\"thp_c\").id = \"thm_p\"\n",
    "#model.metabolites.get_by_id(\"thc_c\").id = \"thm_c\"\n",
    "\n",
    "model.slim_optimize()"
   ]
  },
  {
   "cell_type": "code",
   "execution_count": 38,
   "id": "30fb27cc-acd5-46ee-b48d-879680b74d30",
   "metadata": {
    "scrolled": true
   },
   "outputs": [
    {
     "name": "stdout",
     "output_type": "stream",
     "text": [
      "    ASPO3 :  fad_c : -1e-07\n",
      "    ASPO5 :  fad_c : -1e-07\n",
      "    ASPO6 :  fad_c : -1e-07\n",
      "    CHORS :  fad_c : -1e-07\n",
      "   DHORD2 :  fad_c : -1e-07\n",
      "     FUMR :  fad_c : -1e-08\n",
      "   MTHFR2 :  fad_c : -1e-07\n",
      " NADH16pp :  fad_c : -1e-07\n",
      "    NADH5 :  fad_c : -1e-07\n",
      "  NADHQNa :  fad_c : -1e-07\n",
      " NADPHQR2 :  fad_c : -1e-07\n",
      "    PPPGO :  fad_c : -1e-07\n",
      "    SUCD1 :  fad_c : -1e-08\n",
      "    UAPGR :  fad_c : -1e-07\n"
     ]
    }
   ],
   "source": [
    "#Remove fad_c\n",
    "cofactor_rxns =[]\n",
    "for react in model.reactions:\n",
    "    result = react.check_mass_balance()\n",
    "    if 'EX_' in  react.id:\n",
    "        continue\n",
    "    if 'Nm_' in react.id:\n",
    "        continue\n",
    "    if \"DM_\" in react.id:\n",
    "        continue\n",
    "    if react.id in biomass_reactions:\n",
    "        continue\n",
    "    if len(result) == 0:\n",
    "        continue\n",
    "    else: \n",
    "        if \"fad_c\" in react.reaction:\n",
    "            cofactor_rxns.append(react.id)\n",
    "            print('%9s :  fad_c : %s' % (react.id, react._metabolites[model.metabolites.get_by_id('fad_c')]))\n",
    "            original_coefficient = react._metabolites[model.metabolites.get_by_id('fad_c')]\n",
    "            if abs(original_coefficient) >100:\n",
    "                react.subtract_metabolites({model.metabolites.fad_c: original_coefficient})\n",
    "            if abs(original_coefficient) <0.001:\n",
    "                react.subtract_metabolites({model.metabolites.fad_c: original_coefficient})\n",
    "            \n",
    "            \n",
    "if len(cofactor_rxns) == 0:\n",
    "        print ('No reactions')"
   ]
  },
  {
   "cell_type": "code",
   "execution_count": 39,
   "id": "cdc28eb5-5fc6-4e32-a20d-087346df5017",
   "metadata": {},
   "outputs": [
    {
     "data": {
      "text/plain": [
       "0.9517559795049736"
      ]
     },
     "execution_count": 39,
     "metadata": {},
     "output_type": "execute_result"
    }
   ],
   "source": [
    "model.slim_optimize()"
   ]
  },
  {
   "cell_type": "code",
   "execution_count": 40,
   "id": "9dab8d7a-b6c5-47bf-b891-3b54203eacc7",
   "metadata": {
    "scrolled": true
   },
   "outputs": [
    {
     "name": "stdout",
     "output_type": "stream",
     "text": [
      "     ADCL :  pydx5p_c : -1e-07\n",
      "     ADCS :  pydx5p_c : -1e-07\n",
      "   AMAOTr :  pydx5p_c : -1e-07\n",
      "    ARGDC :  pydx5p_c : -1e-07\n",
      "     CYSS :  pydx5p_c : -1e-07\n",
      "    DAPDC :  pydx5p_c : -1e-07\n",
      "     PGCD :  pydx5p_c : -1e-07\n",
      "   PSD120 :  pydx5p_c : -1e-07\n",
      "   PSD140 :  pydx5p_c : -1e-07\n",
      "   PSD141 :  pydx5p_c : -1e-07\n",
      "  PSD141b :  pydx5p_c : -1e-07\n",
      "   PSD160 :  pydx5p_c : -1e-07\n",
      "  PSD160a :  pydx5p_c : -1e-07\n",
      "  PSD160b :  pydx5p_c : -1e-07\n",
      "  PSD160c :  pydx5p_c : -1e-07\n",
      "  PSD160e :  pydx5p_c : -1e-07\n",
      "  PSD161a :  pydx5p_c : -1e-07\n",
      "   PSD180 :  pydx5p_c : -1e-07\n",
      "   PSD181 :  pydx5p_c : -1e-07\n",
      "    PSERT :  pydx5p_c : -1e-07\n",
      "   SERD_L :  pydx5p_c : -1e-07\n",
      "    SHSL5 :  pydx5p_c : -1e-07\n",
      "   THRD_L :  pydx5p_c : -1e-07\n",
      "     THRS :  pydx5p_c : -1e-07\n"
     ]
    }
   ],
   "source": [
    "#Remove pydx5p_c\n",
    "cofactor_rxns =[]\n",
    "for react in model.reactions:\n",
    "    result = react.check_mass_balance()\n",
    "    if 'EX_' in  react.id:\n",
    "        continue\n",
    "    if 'Nm_' in react.id:\n",
    "        continue\n",
    "    if \"DM_\" in react.id:\n",
    "        continue\n",
    "    if react.id in biomass_reactions:\n",
    "        continue\n",
    "    if len(result) == 0:\n",
    "        continue\n",
    "    else: \n",
    "        if \"pydx5p_c\" in react.reaction:\n",
    "            cofactor_rxns.append(react.id)\n",
    "            print('%9s :  pydx5p_c : %s' % (react.id, react._metabolites[model.metabolites.get_by_id('pydx5p_c')]))\n",
    "            original_coefficient = react._metabolites[model.metabolites.get_by_id('pydx5p_c')]\n",
    "            if abs(original_coefficient) >100:\n",
    "                react.subtract_metabolites({model.metabolites.pydx5p_c: original_coefficient})\n",
    "            if abs(original_coefficient) <0.001:\n",
    "                react.subtract_metabolites({model.metabolites.pydx5p_c: original_coefficient})\n",
    "            \n",
    "            \n",
    "if len(cofactor_rxns) == 0:\n",
    "        print ('No reactions')"
   ]
  },
  {
   "cell_type": "code",
   "execution_count": 41,
   "id": "d6078d64-44f8-4fea-809f-274349547a90",
   "metadata": {},
   "outputs": [
    {
     "data": {
      "text/plain": [
       "0.9517561701723591"
      ]
     },
     "execution_count": 41,
     "metadata": {},
     "output_type": "execute_result"
    }
   ],
   "source": [
    "model.slim_optimize()"
   ]
  },
  {
   "cell_type": "code",
   "execution_count": 42,
   "id": "6783b638-4460-4ef9-862b-345a20ba471f",
   "metadata": {},
   "outputs": [
    {
     "name": "stdout",
     "output_type": "stream",
     "text": [
      "    AGMHE :  nad_c : -1e-07\n",
      "   AMPMS2 :  nad_c : -1.0\n",
      "     DHQS :  nad_c : -1e-07\n",
      "  EAR140x :  nad_c : 1.0\n",
      "  EAR181x :  nad_c : 1.0\n",
      " GLYCLTDx :  nad_c : 1.0\n",
      "   HPYRRx :  nad_c : 1.0\n",
      "     IPPS :  nad_c : -1e-07\n",
      "    LCADi :  nad_c : -1.0\n",
      "    LDH_D :  nad_c : -1.0\n",
      "  NADHQNa :  nad_c : 1.0\n"
     ]
    }
   ],
   "source": [
    "#Remove nad_c\n",
    "cofactor_rxns =[]\n",
    "for react in model.reactions:\n",
    "    result = react.check_mass_balance()\n",
    "    if 'EX_' in  react.id:\n",
    "        continue\n",
    "    if 'Nm_' in react.id:\n",
    "        continue\n",
    "    if \"DM_\" in react.id:\n",
    "        continue\n",
    "    if react.id in biomass_reactions:\n",
    "        continue\n",
    "    if len(result) == 0:\n",
    "        continue\n",
    "    else: \n",
    "        if \"nad_c\" in react.reaction:\n",
    "            cofactor_rxns.append(react.id)\n",
    "            print('%9s :  nad_c : %s' % (react.id, react._metabolites[model.metabolites.get_by_id('nad_c')]))\n",
    "            original_coefficient = react._metabolites[model.metabolites.get_by_id('nad_c')]\n",
    "            if abs(original_coefficient) >100:\n",
    "                react.subtract_metabolites({model.metabolites.nad_c: original_coefficient})\n",
    "            if abs(original_coefficient) <0.001:\n",
    "                react.subtract_metabolites({model.metabolites.nad_c: original_coefficient})\n",
    "            else:\n",
    "                pass\n",
    "            \n",
    "if len(cofactor_rxns) == 0:\n",
    "        print ('No reactions')"
   ]
  },
  {
   "cell_type": "code",
   "execution_count": 43,
   "id": "9526d922-ed5f-4fdd-b555-71e51073c320",
   "metadata": {
    "scrolled": true
   },
   "outputs": [
    {
     "name": "stdout",
     "output_type": "stream",
     "text": [
      "AMPTASECG :  zn2_c : -1e-07\n",
      "     METS :  zn2_c : -1e-07\n",
      "   PPBNGS :  zn2_c : -1e-07\n"
     ]
    }
   ],
   "source": [
    "#Remove zn2_c\n",
    "cofactor_rxns =[]\n",
    "for react in model.reactions:\n",
    "    result = react.check_mass_balance()\n",
    "    if 'EX_' in  react.id:\n",
    "        continue\n",
    "    if 'Nm_' in react.id:\n",
    "        continue\n",
    "    if \"DM_\" in react.id:\n",
    "        continue\n",
    "    if react.id in biomass_reactions:\n",
    "        continue\n",
    "    if len(result) == 0:\n",
    "        continue\n",
    "    else: \n",
    "        if \"zn2_c\" in react.reaction:\n",
    "            cofactor_rxns.append(react.id)\n",
    "            print('%9s :  zn2_c : %s' % (react.id, react._metabolites[model.metabolites.get_by_id('zn2_c')]))\n",
    "            original_coefficient = react._metabolites[model.metabolites.get_by_id('zn2_c')]\n",
    "            if abs(original_coefficient) >100:\n",
    "                react.subtract_metabolites({model.metabolites.zn2_c: original_coefficient})\n",
    "            if abs(original_coefficient) <0.001:\n",
    "                react.subtract_metabolites({model.metabolites.zn2_c: original_coefficient})\n",
    "            \n",
    "            \n",
    "if len(cofactor_rxns) == 0:\n",
    "        print ('No reactions')"
   ]
  },
  {
   "cell_type": "code",
   "execution_count": 44,
   "id": "e9dc533b-13a2-45e2-8be0-831e4bcb2079",
   "metadata": {
    "scrolled": true
   },
   "outputs": [
    {
     "name": "stdout",
     "output_type": "stream",
     "text": [
      "PLIPA1A120pp :  ca2_c : -1e-07\n",
      "PLIPA1A140pp :  ca2_c : -1e-07\n",
      "PLIPA1A141b :  ca2_c : -1e-07\n",
      "PLIPA1A141pp :  ca2_c : -1e-07\n",
      "PLIPA1A160a :  ca2_c : -1e-07\n",
      "PLIPA1A160b :  ca2_c : -1e-07\n",
      "PLIPA1A160c :  ca2_c : -1e-07\n",
      "PLIPA1A160e :  ca2_c : -1e-07\n",
      "PLIPA1A160pp :  ca2_c : -1e-07\n",
      "PLIPA1A161a :  ca2_c : -1e-07\n",
      "PLIPA1A180pp :  ca2_c : -1e-07\n",
      "PLIPA1A181pp :  ca2_c : -1e-07\n",
      "PLIPA1E120pp :  ca2_c : -1e-07\n",
      "PLIPA1E140pp :  ca2_c : -1e-07\n",
      "PLIPA1E141b :  ca2_c : -1e-07\n",
      "PLIPA1E141pp :  ca2_c : -1e-07\n",
      "PLIPA1E160a :  ca2_c : -1e-07\n",
      "PLIPA1E160b :  ca2_c : -1e-07\n",
      "PLIPA1E160c :  ca2_c : -1e-07\n",
      "PLIPA1E160e :  ca2_c : -1e-07\n",
      "PLIPA1E160pp :  ca2_c : -1e-07\n",
      "PLIPA1E161a :  ca2_c : -1e-07\n",
      "PLIPA1E180pp :  ca2_c : -1e-07\n",
      "PLIPA1E181pp :  ca2_c : -1e-07\n",
      "PLIPA1G120pp :  ca2_c : -1e-07\n",
      "PLIPA1G140pp :  ca2_c : -1e-07\n",
      "PLIPA1G141b :  ca2_c : -1e-07\n",
      "PLIPA1G141pp :  ca2_c : -1e-07\n",
      "PLIPA1G160a :  ca2_c : -1e-07\n",
      "PLIPA1G160b :  ca2_c : -1e-07\n",
      "PLIPA1G160c :  ca2_c : -1e-07\n",
      "PLIPA1G160e :  ca2_c : -1e-07\n",
      "PLIPA1G160pp :  ca2_c : -1e-07\n",
      "PLIPA1G161a :  ca2_c : -1e-07\n",
      "PLIPA1G180pp :  ca2_c : -1e-07\n",
      "PLIPA1G181pp :  ca2_c : -1e-07\n"
     ]
    }
   ],
   "source": [
    "#Remove ca2_c\n",
    "cofactor_rxns =[]\n",
    "for react in model.reactions:\n",
    "    result = react.check_mass_balance()\n",
    "    if 'EX_' in  react.id:\n",
    "        continue\n",
    "    if 'Nm_' in react.id:\n",
    "        continue\n",
    "    if \"DM_\" in react.id:\n",
    "        continue\n",
    "    if react.id in biomass_reactions:\n",
    "        continue\n",
    "    if len(result) == 0:\n",
    "        continue\n",
    "    else: \n",
    "        if \"ca2_c\" in react.reaction:\n",
    "            cofactor_rxns.append(react.id)\n",
    "            print('%9s :  ca2_c : %s' % (react.id, react._metabolites[model.metabolites.get_by_id('ca2_c')]))\n",
    "            original_coefficient = react._metabolites[model.metabolites.get_by_id('ca2_c')]\n",
    "            if abs(original_coefficient) >100:\n",
    "                react.subtract_metabolites({model.metabolites.ca2_c: original_coefficient})\n",
    "            if abs(original_coefficient) <0.001:\n",
    "                react.subtract_metabolites({model.metabolites.ca2_c: original_coefficient})\n",
    "            \n",
    "            \n",
    "if len(cofactor_rxns) == 0:\n",
    "        print ('No reactions')"
   ]
  },
  {
   "cell_type": "code",
   "execution_count": 45,
   "id": "ddef0c2a-26a1-4f01-a933-5cd30c5a4469",
   "metadata": {
    "scrolled": true
   },
   "outputs": [
    {
     "name": "stdout",
     "output_type": "stream",
     "text": [
      "  SPODMMn :  mn2_c : -1e-07\n"
     ]
    }
   ],
   "source": [
    "#Remove mn2_c\n",
    "cofactor_rxns =[]\n",
    "for react in model.reactions:\n",
    "    result = react.check_mass_balance()\n",
    "    if 'EX_' in  react.id:\n",
    "        continue\n",
    "    if 'Nm_' in react.id:\n",
    "        continue\n",
    "    if \"DM_\" in react.id:\n",
    "        continue\n",
    "    if react.id in biomass_reactions:\n",
    "        continue\n",
    "    if len(result) == 0:\n",
    "        continue\n",
    "    else: \n",
    "        if \"mn2_c\" in react.reaction:\n",
    "            cofactor_rxns.append(react.id)\n",
    "            print('%9s :  mn2_c : %s' % (react.id, react._metabolites[model.metabolites.get_by_id('mn2_c')]))\n",
    "            original_coefficient = react._metabolites[model.metabolites.get_by_id('mn2_c')]\n",
    "            if abs(original_coefficient) >100:\n",
    "                react.subtract_metabolites({model.metabolites.mn2_c: original_coefficient})\n",
    "            if abs(original_coefficient) <0.001:\n",
    "                react.subtract_metabolites({model.metabolites.mn2_c: original_coefficient})\n",
    "            \n",
    "            \n",
    "if len(cofactor_rxns) == 0:\n",
    "        print ('No reactions')"
   ]
  },
  {
   "cell_type": "code",
   "execution_count": 46,
   "id": "aa56bc47-6c70-4a18-a91a-73c25465d492",
   "metadata": {
    "scrolled": true
   },
   "outputs": [
    {
     "name": "stdout",
     "output_type": "stream",
     "text": [
      "PHEMEFErel :  fe2_c : 1.0\n",
      "    PROHX :  fe2_c : -1e-07\n"
     ]
    }
   ],
   "source": [
    "#Remove fe2_c\n",
    "cofactor_rxns =[]\n",
    "for react in model.reactions:\n",
    "    result = react.check_mass_balance()\n",
    "    if 'EX_' in  react.id:\n",
    "        continue\n",
    "    if 'Nm_' in react.id:\n",
    "        continue\n",
    "    if \"DM_\" in react.id:\n",
    "        continue\n",
    "    if react.id in biomass_reactions:\n",
    "        continue\n",
    "    if len(result) == 0:\n",
    "        continue\n",
    "    else: \n",
    "        if \"fe2_c\" in react.reaction:\n",
    "            cofactor_rxns.append(react.id)\n",
    "            print('%9s :  fe2_c : %s' % (react.id, react._metabolites[model.metabolites.get_by_id('fe2_c')]))\n",
    "            original_coefficient = react._metabolites[model.metabolites.get_by_id('fe2_c')]\n",
    "            if abs(original_coefficient) >100:\n",
    "                react.subtract_metabolites({model.metabolites.fe2_c: original_coefficient})\n",
    "            if abs(original_coefficient) <0.001:\n",
    "                react.subtract_metabolites({model.metabolites.fe2_c: original_coefficient})\n",
    "            \n",
    "            \n",
    "if len(cofactor_rxns) == 0:\n",
    "        print ('No reactions')"
   ]
  },
  {
   "cell_type": "code",
   "execution_count": 47,
   "id": "52da51b4-e71a-4038-a822-e846731642c9",
   "metadata": {
    "scrolled": true
   },
   "outputs": [
    {
     "name": "stdout",
     "output_type": "stream",
     "text": [
      "169 169 169\n"
     ]
    },
    {
     "data": {
      "text/html": [
       "<div>\n",
       "<style scoped>\n",
       "    .dataframe tbody tr th:only-of-type {\n",
       "        vertical-align: middle;\n",
       "    }\n",
       "\n",
       "    .dataframe tbody tr th {\n",
       "        vertical-align: top;\n",
       "    }\n",
       "\n",
       "    .dataframe thead th {\n",
       "        text-align: right;\n",
       "    }\n",
       "</style>\n",
       "<table border=\"1\" class=\"dataframe\">\n",
       "  <thead>\n",
       "    <tr style=\"text-align: right;\">\n",
       "      <th></th>\n",
       "      <th>Reactions</th>\n",
       "      <th>Charge</th>\n",
       "      <th>Masses</th>\n",
       "    </tr>\n",
       "  </thead>\n",
       "  <tbody>\n",
       "    <tr>\n",
       "      <th>0</th>\n",
       "      <td>3HAD140</td>\n",
       "      <td>-1.0</td>\n",
       "      <td>{}</td>\n",
       "    </tr>\n",
       "    <tr>\n",
       "      <th>1</th>\n",
       "      <td>3OAS161a</td>\n",
       "      <td>2.0</td>\n",
       "      <td>{'C': -12.0, 'H': -21.0, 'N': -2.0, 'O': -9.0,...</td>\n",
       "    </tr>\n",
       "    <tr>\n",
       "      <th>2</th>\n",
       "      <td>ACLS</td>\n",
       "      <td>1.0</td>\n",
       "      <td>{}</td>\n",
       "    </tr>\n",
       "    <tr>\n",
       "      <th>3</th>\n",
       "      <td>ACPH</td>\n",
       "      <td>-1.0</td>\n",
       "      <td>{'H': -2.0, 'O': -1.0, 'R': -1.0}</td>\n",
       "    </tr>\n",
       "    <tr>\n",
       "      <th>4</th>\n",
       "      <td>ACPS1</td>\n",
       "      <td></td>\n",
       "      <td>{'H': 1.0, 'O': 1.0, 'R': 1.0}</td>\n",
       "    </tr>\n",
       "    <tr>\n",
       "      <th>...</th>\n",
       "      <td>...</td>\n",
       "      <td>...</td>\n",
       "      <td>...</td>\n",
       "    </tr>\n",
       "    <tr>\n",
       "      <th>164</th>\n",
       "      <td>UPPRT</td>\n",
       "      <td>-1.0</td>\n",
       "      <td>{}</td>\n",
       "    </tr>\n",
       "    <tr>\n",
       "      <th>165</th>\n",
       "      <td>XPPT</td>\n",
       "      <td>-1.0</td>\n",
       "      <td>{}</td>\n",
       "    </tr>\n",
       "    <tr>\n",
       "      <th>166</th>\n",
       "      <td>XPRT</td>\n",
       "      <td>-1.0</td>\n",
       "      <td>{}</td>\n",
       "    </tr>\n",
       "    <tr>\n",
       "      <th>167</th>\n",
       "      <td>CYPOX</td>\n",
       "      <td>-2.0</td>\n",
       "      <td>{}</td>\n",
       "    </tr>\n",
       "    <tr>\n",
       "      <th>168</th>\n",
       "      <td>LDH_D2</td>\n",
       "      <td>-1.0</td>\n",
       "      <td>{}</td>\n",
       "    </tr>\n",
       "  </tbody>\n",
       "</table>\n",
       "<p>169 rows × 3 columns</p>\n",
       "</div>"
      ],
      "text/plain": [
       "    Reactions Charge                                             Masses\n",
       "0     3HAD140   -1.0                                                 {}\n",
       "1    3OAS161a    2.0  {'C': -12.0, 'H': -21.0, 'N': -2.0, 'O': -9.0,...\n",
       "2        ACLS    1.0                                                 {}\n",
       "3        ACPH   -1.0                  {'H': -2.0, 'O': -1.0, 'R': -1.0}\n",
       "4       ACPS1                            {'H': 1.0, 'O': 1.0, 'R': 1.0}\n",
       "..        ...    ...                                                ...\n",
       "164     UPPRT   -1.0                                                 {}\n",
       "165      XPPT   -1.0                                                 {}\n",
       "166      XPRT   -1.0                                                 {}\n",
       "167     CYPOX   -2.0                                                 {}\n",
       "168    LDH_D2   -1.0                                                 {}\n",
       "\n",
       "[169 rows x 3 columns]"
      ]
     },
     "execution_count": 47,
     "metadata": {},
     "output_type": "execute_result"
    }
   ],
   "source": [
    "#After bulk removing cofactors, what reaction imbalances remain?\n",
    "reactions = []\n",
    "charge = []\n",
    "mass = []\n",
    "for react in model.reactions:\n",
    "    result = react.check_mass_balance()\n",
    "    if 'EX_' in  react.id:\n",
    "        continue\n",
    "    if 'Nm_' in  react.id:\n",
    "        continue\n",
    "    if 'DM_' in  react.id:\n",
    "        continue \n",
    "    if react.id in biomass_reactions:\n",
    "        continue\n",
    "    if len(result) == 0:\n",
    "        continue\n",
    "    else: \n",
    "        reactions.append(react.id)\n",
    "        masses = {}\n",
    "        for key in result.keys():\n",
    "            if key == 'charge':\n",
    "                charge.append(result['charge'])\n",
    "            else:\n",
    "                masses[key] = result[key]\n",
    "        if 'charge' not in result.keys():\n",
    "            charge.append('')\n",
    "        mass.append(masses)\n",
    "print(len(reactions), len(charge), len(mass))\n",
    "\n",
    "mass_charge_dict = {'Reactions': reactions, 'Charge': charge, 'Masses': mass}\n",
    "mass_charge = pandas.DataFrame(mass_charge_dict)\n",
    "mass_charge.to_csv('imbalancesremaining.csv')\n",
    "mass_charge"
   ]
  },
  {
   "cell_type": "code",
   "execution_count": 48,
   "id": "7d3f9048-b0d8-4e47-9c2e-fe7390e9dc66",
   "metadata": {},
   "outputs": [
    {
     "data": {
      "text/plain": [
       "0.9517561703085329"
      ]
     },
     "execution_count": 48,
     "metadata": {},
     "output_type": "execute_result"
    }
   ],
   "source": [
    "model.slim_optimize()"
   ]
  },
  {
   "cell_type": "code",
   "execution_count": 49,
   "id": "bdefb7e7-8a1c-4114-9691-ade42deb28f8",
   "metadata": {},
   "outputs": [
    {
     "data": {
      "text/html": [
       "\n",
       "        <table>\n",
       "            <tr>\n",
       "                <td><strong>Name</strong></td>\n",
       "                <td>iNGO_556</td>\n",
       "            </tr><tr>\n",
       "                <td><strong>Memory address</strong></td>\n",
       "                <td>0x01783cb76460</td>\n",
       "            </tr><tr>\n",
       "                <td><strong>Number of metabolites</strong></td>\n",
       "                <td>1337</td>\n",
       "            </tr><tr>\n",
       "                <td><strong>Number of reactions</strong></td>\n",
       "                <td>1504</td>\n",
       "            </tr><tr>\n",
       "                <td><strong>Number of groups</strong></td>\n",
       "                <td>0</td>\n",
       "            </tr><tr>\n",
       "                <td><strong>Objective expression</strong></td>\n",
       "                <td>1.0*Nm_Ess_biomass - 1.0*Nm_Ess_biomass_reverse_46af5</td>\n",
       "            </tr><tr>\n",
       "                <td><strong>Compartments</strong></td>\n",
       "                <td>periplasm, cytoplasm, extracellular</td>\n",
       "            </tr>\n",
       "          </table>"
      ],
      "text/plain": [
       "<Model iNGO_556 at 0x1783cb76460>"
      ]
     },
     "execution_count": 49,
     "metadata": {},
     "output_type": "execute_result"
    }
   ],
   "source": [
    "model"
   ]
  },
  {
   "cell_type": "code",
   "execution_count": 50,
   "id": "1a3ccbda-4d24-4bb9-8fa3-9993cc9dd860",
   "metadata": {
    "scrolled": true
   },
   "outputs": [
    {
     "name": "stdout",
     "output_type": "stream",
     "text": [
      "{'charge': -1.0, 'H': -2.0, 'O': -1.0, 'R': -1.0}\n"
     ]
    },
    {
     "data": {
      "text/html": [
       "\n",
       "        <table>\n",
       "            <tr>\n",
       "                <td><strong>Reaction identifier</strong></td><td>ACPH</td>\n",
       "            </tr><tr>\n",
       "                <td><strong>Name</strong></td><td>R_ACPH</td>\n",
       "            </tr><tr>\n",
       "                <td><strong>Memory address</strong></td>\n",
       "                <td>0x01783dcea7c0</td>\n",
       "            </tr><tr>\n",
       "                <td><strong>Stoichiometry</strong></td>\n",
       "                <td>\n",
       "                    <p style='text-align:right'>ACP_c + h2o_c --> pan4p_c</p>\n",
       "                    <p style='text-align:right'>M_ACP_c + M_h2o_c --> M_pan4p_c</p>\n",
       "                </td>\n",
       "            </tr><tr>\n",
       "                <td><strong>GPR</strong></td><td>Orphan</td>\n",
       "            </tr><tr>\n",
       "                <td><strong>Lower bound</strong></td><td>0.0</td>\n",
       "            </tr><tr>\n",
       "                <td><strong>Upper bound</strong></td><td>1000.0</td>\n",
       "            </tr>\n",
       "        </table>\n",
       "        "
      ],
      "text/plain": [
       "<Reaction ACPH at 0x1783dcea7c0>"
      ]
     },
     "execution_count": 50,
     "metadata": {},
     "output_type": "execute_result"
    }
   ],
   "source": [
    "#Correct Imbalances for ACP reactions\n",
    "#ACPH\n",
    "r = model.reactions.get_by_id('ACPH')\n",
    "print(r.check_mass_balance())\n",
    "r\n"
   ]
  },
  {
   "cell_type": "code",
   "execution_count": 51,
   "id": "80e28a16-645d-4f8f-8899-f08ada2ca68d",
   "metadata": {
    "scrolled": true
   },
   "outputs": [
    {
     "name": "stdout",
     "output_type": "stream",
     "text": [
      "ACPH: ACP_c + h2o_c --> apoACP_c + h_c + pan4p_c\n",
      "{}\n"
     ]
    }
   ],
   "source": [
    "apoACP_c = Metabolite(\n",
    "    'apoACP_c',\n",
    "    formula='HOR',\n",
    "    name='apo acyl-carrier-protein',\n",
    "    compartment='cytoplasm')\n",
    "\n",
    "h_c = model.metabolites.get_by_id('h_c')\n",
    "\n",
    "r.add_metabolites({\n",
    "    apoACP_c: 1.0,\n",
    "    h_c: 1.0})\n",
    "\n",
    "print(r)\n",
    "print(r.check_mass_balance())"
   ]
  },
  {
   "cell_type": "code",
   "execution_count": 52,
   "id": "b03f28a5-ce8d-4cbf-87ec-203f9501e7ef",
   "metadata": {},
   "outputs": [
    {
     "data": {
      "text/plain": [
       "0.9517561703085191"
      ]
     },
     "execution_count": 52,
     "metadata": {},
     "output_type": "execute_result"
    }
   ],
   "source": [
    "model.slim_optimize()"
   ]
  },
  {
   "cell_type": "code",
   "execution_count": 53,
   "id": "851dc98f-9039-4c03-abb8-5f1c074a5dc9",
   "metadata": {},
   "outputs": [
    {
     "data": {
      "text/html": [
       "\n",
       "        <table>\n",
       "            <tr>\n",
       "                <td><strong>Name</strong></td>\n",
       "                <td>iNGO_556</td>\n",
       "            </tr><tr>\n",
       "                <td><strong>Memory address</strong></td>\n",
       "                <td>0x01783cb76460</td>\n",
       "            </tr><tr>\n",
       "                <td><strong>Number of metabolites</strong></td>\n",
       "                <td>1338</td>\n",
       "            </tr><tr>\n",
       "                <td><strong>Number of reactions</strong></td>\n",
       "                <td>1504</td>\n",
       "            </tr><tr>\n",
       "                <td><strong>Number of groups</strong></td>\n",
       "                <td>0</td>\n",
       "            </tr><tr>\n",
       "                <td><strong>Objective expression</strong></td>\n",
       "                <td>1.0*Nm_Ess_biomass - 1.0*Nm_Ess_biomass_reverse_46af5</td>\n",
       "            </tr><tr>\n",
       "                <td><strong>Compartments</strong></td>\n",
       "                <td>periplasm, cytoplasm, extracellular</td>\n",
       "            </tr>\n",
       "          </table>"
      ],
      "text/plain": [
       "<Model iNGO_556 at 0x1783cb76460>"
      ]
     },
     "execution_count": 53,
     "metadata": {},
     "output_type": "execute_result"
    }
   ],
   "source": [
    "model"
   ]
  },
  {
   "cell_type": "code",
   "execution_count": 54,
   "id": "dee7c255-b70f-497b-abbb-73f1af8de998",
   "metadata": {
    "scrolled": true
   },
   "outputs": [
    {
     "name": "stdout",
     "output_type": "stream",
     "text": [
      "{'H': 1.0, 'O': 1.0, 'R': 1.0}\n"
     ]
    },
    {
     "data": {
      "text/html": [
       "\n",
       "        <table>\n",
       "            <tr>\n",
       "                <td><strong>Reaction identifier</strong></td><td>ACPS1</td>\n",
       "            </tr><tr>\n",
       "                <td><strong>Name</strong></td><td>Acyl-carrier protein synthase</td>\n",
       "            </tr><tr>\n",
       "                <td><strong>Memory address</strong></td>\n",
       "                <td>0x01783dceabe0</td>\n",
       "            </tr><tr>\n",
       "                <td><strong>Stoichiometry</strong></td>\n",
       "                <td>\n",
       "                    <p style='text-align:right'>coa_c --> ACP_c + h_c + pap_c</p>\n",
       "                    <p style='text-align:right'>M_coa_c --> M_ACP_c + M_h_c + M_pap_c</p>\n",
       "                </td>\n",
       "            </tr><tr>\n",
       "                <td><strong>GPR</strong></td><td>NGO1507</td>\n",
       "            </tr><tr>\n",
       "                <td><strong>Lower bound</strong></td><td>0.0</td>\n",
       "            </tr><tr>\n",
       "                <td><strong>Upper bound</strong></td><td>1000.0</td>\n",
       "            </tr>\n",
       "        </table>\n",
       "        "
      ],
      "text/plain": [
       "<Reaction ACPS1 at 0x1783dceabe0>"
      ]
     },
     "execution_count": 54,
     "metadata": {},
     "output_type": "execute_result"
    }
   ],
   "source": [
    "#ACPS1\n",
    "r = model.reactions.get_by_id('ACPS1')\n",
    "print(r.check_mass_balance())\n",
    "r\n"
   ]
  },
  {
   "cell_type": "code",
   "execution_count": 55,
   "id": "46430e6c-d429-4d81-9b5d-ebc35296284a",
   "metadata": {
    "scrolled": true
   },
   "outputs": [
    {
     "name": "stdout",
     "output_type": "stream",
     "text": [
      "ACPS1: apoACP_c + coa_c --> ACP_c + h_c + pap_c\n",
      "{}\n"
     ]
    }
   ],
   "source": [
    "r.add_metabolites({\n",
    "    apoACP_c: -1.0})\n",
    "\n",
    "print(r)\n",
    "print(r.check_mass_balance())"
   ]
  },
  {
   "cell_type": "code",
   "execution_count": 56,
   "id": "7b49c08d-292e-4ac4-a0c6-6fcfe08bc2f2",
   "metadata": {
    "scrolled": true
   },
   "outputs": [],
   "source": [
    "#Add apoACP import reaction. This is required to show \"synthesis\" of a protein based cofactor. \n",
    "#Integration of Biomass Formulations of Genome-Scale Metabolic Models with Experimental Data Reveals Universally Essential Cofactors in Prokaryotes\n",
    "#Joana C Xavier, Kiran Raosaheb Patil, Isabel Rocha\n",
    "#PMID: 27939572 PMCID: PMC5249239\n",
    "\n",
    "apoACP_c = model.metabolites.get_by_id('apoACP_c')\n",
    "\n",
    "EX_apoACP_c_ = cobra.Reaction('EX_apoACP_c_')\n",
    "EX_apoACP_c_.notes = {'citations': 'PMCID: PMC5249239', 'type': 'essential cofactor', 'annotation': ''}\n",
    "EX_apoACP_c_.name = 'exchange of apoACP'\n",
    "EX_apoACP_c_.gene_reaction_rule = ''\n",
    "EX_apoACP_c_.lower_bound = 0.\n",
    "EX_apoACP_c_.upper_bound = 1000.\n",
    "EX_apoACP_c_.add_metabolites({\n",
    "    apoACP_c: -1.0,\n",
    "  \n",
    "})\n",
    "\n",
    "model.add_reactions([EX_apoACP_c_])\n",
    "new_rxns += 1"
   ]
  },
  {
   "cell_type": "code",
   "execution_count": 57,
   "id": "577b7e0d-d9ea-4521-a752-e135fbae2763",
   "metadata": {
    "scrolled": true
   },
   "outputs": [
    {
     "data": {
      "text/html": [
       "\n",
       "        <table>\n",
       "            <tr>\n",
       "                <td><strong>Reaction identifier</strong></td><td>EX_apoACP_c_</td>\n",
       "            </tr><tr>\n",
       "                <td><strong>Name</strong></td><td>exchange of apoACP</td>\n",
       "            </tr><tr>\n",
       "                <td><strong>Memory address</strong></td>\n",
       "                <td>0x01783eb4f430</td>\n",
       "            </tr><tr>\n",
       "                <td><strong>Stoichiometry</strong></td>\n",
       "                <td>\n",
       "                    <p style='text-align:right'>apoACP_c --></p>\n",
       "                    <p style='text-align:right'>apo acyl-carrier-protein --></p>\n",
       "                </td>\n",
       "            </tr><tr>\n",
       "                <td><strong>GPR</strong></td><td></td>\n",
       "            </tr><tr>\n",
       "                <td><strong>Lower bound</strong></td><td>0.0</td>\n",
       "            </tr><tr>\n",
       "                <td><strong>Upper bound</strong></td><td>1000.0</td>\n",
       "            </tr>\n",
       "        </table>\n",
       "        "
      ],
      "text/plain": [
       "<Reaction EX_apoACP_c_ at 0x1783eb4f430>"
      ]
     },
     "execution_count": 57,
     "metadata": {},
     "output_type": "execute_result"
    }
   ],
   "source": [
    "r=model.reactions.get_by_id('EX_apoACP_c_')\n",
    "r"
   ]
  },
  {
   "cell_type": "code",
   "execution_count": 58,
   "id": "af03c828-3dc8-442f-b316-7dbf4dd31378",
   "metadata": {},
   "outputs": [],
   "source": [
    "rpmi_molarity(model)"
   ]
  },
  {
   "cell_type": "code",
   "execution_count": 59,
   "id": "af28430b-73fd-4410-8d54-a4095affd794",
   "metadata": {},
   "outputs": [
    {
     "data": {
      "text/plain": [
       "0.26786995318771184"
      ]
     },
     "execution_count": 59,
     "metadata": {},
     "output_type": "execute_result"
    }
   ],
   "source": [
    "model.slim_optimize()"
   ]
  },
  {
   "cell_type": "code",
   "execution_count": 60,
   "id": "0eb64e2a-498a-4ff5-92d3-3cce7b78d5d4",
   "metadata": {
    "scrolled": true
   },
   "outputs": [
    {
     "name": "stdout",
     "output_type": "stream",
     "text": [
      "{'charge': 2.0, 'H': 1.0, 'O': -3.0, 'P': -1.0}\n"
     ]
    },
    {
     "data": {
      "text/html": [
       "\n",
       "        <table>\n",
       "            <tr>\n",
       "                <td><strong>Reaction identifier</strong></td><td>AMPMS2</td>\n",
       "            </tr><tr>\n",
       "                <td><strong>Name</strong></td><td>4-amino-2-methyl-5-phosphomethylpyrimidine synthetase</td>\n",
       "            </tr><tr>\n",
       "                <td><strong>Memory address</strong></td>\n",
       "                <td>0x01783dd365e0</td>\n",
       "            </tr><tr>\n",
       "                <td><strong>Stoichiometry</strong></td>\n",
       "                <td>\n",
       "                    <p style='text-align:right'>air_c + h2o_c + nad_c --> 4ahmmp_c + 2.0 for_c + 3.0 h_c + nadh_c</p>\n",
       "                    <p style='text-align:right'>M_air_c + M_h2o_c + M_nad_c --> M_4ahmmp_c + 2.0 M_for_c + 3.0 M_h_c + M_nadh_c</p>\n",
       "                </td>\n",
       "            </tr><tr>\n",
       "                <td><strong>GPR</strong></td><td>NGO2041</td>\n",
       "            </tr><tr>\n",
       "                <td><strong>Lower bound</strong></td><td>0.0</td>\n",
       "            </tr><tr>\n",
       "                <td><strong>Upper bound</strong></td><td>1000.0</td>\n",
       "            </tr>\n",
       "        </table>\n",
       "        "
      ],
      "text/plain": [
       "<Reaction AMPMS2 at 0x1783dd365e0>"
      ]
     },
     "execution_count": 60,
     "metadata": {},
     "output_type": "execute_result"
    }
   ],
   "source": [
    "#AMPMS2\n",
    "r = model.reactions.get_by_id('AMPMS2')\n",
    "print(r.check_mass_balance())\n",
    "r"
   ]
  },
  {
   "cell_type": "code",
   "execution_count": 61,
   "id": "40d565b0-82e4-49bd-a17b-75a4f429adaa",
   "metadata": {
    "scrolled": true
   },
   "outputs": [],
   "source": [
    "#The reaction AMPMS2 should use 4ampm rather than 4ahmmp according to BIGG and KEGG. Replaced this metabolite in the reaction.\n"
   ]
  },
  {
   "cell_type": "code",
   "execution_count": 62,
   "id": "f98d27e0-0e8e-4f9c-8bbc-75e15c51508c",
   "metadata": {},
   "outputs": [
    {
     "name": "stdout",
     "output_type": "stream",
     "text": [
      "{}\n"
     ]
    },
    {
     "data": {
      "text/html": [
       "\n",
       "        <table>\n",
       "            <tr>\n",
       "                <td><strong>Reaction identifier</strong></td><td>AMPMS2</td>\n",
       "            </tr><tr>\n",
       "                <td><strong>Name</strong></td><td>4-amino-2-methyl-5-phosphomethylpyrimidine synthetase</td>\n",
       "            </tr><tr>\n",
       "                <td><strong>Memory address</strong></td>\n",
       "                <td>0x01783dd365e0</td>\n",
       "            </tr><tr>\n",
       "                <td><strong>Stoichiometry</strong></td>\n",
       "                <td>\n",
       "                    <p style='text-align:right'>air_c + h2o_c + nad_c --> 4ampm_c + 2.0 for_c + 3.0 h_c + nadh_c</p>\n",
       "                    <p style='text-align:right'>M_air_c + M_h2o_c + M_nad_c --> M_4ampm_c + 2.0 M_for_c + 3.0 M_h_c + M_nadh_c</p>\n",
       "                </td>\n",
       "            </tr><tr>\n",
       "                <td><strong>GPR</strong></td><td>NGO2041</td>\n",
       "            </tr><tr>\n",
       "                <td><strong>Lower bound</strong></td><td>0.0</td>\n",
       "            </tr><tr>\n",
       "                <td><strong>Upper bound</strong></td><td>1000.0</td>\n",
       "            </tr>\n",
       "        </table>\n",
       "        "
      ],
      "text/plain": [
       "<Reaction AMPMS2 at 0x1783dd365e0>"
      ]
     },
     "execution_count": 62,
     "metadata": {},
     "output_type": "execute_result"
    }
   ],
   "source": [
    "met1=model.metabolites.get_by_id('4ampm_c')\n",
    "met2 = model.metabolites.get_by_id('4ahmmp_c')\n",
    "\n",
    "r.subtract_metabolites({\n",
    "    met2: 1.0})\n",
    "r.add_metabolites({\n",
    "    met1: 1.0})\n",
    "\n",
    "print(r.check_mass_balance())\n",
    "r"
   ]
  },
  {
   "cell_type": "code",
   "execution_count": 63,
   "id": "326ece3c-66d0-4bd6-b05a-947821d8d806",
   "metadata": {
    "scrolled": true
   },
   "outputs": [
    {
     "name": "stdout",
     "output_type": "stream",
     "text": [
      "{'charge': -3.0, 'H': 2.0, 'O': 2.0}\n"
     ]
    },
    {
     "data": {
      "text/html": [
       "\n",
       "        <table>\n",
       "            <tr>\n",
       "                <td><strong>Reaction identifier</strong></td><td>ASNSYN</td>\n",
       "            </tr><tr>\n",
       "                <td><strong>Name</strong></td><td>R_ASNSYN</td>\n",
       "            </tr><tr>\n",
       "                <td><strong>Memory address</strong></td>\n",
       "                <td>0x01783dd51d60</td>\n",
       "            </tr><tr>\n",
       "                <td><strong>Stoichiometry</strong></td>\n",
       "                <td>\n",
       "                    <p style='text-align:right'>asp_L_c + atp_c + gln_L_c + h_c --> adp_c + asn_L_c + glu_L_c + h2o_c + pi_c</p>\n",
       "                    <p style='text-align:right'>M_asp_L_c + M_atp_c + M_gln_L_c + M_h_c --> M_adp_c + M_asn_L_c + M_glu_L_c + M_h2o_c + M_pi_c</p>\n",
       "                </td>\n",
       "            </tr><tr>\n",
       "                <td><strong>GPR</strong></td><td>NGO1489 and NGO0663 and NGO0662 and NGO0660</td>\n",
       "            </tr><tr>\n",
       "                <td><strong>Lower bound</strong></td><td>0.0</td>\n",
       "            </tr><tr>\n",
       "                <td><strong>Upper bound</strong></td><td>1000.0</td>\n",
       "            </tr>\n",
       "        </table>\n",
       "        "
      ],
      "text/plain": [
       "<Reaction ASNSYN at 0x1783dd51d60>"
      ]
     },
     "execution_count": 63,
     "metadata": {},
     "output_type": "execute_result"
    }
   ],
   "source": [
    "#ASNSYN\n",
    "r = model.reactions.get_by_id('ASNSYN')\n",
    "print(r.check_mass_balance())\n",
    "r"
   ]
  },
  {
   "cell_type": "code",
   "execution_count": 64,
   "id": "c2e2ff49-4ec6-433f-9745-86809eca384d",
   "metadata": {},
   "outputs": [
    {
     "name": "stdout",
     "output_type": "stream",
     "text": [
      "ASNSYN: asp_L_c + atp_c + gln_L_c + h2o_c --> adp_c + asn_L_c + glu_L_c + h_c + pi_c\n",
      "{}\n"
     ]
    }
   ],
   "source": [
    "h_c = model.metabolites.get_by_id('h_c')\n",
    "h2o_c = model.metabolites.get_by_id('h2o_c')\n",
    "\n",
    "r.add_metabolites({\n",
    "    h2o_c: -2.0,\n",
    "    h_c: 2.0})\n",
    "\n",
    "model.metabolites.asp_L_c.charge=-1\n",
    "print(r)\n",
    "print(r.check_mass_balance())"
   ]
  },
  {
   "cell_type": "code",
   "execution_count": 65,
   "id": "3aebaf6b-5d14-449f-b998-102c20771233",
   "metadata": {
    "scrolled": true
   },
   "outputs": [
    {
     "name": "stdout",
     "output_type": "stream",
     "text": [
      "{'charge': -2.0, 'O': 3.0, 'S': 1.0}\n"
     ]
    },
    {
     "data": {
      "text/html": [
       "\n",
       "        <table>\n",
       "            <tr>\n",
       "                <td><strong>Reaction identifier</strong></td><td>BTS4</td>\n",
       "            </tr><tr>\n",
       "                <td><strong>Name</strong></td><td>Biotin synthase</td>\n",
       "            </tr><tr>\n",
       "                <td><strong>Memory address</strong></td>\n",
       "                <td>0x01783dd68a60</td>\n",
       "            </tr><tr>\n",
       "                <td><strong>Stoichiometry</strong></td>\n",
       "                <td>\n",
       "                    <p style='text-align:right'>amet_c + dtbt_c + h_c --> btn_c + dad_5_c + h2o_c + met_L_c + o2_c</p>\n",
       "                    <p style='text-align:right'>M_amet_c + M_dtbt_c + M_h_c --> M_btn_c + M_dad_5_c + M_h2o_c + M_met_L_c + M_o2_c</p>\n",
       "                </td>\n",
       "            </tr><tr>\n",
       "                <td><strong>GPR</strong></td><td>NGO0813 or NGO0813</td>\n",
       "            </tr><tr>\n",
       "                <td><strong>Lower bound</strong></td><td>0.0</td>\n",
       "            </tr><tr>\n",
       "                <td><strong>Upper bound</strong></td><td>1000.0</td>\n",
       "            </tr>\n",
       "        </table>\n",
       "        "
      ],
      "text/plain": [
       "<Reaction BTS4 at 0x1783dd68a60>"
      ]
     },
     "execution_count": 65,
     "metadata": {},
     "output_type": "execute_result"
    }
   ],
   "source": [
    "#BTS4\n",
    "r = model.reactions.get_by_id('BTS4')\n",
    "print(r.check_mass_balance())\n",
    "r"
   ]
  },
  {
   "cell_type": "code",
   "execution_count": 66,
   "id": "94152ffc-2aa2-4447-9239-5e4911ab53f8",
   "metadata": {
    "scrolled": true
   },
   "outputs": [
    {
     "name": "stdout",
     "output_type": "stream",
     "text": [
      "BTS4: amet_c + dtbt_c --> btn_c + dad_5_c + h_c + met_L_c\n",
      "{'S': 1.0}\n"
     ]
    }
   ],
   "source": [
    "#Reaction will remain imbalanced for Sulfer. The sulfer is donated by the enzyme itself and not by a metabolite.\n",
    "h_c = model.metabolites.get_by_id('h_c')\n",
    "h2o_c = model.metabolites.get_by_id('h2o_c')\n",
    "o2_c = model.metabolites.get_by_id('o2_c')\n",
    "\n",
    "r.add_metabolites({\n",
    "    h2o_c: -1.0,\n",
    "    h_c: 2.0,\n",
    "    o2_c: -1.0\n",
    "})\n",
    "\n",
    "print(r)\n",
    "print(r.check_mass_balance())"
   ]
  },
  {
   "cell_type": "code",
   "execution_count": 67,
   "id": "de79d502-d1f2-419f-90d2-615aba457de6",
   "metadata": {
    "scrolled": true
   },
   "outputs": [
    {
     "name": "stdout",
     "output_type": "stream",
     "text": [
      "{'charge': 1.0, 'H': 1.0}\n"
     ]
    },
    {
     "data": {
      "text/html": [
       "\n",
       "        <table>\n",
       "            <tr>\n",
       "                <td><strong>Reaction identifier</strong></td><td>CTPS3</td>\n",
       "            </tr><tr>\n",
       "                <td><strong>Name</strong></td><td>R_CTPS3</td>\n",
       "            </tr><tr>\n",
       "                <td><strong>Memory address</strong></td>\n",
       "                <td>0x01783dd935b0</td>\n",
       "            </tr><tr>\n",
       "                <td><strong>Stoichiometry</strong></td>\n",
       "                <td>\n",
       "                    <p style='text-align:right'>ctp_c + h2o_c <=> nh4_c + utp_c</p>\n",
       "                    <p style='text-align:right'>M_ctp_c + M_h2o_c <=> M_nh4_c + M_utp_c</p>\n",
       "                </td>\n",
       "            </tr><tr>\n",
       "                <td><strong>GPR</strong></td><td>NGO0421</td>\n",
       "            </tr><tr>\n",
       "                <td><strong>Lower bound</strong></td><td>-1000.0</td>\n",
       "            </tr><tr>\n",
       "                <td><strong>Upper bound</strong></td><td>1000.0</td>\n",
       "            </tr>\n",
       "        </table>\n",
       "        "
      ],
      "text/plain": [
       "<Reaction CTPS3 at 0x1783dd935b0>"
      ]
     },
     "execution_count": 67,
     "metadata": {},
     "output_type": "execute_result"
    }
   ],
   "source": [
    "#CTPS3\n",
    "r = model.reactions.get_by_id('CTPS3')\n",
    "print(r.check_mass_balance())\n",
    "r"
   ]
  },
  {
   "cell_type": "code",
   "execution_count": 68,
   "id": "b45ddd31-d26f-4b96-96cd-44c2b7e13ebf",
   "metadata": {
    "scrolled": true
   },
   "outputs": [
    {
     "name": "stdout",
     "output_type": "stream",
     "text": [
      "CTPS3: ctp_c + h2o_c + h_c <=> nh4_c + utp_c\n",
      "{'charge': -1.0}\n"
     ]
    }
   ],
   "source": [
    "#nh3_c= Metabolite(\n",
    "#    'nh3_c',\n",
    "#    formula='NH3',\n",
    "#    name='Ammonia',\n",
    "#    compartment='cytosol',\n",
    "#    charge = 1)\n",
    "\n",
    "#nh4_c = model.metabolites.get_by_id('nh4_c')\n",
    "\n",
    "model.metabolites.ctp_c.charge=-3\n",
    "r.add_metabolites({\n",
    "    h_c: -1.0,\n",
    "})\n",
    "\n",
    "print(r)\n",
    "print(r.check_mass_balance())"
   ]
  },
  {
   "cell_type": "code",
   "execution_count": 69,
   "id": "a99b8429-268f-4325-a0f6-fe0b69819fc2",
   "metadata": {},
   "outputs": [
    {
     "data": {
      "text/plain": [
       "0.2678699531877157"
      ]
     },
     "execution_count": 69,
     "metadata": {},
     "output_type": "execute_result"
    }
   ],
   "source": [
    "model.slim_optimize()"
   ]
  },
  {
   "cell_type": "code",
   "execution_count": 70,
   "id": "86629720-f9b3-497f-ae4c-338fe31d286d",
   "metadata": {
    "scrolled": true
   },
   "outputs": [
    {
     "name": "stdout",
     "output_type": "stream",
     "text": [
      "{'charge': -0.9999998, 'C': -1.6999999985500835e-06, 'H': -1.900000000887303e-06, 'N': -3.9999999978945766e-07, 'O': -8.999999998593466e-07, 'P': -1e-07}\n"
     ]
    },
    {
     "data": {
      "text/html": [
       "\n",
       "        <table>\n",
       "            <tr>\n",
       "                <td><strong>Reaction identifier</strong></td><td>DHORD2</td>\n",
       "            </tr><tr>\n",
       "                <td><strong>Name</strong></td><td>Dihydoorotic acid dehydrogenase (quinone8)</td>\n",
       "            </tr><tr>\n",
       "                <td><strong>Memory address</strong></td>\n",
       "                <td>0x01783ddcfe80</td>\n",
       "            </tr><tr>\n",
       "                <td><strong>Stoichiometry</strong></td>\n",
       "                <td>\n",
       "                    <p style='text-align:right'>dhor_S_c + 1e-07 fmn_c + q8_c --> orot_c + q8h2_c</p>\n",
       "                    <p style='text-align:right'>M_dhor_S_c + 1e-07 M_fmn_c + M_q8_c --> M_orot_c + M_q8h2_c</p>\n",
       "                </td>\n",
       "            </tr><tr>\n",
       "                <td><strong>GPR</strong></td><td>NGO1761</td>\n",
       "            </tr><tr>\n",
       "                <td><strong>Lower bound</strong></td><td>0.0</td>\n",
       "            </tr><tr>\n",
       "                <td><strong>Upper bound</strong></td><td>1000.0</td>\n",
       "            </tr>\n",
       "        </table>\n",
       "        "
      ],
      "text/plain": [
       "<Reaction DHORD2 at 0x1783ddcfe80>"
      ]
     },
     "execution_count": 70,
     "metadata": {},
     "output_type": "execute_result"
    }
   ],
   "source": [
    "#DHORD2\n",
    "r = model.reactions.get_by_id('DHORD2')\n",
    "print(r.check_mass_balance())\n",
    "r"
   ]
  },
  {
   "cell_type": "code",
   "execution_count": 71,
   "id": "df8574a9-dbf5-41fb-8975-9592b3a206c9",
   "metadata": {
    "scrolled": true
   },
   "outputs": [
    {
     "name": "stdout",
     "output_type": "stream",
     "text": [
      "DHORD2: dhor_S_c + q8_c --> orot_c + q8h2_c\n",
      "{}\n"
     ]
    }
   ],
   "source": [
    "fmn_c = model.metabolites.get_by_id('fmn_c')\n",
    "\n",
    "\n",
    "\n",
    "r.add_metabolites({\n",
    "    fmn_c: 1e-07,\n",
    "})\n",
    "model.metabolites.dhor_S_c.charge=-1\n",
    "\n",
    "print(r)\n",
    "print(r.check_mass_balance())"
   ]
  },
  {
   "cell_type": "code",
   "execution_count": 72,
   "id": "ef8a18a4-1395-46fb-932d-e1cd87ae4423",
   "metadata": {
    "scrolled": true
   },
   "outputs": [
    {
     "name": "stdout",
     "output_type": "stream",
     "text": [
      "{'charge': -1.9999999989472883e-07, 'Co': -1e-07}\n"
     ]
    },
    {
     "data": {
      "text/html": [
       "\n",
       "        <table>\n",
       "            <tr>\n",
       "                <td><strong>Reaction identifier</strong></td><td>DHQS</td>\n",
       "            </tr><tr>\n",
       "                <td><strong>Name</strong></td><td>3-dehydroquinate synthase</td>\n",
       "            </tr><tr>\n",
       "                <td><strong>Memory address</strong></td>\n",
       "                <td>0x01783ddde7c0</td>\n",
       "            </tr><tr>\n",
       "                <td><strong>Stoichiometry</strong></td>\n",
       "                <td>\n",
       "                    <p style='text-align:right'>2dda7p_c + 1e-07 cobalt2_c --> 3dhq_c + pi_c</p>\n",
       "                    <p style='text-align:right'>M_2dda7p_c + 1e-07 M_cobalt2_c --> M_3dhq_c + M_pi_c</p>\n",
       "                </td>\n",
       "            </tr><tr>\n",
       "                <td><strong>GPR</strong></td><td>NGO0092</td>\n",
       "            </tr><tr>\n",
       "                <td><strong>Lower bound</strong></td><td>0.0</td>\n",
       "            </tr><tr>\n",
       "                <td><strong>Upper bound</strong></td><td>1000.0</td>\n",
       "            </tr>\n",
       "        </table>\n",
       "        "
      ],
      "text/plain": [
       "<Reaction DHQS at 0x1783ddde7c0>"
      ]
     },
     "execution_count": 72,
     "metadata": {},
     "output_type": "execute_result"
    }
   ],
   "source": [
    "#DHQS\n",
    "r = model.reactions.get_by_id('DHQS')\n",
    "print(r.check_mass_balance())\n",
    "r"
   ]
  },
  {
   "cell_type": "code",
   "execution_count": 73,
   "id": "508de799-03d0-4c0c-b4e0-807f9300aa58",
   "metadata": {
    "scrolled": true
   },
   "outputs": [
    {
     "name": "stdout",
     "output_type": "stream",
     "text": [
      "DHQS: 2dda7p_c --> 3dhq_c + pi_c\n",
      "{}\n"
     ]
    }
   ],
   "source": [
    "cobalt2_c = model.metabolites.get_by_id('cobalt2_c')\n",
    "\n",
    "\n",
    "\n",
    "r.add_metabolites({\n",
    "    cobalt2_c: 1e-07,\n",
    "})\n",
    "\n",
    "print(r)\n",
    "print(r.check_mass_balance())"
   ]
  },
  {
   "cell_type": "code",
   "execution_count": 74,
   "id": "34f65f1a-a376-4e4d-be06-6634cde94bd3",
   "metadata": {},
   "outputs": [
    {
     "data": {
      "text/plain": [
       "0.267869957778024"
      ]
     },
     "execution_count": 74,
     "metadata": {},
     "output_type": "execute_result"
    }
   ],
   "source": [
    "model.slim_optimize()"
   ]
  },
  {
   "cell_type": "code",
   "execution_count": 75,
   "id": "2ccfc312-be6f-464a-832c-afa8af4cc789",
   "metadata": {
    "scrolled": true
   },
   "outputs": [
    {
     "name": "stdout",
     "output_type": "stream",
     "text": [
      "{'charge': 1.0, 'H': 1.0}\n"
     ]
    },
    {
     "data": {
      "text/html": [
       "\n",
       "        <table>\n",
       "            <tr>\n",
       "                <td><strong>Reaction identifier</strong></td><td>GLYCLTDx</td>\n",
       "            </tr><tr>\n",
       "                <td><strong>Name</strong></td><td>Glycolate dehydrogenase (NAD)</td>\n",
       "            </tr><tr>\n",
       "                <td><strong>Memory address</strong></td>\n",
       "                <td>0x01783df30520</td>\n",
       "            </tr><tr>\n",
       "                <td><strong>Stoichiometry</strong></td>\n",
       "                <td>\n",
       "                    <p style='text-align:right'>glx_c + nadh_c --> glyclt_c + nad_c</p>\n",
       "                    <p style='text-align:right'>M_glx_c + M_nadh_c --> M_glyclt_c + M_nad_c</p>\n",
       "                </td>\n",
       "            </tr><tr>\n",
       "                <td><strong>GPR</strong></td><td>NGO2043 or NGO1243</td>\n",
       "            </tr><tr>\n",
       "                <td><strong>Lower bound</strong></td><td>0.0</td>\n",
       "            </tr><tr>\n",
       "                <td><strong>Upper bound</strong></td><td>1000.0</td>\n",
       "            </tr>\n",
       "        </table>\n",
       "        "
      ],
      "text/plain": [
       "<Reaction GLYCLTDx at 0x1783df30520>"
      ]
     },
     "execution_count": 75,
     "metadata": {},
     "output_type": "execute_result"
    }
   ],
   "source": [
    "#GLYCLTDx\n",
    "r = model.reactions.get_by_id('GLYCLTDx')\n",
    "print(r.check_mass_balance())\n",
    "r"
   ]
  },
  {
   "cell_type": "code",
   "execution_count": 76,
   "id": "5388c639-a396-4a40-97cb-ebd2a18e8596",
   "metadata": {
    "scrolled": true
   },
   "outputs": [
    {
     "name": "stdout",
     "output_type": "stream",
     "text": [
      "GLYCLTDx: glx_c + h_c + nadh_c --> glyclt_c + nad_c\n",
      "{}\n"
     ]
    }
   ],
   "source": [
    "h_c = model.metabolites.get_by_id('h_c')\n",
    "\n",
    "\n",
    "\n",
    "r.add_metabolites({\n",
    "    h_c: -1,\n",
    "})\n",
    "\n",
    "print(r)\n",
    "print(r.check_mass_balance())"
   ]
  },
  {
   "cell_type": "code",
   "execution_count": 77,
   "id": "9d4a5864-66a3-4f55-a6f7-93606ce5bb09",
   "metadata": {
    "scrolled": true
   },
   "outputs": [
    {
     "name": "stdout",
     "output_type": "stream",
     "text": [
      "{'charge': 1.0, 'H': 1.0}\n"
     ]
    },
    {
     "data": {
      "text/html": [
       "\n",
       "        <table>\n",
       "            <tr>\n",
       "                <td><strong>Reaction identifier</strong></td><td>GLYCLTDy</td>\n",
       "            </tr><tr>\n",
       "                <td><strong>Name</strong></td><td>Glycolate dehydrogenase (NADP)</td>\n",
       "            </tr><tr>\n",
       "                <td><strong>Memory address</strong></td>\n",
       "                <td>0x01783df30760</td>\n",
       "            </tr><tr>\n",
       "                <td><strong>Stoichiometry</strong></td>\n",
       "                <td>\n",
       "                    <p style='text-align:right'>glx_c + nadph_c --> glyclt_c + nadp_c</p>\n",
       "                    <p style='text-align:right'>M_glx_c + M_nadph_c --> M_glyclt_c + M_nadp_c</p>\n",
       "                </td>\n",
       "            </tr><tr>\n",
       "                <td><strong>GPR</strong></td><td>NGO2043</td>\n",
       "            </tr><tr>\n",
       "                <td><strong>Lower bound</strong></td><td>0.0</td>\n",
       "            </tr><tr>\n",
       "                <td><strong>Upper bound</strong></td><td>1000.0</td>\n",
       "            </tr>\n",
       "        </table>\n",
       "        "
      ],
      "text/plain": [
       "<Reaction GLYCLTDy at 0x1783df30760>"
      ]
     },
     "execution_count": 77,
     "metadata": {},
     "output_type": "execute_result"
    }
   ],
   "source": [
    "#GLYCLTDy\n",
    "r = model.reactions.get_by_id('GLYCLTDy')\n",
    "print(r.check_mass_balance())\n",
    "r"
   ]
  },
  {
   "cell_type": "code",
   "execution_count": 78,
   "id": "e84b44d8-e345-49f7-a59a-bf0be2c4f584",
   "metadata": {
    "scrolled": true
   },
   "outputs": [
    {
     "name": "stdout",
     "output_type": "stream",
     "text": [
      "GLYCLTDy: glx_c + h_c + nadph_c --> glyclt_c + nadp_c\n",
      "{}\n"
     ]
    }
   ],
   "source": [
    "h_c = model.metabolites.get_by_id('h_c')\n",
    "\n",
    "\n",
    "\n",
    "r.add_metabolites({\n",
    "    h_c: -1,\n",
    "})\n",
    "\n",
    "print(r)\n",
    "print(r.check_mass_balance())"
   ]
  },
  {
   "cell_type": "code",
   "execution_count": 79,
   "id": "1202538f-8719-4f22-a95b-4686857853a8",
   "metadata": {
    "scrolled": true
   },
   "outputs": [
    {
     "name": "stdout",
     "output_type": "stream",
     "text": [
      "{'charge': 1.0, 'H': -1.0}\n"
     ]
    },
    {
     "data": {
      "text/html": [
       "\n",
       "        <table>\n",
       "            <tr>\n",
       "                <td><strong>Reaction identifier</strong></td><td>H2AKGAL</td>\n",
       "            </tr><tr>\n",
       "                <td><strong>Name</strong></td><td>R_H2AKGAL</td>\n",
       "            </tr><tr>\n",
       "                <td><strong>Memory address</strong></td>\n",
       "                <td>0x01783df56dc0</td>\n",
       "            </tr><tr>\n",
       "                <td><strong>Stoichiometry</strong></td>\n",
       "                <td>\n",
       "                    <p style='text-align:right'>4h2oglt_c --> glx_c + h_c + pyr_c</p>\n",
       "                    <p style='text-align:right'>M_4h2oglt_c --> M_glx_c + M_h_c + M_pyr_c</p>\n",
       "                </td>\n",
       "            </tr><tr>\n",
       "                <td><strong>GPR</strong></td><td>NGO0713</td>\n",
       "            </tr><tr>\n",
       "                <td><strong>Lower bound</strong></td><td>0.0</td>\n",
       "            </tr><tr>\n",
       "                <td><strong>Upper bound</strong></td><td>1000.0</td>\n",
       "            </tr>\n",
       "        </table>\n",
       "        "
      ],
      "text/plain": [
       "<Reaction H2AKGAL at 0x1783df56dc0>"
      ]
     },
     "execution_count": 79,
     "metadata": {},
     "output_type": "execute_result"
    }
   ],
   "source": [
    "#H2AKGAL\n",
    "r = model.reactions.get_by_id('H2AKGAL')\n",
    "print(r.check_mass_balance())\n",
    "r"
   ]
  },
  {
   "cell_type": "code",
   "execution_count": 80,
   "id": "9f19ad64-3563-4a5d-b9a9-3293b7fe316d",
   "metadata": {
    "scrolled": true
   },
   "outputs": [
    {
     "name": "stdout",
     "output_type": "stream",
     "text": [
      "DDPGA: 4h2oglt_c --> glx_c + pyr_c\n",
      "{}\n"
     ]
    }
   ],
   "source": [
    "#H2AKGAL is not consistent with the bigg name for this same reaction. Corrected name to DDPGA. \n",
    "#Similarly, the protenation of 4h2oglt_c was used from kegg, which is incorrect for neutral ph.\n",
    "#corrected to the formula from bigg. And removed the now unnecessary hydrogens from the reaction.\n",
    "r.id  ='DDPGA'\n",
    "r.name ='R_DDPGA'\n",
    "model.metabolites.get_by_id('4h2oglt_c').formula = 'C5H4O6'\n",
    "h_c = model.metabolites.get_by_id('h_c')\n",
    "\n",
    "\n",
    "\n",
    "r.add_metabolites({\n",
    "    h_c: -1.0,\n",
    "})\n",
    "\n",
    "print(r)\n",
    "print(r.check_mass_balance())"
   ]
  },
  {
   "cell_type": "code",
   "execution_count": 81,
   "id": "2eca9313-9b46-490e-9f8b-d1bbc751b831",
   "metadata": {
    "scrolled": true
   },
   "outputs": [
    {
     "name": "stdout",
     "output_type": "stream",
     "text": [
      "{'charge': 1.0}\n"
     ]
    },
    {
     "data": {
      "text/html": [
       "\n",
       "        <table>\n",
       "            <tr>\n",
       "                <td><strong>Reaction identifier</strong></td><td>HGTA</td>\n",
       "            </tr><tr>\n",
       "                <td><strong>Name</strong></td><td>R_HGTA</td>\n",
       "            </tr><tr>\n",
       "                <td><strong>Memory address</strong></td>\n",
       "                <td>0x01783df6bf70</td>\n",
       "            </tr><tr>\n",
       "                <td><strong>Stoichiometry</strong></td>\n",
       "                <td>\n",
       "                    <p style='text-align:right'>akg_c + e4hglu_c <=> 4h2oglt_c + glu_L_c + h_c</p>\n",
       "                    <p style='text-align:right'>M_akg_c + M_e4hglu_c <=> M_4h2oglt_c + M_glu_L_c + M_h_c</p>\n",
       "                </td>\n",
       "            </tr><tr>\n",
       "                <td><strong>GPR</strong></td><td>NGO1452</td>\n",
       "            </tr><tr>\n",
       "                <td><strong>Lower bound</strong></td><td>-1000.0</td>\n",
       "            </tr><tr>\n",
       "                <td><strong>Upper bound</strong></td><td>1000.0</td>\n",
       "            </tr>\n",
       "        </table>\n",
       "        "
      ],
      "text/plain": [
       "<Reaction HGTA at 0x1783df6bf70>"
      ]
     },
     "execution_count": 81,
     "metadata": {},
     "output_type": "execute_result"
    }
   ],
   "source": [
    "#HGTA\n",
    "r = model.reactions.get_by_id('HGTA')\n",
    "print(r.check_mass_balance())\n",
    "r"
   ]
  },
  {
   "cell_type": "code",
   "execution_count": 82,
   "id": "ac7fe7db-d087-4254-9764-9dbff2f33c0f",
   "metadata": {
    "scrolled": true
   },
   "outputs": [
    {
     "name": "stdout",
     "output_type": "stream",
     "text": [
      "EHGLAT: akg_c + e4hglu_c <=> 4h2oglt_c + glu_L_c\n",
      "{}\n"
     ]
    }
   ],
   "source": [
    "#HGTA is not consistent with the bigg name for this same reaction. Corrected name to EHGLAT. \n",
    "#Similarly, the protenation of e4hglu_c was used from kegg, which is incorrect for neutral ph.\n",
    "#corrected to the formula from bigg. And removed the now unnecessary hydrogens from the reaction.\n",
    "r.id  ='EHGLAT'\n",
    "r.name ='R_EHGLAT'\n",
    "model.metabolites.get_by_id('e4hglu_c').formula = 'C5H8NO5'\n",
    "h_c = model.metabolites.get_by_id('h_c')\n",
    "\n",
    "\n",
    "\n",
    "r.add_metabolites({\n",
    "    h_c: -1.0,\n",
    "})\n",
    "\n",
    "print(r)\n",
    "print(r.check_mass_balance())"
   ]
  },
  {
   "cell_type": "code",
   "execution_count": 83,
   "id": "02edee35-1c16-4626-98ad-6f32cd9e3bd4",
   "metadata": {},
   "outputs": [
    {
     "data": {
      "text/html": [
       "<strong><em>Optimal</em> solution with objective value 0.268</strong><br><div>\n",
       "<style scoped>\n",
       "    .dataframe tbody tr th:only-of-type {\n",
       "        vertical-align: middle;\n",
       "    }\n",
       "\n",
       "    .dataframe tbody tr th {\n",
       "        vertical-align: top;\n",
       "    }\n",
       "\n",
       "    .dataframe thead th {\n",
       "        text-align: right;\n",
       "    }\n",
       "</style>\n",
       "<table border=\"1\" class=\"dataframe\">\n",
       "  <thead>\n",
       "    <tr style=\"text-align: right;\">\n",
       "      <th></th>\n",
       "      <th>fluxes</th>\n",
       "      <th>reduced_costs</th>\n",
       "    </tr>\n",
       "  </thead>\n",
       "  <tbody>\n",
       "    <tr>\n",
       "      <th>12DGR120tipp</th>\n",
       "      <td>0.000000</td>\n",
       "      <td>0.000000e+00</td>\n",
       "    </tr>\n",
       "    <tr>\n",
       "      <th>12DGR140tipp</th>\n",
       "      <td>0.000000</td>\n",
       "      <td>0.000000e+00</td>\n",
       "    </tr>\n",
       "    <tr>\n",
       "      <th>12DGR141tipp</th>\n",
       "      <td>0.000000</td>\n",
       "      <td>0.000000e+00</td>\n",
       "    </tr>\n",
       "    <tr>\n",
       "      <th>12DGR160tipp</th>\n",
       "      <td>0.000000</td>\n",
       "      <td>0.000000e+00</td>\n",
       "    </tr>\n",
       "    <tr>\n",
       "      <th>12DGR161tipp</th>\n",
       "      <td>0.000000</td>\n",
       "      <td>0.000000e+00</td>\n",
       "    </tr>\n",
       "    <tr>\n",
       "      <th>...</th>\n",
       "      <td>...</td>\n",
       "      <td>...</td>\n",
       "    </tr>\n",
       "    <tr>\n",
       "      <th>LDH_D2</th>\n",
       "      <td>0.000000</td>\n",
       "      <td>1.054378e-15</td>\n",
       "    </tr>\n",
       "    <tr>\n",
       "      <th>CYSTINEabcpp</th>\n",
       "      <td>0.000000</td>\n",
       "      <td>-0.000000e+00</td>\n",
       "    </tr>\n",
       "    <tr>\n",
       "      <th>EX_cystine_L_</th>\n",
       "      <td>0.000000</td>\n",
       "      <td>0.000000e+00</td>\n",
       "    </tr>\n",
       "    <tr>\n",
       "      <th>CYSR</th>\n",
       "      <td>0.000000</td>\n",
       "      <td>-0.000000e+00</td>\n",
       "    </tr>\n",
       "    <tr>\n",
       "      <th>EX_apoACP_c_</th>\n",
       "      <td>-0.004662</td>\n",
       "      <td>0.000000e+00</td>\n",
       "    </tr>\n",
       "  </tbody>\n",
       "</table>\n",
       "<p>1505 rows × 2 columns</p>\n",
       "</div>"
      ],
      "text/plain": [
       "<Solution 0.268 at 0x1783ebf2220>"
      ]
     },
     "execution_count": 83,
     "metadata": {},
     "output_type": "execute_result"
    }
   ],
   "source": [
    "model.optimize()"
   ]
  },
  {
   "cell_type": "code",
   "execution_count": 84,
   "id": "28cea0b0-aecc-47aa-b61d-12001a333ef1",
   "metadata": {},
   "outputs": [
    {
     "data": {
      "text/html": [
       "\n",
       "        <table>\n",
       "            <tr>\n",
       "                <td><strong>Name</strong></td>\n",
       "                <td>iNGO_556</td>\n",
       "            </tr><tr>\n",
       "                <td><strong>Memory address</strong></td>\n",
       "                <td>0x01783cb76460</td>\n",
       "            </tr><tr>\n",
       "                <td><strong>Number of metabolites</strong></td>\n",
       "                <td>1338</td>\n",
       "            </tr><tr>\n",
       "                <td><strong>Number of reactions</strong></td>\n",
       "                <td>1505</td>\n",
       "            </tr><tr>\n",
       "                <td><strong>Number of groups</strong></td>\n",
       "                <td>0</td>\n",
       "            </tr><tr>\n",
       "                <td><strong>Objective expression</strong></td>\n",
       "                <td>1.0*Nm_Ess_biomass - 1.0*Nm_Ess_biomass_reverse_46af5</td>\n",
       "            </tr><tr>\n",
       "                <td><strong>Compartments</strong></td>\n",
       "                <td>periplasm, cytoplasm, extracellular</td>\n",
       "            </tr>\n",
       "          </table>"
      ],
      "text/plain": [
       "<Model iNGO_556 at 0x1783cb76460>"
      ]
     },
     "execution_count": 84,
     "metadata": {},
     "output_type": "execute_result"
    }
   ],
   "source": [
    "model"
   ]
  },
  {
   "cell_type": "code",
   "execution_count": 85,
   "id": "db7f70b4-140f-482e-bbac-db430fbde1b1",
   "metadata": {
    "scrolled": true
   },
   "outputs": [
    {
     "name": "stdout",
     "output_type": "stream",
     "text": [
      "{'charge': -1.0, 'H': -1.0}\n"
     ]
    },
    {
     "data": {
      "text/html": [
       "\n",
       "        <table>\n",
       "            <tr>\n",
       "                <td><strong>Reaction identifier</strong></td><td>HMT</td>\n",
       "            </tr><tr>\n",
       "                <td><strong>Name</strong></td><td>R_HMT</td>\n",
       "            </tr><tr>\n",
       "                <td><strong>Memory address</strong></td>\n",
       "                <td>0x01783df7dca0</td>\n",
       "            </tr><tr>\n",
       "                <td><strong>Stoichiometry</strong></td>\n",
       "                <td>\n",
       "                    <p style='text-align:right'>amet_c + his_L_c --> ahcys_c + mhis_c</p>\n",
       "                    <p style='text-align:right'>M_amet_c + M_his_L_c --> M_ahcys_c + M_mhis_c</p>\n",
       "                </td>\n",
       "            </tr><tr>\n",
       "                <td><strong>GPR</strong></td><td>NGO0746</td>\n",
       "            </tr><tr>\n",
       "                <td><strong>Lower bound</strong></td><td>0.0</td>\n",
       "            </tr><tr>\n",
       "                <td><strong>Upper bound</strong></td><td>1000.0</td>\n",
       "            </tr>\n",
       "        </table>\n",
       "        "
      ],
      "text/plain": [
       "<Reaction HMT at 0x1783df7dca0>"
      ]
     },
     "execution_count": 85,
     "metadata": {},
     "output_type": "execute_result"
    }
   ],
   "source": [
    "#HMT\n",
    "r = model.reactions.get_by_id('HMT')\n",
    "print(r.check_mass_balance())\n",
    "r"
   ]
  },
  {
   "cell_type": "code",
   "execution_count": 86,
   "id": "4915cb29-8cd7-4972-897e-5eb78b5704c1",
   "metadata": {
    "scrolled": true
   },
   "outputs": [
    {
     "name": "stderr",
     "output_type": "stream",
     "text": [
      "C:\\Users\\Aimee\\anaconda3\\lib\\site-packages\\cobra\\core\\model.py:727: UserWarning: need to pass in a list\n",
      "  warn(\"need to pass in a list\")\n",
      "C:\\Users\\Aimee\\anaconda3\\lib\\site-packages\\cobra\\core\\model.py:738: UserWarning: r not in iNGO_556\n",
      "  warn(\"%s not in %s\" % (reaction, self))\n"
     ]
    }
   ],
   "source": [
    "model.remove_reactions('r')"
   ]
  },
  {
   "cell_type": "code",
   "execution_count": 87,
   "id": "78bb0917-3451-462e-b4e2-91073bae25e7",
   "metadata": {
    "scrolled": true
   },
   "outputs": [
    {
     "name": "stdout",
     "output_type": "stream",
     "text": [
      "{'charge': -3.0, 'H': -3.0}\n"
     ]
    },
    {
     "data": {
      "text/html": [
       "\n",
       "        <table>\n",
       "            <tr>\n",
       "                <td><strong>Reaction identifier</strong></td><td>MCITS</td>\n",
       "            </tr><tr>\n",
       "                <td><strong>Name</strong></td><td>2-methylcitrate synthase</td>\n",
       "            </tr><tr>\n",
       "                <td><strong>Memory address</strong></td>\n",
       "                <td>0x01783e000a30</td>\n",
       "            </tr><tr>\n",
       "                <td><strong>Stoichiometry</strong></td>\n",
       "                <td>\n",
       "                    <p style='text-align:right'>h2o_c + 2.0 h_c + oaa_c + ppcoa_c --> 2mcit_c + coa_c</p>\n",
       "                    <p style='text-align:right'>M_h2o_c + 2.0 M_h_c + M_oaa_c + M_ppcoa_c --> M_2mcit_c + M_coa_c</p>\n",
       "                </td>\n",
       "            </tr><tr>\n",
       "                <td><strong>GPR</strong></td><td>NGO1525</td>\n",
       "            </tr><tr>\n",
       "                <td><strong>Lower bound</strong></td><td>0.0</td>\n",
       "            </tr><tr>\n",
       "                <td><strong>Upper bound</strong></td><td>1000.0</td>\n",
       "            </tr>\n",
       "        </table>\n",
       "        "
      ],
      "text/plain": [
       "<Reaction MCITS at 0x1783e000a30>"
      ]
     },
     "execution_count": 87,
     "metadata": {},
     "output_type": "execute_result"
    }
   ],
   "source": [
    "#MCITS\n",
    "r = model.reactions.get_by_id('MCITS')\n",
    "print(r.check_mass_balance())\n",
    "r"
   ]
  },
  {
   "cell_type": "code",
   "execution_count": 88,
   "id": "d6f4cf32-8b84-4cd3-b3da-0d53e08213aa",
   "metadata": {
    "scrolled": true
   },
   "outputs": [
    {
     "name": "stdout",
     "output_type": "stream",
     "text": [
      "MCITS: h2o_c + oaa_c + ppcoa_c --> 2mcit_c + coa_c + h_c\n",
      "{}\n"
     ]
    }
   ],
   "source": [
    "h_c = model.metabolites.get_by_id('h_c')\n",
    "\n",
    "r.add_metabolites({\n",
    "    h_c: 3.0,\n",
    "})\n",
    "\n",
    "print(r)\n",
    "print(r.check_mass_balance())"
   ]
  },
  {
   "cell_type": "code",
   "execution_count": 89,
   "id": "369332d6-8ced-46bb-ad7c-1439d0d35304",
   "metadata": {
    "scrolled": true
   },
   "outputs": [
    {
     "name": "stdout",
     "output_type": "stream",
     "text": [
      "{'charge': -1.0, 'H': -3.0, 'O': 1.0}\n"
     ]
    },
    {
     "data": {
      "text/html": [
       "\n",
       "        <table>\n",
       "            <tr>\n",
       "                <td><strong>Reaction identifier</strong></td><td>MTHF</td>\n",
       "            </tr><tr>\n",
       "                <td><strong>Name</strong></td><td>R_MTHF</td>\n",
       "            </tr><tr>\n",
       "                <td><strong>Memory address</strong></td>\n",
       "                <td>0x01783e042e50</td>\n",
       "            </tr><tr>\n",
       "                <td><strong>Stoichiometry</strong></td>\n",
       "                <td>\n",
       "                    <p style='text-align:right'>5mthf_c --> 10fthf_c</p>\n",
       "                    <p style='text-align:right'>M_5mthf_c --> M_10fthf_c</p>\n",
       "                </td>\n",
       "            </tr><tr>\n",
       "                <td><strong>GPR</strong></td><td>Sgene</td>\n",
       "            </tr><tr>\n",
       "                <td><strong>Lower bound</strong></td><td>0.0</td>\n",
       "            </tr><tr>\n",
       "                <td><strong>Upper bound</strong></td><td>1000.0</td>\n",
       "            </tr>\n",
       "        </table>\n",
       "        "
      ],
      "text/plain": [
       "<Reaction MTHF at 0x1783e042e50>"
      ]
     },
     "execution_count": 89,
     "metadata": {},
     "output_type": "execute_result"
    }
   ],
   "source": [
    "#MTHF\n",
    "r = model.reactions.get_by_id('MTHF')\n",
    "print(r.check_mass_balance())\n",
    "r"
   ]
  },
  {
   "cell_type": "code",
   "execution_count": 90,
   "id": "174eaeef-cf3a-4a21-8aa7-f73cbb20e883",
   "metadata": {
    "scrolled": true
   },
   "outputs": [
    {
     "name": "stdout",
     "output_type": "stream",
     "text": [
      "MTHF: 5mthf_c + h2o_c + 2.0 nad_c --> 10fthf_c + 2.0 h_c + 2.0 nadh_c\n",
      "{}\n"
     ]
    }
   ],
   "source": [
    "#MTHF is a spontaneous reaction. Uncertain how frequently this occurs in nature. \n",
    "#Typically found in carbon fixation pathways in KEGG and in multistep, requiring NADH. https://www.kegg.jp/pathway/map00720+C00234\n",
    "#Added NADH here for mass and charge balance. \n",
    "#Corrected h2o and hydrogens.\n",
    "h_c = model.metabolites.get_by_id('h_c')\n",
    "h2o_c = model.metabolites.get_by_id('h2o_c')\n",
    "nad_c = model.metabolites.get_by_id('nad_c')\n",
    "nadh_c=model.metabolites.get_by_id('nadh_c')\n",
    "\n",
    "model.metabolites.get_by_id('5mthf_c').charge=-2\n",
    "model.metabolites.get_by_id('5mthf_c').formula= 'C20H23N7O6'\n",
    "\n",
    "r.add_metabolites({\n",
    "    h2o_c: -1.0,\n",
    "    h_c: 2.0,\n",
    "    nad_c: -2.0,\n",
    "    nadh_c: 2.0,\n",
    "})\n",
    "\n",
    "print(r)\n",
    "print(r.check_mass_balance())\n",
    "\n",
    "#Charge balance is off"
   ]
  },
  {
   "cell_type": "code",
   "execution_count": null,
   "id": "c200a4ec-afbc-4d0e-92a5-efd332095251",
   "metadata": {},
   "outputs": [],
   "source": []
  },
  {
   "cell_type": "code",
   "execution_count": 91,
   "id": "7e66cac9-76ed-45f6-a2e1-4324a84b12d9",
   "metadata": {
    "scrolled": true
   },
   "outputs": [
    {
     "name": "stdout",
     "output_type": "stream",
     "text": [
      "{'charge': 2.0000000011677344e-07, 'C': -1.6999999985500835e-06, 'H': -1.900000000887303e-06, 'N': -4.0000000023354687e-07, 'O': -8.999999998593466e-07, 'P': -1.0000000005838672e-07}\n"
     ]
    },
    {
     "data": {
      "text/html": [
       "\n",
       "        <table>\n",
       "            <tr>\n",
       "                <td><strong>Reaction identifier</strong></td><td>NADHQNa</td>\n",
       "            </tr><tr>\n",
       "                <td><strong>Name</strong></td><td>R_NADHQNa</td>\n",
       "            </tr><tr>\n",
       "                <td><strong>Memory address</strong></td>\n",
       "                <td>0x01783e0569a0</td>\n",
       "            </tr><tr>\n",
       "                <td><strong>Stoichiometry</strong></td>\n",
       "                <td>\n",
       "                    <p style='text-align:right'>1e-07 fmn_c + h_c + 2.0 na1_c + nadh_c + q8_c --> 2.0 na1_p + nad_c + q8h2_c</p>\n",
       "                    <p style='text-align:right'>1e-07 M_fmn_c + M_h_c + 2.0 M_na1_c + M_nadh_c + M_q8_c --> 2.0 M_na1_p + M_nad_c + M_q8h2_c</p>\n",
       "                </td>\n",
       "            </tr><tr>\n",
       "                <td><strong>GPR</strong></td><td>NGO1418 and NGO1417 and NGO1416 and NGO1415 and NGO1414 and NGO1413</td>\n",
       "            </tr><tr>\n",
       "                <td><strong>Lower bound</strong></td><td>0.0</td>\n",
       "            </tr><tr>\n",
       "                <td><strong>Upper bound</strong></td><td>1000.0</td>\n",
       "            </tr>\n",
       "        </table>\n",
       "        "
      ],
      "text/plain": [
       "<Reaction NADHQNa at 0x1783e0569a0>"
      ]
     },
     "execution_count": 91,
     "metadata": {},
     "output_type": "execute_result"
    }
   ],
   "source": [
    "#NADHQNa\n",
    "r = model.reactions.get_by_id('NADHQNa')\n",
    "print(r.check_mass_balance())\n",
    "r"
   ]
  },
  {
   "cell_type": "code",
   "execution_count": 92,
   "id": "29049ef3-e630-4760-9686-7f002bc9b4d1",
   "metadata": {
    "scrolled": true
   },
   "outputs": [
    {
     "name": "stdout",
     "output_type": "stream",
     "text": [
      "NADHQNa: h_c + 2.0 na1_c + nadh_c + q8_c --> 2.0 na1_p + nad_c + q8h2_c\n",
      "{}\n"
     ]
    }
   ],
   "source": [
    "fmn_c = model.metabolites.get_by_id('fmn_c')\n",
    "\n",
    "\n",
    "r.add_metabolites({\n",
    "    fmn_c: 1e-07,\n",
    "})\n",
    "\n",
    "print(r)\n",
    "print(r.check_mass_balance())"
   ]
  },
  {
   "cell_type": "code",
   "execution_count": 93,
   "id": "21ad9464-b9ef-45d0-acb1-3b8283071302",
   "metadata": {
    "scrolled": true
   },
   "outputs": [
    {
     "name": "stdout",
     "output_type": "stream",
     "text": [
      "161 161 161\n"
     ]
    },
    {
     "data": {
      "text/html": [
       "<div>\n",
       "<style scoped>\n",
       "    .dataframe tbody tr th:only-of-type {\n",
       "        vertical-align: middle;\n",
       "    }\n",
       "\n",
       "    .dataframe tbody tr th {\n",
       "        vertical-align: top;\n",
       "    }\n",
       "\n",
       "    .dataframe thead th {\n",
       "        text-align: right;\n",
       "    }\n",
       "</style>\n",
       "<table border=\"1\" class=\"dataframe\">\n",
       "  <thead>\n",
       "    <tr style=\"text-align: right;\">\n",
       "      <th></th>\n",
       "      <th>Reactions</th>\n",
       "      <th>Charge</th>\n",
       "      <th>Masses</th>\n",
       "    </tr>\n",
       "  </thead>\n",
       "  <tbody>\n",
       "    <tr>\n",
       "      <th>0</th>\n",
       "      <td>3HAD140</td>\n",
       "      <td>-1.0</td>\n",
       "      <td>{}</td>\n",
       "    </tr>\n",
       "    <tr>\n",
       "      <th>1</th>\n",
       "      <td>3OAS161a</td>\n",
       "      <td>2.0</td>\n",
       "      <td>{'C': -12.0, 'H': -21.0, 'N': -2.0, 'O': -9.0,...</td>\n",
       "    </tr>\n",
       "    <tr>\n",
       "      <th>2</th>\n",
       "      <td>ACLS</td>\n",
       "      <td>1.0</td>\n",
       "      <td>{}</td>\n",
       "    </tr>\n",
       "    <tr>\n",
       "      <th>3</th>\n",
       "      <td>ADPT</td>\n",
       "      <td>-1.0</td>\n",
       "      <td>{}</td>\n",
       "    </tr>\n",
       "    <tr>\n",
       "      <th>4</th>\n",
       "      <td>AGPAT141b</td>\n",
       "      <td>2.0</td>\n",
       "      <td>{}</td>\n",
       "    </tr>\n",
       "    <tr>\n",
       "      <th>...</th>\n",
       "      <td>...</td>\n",
       "      <td>...</td>\n",
       "      <td>...</td>\n",
       "    </tr>\n",
       "    <tr>\n",
       "      <th>156</th>\n",
       "      <td>UPPRT</td>\n",
       "      <td>-1.0</td>\n",
       "      <td>{}</td>\n",
       "    </tr>\n",
       "    <tr>\n",
       "      <th>157</th>\n",
       "      <td>XPPT</td>\n",
       "      <td>-1.0</td>\n",
       "      <td>{}</td>\n",
       "    </tr>\n",
       "    <tr>\n",
       "      <th>158</th>\n",
       "      <td>XPRT</td>\n",
       "      <td>-1.0</td>\n",
       "      <td>{}</td>\n",
       "    </tr>\n",
       "    <tr>\n",
       "      <th>159</th>\n",
       "      <td>CYPOX</td>\n",
       "      <td>-2.0</td>\n",
       "      <td>{}</td>\n",
       "    </tr>\n",
       "    <tr>\n",
       "      <th>160</th>\n",
       "      <td>LDH_D2</td>\n",
       "      <td>-1.0</td>\n",
       "      <td>{}</td>\n",
       "    </tr>\n",
       "  </tbody>\n",
       "</table>\n",
       "<p>161 rows × 3 columns</p>\n",
       "</div>"
      ],
      "text/plain": [
       "     Reactions Charge                                             Masses\n",
       "0      3HAD140   -1.0                                                 {}\n",
       "1     3OAS161a    2.0  {'C': -12.0, 'H': -21.0, 'N': -2.0, 'O': -9.0,...\n",
       "2         ACLS    1.0                                                 {}\n",
       "3         ADPT   -1.0                                                 {}\n",
       "4    AGPAT141b    2.0                                                 {}\n",
       "..         ...    ...                                                ...\n",
       "156      UPPRT   -1.0                                                 {}\n",
       "157       XPPT   -1.0                                                 {}\n",
       "158       XPRT   -1.0                                                 {}\n",
       "159      CYPOX   -2.0                                                 {}\n",
       "160     LDH_D2   -1.0                                                 {}\n",
       "\n",
       "[161 rows x 3 columns]"
      ]
     },
     "execution_count": 93,
     "metadata": {},
     "output_type": "execute_result"
    }
   ],
   "source": [
    "#Imbalance progress\n",
    "reactions = []\n",
    "charge = []\n",
    "mass = []\n",
    "for react in model.reactions:\n",
    "    result = react.check_mass_balance()\n",
    "    if 'EX_' in  react.id:\n",
    "        continue\n",
    "    if 'Nm_' in  react.id:\n",
    "        continue\n",
    "    if 'DM_' in  react.id:\n",
    "        continue \n",
    "    if react.id in biomass_reactions:\n",
    "        continue\n",
    "    if len(result) == 0:\n",
    "        continue\n",
    "    else: \n",
    "        reactions.append(react.id)\n",
    "        masses = {}\n",
    "        for key in result.keys():\n",
    "            if key == 'charge':\n",
    "                charge.append(result['charge'])\n",
    "            else:\n",
    "                masses[key] = result[key]\n",
    "        if 'charge' not in result.keys():\n",
    "            charge.append('')\n",
    "        mass.append(masses)\n",
    "print(len(reactions), len(charge), len(mass))\n",
    "\n",
    "mass_charge_dict = {'Reactions': reactions, 'Charge': charge, 'Masses': mass}\n",
    "mass_charge = pandas.DataFrame(mass_charge_dict)\n",
    "mass_charge.to_csv('imbalancesprogress.csv')\n",
    "mass_charge"
   ]
  },
  {
   "cell_type": "code",
   "execution_count": 94,
   "id": "ee9071b1-79bd-40df-afe5-70c833c8353e",
   "metadata": {},
   "outputs": [
    {
     "data": {
      "text/plain": [
       "0.26787001097449664"
      ]
     },
     "execution_count": 94,
     "metadata": {},
     "output_type": "execute_result"
    }
   ],
   "source": [
    "model.slim_optimize()"
   ]
  },
  {
   "cell_type": "code",
   "execution_count": 95,
   "id": "aca03610-c167-4331-be42-f9f18f6b837d",
   "metadata": {
    "scrolled": true
   },
   "outputs": [
    {
     "name": "stdout",
     "output_type": "stream",
     "text": [
      "PLIPIDS: 0.001857 pa120_p + 0.001157 pa140_p + 0.001202 pa141_p + 0.003838 pa160_p + 0.006675 pa161_p + 0.000484 pa180_p + 0.0008971 pa181_p + 0.004466 pe120_p + 0.010539 pe140_p + 0.002913 pe141_p + 0.004721 pe141b_p + 0.009371 pe160_p + 0.01007 pe160a_p + 0.02591 pe160c_p + 0.0186 pe160e_p + 0.01562 pe161_p + 0.001189 pe180_p + 0.022 pe181_p + 0.001551 pg120_p + 0.001283 pg140_p + 0.001016 pg141_p + 0.001668 pg141b_p + 0.003285 pg160_p + 0.002712 pg160a_p + 0.001644 pg160b_p + 0.006129 pg160c_p + 0.006099 pg161_p + 0.000418 pg180_p + 0.000774 pg181_p <=> 0.1483 lipid_NM_p\n"
     ]
    }
   ],
   "source": [
    "r= model.reactions.get_by_id('PLIPIDS')\n",
    "print(r)"
   ]
  },
  {
   "cell_type": "code",
   "execution_count": 96,
   "id": "8f2617dd-aeb4-490b-8ef8-fe336bb8c17b",
   "metadata": {
    "scrolled": true
   },
   "outputs": [
    {
     "name": "stdout",
     "output_type": "stream",
     "text": [
      "PLIPIDS: 0.000503555042155509 pa120_p + 0.000371731800974898 pa141_p + 0.00207597350252432 pa160_p + 0.00564538392418283 pa161_p + 0.000290080640591335 pa180_p + 0.00216477129604764 pa181_p + 0.00234345993674653 pe120_p + 0.0025598346977071 pe140_p + 0.00821977537556325 pe141_p + 0.055748823259178 pe160_p + 0.0255682154771119 pe161_p + 0.00137834776769998 pe180_p + 0.0102822273478348 pe181_p + 0.000703620745734723 pg120_p + 3.03207570481577e-05 pg140_p + 0.00290595573235281 pg141_p + 0.0122303684865845 pg160_p + 0.00862596402374158 pg161_p + 0.000418944804169265 pg180_p + 0.00312454317572049 pg181_p <=> 0.1483 lipid_NM_p\n"
     ]
    }
   ],
   "source": [
    "#Phospholipids adjusted for Gc specific values based on \"Biomass composition from nmb_itm560 updated for Gc\" spreadsheet\n",
    "r= model.reactions.get_by_id('PLIPIDS')\n",
    "\n",
    "pe141b_p= model.metabolites.get_by_id('pe141b_p')\n",
    "pe160a_p= model.metabolites.get_by_id('pe160a_p')\n",
    "pe160c_p= model.metabolites.get_by_id('pe160c_p')\n",
    "pe160e_p= model.metabolites.get_by_id('pe160e_p')\n",
    "pg141b_p= model.metabolites.get_by_id('pg141b_p')\n",
    "pg160a_p= model.metabolites.get_by_id('pg160a_p')\n",
    "pg160b_p= model.metabolites.get_by_id('pg160b_p')\n",
    "pg160c_p= model.metabolites.get_by_id('pg160c_p')\n",
    "\n",
    "pa120_p= model.metabolites.get_by_id('pa120_p')\n",
    "pa140_p= model.metabolites.get_by_id('pa140_p')\n",
    "pa141_p= model.metabolites.get_by_id('pa141_p')\n",
    "pa160_p= model.metabolites.get_by_id('pa160_p')\n",
    "pa161_p= model.metabolites.get_by_id('pa161_p')\n",
    "pa180_p= model.metabolites.get_by_id('pa180_p')\n",
    "pa181_p= model.metabolites.get_by_id('pa181_p')\n",
    "\n",
    "pe120_p= model.metabolites.get_by_id('pe120_p')\n",
    "pe140_p= model.metabolites.get_by_id('pe140_p')\n",
    "pe141_p= model.metabolites.get_by_id('pe141_p')\n",
    "pe160_p= model.metabolites.get_by_id('pe160_p')\n",
    "pe161_p= model.metabolites.get_by_id('pe161_p')\n",
    "pe180_p= model.metabolites.get_by_id('pe180_p')\n",
    "pe181_p= model.metabolites.get_by_id('pe181_p')\n",
    "\n",
    "pg120_p= model.metabolites.get_by_id('pg120_p')\n",
    "pg140_p= model.metabolites.get_by_id('pg140_p')\n",
    "pg141_p= model.metabolites.get_by_id('pg141_p')\n",
    "pg160_p= model.metabolites.get_by_id('pg160_p')\n",
    "pg161_p= model.metabolites.get_by_id('pg161_p')\n",
    "pg180_p= model.metabolites.get_by_id('pg180_p')\n",
    "pg181_p= model.metabolites.get_by_id('pg181_p')\n",
    "\n",
    "\n",
    "r.add_metabolites({\n",
    " \n",
    "    pa120_p:  0.001857, \n",
    "    pa140_p: 0.001157 ,\n",
    "    pa160_p: 0.003838,\n",
    "    pa180_p:  0.000484,\n",
    "    pa141_p: 0.001202 ,\n",
    "    pa161_p: 0.006675,\n",
    "    pa181_p: 0.0008971, \n",
    "    pe120_p: 0.004466 ,\n",
    "    pe140_p: 0.010539 ,\n",
    "    pe141b_p: 0.004721, \n",
    "    pe160_p: 0.009371 ,\n",
    "    pe160a_p: 0.01007 ,\n",
    "    pe160c_p: 0.02591 ,\n",
    "    pe160e_p: 0.0186,\n",
    "    pe180_p: 0.001189, \n",
    "    pe141_p: 0.002913 ,\n",
    "    pe161_p: 0.01562 ,\n",
    "    pe181_p:  0.022 ,\n",
    "    pg120_p: 0.001551 ,\n",
    "    pg140_p: 0.001283 ,\n",
    "    pg160_p: 0.003285 ,\n",
    "    pg160a_p:  0.002712, \n",
    "    pg160b_p: 0.001644 ,\n",
    "    pg160c_p:  0.006129, \n",
    "    pg161_p: 0.006099 ,\n",
    "    pg181_p: 0.000774 ,\n",
    "    pg180_p: 0.000418 ,\n",
    "    pg141_p: 0.001016 ,\n",
    "    pg141b_p: 0.001668, })\n",
    "\n",
    "  \n",
    "r.add_metabolites({   \n",
    "    pa120_p: -0.000503555042155509,\n",
    "    pa160_p: -0.00207597350252432 ,\n",
    "    pa180_p: -0.000290080640591335,\n",
    "    pa141_p: -0.000371731800974898 ,\n",
    "    pa161_p: -0.00564538392418283 ,\n",
    "    pa181_p: -0.00216477129604764 ,\n",
    "    pe120_p: -0.00234345993674653 ,\n",
    "    pe140_p: -0.0025598346977071 ,\n",
    "    pe160_p: -0.055748823259178,\n",
    "    pe180_p: -0.00137834776769998,\n",
    "    pe141_p: -0.00821977537556325,\n",
    "    pe161_p: -0.0255682154771119,\n",
    "    pe181_p: -0.0102822273478348 ,\n",
    "    pg120_p: -0.000703620745734723,\n",
    "    pg140_p: -3.03207570481577E-05,\n",
    "    pg160_p: -0.0122303684865845,\n",
    "    pg180_p: -0.000418944804169265,\n",
    "    pg141_p: -0.00290595573235281,\n",
    "    pg161_p: -0.00862596402374158,\n",
    "    pg181_p: -0.00312454317572049,\n",
    "})\n",
    "\n",
    "print(r)"
   ]
  },
  {
   "cell_type": "code",
   "execution_count": 97,
   "id": "6be525c3-2309-4c47-9235-48e997077241",
   "metadata": {},
   "outputs": [
    {
     "data": {
      "text/plain": [
       "0.2678700109744889"
      ]
     },
     "execution_count": 97,
     "metadata": {},
     "output_type": "execute_result"
    }
   ],
   "source": [
    "model.slim_optimize()"
   ]
  },
  {
   "cell_type": "code",
   "execution_count": 98,
   "id": "cd159973-fb34-40db-8249-18d3dfbc54a2",
   "metadata": {},
   "outputs": [
    {
     "data": {
      "text/html": [
       "\n",
       "        <table>\n",
       "            <tr>\n",
       "                <td><strong>Name</strong></td>\n",
       "                <td>iNGO_556</td>\n",
       "            </tr><tr>\n",
       "                <td><strong>Memory address</strong></td>\n",
       "                <td>0x01783cb76460</td>\n",
       "            </tr><tr>\n",
       "                <td><strong>Number of metabolites</strong></td>\n",
       "                <td>1338</td>\n",
       "            </tr><tr>\n",
       "                <td><strong>Number of reactions</strong></td>\n",
       "                <td>1505</td>\n",
       "            </tr><tr>\n",
       "                <td><strong>Number of groups</strong></td>\n",
       "                <td>0</td>\n",
       "            </tr><tr>\n",
       "                <td><strong>Objective expression</strong></td>\n",
       "                <td>1.0*Nm_Ess_biomass - 1.0*Nm_Ess_biomass_reverse_46af5</td>\n",
       "            </tr><tr>\n",
       "                <td><strong>Compartments</strong></td>\n",
       "                <td>periplasm, cytoplasm, extracellular</td>\n",
       "            </tr>\n",
       "          </table>"
      ],
      "text/plain": [
       "<Model iNGO_556 at 0x1783cb76460>"
      ]
     },
     "execution_count": 98,
     "metadata": {},
     "output_type": "execute_result"
    }
   ],
   "source": [
    "model"
   ]
  },
  {
   "cell_type": "code",
   "execution_count": 99,
   "id": "a8053d8e-9a37-40c8-9636-0d5578de8504",
   "metadata": {},
   "outputs": [
    {
     "name": "stdout",
     "output_type": "stream",
     "text": [
      "PLIPIDS_ESS: 0.001857 pa120_p + 0.001157 pa140_p + 0.001202 pa141_p + 0.003838 pa160_p + 0.006675 pa161_p + 0.000484 pa180_p + 0.0008971 pa181_p + 0.001551 pg120_p + 0.001283 pg140_p + 0.001016 pg141_p + 0.001668 pg141b_p + 0.003285 pg160_p + 0.002712 pg160a_p + 0.001644 pg160b_p + 0.006129 pg160c_p + 0.006099 pg161_p + 0.000418 pg180_p + 0.000774 pg181_p <=> 0.04269 esslipid_NM_p\n"
     ]
    }
   ],
   "source": [
    "r=model.reactions.get_by_id('PLIPIDS_ESS')\n",
    "print(r)"
   ]
  },
  {
   "cell_type": "code",
   "execution_count": 100,
   "id": "14a69ef9-336e-4dc4-a78c-112a71f739d6",
   "metadata": {
    "scrolled": true
   },
   "outputs": [
    {
     "name": "stdout",
     "output_type": "stream",
     "text": [
      "PLIPIDS_ESS: 0.000503555042155509 pa120_p + 0.000371731800974898 pa141_p + 0.00207597350252432 pa160_p + 0.00564538392418283 pa161_p + 0.000290080640591335 pa180_p + 0.00216477129604764 pa181_p + 0.000703620745734723 pg120_p + 3.03207570481577e-05 pg140_p + 0.00290595573235281 pg141_p + 0.0122303684865845 pg160_p + 0.00862596402374158 pg161_p + 0.000418944804169265 pg180_p + 0.00312454317572049 pg181_p <=> 0.04269 esslipid_NM_p\n"
     ]
    }
   ],
   "source": [
    "r= model.reactions.get_by_id('PLIPIDS_ESS')\n",
    "\n",
    "pg141b_p= model.metabolites.get_by_id('pg141b_p')\n",
    "pg160a_p= model.metabolites.get_by_id('pg160a_p')\n",
    "pg160b_p= model.metabolites.get_by_id('pg160b_p')\n",
    "pg160c_p= model.metabolites.get_by_id('pg160c_p')\n",
    "\n",
    "pe141b_p= model.metabolites.get_by_id('pe141b_p')\n",
    "pe160a_p= model.metabolites.get_by_id('pe160a_p')\n",
    "pe160c_p= model.metabolites.get_by_id('pe160c_p')\n",
    "pe160e_p= model.metabolites.get_by_id('pe160e_p')\n",
    "pg141b_p= model.metabolites.get_by_id('pg141b_p')\n",
    "pg160a_p= model.metabolites.get_by_id('pg160a_p')\n",
    "pg160b_p= model.metabolites.get_by_id('pg160b_p')\n",
    "pg160c_p= model.metabolites.get_by_id('pg160c_p')\n",
    "\n",
    "pa120_p= model.metabolites.get_by_id('pa120_p')\n",
    "pa140_p= model.metabolites.get_by_id('pa140_p')\n",
    "pa141_p= model.metabolites.get_by_id('pa141_p')\n",
    "pa160_p= model.metabolites.get_by_id('pa160_p')\n",
    "pa161_p= model.metabolites.get_by_id('pa161_p')\n",
    "pa180_p= model.metabolites.get_by_id('pa180_p')\n",
    "pa181_p= model.metabolites.get_by_id('pa181_p')\n",
    "\n",
    "pe120_p= model.metabolites.get_by_id('pe120_p')\n",
    "pe140_p= model.metabolites.get_by_id('pe140_p')\n",
    "pe141_p= model.metabolites.get_by_id('pe141_p')\n",
    "pe160_p= model.metabolites.get_by_id('pe160_p')\n",
    "pe161_p= model.metabolites.get_by_id('pe161_p')\n",
    "pe180_p= model.metabolites.get_by_id('pe180_p')\n",
    "pe181_p= model.metabolites.get_by_id('pe181_p')\n",
    "\n",
    "pg120_p= model.metabolites.get_by_id('pg120_p')\n",
    "pg140_p= model.metabolites.get_by_id('pg140_p')\n",
    "pg141_p= model.metabolites.get_by_id('pg141_p')\n",
    "pg160_p= model.metabolites.get_by_id('pg160_p')\n",
    "pg161_p= model.metabolites.get_by_id('pg161_p')\n",
    "pg180_p= model.metabolites.get_by_id('pg180_p')\n",
    "pg181_p= model.metabolites.get_by_id('pg181_p')\n",
    "\n",
    "\n",
    "r.add_metabolites({\n",
    " \n",
    "    pa120_p:  0.001857, \n",
    "    pa140_p: 0.001157 ,\n",
    "    pa141_p: 0.001202 ,\n",
    "    pa160_p: 0.003838,\n",
    "    pa161_p: 0.006675,\n",
    "    pa180_p:  0.000484,\n",
    "    pa181_p: 0.0008971, \n",
    "\n",
    "    pg120_p: 0.001551 ,\n",
    "    pg140_p: 0.001283 ,\n",
    "    pg160_p: 0.003285 ,\n",
    "    pg160a_p:  0.002712, \n",
    "    pg160b_p: 0.001644 ,\n",
    "    pg160c_p:  0.006129, \n",
    "    pg161_p: 0.006099 ,\n",
    "    pg181_p: 0.000774 ,\n",
    "    pg180_p: 0.000418 ,\n",
    "    pg141_p: 0.001016 ,\n",
    "    pg141b_p: 0.001668, })\n",
    "\n",
    "  \n",
    "r.add_metabolites({ \n",
    "    pa120_p: -0.000503555042155509,\n",
    "    \n",
    "    pa141_p: -0.000371731800974898 ,\n",
    "    pa160_p: -0.00207597350252432 ,\n",
    "    pa161_p: -0.00564538392418283 ,\n",
    "    pa180_p: -0.000290080640591335,\n",
    "    pa181_p: -0.00216477129604764 ,\n",
    "  \n",
    "    pg120_p: -0.000703620745734723,\n",
    "    pg140_p: -3.03207570481577E-05,\n",
    "    pg141_p: -0.00290595573235281,\n",
    "    pg160_p: -0.0122303684865845,\n",
    "    pg161_p: -0.00862596402374158,\n",
    "    pg180_p: -0.000418944804169265,\n",
    "    pg181_p: -0.00312454317572049, })\n",
    "\n",
    "print(r)"
   ]
  },
  {
   "cell_type": "code",
   "execution_count": 101,
   "id": "d1a8f108-6217-4efd-8b88-cdb012723d67",
   "metadata": {},
   "outputs": [
    {
     "data": {
      "text/plain": [
       "0.2636925192885218"
      ]
     },
     "execution_count": 101,
     "metadata": {},
     "output_type": "execute_result"
    }
   ],
   "source": [
    "model.slim_optimize()"
   ]
  },
  {
   "cell_type": "code",
   "execution_count": 102,
   "id": "b6982524-f681-4800-af7b-3b0362598501",
   "metadata": {},
   "outputs": [
    {
     "data": {
      "text/html": [
       "\n",
       "        <table>\n",
       "            <tr>\n",
       "                <td><strong>Name</strong></td>\n",
       "                <td>iNGO_556</td>\n",
       "            </tr><tr>\n",
       "                <td><strong>Memory address</strong></td>\n",
       "                <td>0x01783cb76460</td>\n",
       "            </tr><tr>\n",
       "                <td><strong>Number of metabolites</strong></td>\n",
       "                <td>1338</td>\n",
       "            </tr><tr>\n",
       "                <td><strong>Number of reactions</strong></td>\n",
       "                <td>1505</td>\n",
       "            </tr><tr>\n",
       "                <td><strong>Number of groups</strong></td>\n",
       "                <td>0</td>\n",
       "            </tr><tr>\n",
       "                <td><strong>Objective expression</strong></td>\n",
       "                <td>1.0*Nm_Ess_biomass - 1.0*Nm_Ess_biomass_reverse_46af5</td>\n",
       "            </tr><tr>\n",
       "                <td><strong>Compartments</strong></td>\n",
       "                <td>periplasm, cytoplasm, extracellular</td>\n",
       "            </tr>\n",
       "          </table>"
      ],
      "text/plain": [
       "<Model iNGO_556 at 0x1783cb76460>"
      ]
     },
     "execution_count": 102,
     "metadata": {},
     "output_type": "execute_result"
    }
   ],
   "source": [
    "model"
   ]
  },
  {
   "cell_type": "code",
   "execution_count": 103,
   "id": "0873ced3-a3c4-44a8-a06a-a20d7e73780c",
   "metadata": {
    "scrolled": true
   },
   "outputs": [
    {
     "name": "stderr",
     "output_type": "stream",
     "text": [
      "C:\\Users\\Aimee\\anaconda3\\lib\\site-packages\\cobra\\core\\model.py:727: UserWarning: need to pass in a list\n",
      "  warn(\"need to pass in a list\")\n"
     ]
    }
   ],
   "source": [
    "model.remove_reactions('AGPAT141b')\n",
    "#model.remove_reactions('AGPAT160a')\n",
    "model.remove_reactions('AGPAT160b')\n",
    "model.remove_reactions('AGPAT160c')\n",
    "model.remove_reactions('AGPAT160e')\n",
    "\n",
    "\n"
   ]
  },
  {
   "cell_type": "code",
   "execution_count": 104,
   "id": "0a8e36c3-6c28-42a7-9a31-ea12f48c20d9",
   "metadata": {},
   "outputs": [
    {
     "data": {
      "text/plain": [
       "0.26369251928851306"
      ]
     },
     "execution_count": 104,
     "metadata": {},
     "output_type": "execute_result"
    }
   ],
   "source": [
    "model.slim_optimize()"
   ]
  },
  {
   "cell_type": "code",
   "execution_count": 105,
   "id": "a4cc9844-b894-4436-9105-1efb9f1abb7a",
   "metadata": {},
   "outputs": [],
   "source": [
    "#model.remove_reactions('AGPAT161a')  can't be deleted. Makes pa161\n",
    "\n",
    "model.remove_reactions('DASYN160a')\n",
    "model.remove_reactions('DASYN160b')\n",
    "model.remove_reactions('DASYN160c')\n",
    "model.remove_reactions('DASYN160e')\n",
    "#model.remove_reactions('DASYN161a')\n",
    "model.remove_reactions('DASYN141b')\n",
    "\n"
   ]
  },
  {
   "cell_type": "code",
   "execution_count": 106,
   "id": "d16f48dd-c062-423e-b1b5-82a102c573d8",
   "metadata": {},
   "outputs": [
    {
     "data": {
      "text/plain": [
       "0.26369251928852017"
      ]
     },
     "execution_count": 106,
     "metadata": {},
     "output_type": "execute_result"
    }
   ],
   "source": [
    "model.slim_optimize()"
   ]
  },
  {
   "cell_type": "code",
   "execution_count": 107,
   "id": "ba5adfc1-0de6-4ae1-92b3-4331cbde23b8",
   "metadata": {},
   "outputs": [],
   "source": [
    "model.remove_reactions('PGPP141b')\n",
    "model.remove_reactions('PGPP160a')\n",
    "model.remove_reactions('PGPP160b')\n",
    "model.remove_reactions('PGPP160c')\n",
    "model.remove_reactions('PGPP160e')\n",
    "#model.remove_reactions('PGPP161a')"
   ]
  },
  {
   "cell_type": "code",
   "execution_count": 108,
   "id": "8168f266-22d4-4f8c-9682-a1c0136afda9",
   "metadata": {},
   "outputs": [
    {
     "data": {
      "text/plain": [
       "0.26369251928851534"
      ]
     },
     "execution_count": 108,
     "metadata": {},
     "output_type": "execute_result"
    }
   ],
   "source": [
    "model.slim_optimize()"
   ]
  },
  {
   "cell_type": "code",
   "execution_count": 109,
   "id": "04128b68-0a1b-405f-8c4a-2415188fb8e0",
   "metadata": {},
   "outputs": [],
   "source": [
    "model.remove_reactions('PGPP160app')\n",
    "model.remove_reactions('PGPP160bpp')\n",
    "model.remove_reactions('PGPP160cpp')\n",
    "model.remove_reactions('PGPP160epp')\n",
    "#model.remove_reactions('PGPP161app')\n",
    "model.remove_reactions('PGPP141bpp')"
   ]
  },
  {
   "cell_type": "code",
   "execution_count": 110,
   "id": "fef428b3-2cde-4723-bd61-a754a1171c58",
   "metadata": {},
   "outputs": [
    {
     "data": {
      "text/plain": [
       "0.26369251928851295"
      ]
     },
     "execution_count": 110,
     "metadata": {},
     "output_type": "execute_result"
    }
   ],
   "source": [
    "model.slim_optimize()"
   ]
  },
  {
   "cell_type": "code",
   "execution_count": 111,
   "id": "4b3902cc-1016-4c90-b9d8-4ae405dfd95e",
   "metadata": {},
   "outputs": [],
   "source": [
    "model.remove_reactions('PGSA160a')\n",
    "model.remove_reactions('PGSA160b')\n",
    "model.remove_reactions('PGSA160c')\n",
    "model.remove_reactions('PGSA160e')\n",
    "#model.remove_reactions('PGSA161a')\n",
    "model.remove_reactions('PGSA141b')"
   ]
  },
  {
   "cell_type": "code",
   "execution_count": 112,
   "id": "ee0f00db-c849-4a47-82c0-c511aa023a17",
   "metadata": {},
   "outputs": [
    {
     "data": {
      "text/plain": [
       "0.26369251928852183"
      ]
     },
     "execution_count": 112,
     "metadata": {},
     "output_type": "execute_result"
    }
   ],
   "source": [
    "model.slim_optimize()"
   ]
  },
  {
   "cell_type": "code",
   "execution_count": 113,
   "id": "2d3a9dcd-832c-4ce4-b2c5-705ce9809e41",
   "metadata": {},
   "outputs": [],
   "source": [
    "model.remove_reactions('PLIPA1A160a')\n",
    "model.remove_reactions('PLIPA1A160b')\n",
    "model.remove_reactions('PLIPA1A160c')\n",
    "model.remove_reactions('PLIPA1A160e')\n",
    "#model.remove_reactions('PLIPA1A161a')\n",
    "model.remove_reactions('PLIPA1A141b')"
   ]
  },
  {
   "cell_type": "code",
   "execution_count": 114,
   "id": "d8373725-fae2-4f3d-9641-5cfaa1d45a91",
   "metadata": {},
   "outputs": [
    {
     "data": {
      "text/plain": [
       "0.2636925192885188"
      ]
     },
     "execution_count": 114,
     "metadata": {},
     "output_type": "execute_result"
    }
   ],
   "source": [
    "model.slim_optimize()"
   ]
  },
  {
   "cell_type": "code",
   "execution_count": 115,
   "id": "5c4b7dd5-71d6-4949-aa29-26c7857758f7",
   "metadata": {},
   "outputs": [],
   "source": [
    "model.remove_reactions('PLIPA1E160a')\n",
    "model.remove_reactions('PLIPA1E160b')\n",
    "model.remove_reactions('PLIPA1E160c')\n",
    "model.remove_reactions('PLIPA1E160e')\n",
    "#model.remove_reactions('PLIPA1E161a')\n",
    "model.remove_reactions('PLIPA1E141b')"
   ]
  },
  {
   "cell_type": "code",
   "execution_count": 116,
   "id": "1259518a-519a-4bf9-8897-9e4e4212156b",
   "metadata": {},
   "outputs": [
    {
     "data": {
      "text/plain": [
       "0.263692519288515"
      ]
     },
     "execution_count": 116,
     "metadata": {},
     "output_type": "execute_result"
    }
   ],
   "source": [
    "model.slim_optimize()"
   ]
  },
  {
   "cell_type": "code",
   "execution_count": 117,
   "id": "d44971de-0c77-4988-8015-eef518120adf",
   "metadata": {},
   "outputs": [],
   "source": [
    "model.remove_reactions('PLIPA1G160a')\n",
    "model.remove_reactions('PLIPA1G160b')\n",
    "model.remove_reactions('PLIPA1G160c')\n",
    "model.remove_reactions('PLIPA1G160e')\n",
    "#model.remove_reactions('PLIPA1G161a')\n",
    "model.remove_reactions('PLIPA1G141b')"
   ]
  },
  {
   "cell_type": "code",
   "execution_count": 118,
   "id": "2abd6162-28c0-45e3-af57-542b4051f515",
   "metadata": {},
   "outputs": [
    {
     "data": {
      "text/plain": [
       "0.2636925192885159"
      ]
     },
     "execution_count": 118,
     "metadata": {},
     "output_type": "execute_result"
    }
   ],
   "source": [
    "model.slim_optimize()"
   ]
  },
  {
   "cell_type": "code",
   "execution_count": 119,
   "id": "60df9d93-edfa-4e66-bcb7-4fb09cbb463c",
   "metadata": {},
   "outputs": [],
   "source": [
    "model.remove_reactions('PSD160a')\n",
    "model.remove_reactions('PSD160b')\n",
    "model.remove_reactions('PSD160c')\n",
    "model.remove_reactions('PSD160e')\n",
    "#model.remove_reactions('PSD161a')\n",
    "model.remove_reactions('PSD141b')"
   ]
  },
  {
   "cell_type": "code",
   "execution_count": 120,
   "id": "7398d4d1-c85d-44d2-afec-ade2dff355ac",
   "metadata": {},
   "outputs": [
    {
     "data": {
      "text/plain": [
       "0.2636925192885208"
      ]
     },
     "execution_count": 120,
     "metadata": {},
     "output_type": "execute_result"
    }
   ],
   "source": [
    "model.slim_optimize()"
   ]
  },
  {
   "cell_type": "code",
   "execution_count": 121,
   "id": "371e569c-0025-4fe2-a2d8-dcde1d69531d",
   "metadata": {},
   "outputs": [],
   "source": [
    "model.remove_reactions('PSSA160a')\n",
    "model.remove_reactions('PSSA160b')\n",
    "model.remove_reactions('PSSA160c')\n",
    "model.remove_reactions('PSSA160e')\n",
    "#model.remove_reactions('PSSA161a')\n",
    "model.remove_reactions('PSSA141b')"
   ]
  },
  {
   "cell_type": "code",
   "execution_count": 122,
   "id": "84a53590-5aa2-4476-abac-d39ad4b66415",
   "metadata": {},
   "outputs": [
    {
     "data": {
      "text/plain": [
       "0.26369251928851495"
      ]
     },
     "execution_count": 122,
     "metadata": {},
     "output_type": "execute_result"
    }
   ],
   "source": [
    "model.slim_optimize()"
   ]
  },
  {
   "cell_type": "code",
   "execution_count": 123,
   "id": "7d318422-b501-4281-bafd-04f7adb6410a",
   "metadata": {},
   "outputs": [],
   "source": [
    "model.remove_reactions('2AGPA181atipp')"
   ]
  },
  {
   "cell_type": "code",
   "execution_count": 124,
   "id": "33bc9428-5846-48d4-9fae-64ac7a6aa5b6",
   "metadata": {},
   "outputs": [
    {
     "data": {
      "text/plain": [
       "0.26369251928851495"
      ]
     },
     "execution_count": 124,
     "metadata": {},
     "output_type": "execute_result"
    }
   ],
   "source": [
    "model.slim_optimize()"
   ]
  },
  {
   "cell_type": "code",
   "execution_count": 125,
   "id": "f2d728b2-1a96-43b8-b4fe-aa490702299c",
   "metadata": {},
   "outputs": [],
   "source": [
    "model.remove_reactions('PA141babcpp')\n",
    "model.remove_reactions('PA160aabcpp')\n",
    "model.remove_reactions('PA160babcpp')\n",
    "model.remove_reactions('PA160cabcpp')\n",
    "model.remove_reactions('PA160eabcpp')\n",
    "model.remove_reactions('PE160aabcpp')\n",
    "model.remove_reactions('PE160babcpp')\n",
    "model.remove_reactions('PE160cabcpp')\n",
    "model.remove_reactions('PE160eabcpp')\n",
    "model.remove_reactions('PG141babcpp')\n",
    "model.remove_reactions('PG160aabcpp')\n",
    "model.remove_reactions('PG160babcpp')\n",
    "model.remove_reactions('PG160cabcpp')\n",
    "model.remove_reactions('PG160eabcpp')"
   ]
  },
  {
   "cell_type": "code",
   "execution_count": 126,
   "id": "054ef24a-2db6-4e70-b22e-432b8ff338ca",
   "metadata": {},
   "outputs": [],
   "source": [
    "model.remove_reactions('PGP141babcpp')\n",
    "model.remove_reactions('PGP160aabcpp')\n",
    "model.remove_reactions('PGP160babcpp')\n",
    "model.remove_reactions('PGP160cabcpp')\n",
    "model.remove_reactions('PGP160eabcpp')"
   ]
  },
  {
   "cell_type": "code",
   "execution_count": 127,
   "id": "7157903e-ce9b-40c0-a436-db60a2ca0e9f",
   "metadata": {},
   "outputs": [
    {
     "data": {
      "text/plain": [
       "0.26369251928851467"
      ]
     },
     "execution_count": 127,
     "metadata": {},
     "output_type": "execute_result"
    }
   ],
   "source": [
    "model.slim_optimize()"
   ]
  },
  {
   "cell_type": "code",
   "execution_count": 128,
   "id": "799955bb-9c2e-4e35-b28e-8b8e35c429f3",
   "metadata": {
    "scrolled": true
   },
   "outputs": [
    {
     "name": "stdout",
     "output_type": "stream",
     "text": [
      "{'charge': -2.0, 'H': -2.0}\n"
     ]
    },
    {
     "data": {
      "text/html": [
       "\n",
       "        <table>\n",
       "            <tr>\n",
       "                <td><strong>Reaction identifier</strong></td><td>GARFT2</td>\n",
       "            </tr><tr>\n",
       "                <td><strong>Name</strong></td><td>R_GARFT2</td>\n",
       "            </tr><tr>\n",
       "                <td><strong>Memory address</strong></td>\n",
       "                <td>0x01783dee5dc0</td>\n",
       "            </tr><tr>\n",
       "                <td><strong>Stoichiometry</strong></td>\n",
       "                <td>\n",
       "                    <p style='text-align:right'>gar_c + h2o_c + methf_c --> fgam_c + thf_c</p>\n",
       "                    <p style='text-align:right'>M_gar_c + M_h2o_c + M_methf_c --> M_fgam_c + M_thf_c</p>\n",
       "                </td>\n",
       "            </tr><tr>\n",
       "                <td><strong>GPR</strong></td><td>NGO1224</td>\n",
       "            </tr><tr>\n",
       "                <td><strong>Lower bound</strong></td><td>0.0</td>\n",
       "            </tr><tr>\n",
       "                <td><strong>Upper bound</strong></td><td>1000.0</td>\n",
       "            </tr>\n",
       "        </table>\n",
       "        "
      ],
      "text/plain": [
       "<Reaction GARFT2 at 0x1783dee5dc0>"
      ]
     },
     "execution_count": 128,
     "metadata": {},
     "output_type": "execute_result"
    }
   ],
   "source": [
    "#GARFT2\n",
    "r = model.reactions.get_by_id('GARFT2')\n",
    "print(r.check_mass_balance())\n",
    "r"
   ]
  },
  {
   "cell_type": "code",
   "execution_count": 129,
   "id": "dd31d169-e11f-4e99-a5c0-00fd398247bb",
   "metadata": {
    "scrolled": true
   },
   "outputs": [
    {
     "name": "stdout",
     "output_type": "stream",
     "text": [
      "GARFT2: gar_c + h2o_c + methf_c --> fgam_c + 2.0 h_c + thf_c\n",
      "{}\n"
     ]
    }
   ],
   "source": [
    "h_c = model.metabolites.get_by_id('h_c')\n",
    "\n",
    "r.add_metabolites({\n",
    "    h_c: 2.0,\n",
    "})\n",
    "\n",
    "print(r)\n",
    "print(r.check_mass_balance())"
   ]
  },
  {
   "cell_type": "code",
   "execution_count": 130,
   "id": "4328a89f-a40d-4dc2-88f8-02d8144da586",
   "metadata": {
    "scrolled": true
   },
   "outputs": [
    {
     "data": {
      "text/plain": [
       "0.2636925192885187"
      ]
     },
     "execution_count": 130,
     "metadata": {},
     "output_type": "execute_result"
    }
   ],
   "source": [
    "model.slim_optimize()"
   ]
  },
  {
   "cell_type": "code",
   "execution_count": 131,
   "id": "1f0b8255-3e22-4633-b450-a0b9fc0b3632",
   "metadata": {
    "scrolled": true
   },
   "outputs": [
    {
     "name": "stdout",
     "output_type": "stream",
     "text": [
      "{'charge': -11.0, 'O': -5.0}\n"
     ]
    },
    {
     "data": {
      "text/html": [
       "\n",
       "        <table>\n",
       "            <tr>\n",
       "                <td><strong>Reaction identifier</strong></td><td>GLCTR1</td>\n",
       "            </tr><tr>\n",
       "                <td><strong>Name</strong></td><td>Glucosyltransferase I (LPS core synthesis)</td>\n",
       "            </tr><tr>\n",
       "                <td><strong>Memory address</strong></td>\n",
       "                <td>0x01783def8fa0</td>\n",
       "            </tr><tr>\n",
       "                <td><strong>Stoichiometry</strong></td>\n",
       "                <td>\n",
       "                    <p style='text-align:right'>peagnahhlipa_c + udpg_c --> h_c + icolipa_c + udp_c</p>\n",
       "                    <p style='text-align:right'>M_peagnahhlipa_c + M_udpg_c --> M_h_c + M_icolipa_c + M_udp_c</p>\n",
       "                </td>\n",
       "            </tr><tr>\n",
       "                <td><strong>GPR</strong></td><td>NGO1353</td>\n",
       "            </tr><tr>\n",
       "                <td><strong>Lower bound</strong></td><td>0.0</td>\n",
       "            </tr><tr>\n",
       "                <td><strong>Upper bound</strong></td><td>1000.0</td>\n",
       "            </tr>\n",
       "        </table>\n",
       "        "
      ],
      "text/plain": [
       "<Reaction GLCTR1 at 0x1783def8fa0>"
      ]
     },
     "execution_count": 131,
     "metadata": {},
     "output_type": "execute_result"
    }
   ],
   "source": [
    "#GLCTR1\n",
    "r1 = model.reactions.get_by_id('GLCTR1')\n",
    "print(r1.check_mass_balance())\n",
    "r1"
   ]
  },
  {
   "cell_type": "code",
   "execution_count": 132,
   "id": "70c6a0fc-f233-4648-89f5-b2f36f352915",
   "metadata": {
    "scrolled": true
   },
   "outputs": [
    {
     "name": "stdout",
     "output_type": "stream",
     "text": [
      "{'C': -11.0, 'H': -18.0, 'N': -1.0, 'O': -8.0}\n"
     ]
    },
    {
     "data": {
      "text/html": [
       "\n",
       "        <table>\n",
       "            <tr>\n",
       "                <td><strong>Reaction identifier</strong></td><td>SIALT1</td>\n",
       "            </tr><tr>\n",
       "                <td><strong>Name</strong></td><td>R_SIALT1</td>\n",
       "            </tr><tr>\n",
       "                <td><strong>Memory address</strong></td>\n",
       "                <td>0x01783e2cfc10</td>\n",
       "            </tr><tr>\n",
       "                <td><strong>Stoichiometry</strong></td>\n",
       "                <td>\n",
       "                    <p style='text-align:right'>cmpacna_c + galgnagalicolipa_c --> cmp_c + lps_NM_c</p>\n",
       "                    <p style='text-align:right'>M_cmpacna_c + M_galgnagalicolipa_c --> M_cmp_c + M_lps_NM_c</p>\n",
       "                </td>\n",
       "            </tr><tr>\n",
       "                <td><strong>GPR</strong></td><td>NGO1081</td>\n",
       "            </tr><tr>\n",
       "                <td><strong>Lower bound</strong></td><td>0.0</td>\n",
       "            </tr><tr>\n",
       "                <td><strong>Upper bound</strong></td><td>1000.0</td>\n",
       "            </tr>\n",
       "        </table>\n",
       "        "
      ],
      "text/plain": [
       "<Reaction SIALT1 at 0x1783e2cfc10>"
      ]
     },
     "execution_count": 132,
     "metadata": {},
     "output_type": "execute_result"
    }
   ],
   "source": [
    "#SIALT1\n",
    "r2 = model.reactions.get_by_id('SIALT1')\n",
    "print(r2.check_mass_balance())\n",
    "r2"
   ]
  },
  {
   "cell_type": "code",
   "execution_count": 133,
   "id": "ace485ca-36c5-4944-aeb2-41b37c30cd43",
   "metadata": {
    "scrolled": true
   },
   "outputs": [],
   "source": [
    "#rename LPS_NM to LOS_gc\n",
    "\n",
    "model.metabolites.get_by_id('lps_NM_c').id='los_GC_c'\n"
   ]
  },
  {
   "cell_type": "code",
   "execution_count": 134,
   "id": "cc6d6422-f609-4aac-8644-de7ef9848060",
   "metadata": {
    "scrolled": true
   },
   "outputs": [],
   "source": [
    "model.metabolites.get_by_id('los_GC_c').name='los_GC_c'"
   ]
  },
  {
   "cell_type": "code",
   "execution_count": 135,
   "id": "8a505dc5-5798-48fc-b58f-4cc224be041e",
   "metadata": {
    "scrolled": true
   },
   "outputs": [],
   "source": [
    "#rename LPS_NM to LOS_GC\n",
    "#Siaylation is not required for synthesis of LOS. Changed the \"LOS\" \n",
    "# designation to the the final unsialylated component. Renamed the sialylated LOS to \"Sialylated LOS\".\n",
    "model.metabolites.get_by_id('los_GC_c').id='sialylated_los_GC_c'\n",
    "model.metabolites.get_by_id('sialylated_los_GC_c').name='sialylated_los_GC_c'\n",
    "\n",
    "model.metabolites.get_by_id('galgnagalicolipa_c').id='los_GC_c'\n",
    "model.metabolites.get_by_id('los_GC_c').name='los_GC_c'"
   ]
  },
  {
   "cell_type": "code",
   "execution_count": 136,
   "id": "224eef1a-0e63-4a6f-b298-1cc741216460",
   "metadata": {
    "scrolled": true
   },
   "outputs": [],
   "source": [
    "#Remove export of LOS and associated extracellular LOS components.\n",
    "model.remove_reactions('LPS3tex')\n",
    "model.remove_reactions('LPS8tex')\n",
    "\n",
    "model.remove_metabolites(model.metabolites.get_by_id('galicolipa_e'))\n",
    "model.remove_metabolites(model.metabolites.get_by_id('lps_NM_e'))"
   ]
  },
  {
   "cell_type": "code",
   "execution_count": 137,
   "id": "e99b8065-7814-49a9-a198-807fdd293a35",
   "metadata": {
    "scrolled": true
   },
   "outputs": [
    {
     "name": "stdout",
     "output_type": "stream",
     "text": [
      "GLCTR1: peagnahhlipa_c + udpg_c --> h_c + icolipa_c + udp_c\n",
      "{'charge': -11.0}\n",
      "SIALT1: cmpacna_c + los_GC_c --> cmp_c + sialylated_los_GC_c\n",
      "{}\n"
     ]
    }
   ],
   "source": [
    "#For GLCTR1 - Formula for icolipa_c is incorrect. When glc is added to peagnahhlipa_c, the previous reaction did not add the oxygens. \n",
    "#The corresponding reactions in LOS synthesis all are also missing these 5 oxygens. This is corrected here.\n",
    "#Used structure diagrams here PMID: 11496013 and here PMID: 30873172 to determine proper formulas. \n",
    "\n",
    "#The reaction GLCTR1 corresponds to a bigg ID for a slightly different reaction in E.coli LPS biosynthesis. \n",
    "#This was left in place, but may need to be changed at a later time to avoid confusion.\n",
    "\n",
    "#Additionally for SIALT1 - LPS is sialylated, the NeuAC was not actually added to the structure for LPS.  \n",
    "#This is corrected here. Note this sialylation is on the alpha chain of LOS only, which is more common. Not on the beta chain.\n",
    "\n",
    "\n",
    "model.metabolites.get_by_id('icolipa_c').formula= 'C142H250N4O64P3'\n",
    "model.metabolites.get_by_id('galicolipa_c').formula= 'C148H260N4O69P3'\n",
    "model.metabolites.get_by_id('gnagalicolipa_c').formula= 'C159H275N4O89P4'\n",
    "model.metabolites.get_by_id('los_GC_c').formula= 'C165H285N3O94P4'\n",
    "\n",
    "model.metabolites.get_by_id('sialylated_los_GC_c').formula= 'C176H303N4O102P4'\n",
    "\n",
    "\n",
    "\n",
    "\n",
    "\n",
    "\n",
    "print(r1)\n",
    "print(r1.check_mass_balance())\n",
    "print(r2)\n",
    "print(r2.check_mass_balance())"
   ]
  },
  {
   "cell_type": "code",
   "execution_count": 138,
   "id": "c1bc3097-d8e5-4441-ac60-62ad04324d3f",
   "metadata": {},
   "outputs": [
    {
     "name": "stdout",
     "output_type": "stream",
     "text": [
      "GLCTR1: peagnahhlipa_c + udpg_c --> h_c + icolipa_c + udp_c\n",
      "{'charge': -1.0}\n"
     ]
    }
   ],
   "source": [
    "model.metabolites.peagnahhlipa_c.charge=-10\n",
    "print(r1)\n",
    "print(r1.check_mass_balance())"
   ]
  },
  {
   "cell_type": "code",
   "execution_count": 139,
   "id": "36c5f557-69ab-463e-8574-96a0d44fa5be",
   "metadata": {},
   "outputs": [
    {
     "data": {
      "text/plain": [
       "0.26369251928851717"
      ]
     },
     "execution_count": 139,
     "metadata": {},
     "output_type": "execute_result"
    }
   ],
   "source": [
    "model.slim_optimize()"
   ]
  },
  {
   "cell_type": "code",
   "execution_count": 140,
   "id": "d3962e9a-5ce1-43c7-8eea-710974a3040a",
   "metadata": {},
   "outputs": [
    {
     "data": {
      "text/html": [
       "\n",
       "        <table>\n",
       "            <tr>\n",
       "                <td><strong>Name</strong></td>\n",
       "                <td>iNGO_556</td>\n",
       "            </tr><tr>\n",
       "                <td><strong>Memory address</strong></td>\n",
       "                <td>0x01783cb76460</td>\n",
       "            </tr><tr>\n",
       "                <td><strong>Number of metabolites</strong></td>\n",
       "                <td>1336</td>\n",
       "            </tr><tr>\n",
       "                <td><strong>Number of reactions</strong></td>\n",
       "                <td>1434</td>\n",
       "            </tr><tr>\n",
       "                <td><strong>Number of groups</strong></td>\n",
       "                <td>0</td>\n",
       "            </tr><tr>\n",
       "                <td><strong>Objective expression</strong></td>\n",
       "                <td>1.0*Nm_Ess_biomass - 1.0*Nm_Ess_biomass_reverse_46af5</td>\n",
       "            </tr><tr>\n",
       "                <td><strong>Compartments</strong></td>\n",
       "                <td>periplasm, cytoplasm, extracellular</td>\n",
       "            </tr>\n",
       "          </table>"
      ],
      "text/plain": [
       "<Model iNGO_556 at 0x1783cb76460>"
      ]
     },
     "execution_count": 140,
     "metadata": {},
     "output_type": "execute_result"
    }
   ],
   "source": [
    "model"
   ]
  },
  {
   "cell_type": "code",
   "execution_count": 141,
   "id": "0ac94cd9-3024-4d7d-8a9a-596dd2d9fb83",
   "metadata": {
    "scrolled": true
   },
   "outputs": [
    {
     "data": {
      "text/html": [
       "\n",
       "        <table>\n",
       "            <tr>\n",
       "                <td><strong>Reaction identifier</strong></td><td>SIALT1</td>\n",
       "            </tr><tr>\n",
       "                <td><strong>Name</strong></td><td>R_SIALT1</td>\n",
       "            </tr><tr>\n",
       "                <td><strong>Memory address</strong></td>\n",
       "                <td>0x01783e2cfc10</td>\n",
       "            </tr><tr>\n",
       "                <td><strong>Stoichiometry</strong></td>\n",
       "                <td>\n",
       "                    <p style='text-align:right'>cmpacna_c + los_GC_c --> cmp_c + sialylated_los_GC_c</p>\n",
       "                    <p style='text-align:right'>M_cmpacna_c + los_GC_c --> M_cmp_c + sialylated_los_GC_c</p>\n",
       "                </td>\n",
       "            </tr><tr>\n",
       "                <td><strong>GPR</strong></td><td>NGO1081</td>\n",
       "            </tr><tr>\n",
       "                <td><strong>Lower bound</strong></td><td>0.0</td>\n",
       "            </tr><tr>\n",
       "                <td><strong>Upper bound</strong></td><td>1000.0</td>\n",
       "            </tr>\n",
       "        </table>\n",
       "        "
      ],
      "text/plain": [
       "<Reaction SIALT1 at 0x1783e2cfc10>"
      ]
     },
     "execution_count": 141,
     "metadata": {},
     "output_type": "execute_result"
    }
   ],
   "source": [
    "#Confirm new LOS reactions display correctly. \n",
    "model.reactions.get_by_id('SIALT1')"
   ]
  },
  {
   "cell_type": "code",
   "execution_count": 142,
   "id": "4f24fbb4-98c4-4b6d-919e-3409a8ec099a",
   "metadata": {
    "scrolled": true
   },
   "outputs": [
    {
     "name": "stdout",
     "output_type": "stream",
     "text": [
      "GLCTR2: gnahhlipa_c + udpg_c --> glcgnahhlipa_c + h_c + udp_c\n",
      "{}\n"
     ]
    }
   ],
   "source": [
    "#The more common isoform for Gc is 4HEXG. This has the addition of a glc on both the alpha and the beta chain.\n",
    "#The NM model did not have this glc on the beta chain and instead has a PEA. The PEA and glc on the beta chain are mutually exclusive. \n",
    "# Added reaction GLCTR2 to add a glc to the beta chain. \n",
    "\n",
    "glcgnahhlipa_c= Metabolite(\n",
    "    'glcgnahhlipa_c',\n",
    "    formula='C132H232N3O61P2',\n",
    "    name='M_glcgnahhlipa_c',\n",
    "    compartment='cytoplasm')\n",
    "\n",
    "udpg_c= model.metabolites.get_by_id('udpg_c')\n",
    "udp_c = model.metabolites.get_by_id('udp_c')\n",
    "h_c = model.metabolites.get_by_id('h_c')\n",
    "gnahhlipa_c=model.metabolites.get_by_id('gnahhlipa_c')\n",
    "\n",
    "\n",
    "\n",
    "GLCTR2 = cobra.Reaction('GLCTR2')\n",
    "GLCTR2.notes = {}\n",
    "GLCTR2.name = 'R_GLCTR2'\n",
    "GLCTR2.gene_reaction_rule = 'NGO2072'\n",
    "GLCTR2.lower_bound = 0.\n",
    "GLCTR2.upper_bound = 1000.\n",
    "GLCTR2.add_metabolites({\n",
    "    gnahhlipa_c: -1.0,\n",
    "    glcgnahhlipa_c: 1.0,\n",
    "    udpg_c: -1.0,\n",
    "    udp_c: 1.0,\n",
    "    h_c: 1,\n",
    "})\n",
    "\n",
    "model.add_reactions([GLCTR2])\n",
    "new_rxns += 1\n",
    "\n",
    "r= model.reactions.get_by_id('GLCTR2')\n",
    "print(r)\n",
    "print(r.check_mass_balance())"
   ]
  },
  {
   "cell_type": "code",
   "execution_count": 143,
   "id": "3183ff29-3119-49eb-bb8d-b698cd04e682",
   "metadata": {
    "scrolled": true
   },
   "outputs": [],
   "source": [
    "#Remove reaction for addition of phosphoethanolamine to beta chain\n",
    "model.remove_reactions('PEAT1')"
   ]
  },
  {
   "cell_type": "code",
   "execution_count": 144,
   "id": "536592d0-f487-4463-994d-b81f54032f2e",
   "metadata": {
    "scrolled": true,
    "tags": []
   },
   "outputs": [],
   "source": [
    "#Add Gal to end of Beta chain to complete that segment of 4HEXG by adding reaction \n",
    "galglcgnahhlipa_c= Metabolite(\n",
    "    'galglcgnahhlipa_c',\n",
    "    formula='C138H242N3O66P2',\n",
    "    name='M_galglcgnahhlipa_c',\n",
    "    compartment='cytoplasm')\n",
    "\n",
    "udpgal_c= model.metabolites.get_by_id('udpgal_c')\n",
    "udp_c = model.metabolites.get_by_id('udp_c')\n",
    "h_c = model.metabolites.get_by_id('h_c')\n",
    "glcgnahhlipa_c=model.metabolites.get_by_id('glcgnahhlipa_c')\n",
    "\n",
    "\n",
    "\n",
    "GALT3 = cobra.Reaction('GALT3')\n",
    "GALT3.notes = {}\n",
    "GALT3.name = 'R_GLCTR2'\n",
    "GALT3.gene_reaction_rule = 'NGO2072'\n",
    "GALT3.lower_bound = 0.\n",
    "GALT3.upper_bound = 1000.\n",
    "GALT3.add_metabolites({\n",
    "    glcgnahhlipa_c: -1.0,\n",
    "    galglcgnahhlipa_c: 1.0,\n",
    "    udpg_c: -1.0,\n",
    "    udp_c: 1.0,\n",
    "    h_c: 1,\n",
    "})\n",
    "\n",
    "model.add_reactions([GALT3])\n",
    "new_rxns += 1\n",
    "\n"
   ]
  },
  {
   "cell_type": "code",
   "execution_count": 145,
   "id": "62b5d08a-e00c-45cd-9c15-7dc50d86bcee",
   "metadata": {},
   "outputs": [
    {
     "data": {
      "text/html": [
       "\n",
       "        <table>\n",
       "            <tr>\n",
       "                <td><strong>Name</strong></td>\n",
       "                <td>iNGO_556</td>\n",
       "            </tr><tr>\n",
       "                <td><strong>Memory address</strong></td>\n",
       "                <td>0x01783cb76460</td>\n",
       "            </tr><tr>\n",
       "                <td><strong>Number of metabolites</strong></td>\n",
       "                <td>1338</td>\n",
       "            </tr><tr>\n",
       "                <td><strong>Number of reactions</strong></td>\n",
       "                <td>1435</td>\n",
       "            </tr><tr>\n",
       "                <td><strong>Number of groups</strong></td>\n",
       "                <td>0</td>\n",
       "            </tr><tr>\n",
       "                <td><strong>Objective expression</strong></td>\n",
       "                <td>1.0*Nm_Ess_biomass - 1.0*Nm_Ess_biomass_reverse_46af5</td>\n",
       "            </tr><tr>\n",
       "                <td><strong>Compartments</strong></td>\n",
       "                <td>periplasm, cytoplasm, extracellular</td>\n",
       "            </tr>\n",
       "          </table>"
      ],
      "text/plain": [
       "<Model iNGO_556 at 0x1783cb76460>"
      ]
     },
     "execution_count": 145,
     "metadata": {},
     "output_type": "execute_result"
    }
   ],
   "source": [
    "model"
   ]
  },
  {
   "cell_type": "code",
   "execution_count": 146,
   "id": "63f07512-034c-4b86-b12b-a7a032c07642",
   "metadata": {
    "scrolled": true
   },
   "outputs": [
    {
     "name": "stdout",
     "output_type": "stream",
     "text": [
      "GALT3: glcgnahhlipa_c + udpg_c --> galglcgnahhlipa_c + h_c + udp_c\n",
      "{}\n"
     ]
    }
   ],
   "source": [
    "r=model.reactions.get_by_id('GALT3')\n",
    "print(r)\n",
    "print(r.check_mass_balance())"
   ]
  },
  {
   "cell_type": "code",
   "execution_count": 147,
   "id": "c3ad87b0-544c-4477-945a-3a16f68b8d84",
   "metadata": {
    "scrolled": true
   },
   "outputs": [],
   "source": [
    "#Create icolipa from the newly created 4HEXG Beta chain.\n",
    "r = model.reactions.get_by_id('GLCTR1')\n",
    "\n",
    "peagnahhlipa_c=model.metabolites.get_by_id('peagnahhlipa_c')\n",
    "\n",
    "r.add_metabolites({\n",
    "    peagnahhlipa_c: 1.0,\n",
    "    galglcgnahhlipa_c: -1.0,\n",
    "})\n"
   ]
  },
  {
   "cell_type": "code",
   "execution_count": 148,
   "id": "9f18028d-a8ea-45bb-83c3-a3fd6755f804",
   "metadata": {
    "scrolled": true
   },
   "outputs": [
    {
     "name": "stdout",
     "output_type": "stream",
     "text": [
      "GLCTR1: galglcgnahhlipa_c + udpg_c --> h_c + icolipa_c + udp_c\n",
      "{'charge': -6.0}\n"
     ]
    }
   ],
   "source": [
    "#Correct the icolipa formula and formulas for the alphachain components to reflect the new 4HEXG beta chain\n",
    "r = model.reactions.get_by_id('GLCTR1')\n",
    "model.metabolites.get_by_id('icolipa_c').formula= 'C144H252N3O71P2'   \n",
    "model.metabolites.get_by_id('galicolipa_c').formula= 'C150H262N3O76P2'\n",
    "model.metabolites.get_by_id('gnagalicolipa_c').formula= 'C158H276N4O81P2'\n",
    "model.metabolites.get_by_id('los_GC_c').formula= 'C164H286N4O86P2'\n",
    "\n",
    "model.metabolites.get_by_id('sialylated_los_GC_c').formula= 'C175H304N5O94P2'\n",
    "model.metabolites.galglcgnahhlipa_c.charge=-5\n",
    "\n",
    "print(r)\n",
    "print(r.check_mass_balance())\n"
   ]
  },
  {
   "cell_type": "code",
   "execution_count": 149,
   "id": "13f90c62-5832-419e-a14f-487fe4b29b6e",
   "metadata": {},
   "outputs": [
    {
     "data": {
      "text/plain": [
       "'C144H252N3O71P2'"
      ]
     },
     "execution_count": 149,
     "metadata": {},
     "output_type": "execute_result"
    }
   ],
   "source": [
    "model.metabolites.icolipa_c.formula"
   ]
  },
  {
   "cell_type": "code",
   "execution_count": 150,
   "id": "d1de6fdc-a8f8-4638-be8a-698ec5a1a666",
   "metadata": {
    "scrolled": true
   },
   "outputs": [
    {
     "name": "stdout",
     "output_type": "stream",
     "text": [
      "{}\n"
     ]
    },
    {
     "data": {
      "text/html": [
       "\n",
       "        <table>\n",
       "            <tr>\n",
       "                <td><strong>Reaction identifier</strong></td><td>SIALT1</td>\n",
       "            </tr><tr>\n",
       "                <td><strong>Name</strong></td><td>R_SIALT1</td>\n",
       "            </tr><tr>\n",
       "                <td><strong>Memory address</strong></td>\n",
       "                <td>0x01783e2cfc10</td>\n",
       "            </tr><tr>\n",
       "                <td><strong>Stoichiometry</strong></td>\n",
       "                <td>\n",
       "                    <p style='text-align:right'>cmpacna_c + los_GC_c --> cmp_c + sialylated_los_GC_c</p>\n",
       "                    <p style='text-align:right'>M_cmpacna_c + los_GC_c --> M_cmp_c + sialylated_los_GC_c</p>\n",
       "                </td>\n",
       "            </tr><tr>\n",
       "                <td><strong>GPR</strong></td><td>NGO1081</td>\n",
       "            </tr><tr>\n",
       "                <td><strong>Lower bound</strong></td><td>0.0</td>\n",
       "            </tr><tr>\n",
       "                <td><strong>Upper bound</strong></td><td>1000.0</td>\n",
       "            </tr>\n",
       "        </table>\n",
       "        "
      ],
      "text/plain": [
       "<Reaction SIALT1 at 0x1783e2cfc10>"
      ]
     },
     "execution_count": 150,
     "metadata": {},
     "output_type": "execute_result"
    }
   ],
   "source": [
    "#Check all the steps of LOS synthesis to ensure its balanced properly. \n",
    "#SIALT1\n",
    "r = model.reactions.get_by_id('SIALT1')\n",
    "model.metabolites.sialylated_los_GC_c.charge=-4\n",
    "model.metabolites.los_GC_c.charge=-4\n",
    "print(r.check_mass_balance())\n",
    "r"
   ]
  },
  {
   "cell_type": "code",
   "execution_count": 151,
   "id": "e9592b13-a77b-4c1b-af87-0fdc893369c3",
   "metadata": {
    "scrolled": true
   },
   "outputs": [
    {
     "name": "stdout",
     "output_type": "stream",
     "text": [
      "{'charge': -4.0}\n"
     ]
    },
    {
     "data": {
      "text/html": [
       "\n",
       "        <table>\n",
       "            <tr>\n",
       "                <td><strong>Reaction identifier</strong></td><td>GALT2</td>\n",
       "            </tr><tr>\n",
       "                <td><strong>Name</strong></td><td>R_GALT2</td>\n",
       "            </tr><tr>\n",
       "                <td><strong>Memory address</strong></td>\n",
       "                <td>0x01783ded2fd0</td>\n",
       "            </tr><tr>\n",
       "                <td><strong>Stoichiometry</strong></td>\n",
       "                <td>\n",
       "                    <p style='text-align:right'>gnagalicolipa_c + udpgal_c --> h_c + los_GC_c + udp_c</p>\n",
       "                    <p style='text-align:right'>M_gnagalicolipa_c + M_udpgal_c --> M_h_c + los_GC_c + M_udp_c</p>\n",
       "                </td>\n",
       "            </tr><tr>\n",
       "                <td><strong>GPR</strong></td><td>NGO2156</td>\n",
       "            </tr><tr>\n",
       "                <td><strong>Lower bound</strong></td><td>0.0</td>\n",
       "            </tr><tr>\n",
       "                <td><strong>Upper bound</strong></td><td>1000.0</td>\n",
       "            </tr>\n",
       "        </table>\n",
       "        "
      ],
      "text/plain": [
       "<Reaction GALT2 at 0x1783ded2fd0>"
      ]
     },
     "execution_count": 151,
     "metadata": {},
     "output_type": "execute_result"
    }
   ],
   "source": [
    "#GALT2\n",
    "r = model.reactions.get_by_id('GALT2')\n",
    "model.metabolites.los_GC_c.charge=-4\n",
    "print(r.check_mass_balance())\n",
    "r"
   ]
  },
  {
   "cell_type": "code",
   "execution_count": 152,
   "id": "39d33efa-3b13-4750-8fb2-1392e00bd517",
   "metadata": {
    "scrolled": true
   },
   "outputs": [
    {
     "name": "stdout",
     "output_type": "stream",
     "text": [
      "{}\n"
     ]
    },
    {
     "data": {
      "text/html": [
       "\n",
       "        <table>\n",
       "            <tr>\n",
       "                <td><strong>Reaction identifier</strong></td><td>GNAT2</td>\n",
       "            </tr><tr>\n",
       "                <td><strong>Name</strong></td><td>R_GNAT2</td>\n",
       "            </tr><tr>\n",
       "                <td><strong>Memory address</strong></td>\n",
       "                <td>0x01783df42940</td>\n",
       "            </tr><tr>\n",
       "                <td><strong>Stoichiometry</strong></td>\n",
       "                <td>\n",
       "                    <p style='text-align:right'>galicolipa_c + uacgam_c --> gnagalicolipa_c + udp_c</p>\n",
       "                    <p style='text-align:right'>M_galicolipa_c + M_uacgam_c --> M_gnagalicolipa_c + M_udp_c</p>\n",
       "                </td>\n",
       "            </tr><tr>\n",
       "                <td><strong>GPR</strong></td><td>NGO2158</td>\n",
       "            </tr><tr>\n",
       "                <td><strong>Lower bound</strong></td><td>0.0</td>\n",
       "            </tr><tr>\n",
       "                <td><strong>Upper bound</strong></td><td>1000.0</td>\n",
       "            </tr>\n",
       "        </table>\n",
       "        "
      ],
      "text/plain": [
       "<Reaction GNAT2 at 0x1783df42940>"
      ]
     },
     "execution_count": 152,
     "metadata": {},
     "output_type": "execute_result"
    }
   ],
   "source": [
    "#GNAT2\n",
    "r = model.reactions.get_by_id('GNAT2')\n",
    "model.metabolites.galicolipa_c.charge=-5\n",
    "model.metabolites.gnagalicolipa_c.charge=-4\n",
    "print(r.check_mass_balance())\n",
    "r"
   ]
  },
  {
   "cell_type": "code",
   "execution_count": 153,
   "id": "dae23f9b-aa92-4cab-8416-3bdc60af6b08",
   "metadata": {
    "scrolled": true
   },
   "outputs": [
    {
     "name": "stdout",
     "output_type": "stream",
     "text": [
      "{}\n"
     ]
    },
    {
     "data": {
      "text/html": [
       "\n",
       "        <table>\n",
       "            <tr>\n",
       "                <td><strong>Reaction identifier</strong></td><td>GALT1</td>\n",
       "            </tr><tr>\n",
       "                <td><strong>Name</strong></td><td>Galactosyltransferase I (LPS core synthesis)</td>\n",
       "            </tr><tr>\n",
       "                <td><strong>Memory address</strong></td>\n",
       "                <td>0x01783ded2fa0</td>\n",
       "            </tr><tr>\n",
       "                <td><strong>Stoichiometry</strong></td>\n",
       "                <td>\n",
       "                    <p style='text-align:right'>icolipa_c + udpgal_c --> galicolipa_c + h_c + udp_c</p>\n",
       "                    <p style='text-align:right'>M_icolipa_c + M_udpgal_c --> M_galicolipa_c + M_h_c + M_udp_c</p>\n",
       "                </td>\n",
       "            </tr><tr>\n",
       "                <td><strong>GPR</strong></td><td>NGO2159</td>\n",
       "            </tr><tr>\n",
       "                <td><strong>Lower bound</strong></td><td>0.0</td>\n",
       "            </tr><tr>\n",
       "                <td><strong>Upper bound</strong></td><td>1000.0</td>\n",
       "            </tr>\n",
       "        </table>\n",
       "        "
      ],
      "text/plain": [
       "<Reaction GALT1 at 0x1783ded2fa0>"
      ]
     },
     "execution_count": 153,
     "metadata": {},
     "output_type": "execute_result"
    }
   ],
   "source": [
    "#GALT1\n",
    "r = model.reactions.get_by_id('GALT1')\n",
    "model.metabolites.galicolipa_c.charge=-5\n",
    "model.metabolites.icolipa_c.charge=-5\n",
    "print(r.check_mass_balance())\n",
    "r"
   ]
  },
  {
   "cell_type": "code",
   "execution_count": 154,
   "id": "ff8441db-d7dd-4267-82c4-d63f61b4e86f",
   "metadata": {
    "scrolled": true
   },
   "outputs": [
    {
     "name": "stdout",
     "output_type": "stream",
     "text": [
      "{}\n"
     ]
    },
    {
     "data": {
      "text/html": [
       "\n",
       "        <table>\n",
       "            <tr>\n",
       "                <td><strong>Reaction identifier</strong></td><td>GALT3</td>\n",
       "            </tr><tr>\n",
       "                <td><strong>Name</strong></td><td>R_GLCTR2</td>\n",
       "            </tr><tr>\n",
       "                <td><strong>Memory address</strong></td>\n",
       "                <td>0x01783fb6ec70</td>\n",
       "            </tr><tr>\n",
       "                <td><strong>Stoichiometry</strong></td>\n",
       "                <td>\n",
       "                    <p style='text-align:right'>glcgnahhlipa_c + udpg_c --> galglcgnahhlipa_c + h_c + udp_c</p>\n",
       "                    <p style='text-align:right'>M_glcgnahhlipa_c + M_udpg_c --> M_galglcgnahhlipa_c + M_h_c + M_udp_c</p>\n",
       "                </td>\n",
       "            </tr><tr>\n",
       "                <td><strong>GPR</strong></td><td>NGO2072</td>\n",
       "            </tr><tr>\n",
       "                <td><strong>Lower bound</strong></td><td>0.0</td>\n",
       "            </tr><tr>\n",
       "                <td><strong>Upper bound</strong></td><td>1000.0</td>\n",
       "            </tr>\n",
       "        </table>\n",
       "        "
      ],
      "text/plain": [
       "<Reaction GALT3 at 0x1783fb6ec70>"
      ]
     },
     "execution_count": 154,
     "metadata": {},
     "output_type": "execute_result"
    }
   ],
   "source": [
    "#GALT3\n",
    "r = model.reactions.get_by_id('GALT3')\n",
    "model.metabolites.glcgnahhlipa_c.charge=-5\n",
    "model.metabolites.galglcgnahhlipa_c.charge=-5\n",
    "print(r.check_mass_balance())\n",
    "r"
   ]
  },
  {
   "cell_type": "code",
   "execution_count": 155,
   "id": "4b777d8d-b8a0-4945-a338-8af9829a3429",
   "metadata": {
    "scrolled": true
   },
   "outputs": [
    {
     "name": "stdout",
     "output_type": "stream",
     "text": [
      "{}\n"
     ]
    },
    {
     "data": {
      "text/html": [
       "\n",
       "        <table>\n",
       "            <tr>\n",
       "                <td><strong>Reaction identifier</strong></td><td>GLCTR2</td>\n",
       "            </tr><tr>\n",
       "                <td><strong>Name</strong></td><td>R_GLCTR2</td>\n",
       "            </tr><tr>\n",
       "                <td><strong>Memory address</strong></td>\n",
       "                <td>0x01783fb29b20</td>\n",
       "            </tr><tr>\n",
       "                <td><strong>Stoichiometry</strong></td>\n",
       "                <td>\n",
       "                    <p style='text-align:right'>gnahhlipa_c + udpg_c --> glcgnahhlipa_c + h_c + udp_c</p>\n",
       "                    <p style='text-align:right'>M_gnahhlipa_c + M_udpg_c --> M_glcgnahhlipa_c + M_h_c + M_udp_c</p>\n",
       "                </td>\n",
       "            </tr><tr>\n",
       "                <td><strong>GPR</strong></td><td>NGO2072</td>\n",
       "            </tr><tr>\n",
       "                <td><strong>Lower bound</strong></td><td>0.0</td>\n",
       "            </tr><tr>\n",
       "                <td><strong>Upper bound</strong></td><td>1000.0</td>\n",
       "            </tr>\n",
       "        </table>\n",
       "        "
      ],
      "text/plain": [
       "<Reaction GLCTR2 at 0x1783fb29b20>"
      ]
     },
     "execution_count": 155,
     "metadata": {},
     "output_type": "execute_result"
    }
   ],
   "source": [
    "#GLCTR2\n",
    "r = model.reactions.get_by_id('GLCTR2')\n",
    "model.metabolites.gnahhlipa_c.charge=-5\n",
    "model.metabolites.glcgnahhlipa_c.charge=-5\n",
    "print(r.check_mass_balance())\n",
    "r"
   ]
  },
  {
   "cell_type": "code",
   "execution_count": 156,
   "id": "cc066840-d124-4f5d-a75e-c82f89414321",
   "metadata": {
    "scrolled": true
   },
   "outputs": [
    {
     "name": "stdout",
     "output_type": "stream",
     "text": [
      "{}\n"
     ]
    },
    {
     "data": {
      "text/html": [
       "\n",
       "        <table>\n",
       "            <tr>\n",
       "                <td><strong>Reaction identifier</strong></td><td>GLCTR1</td>\n",
       "            </tr><tr>\n",
       "                <td><strong>Name</strong></td><td>Glucosyltransferase I (LPS core synthesis)</td>\n",
       "            </tr><tr>\n",
       "                <td><strong>Memory address</strong></td>\n",
       "                <td>0x01783def8fa0</td>\n",
       "            </tr><tr>\n",
       "                <td><strong>Stoichiometry</strong></td>\n",
       "                <td>\n",
       "                    <p style='text-align:right'>galglcgnahhlipa_c + udpg_c --> h_c + icolipa_c + udp_c</p>\n",
       "                    <p style='text-align:right'>M_galglcgnahhlipa_c + M_udpg_c --> M_h_c + M_icolipa_c + M_udp_c</p>\n",
       "                </td>\n",
       "            </tr><tr>\n",
       "                <td><strong>GPR</strong></td><td>NGO1353</td>\n",
       "            </tr><tr>\n",
       "                <td><strong>Lower bound</strong></td><td>0.0</td>\n",
       "            </tr><tr>\n",
       "                <td><strong>Upper bound</strong></td><td>1000.0</td>\n",
       "            </tr>\n",
       "        </table>\n",
       "        "
      ],
      "text/plain": [
       "<Reaction GLCTR1 at 0x1783def8fa0>"
      ]
     },
     "execution_count": 156,
     "metadata": {},
     "output_type": "execute_result"
    }
   ],
   "source": [
    "#GLCTR1\n",
    "r = model.reactions.get_by_id('GLCTR1')\n",
    "model.metabolites.icolipa_c.charge=-5\n",
    "print(r.check_mass_balance())\n",
    "r"
   ]
  },
  {
   "cell_type": "code",
   "execution_count": 157,
   "id": "4dd7de8c-b2cd-40b8-82a7-6545e93ad23b",
   "metadata": {
    "scrolled": true
   },
   "outputs": [
    {
     "name": "stdout",
     "output_type": "stream",
     "text": [
      "{}\n"
     ]
    },
    {
     "data": {
      "text/html": [
       "\n",
       "        <table>\n",
       "            <tr>\n",
       "                <td><strong>Reaction identifier</strong></td><td>GNAT1</td>\n",
       "            </tr><tr>\n",
       "                <td><strong>Name</strong></td><td>R_GNAT1</td>\n",
       "            </tr><tr>\n",
       "                <td><strong>Memory address</strong></td>\n",
       "                <td>0x01783df426d0</td>\n",
       "            </tr><tr>\n",
       "                <td><strong>Stoichiometry</strong></td>\n",
       "                <td>\n",
       "                    <p style='text-align:right'>hhlipa_c + uacgam_c --> gnahhlipa_c + udp_c</p>\n",
       "                    <p style='text-align:right'>M_hhlipa_c + M_uacgam_c --> M_gnahhlipa_c + M_udp_c</p>\n",
       "                </td>\n",
       "            </tr><tr>\n",
       "                <td><strong>GPR</strong></td><td>NGO1354</td>\n",
       "            </tr><tr>\n",
       "                <td><strong>Lower bound</strong></td><td>0.0</td>\n",
       "            </tr><tr>\n",
       "                <td><strong>Upper bound</strong></td><td>1000.0</td>\n",
       "            </tr>\n",
       "        </table>\n",
       "        "
      ],
      "text/plain": [
       "<Reaction GNAT1 at 0x1783df426d0>"
      ]
     },
     "execution_count": 157,
     "metadata": {},
     "output_type": "execute_result"
    }
   ],
   "source": [
    "#GNAT1\n",
    "r = model.reactions.get_by_id('GNAT1')\n",
    "model.metabolites.gnahhlipa_c.charge=-5\n",
    "print(r.check_mass_balance())\n",
    "r"
   ]
  },
  {
   "cell_type": "code",
   "execution_count": 158,
   "id": "c5c7439a-fe42-4fb2-882f-db3213403d53",
   "metadata": {
    "scrolled": true
   },
   "outputs": [
    {
     "name": "stdout",
     "output_type": "stream",
     "text": [
      "{}\n"
     ]
    },
    {
     "data": {
      "text/html": [
       "\n",
       "        <table>\n",
       "            <tr>\n",
       "                <td><strong>Reaction identifier</strong></td><td>HEPT2</td>\n",
       "            </tr><tr>\n",
       "                <td><strong>Name</strong></td><td>Heptosyltransferase II (LPS core synthesis)</td>\n",
       "            </tr><tr>\n",
       "                <td><strong>Memory address</strong></td>\n",
       "                <td>0x01783df6baf0</td>\n",
       "            </tr><tr>\n",
       "                <td><strong>Stoichiometry</strong></td>\n",
       "                <td>\n",
       "                    <p style='text-align:right'>adphep_LD_c + hlipa_c --> adp_c + h_c + hhlipa_c</p>\n",
       "                    <p style='text-align:right'>M_adphep_LD_c + M_hlipa_c --> M_adp_c + M_h_c + M_hhlipa_c</p>\n",
       "                </td>\n",
       "            </tr><tr>\n",
       "                <td><strong>GPR</strong></td><td>NGO0987</td>\n",
       "            </tr><tr>\n",
       "                <td><strong>Lower bound</strong></td><td>0.0</td>\n",
       "            </tr><tr>\n",
       "                <td><strong>Upper bound</strong></td><td>1000.0</td>\n",
       "            </tr>\n",
       "        </table>\n",
       "        "
      ],
      "text/plain": [
       "<Reaction HEPT2 at 0x1783df6baf0>"
      ]
     },
     "execution_count": 158,
     "metadata": {},
     "output_type": "execute_result"
    }
   ],
   "source": [
    "#HEPT2\n",
    "r = model.reactions.get_by_id('HEPT2')\n",
    "print(r.check_mass_balance())\n",
    "r"
   ]
  },
  {
   "cell_type": "code",
   "execution_count": 159,
   "id": "9cca4439-7772-4185-8bf4-6fd6216910bb",
   "metadata": {
    "scrolled": true
   },
   "outputs": [
    {
     "name": "stdout",
     "output_type": "stream",
     "text": [
      "{}\n"
     ]
    },
    {
     "data": {
      "text/html": [
       "\n",
       "        <table>\n",
       "            <tr>\n",
       "                <td><strong>Reaction identifier</strong></td><td>HEPT1</td>\n",
       "            </tr><tr>\n",
       "                <td><strong>Name</strong></td><td>Heptosyltransferase I (LPS core synthesis)</td>\n",
       "            </tr><tr>\n",
       "                <td><strong>Memory address</strong></td>\n",
       "                <td>0x01783df6ba00</td>\n",
       "            </tr><tr>\n",
       "                <td><strong>Stoichiometry</strong></td>\n",
       "                <td>\n",
       "                    <p style='text-align:right'>adphep_LD_c + lipa_c --> adp_c + h_c + hlipa_c</p>\n",
       "                    <p style='text-align:right'>M_adphep_LD_c + M_lipa_c --> M_adp_c + M_h_c + M_hlipa_c</p>\n",
       "                </td>\n",
       "            </tr><tr>\n",
       "                <td><strong>GPR</strong></td><td>NGO1934</td>\n",
       "            </tr><tr>\n",
       "                <td><strong>Lower bound</strong></td><td>0.0</td>\n",
       "            </tr><tr>\n",
       "                <td><strong>Upper bound</strong></td><td>1000.0</td>\n",
       "            </tr>\n",
       "        </table>\n",
       "        "
      ],
      "text/plain": [
       "<Reaction HEPT1 at 0x1783df6ba00>"
      ]
     },
     "execution_count": 159,
     "metadata": {},
     "output_type": "execute_result"
    }
   ],
   "source": [
    "#HEPT1\n",
    "r = model.reactions.get_by_id('HEPT1')\n",
    "print(r.check_mass_balance())\n",
    "r"
   ]
  },
  {
   "cell_type": "code",
   "execution_count": 160,
   "id": "26cb4b3f-cd2e-404f-a831-83a23a89372d",
   "metadata": {
    "scrolled": true
   },
   "outputs": [],
   "source": [
    "#All of LOS synthesis looks correct. Continue checking/ correcting other reactions. "
   ]
  },
  {
   "cell_type": "code",
   "execution_count": 161,
   "id": "6c5594ea-e310-4f2c-8606-c55f47120e3d",
   "metadata": {},
   "outputs": [
    {
     "data": {
      "text/plain": [
       "0.2636925192885269"
      ]
     },
     "execution_count": 161,
     "metadata": {},
     "output_type": "execute_result"
    }
   ],
   "source": [
    "model.slim_optimize()"
   ]
  },
  {
   "cell_type": "code",
   "execution_count": 162,
   "id": "19e039f4-0e4c-4765-8c72-a569dd4abf70",
   "metadata": {
    "scrolled": true
   },
   "outputs": [
    {
     "name": "stdout",
     "output_type": "stream",
     "text": [
      "{'charge': -1.0, 'H': -1.0}\n"
     ]
    },
    {
     "data": {
      "text/html": [
       "\n",
       "        <table>\n",
       "            <tr>\n",
       "                <td><strong>Reaction identifier</strong></td><td>HMT</td>\n",
       "            </tr><tr>\n",
       "                <td><strong>Name</strong></td><td>R_HMT</td>\n",
       "            </tr><tr>\n",
       "                <td><strong>Memory address</strong></td>\n",
       "                <td>0x01783df7dca0</td>\n",
       "            </tr><tr>\n",
       "                <td><strong>Stoichiometry</strong></td>\n",
       "                <td>\n",
       "                    <p style='text-align:right'>amet_c + his_L_c --> ahcys_c + mhis_c</p>\n",
       "                    <p style='text-align:right'>M_amet_c + M_his_L_c --> M_ahcys_c + M_mhis_c</p>\n",
       "                </td>\n",
       "            </tr><tr>\n",
       "                <td><strong>GPR</strong></td><td>NGO0746</td>\n",
       "            </tr><tr>\n",
       "                <td><strong>Lower bound</strong></td><td>0.0</td>\n",
       "            </tr><tr>\n",
       "                <td><strong>Upper bound</strong></td><td>1000.0</td>\n",
       "            </tr>\n",
       "        </table>\n",
       "        "
      ],
      "text/plain": [
       "<Reaction HMT at 0x1783df7dca0>"
      ]
     },
     "execution_count": 162,
     "metadata": {},
     "output_type": "execute_result"
    }
   ],
   "source": [
    "#HMT\n",
    "r = model.reactions.get_by_id('HMT')\n",
    "print(r.check_mass_balance())\n",
    "r"
   ]
  },
  {
   "cell_type": "code",
   "execution_count": 163,
   "id": "432a899f-d31d-4434-937f-0439e17197a5",
   "metadata": {
    "scrolled": true
   },
   "outputs": [],
   "source": [
    "#No evidence that this reaction exists in Gc. \n",
    "#It forms a dead end metabolite that is not used elsewhere in the network.\n",
    "#The gene (ngo0746) does possibly encode a methyltransferase, but this specific reaction doesn't appear to be found in any other models of bacteria, and isn't included in the CARVEME model for Gc. \n",
    "#As such, I am deleting the reaction. \n",
    "\n",
    "model.remove_reactions('HMT')"
   ]
  },
  {
   "cell_type": "code",
   "execution_count": 164,
   "id": "49ef9ec9-9cf7-4b87-b25f-957d148a0c73",
   "metadata": {
    "scrolled": true
   },
   "outputs": [
    {
     "name": "stdout",
     "output_type": "stream",
     "text": [
      "{'charge': 4.0, 'O': -2.0}\n"
     ]
    },
    {
     "data": {
      "text/html": [
       "\n",
       "        <table>\n",
       "            <tr>\n",
       "                <td><strong>Reaction identifier</strong></td><td>MAc3</td>\n",
       "            </tr><tr>\n",
       "                <td><strong>Name</strong></td><td>R_MAc3</td>\n",
       "            </tr><tr>\n",
       "                <td><strong>Memory address</strong></td>\n",
       "                <td>0x01783dfec2e0</td>\n",
       "            </tr><tr>\n",
       "                <td><strong>Stoichiometry</strong></td>\n",
       "                <td>\n",
       "                    <p style='text-align:right'>accoa_c + h2o_p + murein5p4p_p --> coa_c + murein5p4pOAc_p</p>\n",
       "                    <p style='text-align:right'>M_accoa_c + M_h2o_p + M_murein5p4p_p --> M_coa_c + M_murein5p4pOAc_p</p>\n",
       "                </td>\n",
       "            </tr><tr>\n",
       "                <td><strong>GPR</strong></td><td>NGO0533 and NGO0534 and Orphan</td>\n",
       "            </tr><tr>\n",
       "                <td><strong>Lower bound</strong></td><td>0.0</td>\n",
       "            </tr><tr>\n",
       "                <td><strong>Upper bound</strong></td><td>1000.0</td>\n",
       "            </tr>\n",
       "        </table>\n",
       "        "
      ],
      "text/plain": [
       "<Reaction MAc3 at 0x1783dfec2e0>"
      ]
     },
     "execution_count": 164,
     "metadata": {},
     "output_type": "execute_result"
    }
   ],
   "source": [
    "#MAc3\n",
    "r = model.reactions.get_by_id('MAc3')\n",
    "print(r.check_mass_balance())\n",
    "r"
   ]
  },
  {
   "cell_type": "code",
   "execution_count": 165,
   "id": "ae3e6e80-6e1a-41bf-a32b-ac6ca9684689",
   "metadata": {
    "scrolled": true
   },
   "outputs": [
    {
     "name": "stdout",
     "output_type": "stream",
     "text": [
      "C77H119N15O41\n",
      "C79H123N15O41\n"
     ]
    }
   ],
   "source": [
    "# Both Gc and Nm acylate their peptidoglycan. PMCID: PMC1231103\n",
    "print(model.metabolites.get_by_id('murein5p4p_p').formula)\n",
    "print(model.metabolites.get_by_id('murein5p4pOAc_p').formula)\n"
   ]
  },
  {
   "cell_type": "code",
   "execution_count": 166,
   "id": "e6244e57-c602-4859-9247-85b19c4344fd",
   "metadata": {
    "scrolled": true
   },
   "outputs": [],
   "source": [
    "#In the formula for murein5p4pOAc, the oxygen that gets added during acylation was forgotten. This is added here. \n",
    "model.metabolites.get_by_id('murein5p4pOAc_p').formula= 'C79H123N15O43'  \n",
    "model.metabolites.murein5p4pOAc_p.charge=-4"
   ]
  },
  {
   "cell_type": "code",
   "execution_count": 167,
   "id": "19f4cc71-e40d-49fe-bbd1-ef9922d0b4ea",
   "metadata": {
    "scrolled": true
   },
   "outputs": [
    {
     "name": "stdout",
     "output_type": "stream",
     "text": [
      "{}\n"
     ]
    },
    {
     "data": {
      "text/html": [
       "\n",
       "        <table>\n",
       "            <tr>\n",
       "                <td><strong>Reaction identifier</strong></td><td>MAc3</td>\n",
       "            </tr><tr>\n",
       "                <td><strong>Name</strong></td><td>R_MAc3</td>\n",
       "            </tr><tr>\n",
       "                <td><strong>Memory address</strong></td>\n",
       "                <td>0x01783dfec2e0</td>\n",
       "            </tr><tr>\n",
       "                <td><strong>Stoichiometry</strong></td>\n",
       "                <td>\n",
       "                    <p style='text-align:right'>accoa_c + h2o_p + murein5p4p_p --> coa_c + murein5p4pOAc_p</p>\n",
       "                    <p style='text-align:right'>M_accoa_c + M_h2o_p + M_murein5p4p_p --> M_coa_c + M_murein5p4pOAc_p</p>\n",
       "                </td>\n",
       "            </tr><tr>\n",
       "                <td><strong>GPR</strong></td><td>NGO0533 and NGO0534 and Orphan</td>\n",
       "            </tr><tr>\n",
       "                <td><strong>Lower bound</strong></td><td>0.0</td>\n",
       "            </tr><tr>\n",
       "                <td><strong>Upper bound</strong></td><td>1000.0</td>\n",
       "            </tr>\n",
       "        </table>\n",
       "        "
      ],
      "text/plain": [
       "<Reaction MAc3 at 0x1783dfec2e0>"
      ]
     },
     "execution_count": 167,
     "metadata": {},
     "output_type": "execute_result"
    }
   ],
   "source": [
    "print(r.check_mass_balance())\n",
    "r"
   ]
  },
  {
   "cell_type": "code",
   "execution_count": 168,
   "id": "4eb1f388-969d-45ca-a6c9-038d6447653f",
   "metadata": {
    "scrolled": true
   },
   "outputs": [
    {
     "data": {
      "text/html": [
       "\n",
       "        <table>\n",
       "            <tr>\n",
       "                <td><strong>Reaction identifier</strong></td><td>MAc3</td>\n",
       "            </tr><tr>\n",
       "                <td><strong>Name</strong></td><td>R_MAc3</td>\n",
       "            </tr><tr>\n",
       "                <td><strong>Memory address</strong></td>\n",
       "                <td>0x01783dfec2e0</td>\n",
       "            </tr><tr>\n",
       "                <td><strong>Stoichiometry</strong></td>\n",
       "                <td>\n",
       "                    <p style='text-align:right'>accoa_c + h2o_p + murein5p4p_p --> coa_c + murein5p4pOAc_p</p>\n",
       "                    <p style='text-align:right'>M_accoa_c + M_h2o_p + M_murein5p4p_p --> M_coa_c + M_murein5p4pOAc_p</p>\n",
       "                </td>\n",
       "            </tr><tr>\n",
       "                <td><strong>GPR</strong></td><td>NGO0533 and NGO0534</td>\n",
       "            </tr><tr>\n",
       "                <td><strong>Lower bound</strong></td><td>0.0</td>\n",
       "            </tr><tr>\n",
       "                <td><strong>Upper bound</strong></td><td>1000.0</td>\n",
       "            </tr>\n",
       "        </table>\n",
       "        "
      ],
      "text/plain": [
       "<Reaction MAc3 at 0x1783dfec2e0>"
      ]
     },
     "execution_count": 168,
     "metadata": {},
     "output_type": "execute_result"
    }
   ],
   "source": [
    "#peptidoglycan acylation has been shown to occur due to NGO0533 and NGO0534 (NMB1274 and NMB1273) aka PatA and PatB aka PacA and PacB. \n",
    "#THe third protein, proposed as an orphan, is apeI which actually is an esterase. \n",
    "#(PMID: 23373517)\n",
    "#I correct the GPR rules for the MAc1 - MAc8 reactions here. \n",
    "\n",
    "NGO0533 =model.genes.get_by_id('NGO0533')\n",
    "NGO0534= model.genes.get_by_id('NGO0534')\n",
    "model.reactions.get_by_id('MAc1').gene_reaction_rule ='NGO0533 and NGO0534'\n",
    "model.reactions.get_by_id('MAc2').gene_reaction_rule ='NGO0533 and NGO0534'\n",
    "model.reactions.get_by_id('MAc3').gene_reaction_rule ='NGO0533 and NGO0534'\n",
    "model.reactions.get_by_id('MAc4').gene_reaction_rule ='NGO0533 and NGO0534'\n",
    "model.reactions.get_by_id('MAc5').gene_reaction_rule ='NGO0533 and NGO0534'\n",
    "model.reactions.get_by_id('MAc6').gene_reaction_rule ='NGO0533 and NGO0534'\n",
    "model.reactions.get_by_id('MAc7').gene_reaction_rule ='NGO0533 and NGO0534'\n",
    "model.reactions.get_by_id('MAc8').gene_reaction_rule ='NGO0533 and NGO0534'\n",
    "r"
   ]
  },
  {
   "cell_type": "code",
   "execution_count": 169,
   "id": "124ee4d4-98a1-4504-b5ea-45da643402eb",
   "metadata": {
    "scrolled": true
   },
   "outputs": [
    {
     "name": "stdout",
     "output_type": "stream",
     "text": [
      "{'C': -1.5695700000000001, 'H': -2.433528, 'N': -0.24168599999999998, 'O': -0.8500679999999999}\n"
     ]
    }
   ],
   "source": [
    "#Most of the PG in the cell wall is tetrapeptide in Gc PMCID: PMC551031 and is O-acytelated. \n",
    "#However tripeptide monomer gets released extracellularly and can cause immune responses through NOD1.\n",
    "#Cleavage of the tetrapeptide to tripeptide, is driven by ldcA (NGO1274) (PMCID: PMC5646250)\n",
    "\n",
    "#Confirmed, that tripeptide monomer is produced in the model (anhgm3p_p).\n",
    "\n",
    "\n",
    "\n",
    "# Gc and neisseria in general use tetrapeptide PG in the cell wall, rather than tripeptide which is used in E.coli. \n",
    "# This model uses the \"most common\" o-acetylated tetrapeptide trimer to make PG for biomass. (murein4px4px4pOAc and murein 4p4p4pOAc).\n",
    "\n",
    "\n",
    "\n",
    "\n",
    "r = model.reactions.get_by_id('PEPGLY')\n",
    "print(r.check_mass_balance())\n",
    "r\n",
    "\n",
    "#Rename pepglycan metabolite\n",
    "model.metabolites.pepglycan_NM_p.id=\"pepglycan_p\"\n",
    "model.metabolites.pepglycan_p.name='M_pepglycan_p'\n",
    "\n",
    "\n",
    "\n",
    "\n",
    "\n",
    "\n",
    "\n",
    "\n",
    "\n"
   ]
  },
  {
   "cell_type": "markdown",
   "id": "efe78919-b51d-4955-9472-1b33aefc27ff",
   "metadata": {},
   "source": [
    "\n",
    "\n",
    "#The model uses murein5p5p5p to make murein 4p4p4p (MDDCP6pp) which is then acetylated (MAc1).\n",
    "#Its not clear how this would happen in nature since these reactions typically work on crosslinked peptidoglycan, not on uncrosslinked. \n",
    "#Additionally, peptidoglycan, incorporated into the cell wall, should be crosslinked. \n",
    "\n",
    " \n",
    "#As such, I am removing 4p4p4pOAC as an essential component of the cell wall for biomass (PEPGLY) and replacing it with 4px4px4p, since the cell wall consists of both acetylated and unmodified components.\n",
    "\n",
    "#murein4p4p4pOAc_p=model.metabolites.get_by_id('murein4p4p4pOAc_p')\n",
    "#murein4px4px4p_p = model.metabolites.get_by_id('murein4px4px4p_p')\n",
    "\n",
    "#r.add_metabolites({\n",
    "#    murein4p4p4pOAc_p: 0.008334,\n",
    "#    murein4px4px4p_p : -0.008334,\n",
    "#})\n",
    "\n",
    "#print(r.check_mass_balance())\n",
    "#r"
   ]
  },
  {
   "cell_type": "code",
   "execution_count": 170,
   "id": "6e4b79d7-e00b-4993-9e1b-f1db47f94d71",
   "metadata": {},
   "outputs": [
    {
     "data": {
      "text/html": [
       "\n",
       "        <table>\n",
       "            <tr>\n",
       "                <td><strong>Name</strong></td>\n",
       "                <td>iNGO_556</td>\n",
       "            </tr><tr>\n",
       "                <td><strong>Memory address</strong></td>\n",
       "                <td>0x01783cb76460</td>\n",
       "            </tr><tr>\n",
       "                <td><strong>Number of metabolites</strong></td>\n",
       "                <td>1338</td>\n",
       "            </tr><tr>\n",
       "                <td><strong>Number of reactions</strong></td>\n",
       "                <td>1434</td>\n",
       "            </tr><tr>\n",
       "                <td><strong>Number of groups</strong></td>\n",
       "                <td>0</td>\n",
       "            </tr><tr>\n",
       "                <td><strong>Objective expression</strong></td>\n",
       "                <td>1.0*Nm_Ess_biomass - 1.0*Nm_Ess_biomass_reverse_46af5</td>\n",
       "            </tr><tr>\n",
       "                <td><strong>Compartments</strong></td>\n",
       "                <td>periplasm, cytoplasm, extracellular</td>\n",
       "            </tr>\n",
       "          </table>"
      ],
      "text/plain": [
       "<Model iNGO_556 at 0x1783cb76460>"
      ]
     },
     "execution_count": 170,
     "metadata": {},
     "output_type": "execute_result"
    }
   ],
   "source": [
    "model"
   ]
  },
  {
   "cell_type": "code",
   "execution_count": 171,
   "id": "5e614a0e-a0d0-43fd-ba56-1df63a7757db",
   "metadata": {},
   "outputs": [
    {
     "data": {
      "text/plain": [
       "0.9421115963506511"
      ]
     },
     "execution_count": 171,
     "metadata": {},
     "output_type": "execute_result"
    }
   ],
   "source": [
    "#I am deleting the reaction MDDCP6pp, which I cannot find evidence for currently. \n",
    "#model.remove_reactions('MDDCP6pp')\n",
    "\n",
    "rpmi(model)\n",
    "model.slim_optimize()\n"
   ]
  },
  {
   "cell_type": "code",
   "execution_count": 172,
   "id": "896f23a1-f2a1-496e-90ab-fcae504a4840",
   "metadata": {},
   "outputs": [
    {
     "name": "stdout",
     "output_type": "stream",
     "text": [
      "{}\n",
      "{}\n"
     ]
    },
    {
     "data": {
      "text/plain": [
       "0.9421115963506558"
      ]
     },
     "execution_count": 172,
     "metadata": {},
     "output_type": "execute_result"
    }
   ],
   "source": [
    "#MAc7 and MAc8 which produces murein4p4p4pdOac and murein 4p4p4ptOAc respectively, where altered to use murein 4px4px4p as the base instead.\n",
    "r = model.reactions.get_by_id('MAc7')\n",
    "print(r.check_mass_balance())\n",
    "r\n",
    "\n",
    "\n",
    "murein4px4px4pdOAc_p= Metabolite(\n",
    "    'murein4px4px4pdOAc_p',\n",
    "    formula='C115H175N21O62',\n",
    "    name='M_murein4px4px4pdOAc_p',\n",
    "    compartment='periplasm')\n",
    "\n",
    "murein4px4px4ptOAc_p= Metabolite(\n",
    "    'murein4px4px4ptOAc_p',\n",
    "    formula='C117H179N21O64',\n",
    "    name='M_murein4px4px4ptOAc_p',\n",
    "    compartment='periplasm')\n",
    "\n",
    "murein4p4p4pOAC_p=model.metabolites.get_by_id('murein4p4p4pOAc_p')\n",
    "murein4px4px4pOAc_p = model.metabolites.get_by_id('murein4px4px4pOAc_p')\n",
    "murein4p4p4pdOAc_p=model.metabolites.get_by_id('murein4p4p4pdOAc_p')\n",
    "\n",
    "murein4p4p4ptOAc_p=model.metabolites.get_by_id('murein4p4p4ptOAc_p')\n",
    "\n",
    "\n",
    "r.add_metabolites({\n",
    "    murein4p4p4pOAC_p: 1,\n",
    "    murein4px4px4pOAc_p : -1,\n",
    "    murein4p4p4pdOAc_p: -1,\n",
    "    murein4px4px4pdOAc_p : 1,\n",
    "})\n",
    "\n",
    "print(r.check_mass_balance())\n",
    "r\n",
    "\n",
    "rpmi(model)\n",
    "model.slim_optimize()"
   ]
  },
  {
   "cell_type": "code",
   "execution_count": 173,
   "id": "ff235694-99c6-4b85-940c-2892b4cc4bb7",
   "metadata": {},
   "outputs": [
    {
     "name": "stdout",
     "output_type": "stream",
     "text": [
      "{}\n"
     ]
    },
    {
     "data": {
      "text/html": [
       "\n",
       "        <table>\n",
       "            <tr>\n",
       "                <td><strong>Reaction identifier</strong></td><td>MAc8</td>\n",
       "            </tr><tr>\n",
       "                <td><strong>Name</strong></td><td>R_MAc8</td>\n",
       "            </tr><tr>\n",
       "                <td><strong>Memory address</strong></td>\n",
       "                <td>0x01783dfecb20</td>\n",
       "            </tr><tr>\n",
       "                <td><strong>Stoichiometry</strong></td>\n",
       "                <td>\n",
       "                    <p style='text-align:right'>accoa_c + h2o_p + murein4px4px4pdOAc_p --> coa_c + murein4px4px4ptOAc_p</p>\n",
       "                    <p style='text-align:right'>M_accoa_c + M_h2o_p + M_murein4px4px4pdOAc_p --> M_coa_c + M_murein4px4px4ptOAc_p</p>\n",
       "                </td>\n",
       "            </tr><tr>\n",
       "                <td><strong>GPR</strong></td><td>NGO0533 and NGO0534</td>\n",
       "            </tr><tr>\n",
       "                <td><strong>Lower bound</strong></td><td>0.0</td>\n",
       "            </tr><tr>\n",
       "                <td><strong>Upper bound</strong></td><td>1000.0</td>\n",
       "            </tr>\n",
       "        </table>\n",
       "        "
      ],
      "text/plain": [
       "<Reaction MAc8 at 0x1783dfecb20>"
      ]
     },
     "execution_count": 173,
     "metadata": {},
     "output_type": "execute_result"
    }
   ],
   "source": [
    "r = model.reactions.get_by_id('MAc8')\n",
    "\n",
    "\n",
    "r.add_metabolites({\n",
    "\n",
    "    murein4p4p4pdOAc_p: 1,\n",
    "    murein4px4px4pdOAc_p : -1,\n",
    "    murein4p4p4ptOAc_p: -1,\n",
    "    murein4px4px4ptOAc_p : 1,\n",
    "})\n",
    "\n",
    "\n",
    "print(r.check_mass_balance())\n",
    "r"
   ]
  },
  {
   "cell_type": "code",
   "execution_count": 174,
   "id": "12a6c624-1f38-4a68-a55f-3280aa41c3eb",
   "metadata": {},
   "outputs": [
    {
     "data": {
      "text/plain": [
       "0.9421115963506552"
      ]
     },
     "execution_count": 174,
     "metadata": {},
     "output_type": "execute_result"
    }
   ],
   "source": [
    "rpmi(model)\n",
    "model.slim_optimize()"
   ]
  },
  {
   "cell_type": "code",
   "execution_count": 175,
   "id": "fbd204b7-2737-4e68-9715-749d9b5c1f59",
   "metadata": {},
   "outputs": [],
   "source": [
    "#And I am deleting MLTGY5pp as the lytic transglycosylase should also only work on crosslinked peptidoglycan, since its catalytic activity is to remove those crosslinks.\n",
    "model.remove_reactions('MLTGY5pp')"
   ]
  },
  {
   "cell_type": "code",
   "execution_count": 176,
   "id": "66642a5e-50d1-426d-9557-f92cb9dd05c7",
   "metadata": {},
   "outputs": [
    {
     "data": {
      "text/plain": [
       "0.9421115963506819"
      ]
     },
     "execution_count": 176,
     "metadata": {},
     "output_type": "execute_result"
    }
   ],
   "source": [
    "rpmi(model)\n",
    "model.slim_optimize()"
   ]
  },
  {
   "cell_type": "code",
   "execution_count": 177,
   "id": "574cecaf-2c98-466c-92f5-63689069de0a",
   "metadata": {},
   "outputs": [],
   "source": [
    "#The third protein encoded in the operon is ApeI which de-O-acetylates and has broad acting esterase activity. \n",
    "#(PMID: 23373517)\n",
    "#The original model removed the esterase activity to prevent futile cycling. I added these reactions back in with the GPR rule for ApeI (NGO0532) below.\n",
    "\n",
    "#MAcES1\n",
    "#h_p =model.metabolites.get_by_id('h_p')\n",
    "#murein4p4p4pOAc_p =model.metabolites.get_by_id('murein4p4p4pOAc_p')\n",
    "#ac_c =model.metabolites.get_by_id('ac_c')\n",
    "#murein4p4p4p_p =model.metabolites.get_by_id('murein4p4p4p_p')\n",
    "\n",
    "\n",
    "#MAcESx = cobra.Reaction('MAcES1')\n",
    "#MAcESx.notes = {}\n",
    "#MAcESx.name = 'R_MAcES1'\n",
    "#MAcESx.gene_reaction_rule = 'NGO0532'\n",
    "#MAcESx.lower_bound = 0.\n",
    "#MAcESx.upper_bound = 1000.\n",
    "#MAcESx.add_metabolites({\n",
    "#    h_p: 1.0,\n",
    "#    murein4p4p4pOAc_p: -1.0,\n",
    "#    ac_c: 1.0,\n",
    "#    murein4p4p4p_p: 1.0\n",
    "#})\n",
    "\n",
    "#model.add_reactions([MAcESx])\n",
    "#new_rxns += 1\n",
    "\n",
    "\n",
    "\n",
    "#Actually - deacytalation of 4p4p4pOAc is no longer needed as a reaction since 4p4p4p is now removed. Skipped adding this reaction back in. \n"
   ]
  },
  {
   "cell_type": "markdown",
   "id": "7c63ef88-b0ee-4ca0-b371-3d20fcc9eea6",
   "metadata": {},
   "source": [
    "Like in Nm, the MAcES 2-8 reactions were removed to prevent loops.\n",
    "\n",
    "#MAcES2\n",
    "h_p =model.metabolites.get_by_id('h_p')\n",
    "murein4px4px4pOAc_p =model.metabolites.get_by_id('murein4px4px4pOAc_p')\n",
    "ac_c =model.metabolites.get_by_id('ac_c')\n",
    "murein4px4px4p_p =model.metabolites.get_by_id('murein4px4px4p_p')\n",
    "\n",
    "\n",
    "MAcESx = cobra.Reaction('MAcES2')\n",
    "MAcESx.notes = {}\n",
    "MAcESx.name = 'R_MAcES2'\n",
    "MAcESx.gene_reaction_rule = 'NGO0532'\n",
    "MAcESx.lower_bound = 0.\n",
    "MAcESx.upper_bound = 1000.\n",
    "MAcESx.add_metabolites({\n",
    "    h_p: 1.0,\n",
    "    murein4px4px4pOAc_p: -1.0,\n",
    "    ac_c: 1.0,\n",
    "    murein4px4px4p_p: 1.0\n",
    "})\n",
    "\n",
    "model.add_reactions([MAcESx])\n",
    "new_rxns += 1\n",
    "\n",
    "r = model.reactions.get_by_id('MAcES2')\n",
    "print(r.check_mass_balance())\n",
    "r"
   ]
  },
  {
   "cell_type": "markdown",
   "id": "7f47fbe0-8f3b-42ac-a990-8375162d66a5",
   "metadata": {},
   "source": [
    "#MAcES3\n",
    "h_p =model.metabolites.get_by_id('h_p')\n",
    "murein5p4pOAc_p =model.metabolites.get_by_id('murein5p4pOAc_p')\n",
    "ac_c =model.metabolites.get_by_id('ac_c')\n",
    "murein5p4p_p =model.metabolites.get_by_id('murein5p4p_p')\n",
    "\n",
    "\n",
    "MAcESx = cobra.Reaction('MAcES3')\n",
    "MAcESx.notes = {}\n",
    "MAcESx.name = 'R_MAcES3'\n",
    "MAcESx.gene_reaction_rule = 'NGO0532'\n",
    "MAcESx.lower_bound = 0.\n",
    "MAcESx.upper_bound = 1000.\n",
    "MAcESx.add_metabolites({\n",
    "    h_p: 1.0,\n",
    "    murein5p4pOAc_p: -1.0,\n",
    "    ac_c: 1.0,\n",
    "    murein5p4p_p: 1.0\n",
    "})\n",
    "\n",
    "model.add_reactions([MAcESx])\n",
    "new_rxns += 1\n",
    "\n",
    "r = model.reactions.get_by_id('MAcES3')\n",
    "print(r.check_mass_balance())\n",
    "r"
   ]
  },
  {
   "cell_type": "markdown",
   "id": "cbe46862-f0f5-48f4-a984-a6dec5a0ed17",
   "metadata": {},
   "source": [
    "#MAcES4\n",
    "h_p =model.metabolites.get_by_id('h_p')\n",
    "murein4p4pOAc_p =model.metabolites.get_by_id('murein4p4pOAc_p')\n",
    "ac_c =model.metabolites.get_by_id('ac_c')\n",
    "murein4p4p_p =model.metabolites.get_by_id('murein4p4p_p')\n",
    "\n",
    "\n",
    "MAcESx = cobra.Reaction('MAcES4')\n",
    "MAcESx.notes = {}\n",
    "MAcESx.name = 'R_MAcES4'\n",
    "MAcESx.gene_reaction_rule = 'NGO0532'\n",
    "MAcESx.lower_bound = 0.\n",
    "MAcESx.upper_bound = 1000.\n",
    "MAcESx.add_metabolites({\n",
    "    h_p: 1.0,\n",
    "    murein4p4pOAc_p: -1.0,\n",
    "    ac_c: 1.0,\n",
    "    murein4p4p_p: 1.0\n",
    "})\n",
    "\n",
    "model.add_reactions([MAcESx])\n",
    "new_rxns += 1\n",
    "\n",
    "r = model.reactions.get_by_id('MAcES4')\n",
    "print(r.check_mass_balance())\n",
    "r"
   ]
  },
  {
   "cell_type": "markdown",
   "id": "bb30ae63-b2c1-4e54-be0a-fe6c19347110",
   "metadata": {},
   "source": [
    "#MAcES5\n",
    "h_p =model.metabolites.get_by_id('h_p')\n",
    "murein4p4pdOAc_p =model.metabolites.get_by_id('murein4p4pdOAc_p')\n",
    "ac_c =model.metabolites.get_by_id('ac_c')\n",
    "murein4p4pOAc_p =model.metabolites.get_by_id('murein4p4pOAc_p')\n",
    "\n",
    "\n",
    "MAcESx = cobra.Reaction('MAcES5')\n",
    "MAcESx.notes = {}\n",
    "MAcESx.name = 'R_MAcES5'\n",
    "MAcESx.gene_reaction_rule = 'NGO0532'\n",
    "MAcESx.lower_bound = 0.\n",
    "MAcESx.upper_bound = 1000.\n",
    "MAcESx.add_metabolites({\n",
    "    h_p: 1.0,\n",
    "    murein4p4pdOAc_p: -1.0,\n",
    "    ac_c: 1.0,\n",
    "    murein4p4pOAc_p: 1.0\n",
    "})\n",
    "\n",
    "model.add_reactions([MAcESx])\n",
    "new_rxns += 1\n",
    "\n",
    "r = model.reactions.get_by_id('MAcES5')\n",
    "print(r.check_mass_balance())\n",
    "r"
   ]
  },
  {
   "cell_type": "markdown",
   "id": "c48a81af-89d1-4f38-a9ee-6962d8399b36",
   "metadata": {},
   "source": [
    "#MAcES6\n",
    "h_p =model.metabolites.get_by_id('h_p')\n",
    "murein4p3pOAc_p =model.metabolites.get_by_id('murein4p3pOAc_p')\n",
    "ac_c =model.metabolites.get_by_id('ac_c')\n",
    "murein4p3p_p =model.metabolites.get_by_id('murein4p3p_p')\n",
    "\n",
    "\n",
    "MAcESx = cobra.Reaction('MAcES6')\n",
    "MAcESx.notes = {}\n",
    "MAcESx.name = 'R_MAcES6'\n",
    "MAcESx.gene_reaction_rule = 'NGO0532'\n",
    "MAcESx.lower_bound = 0.\n",
    "MAcESx.upper_bound = 1000.\n",
    "MAcESx.add_metabolites({\n",
    "    h_p: 1.0,\n",
    "    murein4p3pOAc_p: -1.0,\n",
    "    ac_c: 1.0,\n",
    "    murein4p3p_p: 1.0\n",
    "})\n",
    "\n",
    "model.add_reactions([MAcESx])\n",
    "new_rxns += 1\n",
    "\n",
    "r = model.reactions.get_by_id('MAcES6')\n",
    "print(r.check_mass_balance())\n",
    "r"
   ]
  },
  {
   "cell_type": "markdown",
   "id": "4fa0448e-a002-4877-a733-0ee6983fb9be",
   "metadata": {},
   "source": [
    "#MAcES7\n",
    "h_p =model.metabolites.get_by_id('h_p')\n",
    "murein4px4px4pdOAc_p =model.metabolites.get_by_id('murein4px4px4pdOAc_p')\n",
    "ac_c =model.metabolites.get_by_id('ac_c')\n",
    "murein4px4px4pOAc_p =model.metabolites.get_by_id('murein4px4px4pOAc_p')\n",
    "\n",
    "\n",
    "MAcESx = cobra.Reaction('MAcES7')\n",
    "MAcESx.notes = {}\n",
    "MAcESx.name = 'R_MAcES7'\n",
    "MAcESx.gene_reaction_rule = 'NGO0532'\n",
    "MAcESx.lower_bound = 0.\n",
    "MAcESx.upper_bound = 1000.\n",
    "MAcESx.add_metabolites({\n",
    "    h_p: 1.0,\n",
    "    murein4px4px4pdOAc_p: -1.0,\n",
    "    ac_c: 1.0,\n",
    "    murein4px4px4pOAc_p: 1.0\n",
    "})\n",
    "\n",
    "model.add_reactions([MAcESx])\n",
    "new_rxns += 1\n",
    "\n",
    "r = model.reactions.get_by_id('MAcES7')\n",
    "print(r.check_mass_balance())\n",
    "r\n"
   ]
  },
  {
   "cell_type": "markdown",
   "id": "25d6dc8c-f677-4f15-8e3c-f07789aad1e2",
   "metadata": {},
   "source": [
    "#MAcES8\n",
    "h_p =model.metabolites.get_by_id('h_p')\n",
    "murein4px4px4ptOAc_p =model.metabolites.get_by_id('murein4px4px4ptOAc_p')\n",
    "ac_c =model.metabolites.get_by_id('ac_c')\n",
    "murein4px4px4pdOAc_p =model.metabolites.get_by_id('murein4px4px4pdOAc_p')\n",
    "\n",
    "\n",
    "MAcESx = cobra.Reaction('MAcES8')\n",
    "MAcESx.notes = {}\n",
    "MAcESx.name = 'R_MAcES8'\n",
    "MAcESx.gene_reaction_rule = 'NGO0532'\n",
    "MAcESx.lower_bound = 0.\n",
    "MAcESx.upper_bound = 1000.\n",
    "MAcESx.add_metabolites({\n",
    "    h_p: 1.0,\n",
    "    murein4px4px4ptOAc_p: -1.0,\n",
    "    ac_c: 1.0,\n",
    "    murein4px4px4pdOAc_p: 1.0\n",
    "})\n",
    "\n",
    "model.add_reactions([MAcESx])\n",
    "new_rxns += 1\n",
    "\n",
    "r = model.reactions.get_by_id('MAcES8')\n",
    "print(r.check_mass_balance())\n",
    "r"
   ]
  },
  {
   "cell_type": "code",
   "execution_count": 178,
   "id": "20c2a90d-e1f1-4112-af17-9f518f4038c5",
   "metadata": {},
   "outputs": [
    {
     "data": {
      "text/plain": [
       "0.9421115963506819"
      ]
     },
     "execution_count": 178,
     "metadata": {},
     "output_type": "execute_result"
    }
   ],
   "source": [
    "model.slim_optimize()"
   ]
  },
  {
   "cell_type": "code",
   "execution_count": 179,
   "id": "db97bf92-c607-479d-b46b-35db6fedebf0",
   "metadata": {
    "scrolled": true
   },
   "outputs": [
    {
     "name": "stdout",
     "output_type": "stream",
     "text": [
      "{'H': -3.0}\n"
     ]
    },
    {
     "data": {
      "text/html": [
       "\n",
       "        <table>\n",
       "            <tr>\n",
       "                <td><strong>Reaction identifier</strong></td><td>NDPK9</td>\n",
       "            </tr><tr>\n",
       "                <td><strong>Name</strong></td><td>Nucleoside diphosphate kinase ATPIDP</td>\n",
       "            </tr><tr>\n",
       "                <td><strong>Memory address</strong></td>\n",
       "                <td>0x01783e068ee0</td>\n",
       "            </tr><tr>\n",
       "                <td><strong>Stoichiometry</strong></td>\n",
       "                <td>\n",
       "                    <p style='text-align:right'>atp_c + didp_c <=> adp_c + ditp_c</p>\n",
       "                    <p style='text-align:right'>M_atp_c + M_didp_c <=> M_adp_c + M_ditp_c</p>\n",
       "                </td>\n",
       "            </tr><tr>\n",
       "                <td><strong>GPR</strong></td><td>NGO0597</td>\n",
       "            </tr><tr>\n",
       "                <td><strong>Lower bound</strong></td><td>-1000.0</td>\n",
       "            </tr><tr>\n",
       "                <td><strong>Upper bound</strong></td><td>1000.0</td>\n",
       "            </tr>\n",
       "        </table>\n",
       "        "
      ],
      "text/plain": [
       "<Reaction NDPK9 at 0x1783e068ee0>"
      ]
     },
     "execution_count": 179,
     "metadata": {},
     "output_type": "execute_result"
    }
   ],
   "source": [
    "r = model.reactions.get_by_id('NDPK9')\n",
    "print(r.check_mass_balance())\n",
    "r"
   ]
  },
  {
   "cell_type": "code",
   "execution_count": 180,
   "id": "6b5c1f2b-309d-4722-95df-805fcdf47ebd",
   "metadata": {},
   "outputs": [],
   "source": [
    "#No evidence for NGO1881 performing this reaction or for the mening homolog performing the reaction. \n",
    "model.reactions.NDPK1.gene_reaction_rule= 'NGO0597'\n",
    "model.reactions.NDPK5.gene_reaction_rule= 'NGO0597'\n",
    "model.reactions.NDPK8.gene_reaction_rule= 'NGO0597'"
   ]
  },
  {
   "cell_type": "code",
   "execution_count": 181,
   "id": "4923c03d-151b-4074-b952-682f3b07af6c",
   "metadata": {
    "scrolled": true
   },
   "outputs": [
    {
     "name": "stdout",
     "output_type": "stream",
     "text": [
      "{}\n"
     ]
    },
    {
     "data": {
      "text/html": [
       "\n",
       "        <table>\n",
       "            <tr>\n",
       "                <td><strong>Reaction identifier</strong></td><td>NADPK10</td>\n",
       "            </tr><tr>\n",
       "                <td><strong>Name</strong></td><td>NADPK10</td>\n",
       "            </tr><tr>\n",
       "                <td><strong>Memory address</strong></td>\n",
       "                <td>0x01783e068ee0</td>\n",
       "            </tr><tr>\n",
       "                <td><strong>Stoichiometry</strong></td>\n",
       "                <td>\n",
       "                    <p style='text-align:right'>atp_c + didp_c <=> adp_c + ditp_c</p>\n",
       "                    <p style='text-align:right'>M_atp_c + M_didp_c <=> M_adp_c + M_ditp_c</p>\n",
       "                </td>\n",
       "            </tr><tr>\n",
       "                <td><strong>GPR</strong></td><td>NGO0597</td>\n",
       "            </tr><tr>\n",
       "                <td><strong>Lower bound</strong></td><td>-1000.0</td>\n",
       "            </tr><tr>\n",
       "                <td><strong>Upper bound</strong></td><td>1000.0</td>\n",
       "            </tr>\n",
       "        </table>\n",
       "        "
      ],
      "text/plain": [
       "<Reaction NADPK10 at 0x1783e068ee0>"
      ]
     },
     "execution_count": 181,
     "metadata": {},
     "output_type": "execute_result"
    }
   ],
   "source": [
    "r.name = 'NADPK10'\n",
    "r.id ='NADPK10'\n",
    "\n",
    "model.metabolites.get_by_id('didp_c').formula= 'C10H11N4O10P2'\n",
    "\n",
    "print(r.check_mass_balance())\n",
    "r\n"
   ]
  },
  {
   "cell_type": "code",
   "execution_count": 182,
   "id": "fcf1411b-b777-4fdc-a336-d92e257294bb",
   "metadata": {},
   "outputs": [
    {
     "name": "stdout",
     "output_type": "stream",
     "text": [
      "{'H': 1.0}\n"
     ]
    },
    {
     "data": {
      "text/html": [
       "\n",
       "        <table>\n",
       "            <tr>\n",
       "                <td><strong>Reaction identifier</strong></td><td>NTD13</td>\n",
       "            </tr><tr>\n",
       "                <td><strong>Name</strong></td><td>R_NTD13</td>\n",
       "            </tr><tr>\n",
       "                <td><strong>Memory address</strong></td>\n",
       "                <td>0x01783e0a7f70</td>\n",
       "            </tr><tr>\n",
       "                <td><strong>Stoichiometry</strong></td>\n",
       "                <td>\n",
       "                    <p style='text-align:right'>h2o_c + nicrnt_c --> nicrns_c + pi_c</p>\n",
       "                    <p style='text-align:right'>M_h2o_c + M_nicrnt_c --> M_nicrns_c + M_pi_c</p>\n",
       "                </td>\n",
       "            </tr><tr>\n",
       "                <td><strong>GPR</strong></td><td>NGO1058</td>\n",
       "            </tr><tr>\n",
       "                <td><strong>Lower bound</strong></td><td>0.0</td>\n",
       "            </tr><tr>\n",
       "                <td><strong>Upper bound</strong></td><td>1000.0</td>\n",
       "            </tr>\n",
       "        </table>\n",
       "        "
      ],
      "text/plain": [
       "<Reaction NTD13 at 0x1783e0a7f70>"
      ]
     },
     "execution_count": 182,
     "metadata": {},
     "output_type": "execute_result"
    }
   ],
   "source": [
    "#NTD13\n",
    "r = model.reactions.get_by_id('NTD13')\n",
    "print(r.check_mass_balance())\n",
    "r\n"
   ]
  },
  {
   "cell_type": "code",
   "execution_count": 183,
   "id": "ed8d2e2e-a7a5-428c-bb8e-ff2b9d298bab",
   "metadata": {},
   "outputs": [],
   "source": [
    "#changed nicrns_c formula based on Bigg metabolite formula. \n",
    "model.metabolites.get_by_id('nicrns_c').formula= 'C11H13NO6'"
   ]
  },
  {
   "cell_type": "code",
   "execution_count": 184,
   "id": "90bd4444-ac89-4c8a-b23c-a37a53c0926d",
   "metadata": {},
   "outputs": [
    {
     "name": "stdout",
     "output_type": "stream",
     "text": [
      "{}\n"
     ]
    },
    {
     "data": {
      "text/html": [
       "\n",
       "        <table>\n",
       "            <tr>\n",
       "                <td><strong>Reaction identifier</strong></td><td>NTD13</td>\n",
       "            </tr><tr>\n",
       "                <td><strong>Name</strong></td><td>R_NTD13</td>\n",
       "            </tr><tr>\n",
       "                <td><strong>Memory address</strong></td>\n",
       "                <td>0x01783e0a7f70</td>\n",
       "            </tr><tr>\n",
       "                <td><strong>Stoichiometry</strong></td>\n",
       "                <td>\n",
       "                    <p style='text-align:right'>h2o_c + nicrnt_c --> nicrns_c + pi_c</p>\n",
       "                    <p style='text-align:right'>M_h2o_c + M_nicrnt_c --> M_nicrns_c + M_pi_c</p>\n",
       "                </td>\n",
       "            </tr><tr>\n",
       "                <td><strong>GPR</strong></td><td>NGO1058</td>\n",
       "            </tr><tr>\n",
       "                <td><strong>Lower bound</strong></td><td>0.0</td>\n",
       "            </tr><tr>\n",
       "                <td><strong>Upper bound</strong></td><td>1000.0</td>\n",
       "            </tr>\n",
       "        </table>\n",
       "        "
      ],
      "text/plain": [
       "<Reaction NTD13 at 0x1783e0a7f70>"
      ]
     },
     "execution_count": 184,
     "metadata": {},
     "output_type": "execute_result"
    }
   ],
   "source": [
    "print(r.check_mass_balance())\n",
    "r"
   ]
  },
  {
   "cell_type": "code",
   "execution_count": 185,
   "id": "f1f338c4-9f9f-4bde-9118-54141d5efab9",
   "metadata": {},
   "outputs": [
    {
     "name": "stdout",
     "output_type": "stream",
     "text": [
      "{'charge': 4.0, 'H': 4.0}\n"
     ]
    },
    {
     "data": {
      "text/html": [
       "\n",
       "        <table>\n",
       "            <tr>\n",
       "                <td><strong>Reaction identifier</strong></td><td>PHEMEFErel</td>\n",
       "            </tr><tr>\n",
       "                <td><strong>Name</strong></td><td>R_PHEMEFErel</td>\n",
       "            </tr><tr>\n",
       "                <td><strong>Memory address</strong></td>\n",
       "                <td>0x01783dcb8520</td>\n",
       "            </tr><tr>\n",
       "                <td><strong>Stoichiometry</strong></td>\n",
       "                <td>\n",
       "                    <p style='text-align:right'>3.0 h_c + 3.0 nadph_c + 3.0 o2_c + pheme_c --> biliverd_c + co_c + fe2_c + 3.0 h2o_c + 3.0 nadp_c</p>\n",
       "                    <p style='text-align:right'>3.0 M_h_c + 3.0 M_nadph_c + 3.0 M_o2_c + M_pheme_c --> M_biliverd_c + M_co_c + M_fe2_c + 3.0 M_h2o_c + 3.0 M_nadp_c</p>\n",
       "                </td>\n",
       "            </tr><tr>\n",
       "                <td><strong>GPR</strong></td><td>NGO1318</td>\n",
       "            </tr><tr>\n",
       "                <td><strong>Lower bound</strong></td><td>0.0</td>\n",
       "            </tr><tr>\n",
       "                <td><strong>Upper bound</strong></td><td>1000.0</td>\n",
       "            </tr>\n",
       "        </table>\n",
       "        "
      ],
      "text/plain": [
       "<Reaction PHEMEFErel at 0x1783dcb8520>"
      ]
     },
     "execution_count": 185,
     "metadata": {},
     "output_type": "execute_result"
    }
   ],
   "source": [
    "#PHEMEFErel\n",
    "r = model.reactions.get_by_id('PHEMEFErel')\n",
    "print(r.check_mass_balance())\n",
    "r"
   ]
  },
  {
   "cell_type": "code",
   "execution_count": 186,
   "id": "bb95135d-ad64-4050-9acb-73834f3f1ddc",
   "metadata": {},
   "outputs": [
    {
     "name": "stdout",
     "output_type": "stream",
     "text": [
      "{'charge': 7.0}\n"
     ]
    },
    {
     "data": {
      "text/html": [
       "\n",
       "        <table>\n",
       "            <tr>\n",
       "                <td><strong>Reaction identifier</strong></td><td>PHEMEFErel</td>\n",
       "            </tr><tr>\n",
       "                <td><strong>Name</strong></td><td>R_PHEMEFErel</td>\n",
       "            </tr><tr>\n",
       "                <td><strong>Memory address</strong></td>\n",
       "                <td>0x01783dcb8520</td>\n",
       "            </tr><tr>\n",
       "                <td><strong>Stoichiometry</strong></td>\n",
       "                <td>\n",
       "                    <p style='text-align:right'>3.0 h_c + 6.0 nadph_c + 3.0 o2_c + pheme_c --> biliverd_c + co_c + fe2_c + 3.0 h2o_c + 6.0 nadp_c</p>\n",
       "                    <p style='text-align:right'>3.0 M_h_c + 6.0 M_nadph_c + 3.0 M_o2_c + M_pheme_c --> M_biliverd_c + M_co_c + M_fe2_c + 3.0 M_h2o_c + 6.0 M_nadp_c</p>\n",
       "                </td>\n",
       "            </tr><tr>\n",
       "                <td><strong>GPR</strong></td><td>NGO1318</td>\n",
       "            </tr><tr>\n",
       "                <td><strong>Lower bound</strong></td><td>0.0</td>\n",
       "            </tr><tr>\n",
       "                <td><strong>Upper bound</strong></td><td>1000.0</td>\n",
       "            </tr>\n",
       "        </table>\n",
       "        "
      ],
      "text/plain": [
       "<Reaction PHEMEFErel at 0x1783dcb8520>"
      ]
     },
     "execution_count": 186,
     "metadata": {},
     "output_type": "execute_result"
    }
   ],
   "source": [
    "#Product of a simplified, 3 step reaction that requires 2 NADPHs. PMCID: PMC111422. \n",
    "#This reaction is described in kegg as requiring 3 \"electron donors\" and 3\"electron acceptors\", which is likely the cause of the error. https://www.genome.jp/entry/R11816\n",
    "\n",
    "\n",
    "model.metabolites.get_by_id('biliverd_c').formula= 'C33H33N4O6'\n",
    "NADPH_c =model.metabolites.get_by_id('nadph_c')\n",
    "nadp_c =model.metabolites.get_by_id('nadp_c')\n",
    "\n",
    "r.add_metabolites({\n",
    "    NADPH_c: -3.0,\n",
    "    nadp_c: 3.0\n",
    "})\n",
    "\n",
    "print(r.check_mass_balance())\n",
    "r\n",
    "#Leaving charge imbalanced as its a simplified reaction"
   ]
  },
  {
   "cell_type": "code",
   "execution_count": 187,
   "id": "b4711957-de2d-4cff-9bfa-0b826d85a44b",
   "metadata": {},
   "outputs": [
    {
     "name": "stdout",
     "output_type": "stream",
     "text": [
      "{'charge': -1.0, 'C': 7.0, 'H': 9.0, 'O': 3.0}\n"
     ]
    },
    {
     "data": {
      "text/html": [
       "\n",
       "        <table>\n",
       "            <tr>\n",
       "                <td><strong>Reaction identifier</strong></td><td>PMCOAS</td>\n",
       "            </tr><tr>\n",
       "                <td><strong>Name</strong></td><td>R_PMCOAS</td>\n",
       "            </tr><tr>\n",
       "                <td><strong>Memory address</strong></td>\n",
       "                <td>0x01783dd31fd0</td>\n",
       "            </tr><tr>\n",
       "                <td><strong>Stoichiometry</strong></td>\n",
       "                <td>\n",
       "                    <p style='text-align:right'>coa_c --> pmcoa_c</p>\n",
       "                    <p style='text-align:right'>M_coa_c --> M_pmcoa_c</p>\n",
       "                </td>\n",
       "            </tr><tr>\n",
       "                <td><strong>GPR</strong></td><td>NGO1481 and NGO1725</td>\n",
       "            </tr><tr>\n",
       "                <td><strong>Lower bound</strong></td><td>0.0</td>\n",
       "            </tr><tr>\n",
       "                <td><strong>Upper bound</strong></td><td>1000.0</td>\n",
       "            </tr>\n",
       "        </table>\n",
       "        "
      ],
      "text/plain": [
       "<Reaction PMCOAS at 0x1783dd31fd0>"
      ]
     },
     "execution_count": 187,
     "metadata": {},
     "output_type": "execute_result"
    }
   ],
   "source": [
    "#PMCOAS\n",
    "r = model.reactions.get_by_id('PMCOAS')\n",
    "print(r.check_mass_balance())\n",
    "r\n",
    "#Okay to leave unbalanced. THis reaction is a simplification of a multistep ACP dependent reaction that isn't well understood. "
   ]
  },
  {
   "cell_type": "code",
   "execution_count": 188,
   "id": "1fb046dc-c5a4-4374-8e93-90ac8142bd14",
   "metadata": {},
   "outputs": [
    {
     "name": "stdout",
     "output_type": "stream",
     "text": [
      "{'charge': 1.0, 'H': 1.0}\n"
     ]
    },
    {
     "data": {
      "text/html": [
       "\n",
       "        <table>\n",
       "            <tr>\n",
       "                <td><strong>Reaction identifier</strong></td><td>SAMC</td>\n",
       "            </tr><tr>\n",
       "                <td><strong>Name</strong></td><td>R_SAMC</td>\n",
       "            </tr><tr>\n",
       "                <td><strong>Memory address</strong></td>\n",
       "                <td>0x01783e2b4700</td>\n",
       "            </tr><tr>\n",
       "                <td><strong>Stoichiometry</strong></td>\n",
       "                <td>\n",
       "                    <p style='text-align:right'>amet_c --> ametam_c + co2_c</p>\n",
       "                    <p style='text-align:right'>M_amet_c --> M_ametam_c + M_co2_c</p>\n",
       "                </td>\n",
       "            </tr><tr>\n",
       "                <td><strong>GPR</strong></td><td>Orphan</td>\n",
       "            </tr><tr>\n",
       "                <td><strong>Lower bound</strong></td><td>0.0</td>\n",
       "            </tr><tr>\n",
       "                <td><strong>Upper bound</strong></td><td>1000.0</td>\n",
       "            </tr>\n",
       "        </table>\n",
       "        "
      ],
      "text/plain": [
       "<Reaction SAMC at 0x1783e2b4700>"
      ]
     },
     "execution_count": 188,
     "metadata": {},
     "output_type": "execute_result"
    }
   ],
   "source": [
    "#SAMC\n",
    "r = model.reactions.get_by_id('SAMC')\n",
    "print(r.check_mass_balance())\n",
    "r\n",
    "\n"
   ]
  },
  {
   "cell_type": "code",
   "execution_count": 189,
   "id": "62bbc5f1-1990-45c3-a551-fb59bdadadb9",
   "metadata": {},
   "outputs": [
    {
     "name": "stdout",
     "output_type": "stream",
     "text": [
      "{}\n"
     ]
    },
    {
     "data": {
      "text/html": [
       "\n",
       "        <table>\n",
       "            <tr>\n",
       "                <td><strong>Reaction identifier</strong></td><td>SAMC</td>\n",
       "            </tr><tr>\n",
       "                <td><strong>Name</strong></td><td>R_SAMC</td>\n",
       "            </tr><tr>\n",
       "                <td><strong>Memory address</strong></td>\n",
       "                <td>0x01783e2b4700</td>\n",
       "            </tr><tr>\n",
       "                <td><strong>Stoichiometry</strong></td>\n",
       "                <td>\n",
       "                    <p style='text-align:right'>amet_c + h_c --> ametam_c + co2_c</p>\n",
       "                    <p style='text-align:right'>M_amet_c + M_h_c --> M_ametam_c + M_co2_c</p>\n",
       "                </td>\n",
       "            </tr><tr>\n",
       "                <td><strong>GPR</strong></td><td>Orphan</td>\n",
       "            </tr><tr>\n",
       "                <td><strong>Lower bound</strong></td><td>0.0</td>\n",
       "            </tr><tr>\n",
       "                <td><strong>Upper bound</strong></td><td>1000.0</td>\n",
       "            </tr>\n",
       "        </table>\n",
       "        "
      ],
      "text/plain": [
       "<Reaction SAMC at 0x1783e2b4700>"
      ]
     },
     "execution_count": 189,
     "metadata": {},
     "output_type": "execute_result"
    }
   ],
   "source": [
    "h_c =model.metabolites.get_by_id('h_c')\n",
    "\n",
    "r.add_metabolites({\n",
    "    h_c: -1,\n",
    "})\n",
    "\n",
    "print(r.check_mass_balance())\n",
    "r"
   ]
  },
  {
   "cell_type": "code",
   "execution_count": 190,
   "id": "c223c425-e1a4-4542-b086-1dfec86cafba",
   "metadata": {},
   "outputs": [
    {
     "name": "stdout",
     "output_type": "stream",
     "text": [
      "{'charge': -1.0, 'H': -1.0}\n"
     ]
    },
    {
     "data": {
      "text/html": [
       "\n",
       "        <table>\n",
       "            <tr>\n",
       "                <td><strong>Reaction identifier</strong></td><td>SHSL2</td>\n",
       "            </tr><tr>\n",
       "                <td><strong>Name</strong></td><td>O succinylhomoserine lyase H2S</td>\n",
       "            </tr><tr>\n",
       "                <td><strong>Memory address</strong></td>\n",
       "                <td>0x01783e2c5e50</td>\n",
       "            </tr><tr>\n",
       "                <td><strong>Stoichiometry</strong></td>\n",
       "                <td>\n",
       "                    <p style='text-align:right'>h2s_c + suchms_c --> hcys_L_c + succ_c</p>\n",
       "                    <p style='text-align:right'>M_h2s_c + M_suchms_c --> M_hcys_L_c + M_succ_c</p>\n",
       "                </td>\n",
       "            </tr><tr>\n",
       "                <td><strong>GPR</strong></td><td>NGO1149</td>\n",
       "            </tr><tr>\n",
       "                <td><strong>Lower bound</strong></td><td>0.0</td>\n",
       "            </tr><tr>\n",
       "                <td><strong>Upper bound</strong></td><td>1000.0</td>\n",
       "            </tr>\n",
       "        </table>\n",
       "        "
      ],
      "text/plain": [
       "<Reaction SHSL2 at 0x1783e2c5e50>"
      ]
     },
     "execution_count": 190,
     "metadata": {},
     "output_type": "execute_result"
    }
   ],
   "source": [
    "#SHLS2\n",
    "r = model.reactions.get_by_id('SHSL2')\n",
    "print(r.check_mass_balance())\n",
    "r\n"
   ]
  },
  {
   "cell_type": "code",
   "execution_count": 191,
   "id": "15d87427-e31d-4918-90c4-ce9b191fc0b9",
   "metadata": {},
   "outputs": [
    {
     "name": "stdout",
     "output_type": "stream",
     "text": [
      "{}\n"
     ]
    },
    {
     "data": {
      "text/html": [
       "\n",
       "        <table>\n",
       "            <tr>\n",
       "                <td><strong>Reaction identifier</strong></td><td>SHSL2</td>\n",
       "            </tr><tr>\n",
       "                <td><strong>Name</strong></td><td>O succinylhomoserine lyase H2S</td>\n",
       "            </tr><tr>\n",
       "                <td><strong>Memory address</strong></td>\n",
       "                <td>0x01783e2c5e50</td>\n",
       "            </tr><tr>\n",
       "                <td><strong>Stoichiometry</strong></td>\n",
       "                <td>\n",
       "                    <p style='text-align:right'>h2s_c + suchms_c --> h_c + hcys_L_c + succ_c</p>\n",
       "                    <p style='text-align:right'>M_h2s_c + M_suchms_c --> M_h_c + M_hcys_L_c + M_succ_c</p>\n",
       "                </td>\n",
       "            </tr><tr>\n",
       "                <td><strong>GPR</strong></td><td>NGO1149</td>\n",
       "            </tr><tr>\n",
       "                <td><strong>Lower bound</strong></td><td>0.0</td>\n",
       "            </tr><tr>\n",
       "                <td><strong>Upper bound</strong></td><td>1000.0</td>\n",
       "            </tr>\n",
       "        </table>\n",
       "        "
      ],
      "text/plain": [
       "<Reaction SHSL2 at 0x1783e2c5e50>"
      ]
     },
     "execution_count": 191,
     "metadata": {},
     "output_type": "execute_result"
    }
   ],
   "source": [
    "h_c =model.metabolites.get_by_id('h_c')\n",
    "\n",
    "r.add_metabolites({\n",
    "    h_c: 1,\n",
    "})\n",
    "\n",
    "print(r.check_mass_balance())\n",
    "r"
   ]
  },
  {
   "cell_type": "code",
   "execution_count": 192,
   "id": "f4eaeb5d-6cb4-456a-a1b8-2277d49aa888",
   "metadata": {},
   "outputs": [
    {
     "name": "stdout",
     "output_type": "stream",
     "text": [
      "{'charge': -1.0, 'H': -1.0}\n"
     ]
    },
    {
     "data": {
      "text/html": [
       "\n",
       "        <table>\n",
       "            <tr>\n",
       "                <td><strong>Reaction identifier</strong></td><td>SHSL3</td>\n",
       "            </tr><tr>\n",
       "                <td><strong>Name</strong></td><td>O succinylhomoserine lyase methanethiol</td>\n",
       "            </tr><tr>\n",
       "                <td><strong>Memory address</strong></td>\n",
       "                <td>0x01783e2c5370</td>\n",
       "            </tr><tr>\n",
       "                <td><strong>Stoichiometry</strong></td>\n",
       "                <td>\n",
       "                    <p style='text-align:right'>achms_c + cys_L_c --> ac_c + cyst_L_c</p>\n",
       "                    <p style='text-align:right'>M_achms_c + M_cys_L_c --> M_ac_c + M_cyst_L_c</p>\n",
       "                </td>\n",
       "            </tr><tr>\n",
       "                <td><strong>GPR</strong></td><td>NGO0386</td>\n",
       "            </tr><tr>\n",
       "                <td><strong>Lower bound</strong></td><td>0.0</td>\n",
       "            </tr><tr>\n",
       "                <td><strong>Upper bound</strong></td><td>1000.0</td>\n",
       "            </tr>\n",
       "        </table>\n",
       "        "
      ],
      "text/plain": [
       "<Reaction SHSL3 at 0x1783e2c5370>"
      ]
     },
     "execution_count": 192,
     "metadata": {},
     "output_type": "execute_result"
    }
   ],
   "source": [
    "#SHLS3\n",
    "r = model.reactions.get_by_id('SHSL3')\n",
    "print(r.check_mass_balance())\n",
    "r\n"
   ]
  },
  {
   "cell_type": "code",
   "execution_count": 193,
   "id": "0ba84623-f8ab-4755-8857-0e55315d2866",
   "metadata": {
    "scrolled": true
   },
   "outputs": [
    {
     "name": "stdout",
     "output_type": "stream",
     "text": [
      "{}\n"
     ]
    },
    {
     "data": {
      "text/html": [
       "\n",
       "        <table>\n",
       "            <tr>\n",
       "                <td><strong>Reaction identifier</strong></td><td>SHSL3</td>\n",
       "            </tr><tr>\n",
       "                <td><strong>Name</strong></td><td>O succinylhomoserine lyase methanethiol</td>\n",
       "            </tr><tr>\n",
       "                <td><strong>Memory address</strong></td>\n",
       "                <td>0x01783e2c5370</td>\n",
       "            </tr><tr>\n",
       "                <td><strong>Stoichiometry</strong></td>\n",
       "                <td>\n",
       "                    <p style='text-align:right'>achms_c + cys_L_c --> ac_c + cyst_L_c + h_c</p>\n",
       "                    <p style='text-align:right'>M_achms_c + M_cys_L_c --> M_ac_c + M_cyst_L_c + M_h_c</p>\n",
       "                </td>\n",
       "            </tr><tr>\n",
       "                <td><strong>GPR</strong></td><td>NGO0386</td>\n",
       "            </tr><tr>\n",
       "                <td><strong>Lower bound</strong></td><td>0.0</td>\n",
       "            </tr><tr>\n",
       "                <td><strong>Upper bound</strong></td><td>1000.0</td>\n",
       "            </tr>\n",
       "        </table>\n",
       "        "
      ],
      "text/plain": [
       "<Reaction SHSL3 at 0x1783e2c5370>"
      ]
     },
     "execution_count": 193,
     "metadata": {},
     "output_type": "execute_result"
    }
   ],
   "source": [
    "h_c =model.metabolites.get_by_id('h_c')\n",
    "\n",
    "r.add_metabolites({\n",
    "    h_c: 1,\n",
    "})\n",
    "\n",
    "print(r.check_mass_balance())\n",
    "r"
   ]
  },
  {
   "cell_type": "code",
   "execution_count": 194,
   "id": "5c14307c-464b-49db-b793-64d1d0a0d502",
   "metadata": {
    "scrolled": true
   },
   "outputs": [
    {
     "name": "stdout",
     "output_type": "stream",
     "text": [
      "{'charge': -1.0, 'H': -1.0}\n"
     ]
    },
    {
     "data": {
      "text/html": [
       "\n",
       "        <table>\n",
       "            <tr>\n",
       "                <td><strong>Reaction identifier</strong></td><td>SHSL5</td>\n",
       "            </tr><tr>\n",
       "                <td><strong>Name</strong></td><td>R_SHSL5</td>\n",
       "            </tr><tr>\n",
       "                <td><strong>Memory address</strong></td>\n",
       "                <td>0x01783e2cf970</td>\n",
       "            </tr><tr>\n",
       "                <td><strong>Stoichiometry</strong></td>\n",
       "                <td>\n",
       "                    <p style='text-align:right'>h2o_c + suchms_c --> 2obut_c + nh4_c + succ_c</p>\n",
       "                    <p style='text-align:right'>M_h2o_c + M_suchms_c --> M_2obut_c + M_nh4_c + M_succ_c</p>\n",
       "                </td>\n",
       "            </tr><tr>\n",
       "                <td><strong>GPR</strong></td><td>NGO0386</td>\n",
       "            </tr><tr>\n",
       "                <td><strong>Lower bound</strong></td><td>0.0</td>\n",
       "            </tr><tr>\n",
       "                <td><strong>Upper bound</strong></td><td>1000.0</td>\n",
       "            </tr>\n",
       "        </table>\n",
       "        "
      ],
      "text/plain": [
       "<Reaction SHSL5 at 0x1783e2cf970>"
      ]
     },
     "execution_count": 194,
     "metadata": {},
     "output_type": "execute_result"
    }
   ],
   "source": [
    "#SHLS5\n",
    "r = model.reactions.get_by_id('SHSL5')\n",
    "print(r.check_mass_balance())\n",
    "r\n"
   ]
  },
  {
   "cell_type": "code",
   "execution_count": 195,
   "id": "f2e70f0e-6ae9-42cf-954e-2d5daede8abc",
   "metadata": {
    "scrolled": true
   },
   "outputs": [
    {
     "name": "stdout",
     "output_type": "stream",
     "text": [
      "{}\n"
     ]
    },
    {
     "data": {
      "text/html": [
       "\n",
       "        <table>\n",
       "            <tr>\n",
       "                <td><strong>Reaction identifier</strong></td><td>SHSL5</td>\n",
       "            </tr><tr>\n",
       "                <td><strong>Name</strong></td><td>R_SHSL5</td>\n",
       "            </tr><tr>\n",
       "                <td><strong>Memory address</strong></td>\n",
       "                <td>0x01783e2cf970</td>\n",
       "            </tr><tr>\n",
       "                <td><strong>Stoichiometry</strong></td>\n",
       "                <td>\n",
       "                    <p style='text-align:right'>h2o_c + suchms_c --> 2obut_c + h_c + nh4_c + succ_c</p>\n",
       "                    <p style='text-align:right'>M_h2o_c + M_suchms_c --> M_2obut_c + M_h_c + M_nh4_c + M_succ_c</p>\n",
       "                </td>\n",
       "            </tr><tr>\n",
       "                <td><strong>GPR</strong></td><td>NGO0386</td>\n",
       "            </tr><tr>\n",
       "                <td><strong>Lower bound</strong></td><td>0.0</td>\n",
       "            </tr><tr>\n",
       "                <td><strong>Upper bound</strong></td><td>1000.0</td>\n",
       "            </tr>\n",
       "        </table>\n",
       "        "
      ],
      "text/plain": [
       "<Reaction SHSL5 at 0x1783e2cf970>"
      ]
     },
     "execution_count": 195,
     "metadata": {},
     "output_type": "execute_result"
    }
   ],
   "source": [
    "h_c =model.metabolites.get_by_id('h_c')\n",
    "\n",
    "r.add_metabolites({\n",
    "    h_c: 1,\n",
    "})\n",
    "\n",
    "print(r.check_mass_balance())\n",
    "r"
   ]
  },
  {
   "cell_type": "code",
   "execution_count": 196,
   "id": "486915d1-cd8d-4e17-b12e-fbff21f9e08d",
   "metadata": {
    "scrolled": true
   },
   "outputs": [
    {
     "name": "stdout",
     "output_type": "stream",
     "text": [
      "{'charge': -2.0, 'H': -2.0}\n"
     ]
    },
    {
     "data": {
      "text/html": [
       "\n",
       "        <table>\n",
       "            <tr>\n",
       "                <td><strong>Reaction identifier</strong></td><td>SHSL4</td>\n",
       "            </tr><tr>\n",
       "                <td><strong>Name</strong></td><td>R_SHSL4</td>\n",
       "            </tr><tr>\n",
       "                <td><strong>Memory address</strong></td>\n",
       "                <td>0x01783e2cf610</td>\n",
       "            </tr><tr>\n",
       "                <td><strong>Stoichiometry</strong></td>\n",
       "                <td>\n",
       "                    <p style='text-align:right'>achms_c + h_c + trdrd_c + tsul_c --> ac_c + hcys_L_c + so3_c + trdox_c</p>\n",
       "                    <p style='text-align:right'>M_achms_c + M_h_c + M_trdrd_c + M_tsul_c --> M_ac_c + M_hcys_L_c + M_so3_c + M_trdox_c</p>\n",
       "                </td>\n",
       "            </tr><tr>\n",
       "                <td><strong>GPR</strong></td><td>NGO0386</td>\n",
       "            </tr><tr>\n",
       "                <td><strong>Lower bound</strong></td><td>0.0</td>\n",
       "            </tr><tr>\n",
       "                <td><strong>Upper bound</strong></td><td>1000.0</td>\n",
       "            </tr>\n",
       "        </table>\n",
       "        "
      ],
      "text/plain": [
       "<Reaction SHSL4 at 0x1783e2cf610>"
      ]
     },
     "execution_count": 196,
     "metadata": {},
     "output_type": "execute_result"
    }
   ],
   "source": [
    "#SHLS4\n",
    "r = model.reactions.get_by_id('SHSL4')\n",
    "print(r.check_mass_balance())\n",
    "r\n"
   ]
  },
  {
   "cell_type": "code",
   "execution_count": 197,
   "id": "24252b5c-722f-4be4-aab3-de8ba1953815",
   "metadata": {
    "scrolled": true
   },
   "outputs": [
    {
     "name": "stdout",
     "output_type": "stream",
     "text": [
      "{}\n"
     ]
    },
    {
     "data": {
      "text/html": [
       "\n",
       "        <table>\n",
       "            <tr>\n",
       "                <td><strong>Reaction identifier</strong></td><td>SHSL4</td>\n",
       "            </tr><tr>\n",
       "                <td><strong>Name</strong></td><td>R_SHSL4</td>\n",
       "            </tr><tr>\n",
       "                <td><strong>Memory address</strong></td>\n",
       "                <td>0x01783e2cf610</td>\n",
       "            </tr><tr>\n",
       "                <td><strong>Stoichiometry</strong></td>\n",
       "                <td>\n",
       "                    <p style='text-align:right'>achms_c + trdrd_c + tsul_c --> ac_c + h_c + hcys_L_c + so3_c + trdox_c</p>\n",
       "                    <p style='text-align:right'>M_achms_c + M_trdrd_c + M_tsul_c --> M_ac_c + M_h_c + M_hcys_L_c + M_so3_c + M_trdox_c</p>\n",
       "                </td>\n",
       "            </tr><tr>\n",
       "                <td><strong>GPR</strong></td><td>NGO0386</td>\n",
       "            </tr><tr>\n",
       "                <td><strong>Lower bound</strong></td><td>0.0</td>\n",
       "            </tr><tr>\n",
       "                <td><strong>Upper bound</strong></td><td>1000.0</td>\n",
       "            </tr>\n",
       "        </table>\n",
       "        "
      ],
      "text/plain": [
       "<Reaction SHSL4 at 0x1783e2cf610>"
      ]
     },
     "execution_count": 197,
     "metadata": {},
     "output_type": "execute_result"
    }
   ],
   "source": [
    "h_c =model.metabolites.get_by_id('h_c')\n",
    "\n",
    "r.add_metabolites({\n",
    "    h_c: 2,\n",
    "})\n",
    "\n",
    "print(r.check_mass_balance())\n",
    "r"
   ]
  },
  {
   "cell_type": "code",
   "execution_count": 198,
   "id": "c9e706fe-5b73-4022-a772-7ca3a99dd6dc",
   "metadata": {},
   "outputs": [
    {
     "name": "stdout",
     "output_type": "stream",
     "text": [
      "{'charge': 6.0, 'Fe': 1.0}\n"
     ]
    },
    {
     "data": {
      "text/html": [
       "\n",
       "        <table>\n",
       "            <tr>\n",
       "                <td><strong>Reaction identifier</strong></td><td>TFFE</td>\n",
       "            </tr><tr>\n",
       "                <td><strong>Name</strong></td><td>R_TFFE</td>\n",
       "            </tr><tr>\n",
       "                <td><strong>Memory address</strong></td>\n",
       "                <td>0x01783e2fb550</td>\n",
       "            </tr><tr>\n",
       "                <td><strong>Stoichiometry</strong></td>\n",
       "                <td>\n",
       "                    <p style='text-align:right'>TfFe3_e --> Tf_e + 2.0 fe3_p</p>\n",
       "                    <p style='text-align:right'>M_TfFe3_e --> M_Tf_e + 2.0 M_fe3_p</p>\n",
       "                </td>\n",
       "            </tr><tr>\n",
       "                <td><strong>GPR</strong></td><td>NGO1496 and NGO1495 and NGO1379 and NGO1378 and ( Blank or NGO1377 ) and NGO0217 and NGO0216 and...</td>\n",
       "            </tr><tr>\n",
       "                <td><strong>Lower bound</strong></td><td>0.0</td>\n",
       "            </tr><tr>\n",
       "                <td><strong>Upper bound</strong></td><td>1000.0</td>\n",
       "            </tr>\n",
       "        </table>\n",
       "        "
      ],
      "text/plain": [
       "<Reaction TFFE at 0x1783e2fb550>"
      ]
     },
     "execution_count": 198,
     "metadata": {},
     "output_type": "execute_result"
    }
   ],
   "source": [
    "#TFFE\n",
    "r = model.reactions.get_by_id('TFFE')\n",
    "print(r.check_mass_balance())\n",
    "r\n"
   ]
  },
  {
   "cell_type": "code",
   "execution_count": 199,
   "id": "2101474e-438a-45ba-8fea-b227551991f2",
   "metadata": {},
   "outputs": [
    {
     "name": "stdout",
     "output_type": "stream",
     "text": [
      "{}\n"
     ]
    },
    {
     "data": {
      "text/html": [
       "\n",
       "        <table>\n",
       "            <tr>\n",
       "                <td><strong>Reaction identifier</strong></td><td>TFFE</td>\n",
       "            </tr><tr>\n",
       "                <td><strong>Name</strong></td><td>R_TFFE</td>\n",
       "            </tr><tr>\n",
       "                <td><strong>Memory address</strong></td>\n",
       "                <td>0x01783e2fb550</td>\n",
       "            </tr><tr>\n",
       "                <td><strong>Stoichiometry</strong></td>\n",
       "                <td>\n",
       "                    <p style='text-align:right'>TfFe3_e --> Tf_e + fe3_p</p>\n",
       "                    <p style='text-align:right'>M_TfFe3_e --> M_Tf_e + M_fe3_p</p>\n",
       "                </td>\n",
       "            </tr><tr>\n",
       "                <td><strong>GPR</strong></td><td>NGO1496 and NGO1495 and NGO1379 and NGO1378 and ( Blank or NGO1377 ) and NGO0217 and NGO0216 and...</td>\n",
       "            </tr><tr>\n",
       "                <td><strong>Lower bound</strong></td><td>0.0</td>\n",
       "            </tr><tr>\n",
       "                <td><strong>Upper bound</strong></td><td>1000.0</td>\n",
       "            </tr>\n",
       "        </table>\n",
       "        "
      ],
      "text/plain": [
       "<Reaction TFFE at 0x1783e2fb550>"
      ]
     },
     "execution_count": 199,
     "metadata": {},
     "output_type": "execute_result"
    }
   ],
   "source": [
    "#Although transferrin holds two irons, Gc is only capable of stripping one off at a time. So transferrin is made to produce a single iron here. \n",
    "fe3_p =model.metabolites.get_by_id('fe3_p')\n",
    "\n",
    "r.add_metabolites({\n",
    "    fe3_p: -1,\n",
    "})\n",
    "model.metabolites.TfFe3_e.charge=3\n",
    "\n",
    "print(r.check_mass_balance())\n",
    "r"
   ]
  },
  {
   "cell_type": "code",
   "execution_count": 200,
   "id": "d1ecc168-f5e3-44ad-9899-146f5fc55baf",
   "metadata": {},
   "outputs": [
    {
     "name": "stdout",
     "output_type": "stream",
     "text": [
      "{'X': 1.0}\n"
     ]
    },
    {
     "data": {
      "text/html": [
       "\n",
       "        <table>\n",
       "            <tr>\n",
       "                <td><strong>Reaction identifier</strong></td><td>TRDR1</td>\n",
       "            </tr><tr>\n",
       "                <td><strong>Name</strong></td><td>R_TRDR1</td>\n",
       "            </tr><tr>\n",
       "                <td><strong>Memory address</strong></td>\n",
       "                <td>0x01783e3229d0</td>\n",
       "            </tr><tr>\n",
       "                <td><strong>Stoichiometry</strong></td>\n",
       "                <td>\n",
       "                    <p style='text-align:right'>h_c + nadph_c --> nadp_c + trdrd_c</p>\n",
       "                    <p style='text-align:right'>M_h_c + M_nadph_c --> M_nadp_c + M_trdrd_c</p>\n",
       "                </td>\n",
       "            </tr><tr>\n",
       "                <td><strong>GPR</strong></td><td>NGO0580 and NGO2124</td>\n",
       "            </tr><tr>\n",
       "                <td><strong>Lower bound</strong></td><td>0.0</td>\n",
       "            </tr><tr>\n",
       "                <td><strong>Upper bound</strong></td><td>1000.0</td>\n",
       "            </tr>\n",
       "        </table>\n",
       "        "
      ],
      "text/plain": [
       "<Reaction TRDR1 at 0x1783e3229d0>"
      ]
     },
     "execution_count": 200,
     "metadata": {},
     "output_type": "execute_result"
    }
   ],
   "source": [
    "#TRDR1\n",
    "#synthesis of thioredoxin. Protein based component. Need to \n",
    "r = model.reactions.get_by_id('TRDR1')\n",
    "print(r.check_mass_balance())\n",
    "r\n"
   ]
  },
  {
   "cell_type": "code",
   "execution_count": 201,
   "id": "438640f0-f5dc-4228-bdeb-9c7b2a32569a",
   "metadata": {},
   "outputs": [
    {
     "name": "stdout",
     "output_type": "stream",
     "text": [
      "{}\n"
     ]
    },
    {
     "data": {
      "text/html": [
       "\n",
       "        <table>\n",
       "            <tr>\n",
       "                <td><strong>Reaction identifier</strong></td><td>TRDR1</td>\n",
       "            </tr><tr>\n",
       "                <td><strong>Name</strong></td><td>R_TRDR1</td>\n",
       "            </tr><tr>\n",
       "                <td><strong>Memory address</strong></td>\n",
       "                <td>0x01783e3229d0</td>\n",
       "            </tr><tr>\n",
       "                <td><strong>Stoichiometry</strong></td>\n",
       "                <td>\n",
       "                    <p style='text-align:right'>h_c + nadph_c + trdox_c --> nadp_c + trdrd_c</p>\n",
       "                    <p style='text-align:right'>M_h_c + M_nadph_c + M_trdox_c --> M_nadp_c + M_trdrd_c</p>\n",
       "                </td>\n",
       "            </tr><tr>\n",
       "                <td><strong>GPR</strong></td><td>NGO0580 and NGO2124</td>\n",
       "            </tr><tr>\n",
       "                <td><strong>Lower bound</strong></td><td>0.0</td>\n",
       "            </tr><tr>\n",
       "                <td><strong>Upper bound</strong></td><td>1000.0</td>\n",
       "            </tr>\n",
       "        </table>\n",
       "        "
      ],
      "text/plain": [
       "<Reaction TRDR1 at 0x1783e3229d0>"
      ]
     },
     "execution_count": 201,
     "metadata": {},
     "output_type": "execute_result"
    }
   ],
   "source": [
    "trdox_c =model.metabolites.get_by_id('trdox_c')\n",
    "\n",
    "r.add_metabolites({\n",
    "    trdox_c: -1,\n",
    "})\n",
    "\n",
    "print(r.check_mass_balance())\n",
    "r"
   ]
  },
  {
   "cell_type": "code",
   "execution_count": 202,
   "id": "96165552-fc1a-4041-bf58-1c6f482fc068",
   "metadata": {},
   "outputs": [],
   "source": [
    "###Figure out why this prevents the model from writing to SBML \n",
    "\n",
    "#Add thioredoxin import reaction. This is required to show \"synthesis\" of a protein based component. \n",
    "#Integration of Biomass Formulations of Genome-Scale Metabolic Models with Experimental Data Reveals Universally Essential Cofactors in Prokaryotes\n",
    "#Joana C Xavier, Kiran Raosaheb Patil, Isabel Rocha\n",
    "#PMID: 27939572 PMCID: PMC5249239\n",
    "\n",
    "trdrd_c = model.metabolites.get_by_id('trdrd_c')\n",
    "\n",
    "EX_trdrd_c_ = cobra.Reaction('EX_trdrd_c_')\n",
    "EX_trdrd_c_.gene_reaction_rule = ''\n",
    "EX_trdrd_c_.lower_bound = 0.\n",
    "EX_trdrd_c_.upper_bound = 1000.\n",
    "EX_trdrd_c_.add_metabolites({\n",
    "    trdrd_c: -1.0,\n",
    "})\n",
    "\n",
    "model.add_reactions([EX_trdrd_c_])\n",
    "new_rxns += 1\n"
   ]
  },
  {
   "cell_type": "code",
   "execution_count": 203,
   "id": "ac614754-e355-4c9a-9aab-d54019fb18bf",
   "metadata": {},
   "outputs": [
    {
     "name": "stdout",
     "output_type": "stream",
     "text": [
      "{'charge': -2.0, 'H': -2.0}\n"
     ]
    },
    {
     "data": {
      "text/html": [
       "\n",
       "        <table>\n",
       "            <tr>\n",
       "                <td><strong>Reaction identifier</strong></td><td>TSULST</td>\n",
       "            </tr><tr>\n",
       "                <td><strong>Name</strong></td><td>R_TSULST</td>\n",
       "            </tr><tr>\n",
       "                <td><strong>Memory address</strong></td>\n",
       "                <td>0x01783e336970</td>\n",
       "            </tr><tr>\n",
       "                <td><strong>Stoichiometry</strong></td>\n",
       "                <td>\n",
       "                    <p style='text-align:right'>acser_c + h_c + trdrd_c + tsul_c <=> ac_c + cys_L_c + so3_c + trdox_c</p>\n",
       "                    <p style='text-align:right'>M_acser_c + M_h_c + M_trdrd_c + M_tsul_c <=> M_ac_c + M_cys_L_c + M_so3_c + M_trdox_c</p>\n",
       "                </td>\n",
       "            </tr><tr>\n",
       "                <td><strong>GPR</strong></td><td>NGO0340</td>\n",
       "            </tr><tr>\n",
       "                <td><strong>Lower bound</strong></td><td>-1000.0</td>\n",
       "            </tr><tr>\n",
       "                <td><strong>Upper bound</strong></td><td>1000.0</td>\n",
       "            </tr>\n",
       "        </table>\n",
       "        "
      ],
      "text/plain": [
       "<Reaction TSULST at 0x1783e336970>"
      ]
     },
     "execution_count": 203,
     "metadata": {},
     "output_type": "execute_result"
    }
   ],
   "source": [
    "#TSULST\n",
    "#synthesis of thioredoxin. Protein based component. \n",
    "r = model.reactions.get_by_id('TSULST')\n",
    "print(r.check_mass_balance())\n",
    "r\n"
   ]
  },
  {
   "cell_type": "code",
   "execution_count": 204,
   "id": "f82949ec-2440-4f0c-b711-873f030440a2",
   "metadata": {},
   "outputs": [
    {
     "name": "stdout",
     "output_type": "stream",
     "text": [
      "{}\n"
     ]
    },
    {
     "data": {
      "text/html": [
       "\n",
       "        <table>\n",
       "            <tr>\n",
       "                <td><strong>Reaction identifier</strong></td><td>TSULST</td>\n",
       "            </tr><tr>\n",
       "                <td><strong>Name</strong></td><td>R_TSULST</td>\n",
       "            </tr><tr>\n",
       "                <td><strong>Memory address</strong></td>\n",
       "                <td>0x01783e336970</td>\n",
       "            </tr><tr>\n",
       "                <td><strong>Stoichiometry</strong></td>\n",
       "                <td>\n",
       "                    <p style='text-align:right'>acser_c + trdrd_c + tsul_c <=> ac_c + cys_L_c + h_c + so3_c + trdox_c</p>\n",
       "                    <p style='text-align:right'>M_acser_c + M_trdrd_c + M_tsul_c <=> M_ac_c + M_cys_L_c + M_h_c + M_so3_c + M_trdox_c</p>\n",
       "                </td>\n",
       "            </tr><tr>\n",
       "                <td><strong>GPR</strong></td><td>NGO0340</td>\n",
       "            </tr><tr>\n",
       "                <td><strong>Lower bound</strong></td><td>-1000.0</td>\n",
       "            </tr><tr>\n",
       "                <td><strong>Upper bound</strong></td><td>1000.0</td>\n",
       "            </tr>\n",
       "        </table>\n",
       "        "
      ],
      "text/plain": [
       "<Reaction TSULST at 0x1783e336970>"
      ]
     },
     "execution_count": 204,
     "metadata": {},
     "output_type": "execute_result"
    }
   ],
   "source": [
    "h_c =model.metabolites.get_by_id('h_c')\n",
    "\n",
    "r.add_metabolites({\n",
    "    h_c: 2,\n",
    "})\n",
    "\n",
    "print(r.check_mass_balance())\n",
    "r"
   ]
  },
  {
   "cell_type": "code",
   "execution_count": 205,
   "id": "bd0bad0c-3d01-4f83-ab8a-a981bea12a59",
   "metadata": {},
   "outputs": [
    {
     "name": "stdout",
     "output_type": "stream",
     "text": [
      "92 92 92\n"
     ]
    },
    {
     "data": {
      "text/html": [
       "<div>\n",
       "<style scoped>\n",
       "    .dataframe tbody tr th:only-of-type {\n",
       "        vertical-align: middle;\n",
       "    }\n",
       "\n",
       "    .dataframe tbody tr th {\n",
       "        vertical-align: top;\n",
       "    }\n",
       "\n",
       "    .dataframe thead th {\n",
       "        text-align: right;\n",
       "    }\n",
       "</style>\n",
       "<table border=\"1\" class=\"dataframe\">\n",
       "  <thead>\n",
       "    <tr style=\"text-align: right;\">\n",
       "      <th></th>\n",
       "      <th>Reactions</th>\n",
       "      <th>Charge</th>\n",
       "      <th>Masses</th>\n",
       "    </tr>\n",
       "  </thead>\n",
       "  <tbody>\n",
       "    <tr>\n",
       "      <th>0</th>\n",
       "      <td>3HAD140</td>\n",
       "      <td>-1.0</td>\n",
       "      <td>{}</td>\n",
       "    </tr>\n",
       "    <tr>\n",
       "      <th>1</th>\n",
       "      <td>3OAS161a</td>\n",
       "      <td>2.0</td>\n",
       "      <td>{'C': -12.0, 'H': -21.0, 'N': -2.0, 'O': -9.0,...</td>\n",
       "    </tr>\n",
       "    <tr>\n",
       "      <th>2</th>\n",
       "      <td>ACLS</td>\n",
       "      <td>1.0</td>\n",
       "      <td>{}</td>\n",
       "    </tr>\n",
       "    <tr>\n",
       "      <th>3</th>\n",
       "      <td>ADPT</td>\n",
       "      <td>-1.0</td>\n",
       "      <td>{}</td>\n",
       "    </tr>\n",
       "    <tr>\n",
       "      <th>4</th>\n",
       "      <td>AGPAT160a</td>\n",
       "      <td>1.0</td>\n",
       "      <td>{}</td>\n",
       "    </tr>\n",
       "    <tr>\n",
       "      <th>...</th>\n",
       "      <td>...</td>\n",
       "      <td>...</td>\n",
       "      <td>...</td>\n",
       "    </tr>\n",
       "    <tr>\n",
       "      <th>87</th>\n",
       "      <td>UPPRT</td>\n",
       "      <td>-1.0</td>\n",
       "      <td>{}</td>\n",
       "    </tr>\n",
       "    <tr>\n",
       "      <th>88</th>\n",
       "      <td>XPPT</td>\n",
       "      <td>-1.0</td>\n",
       "      <td>{}</td>\n",
       "    </tr>\n",
       "    <tr>\n",
       "      <th>89</th>\n",
       "      <td>XPRT</td>\n",
       "      <td>-1.0</td>\n",
       "      <td>{}</td>\n",
       "    </tr>\n",
       "    <tr>\n",
       "      <th>90</th>\n",
       "      <td>CYPOX</td>\n",
       "      <td>-2.0</td>\n",
       "      <td>{}</td>\n",
       "    </tr>\n",
       "    <tr>\n",
       "      <th>91</th>\n",
       "      <td>LDH_D2</td>\n",
       "      <td>-1.0</td>\n",
       "      <td>{}</td>\n",
       "    </tr>\n",
       "  </tbody>\n",
       "</table>\n",
       "<p>92 rows × 3 columns</p>\n",
       "</div>"
      ],
      "text/plain": [
       "    Reactions Charge                                             Masses\n",
       "0     3HAD140   -1.0                                                 {}\n",
       "1    3OAS161a    2.0  {'C': -12.0, 'H': -21.0, 'N': -2.0, 'O': -9.0,...\n",
       "2        ACLS    1.0                                                 {}\n",
       "3        ADPT   -1.0                                                 {}\n",
       "4   AGPAT160a    1.0                                                 {}\n",
       "..        ...    ...                                                ...\n",
       "87      UPPRT   -1.0                                                 {}\n",
       "88       XPPT   -1.0                                                 {}\n",
       "89       XPRT   -1.0                                                 {}\n",
       "90      CYPOX   -2.0                                                 {}\n",
       "91     LDH_D2   -1.0                                                 {}\n",
       "\n",
       "[92 rows x 3 columns]"
      ]
     },
     "execution_count": 205,
     "metadata": {},
     "output_type": "execute_result"
    }
   ],
   "source": [
    "#After bulk removing cofactors, what reaction imbalances remain?\n",
    "reactions = []\n",
    "charge = []\n",
    "mass = []\n",
    "for react in model.reactions:\n",
    "    result = react.check_mass_balance()\n",
    "    if 'EX_' in  react.id:\n",
    "        continue\n",
    "    if 'Nm_' in  react.id:\n",
    "        continue\n",
    "    if 'DM_' in  react.id:\n",
    "        continue \n",
    "    if react.id in biomass_reactions:\n",
    "        continue\n",
    "    if len(result) == 0:\n",
    "        continue\n",
    "    else: \n",
    "        reactions.append(react.id)\n",
    "        masses = {}\n",
    "        for key in result.keys():\n",
    "            if key == 'charge':\n",
    "                charge.append(result['charge'])\n",
    "            else:\n",
    "                masses[key] = result[key]\n",
    "        if 'charge' not in result.keys():\n",
    "            charge.append('')\n",
    "        mass.append(masses)\n",
    "print(len(reactions), len(charge), len(mass))\n",
    "\n",
    "mass_charge_dict = {'Reactions': reactions, 'Charge': charge, 'Masses': mass}\n",
    "mass_charge = pandas.DataFrame(mass_charge_dict)\n",
    "mass_charge.to_csv('imbalancesremaining.csv')\n",
    "mass_charge"
   ]
  },
  {
   "cell_type": "markdown",
   "id": "0124cd63-232c-498d-a2d5-a5e40b55f528",
   "metadata": {},
   "source": [
    "#DDPGA\n",
    "r = model.reactions.get_by_id('DDPGA')\n",
    "print(r.check_mass_balance())\n",
    "r"
   ]
  },
  {
   "cell_type": "code",
   "execution_count": 206,
   "id": "bb0d6cfb-e5ce-4b4b-a582-2fbcc38f80b2",
   "metadata": {},
   "outputs": [
    {
     "name": "stdout",
     "output_type": "stream",
     "text": [
      "{'H': -1.0}\n"
     ]
    },
    {
     "data": {
      "text/html": [
       "\n",
       "        <table>\n",
       "            <tr>\n",
       "                <td><strong>Reaction identifier</strong></td><td>P3H5CD</td>\n",
       "            </tr><tr>\n",
       "                <td><strong>Name</strong></td><td>R_P3H5CD</td>\n",
       "            </tr><tr>\n",
       "                <td><strong>Memory address</strong></td>\n",
       "                <td>0x01783e0e4ee0</td>\n",
       "            </tr><tr>\n",
       "                <td><strong>Stoichiometry</strong></td>\n",
       "                <td>\n",
       "                    <p style='text-align:right'>1p3h5c_c + 2.0 h2o_c + nadp_c <=> e4hglu_c + h_c + nadph_c</p>\n",
       "                    <p style='text-align:right'>M_1p3h5c_c + 2.0 M_h2o_c + M_nadp_c <=> M_e4hglu_c + M_h_c + M_nadph_c</p>\n",
       "                </td>\n",
       "            </tr><tr>\n",
       "                <td><strong>GPR</strong></td><td>NGO08225</td>\n",
       "            </tr><tr>\n",
       "                <td><strong>Lower bound</strong></td><td>-1000.0</td>\n",
       "            </tr><tr>\n",
       "                <td><strong>Upper bound</strong></td><td>1000.0</td>\n",
       "            </tr>\n",
       "        </table>\n",
       "        "
      ],
      "text/plain": [
       "<Reaction P3H5CD at 0x1783e0e4ee0>"
      ]
     },
     "execution_count": 206,
     "metadata": {},
     "output_type": "execute_result"
    }
   ],
   "source": [
    "#P3H5CD\n",
    "r = model.reactions.get_by_id('P3H5CD')\n",
    "print(r.check_mass_balance())\n",
    "r"
   ]
  },
  {
   "cell_type": "code",
   "execution_count": 207,
   "id": "5b9e1bd2-8321-4237-bd24-1f83249d97db",
   "metadata": {},
   "outputs": [
    {
     "name": "stdout",
     "output_type": "stream",
     "text": [
      "{}\n"
     ]
    },
    {
     "data": {
      "text/html": [
       "\n",
       "        <table>\n",
       "            <tr>\n",
       "                <td><strong>Reaction identifier</strong></td><td>P3H5CD</td>\n",
       "            </tr><tr>\n",
       "                <td><strong>Name</strong></td><td>R_P3H5CD</td>\n",
       "            </tr><tr>\n",
       "                <td><strong>Memory address</strong></td>\n",
       "                <td>0x01783e0e4ee0</td>\n",
       "            </tr><tr>\n",
       "                <td><strong>Stoichiometry</strong></td>\n",
       "                <td>\n",
       "                    <p style='text-align:right'>1p3h5c_c + 2.0 h2o_c + nadp_c <=> e4hglu_c + 2.0 h_c + nadph_c</p>\n",
       "                    <p style='text-align:right'>M_1p3h5c_c + 2.0 M_h2o_c + M_nadp_c <=> M_e4hglu_c + 2.0 M_h_c + M_nadph_c</p>\n",
       "                </td>\n",
       "            </tr><tr>\n",
       "                <td><strong>GPR</strong></td><td>NGO08225</td>\n",
       "            </tr><tr>\n",
       "                <td><strong>Lower bound</strong></td><td>-1000.0</td>\n",
       "            </tr><tr>\n",
       "                <td><strong>Upper bound</strong></td><td>1000.0</td>\n",
       "            </tr>\n",
       "        </table>\n",
       "        "
      ],
      "text/plain": [
       "<Reaction P3H5CD at 0x1783e0e4ee0>"
      ]
     },
     "execution_count": 207,
     "metadata": {},
     "output_type": "execute_result"
    }
   ],
   "source": [
    "#The protonation of e4hglu was changed when correcting HGTA. This results in having an extra h consumed in P3H5CD.\n",
    "#This is corrected here. \n",
    "h_c =model.metabolites.get_by_id('h_c')\n",
    "\n",
    "r.add_metabolites({\n",
    "    h_c: 1.0,\n",
    "})\n",
    "model.metabolites.get_by_id('1p3h5c_c').charge=0\n",
    "\n",
    "print(r.check_mass_balance())\n",
    "r"
   ]
  },
  {
   "cell_type": "code",
   "execution_count": 208,
   "id": "be68a2ab-9dae-4611-b684-26a8eecf6d59",
   "metadata": {},
   "outputs": [
    {
     "name": "stdout",
     "output_type": "stream",
     "text": [
      "90 90 90\n"
     ]
    },
    {
     "data": {
      "text/html": [
       "<div>\n",
       "<style scoped>\n",
       "    .dataframe tbody tr th:only-of-type {\n",
       "        vertical-align: middle;\n",
       "    }\n",
       "\n",
       "    .dataframe tbody tr th {\n",
       "        vertical-align: top;\n",
       "    }\n",
       "\n",
       "    .dataframe thead th {\n",
       "        text-align: right;\n",
       "    }\n",
       "</style>\n",
       "<table border=\"1\" class=\"dataframe\">\n",
       "  <thead>\n",
       "    <tr style=\"text-align: right;\">\n",
       "      <th></th>\n",
       "      <th>Reactions</th>\n",
       "      <th>Charge</th>\n",
       "      <th>Masses</th>\n",
       "    </tr>\n",
       "  </thead>\n",
       "  <tbody>\n",
       "    <tr>\n",
       "      <th>0</th>\n",
       "      <td>3HAD140</td>\n",
       "      <td>-1.0</td>\n",
       "      <td>{}</td>\n",
       "    </tr>\n",
       "    <tr>\n",
       "      <th>1</th>\n",
       "      <td>3OAS161a</td>\n",
       "      <td>2.0</td>\n",
       "      <td>{'C': -12.0, 'H': -21.0, 'N': -2.0, 'O': -9.0,...</td>\n",
       "    </tr>\n",
       "    <tr>\n",
       "      <th>2</th>\n",
       "      <td>ACLS</td>\n",
       "      <td>1.0</td>\n",
       "      <td>{}</td>\n",
       "    </tr>\n",
       "    <tr>\n",
       "      <th>3</th>\n",
       "      <td>ADPT</td>\n",
       "      <td>-1.0</td>\n",
       "      <td>{}</td>\n",
       "    </tr>\n",
       "    <tr>\n",
       "      <th>4</th>\n",
       "      <td>AGPAT160a</td>\n",
       "      <td>1.0</td>\n",
       "      <td>{}</td>\n",
       "    </tr>\n",
       "    <tr>\n",
       "      <th>...</th>\n",
       "      <td>...</td>\n",
       "      <td>...</td>\n",
       "      <td>...</td>\n",
       "    </tr>\n",
       "    <tr>\n",
       "      <th>85</th>\n",
       "      <td>UPPRT</td>\n",
       "      <td>-1.0</td>\n",
       "      <td>{}</td>\n",
       "    </tr>\n",
       "    <tr>\n",
       "      <th>86</th>\n",
       "      <td>XPPT</td>\n",
       "      <td>-1.0</td>\n",
       "      <td>{}</td>\n",
       "    </tr>\n",
       "    <tr>\n",
       "      <th>87</th>\n",
       "      <td>XPRT</td>\n",
       "      <td>-1.0</td>\n",
       "      <td>{}</td>\n",
       "    </tr>\n",
       "    <tr>\n",
       "      <th>88</th>\n",
       "      <td>CYPOX</td>\n",
       "      <td>-2.0</td>\n",
       "      <td>{}</td>\n",
       "    </tr>\n",
       "    <tr>\n",
       "      <th>89</th>\n",
       "      <td>LDH_D2</td>\n",
       "      <td>-1.0</td>\n",
       "      <td>{}</td>\n",
       "    </tr>\n",
       "  </tbody>\n",
       "</table>\n",
       "<p>90 rows × 3 columns</p>\n",
       "</div>"
      ],
      "text/plain": [
       "    Reactions Charge                                             Masses\n",
       "0     3HAD140   -1.0                                                 {}\n",
       "1    3OAS161a    2.0  {'C': -12.0, 'H': -21.0, 'N': -2.0, 'O': -9.0,...\n",
       "2        ACLS    1.0                                                 {}\n",
       "3        ADPT   -1.0                                                 {}\n",
       "4   AGPAT160a    1.0                                                 {}\n",
       "..        ...    ...                                                ...\n",
       "85      UPPRT   -1.0                                                 {}\n",
       "86       XPPT   -1.0                                                 {}\n",
       "87       XPRT   -1.0                                                 {}\n",
       "88      CYPOX   -2.0                                                 {}\n",
       "89     LDH_D2   -1.0                                                 {}\n",
       "\n",
       "[90 rows x 3 columns]"
      ]
     },
     "execution_count": 208,
     "metadata": {},
     "output_type": "execute_result"
    }
   ],
   "source": [
    "#After bulk removing cofactors, what reaction imbalances remain?\n",
    "reactions = []\n",
    "charge = []\n",
    "mass = []\n",
    "for react in model.reactions:\n",
    "    result = react.check_mass_balance()\n",
    "    if 'EX_' in  react.id:\n",
    "        continue\n",
    "    if 'Nm_' in  react.id:\n",
    "        continue\n",
    "    if 'DM_' in  react.id:\n",
    "        continue \n",
    "    if react.id in biomass_reactions:\n",
    "        continue\n",
    "    if len(result) == 0:\n",
    "        continue\n",
    "    else: \n",
    "        reactions.append(react.id)\n",
    "        masses = {}\n",
    "        for key in result.keys():\n",
    "            if key == 'charge':\n",
    "                charge.append(result['charge'])\n",
    "            else:\n",
    "                masses[key] = result[key]\n",
    "        if 'charge' not in result.keys():\n",
    "            charge.append('')\n",
    "        mass.append(masses)\n",
    "print(len(reactions), len(charge), len(mass))\n",
    "\n",
    "mass_charge_dict = {'Reactions': reactions, 'Charge': charge, 'Masses': mass}\n",
    "mass_charge = pandas.DataFrame(mass_charge_dict)\n",
    "mass_charge.to_csv('imbalancesremaining.csv')\n",
    "mass_charge"
   ]
  },
  {
   "cell_type": "code",
   "execution_count": 209,
   "id": "928a6820-5415-4e90-b1b7-466e6af4f1c6",
   "metadata": {},
   "outputs": [
    {
     "name": "stdout",
     "output_type": "stream",
     "text": [
      "{'charge': 1.0}\n",
      "{}\n"
     ]
    },
    {
     "data": {
      "text/html": [
       "\n",
       "        <table>\n",
       "            <tr>\n",
       "                <td><strong>Reaction identifier</strong></td><td>AGPAT160a</td>\n",
       "            </tr><tr>\n",
       "                <td><strong>Name</strong></td><td>R_AGPAT160a</td>\n",
       "            </tr><tr>\n",
       "                <td><strong>Memory address</strong></td>\n",
       "                <td>0x01783dd12a60</td>\n",
       "            </tr><tr>\n",
       "                <td><strong>Stoichiometry</strong></td>\n",
       "                <td>\n",
       "                    <p style='text-align:right'>1hdecg3p_c + ddcaACP_c --> ACP_c + pa160a_c</p>\n",
       "                    <p style='text-align:right'>M_1hdecg3p_c + M_ddcaACP_c --> M_ACP_c + M_pa160a_c</p>\n",
       "                </td>\n",
       "            </tr><tr>\n",
       "                <td><strong>GPR</strong></td><td>NGO2069 or NGO0611</td>\n",
       "            </tr><tr>\n",
       "                <td><strong>Lower bound</strong></td><td>0.0</td>\n",
       "            </tr><tr>\n",
       "                <td><strong>Upper bound</strong></td><td>1000.0</td>\n",
       "            </tr>\n",
       "        </table>\n",
       "        "
      ],
      "text/plain": [
       "<Reaction AGPAT160a at 0x1783dd12a60>"
      ]
     },
     "execution_count": 209,
     "metadata": {},
     "output_type": "execute_result"
    }
   ],
   "source": [
    "r=model.reactions.AGPAT160a\n",
    "print(r.check_mass_balance())\n",
    "model.metabolites.get_by_id('pa160a_c').charge=-2\n",
    "print(r.check_mass_balance())\n",
    "r"
   ]
  },
  {
   "cell_type": "code",
   "execution_count": 210,
   "id": "64fb9a8e-f10b-4b47-8866-424052bb8303",
   "metadata": {},
   "outputs": [],
   "source": [
    "model.metabolites.get_by_id('pa161_c').charge=-2\n",
    "model.metabolites.get_by_id('pa181_c').charge=-2"
   ]
  },
  {
   "cell_type": "code",
   "execution_count": 211,
   "id": "047fbeb7-c283-4508-aaac-31d36327a14d",
   "metadata": {},
   "outputs": [
    {
     "name": "stdout",
     "output_type": "stream",
     "text": [
      "91 91 91\n"
     ]
    },
    {
     "data": {
      "text/html": [
       "<div>\n",
       "<style scoped>\n",
       "    .dataframe tbody tr th:only-of-type {\n",
       "        vertical-align: middle;\n",
       "    }\n",
       "\n",
       "    .dataframe tbody tr th {\n",
       "        vertical-align: top;\n",
       "    }\n",
       "\n",
       "    .dataframe thead th {\n",
       "        text-align: right;\n",
       "    }\n",
       "</style>\n",
       "<table border=\"1\" class=\"dataframe\">\n",
       "  <thead>\n",
       "    <tr style=\"text-align: right;\">\n",
       "      <th></th>\n",
       "      <th>Reactions</th>\n",
       "      <th>Charge</th>\n",
       "      <th>Masses</th>\n",
       "    </tr>\n",
       "  </thead>\n",
       "  <tbody>\n",
       "    <tr>\n",
       "      <th>0</th>\n",
       "      <td>3HAD140</td>\n",
       "      <td>-1.0</td>\n",
       "      <td>{}</td>\n",
       "    </tr>\n",
       "    <tr>\n",
       "      <th>1</th>\n",
       "      <td>3OAS161a</td>\n",
       "      <td>2.0</td>\n",
       "      <td>{'C': -12.0, 'H': -21.0, 'N': -2.0, 'O': -9.0,...</td>\n",
       "    </tr>\n",
       "    <tr>\n",
       "      <th>2</th>\n",
       "      <td>ACLS</td>\n",
       "      <td>1.0</td>\n",
       "      <td>{}</td>\n",
       "    </tr>\n",
       "    <tr>\n",
       "      <th>3</th>\n",
       "      <td>ADPT</td>\n",
       "      <td>-1.0</td>\n",
       "      <td>{}</td>\n",
       "    </tr>\n",
       "    <tr>\n",
       "      <th>4</th>\n",
       "      <td>AGPAT161a</td>\n",
       "      <td>-2.0</td>\n",
       "      <td>{}</td>\n",
       "    </tr>\n",
       "    <tr>\n",
       "      <th>...</th>\n",
       "      <td>...</td>\n",
       "      <td>...</td>\n",
       "      <td>...</td>\n",
       "    </tr>\n",
       "    <tr>\n",
       "      <th>86</th>\n",
       "      <td>UPPRT</td>\n",
       "      <td>-1.0</td>\n",
       "      <td>{}</td>\n",
       "    </tr>\n",
       "    <tr>\n",
       "      <th>87</th>\n",
       "      <td>XPPT</td>\n",
       "      <td>-1.0</td>\n",
       "      <td>{}</td>\n",
       "    </tr>\n",
       "    <tr>\n",
       "      <th>88</th>\n",
       "      <td>XPRT</td>\n",
       "      <td>-1.0</td>\n",
       "      <td>{}</td>\n",
       "    </tr>\n",
       "    <tr>\n",
       "      <th>89</th>\n",
       "      <td>CYPOX</td>\n",
       "      <td>-2.0</td>\n",
       "      <td>{}</td>\n",
       "    </tr>\n",
       "    <tr>\n",
       "      <th>90</th>\n",
       "      <td>LDH_D2</td>\n",
       "      <td>-1.0</td>\n",
       "      <td>{}</td>\n",
       "    </tr>\n",
       "  </tbody>\n",
       "</table>\n",
       "<p>91 rows × 3 columns</p>\n",
       "</div>"
      ],
      "text/plain": [
       "    Reactions Charge                                             Masses\n",
       "0     3HAD140   -1.0                                                 {}\n",
       "1    3OAS161a    2.0  {'C': -12.0, 'H': -21.0, 'N': -2.0, 'O': -9.0,...\n",
       "2        ACLS    1.0                                                 {}\n",
       "3        ADPT   -1.0                                                 {}\n",
       "4   AGPAT161a   -2.0                                                 {}\n",
       "..        ...    ...                                                ...\n",
       "86      UPPRT   -1.0                                                 {}\n",
       "87       XPPT   -1.0                                                 {}\n",
       "88       XPRT   -1.0                                                 {}\n",
       "89      CYPOX   -2.0                                                 {}\n",
       "90     LDH_D2   -1.0                                                 {}\n",
       "\n",
       "[91 rows x 3 columns]"
      ]
     },
     "execution_count": 211,
     "metadata": {},
     "output_type": "execute_result"
    }
   ],
   "source": [
    "#After bulk removing cofactors, what reaction imbalances remain?\n",
    "reactions = []\n",
    "charge = []\n",
    "mass = []\n",
    "for react in model.reactions:\n",
    "    result = react.check_mass_balance()\n",
    "    if 'EX_' in  react.id:\n",
    "        continue\n",
    "    if 'Nm_' in  react.id:\n",
    "        continue\n",
    "    if 'DM_' in  react.id:\n",
    "        continue \n",
    "    if react.id in biomass_reactions:\n",
    "        continue\n",
    "    if len(result) == 0:\n",
    "        continue\n",
    "    else: \n",
    "        reactions.append(react.id)\n",
    "        masses = {}\n",
    "        for key in result.keys():\n",
    "            if key == 'charge':\n",
    "                charge.append(result['charge'])\n",
    "            else:\n",
    "                masses[key] = result[key]\n",
    "        if 'charge' not in result.keys():\n",
    "            charge.append('')\n",
    "        mass.append(masses)\n",
    "print(len(reactions), len(charge), len(mass))\n",
    "\n",
    "mass_charge_dict = {'Reactions': reactions, 'Charge': charge, 'Masses': mass}\n",
    "mass_charge = pandas.DataFrame(mass_charge_dict)\n",
    "mass_charge.to_csv('imbalancesremaining.csv')\n",
    "mass_charge"
   ]
  },
  {
   "cell_type": "code",
   "execution_count": 212,
   "id": "91732070-4198-4983-b77c-eeba0f033710",
   "metadata": {},
   "outputs": [
    {
     "name": "stdout",
     "output_type": "stream",
     "text": [
      "{}\n"
     ]
    },
    {
     "data": {
      "text/html": [
       "\n",
       "        <table>\n",
       "            <tr>\n",
       "                <td><strong>Reaction identifier</strong></td><td>ACLS</td>\n",
       "            </tr><tr>\n",
       "                <td><strong>Name</strong></td><td>Acetolactate synthase</td>\n",
       "            </tr><tr>\n",
       "                <td><strong>Memory address</strong></td>\n",
       "                <td>0x01783dcdce50</td>\n",
       "            </tr><tr>\n",
       "                <td><strong>Stoichiometry</strong></td>\n",
       "                <td>\n",
       "                    <p style='text-align:right'>h_c + 2.0 pyr_c --> alac_S_c + co2_c</p>\n",
       "                    <p style='text-align:right'>M_h_c + 2.0 M_pyr_c --> M_alac_S_c + M_co2_c</p>\n",
       "                </td>\n",
       "            </tr><tr>\n",
       "                <td><strong>GPR</strong></td><td>NGO1236 and ( Blank or NGO1235 )</td>\n",
       "            </tr><tr>\n",
       "                <td><strong>Lower bound</strong></td><td>0.0</td>\n",
       "            </tr><tr>\n",
       "                <td><strong>Upper bound</strong></td><td>1000.0</td>\n",
       "            </tr>\n",
       "        </table>\n",
       "        "
      ],
      "text/plain": [
       "<Reaction ACLS at 0x1783dcdce50>"
      ]
     },
     "execution_count": 212,
     "metadata": {},
     "output_type": "execute_result"
    }
   ],
   "source": [
    "r=model.reactions.ACLS\n",
    "model.metabolites.alac_S_c.charge=-1\n",
    "print(r.check_mass_balance())\n",
    "r"
   ]
  },
  {
   "cell_type": "code",
   "execution_count": 213,
   "id": "31bce829-e379-40db-9438-8462ddddb4f6",
   "metadata": {},
   "outputs": [
    {
     "name": "stdout",
     "output_type": "stream",
     "text": [
      "{}\n"
     ]
    },
    {
     "data": {
      "text/html": [
       "\n",
       "        <table>\n",
       "            <tr>\n",
       "                <td><strong>Reaction identifier</strong></td><td>ADPT</td>\n",
       "            </tr><tr>\n",
       "                <td><strong>Name</strong></td><td>Adenine phosphoribosyltransferase</td>\n",
       "            </tr><tr>\n",
       "                <td><strong>Memory address</strong></td>\n",
       "                <td>0x01783dcf87f0</td>\n",
       "            </tr><tr>\n",
       "                <td><strong>Stoichiometry</strong></td>\n",
       "                <td>\n",
       "                    <p style='text-align:right'>ade_c + prpp_c <=> amp_c + h_c + ppi_c</p>\n",
       "                    <p style='text-align:right'>M_ade_c + M_prpp_c <=> M_amp_c + M_h_c + M_ppi_c</p>\n",
       "                </td>\n",
       "            </tr><tr>\n",
       "                <td><strong>GPR</strong></td><td>NGO1311</td>\n",
       "            </tr><tr>\n",
       "                <td><strong>Lower bound</strong></td><td>-1000.0</td>\n",
       "            </tr><tr>\n",
       "                <td><strong>Upper bound</strong></td><td>1000.0</td>\n",
       "            </tr>\n",
       "        </table>\n",
       "        "
      ],
      "text/plain": [
       "<Reaction ADPT at 0x1783dcf87f0>"
      ]
     },
     "execution_count": 213,
     "metadata": {},
     "output_type": "execute_result"
    }
   ],
   "source": [
    "r=model.reactions.ADPT\n",
    "r.add_metabolites({\n",
    "    h_c: 1.0,\n",
    "})\n",
    "model.metabolites.prpp_c.formula='C5H9O14P3'\n",
    "print(r.check_mass_balance())\n",
    "r"
   ]
  },
  {
   "cell_type": "code",
   "execution_count": 214,
   "id": "1450cf2e-d2eb-4e71-99d2-6fb14c014af3",
   "metadata": {},
   "outputs": [
    {
     "name": "stdout",
     "output_type": "stream",
     "text": [
      "{}\n"
     ]
    },
    {
     "data": {
      "text/html": [
       "\n",
       "        <table>\n",
       "            <tr>\n",
       "                <td><strong>Reaction identifier</strong></td><td>AMPTASEAGl</td>\n",
       "            </tr><tr>\n",
       "                <td><strong>Name</strong></td><td>R_AMPTASEAGl</td>\n",
       "            </tr><tr>\n",
       "                <td><strong>Memory address</strong></td>\n",
       "                <td>0x01783dd36880</td>\n",
       "            </tr><tr>\n",
       "                <td><strong>Stoichiometry</strong></td>\n",
       "                <td>\n",
       "                    <p style='text-align:right'>LalaDglu_c + h2o_c --> ala_L_c + glu_D_c</p>\n",
       "                    <p style='text-align:right'>M_LalaDglu_c + M_h2o_c --> M_ala_L_c + M_glu_D_c</p>\n",
       "                </td>\n",
       "            </tr><tr>\n",
       "                <td><strong>GPR</strong></td><td>NGO0158</td>\n",
       "            </tr><tr>\n",
       "                <td><strong>Lower bound</strong></td><td>0.0</td>\n",
       "            </tr><tr>\n",
       "                <td><strong>Upper bound</strong></td><td>1000.0</td>\n",
       "            </tr>\n",
       "        </table>\n",
       "        "
      ],
      "text/plain": [
       "<Reaction AMPTASEAGl at 0x1783dd36880>"
      ]
     },
     "execution_count": 214,
     "metadata": {},
     "output_type": "execute_result"
    }
   ],
   "source": [
    "r=model.reactions.AMPTASEAGl\n",
    "model.metabolites.glu_D_c.charge=-1\n",
    "print(r.check_mass_balance())\n",
    "r"
   ]
  },
  {
   "cell_type": "code",
   "execution_count": 215,
   "id": "e0046b47-3de1-4a4d-8481-ab7c0814ba80",
   "metadata": {},
   "outputs": [
    {
     "name": "stdout",
     "output_type": "stream",
     "text": [
      "{}\n"
     ]
    },
    {
     "data": {
      "text/html": [
       "\n",
       "        <table>\n",
       "            <tr>\n",
       "                <td><strong>Reaction identifier</strong></td><td>ANPRT</td>\n",
       "            </tr><tr>\n",
       "                <td><strong>Name</strong></td><td>Anthranilate phosphoribosyltransferase</td>\n",
       "            </tr><tr>\n",
       "                <td><strong>Memory address</strong></td>\n",
       "                <td>0x01783dd3f910</td>\n",
       "            </tr><tr>\n",
       "                <td><strong>Stoichiometry</strong></td>\n",
       "                <td>\n",
       "                    <p style='text-align:right'>anth_c + prpp_c --> h_c + ppi_c + pran_c</p>\n",
       "                    <p style='text-align:right'>M_anth_c + M_prpp_c --> M_h_c + M_ppi_c + M_pran_c</p>\n",
       "                </td>\n",
       "            </tr><tr>\n",
       "                <td><strong>GPR</strong></td><td>NGO1203</td>\n",
       "            </tr><tr>\n",
       "                <td><strong>Lower bound</strong></td><td>0.0</td>\n",
       "            </tr><tr>\n",
       "                <td><strong>Upper bound</strong></td><td>1000.0</td>\n",
       "            </tr>\n",
       "        </table>\n",
       "        "
      ],
      "text/plain": [
       "<Reaction ANPRT at 0x1783dd3f910>"
      ]
     },
     "execution_count": 215,
     "metadata": {},
     "output_type": "execute_result"
    }
   ],
   "source": [
    "r=model.reactions.ANPRT\n",
    "r.add_metabolites({\n",
    "    h_c: 1.0,\n",
    "})\n",
    "print(r.check_mass_balance())\n",
    "r"
   ]
  },
  {
   "cell_type": "code",
   "execution_count": 216,
   "id": "4c449e29-861d-43df-bf8c-9749dccf2b99",
   "metadata": {},
   "outputs": [
    {
     "name": "stdout",
     "output_type": "stream",
     "text": [
      "{}\n"
     ]
    },
    {
     "data": {
      "text/html": [
       "\n",
       "        <table>\n",
       "            <tr>\n",
       "                <td><strong>Reaction identifier</strong></td><td>ARGDC</td>\n",
       "            </tr><tr>\n",
       "                <td><strong>Name</strong></td><td>Arginine decarboxylase</td>\n",
       "            </tr><tr>\n",
       "                <td><strong>Memory address</strong></td>\n",
       "                <td>0x01783dd45c10</td>\n",
       "            </tr><tr>\n",
       "                <td><strong>Stoichiometry</strong></td>\n",
       "                <td>\n",
       "                    <p style='text-align:right'>arg_L_c + h_c --> agm_c + co2_c</p>\n",
       "                    <p style='text-align:right'>M_arg_L_c + M_h_c --> M_agm_c + M_co2_c</p>\n",
       "                </td>\n",
       "            </tr><tr>\n",
       "                <td><strong>GPR</strong></td><td>NGO1487</td>\n",
       "            </tr><tr>\n",
       "                <td><strong>Lower bound</strong></td><td>0.0</td>\n",
       "            </tr><tr>\n",
       "                <td><strong>Upper bound</strong></td><td>1000.0</td>\n",
       "            </tr>\n",
       "        </table>\n",
       "        "
      ],
      "text/plain": [
       "<Reaction ARGDC at 0x1783dd45c10>"
      ]
     },
     "execution_count": 216,
     "metadata": {},
     "output_type": "execute_result"
    }
   ],
   "source": [
    "r=model.reactions.ARGDC\n",
    "model.metabolites.arg_L_c.charge=1\n",
    "model.metabolites.arg_L_p.charge=1\n",
    "model.metabolites.arg_L_e.charge=1\n",
    "print(r.check_mass_balance())\n",
    "r"
   ]
  },
  {
   "cell_type": "code",
   "execution_count": 217,
   "id": "3cc13e83-a96f-4b08-be2d-d36629cbb130",
   "metadata": {},
   "outputs": [
    {
     "name": "stdout",
     "output_type": "stream",
     "text": [
      "{}\n"
     ]
    },
    {
     "data": {
      "text/html": [
       "\n",
       "        <table>\n",
       "            <tr>\n",
       "                <td><strong>Reaction identifier</strong></td><td>ASPtex</td>\n",
       "            </tr><tr>\n",
       "                <td><strong>Name</strong></td><td>L-aspartate transport via diffusion (extracellular to periplasm)</td>\n",
       "            </tr><tr>\n",
       "                <td><strong>Memory address</strong></td>\n",
       "                <td>0x01783dd623d0</td>\n",
       "            </tr><tr>\n",
       "                <td><strong>Stoichiometry</strong></td>\n",
       "                <td>\n",
       "                    <p style='text-align:right'>asp_L_e <=> asp_L_p</p>\n",
       "                    <p style='text-align:right'>M_asp_L_e <=> M_asp_L_p</p>\n",
       "                </td>\n",
       "            </tr><tr>\n",
       "                <td><strong>GPR</strong></td><td>NGO1812</td>\n",
       "            </tr><tr>\n",
       "                <td><strong>Lower bound</strong></td><td>-1000.0</td>\n",
       "            </tr><tr>\n",
       "                <td><strong>Upper bound</strong></td><td>1000.0</td>\n",
       "            </tr>\n",
       "        </table>\n",
       "        "
      ],
      "text/plain": [
       "<Reaction ASPtex at 0x1783dd623d0>"
      ]
     },
     "execution_count": 217,
     "metadata": {},
     "output_type": "execute_result"
    }
   ],
   "source": [
    "r=model.reactions.ASPtex\n",
    "model.metabolites.asp_L_c.charge=-1\n",
    "model.metabolites.asp_L_p.charge=-1\n",
    "model.metabolites.asp_L_e.charge=-1\n",
    "model.metabolites.glu_L_c.charge=-1\n",
    "model.metabolites.glu_L_p.charge=-1\n",
    "model.metabolites.glu_L_e.charge=-1\n",
    "print(r.check_mass_balance())\n",
    "r"
   ]
  },
  {
   "cell_type": "code",
   "execution_count": 218,
   "id": "ab1a2b33-7cb3-40b6-b46b-5864a02eada2",
   "metadata": {},
   "outputs": [
    {
     "name": "stdout",
     "output_type": "stream",
     "text": [
      "75 75 75\n"
     ]
    },
    {
     "data": {
      "text/html": [
       "<div>\n",
       "<style scoped>\n",
       "    .dataframe tbody tr th:only-of-type {\n",
       "        vertical-align: middle;\n",
       "    }\n",
       "\n",
       "    .dataframe tbody tr th {\n",
       "        vertical-align: top;\n",
       "    }\n",
       "\n",
       "    .dataframe thead th {\n",
       "        text-align: right;\n",
       "    }\n",
       "</style>\n",
       "<table border=\"1\" class=\"dataframe\">\n",
       "  <thead>\n",
       "    <tr style=\"text-align: right;\">\n",
       "      <th></th>\n",
       "      <th>Reactions</th>\n",
       "      <th>Charge</th>\n",
       "      <th>Masses</th>\n",
       "    </tr>\n",
       "  </thead>\n",
       "  <tbody>\n",
       "    <tr>\n",
       "      <th>0</th>\n",
       "      <td>3HAD140</td>\n",
       "      <td>-1.0</td>\n",
       "      <td>{}</td>\n",
       "    </tr>\n",
       "    <tr>\n",
       "      <th>1</th>\n",
       "      <td>3OAS161a</td>\n",
       "      <td>2.0</td>\n",
       "      <td>{'C': -12.0, 'H': -21.0, 'N': -2.0, 'O': -9.0,...</td>\n",
       "    </tr>\n",
       "    <tr>\n",
       "      <th>2</th>\n",
       "      <td>AGPAT161a</td>\n",
       "      <td>-2.0</td>\n",
       "      <td>{}</td>\n",
       "    </tr>\n",
       "    <tr>\n",
       "      <th>3</th>\n",
       "      <td>AGPAT181</td>\n",
       "      <td>-2.0</td>\n",
       "      <td>{}</td>\n",
       "    </tr>\n",
       "    <tr>\n",
       "      <th>4</th>\n",
       "      <td>ATPPRT</td>\n",
       "      <td>-1.0</td>\n",
       "      <td>{'H': -1.0}</td>\n",
       "    </tr>\n",
       "    <tr>\n",
       "      <th>...</th>\n",
       "      <td>...</td>\n",
       "      <td>...</td>\n",
       "      <td>...</td>\n",
       "    </tr>\n",
       "    <tr>\n",
       "      <th>70</th>\n",
       "      <td>UPPRT</td>\n",
       "      <td>-1.0</td>\n",
       "      <td>{'H': -1.0}</td>\n",
       "    </tr>\n",
       "    <tr>\n",
       "      <th>71</th>\n",
       "      <td>XPPT</td>\n",
       "      <td>-1.0</td>\n",
       "      <td>{'H': -1.0}</td>\n",
       "    </tr>\n",
       "    <tr>\n",
       "      <th>72</th>\n",
       "      <td>XPRT</td>\n",
       "      <td>-1.0</td>\n",
       "      <td>{'H': -1.0}</td>\n",
       "    </tr>\n",
       "    <tr>\n",
       "      <th>73</th>\n",
       "      <td>CYPOX</td>\n",
       "      <td>-2.0</td>\n",
       "      <td>{}</td>\n",
       "    </tr>\n",
       "    <tr>\n",
       "      <th>74</th>\n",
       "      <td>LDH_D2</td>\n",
       "      <td>-1.0</td>\n",
       "      <td>{}</td>\n",
       "    </tr>\n",
       "  </tbody>\n",
       "</table>\n",
       "<p>75 rows × 3 columns</p>\n",
       "</div>"
      ],
      "text/plain": [
       "    Reactions Charge                                             Masses\n",
       "0     3HAD140   -1.0                                                 {}\n",
       "1    3OAS161a    2.0  {'C': -12.0, 'H': -21.0, 'N': -2.0, 'O': -9.0,...\n",
       "2   AGPAT161a   -2.0                                                 {}\n",
       "3    AGPAT181   -2.0                                                 {}\n",
       "4      ATPPRT   -1.0                                        {'H': -1.0}\n",
       "..        ...    ...                                                ...\n",
       "70      UPPRT   -1.0                                        {'H': -1.0}\n",
       "71       XPPT   -1.0                                        {'H': -1.0}\n",
       "72       XPRT   -1.0                                        {'H': -1.0}\n",
       "73      CYPOX   -2.0                                                 {}\n",
       "74     LDH_D2   -1.0                                                 {}\n",
       "\n",
       "[75 rows x 3 columns]"
      ]
     },
     "execution_count": 218,
     "metadata": {},
     "output_type": "execute_result"
    }
   ],
   "source": [
    "#After bulk removing cofactors, what reaction imbalances remain?\n",
    "reactions = []\n",
    "charge = []\n",
    "mass = []\n",
    "for react in model.reactions:\n",
    "    result = react.check_mass_balance()\n",
    "    if 'EX_' in  react.id:\n",
    "        continue\n",
    "    if 'Nm_' in  react.id:\n",
    "        continue\n",
    "    if 'DM_' in  react.id:\n",
    "        continue \n",
    "    if react.id in biomass_reactions:\n",
    "        continue\n",
    "    if len(result) == 0:\n",
    "        continue\n",
    "    else: \n",
    "        reactions.append(react.id)\n",
    "        masses = {}\n",
    "        for key in result.keys():\n",
    "            if key == 'charge':\n",
    "                charge.append(result['charge'])\n",
    "            else:\n",
    "                masses[key] = result[key]\n",
    "        if 'charge' not in result.keys():\n",
    "            charge.append('')\n",
    "        mass.append(masses)\n",
    "print(len(reactions), len(charge), len(mass))\n",
    "\n",
    "mass_charge_dict = {'Reactions': reactions, 'Charge': charge, 'Masses': mass}\n",
    "mass_charge = pandas.DataFrame(mass_charge_dict)\n",
    "mass_charge.to_csv('imbalancesremaining.csv')\n",
    "mass_charge"
   ]
  },
  {
   "cell_type": "code",
   "execution_count": 219,
   "id": "1b53e822-b38c-4c0c-b0af-4a575bea80f5",
   "metadata": {},
   "outputs": [
    {
     "name": "stdout",
     "output_type": "stream",
     "text": [
      "{}\n"
     ]
    },
    {
     "data": {
      "text/html": [
       "\n",
       "        <table>\n",
       "            <tr>\n",
       "                <td><strong>Reaction identifier</strong></td><td>ARGt1pp</td>\n",
       "            </tr><tr>\n",
       "                <td><strong>Name</strong></td><td>R_ARGt1pp</td>\n",
       "            </tr><tr>\n",
       "                <td><strong>Memory address</strong></td>\n",
       "                <td>0x01783dd45e20</td>\n",
       "            </tr><tr>\n",
       "                <td><strong>Stoichiometry</strong></td>\n",
       "                <td>\n",
       "                    <p style='text-align:right'>arg_L_p + h_p --> arg_L_c + h_c</p>\n",
       "                    <p style='text-align:right'>M_arg_L_p + M_h_p --> M_arg_L_c + M_h_c</p>\n",
       "                </td>\n",
       "            </tr><tr>\n",
       "                <td><strong>GPR</strong></td><td>NGO1290 or NGO1787</td>\n",
       "            </tr><tr>\n",
       "                <td><strong>Lower bound</strong></td><td>0.0</td>\n",
       "            </tr><tr>\n",
       "                <td><strong>Upper bound</strong></td><td>1000.0</td>\n",
       "            </tr>\n",
       "        </table>\n",
       "        "
      ],
      "text/plain": [
       "<Reaction ARGt1pp at 0x1783dd45e20>"
      ]
     },
     "execution_count": 219,
     "metadata": {},
     "output_type": "execute_result"
    }
   ],
   "source": [
    "r=model.reactions.get_by_id('ARGt1pp')\n",
    "model.metabolites.arg_L_p.charge=1\n",
    "print(r.check_mass_balance())\n",
    "r"
   ]
  },
  {
   "cell_type": "code",
   "execution_count": 220,
   "id": "7e202067-0891-402c-91ca-2d7c142885e3",
   "metadata": {},
   "outputs": [
    {
     "name": "stdout",
     "output_type": "stream",
     "text": [
      "{}\n"
     ]
    },
    {
     "data": {
      "text/html": [
       "\n",
       "        <table>\n",
       "            <tr>\n",
       "                <td><strong>Reaction identifier</strong></td><td>CTPS2</td>\n",
       "            </tr><tr>\n",
       "                <td><strong>Name</strong></td><td>CTP synthase (glutamine)</td>\n",
       "            </tr><tr>\n",
       "                <td><strong>Memory address</strong></td>\n",
       "                <td>0x01783dd8c070</td>\n",
       "            </tr><tr>\n",
       "                <td><strong>Stoichiometry</strong></td>\n",
       "                <td>\n",
       "                    <p style='text-align:right'>atp_c + gln_L_c + h2o_c + utp_c --> adp_c + ctp_c + glu_L_c + 2.0 h_c + pi_c</p>\n",
       "                    <p style='text-align:right'>M_atp_c + M_gln_L_c + M_h2o_c + M_utp_c --> M_adp_c + M_ctp_c + M_glu_L_c + 2.0 M_h_c + M_pi_c</p>\n",
       "                </td>\n",
       "            </tr><tr>\n",
       "                <td><strong>GPR</strong></td><td>NGO1212</td>\n",
       "            </tr><tr>\n",
       "                <td><strong>Lower bound</strong></td><td>0.0</td>\n",
       "            </tr><tr>\n",
       "                <td><strong>Upper bound</strong></td><td>1000.0</td>\n",
       "            </tr>\n",
       "        </table>\n",
       "        "
      ],
      "text/plain": [
       "<Reaction CTPS2 at 0x1783dd8c070>"
      ]
     },
     "execution_count": 220,
     "metadata": {},
     "output_type": "execute_result"
    }
   ],
   "source": [
    "#There is a descrepancy between bigg and model seed for the charge/formula of atp. Using the bigg charges here. \n",
    "#These requires a charge imbalance to remain. \n",
    "r=model.reactions.get_by_id('CTPS2')\n",
    "model.metabolites.atp_c.charge=-4\n",
    "model.metabolites.atp_c.formula='C10H12N5O13P3'\n",
    "model.metabolites.adp_c.charge=-3\n",
    "model.metabolites.adp_c.formula='C10H12N5O10P2'\n",
    "model.metabolites.amp_c.charge=-2\n",
    "model.metabolites.amp_c.formula='C10H12N5O7P'\n",
    "model.metabolites.ctp_c.charge=-4\n",
    "model.metabolites.ctp_c.formula='C9H12N3O14P3'\n",
    "print(r.check_mass_balance())\n",
    "r"
   ]
  },
  {
   "cell_type": "code",
   "execution_count": 221,
   "id": "1142aa5d-6f51-40ed-9f0d-430480c4067a",
   "metadata": {},
   "outputs": [
    {
     "name": "stdout",
     "output_type": "stream",
     "text": [
      "62 62 62\n"
     ]
    },
    {
     "data": {
      "text/html": [
       "<div>\n",
       "<style scoped>\n",
       "    .dataframe tbody tr th:only-of-type {\n",
       "        vertical-align: middle;\n",
       "    }\n",
       "\n",
       "    .dataframe tbody tr th {\n",
       "        vertical-align: top;\n",
       "    }\n",
       "\n",
       "    .dataframe thead th {\n",
       "        text-align: right;\n",
       "    }\n",
       "</style>\n",
       "<table border=\"1\" class=\"dataframe\">\n",
       "  <thead>\n",
       "    <tr style=\"text-align: right;\">\n",
       "      <th></th>\n",
       "      <th>Reactions</th>\n",
       "      <th>Charge</th>\n",
       "      <th>Masses</th>\n",
       "    </tr>\n",
       "  </thead>\n",
       "  <tbody>\n",
       "    <tr>\n",
       "      <th>0</th>\n",
       "      <td>3HAD140</td>\n",
       "      <td>-1.0</td>\n",
       "      <td>{}</td>\n",
       "    </tr>\n",
       "    <tr>\n",
       "      <th>1</th>\n",
       "      <td>3OAS161a</td>\n",
       "      <td>2.0</td>\n",
       "      <td>{'C': -12.0, 'H': -21.0, 'N': -2.0, 'O': -9.0,...</td>\n",
       "    </tr>\n",
       "    <tr>\n",
       "      <th>2</th>\n",
       "      <td>AGPAT161a</td>\n",
       "      <td>-2.0</td>\n",
       "      <td>{}</td>\n",
       "    </tr>\n",
       "    <tr>\n",
       "      <th>3</th>\n",
       "      <td>AGPAT181</td>\n",
       "      <td>-2.0</td>\n",
       "      <td>{}</td>\n",
       "    </tr>\n",
       "    <tr>\n",
       "      <th>4</th>\n",
       "      <td>ATPPRT</td>\n",
       "      <td>-1.0</td>\n",
       "      <td>{'H': -1.0}</td>\n",
       "    </tr>\n",
       "    <tr>\n",
       "      <th>...</th>\n",
       "      <td>...</td>\n",
       "      <td>...</td>\n",
       "      <td>...</td>\n",
       "    </tr>\n",
       "    <tr>\n",
       "      <th>57</th>\n",
       "      <td>UPPRT</td>\n",
       "      <td>-1.0</td>\n",
       "      <td>{'H': -1.0}</td>\n",
       "    </tr>\n",
       "    <tr>\n",
       "      <th>58</th>\n",
       "      <td>XPPT</td>\n",
       "      <td>-1.0</td>\n",
       "      <td>{'H': -1.0}</td>\n",
       "    </tr>\n",
       "    <tr>\n",
       "      <th>59</th>\n",
       "      <td>XPRT</td>\n",
       "      <td>-1.0</td>\n",
       "      <td>{'H': -1.0}</td>\n",
       "    </tr>\n",
       "    <tr>\n",
       "      <th>60</th>\n",
       "      <td>CYPOX</td>\n",
       "      <td>-2.0</td>\n",
       "      <td>{}</td>\n",
       "    </tr>\n",
       "    <tr>\n",
       "      <th>61</th>\n",
       "      <td>LDH_D2</td>\n",
       "      <td>-1.0</td>\n",
       "      <td>{}</td>\n",
       "    </tr>\n",
       "  </tbody>\n",
       "</table>\n",
       "<p>62 rows × 3 columns</p>\n",
       "</div>"
      ],
      "text/plain": [
       "    Reactions Charge                                             Masses\n",
       "0     3HAD140   -1.0                                                 {}\n",
       "1    3OAS161a    2.0  {'C': -12.0, 'H': -21.0, 'N': -2.0, 'O': -9.0,...\n",
       "2   AGPAT161a   -2.0                                                 {}\n",
       "3    AGPAT181   -2.0                                                 {}\n",
       "4      ATPPRT   -1.0                                        {'H': -1.0}\n",
       "..        ...    ...                                                ...\n",
       "57      UPPRT   -1.0                                        {'H': -1.0}\n",
       "58       XPPT   -1.0                                        {'H': -1.0}\n",
       "59       XPRT   -1.0                                        {'H': -1.0}\n",
       "60      CYPOX   -2.0                                                 {}\n",
       "61     LDH_D2   -1.0                                                 {}\n",
       "\n",
       "[62 rows x 3 columns]"
      ]
     },
     "execution_count": 221,
     "metadata": {},
     "output_type": "execute_result"
    }
   ],
   "source": [
    "#After bulk removing cofactors, what reaction imbalances remain?\n",
    "reactions = []\n",
    "charge = []\n",
    "mass = []\n",
    "for react in model.reactions:\n",
    "    result = react.check_mass_balance()\n",
    "    if 'EX_' in  react.id:\n",
    "        continue\n",
    "    if 'Nm_' in  react.id:\n",
    "        continue\n",
    "    if 'DM_' in  react.id:\n",
    "        continue \n",
    "    if react.id in biomass_reactions:\n",
    "        continue\n",
    "    if len(result) == 0:\n",
    "        continue\n",
    "    else: \n",
    "        reactions.append(react.id)\n",
    "        masses = {}\n",
    "        for key in result.keys():\n",
    "            if key == 'charge':\n",
    "                charge.append(result['charge'])\n",
    "            else:\n",
    "                masses[key] = result[key]\n",
    "        if 'charge' not in result.keys():\n",
    "            charge.append('')\n",
    "        mass.append(masses)\n",
    "print(len(reactions), len(charge), len(mass))\n",
    "\n",
    "mass_charge_dict = {'Reactions': reactions, 'Charge': charge, 'Masses': mass}\n",
    "mass_charge = pandas.DataFrame(mass_charge_dict)\n",
    "mass_charge.to_csv('imbalancesremaining.csv')\n",
    "mass_charge"
   ]
  },
  {
   "cell_type": "code",
   "execution_count": 222,
   "id": "4c9b5d07-3f9b-4dad-bf92-0ec09805cb79",
   "metadata": {},
   "outputs": [
    {
     "name": "stdout",
     "output_type": "stream",
     "text": [
      "{}\n",
      "{}\n"
     ]
    }
   ],
   "source": [
    "#Bulk correct hydrogens\n",
    "rxns=('METS', 'ORPT')\n",
    "\n",
    "for rxn in rxns:\n",
    "    r=model.reactions.get_by_id(rxn)\n",
    "    r.add_metabolites({\n",
    "        h_c: -1.0,\n",
    "            })\n",
    "    print(r.check_mass_balance())\n",
    "\n"
   ]
  },
  {
   "cell_type": "code",
   "execution_count": 223,
   "id": "68af4629-fb0c-4079-9125-eff13169da28",
   "metadata": {},
   "outputs": [
    {
     "name": "stdout",
     "output_type": "stream",
     "text": [
      "{}\n",
      "{}\n",
      "{}\n",
      "{}\n",
      "{}\n",
      "{}\n",
      "{}\n",
      "{}\n",
      "{}\n"
     ]
    }
   ],
   "source": [
    "#Bulk correct hydrogens\n",
    "rxns=('GLUPRT','GUAPRT','HXPRT','MTHFR2','NAMNPP','NNDPR','UPPRT','XPPT','XPRT')\n",
    "\n",
    "for rxn in rxns:\n",
    "    r=model.reactions.get_by_id(rxn)\n",
    "    r.add_metabolites({\n",
    "       h_c: 1.0,\n",
    "           })\n",
    "    print(r.check_mass_balance())  "
   ]
  },
  {
   "cell_type": "code",
   "execution_count": 224,
   "id": "53669fdb-7bee-4b37-8586-cece316e436c",
   "metadata": {},
   "outputs": [
    {
     "name": "stdout",
     "output_type": "stream",
     "text": [
      "51 51 51\n"
     ]
    },
    {
     "data": {
      "text/html": [
       "<div>\n",
       "<style scoped>\n",
       "    .dataframe tbody tr th:only-of-type {\n",
       "        vertical-align: middle;\n",
       "    }\n",
       "\n",
       "    .dataframe tbody tr th {\n",
       "        vertical-align: top;\n",
       "    }\n",
       "\n",
       "    .dataframe thead th {\n",
       "        text-align: right;\n",
       "    }\n",
       "</style>\n",
       "<table border=\"1\" class=\"dataframe\">\n",
       "  <thead>\n",
       "    <tr style=\"text-align: right;\">\n",
       "      <th></th>\n",
       "      <th>Reactions</th>\n",
       "      <th>Charge</th>\n",
       "      <th>Masses</th>\n",
       "    </tr>\n",
       "  </thead>\n",
       "  <tbody>\n",
       "    <tr>\n",
       "      <th>0</th>\n",
       "      <td>3HAD140</td>\n",
       "      <td>-1.0</td>\n",
       "      <td>{}</td>\n",
       "    </tr>\n",
       "    <tr>\n",
       "      <th>1</th>\n",
       "      <td>3OAS161a</td>\n",
       "      <td>2.0</td>\n",
       "      <td>{'C': -12.0, 'H': -21.0, 'N': -2.0, 'O': -9.0,...</td>\n",
       "    </tr>\n",
       "    <tr>\n",
       "      <th>2</th>\n",
       "      <td>AGPAT161a</td>\n",
       "      <td>-2.0</td>\n",
       "      <td>{}</td>\n",
       "    </tr>\n",
       "    <tr>\n",
       "      <th>3</th>\n",
       "      <td>AGPAT181</td>\n",
       "      <td>-2.0</td>\n",
       "      <td>{}</td>\n",
       "    </tr>\n",
       "    <tr>\n",
       "      <th>4</th>\n",
       "      <td>ATPPRT</td>\n",
       "      <td>-1.0</td>\n",
       "      <td>{'H': -1.0}</td>\n",
       "    </tr>\n",
       "    <tr>\n",
       "      <th>5</th>\n",
       "      <td>BTS4</td>\n",
       "      <td></td>\n",
       "      <td>{'S': 1.0}</td>\n",
       "    </tr>\n",
       "    <tr>\n",
       "      <th>6</th>\n",
       "      <td>CYOX</td>\n",
       "      <td>-4.0</td>\n",
       "      <td>{}</td>\n",
       "    </tr>\n",
       "    <tr>\n",
       "      <th>7</th>\n",
       "      <td>CYTCS</td>\n",
       "      <td>2.0</td>\n",
       "      <td>{'C': 8.0, 'H': 14.0, 'N': 4.0, 'O': 4.0, 'S':...</td>\n",
       "    </tr>\n",
       "    <tr>\n",
       "      <th>8</th>\n",
       "      <td>DAPDC</td>\n",
       "      <td>-1.0</td>\n",
       "      <td>{}</td>\n",
       "    </tr>\n",
       "    <tr>\n",
       "      <th>9</th>\n",
       "      <td>DASYN161a</td>\n",
       "      <td>2.0</td>\n",
       "      <td>{'H': -1.0}</td>\n",
       "    </tr>\n",
       "    <tr>\n",
       "      <th>10</th>\n",
       "      <td>DASYN181</td>\n",
       "      <td>2.0</td>\n",
       "      <td>{}</td>\n",
       "    </tr>\n",
       "    <tr>\n",
       "      <th>11</th>\n",
       "      <td>EAR140x</td>\n",
       "      <td>1.0</td>\n",
       "      <td>{}</td>\n",
       "    </tr>\n",
       "    <tr>\n",
       "      <th>12</th>\n",
       "      <td>EAR181x</td>\n",
       "      <td>-1.0</td>\n",
       "      <td>{}</td>\n",
       "    </tr>\n",
       "    <tr>\n",
       "      <th>13</th>\n",
       "      <td>G3PAT161ab</td>\n",
       "      <td>2.0</td>\n",
       "      <td>{}</td>\n",
       "    </tr>\n",
       "    <tr>\n",
       "      <th>14</th>\n",
       "      <td>G3PAT181</td>\n",
       "      <td>2.0</td>\n",
       "      <td>{}</td>\n",
       "    </tr>\n",
       "    <tr>\n",
       "      <th>15</th>\n",
       "      <td>HGFE</td>\n",
       "      <td>-8.0</td>\n",
       "      <td>{}</td>\n",
       "    </tr>\n",
       "    <tr>\n",
       "      <th>16</th>\n",
       "      <td>HPYRRx</td>\n",
       "      <td>1.0</td>\n",
       "      <td>{}</td>\n",
       "    </tr>\n",
       "    <tr>\n",
       "      <th>17</th>\n",
       "      <td>HPYRRy</td>\n",
       "      <td>1.0</td>\n",
       "      <td>{}</td>\n",
       "    </tr>\n",
       "    <tr>\n",
       "      <th>18</th>\n",
       "      <td>HSTPT</td>\n",
       "      <td>-1.0</td>\n",
       "      <td>{}</td>\n",
       "    </tr>\n",
       "    <tr>\n",
       "      <th>19</th>\n",
       "      <td>IGPDH</td>\n",
       "      <td>1.0</td>\n",
       "      <td>{}</td>\n",
       "    </tr>\n",
       "    <tr>\n",
       "      <th>20</th>\n",
       "      <td>L_LACD2</td>\n",
       "      <td>-1.0</td>\n",
       "      <td>{}</td>\n",
       "    </tr>\n",
       "    <tr>\n",
       "      <th>21</th>\n",
       "      <td>LCADi</td>\n",
       "      <td>1.0</td>\n",
       "      <td>{}</td>\n",
       "    </tr>\n",
       "    <tr>\n",
       "      <th>22</th>\n",
       "      <td>LDH_D</td>\n",
       "      <td>-1.0</td>\n",
       "      <td>{}</td>\n",
       "    </tr>\n",
       "    <tr>\n",
       "      <th>23</th>\n",
       "      <td>LGTHL</td>\n",
       "      <td>1.0</td>\n",
       "      <td>{}</td>\n",
       "    </tr>\n",
       "    <tr>\n",
       "      <th>24</th>\n",
       "      <td>MAc2</td>\n",
       "      <td>6.0</td>\n",
       "      <td>{}</td>\n",
       "    </tr>\n",
       "    <tr>\n",
       "      <th>25</th>\n",
       "      <td>MAc4</td>\n",
       "      <td>4.0</td>\n",
       "      <td>{}</td>\n",
       "    </tr>\n",
       "    <tr>\n",
       "      <th>26</th>\n",
       "      <td>MAc6</td>\n",
       "      <td>4.0</td>\n",
       "      <td>{}</td>\n",
       "    </tr>\n",
       "    <tr>\n",
       "      <th>27</th>\n",
       "      <td>Malt1pp</td>\n",
       "      <td>-2.0</td>\n",
       "      <td>{}</td>\n",
       "    </tr>\n",
       "    <tr>\n",
       "      <th>28</th>\n",
       "      <td>MDDCP6pp</td>\n",
       "      <td>6.0</td>\n",
       "      <td>{'H': 3.0, 'N': -6.0}</td>\n",
       "    </tr>\n",
       "    <tr>\n",
       "      <th>29</th>\n",
       "      <td>MI1PP</td>\n",
       "      <td>-2.0</td>\n",
       "      <td>{}</td>\n",
       "    </tr>\n",
       "    <tr>\n",
       "      <th>30</th>\n",
       "      <td>NO2R</td>\n",
       "      <td>1.0</td>\n",
       "      <td>{}</td>\n",
       "    </tr>\n",
       "    <tr>\n",
       "      <th>31</th>\n",
       "      <td>NOR</td>\n",
       "      <td>-2.0</td>\n",
       "      <td>{}</td>\n",
       "    </tr>\n",
       "    <tr>\n",
       "      <th>32</th>\n",
       "      <td>pa161abcpp</td>\n",
       "      <td>1.0</td>\n",
       "      <td>{}</td>\n",
       "    </tr>\n",
       "    <tr>\n",
       "      <th>33</th>\n",
       "      <td>pa181abcpp</td>\n",
       "      <td>1.0</td>\n",
       "      <td>{}</td>\n",
       "    </tr>\n",
       "    <tr>\n",
       "      <th>34</th>\n",
       "      <td>pgp161abcpp</td>\n",
       "      <td>-1.0</td>\n",
       "      <td>{}</td>\n",
       "    </tr>\n",
       "    <tr>\n",
       "      <th>35</th>\n",
       "      <td>pgp181abcpp</td>\n",
       "      <td>-1.0</td>\n",
       "      <td>{}</td>\n",
       "    </tr>\n",
       "    <tr>\n",
       "      <th>36</th>\n",
       "      <td>PGPP161a</td>\n",
       "      <td>-1.0</td>\n",
       "      <td>{}</td>\n",
       "    </tr>\n",
       "    <tr>\n",
       "      <th>37</th>\n",
       "      <td>PGPP181</td>\n",
       "      <td>-1.0</td>\n",
       "      <td>{}</td>\n",
       "    </tr>\n",
       "    <tr>\n",
       "      <th>38</th>\n",
       "      <td>PGSA161a</td>\n",
       "      <td>-1.0</td>\n",
       "      <td>{'H': 1.0}</td>\n",
       "    </tr>\n",
       "    <tr>\n",
       "      <th>39</th>\n",
       "      <td>PGSA181</td>\n",
       "      <td>-1.0</td>\n",
       "      <td>{}</td>\n",
       "    </tr>\n",
       "    <tr>\n",
       "      <th>40</th>\n",
       "      <td>PHEMEFErel</td>\n",
       "      <td>7.0</td>\n",
       "      <td>{}</td>\n",
       "    </tr>\n",
       "    <tr>\n",
       "      <th>41</th>\n",
       "      <td>PLIPA1A161a</td>\n",
       "      <td>1.0</td>\n",
       "      <td>{}</td>\n",
       "    </tr>\n",
       "    <tr>\n",
       "      <th>42</th>\n",
       "      <td>PLIPA1G161a</td>\n",
       "      <td></td>\n",
       "      <td>{'H': -1.0}</td>\n",
       "    </tr>\n",
       "    <tr>\n",
       "      <th>43</th>\n",
       "      <td>PMCOAS</td>\n",
       "      <td>-1.0</td>\n",
       "      <td>{'C': 7.0, 'H': 9.0, 'O': 3.0}</td>\n",
       "    </tr>\n",
       "    <tr>\n",
       "      <th>44</th>\n",
       "      <td>PRPPS</td>\n",
       "      <td>1.0</td>\n",
       "      <td>{'H': 1.0}</td>\n",
       "    </tr>\n",
       "    <tr>\n",
       "      <th>45</th>\n",
       "      <td>PSSA161a</td>\n",
       "      <td>-2.0</td>\n",
       "      <td>{}</td>\n",
       "    </tr>\n",
       "    <tr>\n",
       "      <th>46</th>\n",
       "      <td>PSSA181</td>\n",
       "      <td>-2.0</td>\n",
       "      <td>{}</td>\n",
       "    </tr>\n",
       "    <tr>\n",
       "      <th>47</th>\n",
       "      <td>T2MRSI</td>\n",
       "      <td>1.0</td>\n",
       "      <td>{}</td>\n",
       "    </tr>\n",
       "    <tr>\n",
       "      <th>48</th>\n",
       "      <td>UCYR</td>\n",
       "      <td>2.0</td>\n",
       "      <td>{}</td>\n",
       "    </tr>\n",
       "    <tr>\n",
       "      <th>49</th>\n",
       "      <td>CYPOX</td>\n",
       "      <td>-2.0</td>\n",
       "      <td>{}</td>\n",
       "    </tr>\n",
       "    <tr>\n",
       "      <th>50</th>\n",
       "      <td>LDH_D2</td>\n",
       "      <td>-1.0</td>\n",
       "      <td>{}</td>\n",
       "    </tr>\n",
       "  </tbody>\n",
       "</table>\n",
       "</div>"
      ],
      "text/plain": [
       "      Reactions Charge                                             Masses\n",
       "0       3HAD140   -1.0                                                 {}\n",
       "1      3OAS161a    2.0  {'C': -12.0, 'H': -21.0, 'N': -2.0, 'O': -9.0,...\n",
       "2     AGPAT161a   -2.0                                                 {}\n",
       "3      AGPAT181   -2.0                                                 {}\n",
       "4        ATPPRT   -1.0                                        {'H': -1.0}\n",
       "5          BTS4                                                {'S': 1.0}\n",
       "6          CYOX   -4.0                                                 {}\n",
       "7         CYTCS    2.0  {'C': 8.0, 'H': 14.0, 'N': 4.0, 'O': 4.0, 'S':...\n",
       "8         DAPDC   -1.0                                                 {}\n",
       "9     DASYN161a    2.0                                        {'H': -1.0}\n",
       "10     DASYN181    2.0                                                 {}\n",
       "11      EAR140x    1.0                                                 {}\n",
       "12      EAR181x   -1.0                                                 {}\n",
       "13   G3PAT161ab    2.0                                                 {}\n",
       "14     G3PAT181    2.0                                                 {}\n",
       "15         HGFE   -8.0                                                 {}\n",
       "16       HPYRRx    1.0                                                 {}\n",
       "17       HPYRRy    1.0                                                 {}\n",
       "18        HSTPT   -1.0                                                 {}\n",
       "19        IGPDH    1.0                                                 {}\n",
       "20      L_LACD2   -1.0                                                 {}\n",
       "21        LCADi    1.0                                                 {}\n",
       "22        LDH_D   -1.0                                                 {}\n",
       "23        LGTHL    1.0                                                 {}\n",
       "24         MAc2    6.0                                                 {}\n",
       "25         MAc4    4.0                                                 {}\n",
       "26         MAc6    4.0                                                 {}\n",
       "27      Malt1pp   -2.0                                                 {}\n",
       "28     MDDCP6pp    6.0                              {'H': 3.0, 'N': -6.0}\n",
       "29        MI1PP   -2.0                                                 {}\n",
       "30         NO2R    1.0                                                 {}\n",
       "31          NOR   -2.0                                                 {}\n",
       "32   pa161abcpp    1.0                                                 {}\n",
       "33   pa181abcpp    1.0                                                 {}\n",
       "34  pgp161abcpp   -1.0                                                 {}\n",
       "35  pgp181abcpp   -1.0                                                 {}\n",
       "36     PGPP161a   -1.0                                                 {}\n",
       "37      PGPP181   -1.0                                                 {}\n",
       "38     PGSA161a   -1.0                                         {'H': 1.0}\n",
       "39      PGSA181   -1.0                                                 {}\n",
       "40   PHEMEFErel    7.0                                                 {}\n",
       "41  PLIPA1A161a    1.0                                                 {}\n",
       "42  PLIPA1G161a                                               {'H': -1.0}\n",
       "43       PMCOAS   -1.0                     {'C': 7.0, 'H': 9.0, 'O': 3.0}\n",
       "44        PRPPS    1.0                                         {'H': 1.0}\n",
       "45     PSSA161a   -2.0                                                 {}\n",
       "46      PSSA181   -2.0                                                 {}\n",
       "47       T2MRSI    1.0                                                 {}\n",
       "48         UCYR    2.0                                                 {}\n",
       "49        CYPOX   -2.0                                                 {}\n",
       "50       LDH_D2   -1.0                                                 {}"
      ]
     },
     "execution_count": 224,
     "metadata": {},
     "output_type": "execute_result"
    }
   ],
   "source": [
    "#After bulk removing cofactors, what reaction imbalances remain?\n",
    "reactions = []\n",
    "charge = []\n",
    "mass = []\n",
    "for react in model.reactions:\n",
    "    result = react.check_mass_balance()\n",
    "    if 'EX_' in  react.id:\n",
    "        continue\n",
    "    if 'Nm_' in  react.id:\n",
    "        continue\n",
    "    if 'DM_' in  react.id:\n",
    "        continue \n",
    "    if react.id in biomass_reactions:\n",
    "        continue\n",
    "    if len(result) == 0:\n",
    "        continue\n",
    "    else: \n",
    "        reactions.append(react.id)\n",
    "        masses = {}\n",
    "        for key in result.keys():\n",
    "            if key == 'charge':\n",
    "                charge.append(result['charge'])\n",
    "            else:\n",
    "                masses[key] = result[key]\n",
    "        if 'charge' not in result.keys():\n",
    "            charge.append('')\n",
    "        mass.append(masses)\n",
    "print(len(reactions), len(charge), len(mass))\n",
    "\n",
    "mass_charge_dict = {'Reactions': reactions, 'Charge': charge, 'Masses': mass}\n",
    "mass_charge = pandas.DataFrame(mass_charge_dict)\n",
    "mass_charge.to_csv('imbalancesremaining.csv')\n",
    "mass_charge"
   ]
  },
  {
   "cell_type": "code",
   "execution_count": 225,
   "id": "b2ab7cae-c0c3-41a4-a026-3dcf4f6ddc1e",
   "metadata": {},
   "outputs": [
    {
     "name": "stdout",
     "output_type": "stream",
     "text": [
      "{}\n"
     ]
    },
    {
     "data": {
      "text/html": [
       "\n",
       "        <table>\n",
       "            <tr>\n",
       "                <td><strong>Reaction identifier</strong></td><td>DAPDC</td>\n",
       "            </tr><tr>\n",
       "                <td><strong>Name</strong></td><td>Diaminopimelate decarboxylase</td>\n",
       "            </tr><tr>\n",
       "                <td><strong>Memory address</strong></td>\n",
       "                <td>0x01783ddb55e0</td>\n",
       "            </tr><tr>\n",
       "                <td><strong>Stoichiometry</strong></td>\n",
       "                <td>\n",
       "                    <p style='text-align:right'>26dap_M_c + h_c --> co2_c + lys_L_c</p>\n",
       "                    <p style='text-align:right'>M_26dap_M_c + M_h_c --> M_co2_c + M_lys_L_c</p>\n",
       "                </td>\n",
       "            </tr><tr>\n",
       "                <td><strong>GPR</strong></td><td>NGO2098</td>\n",
       "            </tr><tr>\n",
       "                <td><strong>Lower bound</strong></td><td>0.0</td>\n",
       "            </tr><tr>\n",
       "                <td><strong>Upper bound</strong></td><td>1000.0</td>\n",
       "            </tr>\n",
       "        </table>\n",
       "        "
      ],
      "text/plain": [
       "<Reaction DAPDC at 0x1783ddb55e0>"
      ]
     },
     "execution_count": 225,
     "metadata": {},
     "output_type": "execute_result"
    }
   ],
   "source": [
    "r=model.reactions.get_by_id('DAPDC')\n",
    "model.metabolites.get_by_id('lys_L_c').charge=1\n",
    "model.metabolites.get_by_id('lys_L_p').charge=1\n",
    "model.metabolites.get_by_id('lys_L_e').charge=1\n",
    "print(r.check_mass_balance())\n",
    "r"
   ]
  },
  {
   "cell_type": "code",
   "execution_count": 226,
   "id": "1068708d-2579-4fc9-9cbc-a402665a3c67",
   "metadata": {},
   "outputs": [
    {
     "name": "stdout",
     "output_type": "stream",
     "text": [
      "{}\n"
     ]
    },
    {
     "data": {
      "text/html": [
       "\n",
       "        <table>\n",
       "            <tr>\n",
       "                <td><strong>Reaction identifier</strong></td><td>GALUi</td>\n",
       "            </tr><tr>\n",
       "                <td><strong>Name</strong></td><td>UTP-glucose-1-phosphate uridylyltransferase (irreversible)</td>\n",
       "            </tr><tr>\n",
       "                <td><strong>Memory address</strong></td>\n",
       "                <td>0x01783dee5640</td>\n",
       "            </tr><tr>\n",
       "                <td><strong>Stoichiometry</strong></td>\n",
       "                <td>\n",
       "                    <p style='text-align:right'>g1p_c + h_c + utp_c --> ppi_c + udpg_c</p>\n",
       "                    <p style='text-align:right'>M_g1p_c + M_h_c + M_utp_c --> M_ppi_c + M_udpg_c</p>\n",
       "                </td>\n",
       "            </tr><tr>\n",
       "                <td><strong>GPR</strong></td><td>NGO0220</td>\n",
       "            </tr><tr>\n",
       "                <td><strong>Lower bound</strong></td><td>0.0</td>\n",
       "            </tr><tr>\n",
       "                <td><strong>Upper bound</strong></td><td>1000.0</td>\n",
       "            </tr>\n",
       "        </table>\n",
       "        "
      ],
      "text/plain": [
       "<Reaction GALUi at 0x1783dee5640>"
      ]
     },
     "execution_count": 226,
     "metadata": {},
     "output_type": "execute_result"
    }
   ],
   "source": [
    "r=model.reactions.get_by_id('GALUi')\n",
    "model.metabolites.utp_c.formula='C9H11N2O15P3'\n",
    "model.metabolites.utp_c.charge=-4\n",
    "print(r.check_mass_balance())\n",
    "r"
   ]
  },
  {
   "cell_type": "code",
   "execution_count": 227,
   "id": "3f3d325b-d317-43bd-8a08-b2ce7924c9e8",
   "metadata": {},
   "outputs": [
    {
     "name": "stdout",
     "output_type": "stream",
     "text": [
      "{}\n"
     ]
    },
    {
     "data": {
      "text/html": [
       "\n",
       "        <table>\n",
       "            <tr>\n",
       "                <td><strong>Reaction identifier</strong></td><td>GALT3</td>\n",
       "            </tr><tr>\n",
       "                <td><strong>Name</strong></td><td>R_GLCTR2</td>\n",
       "            </tr><tr>\n",
       "                <td><strong>Memory address</strong></td>\n",
       "                <td>0x01783fb6ec70</td>\n",
       "            </tr><tr>\n",
       "                <td><strong>Stoichiometry</strong></td>\n",
       "                <td>\n",
       "                    <p style='text-align:right'>glcgnahhlipa_c + udpg_c --> galglcgnahhlipa_c + h_c + udp_c</p>\n",
       "                    <p style='text-align:right'>M_glcgnahhlipa_c + M_udpg_c --> M_galglcgnahhlipa_c + M_h_c + M_udp_c</p>\n",
       "                </td>\n",
       "            </tr><tr>\n",
       "                <td><strong>GPR</strong></td><td>NGO2072</td>\n",
       "            </tr><tr>\n",
       "                <td><strong>Lower bound</strong></td><td>0.0</td>\n",
       "            </tr><tr>\n",
       "                <td><strong>Upper bound</strong></td><td>1000.0</td>\n",
       "            </tr>\n",
       "        </table>\n",
       "        "
      ],
      "text/plain": [
       "<Reaction GALT3 at 0x1783fb6ec70>"
      ]
     },
     "execution_count": 227,
     "metadata": {},
     "output_type": "execute_result"
    }
   ],
   "source": [
    "r=model.reactions.get_by_id('GALT3')\n",
    "print(r.check_mass_balance())\n",
    "r"
   ]
  },
  {
   "cell_type": "code",
   "execution_count": 228,
   "id": "1c1beef2-1b7c-4d7c-83de-31d0ff6ac1a5",
   "metadata": {},
   "outputs": [
    {
     "name": "stdout",
     "output_type": "stream",
     "text": [
      "50 50 50\n"
     ]
    },
    {
     "data": {
      "text/html": [
       "<div>\n",
       "<style scoped>\n",
       "    .dataframe tbody tr th:only-of-type {\n",
       "        vertical-align: middle;\n",
       "    }\n",
       "\n",
       "    .dataframe tbody tr th {\n",
       "        vertical-align: top;\n",
       "    }\n",
       "\n",
       "    .dataframe thead th {\n",
       "        text-align: right;\n",
       "    }\n",
       "</style>\n",
       "<table border=\"1\" class=\"dataframe\">\n",
       "  <thead>\n",
       "    <tr style=\"text-align: right;\">\n",
       "      <th></th>\n",
       "      <th>Reactions</th>\n",
       "      <th>Charge</th>\n",
       "      <th>Masses</th>\n",
       "    </tr>\n",
       "  </thead>\n",
       "  <tbody>\n",
       "    <tr>\n",
       "      <th>0</th>\n",
       "      <td>3HAD140</td>\n",
       "      <td>-1.0</td>\n",
       "      <td>{}</td>\n",
       "    </tr>\n",
       "    <tr>\n",
       "      <th>1</th>\n",
       "      <td>3OAS161a</td>\n",
       "      <td>2.0</td>\n",
       "      <td>{'C': -12.0, 'H': -21.0, 'N': -2.0, 'O': -9.0,...</td>\n",
       "    </tr>\n",
       "    <tr>\n",
       "      <th>2</th>\n",
       "      <td>AGPAT161a</td>\n",
       "      <td>-2.0</td>\n",
       "      <td>{}</td>\n",
       "    </tr>\n",
       "    <tr>\n",
       "      <th>3</th>\n",
       "      <td>AGPAT181</td>\n",
       "      <td>-2.0</td>\n",
       "      <td>{}</td>\n",
       "    </tr>\n",
       "    <tr>\n",
       "      <th>4</th>\n",
       "      <td>ATPPRT</td>\n",
       "      <td>-1.0</td>\n",
       "      <td>{'H': -1.0}</td>\n",
       "    </tr>\n",
       "    <tr>\n",
       "      <th>5</th>\n",
       "      <td>BTS4</td>\n",
       "      <td></td>\n",
       "      <td>{'S': 1.0}</td>\n",
       "    </tr>\n",
       "    <tr>\n",
       "      <th>6</th>\n",
       "      <td>CYOX</td>\n",
       "      <td>-4.0</td>\n",
       "      <td>{}</td>\n",
       "    </tr>\n",
       "    <tr>\n",
       "      <th>7</th>\n",
       "      <td>CYTCS</td>\n",
       "      <td>2.0</td>\n",
       "      <td>{'C': 8.0, 'H': 14.0, 'N': 4.0, 'O': 4.0, 'S':...</td>\n",
       "    </tr>\n",
       "    <tr>\n",
       "      <th>8</th>\n",
       "      <td>DASYN161a</td>\n",
       "      <td>2.0</td>\n",
       "      <td>{'H': -1.0}</td>\n",
       "    </tr>\n",
       "    <tr>\n",
       "      <th>9</th>\n",
       "      <td>DASYN181</td>\n",
       "      <td>2.0</td>\n",
       "      <td>{}</td>\n",
       "    </tr>\n",
       "    <tr>\n",
       "      <th>10</th>\n",
       "      <td>EAR140x</td>\n",
       "      <td>1.0</td>\n",
       "      <td>{}</td>\n",
       "    </tr>\n",
       "    <tr>\n",
       "      <th>11</th>\n",
       "      <td>EAR181x</td>\n",
       "      <td>-1.0</td>\n",
       "      <td>{}</td>\n",
       "    </tr>\n",
       "    <tr>\n",
       "      <th>12</th>\n",
       "      <td>G3PAT161ab</td>\n",
       "      <td>2.0</td>\n",
       "      <td>{}</td>\n",
       "    </tr>\n",
       "    <tr>\n",
       "      <th>13</th>\n",
       "      <td>G3PAT181</td>\n",
       "      <td>2.0</td>\n",
       "      <td>{}</td>\n",
       "    </tr>\n",
       "    <tr>\n",
       "      <th>14</th>\n",
       "      <td>HGFE</td>\n",
       "      <td>-8.0</td>\n",
       "      <td>{}</td>\n",
       "    </tr>\n",
       "    <tr>\n",
       "      <th>15</th>\n",
       "      <td>HPYRRx</td>\n",
       "      <td>1.0</td>\n",
       "      <td>{}</td>\n",
       "    </tr>\n",
       "    <tr>\n",
       "      <th>16</th>\n",
       "      <td>HPYRRy</td>\n",
       "      <td>1.0</td>\n",
       "      <td>{}</td>\n",
       "    </tr>\n",
       "    <tr>\n",
       "      <th>17</th>\n",
       "      <td>HSTPT</td>\n",
       "      <td>-1.0</td>\n",
       "      <td>{}</td>\n",
       "    </tr>\n",
       "    <tr>\n",
       "      <th>18</th>\n",
       "      <td>IGPDH</td>\n",
       "      <td>1.0</td>\n",
       "      <td>{}</td>\n",
       "    </tr>\n",
       "    <tr>\n",
       "      <th>19</th>\n",
       "      <td>L_LACD2</td>\n",
       "      <td>-1.0</td>\n",
       "      <td>{}</td>\n",
       "    </tr>\n",
       "    <tr>\n",
       "      <th>20</th>\n",
       "      <td>LCADi</td>\n",
       "      <td>1.0</td>\n",
       "      <td>{}</td>\n",
       "    </tr>\n",
       "    <tr>\n",
       "      <th>21</th>\n",
       "      <td>LDH_D</td>\n",
       "      <td>-1.0</td>\n",
       "      <td>{}</td>\n",
       "    </tr>\n",
       "    <tr>\n",
       "      <th>22</th>\n",
       "      <td>LGTHL</td>\n",
       "      <td>1.0</td>\n",
       "      <td>{}</td>\n",
       "    </tr>\n",
       "    <tr>\n",
       "      <th>23</th>\n",
       "      <td>MAc2</td>\n",
       "      <td>6.0</td>\n",
       "      <td>{}</td>\n",
       "    </tr>\n",
       "    <tr>\n",
       "      <th>24</th>\n",
       "      <td>MAc4</td>\n",
       "      <td>4.0</td>\n",
       "      <td>{}</td>\n",
       "    </tr>\n",
       "    <tr>\n",
       "      <th>25</th>\n",
       "      <td>MAc6</td>\n",
       "      <td>4.0</td>\n",
       "      <td>{}</td>\n",
       "    </tr>\n",
       "    <tr>\n",
       "      <th>26</th>\n",
       "      <td>Malt1pp</td>\n",
       "      <td>-2.0</td>\n",
       "      <td>{}</td>\n",
       "    </tr>\n",
       "    <tr>\n",
       "      <th>27</th>\n",
       "      <td>MDDCP6pp</td>\n",
       "      <td>6.0</td>\n",
       "      <td>{'H': 3.0, 'N': -6.0}</td>\n",
       "    </tr>\n",
       "    <tr>\n",
       "      <th>28</th>\n",
       "      <td>MI1PP</td>\n",
       "      <td>-2.0</td>\n",
       "      <td>{}</td>\n",
       "    </tr>\n",
       "    <tr>\n",
       "      <th>29</th>\n",
       "      <td>NO2R</td>\n",
       "      <td>1.0</td>\n",
       "      <td>{}</td>\n",
       "    </tr>\n",
       "    <tr>\n",
       "      <th>30</th>\n",
       "      <td>NOR</td>\n",
       "      <td>-2.0</td>\n",
       "      <td>{}</td>\n",
       "    </tr>\n",
       "    <tr>\n",
       "      <th>31</th>\n",
       "      <td>pa161abcpp</td>\n",
       "      <td>1.0</td>\n",
       "      <td>{}</td>\n",
       "    </tr>\n",
       "    <tr>\n",
       "      <th>32</th>\n",
       "      <td>pa181abcpp</td>\n",
       "      <td>1.0</td>\n",
       "      <td>{}</td>\n",
       "    </tr>\n",
       "    <tr>\n",
       "      <th>33</th>\n",
       "      <td>pgp161abcpp</td>\n",
       "      <td>-1.0</td>\n",
       "      <td>{}</td>\n",
       "    </tr>\n",
       "    <tr>\n",
       "      <th>34</th>\n",
       "      <td>pgp181abcpp</td>\n",
       "      <td>-1.0</td>\n",
       "      <td>{}</td>\n",
       "    </tr>\n",
       "    <tr>\n",
       "      <th>35</th>\n",
       "      <td>PGPP161a</td>\n",
       "      <td>-1.0</td>\n",
       "      <td>{}</td>\n",
       "    </tr>\n",
       "    <tr>\n",
       "      <th>36</th>\n",
       "      <td>PGPP181</td>\n",
       "      <td>-1.0</td>\n",
       "      <td>{}</td>\n",
       "    </tr>\n",
       "    <tr>\n",
       "      <th>37</th>\n",
       "      <td>PGSA161a</td>\n",
       "      <td>-1.0</td>\n",
       "      <td>{'H': 1.0}</td>\n",
       "    </tr>\n",
       "    <tr>\n",
       "      <th>38</th>\n",
       "      <td>PGSA181</td>\n",
       "      <td>-1.0</td>\n",
       "      <td>{}</td>\n",
       "    </tr>\n",
       "    <tr>\n",
       "      <th>39</th>\n",
       "      <td>PHEMEFErel</td>\n",
       "      <td>7.0</td>\n",
       "      <td>{}</td>\n",
       "    </tr>\n",
       "    <tr>\n",
       "      <th>40</th>\n",
       "      <td>PLIPA1A161a</td>\n",
       "      <td>1.0</td>\n",
       "      <td>{}</td>\n",
       "    </tr>\n",
       "    <tr>\n",
       "      <th>41</th>\n",
       "      <td>PLIPA1G161a</td>\n",
       "      <td></td>\n",
       "      <td>{'H': -1.0}</td>\n",
       "    </tr>\n",
       "    <tr>\n",
       "      <th>42</th>\n",
       "      <td>PMCOAS</td>\n",
       "      <td>-1.0</td>\n",
       "      <td>{'C': 7.0, 'H': 9.0, 'O': 3.0}</td>\n",
       "    </tr>\n",
       "    <tr>\n",
       "      <th>43</th>\n",
       "      <td>PRPPS</td>\n",
       "      <td>1.0</td>\n",
       "      <td>{'H': 1.0}</td>\n",
       "    </tr>\n",
       "    <tr>\n",
       "      <th>44</th>\n",
       "      <td>PSSA161a</td>\n",
       "      <td>-2.0</td>\n",
       "      <td>{}</td>\n",
       "    </tr>\n",
       "    <tr>\n",
       "      <th>45</th>\n",
       "      <td>PSSA181</td>\n",
       "      <td>-2.0</td>\n",
       "      <td>{}</td>\n",
       "    </tr>\n",
       "    <tr>\n",
       "      <th>46</th>\n",
       "      <td>T2MRSI</td>\n",
       "      <td>1.0</td>\n",
       "      <td>{}</td>\n",
       "    </tr>\n",
       "    <tr>\n",
       "      <th>47</th>\n",
       "      <td>UCYR</td>\n",
       "      <td>2.0</td>\n",
       "      <td>{}</td>\n",
       "    </tr>\n",
       "    <tr>\n",
       "      <th>48</th>\n",
       "      <td>CYPOX</td>\n",
       "      <td>-2.0</td>\n",
       "      <td>{}</td>\n",
       "    </tr>\n",
       "    <tr>\n",
       "      <th>49</th>\n",
       "      <td>LDH_D2</td>\n",
       "      <td>-1.0</td>\n",
       "      <td>{}</td>\n",
       "    </tr>\n",
       "  </tbody>\n",
       "</table>\n",
       "</div>"
      ],
      "text/plain": [
       "      Reactions Charge                                             Masses\n",
       "0       3HAD140   -1.0                                                 {}\n",
       "1      3OAS161a    2.0  {'C': -12.0, 'H': -21.0, 'N': -2.0, 'O': -9.0,...\n",
       "2     AGPAT161a   -2.0                                                 {}\n",
       "3      AGPAT181   -2.0                                                 {}\n",
       "4        ATPPRT   -1.0                                        {'H': -1.0}\n",
       "5          BTS4                                                {'S': 1.0}\n",
       "6          CYOX   -4.0                                                 {}\n",
       "7         CYTCS    2.0  {'C': 8.0, 'H': 14.0, 'N': 4.0, 'O': 4.0, 'S':...\n",
       "8     DASYN161a    2.0                                        {'H': -1.0}\n",
       "9      DASYN181    2.0                                                 {}\n",
       "10      EAR140x    1.0                                                 {}\n",
       "11      EAR181x   -1.0                                                 {}\n",
       "12   G3PAT161ab    2.0                                                 {}\n",
       "13     G3PAT181    2.0                                                 {}\n",
       "14         HGFE   -8.0                                                 {}\n",
       "15       HPYRRx    1.0                                                 {}\n",
       "16       HPYRRy    1.0                                                 {}\n",
       "17        HSTPT   -1.0                                                 {}\n",
       "18        IGPDH    1.0                                                 {}\n",
       "19      L_LACD2   -1.0                                                 {}\n",
       "20        LCADi    1.0                                                 {}\n",
       "21        LDH_D   -1.0                                                 {}\n",
       "22        LGTHL    1.0                                                 {}\n",
       "23         MAc2    6.0                                                 {}\n",
       "24         MAc4    4.0                                                 {}\n",
       "25         MAc6    4.0                                                 {}\n",
       "26      Malt1pp   -2.0                                                 {}\n",
       "27     MDDCP6pp    6.0                              {'H': 3.0, 'N': -6.0}\n",
       "28        MI1PP   -2.0                                                 {}\n",
       "29         NO2R    1.0                                                 {}\n",
       "30          NOR   -2.0                                                 {}\n",
       "31   pa161abcpp    1.0                                                 {}\n",
       "32   pa181abcpp    1.0                                                 {}\n",
       "33  pgp161abcpp   -1.0                                                 {}\n",
       "34  pgp181abcpp   -1.0                                                 {}\n",
       "35     PGPP161a   -1.0                                                 {}\n",
       "36      PGPP181   -1.0                                                 {}\n",
       "37     PGSA161a   -1.0                                         {'H': 1.0}\n",
       "38      PGSA181   -1.0                                                 {}\n",
       "39   PHEMEFErel    7.0                                                 {}\n",
       "40  PLIPA1A161a    1.0                                                 {}\n",
       "41  PLIPA1G161a                                               {'H': -1.0}\n",
       "42       PMCOAS   -1.0                     {'C': 7.0, 'H': 9.0, 'O': 3.0}\n",
       "43        PRPPS    1.0                                         {'H': 1.0}\n",
       "44     PSSA161a   -2.0                                                 {}\n",
       "45      PSSA181   -2.0                                                 {}\n",
       "46       T2MRSI    1.0                                                 {}\n",
       "47         UCYR    2.0                                                 {}\n",
       "48        CYPOX   -2.0                                                 {}\n",
       "49       LDH_D2   -1.0                                                 {}"
      ]
     },
     "execution_count": 228,
     "metadata": {},
     "output_type": "execute_result"
    }
   ],
   "source": [
    "#After bulk removing cofactors, what reaction imbalances remain?\n",
    "reactions = []\n",
    "charge = []\n",
    "mass = []\n",
    "for react in model.reactions:\n",
    "    result = react.check_mass_balance()\n",
    "    if 'EX_' in  react.id:\n",
    "        continue\n",
    "    if 'Nm_' in  react.id:\n",
    "        continue\n",
    "    if 'DM_' in  react.id:\n",
    "        continue \n",
    "    if react.id in biomass_reactions:\n",
    "        continue\n",
    "    if len(result) == 0:\n",
    "        continue\n",
    "    else: \n",
    "        reactions.append(react.id)\n",
    "        masses = {}\n",
    "        for key in result.keys():\n",
    "            if key == 'charge':\n",
    "                charge.append(result['charge'])\n",
    "            else:\n",
    "                masses[key] = result[key]\n",
    "        if 'charge' not in result.keys():\n",
    "            charge.append('')\n",
    "        mass.append(masses)\n",
    "print(len(reactions), len(charge), len(mass))\n",
    "\n",
    "mass_charge_dict = {'Reactions': reactions, 'Charge': charge, 'Masses': mass}\n",
    "mass_charge = pandas.DataFrame(mass_charge_dict)\n",
    "mass_charge.to_csv('imbalancesremaining.csv')\n",
    "mass_charge"
   ]
  },
  {
   "cell_type": "code",
   "execution_count": 229,
   "id": "4af52d50-dbcf-45b8-9079-76b59ed0506b",
   "metadata": {},
   "outputs": [
    {
     "name": "stdout",
     "output_type": "stream",
     "text": [
      "{}\n"
     ]
    }
   ],
   "source": [
    "r=model.reactions.get_by_id('ATPPRT')\n",
    "r.add_metabolites({\n",
    "    h_c: 1.0,\n",
    "      })\n",
    "\n",
    "print(r.check_mass_balance())  "
   ]
  },
  {
   "cell_type": "code",
   "execution_count": 230,
   "id": "b3b00448-e2ee-40eb-a8a4-da52699748c5",
   "metadata": {},
   "outputs": [
    {
     "name": "stdout",
     "output_type": "stream",
     "text": [
      "{'charge': -2.0}\n"
     ]
    }
   ],
   "source": [
    "r=model.reactions.get_by_id('PGSA161a')\n",
    "r.add_metabolites({\n",
    "    h_c: -1.0,\n",
    "      })\n",
    "\n",
    "print(r.check_mass_balance())"
   ]
  },
  {
   "cell_type": "code",
   "execution_count": 231,
   "id": "d9150cf9-5adc-47fe-981a-8ffb840a6619",
   "metadata": {},
   "outputs": [
    {
     "name": "stdout",
     "output_type": "stream",
     "text": [
      "{'charge': 1.0}\n"
     ]
    }
   ],
   "source": [
    "r=model.reactions.get_by_id('PLIPA1G161a')\n",
    "r.add_metabolites({\n",
    "    h_c: 1.0,\n",
    "      })\n",
    "\n",
    "print(r.check_mass_balance())"
   ]
  },
  {
   "cell_type": "code",
   "execution_count": 232,
   "id": "0640e5f4-1ef8-4883-a751-c8ca4451d02d",
   "metadata": {},
   "outputs": [
    {
     "name": "stdout",
     "output_type": "stream",
     "text": [
      "{}\n"
     ]
    }
   ],
   "source": [
    "r=model.reactions.get_by_id('PRPPS')\n",
    "r.add_metabolites({\n",
    "    h_c: -1.0,\n",
    "      })\n",
    "\n",
    "print(r.check_mass_balance())"
   ]
  },
  {
   "cell_type": "code",
   "execution_count": 233,
   "id": "40327b00-4d54-41ff-885e-cfd2594202ea",
   "metadata": {},
   "outputs": [
    {
     "name": "stdout",
     "output_type": "stream",
     "text": [
      "{'charge': -8.0}\n"
     ]
    },
    {
     "data": {
      "text/html": [
       "\n",
       "        <table>\n",
       "            <tr>\n",
       "                <td><strong>Reaction identifier</strong></td><td>HGFE</td>\n",
       "            </tr><tr>\n",
       "                <td><strong>Name</strong></td><td>R_HGFE</td>\n",
       "            </tr><tr>\n",
       "                <td><strong>Memory address</strong></td>\n",
       "                <td>0x01783df6beb0</td>\n",
       "            </tr><tr>\n",
       "                <td><strong>Stoichiometry</strong></td>\n",
       "                <td>\n",
       "                    <p style='text-align:right'>HgFe3_e --> Hg_e + 4.0 pheme_p</p>\n",
       "                    <p style='text-align:right'>M_HgFe3_e --> M_Hg_e + 4.0 M_pheme_p</p>\n",
       "                </td>\n",
       "            </tr><tr>\n",
       "                <td><strong>GPR</strong></td><td>NGO2110 and NGO2109</td>\n",
       "            </tr><tr>\n",
       "                <td><strong>Lower bound</strong></td><td>0.0</td>\n",
       "            </tr><tr>\n",
       "                <td><strong>Upper bound</strong></td><td>1000.0</td>\n",
       "            </tr>\n",
       "        </table>\n",
       "        "
      ],
      "text/plain": [
       "<Reaction HGFE at 0x1783df6beb0>"
      ]
     },
     "execution_count": 233,
     "metadata": {},
     "output_type": "execute_result"
    }
   ],
   "source": [
    "r=model.reactions.get_by_id('HGFE')\n",
    "\n",
    "print(r.check_mass_balance())\n",
    "r\n",
    "#okay to leave imbalanced"
   ]
  },
  {
   "cell_type": "code",
   "execution_count": 234,
   "id": "6217a599-4a33-42f8-9c7b-3b3b870d01bc",
   "metadata": {},
   "outputs": [
    {
     "name": "stdout",
     "output_type": "stream",
     "text": [
      "{}\n"
     ]
    },
    {
     "data": {
      "text/html": [
       "\n",
       "        <table>\n",
       "            <tr>\n",
       "                <td><strong>Reaction identifier</strong></td><td>L_LACD2</td>\n",
       "            </tr><tr>\n",
       "                <td><strong>Name</strong></td><td>L-Lactate dehydrogenase (ubiquinone)</td>\n",
       "            </tr><tr>\n",
       "                <td><strong>Memory address</strong></td>\n",
       "                <td>0x01783dfc9550</td>\n",
       "            </tr><tr>\n",
       "                <td><strong>Stoichiometry</strong></td>\n",
       "                <td>\n",
       "                    <p style='text-align:right'>lac_L_c + q8_c --> pyr_c + q8h2_c</p>\n",
       "                    <p style='text-align:right'>M_lac_L_c + M_q8_c --> M_pyr_c + M_q8h2_c</p>\n",
       "                </td>\n",
       "            </tr><tr>\n",
       "                <td><strong>GPR</strong></td><td>NGO0639 or ( NGO0904 and NGO0905 and NGO0906 )</td>\n",
       "            </tr><tr>\n",
       "                <td><strong>Lower bound</strong></td><td>0.0</td>\n",
       "            </tr><tr>\n",
       "                <td><strong>Upper bound</strong></td><td>1000.0</td>\n",
       "            </tr>\n",
       "        </table>\n",
       "        "
      ],
      "text/plain": [
       "<Reaction L_LACD2 at 0x1783dfc9550>"
      ]
     },
     "execution_count": 234,
     "metadata": {},
     "output_type": "execute_result"
    }
   ],
   "source": [
    "r=model.reactions.get_by_id('L_LACD2')\n",
    "model.metabolites.lac_L_c.charge=-1\n",
    "model.metabolites.lac_L_e.charge=-1\n",
    "model.metabolites.lac_L_p.charge=-1\n",
    "print(r.check_mass_balance())\n",
    "r\n"
   ]
  },
  {
   "cell_type": "code",
   "execution_count": 235,
   "id": "bdaffa69-ecea-4acb-8f7b-06aa760d3242",
   "metadata": {},
   "outputs": [
    {
     "name": "stdout",
     "output_type": "stream",
     "text": [
      "{}\n"
     ]
    },
    {
     "data": {
      "text/html": [
       "\n",
       "        <table>\n",
       "            <tr>\n",
       "                <td><strong>Reaction identifier</strong></td><td>LDH_D</td>\n",
       "            </tr><tr>\n",
       "                <td><strong>Name</strong></td><td>R_LDH_D</td>\n",
       "            </tr><tr>\n",
       "                <td><strong>Memory address</strong></td>\n",
       "                <td>0x01783dfc9b80</td>\n",
       "            </tr><tr>\n",
       "                <td><strong>Stoichiometry</strong></td>\n",
       "                <td>\n",
       "                    <p style='text-align:right'>lac_D_c + nad_c <=> h_c + nadh_c + pyr_c</p>\n",
       "                    <p style='text-align:right'>M_lac_D_c + M_nad_c <=> M_h_c + M_nadh_c + M_pyr_c</p>\n",
       "                </td>\n",
       "            </tr><tr>\n",
       "                <td><strong>GPR</strong></td><td>NGO1336</td>\n",
       "            </tr><tr>\n",
       "                <td><strong>Lower bound</strong></td><td>-1000.0</td>\n",
       "            </tr><tr>\n",
       "                <td><strong>Upper bound</strong></td><td>1000.0</td>\n",
       "            </tr>\n",
       "        </table>\n",
       "        "
      ],
      "text/plain": [
       "<Reaction LDH_D at 0x1783dfc9b80>"
      ]
     },
     "execution_count": 235,
     "metadata": {},
     "output_type": "execute_result"
    }
   ],
   "source": [
    "r=model.reactions.get_by_id('LDH_D')\n",
    "model.metabolites.lac_D_c.charge=-1\n",
    "model.metabolites.lac_D_e.charge=-1\n",
    "model.metabolites.lac_D_p.charge=-1\n",
    "print(r.check_mass_balance())\n",
    "r"
   ]
  },
  {
   "cell_type": "code",
   "execution_count": 236,
   "id": "a4fd742f-f6f5-43fe-9e0e-8187893669fb",
   "metadata": {},
   "outputs": [
    {
     "name": "stdout",
     "output_type": "stream",
     "text": [
      "{}\n"
     ]
    },
    {
     "data": {
      "text/html": [
       "\n",
       "        <table>\n",
       "            <tr>\n",
       "                <td><strong>Reaction identifier</strong></td><td>LGTHL</td>\n",
       "            </tr><tr>\n",
       "                <td><strong>Name</strong></td><td>Lactoylglutathione lyase</td>\n",
       "            </tr><tr>\n",
       "                <td><strong>Memory address</strong></td>\n",
       "                <td>0x01783dfc9640</td>\n",
       "            </tr><tr>\n",
       "                <td><strong>Stoichiometry</strong></td>\n",
       "                <td>\n",
       "                    <p style='text-align:right'>gthrd_c + mthgxl_c --> lgt_S_c</p>\n",
       "                    <p style='text-align:right'>M_gthrd_c + M_mthgxl_c --> M_lgt_S_c</p>\n",
       "                </td>\n",
       "            </tr><tr>\n",
       "                <td><strong>GPR</strong></td><td>NGO08805</td>\n",
       "            </tr><tr>\n",
       "                <td><strong>Lower bound</strong></td><td>0.0</td>\n",
       "            </tr><tr>\n",
       "                <td><strong>Upper bound</strong></td><td>1000.0</td>\n",
       "            </tr>\n",
       "        </table>\n",
       "        "
      ],
      "text/plain": [
       "<Reaction LGTHL at 0x1783dfc9640>"
      ]
     },
     "execution_count": 236,
     "metadata": {},
     "output_type": "execute_result"
    }
   ],
   "source": [
    "r=model.reactions.get_by_id('LGTHL')\n",
    "model.metabolites.lgt_S_c.charge=-1\n",
    "print(r.check_mass_balance())\n",
    "r\n"
   ]
  },
  {
   "cell_type": "code",
   "execution_count": 237,
   "id": "2cdaeaf9-c376-484f-bb9a-312aaf6ba7f6",
   "metadata": {},
   "outputs": [
    {
     "name": "stdout",
     "output_type": "stream",
     "text": [
      "{}\n"
     ]
    },
    {
     "data": {
      "text/html": [
       "\n",
       "        <table>\n",
       "            <tr>\n",
       "                <td><strong>Reaction identifier</strong></td><td>CYOX</td>\n",
       "            </tr><tr>\n",
       "                <td><strong>Name</strong></td><td>R_CYOX</td>\n",
       "            </tr><tr>\n",
       "                <td><strong>Memory address</strong></td>\n",
       "                <td>0x01783dd9af40</td>\n",
       "            </tr><tr>\n",
       "                <td><strong>Stoichiometry</strong></td>\n",
       "                <td>\n",
       "                    <p style='text-align:right'>4.0 focytC_p + 8.0 h_c + o2_c <=> 4.0 ficytC_p + 2.0 h2o_c + 4.0 h_p</p>\n",
       "                    <p style='text-align:right'>4.0 M_focytC_p + 8.0 M_h_c + M_o2_c <=> 4.0 M_ficytC_p + 2.0 M_h2o_c + 4.0 M_h_p</p>\n",
       "                </td>\n",
       "            </tr><tr>\n",
       "                <td><strong>GPR</strong></td><td>NGO1371 and NGO1373 and NGO1374 and ( NGO1080 or NGO0101 )</td>\n",
       "            </tr><tr>\n",
       "                <td><strong>Lower bound</strong></td><td>-1000.0</td>\n",
       "            </tr><tr>\n",
       "                <td><strong>Upper bound</strong></td><td>1000.0</td>\n",
       "            </tr>\n",
       "        </table>\n",
       "        "
      ],
      "text/plain": [
       "<Reaction CYOX at 0x1783dd9af40>"
      ]
     },
     "execution_count": 237,
     "metadata": {},
     "output_type": "execute_result"
    }
   ],
   "source": [
    "#The cytochrome oxidation was flipped in the original CYOX reaction. Correcting here. \n",
    "#based on other examples from Bigg http://bigg.ucsd.edu/models/iAF987/reactions/CYOO2pp\n",
    "#Additionally, no hydrogens were exported to the periplasm. This is also corrected here. \n",
    "r=model.reactions.get_by_id('CYOX')\n",
    "model.metabolites.ficytC_p.charge=3\n",
    "model.metabolites.focytC_p.charge=2\n",
    "h_p=model.metabolites.h_p\n",
    "ficytC_p =model.metabolites.ficytC_p\n",
    "focytC_p=model.metabolites.focytC_p\n",
    "\n",
    "r.add_metabolites({\n",
    "    focytC_p:-8,\n",
    "    ficytC_p: 8,\n",
    "    h_c: -4.0,\n",
    "    h_p: 4.0,\n",
    "      })\n",
    "\n",
    "print(r.check_mass_balance())\n",
    "r\n"
   ]
  },
  {
   "cell_type": "code",
   "execution_count": 238,
   "id": "5a5e80c3-1cc8-4775-ae36-4a49f686a74f",
   "metadata": {},
   "outputs": [
    {
     "data": {
      "text/html": [
       "\n",
       "        <table>\n",
       "            <tr>\n",
       "                <td><strong>Reaction identifier</strong></td><td>CYOX</td>\n",
       "            </tr><tr>\n",
       "                <td><strong>Name</strong></td><td>R_CYOX</td>\n",
       "            </tr><tr>\n",
       "                <td><strong>Memory address</strong></td>\n",
       "                <td>0x01783dd9af40</td>\n",
       "            </tr><tr>\n",
       "                <td><strong>Stoichiometry</strong></td>\n",
       "                <td>\n",
       "                    <p style='text-align:right'>4.0 focytC_p + 8.0 h_c + o2_c --> 4.0 ficytC_p + 2.0 h2o_c + 4.0 h_p</p>\n",
       "                    <p style='text-align:right'>4.0 M_focytC_p + 8.0 M_h_c + M_o2_c --> 4.0 M_ficytC_p + 2.0 M_h2o_c + 4.0 M_h_p</p>\n",
       "                </td>\n",
       "            </tr><tr>\n",
       "                <td><strong>GPR</strong></td><td>NGO1371 and NGO1373 and NGO1374 and ( NGO1080 or NGO0101 )</td>\n",
       "            </tr><tr>\n",
       "                <td><strong>Lower bound</strong></td><td>0</td>\n",
       "            </tr><tr>\n",
       "                <td><strong>Upper bound</strong></td><td>1000.0</td>\n",
       "            </tr>\n",
       "        </table>\n",
       "        "
      ],
      "text/plain": [
       "<Reaction CYOX at 0x1783dd9af40>"
      ]
     },
     "execution_count": 238,
     "metadata": {},
     "output_type": "execute_result"
    }
   ],
   "source": [
    "r=model.reactions.get_by_id('CYOX')\n",
    "model.reactions.CYOX.lower_bound=0\n",
    "r"
   ]
  },
  {
   "cell_type": "code",
   "execution_count": 239,
   "id": "2ae9ab71-4ab6-43ac-9cff-77a9dc24265e",
   "metadata": {},
   "outputs": [
    {
     "name": "stdout",
     "output_type": "stream",
     "text": [
      "{}\n"
     ]
    },
    {
     "data": {
      "text/html": [
       "\n",
       "        <table>\n",
       "            <tr>\n",
       "                <td><strong>Reaction identifier</strong></td><td>UCYR</td>\n",
       "            </tr><tr>\n",
       "                <td><strong>Name</strong></td><td>R_UCYR</td>\n",
       "            </tr><tr>\n",
       "                <td><strong>Memory address</strong></td>\n",
       "                <td>0x01783e349f10</td>\n",
       "            </tr><tr>\n",
       "                <td><strong>Stoichiometry</strong></td>\n",
       "                <td>\n",
       "                    <p style='text-align:right'>2.0 ficytC_p + q8h2_c <=> 2.0 focytC_p + 2.0 h_p + q8_c</p>\n",
       "                    <p style='text-align:right'>2.0 M_ficytC_p + M_q8h2_c <=> 2.0 M_focytC_p + 2.0 M_h_p + M_q8_c</p>\n",
       "                </td>\n",
       "            </tr><tr>\n",
       "                <td><strong>GPR</strong></td><td>NGO2031 and NGO2030 and NGO2029 and ( NGO1080 or NGO0101 or Orphan )</td>\n",
       "            </tr><tr>\n",
       "                <td><strong>Lower bound</strong></td><td>-1000.0</td>\n",
       "            </tr><tr>\n",
       "                <td><strong>Upper bound</strong></td><td>1000.0</td>\n",
       "            </tr>\n",
       "        </table>\n",
       "        "
      ],
      "text/plain": [
       "<Reaction UCYR at 0x1783e349f10>"
      ]
     },
     "execution_count": 239,
     "metadata": {},
     "output_type": "execute_result"
    }
   ],
   "source": [
    "#Cytochrome oxidation was also flipped in the original UCYR reaction. Corrected here. \n",
    "#based on other examples from Bigg http://bigg.ucsd.edu/models/iAF987/reactions/CYTMQOR3pp\n",
    "r=model.reactions.UCYR\n",
    "r.add_metabolites({\n",
    "    focytC_p:4,\n",
    "    ficytC_p: -4,\n",
    "      })\n",
    "\n",
    "print(r.check_mass_balance())\n",
    "r\n"
   ]
  },
  {
   "cell_type": "code",
   "execution_count": 240,
   "id": "be807378-1bfa-40bc-b4bf-25c57dc03299",
   "metadata": {},
   "outputs": [
    {
     "name": "stdout",
     "output_type": "stream",
     "text": [
      "{}\n"
     ]
    },
    {
     "data": {
      "text/html": [
       "\n",
       "        <table>\n",
       "            <tr>\n",
       "                <td><strong>Reaction identifier</strong></td><td>IGPDH</td>\n",
       "            </tr><tr>\n",
       "                <td><strong>Name</strong></td><td>Imidazoleglycerol-phosphate dehydratase</td>\n",
       "            </tr><tr>\n",
       "                <td><strong>Memory address</strong></td>\n",
       "                <td>0x01783df90f40</td>\n",
       "            </tr><tr>\n",
       "                <td><strong>Stoichiometry</strong></td>\n",
       "                <td>\n",
       "                    <p style='text-align:right'>eig3p_c --> h2o_c + imacp_c</p>\n",
       "                    <p style='text-align:right'>M_eig3p_c --> M_h2o_c + M_imacp_c</p>\n",
       "                </td>\n",
       "            </tr><tr>\n",
       "                <td><strong>GPR</strong></td><td>NGO1242</td>\n",
       "            </tr><tr>\n",
       "                <td><strong>Lower bound</strong></td><td>0.0</td>\n",
       "            </tr><tr>\n",
       "                <td><strong>Upper bound</strong></td><td>1000.0</td>\n",
       "            </tr>\n",
       "        </table>\n",
       "        "
      ],
      "text/plain": [
       "<Reaction IGPDH at 0x1783df90f40>"
      ]
     },
     "execution_count": 240,
     "metadata": {},
     "output_type": "execute_result"
    }
   ],
   "source": [
    "r=model.reactions.get_by_id('IGPDH')\n",
    "model.metabolites.imacp_c.charge=-2\n",
    "print(r.check_mass_balance())\n",
    "r"
   ]
  },
  {
   "cell_type": "code",
   "execution_count": 241,
   "id": "084d15f8-b117-4d75-bab5-24ff93a0909c",
   "metadata": {},
   "outputs": [
    {
     "name": "stdout",
     "output_type": "stream",
     "text": [
      "{}\n"
     ]
    },
    {
     "data": {
      "text/html": [
       "\n",
       "        <table>\n",
       "            <tr>\n",
       "                <td><strong>Reaction identifier</strong></td><td>NO2R</td>\n",
       "            </tr><tr>\n",
       "                <td><strong>Name</strong></td><td>nitric-oxide:ferricytochrome-c oxidoreductase</td>\n",
       "            </tr><tr>\n",
       "                <td><strong>Memory address</strong></td>\n",
       "                <td>0x01783e0a7550</td>\n",
       "            </tr><tr>\n",
       "                <td><strong>Stoichiometry</strong></td>\n",
       "                <td>\n",
       "                    <p style='text-align:right'>ficytC_p + h2o_p + no_p <=> focytC_p + 2.0 h_p + no2_p</p>\n",
       "                    <p style='text-align:right'>M_ficytC_p + M_h2o_p + M_no_p <=> M_focytC_p + 2.0 M_h_p + M_no2_p</p>\n",
       "                </td>\n",
       "            </tr><tr>\n",
       "                <td><strong>GPR</strong></td><td>NGO1276 and NGO1328</td>\n",
       "            </tr><tr>\n",
       "                <td><strong>Lower bound</strong></td><td>-1000.0</td>\n",
       "            </tr><tr>\n",
       "                <td><strong>Upper bound</strong></td><td>1000.0</td>\n",
       "            </tr>\n",
       "        </table>\n",
       "        "
      ],
      "text/plain": [
       "<Reaction NO2R at 0x1783e0a7550>"
      ]
     },
     "execution_count": 241,
     "metadata": {},
     "output_type": "execute_result"
    }
   ],
   "source": [
    "#The original NO2R was cytochrome oxidations were flipped. Corrected here. \n",
    "r=model.reactions.get_by_id('NO2R')\n",
    "r.name='nitric-oxide:ferricytochrome-c oxidoreductase'\n",
    "ficytC_p =model.metabolites.ficytC_p\n",
    "focytC_p=model.metabolites.focytC_p\n",
    "\n",
    "r.add_metabolites({\n",
    "    focytC_p:2,\n",
    "    ficytC_p: -2,\n",
    "      })\n",
    "\n",
    "print(r.check_mass_balance())\n",
    "r"
   ]
  },
  {
   "cell_type": "code",
   "execution_count": 242,
   "id": "ab5442f5-4775-4c58-bd49-275e8105774c",
   "metadata": {},
   "outputs": [
    {
     "name": "stdout",
     "output_type": "stream",
     "text": [
      "{}\n"
     ]
    },
    {
     "data": {
      "text/html": [
       "\n",
       "        <table>\n",
       "            <tr>\n",
       "                <td><strong>Reaction identifier</strong></td><td>NOR</td>\n",
       "            </tr><tr>\n",
       "                <td><strong>Name</strong></td><td>nitrous-oxide:ferricytochrome-c oxidoreductase</td>\n",
       "            </tr><tr>\n",
       "                <td><strong>Memory address</strong></td>\n",
       "                <td>0x01783e0a7970</td>\n",
       "            </tr><tr>\n",
       "                <td><strong>Stoichiometry</strong></td>\n",
       "                <td>\n",
       "                    <p style='text-align:right'>2.0 focytC_p + 2.0 h_c + 2.0 no_p <=> 2.0 ficytC_p + h2o_p + n2o_p</p>\n",
       "                    <p style='text-align:right'>2.0 M_focytC_p + 2.0 M_h_c + 2.0 M_no_p <=> 2.0 M_ficytC_p + M_h2o_p + M_n2o_p</p>\n",
       "                </td>\n",
       "            </tr><tr>\n",
       "                <td><strong>GPR</strong></td><td>NGO1275 and NGO1328</td>\n",
       "            </tr><tr>\n",
       "                <td><strong>Lower bound</strong></td><td>-1000.0</td>\n",
       "            </tr><tr>\n",
       "                <td><strong>Upper bound</strong></td><td>1000.0</td>\n",
       "            </tr>\n",
       "        </table>\n",
       "        "
      ],
      "text/plain": [
       "<Reaction NOR at 0x1783e0a7970>"
      ]
     },
     "execution_count": 242,
     "metadata": {},
     "output_type": "execute_result"
    }
   ],
   "source": [
    "#The original NOR was cytochrome oxidations were flipped. Corrected here. \n",
    "\n",
    "r=model.reactions.get_by_id('NOR')\n",
    "r.name='nitrous-oxide:ferricytochrome-c oxidoreductase'\n",
    "ficytC_p =model.metabolites.ficytC_p\n",
    "focytC_p=model.metabolites.focytC_p\n",
    "r.add_metabolites({\n",
    "    focytC_p:-4,\n",
    "    ficytC_p: 4,\n",
    "      })\n",
    "\n",
    "print(r.check_mass_balance())\n",
    "r"
   ]
  },
  {
   "cell_type": "code",
   "execution_count": 243,
   "id": "4444bd39-d054-4cf2-9e89-dce1dbbace2c",
   "metadata": {},
   "outputs": [
    {
     "name": "stdout",
     "output_type": "stream",
     "text": [
      "0.7111822913792185\n",
      "no_c\n",
      "====\n",
      "Formula: NO\n",
      "\n",
      "Producing Reactions\n",
      "-------------------\n",
      "Empty DataFrame\n",
      "Columns: [Percent, Flux, Reaction, Definition]\n",
      "Index: []\n",
      "\n",
      "Consuming Reactions\n",
      "-------------------\n",
      "Empty DataFrame\n",
      "Columns: [Percent, Flux, Reaction, Definition]\n",
      "Index: []\n"
     ]
    }
   ],
   "source": [
    "#Check Gc model ability to grow anaerobically on nitrite. \n",
    "def anaerobic_rpmi(model):\n",
    "    for reaction in model.reactions:\n",
    "        if 'EX_' in  reaction.id:\n",
    "            reaction.lower_bound=0\n",
    "        if reaction.id in rpmi_req:\n",
    "            reaction.lower_bound = -10.\n",
    "        if reaction.id == 'EX_o2_e_':\n",
    "            reaction.lower_bound = -10.\n",
    "        if reaction.id == 'EX_glc_D_e_':\n",
    "            reaction.lower_bound = -10.\n",
    "        if reaction.id == 'EX_lac_L_e_':\n",
    "            reaction.lower_bound = -10.\n",
    "        if reaction.id == 'EX_no2_e_':\n",
    "            reaction.lower_bound = -10. \n",
    "\n",
    "anaerobic_rpmi(model)\n",
    "print(model.slim_optimize())\n",
    "print(model.metabolites.no_c.summary())"
   ]
  },
  {
   "cell_type": "code",
   "execution_count": 244,
   "id": "69fcbd52-a0db-4908-ab3f-c04189986b56",
   "metadata": {},
   "outputs": [
    {
     "name": "stdout",
     "output_type": "stream",
     "text": [
      "{'charge': -2.0}\n"
     ]
    },
    {
     "data": {
      "text/html": [
       "\n",
       "        <table>\n",
       "            <tr>\n",
       "                <td><strong>Reaction identifier</strong></td><td>CYPOX</td>\n",
       "            </tr><tr>\n",
       "                <td><strong>Name</strong></td><td>Cytochrome C Peroxidase</td>\n",
       "            </tr><tr>\n",
       "                <td><strong>Memory address</strong></td>\n",
       "                <td>0x01783e3bd730</td>\n",
       "            </tr><tr>\n",
       "                <td><strong>Stoichiometry</strong></td>\n",
       "                <td>\n",
       "                    <p style='text-align:right'>h2o2_c + 2.0 h_c --> 2.0 h2o_c</p>\n",
       "                    <p style='text-align:right'>M_h2o2_c + 2.0 M_h_c --> 2.0 M_h2o_c</p>\n",
       "                </td>\n",
       "            </tr><tr>\n",
       "                <td><strong>GPR</strong></td><td>NGO1769 and NGO0994</td>\n",
       "            </tr><tr>\n",
       "                <td><strong>Lower bound</strong></td><td>0.0</td>\n",
       "            </tr><tr>\n",
       "                <td><strong>Upper bound</strong></td><td>1000.0</td>\n",
       "            </tr>\n",
       "        </table>\n",
       "        "
      ],
      "text/plain": [
       "<Reaction CYPOX at 0x1783e3bd730>"
      ]
     },
     "execution_count": 244,
     "metadata": {},
     "output_type": "execute_result"
    }
   ],
   "source": [
    "r=model.reactions.CYPOX\n",
    "print(r.check_mass_balance())\n",
    "r\n",
    "#Requires a cytochrome so as reactants, so can't be balanced here. "
   ]
  },
  {
   "cell_type": "code",
   "execution_count": 245,
   "id": "9df41fd4-92a0-4215-adb8-3ab4b064f844",
   "metadata": {},
   "outputs": [
    {
     "name": "stdout",
     "output_type": "stream",
     "text": [
      "{}\n"
     ]
    },
    {
     "data": {
      "text/html": [
       "\n",
       "        <table>\n",
       "            <tr>\n",
       "                <td><strong>Reaction identifier</strong></td><td>HPYRRx</td>\n",
       "            </tr><tr>\n",
       "                <td><strong>Name</strong></td><td>Hydroxypyruvate reductase (NADH)</td>\n",
       "            </tr><tr>\n",
       "                <td><strong>Memory address</strong></td>\n",
       "                <td>0x01783df7df10</td>\n",
       "            </tr><tr>\n",
       "                <td><strong>Stoichiometry</strong></td>\n",
       "                <td>\n",
       "                    <p style='text-align:right'>h_c + hpyr_c + nadh_c --> glyc_R_c + nad_c</p>\n",
       "                    <p style='text-align:right'>M_h_c + M_hpyr_c + M_nadh_c --> M_glyc_R_c + M_nad_c</p>\n",
       "                </td>\n",
       "            </tr><tr>\n",
       "                <td><strong>GPR</strong></td><td>NGO2043</td>\n",
       "            </tr><tr>\n",
       "                <td><strong>Lower bound</strong></td><td>0.0</td>\n",
       "            </tr><tr>\n",
       "                <td><strong>Upper bound</strong></td><td>1000.0</td>\n",
       "            </tr>\n",
       "        </table>\n",
       "        "
      ],
      "text/plain": [
       "<Reaction HPYRRx at 0x1783df7df10>"
      ]
     },
     "execution_count": 245,
     "metadata": {},
     "output_type": "execute_result"
    }
   ],
   "source": [
    "r=model.reactions.HPYRRx\n",
    "model.metabolites.glyc_R_c.charge=-1\n",
    "print(r.check_mass_balance())\n",
    "r"
   ]
  },
  {
   "cell_type": "code",
   "execution_count": 246,
   "id": "a12871a4-3ef1-47bd-bbd1-55f4796bd131",
   "metadata": {},
   "outputs": [
    {
     "name": "stdout",
     "output_type": "stream",
     "text": [
      "{}\n"
     ]
    },
    {
     "data": {
      "text/html": [
       "\n",
       "        <table>\n",
       "            <tr>\n",
       "                <td><strong>Reaction identifier</strong></td><td>Malt1pp</td>\n",
       "            </tr><tr>\n",
       "                <td><strong>Name</strong></td><td>R_Malt1pp</td>\n",
       "            </tr><tr>\n",
       "                <td><strong>Memory address</strong></td>\n",
       "                <td>0x01783dfecfa0</td>\n",
       "            </tr><tr>\n",
       "                <td><strong>Stoichiometry</strong></td>\n",
       "                <td>\n",
       "                    <p style='text-align:right'>mal_L_p + na1_p --> mal_L_c + na1_c</p>\n",
       "                    <p style='text-align:right'>M_mal_L_p + M_na1_p --> M_mal_L_c + M_na1_c</p>\n",
       "                </td>\n",
       "            </tr><tr>\n",
       "                <td><strong>GPR</strong></td><td>NGO1485 or NGO0377 or NGO1957</td>\n",
       "            </tr><tr>\n",
       "                <td><strong>Lower bound</strong></td><td>0.0</td>\n",
       "            </tr><tr>\n",
       "                <td><strong>Upper bound</strong></td><td>1000.0</td>\n",
       "            </tr>\n",
       "        </table>\n",
       "        "
      ],
      "text/plain": [
       "<Reaction Malt1pp at 0x1783dfecfa0>"
      ]
     },
     "execution_count": 246,
     "metadata": {},
     "output_type": "execute_result"
    }
   ],
   "source": [
    "r=model.reactions.Malt1pp\n",
    "model.metabolites.mal_L_p.charge=-2\n",
    "print(r.check_mass_balance())\n",
    "r"
   ]
  },
  {
   "cell_type": "code",
   "execution_count": 247,
   "id": "b80be453-9afc-41a4-9f91-f29507531976",
   "metadata": {},
   "outputs": [
    {
     "name": "stdout",
     "output_type": "stream",
     "text": [
      "{}\n"
     ]
    },
    {
     "data": {
      "text/html": [
       "\n",
       "        <table>\n",
       "            <tr>\n",
       "                <td><strong>Reaction identifier</strong></td><td>MI1PP</td>\n",
       "            </tr><tr>\n",
       "                <td><strong>Name</strong></td><td>Myo-inositol 1-phosphatase</td>\n",
       "            </tr><tr>\n",
       "                <td><strong>Memory address</strong></td>\n",
       "                <td>0x01783e033730</td>\n",
       "            </tr><tr>\n",
       "                <td><strong>Stoichiometry</strong></td>\n",
       "                <td>\n",
       "                    <p style='text-align:right'>h2o_c + mi1p_D_c --> inost_c + pi_c</p>\n",
       "                    <p style='text-align:right'>M_h2o_c + M_mi1p_D_c --> M_inost_c + M_pi_c</p>\n",
       "                </td>\n",
       "            </tr><tr>\n",
       "                <td><strong>GPR</strong></td><td>NGO2161 or NGO0671</td>\n",
       "            </tr><tr>\n",
       "                <td><strong>Lower bound</strong></td><td>0.0</td>\n",
       "            </tr><tr>\n",
       "                <td><strong>Upper bound</strong></td><td>1000.0</td>\n",
       "            </tr>\n",
       "        </table>\n",
       "        "
      ],
      "text/plain": [
       "<Reaction MI1PP at 0x1783e033730>"
      ]
     },
     "execution_count": 247,
     "metadata": {},
     "output_type": "execute_result"
    }
   ],
   "source": [
    "r=model.reactions.MI1PP\n",
    "model.metabolites.mi1p_D_c.charge=-2\n",
    "print(r.check_mass_balance())\n",
    "r"
   ]
  },
  {
   "cell_type": "code",
   "execution_count": 248,
   "id": "928712f6-4fe0-42a6-9d91-c54246b55dd6",
   "metadata": {},
   "outputs": [
    {
     "name": "stdout",
     "output_type": "stream",
     "text": [
      "{}\n"
     ]
    },
    {
     "data": {
      "text/html": [
       "\n",
       "        <table>\n",
       "            <tr>\n",
       "                <td><strong>Reaction identifier</strong></td><td>3HAD140</td>\n",
       "            </tr><tr>\n",
       "                <td><strong>Name</strong></td><td>3-hydroxyacyl-[acyl-carrier-protein] dehydratase (n-C14:0)</td>\n",
       "            </tr><tr>\n",
       "                <td><strong>Memory address</strong></td>\n",
       "                <td>0x01783dca5d90</td>\n",
       "            </tr><tr>\n",
       "                <td><strong>Stoichiometry</strong></td>\n",
       "                <td>\n",
       "                    <p style='text-align:right'>3hmrsACP_c --> h2o_c + tmrs2eACP_c</p>\n",
       "                    <p style='text-align:right'>M_3hmrsACP_c --> M_h2o_c + M_tmrs2eACP_c</p>\n",
       "                </td>\n",
       "            </tr><tr>\n",
       "                <td><strong>GPR</strong></td><td>NGO1804</td>\n",
       "            </tr><tr>\n",
       "                <td><strong>Lower bound</strong></td><td>0.0</td>\n",
       "            </tr><tr>\n",
       "                <td><strong>Upper bound</strong></td><td>1000.0</td>\n",
       "            </tr>\n",
       "        </table>\n",
       "        "
      ],
      "text/plain": [
       "<Reaction 3HAD140 at 0x1783dca5d90>"
      ]
     },
     "execution_count": 248,
     "metadata": {},
     "output_type": "execute_result"
    }
   ],
   "source": [
    "r=model.reactions.get_by_id('3HAD140')\n",
    "#Update charge from bigg\n",
    "model.metabolites.get_by_id('tmrs2eACP_c').charge=-1\n",
    "print(r.check_mass_balance())\n",
    "r\n"
   ]
  },
  {
   "cell_type": "code",
   "execution_count": 249,
   "id": "e6082900-44cc-4ae6-bcc0-f16b74c5a3b1",
   "metadata": {},
   "outputs": [
    {
     "name": "stdout",
     "output_type": "stream",
     "text": [
      "31 31 31\n"
     ]
    },
    {
     "data": {
      "text/html": [
       "<div>\n",
       "<style scoped>\n",
       "    .dataframe tbody tr th:only-of-type {\n",
       "        vertical-align: middle;\n",
       "    }\n",
       "\n",
       "    .dataframe tbody tr th {\n",
       "        vertical-align: top;\n",
       "    }\n",
       "\n",
       "    .dataframe thead th {\n",
       "        text-align: right;\n",
       "    }\n",
       "</style>\n",
       "<table border=\"1\" class=\"dataframe\">\n",
       "  <thead>\n",
       "    <tr style=\"text-align: right;\">\n",
       "      <th></th>\n",
       "      <th>Reactions</th>\n",
       "      <th>Charge</th>\n",
       "      <th>Masses</th>\n",
       "    </tr>\n",
       "  </thead>\n",
       "  <tbody>\n",
       "    <tr>\n",
       "      <th>0</th>\n",
       "      <td>3OAS161a</td>\n",
       "      <td>2.0</td>\n",
       "      <td>{'C': -12.0, 'H': -21.0, 'N': -2.0, 'O': -9.0,...</td>\n",
       "    </tr>\n",
       "    <tr>\n",
       "      <th>1</th>\n",
       "      <td>AGPAT161a</td>\n",
       "      <td>-2.0</td>\n",
       "      <td>{}</td>\n",
       "    </tr>\n",
       "    <tr>\n",
       "      <th>2</th>\n",
       "      <td>AGPAT181</td>\n",
       "      <td>-2.0</td>\n",
       "      <td>{}</td>\n",
       "    </tr>\n",
       "    <tr>\n",
       "      <th>3</th>\n",
       "      <td>BTS4</td>\n",
       "      <td></td>\n",
       "      <td>{'S': 1.0}</td>\n",
       "    </tr>\n",
       "    <tr>\n",
       "      <th>4</th>\n",
       "      <td>CYTCS</td>\n",
       "      <td>5.0</td>\n",
       "      <td>{'C': 8.0, 'H': 14.0, 'N': 4.0, 'O': 4.0, 'S':...</td>\n",
       "    </tr>\n",
       "    <tr>\n",
       "      <th>5</th>\n",
       "      <td>DASYN161a</td>\n",
       "      <td>2.0</td>\n",
       "      <td>{'H': -1.0}</td>\n",
       "    </tr>\n",
       "    <tr>\n",
       "      <th>6</th>\n",
       "      <td>DASYN181</td>\n",
       "      <td>2.0</td>\n",
       "      <td>{}</td>\n",
       "    </tr>\n",
       "    <tr>\n",
       "      <th>7</th>\n",
       "      <td>EAR181x</td>\n",
       "      <td>-1.0</td>\n",
       "      <td>{}</td>\n",
       "    </tr>\n",
       "    <tr>\n",
       "      <th>8</th>\n",
       "      <td>G3PAT161ab</td>\n",
       "      <td>2.0</td>\n",
       "      <td>{}</td>\n",
       "    </tr>\n",
       "    <tr>\n",
       "      <th>9</th>\n",
       "      <td>G3PAT181</td>\n",
       "      <td>2.0</td>\n",
       "      <td>{}</td>\n",
       "    </tr>\n",
       "    <tr>\n",
       "      <th>10</th>\n",
       "      <td>HGFE</td>\n",
       "      <td>-8.0</td>\n",
       "      <td>{}</td>\n",
       "    </tr>\n",
       "    <tr>\n",
       "      <th>11</th>\n",
       "      <td>MAc2</td>\n",
       "      <td>6.0</td>\n",
       "      <td>{}</td>\n",
       "    </tr>\n",
       "    <tr>\n",
       "      <th>12</th>\n",
       "      <td>MAc4</td>\n",
       "      <td>4.0</td>\n",
       "      <td>{}</td>\n",
       "    </tr>\n",
       "    <tr>\n",
       "      <th>13</th>\n",
       "      <td>MAc6</td>\n",
       "      <td>4.0</td>\n",
       "      <td>{}</td>\n",
       "    </tr>\n",
       "    <tr>\n",
       "      <th>14</th>\n",
       "      <td>MALtex</td>\n",
       "      <td>-2.0</td>\n",
       "      <td>{}</td>\n",
       "    </tr>\n",
       "    <tr>\n",
       "      <th>15</th>\n",
       "      <td>MDDCP6pp</td>\n",
       "      <td>6.0</td>\n",
       "      <td>{'H': 3.0, 'N': -6.0}</td>\n",
       "    </tr>\n",
       "    <tr>\n",
       "      <th>16</th>\n",
       "      <td>pa161abcpp</td>\n",
       "      <td>1.0</td>\n",
       "      <td>{}</td>\n",
       "    </tr>\n",
       "    <tr>\n",
       "      <th>17</th>\n",
       "      <td>pa181abcpp</td>\n",
       "      <td>1.0</td>\n",
       "      <td>{}</td>\n",
       "    </tr>\n",
       "    <tr>\n",
       "      <th>18</th>\n",
       "      <td>pgp161abcpp</td>\n",
       "      <td>-1.0</td>\n",
       "      <td>{}</td>\n",
       "    </tr>\n",
       "    <tr>\n",
       "      <th>19</th>\n",
       "      <td>pgp181abcpp</td>\n",
       "      <td>-1.0</td>\n",
       "      <td>{}</td>\n",
       "    </tr>\n",
       "    <tr>\n",
       "      <th>20</th>\n",
       "      <td>PGPP161a</td>\n",
       "      <td>-1.0</td>\n",
       "      <td>{}</td>\n",
       "    </tr>\n",
       "    <tr>\n",
       "      <th>21</th>\n",
       "      <td>PGPP181</td>\n",
       "      <td>-1.0</td>\n",
       "      <td>{}</td>\n",
       "    </tr>\n",
       "    <tr>\n",
       "      <th>22</th>\n",
       "      <td>PGSA161a</td>\n",
       "      <td>-2.0</td>\n",
       "      <td>{}</td>\n",
       "    </tr>\n",
       "    <tr>\n",
       "      <th>23</th>\n",
       "      <td>PGSA181</td>\n",
       "      <td>-1.0</td>\n",
       "      <td>{}</td>\n",
       "    </tr>\n",
       "    <tr>\n",
       "      <th>24</th>\n",
       "      <td>PHEMEFErel</td>\n",
       "      <td>7.0</td>\n",
       "      <td>{}</td>\n",
       "    </tr>\n",
       "    <tr>\n",
       "      <th>25</th>\n",
       "      <td>PLIPA1A161a</td>\n",
       "      <td>1.0</td>\n",
       "      <td>{}</td>\n",
       "    </tr>\n",
       "    <tr>\n",
       "      <th>26</th>\n",
       "      <td>PLIPA1G161a</td>\n",
       "      <td>1.0</td>\n",
       "      <td>{}</td>\n",
       "    </tr>\n",
       "    <tr>\n",
       "      <th>27</th>\n",
       "      <td>PMCOAS</td>\n",
       "      <td>-1.0</td>\n",
       "      <td>{'C': 7.0, 'H': 9.0, 'O': 3.0}</td>\n",
       "    </tr>\n",
       "    <tr>\n",
       "      <th>28</th>\n",
       "      <td>PSSA161a</td>\n",
       "      <td>-2.0</td>\n",
       "      <td>{}</td>\n",
       "    </tr>\n",
       "    <tr>\n",
       "      <th>29</th>\n",
       "      <td>PSSA181</td>\n",
       "      <td>-2.0</td>\n",
       "      <td>{}</td>\n",
       "    </tr>\n",
       "    <tr>\n",
       "      <th>30</th>\n",
       "      <td>CYPOX</td>\n",
       "      <td>-2.0</td>\n",
       "      <td>{}</td>\n",
       "    </tr>\n",
       "  </tbody>\n",
       "</table>\n",
       "</div>"
      ],
      "text/plain": [
       "      Reactions Charge                                             Masses\n",
       "0      3OAS161a    2.0  {'C': -12.0, 'H': -21.0, 'N': -2.0, 'O': -9.0,...\n",
       "1     AGPAT161a   -2.0                                                 {}\n",
       "2      AGPAT181   -2.0                                                 {}\n",
       "3          BTS4                                                {'S': 1.0}\n",
       "4         CYTCS    5.0  {'C': 8.0, 'H': 14.0, 'N': 4.0, 'O': 4.0, 'S':...\n",
       "5     DASYN161a    2.0                                        {'H': -1.0}\n",
       "6      DASYN181    2.0                                                 {}\n",
       "7       EAR181x   -1.0                                                 {}\n",
       "8    G3PAT161ab    2.0                                                 {}\n",
       "9      G3PAT181    2.0                                                 {}\n",
       "10         HGFE   -8.0                                                 {}\n",
       "11         MAc2    6.0                                                 {}\n",
       "12         MAc4    4.0                                                 {}\n",
       "13         MAc6    4.0                                                 {}\n",
       "14       MALtex   -2.0                                                 {}\n",
       "15     MDDCP6pp    6.0                              {'H': 3.0, 'N': -6.0}\n",
       "16   pa161abcpp    1.0                                                 {}\n",
       "17   pa181abcpp    1.0                                                 {}\n",
       "18  pgp161abcpp   -1.0                                                 {}\n",
       "19  pgp181abcpp   -1.0                                                 {}\n",
       "20     PGPP161a   -1.0                                                 {}\n",
       "21      PGPP181   -1.0                                                 {}\n",
       "22     PGSA161a   -2.0                                                 {}\n",
       "23      PGSA181   -1.0                                                 {}\n",
       "24   PHEMEFErel    7.0                                                 {}\n",
       "25  PLIPA1A161a    1.0                                                 {}\n",
       "26  PLIPA1G161a    1.0                                                 {}\n",
       "27       PMCOAS   -1.0                     {'C': 7.0, 'H': 9.0, 'O': 3.0}\n",
       "28     PSSA161a   -2.0                                                 {}\n",
       "29      PSSA181   -2.0                                                 {}\n",
       "30        CYPOX   -2.0                                                 {}"
      ]
     },
     "execution_count": 249,
     "metadata": {},
     "output_type": "execute_result"
    }
   ],
   "source": [
    "#After bulk removing cofactors, what reaction imbalances remain?\n",
    "reactions = []\n",
    "charge = []\n",
    "mass = []\n",
    "for react in model.reactions:\n",
    "    result = react.check_mass_balance()\n",
    "    if 'EX_' in  react.id:\n",
    "        continue\n",
    "    if 'Nm_' in  react.id:\n",
    "        continue\n",
    "    if 'DM_' in  react.id:\n",
    "        continue \n",
    "    if react.id in biomass_reactions:\n",
    "        continue\n",
    "    if len(result) == 0:\n",
    "        continue\n",
    "    else: \n",
    "        reactions.append(react.id)\n",
    "        masses = {}\n",
    "        for key in result.keys():\n",
    "            if key == 'charge':\n",
    "                charge.append(result['charge'])\n",
    "            else:\n",
    "                masses[key] = result[key]\n",
    "        if 'charge' not in result.keys():\n",
    "            charge.append('')\n",
    "        mass.append(masses)\n",
    "print(len(reactions), len(charge), len(mass))\n",
    "\n",
    "mass_charge_dict = {'Reactions': reactions, 'Charge': charge, 'Masses': mass}\n",
    "mass_charge = pandas.DataFrame(mass_charge_dict)\n",
    "mass_charge.to_csv('imbalancesremaining.csv')\n",
    "mass_charge"
   ]
  },
  {
   "cell_type": "code",
   "execution_count": 250,
   "id": "40714c75-aee7-43c6-a934-dbec7fdefd30",
   "metadata": {},
   "outputs": [
    {
     "name": "stdout",
     "output_type": "stream",
     "text": [
      "{}\n"
     ]
    },
    {
     "data": {
      "text/html": [
       "\n",
       "        <table>\n",
       "            <tr>\n",
       "                <td><strong>Reaction identifier</strong></td><td>3OAS161a</td>\n",
       "            </tr><tr>\n",
       "                <td><strong>Name</strong></td><td>R_3OAS161a</td>\n",
       "            </tr><tr>\n",
       "                <td><strong>Memory address</strong></td>\n",
       "                <td>0x01783dcc44f0</td>\n",
       "            </tr><tr>\n",
       "                <td><strong>Stoichiometry</strong></td>\n",
       "                <td>\n",
       "                    <p style='text-align:right'>cmrs3eACP_c + h_c + malACP_c --> 3ocpalm5eACP_c + ACP_c + co2_c</p>\n",
       "                    <p style='text-align:right'>M_cmrs3eACP_c + M_h_c + M_malACP_c --> M_3ocpalm5eACP_c + M_ACP_c + M_co2_c</p>\n",
       "                </td>\n",
       "            </tr><tr>\n",
       "                <td><strong>GPR</strong></td><td>NGO1763</td>\n",
       "            </tr><tr>\n",
       "                <td><strong>Lower bound</strong></td><td>0.0</td>\n",
       "            </tr><tr>\n",
       "                <td><strong>Upper bound</strong></td><td>1000.0</td>\n",
       "            </tr>\n",
       "        </table>\n",
       "        "
      ],
      "text/plain": [
       "<Reaction 3OAS161a at 0x1783dcc44f0>"
      ]
     },
     "execution_count": 250,
     "metadata": {},
     "output_type": "execute_result"
    }
   ],
   "source": [
    "#Added ACP and co2 to this reaction, as is seen in 3OAS161 for mass balance. \n",
    "r=model.reactions.get_by_id('3OAS161a')\n",
    "ACP_c=model.metabolites.get_by_id('ACP_c')\n",
    "co2_c=model.metabolites.get_by_id('co2_c')\n",
    "r.add_metabolites({\n",
    "    ACP_c:1,\n",
    "    co2_c:1\n",
    "      })\n",
    "model.metabolites.get_by_id('3ocpalm5eACP_c').charge=-1\n",
    "print(r.check_mass_balance())\n",
    "r\n"
   ]
  },
  {
   "cell_type": "code",
   "execution_count": 251,
   "id": "dd5c5ddc-0265-4e6f-aa8f-7b2c56f06aef",
   "metadata": {},
   "outputs": [
    {
     "name": "stdout",
     "output_type": "stream",
     "text": [
      "{}\n"
     ]
    },
    {
     "data": {
      "text/html": [
       "\n",
       "        <table>\n",
       "            <tr>\n",
       "                <td><strong>Reaction identifier</strong></td><td>3OAR161x</td>\n",
       "            </tr><tr>\n",
       "                <td><strong>Name</strong></td><td>R_3OAR161x</td>\n",
       "            </tr><tr>\n",
       "                <td><strong>Memory address</strong></td>\n",
       "                <td>0x01783dcb1fa0</td>\n",
       "            </tr><tr>\n",
       "                <td><strong>Stoichiometry</strong></td>\n",
       "                <td>\n",
       "                    <p style='text-align:right'>3ocpalm5eACP_c + h_c + nadph_c --> 3hcpalm5eACP_c + nadp_c</p>\n",
       "                    <p style='text-align:right'>M_3ocpalm5eACP_c + M_h_c + M_nadph_c --> M_3hcpalm5eACP_c + M_nadp_c</p>\n",
       "                </td>\n",
       "            </tr><tr>\n",
       "                <td><strong>GPR</strong></td><td>NGO2163 or NGO2163</td>\n",
       "            </tr><tr>\n",
       "                <td><strong>Lower bound</strong></td><td>0.0</td>\n",
       "            </tr><tr>\n",
       "                <td><strong>Upper bound</strong></td><td>1000.0</td>\n",
       "            </tr>\n",
       "        </table>\n",
       "        "
      ],
      "text/plain": [
       "<Reaction 3OAR161x at 0x1783dcb1fa0>"
      ]
     },
     "execution_count": 251,
     "metadata": {},
     "output_type": "execute_result"
    }
   ],
   "source": [
    "r=model.reactions.get_by_id('3OAR161x')\n",
    "model.metabolites.get_by_id('3hcpalm5eACP_c').charge=-1\n",
    "print(r.check_mass_balance())\n",
    "r"
   ]
  },
  {
   "cell_type": "code",
   "execution_count": 252,
   "id": "98da7d9a-8b2d-4121-b39d-e3805d2319b6",
   "metadata": {},
   "outputs": [
    {
     "name": "stdout",
     "output_type": "stream",
     "text": [
      "{}\n"
     ]
    },
    {
     "data": {
      "text/html": [
       "\n",
       "        <table>\n",
       "            <tr>\n",
       "                <td><strong>Reaction identifier</strong></td><td>3HAD161x</td>\n",
       "            </tr><tr>\n",
       "                <td><strong>Name</strong></td><td>R_3HAD161x</td>\n",
       "            </tr><tr>\n",
       "                <td><strong>Memory address</strong></td>\n",
       "                <td>0x01783dcac610</td>\n",
       "            </tr><tr>\n",
       "                <td><strong>Stoichiometry</strong></td>\n",
       "                <td>\n",
       "                    <p style='text-align:right'>3hcpalm5eACP_c --> h2o_c + t3c5palmeACP_c</p>\n",
       "                    <p style='text-align:right'>M_3hcpalm5eACP_c --> M_h2o_c + M_t3c5palmeACP_c</p>\n",
       "                </td>\n",
       "            </tr><tr>\n",
       "                <td><strong>GPR</strong></td><td>NGO1804</td>\n",
       "            </tr><tr>\n",
       "                <td><strong>Lower bound</strong></td><td>0.0</td>\n",
       "            </tr><tr>\n",
       "                <td><strong>Upper bound</strong></td><td>1000.0</td>\n",
       "            </tr>\n",
       "        </table>\n",
       "        "
      ],
      "text/plain": [
       "<Reaction 3HAD161x at 0x1783dcac610>"
      ]
     },
     "execution_count": 252,
     "metadata": {},
     "output_type": "execute_result"
    }
   ],
   "source": [
    "r=model.reactions.get_by_id('3HAD161x')\n",
    "model.metabolites.get_by_id('t3c5palmeACP_c').charge=-1\n",
    "print(r.check_mass_balance())\n",
    "r"
   ]
  },
  {
   "cell_type": "code",
   "execution_count": 253,
   "id": "a0b7e87e-6294-4d76-a13f-347dd78df7d0",
   "metadata": {},
   "outputs": [
    {
     "name": "stdout",
     "output_type": "stream",
     "text": [
      "{}\n"
     ]
    },
    {
     "data": {
      "text/html": [
       "\n",
       "        <table>\n",
       "            <tr>\n",
       "                <td><strong>Reaction identifier</strong></td><td>AGPAT161a</td>\n",
       "            </tr><tr>\n",
       "                <td><strong>Name</strong></td><td>R_AGPAT161a</td>\n",
       "            </tr><tr>\n",
       "                <td><strong>Memory address</strong></td>\n",
       "                <td>0x01783dd12f70</td>\n",
       "            </tr><tr>\n",
       "                <td><strong>Stoichiometry</strong></td>\n",
       "                <td>\n",
       "                    <p style='text-align:right'>1hdect9eg3p_c + hdet9ACP_c --> ACP_c + pa161_c</p>\n",
       "                    <p style='text-align:right'>M_1hdect9eg3p_c + M_hdet9ACP_c --> M_ACP_c + M_pa161_c</p>\n",
       "                </td>\n",
       "            </tr><tr>\n",
       "                <td><strong>GPR</strong></td><td>NGO2069 or NGO0611</td>\n",
       "            </tr><tr>\n",
       "                <td><strong>Lower bound</strong></td><td>0.0</td>\n",
       "            </tr><tr>\n",
       "                <td><strong>Upper bound</strong></td><td>1000.0</td>\n",
       "            </tr>\n",
       "        </table>\n",
       "        "
      ],
      "text/plain": [
       "<Reaction AGPAT161a at 0x1783dd12f70>"
      ]
     },
     "execution_count": 253,
     "metadata": {},
     "output_type": "execute_result"
    }
   ],
   "source": [
    "r=model.reactions.get_by_id('AGPAT161a')\n",
    "model.metabolites.get_by_id('1hdect9eg3p_c').charge=-2\n",
    "print(r.check_mass_balance())\n",
    "r"
   ]
  },
  {
   "cell_type": "code",
   "execution_count": 254,
   "id": "5c7fc606-d5c5-42f2-aeee-5bde77a137b5",
   "metadata": {},
   "outputs": [
    {
     "name": "stdout",
     "output_type": "stream",
     "text": [
      "{}\n"
     ]
    },
    {
     "data": {
      "text/html": [
       "\n",
       "        <table>\n",
       "            <tr>\n",
       "                <td><strong>Reaction identifier</strong></td><td>AGPAT181</td>\n",
       "            </tr><tr>\n",
       "                <td><strong>Name</strong></td><td>1-octadec-7-enoyl-sn-glycerol 3-phosphate O-acyltransferase (n-C18:1)</td>\n",
       "            </tr><tr>\n",
       "                <td><strong>Memory address</strong></td>\n",
       "                <td>0x01783dd18b80</td>\n",
       "            </tr><tr>\n",
       "                <td><strong>Stoichiometry</strong></td>\n",
       "                <td>\n",
       "                    <p style='text-align:right'>1odec7eg3p_c + oct7eACP_c --> ACP_c + pa181_c</p>\n",
       "                    <p style='text-align:right'>M_1odec7eg3p_c + M_oct7eACP_c --> M_ACP_c + M_pa181_c</p>\n",
       "                </td>\n",
       "            </tr><tr>\n",
       "                <td><strong>GPR</strong></td><td>NGO2069 or NGO0611</td>\n",
       "            </tr><tr>\n",
       "                <td><strong>Lower bound</strong></td><td>0.0</td>\n",
       "            </tr><tr>\n",
       "                <td><strong>Upper bound</strong></td><td>1000.0</td>\n",
       "            </tr>\n",
       "        </table>\n",
       "        "
      ],
      "text/plain": [
       "<Reaction AGPAT181 at 0x1783dd18b80>"
      ]
     },
     "execution_count": 254,
     "metadata": {},
     "output_type": "execute_result"
    }
   ],
   "source": [
    "r=model.reactions.get_by_id('AGPAT181')\n",
    "model.metabolites.get_by_id('1odec7eg3p_c').charge= -2\n",
    "print(r.check_mass_balance())\n",
    "r"
   ]
  },
  {
   "cell_type": "code",
   "execution_count": 255,
   "id": "9b9eb750-96b6-4e2e-a24e-d0f40242de2d",
   "metadata": {},
   "outputs": [
    {
     "name": "stdout",
     "output_type": "stream",
     "text": [
      "{}\n"
     ]
    },
    {
     "data": {
      "text/html": [
       "\n",
       "        <table>\n",
       "            <tr>\n",
       "                <td><strong>Reaction identifier</strong></td><td>DASYN161a</td>\n",
       "            </tr><tr>\n",
       "                <td><strong>Name</strong></td><td>R_DASYN161a</td>\n",
       "            </tr><tr>\n",
       "                <td><strong>Memory address</strong></td>\n",
       "                <td>0x01783ddb53d0</td>\n",
       "            </tr><tr>\n",
       "                <td><strong>Stoichiometry</strong></td>\n",
       "                <td>\n",
       "                    <p style='text-align:right'>ctp_c + h_c + pa161_c --> cdp161_c + ppi_c</p>\n",
       "                    <p style='text-align:right'>M_ctp_c + M_h_c + M_pa161_c --> M_cdp161_c + M_ppi_c</p>\n",
       "                </td>\n",
       "            </tr><tr>\n",
       "                <td><strong>GPR</strong></td><td>NGO1798</td>\n",
       "            </tr><tr>\n",
       "                <td><strong>Lower bound</strong></td><td>0.0</td>\n",
       "            </tr><tr>\n",
       "                <td><strong>Upper bound</strong></td><td>1000.0</td>\n",
       "            </tr>\n",
       "        </table>\n",
       "        "
      ],
      "text/plain": [
       "<Reaction DASYN161a at 0x1783ddb53d0>"
      ]
     },
     "execution_count": 255,
     "metadata": {},
     "output_type": "execute_result"
    }
   ],
   "source": [
    "#From Bigg for DASYN161\n",
    "r=model.reactions.get_by_id('DASYN161a')\n",
    "model.metabolites.get_by_id('cdp161_c').charge=-2\n",
    "model.metabolites.get_by_id('cdp161_c').formula= 'C44H75N3O15P2'\n",
    "print(r.check_mass_balance())\n",
    "r"
   ]
  },
  {
   "cell_type": "code",
   "execution_count": 256,
   "id": "01000cf4-a7c5-4f21-989e-1b1bc878a2ee",
   "metadata": {},
   "outputs": [
    {
     "name": "stdout",
     "output_type": "stream",
     "text": [
      "{}\n"
     ]
    },
    {
     "data": {
      "text/html": [
       "\n",
       "        <table>\n",
       "            <tr>\n",
       "                <td><strong>Reaction identifier</strong></td><td>DASYN181</td>\n",
       "            </tr><tr>\n",
       "                <td><strong>Name</strong></td><td>CDP-diacylglycerol synthetase (n-C18:1)</td>\n",
       "            </tr><tr>\n",
       "                <td><strong>Memory address</strong></td>\n",
       "                <td>0x01783ddc16d0</td>\n",
       "            </tr><tr>\n",
       "                <td><strong>Stoichiometry</strong></td>\n",
       "                <td>\n",
       "                    <p style='text-align:right'>ctp_c + h_c + pa181_c --> cdpdodec7eg_c + ppi_c</p>\n",
       "                    <p style='text-align:right'>M_ctp_c + M_h_c + M_pa181_c --> M_cdpdodec7eg_c + M_ppi_c</p>\n",
       "                </td>\n",
       "            </tr><tr>\n",
       "                <td><strong>GPR</strong></td><td>NGO1798</td>\n",
       "            </tr><tr>\n",
       "                <td><strong>Lower bound</strong></td><td>0.0</td>\n",
       "            </tr><tr>\n",
       "                <td><strong>Upper bound</strong></td><td>1000.0</td>\n",
       "            </tr>\n",
       "        </table>\n",
       "        "
      ],
      "text/plain": [
       "<Reaction DASYN181 at 0x1783ddc16d0>"
      ]
     },
     "execution_count": 256,
     "metadata": {},
     "output_type": "execute_result"
    }
   ],
   "source": [
    "r=model.reactions.get_by_id('DASYN181')\n",
    "model.metabolites.get_by_id('cdpdodec7eg_c').charge=-2\n",
    "print(r.check_mass_balance())\n",
    "r"
   ]
  },
  {
   "cell_type": "code",
   "execution_count": 257,
   "id": "0798ef02-1994-420d-86cf-9d75fc5654ab",
   "metadata": {},
   "outputs": [
    {
     "name": "stdout",
     "output_type": "stream",
     "text": [
      "{}\n"
     ]
    },
    {
     "data": {
      "text/html": [
       "\n",
       "        <table>\n",
       "            <tr>\n",
       "                <td><strong>Reaction identifier</strong></td><td>EAR161a</td>\n",
       "            </tr><tr>\n",
       "                <td><strong>Name</strong></td><td>R_EAR161a</td>\n",
       "            </tr><tr>\n",
       "                <td><strong>Memory address</strong></td>\n",
       "                <td>0x01783ddfcf70</td>\n",
       "            </tr><tr>\n",
       "                <td><strong>Stoichiometry</strong></td>\n",
       "                <td>\n",
       "                    <p style='text-align:right'>h_c + nadh_c + t3c5palmeACP_c --> h5deACP_c + nad_c</p>\n",
       "                    <p style='text-align:right'>M_h_c + M_nadh_c + M_t3c5palmeACP_c --> M_h5deACP_c + M_nad_c</p>\n",
       "                </td>\n",
       "            </tr><tr>\n",
       "                <td><strong>GPR</strong></td><td>NGO1666</td>\n",
       "            </tr><tr>\n",
       "                <td><strong>Lower bound</strong></td><td>0.0</td>\n",
       "            </tr><tr>\n",
       "                <td><strong>Upper bound</strong></td><td>1000.0</td>\n",
       "            </tr>\n",
       "        </table>\n",
       "        "
      ],
      "text/plain": [
       "<Reaction EAR161a at 0x1783ddfcf70>"
      ]
     },
     "execution_count": 257,
     "metadata": {},
     "output_type": "execute_result"
    }
   ],
   "source": [
    "r=model.reactions.get_by_id('EAR161a')\n",
    "#Based on Bigg charge for similar molecules in EAR161\n",
    "model.metabolites.get_by_id('h5deACP_c').charge=-1\n",
    "print(r.check_mass_balance())\n",
    "r"
   ]
  },
  {
   "cell_type": "code",
   "execution_count": 258,
   "id": "685af55a-b4a4-4a5f-9e7b-435ffd7f4d78",
   "metadata": {},
   "outputs": [
    {
     "name": "stdout",
     "output_type": "stream",
     "text": [
      "{}\n"
     ]
    },
    {
     "data": {
      "text/html": [
       "\n",
       "        <table>\n",
       "            <tr>\n",
       "                <td><strong>Reaction identifier</strong></td><td>3OAS181a</td>\n",
       "            </tr><tr>\n",
       "                <td><strong>Name</strong></td><td>R_3OAS181a</td>\n",
       "            </tr><tr>\n",
       "                <td><strong>Memory address</strong></td>\n",
       "                <td>0x01783dccaa90</td>\n",
       "            </tr><tr>\n",
       "                <td><strong>Stoichiometry</strong></td>\n",
       "                <td>\n",
       "                    <p style='text-align:right'>h5deACP_c + h_c + malACP_c --> 3ocvac7eACP_c + ACP_c + co2_c</p>\n",
       "                    <p style='text-align:right'>M_h5deACP_c + M_h_c + M_malACP_c --> M_3ocvac7eACP_c + M_ACP_c + M_co2_c</p>\n",
       "                </td>\n",
       "            </tr><tr>\n",
       "                <td><strong>GPR</strong></td><td>NGO1763</td>\n",
       "            </tr><tr>\n",
       "                <td><strong>Lower bound</strong></td><td>0.0</td>\n",
       "            </tr><tr>\n",
       "                <td><strong>Upper bound</strong></td><td>1000.0</td>\n",
       "            </tr>\n",
       "        </table>\n",
       "        "
      ],
      "text/plain": [
       "<Reaction 3OAS181a at 0x1783dccaa90>"
      ]
     },
     "execution_count": 258,
     "metadata": {},
     "output_type": "execute_result"
    }
   ],
   "source": [
    "r=model.reactions.get_by_id('3OAS181a')\n",
    "#Based on Bigg charge for similar molecules in 3OAS181\n",
    "model.metabolites.get_by_id('3ocvac7eACP_c').charge=-1\n",
    "print(r.check_mass_balance())\n",
    "r\n"
   ]
  },
  {
   "cell_type": "code",
   "execution_count": 259,
   "id": "11f51e68-48eb-4f50-9f9c-5d2e90457b79",
   "metadata": {},
   "outputs": [
    {
     "name": "stdout",
     "output_type": "stream",
     "text": [
      "{}\n"
     ]
    },
    {
     "data": {
      "text/html": [
       "\n",
       "        <table>\n",
       "            <tr>\n",
       "                <td><strong>Reaction identifier</strong></td><td>3OAR181x</td>\n",
       "            </tr><tr>\n",
       "                <td><strong>Name</strong></td><td>R_3OAR181x</td>\n",
       "            </tr><tr>\n",
       "                <td><strong>Memory address</strong></td>\n",
       "                <td>0x01783dcb8eb0</td>\n",
       "            </tr><tr>\n",
       "                <td><strong>Stoichiometry</strong></td>\n",
       "                <td>\n",
       "                    <p style='text-align:right'>3ocvac7eACP_c + h_c + nadph_c --> 3hcvac7eACP_c + nadp_c</p>\n",
       "                    <p style='text-align:right'>M_3ocvac7eACP_c + M_h_c + M_nadph_c --> M_3hcvac7eACP_c + M_nadp_c</p>\n",
       "                </td>\n",
       "            </tr><tr>\n",
       "                <td><strong>GPR</strong></td><td>NGO2163 or NGO2163</td>\n",
       "            </tr><tr>\n",
       "                <td><strong>Lower bound</strong></td><td>0.0</td>\n",
       "            </tr><tr>\n",
       "                <td><strong>Upper bound</strong></td><td>1000.0</td>\n",
       "            </tr>\n",
       "        </table>\n",
       "        "
      ],
      "text/plain": [
       "<Reaction 3OAR181x at 0x1783dcb8eb0>"
      ]
     },
     "execution_count": 259,
     "metadata": {},
     "output_type": "execute_result"
    }
   ],
   "source": [
    "r=model.reactions.get_by_id('3OAR181x')\n",
    "#Based on Bigg charge for similar molecules in 3OAR181x\n",
    "model.metabolites.get_by_id('3hcvac7eACP_c').charge=-1\n",
    "print(r.check_mass_balance())\n",
    "r"
   ]
  },
  {
   "cell_type": "code",
   "execution_count": 260,
   "id": "661f5b30-4eb4-45d6-a72d-8d9fc93d9e2a",
   "metadata": {},
   "outputs": [
    {
     "name": "stdout",
     "output_type": "stream",
     "text": [
      "{}\n"
     ]
    },
    {
     "data": {
      "text/html": [
       "\n",
       "        <table>\n",
       "            <tr>\n",
       "                <td><strong>Reaction identifier</strong></td><td>3HAD181a</td>\n",
       "            </tr><tr>\n",
       "                <td><strong>Name</strong></td><td>R_3HAD181a</td>\n",
       "            </tr><tr>\n",
       "                <td><strong>Memory address</strong></td>\n",
       "                <td>0x01783dcaca30</td>\n",
       "            </tr><tr>\n",
       "                <td><strong>Stoichiometry</strong></td>\n",
       "                <td>\n",
       "                    <p style='text-align:right'>3hcvac7eACP_c --> h2o_c + t3c7vaceACP_c</p>\n",
       "                    <p style='text-align:right'>M_3hcvac7eACP_c --> M_h2o_c + M_t3c7vaceACP_c</p>\n",
       "                </td>\n",
       "            </tr><tr>\n",
       "                <td><strong>GPR</strong></td><td>NGO1804</td>\n",
       "            </tr><tr>\n",
       "                <td><strong>Lower bound</strong></td><td>0.0</td>\n",
       "            </tr><tr>\n",
       "                <td><strong>Upper bound</strong></td><td>1000.0</td>\n",
       "            </tr>\n",
       "        </table>\n",
       "        "
      ],
      "text/plain": [
       "<Reaction 3HAD181a at 0x1783dcaca30>"
      ]
     },
     "execution_count": 260,
     "metadata": {},
     "output_type": "execute_result"
    }
   ],
   "source": [
    "r=model.reactions.get_by_id('3HAD181a')\n",
    "#Based on Bigg charge for similar molecules in 3HAD181\n",
    "model.metabolites.get_by_id('t3c7vaceACP_c').charge=-1\n",
    "print(r.check_mass_balance())\n",
    "r\n"
   ]
  },
  {
   "cell_type": "code",
   "execution_count": 261,
   "id": "5825fa7f-cc9f-4391-b578-64e704fc0c72",
   "metadata": {},
   "outputs": [
    {
     "name": "stdout",
     "output_type": "stream",
     "text": [
      "{}\n"
     ]
    },
    {
     "data": {
      "text/html": [
       "\n",
       "        <table>\n",
       "            <tr>\n",
       "                <td><strong>Reaction identifier</strong></td><td>MALtex</td>\n",
       "            </tr><tr>\n",
       "                <td><strong>Name</strong></td><td>Malate transport via diffusion (extracellular to periplasm)</td>\n",
       "            </tr><tr>\n",
       "                <td><strong>Memory address</strong></td>\n",
       "                <td>0x01783dfecfd0</td>\n",
       "            </tr><tr>\n",
       "                <td><strong>Stoichiometry</strong></td>\n",
       "                <td>\n",
       "                    <p style='text-align:right'>mal_L_e <=> mal_L_p</p>\n",
       "                    <p style='text-align:right'>M_mal_L_e <=> M_mal_L_p</p>\n",
       "                </td>\n",
       "            </tr><tr>\n",
       "                <td><strong>GPR</strong></td><td>NGO1812</td>\n",
       "            </tr><tr>\n",
       "                <td><strong>Lower bound</strong></td><td>-1000.0</td>\n",
       "            </tr><tr>\n",
       "                <td><strong>Upper bound</strong></td><td>1000.0</td>\n",
       "            </tr>\n",
       "        </table>\n",
       "        "
      ],
      "text/plain": [
       "<Reaction MALtex at 0x1783dfecfd0>"
      ]
     },
     "execution_count": 261,
     "metadata": {},
     "output_type": "execute_result"
    }
   ],
   "source": [
    "r=model.reactions.get_by_id('MALtex')\n",
    "model.metabolites.get_by_id('mal_L_e').charge=-2\n",
    "print(r.check_mass_balance())\n",
    "r"
   ]
  },
  {
   "cell_type": "code",
   "execution_count": 262,
   "id": "27f3fb44-61da-4930-8c25-42309615125f",
   "metadata": {},
   "outputs": [
    {
     "name": "stdout",
     "output_type": "stream",
     "text": [
      "{}\n"
     ]
    },
    {
     "data": {
      "text/html": [
       "\n",
       "        <table>\n",
       "            <tr>\n",
       "                <td><strong>Reaction identifier</strong></td><td>pa161abcpp</td>\n",
       "            </tr><tr>\n",
       "                <td><strong>Name</strong></td><td>R_pa161abcpp</td>\n",
       "            </tr><tr>\n",
       "                <td><strong>Memory address</strong></td>\n",
       "                <td>0x01783e0f7f70</td>\n",
       "            </tr><tr>\n",
       "                <td><strong>Stoichiometry</strong></td>\n",
       "                <td>\n",
       "                    <p style='text-align:right'>atp_c + h2o_c + pa161_c --> adp_c + h_c + pa161_p + pi_c</p>\n",
       "                    <p style='text-align:right'>M_atp_c + M_h2o_c + M_pa161_c --> M_adp_c + M_h_c + M_pa161_p + M_pi_c</p>\n",
       "                </td>\n",
       "            </tr><tr>\n",
       "                <td><strong>GPR</strong></td><td>NGO1682 and NGO1801</td>\n",
       "            </tr><tr>\n",
       "                <td><strong>Lower bound</strong></td><td>0.0</td>\n",
       "            </tr><tr>\n",
       "                <td><strong>Upper bound</strong></td><td>1000.0</td>\n",
       "            </tr>\n",
       "        </table>\n",
       "        "
      ],
      "text/plain": [
       "<Reaction pa161abcpp at 0x1783e0f7f70>"
      ]
     },
     "execution_count": 262,
     "metadata": {},
     "output_type": "execute_result"
    }
   ],
   "source": [
    "r=model.reactions.get_by_id('pa161abcpp')\n",
    "model.metabolites.get_by_id('pa161_p').charge=-2\n",
    "print(r.check_mass_balance())\n",
    "r\n",
    "\n"
   ]
  },
  {
   "cell_type": "code",
   "execution_count": 263,
   "id": "a95e583a-4a89-4030-9d2f-6f82b89968aa",
   "metadata": {},
   "outputs": [
    {
     "name": "stdout",
     "output_type": "stream",
     "text": [
      "{}\n"
     ]
    },
    {
     "data": {
      "text/html": [
       "\n",
       "        <table>\n",
       "            <tr>\n",
       "                <td><strong>Reaction identifier</strong></td><td>pa181abcpp</td>\n",
       "            </tr><tr>\n",
       "                <td><strong>Name</strong></td><td>R_pa181abcpp</td>\n",
       "            </tr><tr>\n",
       "                <td><strong>Memory address</strong></td>\n",
       "                <td>0x01783e10b850</td>\n",
       "            </tr><tr>\n",
       "                <td><strong>Stoichiometry</strong></td>\n",
       "                <td>\n",
       "                    <p style='text-align:right'>atp_c + h2o_c + pa181_c --> adp_c + h_c + pa181_p + pi_c</p>\n",
       "                    <p style='text-align:right'>M_atp_c + M_h2o_c + M_pa181_c --> M_adp_c + M_h_c + M_pa181_p + M_pi_c</p>\n",
       "                </td>\n",
       "            </tr><tr>\n",
       "                <td><strong>GPR</strong></td><td>NGO1682 and NGO1801</td>\n",
       "            </tr><tr>\n",
       "                <td><strong>Lower bound</strong></td><td>0.0</td>\n",
       "            </tr><tr>\n",
       "                <td><strong>Upper bound</strong></td><td>1000.0</td>\n",
       "            </tr>\n",
       "        </table>\n",
       "        "
      ],
      "text/plain": [
       "<Reaction pa181abcpp at 0x1783e10b850>"
      ]
     },
     "execution_count": 263,
     "metadata": {},
     "output_type": "execute_result"
    }
   ],
   "source": [
    "r=model.reactions.get_by_id('pa181abcpp')\n",
    "model.metabolites.get_by_id('pa181_p').charge=-2\n",
    "print(r.check_mass_balance())\n",
    "r"
   ]
  },
  {
   "cell_type": "code",
   "execution_count": 264,
   "id": "bbc06083-0551-4896-9b62-2f3d427dac61",
   "metadata": {},
   "outputs": [
    {
     "name": "stdout",
     "output_type": "stream",
     "text": [
      "{}\n"
     ]
    },
    {
     "data": {
      "text/html": [
       "\n",
       "        <table>\n",
       "            <tr>\n",
       "                <td><strong>Reaction identifier</strong></td><td>pgp161abcpp</td>\n",
       "            </tr><tr>\n",
       "                <td><strong>Name</strong></td><td>R_pgp161abcpp</td>\n",
       "            </tr><tr>\n",
       "                <td><strong>Memory address</strong></td>\n",
       "                <td>0x01783e175d30</td>\n",
       "            </tr><tr>\n",
       "                <td><strong>Stoichiometry</strong></td>\n",
       "                <td>\n",
       "                    <p style='text-align:right'>atp_c + h2o_c + pgp161_c --> adp_c + h_c + pgp161_p + pi_c</p>\n",
       "                    <p style='text-align:right'>M_atp_c + M_h2o_c + M_pgp161_c --> M_adp_c + M_h_c + M_pgp161_p + M_pi_c</p>\n",
       "                </td>\n",
       "            </tr><tr>\n",
       "                <td><strong>GPR</strong></td><td>NGO1682 and NGO1801</td>\n",
       "            </tr><tr>\n",
       "                <td><strong>Lower bound</strong></td><td>0.0</td>\n",
       "            </tr><tr>\n",
       "                <td><strong>Upper bound</strong></td><td>1000.0</td>\n",
       "            </tr>\n",
       "        </table>\n",
       "        "
      ],
      "text/plain": [
       "<Reaction pgp161abcpp at 0x1783e175d30>"
      ]
     },
     "execution_count": 264,
     "metadata": {},
     "output_type": "execute_result"
    }
   ],
   "source": [
    "r=model.reactions.get_by_id('pgp161abcpp')\n",
    "model.metabolites.get_by_id('pgp161_p').charge=-3\n",
    "model.metabolites.get_by_id('pgp161_c').charge=-3\n",
    "print(r.check_mass_balance())\n",
    "r\n",
    "\n"
   ]
  },
  {
   "cell_type": "code",
   "execution_count": 265,
   "id": "3246f3fd-6e0e-4c46-8418-cc479c57f74a",
   "metadata": {},
   "outputs": [
    {
     "name": "stdout",
     "output_type": "stream",
     "text": [
      "{}\n"
     ]
    },
    {
     "data": {
      "text/html": [
       "\n",
       "        <table>\n",
       "            <tr>\n",
       "                <td><strong>Reaction identifier</strong></td><td>pgp181abcpp</td>\n",
       "            </tr><tr>\n",
       "                <td><strong>Name</strong></td><td>R_pgp181abcpp</td>\n",
       "            </tr><tr>\n",
       "                <td><strong>Memory address</strong></td>\n",
       "                <td>0x01783e175eb0</td>\n",
       "            </tr><tr>\n",
       "                <td><strong>Stoichiometry</strong></td>\n",
       "                <td>\n",
       "                    <p style='text-align:right'>atp_c + h2o_c + pgp181_c --> adp_c + h_c + pgp181_p + pi_c</p>\n",
       "                    <p style='text-align:right'>M_atp_c + M_h2o_c + M_pgp181_c --> M_adp_c + M_h_c + M_pgp181_p + M_pi_c</p>\n",
       "                </td>\n",
       "            </tr><tr>\n",
       "                <td><strong>GPR</strong></td><td>NGO1682 and NGO1801</td>\n",
       "            </tr><tr>\n",
       "                <td><strong>Lower bound</strong></td><td>0.0</td>\n",
       "            </tr><tr>\n",
       "                <td><strong>Upper bound</strong></td><td>1000.0</td>\n",
       "            </tr>\n",
       "        </table>\n",
       "        "
      ],
      "text/plain": [
       "<Reaction pgp181abcpp at 0x1783e175eb0>"
      ]
     },
     "execution_count": 265,
     "metadata": {},
     "output_type": "execute_result"
    }
   ],
   "source": [
    "r=model.reactions.get_by_id('pgp181abcpp')\n",
    "model.metabolites.get_by_id('pgp181_p').charge=-3\n",
    "model.metabolites.get_by_id('pgp181_c').charge=-3\n",
    "print(r.check_mass_balance())\n",
    "r"
   ]
  },
  {
   "cell_type": "code",
   "execution_count": 266,
   "id": "d678e43a-6263-4009-a247-a16995d3b473",
   "metadata": {},
   "outputs": [
    {
     "name": "stdout",
     "output_type": "stream",
     "text": [
      "{}\n"
     ]
    },
    {
     "data": {
      "text/html": [
       "\n",
       "        <table>\n",
       "            <tr>\n",
       "                <td><strong>Reaction identifier</strong></td><td>PGSA161a</td>\n",
       "            </tr><tr>\n",
       "                <td><strong>Name</strong></td><td>R_PGSA161a</td>\n",
       "            </tr><tr>\n",
       "                <td><strong>Memory address</strong></td>\n",
       "                <td>0x01783dcb1b80</td>\n",
       "            </tr><tr>\n",
       "                <td><strong>Stoichiometry</strong></td>\n",
       "                <td>\n",
       "                    <p style='text-align:right'>cdp161_c + glyc3p_c --> cmp_c + h_c + pgp161_c</p>\n",
       "                    <p style='text-align:right'>M_cdp161_c + M_glyc3p_c --> M_cmp_c + M_h_c + M_pgp161_c</p>\n",
       "                </td>\n",
       "            </tr><tr>\n",
       "                <td><strong>GPR</strong></td><td>NGO1247</td>\n",
       "            </tr><tr>\n",
       "                <td><strong>Lower bound</strong></td><td>0.0</td>\n",
       "            </tr><tr>\n",
       "                <td><strong>Upper bound</strong></td><td>1000.0</td>\n",
       "            </tr>\n",
       "        </table>\n",
       "        "
      ],
      "text/plain": [
       "<Reaction PGSA161a at 0x1783dcb1b80>"
      ]
     },
     "execution_count": 266,
     "metadata": {},
     "output_type": "execute_result"
    }
   ],
   "source": [
    "r=model.reactions.get_by_id('PGSA161a')\n",
    "r.add_metabolites({\n",
    "    h_c:1,\n",
    "      })\n",
    "print(r.check_mass_balance())\n",
    "r\n"
   ]
  },
  {
   "cell_type": "code",
   "execution_count": 267,
   "id": "51ee83cd-927f-478a-a7ab-e3814bc281f5",
   "metadata": {},
   "outputs": [
    {
     "name": "stdout",
     "output_type": "stream",
     "text": [
      "{}\n"
     ]
    },
    {
     "data": {
      "text/html": [
       "\n",
       "        <table>\n",
       "            <tr>\n",
       "                <td><strong>Reaction identifier</strong></td><td>PLIPA1A161a</td>\n",
       "            </tr><tr>\n",
       "                <td><strong>Name</strong></td><td>R_PLIPA1A161a</td>\n",
       "            </tr><tr>\n",
       "                <td><strong>Memory address</strong></td>\n",
       "                <td>0x01783dcdcee0</td>\n",
       "            </tr><tr>\n",
       "                <td><strong>Stoichiometry</strong></td>\n",
       "                <td>\n",
       "                    <p style='text-align:right'>h2o_p + pa161_p --> 2hdect9g3p_p + hdcat9_p</p>\n",
       "                    <p style='text-align:right'>M_h2o_p + M_pa161_p --> M_2hdect9g3p_p + M_hdcat9_p</p>\n",
       "                </td>\n",
       "            </tr><tr>\n",
       "                <td><strong>GPR</strong></td><td>NGO1492</td>\n",
       "            </tr><tr>\n",
       "                <td><strong>Lower bound</strong></td><td>0.0</td>\n",
       "            </tr><tr>\n",
       "                <td><strong>Upper bound</strong></td><td>1000.0</td>\n",
       "            </tr>\n",
       "        </table>\n",
       "        "
      ],
      "text/plain": [
       "<Reaction PLIPA1A161a at 0x1783dcdcee0>"
      ]
     },
     "execution_count": 267,
     "metadata": {},
     "output_type": "execute_result"
    }
   ],
   "source": [
    "r=model.reactions.get_by_id('PLIPA1A161a')\n",
    "model.metabolites.get_by_id('hdcat9_p').charge=-1\n",
    "model.metabolites.get_by_id('2hdect9g3p_p').charge=-1\n",
    "print(r.check_mass_balance())\n",
    "r\n",
    "\n"
   ]
  },
  {
   "cell_type": "code",
   "execution_count": 268,
   "id": "c2a11591-6bfe-4a1a-8e0f-0a31c24f3386",
   "metadata": {},
   "outputs": [
    {
     "name": "stdout",
     "output_type": "stream",
     "text": [
      "{}\n"
     ]
    },
    {
     "data": {
      "text/html": [
       "\n",
       "        <table>\n",
       "            <tr>\n",
       "                <td><strong>Reaction identifier</strong></td><td>PLIPA1A181pp</td>\n",
       "            </tr><tr>\n",
       "                <td><strong>Name</strong></td><td>Phospholipase A1 (phosphatidate, n-C18:1) (periplasm)</td>\n",
       "            </tr><tr>\n",
       "                <td><strong>Memory address</strong></td>\n",
       "                <td>0x01783dce4fa0</td>\n",
       "            </tr><tr>\n",
       "                <td><strong>Stoichiometry</strong></td>\n",
       "                <td>\n",
       "                    <p style='text-align:right'>h2o_p + pa181_p --> 2odec7eg3p_p + ocdcea_p</p>\n",
       "                    <p style='text-align:right'>M_h2o_p + M_pa181_p --> M_2odec7eg3p_p + M_ocdcea_p</p>\n",
       "                </td>\n",
       "            </tr><tr>\n",
       "                <td><strong>GPR</strong></td><td>NGO1492</td>\n",
       "            </tr><tr>\n",
       "                <td><strong>Lower bound</strong></td><td>0.0</td>\n",
       "            </tr><tr>\n",
       "                <td><strong>Upper bound</strong></td><td>1000.0</td>\n",
       "            </tr>\n",
       "        </table>\n",
       "        "
      ],
      "text/plain": [
       "<Reaction PLIPA1A181pp at 0x1783dce4fa0>"
      ]
     },
     "execution_count": 268,
     "metadata": {},
     "output_type": "execute_result"
    }
   ],
   "source": [
    "r=model.reactions.get_by_id('PLIPA1A181pp')\n",
    "model.metabolites.get_by_id('2odec7eg3p_p').charge=-1\n",
    "print(r.check_mass_balance())\n",
    "r\n"
   ]
  },
  {
   "cell_type": "code",
   "execution_count": 269,
   "id": "4240a524-9a87-4f7e-9da6-a943c0f7ce32",
   "metadata": {},
   "outputs": [
    {
     "name": "stdout",
     "output_type": "stream",
     "text": [
      "{}\n"
     ]
    },
    {
     "name": "stderr",
     "output_type": "stream",
     "text": [
      "C:\\Users\\Aimee\\anaconda3\\lib\\site-packages\\cobra\\core\\model.py:727: UserWarning: need to pass in a list\n",
      "  warn(\"need to pass in a list\")\n"
     ]
    }
   ],
   "source": [
    "r=model.reactions.get_by_id('2AGpa161tipp')\n",
    "model.metabolites.get_by_id('2hdect9g3p_c').charge=-1\n",
    "print(r.check_mass_balance())\n",
    "r\n",
    "#Duplicate reaction with 2AGPA161tipp. Removing\n",
    "model.remove_reactions('2AGpa161tipp')"
   ]
  },
  {
   "cell_type": "code",
   "execution_count": 270,
   "id": "5a3d9ed0-fba7-46e4-b84e-9006f2c7fc1c",
   "metadata": {},
   "outputs": [
    {
     "name": "stdout",
     "output_type": "stream",
     "text": [
      "{}\n"
     ]
    },
    {
     "data": {
      "text/html": [
       "\n",
       "        <table>\n",
       "            <tr>\n",
       "                <td><strong>Reaction identifier</strong></td><td>2AGPA161tipp</td>\n",
       "            </tr><tr>\n",
       "                <td><strong>Name</strong></td><td>2-Acyl-sn-glycero-3-phosphatidate (n-C16:1) transporter via facilitated diffusion (periplasm)</td>\n",
       "            </tr><tr>\n",
       "                <td><strong>Memory address</strong></td>\n",
       "                <td>0x01783dc95d00</td>\n",
       "            </tr><tr>\n",
       "                <td><strong>Stoichiometry</strong></td>\n",
       "                <td>\n",
       "                    <p style='text-align:right'>2hdect9g3p_p --> 2hdect9g3p_c</p>\n",
       "                    <p style='text-align:right'>M_2hdect9g3p_p --> M_2hdect9g3p_c</p>\n",
       "                </td>\n",
       "            </tr><tr>\n",
       "                <td><strong>GPR</strong></td><td>NGO1682 and NGO1801</td>\n",
       "            </tr><tr>\n",
       "                <td><strong>Lower bound</strong></td><td>0.0</td>\n",
       "            </tr><tr>\n",
       "                <td><strong>Upper bound</strong></td><td>1000.0</td>\n",
       "            </tr>\n",
       "        </table>\n",
       "        "
      ],
      "text/plain": [
       "<Reaction 2AGPA161tipp at 0x1783dc95d00>"
      ]
     },
     "execution_count": 270,
     "metadata": {},
     "output_type": "execute_result"
    }
   ],
   "source": [
    "r=model.reactions.get_by_id('2AGPA161tipp')\n",
    "model.metabolites.get_by_id('2hdect9g3p_c').charge=-1\n",
    "print(r.check_mass_balance())\n",
    "r"
   ]
  },
  {
   "cell_type": "code",
   "execution_count": 271,
   "id": "f0a94a2f-13f9-4ebb-a83e-452311abb03e",
   "metadata": {},
   "outputs": [
    {
     "name": "stdout",
     "output_type": "stream",
     "text": [
      "{}\n"
     ]
    },
    {
     "data": {
      "text/html": [
       "\n",
       "        <table>\n",
       "            <tr>\n",
       "                <td><strong>Reaction identifier</strong></td><td>2AGPA181tipp</td>\n",
       "            </tr><tr>\n",
       "                <td><strong>Name</strong></td><td>2-Acyl-sn-glycero-3-phosphatidate (n-C18:1) transporter via facilitated diffusion (periplasm)</td>\n",
       "            </tr><tr>\n",
       "                <td><strong>Memory address</strong></td>\n",
       "                <td>0x01783dc95ee0</td>\n",
       "            </tr><tr>\n",
       "                <td><strong>Stoichiometry</strong></td>\n",
       "                <td>\n",
       "                    <p style='text-align:right'>2odec7eg3p_p --> 2odec7eg3p_c</p>\n",
       "                    <p style='text-align:right'>M_2odec7eg3p_p --> M_2odec7eg3p_c</p>\n",
       "                </td>\n",
       "            </tr><tr>\n",
       "                <td><strong>GPR</strong></td><td>NGO1682 and NGO1801</td>\n",
       "            </tr><tr>\n",
       "                <td><strong>Lower bound</strong></td><td>0.0</td>\n",
       "            </tr><tr>\n",
       "                <td><strong>Upper bound</strong></td><td>1000.0</td>\n",
       "            </tr>\n",
       "        </table>\n",
       "        "
      ],
      "text/plain": [
       "<Reaction 2AGPA181tipp at 0x1783dc95ee0>"
      ]
     },
     "execution_count": 271,
     "metadata": {},
     "output_type": "execute_result"
    }
   ],
   "source": [
    "r=model.reactions.get_by_id('2AGPA181tipp')\n",
    "model.metabolites.get_by_id('2odec7eg3p_c').charge=-1\n",
    "print(r.check_mass_balance())\n",
    "r"
   ]
  },
  {
   "cell_type": "code",
   "execution_count": 272,
   "id": "572dabdf-6e90-453e-bd32-5b6832a31fc5",
   "metadata": {},
   "outputs": [
    {
     "name": "stdout",
     "output_type": "stream",
     "text": [
      "12 12 12\n"
     ]
    },
    {
     "data": {
      "text/html": [
       "<div>\n",
       "<style scoped>\n",
       "    .dataframe tbody tr th:only-of-type {\n",
       "        vertical-align: middle;\n",
       "    }\n",
       "\n",
       "    .dataframe tbody tr th {\n",
       "        vertical-align: top;\n",
       "    }\n",
       "\n",
       "    .dataframe thead th {\n",
       "        text-align: right;\n",
       "    }\n",
       "</style>\n",
       "<table border=\"1\" class=\"dataframe\">\n",
       "  <thead>\n",
       "    <tr style=\"text-align: right;\">\n",
       "      <th></th>\n",
       "      <th>Reactions</th>\n",
       "      <th>Charge</th>\n",
       "      <th>Masses</th>\n",
       "    </tr>\n",
       "  </thead>\n",
       "  <tbody>\n",
       "    <tr>\n",
       "      <th>0</th>\n",
       "      <td>BTS4</td>\n",
       "      <td></td>\n",
       "      <td>{'S': 1.0}</td>\n",
       "    </tr>\n",
       "    <tr>\n",
       "      <th>1</th>\n",
       "      <td>CYTCS</td>\n",
       "      <td>5.0</td>\n",
       "      <td>{'C': 8.0, 'H': 14.0, 'N': 4.0, 'O': 4.0, 'S':...</td>\n",
       "    </tr>\n",
       "    <tr>\n",
       "      <th>2</th>\n",
       "      <td>HGFE</td>\n",
       "      <td>-8.0</td>\n",
       "      <td>{}</td>\n",
       "    </tr>\n",
       "    <tr>\n",
       "      <th>3</th>\n",
       "      <td>MAc2</td>\n",
       "      <td>6.0</td>\n",
       "      <td>{}</td>\n",
       "    </tr>\n",
       "    <tr>\n",
       "      <th>4</th>\n",
       "      <td>MAc4</td>\n",
       "      <td>4.0</td>\n",
       "      <td>{}</td>\n",
       "    </tr>\n",
       "    <tr>\n",
       "      <th>5</th>\n",
       "      <td>MAc6</td>\n",
       "      <td>4.0</td>\n",
       "      <td>{}</td>\n",
       "    </tr>\n",
       "    <tr>\n",
       "      <th>6</th>\n",
       "      <td>MDDCP6pp</td>\n",
       "      <td>6.0</td>\n",
       "      <td>{'H': 3.0, 'N': -6.0}</td>\n",
       "    </tr>\n",
       "    <tr>\n",
       "      <th>7</th>\n",
       "      <td>PHEMEFErel</td>\n",
       "      <td>7.0</td>\n",
       "      <td>{}</td>\n",
       "    </tr>\n",
       "    <tr>\n",
       "      <th>8</th>\n",
       "      <td>PLIPA1E161a</td>\n",
       "      <td>-1.0</td>\n",
       "      <td>{}</td>\n",
       "    </tr>\n",
       "    <tr>\n",
       "      <th>9</th>\n",
       "      <td>PMCOAS</td>\n",
       "      <td>-1.0</td>\n",
       "      <td>{'C': 7.0, 'H': 9.0, 'O': 3.0}</td>\n",
       "    </tr>\n",
       "    <tr>\n",
       "      <th>10</th>\n",
       "      <td>PSSA161a</td>\n",
       "      <td></td>\n",
       "      <td>{'H': -1.0}</td>\n",
       "    </tr>\n",
       "    <tr>\n",
       "      <th>11</th>\n",
       "      <td>CYPOX</td>\n",
       "      <td>-2.0</td>\n",
       "      <td>{}</td>\n",
       "    </tr>\n",
       "  </tbody>\n",
       "</table>\n",
       "</div>"
      ],
      "text/plain": [
       "      Reactions Charge                                             Masses\n",
       "0          BTS4                                                {'S': 1.0}\n",
       "1         CYTCS    5.0  {'C': 8.0, 'H': 14.0, 'N': 4.0, 'O': 4.0, 'S':...\n",
       "2          HGFE   -8.0                                                 {}\n",
       "3          MAc2    6.0                                                 {}\n",
       "4          MAc4    4.0                                                 {}\n",
       "5          MAc6    4.0                                                 {}\n",
       "6      MDDCP6pp    6.0                              {'H': 3.0, 'N': -6.0}\n",
       "7    PHEMEFErel    7.0                                                 {}\n",
       "8   PLIPA1E161a   -1.0                                                 {}\n",
       "9        PMCOAS   -1.0                     {'C': 7.0, 'H': 9.0, 'O': 3.0}\n",
       "10     PSSA161a                                               {'H': -1.0}\n",
       "11        CYPOX   -2.0                                                 {}"
      ]
     },
     "execution_count": 272,
     "metadata": {},
     "output_type": "execute_result"
    }
   ],
   "source": [
    "#After bulk removing cofactors, what reaction imbalances remain?\n",
    "reactions = []\n",
    "charge = []\n",
    "mass = []\n",
    "for react in model.reactions:\n",
    "    result = react.check_mass_balance()\n",
    "    if 'EX_' in  react.id:\n",
    "        continue\n",
    "    if 'Nm_' in  react.id:\n",
    "        continue\n",
    "    if 'DM_' in  react.id:\n",
    "        continue \n",
    "    if react.id in biomass_reactions:\n",
    "        continue\n",
    "    if len(result) == 0:\n",
    "        continue\n",
    "    else: \n",
    "        reactions.append(react.id)\n",
    "        masses = {}\n",
    "        for key in result.keys():\n",
    "            if key == 'charge':\n",
    "                charge.append(result['charge'])\n",
    "            else:\n",
    "                masses[key] = result[key]\n",
    "        if 'charge' not in result.keys():\n",
    "            charge.append('')\n",
    "        mass.append(masses)\n",
    "print(len(reactions), len(charge), len(mass))\n",
    "\n",
    "mass_charge_dict = {'Reactions': reactions, 'Charge': charge, 'Masses': mass}\n",
    "mass_charge = pandas.DataFrame(mass_charge_dict)\n",
    "mass_charge.to_csv('imbalancesremaining.csv')\n",
    "mass_charge"
   ]
  },
  {
   "cell_type": "code",
   "execution_count": 273,
   "id": "d6834458-2fdd-4c0e-aeb2-b927efc0a6c3",
   "metadata": {},
   "outputs": [
    {
     "name": "stdout",
     "output_type": "stream",
     "text": [
      "{}\n"
     ]
    },
    {
     "data": {
      "text/html": [
       "\n",
       "        <table>\n",
       "            <tr>\n",
       "                <td><strong>Reaction identifier</strong></td><td>PLIPA1E161a</td>\n",
       "            </tr><tr>\n",
       "                <td><strong>Name</strong></td><td>R_PLIPA1E161a</td>\n",
       "            </tr><tr>\n",
       "                <td><strong>Memory address</strong></td>\n",
       "                <td>0x01783dd00b50</td>\n",
       "            </tr><tr>\n",
       "                <td><strong>Stoichiometry</strong></td>\n",
       "                <td>\n",
       "                    <p style='text-align:right'>h2o_p + pe161_p --> 2agpe161_p + h_c + hdcat9_p</p>\n",
       "                    <p style='text-align:right'>M_h2o_p + M_pe161_p --> M_2agpe161_p + M_h_c + M_hdcat9_p</p>\n",
       "                </td>\n",
       "            </tr><tr>\n",
       "                <td><strong>GPR</strong></td><td>NGO1492</td>\n",
       "            </tr><tr>\n",
       "                <td><strong>Lower bound</strong></td><td>0.0</td>\n",
       "            </tr><tr>\n",
       "                <td><strong>Upper bound</strong></td><td>1000.0</td>\n",
       "            </tr>\n",
       "        </table>\n",
       "        "
      ],
      "text/plain": [
       "<Reaction PLIPA1E161a at 0x1783dd00b50>"
      ]
     },
     "execution_count": 273,
     "metadata": {},
     "output_type": "execute_result"
    }
   ],
   "source": [
    "r=model.reactions.get_by_id('PLIPA1E161a')\n",
    "model.metabolites.get_by_id('pe161_p').formula='C37H70N1O8P1'\n",
    "r.add_metabolites({\n",
    "    h_c:1,\n",
    "      })\n",
    "print(r.check_mass_balance())\n",
    "r"
   ]
  },
  {
   "cell_type": "code",
   "execution_count": 274,
   "id": "10a60470-4a0b-4f89-b34b-3913570b3f50",
   "metadata": {},
   "outputs": [
    {
     "name": "stdout",
     "output_type": "stream",
     "text": [
      "{}\n"
     ]
    },
    {
     "data": {
      "text/html": [
       "\n",
       "        <table>\n",
       "            <tr>\n",
       "                <td><strong>Reaction identifier</strong></td><td>pe161abcpp</td>\n",
       "            </tr><tr>\n",
       "                <td><strong>Name</strong></td><td>R_pe161abcpp</td>\n",
       "            </tr><tr>\n",
       "                <td><strong>Memory address</strong></td>\n",
       "                <td>0x01783e120df0</td>\n",
       "            </tr><tr>\n",
       "                <td><strong>Stoichiometry</strong></td>\n",
       "                <td>\n",
       "                    <p style='text-align:right'>atp_c + h2o_c + pe161_c --> adp_c + h_c + pe161_p + pi_c</p>\n",
       "                    <p style='text-align:right'>M_atp_c + M_h2o_c + M_pe161_c --> M_adp_c + M_h_c + M_pe161_p + M_pi_c</p>\n",
       "                </td>\n",
       "            </tr><tr>\n",
       "                <td><strong>GPR</strong></td><td>NGO1682 and NGO1801</td>\n",
       "            </tr><tr>\n",
       "                <td><strong>Lower bound</strong></td><td>0.0</td>\n",
       "            </tr><tr>\n",
       "                <td><strong>Upper bound</strong></td><td>1000.0</td>\n",
       "            </tr>\n",
       "        </table>\n",
       "        "
      ],
      "text/plain": [
       "<Reaction pe161abcpp at 0x1783e120df0>"
      ]
     },
     "execution_count": 274,
     "metadata": {},
     "output_type": "execute_result"
    }
   ],
   "source": [
    "r=model.reactions.get_by_id('pe161abcpp')\n",
    "model.metabolites.get_by_id('pe161_c').formula='C37H70N1O8P1'\n",
    "\n",
    "print(r.check_mass_balance())\n",
    "r\n"
   ]
  },
  {
   "cell_type": "code",
   "execution_count": 275,
   "id": "5d74427d-80a1-4963-a299-e6aadec9cdb3",
   "metadata": {},
   "outputs": [
    {
     "name": "stdout",
     "output_type": "stream",
     "text": [
      "{}\n"
     ]
    },
    {
     "data": {
      "text/html": [
       "\n",
       "        <table>\n",
       "            <tr>\n",
       "                <td><strong>Reaction identifier</strong></td><td>PSD161a</td>\n",
       "            </tr><tr>\n",
       "                <td><strong>Name</strong></td><td>R_PSD161a</td>\n",
       "            </tr><tr>\n",
       "                <td><strong>Memory address</strong></td>\n",
       "                <td>0x01783e265eb0</td>\n",
       "            </tr><tr>\n",
       "                <td><strong>Stoichiometry</strong></td>\n",
       "                <td>\n",
       "                    <p style='text-align:right'>h_c + ps161_c --> co2_c + pe161_c</p>\n",
       "                    <p style='text-align:right'>M_h_c + M_ps161_c --> M_co2_c + M_pe161_c</p>\n",
       "                </td>\n",
       "            </tr><tr>\n",
       "                <td><strong>GPR</strong></td><td>NGO1206</td>\n",
       "            </tr><tr>\n",
       "                <td><strong>Lower bound</strong></td><td>0.0</td>\n",
       "            </tr><tr>\n",
       "                <td><strong>Upper bound</strong></td><td>1000.0</td>\n",
       "            </tr>\n",
       "        </table>\n",
       "        "
      ],
      "text/plain": [
       "<Reaction PSD161a at 0x1783e265eb0>"
      ]
     },
     "execution_count": 275,
     "metadata": {},
     "output_type": "execute_result"
    }
   ],
   "source": [
    "r=model.reactions.get_by_id('PSD161a')\n",
    "model.metabolites.get_by_id('ps161_c').formula='C38H69N1O10P1'\n",
    "\n",
    "print(r.check_mass_balance())\n",
    "r\n",
    "\n"
   ]
  },
  {
   "cell_type": "code",
   "execution_count": 276,
   "id": "b45f29b2-268a-4a2b-bb57-8c9f951888ce",
   "metadata": {},
   "outputs": [
    {
     "name": "stdout",
     "output_type": "stream",
     "text": [
      "{}\n"
     ]
    },
    {
     "data": {
      "text/html": [
       "\n",
       "        <table>\n",
       "            <tr>\n",
       "                <td><strong>Reaction identifier</strong></td><td>MAc2</td>\n",
       "            </tr><tr>\n",
       "                <td><strong>Name</strong></td><td>R_MAc2</td>\n",
       "            </tr><tr>\n",
       "                <td><strong>Memory address</strong></td>\n",
       "                <td>0x01783dfec100</td>\n",
       "            </tr><tr>\n",
       "                <td><strong>Stoichiometry</strong></td>\n",
       "                <td>\n",
       "                    <p style='text-align:right'>accoa_c + h2o_p + murein4px4px4p_p --> coa_c + murein4px4px4pOAc_p</p>\n",
       "                    <p style='text-align:right'>M_accoa_c + M_h2o_p + M_murein4px4px4p_p --> M_coa_c + M_murein4px4px4pOAc_p</p>\n",
       "                </td>\n",
       "            </tr><tr>\n",
       "                <td><strong>GPR</strong></td><td>NGO0533 and NGO0534</td>\n",
       "            </tr><tr>\n",
       "                <td><strong>Lower bound</strong></td><td>0.0</td>\n",
       "            </tr><tr>\n",
       "                <td><strong>Upper bound</strong></td><td>1000.0</td>\n",
       "            </tr>\n",
       "        </table>\n",
       "        "
      ],
      "text/plain": [
       "<Reaction MAc2 at 0x1783dfec100>"
      ]
     },
     "execution_count": 276,
     "metadata": {},
     "output_type": "execute_result"
    }
   ],
   "source": [
    "r=model.reactions.get_by_id('MAc2')\n",
    "model.metabolites.murein4px4px4pOAc_p.charge=-6\n",
    "print(r.check_mass_balance())\n",
    "r"
   ]
  },
  {
   "cell_type": "code",
   "execution_count": 277,
   "id": "63655ab2-3943-4278-8be1-658eb7611900",
   "metadata": {},
   "outputs": [
    {
     "name": "stdout",
     "output_type": "stream",
     "text": [
      "{}\n"
     ]
    },
    {
     "data": {
      "text/html": [
       "\n",
       "        <table>\n",
       "            <tr>\n",
       "                <td><strong>Reaction identifier</strong></td><td>MAc4</td>\n",
       "            </tr><tr>\n",
       "                <td><strong>Name</strong></td><td>R_MAc4</td>\n",
       "            </tr><tr>\n",
       "                <td><strong>Memory address</strong></td>\n",
       "                <td>0x01783dfec400</td>\n",
       "            </tr><tr>\n",
       "                <td><strong>Stoichiometry</strong></td>\n",
       "                <td>\n",
       "                    <p style='text-align:right'>accoa_c + h2o_p + murein4p4p_p --> coa_c + murein4p4pOAc_p</p>\n",
       "                    <p style='text-align:right'>M_accoa_c + M_h2o_p + M_murein4p4p_p --> M_coa_c + M_murein4p4pOAc_p</p>\n",
       "                </td>\n",
       "            </tr><tr>\n",
       "                <td><strong>GPR</strong></td><td>NGO0533 and NGO0534</td>\n",
       "            </tr><tr>\n",
       "                <td><strong>Lower bound</strong></td><td>0.0</td>\n",
       "            </tr><tr>\n",
       "                <td><strong>Upper bound</strong></td><td>1000.0</td>\n",
       "            </tr>\n",
       "        </table>\n",
       "        "
      ],
      "text/plain": [
       "<Reaction MAc4 at 0x1783dfec400>"
      ]
     },
     "execution_count": 277,
     "metadata": {},
     "output_type": "execute_result"
    }
   ],
   "source": [
    "r=model.reactions.get_by_id('MAc4')\n",
    "model.metabolites.murein4p4pOAc_p.charge=-4\n",
    "print(r.check_mass_balance())\n",
    "r"
   ]
  },
  {
   "cell_type": "code",
   "execution_count": 278,
   "id": "35d8c7a8-c1ce-4a38-b9f0-0ee199fe483c",
   "metadata": {},
   "outputs": [
    {
     "name": "stdout",
     "output_type": "stream",
     "text": [
      "{}\n"
     ]
    },
    {
     "data": {
      "text/html": [
       "\n",
       "        <table>\n",
       "            <tr>\n",
       "                <td><strong>Reaction identifier</strong></td><td>MAc5</td>\n",
       "            </tr><tr>\n",
       "                <td><strong>Name</strong></td><td>R_MAc5</td>\n",
       "            </tr><tr>\n",
       "                <td><strong>Memory address</strong></td>\n",
       "                <td>0x01783dfec5e0</td>\n",
       "            </tr><tr>\n",
       "                <td><strong>Stoichiometry</strong></td>\n",
       "                <td>\n",
       "                    <p style='text-align:right'>accoa_c + h2o_p + murein4p4pOAc_p --> coa_c + murein4p4pdOAc_p</p>\n",
       "                    <p style='text-align:right'>M_accoa_c + M_h2o_p + M_murein4p4pOAc_p --> M_coa_c + M_murein4p4pdOAc_p</p>\n",
       "                </td>\n",
       "            </tr><tr>\n",
       "                <td><strong>GPR</strong></td><td>NGO0533 and NGO0534</td>\n",
       "            </tr><tr>\n",
       "                <td><strong>Lower bound</strong></td><td>0.0</td>\n",
       "            </tr><tr>\n",
       "                <td><strong>Upper bound</strong></td><td>1000.0</td>\n",
       "            </tr>\n",
       "        </table>\n",
       "        "
      ],
      "text/plain": [
       "<Reaction MAc5 at 0x1783dfec5e0>"
      ]
     },
     "execution_count": 278,
     "metadata": {},
     "output_type": "execute_result"
    }
   ],
   "source": [
    "r=model.reactions.get_by_id('MAc5')\n",
    "model.metabolites.murein4p4pdOAc_p.charge=-4\n",
    "print(r.check_mass_balance())\n",
    "r"
   ]
  },
  {
   "cell_type": "code",
   "execution_count": 279,
   "id": "18b83ef6-0ace-44ee-8970-ed1f9bdd3ff7",
   "metadata": {},
   "outputs": [
    {
     "name": "stdout",
     "output_type": "stream",
     "text": [
      "{}\n"
     ]
    },
    {
     "data": {
      "text/html": [
       "\n",
       "        <table>\n",
       "            <tr>\n",
       "                <td><strong>Reaction identifier</strong></td><td>MAc6</td>\n",
       "            </tr><tr>\n",
       "                <td><strong>Name</strong></td><td>R_MAc6</td>\n",
       "            </tr><tr>\n",
       "                <td><strong>Memory address</strong></td>\n",
       "                <td>0x01783dfec790</td>\n",
       "            </tr><tr>\n",
       "                <td><strong>Stoichiometry</strong></td>\n",
       "                <td>\n",
       "                    <p style='text-align:right'>accoa_c + h2o_p + murein4p3p_p --> coa_c + murein4p3pOAc_p</p>\n",
       "                    <p style='text-align:right'>M_accoa_c + M_h2o_p + M_murein4p3p_p --> M_coa_c + M_murein4p3pOAc_p</p>\n",
       "                </td>\n",
       "            </tr><tr>\n",
       "                <td><strong>GPR</strong></td><td>NGO0533 and NGO0534</td>\n",
       "            </tr><tr>\n",
       "                <td><strong>Lower bound</strong></td><td>0.0</td>\n",
       "            </tr><tr>\n",
       "                <td><strong>Upper bound</strong></td><td>1000.0</td>\n",
       "            </tr>\n",
       "        </table>\n",
       "        "
      ],
      "text/plain": [
       "<Reaction MAc6 at 0x1783dfec790>"
      ]
     },
     "execution_count": 279,
     "metadata": {},
     "output_type": "execute_result"
    }
   ],
   "source": [
    "r=model.reactions.get_by_id('MAc6')\n",
    "model.metabolites.murein4p3pOAc_p.charge=-4\n",
    "print(r.check_mass_balance())\n",
    "r"
   ]
  },
  {
   "cell_type": "code",
   "execution_count": 280,
   "id": "2029b6b9-65ef-4043-b650-17781a33cef6",
   "metadata": {},
   "outputs": [
    {
     "name": "stdout",
     "output_type": "stream",
     "text": [
      "{}\n"
     ]
    },
    {
     "data": {
      "text/html": [
       "\n",
       "        <table>\n",
       "            <tr>\n",
       "                <td><strong>Reaction identifier</strong></td><td>MAc7</td>\n",
       "            </tr><tr>\n",
       "                <td><strong>Name</strong></td><td>R_MAc7</td>\n",
       "            </tr><tr>\n",
       "                <td><strong>Memory address</strong></td>\n",
       "                <td>0x01783dfec940</td>\n",
       "            </tr><tr>\n",
       "                <td><strong>Stoichiometry</strong></td>\n",
       "                <td>\n",
       "                    <p style='text-align:right'>accoa_c + h2o_p + murein4px4px4pOAc_p --> coa_c + murein4px4px4pdOAc_p</p>\n",
       "                    <p style='text-align:right'>M_accoa_c + M_h2o_p + M_murein4px4px4pOAc_p --> M_coa_c + M_murein4px4px4pdOAc_p</p>\n",
       "                </td>\n",
       "            </tr><tr>\n",
       "                <td><strong>GPR</strong></td><td>NGO0533 and NGO0534</td>\n",
       "            </tr><tr>\n",
       "                <td><strong>Lower bound</strong></td><td>0.0</td>\n",
       "            </tr><tr>\n",
       "                <td><strong>Upper bound</strong></td><td>1000.0</td>\n",
       "            </tr>\n",
       "        </table>\n",
       "        "
      ],
      "text/plain": [
       "<Reaction MAc7 at 0x1783dfec940>"
      ]
     },
     "execution_count": 280,
     "metadata": {},
     "output_type": "execute_result"
    }
   ],
   "source": [
    "r=model.reactions.get_by_id('MAc7')\n",
    "model.metabolites.murein4px4px4pdOAc_p.charge=-6\n",
    "print(r.check_mass_balance())\n",
    "r"
   ]
  },
  {
   "cell_type": "code",
   "execution_count": 281,
   "id": "99bf55c6-4328-4d57-ab58-f398cb51c53b",
   "metadata": {},
   "outputs": [
    {
     "name": "stdout",
     "output_type": "stream",
     "text": [
      "{}\n"
     ]
    },
    {
     "data": {
      "text/html": [
       "\n",
       "        <table>\n",
       "            <tr>\n",
       "                <td><strong>Reaction identifier</strong></td><td>MAc8</td>\n",
       "            </tr><tr>\n",
       "                <td><strong>Name</strong></td><td>R_MAc8</td>\n",
       "            </tr><tr>\n",
       "                <td><strong>Memory address</strong></td>\n",
       "                <td>0x01783dfecb20</td>\n",
       "            </tr><tr>\n",
       "                <td><strong>Stoichiometry</strong></td>\n",
       "                <td>\n",
       "                    <p style='text-align:right'>accoa_c + h2o_p + murein4px4px4pdOAc_p --> coa_c + murein4px4px4ptOAc_p</p>\n",
       "                    <p style='text-align:right'>M_accoa_c + M_h2o_p + M_murein4px4px4pdOAc_p --> M_coa_c + M_murein4px4px4ptOAc_p</p>\n",
       "                </td>\n",
       "            </tr><tr>\n",
       "                <td><strong>GPR</strong></td><td>NGO0533 and NGO0534</td>\n",
       "            </tr><tr>\n",
       "                <td><strong>Lower bound</strong></td><td>0.0</td>\n",
       "            </tr><tr>\n",
       "                <td><strong>Upper bound</strong></td><td>1000.0</td>\n",
       "            </tr>\n",
       "        </table>\n",
       "        "
      ],
      "text/plain": [
       "<Reaction MAc8 at 0x1783dfecb20>"
      ]
     },
     "execution_count": 281,
     "metadata": {},
     "output_type": "execute_result"
    }
   ],
   "source": [
    "r=model.reactions.get_by_id('MAc8')\n",
    "model.metabolites.murein4px4px4ptOAc_p.charge=-6\n",
    "print(r.check_mass_balance())\n",
    "r"
   ]
  },
  {
   "cell_type": "code",
   "execution_count": null,
   "id": "5e79f3f2-dd9c-4356-903b-05d51e0ed61d",
   "metadata": {},
   "outputs": [],
   "source": []
  },
  {
   "cell_type": "code",
   "execution_count": 282,
   "id": "06b6786d-a53f-430e-b1ff-5ee8063da906",
   "metadata": {},
   "outputs": [],
   "source": [
    "#Remaining imbalances are ok and due to proteinaceous components or reaction simplifications. "
   ]
  },
  {
   "cell_type": "code",
   "execution_count": 283,
   "id": "a57f38bb-89b6-4f6e-849f-9929e58f56c9",
   "metadata": {},
   "outputs": [
    {
     "name": "stdout",
     "output_type": "stream",
     "text": [
      "7 7 7\n"
     ]
    },
    {
     "data": {
      "text/html": [
       "<div>\n",
       "<style scoped>\n",
       "    .dataframe tbody tr th:only-of-type {\n",
       "        vertical-align: middle;\n",
       "    }\n",
       "\n",
       "    .dataframe tbody tr th {\n",
       "        vertical-align: top;\n",
       "    }\n",
       "\n",
       "    .dataframe thead th {\n",
       "        text-align: right;\n",
       "    }\n",
       "</style>\n",
       "<table border=\"1\" class=\"dataframe\">\n",
       "  <thead>\n",
       "    <tr style=\"text-align: right;\">\n",
       "      <th></th>\n",
       "      <th>Reactions</th>\n",
       "      <th>Charge</th>\n",
       "      <th>Masses</th>\n",
       "    </tr>\n",
       "  </thead>\n",
       "  <tbody>\n",
       "    <tr>\n",
       "      <th>0</th>\n",
       "      <td>BTS4</td>\n",
       "      <td></td>\n",
       "      <td>{'S': 1.0}</td>\n",
       "    </tr>\n",
       "    <tr>\n",
       "      <th>1</th>\n",
       "      <td>CYTCS</td>\n",
       "      <td>5.0</td>\n",
       "      <td>{'C': 8.0, 'H': 14.0, 'N': 4.0, 'O': 4.0, 'S':...</td>\n",
       "    </tr>\n",
       "    <tr>\n",
       "      <th>2</th>\n",
       "      <td>HGFE</td>\n",
       "      <td>-8.0</td>\n",
       "      <td>{}</td>\n",
       "    </tr>\n",
       "    <tr>\n",
       "      <th>3</th>\n",
       "      <td>MDDCP6pp</td>\n",
       "      <td>6.0</td>\n",
       "      <td>{'H': 3.0, 'N': -6.0}</td>\n",
       "    </tr>\n",
       "    <tr>\n",
       "      <th>4</th>\n",
       "      <td>PHEMEFErel</td>\n",
       "      <td>7.0</td>\n",
       "      <td>{}</td>\n",
       "    </tr>\n",
       "    <tr>\n",
       "      <th>5</th>\n",
       "      <td>PMCOAS</td>\n",
       "      <td>-1.0</td>\n",
       "      <td>{'C': 7.0, 'H': 9.0, 'O': 3.0}</td>\n",
       "    </tr>\n",
       "    <tr>\n",
       "      <th>6</th>\n",
       "      <td>CYPOX</td>\n",
       "      <td>-2.0</td>\n",
       "      <td>{}</td>\n",
       "    </tr>\n",
       "  </tbody>\n",
       "</table>\n",
       "</div>"
      ],
      "text/plain": [
       "    Reactions Charge                                             Masses\n",
       "0        BTS4                                                {'S': 1.0}\n",
       "1       CYTCS    5.0  {'C': 8.0, 'H': 14.0, 'N': 4.0, 'O': 4.0, 'S':...\n",
       "2        HGFE   -8.0                                                 {}\n",
       "3    MDDCP6pp    6.0                              {'H': 3.0, 'N': -6.0}\n",
       "4  PHEMEFErel    7.0                                                 {}\n",
       "5      PMCOAS   -1.0                     {'C': 7.0, 'H': 9.0, 'O': 3.0}\n",
       "6       CYPOX   -2.0                                                 {}"
      ]
     },
     "execution_count": 283,
     "metadata": {},
     "output_type": "execute_result"
    }
   ],
   "source": [
    "#After bulk removing cofactors, what reaction imbalances remain?\n",
    "reactions = []\n",
    "charge = []\n",
    "mass = []\n",
    "for react in model.reactions:\n",
    "    result = react.check_mass_balance()\n",
    "    if 'EX_' in  react.id:\n",
    "        continue\n",
    "    if 'Nm_' in  react.id:\n",
    "        continue\n",
    "    if 'DM_' in  react.id:\n",
    "        continue \n",
    "    if react.id in biomass_reactions:\n",
    "        continue\n",
    "    if len(result) == 0:\n",
    "        continue\n",
    "    else: \n",
    "        reactions.append(react.id)\n",
    "        masses = {}\n",
    "        for key in result.keys():\n",
    "            if key == 'charge':\n",
    "                charge.append(result['charge'])\n",
    "            else:\n",
    "                masses[key] = result[key]\n",
    "        if 'charge' not in result.keys():\n",
    "            charge.append('')\n",
    "        mass.append(masses)\n",
    "print(len(reactions), len(charge), len(mass))\n",
    "\n",
    "mass_charge_dict = {'Reactions': reactions, 'Charge': charge, 'Masses': mass}\n",
    "mass_charge = pandas.DataFrame(mass_charge_dict)\n",
    "mass_charge.to_csv('imbalancesremaining.csv')\n",
    "mass_charge"
   ]
  },
  {
   "cell_type": "code",
   "execution_count": 284,
   "id": "a7c61f00-f295-4f97-ba4c-0ae0f60e4b4b",
   "metadata": {},
   "outputs": [
    {
     "name": "stdout",
     "output_type": "stream",
     "text": [
      "Ngo_533- metabolites : 1340\n",
      "Ngo_533- reactions : 1433\n",
      "Ngo_533- genes : 560\n"
     ]
    }
   ],
   "source": [
    "print(\"Ngo_533- metabolites :\", len(model.metabolites))\n",
    "print(\"Ngo_533- reactions :\", len(model.reactions))\n",
    "print(\"Ngo_533- genes :\", len(model.genes))"
   ]
  },
  {
   "cell_type": "code",
   "execution_count": 285,
   "id": "0a03a46c-f7ed-4b31-8056-0ed63ec9985e",
   "metadata": {},
   "outputs": [
    {
     "name": "stdout",
     "output_type": "stream",
     "text": [
      "RPMI 1.1805315902906208\n",
      "MDM 1.241330539428735\n",
      "RPMI_molarity 0.27174347285720757\n",
      "Complete media 1.8729354491783996\n"
     ]
    }
   ],
   "source": [
    "model.objective='Nm_Ess_biomass'\n",
    "rpmi(model)\n",
    "print ('RPMI',model.slim_optimize())\n",
    "mdm(model)\n",
    "print ('MDM', model.slim_optimize())\n",
    "rpmi_molarity(model)\n",
    "print ('RPMI_molarity', model.slim_optimize())\n",
    "complete(model)\n",
    "print('Complete media', model.slim_optimize())"
   ]
  },
  {
   "cell_type": "code",
   "execution_count": 286,
   "id": "b64ccf2c-054d-4ef9-8bf7-52a16e9e4a0a",
   "metadata": {
    "scrolled": true
   },
   "outputs": [],
   "source": [
    "#Biomass\n",
    "#https://pubmed.ncbi.nlm.nih.gov/27939572/\n",
    "#Integration of Biomass Formulations of Genome-Scale Metabolic Models with Experimental Data \n",
    "#Reveals Universally Essential Cofactors in Prokaryotes\n",
    "#Joana C Xavier, Kiran Raosaheb Patil, Isabel Rocha\n",
    "#PMID: 27939572 PMCID: PMC5249239\n",
    "\n",
    "#Gc is missing as biomass components that were found to be universally essential:\n",
    "#All of these components are metabolites in the model and just need to be added to the biomass equation.\n",
    "#_acp\n",
    "#_amp\n",
    "#_cmp\n",
    "#_gmp\n",
    "#_cdp\n",
    "#_gdp\n",
    "\n",
    "#Add ACP as a biomass component\n",
    "\n",
    "\n",
    "\n",
    "\n",
    "r=model.reactions.get_by_id('Nm_Ess_biomass')\n",
    "pa120_p=model.metabolites.get_by_id('pa120_p')\n",
    "pa140_p=model.metabolites.get_by_id('pa140_p')\n",
    "pa160_p=model.metabolites.get_by_id('pa160_p')\n",
    "pa180_p=model.metabolites.get_by_id('pa180_p')\n",
    "pa141_p=model.metabolites.get_by_id('pa141_p')\n",
    "pa161_p=model.metabolites.get_by_id('pa161_p')\n",
    "pa181_p=model.metabolites.get_by_id('pa181_p')\n",
    "pe120_p=model.metabolites.get_by_id('pe120_p')\n",
    "pe140_p=model.metabolites.get_by_id('pe140_p')\n",
    "pe160_p=model.metabolites.get_by_id('pe160_p')\n",
    "pe180_p=model.metabolites.get_by_id('pe180_p')\n",
    "pe141_p=model.metabolites.get_by_id('pe141_p')\n",
    "pe161_p=model.metabolites.get_by_id('pe161_p')\n",
    "pe181_p=model.metabolites.get_by_id('pe181_p')\n",
    "pg120_p=model.metabolites.get_by_id('pg120_p')\n",
    "pg140_p=model.metabolites.get_by_id('pg140_p')\n",
    "pg160_p=model.metabolites.get_by_id('pg160_p')\n",
    "pg180_p=model.metabolites.get_by_id('pg180_p')\n",
    "pg141_p=model.metabolites.get_by_id('pg141_p')\n",
    "pg161a_p=model.metabolites.get_by_id('pg161_p')\n",
    "pg181c_p=model.metabolites.get_by_id('pg181_p')\n",
    "los_GC_c=model.metabolites.get_by_id('los_GC_c')\n",
    "murein4px4px4pOAc_p=model.metabolites.get_by_id('murein4px4px4pOAc_p')\n",
    "murein4p4p4pOAc_p=model.metabolites.get_by_id('murein4p4p4pOAc_p')\n",
    "asp_L_c=model.metabolites.get_by_id('asp_L_c')\n",
    "glu_L_c=model.metabolites.get_by_id('glu_L_c')\n",
    "ser_L_c=model.metabolites.get_by_id('ser_L_c')\n",
    "his_L_c=model.metabolites.get_by_id('his_L_c')\n",
    "gly_c=model.metabolites.get_by_id('gly_c')\n",
    "thr_L_c=model.metabolites.get_by_id('thr_L_c')\n",
    "ala_L_c=model.metabolites.get_by_id('ala_L_c')\n",
    "arg_L_c=model.metabolites.get_by_id('arg_L_c')\n",
    "tyr_L_c=model.metabolites.get_by_id('tyr_L_c')\n",
    "val_L_c=model.metabolites.get_by_id('val_L_c')\n",
    "met_L_c=model.metabolites.get_by_id('met_L_c')\n",
    "phe_L_c=model.metabolites.get_by_id('phe_L_c')\n",
    "ile_L_c=model.metabolites.get_by_id('ile_L_c')\n",
    "leu_L_c=model.metabolites.get_by_id('leu_L_c')\n",
    "lys_L_c=model.metabolites.get_by_id('lys_L_c')\n",
    "pro_L_c=model.metabolites.get_by_id('pro_L_c')\n",
    "asn_L_c=model.metabolites.get_by_id('asn_L_c')\n",
    "trp_L_c=model.metabolites.get_by_id('trp_L_c')\n",
    "cys_L_c=model.metabolites.get_by_id('cys_L_c')\n",
    "gln_L_c=model.metabolites.get_by_id('gln_L_c')\n",
    "datp_c=model.metabolites.get_by_id('datp_c')\n",
    "dttp_c=model.metabolites.get_by_id('dttp_c')\n",
    "dgtp_c=model.metabolites.get_by_id('dgtp_c')\n",
    "dctp_c=model.metabolites.get_by_id('dctp_c')\n",
    "atp_c=model.metabolites.get_by_id('atp_c')\n",
    "utp_c=model.metabolites.get_by_id('utp_c')\n",
    "gtp_c=model.metabolites.get_by_id('gtp_c')\n",
    "ctp_c=model.metabolites.get_by_id('ctp_c')\n",
    "fthf_c=model.metabolites.get_by_id('10fthf_c')\n",
    "ohph_c=model.metabolites.get_by_id('2ohph_c')\n",
    "amet_c=model.metabolites.get_by_id('amet_c')\n",
    "ca2_c=model.metabolites.get_by_id('ca2_c')\n",
    "cl_c=model.metabolites.get_by_id('cl_c')\n",
    "coa_c=model.metabolites.get_by_id('coa_c')\n",
    "cobalt2_c=model.metabolites.get_by_id('cobalt2_c')\n",
    "cu2_c=model.metabolites.get_by_id('cu2_c')\n",
    "fad_c=model.metabolites.get_by_id('fad_c')\n",
    "fe2_c=model.metabolites.get_by_id('fe2_c')\n",
    "fe3_c=model.metabolites.get_by_id('fe3_c')\n",
    "k_c=model.metabolites.get_by_id('k_c')\n",
    "mg2_c=model.metabolites.get_by_id('mg2_c')\n",
    "mlthf_c=model.metabolites.get_by_id('mlthf_c')\n",
    "mn2_c=model.metabolites.get_by_id('mn2_c')\n",
    "mobd_c=model.metabolites.get_by_id('mobd_c')\n",
    "nad_c=model.metabolites.get_by_id('nad_c')\n",
    "nadp_c=model.metabolites.get_by_id('nadp_c')\n",
    "nh4_c=model.metabolites.get_by_id('nh4_c')\n",
    "pheme_c=model.metabolites.get_by_id('pheme_c')\n",
    "pydx5p_c=model.metabolites.get_by_id('pydx5p_c')\n",
    "ribflv_c=model.metabolites.get_by_id('ribflv_c')\n",
    "sheme_c=model.metabolites.get_by_id('sheme_c')\n",
    "so4_c=model.metabolites.get_by_id('so4_c')\n",
    "thf_c=model.metabolites.get_by_id('thf_c')\n",
    "thmpp_c=model.metabolites.get_by_id('thmpp_c')\n",
    "udcpdp_c=model.metabolites.get_by_id('udcpdp_c')\n",
    "zn2_c=model.metabolites.get_by_id('zn2_c')\n",
    "h_c=model.metabolites.get_by_id('h_c')\n",
    "pi_c=model.metabolites.get_by_id('pi_c')\n",
    "adp_c=model.metabolites.get_by_id('adp_c')\n",
    "biomass=model.metabolites.get_by_id('biomass')\n",
    "capsule_NM_e=model.metabolites.get_by_id('capsule_NM_e')\n",
    "dna_c=model.metabolites.get_by_id('dna_c')\n",
    "rna_c=model.metabolites.get_by_id('rna_c')\n",
    "pepglycan_p=model.metabolites.get_by_id('pepglycan_p')\n",
    "protein=model.metabolites.get_by_id('protein')\n",
    "lipid_NM_p=model.metabolites.get_by_id('lipid_NM_p')\n",
    "ptrc_c=model.metabolites.get_by_id('ptrc_c')\n"
   ]
  },
  {
   "cell_type": "code",
   "execution_count": 287,
   "id": "4de895ad-5fc9-47b8-b9f0-191edda4fbb5",
   "metadata": {},
   "outputs": [],
   "source": [
    "#remove Nm_biomass components\n",
    "r=model.reactions.Nm_biomass\n",
    "r.add_metabolites({\n",
    "    fthf_c:0.000223,\n",
    "    ohph_c:0.000223,\n",
    "    amet_c:0.000223,\n",
    "    atp_c:52.84,\n",
    "    ca2_c:0.004737,\n",
    "    capsule_NM_e:0.00146,\n",
    "    cl_c:0.004737,\n",
    "    coa_c:0.000576,\n",
    "    cobalt2_c:0.003158,\n",
    "    cu2_c:0.003158,\n",
    "    dna_c:0.0798,\n",
    "    fad_c:0.000223,\n",
    "    fe2_c:0.007106,\n",
    "    fe3_c:0.007106,\n",
    "    h2o_c:52.84,\n",
    "    k_c:0.1776,\n",
    "    lipid_NM_p:0.1483,\n",
    "    mg2_c:0.007895,\n",
    "    mlthf_c:0.000223,\n",
    "    mn2_c:0.003158,\n",
    "    mobd_c:0.003158,\n",
    "    nad_c:0.001831,\n",
    "    nadp_c:0.000447,\n",
    "    nh4_c:0.011843,\n",
    "    pepglycan_p:0.1389,\n",
    "    pheme_c:0.000223,\n",
    "    protein:5.55,\n",
    "    ptrc_c:0.0077376,\n",
    "    pydx5p_c:0.000223,\n",
    "    ribflv_c:0.000223,\n",
    "    rna_c:0.4432,\n",
    "    sheme_c:0.000223,\n",
    "    so4_c:0.003948,\n",
    "    thf_c:0.000223,\n",
    "    thmpp_c:0.000223,\n",
    "    udcpdp_c:0.000055,\n",
    "    zn2_c:0.003158,\n",
    "    h_c:-52.84,\n",
    "    pi_c:-52.84,\n",
    "    adp_c:-52.84,\n",
    "    biomass:-1,})\n"
   ]
  },
  {
   "cell_type": "code",
   "execution_count": 288,
   "id": "0362e7e5-da65-425d-8de7-7ca9a9837979",
   "metadata": {},
   "outputs": [],
   "source": [
    "#New biomass equation for Gc\n",
    "r=model.reactions.Nm_biomass\n",
    "r.add_metabolites({\n",
    "    pa120_p:-0.000503555042155509,\n",
    "    pa140_p:-0,\n",
    "    pa160_p:-0.00207597350252432,\n",
    "    pa180_p:-0.000290080640591335,\n",
    "    pa141_p:-0.000371731800974898,\n",
    "    pa161_p:-0.00564538392418283,\n",
    "    pa181_p:-0.00216477129604764,\n",
    "    pe120_p:-0.00234345993674653,\n",
    "    pe140_p:-0.0025598346977071,\n",
    "    pe160_p:-0.055748823259178,\n",
    "    pe180_p:-0.00137834776769998,\n",
    "    pe141_p:-0.00821977537556325,\n",
    "    pe161_p:-0.0255682154771119,\n",
    "    pe181_p:-0.0102822273478348,\n",
    "    pg120_p:-0.000703620745734723,\n",
    "    pg140_p:-3.03207570481577E-05,\n",
    "    pg160_p:-0.0122303684865845,\n",
    "    pg180_p:-0.000418944804169265,\n",
    "    pg141_p:-0.00290595573235281,\n",
    "    pg161a_p:-0.00862596402374158,\n",
    "    pg181c_p:-0.00312454317572049,\n",
    "    los_GC_c:-0.0129924495638587,\n",
    "    murein4px4px4pOAc_p:-0.005556,\n",
    "    murein4p4p4pOAc_p:-0.008334,\n",
    "    asp_L_c:-0.328506488951245,\n",
    "    glu_L_c:-0.417926718513411,\n",
    "    ser_L_c:-0.298519204391151,\n",
    "    his_L_c:-0.101130783859868,\n",
    "    gly_c:-0.63200279142024,\n",
    "    thr_L_c:-0.289017233514768,\n",
    "    ala_L_c:-0.801362443841416,\n",
    "    arg_L_c:-0.326223794247415,\n",
    "    tyr_L_c:-0.142730093324994,\n",
    "    val_L_c:-0.43926986171134,\n",
    "    met_L_c:-0.102311261238582,\n",
    "    phe_L_c:-0.199024522901412,\n",
    "    ile_L_c:-0.291900141026265,\n",
    "    leu_L_c:-0.472627376778854,\n",
    "    lys_L_c:-0.351058182823571,\n",
    "    pro_L_c:-0.246449661470245,\n",
    "    asn_L_c:-0.251609961417047,\n",
    "    trp_L_c:-0.0689480779843109,\n",
    "    cys_L_c:-0.0606915932106025,\n",
    "    gln_L_c:-0.246224295606094,\n",
    "    datp_c:-0.0193660372420178,\n",
    "    dttp_c:-0.0193660372420178,\n",
    "    dgtp_c:-0.0205433507259598,\n",
    "    dctp_c:-0.0205433507259598,\n",
    "    atp_c:-0.108889121528625,\n",
    "    utp_c:-0.108889121528625,\n",
    "    gtp_c:-0.112753363956914,\n",
    "    ctp_c:-0.112753363956914,\n",
    "    fthf_c:-0.000223,\n",
    "    ohph_c:-0.000223,\n",
    "    amet_c:-0.000223,\n",
    "    ca2_c:-0.004737,\n",
    "    cl_c:-0.004737,\n",
    "    coa_c:-0.000576,\n",
    "    cobalt2_c:-0.003158,\n",
    "    cu2_c:-0.003158,\n",
    "    fad_c:-0.000223,\n",
    "    fe2_c:-0.007106,\n",
    "    fe3_c:-0.007106,\n",
    "    k_c:-0.1776,\n",
    "    mg2_c:-0.007895,\n",
    "    mlthf_c:-0.000223,\n",
    "    mn2_c:-0.003158,\n",
    "    mobd_c:-0.003158,\n",
    "    nad_c:-0.001831,\n",
    "    nadp_c:-0.000447,\n",
    "    nh4_c:-0.11843,\n",
    "    pheme_c:-0.000223,\n",
    "    pydx5p_c:-0.000223,\n",
    "    ribflv_c:-0.000223,\n",
    "    sheme_c:-0.000223,\n",
    "    so4_c:-0.003948,\n",
    "    thf_c:-0.000223,\n",
    "    thmpp_c:-0.000223,\n",
    "    udcpdp_c:-0.000055,\n",
    "    zn2_c:-0.003158,\n",
    "    atp_c: -52.84,\n",
    "    h_c:52.84,\n",
    "    pi_c:52.84,\n",
    "    adp_c:52.84,\n",
    "    biomass:1,\n",
    "    })\n",
    "\n",
    "r.name='biomass'\n",
    "r.id='biomass'"
   ]
  },
  {
   "cell_type": "code",
   "execution_count": 289,
   "id": "c105e664-e4f0-4622-bdec-81d8d0e4b068",
   "metadata": {},
   "outputs": [],
   "source": [
    "model.objective='biomass'"
   ]
  },
  {
   "cell_type": "code",
   "execution_count": 290,
   "id": "73d8be69-50e9-45b8-bc71-60f0298da845",
   "metadata": {},
   "outputs": [
    {
     "name": "stdout",
     "output_type": "stream",
     "text": [
      "RPMI 1.5748164611774584\n",
      "MDM 1.6558002724411476\n",
      "RPMI_molarity 0.2849964780785233\n",
      "Complete media 2.4998508320954747\n"
     ]
    }
   ],
   "source": [
    "rpmi(model)\n",
    "print ('RPMI',model.slim_optimize())\n",
    "mdm(model)\n",
    "print ('MDM', model.slim_optimize())\n",
    "rpmi_molarity(model)\n",
    "print ('RPMI_molarity', model.slim_optimize())\n",
    "complete(model)\n",
    "print('Complete media', model.slim_optimize())"
   ]
  },
  {
   "cell_type": "code",
   "execution_count": 291,
   "id": "24606480-4364-4907-9738-2cc911291751",
   "metadata": {},
   "outputs": [
    {
     "name": "stdout",
     "output_type": "stream",
     "text": [
      "Complete media 2.499850832095472\n"
     ]
    },
    {
     "name": "stderr",
     "output_type": "stream",
     "text": [
      "C:\\Users\\Aimee\\anaconda3\\lib\\site-packages\\cobra\\core\\model.py:727: UserWarning: need to pass in a list\n",
      "  warn(\"need to pass in a list\")\n"
     ]
    }
   ],
   "source": [
    "model.remove_reactions('PLIPIDS')\n",
    "model.remove_reactions('PLIPIDS_ESS')\n",
    "model.remove_reactions('PEPGLY')\n",
    "model.remove_reactions('PROTS')\n",
    "model.remove_reactions('DNAS')\n",
    "model.remove_reactions('RNAS')\n",
    "model.remove_reactions('Nm_Ess_biomass')\n",
    "model.remove_reactions('Nm_Baart_biomass')\n",
    "model.remove_reactions('DM_CAPBIOMASS')\n",
    "model.remove_reactions('DM_ESSBIOMASS')\n",
    "\n",
    "print('Complete media', model.slim_optimize())"
   ]
  },
  {
   "cell_type": "code",
   "execution_count": 292,
   "id": "05b4483e-9b1c-4965-87c3-d31d4d57a54e",
   "metadata": {
    "scrolled": true
   },
   "outputs": [],
   "source": [
    "model.metabolites.trp_L_c.annotation['bigg.metabolite'] = 'trp__L'"
   ]
  },
  {
   "cell_type": "code",
   "execution_count": 293,
   "id": "31fdcb62-a0a4-4913-9a58-d3d8b259efd3",
   "metadata": {},
   "outputs": [
    {
     "name": "stdout",
     "output_type": "stream",
     "text": [
      "RPMI 1.5748164611774143\n",
      "MDM 1.6558002724413403\n",
      "RPMI_molarity 0.28499647807840733\n",
      "Complete media 2.4998508320953516\n"
     ]
    }
   ],
   "source": [
    "rpmi(model)\n",
    "print ('RPMI',model.slim_optimize())\n",
    "mdm(model)\n",
    "print ('MDM', model.slim_optimize())\n",
    "rpmi_molarity(model)\n",
    "print ('RPMI_molarity', model.slim_optimize())\n",
    "complete(model)\n",
    "print('Complete media', model.slim_optimize())"
   ]
  },
  {
   "cell_type": "code",
   "execution_count": 294,
   "id": "106c6e54-1a4b-4c2a-9f32-c6a2bfd1d4b5",
   "metadata": {
    "scrolled": true,
    "tags": []
   },
   "outputs": [],
   "source": [
    "#Add exchange reactions for extracellular reactions that are missing, or delete metabolites as appropriate\n",
    "exchanges=[]\n",
    "exchanges_mets=[]\n",
    "extracellular=[]\n",
    "for metabolite in model.metabolites:\n",
    "    if metabolite.compartment == 'extracellular':\n",
    "        extracellular.append(metabolite.id)\n",
    "    else :\n",
    "        pass\n",
    "\n",
    "for reaction in model.reactions:\n",
    "    if \"EX_\" in reaction.id:\n",
    "        exchanges.append(reaction.id)\n",
    "\n",
    "for x in exchanges:\n",
    "    for metabolites in model.reactions.get_by_id(x).metabolites:\n",
    "        exchanges_mets.append(metabolites.id)"
   ]
  },
  {
   "cell_type": "code",
   "execution_count": 295,
   "id": "79dde88e-4709-4ee5-bb79-fb46be95eda2",
   "metadata": {},
   "outputs": [
    {
     "name": "stdout",
     "output_type": "stream",
     "text": [
      "ag_e\n",
      "capsule_NM_e\n",
      "glcn_e\n",
      "acald_e\n"
     ]
    }
   ],
   "source": [
    "for x in extracellular:\n",
    "    if x in exchanges_mets:\n",
    "        pass\n",
    "    else:\n",
    "        print(x)"
   ]
  },
  {
   "cell_type": "code",
   "execution_count": 298,
   "id": "49557d3d-40e7-4c34-9b37-39691c5aa41a",
   "metadata": {},
   "outputs": [],
   "source": [
    "#acald export was previously deleted as it is not detected extracellularly in Gc cultures. removed extracellular acald as a metabolite.  \n",
    "acald_e = model.metabolites.acald_e\n",
    "model.remove_metabolites(acald_e)\n",
    "ACALDtex=model.reactions.ACALDtex\n",
    "model.remove_reactions(ACALDtex)\n",
    "\n",
    "#gluconate is not thought to be imported/used as a carbon source by neisseria (https://www.karger.com/Article/FullText/447093)\n",
    "glcn_e=model.metabolites.glcn_e\n",
    "model.remove_metabolites(glcn_e)\n",
    "\n",
    "#delete capsule metabolite, which is not produced by Gc\n",
    "capsule=model.metabolites.capsule_NM_e\n",
    "model.remove_metabolites(capsule)\n",
    "\n",
    "#add exchange reaction for silver\n",
    "reaction = Reaction('EX_ag_e')\n",
    "reaction.name = 'EX of Ag_e'\n",
    "reaction.subsystem = 'Exchange'\n",
    "reaction.lower_bound = 0\n",
    "reaction.upper_bound = 0\n",
    "reaction.annotation = {'sbo': 'SBO:0000627'}\n",
    "reaction.add_metabolites({model.metabolites.ag_e: -1.0})\n",
    "reaction.notes['NOTES'] = 'Added exchange reaction that was missing'\n",
    "model.add_reactions([reaction])"
   ]
  },
  {
   "cell_type": "code",
   "execution_count": 299,
   "id": "79e1d4a5-f1bd-40bd-b09b-ca126877a599",
   "metadata": {},
   "outputs": [],
   "source": [
    "#delete orphan metabolties left over from reconstruction curation process\n",
    "orphan_mets=[]\n",
    "for metabolite in model.metabolites:\n",
    "    if len(metabolite.reactions) == 0:\n",
    "        orphan_mets.append(metabolite.id)\n",
    "\n",
    "for mets in orphan_mets:\n",
    "    m=model.metabolites.get_by_id(mets)\n",
    "    model.remove_metabolites(m)"
   ]
  },
  {
   "cell_type": "code",
   "execution_count": 300,
   "id": "d3e6b769-445e-4738-94f5-5ef552ee6696",
   "metadata": {},
   "outputs": [
    {
     "data": {
      "text/html": [
       "\n",
       "        <table>\n",
       "            <tr>\n",
       "                <td><strong>Metabolite identifier</strong></td><td>pro_L_c</td>\n",
       "            </tr><tr>\n",
       "                <td><strong>Name</strong></td><td>M_pro_L_c</td>\n",
       "            </tr><tr>\n",
       "                <td><strong>Memory address</strong></td>\n",
       "                <td>0x01783dbba1f0</td>\n",
       "            </tr><tr>\n",
       "                <td><strong>Formula</strong></td><td>C5H9NO2</td>\n",
       "            </tr><tr>\n",
       "                <td><strong>Compartment</strong></td><td>cytoplasm</td>\n",
       "            </tr><tr>\n",
       "                <td><strong>In 7 reaction(s)</strong></td><td>\n",
       "                    biomass, PROabcpp, P5CR, PROt2rpp, PROt1pp, PROD2, PROHX</td>\n",
       "            </tr>\n",
       "        </table>"
      ],
      "text/plain": [
       "<Metabolite pro_L_c at 0x1783dbba1f0>"
      ]
     },
     "execution_count": 300,
     "metadata": {},
     "output_type": "execute_result"
    }
   ],
   "source": [
    "pro_L_c"
   ]
  },
  {
   "cell_type": "code",
   "execution_count": 301,
   "id": "4f608f7a-33a7-4524-ab14-6383c41ada7d",
   "metadata": {},
   "outputs": [
    {
     "data": {
      "text/html": [
       "\n",
       "        <table>\n",
       "            <tr>\n",
       "                <td><strong>Reaction identifier</strong></td><td>AMPTASEPG</td>\n",
       "            </tr><tr>\n",
       "                <td><strong>Name</strong></td><td>Aminopeptidase (pro-gly)</td>\n",
       "            </tr><tr>\n",
       "                <td><strong>Memory address</strong></td>\n",
       "                <td>0x01783e3a8ee0</td>\n",
       "            </tr><tr>\n",
       "                <td><strong>Stoichiometry</strong></td>\n",
       "                <td>\n",
       "                    <p style='text-align:right'>h2o_c + progly_c --> gly_c + pro_L_c</p>\n",
       "                    <p style='text-align:right'>M_h2o_c + L-Prolinylglycine --> M_gly_c + M_pro_L_c</p>\n",
       "                </td>\n",
       "            </tr><tr>\n",
       "                <td><strong>GPR</strong></td><td>NGO1227</td>\n",
       "            </tr><tr>\n",
       "                <td><strong>Lower bound</strong></td><td>0.0</td>\n",
       "            </tr><tr>\n",
       "                <td><strong>Upper bound</strong></td><td>1000.0</td>\n",
       "            </tr>\n",
       "        </table>\n",
       "        "
      ],
      "text/plain": [
       "<Reaction AMPTASEPG at 0x1783e3a8ee0>"
      ]
     },
     "execution_count": 301,
     "metadata": {},
     "output_type": "execute_result"
    }
   ],
   "source": [
    "r=model.reactions.AMPTASEPG\n",
    "pro__L_c = model.metabolites.pro__L_c\n",
    "\n",
    "r.add_metabolites({\n",
    "    pro_L_c: 1.0,\n",
    "    pro__L_c: -1.0})\n",
    "\n",
    "\n",
    "r"
   ]
  },
  {
   "cell_type": "code",
   "execution_count": 303,
   "id": "7d5e0e3a-6749-437f-8af9-571888fc2637",
   "metadata": {},
   "outputs": [],
   "source": [
    "model.remove_metabolites(pro__L_c)"
   ]
  },
  {
   "cell_type": "code",
   "execution_count": 302,
   "id": "6529ea85-5a70-49ee-b162-b64663dfa043",
   "metadata": {},
   "outputs": [],
   "source": [
    "#This gene catalyzes a bidirection conversion of alanine into pyruvate. However, although the enzyme is technically birectional,\n",
    "#in e.coli alanine transaminase expretion is supressed in the presence of alanine and the downstream product leucine. \n",
    "#Additionally, Gc is not capable of growing on alanine as a carbon source. https://www.ncbi.nlm.nih.gov/pmc/articles/PMC2950514/\n",
    "#As such, this is likely not a catabolic enzyme. I am limiting it to the synthesis of alanine only. \n",
    "model.reactions.ALATA_L.upper_bound=0"
   ]
  },
  {
   "cell_type": "code",
   "execution_count": 304,
   "id": "89359888-4185-4799-ac0c-b4c79925c865",
   "metadata": {},
   "outputs": [
    {
     "data": {
      "text/plain": [
       "560"
      ]
     },
     "execution_count": 304,
     "metadata": {},
     "output_type": "execute_result"
    }
   ],
   "source": [
    "len(model.genes)"
   ]
  },
  {
   "cell_type": "code",
   "execution_count": null,
   "id": "e8e5e45a-f5b8-4b6b-8b8b-acfdb7ecda32",
   "metadata": {},
   "outputs": [],
   "source": []
  },
  {
   "cell_type": "code",
   "execution_count": 305,
   "id": "08d81dde-9856-4e8e-9281-40e5a6f5a17a",
   "metadata": {},
   "outputs": [],
   "source": [
    "#Subtract Sgene and Orphan gene for naming\n",
    "model.id ='NGO_558'"
   ]
  },
  {
   "cell_type": "code",
   "execution_count": 306,
   "id": "57c364f5-d147-4ffb-98a2-0b5615e6b267",
   "metadata": {},
   "outputs": [
    {
     "data": {
      "text/html": [
       "\n",
       "        <table>\n",
       "            <tr>\n",
       "                <td><strong>Name</strong></td>\n",
       "                <td>NGO_558</td>\n",
       "            </tr><tr>\n",
       "                <td><strong>Memory address</strong></td>\n",
       "                <td>0x01783cb76460</td>\n",
       "            </tr><tr>\n",
       "                <td><strong>Number of metabolites</strong></td>\n",
       "                <td>1263</td>\n",
       "            </tr><tr>\n",
       "                <td><strong>Number of reactions</strong></td>\n",
       "                <td>1423</td>\n",
       "            </tr><tr>\n",
       "                <td><strong>Number of groups</strong></td>\n",
       "                <td>0</td>\n",
       "            </tr><tr>\n",
       "                <td><strong>Objective expression</strong></td>\n",
       "                <td>1.0*biomass - 1.0*biomass_reverse_01e59</td>\n",
       "            </tr><tr>\n",
       "                <td><strong>Compartments</strong></td>\n",
       "                <td>periplasm, cytoplasm, extracellular</td>\n",
       "            </tr>\n",
       "          </table>"
      ],
      "text/plain": [
       "<Model NGO_558 at 0x1783cb76460>"
      ]
     },
     "execution_count": 306,
     "metadata": {},
     "output_type": "execute_result"
    }
   ],
   "source": [
    "model"
   ]
  },
  {
   "cell_type": "code",
   "execution_count": 307,
   "id": "b7462d06-d139-4361-9852-c0b0e9bad799",
   "metadata": {
    "scrolled": true
   },
   "outputs": [],
   "source": [
    "cobra.io.write_sbml_model(model, 'C:/Users/Aimee/Documents/UVA/Metabolic_Modeling/organized/models/annotatedGCmodel.xml')"
   ]
  },
  {
   "cell_type": "code",
   "execution_count": 308,
   "id": "a80b0163-2a16-492f-bd59-03d646b80c16",
   "metadata": {
    "scrolled": true
   },
   "outputs": [],
   "source": [
    "cobra.io.save_json_model(model, 'C:/Users/Aimee/Documents/UVA/Metabolic_Modeling/organized/models/annotatedGCmodel.json')"
   ]
  },
  {
   "cell_type": "code",
   "execution_count": null,
   "id": "eb40b6a8-fa61-4128-b889-c078816da027",
   "metadata": {},
   "outputs": [],
   "source": []
  }
 ],
 "metadata": {
  "kernelspec": {
   "display_name": "Python 3",
   "language": "python",
   "name": "python3"
  },
  "language_info": {
   "codemirror_mode": {
    "name": "ipython",
    "version": 3
   },
   "file_extension": ".py",
   "mimetype": "text/x-python",
   "name": "python",
   "nbconvert_exporter": "python",
   "pygments_lexer": "ipython3",
   "version": "3.8.8"
  }
 },
 "nbformat": 4,
 "nbformat_minor": 5
}
