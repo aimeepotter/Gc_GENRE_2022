{
 "cells": [
  {
   "cell_type": "code",
   "execution_count": 1,
   "id": "99666ff6-e678-432e-bd24-40556d9d240a",
   "metadata": {},
   "outputs": [],
   "source": [
    "import cobra\n",
    "\n",
    "import math\n",
    "nlog2 = math.log(2)\n",
    "\n",
    "def doubling_time(model):\n",
    "    with model as m:\n",
    "        ov = m.slim_optimize()\n",
    "        if ov < 1e-6:\n",
    "            growth = 'No growth'\n",
    "        else:  \n",
    "            growth = nlog2*60/ov\n",
    "            growth = str(round(growth, 3)) + ' minutes'\n",
    "        \n",
    "    return growth\n",
    "\n",
    "# Quicker way to read in models\n",
    "import pickle\n",
    "def read_model(fileName, obj='none'):\n",
    "    \n",
    "    fileType = fileName.split('.')[-1]\n",
    "    \n",
    "    if fileType == 'sbml' or fileType == 'xml':\n",
    "        model = cobra.io.read_sbml_model(fileName)\n",
    "    elif fileType == 'json':\n",
    "        model = cobra.io.load_json_model(fileName)\n",
    "    elif fileType == 'yaml':\n",
    "        model = cobra.io.load_yaml_model(fileName)\n",
    "    elif fileType == 'mat':\n",
    "        model = cobra.io.load_matlab_model(fileName)\n",
    "    elif fileType == 'pkl':\n",
    "        model = pickle.load(open(fileName, 'rb'))\n",
    "    else:\n",
    "        raise TypeError('Unrecognized file extension')\n",
    "    \n",
    "    if obj != 'none': model.objective = obj\n",
    "    for rxn in model.boundary: rxn.bounds = (-1000., 1000.)\n",
    "        \n",
    "    return model"
   ]
  },
  {
   "cell_type": "code",
   "execution_count": 2,
   "id": "5140e920-ee0b-48fd-8b66-2ce164c4a887",
   "metadata": {},
   "outputs": [],
   "source": [
    "#Define Medias\n",
    "gcb_req=set(['EX_apoACP_c_', 'EX_trdrd_c_','EX_h2o_e_','EX_co2_e_','EX_h_e_','EX_cys_L_e_','EX_mn2_e_','EX_mobd_e_','EX_cobalt2_e_','EX_cu2_e_','EX_zn2_e_','EX_pi_e_','EX_na1_e_','EX_cl_e_','EX_ala_L_e_','EX_arg_L_e_','EX_asn_L_e_','EX_asp_L_e_','EX_glu_L_e_','EX_gly_e_','EX_his_L_e_','EX_ile_L_e_','EX_leu_L_e_','EX_lys_L_e_','EX_met_L_e_','EX_phe_L_e_','EX_pro_L_e_','EX_ser_L_e_','EX_thr_L_e_','EX_trp_L_e_','EX_tyr_L_e_','EX_val_L_e_','EX_so4_e_','EX_ca2_e_','EX_fe3_e_','EX_mg2_e_','EX_k_e_','EX_gln_L_e_'])\n",
    "rpmi_req=set(['EX_apoACP_c_', 'EX_trdrd_c_','EX_cobalt2_e_','EX_cu2_e_','EX_fe3_e_','EX_mn2_e_','EX_mobd_e_','EX_zn2_e_','EX_ca2_e_','EX_no3_e_','EX_h2o_e_','EX_k_e_','EX_cl_e_','EX_mg2_e_','EX_so4_e_','EX_na1_e_','EX_pi_e_','EX_h_e_','EX_arg_L_e_','EX_asn_L_e_','EX_asp_L_e_','EX_cys_L_e_','EX_glu_L_e_','EX_gly_e_','EX_his_L_e_','EX_ile_L_e_','EX_leu_L_e_','EX_lys_L_e_','EX_met_L_e_','EX_phe_L_e_','EX_pro_L_e_','EX_ser_L_e_','EX_thr_L_e_','EX_trp_L_e_','EX_tyr_L_e_','EX_val_L_e_','EX_pnto_R_e_','EX_chol_e_','EX_inost_e_','EX_glc_D_e_','EX_gthrd_e_','EX_co2_e_'])\n",
    "mdm_req=set(['EX_apoACP_c_', 'EX_trdrd_c_','EX_co2_e_', 'EX_cobalt2_e_', 'EX_cu2_e_' , 'EX_h_e_', 'EX_h2o_e_','EX_mn2_e_','EX_mobd_e_','EX_tungs_e_', 'EX_zn2_e_','EX_na1_e_','EX_cl_e_','EX_k_e_','EX_so4_e_','EX_nh4_e_','EX_mg2_e_','EX_pi_e_','EX_ca2_e_','EX_fe3_e_','EX_no3_e_','EX_asp_L_e_','EX_glu_L_e_','EX_arg_L_e_','EX_gly_e_','EX_ser_L_e_','EX_leu_L_e_','EX_ile_L_e_','EX_val_L_e_','EX_tyr_L_e_','EX_cys_L_e_','EX_pro_L_e_','EX_trp_L_e_','EX_thr_L_e_','EX_phe_L_e_','EX_asn_L_e_','EX_gln_L_e_','EX_his_L_e_','EX_met_L_e_','EX_ala_L_e_','EX_lys_L_e_','EX_gthrd_e_','EX_thm_e_','EX_pnto_R_e_','EX_glc_D_e_','EX_hxan_e_','EX_ura_e_'])\n",
    "\n",
    "def rpmi(model):\n",
    "    for reaction in model.reactions:\n",
    "        if 'EX_' in  reaction.id:\n",
    "            reaction.lower_bound=0\n",
    "        if reaction.id in rpmi_req:\n",
    "            reaction.lower_bound = -20.\n",
    "        elif reaction.id == 'EX_o2_e_':\n",
    "            reaction.lower_bound = -20.\n",
    "        elif reaction.id == 'EX_glc_D_e_':\n",
    "            reaction.lower_bound = -20.\n",
    "            \n",
    "def GCB(model):\n",
    "    for reaction in model.reactions:\n",
    "        if 'EX_' in  reaction.id:\n",
    "            reaction.lower_bound=0\n",
    "        if reaction.id in gcb_req:\n",
    "            reaction.lower_bound = -20.\n",
    "        elif reaction.id == 'EX_o2_e_':\n",
    "            reaction.lower_bound = -20.\n",
    "        elif reaction.id == 'EX_glc_D_e_':\n",
    "            reaction.lower_bound = -20.\n",
    "\n",
    "def MDM(model):\n",
    "    for reaction in model.reactions:\n",
    "        if 'EX_' in  reaction.id:\n",
    "            reaction.lower_bound=0\n",
    "        if reaction.id in mdm_req:\n",
    "            reaction.lower_bound = -20.\n",
    "        elif reaction.id == 'EX_o2_e_':\n",
    "            reaction.lower_bound = -20.\n",
    "        elif reaction.id == 'EX_glc_D_e_':\n",
    "            reaction.lower_bound = -20.\n",
    "            \n",
    "def MDM_molarity(model):\n",
    "    for reaction in model.reactions:\n",
    "        if 'EX_' in  reaction.id:\n",
    "            reaction.lower_bound=0\n",
    "        if reaction.id in mdm_req:\n",
    "            reaction.lower_bound = -20.\n",
    "        if 'EX_glc_D_e_' in reaction.id:\n",
    "            reaction.lower_bound = -27.8\n",
    "        if 'EX_ser_L_e_' in reaction.id:\n",
    "            reaction.lower_bound = -0.48\n",
    "        if 'EX_asp_L_e_' in reaction.id:\n",
    "            reaction.lower_bound = -3.76\n",
    "        if 'EX_asn_L_e_' in reaction.id:\n",
    "            reaction.lower_bound = -0.17\n",
    "        if 'EX_glu_L_e_' in reaction.id:\n",
    "            reaction.lower_bound = -8.84\n",
    "        if 'EX_gly_e_' in reaction.id:\n",
    "            reaction.lower_bound = -0.33\n",
    "        if 'EX_ala_L_e_' in reaction.id:\n",
    "            reaction.lower_bound = -1.12\n",
    "        if 'EX_val_L_e_' in reaction.id:\n",
    "            reaction.lower_bound = -0.51\n",
    "        if 'EX_leu_L_e_' in reaction.id:\n",
    "            reaction.lower_bound = -0.69\n",
    "        if 'EX_gln_L_e_' in reaction.id:\n",
    "            reaction.lower_bound = -0.34\n",
    "        if 'EX_pro_L_e_' in reaction.id:\n",
    "            reaction.lower_bound = -0.43\n",
    "        if 'EX_phe_L_e_' in reaction.id:\n",
    "            reaction.lower_bound = -0.15\n",
    "        if 'EX_lys_L_e_' in reaction.id:\n",
    "            reaction.lower_bound = -0.27\n",
    "        if 'EX_cl_e_' in reaction.id:\n",
    "            reaction.lower_bound = -107.94697\n",
    "        if 'EX_k_e_' in reaction.id:\n",
    "            reaction.lower_bound = -11.48\n",
    "        if 'EX_so4_e_' in reaction.id:\n",
    "            reaction.lower_bound = -5.74\n",
    "        if 'EX_nh4_e_' in reaction.id:\n",
    "            reaction.lower_bound = -4.11\n",
    "        if 'EX_mg2_e_' in reaction.id:\n",
    "            reaction.lower_bound = -1.07\n",
    "        if 'EX_lys_L_e_' in reaction.id:\n",
    "            reaction.lower_bound = -0.27\n",
    "        if 'EX_pi_e_' in reaction.id:\n",
    "            reaction.lower_bound = -40\n",
    "        if 'EX_ca2_e_' in reaction.id:\n",
    "            reaction.lower_bound = -0.254\n",
    "        if 'EX_no3_e_' in reaction.id:\n",
    "            reaction.lower_bound = -0.051\n",
    "        if 'EX_arg_L_e_' in reaction.id:\n",
    "            reaction.lower_bound = -0.71\n",
    "        if 'EX_ile_L_e_' in reaction.id:\n",
    "            reaction.lower_bound = -0.23\n",
    "        if 'EX_tyr_L_e_' in reaction.id:\n",
    "            reaction.lower_bound = -0.39\n",
    "        if 'EX_cys_L_e_' in reaction.id:\n",
    "            reaction.lower_bound = -0.65\n",
    "        if 'EX_trp_L_e_' in reaction.id:\n",
    "            reaction.lower_bound = -0.39\n",
    "        if 'EX_thr_L_e_' in reaction.id:\n",
    "            reaction.lower_bound = -0.42\n",
    "        if 'EX_his_L_e_' in reaction.id:\n",
    "            reaction.lower_bound = -0.13\n",
    "        if 'EX_met_L_e_' in reaction.id:\n",
    "            reaction.lower_bound = -0.1\n",
    "        if 'EX_gthrd_e_' in reaction.id:\n",
    "            reaction.lower_bound = -0.15\n",
    "        if 'EX_thm_e_' in reaction.id:\n",
    "            reaction.lower_bound = -0.00697\n",
    "        if 'EX_pnto_R_e_' in reaction.id:\n",
    "            reaction.lower_bound = -0.004\n",
    "        if 'EX_hxan_e_' in reaction.id:\n",
    "            reaction.lower_bound = -0.37\n",
    "        if 'EX_ura_e_' in reaction.id:\n",
    "            reaction.lower_bound = -0.45  \n",
    "        if 'EX_na1_e_' in reaction.id:\n",
    "            reaction.lower_bound = -105.018\n",
    "        elif reaction.id == 'EX_o2_e_':\n",
    "            reaction.lower_bound = -20\n",
    "            \n",
    "def GCB_molarity(model):\n",
    "    for reaction in model.reactions:\n",
    "        if 'EX_' in  reaction.id:\n",
    "            reaction.lower_bound=0\n",
    "        if reaction.id in gcb_req:\n",
    "            reaction.lower_bound = -20.\n",
    "        if 'EX_glc_D_e_' in reaction.id:\n",
    "            reaction.lower_bound = -22.20299\n",
    "        if 'EX_ser_L_e_' in reaction.id:\n",
    "            reaction.lower_bound = -2.28370028\n",
    "        if 'EX_asp_L_e_' in reaction.id:\n",
    "            reaction.lower_bound = -5.747441637\n",
    "        if 'EX_asn_L_e_' in reaction.id:\n",
    "            reaction.lower_bound = -0.3406048688\n",
    "        if 'EX_glu_L_e_' in reaction.id:\n",
    "            reaction.lower_bound = -8.156091275\n",
    "        if 'EX_gly_e_' in reaction.id:\n",
    "            reaction.lower_bound = -12.98846624\n",
    "        if 'EX_ala_L_e_' in reaction.id:\n",
    "            reaction.lower_bound = -8.754876915\n",
    "        if 'EX_val_L_e_' in reaction.id:\n",
    "            reaction.lower_bound = -44.81575602\n",
    "        if 'EX_leu_L_e_' in reaction.id:\n",
    "            reaction.lower_bound = -6.403761753\n",
    "        if 'EX_gln_L_e_' in reaction.id:\n",
    "            reaction.lower_bound = -0.68425\n",
    "        if 'EX_pro_L_e_' in reaction.id:\n",
    "            reaction.lower_bound = -4.95090354\n",
    "        if 'EX_phe_L_e_' in reaction.id:\n",
    "            reaction.lower_bound = -3.1781758\n",
    "        if 'EX_lys_L_e_' in reaction.id:\n",
    "            reaction.lower_bound = -4.309531041\n",
    "        if 'EX_k_e_' in reaction.id:\n",
    "            reaction.lower_bound = -28.01410255\n",
    "        if 'EX_pi_e_' in reaction.id:\n",
    "            reaction.lower_bound = -32.69853966\n",
    "        if 'EX_na1_e_' in reaction.id:\n",
    "            reaction.lower_bound = -127.3607438\n",
    "        if 'EX_cl_e_' in reaction.id:\n",
    "            reaction.lower_bound = -113.2400004\n",
    "        if 'EX_ca2_e_' in reaction.id:\n",
    "            reaction.lower_bound = -0.04940366286\n",
    "        if 'EX_mg2_e_' in reaction.id:\n",
    "            reaction.lower_bound = -0.06356716725\n",
    "        if 'EX_so4_e_' in reaction.id:\n",
    "            reaction.lower_bound = -0.57774826\n",
    "        if 'EX_arg_L_e_' in reaction.id:\n",
    "            reaction.lower_bound = -3.702619388\n",
    "        if 'EX_cys_L_e_' in reaction.id:\n",
    "            reaction.lower_bound = -0.3745310559\n",
    "        if 'EX_his_L_e_' in reaction.id:\n",
    "            reaction.lower_bound = -1.256810949\n",
    "        if 'EX_ile_L_e_' in reaction.id:\n",
    "            reaction.lower_bound = -3.65929243\n",
    "        if 'EX_met_L_e_' in reaction.id:\n",
    "            reaction.lower_bound = -1.306871531\n",
    "        if 'EX_thr_L_e_' in reaction.id:\n",
    "            reaction.lower_bound = -1.888864264\n",
    "        if 'EX_trp_L_e_' in reaction.id:\n",
    "            reaction.lower_bound = -0.2203449917\n",
    "        if 'EX_tyr_L_e_' in reaction.id:\n",
    "            reaction.lower_bound = -1.324587377\n",
    "        if 'EX_no3_e_' in reaction.id:\n",
    "            reaction.lower_bound = -0.00371\n",
    "        elif reaction.id == 'EX_o2_e_':\n",
    "            reaction.lower_bound = -20.\n",
    "            \n",
    "def rpmi_molarity(model):\n",
    "    for reaction in model.reactions:\n",
    "        if 'EX_' in  reaction.id:\n",
    "            reaction.lower_bound=0\n",
    "        if reaction.id in rpmi_req:\n",
    "            reaction.lower_bound = -20. \n",
    "        \n",
    "        if 'EX_glc_D_e_' in reaction.id:\n",
    "            reaction.lower_bound = -11.1012\n",
    "        if 'EX_ser_L_e_' in reaction.id:\n",
    "            reaction.lower_bound = -0.2855\n",
    "        if 'EX_asp_L_e_' in reaction.id:\n",
    "            reaction.lower_bound = -0.1503\n",
    "        if 'EX_asn_L_e_' in reaction.id:\n",
    "            reaction.lower_bound = -0.3784\n",
    "        if 'EX_glu_L_e_' in reaction.id:\n",
    "            reaction.lower_bound = -0.1359\n",
    "        if 'EX_gly_e_' in reaction.id:\n",
    "            reaction.lower_bound = -0.1332\n",
    "        if 'EX_val_L_e_' in reaction.id:\n",
    "            reaction.lower_bound = -0.1707\n",
    "        if 'EX_leu_L_e_' in reaction.id:\n",
    "            reaction.lower_bound = -0.3812\n",
    "        if 'EX_pro_L_e_' in reaction.id:\n",
    "            reaction.lower_bound = -0.1737\n",
    "        if 'EX_phe_L_e_' in reaction.id:\n",
    "            reaction.lower_bound = -0.0908\n",
    "        if 'EX_lys_L_e_' in reaction.id:\n",
    "            reaction.lower_bound = -0.219\n",
    "        if 'EX_ca2_e_' in reaction.id:\n",
    "            reaction.lower_bound = -0.424\n",
    "        if 'EX_no3_e_' in reaction.id:\n",
    "            reaction.lower_bound = -0.847\n",
    "        if 'EX_k_e_' in reaction.id:\n",
    "            reaction.lower_bound = -5.3655\n",
    "        if 'EX_cl_e_' in reaction.id:\n",
    "            reaction.lower_bound = -108.6993\n",
    "        if 'EX_mg2_e_' in reaction.id:\n",
    "            reaction.lower_bound = -0.4056\n",
    "        if 'EX_so4_e_' in reaction.id:\n",
    "            reaction.lower_bound = -0.4056\n",
    "        if 'EX_na1_e_' in reaction.id:\n",
    "            reaction.lower_bound = -137.9818\n",
    "        if 'EX_pi_e_' in reaction.id:\n",
    "            reaction.lower_bound = -6.354\n",
    "        if 'EX_arg_L_e_' in reaction.id:\n",
    "            reaction.lower_bound = -1.1481\n",
    "        if 'EX_cys_L_e_' in reaction.id:\n",
    "            reaction.lower_bound = -10.416\n",
    "        if 'EX_his_L_e_' in reaction.id:\n",
    "            reaction.lower_bound = -0.0967\n",
    "        if 'EX_ile_L_e_' in reaction.id:\n",
    "            reaction.lower_bound = -0.3812\n",
    "        if 'EX_met_L_e_' in reaction.id:\n",
    "            reaction.lower_bound = -0.1005\n",
    "        if 'EX_thr_L_e_' in reaction.id:\n",
    "            reaction.lower_bound = -0.1679\n",
    "        if 'EX_trp_L_e_' in reaction.id:\n",
    "            reaction.lower_bound = -0.0245\n",
    "        if 'EX_lys_L_e_' in reaction.id:\n",
    "            reaction.lower_bound = -0.219\n",
    "        if 'EX_tyr_L_e_' in reaction.id:\n",
    "            reaction.lower_bound = -0.1104\n",
    "        if 'EX_pnto_R_e_' in reaction.id:\n",
    "            reaction.lower_bound = -0.001\n",
    "        if 'EX_chol_e_' in reaction.id:\n",
    "            reaction.lower_bound = -0.0215\n",
    "        if 'EX_inost_e_' in reaction.id:\n",
    "            reaction.lower_bound = -0.1943\n",
    "        if 'EX_gthrd_e_' in reaction.id:\n",
    "            reaction.lower_bound = -0.0033\n",
    "        if reaction.id == 'EX_o2_e_':\n",
    "            reaction.lower_bound = -20.\n",
    "\n",
    "def complete(model):\n",
    "    for reaction in model.reactions:\n",
    "        if 'EX_' in  reaction.id:\n",
    "            reaction.lower_bound=-20.         "
   ]
  },
  {
   "cell_type": "code",
   "execution_count": 5,
   "id": "da2b9050-3f8d-4a7d-8744-2dd71c7ad758",
   "metadata": {},
   "outputs": [],
   "source": [
    "model=read_model('C:/Users/Aimee/Documents/UVA/Metabolic_Modeling/organized/models/annotatedGCmodel.json')\n",
    "NMmodel=read_model('C://Users/Aimee/Documents/UVA/Metabolic_Modeling/organized/models/archive/Nmb_iTM560.json')\n",
    "NMmodel.objective= 'Nm_Ess_biomass'"
   ]
  },
  {
   "cell_type": "code",
   "execution_count": 6,
   "id": "b5440690-99ac-4838-9916-b7d689dba2b5",
   "metadata": {},
   "outputs": [
    {
     "data": {
      "text/html": [
       "\n",
       "        <table>\n",
       "            <tr>\n",
       "                <td><strong>Name</strong></td>\n",
       "                <td>NGO_557</td>\n",
       "            </tr><tr>\n",
       "                <td><strong>Memory address</strong></td>\n",
       "                <td>0x023fd4e2e070</td>\n",
       "            </tr><tr>\n",
       "                <td><strong>Number of metabolites</strong></td>\n",
       "                <td>1340</td>\n",
       "            </tr><tr>\n",
       "                <td><strong>Number of reactions</strong></td>\n",
       "                <td>1426</td>\n",
       "            </tr><tr>\n",
       "                <td><strong>Number of groups</strong></td>\n",
       "                <td>0</td>\n",
       "            </tr><tr>\n",
       "                <td><strong>Objective expression</strong></td>\n",
       "                <td>1.0*biomass - 1.0*biomass_reverse_01e59</td>\n",
       "            </tr><tr>\n",
       "                <td><strong>Compartments</strong></td>\n",
       "                <td>periplasm, cytoplasm, extracellular, default</td>\n",
       "            </tr>\n",
       "          </table>"
      ],
      "text/plain": [
       "<Model NGO_557 at 0x23fd4e2e070>"
      ]
     },
     "execution_count": 6,
     "metadata": {},
     "output_type": "execute_result"
    }
   ],
   "source": [
    "model"
   ]
  },
  {
   "cell_type": "code",
   "execution_count": 7,
   "id": "40833138-28d1-4586-9332-ea9542bda726",
   "metadata": {},
   "outputs": [
    {
     "data": {
      "text/html": [
       "\n",
       "        <table>\n",
       "            <tr>\n",
       "                <td><strong>Name</strong></td>\n",
       "                <td>Nmb_iTM560</td>\n",
       "            </tr><tr>\n",
       "                <td><strong>Memory address</strong></td>\n",
       "                <td>0x023fd10a9190</td>\n",
       "            </tr><tr>\n",
       "                <td><strong>Number of metabolites</strong></td>\n",
       "                <td>1297</td>\n",
       "            </tr><tr>\n",
       "                <td><strong>Number of reactions</strong></td>\n",
       "                <td>1519</td>\n",
       "            </tr><tr>\n",
       "                <td><strong>Number of groups</strong></td>\n",
       "                <td>0</td>\n",
       "            </tr><tr>\n",
       "                <td><strong>Objective expression</strong></td>\n",
       "                <td>1.0*Nm_Ess_biomass - 1.0*Nm_Ess_biomass_reverse_46af5</td>\n",
       "            </tr><tr>\n",
       "                <td><strong>Compartments</strong></td>\n",
       "                <td>Cytosol</td>\n",
       "            </tr>\n",
       "          </table>"
      ],
      "text/plain": [
       "<Model Nmb_iTM560 at 0x23fd10a9190>"
      ]
     },
     "execution_count": 7,
     "metadata": {},
     "output_type": "execute_result"
    }
   ],
   "source": [
    "NMmodel"
   ]
  },
  {
   "cell_type": "code",
   "execution_count": 8,
   "id": "0ffd6f22-8af6-40c3-a118-a1350eef4149",
   "metadata": {},
   "outputs": [
    {
     "name": "stdout",
     "output_type": "stream",
     "text": [
      "NGO_557\n",
      "MDM: 1.6558002724434322\n",
      "MDM_molarity: 1.5455891894179044\n",
      "RPMI: 1.5748164611774356\n",
      "RPMI_Molarity: 0.2849964780785219\n",
      "GCB: 1.5984194175850608\n",
      "GCB_molarity: 1.4732076073933038\n",
      "Complete media: 2.4998508320954764\n",
      "Nmb_iTM560\n",
      "MDM: 1.5999472251617073\n",
      "MDM_molarity: 1.6382362819930314\n",
      "RPMI: 1.5325511257637714\n",
      "RPMI_Molarity: 0.2678654820832274\n",
      "GCB: 1.5606752959077934\n",
      "GCB_molarity: 1.4709197967388525\n",
      "Complete media: 6.867688398171359\n"
     ]
    }
   ],
   "source": [
    "print (model.id)\n",
    "MDM(model)\n",
    "print ('MDM:',model.slim_optimize())\n",
    "MDM_molarity(model)\n",
    "print ('MDM_molarity:',model.slim_optimize())\n",
    "rpmi(model)\n",
    "print ('RPMI:', model.slim_optimize())\n",
    "rpmi_molarity(model)\n",
    "print ('RPMI_Molarity:', model.slim_optimize())\n",
    "GCB(model)\n",
    "print ('GCB:',model.slim_optimize())\n",
    "GCB_molarity(model)\n",
    "print ('GCB_molarity:',model.slim_optimize())\n",
    "complete(model)\n",
    "print ('Complete media:', model.slim_optimize())\n",
    "\n",
    "print (NMmodel.id)\n",
    "MDM(NMmodel)\n",
    "print ('MDM:',NMmodel.slim_optimize())\n",
    "MDM_molarity(NMmodel)\n",
    "print ('MDM_molarity:',NMmodel.slim_optimize())\n",
    "rpmi(NMmodel)\n",
    "print ('RPMI:', NMmodel.slim_optimize())\n",
    "rpmi_molarity(NMmodel)\n",
    "print ('RPMI_Molarity:', NMmodel.slim_optimize())\n",
    "GCB(NMmodel)\n",
    "print ('GCB:',NMmodel.slim_optimize())\n",
    "GCB_molarity(NMmodel)\n",
    "print ('GCB_molarity:',NMmodel.slim_optimize())\n",
    "complete(NMmodel)\n",
    "print ('Complete media:', NMmodel.slim_optimize())\n"
   ]
  },
  {
   "cell_type": "code",
   "execution_count": 9,
   "id": "252dd2d7-2c3d-43d6-b4cc-fc807d173513",
   "metadata": {},
   "outputs": [
    {
     "data": {
      "text/plain": [
       "'16.637 minutes'"
      ]
     },
     "execution_count": 9,
     "metadata": {},
     "output_type": "execute_result"
    }
   ],
   "source": [
    "complete(model)\n",
    "model.slim_optimize()\n",
    "doubling_time(model)"
   ]
  },
  {
   "cell_type": "code",
   "execution_count": 10,
   "id": "1d2b03ba-ad6a-4e09-ba3f-9294258df5cb",
   "metadata": {},
   "outputs": [
    {
     "name": "stdout",
     "output_type": "stream",
     "text": [
      "6.867688398171359\n"
     ]
    },
    {
     "data": {
      "text/plain": [
       "'6.056 minutes'"
      ]
     },
     "execution_count": 10,
     "metadata": {},
     "output_type": "execute_result"
    }
   ],
   "source": [
    "complete(NMmodel)\n",
    "print (NMmodel.slim_optimize())\n",
    "doubling_time(NMmodel)"
   ]
  },
  {
   "cell_type": "code",
   "execution_count": 11,
   "id": "1dc75b5b-989d-4f46-b9b1-a34b20d6ed4d",
   "metadata": {},
   "outputs": [
    {
     "name": "stdout",
     "output_type": "stream",
     "text": [
      "1.6558002724416827\n"
     ]
    },
    {
     "data": {
      "text/plain": [
       "'25.117 minutes'"
      ]
     },
     "execution_count": 11,
     "metadata": {},
     "output_type": "execute_result"
    }
   ],
   "source": [
    "MDM(model)\n",
    "print (model.slim_optimize())\n",
    "doubling_time(model)\n"
   ]
  },
  {
   "cell_type": "code",
   "execution_count": 12,
   "id": "95553979-3f9d-4b4d-9fb5-367a7c77bfb3",
   "metadata": {},
   "outputs": [
    {
     "name": "stdout",
     "output_type": "stream",
     "text": [
      "1.5999472533355619\n"
     ]
    },
    {
     "data": {
      "text/plain": [
       "'25.994 minutes'"
      ]
     },
     "execution_count": 12,
     "metadata": {},
     "output_type": "execute_result"
    }
   ],
   "source": [
    "MDM(NMmodel)\n",
    "print (NMmodel.slim_optimize())\n",
    "doubling_time(NMmodel)"
   ]
  },
  {
   "cell_type": "code",
   "execution_count": 13,
   "id": "9ec8b428-d752-42a1-be62-b7147373c943",
   "metadata": {},
   "outputs": [
    {
     "name": "stdout",
     "output_type": "stream",
     "text": [
      "1.574816461177422\n"
     ]
    },
    {
     "data": {
      "text/plain": [
       "'26.409 minutes'"
      ]
     },
     "execution_count": 13,
     "metadata": {},
     "output_type": "execute_result"
    }
   ],
   "source": [
    "rpmi(model)\n",
    "print (model.slim_optimize())\n",
    "doubling_time(model)\n"
   ]
  },
  {
   "cell_type": "code",
   "execution_count": 14,
   "id": "8921c732-71d8-4f3a-b2ac-b8f630c538c1",
   "metadata": {},
   "outputs": [
    {
     "name": "stdout",
     "output_type": "stream",
     "text": [
      "1.5325511568159995\n"
     ]
    },
    {
     "data": {
      "text/plain": [
       "'27.137 minutes'"
      ]
     },
     "execution_count": 14,
     "metadata": {},
     "output_type": "execute_result"
    }
   ],
   "source": [
    "rpmi(NMmodel)\n",
    "print (NMmodel.slim_optimize())\n",
    "doubling_time(NMmodel)"
   ]
  },
  {
   "cell_type": "code",
   "execution_count": 15,
   "id": "acd45b59-4584-4d07-af6c-a756da400b91",
   "metadata": {},
   "outputs": [
    {
     "name": "stdout",
     "output_type": "stream",
     "text": [
      "1.5984194175851283\n"
     ]
    },
    {
     "data": {
      "text/plain": [
       "'26.019 minutes'"
      ]
     },
     "execution_count": 15,
     "metadata": {},
     "output_type": "execute_result"
    }
   ],
   "source": [
    "GCB(model)\n",
    "print (model.slim_optimize())\n",
    "doubling_time(model)"
   ]
  },
  {
   "cell_type": "code",
   "execution_count": 16,
   "id": "3cb71d62-1a53-46df-8a07-1ad8baa087b3",
   "metadata": {},
   "outputs": [
    {
     "name": "stdout",
     "output_type": "stream",
     "text": [
      "1.5606753109633813\n"
     ]
    },
    {
     "data": {
      "text/plain": [
       "'26.648 minutes'"
      ]
     },
     "execution_count": 16,
     "metadata": {},
     "output_type": "execute_result"
    }
   ],
   "source": [
    "GCB(NMmodel)\n",
    "print (NMmodel.slim_optimize())\n",
    "doubling_time(NMmodel)"
   ]
  },
  {
   "cell_type": "code",
   "execution_count": 17,
   "id": "fedebbb6-32bf-4104-bfcd-afc1e4646a60",
   "metadata": {},
   "outputs": [
    {
     "name": "stdout",
     "output_type": "stream",
     "text": [
      "25.117 minutes\n",
      "26.908 minutes\n"
     ]
    }
   ],
   "source": [
    "MDM(model)\n",
    "print (doubling_time(model))\n",
    "MDM_molarity(model)\n",
    "print (doubling_time(model))"
   ]
  },
  {
   "cell_type": "code",
   "execution_count": 18,
   "id": "a21c2500-6190-4483-a6d7-31e757564b38",
   "metadata": {},
   "outputs": [
    {
     "name": "stdout",
     "output_type": "stream",
     "text": [
      "26.409 minutes\n",
      "145.928 minutes\n"
     ]
    }
   ],
   "source": [
    "rpmi(model)\n",
    "print (doubling_time(model))\n",
    "\n",
    "rpmi_molarity(model)\n",
    "print (doubling_time(model))\n",
    "#Primary difference between medias is the glutamate concentration"
   ]
  },
  {
   "cell_type": "code",
   "execution_count": null,
   "id": "468cb655-d187-47fe-8da3-13ffbb26015d",
   "metadata": {},
   "outputs": [],
   "source": []
  }
 ],
 "metadata": {
  "kernelspec": {
   "display_name": "Python 3",
   "language": "python",
   "name": "python3"
  },
  "language_info": {
   "codemirror_mode": {
    "name": "ipython",
    "version": 3
   },
   "file_extension": ".py",
   "mimetype": "text/x-python",
   "name": "python",
   "nbconvert_exporter": "python",
   "pygments_lexer": "ipython3",
   "version": "3.8.8"
  }
 },
 "nbformat": 4,
 "nbformat_minor": 5
}
