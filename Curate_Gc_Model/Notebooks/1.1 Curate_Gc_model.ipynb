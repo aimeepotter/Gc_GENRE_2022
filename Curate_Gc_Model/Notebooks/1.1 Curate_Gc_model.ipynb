{
 "cells": [
  {
   "cell_type": "code",
   "execution_count": 1,
   "metadata": {
    "scrolled": true
   },
   "outputs": [],
   "source": [
    "# Import libraries - REQUIRES pip version 9.0.3\n",
    "import pandas\n",
    "import os\n",
    "from os.path import join\n",
    "import sys\n",
    "import scipy.stats\n",
    "import numpy\n",
    "import math\n",
    "import pickle\n",
    "import copy\n",
    "import time\n",
    "import warnings\n",
    "import gc\n",
    "\n",
    "# Using Cobrapy 0.13.0\n",
    "import cobra\n",
    "import cobra.test\n",
    "import cobra.flux_analysis.gapfilling\n",
    "from cobra import Reaction, Metabolite\n",
    "from cobra.io import write_sbml_model\n",
    "from cobra.flux_analysis import  flux_variability_analysis\n",
    "from cobra.flux_analysis.reaction import assess_component\n",
    "from cobra.manipulation.delete import *\n",
    "from cobra.flux_analysis.parsimonious import add_pfba\n",
    "from cobra.medium import find_boundary_types\n",
    "from cobra.util import solver as sutil\n",
    "\n",
    "\n",
    "#Simplify reading/writing files\n",
    "cwd=os.path.realpath(os.path.join(os.path.dirname(os.getcwd()),\"..\",\"..\"))"
   ]
  },
  {
   "cell_type": "code",
   "execution_count": 2,
   "metadata": {
    "scrolled": true
   },
   "outputs": [],
   "source": [
    "# Quicker way to read in models\n",
    "import pickle\n",
    "def read_model(fileName, obj='none'):\n",
    "    \n",
    "    fileType = fileName.split('.')[-1]\n",
    "    \n",
    "    if fileType == 'sbml' or fileType == 'xml':\n",
    "        model = cobra.io.read_sbml_model(fileName)\n",
    "    elif fileType == 'json':\n",
    "        model = cobra.io.load_json_model(fileName)\n",
    "    elif fileType == 'yaml':\n",
    "        model = cobra.io.load_yaml_model(fileName)\n",
    "    elif fileType == 'mat':\n",
    "        model = cobra.io.load_matlab_model(fileName)\n",
    "    elif fileType == 'pkl':\n",
    "        model = pickle.load(open(fileName, 'rb'))\n",
    "    else:\n",
    "        raise TypeError('Unrecognized file extension')\n",
    "    \n",
    "    if obj != 'none': model.objective = obj\n",
    "    for rxn in model.boundary: rxn.bounds = (-1000., 1000.)\n",
    "        \n",
    "    return model"
   ]
  },
  {
   "cell_type": "code",
   "execution_count": 3,
   "metadata": {},
   "outputs": [],
   "source": [
    "#Set media\n",
    "\n",
    "def complete(model):\n",
    "    for reaction in model.reactions:\n",
    "        if 'EX_' in  reaction.id:\n",
    "            reaction.lower_bound=-20.\n"
   ]
  },
  {
   "cell_type": "code",
   "execution_count": 6,
   "metadata": {
    "scrolled": true,
    "tags": []
   },
   "outputs": [
    {
     "data": {
      "text/html": [
       "\n",
       "        <table>\n",
       "            <tr>\n",
       "                <td><strong>Name</strong></td>\n",
       "                <td>AE004969.1</td>\n",
       "            </tr><tr>\n",
       "                <td><strong>Memory address</strong></td>\n",
       "                <td>0x020431c76280</td>\n",
       "            </tr><tr>\n",
       "                <td><strong>Number of metabolites</strong></td>\n",
       "                <td>1297</td>\n",
       "            </tr><tr>\n",
       "                <td><strong>Number of reactions</strong></td>\n",
       "                <td>1484</td>\n",
       "            </tr><tr>\n",
       "                <td><strong>Number of groups</strong></td>\n",
       "                <td>0</td>\n",
       "            </tr><tr>\n",
       "                <td><strong>Objective expression</strong></td>\n",
       "                <td>1.0*Nm_Ess_biomass - 1.0*Nm_Ess_biomass_reverse_46af5</td>\n",
       "            </tr><tr>\n",
       "                <td><strong>Compartments</strong></td>\n",
       "                <td>Cytosol</td>\n",
       "            </tr>\n",
       "          </table>"
      ],
      "text/plain": [
       "<Model AE004969.1 at 0x20431c76280>"
      ]
     },
     "execution_count": 6,
     "metadata": {},
     "output_type": "execute_result"
    }
   ],
   "source": [
    "# Read in  model\n",
    "model=read_model(cwd+'/Gc_GENRE_2022/Models/AE004969.1.json')\n",
    "model.objective='Nm_Ess_biomass'\n",
    "model"
   ]
  },
  {
   "cell_type": "code",
   "execution_count": 9,
   "metadata": {
    "scrolled": true
   },
   "outputs": [
    {
     "name": "stdout",
     "output_type": "stream",
     "text": [
      "Complete Media: 4.216063599310883\n"
     ]
    }
   ],
   "source": [
    "complete(model)\n",
    "print ('Complete Media:', model.slim_optimize())"
   ]
  },
  {
   "cell_type": "code",
   "execution_count": 16,
   "metadata": {},
   "outputs": [],
   "source": [
    "# Fix compartment labels to be more specific  "
   ]
  },
  {
   "cell_type": "code",
   "execution_count": 10,
   "metadata": {},
   "outputs": [],
   "source": [
    "for metabolite in model.metabolites:\n",
    "    if '_c' in metabolite.id:\n",
    "        metabolite.compartment = 'cytosol'\n",
    "    if '_p' in metabolite.id:\n",
    "        metabolite.compartment = 'periplasm'\n",
    "    if '_e' in metabolite.id:\n",
    "        metabolite.compartment = 'extracellular'"
   ]
  },
  {
   "cell_type": "code",
   "execution_count": 12,
   "metadata": {},
   "outputs": [
    {
     "data": {
      "text/html": [
       "\n",
       "        <table>\n",
       "            <tr>\n",
       "                <td><strong>Name</strong></td>\n",
       "                <td>AE004969.1</td>\n",
       "            </tr><tr>\n",
       "                <td><strong>Memory address</strong></td>\n",
       "                <td>0x020431c76280</td>\n",
       "            </tr><tr>\n",
       "                <td><strong>Number of metabolites</strong></td>\n",
       "                <td>1297</td>\n",
       "            </tr><tr>\n",
       "                <td><strong>Number of reactions</strong></td>\n",
       "                <td>1484</td>\n",
       "            </tr><tr>\n",
       "                <td><strong>Number of groups</strong></td>\n",
       "                <td>0</td>\n",
       "            </tr><tr>\n",
       "                <td><strong>Objective expression</strong></td>\n",
       "                <td>1.0*Nm_Ess_biomass - 1.0*Nm_Ess_biomass_reverse_46af5</td>\n",
       "            </tr><tr>\n",
       "                <td><strong>Compartments</strong></td>\n",
       "                <td>periplasm, cytosol, extracellular, Cytosol</td>\n",
       "            </tr>\n",
       "          </table>"
      ],
      "text/plain": [
       "<Model AE004969.1 at 0x20431c76280>"
      ]
     },
     "execution_count": 12,
     "metadata": {},
     "output_type": "execute_result"
    }
   ],
   "source": [
    "model"
   ]
  },
  {
   "cell_type": "code",
   "execution_count": 13,
   "metadata": {},
   "outputs": [
    {
     "name": "stdout",
     "output_type": "stream",
     "text": [
      "essbiomass\n",
      "protein\n",
      "capminusbiomass\n",
      "biomass\n"
     ]
    }
   ],
   "source": [
    "for metabolite in model.metabolites:\n",
    "    if 'Cytosol' in metabolite.compartment:\n",
    "        print (metabolite.id)\n",
    "        metabolite.compartment = 'cytosol'"
   ]
  },
  {
   "cell_type": "code",
   "execution_count": 14,
   "metadata": {},
   "outputs": [
    {
     "data": {
      "text/html": [
       "\n",
       "        <table>\n",
       "            <tr>\n",
       "                <td><strong>Name</strong></td>\n",
       "                <td>AE004969.1</td>\n",
       "            </tr><tr>\n",
       "                <td><strong>Memory address</strong></td>\n",
       "                <td>0x020431c76280</td>\n",
       "            </tr><tr>\n",
       "                <td><strong>Number of metabolites</strong></td>\n",
       "                <td>1297</td>\n",
       "            </tr><tr>\n",
       "                <td><strong>Number of reactions</strong></td>\n",
       "                <td>1484</td>\n",
       "            </tr><tr>\n",
       "                <td><strong>Number of groups</strong></td>\n",
       "                <td>0</td>\n",
       "            </tr><tr>\n",
       "                <td><strong>Objective expression</strong></td>\n",
       "                <td>1.0*Nm_Ess_biomass - 1.0*Nm_Ess_biomass_reverse_46af5</td>\n",
       "            </tr><tr>\n",
       "                <td><strong>Compartments</strong></td>\n",
       "                <td>periplasm, cytosol, extracellular</td>\n",
       "            </tr>\n",
       "          </table>"
      ],
      "text/plain": [
       "<Model AE004969.1 at 0x20431c76280>"
      ]
     },
     "execution_count": 14,
     "metadata": {},
     "output_type": "execute_result"
    }
   ],
   "source": [
    "model"
   ]
  },
  {
   "cell_type": "code",
   "execution_count": 15,
   "metadata": {
    "scrolled": true
   },
   "outputs": [
    {
     "data": {
      "text/plain": [
       "514"
      ]
     },
     "execution_count": 15,
     "metadata": {},
     "output_type": "execute_result"
    }
   ],
   "source": [
    "len(model.genes)"
   ]
  },
  {
   "cell_type": "code",
   "execution_count": 16,
   "metadata": {
    "scrolled": true
   },
   "outputs": [],
   "source": [
    "# Set up counts for tracking changes\n",
    "init_rxn = [str(x.id) for x in model.reactions]\n",
    "\n",
    "new_genes = 0\n",
    "new_rxns = 0\n",
    "new_cpds = 0"
   ]
  },
  {
   "cell_type": "code",
   "execution_count": 19,
   "metadata": {
    "scrolled": true
   },
   "outputs": [
    {
     "name": "stdout",
     "output_type": "stream",
     "text": [
      "425 425 425\n"
     ]
    },
    {
     "data": {
      "text/html": [
       "<div>\n",
       "<style scoped>\n",
       "    .dataframe tbody tr th:only-of-type {\n",
       "        vertical-align: middle;\n",
       "    }\n",
       "\n",
       "    .dataframe tbody tr th {\n",
       "        vertical-align: top;\n",
       "    }\n",
       "\n",
       "    .dataframe thead th {\n",
       "        text-align: right;\n",
       "    }\n",
       "</style>\n",
       "<table border=\"1\" class=\"dataframe\">\n",
       "  <thead>\n",
       "    <tr style=\"text-align: right;\">\n",
       "      <th></th>\n",
       "      <th>Reactions</th>\n",
       "      <th>Charge</th>\n",
       "      <th>Masses</th>\n",
       "    </tr>\n",
       "  </thead>\n",
       "  <tbody>\n",
       "    <tr>\n",
       "      <th>0</th>\n",
       "      <td>3HAD161x</td>\n",
       "      <td></td>\n",
       "      <td>{'H': 96.0, 'O': 17.0, 'Ab': 1.0, 'A': 2.0, 'C...</td>\n",
       "    </tr>\n",
       "    <tr>\n",
       "      <th>1</th>\n",
       "      <td>3OAR161x</td>\n",
       "      <td></td>\n",
       "      <td>{'C': -27.0, 'H': -49.0, 'N': -2.0, 'O': -9.0,...</td>\n",
       "    </tr>\n",
       "    <tr>\n",
       "      <th>2</th>\n",
       "      <td>3OAS161a</td>\n",
       "      <td></td>\n",
       "      <td>{'C': -12.0, 'H': -21.0, 'N': -2.0, 'O': -9.0,...</td>\n",
       "    </tr>\n",
       "    <tr>\n",
       "      <th>3</th>\n",
       "      <td>ACCOAC</td>\n",
       "      <td></td>\n",
       "      <td>{'C': -9.999999999621423e-06, 'H': -1.49999999...</td>\n",
       "    </tr>\n",
       "    <tr>\n",
       "      <th>4</th>\n",
       "      <td>ACHBS</td>\n",
       "      <td></td>\n",
       "      <td>{'C': -1.2e-06, 'H': -1.6e-06, 'O': -7e-07, 'N...</td>\n",
       "    </tr>\n",
       "    <tr>\n",
       "      <th>...</th>\n",
       "      <td>...</td>\n",
       "      <td>...</td>\n",
       "      <td>...</td>\n",
       "    </tr>\n",
       "    <tr>\n",
       "      <th>420</th>\n",
       "      <td>THRD_L</td>\n",
       "      <td></td>\n",
       "      <td>{'C': -8.000000000230045e-07, 'H': -8.00000000...</td>\n",
       "    </tr>\n",
       "    <tr>\n",
       "      <th>421</th>\n",
       "      <td>THRS</td>\n",
       "      <td></td>\n",
       "      <td>{'H': -8.000000004670937e-07, 'O': -5.99999999...</td>\n",
       "    </tr>\n",
       "    <tr>\n",
       "      <th>422</th>\n",
       "      <td>TRDR1</td>\n",
       "      <td></td>\n",
       "      <td>{'X': 1.0}</td>\n",
       "    </tr>\n",
       "    <tr>\n",
       "      <th>423</th>\n",
       "      <td>TSULST</td>\n",
       "      <td></td>\n",
       "      <td>{'H': -2.0}</td>\n",
       "    </tr>\n",
       "    <tr>\n",
       "      <th>424</th>\n",
       "      <td>UAPGR</td>\n",
       "      <td></td>\n",
       "      <td>{'C': -2.69999999957804e-06, 'H': -3.100000000...</td>\n",
       "    </tr>\n",
       "  </tbody>\n",
       "</table>\n",
       "<p>425 rows × 3 columns</p>\n",
       "</div>"
      ],
      "text/plain": [
       "    Reactions Charge                                             Masses\n",
       "0    3HAD161x         {'H': 96.0, 'O': 17.0, 'Ab': 1.0, 'A': 2.0, 'C...\n",
       "1    3OAR161x         {'C': -27.0, 'H': -49.0, 'N': -2.0, 'O': -9.0,...\n",
       "2    3OAS161a         {'C': -12.0, 'H': -21.0, 'N': -2.0, 'O': -9.0,...\n",
       "3      ACCOAC         {'C': -9.999999999621423e-06, 'H': -1.49999999...\n",
       "4       ACHBS         {'C': -1.2e-06, 'H': -1.6e-06, 'O': -7e-07, 'N...\n",
       "..        ...    ...                                                ...\n",
       "420    THRD_L         {'C': -8.000000000230045e-07, 'H': -8.00000000...\n",
       "421      THRS         {'H': -8.000000004670937e-07, 'O': -5.99999999...\n",
       "422     TRDR1                                                {'X': 1.0}\n",
       "423    TSULST                                               {'H': -2.0}\n",
       "424     UAPGR         {'C': -2.69999999957804e-06, 'H': -3.100000000...\n",
       "\n",
       "[425 rows x 3 columns]"
      ]
     },
     "execution_count": 19,
     "metadata": {},
     "output_type": "execute_result"
    }
   ],
   "source": [
    "#Count number of imbalances\n",
    "reactions = []\n",
    "charge = []\n",
    "mass = []\n",
    "for react in model.reactions:\n",
    "    result = react.check_mass_balance()\n",
    "    if len(result) == 0:\n",
    "        continue\n",
    "    else: \n",
    "        reactions.append(react.id)\n",
    "        masses = {}\n",
    "        for key in result.keys():\n",
    "            if key == 'charge':\n",
    "                charge.append(result['charge'])\n",
    "            else:\n",
    "                masses[key] = result[key]\n",
    "        if 'charge' not in result.keys():\n",
    "            charge.append('')\n",
    "        mass.append(masses)\n",
    "print(len(reactions), len(charge), len(mass))\n",
    "\n",
    "mass_charge_dict = {'Reactions': reactions, 'Charge': charge, 'Masses': mass}\n",
    "mass_charge = pandas.DataFrame(mass_charge_dict)\n",
    "mass_charge.to_csv(cwd+'/Gc_GENRE_2022/Curate_Gc_Model/totalimbalances.csv')\n",
    "mass_charge"
   ]
  },
  {
   "cell_type": "code",
   "execution_count": 20,
   "metadata": {
    "scrolled": true
   },
   "outputs": [
    {
     "name": "stdout",
     "output_type": "stream",
     "text": [
      "ps141b_c\n",
      "ps161_c\n",
      "essbiomass\n",
      "pe160b_c\n",
      "pe160b_p\n",
      "Hg2_p\n",
      "Hg2_c\n",
      "ps160c_c\n",
      "dhap_e\n",
      "ps160e_c\n",
      "dhap_p\n",
      "protein\n",
      "pe161_p\n",
      "pe160c_c\n",
      "3hcpalm5eACP_c\n",
      "pe161_c\n",
      "pepglycan_NM_p\n",
      "pe141b_c\n",
      "pe141b_p\n",
      "capminusbiomass\n",
      "lipid_NM_p\n",
      "esslipid_NM_p\n",
      "rna_c\n",
      "pe160e_p\n",
      "pe160e_c\n",
      "pe160a_p\n",
      "pe160a_c\n",
      "pe160c_p\n",
      "ps160b_c\n",
      "biomass\n",
      "dna_c\n",
      "ps160a_c\n"
     ]
    }
   ],
   "source": [
    "#Several imbalances are due to missing formulas. \n",
    "#Find missing formulas\n",
    "no_formula = (\"\")\n",
    "for metabolites in model.metabolites:\n",
    "        if metabolites.formula == no_formula:\n",
    "            print (metabolites.id)"
   ]
  },
  {
   "cell_type": "code",
   "execution_count": 32,
   "metadata": {
    "scrolled": true
   },
   "outputs": [],
   "source": [
    "#Correct missing formulas that did not import in Notebook 1D\n",
    "model.metabolites.get_by_id(\"ps141b_c\").formula =\"C34H63N1O10P1\"\n",
    "model.metabolites.get_by_id(\"ps161_c\").formula =\"C38H68N1O10P1\"\n",
    "model.metabolites.get_by_id(\"pe160b_c\").formula =\"C35H70N1O8P1\"\n",
    "model.metabolites.get_by_id(\"pe160b_p\").formula =\"C35H70N1O8P1\"\n",
    "model.metabolites.get_by_id(\"ps160_c\").formula =\"C38H73N1O10P1\"\n",
    "model.metabolites.get_by_id(\"ps160e_c\").formula =\"C38H69N1O10P1\"\n",
    "model.metabolites.get_by_id(\"pe161_c\").formula =\"C37H69N1O8P1\"\n",
    "model.metabolites.get_by_id(\"pe161_p\").formula =\"C37H69N1O8P1\"\n",
    "model.metabolites.get_by_id(\"pe160c_c\").formula =\"C37H72N1O8P1\"\n",
    "model.metabolites.get_by_id(\"pe160c_p\").formula =\"C37H72N1O8P1\"\n",
    "model.metabolites.get_by_id(\"pe141_c\").formula =\"C33H62N1O8P1\"\n",
    "model.metabolites.get_by_id(\"pe141_p\").formula =\"C33H62N1O8P1\"\n",
    "model.metabolites.get_by_id(\"pe141b_c\").formula =\"C33H64N1O8P1\"\n",
    "model.metabolites.get_by_id(\"pe141b_p\").formula =\"C33H64N1O8P1\"\n",
    "model.metabolites.get_by_id(\"pe160a_c\").formula =\"C33H66N1O8P1\"\n",
    "model.metabolites.get_by_id(\"pe160a_p\").formula =\"C33H66N1O8P1\"\n",
    "model.metabolites.get_by_id(\"pe160b_c\").formula =\"C35H70N1O8P1\"\n",
    "model.metabolites.get_by_id(\"pe160b_p\").formula =\"C35H70N1O8P1\"\n",
    "model.metabolites.get_by_id(\"pe160c_c\").formula =\"C37H72N1O8P1\"\n",
    "model.metabolites.get_by_id(\"pe160c_p\").formula =\"C37H72N1O8P1\"\n",
    "model.metabolites.get_by_id(\"pe160e_c\").formula =\"C37H70N1O8P1\"\n",
    "model.metabolites.get_by_id(\"pe160e_p\").formula =\"C37H70N1O8P1\"\n",
    "model.metabolites.get_by_id(\"ps160a_c\").formula =\"C34H65N1O10P1\"\n",
    "model.metabolites.get_by_id(\"ps160b_c\").formula =\"C36H69N1O10P1\"\n",
    "model.metabolites.get_by_id(\"ps160c_c\").formula =\"C38H71N1O10P1\"\n",
    "model.metabolites.get_by_id(\"Hg2_p\").formula =\"Hg\"\n",
    "model.metabolites.get_by_id(\"Hg2_c\").formula =\"Hg\"\n",
    "model.metabolites.get_by_id(\"dhap_p\").formula =\"C3H5O6P\"\n",
    "model.metabolites.get_by_id(\"dhap_e\").formula =\"C3H5O6P\"\n",
    "model.metabolites.get_by_id(\"3hcpalm5eACP_c\").formula =\"C27H49N2O9PRS\"\n",
    "\n"
   ]
  },
  {
   "cell_type": "code",
   "execution_count": 33,
   "metadata": {
    "scrolled": true
   },
   "outputs": [
    {
     "name": "stdout",
     "output_type": "stream",
     "text": [
      "essbiomass\n",
      "protein\n",
      "pepglycan_NM_p\n",
      "capminusbiomass\n",
      "lipid_NM_p\n",
      "esslipid_NM_p\n",
      "rna_c\n",
      "biomass\n",
      "dna_c\n"
     ]
    }
   ],
   "source": [
    "#Remaining metabolites with no formula are okay\n",
    "no_formula = (\"\")\n",
    "for metabolites in model.metabolites:\n",
    "        if metabolites.formula == no_formula:\n",
    "            print (metabolites.id)"
   ]
  },
  {
   "cell_type": "code",
   "execution_count": 34,
   "metadata": {
    "scrolled": true
   },
   "outputs": [],
   "source": [
    "#Define biomass reactions to exclude from imbalance check\n",
    "biomass_reactions = set(['PLIPIDS', 'PLIPIDS_ESS', 'PROTS', 'PEPGLY','RNAS', 'DNAS' ])\n"
   ]
  },
  {
   "cell_type": "code",
   "execution_count": 36,
   "metadata": {
    "scrolled": true
   },
   "outputs": [
    {
     "name": "stdout",
     "output_type": "stream",
     "text": [
      "142 142 142\n"
     ]
    },
    {
     "data": {
      "text/html": [
       "<div>\n",
       "<style scoped>\n",
       "    .dataframe tbody tr th:only-of-type {\n",
       "        vertical-align: middle;\n",
       "    }\n",
       "\n",
       "    .dataframe tbody tr th {\n",
       "        vertical-align: top;\n",
       "    }\n",
       "\n",
       "    .dataframe thead th {\n",
       "        text-align: right;\n",
       "    }\n",
       "</style>\n",
       "<table border=\"1\" class=\"dataframe\">\n",
       "  <thead>\n",
       "    <tr style=\"text-align: right;\">\n",
       "      <th></th>\n",
       "      <th>Reactions</th>\n",
       "      <th>Charge</th>\n",
       "      <th>Masses</th>\n",
       "    </tr>\n",
       "  </thead>\n",
       "  <tbody>\n",
       "    <tr>\n",
       "      <th>0</th>\n",
       "      <td>3HAD161x</td>\n",
       "      <td></td>\n",
       "      <td>{'C': 29.0, 'H': 47.0, 'N': 2.0, 'O': 8.0, 'P'...</td>\n",
       "    </tr>\n",
       "    <tr>\n",
       "      <th>1</th>\n",
       "      <td>3OAS161a</td>\n",
       "      <td></td>\n",
       "      <td>{'C': -12.0, 'H': -21.0, 'N': -2.0, 'O': -9.0,...</td>\n",
       "    </tr>\n",
       "    <tr>\n",
       "      <th>2</th>\n",
       "      <td>ACCOAC</td>\n",
       "      <td></td>\n",
       "      <td>{'C': -9.999999999621423e-06, 'H': -1.49999999...</td>\n",
       "    </tr>\n",
       "    <tr>\n",
       "      <th>3</th>\n",
       "      <td>ACHBS</td>\n",
       "      <td></td>\n",
       "      <td>{'C': -1.2e-06, 'H': -1.6e-06, 'O': -7e-07, 'N...</td>\n",
       "    </tr>\n",
       "    <tr>\n",
       "      <th>4</th>\n",
       "      <td>ACLS</td>\n",
       "      <td></td>\n",
       "      <td>{'C': -1.2e-06, 'H': -1.6e-06, 'O': -7e-07, 'N...</td>\n",
       "    </tr>\n",
       "    <tr>\n",
       "      <th>...</th>\n",
       "      <td>...</td>\n",
       "      <td>...</td>\n",
       "      <td>...</td>\n",
       "    </tr>\n",
       "    <tr>\n",
       "      <th>137</th>\n",
       "      <td>THRD_L</td>\n",
       "      <td></td>\n",
       "      <td>{'C': -8.000000000230045e-07, 'H': -8.00000000...</td>\n",
       "    </tr>\n",
       "    <tr>\n",
       "      <th>138</th>\n",
       "      <td>THRS</td>\n",
       "      <td></td>\n",
       "      <td>{'H': -8.000000004670937e-07, 'O': -5.99999999...</td>\n",
       "    </tr>\n",
       "    <tr>\n",
       "      <th>139</th>\n",
       "      <td>TRDR1</td>\n",
       "      <td></td>\n",
       "      <td>{'X': 1.0}</td>\n",
       "    </tr>\n",
       "    <tr>\n",
       "      <th>140</th>\n",
       "      <td>TSULST</td>\n",
       "      <td></td>\n",
       "      <td>{'H': -2.0}</td>\n",
       "    </tr>\n",
       "    <tr>\n",
       "      <th>141</th>\n",
       "      <td>UAPGR</td>\n",
       "      <td></td>\n",
       "      <td>{'C': -2.69999999957804e-06, 'H': -3.100000000...</td>\n",
       "    </tr>\n",
       "  </tbody>\n",
       "</table>\n",
       "<p>142 rows × 3 columns</p>\n",
       "</div>"
      ],
      "text/plain": [
       "    Reactions Charge                                             Masses\n",
       "0    3HAD161x         {'C': 29.0, 'H': 47.0, 'N': 2.0, 'O': 8.0, 'P'...\n",
       "1    3OAS161a         {'C': -12.0, 'H': -21.0, 'N': -2.0, 'O': -9.0,...\n",
       "2      ACCOAC         {'C': -9.999999999621423e-06, 'H': -1.49999999...\n",
       "3       ACHBS         {'C': -1.2e-06, 'H': -1.6e-06, 'O': -7e-07, 'N...\n",
       "4        ACLS         {'C': -1.2e-06, 'H': -1.6e-06, 'O': -7e-07, 'N...\n",
       "..        ...    ...                                                ...\n",
       "137    THRD_L         {'C': -8.000000000230045e-07, 'H': -8.00000000...\n",
       "138      THRS         {'H': -8.000000004670937e-07, 'O': -5.99999999...\n",
       "139     TRDR1                                                {'X': 1.0}\n",
       "140    TSULST                                               {'H': -2.0}\n",
       "141     UAPGR         {'C': -2.69999999957804e-06, 'H': -3.100000000...\n",
       "\n",
       "[142 rows x 3 columns]"
      ]
     },
     "execution_count": 36,
     "metadata": {},
     "output_type": "execute_result"
    }
   ],
   "source": [
    "#Define remaining imbalances\n",
    "#Many of these are due to the presence of cofactors in the reaction equation. In favor of correct stoichiometries, these cofactors are removed. \n",
    "reactions = []\n",
    "charge = []\n",
    "mass = []\n",
    "for react in model.reactions:\n",
    "    result = react.check_mass_balance()\n",
    "    if 'EX_' in  react.id:\n",
    "        continue\n",
    "    if 'Nm_' in  react.id:\n",
    "        continue\n",
    "    if 'DM_' in  react.id:\n",
    "        continue \n",
    "    if react.id in biomass_reactions:\n",
    "        continue\n",
    "    if len(result) == 0:\n",
    "        continue\n",
    "    else: \n",
    "        reactions.append(react.id)\n",
    "        masses = {}\n",
    "        for key in result.keys():\n",
    "            if key == 'charge':\n",
    "                charge.append(result['charge'])\n",
    "            else:\n",
    "                masses[key] = result[key]\n",
    "        if 'charge' not in result.keys():\n",
    "            charge.append('')\n",
    "        mass.append(masses)\n",
    "print(len(reactions), len(charge), len(mass))\n",
    "\n",
    "mass_charge_dict = {'Reactions': reactions, 'Charge': charge, 'Masses': mass}\n",
    "mass_charge = pandas.DataFrame(mass_charge_dict)\n",
    "mass_charge.to_csv(cwd+'/Gc_GENRE_2022/Curate_Gc_Model/totalimbalances.csv')\n",
    "mass_charge"
   ]
  },
  {
   "cell_type": "code",
   "execution_count": 37,
   "metadata": {
    "scrolled": true
   },
   "outputs": [
    {
     "name": "stdout",
     "output_type": "stream",
     "text": [
      "btn_c\n",
      "thmpp_c\n",
      "fad_c\n",
      "pydx5p_c\n",
      "nad_c\n",
      "zn2_c\n",
      "ca2_c\n"
     ]
    }
   ],
   "source": [
    "#Define cofactors\n",
    "cofactors = set(['btn_c', 'thmpp_c', 'fad_c', 'pydx5p_c', 'nad_c', 'zn2_c', 'ca2_c'])\n",
    "\n",
    "for metabolites in model.metabolites:\n",
    "    if metabolites.id in cofactors:\n",
    "        print (metabolites.id)\n",
    "\n"
   ]
  },
  {
   "cell_type": "code",
   "execution_count": 38,
   "metadata": {
    "tags": []
   },
   "outputs": [
    {
     "name": "stdout",
     "output_type": "stream",
     "text": [
      "   ACCOAC :  btn_c : -1e-06\n",
      "     BTS4 :  btn_c : 1.0\n"
     ]
    }
   ],
   "source": [
    "#Remove biotin as a cofactor\n",
    "cofactor_rxns =[]\n",
    "for react in model.reactions:\n",
    "    result = react.check_mass_balance()\n",
    "    if 'EX_' in  react.id:\n",
    "        continue\n",
    "    if 'Nm_' in react.id:\n",
    "        continue\n",
    "    if \"DM_\" in react.id:\n",
    "        continue\n",
    "    if react.id in biomass_reactions:\n",
    "        continue\n",
    "    if len(result) == 0:\n",
    "        continue\n",
    "    else: \n",
    "        if \"btn_c\" in react.reaction:\n",
    "            cofactor_rxns.append(react.id)\n",
    "            print('%9s :  btn_c : %s' % (react.id, react._metabolites[model.metabolites.get_by_id('btn_c')]))\n",
    "            original_coefficient = react._metabolites[model.metabolites.get_by_id('btn_c')]\n",
    "            if abs(original_coefficient) >100:\n",
    "                react.subtract_metabolites({model.metabolites.btn_c: original_coefficient})\n",
    "            if abs(original_coefficient) <0.001:\n",
    "                react.subtract_metabolites({model.metabolites.btn_c: original_coefficient})\n",
    "            \n",
    "            \n",
    "if len(cofactor_rxns) == 0:\n",
    "        print ('No reactions')"
   ]
  },
  {
   "cell_type": "code",
   "execution_count": 39,
   "metadata": {
    "scrolled": true
   },
   "outputs": [
    {
     "data": {
      "text/html": [
       "\n",
       "        <table>\n",
       "            <tr>\n",
       "                <td><strong>Reaction identifier</strong></td><td>ACCOAC</td>\n",
       "            </tr><tr>\n",
       "                <td><strong>Name</strong></td><td>R_ACCOAC</td>\n",
       "            </tr><tr>\n",
       "                <td><strong>Memory address</strong></td>\n",
       "                <td>0x02043afe56a0</td>\n",
       "            </tr><tr>\n",
       "                <td><strong>Stoichiometry</strong></td>\n",
       "                <td>\n",
       "                    <p style='text-align:right'>accoa_c + atp_c + hco3_c --> adp_c + h_c + malcoa_c + pi_c</p>\n",
       "                    <p style='text-align:right'>Acetyl-CoA + ATP + Bicarbonate --> ADP + H + Malonyl-CoA + Phosphate</p>\n",
       "                </td>\n",
       "            </tr><tr>\n",
       "                <td><strong>GPR</strong></td><td>(NGO0821 or NGO0821) and NGO0044 and NGO0249 and NGO0045 and NGO2001</td>\n",
       "            </tr><tr>\n",
       "                <td><strong>Lower bound</strong></td><td>0.0</td>\n",
       "            </tr><tr>\n",
       "                <td><strong>Upper bound</strong></td><td>999999.0</td>\n",
       "            </tr>\n",
       "        </table>\n",
       "        "
      ],
      "text/plain": [
       "<Reaction ACCOAC at 0x2043afe56a0>"
      ]
     },
     "execution_count": 39,
     "metadata": {},
     "output_type": "execute_result"
    }
   ],
   "source": [
    "#Biotin has been removed as a cofactor all reactions\n",
    "#example\n",
    "model.reactions.ACCOAC"
   ]
  },
  {
   "cell_type": "code",
   "execution_count": 40,
   "metadata": {
    "scrolled": true
   },
   "outputs": [
    {
     "data": {
      "text/html": [
       "\n",
       "        <table>\n",
       "            <tr>\n",
       "                <td><strong>Reaction identifier</strong></td><td>BTS4</td>\n",
       "            </tr><tr>\n",
       "                <td><strong>Name</strong></td><td>R_BTS4</td>\n",
       "            </tr><tr>\n",
       "                <td><strong>Memory address</strong></td>\n",
       "                <td>0x02043b042eb0</td>\n",
       "            </tr><tr>\n",
       "                <td><strong>Stoichiometry</strong></td>\n",
       "                <td>\n",
       "                    <p style='text-align:right'>amet_c + dtbt_c + h_c --> btn_c + dad_5_c + h2o_c + met_L_c + o2_c</p>\n",
       "                    <p style='text-align:right'>S-Adenosyl-L-methionine + Dethiobiotin + H --> Biotin + 5-Deoxyadenosine + H2O + L-Methionine + O2</p>\n",
       "                </td>\n",
       "            </tr><tr>\n",
       "                <td><strong>GPR</strong></td><td>NGO0813 or NGO0813</td>\n",
       "            </tr><tr>\n",
       "                <td><strong>Lower bound</strong></td><td>0.0</td>\n",
       "            </tr><tr>\n",
       "                <td><strong>Upper bound</strong></td><td>999999.0</td>\n",
       "            </tr>\n",
       "        </table>\n",
       "        "
      ],
      "text/plain": [
       "<Reaction BTS4 at 0x2043b042eb0>"
      ]
     },
     "execution_count": 40,
     "metadata": {},
     "output_type": "execute_result"
    }
   ],
   "source": [
    "#But Biotin has not been removed if it is an actual reactant\n",
    "#example\n",
    "model.reactions.BTS4"
   ]
  },
  {
   "cell_type": "code",
   "execution_count": 41,
   "metadata": {},
   "outputs": [
    {
     "data": {
      "text/plain": [
       "4.216064698818233"
      ]
     },
     "execution_count": 41,
     "metadata": {},
     "output_type": "execute_result"
    }
   ],
   "source": [
    "model.slim_optimize()"
   ]
  },
  {
   "cell_type": "code",
   "execution_count": 42,
   "metadata": {
    "scrolled": true
   },
   "outputs": [
    {
     "name": "stdout",
     "output_type": "stream",
     "text": [
      "    ACHBS :  thmpp_c : -1e-07\n",
      "     ACLS :  thmpp_c : -1e-07\n",
      "       CS :  thmpp_c : -1e-06\n",
      "     DXPS :  thmpp_c : -1e-07\n",
      "      PDH :  thmpp_c : -1e-06\n"
     ]
    }
   ],
   "source": [
    "#Remove thmpp_c\n",
    "cofactor_rxns =[]\n",
    "for react in model.reactions:\n",
    "    result = react.check_mass_balance()\n",
    "    if 'EX_' in  react.id:\n",
    "        continue\n",
    "    if 'Nm_' in react.id:\n",
    "        continue\n",
    "    if \"DM_\" in react.id:\n",
    "        continue\n",
    "    if react.id in biomass_reactions:\n",
    "        continue\n",
    "    if len(result) == 0:\n",
    "        continue\n",
    "    else: \n",
    "        if \"thmpp_c\" in react.reaction:\n",
    "            cofactor_rxns.append(react.id)\n",
    "            print('%9s :  thmpp_c : %s' % (react.id, react._metabolites[model.metabolites.get_by_id('thmpp_c')]))\n",
    "            original_coefficient = react._metabolites[model.metabolites.get_by_id('thmpp_c')]\n",
    "            if abs(original_coefficient) >100:\n",
    "                react.subtract_metabolites({model.metabolites.thmpp_c: original_coefficient})\n",
    "            if abs(original_coefficient) <0.001:\n",
    "                react.subtract_metabolites({model.metabolites.thmpp_c: original_coefficient})\n",
    "            \n",
    "            \n",
    "if len(cofactor_rxns) == 0:\n",
    "        print ('No reactions')"
   ]
  },
  {
   "cell_type": "code",
   "execution_count": 43,
   "metadata": {
    "scrolled": true
   },
   "outputs": [
    {
     "data": {
      "text/html": [
       "\n",
       "        <table>\n",
       "            <tr>\n",
       "                <td><strong>Reaction identifier</strong></td><td>ACHBS</td>\n",
       "            </tr><tr>\n",
       "                <td><strong>Name</strong></td><td>R_ACHBS</td>\n",
       "            </tr><tr>\n",
       "                <td><strong>Memory address</strong></td>\n",
       "                <td>0x02043afea7c0</td>\n",
       "            </tr><tr>\n",
       "                <td><strong>Stoichiometry</strong></td>\n",
       "                <td>\n",
       "                    <p style='text-align:right'>2obut_c + h_c + pyr_c --> 2ahbut_c + co2_c</p>\n",
       "                    <p style='text-align:right'>2-Oxobutanoate + H + Pyruvate --> S-2-Aceto-2-hydroxybutanoate + CO2</p>\n",
       "                </td>\n",
       "            </tr><tr>\n",
       "                <td><strong>GPR</strong></td><td>NGO1236 and (Blank or NGO1235)</td>\n",
       "            </tr><tr>\n",
       "                <td><strong>Lower bound</strong></td><td>0.0</td>\n",
       "            </tr><tr>\n",
       "                <td><strong>Upper bound</strong></td><td>999999.0</td>\n",
       "            </tr>\n",
       "        </table>\n",
       "        "
      ],
      "text/plain": [
       "<Reaction ACHBS at 0x2043afea7c0>"
      ]
     },
     "execution_count": 43,
     "metadata": {},
     "output_type": "execute_result"
    }
   ],
   "source": [
    "#example\n",
    "model.reactions.ACHBS"
   ]
  },
  {
   "cell_type": "code",
   "execution_count": 44,
   "metadata": {},
   "outputs": [
    {
     "data": {
      "text/plain": [
       "4.216072346346126"
      ]
     },
     "execution_count": 44,
     "metadata": {},
     "output_type": "execute_result"
    }
   ],
   "source": [
    "#Fix naming for thiamine\n",
    "#model.metabolites.get_by_id(\"the_c\").id= \"thm_e\"\n",
    "#model.metabolites.get_by_id(\"thp_c\").id = \"thm_p\"\n",
    "#model.metabolites.get_by_id(\"thc_c\").id = \"thm_c\"\n",
    "\n",
    "model.slim_optimize()"
   ]
  },
  {
   "cell_type": "code",
   "execution_count": 45,
   "metadata": {
    "scrolled": true
   },
   "outputs": [
    {
     "name": "stdout",
     "output_type": "stream",
     "text": [
      "    ASPO3 :  fad_c : -1e-07\n",
      "    ASPO5 :  fad_c : -1e-07\n",
      "    ASPO6 :  fad_c : -1e-07\n",
      "    CHORS :  fad_c : -1e-07\n",
      "   DHORD2 :  fad_c : -1e-07\n",
      "     FUMR :  fad_c : -1e-08\n",
      "   MTHFR2 :  fad_c : -1e-07\n",
      " NADH16pp :  fad_c : -1e-07\n",
      "    NADH5 :  fad_c : -1e-07\n",
      "  NADHQNa :  fad_c : -1e-07\n",
      " NADPHQR2 :  fad_c : -1e-07\n",
      "    PPPGO :  fad_c : -1e-07\n",
      "    SUCD1 :  fad_c : -1e-08\n",
      "    UAPGR :  fad_c : -1e-07\n"
     ]
    }
   ],
   "source": [
    "#Remove fad_c\n",
    "cofactor_rxns =[]\n",
    "for react in model.reactions:\n",
    "    result = react.check_mass_balance()\n",
    "    if 'EX_' in  react.id:\n",
    "        continue\n",
    "    if 'Nm_' in react.id:\n",
    "        continue\n",
    "    if \"DM_\" in react.id:\n",
    "        continue\n",
    "    if react.id in biomass_reactions:\n",
    "        continue\n",
    "    if len(result) == 0:\n",
    "        continue\n",
    "    else: \n",
    "        if \"fad_c\" in react.reaction:\n",
    "            cofactor_rxns.append(react.id)\n",
    "            print('%9s :  fad_c : %s' % (react.id, react._metabolites[model.metabolites.get_by_id('fad_c')]))\n",
    "            original_coefficient = react._metabolites[model.metabolites.get_by_id('fad_c')]\n",
    "            if abs(original_coefficient) >100:\n",
    "                react.subtract_metabolites({model.metabolites.fad_c: original_coefficient})\n",
    "            if abs(original_coefficient) <0.001:\n",
    "                react.subtract_metabolites({model.metabolites.fad_c: original_coefficient})\n",
    "            \n",
    "            \n",
    "if len(cofactor_rxns) == 0:\n",
    "        print ('No reactions')"
   ]
  },
  {
   "cell_type": "code",
   "execution_count": 46,
   "metadata": {},
   "outputs": [
    {
     "data": {
      "text/plain": [
       "4.216072458380771"
      ]
     },
     "execution_count": 46,
     "metadata": {},
     "output_type": "execute_result"
    }
   ],
   "source": [
    "model.slim_optimize()"
   ]
  },
  {
   "cell_type": "code",
   "execution_count": 47,
   "metadata": {
    "tags": []
   },
   "outputs": [
    {
     "name": "stdout",
     "output_type": "stream",
     "text": [
      "     ADCL :  pydx5p_c : -1e-07\n",
      "     ADCS :  pydx5p_c : -1e-07\n",
      "   AMAOTr :  pydx5p_c : -1e-07\n",
      "    ARGDC :  pydx5p_c : -1e-07\n",
      "     CYSS :  pydx5p_c : -1e-07\n",
      "    DAPDC :  pydx5p_c : -1e-07\n",
      "     PGCD :  pydx5p_c : -1e-07\n",
      "   PSD120 :  pydx5p_c : -1e-07\n",
      "   PSD140 :  pydx5p_c : -1e-07\n",
      "   PSD141 :  pydx5p_c : -1e-07\n",
      "  PSD141b :  pydx5p_c : -1e-07\n",
      "   PSD160 :  pydx5p_c : -1e-07\n",
      "  PSD160a :  pydx5p_c : -1e-07\n",
      "  PSD160b :  pydx5p_c : -1e-07\n",
      "  PSD160c :  pydx5p_c : -1e-07\n",
      "  PSD160e :  pydx5p_c : -1e-07\n",
      "  PSD161a :  pydx5p_c : -1e-07\n",
      "   PSD180 :  pydx5p_c : -1e-07\n",
      "   PSD181 :  pydx5p_c : -1e-07\n",
      "    PSERT :  pydx5p_c : -1e-07\n",
      "   SERD_L :  pydx5p_c : -1e-07\n",
      "    SHSL5 :  pydx5p_c : -1e-07\n",
      "   THRD_L :  pydx5p_c : -1e-07\n",
      "     THRS :  pydx5p_c : -1e-07\n"
     ]
    }
   ],
   "source": [
    "#Remove pydx5p_c\n",
    "cofactor_rxns =[]\n",
    "for react in model.reactions:\n",
    "    result = react.check_mass_balance()\n",
    "    if 'EX_' in  react.id:\n",
    "        continue\n",
    "    if 'Nm_' in react.id:\n",
    "        continue\n",
    "    if \"DM_\" in react.id:\n",
    "        continue\n",
    "    if react.id in biomass_reactions:\n",
    "        continue\n",
    "    if len(result) == 0:\n",
    "        continue\n",
    "    else: \n",
    "        if \"pydx5p_c\" in react.reaction:\n",
    "            cofactor_rxns.append(react.id)\n",
    "            print('%9s :  pydx5p_c : %s' % (react.id, react._metabolites[model.metabolites.get_by_id('pydx5p_c')]))\n",
    "            original_coefficient = react._metabolites[model.metabolites.get_by_id('pydx5p_c')]\n",
    "            if abs(original_coefficient) >100:\n",
    "                react.subtract_metabolites({model.metabolites.pydx5p_c: original_coefficient})\n",
    "            if abs(original_coefficient) <0.001:\n",
    "                react.subtract_metabolites({model.metabolites.pydx5p_c: original_coefficient})\n",
    "            \n",
    "            \n",
    "if len(cofactor_rxns) == 0:\n",
    "        print ('No reactions')"
   ]
  },
  {
   "cell_type": "code",
   "execution_count": 48,
   "metadata": {},
   "outputs": [
    {
     "data": {
      "text/plain": [
       "4.216072785855977"
      ]
     },
     "execution_count": 48,
     "metadata": {},
     "output_type": "execute_result"
    }
   ],
   "source": [
    "model.slim_optimize()"
   ]
  },
  {
   "cell_type": "code",
   "execution_count": 49,
   "metadata": {
    "scrolled": true
   },
   "outputs": [
    {
     "name": "stdout",
     "output_type": "stream",
     "text": [
      "    AGMHE :  nad_c : -1e-07\n",
      "   AMPMS2 :  nad_c : -1.0\n",
      "     DHQS :  nad_c : -1e-07\n",
      "  EAR161a :  nad_c : 1.0\n",
      " GLYCLTDx :  nad_c : 1.0\n",
      "     IPPS :  nad_c : -1e-07\n",
      "  NADHQNa :  nad_c : 1.0\n"
     ]
    }
   ],
   "source": [
    "#Remove nad_c\n",
    "cofactor_rxns =[]\n",
    "for react in model.reactions:\n",
    "    result = react.check_mass_balance()\n",
    "    if 'EX_' in  react.id:\n",
    "        continue\n",
    "    if 'Nm_' in react.id:\n",
    "        continue\n",
    "    if \"DM_\" in react.id:\n",
    "        continue\n",
    "    if react.id in biomass_reactions:\n",
    "        continue\n",
    "    if len(result) == 0:\n",
    "        continue\n",
    "    else: \n",
    "        if \"nad_c\" in react.reaction:\n",
    "            cofactor_rxns.append(react.id)\n",
    "            print('%9s :  nad_c : %s' % (react.id, react._metabolites[model.metabolites.get_by_id('nad_c')]))\n",
    "            original_coefficient = react._metabolites[model.metabolites.get_by_id('nad_c')]\n",
    "            if abs(original_coefficient) >100:\n",
    "                react.subtract_metabolites({model.metabolites.nad_c: original_coefficient})\n",
    "            if abs(original_coefficient) <0.001:\n",
    "                react.subtract_metabolites({model.metabolites.nad_c: original_coefficient})\n",
    "            \n",
    "            \n",
    "if len(cofactor_rxns) == 0:\n",
    "        print ('No reactions')"
   ]
  },
  {
   "cell_type": "code",
   "execution_count": 50,
   "metadata": {
    "scrolled": true
   },
   "outputs": [
    {
     "name": "stdout",
     "output_type": "stream",
     "text": [
      "AMPTASECG :  zn2_c : -1e-07\n",
      "     METS :  zn2_c : -1e-07\n",
      "   PPBNGS :  zn2_c : -1e-07\n"
     ]
    }
   ],
   "source": [
    "#Remove zn2_c\n",
    "cofactor_rxns =[]\n",
    "for react in model.reactions:\n",
    "    result = react.check_mass_balance()\n",
    "    if 'EX_' in  react.id:\n",
    "        continue\n",
    "    if 'Nm_' in react.id:\n",
    "        continue\n",
    "    if \"DM_\" in react.id:\n",
    "        continue\n",
    "    if react.id in biomass_reactions:\n",
    "        continue\n",
    "    if len(result) == 0:\n",
    "        continue\n",
    "    else: \n",
    "        if \"zn2_c\" in react.reaction:\n",
    "            cofactor_rxns.append(react.id)\n",
    "            print('%9s :  zn2_c : %s' % (react.id, react._metabolites[model.metabolites.get_by_id('zn2_c')]))\n",
    "            original_coefficient = react._metabolites[model.metabolites.get_by_id('zn2_c')]\n",
    "            if abs(original_coefficient) >100:\n",
    "                react.subtract_metabolites({model.metabolites.zn2_c: original_coefficient})\n",
    "            if abs(original_coefficient) <0.001:\n",
    "                react.subtract_metabolites({model.metabolites.zn2_c: original_coefficient})\n",
    "            \n",
    "            \n",
    "if len(cofactor_rxns) == 0:\n",
    "        print ('No reactions')"
   ]
  },
  {
   "cell_type": "code",
   "execution_count": 51,
   "metadata": {
    "scrolled": true
   },
   "outputs": [
    {
     "name": "stdout",
     "output_type": "stream",
     "text": [
      "PLIPA1A120pp :  ca2_c : -1e-07\n",
      "PLIPA1A140pp :  ca2_c : -1e-07\n",
      "PLIPA1A141b :  ca2_c : -1e-07\n",
      "PLIPA1A141pp :  ca2_c : -1e-07\n",
      "PLIPA1A160a :  ca2_c : -1e-07\n",
      "PLIPA1A160b :  ca2_c : -1e-07\n",
      "PLIPA1A160c :  ca2_c : -1e-07\n",
      "PLIPA1A160e :  ca2_c : -1e-07\n",
      "PLIPA1A160pp :  ca2_c : -1e-07\n",
      "PLIPA1A161a :  ca2_c : -1e-07\n",
      "PLIPA1A180pp :  ca2_c : -1e-07\n",
      "PLIPA1A181pp :  ca2_c : -1e-07\n",
      "PLIPA1E120pp :  ca2_c : -1e-07\n",
      "PLIPA1E140pp :  ca2_c : -1e-07\n",
      "PLIPA1E141b :  ca2_c : -1e-07\n",
      "PLIPA1E141pp :  ca2_c : -1e-07\n",
      "PLIPA1E160a :  ca2_c : -1e-07\n",
      "PLIPA1E160b :  ca2_c : -1e-07\n",
      "PLIPA1E160c :  ca2_c : -1e-07\n",
      "PLIPA1E160e :  ca2_c : -1e-07\n",
      "PLIPA1E160pp :  ca2_c : -1e-07\n",
      "PLIPA1E161a :  ca2_c : -1e-07\n",
      "PLIPA1E180pp :  ca2_c : -1e-07\n",
      "PLIPA1E181pp :  ca2_c : -1e-07\n",
      "PLIPA1G120pp :  ca2_c : -1e-07\n",
      "PLIPA1G140pp :  ca2_c : -1e-07\n",
      "PLIPA1G141b :  ca2_c : -1e-07\n",
      "PLIPA1G141pp :  ca2_c : -1e-07\n",
      "PLIPA1G160a :  ca2_c : -1e-07\n",
      "PLIPA1G160b :  ca2_c : -1e-07\n",
      "PLIPA1G160c :  ca2_c : -1e-07\n",
      "PLIPA1G160e :  ca2_c : -1e-07\n",
      "PLIPA1G160pp :  ca2_c : -1e-07\n",
      "PLIPA1G161a :  ca2_c : -1e-07\n",
      "PLIPA1G180pp :  ca2_c : -1e-07\n",
      "PLIPA1G181pp :  ca2_c : -1e-07\n"
     ]
    }
   ],
   "source": [
    "#Remove ca2_c\n",
    "cofactor_rxns =[]\n",
    "for react in model.reactions:\n",
    "    result = react.check_mass_balance()\n",
    "    if 'EX_' in  react.id:\n",
    "        continue\n",
    "    if 'Nm_' in react.id:\n",
    "        continue\n",
    "    if \"DM_\" in react.id:\n",
    "        continue\n",
    "    if react.id in biomass_reactions:\n",
    "        continue\n",
    "    if len(result) == 0:\n",
    "        continue\n",
    "    else: \n",
    "        if \"ca2_c\" in react.reaction:\n",
    "            cofactor_rxns.append(react.id)\n",
    "            print('%9s :  ca2_c : %s' % (react.id, react._metabolites[model.metabolites.get_by_id('ca2_c')]))\n",
    "            original_coefficient = react._metabolites[model.metabolites.get_by_id('ca2_c')]\n",
    "            if abs(original_coefficient) >100:\n",
    "                react.subtract_metabolites({model.metabolites.ca2_c: original_coefficient})\n",
    "            if abs(original_coefficient) <0.001:\n",
    "                react.subtract_metabolites({model.metabolites.ca2_c: original_coefficient})\n",
    "            \n",
    "            \n",
    "if len(cofactor_rxns) == 0:\n",
    "        print ('No reactions')"
   ]
  },
  {
   "cell_type": "code",
   "execution_count": 52,
   "metadata": {
    "scrolled": true
   },
   "outputs": [
    {
     "name": "stdout",
     "output_type": "stream",
     "text": [
      "  SPODMMn :  mn2_c : -1e-07\n"
     ]
    }
   ],
   "source": [
    "#Remove mn2_c\n",
    "cofactor_rxns =[]\n",
    "for react in model.reactions:\n",
    "    result = react.check_mass_balance()\n",
    "    if 'EX_' in  react.id:\n",
    "        continue\n",
    "    if 'Nm_' in react.id:\n",
    "        continue\n",
    "    if \"DM_\" in react.id:\n",
    "        continue\n",
    "    if react.id in biomass_reactions:\n",
    "        continue\n",
    "    if len(result) == 0:\n",
    "        continue\n",
    "    else: \n",
    "        if \"mn2_c\" in react.reaction:\n",
    "            cofactor_rxns.append(react.id)\n",
    "            print('%9s :  mn2_c : %s' % (react.id, react._metabolites[model.metabolites.get_by_id('mn2_c')]))\n",
    "            original_coefficient = react._metabolites[model.metabolites.get_by_id('mn2_c')]\n",
    "            if abs(original_coefficient) >100:\n",
    "                react.subtract_metabolites({model.metabolites.mn2_c: original_coefficient})\n",
    "            if abs(original_coefficient) <0.001:\n",
    "                react.subtract_metabolites({model.metabolites.mn2_c: original_coefficient})\n",
    "            \n",
    "            \n",
    "if len(cofactor_rxns) == 0:\n",
    "        print ('No reactions')"
   ]
  },
  {
   "cell_type": "code",
   "execution_count": 53,
   "metadata": {
    "scrolled": true
   },
   "outputs": [
    {
     "name": "stdout",
     "output_type": "stream",
     "text": [
      "PHEMEFErel :  fe2_c : 1.0\n",
      "    PROHX :  fe2_c : -1e-07\n"
     ]
    }
   ],
   "source": [
    "#Remove fe2_c\n",
    "cofactor_rxns =[]\n",
    "for react in model.reactions:\n",
    "    result = react.check_mass_balance()\n",
    "    if 'EX_' in  react.id:\n",
    "        continue\n",
    "    if 'Nm_' in react.id:\n",
    "        continue\n",
    "    if \"DM_\" in react.id:\n",
    "        continue\n",
    "    if react.id in biomass_reactions:\n",
    "        continue\n",
    "    if len(result) == 0:\n",
    "        continue\n",
    "    else: \n",
    "        if \"fe2_c\" in react.reaction:\n",
    "            cofactor_rxns.append(react.id)\n",
    "            print('%9s :  fe2_c : %s' % (react.id, react._metabolites[model.metabolites.get_by_id('fe2_c')]))\n",
    "            original_coefficient = react._metabolites[model.metabolites.get_by_id('fe2_c')]\n",
    "            if abs(original_coefficient) >100:\n",
    "                react.subtract_metabolites({model.metabolites.fe2_c: original_coefficient})\n",
    "            if abs(original_coefficient) <0.001:\n",
    "                react.subtract_metabolites({model.metabolites.fe2_c: original_coefficient})\n",
    "            \n",
    "            \n",
    "if len(cofactor_rxns) == 0:\n",
    "        print ('No reactions')"
   ]
  },
  {
   "cell_type": "code",
   "execution_count": 54,
   "metadata": {
    "scrolled": true
   },
   "outputs": [
    {
     "name": "stdout",
     "output_type": "stream",
     "text": [
      "70 70 70\n"
     ]
    },
    {
     "data": {
      "text/html": [
       "<div>\n",
       "<style scoped>\n",
       "    .dataframe tbody tr th:only-of-type {\n",
       "        vertical-align: middle;\n",
       "    }\n",
       "\n",
       "    .dataframe tbody tr th {\n",
       "        vertical-align: top;\n",
       "    }\n",
       "\n",
       "    .dataframe thead th {\n",
       "        text-align: right;\n",
       "    }\n",
       "</style>\n",
       "<table border=\"1\" class=\"dataframe\">\n",
       "  <thead>\n",
       "    <tr style=\"text-align: right;\">\n",
       "      <th></th>\n",
       "      <th>Reactions</th>\n",
       "      <th>Charge</th>\n",
       "      <th>Masses</th>\n",
       "    </tr>\n",
       "  </thead>\n",
       "  <tbody>\n",
       "    <tr>\n",
       "      <th>0</th>\n",
       "      <td>3HAD161x</td>\n",
       "      <td></td>\n",
       "      <td>{'C': 29.0, 'H': 47.0, 'N': 2.0, 'O': 8.0, 'P'...</td>\n",
       "    </tr>\n",
       "    <tr>\n",
       "      <th>1</th>\n",
       "      <td>3OAS161a</td>\n",
       "      <td></td>\n",
       "      <td>{'C': -12.0, 'H': -21.0, 'N': -2.0, 'O': -9.0,...</td>\n",
       "    </tr>\n",
       "    <tr>\n",
       "      <th>2</th>\n",
       "      <td>ACPH</td>\n",
       "      <td></td>\n",
       "      <td>{'H': -2.0, 'O': -1.0, 'R': -1.0}</td>\n",
       "    </tr>\n",
       "    <tr>\n",
       "      <th>3</th>\n",
       "      <td>ACPS1</td>\n",
       "      <td></td>\n",
       "      <td>{'H': 1.0, 'O': 1.0, 'R': 1.0}</td>\n",
       "    </tr>\n",
       "    <tr>\n",
       "      <th>4</th>\n",
       "      <td>AGPAT160e</td>\n",
       "      <td></td>\n",
       "      <td>{'C': 2.0, 'H': 4.0}</td>\n",
       "    </tr>\n",
       "    <tr>\n",
       "      <th>...</th>\n",
       "      <td>...</td>\n",
       "      <td>...</td>\n",
       "      <td>...</td>\n",
       "    </tr>\n",
       "    <tr>\n",
       "      <th>65</th>\n",
       "      <td>SHSL5</td>\n",
       "      <td></td>\n",
       "      <td>{'H': -1.0}</td>\n",
       "    </tr>\n",
       "    <tr>\n",
       "      <th>66</th>\n",
       "      <td>SIALT1</td>\n",
       "      <td></td>\n",
       "      <td>{'C': -11.0, 'H': -18.0, 'N': -1.0, 'O': -8.0}</td>\n",
       "    </tr>\n",
       "    <tr>\n",
       "      <th>67</th>\n",
       "      <td>TFFE</td>\n",
       "      <td></td>\n",
       "      <td>{'Fe': 1.0}</td>\n",
       "    </tr>\n",
       "    <tr>\n",
       "      <th>68</th>\n",
       "      <td>TRDR1</td>\n",
       "      <td></td>\n",
       "      <td>{'X': 1.0}</td>\n",
       "    </tr>\n",
       "    <tr>\n",
       "      <th>69</th>\n",
       "      <td>TSULST</td>\n",
       "      <td></td>\n",
       "      <td>{'H': -2.0}</td>\n",
       "    </tr>\n",
       "  </tbody>\n",
       "</table>\n",
       "<p>70 rows × 3 columns</p>\n",
       "</div>"
      ],
      "text/plain": [
       "    Reactions Charge                                             Masses\n",
       "0    3HAD161x         {'C': 29.0, 'H': 47.0, 'N': 2.0, 'O': 8.0, 'P'...\n",
       "1    3OAS161a         {'C': -12.0, 'H': -21.0, 'N': -2.0, 'O': -9.0,...\n",
       "2        ACPH                         {'H': -2.0, 'O': -1.0, 'R': -1.0}\n",
       "3       ACPS1                            {'H': 1.0, 'O': 1.0, 'R': 1.0}\n",
       "4   AGPAT160e                                      {'C': 2.0, 'H': 4.0}\n",
       "..        ...    ...                                                ...\n",
       "65      SHSL5                                               {'H': -1.0}\n",
       "66     SIALT1            {'C': -11.0, 'H': -18.0, 'N': -1.0, 'O': -8.0}\n",
       "67       TFFE                                               {'Fe': 1.0}\n",
       "68      TRDR1                                                {'X': 1.0}\n",
       "69     TSULST                                               {'H': -2.0}\n",
       "\n",
       "[70 rows x 3 columns]"
      ]
     },
     "execution_count": 54,
     "metadata": {},
     "output_type": "execute_result"
    }
   ],
   "source": [
    "#After bulk removing cofactors, what reaction imbalances remain?\n",
    "reactions = []\n",
    "charge = []\n",
    "mass = []\n",
    "for react in model.reactions:\n",
    "    result = react.check_mass_balance()\n",
    "    if 'EX_' in  react.id:\n",
    "        continue\n",
    "    if 'Nm_' in  react.id:\n",
    "        continue\n",
    "    if 'DM_' in  react.id:\n",
    "        continue \n",
    "    if react.id in biomass_reactions:\n",
    "        continue\n",
    "    if len(result) == 0:\n",
    "        continue\n",
    "    else: \n",
    "        reactions.append(react.id)\n",
    "        masses = {}\n",
    "        for key in result.keys():\n",
    "            if key == 'charge':\n",
    "                charge.append(result['charge'])\n",
    "            else:\n",
    "                masses[key] = result[key]\n",
    "        if 'charge' not in result.keys():\n",
    "            charge.append('')\n",
    "        mass.append(masses)\n",
    "print(len(reactions), len(charge), len(mass))\n",
    "\n",
    "mass_charge_dict = {'Reactions': reactions, 'Charge': charge, 'Masses': mass}\n",
    "mass_charge = pandas.DataFrame(mass_charge_dict)\n",
    "mass_charge.to_csv('imbalancesremaining.csv')\n",
    "mass_charge"
   ]
  },
  {
   "cell_type": "code",
   "execution_count": 55,
   "metadata": {},
   "outputs": [
    {
     "data": {
      "text/plain": [
       "4.216072785932971"
      ]
     },
     "execution_count": 55,
     "metadata": {},
     "output_type": "execute_result"
    }
   ],
   "source": [
    "model.slim_optimize()"
   ]
  },
  {
   "cell_type": "code",
   "execution_count": 56,
   "metadata": {
    "scrolled": true
   },
   "outputs": [
    {
     "name": "stdout",
     "output_type": "stream",
     "text": [
      "{'H': -2.0, 'O': -1.0, 'R': -1.0}\n"
     ]
    },
    {
     "data": {
      "text/html": [
       "\n",
       "        <table>\n",
       "            <tr>\n",
       "                <td><strong>Reaction identifier</strong></td><td>ACPH</td>\n",
       "            </tr><tr>\n",
       "                <td><strong>Name</strong></td><td>R_ACPH</td>\n",
       "            </tr><tr>\n",
       "                <td><strong>Memory address</strong></td>\n",
       "                <td>0x02043afee760</td>\n",
       "            </tr><tr>\n",
       "                <td><strong>Stoichiometry</strong></td>\n",
       "                <td>\n",
       "                    <p style='text-align:right'>ACP_c + h2o_c --> pan4p_c</p>\n",
       "                    <p style='text-align:right'>acyl-carrier-protein + H2O --> Pantetheine-4-phosphate</p>\n",
       "                </td>\n",
       "            </tr><tr>\n",
       "                <td><strong>GPR</strong></td><td>Orphan</td>\n",
       "            </tr><tr>\n",
       "                <td><strong>Lower bound</strong></td><td>0.0</td>\n",
       "            </tr><tr>\n",
       "                <td><strong>Upper bound</strong></td><td>999999.0</td>\n",
       "            </tr>\n",
       "        </table>\n",
       "        "
      ],
      "text/plain": [
       "<Reaction ACPH at 0x2043afee760>"
      ]
     },
     "execution_count": 56,
     "metadata": {},
     "output_type": "execute_result"
    }
   ],
   "source": [
    "#Correct Imbalances for ACP reactions\n",
    "#ACPH\n",
    "r = model.reactions.get_by_id('ACPH')\n",
    "print(r.check_mass_balance())\n",
    "r\n"
   ]
  },
  {
   "cell_type": "code",
   "execution_count": 57,
   "metadata": {
    "scrolled": true
   },
   "outputs": [
    {
     "name": "stdout",
     "output_type": "stream",
     "text": [
      "ACPH: ACP_c + h2o_c --> apoACP_c + h_c + pan4p_c\n",
      "{}\n"
     ]
    }
   ],
   "source": [
    "apoACP_c = Metabolite(\n",
    "    'apoACP_c',\n",
    "    formula='HOR',\n",
    "    name='apo acyl-carrier-protein',\n",
    "    compartment='cytosol')\n",
    "\n",
    "h_c = model.metabolites.get_by_id('h_c')\n",
    "\n",
    "r.add_metabolites({\n",
    "    apoACP_c: 1.0,\n",
    "    h_c: 1.0})\n",
    "\n",
    "print(r)\n",
    "print(r.check_mass_balance())"
   ]
  },
  {
   "cell_type": "code",
   "execution_count": 58,
   "metadata": {},
   "outputs": [
    {
     "data": {
      "text/plain": [
       "4.216072785932986"
      ]
     },
     "execution_count": 58,
     "metadata": {},
     "output_type": "execute_result"
    }
   ],
   "source": [
    "model.slim_optimize()"
   ]
  },
  {
   "cell_type": "code",
   "execution_count": 59,
   "metadata": {
    "scrolled": true
   },
   "outputs": [
    {
     "name": "stdout",
     "output_type": "stream",
     "text": [
      "{'H': 1.0, 'O': 1.0, 'R': 1.0}\n"
     ]
    },
    {
     "data": {
      "text/html": [
       "\n",
       "        <table>\n",
       "            <tr>\n",
       "                <td><strong>Reaction identifier</strong></td><td>ACPS1</td>\n",
       "            </tr><tr>\n",
       "                <td><strong>Name</strong></td><td>R_ACPS1</td>\n",
       "            </tr><tr>\n",
       "                <td><strong>Memory address</strong></td>\n",
       "                <td>0x02043aff26a0</td>\n",
       "            </tr><tr>\n",
       "                <td><strong>Stoichiometry</strong></td>\n",
       "                <td>\n",
       "                    <p style='text-align:right'>coa_c --> ACP_c + h_c + pap_c</p>\n",
       "                    <p style='text-align:right'>Coenzyme-A --> acyl-carrier-protein + H + Adenosine-3-5-bisphosphate</p>\n",
       "                </td>\n",
       "            </tr><tr>\n",
       "                <td><strong>GPR</strong></td><td>NGO1507</td>\n",
       "            </tr><tr>\n",
       "                <td><strong>Lower bound</strong></td><td>0.0</td>\n",
       "            </tr><tr>\n",
       "                <td><strong>Upper bound</strong></td><td>999999.0</td>\n",
       "            </tr>\n",
       "        </table>\n",
       "        "
      ],
      "text/plain": [
       "<Reaction ACPS1 at 0x2043aff26a0>"
      ]
     },
     "execution_count": 59,
     "metadata": {},
     "output_type": "execute_result"
    }
   ],
   "source": [
    "#ACPS1\n",
    "r = model.reactions.get_by_id('ACPS1')\n",
    "print(r.check_mass_balance())\n",
    "r\n"
   ]
  },
  {
   "cell_type": "code",
   "execution_count": 60,
   "metadata": {
    "scrolled": true
   },
   "outputs": [
    {
     "name": "stdout",
     "output_type": "stream",
     "text": [
      "ACPS1: apoACP_c + coa_c --> ACP_c + h_c + pap_c\n",
      "{}\n"
     ]
    }
   ],
   "source": [
    "r.add_metabolites({\n",
    "    apoACP_c: -1.0})\n",
    "\n",
    "print(r)\n",
    "print(r.check_mass_balance())"
   ]
  },
  {
   "cell_type": "code",
   "execution_count": 61,
   "metadata": {
    "scrolled": true
   },
   "outputs": [],
   "source": [
    "#Add apoACP import reaction. This is required to show \"synthesis\" of a protein based cofactor. \n",
    "#Integration of Biomass Formulations of Genome-Scale Metabolic Models with Experimental Data Reveals Universally Essential Cofactors in Prokaryotes\n",
    "#Joana C Xavier, Kiran Raosaheb Patil, Isabel Rocha\n",
    "#PMID: 27939572 PMCID: PMC5249239\n",
    "\n",
    "apoACP_c = model.metabolites.get_by_id('apoACP_c')\n",
    "\n",
    "EX_apoACP_c_ = cobra.Reaction('EX_apoACP_c_')\n",
    "EX_apoACP_c_.notes = {'citations': 'PMCID: PMC5249239', 'type': 'essential cofactor', 'annotation': ''}\n",
    "EX_apoACP_c_.name = 'exchange of apoACP'\n",
    "EX_apoACP_c_.gene_reaction_rule = ''\n",
    "EX_apoACP_c_.lower_bound = 0.\n",
    "EX_apoACP_c_.upper_bound = 1000.\n",
    "EX_apoACP_c_.add_metabolites({\n",
    "    apoACP_c: -1.0,\n",
    "  \n",
    "})\n",
    "\n",
    "model.add_reactions([EX_apoACP_c_])\n",
    "new_rxns += 1"
   ]
  },
  {
   "cell_type": "code",
   "execution_count": 62,
   "metadata": {
    "scrolled": true
   },
   "outputs": [
    {
     "data": {
      "text/html": [
       "\n",
       "        <table>\n",
       "            <tr>\n",
       "                <td><strong>Reaction identifier</strong></td><td>EX_apoACP_c_</td>\n",
       "            </tr><tr>\n",
       "                <td><strong>Name</strong></td><td>exchange of apoACP</td>\n",
       "            </tr><tr>\n",
       "                <td><strong>Memory address</strong></td>\n",
       "                <td>0x02043afee3d0</td>\n",
       "            </tr><tr>\n",
       "                <td><strong>Stoichiometry</strong></td>\n",
       "                <td>\n",
       "                    <p style='text-align:right'>apoACP_c --></p>\n",
       "                    <p style='text-align:right'>apo acyl-carrier-protein --></p>\n",
       "                </td>\n",
       "            </tr><tr>\n",
       "                <td><strong>GPR</strong></td><td></td>\n",
       "            </tr><tr>\n",
       "                <td><strong>Lower bound</strong></td><td>0.0</td>\n",
       "            </tr><tr>\n",
       "                <td><strong>Upper bound</strong></td><td>1000.0</td>\n",
       "            </tr>\n",
       "        </table>\n",
       "        "
      ],
      "text/plain": [
       "<Reaction EX_apoACP_c_ at 0x2043afee3d0>"
      ]
     },
     "execution_count": 62,
     "metadata": {},
     "output_type": "execute_result"
    }
   ],
   "source": [
    "r=model.reactions.get_by_id('EX_apoACP_c_')\n",
    "r"
   ]
  },
  {
   "cell_type": "code",
   "execution_count": 65,
   "metadata": {},
   "outputs": [
    {
     "data": {
      "text/plain": [
       "4.216072785932984"
      ]
     },
     "execution_count": 65,
     "metadata": {},
     "output_type": "execute_result"
    }
   ],
   "source": [
    "complete(model)\n",
    "model.slim_optimize()"
   ]
  },
  {
   "cell_type": "code",
   "execution_count": 66,
   "metadata": {
    "scrolled": true
   },
   "outputs": [
    {
     "name": "stdout",
     "output_type": "stream",
     "text": [
      "{'H': 1.0, 'O': -3.0, 'P': -1.0}\n"
     ]
    },
    {
     "data": {
      "text/html": [
       "\n",
       "        <table>\n",
       "            <tr>\n",
       "                <td><strong>Reaction identifier</strong></td><td>AMPMS2</td>\n",
       "            </tr><tr>\n",
       "                <td><strong>Name</strong></td><td>R_AMPMS2</td>\n",
       "            </tr><tr>\n",
       "                <td><strong>Memory address</strong></td>\n",
       "                <td>0x02043b0227f0</td>\n",
       "            </tr><tr>\n",
       "                <td><strong>Stoichiometry</strong></td>\n",
       "                <td>\n",
       "                    <p style='text-align:right'>air_c + h2o_c + nad_c --> 4ahmmp_c + 2.0 for_c + 3.0 h_c + nadh_c</p>\n",
       "                    <p style='text-align:right'>5-amino-1-5-phospho-D-ribosyl-imidazole + H2O + Nicotinamide-adenine-dinucleotide --> 4-Amino-5-hydroxymethyl-2-methylpyrimidine + 2.0 Formate + 3.0 H + Nicotinamide-adenine-dinucleotide--reduced</p>\n",
       "                </td>\n",
       "            </tr><tr>\n",
       "                <td><strong>GPR</strong></td><td>NGO2041</td>\n",
       "            </tr><tr>\n",
       "                <td><strong>Lower bound</strong></td><td>0.0</td>\n",
       "            </tr><tr>\n",
       "                <td><strong>Upper bound</strong></td><td>999999.0</td>\n",
       "            </tr>\n",
       "        </table>\n",
       "        "
      ],
      "text/plain": [
       "<Reaction AMPMS2 at 0x2043b0227f0>"
      ]
     },
     "execution_count": 66,
     "metadata": {},
     "output_type": "execute_result"
    }
   ],
   "source": [
    "#AMPMS2\n",
    "r = model.reactions.get_by_id('AMPMS2')\n",
    "print(r.check_mass_balance())\n",
    "r"
   ]
  },
  {
   "cell_type": "code",
   "execution_count": 67,
   "metadata": {
    "scrolled": true
   },
   "outputs": [],
   "source": [
    "#The reaction AMPMS2 should use 4ampm rather than 4ahmmp according to BIGG and KEGG. Replaced this metabolite in the reaction.\n"
   ]
  },
  {
   "cell_type": "code",
   "execution_count": 68,
   "metadata": {},
   "outputs": [
    {
     "name": "stdout",
     "output_type": "stream",
     "text": [
      "{}\n"
     ]
    },
    {
     "data": {
      "text/html": [
       "\n",
       "        <table>\n",
       "            <tr>\n",
       "                <td><strong>Reaction identifier</strong></td><td>AMPMS2</td>\n",
       "            </tr><tr>\n",
       "                <td><strong>Name</strong></td><td>R_AMPMS2</td>\n",
       "            </tr><tr>\n",
       "                <td><strong>Memory address</strong></td>\n",
       "                <td>0x02043b0227f0</td>\n",
       "            </tr><tr>\n",
       "                <td><strong>Stoichiometry</strong></td>\n",
       "                <td>\n",
       "                    <p style='text-align:right'>air_c + h2o_c + nad_c --> 4ampm_c + 2.0 for_c + 3.0 h_c + nadh_c</p>\n",
       "                    <p style='text-align:right'>5-amino-1-5-phospho-D-ribosyl-imidazole + H2O + Nicotinamide-adenine-dinucleotide --> 4-Amino-2-methyl-5-phosphomethylpyrimidine + 2.0 Formate + 3.0 H + Nicotinamide-adenine-dinucleotide--reduced</p>\n",
       "                </td>\n",
       "            </tr><tr>\n",
       "                <td><strong>GPR</strong></td><td>NGO2041</td>\n",
       "            </tr><tr>\n",
       "                <td><strong>Lower bound</strong></td><td>0.0</td>\n",
       "            </tr><tr>\n",
       "                <td><strong>Upper bound</strong></td><td>999999.0</td>\n",
       "            </tr>\n",
       "        </table>\n",
       "        "
      ],
      "text/plain": [
       "<Reaction AMPMS2 at 0x2043b0227f0>"
      ]
     },
     "execution_count": 68,
     "metadata": {},
     "output_type": "execute_result"
    }
   ],
   "source": [
    "met1=model.metabolites.get_by_id('4ampm_c')\n",
    "met2 = model.metabolites.get_by_id('4ahmmp_c')\n",
    "\n",
    "r.subtract_metabolites({\n",
    "    met2: 1.0})\n",
    "r.add_metabolites({\n",
    "    met1: 1.0})\n",
    "\n",
    "print(r.check_mass_balance())\n",
    "r"
   ]
  },
  {
   "cell_type": "code",
   "execution_count": 69,
   "metadata": {},
   "outputs": [
    {
     "data": {
      "text/plain": [
       "4.216072785932965"
      ]
     },
     "execution_count": 69,
     "metadata": {},
     "output_type": "execute_result"
    }
   ],
   "source": [
    "#However, now model doesn't grow in RPMI which doesn't contain added thiamine. Thiamine synthesis seems to have been disrupted by changing the metabolite. \n",
    "model.slim_optimize()"
   ]
  },
  {
   "cell_type": "code",
   "execution_count": 70,
   "metadata": {
    "scrolled": true
   },
   "outputs": [
    {
     "name": "stdout",
     "output_type": "stream",
     "text": [
      "{'H': 2.0, 'O': 2.0}\n"
     ]
    },
    {
     "data": {
      "text/html": [
       "\n",
       "        <table>\n",
       "            <tr>\n",
       "                <td><strong>Reaction identifier</strong></td><td>ASNSYN</td>\n",
       "            </tr><tr>\n",
       "                <td><strong>Name</strong></td><td>R_ASNSYN</td>\n",
       "            </tr><tr>\n",
       "                <td><strong>Memory address</strong></td>\n",
       "                <td>0x02043b030fd0</td>\n",
       "            </tr><tr>\n",
       "                <td><strong>Stoichiometry</strong></td>\n",
       "                <td>\n",
       "                    <p style='text-align:right'>asp_L_c + atp_c + gln_L_c + h_c --> adp_c + asn_L_c + glu_L_c + h2o_c + pi_c</p>\n",
       "                    <p style='text-align:right'>L-Aspartate + ATP + L-Glutamine + H --> ADP + L-Asparagine + L-Glutamate + H2O + Phosphate</p>\n",
       "                </td>\n",
       "            </tr><tr>\n",
       "                <td><strong>GPR</strong></td><td>NGO1489 and NGO0663 and NGO0662 and NGO0660</td>\n",
       "            </tr><tr>\n",
       "                <td><strong>Lower bound</strong></td><td>0.0</td>\n",
       "            </tr><tr>\n",
       "                <td><strong>Upper bound</strong></td><td>999999.0</td>\n",
       "            </tr>\n",
       "        </table>\n",
       "        "
      ],
      "text/plain": [
       "<Reaction ASNSYN at 0x2043b030fd0>"
      ]
     },
     "execution_count": 70,
     "metadata": {},
     "output_type": "execute_result"
    }
   ],
   "source": [
    "#ASNSYN\n",
    "r = model.reactions.get_by_id('ASNSYN')\n",
    "print(r.check_mass_balance())\n",
    "r"
   ]
  },
  {
   "cell_type": "code",
   "execution_count": null,
   "metadata": {},
   "outputs": [],
   "source": []
  },
  {
   "cell_type": "raw",
   "metadata": {},
   "source": [
    "h_c = model.metabolites.get_by_id('h_c')\n",
    "h2o_c = model.metabolites.get_by_id('h2o_c')\n",
    "\n",
    "r.add_metabolites({\n",
    "    h2o_c: -2.0,\n",
    "    h_c: 2.0})\n",
    "\n",
    "print(r)\n",
    "print(r.check_mass_balance())"
   ]
  },
  {
   "cell_type": "code",
   "execution_count": 71,
   "metadata": {
    "scrolled": true
   },
   "outputs": [
    {
     "name": "stdout",
     "output_type": "stream",
     "text": [
      "{'O': 3.0, 'S': 1.0}\n"
     ]
    },
    {
     "data": {
      "text/html": [
       "\n",
       "        <table>\n",
       "            <tr>\n",
       "                <td><strong>Reaction identifier</strong></td><td>BTS4</td>\n",
       "            </tr><tr>\n",
       "                <td><strong>Name</strong></td><td>R_BTS4</td>\n",
       "            </tr><tr>\n",
       "                <td><strong>Memory address</strong></td>\n",
       "                <td>0x02043b042eb0</td>\n",
       "            </tr><tr>\n",
       "                <td><strong>Stoichiometry</strong></td>\n",
       "                <td>\n",
       "                    <p style='text-align:right'>amet_c + dtbt_c + h_c --> btn_c + dad_5_c + h2o_c + met_L_c + o2_c</p>\n",
       "                    <p style='text-align:right'>S-Adenosyl-L-methionine + Dethiobiotin + H --> Biotin + 5-Deoxyadenosine + H2O + L-Methionine + O2</p>\n",
       "                </td>\n",
       "            </tr><tr>\n",
       "                <td><strong>GPR</strong></td><td>NGO0813 or NGO0813</td>\n",
       "            </tr><tr>\n",
       "                <td><strong>Lower bound</strong></td><td>0.0</td>\n",
       "            </tr><tr>\n",
       "                <td><strong>Upper bound</strong></td><td>999999.0</td>\n",
       "            </tr>\n",
       "        </table>\n",
       "        "
      ],
      "text/plain": [
       "<Reaction BTS4 at 0x2043b042eb0>"
      ]
     },
     "execution_count": 71,
     "metadata": {},
     "output_type": "execute_result"
    }
   ],
   "source": [
    "#BTS4\n",
    "r = model.reactions.get_by_id('BTS4')\n",
    "print(r.check_mass_balance())\n",
    "r"
   ]
  },
  {
   "cell_type": "code",
   "execution_count": 72,
   "metadata": {
    "scrolled": true
   },
   "outputs": [
    {
     "name": "stdout",
     "output_type": "stream",
     "text": [
      "BTS4: amet_c + dtbt_c --> btn_c + dad_5_c + h_c + met_L_c\n",
      "{'S': 1.0}\n"
     ]
    }
   ],
   "source": [
    "#Reaction will remain imbalanced for Sulfer. The sulfer is donated by the enzyme itself and not by a metabolite.\n",
    "h_c = model.metabolites.get_by_id('h_c')\n",
    "h2o_c = model.metabolites.get_by_id('h2o_c')\n",
    "o2_c = model.metabolites.get_by_id('o2_c')\n",
    "\n",
    "r.add_metabolites({\n",
    "    h2o_c: -1.0,\n",
    "    h_c: 2.0,\n",
    "    o2_c: -1.0\n",
    "})\n",
    "\n",
    "print(r)\n",
    "print(r.check_mass_balance())"
   ]
  },
  {
   "cell_type": "code",
   "execution_count": 73,
   "metadata": {
    "scrolled": true
   },
   "outputs": [
    {
     "name": "stdout",
     "output_type": "stream",
     "text": [
      "{'H': 1.0}\n"
     ]
    },
    {
     "data": {
      "text/html": [
       "\n",
       "        <table>\n",
       "            <tr>\n",
       "                <td><strong>Reaction identifier</strong></td><td>CTPS3</td>\n",
       "            </tr><tr>\n",
       "                <td><strong>Name</strong></td><td>R_CTPS3</td>\n",
       "            </tr><tr>\n",
       "                <td><strong>Memory address</strong></td>\n",
       "                <td>0x02043b05c970</td>\n",
       "            </tr><tr>\n",
       "                <td><strong>Stoichiometry</strong></td>\n",
       "                <td>\n",
       "                    <p style='text-align:right'>ctp_c + h2o_c <=> nh4_c + utp_c</p>\n",
       "                    <p style='text-align:right'>CTP + H2O <=> Ammonium + UTP</p>\n",
       "                </td>\n",
       "            </tr><tr>\n",
       "                <td><strong>GPR</strong></td><td>NGO0421</td>\n",
       "            </tr><tr>\n",
       "                <td><strong>Lower bound</strong></td><td>-999999.0</td>\n",
       "            </tr><tr>\n",
       "                <td><strong>Upper bound</strong></td><td>999999.0</td>\n",
       "            </tr>\n",
       "        </table>\n",
       "        "
      ],
      "text/plain": [
       "<Reaction CTPS3 at 0x2043b05c970>"
      ]
     },
     "execution_count": 73,
     "metadata": {},
     "output_type": "execute_result"
    }
   ],
   "source": [
    "#CTPS3\n",
    "r = model.reactions.get_by_id('CTPS3')\n",
    "print(r.check_mass_balance())\n",
    "r"
   ]
  },
  {
   "cell_type": "code",
   "execution_count": 74,
   "metadata": {
    "scrolled": true
   },
   "outputs": [
    {
     "name": "stdout",
     "output_type": "stream",
     "text": [
      "CTPS3: ctp_c + h2o_c <=> nh3_c + utp_c\n",
      "{}\n"
     ]
    }
   ],
   "source": [
    "nh3_c= Metabolite(\n",
    "    'nh3_c',\n",
    "    formula='NH3',\n",
    "    name='Ammonia',\n",
    "    compartment='cytosol')\n",
    "\n",
    "nh4_c = model.metabolites.get_by_id('nh4_c')\n",
    "\n",
    "\n",
    "r.add_metabolites({\n",
    "    nh4_c: -1.0,\n",
    "    nh3_c: 1.0,\n",
    "})\n",
    "\n",
    "print(r)\n",
    "print(r.check_mass_balance())"
   ]
  },
  {
   "cell_type": "code",
   "execution_count": 75,
   "metadata": {},
   "outputs": [
    {
     "data": {
      "text/plain": [
       "4.208458953428455"
      ]
     },
     "execution_count": 75,
     "metadata": {},
     "output_type": "execute_result"
    }
   ],
   "source": [
    "model.slim_optimize()"
   ]
  },
  {
   "cell_type": "code",
   "execution_count": 76,
   "metadata": {
    "scrolled": true
   },
   "outputs": [
    {
     "name": "stdout",
     "output_type": "stream",
     "text": [
      "{'C': -1.6999999985500835e-06, 'H': -1.900000000887303e-06, 'N': -3.9999999978945766e-07, 'O': -8.999999998593466e-07, 'P': -1e-07}\n"
     ]
    },
    {
     "data": {
      "text/html": [
       "\n",
       "        <table>\n",
       "            <tr>\n",
       "                <td><strong>Reaction identifier</strong></td><td>DHORD2</td>\n",
       "            </tr><tr>\n",
       "                <td><strong>Name</strong></td><td>R_DHORD2</td>\n",
       "            </tr><tr>\n",
       "                <td><strong>Memory address</strong></td>\n",
       "                <td>0x02043b081d00</td>\n",
       "            </tr><tr>\n",
       "                <td><strong>Stoichiometry</strong></td>\n",
       "                <td>\n",
       "                    <p style='text-align:right'>dhor_S_c + 1e-07 fmn_c + q8_c --> orot_c + q8h2_c</p>\n",
       "                    <p style='text-align:right'>S-Dihydroorotate + 1e-07 FMN + Ubiquinone-8 --> Orotate + Ubiquinol-8</p>\n",
       "                </td>\n",
       "            </tr><tr>\n",
       "                <td><strong>GPR</strong></td><td>NGO1761</td>\n",
       "            </tr><tr>\n",
       "                <td><strong>Lower bound</strong></td><td>0.0</td>\n",
       "            </tr><tr>\n",
       "                <td><strong>Upper bound</strong></td><td>999999.0</td>\n",
       "            </tr>\n",
       "        </table>\n",
       "        "
      ],
      "text/plain": [
       "<Reaction DHORD2 at 0x2043b081d00>"
      ]
     },
     "execution_count": 76,
     "metadata": {},
     "output_type": "execute_result"
    }
   ],
   "source": [
    "#DHORD2\n",
    "r = model.reactions.get_by_id('DHORD2')\n",
    "print(r.check_mass_balance())\n",
    "r"
   ]
  },
  {
   "cell_type": "code",
   "execution_count": 77,
   "metadata": {
    "scrolled": true
   },
   "outputs": [
    {
     "name": "stdout",
     "output_type": "stream",
     "text": [
      "DHORD2: dhor_S_c + q8_c --> orot_c + q8h2_c\n",
      "{}\n"
     ]
    }
   ],
   "source": [
    "fmn_c = model.metabolites.get_by_id('fmn_c')\n",
    "\n",
    "\n",
    "\n",
    "r.add_metabolites({\n",
    "    fmn_c: 1e-07,\n",
    "})\n",
    "\n",
    "print(r)\n",
    "print(r.check_mass_balance())"
   ]
  },
  {
   "cell_type": "code",
   "execution_count": 78,
   "metadata": {
    "scrolled": true
   },
   "outputs": [
    {
     "name": "stdout",
     "output_type": "stream",
     "text": [
      "{'Co': -1e-07}\n"
     ]
    },
    {
     "data": {
      "text/html": [
       "\n",
       "        <table>\n",
       "            <tr>\n",
       "                <td><strong>Reaction identifier</strong></td><td>DHQS</td>\n",
       "            </tr><tr>\n",
       "                <td><strong>Name</strong></td><td>R_DHQS</td>\n",
       "            </tr><tr>\n",
       "                <td><strong>Memory address</strong></td>\n",
       "                <td>0x02043b089550</td>\n",
       "            </tr><tr>\n",
       "                <td><strong>Stoichiometry</strong></td>\n",
       "                <td>\n",
       "                    <p style='text-align:right'>2dda7p_c + 1e-07 cobalt2_c --> 3dhq_c + pi_c</p>\n",
       "                    <p style='text-align:right'>2-Dehydro-3-deoxy-D-arabino-heptonate-7-phosphate + 1e-07 Co2 --> 3-Dehydroquinate + Phosphate</p>\n",
       "                </td>\n",
       "            </tr><tr>\n",
       "                <td><strong>GPR</strong></td><td>NGO0092</td>\n",
       "            </tr><tr>\n",
       "                <td><strong>Lower bound</strong></td><td>0.0</td>\n",
       "            </tr><tr>\n",
       "                <td><strong>Upper bound</strong></td><td>999999.0</td>\n",
       "            </tr>\n",
       "        </table>\n",
       "        "
      ],
      "text/plain": [
       "<Reaction DHQS at 0x2043b089550>"
      ]
     },
     "execution_count": 78,
     "metadata": {},
     "output_type": "execute_result"
    }
   ],
   "source": [
    "#DHQS\n",
    "r = model.reactions.get_by_id('DHQS')\n",
    "print(r.check_mass_balance())\n",
    "r"
   ]
  },
  {
   "cell_type": "code",
   "execution_count": 79,
   "metadata": {
    "scrolled": true
   },
   "outputs": [
    {
     "name": "stdout",
     "output_type": "stream",
     "text": [
      "DHQS: 2dda7p_c --> 3dhq_c + pi_c\n",
      "{}\n"
     ]
    }
   ],
   "source": [
    "cobalt2_c = model.metabolites.get_by_id('cobalt2_c')\n",
    "\n",
    "\n",
    "\n",
    "r.add_metabolites({\n",
    "    cobalt2_c: 1e-07,\n",
    "})\n",
    "\n",
    "print(r)\n",
    "print(r.check_mass_balance())"
   ]
  },
  {
   "cell_type": "code",
   "execution_count": 80,
   "metadata": {},
   "outputs": [
    {
     "data": {
      "text/plain": [
       "4.208458953428458"
      ]
     },
     "execution_count": 80,
     "metadata": {},
     "output_type": "execute_result"
    }
   ],
   "source": [
    "model.slim_optimize()"
   ]
  },
  {
   "cell_type": "code",
   "execution_count": 81,
   "metadata": {
    "scrolled": true
   },
   "outputs": [
    {
     "name": "stdout",
     "output_type": "stream",
     "text": [
      "{'H': 1.0}\n"
     ]
    },
    {
     "data": {
      "text/html": [
       "\n",
       "        <table>\n",
       "            <tr>\n",
       "                <td><strong>Reaction identifier</strong></td><td>GLYCLTDx</td>\n",
       "            </tr><tr>\n",
       "                <td><strong>Name</strong></td><td>R_GLYCLTDx</td>\n",
       "            </tr><tr>\n",
       "                <td><strong>Memory address</strong></td>\n",
       "                <td>0x02043b17d6d0</td>\n",
       "            </tr><tr>\n",
       "                <td><strong>Stoichiometry</strong></td>\n",
       "                <td>\n",
       "                    <p style='text-align:right'>glx_c + nadh_c --> glyclt_c + nad_c</p>\n",
       "                    <p style='text-align:right'>Glyoxylate + Nicotinamide-adenine-dinucleotide--reduced --> Glycolate + Nicotinamide-adenine-dinucleotide</p>\n",
       "                </td>\n",
       "            </tr><tr>\n",
       "                <td><strong>GPR</strong></td><td>NGO2043</td>\n",
       "            </tr><tr>\n",
       "                <td><strong>Lower bound</strong></td><td>0.0</td>\n",
       "            </tr><tr>\n",
       "                <td><strong>Upper bound</strong></td><td>999999.0</td>\n",
       "            </tr>\n",
       "        </table>\n",
       "        "
      ],
      "text/plain": [
       "<Reaction GLYCLTDx at 0x2043b17d6d0>"
      ]
     },
     "execution_count": 81,
     "metadata": {},
     "output_type": "execute_result"
    }
   ],
   "source": [
    "#GLYCLTDx\n",
    "r = model.reactions.get_by_id('GLYCLTDx')\n",
    "print(r.check_mass_balance())\n",
    "r"
   ]
  },
  {
   "cell_type": "code",
   "execution_count": 82,
   "metadata": {
    "scrolled": true
   },
   "outputs": [
    {
     "name": "stdout",
     "output_type": "stream",
     "text": [
      "GLYCLTDx: glx_c + h_c + nadh_c --> glyclt_c + nad_c\n",
      "{}\n"
     ]
    }
   ],
   "source": [
    "h_c = model.metabolites.get_by_id('h_c')\n",
    "\n",
    "\n",
    "\n",
    "r.add_metabolites({\n",
    "    h_c: -1,\n",
    "})\n",
    "\n",
    "print(r)\n",
    "print(r.check_mass_balance())"
   ]
  },
  {
   "cell_type": "code",
   "execution_count": 83,
   "metadata": {
    "scrolled": true
   },
   "outputs": [
    {
     "name": "stdout",
     "output_type": "stream",
     "text": [
      "{'H': 1.0}\n"
     ]
    },
    {
     "data": {
      "text/html": [
       "\n",
       "        <table>\n",
       "            <tr>\n",
       "                <td><strong>Reaction identifier</strong></td><td>GLYCLTDy</td>\n",
       "            </tr><tr>\n",
       "                <td><strong>Name</strong></td><td>R_GLYCLTDy</td>\n",
       "            </tr><tr>\n",
       "                <td><strong>Memory address</strong></td>\n",
       "                <td>0x02043b17d880</td>\n",
       "            </tr><tr>\n",
       "                <td><strong>Stoichiometry</strong></td>\n",
       "                <td>\n",
       "                    <p style='text-align:right'>glx_c + nadph_c --> glyclt_c + nadp_c</p>\n",
       "                    <p style='text-align:right'>Glyoxylate + Nicotinamide-adenine-dinucleotide-phosphate--reduced --> Glycolate + Nicotinamide-adenine-dinucleotide-phosphate</p>\n",
       "                </td>\n",
       "            </tr><tr>\n",
       "                <td><strong>GPR</strong></td><td>NGO2043</td>\n",
       "            </tr><tr>\n",
       "                <td><strong>Lower bound</strong></td><td>0.0</td>\n",
       "            </tr><tr>\n",
       "                <td><strong>Upper bound</strong></td><td>999999.0</td>\n",
       "            </tr>\n",
       "        </table>\n",
       "        "
      ],
      "text/plain": [
       "<Reaction GLYCLTDy at 0x2043b17d880>"
      ]
     },
     "execution_count": 83,
     "metadata": {},
     "output_type": "execute_result"
    }
   ],
   "source": [
    "#GLYCLTDy\n",
    "r = model.reactions.get_by_id('GLYCLTDy')\n",
    "print(r.check_mass_balance())\n",
    "r"
   ]
  },
  {
   "cell_type": "code",
   "execution_count": 84,
   "metadata": {
    "scrolled": true
   },
   "outputs": [
    {
     "name": "stdout",
     "output_type": "stream",
     "text": [
      "GLYCLTDy: glx_c + h_c + nadph_c --> glyclt_c + nadp_c\n",
      "{}\n"
     ]
    }
   ],
   "source": [
    "h_c = model.metabolites.get_by_id('h_c')\n",
    "\n",
    "\n",
    "\n",
    "r.add_metabolites({\n",
    "    h_c: -1,\n",
    "})\n",
    "\n",
    "print(r)\n",
    "print(r.check_mass_balance())"
   ]
  },
  {
   "cell_type": "code",
   "execution_count": 85,
   "metadata": {
    "scrolled": true
   },
   "outputs": [
    {
     "name": "stdout",
     "output_type": "stream",
     "text": [
      "{'H': -1.0}\n"
     ]
    },
    {
     "data": {
      "text/html": [
       "\n",
       "        <table>\n",
       "            <tr>\n",
       "                <td><strong>Reaction identifier</strong></td><td>H2AKGAL</td>\n",
       "            </tr><tr>\n",
       "                <td><strong>Name</strong></td><td>R_H2AKGAL</td>\n",
       "            </tr><tr>\n",
       "                <td><strong>Memory address</strong></td>\n",
       "                <td>0x02043b196e50</td>\n",
       "            </tr><tr>\n",
       "                <td><strong>Stoichiometry</strong></td>\n",
       "                <td>\n",
       "                    <p style='text-align:right'>4h2oglt_c --> glx_c + h_c + pyr_c</p>\n",
       "                    <p style='text-align:right'>D-4-Hydroxy-2-oxoglutarate --> Glyoxylate + H + Pyruvate</p>\n",
       "                </td>\n",
       "            </tr><tr>\n",
       "                <td><strong>GPR</strong></td><td>NGO0713</td>\n",
       "            </tr><tr>\n",
       "                <td><strong>Lower bound</strong></td><td>0.0</td>\n",
       "            </tr><tr>\n",
       "                <td><strong>Upper bound</strong></td><td>999999.0</td>\n",
       "            </tr>\n",
       "        </table>\n",
       "        "
      ],
      "text/plain": [
       "<Reaction H2AKGAL at 0x2043b196e50>"
      ]
     },
     "execution_count": 85,
     "metadata": {},
     "output_type": "execute_result"
    }
   ],
   "source": [
    "#H2AKGAL\n",
    "r = model.reactions.get_by_id('H2AKGAL')\n",
    "print(r.check_mass_balance())\n",
    "r"
   ]
  },
  {
   "cell_type": "code",
   "execution_count": 86,
   "metadata": {
    "scrolled": true
   },
   "outputs": [
    {
     "name": "stdout",
     "output_type": "stream",
     "text": [
      "DDPGA: 4h2oglt_c --> glx_c + 2.0 h_c + pyr_c\n",
      "{'H': 2.0}\n"
     ]
    }
   ],
   "source": [
    "#H2AKGAL is not consistent with the bigg name for this same reaction. Corrected name to DDPGA. \n",
    "#Similarly, the protenation of 4h2oglt_c was used from kegg, which is incorrect for neutral ph.\n",
    "#corrected to the formula from bigg. And removed the now unnecessary hydrogens from the reaction.\n",
    "r.id  ='DDPGA'\n",
    "r.name ='R_DDPGA'\n",
    "model.metabolites.get_by_id('4h2oglt_c').formula = 'C5H4O6'\n",
    "h_c = model.metabolites.get_by_id('h_c')\n",
    "\n",
    "\n",
    "\n",
    "r.add_metabolites({\n",
    "    h_c: 1.0,\n",
    "})\n",
    "\n",
    "print(r)\n",
    "print(r.check_mass_balance())"
   ]
  },
  {
   "cell_type": "code",
   "execution_count": 87,
   "metadata": {
    "scrolled": true
   },
   "outputs": [
    {
     "name": "stdout",
     "output_type": "stream",
     "text": [
      "{}\n"
     ]
    },
    {
     "data": {
      "text/html": [
       "\n",
       "        <table>\n",
       "            <tr>\n",
       "                <td><strong>Reaction identifier</strong></td><td>HGTA</td>\n",
       "            </tr><tr>\n",
       "                <td><strong>Name</strong></td><td>R_HGTA</td>\n",
       "            </tr><tr>\n",
       "                <td><strong>Memory address</strong></td>\n",
       "                <td>0x02043b1a3dc0</td>\n",
       "            </tr><tr>\n",
       "                <td><strong>Stoichiometry</strong></td>\n",
       "                <td>\n",
       "                    <p style='text-align:right'>akg_c + e4hglu_c <=> 4h2oglt_c + glu_L_c + h_c</p>\n",
       "                    <p style='text-align:right'>2-Oxoglutarate + L-erythro-4-Hydroxyglutamate <=> D-4-Hydroxy-2-oxoglutarate + L-Glutamate + H</p>\n",
       "                </td>\n",
       "            </tr><tr>\n",
       "                <td><strong>GPR</strong></td><td>NGO1452</td>\n",
       "            </tr><tr>\n",
       "                <td><strong>Lower bound</strong></td><td>-999999.0</td>\n",
       "            </tr><tr>\n",
       "                <td><strong>Upper bound</strong></td><td>999999.0</td>\n",
       "            </tr>\n",
       "        </table>\n",
       "        "
      ],
      "text/plain": [
       "<Reaction HGTA at 0x2043b1a3dc0>"
      ]
     },
     "execution_count": 87,
     "metadata": {},
     "output_type": "execute_result"
    }
   ],
   "source": [
    "#HGTA\n",
    "r = model.reactions.get_by_id('HGTA')\n",
    "print(r.check_mass_balance())\n",
    "r"
   ]
  },
  {
   "cell_type": "code",
   "execution_count": 88,
   "metadata": {
    "scrolled": true
   },
   "outputs": [
    {
     "name": "stdout",
     "output_type": "stream",
     "text": [
      "EHGLAT: akg_c + e4hglu_c <=> 4h2oglt_c + glu_L_c\n",
      "{}\n"
     ]
    }
   ],
   "source": [
    "#HGTA is not consistent with the bigg name for this same reaction. Corrected name to EHGLAT. \n",
    "#Similarly, the protenation of e4hglu_c was used from kegg, which is incorrect for neutral ph.\n",
    "#corrected to the formula from bigg. And removed the now unnecessary hydrogens from the reaction.\n",
    "r.id  ='EHGLAT'\n",
    "r.name ='R_EHGLAT'\n",
    "model.metabolites.get_by_id('e4hglu_c').formula = 'C5H8NO5'\n",
    "h_c = model.metabolites.get_by_id('h_c')\n",
    "\n",
    "\n",
    "\n",
    "r.add_metabolites({\n",
    "    h_c: -1.0,\n",
    "})\n",
    "\n",
    "print(r)\n",
    "print(r.check_mass_balance())"
   ]
  },
  {
   "cell_type": "code",
   "execution_count": 90,
   "metadata": {},
   "outputs": [
    {
     "data": {
      "text/plain": [
       "4.208458953428458"
      ]
     },
     "execution_count": 90,
     "metadata": {},
     "output_type": "execute_result"
    }
   ],
   "source": [
    "model.slim_optimize()"
   ]
  },
  {
   "cell_type": "code",
   "execution_count": 91,
   "metadata": {
    "scrolled": true
   },
   "outputs": [
    {
     "name": "stdout",
     "output_type": "stream",
     "text": [
      "{'H': -1.0}\n"
     ]
    },
    {
     "data": {
      "text/html": [
       "\n",
       "        <table>\n",
       "            <tr>\n",
       "                <td><strong>Reaction identifier</strong></td><td>HMT</td>\n",
       "            </tr><tr>\n",
       "                <td><strong>Name</strong></td><td>R_HMT</td>\n",
       "            </tr><tr>\n",
       "                <td><strong>Memory address</strong></td>\n",
       "                <td>0x02043b1b0e20</td>\n",
       "            </tr><tr>\n",
       "                <td><strong>Stoichiometry</strong></td>\n",
       "                <td>\n",
       "                    <p style='text-align:right'>amet_c + his_L_c --> ahcys_c + mhis_c</p>\n",
       "                    <p style='text-align:right'>S-Adenosyl-L-methionine + L-Histidine --> S-Adenosyl-L-homocysteine + N(pi)-Methyl-L-histidine</p>\n",
       "                </td>\n",
       "            </tr><tr>\n",
       "                <td><strong>GPR</strong></td><td>NGO0746</td>\n",
       "            </tr><tr>\n",
       "                <td><strong>Lower bound</strong></td><td>0.0</td>\n",
       "            </tr><tr>\n",
       "                <td><strong>Upper bound</strong></td><td>999999.0</td>\n",
       "            </tr>\n",
       "        </table>\n",
       "        "
      ],
      "text/plain": [
       "<Reaction HMT at 0x2043b1b0e20>"
      ]
     },
     "execution_count": 91,
     "metadata": {},
     "output_type": "execute_result"
    }
   ],
   "source": [
    "#HMT\n",
    "r = model.reactions.get_by_id('HMT')\n",
    "print(r.check_mass_balance())\n",
    "r"
   ]
  },
  {
   "cell_type": "code",
   "execution_count": 92,
   "metadata": {
    "scrolled": true
   },
   "outputs": [
    {
     "name": "stderr",
     "output_type": "stream",
     "text": [
      "C:\\Users\\Aimee\\anaconda3\\lib\\site-packages\\cobra\\core\\model.py:727: UserWarning: need to pass in a list\n",
      "  warn(\"need to pass in a list\")\n",
      "C:\\Users\\Aimee\\anaconda3\\lib\\site-packages\\cobra\\core\\model.py:738: UserWarning: r not in AE004969.1\n",
      "  warn(\"%s not in %s\" % (reaction, self))\n"
     ]
    }
   ],
   "source": [
    "model.remove_reactions('r')"
   ]
  },
  {
   "cell_type": "code",
   "execution_count": 93,
   "metadata": {
    "scrolled": true
   },
   "outputs": [
    {
     "name": "stdout",
     "output_type": "stream",
     "text": [
      "{'H': -3.0}\n"
     ]
    },
    {
     "data": {
      "text/html": [
       "\n",
       "        <table>\n",
       "            <tr>\n",
       "                <td><strong>Reaction identifier</strong></td><td>MCITS</td>\n",
       "            </tr><tr>\n",
       "                <td><strong>Name</strong></td><td>R_MCITS</td>\n",
       "            </tr><tr>\n",
       "                <td><strong>Memory address</strong></td>\n",
       "                <td>0x02043b206fa0</td>\n",
       "            </tr><tr>\n",
       "                <td><strong>Stoichiometry</strong></td>\n",
       "                <td>\n",
       "                    <p style='text-align:right'>h2o_c + 2.0 h_c + oaa_c + ppcoa_c --> 2mcit_c + coa_c</p>\n",
       "                    <p style='text-align:right'>H2O + 2.0 H + Oxaloacetate + Propanoyl-CoA --> 2-Methylcitrate + Coenzyme-A</p>\n",
       "                </td>\n",
       "            </tr><tr>\n",
       "                <td><strong>GPR</strong></td><td>NGO1525</td>\n",
       "            </tr><tr>\n",
       "                <td><strong>Lower bound</strong></td><td>0.0</td>\n",
       "            </tr><tr>\n",
       "                <td><strong>Upper bound</strong></td><td>999999.0</td>\n",
       "            </tr>\n",
       "        </table>\n",
       "        "
      ],
      "text/plain": [
       "<Reaction MCITS at 0x2043b206fa0>"
      ]
     },
     "execution_count": 93,
     "metadata": {},
     "output_type": "execute_result"
    }
   ],
   "source": [
    "#MCITS\n",
    "r = model.reactions.get_by_id('MCITS')\n",
    "print(r.check_mass_balance())\n",
    "r"
   ]
  },
  {
   "cell_type": "code",
   "execution_count": 94,
   "metadata": {
    "scrolled": true
   },
   "outputs": [
    {
     "name": "stdout",
     "output_type": "stream",
     "text": [
      "MCITS: h2o_c + oaa_c + ppcoa_c --> 2mcit_c + coa_c + h_c\n",
      "{}\n"
     ]
    }
   ],
   "source": [
    "h_c = model.metabolites.get_by_id('h_c')\n",
    "\n",
    "r.add_metabolites({\n",
    "    h_c: 3.0,\n",
    "})\n",
    "\n",
    "print(r)\n",
    "print(r.check_mass_balance())"
   ]
  },
  {
   "cell_type": "code",
   "execution_count": 95,
   "metadata": {
    "scrolled": true
   },
   "outputs": [
    {
     "name": "stdout",
     "output_type": "stream",
     "text": [
      "{'H': -3.0, 'O': 1.0}\n"
     ]
    },
    {
     "data": {
      "text/html": [
       "\n",
       "        <table>\n",
       "            <tr>\n",
       "                <td><strong>Reaction identifier</strong></td><td>MTHF</td>\n",
       "            </tr><tr>\n",
       "                <td><strong>Name</strong></td><td>R_MTHF</td>\n",
       "            </tr><tr>\n",
       "                <td><strong>Memory address</strong></td>\n",
       "                <td>0x02043b239eb0</td>\n",
       "            </tr><tr>\n",
       "                <td><strong>Stoichiometry</strong></td>\n",
       "                <td>\n",
       "                    <p style='text-align:right'>5mthf_c --> 10fthf_c</p>\n",
       "                    <p style='text-align:right'>5-Methyltetrahydrofolate --> 10-Formyltetrahydrofolate</p>\n",
       "                </td>\n",
       "            </tr><tr>\n",
       "                <td><strong>GPR</strong></td><td>Sgene</td>\n",
       "            </tr><tr>\n",
       "                <td><strong>Lower bound</strong></td><td>0.0</td>\n",
       "            </tr><tr>\n",
       "                <td><strong>Upper bound</strong></td><td>999999.0</td>\n",
       "            </tr>\n",
       "        </table>\n",
       "        "
      ],
      "text/plain": [
       "<Reaction MTHF at 0x2043b239eb0>"
      ]
     },
     "execution_count": 95,
     "metadata": {},
     "output_type": "execute_result"
    }
   ],
   "source": [
    "#MTHF\n",
    "r = model.reactions.get_by_id('MTHF')\n",
    "print(r.check_mass_balance())\n",
    "r"
   ]
  },
  {
   "cell_type": "code",
   "execution_count": 96,
   "metadata": {
    "scrolled": true
   },
   "outputs": [
    {
     "name": "stdout",
     "output_type": "stream",
     "text": [
      "MTHF: 5mthf_c + h2o_c --> 10fthf_c + 5.0 h_c\n",
      "{}\n"
     ]
    }
   ],
   "source": [
    "#MTHF is a spontaneous reaction. Uncertain how frequently this occurs in nature. \n",
    "#Corrected h2o and hydrogens.\n",
    "h_c = model.metabolites.get_by_id('h_c')\n",
    "h2o_c = model.metabolites.get_by_id('h2o_c')\n",
    "\n",
    "\n",
    "r.add_metabolites({\n",
    "    h_c: 5.0,\n",
    "    h2o_c: -1.0\n",
    "})\n",
    "\n",
    "print(r)\n",
    "print(r.check_mass_balance())"
   ]
  },
  {
   "cell_type": "code",
   "execution_count": 97,
   "metadata": {
    "scrolled": true
   },
   "outputs": [
    {
     "name": "stdout",
     "output_type": "stream",
     "text": [
      "{'C': -1.6999999985500835e-06, 'H': -1.900000000887303e-06, 'N': -4.0000000023354687e-07, 'O': -8.999999998593466e-07, 'P': -1.0000000005838672e-07}\n"
     ]
    },
    {
     "data": {
      "text/html": [
       "\n",
       "        <table>\n",
       "            <tr>\n",
       "                <td><strong>Reaction identifier</strong></td><td>NADHQNa</td>\n",
       "            </tr><tr>\n",
       "                <td><strong>Name</strong></td><td>R_NADHQNa</td>\n",
       "            </tr><tr>\n",
       "                <td><strong>Memory address</strong></td>\n",
       "                <td>0x02043b245d90</td>\n",
       "            </tr><tr>\n",
       "                <td><strong>Stoichiometry</strong></td>\n",
       "                <td>\n",
       "                    <p style='text-align:right'>1e-07 fmn_c + h_c + 2.0 na1_c + nadh_c + q8_c --> 2.0 na1_p + nad_c + q8h2_c</p>\n",
       "                    <p style='text-align:right'>1e-07 FMN + H + 2.0 Sodium + Nicotinamide-adenine-dinucleotide--reduced + Ubiquinone-8 --> 2.0 Sodium + Nicotinamide-adenine-dinucleotide + Ubiquinol-8</p>\n",
       "                </td>\n",
       "            </tr><tr>\n",
       "                <td><strong>GPR</strong></td><td>NGO1418 and NGO1417 and NGO1416 and NGO1415 and NGO1414 and NGO1413</td>\n",
       "            </tr><tr>\n",
       "                <td><strong>Lower bound</strong></td><td>0.0</td>\n",
       "            </tr><tr>\n",
       "                <td><strong>Upper bound</strong></td><td>999999.0</td>\n",
       "            </tr>\n",
       "        </table>\n",
       "        "
      ],
      "text/plain": [
       "<Reaction NADHQNa at 0x2043b245d90>"
      ]
     },
     "execution_count": 97,
     "metadata": {},
     "output_type": "execute_result"
    }
   ],
   "source": [
    "#NADHQNa\n",
    "r = model.reactions.get_by_id('NADHQNa')\n",
    "print(r.check_mass_balance())\n",
    "r"
   ]
  },
  {
   "cell_type": "code",
   "execution_count": 98,
   "metadata": {
    "scrolled": true
   },
   "outputs": [
    {
     "name": "stdout",
     "output_type": "stream",
     "text": [
      "NADHQNa: h_c + 2.0 na1_c + nadh_c + q8_c --> 2.0 na1_p + nad_c + q8h2_c\n",
      "{}\n"
     ]
    }
   ],
   "source": [
    "fmn_c = model.metabolites.get_by_id('fmn_c')\n",
    "\n",
    "\n",
    "r.add_metabolites({\n",
    "    fmn_c: 1e-07,\n",
    "})\n",
    "\n",
    "print(r)\n",
    "print(r.check_mass_balance())"
   ]
  },
  {
   "cell_type": "code",
   "execution_count": 100,
   "metadata": {
    "scrolled": true
   },
   "outputs": [
    {
     "name": "stdout",
     "output_type": "stream",
     "text": [
      "59 59 59\n"
     ]
    },
    {
     "data": {
      "text/html": [
       "<div>\n",
       "<style scoped>\n",
       "    .dataframe tbody tr th:only-of-type {\n",
       "        vertical-align: middle;\n",
       "    }\n",
       "\n",
       "    .dataframe tbody tr th {\n",
       "        vertical-align: top;\n",
       "    }\n",
       "\n",
       "    .dataframe thead th {\n",
       "        text-align: right;\n",
       "    }\n",
       "</style>\n",
       "<table border=\"1\" class=\"dataframe\">\n",
       "  <thead>\n",
       "    <tr style=\"text-align: right;\">\n",
       "      <th></th>\n",
       "      <th>Reactions</th>\n",
       "      <th>Charge</th>\n",
       "      <th>Masses</th>\n",
       "    </tr>\n",
       "  </thead>\n",
       "  <tbody>\n",
       "    <tr>\n",
       "      <th>0</th>\n",
       "      <td>3HAD161x</td>\n",
       "      <td></td>\n",
       "      <td>{'C': 29.0, 'H': 47.0, 'N': 2.0, 'O': 8.0, 'P'...</td>\n",
       "    </tr>\n",
       "    <tr>\n",
       "      <th>1</th>\n",
       "      <td>3OAS161a</td>\n",
       "      <td></td>\n",
       "      <td>{'C': -12.0, 'H': -21.0, 'N': -2.0, 'O': -9.0,...</td>\n",
       "    </tr>\n",
       "    <tr>\n",
       "      <th>2</th>\n",
       "      <td>AGPAT160e</td>\n",
       "      <td></td>\n",
       "      <td>{'C': 2.0, 'H': 4.0}</td>\n",
       "    </tr>\n",
       "    <tr>\n",
       "      <th>3</th>\n",
       "      <td>ASNSYN</td>\n",
       "      <td></td>\n",
       "      <td>{'H': 2.0, 'O': 2.0}</td>\n",
       "    </tr>\n",
       "    <tr>\n",
       "      <th>4</th>\n",
       "      <td>BTS4</td>\n",
       "      <td></td>\n",
       "      <td>{'S': 1.0}</td>\n",
       "    </tr>\n",
       "    <tr>\n",
       "      <th>5</th>\n",
       "      <td>CYTCS</td>\n",
       "      <td></td>\n",
       "      <td>{'C': 8.0, 'H': 14.0, 'N': 4.0, 'O': 4.0, 'S':...</td>\n",
       "    </tr>\n",
       "    <tr>\n",
       "      <th>6</th>\n",
       "      <td>DASYN141b</td>\n",
       "      <td></td>\n",
       "      <td>{'C': -4.0, 'H': -8.0}</td>\n",
       "    </tr>\n",
       "    <tr>\n",
       "      <th>7</th>\n",
       "      <td>DASYN160e</td>\n",
       "      <td></td>\n",
       "      <td>{'C': -4.0, 'H': -12.0}</td>\n",
       "    </tr>\n",
       "    <tr>\n",
       "      <th>8</th>\n",
       "      <td>DASYN161a</td>\n",
       "      <td></td>\n",
       "      <td>{'H': -1.0}</td>\n",
       "    </tr>\n",
       "    <tr>\n",
       "      <th>9</th>\n",
       "      <td>EAR161a</td>\n",
       "      <td></td>\n",
       "      <td>{'C': -29.0, 'H': -47.0, 'N': -2.0, 'O': -8.0,...</td>\n",
       "    </tr>\n",
       "    <tr>\n",
       "      <th>10</th>\n",
       "      <td>GARFT2</td>\n",
       "      <td></td>\n",
       "      <td>{'H': -2.0}</td>\n",
       "    </tr>\n",
       "    <tr>\n",
       "      <th>11</th>\n",
       "      <td>GLCTR1</td>\n",
       "      <td></td>\n",
       "      <td>{'O': -5.0}</td>\n",
       "    </tr>\n",
       "    <tr>\n",
       "      <th>12</th>\n",
       "      <td>GNAT2</td>\n",
       "      <td></td>\n",
       "      <td>{'C': 3.0, 'H': 1.0, 'N': -2.0, 'O': 15.0, 'P'...</td>\n",
       "    </tr>\n",
       "    <tr>\n",
       "      <th>13</th>\n",
       "      <td>DDPGA</td>\n",
       "      <td></td>\n",
       "      <td>{'H': 2.0}</td>\n",
       "    </tr>\n",
       "    <tr>\n",
       "      <th>14</th>\n",
       "      <td>HMT</td>\n",
       "      <td></td>\n",
       "      <td>{'H': -1.0}</td>\n",
       "    </tr>\n",
       "    <tr>\n",
       "      <th>15</th>\n",
       "      <td>MAc3</td>\n",
       "      <td></td>\n",
       "      <td>{'O': -2.0}</td>\n",
       "    </tr>\n",
       "    <tr>\n",
       "      <th>16</th>\n",
       "      <td>MDDCP6pp</td>\n",
       "      <td></td>\n",
       "      <td>{'H': 3.0, 'N': -6.0}</td>\n",
       "    </tr>\n",
       "    <tr>\n",
       "      <th>17</th>\n",
       "      <td>MLTGY5pp</td>\n",
       "      <td></td>\n",
       "      <td>{'H': -3.0, 'N': 6.0}</td>\n",
       "    </tr>\n",
       "    <tr>\n",
       "      <th>18</th>\n",
       "      <td>NDPK9</td>\n",
       "      <td></td>\n",
       "      <td>{'H': -3.0}</td>\n",
       "    </tr>\n",
       "    <tr>\n",
       "      <th>19</th>\n",
       "      <td>NTD13</td>\n",
       "      <td></td>\n",
       "      <td>{'H': 1.0}</td>\n",
       "    </tr>\n",
       "    <tr>\n",
       "      <th>20</th>\n",
       "      <td>P3H5CD</td>\n",
       "      <td></td>\n",
       "      <td>{'H': -1.0}</td>\n",
       "    </tr>\n",
       "    <tr>\n",
       "      <th>21</th>\n",
       "      <td>PEAT1</td>\n",
       "      <td></td>\n",
       "      <td>{'C': 8.0, 'H': 12.0}</td>\n",
       "    </tr>\n",
       "    <tr>\n",
       "      <th>22</th>\n",
       "      <td>PGPP141b</td>\n",
       "      <td></td>\n",
       "      <td>{'H': -2.0}</td>\n",
       "    </tr>\n",
       "    <tr>\n",
       "      <th>23</th>\n",
       "      <td>PGPP141bpp</td>\n",
       "      <td></td>\n",
       "      <td>{'H': -2.0}</td>\n",
       "    </tr>\n",
       "    <tr>\n",
       "      <th>24</th>\n",
       "      <td>PGPP160b</td>\n",
       "      <td></td>\n",
       "      <td>{'H': -2.0}</td>\n",
       "    </tr>\n",
       "    <tr>\n",
       "      <th>25</th>\n",
       "      <td>PGPP160bpp</td>\n",
       "      <td></td>\n",
       "      <td>{'H': -2.0}</td>\n",
       "    </tr>\n",
       "    <tr>\n",
       "      <th>26</th>\n",
       "      <td>PGPP160c</td>\n",
       "      <td></td>\n",
       "      <td>{'H': -2.0}</td>\n",
       "    </tr>\n",
       "    <tr>\n",
       "      <th>27</th>\n",
       "      <td>PGPP160cpp</td>\n",
       "      <td></td>\n",
       "      <td>{'H': -2.0}</td>\n",
       "    </tr>\n",
       "    <tr>\n",
       "      <th>28</th>\n",
       "      <td>PGPP160e</td>\n",
       "      <td></td>\n",
       "      <td>{'H': -2.0}</td>\n",
       "    </tr>\n",
       "    <tr>\n",
       "      <th>29</th>\n",
       "      <td>PGPP160epp</td>\n",
       "      <td></td>\n",
       "      <td>{'H': -2.0}</td>\n",
       "    </tr>\n",
       "    <tr>\n",
       "      <th>30</th>\n",
       "      <td>PGSA141b</td>\n",
       "      <td></td>\n",
       "      <td>{'H': 4.0}</td>\n",
       "    </tr>\n",
       "    <tr>\n",
       "      <th>31</th>\n",
       "      <td>PGSA160a</td>\n",
       "      <td></td>\n",
       "      <td>{'H': 4.0}</td>\n",
       "    </tr>\n",
       "    <tr>\n",
       "      <th>32</th>\n",
       "      <td>PGSA160b</td>\n",
       "      <td></td>\n",
       "      <td>{'H': 4.0}</td>\n",
       "    </tr>\n",
       "    <tr>\n",
       "      <th>33</th>\n",
       "      <td>PGSA160c</td>\n",
       "      <td></td>\n",
       "      <td>{'H': 4.0}</td>\n",
       "    </tr>\n",
       "    <tr>\n",
       "      <th>34</th>\n",
       "      <td>PGSA160e</td>\n",
       "      <td></td>\n",
       "      <td>{'H': 4.0}</td>\n",
       "    </tr>\n",
       "    <tr>\n",
       "      <th>35</th>\n",
       "      <td>PGSA161a</td>\n",
       "      <td></td>\n",
       "      <td>{'H': 1.0}</td>\n",
       "    </tr>\n",
       "    <tr>\n",
       "      <th>36</th>\n",
       "      <td>PHEMEFErel</td>\n",
       "      <td></td>\n",
       "      <td>{'H': 4.0}</td>\n",
       "    </tr>\n",
       "    <tr>\n",
       "      <th>37</th>\n",
       "      <td>PLIPA1A160e</td>\n",
       "      <td></td>\n",
       "      <td>{'C': -2.0, 'H': -4.0}</td>\n",
       "    </tr>\n",
       "    <tr>\n",
       "      <th>38</th>\n",
       "      <td>PLIPA1E141b</td>\n",
       "      <td></td>\n",
       "      <td>{'C': 4.0, 'H': 7.0}</td>\n",
       "    </tr>\n",
       "    <tr>\n",
       "      <th>39</th>\n",
       "      <td>PLIPA1E160a</td>\n",
       "      <td></td>\n",
       "      <td>{'H': -1.0}</td>\n",
       "    </tr>\n",
       "    <tr>\n",
       "      <th>40</th>\n",
       "      <td>PLIPA1E160b</td>\n",
       "      <td></td>\n",
       "      <td>{'H': -1.0}</td>\n",
       "    </tr>\n",
       "    <tr>\n",
       "      <th>41</th>\n",
       "      <td>PLIPA1E160c</td>\n",
       "      <td></td>\n",
       "      <td>{'H': -1.0}</td>\n",
       "    </tr>\n",
       "    <tr>\n",
       "      <th>42</th>\n",
       "      <td>PLIPA1E160e</td>\n",
       "      <td></td>\n",
       "      <td>{'C': 2.0, 'H': 7.0}</td>\n",
       "    </tr>\n",
       "    <tr>\n",
       "      <th>43</th>\n",
       "      <td>PLIPA1G141b</td>\n",
       "      <td></td>\n",
       "      <td>{'C': 4.0, 'H': 5.0}</td>\n",
       "    </tr>\n",
       "    <tr>\n",
       "      <th>44</th>\n",
       "      <td>PLIPA1G160a</td>\n",
       "      <td></td>\n",
       "      <td>{'H': -5.0}</td>\n",
       "    </tr>\n",
       "    <tr>\n",
       "      <th>45</th>\n",
       "      <td>PLIPA1G160b</td>\n",
       "      <td></td>\n",
       "      <td>{'H': -3.0}</td>\n",
       "    </tr>\n",
       "    <tr>\n",
       "      <th>46</th>\n",
       "      <td>PLIPA1G160c</td>\n",
       "      <td></td>\n",
       "      <td>{'H': -3.0}</td>\n",
       "    </tr>\n",
       "    <tr>\n",
       "      <th>47</th>\n",
       "      <td>PLIPA1G160e</td>\n",
       "      <td></td>\n",
       "      <td>{'C': 2.0, 'H': 5.0}</td>\n",
       "    </tr>\n",
       "    <tr>\n",
       "      <th>48</th>\n",
       "      <td>PLIPA1G161a</td>\n",
       "      <td></td>\n",
       "      <td>{'H': -1.0}</td>\n",
       "    </tr>\n",
       "    <tr>\n",
       "      <th>49</th>\n",
       "      <td>PMCOAS</td>\n",
       "      <td></td>\n",
       "      <td>{'C': 7.0, 'H': 9.0, 'O': 3.0}</td>\n",
       "    </tr>\n",
       "    <tr>\n",
       "      <th>50</th>\n",
       "      <td>SAMC</td>\n",
       "      <td></td>\n",
       "      <td>{'H': 1.0}</td>\n",
       "    </tr>\n",
       "    <tr>\n",
       "      <th>51</th>\n",
       "      <td>SHSL2</td>\n",
       "      <td></td>\n",
       "      <td>{'H': -1.0}</td>\n",
       "    </tr>\n",
       "    <tr>\n",
       "      <th>52</th>\n",
       "      <td>SHSL3</td>\n",
       "      <td></td>\n",
       "      <td>{'H': -1.0}</td>\n",
       "    </tr>\n",
       "    <tr>\n",
       "      <th>53</th>\n",
       "      <td>SHSL4</td>\n",
       "      <td></td>\n",
       "      <td>{'H': -2.0}</td>\n",
       "    </tr>\n",
       "    <tr>\n",
       "      <th>54</th>\n",
       "      <td>SHSL5</td>\n",
       "      <td></td>\n",
       "      <td>{'H': -1.0}</td>\n",
       "    </tr>\n",
       "    <tr>\n",
       "      <th>55</th>\n",
       "      <td>SIALT1</td>\n",
       "      <td></td>\n",
       "      <td>{'C': -11.0, 'H': -18.0, 'N': -1.0, 'O': -8.0}</td>\n",
       "    </tr>\n",
       "    <tr>\n",
       "      <th>56</th>\n",
       "      <td>TFFE</td>\n",
       "      <td></td>\n",
       "      <td>{'Fe': 1.0}</td>\n",
       "    </tr>\n",
       "    <tr>\n",
       "      <th>57</th>\n",
       "      <td>TRDR1</td>\n",
       "      <td></td>\n",
       "      <td>{'X': 1.0}</td>\n",
       "    </tr>\n",
       "    <tr>\n",
       "      <th>58</th>\n",
       "      <td>TSULST</td>\n",
       "      <td></td>\n",
       "      <td>{'H': -2.0}</td>\n",
       "    </tr>\n",
       "  </tbody>\n",
       "</table>\n",
       "</div>"
      ],
      "text/plain": [
       "      Reactions Charge                                             Masses\n",
       "0      3HAD161x         {'C': 29.0, 'H': 47.0, 'N': 2.0, 'O': 8.0, 'P'...\n",
       "1      3OAS161a         {'C': -12.0, 'H': -21.0, 'N': -2.0, 'O': -9.0,...\n",
       "2     AGPAT160e                                      {'C': 2.0, 'H': 4.0}\n",
       "3        ASNSYN                                      {'H': 2.0, 'O': 2.0}\n",
       "4          BTS4                                                {'S': 1.0}\n",
       "5         CYTCS         {'C': 8.0, 'H': 14.0, 'N': 4.0, 'O': 4.0, 'S':...\n",
       "6     DASYN141b                                    {'C': -4.0, 'H': -8.0}\n",
       "7     DASYN160e                                   {'C': -4.0, 'H': -12.0}\n",
       "8     DASYN161a                                               {'H': -1.0}\n",
       "9       EAR161a         {'C': -29.0, 'H': -47.0, 'N': -2.0, 'O': -8.0,...\n",
       "10       GARFT2                                               {'H': -2.0}\n",
       "11       GLCTR1                                               {'O': -5.0}\n",
       "12        GNAT2         {'C': 3.0, 'H': 1.0, 'N': -2.0, 'O': 15.0, 'P'...\n",
       "13        DDPGA                                                {'H': 2.0}\n",
       "14          HMT                                               {'H': -1.0}\n",
       "15         MAc3                                               {'O': -2.0}\n",
       "16     MDDCP6pp                                     {'H': 3.0, 'N': -6.0}\n",
       "17     MLTGY5pp                                     {'H': -3.0, 'N': 6.0}\n",
       "18        NDPK9                                               {'H': -3.0}\n",
       "19        NTD13                                                {'H': 1.0}\n",
       "20       P3H5CD                                               {'H': -1.0}\n",
       "21        PEAT1                                     {'C': 8.0, 'H': 12.0}\n",
       "22     PGPP141b                                               {'H': -2.0}\n",
       "23   PGPP141bpp                                               {'H': -2.0}\n",
       "24     PGPP160b                                               {'H': -2.0}\n",
       "25   PGPP160bpp                                               {'H': -2.0}\n",
       "26     PGPP160c                                               {'H': -2.0}\n",
       "27   PGPP160cpp                                               {'H': -2.0}\n",
       "28     PGPP160e                                               {'H': -2.0}\n",
       "29   PGPP160epp                                               {'H': -2.0}\n",
       "30     PGSA141b                                                {'H': 4.0}\n",
       "31     PGSA160a                                                {'H': 4.0}\n",
       "32     PGSA160b                                                {'H': 4.0}\n",
       "33     PGSA160c                                                {'H': 4.0}\n",
       "34     PGSA160e                                                {'H': 4.0}\n",
       "35     PGSA161a                                                {'H': 1.0}\n",
       "36   PHEMEFErel                                                {'H': 4.0}\n",
       "37  PLIPA1A160e                                    {'C': -2.0, 'H': -4.0}\n",
       "38  PLIPA1E141b                                      {'C': 4.0, 'H': 7.0}\n",
       "39  PLIPA1E160a                                               {'H': -1.0}\n",
       "40  PLIPA1E160b                                               {'H': -1.0}\n",
       "41  PLIPA1E160c                                               {'H': -1.0}\n",
       "42  PLIPA1E160e                                      {'C': 2.0, 'H': 7.0}\n",
       "43  PLIPA1G141b                                      {'C': 4.0, 'H': 5.0}\n",
       "44  PLIPA1G160a                                               {'H': -5.0}\n",
       "45  PLIPA1G160b                                               {'H': -3.0}\n",
       "46  PLIPA1G160c                                               {'H': -3.0}\n",
       "47  PLIPA1G160e                                      {'C': 2.0, 'H': 5.0}\n",
       "48  PLIPA1G161a                                               {'H': -1.0}\n",
       "49       PMCOAS                            {'C': 7.0, 'H': 9.0, 'O': 3.0}\n",
       "50         SAMC                                                {'H': 1.0}\n",
       "51        SHSL2                                               {'H': -1.0}\n",
       "52        SHSL3                                               {'H': -1.0}\n",
       "53        SHSL4                                               {'H': -2.0}\n",
       "54        SHSL5                                               {'H': -1.0}\n",
       "55       SIALT1            {'C': -11.0, 'H': -18.0, 'N': -1.0, 'O': -8.0}\n",
       "56         TFFE                                               {'Fe': 1.0}\n",
       "57        TRDR1                                                {'X': 1.0}\n",
       "58       TSULST                                               {'H': -2.0}"
      ]
     },
     "execution_count": 100,
     "metadata": {},
     "output_type": "execute_result"
    }
   ],
   "source": [
    "#Imbalance progress\n",
    "reactions = []\n",
    "charge = []\n",
    "mass = []\n",
    "for react in model.reactions:\n",
    "    result = react.check_mass_balance()\n",
    "    if 'EX_' in  react.id:\n",
    "        continue\n",
    "    if 'Nm_' in  react.id:\n",
    "        continue\n",
    "    if 'DM_' in  react.id:\n",
    "        continue \n",
    "    if react.id in biomass_reactions:\n",
    "        continue\n",
    "    if len(result) == 0:\n",
    "        continue\n",
    "    else: \n",
    "        reactions.append(react.id)\n",
    "        masses = {}\n",
    "        for key in result.keys():\n",
    "            if key == 'charge':\n",
    "                charge.append(result['charge'])\n",
    "            else:\n",
    "                masses[key] = result[key]\n",
    "        if 'charge' not in result.keys():\n",
    "            charge.append('')\n",
    "        mass.append(masses)\n",
    "print(len(reactions), len(charge), len(mass))\n",
    "\n",
    "mass_charge_dict = {'Reactions': reactions, 'Charge': charge, 'Masses': mass}\n",
    "mass_charge = pandas.DataFrame(mass_charge_dict)\n",
    "mass_charge.to_csv(cwd+'/Gc_GENRE_2022/Curate_Gc_Model/totalimbalances.csv')\n",
    "mass_charge"
   ]
  },
  {
   "cell_type": "code",
   "execution_count": 101,
   "metadata": {},
   "outputs": [
    {
     "data": {
      "text/plain": [
       "4.208458953428469"
      ]
     },
     "execution_count": 101,
     "metadata": {},
     "output_type": "execute_result"
    }
   ],
   "source": [
    "model.slim_optimize()"
   ]
  },
  {
   "cell_type": "code",
   "execution_count": 102,
   "metadata": {
    "scrolled": true
   },
   "outputs": [
    {
     "name": "stdout",
     "output_type": "stream",
     "text": [
      "PLIPIDS: 0.001857 pa120_p + 0.001157 pa140_p + 0.001202 pa141_p + 0.003838 pa160_p + 0.006675 pa161_p + 0.000484 pa180_p + 0.0008971 pa181_p + 0.004466 pe120_p + 0.010539 pe140_p + 0.002913 pe141_p + 0.004721 pe141b_p + 0.009371 pe160_p + 0.01007 pe160a_p + 0.02591 pe160c_p + 0.0186 pe160e_p + 0.01562 pe161_p + 0.001189 pe180_p + 0.022 pe181_p + 0.001551 pg120_p + 0.001283 pg140_p + 0.001016 pg141_p + 0.001668 pg141b_p + 0.003285 pg160_p + 0.002712 pg160a_p + 0.001644 pg160b_p + 0.006129 pg160c_p + 0.006099 pg161_p + 0.000418 pg180_p + 0.000774 pg181_p <=> 0.1483 lipid_NM_p\n"
     ]
    }
   ],
   "source": [
    "r= model.reactions.get_by_id('PLIPIDS')\n",
    "print(r)"
   ]
  },
  {
   "cell_type": "code",
   "execution_count": 103,
   "metadata": {
    "scrolled": true
   },
   "outputs": [
    {
     "name": "stdout",
     "output_type": "stream",
     "text": [
      "PLIPIDS: 0.000503555042155509 pa120_p + 0.000371731800974898 pa141_p + 0.00207597350252432 pa160_p + 0.00564538392418283 pa161_p + 0.000290080640591335 pa180_p + 0.00216477129604764 pa181_p + 0.00234345993674653 pe120_p + 0.0025598346977071 pe140_p + 0.00821977537556325 pe141_p + 0.055748823259178 pe160_p + 0.0255682154771119 pe161_p + 0.00137834776769998 pe180_p + 0.0102822273478348 pe181_p + 0.000703620745734723 pg120_p + 3.03207570481577e-05 pg140_p + 0.00290595573235281 pg141_p + 0.0122303684865845 pg160_p + 0.00862596402374158 pg161_p + 0.000418944804169265 pg180_p + 0.00312454317572049 pg181_p <=> 0.1483 lipid_NM_p\n"
     ]
    }
   ],
   "source": [
    "#Phospholipids adjusted for Gc specific values based on \"Biomass composition from nmb_itm560 updated for Gc\" spreadsheet\n",
    "r= model.reactions.get_by_id('PLIPIDS')\n",
    "\n",
    "pe141b_p= model.metabolites.get_by_id('pe141b_p')\n",
    "pe160a_p= model.metabolites.get_by_id('pe160a_p')\n",
    "pe160c_p= model.metabolites.get_by_id('pe160c_p')\n",
    "pe160e_p= model.metabolites.get_by_id('pe160e_p')\n",
    "pg141b_p= model.metabolites.get_by_id('pg141b_p')\n",
    "pg160a_p= model.metabolites.get_by_id('pg160a_p')\n",
    "pg160b_p= model.metabolites.get_by_id('pg160b_p')\n",
    "pg160c_p= model.metabolites.get_by_id('pg160c_p')\n",
    "\n",
    "pa120_p= model.metabolites.get_by_id('pa120_p')\n",
    "pa140_p= model.metabolites.get_by_id('pa140_p')\n",
    "pa141_p= model.metabolites.get_by_id('pa141_p')\n",
    "pa160_p= model.metabolites.get_by_id('pa160_p')\n",
    "pa161_p= model.metabolites.get_by_id('pa161_p')\n",
    "pa180_p= model.metabolites.get_by_id('pa180_p')\n",
    "pa181_p= model.metabolites.get_by_id('pa181_p')\n",
    "\n",
    "pe120_p= model.metabolites.get_by_id('pe120_p')\n",
    "pe140_p= model.metabolites.get_by_id('pe140_p')\n",
    "pe141_p= model.metabolites.get_by_id('pe141_p')\n",
    "pe160_p= model.metabolites.get_by_id('pe160_p')\n",
    "pe161_p= model.metabolites.get_by_id('pe161_p')\n",
    "pe180_p= model.metabolites.get_by_id('pe180_p')\n",
    "pe181_p= model.metabolites.get_by_id('pe181_p')\n",
    "\n",
    "pg120_p= model.metabolites.get_by_id('pg120_p')\n",
    "pg140_p= model.metabolites.get_by_id('pg140_p')\n",
    "pg141_p= model.metabolites.get_by_id('pg141_p')\n",
    "pg160_p= model.metabolites.get_by_id('pg160_p')\n",
    "pg161_p= model.metabolites.get_by_id('pg161_p')\n",
    "pg180_p= model.metabolites.get_by_id('pg180_p')\n",
    "pg181_p= model.metabolites.get_by_id('pg181_p')\n",
    "\n",
    "\n",
    "r.add_metabolites({\n",
    " \n",
    "    pa120_p:  0.001857, \n",
    "    pa140_p: 0.001157 ,\n",
    "    pa160_p: 0.003838,\n",
    "    pa180_p:  0.000484,\n",
    "    pa141_p: 0.001202 ,\n",
    "    pa161_p: 0.006675,\n",
    "    pa181_p: 0.0008971, \n",
    "    pe120_p: 0.004466 ,\n",
    "    pe140_p: 0.010539 ,\n",
    "    pe141b_p: 0.004721, \n",
    "    pe160_p: 0.009371 ,\n",
    "    pe160a_p: 0.01007 ,\n",
    "    pe160c_p: 0.02591 ,\n",
    "    pe160e_p: 0.0186,\n",
    "    pe180_p: 0.001189, \n",
    "    pe141_p: 0.002913 ,\n",
    "    pe161_p: 0.01562 ,\n",
    "    pe181_p:  0.022 ,\n",
    "    pg120_p: 0.001551 ,\n",
    "    pg140_p: 0.001283 ,\n",
    "    pg160_p: 0.003285 ,\n",
    "    pg160a_p:  0.002712, \n",
    "    pg160b_p: 0.001644 ,\n",
    "    pg160c_p:  0.006129, \n",
    "    pg161_p: 0.006099 ,\n",
    "    pg181_p: 0.000774 ,\n",
    "    pg180_p: 0.000418 ,\n",
    "    pg141_p: 0.001016 ,\n",
    "    pg141b_p: 0.001668, })\n",
    "\n",
    "  \n",
    "r.add_metabolites({   \n",
    "    pa120_p: -0.000503555042155509,\n",
    "    pa160_p: -0.00207597350252432 ,\n",
    "    pa180_p: -0.000290080640591335,\n",
    "    pa141_p: -0.000371731800974898 ,\n",
    "    pa161_p: -0.00564538392418283 ,\n",
    "    pa181_p: -0.00216477129604764 ,\n",
    "    pe120_p: -0.00234345993674653 ,\n",
    "    pe140_p: -0.0025598346977071 ,\n",
    "    pe160_p: -0.055748823259178,\n",
    "    pe180_p: -0.00137834776769998,\n",
    "    pe141_p: -0.00821977537556325,\n",
    "    pe161_p: -0.0255682154771119,\n",
    "    pe181_p: -0.0102822273478348 ,\n",
    "    pg120_p: -0.000703620745734723,\n",
    "    pg140_p: -3.03207570481577E-05,\n",
    "    pg160_p: -0.0122303684865845,\n",
    "    pg180_p: -0.000418944804169265,\n",
    "    pg141_p: -0.00290595573235281,\n",
    "    pg161_p: -0.00862596402374158,\n",
    "    pg181_p: -0.00312454317572049,\n",
    "})\n",
    "\n",
    "print(r)"
   ]
  },
  {
   "cell_type": "code",
   "execution_count": 104,
   "metadata": {},
   "outputs": [
    {
     "data": {
      "text/plain": [
       "4.208458953428481"
      ]
     },
     "execution_count": 104,
     "metadata": {},
     "output_type": "execute_result"
    }
   ],
   "source": [
    "model.slim_optimize()"
   ]
  },
  {
   "cell_type": "code",
   "execution_count": 105,
   "metadata": {},
   "outputs": [
    {
     "name": "stdout",
     "output_type": "stream",
     "text": [
      "PLIPIDS_ESS: 0.001857 pa120_p + 0.001157 pa140_p + 0.001202 pa141_p + 0.003838 pa160_p + 0.006675 pa161_p + 0.000484 pa180_p + 0.0008971 pa181_p + 0.001551 pg120_p + 0.001283 pg140_p + 0.001016 pg141_p + 0.001668 pg141b_p + 0.003285 pg160_p + 0.002712 pg160a_p + 0.001644 pg160b_p + 0.006129 pg160c_p + 0.006099 pg161_p + 0.000418 pg180_p + 0.000774 pg181_p <=> 0.04269 esslipid_NM_p\n"
     ]
    }
   ],
   "source": [
    "r=model.reactions.get_by_id('PLIPIDS_ESS')\n",
    "print(r)"
   ]
  },
  {
   "cell_type": "code",
   "execution_count": 106,
   "metadata": {
    "scrolled": true
   },
   "outputs": [
    {
     "name": "stdout",
     "output_type": "stream",
     "text": [
      "PLIPIDS_ESS: 0.000503555042155509 pa120_p + 0.000371731800974898 pa141_p + 0.00207597350252432 pa160_p + 0.00564538392418283 pa161_p + 0.000290080640591335 pa180_p + 0.00216477129604764 pa181_p + 0.000703620745734723 pg120_p + 3.03207570481577e-05 pg140_p + 0.00290595573235281 pg141_p + 0.0122303684865845 pg160_p + 0.00862596402374158 pg161_p + 0.000418944804169265 pg180_p + 0.00312454317572049 pg181_p <=> 0.04269 esslipid_NM_p\n"
     ]
    }
   ],
   "source": [
    "r= model.reactions.get_by_id('PLIPIDS_ESS')\n",
    "\n",
    "pg141b_p= model.metabolites.get_by_id('pg141b_p')\n",
    "pg160a_p= model.metabolites.get_by_id('pg160a_p')\n",
    "pg160b_p= model.metabolites.get_by_id('pg160b_p')\n",
    "pg160c_p= model.metabolites.get_by_id('pg160c_p')\n",
    "\n",
    "pe141b_p= model.metabolites.get_by_id('pe141b_p')\n",
    "pe160a_p= model.metabolites.get_by_id('pe160a_p')\n",
    "pe160c_p= model.metabolites.get_by_id('pe160c_p')\n",
    "pe160e_p= model.metabolites.get_by_id('pe160e_p')\n",
    "pg141b_p= model.metabolites.get_by_id('pg141b_p')\n",
    "pg160a_p= model.metabolites.get_by_id('pg160a_p')\n",
    "pg160b_p= model.metabolites.get_by_id('pg160b_p')\n",
    "pg160c_p= model.metabolites.get_by_id('pg160c_p')\n",
    "\n",
    "pa120_p= model.metabolites.get_by_id('pa120_p')\n",
    "pa140_p= model.metabolites.get_by_id('pa140_p')\n",
    "pa141_p= model.metabolites.get_by_id('pa141_p')\n",
    "pa160_p= model.metabolites.get_by_id('pa160_p')\n",
    "pa161_p= model.metabolites.get_by_id('pa161_p')\n",
    "pa180_p= model.metabolites.get_by_id('pa180_p')\n",
    "pa181_p= model.metabolites.get_by_id('pa181_p')\n",
    "\n",
    "pe120_p= model.metabolites.get_by_id('pe120_p')\n",
    "pe140_p= model.metabolites.get_by_id('pe140_p')\n",
    "pe141_p= model.metabolites.get_by_id('pe141_p')\n",
    "pe160_p= model.metabolites.get_by_id('pe160_p')\n",
    "pe161_p= model.metabolites.get_by_id('pe161_p')\n",
    "pe180_p= model.metabolites.get_by_id('pe180_p')\n",
    "pe181_p= model.metabolites.get_by_id('pe181_p')\n",
    "\n",
    "pg120_p= model.metabolites.get_by_id('pg120_p')\n",
    "pg140_p= model.metabolites.get_by_id('pg140_p')\n",
    "pg141_p= model.metabolites.get_by_id('pg141_p')\n",
    "pg160_p= model.metabolites.get_by_id('pg160_p')\n",
    "pg161_p= model.metabolites.get_by_id('pg161_p')\n",
    "pg180_p= model.metabolites.get_by_id('pg180_p')\n",
    "pg181_p= model.metabolites.get_by_id('pg181_p')\n",
    "\n",
    "\n",
    "r.add_metabolites({\n",
    " \n",
    "    pa120_p:  0.001857, \n",
    "    pa140_p: 0.001157 ,\n",
    "    pa141_p: 0.001202 ,\n",
    "    pa160_p: 0.003838,\n",
    "    pa161_p: 0.006675,\n",
    "    pa180_p:  0.000484,\n",
    "    pa181_p: 0.0008971, \n",
    "\n",
    "    pg120_p: 0.001551 ,\n",
    "    pg140_p: 0.001283 ,\n",
    "    pg160_p: 0.003285 ,\n",
    "    pg160a_p:  0.002712, \n",
    "    pg160b_p: 0.001644 ,\n",
    "    pg160c_p:  0.006129, \n",
    "    pg161_p: 0.006099 ,\n",
    "    pg181_p: 0.000774 ,\n",
    "    pg180_p: 0.000418 ,\n",
    "    pg141_p: 0.001016 ,\n",
    "    pg141b_p: 0.001668, })\n",
    "\n",
    "  \n",
    "r.add_metabolites({ \n",
    "    pa120_p: -0.000503555042155509,\n",
    "    \n",
    "    pa141_p: -0.000371731800974898 ,\n",
    "    pa160_p: -0.00207597350252432 ,\n",
    "    pa161_p: -0.00564538392418283 ,\n",
    "    pa180_p: -0.000290080640591335,\n",
    "    pa181_p: -0.00216477129604764 ,\n",
    "  \n",
    "    pg120_p: -0.000703620745734723,\n",
    "    pg140_p: -3.03207570481577E-05,\n",
    "    pg141_p: -0.00290595573235281,\n",
    "    pg160_p: -0.0122303684865845,\n",
    "    pg161_p: -0.00862596402374158,\n",
    "    pg180_p: -0.000418944804169265,\n",
    "    pg181_p: -0.00312454317572049, })\n",
    "\n",
    "print(r)"
   ]
  },
  {
   "cell_type": "code",
   "execution_count": 107,
   "metadata": {},
   "outputs": [
    {
     "data": {
      "text/plain": [
       "4.208806878287181"
      ]
     },
     "execution_count": 107,
     "metadata": {},
     "output_type": "execute_result"
    }
   ],
   "source": [
    "model.slim_optimize()"
   ]
  },
  {
   "cell_type": "code",
   "execution_count": 108,
   "metadata": {
    "scrolled": true
   },
   "outputs": [
    {
     "name": "stderr",
     "output_type": "stream",
     "text": [
      "C:\\Users\\Aimee\\anaconda3\\lib\\site-packages\\cobra\\core\\model.py:727: UserWarning: need to pass in a list\n",
      "  warn(\"need to pass in a list\")\n"
     ]
    }
   ],
   "source": [
    "model.remove_reactions('AGPAT141b')\n",
    "model.remove_reactions('AGPAT160b')\n",
    "model.remove_reactions('AGPAT160c')\n",
    "model.remove_reactions('AGPAT160e')\n",
    "\n",
    "\n"
   ]
  },
  {
   "cell_type": "code",
   "execution_count": 100,
   "metadata": {},
   "outputs": [
    {
     "data": {
      "text/plain": [
       "0.26369251928851023"
      ]
     },
     "execution_count": 100,
     "metadata": {},
     "output_type": "execute_result"
    }
   ],
   "source": [
    "model.slim_optimize()"
   ]
  },
  {
   "cell_type": "code",
   "execution_count": 109,
   "metadata": {},
   "outputs": [],
   "source": [
    "model.remove_reactions('DASYN160a')\n",
    "model.remove_reactions('DASYN160b')\n",
    "model.remove_reactions('DASYN160c')\n",
    "model.remove_reactions('DASYN160e')\n",
    "model.remove_reactions('DASYN141b')"
   ]
  },
  {
   "cell_type": "code",
   "execution_count": 110,
   "metadata": {},
   "outputs": [
    {
     "data": {
      "text/plain": [
       "4.208806878287171"
      ]
     },
     "execution_count": 110,
     "metadata": {},
     "output_type": "execute_result"
    }
   ],
   "source": [
    "model.slim_optimize()"
   ]
  },
  {
   "cell_type": "code",
   "execution_count": 111,
   "metadata": {},
   "outputs": [],
   "source": [
    "model.remove_reactions('PGPP141b')\n",
    "model.remove_reactions('PGPP160a')\n",
    "model.remove_reactions('PGPP160b')\n",
    "model.remove_reactions('PGPP160c')\n",
    "model.remove_reactions('PGPP160e')"
   ]
  },
  {
   "cell_type": "code",
   "execution_count": 112,
   "metadata": {},
   "outputs": [
    {
     "data": {
      "text/plain": [
       "4.208806878287183"
      ]
     },
     "execution_count": 112,
     "metadata": {},
     "output_type": "execute_result"
    }
   ],
   "source": [
    "model.slim_optimize()"
   ]
  },
  {
   "cell_type": "code",
   "execution_count": 113,
   "metadata": {},
   "outputs": [],
   "source": [
    "model.remove_reactions('PGPP160app')\n",
    "model.remove_reactions('PGPP160bpp')\n",
    "model.remove_reactions('PGPP160cpp')\n",
    "model.remove_reactions('PGPP160epp')\n",
    "model.remove_reactions('PGPP141bpp')"
   ]
  },
  {
   "cell_type": "code",
   "execution_count": 114,
   "metadata": {},
   "outputs": [
    {
     "data": {
      "text/plain": [
       "4.208806878287171"
      ]
     },
     "execution_count": 114,
     "metadata": {},
     "output_type": "execute_result"
    }
   ],
   "source": [
    "model.slim_optimize()"
   ]
  },
  {
   "cell_type": "code",
   "execution_count": 115,
   "metadata": {},
   "outputs": [],
   "source": [
    "model.remove_reactions('PGSA160a')\n",
    "model.remove_reactions('PGSA160b')\n",
    "model.remove_reactions('PGSA160c')\n",
    "model.remove_reactions('PGSA160e')\n",
    "model.remove_reactions('PGSA141b')"
   ]
  },
  {
   "cell_type": "code",
   "execution_count": 116,
   "metadata": {},
   "outputs": [
    {
     "data": {
      "text/plain": [
       "4.208806878287193"
      ]
     },
     "execution_count": 116,
     "metadata": {},
     "output_type": "execute_result"
    }
   ],
   "source": [
    "model.slim_optimize()"
   ]
  },
  {
   "cell_type": "code",
   "execution_count": 117,
   "metadata": {},
   "outputs": [],
   "source": [
    "model.remove_reactions('PLIPA1A160a')\n",
    "model.remove_reactions('PLIPA1A160b')\n",
    "model.remove_reactions('PLIPA1A160c')\n",
    "model.remove_reactions('PLIPA1A160e')\n",
    "model.remove_reactions('PLIPA1A141b')"
   ]
  },
  {
   "cell_type": "code",
   "execution_count": 110,
   "metadata": {},
   "outputs": [
    {
     "data": {
      "text/plain": [
       "0.2636925192880822"
      ]
     },
     "execution_count": 110,
     "metadata": {},
     "output_type": "execute_result"
    }
   ],
   "source": [
    "model.slim_optimize()"
   ]
  },
  {
   "cell_type": "code",
   "execution_count": 118,
   "metadata": {},
   "outputs": [],
   "source": [
    "model.remove_reactions('PLIPA1E160a')\n",
    "model.remove_reactions('PLIPA1E160b')\n",
    "model.remove_reactions('PLIPA1E160c')\n",
    "model.remove_reactions('PLIPA1E160e')\n",
    "model.remove_reactions('PLIPA1E141b')"
   ]
  },
  {
   "cell_type": "code",
   "execution_count": 119,
   "metadata": {},
   "outputs": [
    {
     "data": {
      "text/plain": [
       "4.208806878287195"
      ]
     },
     "execution_count": 119,
     "metadata": {},
     "output_type": "execute_result"
    }
   ],
   "source": [
    "model.slim_optimize()"
   ]
  },
  {
   "cell_type": "code",
   "execution_count": 120,
   "metadata": {},
   "outputs": [],
   "source": [
    "model.remove_reactions('PLIPA1G160a')\n",
    "model.remove_reactions('PLIPA1G160b')\n",
    "model.remove_reactions('PLIPA1G160c')\n",
    "model.remove_reactions('PLIPA1G160e')\n",
    "model.remove_reactions('PLIPA1G141b')"
   ]
  },
  {
   "cell_type": "code",
   "execution_count": 121,
   "metadata": {},
   "outputs": [
    {
     "data": {
      "text/plain": [
       "4.2088068782871835"
      ]
     },
     "execution_count": 121,
     "metadata": {},
     "output_type": "execute_result"
    }
   ],
   "source": [
    "model.slim_optimize()"
   ]
  },
  {
   "cell_type": "code",
   "execution_count": 122,
   "metadata": {},
   "outputs": [],
   "source": [
    "model.remove_reactions('PSD160a')\n",
    "model.remove_reactions('PSD160b')\n",
    "model.remove_reactions('PSD160c')\n",
    "model.remove_reactions('PSD160e')\n",
    "model.remove_reactions('PSD141b')"
   ]
  },
  {
   "cell_type": "code",
   "execution_count": 116,
   "metadata": {},
   "outputs": [
    {
     "data": {
      "text/plain": [
       "0.26369251928858745"
      ]
     },
     "execution_count": 116,
     "metadata": {},
     "output_type": "execute_result"
    }
   ],
   "source": [
    "model.slim_optimize()"
   ]
  },
  {
   "cell_type": "code",
   "execution_count": 123,
   "metadata": {},
   "outputs": [],
   "source": [
    "model.remove_reactions('PSSA160a')\n",
    "model.remove_reactions('PSSA160b')\n",
    "model.remove_reactions('PSSA160c')\n",
    "model.remove_reactions('PSSA160e')\n",
    "model.remove_reactions('PSSA141b')"
   ]
  },
  {
   "cell_type": "code",
   "execution_count": 124,
   "metadata": {},
   "outputs": [
    {
     "data": {
      "text/plain": [
       "4.208806878287189"
      ]
     },
     "execution_count": 124,
     "metadata": {},
     "output_type": "execute_result"
    }
   ],
   "source": [
    "model.slim_optimize()"
   ]
  },
  {
   "cell_type": "code",
   "execution_count": 125,
   "metadata": {},
   "outputs": [],
   "source": [
    "model.remove_reactions('2AGPA181atipp')"
   ]
  },
  {
   "cell_type": "code",
   "execution_count": 126,
   "metadata": {},
   "outputs": [
    {
     "data": {
      "text/plain": [
       "4.208806878287169"
      ]
     },
     "execution_count": 126,
     "metadata": {},
     "output_type": "execute_result"
    }
   ],
   "source": [
    "model.slim_optimize()"
   ]
  },
  {
   "cell_type": "code",
   "execution_count": 127,
   "metadata": {},
   "outputs": [],
   "source": [
    "model.remove_reactions('PA141babcpp')\n",
    "model.remove_reactions('PA160aabcpp')\n",
    "model.remove_reactions('PA160babcpp')\n",
    "model.remove_reactions('PA160cabcpp')\n",
    "model.remove_reactions('PA160eabcpp')\n",
    "model.remove_reactions('PE160aabcpp')\n",
    "model.remove_reactions('PE160babcpp')\n",
    "model.remove_reactions('PE160cabcpp')\n",
    "model.remove_reactions('PE160eabcpp')\n",
    "model.remove_reactions('PG141babcpp')\n",
    "model.remove_reactions('PG160aabcpp')\n",
    "model.remove_reactions('PG160babcpp')\n",
    "model.remove_reactions('PG160cabcpp')\n",
    "model.remove_reactions('PG160eabcpp')"
   ]
  },
  {
   "cell_type": "code",
   "execution_count": 128,
   "metadata": {},
   "outputs": [],
   "source": [
    "model.remove_reactions('PGP141babcpp')\n",
    "model.remove_reactions('PGP160aabcpp')\n",
    "model.remove_reactions('PGP160babcpp')\n",
    "model.remove_reactions('PGP160cabcpp')\n",
    "model.remove_reactions('PGP160eabcpp')"
   ]
  },
  {
   "cell_type": "code",
   "execution_count": 129,
   "metadata": {},
   "outputs": [
    {
     "data": {
      "text/plain": [
       "4.208806878287175"
      ]
     },
     "execution_count": 129,
     "metadata": {},
     "output_type": "execute_result"
    }
   ],
   "source": [
    "model.slim_optimize()"
   ]
  },
  {
   "cell_type": "code",
   "execution_count": 130,
   "metadata": {
    "scrolled": true
   },
   "outputs": [
    {
     "name": "stdout",
     "output_type": "stream",
     "text": [
      "{'H': -2.0}\n"
     ]
    },
    {
     "data": {
      "text/html": [
       "\n",
       "        <table>\n",
       "            <tr>\n",
       "                <td><strong>Reaction identifier</strong></td><td>GARFT2</td>\n",
       "            </tr><tr>\n",
       "                <td><strong>Name</strong></td><td>R_GARFT2</td>\n",
       "            </tr><tr>\n",
       "                <td><strong>Memory address</strong></td>\n",
       "                <td>0x02043b14dd30</td>\n",
       "            </tr><tr>\n",
       "                <td><strong>Stoichiometry</strong></td>\n",
       "                <td>\n",
       "                    <p style='text-align:right'>gar_c + h2o_c + methf_c --> fgam_c + thf_c</p>\n",
       "                    <p style='text-align:right'>N1-5-Phospho-D-ribosyl-glycinamide + H2O + 5-10-Methenyltetrahydrofolate --> N2-Formyl-N1-5-phospho-D-ribosyl-glycinamide + 5-6-7-8-Tetrahydrofolate</p>\n",
       "                </td>\n",
       "            </tr><tr>\n",
       "                <td><strong>GPR</strong></td><td>NGO1224</td>\n",
       "            </tr><tr>\n",
       "                <td><strong>Lower bound</strong></td><td>0.0</td>\n",
       "            </tr><tr>\n",
       "                <td><strong>Upper bound</strong></td><td>999999.0</td>\n",
       "            </tr>\n",
       "        </table>\n",
       "        "
      ],
      "text/plain": [
       "<Reaction GARFT2 at 0x2043b14dd30>"
      ]
     },
     "execution_count": 130,
     "metadata": {},
     "output_type": "execute_result"
    }
   ],
   "source": [
    "#GARFT2\n",
    "r = model.reactions.get_by_id('GARFT2')\n",
    "print(r.check_mass_balance())\n",
    "r"
   ]
  },
  {
   "cell_type": "code",
   "execution_count": 131,
   "metadata": {
    "scrolled": true
   },
   "outputs": [
    {
     "name": "stdout",
     "output_type": "stream",
     "text": [
      "GARFT2: gar_c + h2o_c + methf_c --> fgam_c + 2.0 h_c + thf_c\n",
      "{}\n"
     ]
    }
   ],
   "source": [
    "h_c = model.metabolites.get_by_id('h_c')\n",
    "\n",
    "r.add_metabolites({\n",
    "    h_c: 2.0,\n",
    "})\n",
    "\n",
    "print(r)\n",
    "print(r.check_mass_balance())"
   ]
  },
  {
   "cell_type": "code",
   "execution_count": 132,
   "metadata": {
    "scrolled": true
   },
   "outputs": [
    {
     "data": {
      "text/plain": [
       "4.208806878287196"
      ]
     },
     "execution_count": 132,
     "metadata": {},
     "output_type": "execute_result"
    }
   ],
   "source": [
    "model.slim_optimize()"
   ]
  },
  {
   "cell_type": "code",
   "execution_count": 133,
   "metadata": {
    "scrolled": true
   },
   "outputs": [
    {
     "name": "stdout",
     "output_type": "stream",
     "text": [
      "{'O': -5.0}\n"
     ]
    },
    {
     "data": {
      "text/html": [
       "\n",
       "        <table>\n",
       "            <tr>\n",
       "                <td><strong>Reaction identifier</strong></td><td>GLCTR1</td>\n",
       "            </tr><tr>\n",
       "                <td><strong>Name</strong></td><td>R_GLCTR1</td>\n",
       "            </tr><tr>\n",
       "                <td><strong>Memory address</strong></td>\n",
       "                <td>0x02043b158f40</td>\n",
       "            </tr><tr>\n",
       "                <td><strong>Stoichiometry</strong></td>\n",
       "                <td>\n",
       "                    <p style='text-align:right'>peagnahhlipa_c + udpg_c --> h_c + icolipa_c + udp_c</p>\n",
       "                    <p style='text-align:right'>PEA-glcNAc-heptosyl-heptosyl-kdo2-lipidA + UDPglucose --> H + inner-core-oligosaccharide-lipid-A + UDP</p>\n",
       "                </td>\n",
       "            </tr><tr>\n",
       "                <td><strong>GPR</strong></td><td>NGO1353</td>\n",
       "            </tr><tr>\n",
       "                <td><strong>Lower bound</strong></td><td>0.0</td>\n",
       "            </tr><tr>\n",
       "                <td><strong>Upper bound</strong></td><td>999999.0</td>\n",
       "            </tr>\n",
       "        </table>\n",
       "        "
      ],
      "text/plain": [
       "<Reaction GLCTR1 at 0x2043b158f40>"
      ]
     },
     "execution_count": 133,
     "metadata": {},
     "output_type": "execute_result"
    }
   ],
   "source": [
    "#GLCTR1\n",
    "r1 = model.reactions.get_by_id('GLCTR1')\n",
    "print(r1.check_mass_balance())\n",
    "r1"
   ]
  },
  {
   "cell_type": "code",
   "execution_count": 134,
   "metadata": {
    "scrolled": true
   },
   "outputs": [
    {
     "name": "stdout",
     "output_type": "stream",
     "text": [
      "{'C': -11.0, 'H': -18.0, 'N': -1.0, 'O': -8.0}\n"
     ]
    },
    {
     "data": {
      "text/html": [
       "\n",
       "        <table>\n",
       "            <tr>\n",
       "                <td><strong>Reaction identifier</strong></td><td>SIALT1</td>\n",
       "            </tr><tr>\n",
       "                <td><strong>Name</strong></td><td>R_SIALT1</td>\n",
       "            </tr><tr>\n",
       "                <td><strong>Memory address</strong></td>\n",
       "                <td>0x02043b3ce640</td>\n",
       "            </tr><tr>\n",
       "                <td><strong>Stoichiometry</strong></td>\n",
       "                <td>\n",
       "                    <p style='text-align:right'>cmpacna_c + galgnagalicolipa_c --> cmp_c + lps_NM_c</p>\n",
       "                    <p style='text-align:right'>CMP-N-acetyl neuraminate + galatosyl-glcNAc-galactosyl-inner-core-oligosaccharide-lipid-A --> CMP + mature lps, immunotype 3</p>\n",
       "                </td>\n",
       "            </tr><tr>\n",
       "                <td><strong>GPR</strong></td><td>NGO1081</td>\n",
       "            </tr><tr>\n",
       "                <td><strong>Lower bound</strong></td><td>0.0</td>\n",
       "            </tr><tr>\n",
       "                <td><strong>Upper bound</strong></td><td>999999.0</td>\n",
       "            </tr>\n",
       "        </table>\n",
       "        "
      ],
      "text/plain": [
       "<Reaction SIALT1 at 0x2043b3ce640>"
      ]
     },
     "execution_count": 134,
     "metadata": {},
     "output_type": "execute_result"
    }
   ],
   "source": [
    "#SIALT1\n",
    "r2 = model.reactions.get_by_id('SIALT1')\n",
    "print(r2.check_mass_balance())\n",
    "r2"
   ]
  },
  {
   "cell_type": "code",
   "execution_count": 135,
   "metadata": {
    "scrolled": true
   },
   "outputs": [],
   "source": [
    "#rename LPS_NM to LOS_gc\n",
    "\n",
    "model.metabolites.get_by_id('lps_NM_c').id='los_GC_c'\n"
   ]
  },
  {
   "cell_type": "code",
   "execution_count": 136,
   "metadata": {
    "scrolled": true
   },
   "outputs": [],
   "source": [
    "model.metabolites.get_by_id('los_GC_c').name='los_GC_c'"
   ]
  },
  {
   "cell_type": "code",
   "execution_count": 137,
   "metadata": {
    "scrolled": true
   },
   "outputs": [],
   "source": [
    "#rename LPS_NM to LOS_GC\n",
    "#Siaylation is not required for synthesis of LOS. Changed the \"LOS\" \n",
    "# designation to the the final unsialylated component. Renamed the sialylated LOS to \"Sialylated LOS\".\n",
    "model.metabolites.get_by_id('los_GC_c').id='sialylated_los_GC_c'\n",
    "model.metabolites.get_by_id('sialylated_los_GC_c').name='sialylated_los_GC_c'\n",
    "\n",
    "model.metabolites.get_by_id('galgnagalicolipa_c').id='los_GC_c'\n",
    "model.metabolites.get_by_id('los_GC_c').name='los_GC_c'"
   ]
  },
  {
   "cell_type": "code",
   "execution_count": 138,
   "metadata": {
    "scrolled": true
   },
   "outputs": [],
   "source": [
    "#Remove export of LOS and associated extracellular LOS components.\n",
    "model.remove_reactions('LPS3tex')\n",
    "model.remove_reactions('LPS8tex')\n",
    "\n",
    "model.remove_metabolites(model.metabolites.get_by_id('galicolipa_e'))\n",
    "model.remove_metabolites(model.metabolites.get_by_id('lps_NM_e'))"
   ]
  },
  {
   "cell_type": "code",
   "execution_count": 139,
   "metadata": {
    "scrolled": true
   },
   "outputs": [
    {
     "name": "stdout",
     "output_type": "stream",
     "text": [
      "GLCTR1: peagnahhlipa_c + udpg_c --> h_c + icolipa_c + udp_c\n",
      "{}\n",
      "SIALT1: cmpacna_c + los_GC_c --> cmp_c + sialylated_los_GC_c\n",
      "{}\n"
     ]
    }
   ],
   "source": [
    "#For GLCTR1 - Formula for icolipa_c is incorrect. When glc is added to peagnahhlipa_c, the previous reaction did not add the oxygens. \n",
    "#The corresponding reactions in LOS synthesis all are also missing these 5 oxygens. This is corrected here.\n",
    "#Used structure diagrams here PMID: 11496013 and here PMID: 30873172 to determine proper formulas. \n",
    "\n",
    "#The reaction GLCTR1 corresponds to a bigg ID for a slightly different reaction in E.coli LPS biosynthesis. \n",
    "#This was left in place, but may need to be changed at a later time to avoid confusion.\n",
    "\n",
    "#Additionally for SIALT1 - LPS is sialylated, the NeuAC was not actually added to the structure for LPS.  \n",
    "#This is corrected here. Note this sialylation is on the alpha chain of LOS only, which is more common. Not on the beta chain.\n",
    "\n",
    "\n",
    "model.metabolites.get_by_id('icolipa_c').formula= 'C142H250N4O64P3'\n",
    "model.metabolites.get_by_id('galicolipa_c').formula= 'C148H260N4O69P3'\n",
    "model.metabolites.get_by_id('gnagalicolipa_c').formula= 'C159H275N4O89P4'\n",
    "model.metabolites.get_by_id('los_GC_c').formula= 'C165H285N3O94P4'\n",
    "\n",
    "model.metabolites.get_by_id('sialylated_los_GC_c').formula= 'C176H303N4O102P4'\n",
    "\n",
    "\n",
    "\n",
    "\n",
    "\n",
    "\n",
    "print(r1)\n",
    "print(r1.check_mass_balance())\n",
    "print(r2)\n",
    "print(r2.check_mass_balance())"
   ]
  },
  {
   "cell_type": "code",
   "execution_count": 140,
   "metadata": {},
   "outputs": [
    {
     "data": {
      "text/plain": [
       "4.208806878287186"
      ]
     },
     "execution_count": 140,
     "metadata": {},
     "output_type": "execute_result"
    }
   ],
   "source": [
    "model.slim_optimize()"
   ]
  },
  {
   "cell_type": "code",
   "execution_count": 141,
   "metadata": {
    "scrolled": true
   },
   "outputs": [
    {
     "data": {
      "text/html": [
       "\n",
       "        <table>\n",
       "            <tr>\n",
       "                <td><strong>Reaction identifier</strong></td><td>SIALT1</td>\n",
       "            </tr><tr>\n",
       "                <td><strong>Name</strong></td><td>R_SIALT1</td>\n",
       "            </tr><tr>\n",
       "                <td><strong>Memory address</strong></td>\n",
       "                <td>0x02043b3ce640</td>\n",
       "            </tr><tr>\n",
       "                <td><strong>Stoichiometry</strong></td>\n",
       "                <td>\n",
       "                    <p style='text-align:right'>cmpacna_c + los_GC_c --> cmp_c + sialylated_los_GC_c</p>\n",
       "                    <p style='text-align:right'>CMP-N-acetyl neuraminate + los_GC_c --> CMP + sialylated_los_GC_c</p>\n",
       "                </td>\n",
       "            </tr><tr>\n",
       "                <td><strong>GPR</strong></td><td>NGO1081</td>\n",
       "            </tr><tr>\n",
       "                <td><strong>Lower bound</strong></td><td>0.0</td>\n",
       "            </tr><tr>\n",
       "                <td><strong>Upper bound</strong></td><td>999999.0</td>\n",
       "            </tr>\n",
       "        </table>\n",
       "        "
      ],
      "text/plain": [
       "<Reaction SIALT1 at 0x2043b3ce640>"
      ]
     },
     "execution_count": 141,
     "metadata": {},
     "output_type": "execute_result"
    }
   ],
   "source": [
    "#Confirm new LOS reactions display correctly. \n",
    "model.reactions.get_by_id('SIALT1')"
   ]
  },
  {
   "cell_type": "code",
   "execution_count": 142,
   "metadata": {
    "scrolled": true
   },
   "outputs": [
    {
     "name": "stdout",
     "output_type": "stream",
     "text": [
      "GLCTR2: gnahhlipa_c + udpg_c --> glcgnahhlipa_c + h_c + udp_c\n",
      "{}\n"
     ]
    }
   ],
   "source": [
    "#The more common isoform for Gc is 4HEXG. This has the addition of a glc on both the alpha and the beta chain.\n",
    "#The NM model did not have this glc on the beta chain and instead has a PEA. The PEA and glc on the beta chain are mutually exclusive. \n",
    "# Added reaction GLCTR2 to add a glc to the beta chain. \n",
    "\n",
    "glcgnahhlipa_c= Metabolite(\n",
    "    'glcgnahhlipa_c',\n",
    "    formula='C132H232N3O61P2',\n",
    "    name='M_glcgnahhlipa_c',\n",
    "    compartment='cytosol')\n",
    "\n",
    "udpg_c= model.metabolites.get_by_id('udpg_c')\n",
    "udp_c = model.metabolites.get_by_id('udp_c')\n",
    "h_c = model.metabolites.get_by_id('h_c')\n",
    "gnahhlipa_c=model.metabolites.get_by_id('gnahhlipa_c')\n",
    "\n",
    "\n",
    "\n",
    "GLCTR2 = cobra.Reaction('GLCTR2')\n",
    "GLCTR2.notes = {}\n",
    "GLCTR2.name = 'R_GLCTR2'\n",
    "GLCTR2.gene_reaction_rule = 'NGO2072'\n",
    "GLCTR2.lower_bound = 0.\n",
    "GLCTR2.upper_bound = 1000.\n",
    "GLCTR2.add_metabolites({\n",
    "    gnahhlipa_c: -1.0,\n",
    "    glcgnahhlipa_c: 1.0,\n",
    "    udpg_c: -1.0,\n",
    "    udp_c: 1.0,\n",
    "    h_c: 1,\n",
    "})\n",
    "\n",
    "model.add_reactions([GLCTR2])\n",
    "new_rxns += 1\n",
    "\n",
    "r= model.reactions.get_by_id('GLCTR2')\n",
    "print(r)\n",
    "print(r.check_mass_balance())"
   ]
  },
  {
   "cell_type": "code",
   "execution_count": 143,
   "metadata": {
    "scrolled": true
   },
   "outputs": [],
   "source": [
    "#Remove reaction for addition of phosphoethanolamine to beta chain\n",
    "model.remove_reactions('PEAT1')"
   ]
  },
  {
   "cell_type": "code",
   "execution_count": 144,
   "metadata": {
    "scrolled": true,
    "tags": []
   },
   "outputs": [],
   "source": [
    "#Add Gal to end of Beta chain to complete that segment of 4HEXG by adding reaction \n",
    "galglcgnahhlipa_c= Metabolite(\n",
    "    'galglcgnahhlipa_c',\n",
    "    formula='C138H242N3O66P2',\n",
    "    name='M_galglcgnahhlipa_c',\n",
    "    compartment='cytosol')\n",
    "\n",
    "udpgal_c= model.metabolites.get_by_id('udpgal_c')\n",
    "udp_c = model.metabolites.get_by_id('udp_c')\n",
    "h_c = model.metabolites.get_by_id('h_c')\n",
    "glcgnahhlipa_c=model.metabolites.get_by_id('glcgnahhlipa_c')\n",
    "\n",
    "\n",
    "\n",
    "GALT3 = cobra.Reaction('GALT3')\n",
    "GALT3.notes = {}\n",
    "GALT3.name = 'R_GLCTR2'\n",
    "GALT3.gene_reaction_rule = 'NGO2072'\n",
    "GALT3.lower_bound = 0.\n",
    "GALT3.upper_bound = 1000.\n",
    "GALT3.add_metabolites({\n",
    "    glcgnahhlipa_c: -1.0,\n",
    "    galglcgnahhlipa_c: 1.0,\n",
    "    udpg_c: -1.0,\n",
    "    udp_c: 1.0,\n",
    "    h_c: 1,\n",
    "})\n",
    "\n",
    "model.add_reactions([GALT3])\n",
    "new_rxns += 1\n",
    "\n"
   ]
  },
  {
   "cell_type": "code",
   "execution_count": 145,
   "metadata": {
    "scrolled": true
   },
   "outputs": [
    {
     "name": "stdout",
     "output_type": "stream",
     "text": [
      "GALT3: glcgnahhlipa_c + udpg_c --> galglcgnahhlipa_c + h_c + udp_c\n",
      "{}\n"
     ]
    }
   ],
   "source": [
    "r=model.reactions.get_by_id('GALT3')\n",
    "print(r)\n",
    "print(r.check_mass_balance())"
   ]
  },
  {
   "cell_type": "code",
   "execution_count": 146,
   "metadata": {
    "scrolled": true
   },
   "outputs": [],
   "source": [
    "#Create icolipa from the newly created 4HEXG Beta chain.\n",
    "r = model.reactions.get_by_id('GLCTR1')\n",
    "\n",
    "peagnahhlipa_c=model.metabolites.get_by_id('peagnahhlipa_c')\n",
    "\n",
    "r.add_metabolites({\n",
    "    peagnahhlipa_c: 1.0,\n",
    "    galglcgnahhlipa_c: -1.0,\n",
    "})\n"
   ]
  },
  {
   "cell_type": "code",
   "execution_count": 147,
   "metadata": {
    "scrolled": true
   },
   "outputs": [
    {
     "name": "stdout",
     "output_type": "stream",
     "text": [
      "GLCTR1: galglcgnahhlipa_c + udpg_c --> h_c + icolipa_c + udp_c\n",
      "{}\n"
     ]
    }
   ],
   "source": [
    "#Correct the icolipa formula and formulas for the alphachain components to reflect the new 4HEXG beta chain\n",
    "model.metabolites.get_by_id('icolipa_c').formula= 'C144H252N3O71P2'   \n",
    "model.metabolites.get_by_id('galicolipa_c').formula= 'C150H262N3O76P2'\n",
    "model.metabolites.get_by_id('gnagalicolipa_c').formula= 'C158H276N4O81P2'\n",
    "model.metabolites.get_by_id('los_GC_c').formula= 'C164H286N4O86P2'\n",
    "\n",
    "model.metabolites.get_by_id('sialylated_los_GC_c').formula= 'C175H304N5O94P2'\n",
    "\n",
    "print(r)\n",
    "print(r.check_mass_balance())\n"
   ]
  },
  {
   "cell_type": "code",
   "execution_count": 148,
   "metadata": {
    "scrolled": true
   },
   "outputs": [
    {
     "name": "stdout",
     "output_type": "stream",
     "text": [
      "{}\n"
     ]
    },
    {
     "data": {
      "text/html": [
       "\n",
       "        <table>\n",
       "            <tr>\n",
       "                <td><strong>Reaction identifier</strong></td><td>SIALT1</td>\n",
       "            </tr><tr>\n",
       "                <td><strong>Name</strong></td><td>R_SIALT1</td>\n",
       "            </tr><tr>\n",
       "                <td><strong>Memory address</strong></td>\n",
       "                <td>0x02043b3ce640</td>\n",
       "            </tr><tr>\n",
       "                <td><strong>Stoichiometry</strong></td>\n",
       "                <td>\n",
       "                    <p style='text-align:right'>cmpacna_c + los_GC_c --> cmp_c + sialylated_los_GC_c</p>\n",
       "                    <p style='text-align:right'>CMP-N-acetyl neuraminate + los_GC_c --> CMP + sialylated_los_GC_c</p>\n",
       "                </td>\n",
       "            </tr><tr>\n",
       "                <td><strong>GPR</strong></td><td>NGO1081</td>\n",
       "            </tr><tr>\n",
       "                <td><strong>Lower bound</strong></td><td>0.0</td>\n",
       "            </tr><tr>\n",
       "                <td><strong>Upper bound</strong></td><td>999999.0</td>\n",
       "            </tr>\n",
       "        </table>\n",
       "        "
      ],
      "text/plain": [
       "<Reaction SIALT1 at 0x2043b3ce640>"
      ]
     },
     "execution_count": 148,
     "metadata": {},
     "output_type": "execute_result"
    }
   ],
   "source": [
    "#Check all the steps of LOS synthesis to ensure its balanced properly. \n",
    "#SIALT1\n",
    "r = model.reactions.get_by_id('SIALT1')\n",
    "print(r.check_mass_balance())\n",
    "r"
   ]
  },
  {
   "cell_type": "code",
   "execution_count": 149,
   "metadata": {
    "scrolled": true
   },
   "outputs": [
    {
     "name": "stdout",
     "output_type": "stream",
     "text": [
      "{}\n"
     ]
    },
    {
     "data": {
      "text/html": [
       "\n",
       "        <table>\n",
       "            <tr>\n",
       "                <td><strong>Reaction identifier</strong></td><td>GALT2</td>\n",
       "            </tr><tr>\n",
       "                <td><strong>Name</strong></td><td>R_GALT2</td>\n",
       "            </tr><tr>\n",
       "                <td><strong>Memory address</strong></td>\n",
       "                <td>0x02043b13ffd0</td>\n",
       "            </tr><tr>\n",
       "                <td><strong>Stoichiometry</strong></td>\n",
       "                <td>\n",
       "                    <p style='text-align:right'>gnagalicolipa_c + udpgal_c --> h_c + los_GC_c + udp_c</p>\n",
       "                    <p style='text-align:right'>glcNAc-galactosyl-inner-core-oligosaccharide-lipid-A + UDPgalactose --> H + los_GC_c + UDP</p>\n",
       "                </td>\n",
       "            </tr><tr>\n",
       "                <td><strong>GPR</strong></td><td>NGO2156</td>\n",
       "            </tr><tr>\n",
       "                <td><strong>Lower bound</strong></td><td>0.0</td>\n",
       "            </tr><tr>\n",
       "                <td><strong>Upper bound</strong></td><td>999999.0</td>\n",
       "            </tr>\n",
       "        </table>\n",
       "        "
      ],
      "text/plain": [
       "<Reaction GALT2 at 0x2043b13ffd0>"
      ]
     },
     "execution_count": 149,
     "metadata": {},
     "output_type": "execute_result"
    }
   ],
   "source": [
    "#GALT2\n",
    "r = model.reactions.get_by_id('GALT2')\n",
    "print(r.check_mass_balance())\n",
    "r"
   ]
  },
  {
   "cell_type": "code",
   "execution_count": 150,
   "metadata": {
    "scrolled": true
   },
   "outputs": [
    {
     "name": "stdout",
     "output_type": "stream",
     "text": [
      "{}\n"
     ]
    },
    {
     "data": {
      "text/html": [
       "\n",
       "        <table>\n",
       "            <tr>\n",
       "                <td><strong>Reaction identifier</strong></td><td>GNAT2</td>\n",
       "            </tr><tr>\n",
       "                <td><strong>Name</strong></td><td>R_GNAT2</td>\n",
       "            </tr><tr>\n",
       "                <td><strong>Memory address</strong></td>\n",
       "                <td>0x02043b18b9d0</td>\n",
       "            </tr><tr>\n",
       "                <td><strong>Stoichiometry</strong></td>\n",
       "                <td>\n",
       "                    <p style='text-align:right'>galicolipa_c + uacgam_c --> gnagalicolipa_c + udp_c</p>\n",
       "                    <p style='text-align:right'>galactosyl-inner-core-oligosaccharide-lipid-A, also mature lps, immunotype 8 + UDP-N-acetyl-D-glucosamine --> glcNAc-galactosyl-inner-core-oligosaccharide-lipid-A + UDP</p>\n",
       "                </td>\n",
       "            </tr><tr>\n",
       "                <td><strong>GPR</strong></td><td>NGO2158</td>\n",
       "            </tr><tr>\n",
       "                <td><strong>Lower bound</strong></td><td>0.0</td>\n",
       "            </tr><tr>\n",
       "                <td><strong>Upper bound</strong></td><td>999999.0</td>\n",
       "            </tr>\n",
       "        </table>\n",
       "        "
      ],
      "text/plain": [
       "<Reaction GNAT2 at 0x2043b18b9d0>"
      ]
     },
     "execution_count": 150,
     "metadata": {},
     "output_type": "execute_result"
    }
   ],
   "source": [
    "#GNAT2\n",
    "r = model.reactions.get_by_id('GNAT2')\n",
    "print(r.check_mass_balance())\n",
    "r"
   ]
  },
  {
   "cell_type": "code",
   "execution_count": 151,
   "metadata": {
    "scrolled": true
   },
   "outputs": [
    {
     "name": "stdout",
     "output_type": "stream",
     "text": [
      "{}\n"
     ]
    },
    {
     "data": {
      "text/html": [
       "\n",
       "        <table>\n",
       "            <tr>\n",
       "                <td><strong>Reaction identifier</strong></td><td>GALT1</td>\n",
       "            </tr><tr>\n",
       "                <td><strong>Name</strong></td><td>R_GALT1</td>\n",
       "            </tr><tr>\n",
       "                <td><strong>Memory address</strong></td>\n",
       "                <td>0x02043b13fe50</td>\n",
       "            </tr><tr>\n",
       "                <td><strong>Stoichiometry</strong></td>\n",
       "                <td>\n",
       "                    <p style='text-align:right'>icolipa_c + udpgal_c --> galicolipa_c + h_c + udp_c</p>\n",
       "                    <p style='text-align:right'>inner-core-oligosaccharide-lipid-A + UDPgalactose --> galactosyl-inner-core-oligosaccharide-lipid-A, also mature lps, immunotype 8 + H + UDP</p>\n",
       "                </td>\n",
       "            </tr><tr>\n",
       "                <td><strong>GPR</strong></td><td>NGO2159</td>\n",
       "            </tr><tr>\n",
       "                <td><strong>Lower bound</strong></td><td>0.0</td>\n",
       "            </tr><tr>\n",
       "                <td><strong>Upper bound</strong></td><td>999999.0</td>\n",
       "            </tr>\n",
       "        </table>\n",
       "        "
      ],
      "text/plain": [
       "<Reaction GALT1 at 0x2043b13fe50>"
      ]
     },
     "execution_count": 151,
     "metadata": {},
     "output_type": "execute_result"
    }
   ],
   "source": [
    "#GALT1\n",
    "r = model.reactions.get_by_id('GALT1')\n",
    "print(r.check_mass_balance())\n",
    "r"
   ]
  },
  {
   "cell_type": "code",
   "execution_count": 152,
   "metadata": {
    "scrolled": true
   },
   "outputs": [
    {
     "name": "stdout",
     "output_type": "stream",
     "text": [
      "{}\n"
     ]
    },
    {
     "data": {
      "text/html": [
       "\n",
       "        <table>\n",
       "            <tr>\n",
       "                <td><strong>Reaction identifier</strong></td><td>GALT3</td>\n",
       "            </tr><tr>\n",
       "                <td><strong>Name</strong></td><td>R_GLCTR2</td>\n",
       "            </tr><tr>\n",
       "                <td><strong>Memory address</strong></td>\n",
       "                <td>0x02043b2b3c70</td>\n",
       "            </tr><tr>\n",
       "                <td><strong>Stoichiometry</strong></td>\n",
       "                <td>\n",
       "                    <p style='text-align:right'>glcgnahhlipa_c + udpg_c --> galglcgnahhlipa_c + h_c + udp_c</p>\n",
       "                    <p style='text-align:right'>M_glcgnahhlipa_c + UDPglucose --> M_galglcgnahhlipa_c + H + UDP</p>\n",
       "                </td>\n",
       "            </tr><tr>\n",
       "                <td><strong>GPR</strong></td><td>NGO2072</td>\n",
       "            </tr><tr>\n",
       "                <td><strong>Lower bound</strong></td><td>0.0</td>\n",
       "            </tr><tr>\n",
       "                <td><strong>Upper bound</strong></td><td>1000.0</td>\n",
       "            </tr>\n",
       "        </table>\n",
       "        "
      ],
      "text/plain": [
       "<Reaction GALT3 at 0x2043b2b3c70>"
      ]
     },
     "execution_count": 152,
     "metadata": {},
     "output_type": "execute_result"
    }
   ],
   "source": [
    "#GALT3\n",
    "r = model.reactions.get_by_id('GALT3')\n",
    "print(r.check_mass_balance())\n",
    "r"
   ]
  },
  {
   "cell_type": "code",
   "execution_count": 153,
   "metadata": {
    "scrolled": true
   },
   "outputs": [
    {
     "name": "stdout",
     "output_type": "stream",
     "text": [
      "{}\n"
     ]
    },
    {
     "data": {
      "text/html": [
       "\n",
       "        <table>\n",
       "            <tr>\n",
       "                <td><strong>Reaction identifier</strong></td><td>GLCTR2</td>\n",
       "            </tr><tr>\n",
       "                <td><strong>Name</strong></td><td>R_GLCTR2</td>\n",
       "            </tr><tr>\n",
       "                <td><strong>Memory address</strong></td>\n",
       "                <td>0x02043b2b38e0</td>\n",
       "            </tr><tr>\n",
       "                <td><strong>Stoichiometry</strong></td>\n",
       "                <td>\n",
       "                    <p style='text-align:right'>gnahhlipa_c + udpg_c --> glcgnahhlipa_c + h_c + udp_c</p>\n",
       "                    <p style='text-align:right'>glcNAc-heptosyl-heptosyl-kdo2-lipidA + UDPglucose --> M_glcgnahhlipa_c + H + UDP</p>\n",
       "                </td>\n",
       "            </tr><tr>\n",
       "                <td><strong>GPR</strong></td><td>NGO2072</td>\n",
       "            </tr><tr>\n",
       "                <td><strong>Lower bound</strong></td><td>0.0</td>\n",
       "            </tr><tr>\n",
       "                <td><strong>Upper bound</strong></td><td>1000.0</td>\n",
       "            </tr>\n",
       "        </table>\n",
       "        "
      ],
      "text/plain": [
       "<Reaction GLCTR2 at 0x2043b2b38e0>"
      ]
     },
     "execution_count": 153,
     "metadata": {},
     "output_type": "execute_result"
    }
   ],
   "source": [
    "#GLCTR2\n",
    "r = model.reactions.get_by_id('GLCTR2')\n",
    "print(r.check_mass_balance())\n",
    "r"
   ]
  },
  {
   "cell_type": "code",
   "execution_count": 154,
   "metadata": {
    "scrolled": true
   },
   "outputs": [
    {
     "name": "stdout",
     "output_type": "stream",
     "text": [
      "{}\n"
     ]
    },
    {
     "data": {
      "text/html": [
       "\n",
       "        <table>\n",
       "            <tr>\n",
       "                <td><strong>Reaction identifier</strong></td><td>GLCTR1</td>\n",
       "            </tr><tr>\n",
       "                <td><strong>Name</strong></td><td>R_GLCTR1</td>\n",
       "            </tr><tr>\n",
       "                <td><strong>Memory address</strong></td>\n",
       "                <td>0x02043b158f40</td>\n",
       "            </tr><tr>\n",
       "                <td><strong>Stoichiometry</strong></td>\n",
       "                <td>\n",
       "                    <p style='text-align:right'>galglcgnahhlipa_c + udpg_c --> h_c + icolipa_c + udp_c</p>\n",
       "                    <p style='text-align:right'>M_galglcgnahhlipa_c + UDPglucose --> H + inner-core-oligosaccharide-lipid-A + UDP</p>\n",
       "                </td>\n",
       "            </tr><tr>\n",
       "                <td><strong>GPR</strong></td><td>NGO1353</td>\n",
       "            </tr><tr>\n",
       "                <td><strong>Lower bound</strong></td><td>0.0</td>\n",
       "            </tr><tr>\n",
       "                <td><strong>Upper bound</strong></td><td>999999.0</td>\n",
       "            </tr>\n",
       "        </table>\n",
       "        "
      ],
      "text/plain": [
       "<Reaction GLCTR1 at 0x2043b158f40>"
      ]
     },
     "execution_count": 154,
     "metadata": {},
     "output_type": "execute_result"
    }
   ],
   "source": [
    "#GLCTR1\n",
    "r = model.reactions.get_by_id('GLCTR1')\n",
    "print(r.check_mass_balance())\n",
    "r"
   ]
  },
  {
   "cell_type": "code",
   "execution_count": 155,
   "metadata": {
    "scrolled": true
   },
   "outputs": [
    {
     "name": "stdout",
     "output_type": "stream",
     "text": [
      "{}\n"
     ]
    },
    {
     "data": {
      "text/html": [
       "\n",
       "        <table>\n",
       "            <tr>\n",
       "                <td><strong>Reaction identifier</strong></td><td>GNAT1</td>\n",
       "            </tr><tr>\n",
       "                <td><strong>Name</strong></td><td>R_GNAT1</td>\n",
       "            </tr><tr>\n",
       "                <td><strong>Memory address</strong></td>\n",
       "                <td>0x02043b18b910</td>\n",
       "            </tr><tr>\n",
       "                <td><strong>Stoichiometry</strong></td>\n",
       "                <td>\n",
       "                    <p style='text-align:right'>hhlipa_c + uacgam_c --> gnahhlipa_c + udp_c</p>\n",
       "                    <p style='text-align:right'>heptosyl-heptosyl-kdo2-lipidA + UDP-N-acetyl-D-glucosamine --> glcNAc-heptosyl-heptosyl-kdo2-lipidA + UDP</p>\n",
       "                </td>\n",
       "            </tr><tr>\n",
       "                <td><strong>GPR</strong></td><td>NGO1354</td>\n",
       "            </tr><tr>\n",
       "                <td><strong>Lower bound</strong></td><td>0.0</td>\n",
       "            </tr><tr>\n",
       "                <td><strong>Upper bound</strong></td><td>999999.0</td>\n",
       "            </tr>\n",
       "        </table>\n",
       "        "
      ],
      "text/plain": [
       "<Reaction GNAT1 at 0x2043b18b910>"
      ]
     },
     "execution_count": 155,
     "metadata": {},
     "output_type": "execute_result"
    }
   ],
   "source": [
    "#GNAT1\n",
    "r = model.reactions.get_by_id('GNAT1')\n",
    "print(r.check_mass_balance())\n",
    "r"
   ]
  },
  {
   "cell_type": "code",
   "execution_count": 156,
   "metadata": {
    "scrolled": true
   },
   "outputs": [
    {
     "name": "stdout",
     "output_type": "stream",
     "text": [
      "{}\n"
     ]
    },
    {
     "data": {
      "text/html": [
       "\n",
       "        <table>\n",
       "            <tr>\n",
       "                <td><strong>Reaction identifier</strong></td><td>HEPT2</td>\n",
       "            </tr><tr>\n",
       "                <td><strong>Name</strong></td><td>R_HEPT2</td>\n",
       "            </tr><tr>\n",
       "                <td><strong>Memory address</strong></td>\n",
       "                <td>0x02043b1a3b80</td>\n",
       "            </tr><tr>\n",
       "                <td><strong>Stoichiometry</strong></td>\n",
       "                <td>\n",
       "                    <p style='text-align:right'>adphep_LD_c + hlipa_c --> adp_c + h_c + hhlipa_c</p>\n",
       "                    <p style='text-align:right'>ADP-L-glycero-D-manno-heptose + heptosyl-kdo2-lipidA --> ADP + H + heptosyl-heptosyl-kdo2-lipidA</p>\n",
       "                </td>\n",
       "            </tr><tr>\n",
       "                <td><strong>GPR</strong></td><td>NGO0987</td>\n",
       "            </tr><tr>\n",
       "                <td><strong>Lower bound</strong></td><td>0.0</td>\n",
       "            </tr><tr>\n",
       "                <td><strong>Upper bound</strong></td><td>999999.0</td>\n",
       "            </tr>\n",
       "        </table>\n",
       "        "
      ],
      "text/plain": [
       "<Reaction HEPT2 at 0x2043b1a3b80>"
      ]
     },
     "execution_count": 156,
     "metadata": {},
     "output_type": "execute_result"
    }
   ],
   "source": [
    "#HEPT2\n",
    "r = model.reactions.get_by_id('HEPT2')\n",
    "print(r.check_mass_balance())\n",
    "r"
   ]
  },
  {
   "cell_type": "code",
   "execution_count": 157,
   "metadata": {
    "scrolled": true
   },
   "outputs": [
    {
     "name": "stdout",
     "output_type": "stream",
     "text": [
      "{}\n"
     ]
    },
    {
     "data": {
      "text/html": [
       "\n",
       "        <table>\n",
       "            <tr>\n",
       "                <td><strong>Reaction identifier</strong></td><td>HEPT1</td>\n",
       "            </tr><tr>\n",
       "                <td><strong>Name</strong></td><td>R_HEPT1</td>\n",
       "            </tr><tr>\n",
       "                <td><strong>Memory address</strong></td>\n",
       "                <td>0x02043b1a3ac0</td>\n",
       "            </tr><tr>\n",
       "                <td><strong>Stoichiometry</strong></td>\n",
       "                <td>\n",
       "                    <p style='text-align:right'>adphep_LD_c + lipa_c --> adp_c + h_c + hlipa_c</p>\n",
       "                    <p style='text-align:right'>ADP-L-glycero-D-manno-heptose + KDO-2-lipid-A --> ADP + H + heptosyl-kdo2-lipidA</p>\n",
       "                </td>\n",
       "            </tr><tr>\n",
       "                <td><strong>GPR</strong></td><td>NGO1934</td>\n",
       "            </tr><tr>\n",
       "                <td><strong>Lower bound</strong></td><td>0.0</td>\n",
       "            </tr><tr>\n",
       "                <td><strong>Upper bound</strong></td><td>999999.0</td>\n",
       "            </tr>\n",
       "        </table>\n",
       "        "
      ],
      "text/plain": [
       "<Reaction HEPT1 at 0x2043b1a3ac0>"
      ]
     },
     "execution_count": 157,
     "metadata": {},
     "output_type": "execute_result"
    }
   ],
   "source": [
    "#HEPT1\n",
    "r = model.reactions.get_by_id('HEPT1')\n",
    "print(r.check_mass_balance())\n",
    "r"
   ]
  },
  {
   "cell_type": "code",
   "execution_count": 158,
   "metadata": {
    "scrolled": true
   },
   "outputs": [],
   "source": [
    "#All of LOS synthesis looks correct. Continue checking/ correcting other reactions. "
   ]
  },
  {
   "cell_type": "code",
   "execution_count": 159,
   "metadata": {},
   "outputs": [
    {
     "data": {
      "text/plain": [
       "4.208806878287182"
      ]
     },
     "execution_count": 159,
     "metadata": {},
     "output_type": "execute_result"
    }
   ],
   "source": [
    "model.slim_optimize()"
   ]
  },
  {
   "cell_type": "code",
   "execution_count": 160,
   "metadata": {
    "scrolled": true
   },
   "outputs": [
    {
     "name": "stdout",
     "output_type": "stream",
     "text": [
      "{'H': -1.0}\n"
     ]
    },
    {
     "data": {
      "text/html": [
       "\n",
       "        <table>\n",
       "            <tr>\n",
       "                <td><strong>Reaction identifier</strong></td><td>HMT</td>\n",
       "            </tr><tr>\n",
       "                <td><strong>Name</strong></td><td>R_HMT</td>\n",
       "            </tr><tr>\n",
       "                <td><strong>Memory address</strong></td>\n",
       "                <td>0x02043b1b0e20</td>\n",
       "            </tr><tr>\n",
       "                <td><strong>Stoichiometry</strong></td>\n",
       "                <td>\n",
       "                    <p style='text-align:right'>amet_c + his_L_c --> ahcys_c + mhis_c</p>\n",
       "                    <p style='text-align:right'>S-Adenosyl-L-methionine + L-Histidine --> S-Adenosyl-L-homocysteine + N(pi)-Methyl-L-histidine</p>\n",
       "                </td>\n",
       "            </tr><tr>\n",
       "                <td><strong>GPR</strong></td><td>NGO0746</td>\n",
       "            </tr><tr>\n",
       "                <td><strong>Lower bound</strong></td><td>0.0</td>\n",
       "            </tr><tr>\n",
       "                <td><strong>Upper bound</strong></td><td>999999.0</td>\n",
       "            </tr>\n",
       "        </table>\n",
       "        "
      ],
      "text/plain": [
       "<Reaction HMT at 0x2043b1b0e20>"
      ]
     },
     "execution_count": 160,
     "metadata": {},
     "output_type": "execute_result"
    }
   ],
   "source": [
    "#HMT\n",
    "r = model.reactions.get_by_id('HMT')\n",
    "print(r.check_mass_balance())\n",
    "r"
   ]
  },
  {
   "cell_type": "code",
   "execution_count": 161,
   "metadata": {
    "scrolled": true
   },
   "outputs": [],
   "source": [
    "#No evidence that this reaction exists in Gc. \n",
    "#It forms a dead end metabolite that is not used elsewhere in the network.\n",
    "#The gene (ngo0746) does possibly encode a methyltransferase, but this specific reaction doesn't appear to be found in any other models of bacteria, and isn't included in the CARVEME model for Gc. \n",
    "#As such, I am deleting the reaction. \n",
    "\n",
    "model.remove_reactions('HMT')"
   ]
  },
  {
   "cell_type": "code",
   "execution_count": 162,
   "metadata": {
    "scrolled": true
   },
   "outputs": [
    {
     "name": "stdout",
     "output_type": "stream",
     "text": [
      "{'O': -2.0}\n"
     ]
    },
    {
     "data": {
      "text/html": [
       "\n",
       "        <table>\n",
       "            <tr>\n",
       "                <td><strong>Reaction identifier</strong></td><td>MAc3</td>\n",
       "            </tr><tr>\n",
       "                <td><strong>Name</strong></td><td>R_MAc3</td>\n",
       "            </tr><tr>\n",
       "                <td><strong>Memory address</strong></td>\n",
       "                <td>0x02043b1fb4c0</td>\n",
       "            </tr><tr>\n",
       "                <td><strong>Stoichiometry</strong></td>\n",
       "                <td>\n",
       "                    <p style='text-align:right'>accoa_c + h2o_p + murein5p4p_p --> coa_c + murein5p4pOAc_p</p>\n",
       "                    <p style='text-align:right'>Acetyl-CoA + H2O + two-linked-disacharide-pentapeptide-and-tetrapeptide-murein-units-uncrosslinked-middle-of-chain --> Coenzyme-A + two-linked-disacharide-pentapeptide-and-tetrapeptide-murein-...</p>\n",
       "                </td>\n",
       "            </tr><tr>\n",
       "                <td><strong>GPR</strong></td><td>NGO0533 and NGO0534 and Orphan</td>\n",
       "            </tr><tr>\n",
       "                <td><strong>Lower bound</strong></td><td>0.0</td>\n",
       "            </tr><tr>\n",
       "                <td><strong>Upper bound</strong></td><td>999999.0</td>\n",
       "            </tr>\n",
       "        </table>\n",
       "        "
      ],
      "text/plain": [
       "<Reaction MAc3 at 0x2043b1fb4c0>"
      ]
     },
     "execution_count": 162,
     "metadata": {},
     "output_type": "execute_result"
    }
   ],
   "source": [
    "#MAc3\n",
    "r = model.reactions.get_by_id('MAc3')\n",
    "print(r.check_mass_balance())\n",
    "r"
   ]
  },
  {
   "cell_type": "code",
   "execution_count": 163,
   "metadata": {
    "scrolled": true
   },
   "outputs": [
    {
     "name": "stdout",
     "output_type": "stream",
     "text": [
      "C77H119N15O41\n",
      "C79H123N15O41\n"
     ]
    }
   ],
   "source": [
    "# Both Gc and Nm acylate their peptidoglycan. PMCID: PMC1231103\n",
    "print(model.metabolites.get_by_id('murein5p4p_p').formula)\n",
    "print(model.metabolites.get_by_id('murein5p4pOAc_p').formula)\n"
   ]
  },
  {
   "cell_type": "code",
   "execution_count": 164,
   "metadata": {
    "scrolled": true
   },
   "outputs": [],
   "source": [
    "#In the formula for murein5p4pOAc, the oxygen that gets added during acylation was forgotten. This is added here. \n",
    "model.metabolites.get_by_id('murein5p4pOAc_p').formula= 'C79H123N15O43'  \n"
   ]
  },
  {
   "cell_type": "code",
   "execution_count": 165,
   "metadata": {
    "scrolled": true
   },
   "outputs": [
    {
     "name": "stdout",
     "output_type": "stream",
     "text": [
      "{}\n"
     ]
    },
    {
     "data": {
      "text/html": [
       "\n",
       "        <table>\n",
       "            <tr>\n",
       "                <td><strong>Reaction identifier</strong></td><td>MAc3</td>\n",
       "            </tr><tr>\n",
       "                <td><strong>Name</strong></td><td>R_MAc3</td>\n",
       "            </tr><tr>\n",
       "                <td><strong>Memory address</strong></td>\n",
       "                <td>0x02043b1fb4c0</td>\n",
       "            </tr><tr>\n",
       "                <td><strong>Stoichiometry</strong></td>\n",
       "                <td>\n",
       "                    <p style='text-align:right'>accoa_c + h2o_p + murein5p4p_p --> coa_c + murein5p4pOAc_p</p>\n",
       "                    <p style='text-align:right'>Acetyl-CoA + H2O + two-linked-disacharide-pentapeptide-and-tetrapeptide-murein-units-uncrosslinked-middle-of-chain --> Coenzyme-A + two-linked-disacharide-pentapeptide-and-tetrapeptide-murein-...</p>\n",
       "                </td>\n",
       "            </tr><tr>\n",
       "                <td><strong>GPR</strong></td><td>NGO0533 and NGO0534 and Orphan</td>\n",
       "            </tr><tr>\n",
       "                <td><strong>Lower bound</strong></td><td>0.0</td>\n",
       "            </tr><tr>\n",
       "                <td><strong>Upper bound</strong></td><td>999999.0</td>\n",
       "            </tr>\n",
       "        </table>\n",
       "        "
      ],
      "text/plain": [
       "<Reaction MAc3 at 0x2043b1fb4c0>"
      ]
     },
     "execution_count": 165,
     "metadata": {},
     "output_type": "execute_result"
    }
   ],
   "source": [
    "print(r.check_mass_balance())\n",
    "r"
   ]
  },
  {
   "cell_type": "code",
   "execution_count": 166,
   "metadata": {
    "scrolled": true
   },
   "outputs": [
    {
     "data": {
      "text/html": [
       "\n",
       "        <table>\n",
       "            <tr>\n",
       "                <td><strong>Reaction identifier</strong></td><td>MAc3</td>\n",
       "            </tr><tr>\n",
       "                <td><strong>Name</strong></td><td>R_MAc3</td>\n",
       "            </tr><tr>\n",
       "                <td><strong>Memory address</strong></td>\n",
       "                <td>0x02043b1fb4c0</td>\n",
       "            </tr><tr>\n",
       "                <td><strong>Stoichiometry</strong></td>\n",
       "                <td>\n",
       "                    <p style='text-align:right'>accoa_c + h2o_p + murein5p4p_p --> coa_c + murein5p4pOAc_p</p>\n",
       "                    <p style='text-align:right'>Acetyl-CoA + H2O + two-linked-disacharide-pentapeptide-and-tetrapeptide-murein-units-uncrosslinked-middle-of-chain --> Coenzyme-A + two-linked-disacharide-pentapeptide-and-tetrapeptide-murein-...</p>\n",
       "                </td>\n",
       "            </tr><tr>\n",
       "                <td><strong>GPR</strong></td><td>NGO0533 and NGO0534</td>\n",
       "            </tr><tr>\n",
       "                <td><strong>Lower bound</strong></td><td>0.0</td>\n",
       "            </tr><tr>\n",
       "                <td><strong>Upper bound</strong></td><td>999999.0</td>\n",
       "            </tr>\n",
       "        </table>\n",
       "        "
      ],
      "text/plain": [
       "<Reaction MAc3 at 0x2043b1fb4c0>"
      ]
     },
     "execution_count": 166,
     "metadata": {},
     "output_type": "execute_result"
    }
   ],
   "source": [
    "#peptidoglycan acylation has been shown to occur due to NGO0533 and NGO0534 (NMB1274 and NMB1273) aka PatA and PatB aka PacA and PacB. \n",
    "#THe third protein, proposed as an orphan, is apeI which actually is an esterase. \n",
    "#(PMID: 23373517)\n",
    "#I correct the GPR rules for the MAc1 - MAc8 reactions here. \n",
    "\n",
    "NGO0533 =model.genes.get_by_id('NGO0533')\n",
    "NGO0534= model.genes.get_by_id('NGO0534')\n",
    "model.reactions.get_by_id('MAc1').gene_reaction_rule ='NGO0533 and NGO0534'\n",
    "model.reactions.get_by_id('MAc2').gene_reaction_rule ='NGO0533 and NGO0534'\n",
    "model.reactions.get_by_id('MAc3').gene_reaction_rule ='NGO0533 and NGO0534'\n",
    "model.reactions.get_by_id('MAc4').gene_reaction_rule ='NGO0533 and NGO0534'\n",
    "model.reactions.get_by_id('MAc5').gene_reaction_rule ='NGO0533 and NGO0534'\n",
    "model.reactions.get_by_id('MAc6').gene_reaction_rule ='NGO0533 and NGO0534'\n",
    "model.reactions.get_by_id('MAc7').gene_reaction_rule ='NGO0533 and NGO0534'\n",
    "model.reactions.get_by_id('MAc8').gene_reaction_rule ='NGO0533 and NGO0534'\n",
    "r"
   ]
  },
  {
   "cell_type": "code",
   "execution_count": 167,
   "metadata": {
    "scrolled": true
   },
   "outputs": [
    {
     "name": "stdout",
     "output_type": "stream",
     "text": [
      "{'C': -1.5695700000000001, 'H': -2.433528, 'N': -0.24168599999999998, 'O': -0.8500679999999999}\n",
      "{'C': -1.552902, 'H': -2.341854, 'N': -0.29169, 'O': -0.816732}\n"
     ]
    },
    {
     "data": {
      "text/html": [
       "\n",
       "        <table>\n",
       "            <tr>\n",
       "                <td><strong>Reaction identifier</strong></td><td>PEPGLY</td>\n",
       "            </tr><tr>\n",
       "                <td><strong>Name</strong></td><td>R_PEPGLY</td>\n",
       "            </tr><tr>\n",
       "                <td><strong>Memory address</strong></td>\n",
       "                <td>0x02043b2cde80</td>\n",
       "            </tr><tr>\n",
       "                <td><strong>Stoichiometry</strong></td>\n",
       "                <td>\n",
       "                    <p style='text-align:right'>0.005556 murein4px4px4pOAc_p + 0.008334 murein4px4px4p_p <=> 0.1389 pepglycan_NM_p</p>\n",
       "                    <p style='text-align:right'>0.005556 three-disacharide-linked-murein-units-tetrapeptide-crosslinked-tetrapeptide-A2pm-D-ala--tetrapeptide-corsslinked-tetrapeptide-A2pm-D-ala--middle-of-chain-O_acytelated + 0.008334 three-...</p>\n",
       "                </td>\n",
       "            </tr><tr>\n",
       "                <td><strong>GPR</strong></td><td></td>\n",
       "            </tr><tr>\n",
       "                <td><strong>Lower bound</strong></td><td>-999999.0</td>\n",
       "            </tr><tr>\n",
       "                <td><strong>Upper bound</strong></td><td>999999.0</td>\n",
       "            </tr>\n",
       "        </table>\n",
       "        "
      ],
      "text/plain": [
       "<Reaction PEPGLY at 0x2043b2cde80>"
      ]
     },
     "execution_count": 167,
     "metadata": {},
     "output_type": "execute_result"
    }
   ],
   "source": [
    "#Most of the PG in the cell wall is tetrapeptide in Gc PMCID: PMC551031 and is O-acytelated. \n",
    "#However tripeptide monomer gets released extracellularly and can cause immune responses through NOD1.\n",
    "#Cleavage of the tetrapeptide to tripeptide, is driven by ldcA (NGO1274) (PMCID: PMC5646250)\n",
    "\n",
    "#Confirmed, that tripeptide monomer is produced in the model (anhgm3p_p).\n",
    "\n",
    "\n",
    "\n",
    "# Gc and neisseria in general use tetrapeptide PG in the cell wall, rather than tripeptide which is used in E.coli. \n",
    "# This model uses the \"most common\" o-acetylated tetrapeptide trimer to make PG for biomass. (murein4px4px4pOAc and murein 4p4p4pOAc).\n",
    "#The model uses murein5p5p5p to make murein 4p4p4p (MDDCP6pp) which is then acetylated (MAc1).\n",
    "#Its not clear how this would happen in nature since these reactions typically work on crosslinked peptidoglycan, not on uncrosslinked. \n",
    "#Additionally, peptidoglycan, incorporated into the cell wall, should be crosslinked. \n",
    "\n",
    " \n",
    "#As such, I am removing 4p4p4pOAC as an essential component of the cell wall for biomass (PEPGLY) and replacing it with 4px4px4p, since the cell wall consists of both acetylated and unmodified components.\n",
    "\n",
    "r = model.reactions.get_by_id('PEPGLY')\n",
    "print(r.check_mass_balance())\n",
    "r\n",
    "\n",
    "murein4p4p4pOAc_p=model.metabolites.get_by_id('murein4p4p4pOAc_p')\n",
    "murein4px4px4p_p = model.metabolites.get_by_id('murein4px4px4p_p')\n",
    "\n",
    "r.add_metabolites({\n",
    "    murein4p4p4pOAc_p: 0.008334,\n",
    "    murein4px4px4p_p : -0.008334,\n",
    "})\n",
    "\n",
    "print(r.check_mass_balance())\n",
    "r\n",
    "\n",
    "\n",
    "\n",
    "\n"
   ]
  },
  {
   "cell_type": "code",
   "execution_count": 168,
   "metadata": {},
   "outputs": [],
   "source": [
    "#I am deleting the reaction MDDCP6pp, which I cannot find evidence for currently. \n",
    "model.remove_reactions('MDDCP6pp')\n",
    "\n",
    "\n"
   ]
  },
  {
   "cell_type": "code",
   "execution_count": 169,
   "metadata": {},
   "outputs": [
    {
     "name": "stdout",
     "output_type": "stream",
     "text": [
      "{}\n",
      "{}\n"
     ]
    },
    {
     "data": {
      "text/html": [
       "\n",
       "        <table>\n",
       "            <tr>\n",
       "                <td><strong>Reaction identifier</strong></td><td>MAc7</td>\n",
       "            </tr><tr>\n",
       "                <td><strong>Name</strong></td><td>R_MAc7</td>\n",
       "            </tr><tr>\n",
       "                <td><strong>Memory address</strong></td>\n",
       "                <td>0x02043b1fb8e0</td>\n",
       "            </tr><tr>\n",
       "                <td><strong>Stoichiometry</strong></td>\n",
       "                <td>\n",
       "                    <p style='text-align:right'>accoa_c + h2o_p + murein4px4px4pOAc_p --> coa_c + murein4px4px4pdOAc_p</p>\n",
       "                    <p style='text-align:right'>Acetyl-CoA + H2O + three-disacharide-linked-murein-units-tetrapeptide-crosslinked-tetrapeptide-A2pm-D-ala--tetrapeptide-corsslinked-tetrapeptide-A2pm-D-ala--middle-of-chain-O_acytelated -->...</p>\n",
       "                </td>\n",
       "            </tr><tr>\n",
       "                <td><strong>GPR</strong></td><td>NGO0533 and NGO0534</td>\n",
       "            </tr><tr>\n",
       "                <td><strong>Lower bound</strong></td><td>0.0</td>\n",
       "            </tr><tr>\n",
       "                <td><strong>Upper bound</strong></td><td>999999.0</td>\n",
       "            </tr>\n",
       "        </table>\n",
       "        "
      ],
      "text/plain": [
       "<Reaction MAc7 at 0x2043b1fb8e0>"
      ]
     },
     "execution_count": 169,
     "metadata": {},
     "output_type": "execute_result"
    }
   ],
   "source": [
    "#MAc7 and MAc8 which produces murein4p4p4pdOac and murein 4p4p4ptOAc respectively, where altered to use murein 4px4px4p as the base instead.\n",
    "r = model.reactions.get_by_id('MAc7')\n",
    "print(r.check_mass_balance())\n",
    "r\n",
    "\n",
    "\n",
    "murein4px4px4pdOAc_p= Metabolite(\n",
    "    'murein4px4px4pdOAc_p',\n",
    "    formula='C115H175N21O62',\n",
    "    name='M_murein4px4px4pdOAc_p',\n",
    "    compartment='periplasm')\n",
    "\n",
    "murein4px4px4ptOAc_p= Metabolite(\n",
    "    'murein4px4px4ptOAc_p',\n",
    "    formula='C117H179N21O64',\n",
    "    name='M_murein4px4px4ptOAc_p',\n",
    "    compartment='periplasm')\n",
    "\n",
    "murein4p4p4pOAC_p=model.metabolites.get_by_id('murein4p4p4pOAc_p')\n",
    "murein4px4px4pOAc_p = model.metabolites.get_by_id('murein4px4px4pOAc_p')\n",
    "murein4p4p4pdOAc_p=model.metabolites.get_by_id('murein4p4p4pdOAc_p')\n",
    "\n",
    "murein4p4p4ptOAc_p=model.metabolites.get_by_id('murein4p4p4ptOAc_p')\n",
    "\n",
    "\n",
    "r.add_metabolites({\n",
    "    murein4p4p4pOAc_p: 1,\n",
    "    murein4px4px4pOAc_p : -1,\n",
    "    murein4p4p4pdOAc_p: -1,\n",
    "    murein4px4px4pdOAc_p : 1,\n",
    "})\n",
    "\n",
    "print(r.check_mass_balance())\n",
    "r\n",
    "\n"
   ]
  },
  {
   "cell_type": "code",
   "execution_count": 170,
   "metadata": {},
   "outputs": [
    {
     "name": "stdout",
     "output_type": "stream",
     "text": [
      "{}\n"
     ]
    }
   ],
   "source": [
    "r = model.reactions.get_by_id('MAc8')\n",
    "print(r.check_mass_balance())\n",
    "r\n",
    "\n",
    "r.add_metabolites({\n",
    "\n",
    "    murein4p4p4pdOAc_p: 1,\n",
    "    murein4px4px4pdOAc_p : -1,\n",
    "    murein4p4p4ptOAc_p: -1,\n",
    "    murein4px4px4ptOAc_p : 1,\n",
    "})\n",
    "\n",
    "\n"
   ]
  },
  {
   "cell_type": "code",
   "execution_count": 171,
   "metadata": {},
   "outputs": [],
   "source": [
    "#And I am deleting MLTGY5pp as the lytic transglycosylase should also only work on crosslinked peptidoglycan, since its catalytic activity is to remove those crosslinks.\n",
    "model.remove_reactions('MLTGY5pp')"
   ]
  },
  {
   "cell_type": "code",
   "execution_count": null,
   "metadata": {},
   "outputs": [],
   "source": [
    "#Rename pepglycan metabolite\n",
    "model.metabolites.pepglycan_NM_p.id=\"pepglycan_p\"\n",
    "model.metabolites.pepglycan_p.name='M_pepglycan_p'\n"
   ]
  },
  {
   "cell_type": "code",
   "execution_count": 172,
   "metadata": {},
   "outputs": [
    {
     "data": {
      "text/html": [
       "<strong><em>Optimal</em> solution with objective value 4.209</strong><br><div>\n",
       "<style scoped>\n",
       "    .dataframe tbody tr th:only-of-type {\n",
       "        vertical-align: middle;\n",
       "    }\n",
       "\n",
       "    .dataframe tbody tr th {\n",
       "        vertical-align: top;\n",
       "    }\n",
       "\n",
       "    .dataframe thead th {\n",
       "        text-align: right;\n",
       "    }\n",
       "</style>\n",
       "<table border=\"1\" class=\"dataframe\">\n",
       "  <thead>\n",
       "    <tr style=\"text-align: right;\">\n",
       "      <th></th>\n",
       "      <th>fluxes</th>\n",
       "      <th>reduced_costs</th>\n",
       "    </tr>\n",
       "  </thead>\n",
       "  <tbody>\n",
       "    <tr>\n",
       "      <th>12DGR120tipp</th>\n",
       "      <td>0.000000</td>\n",
       "      <td>0.0</td>\n",
       "    </tr>\n",
       "    <tr>\n",
       "      <th>12DGR140tipp</th>\n",
       "      <td>0.000000</td>\n",
       "      <td>0.0</td>\n",
       "    </tr>\n",
       "    <tr>\n",
       "      <th>12DGR141tipp</th>\n",
       "      <td>0.000000</td>\n",
       "      <td>0.0</td>\n",
       "    </tr>\n",
       "    <tr>\n",
       "      <th>12DGR160tipp</th>\n",
       "      <td>0.000000</td>\n",
       "      <td>0.0</td>\n",
       "    </tr>\n",
       "    <tr>\n",
       "      <th>12DGR161tipp</th>\n",
       "      <td>0.000000</td>\n",
       "      <td>0.0</td>\n",
       "    </tr>\n",
       "    <tr>\n",
       "      <th>...</th>\n",
       "      <td>...</td>\n",
       "      <td>...</td>\n",
       "    </tr>\n",
       "    <tr>\n",
       "      <th>ZN2abcpp</th>\n",
       "      <td>0.013293</td>\n",
       "      <td>0.0</td>\n",
       "    </tr>\n",
       "    <tr>\n",
       "      <th>Zn2tex</th>\n",
       "      <td>0.013293</td>\n",
       "      <td>0.0</td>\n",
       "    </tr>\n",
       "    <tr>\n",
       "      <th>EX_apoACP_c_</th>\n",
       "      <td>-0.154685</td>\n",
       "      <td>0.0</td>\n",
       "    </tr>\n",
       "    <tr>\n",
       "      <th>GLCTR2</th>\n",
       "      <td>0.000000</td>\n",
       "      <td>0.0</td>\n",
       "    </tr>\n",
       "    <tr>\n",
       "      <th>GALT3</th>\n",
       "      <td>0.000000</td>\n",
       "      <td>0.0</td>\n",
       "    </tr>\n",
       "  </tbody>\n",
       "</table>\n",
       "<p>1412 rows × 2 columns</p>\n",
       "</div>"
      ],
      "text/plain": [
       "<Solution 4.209 at 0x2043b32e8b0>"
      ]
     },
     "execution_count": 172,
     "metadata": {},
     "output_type": "execute_result"
    }
   ],
   "source": [
    "model.optimize()"
   ]
  },
  {
   "cell_type": "code",
   "execution_count": 173,
   "metadata": {},
   "outputs": [],
   "source": [
    "#The third protein encoded in the operon is ApeI which de-O-acetylates and has broad acting esterase activity. \n",
    "#(PMID: 23373517)\n",
    "#The original model removed the esterase activity to prevent futile cycling. \n",
    "#The reactions are kept the same here. \n"
   ]
  },
  {
   "cell_type": "code",
   "execution_count": 174,
   "metadata": {},
   "outputs": [
    {
     "data": {
      "text/plain": [
       "4.20923925527708"
      ]
     },
     "execution_count": 174,
     "metadata": {},
     "output_type": "execute_result"
    }
   ],
   "source": [
    "model.slim_optimize()"
   ]
  },
  {
   "cell_type": "code",
   "execution_count": 175,
   "metadata": {
    "scrolled": true
   },
   "outputs": [
    {
     "name": "stdout",
     "output_type": "stream",
     "text": [
      "{'H': -3.0}\n"
     ]
    },
    {
     "data": {
      "text/html": [
       "\n",
       "        <table>\n",
       "            <tr>\n",
       "                <td><strong>Reaction identifier</strong></td><td>NDPK9</td>\n",
       "            </tr><tr>\n",
       "                <td><strong>Name</strong></td><td>R_NDPK9</td>\n",
       "            </tr><tr>\n",
       "                <td><strong>Memory address</strong></td>\n",
       "                <td>0x02043b25d550</td>\n",
       "            </tr><tr>\n",
       "                <td><strong>Stoichiometry</strong></td>\n",
       "                <td>\n",
       "                    <p style='text-align:right'>atp_c + didp_c <=> adp_c + ditp_c</p>\n",
       "                    <p style='text-align:right'>ATP + dIDP <=> ADP + dITP</p>\n",
       "                </td>\n",
       "            </tr><tr>\n",
       "                <td><strong>GPR</strong></td><td>NGO0597</td>\n",
       "            </tr><tr>\n",
       "                <td><strong>Lower bound</strong></td><td>-999999.0</td>\n",
       "            </tr><tr>\n",
       "                <td><strong>Upper bound</strong></td><td>999999.0</td>\n",
       "            </tr>\n",
       "        </table>\n",
       "        "
      ],
      "text/plain": [
       "<Reaction NDPK9 at 0x2043b25d550>"
      ]
     },
     "execution_count": 175,
     "metadata": {},
     "output_type": "execute_result"
    }
   ],
   "source": [
    "r = model.reactions.get_by_id('NDPK9')\n",
    "print(r.check_mass_balance())\n",
    "r"
   ]
  },
  {
   "cell_type": "code",
   "execution_count": 176,
   "metadata": {
    "scrolled": true
   },
   "outputs": [
    {
     "name": "stdout",
     "output_type": "stream",
     "text": [
      "{}\n"
     ]
    },
    {
     "data": {
      "text/html": [
       "\n",
       "        <table>\n",
       "            <tr>\n",
       "                <td><strong>Reaction identifier</strong></td><td>NADPK10</td>\n",
       "            </tr><tr>\n",
       "                <td><strong>Name</strong></td><td>NADPK10</td>\n",
       "            </tr><tr>\n",
       "                <td><strong>Memory address</strong></td>\n",
       "                <td>0x02043b25d550</td>\n",
       "            </tr><tr>\n",
       "                <td><strong>Stoichiometry</strong></td>\n",
       "                <td>\n",
       "                    <p style='text-align:right'>atp_c + didp_c <=> adp_c + ditp_c</p>\n",
       "                    <p style='text-align:right'>ATP + dIDP <=> ADP + dITP</p>\n",
       "                </td>\n",
       "            </tr><tr>\n",
       "                <td><strong>GPR</strong></td><td>NGO0597</td>\n",
       "            </tr><tr>\n",
       "                <td><strong>Lower bound</strong></td><td>-999999.0</td>\n",
       "            </tr><tr>\n",
       "                <td><strong>Upper bound</strong></td><td>999999.0</td>\n",
       "            </tr>\n",
       "        </table>\n",
       "        "
      ],
      "text/plain": [
       "<Reaction NADPK10 at 0x2043b25d550>"
      ]
     },
     "execution_count": 176,
     "metadata": {},
     "output_type": "execute_result"
    }
   ],
   "source": [
    "r.name = 'NADPK10'\n",
    "r.id ='NADPK10'\n",
    "\n",
    "model.metabolites.get_by_id('didp_c').formula= 'C10H11N4O10P2'\n",
    "\n",
    "print(r.check_mass_balance())\n",
    "r\n"
   ]
  },
  {
   "cell_type": "code",
   "execution_count": null,
   "metadata": {},
   "outputs": [],
   "source": [
    "#No evidence for NGO1881 performing this reaction or for the mening homolog performing the reaction. \n",
    "model.reactions.NDPK1.gene_reaction_rule= 'NGO0597'\n",
    "model.reactions.NDPK5.gene_reaction_rule= 'NGO0597'\n",
    "model.reactions.NDPK8.gene_reaction_rule= 'NGO0597'"
   ]
  },
  {
   "cell_type": "code",
   "execution_count": 177,
   "metadata": {},
   "outputs": [
    {
     "name": "stdout",
     "output_type": "stream",
     "text": [
      "{'H': 1.0}\n"
     ]
    },
    {
     "data": {
      "text/html": [
       "\n",
       "        <table>\n",
       "            <tr>\n",
       "                <td><strong>Reaction identifier</strong></td><td>NTD13</td>\n",
       "            </tr><tr>\n",
       "                <td><strong>Name</strong></td><td>R_NTD13</td>\n",
       "            </tr><tr>\n",
       "                <td><strong>Memory address</strong></td>\n",
       "                <td>0x02043b2813a0</td>\n",
       "            </tr><tr>\n",
       "                <td><strong>Stoichiometry</strong></td>\n",
       "                <td>\n",
       "                    <p style='text-align:right'>h2o_c + nicrnt_c --> nicrns_c + pi_c</p>\n",
       "                    <p style='text-align:right'>H2O + Nicotinate-D-ribonucleotide --> Nicotinate D-ribonucleoside + Phosphate</p>\n",
       "                </td>\n",
       "            </tr><tr>\n",
       "                <td><strong>GPR</strong></td><td>NGO1058</td>\n",
       "            </tr><tr>\n",
       "                <td><strong>Lower bound</strong></td><td>0.0</td>\n",
       "            </tr><tr>\n",
       "                <td><strong>Upper bound</strong></td><td>999999.0</td>\n",
       "            </tr>\n",
       "        </table>\n",
       "        "
      ],
      "text/plain": [
       "<Reaction NTD13 at 0x2043b2813a0>"
      ]
     },
     "execution_count": 177,
     "metadata": {},
     "output_type": "execute_result"
    }
   ],
   "source": [
    "#NTD13\n",
    "r = model.reactions.get_by_id('NTD13')\n",
    "print(r.check_mass_balance())\n",
    "r\n"
   ]
  },
  {
   "cell_type": "code",
   "execution_count": 178,
   "metadata": {},
   "outputs": [],
   "source": [
    "#changed nicrns_c formula based on Bigg metabolite formula. \n",
    "model.metabolites.get_by_id('nicrns_c').formula= 'C11H13NO6'"
   ]
  },
  {
   "cell_type": "code",
   "execution_count": 179,
   "metadata": {},
   "outputs": [
    {
     "name": "stdout",
     "output_type": "stream",
     "text": [
      "{}\n"
     ]
    },
    {
     "data": {
      "text/html": [
       "\n",
       "        <table>\n",
       "            <tr>\n",
       "                <td><strong>Reaction identifier</strong></td><td>NTD13</td>\n",
       "            </tr><tr>\n",
       "                <td><strong>Name</strong></td><td>R_NTD13</td>\n",
       "            </tr><tr>\n",
       "                <td><strong>Memory address</strong></td>\n",
       "                <td>0x02043b2813a0</td>\n",
       "            </tr><tr>\n",
       "                <td><strong>Stoichiometry</strong></td>\n",
       "                <td>\n",
       "                    <p style='text-align:right'>h2o_c + nicrnt_c --> nicrns_c + pi_c</p>\n",
       "                    <p style='text-align:right'>H2O + Nicotinate-D-ribonucleotide --> Nicotinate D-ribonucleoside + Phosphate</p>\n",
       "                </td>\n",
       "            </tr><tr>\n",
       "                <td><strong>GPR</strong></td><td>NGO1058</td>\n",
       "            </tr><tr>\n",
       "                <td><strong>Lower bound</strong></td><td>0.0</td>\n",
       "            </tr><tr>\n",
       "                <td><strong>Upper bound</strong></td><td>999999.0</td>\n",
       "            </tr>\n",
       "        </table>\n",
       "        "
      ],
      "text/plain": [
       "<Reaction NTD13 at 0x2043b2813a0>"
      ]
     },
     "execution_count": 179,
     "metadata": {},
     "output_type": "execute_result"
    }
   ],
   "source": [
    "print(r.check_mass_balance())\n",
    "r"
   ]
  },
  {
   "cell_type": "code",
   "execution_count": 180,
   "metadata": {},
   "outputs": [
    {
     "name": "stdout",
     "output_type": "stream",
     "text": [
      "{'H': 4.0}\n"
     ]
    },
    {
     "data": {
      "text/html": [
       "\n",
       "        <table>\n",
       "            <tr>\n",
       "                <td><strong>Reaction identifier</strong></td><td>PHEMEFErel</td>\n",
       "            </tr><tr>\n",
       "                <td><strong>Name</strong></td><td>R_PHEMEFErel</td>\n",
       "            </tr><tr>\n",
       "                <td><strong>Memory address</strong></td>\n",
       "                <td>0x02043b322880</td>\n",
       "            </tr><tr>\n",
       "                <td><strong>Stoichiometry</strong></td>\n",
       "                <td>\n",
       "                    <p style='text-align:right'>3.0 h_c + 3.0 nadph_c + 3.0 o2_c + pheme_c --> biliverd_c + co_c + fe2_c + 3.0 h2o_c + 3.0 nadp_c</p>\n",
       "                    <p style='text-align:right'>3.0 H + 3.0 Nicotinamide-adenine-dinucleotide-phosphate--reduced + 3.0 O2 + Protoheme --> Biliverdin + Carbon monoxide + Fe2 + 3.0 H2O + 3.0 Nicotinamide-adenine-dinucleotide-phosphate</p>\n",
       "                </td>\n",
       "            </tr><tr>\n",
       "                <td><strong>GPR</strong></td><td>NGO1318</td>\n",
       "            </tr><tr>\n",
       "                <td><strong>Lower bound</strong></td><td>0.0</td>\n",
       "            </tr><tr>\n",
       "                <td><strong>Upper bound</strong></td><td>999999.0</td>\n",
       "            </tr>\n",
       "        </table>\n",
       "        "
      ],
      "text/plain": [
       "<Reaction PHEMEFErel at 0x2043b322880>"
      ]
     },
     "execution_count": 180,
     "metadata": {},
     "output_type": "execute_result"
    }
   ],
   "source": [
    "#PHEMEFErel\n",
    "r = model.reactions.get_by_id('PHEMEFErel')\n",
    "print(r.check_mass_balance())\n",
    "r"
   ]
  },
  {
   "cell_type": "code",
   "execution_count": 181,
   "metadata": {},
   "outputs": [
    {
     "name": "stdout",
     "output_type": "stream",
     "text": [
      "{}\n"
     ]
    },
    {
     "data": {
      "text/html": [
       "\n",
       "        <table>\n",
       "            <tr>\n",
       "                <td><strong>Reaction identifier</strong></td><td>PHEMEFErel</td>\n",
       "            </tr><tr>\n",
       "                <td><strong>Name</strong></td><td>R_PHEMEFErel</td>\n",
       "            </tr><tr>\n",
       "                <td><strong>Memory address</strong></td>\n",
       "                <td>0x02043b322880</td>\n",
       "            </tr><tr>\n",
       "                <td><strong>Stoichiometry</strong></td>\n",
       "                <td>\n",
       "                    <p style='text-align:right'>3.0 h_c + 6.0 nadph_c + 3.0 o2_c + pheme_c --> biliverd_c + co_c + fe2_c + 3.0 h2o_c + 6.0 nadp_c</p>\n",
       "                    <p style='text-align:right'>3.0 H + 6.0 Nicotinamide-adenine-dinucleotide-phosphate--reduced + 3.0 O2 + Protoheme --> Biliverdin + Carbon monoxide + Fe2 + 3.0 H2O + 6.0 Nicotinamide-adenine-dinucleotide-phosphate</p>\n",
       "                </td>\n",
       "            </tr><tr>\n",
       "                <td><strong>GPR</strong></td><td>NGO1318</td>\n",
       "            </tr><tr>\n",
       "                <td><strong>Lower bound</strong></td><td>0.0</td>\n",
       "            </tr><tr>\n",
       "                <td><strong>Upper bound</strong></td><td>999999.0</td>\n",
       "            </tr>\n",
       "        </table>\n",
       "        "
      ],
      "text/plain": [
       "<Reaction PHEMEFErel at 0x2043b322880>"
      ]
     },
     "execution_count": 181,
     "metadata": {},
     "output_type": "execute_result"
    }
   ],
   "source": [
    "#Product of a simplified, 3 step reaction that requires 2 NADPHs. PMCID: PMC111422. \n",
    "#This reaction is described in kegg as requiring 3 \"electron donors\" and 3\"electron acceptors, which is likely the cause of the error. https://www.genome.jp/entry/R11816\n",
    "\n",
    "\n",
    "model.metabolites.get_by_id('biliverd_c').formula= 'C33H33N4O6'\n",
    "NADPH_c =model.metabolites.get_by_id('nadph_c')\n",
    "nadp_c =model.metabolites.get_by_id('nadp_c')\n",
    "\n",
    "r.add_metabolites({\n",
    "    NADPH_c: -3,\n",
    "    nadp_c: 3.0\n",
    "})\n",
    "\n",
    "print(r.check_mass_balance())\n",
    "r"
   ]
  },
  {
   "cell_type": "code",
   "execution_count": 182,
   "metadata": {},
   "outputs": [
    {
     "name": "stdout",
     "output_type": "stream",
     "text": [
      "{'C': 7.0, 'H': 9.0, 'O': 3.0}\n"
     ]
    },
    {
     "data": {
      "text/html": [
       "\n",
       "        <table>\n",
       "            <tr>\n",
       "                <td><strong>Reaction identifier</strong></td><td>PMCOAS</td>\n",
       "            </tr><tr>\n",
       "                <td><strong>Name</strong></td><td>R_PMCOAS</td>\n",
       "            </tr><tr>\n",
       "                <td><strong>Memory address</strong></td>\n",
       "                <td>0x02043b353d00</td>\n",
       "            </tr><tr>\n",
       "                <td><strong>Stoichiometry</strong></td>\n",
       "                <td>\n",
       "                    <p style='text-align:right'>coa_c --> pmcoa_c</p>\n",
       "                    <p style='text-align:right'>Coenzyme-A --> Pimeloyl-CoA</p>\n",
       "                </td>\n",
       "            </tr><tr>\n",
       "                <td><strong>GPR</strong></td><td>NGO1481 and NGO1725</td>\n",
       "            </tr><tr>\n",
       "                <td><strong>Lower bound</strong></td><td>0.0</td>\n",
       "            </tr><tr>\n",
       "                <td><strong>Upper bound</strong></td><td>999999.0</td>\n",
       "            </tr>\n",
       "        </table>\n",
       "        "
      ],
      "text/plain": [
       "<Reaction PMCOAS at 0x2043b353d00>"
      ]
     },
     "execution_count": 182,
     "metadata": {},
     "output_type": "execute_result"
    }
   ],
   "source": [
    "#PMCOAS\n",
    "r = model.reactions.get_by_id('PMCOAS')\n",
    "print(r.check_mass_balance())\n",
    "r\n",
    "#Okay to leave unbalanced. THis reaction is a simplification of a multistep ACP dependent reaction that isn't well understood. "
   ]
  },
  {
   "cell_type": "code",
   "execution_count": 183,
   "metadata": {},
   "outputs": [
    {
     "name": "stdout",
     "output_type": "stream",
     "text": [
      "{'H': 1.0}\n"
     ]
    },
    {
     "data": {
      "text/html": [
       "\n",
       "        <table>\n",
       "            <tr>\n",
       "                <td><strong>Reaction identifier</strong></td><td>SAMC</td>\n",
       "            </tr><tr>\n",
       "                <td><strong>Name</strong></td><td>R_SAMC</td>\n",
       "            </tr><tr>\n",
       "                <td><strong>Memory address</strong></td>\n",
       "                <td>0x02043b3b4e20</td>\n",
       "            </tr><tr>\n",
       "                <td><strong>Stoichiometry</strong></td>\n",
       "                <td>\n",
       "                    <p style='text-align:right'>amet_c --> ametam_c + co2_c</p>\n",
       "                    <p style='text-align:right'>S-Adenosyl-L-methionine --> S-Adenosylmethioninamine + CO2</p>\n",
       "                </td>\n",
       "            </tr><tr>\n",
       "                <td><strong>GPR</strong></td><td>Orphan</td>\n",
       "            </tr><tr>\n",
       "                <td><strong>Lower bound</strong></td><td>0.0</td>\n",
       "            </tr><tr>\n",
       "                <td><strong>Upper bound</strong></td><td>999999.0</td>\n",
       "            </tr>\n",
       "        </table>\n",
       "        "
      ],
      "text/plain": [
       "<Reaction SAMC at 0x2043b3b4e20>"
      ]
     },
     "execution_count": 183,
     "metadata": {},
     "output_type": "execute_result"
    }
   ],
   "source": [
    "#SAMC\n",
    "r = model.reactions.get_by_id('SAMC')\n",
    "print(r.check_mass_balance())\n",
    "r\n",
    "\n"
   ]
  },
  {
   "cell_type": "code",
   "execution_count": 184,
   "metadata": {},
   "outputs": [
    {
     "name": "stdout",
     "output_type": "stream",
     "text": [
      "{}\n"
     ]
    },
    {
     "data": {
      "text/html": [
       "\n",
       "        <table>\n",
       "            <tr>\n",
       "                <td><strong>Reaction identifier</strong></td><td>SAMC</td>\n",
       "            </tr><tr>\n",
       "                <td><strong>Name</strong></td><td>R_SAMC</td>\n",
       "            </tr><tr>\n",
       "                <td><strong>Memory address</strong></td>\n",
       "                <td>0x02043b3b4e20</td>\n",
       "            </tr><tr>\n",
       "                <td><strong>Stoichiometry</strong></td>\n",
       "                <td>\n",
       "                    <p style='text-align:right'>amet_c + h_c --> ametam_c + co2_c</p>\n",
       "                    <p style='text-align:right'>S-Adenosyl-L-methionine + H --> S-Adenosylmethioninamine + CO2</p>\n",
       "                </td>\n",
       "            </tr><tr>\n",
       "                <td><strong>GPR</strong></td><td>Orphan</td>\n",
       "            </tr><tr>\n",
       "                <td><strong>Lower bound</strong></td><td>0.0</td>\n",
       "            </tr><tr>\n",
       "                <td><strong>Upper bound</strong></td><td>999999.0</td>\n",
       "            </tr>\n",
       "        </table>\n",
       "        "
      ],
      "text/plain": [
       "<Reaction SAMC at 0x2043b3b4e20>"
      ]
     },
     "execution_count": 184,
     "metadata": {},
     "output_type": "execute_result"
    }
   ],
   "source": [
    "h_c =model.metabolites.get_by_id('h_c')\n",
    "\n",
    "r.add_metabolites({\n",
    "    h_c: -1,\n",
    "})\n",
    "\n",
    "print(r.check_mass_balance())\n",
    "r"
   ]
  },
  {
   "cell_type": "code",
   "execution_count": 185,
   "metadata": {},
   "outputs": [
    {
     "name": "stdout",
     "output_type": "stream",
     "text": [
      "{'H': -1.0}\n"
     ]
    },
    {
     "data": {
      "text/html": [
       "\n",
       "        <table>\n",
       "            <tr>\n",
       "                <td><strong>Reaction identifier</strong></td><td>SHSL2</td>\n",
       "            </tr><tr>\n",
       "                <td><strong>Name</strong></td><td>R_SHSL2</td>\n",
       "            </tr><tr>\n",
       "                <td><strong>Memory address</strong></td>\n",
       "                <td>0x02043b3c3e50</td>\n",
       "            </tr><tr>\n",
       "                <td><strong>Stoichiometry</strong></td>\n",
       "                <td>\n",
       "                    <p style='text-align:right'>h2s_c + suchms_c --> hcys_L_c + succ_c</p>\n",
       "                    <p style='text-align:right'>Hydrogen-sulfide + O-Succinyl-L-homoserine --> L-Homocysteine + Succinate</p>\n",
       "                </td>\n",
       "            </tr><tr>\n",
       "                <td><strong>GPR</strong></td><td>NGO1149</td>\n",
       "            </tr><tr>\n",
       "                <td><strong>Lower bound</strong></td><td>0.0</td>\n",
       "            </tr><tr>\n",
       "                <td><strong>Upper bound</strong></td><td>999999.0</td>\n",
       "            </tr>\n",
       "        </table>\n",
       "        "
      ],
      "text/plain": [
       "<Reaction SHSL2 at 0x2043b3c3e50>"
      ]
     },
     "execution_count": 185,
     "metadata": {},
     "output_type": "execute_result"
    }
   ],
   "source": [
    "#SHSL2\n",
    "r = model.reactions.get_by_id('SHSL2')\n",
    "print(r.check_mass_balance())\n",
    "r\n"
   ]
  },
  {
   "cell_type": "code",
   "execution_count": 186,
   "metadata": {},
   "outputs": [
    {
     "name": "stdout",
     "output_type": "stream",
     "text": [
      "{}\n"
     ]
    },
    {
     "data": {
      "text/html": [
       "\n",
       "        <table>\n",
       "            <tr>\n",
       "                <td><strong>Reaction identifier</strong></td><td>SHSL2</td>\n",
       "            </tr><tr>\n",
       "                <td><strong>Name</strong></td><td>R_SHSL2</td>\n",
       "            </tr><tr>\n",
       "                <td><strong>Memory address</strong></td>\n",
       "                <td>0x02043b3c3e50</td>\n",
       "            </tr><tr>\n",
       "                <td><strong>Stoichiometry</strong></td>\n",
       "                <td>\n",
       "                    <p style='text-align:right'>h2s_c + suchms_c --> h_c + hcys_L_c + succ_c</p>\n",
       "                    <p style='text-align:right'>Hydrogen-sulfide + O-Succinyl-L-homoserine --> H + L-Homocysteine + Succinate</p>\n",
       "                </td>\n",
       "            </tr><tr>\n",
       "                <td><strong>GPR</strong></td><td>NGO1149</td>\n",
       "            </tr><tr>\n",
       "                <td><strong>Lower bound</strong></td><td>0.0</td>\n",
       "            </tr><tr>\n",
       "                <td><strong>Upper bound</strong></td><td>999999.0</td>\n",
       "            </tr>\n",
       "        </table>\n",
       "        "
      ],
      "text/plain": [
       "<Reaction SHSL2 at 0x2043b3c3e50>"
      ]
     },
     "execution_count": 186,
     "metadata": {},
     "output_type": "execute_result"
    }
   ],
   "source": [
    "h_c =model.metabolites.get_by_id('h_c')\n",
    "\n",
    "r.add_metabolites({\n",
    "    h_c: 1,\n",
    "})\n",
    "\n",
    "print(r.check_mass_balance())\n",
    "r"
   ]
  },
  {
   "cell_type": "code",
   "execution_count": 187,
   "metadata": {},
   "outputs": [
    {
     "name": "stdout",
     "output_type": "stream",
     "text": [
      "{'H': -1.0}\n"
     ]
    },
    {
     "data": {
      "text/html": [
       "\n",
       "        <table>\n",
       "            <tr>\n",
       "                <td><strong>Reaction identifier</strong></td><td>SHSL3</td>\n",
       "            </tr><tr>\n",
       "                <td><strong>Name</strong></td><td>R_SHSL3</td>\n",
       "            </tr><tr>\n",
       "                <td><strong>Memory address</strong></td>\n",
       "                <td>0x02043b3c3fa0</td>\n",
       "            </tr><tr>\n",
       "                <td><strong>Stoichiometry</strong></td>\n",
       "                <td>\n",
       "                    <p style='text-align:right'>achms_c + cys_L_c --> ac_c + cyst_L_c</p>\n",
       "                    <p style='text-align:right'>O-acetyl-L-homoserine + L-Cysteine --> Acetate + L-Cystathionine</p>\n",
       "                </td>\n",
       "            </tr><tr>\n",
       "                <td><strong>GPR</strong></td><td>NGO0386</td>\n",
       "            </tr><tr>\n",
       "                <td><strong>Lower bound</strong></td><td>0.0</td>\n",
       "            </tr><tr>\n",
       "                <td><strong>Upper bound</strong></td><td>999999.0</td>\n",
       "            </tr>\n",
       "        </table>\n",
       "        "
      ],
      "text/plain": [
       "<Reaction SHSL3 at 0x2043b3c3fa0>"
      ]
     },
     "execution_count": 187,
     "metadata": {},
     "output_type": "execute_result"
    }
   ],
   "source": [
    "#SHLS3\n",
    "r = model.reactions.get_by_id('SHSL3')\n",
    "print(r.check_mass_balance())\n",
    "r\n"
   ]
  },
  {
   "cell_type": "code",
   "execution_count": 188,
   "metadata": {
    "scrolled": true
   },
   "outputs": [
    {
     "name": "stdout",
     "output_type": "stream",
     "text": [
      "{}\n"
     ]
    },
    {
     "data": {
      "text/html": [
       "\n",
       "        <table>\n",
       "            <tr>\n",
       "                <td><strong>Reaction identifier</strong></td><td>SHSL3</td>\n",
       "            </tr><tr>\n",
       "                <td><strong>Name</strong></td><td>R_SHSL3</td>\n",
       "            </tr><tr>\n",
       "                <td><strong>Memory address</strong></td>\n",
       "                <td>0x02043b3c3fa0</td>\n",
       "            </tr><tr>\n",
       "                <td><strong>Stoichiometry</strong></td>\n",
       "                <td>\n",
       "                    <p style='text-align:right'>achms_c + cys_L_c --> ac_c + cyst_L_c + h_c</p>\n",
       "                    <p style='text-align:right'>O-acetyl-L-homoserine + L-Cysteine --> Acetate + L-Cystathionine + H</p>\n",
       "                </td>\n",
       "            </tr><tr>\n",
       "                <td><strong>GPR</strong></td><td>NGO0386</td>\n",
       "            </tr><tr>\n",
       "                <td><strong>Lower bound</strong></td><td>0.0</td>\n",
       "            </tr><tr>\n",
       "                <td><strong>Upper bound</strong></td><td>999999.0</td>\n",
       "            </tr>\n",
       "        </table>\n",
       "        "
      ],
      "text/plain": [
       "<Reaction SHSL3 at 0x2043b3c3fa0>"
      ]
     },
     "execution_count": 188,
     "metadata": {},
     "output_type": "execute_result"
    }
   ],
   "source": [
    "h_c =model.metabolites.get_by_id('h_c')\n",
    "\n",
    "r.add_metabolites({\n",
    "    h_c: 1,\n",
    "})\n",
    "\n",
    "print(r.check_mass_balance())\n",
    "r"
   ]
  },
  {
   "cell_type": "code",
   "execution_count": 189,
   "metadata": {
    "scrolled": true
   },
   "outputs": [
    {
     "name": "stdout",
     "output_type": "stream",
     "text": [
      "{'H': -1.0}\n"
     ]
    },
    {
     "data": {
      "text/html": [
       "\n",
       "        <table>\n",
       "            <tr>\n",
       "                <td><strong>Reaction identifier</strong></td><td>SHSL5</td>\n",
       "            </tr><tr>\n",
       "                <td><strong>Name</strong></td><td>R_SHSL5</td>\n",
       "            </tr><tr>\n",
       "                <td><strong>Memory address</strong></td>\n",
       "                <td>0x02043b3ce460</td>\n",
       "            </tr><tr>\n",
       "                <td><strong>Stoichiometry</strong></td>\n",
       "                <td>\n",
       "                    <p style='text-align:right'>h2o_c + suchms_c --> 2obut_c + nh4_c + succ_c</p>\n",
       "                    <p style='text-align:right'>H2O + O-Succinyl-L-homoserine --> 2-Oxobutanoate + Ammonium + Succinate</p>\n",
       "                </td>\n",
       "            </tr><tr>\n",
       "                <td><strong>GPR</strong></td><td>NGO0386</td>\n",
       "            </tr><tr>\n",
       "                <td><strong>Lower bound</strong></td><td>0.0</td>\n",
       "            </tr><tr>\n",
       "                <td><strong>Upper bound</strong></td><td>999999.0</td>\n",
       "            </tr>\n",
       "        </table>\n",
       "        "
      ],
      "text/plain": [
       "<Reaction SHSL5 at 0x2043b3ce460>"
      ]
     },
     "execution_count": 189,
     "metadata": {},
     "output_type": "execute_result"
    }
   ],
   "source": [
    "#SHLS5\n",
    "r = model.reactions.get_by_id('SHSL5')\n",
    "print(r.check_mass_balance())\n",
    "r\n"
   ]
  },
  {
   "cell_type": "code",
   "execution_count": 190,
   "metadata": {
    "scrolled": true
   },
   "outputs": [
    {
     "name": "stdout",
     "output_type": "stream",
     "text": [
      "{}\n"
     ]
    },
    {
     "data": {
      "text/html": [
       "\n",
       "        <table>\n",
       "            <tr>\n",
       "                <td><strong>Reaction identifier</strong></td><td>SHSL5</td>\n",
       "            </tr><tr>\n",
       "                <td><strong>Name</strong></td><td>R_SHSL5</td>\n",
       "            </tr><tr>\n",
       "                <td><strong>Memory address</strong></td>\n",
       "                <td>0x02043b3ce460</td>\n",
       "            </tr><tr>\n",
       "                <td><strong>Stoichiometry</strong></td>\n",
       "                <td>\n",
       "                    <p style='text-align:right'>h2o_c + suchms_c --> 2obut_c + h_c + nh4_c + succ_c</p>\n",
       "                    <p style='text-align:right'>H2O + O-Succinyl-L-homoserine --> 2-Oxobutanoate + H + Ammonium + Succinate</p>\n",
       "                </td>\n",
       "            </tr><tr>\n",
       "                <td><strong>GPR</strong></td><td>NGO0386</td>\n",
       "            </tr><tr>\n",
       "                <td><strong>Lower bound</strong></td><td>0.0</td>\n",
       "            </tr><tr>\n",
       "                <td><strong>Upper bound</strong></td><td>999999.0</td>\n",
       "            </tr>\n",
       "        </table>\n",
       "        "
      ],
      "text/plain": [
       "<Reaction SHSL5 at 0x2043b3ce460>"
      ]
     },
     "execution_count": 190,
     "metadata": {},
     "output_type": "execute_result"
    }
   ],
   "source": [
    "h_c =model.metabolites.get_by_id('h_c')\n",
    "\n",
    "r.add_metabolites({\n",
    "    h_c: 1,\n",
    "})\n",
    "\n",
    "print(r.check_mass_balance())\n",
    "r"
   ]
  },
  {
   "cell_type": "code",
   "execution_count": 191,
   "metadata": {
    "scrolled": true
   },
   "outputs": [
    {
     "name": "stdout",
     "output_type": "stream",
     "text": [
      "{'H': -2.0}\n"
     ]
    },
    {
     "data": {
      "text/html": [
       "\n",
       "        <table>\n",
       "            <tr>\n",
       "                <td><strong>Reaction identifier</strong></td><td>SHSL4</td>\n",
       "            </tr><tr>\n",
       "                <td><strong>Name</strong></td><td>R_SHSL4</td>\n",
       "            </tr><tr>\n",
       "                <td><strong>Memory address</strong></td>\n",
       "                <td>0x02043b3c32e0</td>\n",
       "            </tr><tr>\n",
       "                <td><strong>Stoichiometry</strong></td>\n",
       "                <td>\n",
       "                    <p style='text-align:right'>achms_c + h_c + trdrd_c + tsul_c --> ac_c + hcys_L_c + so3_c + trdox_c</p>\n",
       "                    <p style='text-align:right'>O-acetyl-L-homoserine + H + Reduced-thioredoxin + Thiosulfate --> Acetate + L-Homocysteine + Sulfite + Oxidized-thioredoxin</p>\n",
       "                </td>\n",
       "            </tr><tr>\n",
       "                <td><strong>GPR</strong></td><td>NGO0386</td>\n",
       "            </tr><tr>\n",
       "                <td><strong>Lower bound</strong></td><td>0.0</td>\n",
       "            </tr><tr>\n",
       "                <td><strong>Upper bound</strong></td><td>999999.0</td>\n",
       "            </tr>\n",
       "        </table>\n",
       "        "
      ],
      "text/plain": [
       "<Reaction SHSL4 at 0x2043b3c32e0>"
      ]
     },
     "execution_count": 191,
     "metadata": {},
     "output_type": "execute_result"
    }
   ],
   "source": [
    "#SHLS4\n",
    "r = model.reactions.get_by_id('SHSL4')\n",
    "print(r.check_mass_balance())\n",
    "r\n"
   ]
  },
  {
   "cell_type": "code",
   "execution_count": 192,
   "metadata": {
    "scrolled": true
   },
   "outputs": [
    {
     "name": "stdout",
     "output_type": "stream",
     "text": [
      "{}\n"
     ]
    },
    {
     "data": {
      "text/html": [
       "\n",
       "        <table>\n",
       "            <tr>\n",
       "                <td><strong>Reaction identifier</strong></td><td>SHSL4</td>\n",
       "            </tr><tr>\n",
       "                <td><strong>Name</strong></td><td>R_SHSL4</td>\n",
       "            </tr><tr>\n",
       "                <td><strong>Memory address</strong></td>\n",
       "                <td>0x02043b3c32e0</td>\n",
       "            </tr><tr>\n",
       "                <td><strong>Stoichiometry</strong></td>\n",
       "                <td>\n",
       "                    <p style='text-align:right'>achms_c + trdrd_c + tsul_c --> ac_c + h_c + hcys_L_c + so3_c + trdox_c</p>\n",
       "                    <p style='text-align:right'>O-acetyl-L-homoserine + Reduced-thioredoxin + Thiosulfate --> Acetate + H + L-Homocysteine + Sulfite + Oxidized-thioredoxin</p>\n",
       "                </td>\n",
       "            </tr><tr>\n",
       "                <td><strong>GPR</strong></td><td>NGO0386</td>\n",
       "            </tr><tr>\n",
       "                <td><strong>Lower bound</strong></td><td>0.0</td>\n",
       "            </tr><tr>\n",
       "                <td><strong>Upper bound</strong></td><td>999999.0</td>\n",
       "            </tr>\n",
       "        </table>\n",
       "        "
      ],
      "text/plain": [
       "<Reaction SHSL4 at 0x2043b3c32e0>"
      ]
     },
     "execution_count": 192,
     "metadata": {},
     "output_type": "execute_result"
    }
   ],
   "source": [
    "h_c =model.metabolites.get_by_id('h_c')\n",
    "\n",
    "r.add_metabolites({\n",
    "    h_c: 2,\n",
    "})\n",
    "\n",
    "print(r.check_mass_balance())\n",
    "r"
   ]
  },
  {
   "cell_type": "code",
   "execution_count": 193,
   "metadata": {},
   "outputs": [
    {
     "name": "stdout",
     "output_type": "stream",
     "text": [
      "{'Fe': 1.0}\n"
     ]
    },
    {
     "data": {
      "text/html": [
       "\n",
       "        <table>\n",
       "            <tr>\n",
       "                <td><strong>Reaction identifier</strong></td><td>TFFE</td>\n",
       "            </tr><tr>\n",
       "                <td><strong>Name</strong></td><td>R_TFFE</td>\n",
       "            </tr><tr>\n",
       "                <td><strong>Memory address</strong></td>\n",
       "                <td>0x02043b3e6b80</td>\n",
       "            </tr><tr>\n",
       "                <td><strong>Stoichiometry</strong></td>\n",
       "                <td>\n",
       "                    <p style='text-align:right'>TfFe3_e --> Tf_e + 2.0 fe3_p</p>\n",
       "                    <p style='text-align:right'>Transferrin --> Transferrin residue + 2.0 Fe3</p>\n",
       "                </td>\n",
       "            </tr><tr>\n",
       "                <td><strong>GPR</strong></td><td>NGO1496 and NGO1495 and NGO1379 and NGO1378 and (Blank or NGO1377) and NGO0217 and NGO0216 and...</td>\n",
       "            </tr><tr>\n",
       "                <td><strong>Lower bound</strong></td><td>0.0</td>\n",
       "            </tr><tr>\n",
       "                <td><strong>Upper bound</strong></td><td>999999.0</td>\n",
       "            </tr>\n",
       "        </table>\n",
       "        "
      ],
      "text/plain": [
       "<Reaction TFFE at 0x2043b3e6b80>"
      ]
     },
     "execution_count": 193,
     "metadata": {},
     "output_type": "execute_result"
    }
   ],
   "source": [
    "#TFFE\n",
    "r = model.reactions.get_by_id('TFFE')\n",
    "print(r.check_mass_balance())\n",
    "r\n"
   ]
  },
  {
   "cell_type": "code",
   "execution_count": 194,
   "metadata": {},
   "outputs": [
    {
     "name": "stdout",
     "output_type": "stream",
     "text": [
      "{}\n"
     ]
    },
    {
     "data": {
      "text/html": [
       "\n",
       "        <table>\n",
       "            <tr>\n",
       "                <td><strong>Reaction identifier</strong></td><td>TFFE</td>\n",
       "            </tr><tr>\n",
       "                <td><strong>Name</strong></td><td>R_TFFE</td>\n",
       "            </tr><tr>\n",
       "                <td><strong>Memory address</strong></td>\n",
       "                <td>0x02043b3e6b80</td>\n",
       "            </tr><tr>\n",
       "                <td><strong>Stoichiometry</strong></td>\n",
       "                <td>\n",
       "                    <p style='text-align:right'>TfFe3_e --> Tf_e + fe3_p</p>\n",
       "                    <p style='text-align:right'>Transferrin --> Transferrin residue + Fe3</p>\n",
       "                </td>\n",
       "            </tr><tr>\n",
       "                <td><strong>GPR</strong></td><td>NGO1496 and NGO1495 and NGO1379 and NGO1378 and (Blank or NGO1377) and NGO0217 and NGO0216 and...</td>\n",
       "            </tr><tr>\n",
       "                <td><strong>Lower bound</strong></td><td>0.0</td>\n",
       "            </tr><tr>\n",
       "                <td><strong>Upper bound</strong></td><td>999999.0</td>\n",
       "            </tr>\n",
       "        </table>\n",
       "        "
      ],
      "text/plain": [
       "<Reaction TFFE at 0x2043b3e6b80>"
      ]
     },
     "execution_count": 194,
     "metadata": {},
     "output_type": "execute_result"
    }
   ],
   "source": [
    "#Although transferrin holds two irons, Gc is only capable of stripping one off at a time. So transferrin is made to produce a single iron here. \n",
    "fe3_p =model.metabolites.get_by_id('fe3_p')\n",
    "\n",
    "r.add_metabolites({\n",
    "    fe3_p: -1,\n",
    "})\n",
    "\n",
    "print(r.check_mass_balance())\n",
    "r"
   ]
  },
  {
   "cell_type": "code",
   "execution_count": 195,
   "metadata": {},
   "outputs": [
    {
     "name": "stdout",
     "output_type": "stream",
     "text": [
      "{'X': 1.0}\n"
     ]
    },
    {
     "data": {
      "text/html": [
       "\n",
       "        <table>\n",
       "            <tr>\n",
       "                <td><strong>Reaction identifier</strong></td><td>TRDR1</td>\n",
       "            </tr><tr>\n",
       "                <td><strong>Name</strong></td><td>R_TRDR1</td>\n",
       "            </tr><tr>\n",
       "                <td><strong>Memory address</strong></td>\n",
       "                <td>0x02043b400f40</td>\n",
       "            </tr><tr>\n",
       "                <td><strong>Stoichiometry</strong></td>\n",
       "                <td>\n",
       "                    <p style='text-align:right'>h_c + nadph_c --> nadp_c + trdrd_c</p>\n",
       "                    <p style='text-align:right'>H + Nicotinamide-adenine-dinucleotide-phosphate--reduced --> Nicotinamide-adenine-dinucleotide-phosphate + Reduced-thioredoxin</p>\n",
       "                </td>\n",
       "            </tr><tr>\n",
       "                <td><strong>GPR</strong></td><td>NGO0580 and NGO2124</td>\n",
       "            </tr><tr>\n",
       "                <td><strong>Lower bound</strong></td><td>0.0</td>\n",
       "            </tr><tr>\n",
       "                <td><strong>Upper bound</strong></td><td>999999.0</td>\n",
       "            </tr>\n",
       "        </table>\n",
       "        "
      ],
      "text/plain": [
       "<Reaction TRDR1 at 0x2043b400f40>"
      ]
     },
     "execution_count": 195,
     "metadata": {},
     "output_type": "execute_result"
    }
   ],
   "source": [
    "#TRDR1\n",
    "#synthesis of thioredoxin. Protein based component.\n",
    "r = model.reactions.get_by_id('TRDR1')\n",
    "print(r.check_mass_balance())\n",
    "r\n"
   ]
  },
  {
   "cell_type": "code",
   "execution_count": 196,
   "metadata": {},
   "outputs": [
    {
     "name": "stdout",
     "output_type": "stream",
     "text": [
      "{}\n"
     ]
    },
    {
     "data": {
      "text/html": [
       "\n",
       "        <table>\n",
       "            <tr>\n",
       "                <td><strong>Reaction identifier</strong></td><td>TRDR1</td>\n",
       "            </tr><tr>\n",
       "                <td><strong>Name</strong></td><td>R_TRDR1</td>\n",
       "            </tr><tr>\n",
       "                <td><strong>Memory address</strong></td>\n",
       "                <td>0x02043b400f40</td>\n",
       "            </tr><tr>\n",
       "                <td><strong>Stoichiometry</strong></td>\n",
       "                <td>\n",
       "                    <p style='text-align:right'>h_c + nadph_c + trdox_c --> nadp_c + trdrd_c</p>\n",
       "                    <p style='text-align:right'>H + Nicotinamide-adenine-dinucleotide-phosphate--reduced + Oxidized-thioredoxin --> Nicotinamide-adenine-dinucleotide-phosphate + Reduced-thioredoxin</p>\n",
       "                </td>\n",
       "            </tr><tr>\n",
       "                <td><strong>GPR</strong></td><td>NGO0580 and NGO2124</td>\n",
       "            </tr><tr>\n",
       "                <td><strong>Lower bound</strong></td><td>0.0</td>\n",
       "            </tr><tr>\n",
       "                <td><strong>Upper bound</strong></td><td>999999.0</td>\n",
       "            </tr>\n",
       "        </table>\n",
       "        "
      ],
      "text/plain": [
       "<Reaction TRDR1 at 0x2043b400f40>"
      ]
     },
     "execution_count": 196,
     "metadata": {},
     "output_type": "execute_result"
    }
   ],
   "source": [
    "trdox_c =model.metabolites.get_by_id('trdox_c')\n",
    "\n",
    "r.add_metabolites({\n",
    "    trdox_c: -1,\n",
    "})\n",
    "\n",
    "print(r.check_mass_balance())\n",
    "r"
   ]
  },
  {
   "cell_type": "code",
   "execution_count": 197,
   "metadata": {},
   "outputs": [],
   "source": [
    "#Add thioredoxin import reaction. This is required to show \"synthesis\" of a protein based component. \n",
    "#Integration of Biomass Formulations of Genome-Scale Metabolic Models with Experimental Data Reveals Universally Essential Cofactors in Prokaryotes\n",
    "#Joana C Xavier, Kiran Raosaheb Patil, Isabel Rocha\n",
    "#PMID: 27939572 PMCID: PMC5249239\n",
    "\n",
    "trdrd_c = model.metabolites.get_by_id('trdrd_c')\n",
    "\n",
    "EX_trdrd_c_ = cobra.Reaction('EX_trdrd_c_')\n",
    "EX_trdrd_c_.gene_reaction_rule = ''\n",
    "EX_trdrd_c_.lower_bound = 0.\n",
    "EX_trdrd_c_.upper_bound = 1000.\n",
    "EX_trdrd_c_.add_metabolites({\n",
    "    trdrd_c: -1.0,\n",
    "})\n",
    "\n",
    "model.add_reactions([EX_trdrd_c_])\n",
    "new_rxns += 1\n"
   ]
  },
  {
   "cell_type": "code",
   "execution_count": 198,
   "metadata": {},
   "outputs": [
    {
     "name": "stdout",
     "output_type": "stream",
     "text": [
      "{'H': -2.0}\n"
     ]
    },
    {
     "data": {
      "text/html": [
       "\n",
       "        <table>\n",
       "            <tr>\n",
       "                <td><strong>Reaction identifier</strong></td><td>TSULST</td>\n",
       "            </tr><tr>\n",
       "                <td><strong>Name</strong></td><td>R_TSULST</td>\n",
       "            </tr><tr>\n",
       "                <td><strong>Memory address</strong></td>\n",
       "                <td>0x02043b40cf10</td>\n",
       "            </tr><tr>\n",
       "                <td><strong>Stoichiometry</strong></td>\n",
       "                <td>\n",
       "                    <p style='text-align:right'>acser_c + h_c + trdrd_c + tsul_c <=> ac_c + cys_L_c + so3_c + trdox_c</p>\n",
       "                    <p style='text-align:right'>O-Acetyl-L-serine + H + Reduced-thioredoxin + Thiosulfate <=> Acetate + L-Cysteine + Sulfite + Oxidized-thioredoxin</p>\n",
       "                </td>\n",
       "            </tr><tr>\n",
       "                <td><strong>GPR</strong></td><td>NGO0340</td>\n",
       "            </tr><tr>\n",
       "                <td><strong>Lower bound</strong></td><td>-999999.0</td>\n",
       "            </tr><tr>\n",
       "                <td><strong>Upper bound</strong></td><td>999999.0</td>\n",
       "            </tr>\n",
       "        </table>\n",
       "        "
      ],
      "text/plain": [
       "<Reaction TSULST at 0x2043b40cf10>"
      ]
     },
     "execution_count": 198,
     "metadata": {},
     "output_type": "execute_result"
    }
   ],
   "source": [
    "#TSULST\n",
    "#synthesis of thioredoxin. Protein based component. \n",
    "r = model.reactions.get_by_id('TSULST')\n",
    "print(r.check_mass_balance())\n",
    "r\n"
   ]
  },
  {
   "cell_type": "code",
   "execution_count": 199,
   "metadata": {},
   "outputs": [
    {
     "name": "stdout",
     "output_type": "stream",
     "text": [
      "{}\n"
     ]
    },
    {
     "data": {
      "text/html": [
       "\n",
       "        <table>\n",
       "            <tr>\n",
       "                <td><strong>Reaction identifier</strong></td><td>TSULST</td>\n",
       "            </tr><tr>\n",
       "                <td><strong>Name</strong></td><td>R_TSULST</td>\n",
       "            </tr><tr>\n",
       "                <td><strong>Memory address</strong></td>\n",
       "                <td>0x02043b40cf10</td>\n",
       "            </tr><tr>\n",
       "                <td><strong>Stoichiometry</strong></td>\n",
       "                <td>\n",
       "                    <p style='text-align:right'>acser_c + trdrd_c + tsul_c <=> ac_c + cys_L_c + h_c + so3_c + trdox_c</p>\n",
       "                    <p style='text-align:right'>O-Acetyl-L-serine + Reduced-thioredoxin + Thiosulfate <=> Acetate + L-Cysteine + H + Sulfite + Oxidized-thioredoxin</p>\n",
       "                </td>\n",
       "            </tr><tr>\n",
       "                <td><strong>GPR</strong></td><td>NGO0340</td>\n",
       "            </tr><tr>\n",
       "                <td><strong>Lower bound</strong></td><td>-999999.0</td>\n",
       "            </tr><tr>\n",
       "                <td><strong>Upper bound</strong></td><td>999999.0</td>\n",
       "            </tr>\n",
       "        </table>\n",
       "        "
      ],
      "text/plain": [
       "<Reaction TSULST at 0x2043b40cf10>"
      ]
     },
     "execution_count": 199,
     "metadata": {},
     "output_type": "execute_result"
    }
   ],
   "source": [
    "h_c =model.metabolites.get_by_id('h_c')\n",
    "\n",
    "r.add_metabolites({\n",
    "    h_c: 2,\n",
    "})\n",
    "\n",
    "print(r.check_mass_balance())\n",
    "r"
   ]
  },
  {
   "cell_type": "code",
   "execution_count": 201,
   "metadata": {},
   "outputs": [
    {
     "name": "stdout",
     "output_type": "stream",
     "text": [
      "12 12 12\n"
     ]
    },
    {
     "data": {
      "text/html": [
       "<div>\n",
       "<style scoped>\n",
       "    .dataframe tbody tr th:only-of-type {\n",
       "        vertical-align: middle;\n",
       "    }\n",
       "\n",
       "    .dataframe tbody tr th {\n",
       "        vertical-align: top;\n",
       "    }\n",
       "\n",
       "    .dataframe thead th {\n",
       "        text-align: right;\n",
       "    }\n",
       "</style>\n",
       "<table border=\"1\" class=\"dataframe\">\n",
       "  <thead>\n",
       "    <tr style=\"text-align: right;\">\n",
       "      <th></th>\n",
       "      <th>Reactions</th>\n",
       "      <th>Charge</th>\n",
       "      <th>Masses</th>\n",
       "    </tr>\n",
       "  </thead>\n",
       "  <tbody>\n",
       "    <tr>\n",
       "      <th>0</th>\n",
       "      <td>3HAD161x</td>\n",
       "      <td></td>\n",
       "      <td>{'C': 29.0, 'H': 47.0, 'N': 2.0, 'O': 8.0, 'P'...</td>\n",
       "    </tr>\n",
       "    <tr>\n",
       "      <th>1</th>\n",
       "      <td>3OAS161a</td>\n",
       "      <td></td>\n",
       "      <td>{'C': -12.0, 'H': -21.0, 'N': -2.0, 'O': -9.0,...</td>\n",
       "    </tr>\n",
       "    <tr>\n",
       "      <th>2</th>\n",
       "      <td>ASNSYN</td>\n",
       "      <td></td>\n",
       "      <td>{'H': 2.0, 'O': 2.0}</td>\n",
       "    </tr>\n",
       "    <tr>\n",
       "      <th>3</th>\n",
       "      <td>BTS4</td>\n",
       "      <td></td>\n",
       "      <td>{'S': 1.0}</td>\n",
       "    </tr>\n",
       "    <tr>\n",
       "      <th>4</th>\n",
       "      <td>CYTCS</td>\n",
       "      <td></td>\n",
       "      <td>{'C': 8.0, 'H': 14.0, 'N': 4.0, 'O': 4.0, 'S':...</td>\n",
       "    </tr>\n",
       "    <tr>\n",
       "      <th>5</th>\n",
       "      <td>DASYN161a</td>\n",
       "      <td></td>\n",
       "      <td>{'H': -1.0}</td>\n",
       "    </tr>\n",
       "    <tr>\n",
       "      <th>6</th>\n",
       "      <td>EAR161a</td>\n",
       "      <td></td>\n",
       "      <td>{'C': -29.0, 'H': -47.0, 'N': -2.0, 'O': -8.0,...</td>\n",
       "    </tr>\n",
       "    <tr>\n",
       "      <th>7</th>\n",
       "      <td>DDPGA</td>\n",
       "      <td></td>\n",
       "      <td>{'H': 2.0}</td>\n",
       "    </tr>\n",
       "    <tr>\n",
       "      <th>8</th>\n",
       "      <td>P3H5CD</td>\n",
       "      <td></td>\n",
       "      <td>{'H': -1.0}</td>\n",
       "    </tr>\n",
       "    <tr>\n",
       "      <th>9</th>\n",
       "      <td>PGSA161a</td>\n",
       "      <td></td>\n",
       "      <td>{'H': 1.0}</td>\n",
       "    </tr>\n",
       "    <tr>\n",
       "      <th>10</th>\n",
       "      <td>PLIPA1G161a</td>\n",
       "      <td></td>\n",
       "      <td>{'H': -1.0}</td>\n",
       "    </tr>\n",
       "    <tr>\n",
       "      <th>11</th>\n",
       "      <td>PMCOAS</td>\n",
       "      <td></td>\n",
       "      <td>{'C': 7.0, 'H': 9.0, 'O': 3.0}</td>\n",
       "    </tr>\n",
       "  </tbody>\n",
       "</table>\n",
       "</div>"
      ],
      "text/plain": [
       "      Reactions Charge                                             Masses\n",
       "0      3HAD161x         {'C': 29.0, 'H': 47.0, 'N': 2.0, 'O': 8.0, 'P'...\n",
       "1      3OAS161a         {'C': -12.0, 'H': -21.0, 'N': -2.0, 'O': -9.0,...\n",
       "2        ASNSYN                                      {'H': 2.0, 'O': 2.0}\n",
       "3          BTS4                                                {'S': 1.0}\n",
       "4         CYTCS         {'C': 8.0, 'H': 14.0, 'N': 4.0, 'O': 4.0, 'S':...\n",
       "5     DASYN161a                                               {'H': -1.0}\n",
       "6       EAR161a         {'C': -29.0, 'H': -47.0, 'N': -2.0, 'O': -8.0,...\n",
       "7         DDPGA                                                {'H': 2.0}\n",
       "8        P3H5CD                                               {'H': -1.0}\n",
       "9      PGSA161a                                                {'H': 1.0}\n",
       "10  PLIPA1G161a                                               {'H': -1.0}\n",
       "11       PMCOAS                            {'C': 7.0, 'H': 9.0, 'O': 3.0}"
      ]
     },
     "execution_count": 201,
     "metadata": {},
     "output_type": "execute_result"
    }
   ],
   "source": [
    "#After bulk removing cofactors, what reaction imbalances remain?\n",
    "reactions = []\n",
    "charge = []\n",
    "mass = []\n",
    "for react in model.reactions:\n",
    "    result = react.check_mass_balance()\n",
    "    if 'EX_' in  react.id:\n",
    "        continue\n",
    "    if 'Nm_' in  react.id:\n",
    "        continue\n",
    "    if 'DM_' in  react.id:\n",
    "        continue \n",
    "    if react.id in biomass_reactions:\n",
    "        continue\n",
    "    if len(result) == 0:\n",
    "        continue\n",
    "    else: \n",
    "        reactions.append(react.id)\n",
    "        masses = {}\n",
    "        for key in result.keys():\n",
    "            if key == 'charge':\n",
    "                charge.append(result['charge'])\n",
    "            else:\n",
    "                masses[key] = result[key]\n",
    "        if 'charge' not in result.keys():\n",
    "            charge.append('')\n",
    "        mass.append(masses)\n",
    "print(len(reactions), len(charge), len(mass))\n",
    "\n",
    "mass_charge_dict = {'Reactions': reactions, 'Charge': charge, 'Masses': mass}\n",
    "mass_charge = pandas.DataFrame(mass_charge_dict)\n",
    "mass_charge.to_csv(cwd+'/Gc_GENRE_2022/Curate_Gc_Model/totalimbalances.csv')\n",
    "mass_charge"
   ]
  },
  {
   "cell_type": "code",
   "execution_count": 202,
   "metadata": {},
   "outputs": [
    {
     "name": "stdout",
     "output_type": "stream",
     "text": [
      "{'H': 2.0}\n"
     ]
    },
    {
     "data": {
      "text/html": [
       "\n",
       "        <table>\n",
       "            <tr>\n",
       "                <td><strong>Reaction identifier</strong></td><td>DDPGA</td>\n",
       "            </tr><tr>\n",
       "                <td><strong>Name</strong></td><td>R_DDPGA</td>\n",
       "            </tr><tr>\n",
       "                <td><strong>Memory address</strong></td>\n",
       "                <td>0x02043b196e50</td>\n",
       "            </tr><tr>\n",
       "                <td><strong>Stoichiometry</strong></td>\n",
       "                <td>\n",
       "                    <p style='text-align:right'>4h2oglt_c --> glx_c + 2.0 h_c + pyr_c</p>\n",
       "                    <p style='text-align:right'>D-4-Hydroxy-2-oxoglutarate --> Glyoxylate + 2.0 H + Pyruvate</p>\n",
       "                </td>\n",
       "            </tr><tr>\n",
       "                <td><strong>GPR</strong></td><td>NGO0713</td>\n",
       "            </tr><tr>\n",
       "                <td><strong>Lower bound</strong></td><td>0.0</td>\n",
       "            </tr><tr>\n",
       "                <td><strong>Upper bound</strong></td><td>999999.0</td>\n",
       "            </tr>\n",
       "        </table>\n",
       "        "
      ],
      "text/plain": [
       "<Reaction DDPGA at 0x2043b196e50>"
      ]
     },
     "execution_count": 202,
     "metadata": {},
     "output_type": "execute_result"
    }
   ],
   "source": [
    "#DDPGA\n",
    "r = model.reactions.get_by_id('DDPGA')\n",
    "print(r.check_mass_balance())\n",
    "r"
   ]
  },
  {
   "cell_type": "code",
   "execution_count": 203,
   "metadata": {},
   "outputs": [
    {
     "name": "stdout",
     "output_type": "stream",
     "text": [
      "{}\n"
     ]
    },
    {
     "data": {
      "text/html": [
       "\n",
       "        <table>\n",
       "            <tr>\n",
       "                <td><strong>Reaction identifier</strong></td><td>DDPGA</td>\n",
       "            </tr><tr>\n",
       "                <td><strong>Name</strong></td><td>R_DDPGA</td>\n",
       "            </tr><tr>\n",
       "                <td><strong>Memory address</strong></td>\n",
       "                <td>0x02043b196e50</td>\n",
       "            </tr><tr>\n",
       "                <td><strong>Stoichiometry</strong></td>\n",
       "                <td>\n",
       "                    <p style='text-align:right'>4h2oglt_c --> glx_c + pyr_c</p>\n",
       "                    <p style='text-align:right'>D-4-Hydroxy-2-oxoglutarate --> Glyoxylate + Pyruvate</p>\n",
       "                </td>\n",
       "            </tr><tr>\n",
       "                <td><strong>GPR</strong></td><td>NGO0713</td>\n",
       "            </tr><tr>\n",
       "                <td><strong>Lower bound</strong></td><td>0.0</td>\n",
       "            </tr><tr>\n",
       "                <td><strong>Upper bound</strong></td><td>999999.0</td>\n",
       "            </tr>\n",
       "        </table>\n",
       "        "
      ],
      "text/plain": [
       "<Reaction DDPGA at 0x2043b196e50>"
      ]
     },
     "execution_count": 203,
     "metadata": {},
     "output_type": "execute_result"
    }
   ],
   "source": [
    "#There are two extra Hs produced in this reaction due to changes in protonation for h2oglt/glx. \n",
    "#Bigg does not indicate hydrogens are produced in this reaction. Correcting to match bigg. \n",
    "h_c =model.metabolites.get_by_id('h_c')\n",
    "\n",
    "r.add_metabolites({\n",
    "    h_c: -2,\n",
    "})\n",
    "\n",
    "print(r.check_mass_balance())\n",
    "r"
   ]
  },
  {
   "cell_type": "code",
   "execution_count": 204,
   "metadata": {},
   "outputs": [
    {
     "name": "stdout",
     "output_type": "stream",
     "text": [
      "{'H': -1.0}\n"
     ]
    },
    {
     "data": {
      "text/html": [
       "\n",
       "        <table>\n",
       "            <tr>\n",
       "                <td><strong>Reaction identifier</strong></td><td>P3H5CD</td>\n",
       "            </tr><tr>\n",
       "                <td><strong>Name</strong></td><td>R_P3H5CD</td>\n",
       "            </tr><tr>\n",
       "                <td><strong>Memory address</strong></td>\n",
       "                <td>0x02043b299e50</td>\n",
       "            </tr><tr>\n",
       "                <td><strong>Stoichiometry</strong></td>\n",
       "                <td>\n",
       "                    <p style='text-align:right'>1p3h5c_c + 2.0 h2o_c + nadp_c <=> e4hglu_c + h_c + nadph_c</p>\n",
       "                    <p style='text-align:right'>L-1-Pyrroline-3-hydroxy-5-carboxylate + 2.0 H2O + Nicotinamide-adenine-dinucleotide-phosphate <=> L-erythro-4-Hydroxyglutamate + H + Nicotinamide-adenine-dinucleotide-phosphate--reduced</p>\n",
       "                </td>\n",
       "            </tr><tr>\n",
       "                <td><strong>GPR</strong></td><td>NGO08225</td>\n",
       "            </tr><tr>\n",
       "                <td><strong>Lower bound</strong></td><td>-999999.0</td>\n",
       "            </tr><tr>\n",
       "                <td><strong>Upper bound</strong></td><td>999999.0</td>\n",
       "            </tr>\n",
       "        </table>\n",
       "        "
      ],
      "text/plain": [
       "<Reaction P3H5CD at 0x2043b299e50>"
      ]
     },
     "execution_count": 204,
     "metadata": {},
     "output_type": "execute_result"
    }
   ],
   "source": [
    "#P3H5CD\n",
    "r = model.reactions.get_by_id('P3H5CD')\n",
    "print(r.check_mass_balance())\n",
    "r"
   ]
  },
  {
   "cell_type": "code",
   "execution_count": 205,
   "metadata": {},
   "outputs": [
    {
     "name": "stdout",
     "output_type": "stream",
     "text": [
      "{}\n"
     ]
    },
    {
     "data": {
      "text/html": [
       "\n",
       "        <table>\n",
       "            <tr>\n",
       "                <td><strong>Reaction identifier</strong></td><td>P3H5CD</td>\n",
       "            </tr><tr>\n",
       "                <td><strong>Name</strong></td><td>R_P3H5CD</td>\n",
       "            </tr><tr>\n",
       "                <td><strong>Memory address</strong></td>\n",
       "                <td>0x02043b299e50</td>\n",
       "            </tr><tr>\n",
       "                <td><strong>Stoichiometry</strong></td>\n",
       "                <td>\n",
       "                    <p style='text-align:right'>1p3h5c_c + 2.0 h2o_c + nadp_c <=> e4hglu_c + 2.0 h_c + nadph_c</p>\n",
       "                    <p style='text-align:right'>L-1-Pyrroline-3-hydroxy-5-carboxylate + 2.0 H2O + Nicotinamide-adenine-dinucleotide-phosphate <=> L-erythro-4-Hydroxyglutamate + 2.0 H + Nicotinamide-adenine-dinucleotide-phosphate--reduced</p>\n",
       "                </td>\n",
       "            </tr><tr>\n",
       "                <td><strong>GPR</strong></td><td>NGO08225</td>\n",
       "            </tr><tr>\n",
       "                <td><strong>Lower bound</strong></td><td>-999999.0</td>\n",
       "            </tr><tr>\n",
       "                <td><strong>Upper bound</strong></td><td>999999.0</td>\n",
       "            </tr>\n",
       "        </table>\n",
       "        "
      ],
      "text/plain": [
       "<Reaction P3H5CD at 0x2043b299e50>"
      ]
     },
     "execution_count": 205,
     "metadata": {},
     "output_type": "execute_result"
    }
   ],
   "source": [
    "#The protonation of e4hglu was changed when correcting HGTA. This results in having an extra h consumed in P3H5CD.\n",
    "#This is corrected here. \n",
    "h_c =model.metabolites.get_by_id('h_c')\n",
    "\n",
    "r.add_metabolites({\n",
    "    h_c: 1.0,\n",
    "})\n",
    "\n",
    "print(r.check_mass_balance())\n",
    "r"
   ]
  },
  {
   "cell_type": "code",
   "execution_count": null,
   "metadata": {},
   "outputs": [],
   "source": [
    "model.reactions.get_by_id('3HAD161x')"
   ]
  },
  {
   "cell_type": "code",
   "execution_count": null,
   "metadata": {},
   "outputs": [],
   "source": [
    "model.metabolites.get_by_id('t3c5palmeACP_c').formula= 'C27H47N2O8PRS'"
   ]
  },
  {
   "cell_type": "code",
   "execution_count": 218,
   "metadata": {},
   "outputs": [
    {
     "name": "stdout",
     "output_type": "stream",
     "text": [
      "8 8 8\n"
     ]
    },
    {
     "data": {
      "text/html": [
       "<div>\n",
       "<style scoped>\n",
       "    .dataframe tbody tr th:only-of-type {\n",
       "        vertical-align: middle;\n",
       "    }\n",
       "\n",
       "    .dataframe tbody tr th {\n",
       "        vertical-align: top;\n",
       "    }\n",
       "\n",
       "    .dataframe thead th {\n",
       "        text-align: right;\n",
       "    }\n",
       "</style>\n",
       "<table border=\"1\" class=\"dataframe\">\n",
       "  <thead>\n",
       "    <tr style=\"text-align: right;\">\n",
       "      <th></th>\n",
       "      <th>Reactions</th>\n",
       "      <th>Charge</th>\n",
       "      <th>Masses</th>\n",
       "    </tr>\n",
       "  </thead>\n",
       "  <tbody>\n",
       "    <tr>\n",
       "      <th>0</th>\n",
       "      <td>3OAS161a</td>\n",
       "      <td></td>\n",
       "      <td>{'C': -12.0, 'H': -21.0, 'N': -2.0, 'O': -9.0,...</td>\n",
       "    </tr>\n",
       "    <tr>\n",
       "      <th>1</th>\n",
       "      <td>ASNSYN</td>\n",
       "      <td></td>\n",
       "      <td>{'H': 2.0, 'O': 2.0}</td>\n",
       "    </tr>\n",
       "    <tr>\n",
       "      <th>2</th>\n",
       "      <td>BTS4</td>\n",
       "      <td></td>\n",
       "      <td>{'S': 1.0}</td>\n",
       "    </tr>\n",
       "    <tr>\n",
       "      <th>3</th>\n",
       "      <td>CYTCS</td>\n",
       "      <td></td>\n",
       "      <td>{'C': 8.0, 'H': 14.0, 'N': 4.0, 'O': 4.0, 'S':...</td>\n",
       "    </tr>\n",
       "    <tr>\n",
       "      <th>4</th>\n",
       "      <td>DASYN161a</td>\n",
       "      <td></td>\n",
       "      <td>{'H': -1.0}</td>\n",
       "    </tr>\n",
       "    <tr>\n",
       "      <th>5</th>\n",
       "      <td>PGSA161a</td>\n",
       "      <td></td>\n",
       "      <td>{'H': 1.0}</td>\n",
       "    </tr>\n",
       "    <tr>\n",
       "      <th>6</th>\n",
       "      <td>PLIPA1G161a</td>\n",
       "      <td></td>\n",
       "      <td>{'H': -1.0}</td>\n",
       "    </tr>\n",
       "    <tr>\n",
       "      <th>7</th>\n",
       "      <td>PMCOAS</td>\n",
       "      <td></td>\n",
       "      <td>{'C': 7.0, 'H': 9.0, 'O': 3.0}</td>\n",
       "    </tr>\n",
       "  </tbody>\n",
       "</table>\n",
       "</div>"
      ],
      "text/plain": [
       "     Reactions Charge                                             Masses\n",
       "0     3OAS161a         {'C': -12.0, 'H': -21.0, 'N': -2.0, 'O': -9.0,...\n",
       "1       ASNSYN                                      {'H': 2.0, 'O': 2.0}\n",
       "2         BTS4                                                {'S': 1.0}\n",
       "3        CYTCS         {'C': 8.0, 'H': 14.0, 'N': 4.0, 'O': 4.0, 'S':...\n",
       "4    DASYN161a                                               {'H': -1.0}\n",
       "5     PGSA161a                                                {'H': 1.0}\n",
       "6  PLIPA1G161a                                               {'H': -1.0}\n",
       "7       PMCOAS                            {'C': 7.0, 'H': 9.0, 'O': 3.0}"
      ]
     },
     "execution_count": 218,
     "metadata": {},
     "output_type": "execute_result"
    }
   ],
   "source": [
    "#After bulk removing cofactors, what reaction imbalances remain?\n",
    "reactions = []\n",
    "charge = []\n",
    "mass = []\n",
    "for react in model.reactions:\n",
    "    result = react.check_mass_balance()\n",
    "    if 'EX_' in  react.id:\n",
    "        continue\n",
    "    if 'Nm_' in  react.id:\n",
    "        continue\n",
    "    if 'DM_' in  react.id:\n",
    "        continue \n",
    "    if react.id in biomass_reactions:\n",
    "        continue\n",
    "    if len(result) == 0:\n",
    "        continue\n",
    "    else: \n",
    "        reactions.append(react.id)\n",
    "        masses = {}\n",
    "        for key in result.keys():\n",
    "            if key == 'charge':\n",
    "                charge.append(result['charge'])\n",
    "            else:\n",
    "                masses[key] = result[key]\n",
    "        if 'charge' not in result.keys():\n",
    "            charge.append('')\n",
    "        mass.append(masses)\n",
    "print(len(reactions), len(charge), len(mass))\n",
    "\n",
    "mass_charge_dict = {'Reactions': reactions, 'Charge': charge, 'Masses': mass}\n",
    "mass_charge = pandas.DataFrame(mass_charge_dict)\n",
    "mass_charge.to_csv(cwd+'/Gc_GENRE_2022/Curate_Gc_Model/totalimbalances.csv')\n",
    "mass_charge"
   ]
  },
  {
   "cell_type": "code",
   "execution_count": 217,
   "metadata": {},
   "outputs": [],
   "source": []
  },
  {
   "cell_type": "code",
   "execution_count": 227,
   "metadata": {},
   "outputs": [],
   "source": [
    "#Remaining imbalances are ok and due to proteinaceous components or reaction simplifications. "
   ]
  },
  {
   "cell_type": "code",
   "execution_count": 228,
   "metadata": {},
   "outputs": [
    {
     "name": "stdout",
     "output_type": "stream",
     "text": [
      "Complete media 4.209239255277078\n"
     ]
    }
   ],
   "source": [
    "complete(model)\n",
    "print('Complete media', model.slim_optimize())"
   ]
  },
  {
   "cell_type": "code",
   "execution_count": 229,
   "metadata": {},
   "outputs": [
    {
     "data": {
      "text/plain": [
       "515"
      ]
     },
     "execution_count": 229,
     "metadata": {},
     "output_type": "execute_result"
    }
   ],
   "source": [
    "len(model.genes)"
   ]
  },
  {
   "cell_type": "code",
   "execution_count": 231,
   "metadata": {},
   "outputs": [],
   "source": [
    "#Subtract 2 genes for orphan and Sgene\n",
    "model.id ='NGO_513'"
   ]
  },
  {
   "cell_type": "code",
   "execution_count": 232,
   "metadata": {},
   "outputs": [
    {
     "data": {
      "text/html": [
       "\n",
       "        <table>\n",
       "            <tr>\n",
       "                <td><strong>Name</strong></td>\n",
       "                <td>NGO_513</td>\n",
       "            </tr><tr>\n",
       "                <td><strong>Memory address</strong></td>\n",
       "                <td>0x020431c76280</td>\n",
       "            </tr><tr>\n",
       "                <td><strong>Number of metabolites</strong></td>\n",
       "                <td>1301</td>\n",
       "            </tr><tr>\n",
       "                <td><strong>Number of reactions</strong></td>\n",
       "                <td>1413</td>\n",
       "            </tr><tr>\n",
       "                <td><strong>Number of groups</strong></td>\n",
       "                <td>0</td>\n",
       "            </tr><tr>\n",
       "                <td><strong>Objective expression</strong></td>\n",
       "                <td>1.0*Nm_Ess_biomass - 1.0*Nm_Ess_biomass_reverse_46af5</td>\n",
       "            </tr><tr>\n",
       "                <td><strong>Compartments</strong></td>\n",
       "                <td>periplasm, cytosol, extracellular</td>\n",
       "            </tr>\n",
       "          </table>"
      ],
      "text/plain": [
       "<Model NGO_513 at 0x20431c76280>"
      ]
     },
     "execution_count": 232,
     "metadata": {},
     "output_type": "execute_result"
    }
   ],
   "source": [
    "model"
   ]
  },
  {
   "cell_type": "code",
   "execution_count": 236,
   "metadata": {
    "scrolled": true
   },
   "outputs": [],
   "source": [
    "cobra.io.write_sbml_model(model, cwd+'/Gc_GENRE_2022/Curate_Gc_Model/In_progress_curation/NGO_513.sbml')"
   ]
  },
  {
   "cell_type": "code",
   "execution_count": 238,
   "metadata": {
    "scrolled": true
   },
   "outputs": [],
   "source": [
    "cobra.io.save_json_model(model, cwd+'/Gc_GENRE_2022/Curate_Gc_Model/In_progress_curation/NGO_513.json')"
   ]
  },
  {
   "cell_type": "code",
   "execution_count": null,
   "metadata": {
    "scrolled": true
   },
   "outputs": [],
   "source": []
  },
  {
   "cell_type": "code",
   "execution_count": null,
   "metadata": {
    "scrolled": true
   },
   "outputs": [],
   "source": []
  },
  {
   "cell_type": "code",
   "execution_count": null,
   "metadata": {
    "scrolled": true
   },
   "outputs": [],
   "source": []
  },
  {
   "cell_type": "code",
   "execution_count": null,
   "metadata": {
    "scrolled": true
   },
   "outputs": [],
   "source": []
  },
  {
   "cell_type": "code",
   "execution_count": null,
   "metadata": {
    "scrolled": true
   },
   "outputs": [],
   "source": []
  },
  {
   "cell_type": "code",
   "execution_count": null,
   "metadata": {
    "scrolled": true
   },
   "outputs": [],
   "source": []
  },
  {
   "cell_type": "code",
   "execution_count": null,
   "metadata": {
    "scrolled": true
   },
   "outputs": [],
   "source": []
  },
  {
   "cell_type": "code",
   "execution_count": null,
   "metadata": {
    "scrolled": true
   },
   "outputs": [],
   "source": []
  }
 ],
 "metadata": {
  "kernelspec": {
   "display_name": "Python 3",
   "language": "python",
   "name": "python3"
  },
  "language_info": {
   "codemirror_mode": {
    "name": "ipython",
    "version": 3
   },
   "file_extension": ".py",
   "mimetype": "text/x-python",
   "name": "python",
   "nbconvert_exporter": "python",
   "pygments_lexer": "ipython3",
   "version": "3.8.8"
  }
 },
 "nbformat": 4,
 "nbformat_minor": 4
}
