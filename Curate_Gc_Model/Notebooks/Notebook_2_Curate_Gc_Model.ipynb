{
 "cells": [
  {
   "cell_type": "markdown",
   "id": "a2f6e01d-407b-4bfe-b425-8b386bb5ae60",
   "metadata": {},
   "source": [
    "# Notebook 2: Curate Gc Model\n",
    "\n",
    "2a. The first section of this notebook uses the CarveMe FA1090 automated model to identify genes and their corresponding reactions that could be added to the model. Genes and reactions were verified using KEGG and published literature to identify those that had enough supporting evidence to add. If no supporting evidence cold be found, the reaction was not added. \n",
    "\n",
    "2b. Correcting mass/charge imbalances for the model using evidence from the literature, from BIGG, and UNIPROT as needed. \n",
    "\n",
    "2c. A Gc specific biomass equation is established\n",
    "\n",
    "2d. Infeasible loops are removed\n",
    "\n",
    "The model is then updated with annotations from modelpolisher\n"
   ]
  },
  {
   "cell_type": "code",
   "execution_count": 1,
   "id": "76ca4412-b16c-40e3-bbac-ca7517b15e55",
   "metadata": {
    "scrolled": true
   },
   "outputs": [],
   "source": [
    "# Import libraries - REQUIRES pip version 9.0.3\n",
    "import pandas\n",
    "import pandas as pd\n",
    "import os\n",
    "from os.path import join\n",
    "import sys\n",
    "import scipy.stats\n",
    "import numpy\n",
    "import math\n",
    "import pickle\n",
    "import copy\n",
    "import time\n",
    "import warnings\n",
    "import gc\n",
    "\n",
    "# Using Cobrapy 0.13.0\n",
    "import cobra\n",
    "import cobra.test\n",
    "import cobra.flux_analysis.gapfilling\n",
    "from cobra import Reaction, Metabolite\n",
    "from cobra.io import write_sbml_model\n",
    "from cobra.flux_analysis import  flux_variability_analysis\n",
    "from cobra.flux_analysis.reaction import assess_component\n",
    "from cobra.manipulation.delete import *\n",
    "from cobra.flux_analysis.parsimonious import add_pfba\n",
    "from cobra.medium import find_boundary_types\n",
    "from cobra.util import solver as sutil\n",
    "\n",
    "\n",
    "#Simplify reading/writing files\n",
    "cwd=os.path.realpath(os.path.join(os.path.dirname(os.getcwd()),\"..\",\"..\"))"
   ]
  },
  {
   "cell_type": "code",
   "execution_count": 2,
   "id": "e30d1f61-c10c-4573-b8ac-e344dd9f8243",
   "metadata": {
    "scrolled": true
   },
   "outputs": [],
   "source": [
    "#From Jenior 2021 C.diff notebooks - benchmarking C. difficile GENRES. https://github.com/csbl/Jenior_CdifficileGENRE_2021\n",
    "# Quicker way to read in models\n",
    "import pickle\n",
    "def read_model(fileName, obj='none'):\n",
    "    \n",
    "    fileType = fileName.split('.')[-1]\n",
    "    \n",
    "    if fileType == 'sbml' or fileType == 'xml':\n",
    "        model = cobra.io.read_sbml_model(fileName)\n",
    "    elif fileType == 'json':\n",
    "        model = cobra.io.load_json_model(fileName)\n",
    "    elif fileType == 'yaml':\n",
    "        model = cobra.io.load_yaml_model(fileName)\n",
    "    elif fileType == 'mat':\n",
    "        model = cobra.io.load_matlab_model(fileName)\n",
    "    elif fileType == 'pkl':\n",
    "        model = pickle.load(open(fileName, 'rb'))\n",
    "    else:\n",
    "        raise TypeError('Unrecognized file extension')\n",
    "    \n",
    "    if obj != 'none': model.objective = obj\n",
    "    for rxn in model.boundary: rxn.bounds = (-1000., 1000.)\n",
    "        \n",
    "    return model"
   ]
  },
  {
   "cell_type": "code",
   "execution_count": 3,
   "id": "79350d48-9de5-49f2-8e1e-ac60111857fa",
   "metadata": {},
   "outputs": [],
   "source": [
    "#Set media\n",
    "\n",
    "def complete(model):\n",
    "    for reaction in model.reactions:\n",
    "        if 'EX_' in  reaction.id:\n",
    "            reaction.lower_bound=-20.\n"
   ]
  },
  {
   "cell_type": "code",
   "execution_count": 4,
   "id": "bde01f3b-bac0-47b7-a0cc-f9c4e6374257",
   "metadata": {
    "scrolled": true,
    "tags": []
   },
   "outputs": [],
   "source": [
    "# Read in  model\n",
    "import cobra\n",
    "model=read_model(cwd+'/Gc_GENRE_2022/Models/AE004969.1.json')\n",
    "model.objective='Nm_Ess_biomass'\n",
    "\n",
    "#Ecoli model NM model is based on - to be used for metabolite charges\n",
    "ecoli = read_model(cwd+'/Gc_GENRE_2022/Models/ecoli.json')\n",
    "\n",
    "#Universal model for adding reactions\n",
    "universalmodel= read_model(cwd+'/Gc_GENRE_2022/Models/universal_model_cobrapy.json')\n",
    "\n",
    "#Downloaded carvememodel for Neisseria gonorrhoeae FA1090 from PMID: 30192979 to compare annotations and add Gc specific reactions\n",
    "carveme_model= cobra.io.read_sbml_model(cwd+'/Gc_GENRE_2022/Models/Neisseria_gonorrhoeae_FA_1090.xml.gz')\n",
    "carvememodel=carveme_model\n",
    "cobra.io.save_json_model(carveme_model, cwd+'/Gc_GENRE_2022/Models/Neisseria_gonorrhoeae_FA_1090.json')"
   ]
  },
  {
   "cell_type": "code",
   "execution_count": 5,
   "id": "f518e648-19d0-46a0-9a22-16e6a79f6fca",
   "metadata": {},
   "outputs": [],
   "source": [
    "rpmi_req=set(['EX_apoACP_c_', 'EX_trdrd_c_','EX_cobalt2_e_','EX_cu2_e_','EX_fe3_e_','EX_mn2_e_','EX_mobd_e_','EX_zn2_e_','EX_ca2_e_','EX_no3_e_','EX_h2o_e_','EX_k_e_','EX_cl_e_','EX_mg2_e_','EX_so4_e_','EX_na1_e_','EX_pi_e_','EX_h_e_','EX_arg_L_e_','EX_asn_L_e_','EX_asp_L_e_','EX_cys_L_e_','EX_glu_L_e_','EX_gly_e_','EX_his_L_e_','EX_ile_L_e_','EX_leu_L_e_','EX_lys_L_e_','EX_met_L_e_','EX_phe_L_e_','EX_pro_L_e_','EX_ser_L_e_','EX_thr_L_e_','EX_trp_L_e_','EX_tyr_L_e_','EX_val_L_e_','EX_pnto_R_e_','EX_chol_e_','EX_inost_e_','EX_glc_D_e_','EX_gthrd_e_','EX_co2_e_'])\n",
    "\n",
    "def rpmi_with_lactate_only(model):\n",
    "    for reaction in model.reactions:\n",
    "        if 'EX_' in  reaction.id:\n",
    "            reaction.lower_bound=0\n",
    "        if reaction.id in rpmi_req:\n",
    "            reaction.lower_bound = -20.\n",
    "        if reaction.id == 'EX_o2_e_':\n",
    "            reaction.lower_bound = -10.\n",
    "        if reaction.id == 'EX_glc_D_e_':\n",
    "            reaction.lower_bound = -0.\n",
    "        if reaction.id == 'EX_lac_L_e_':\n",
    "            reaction.lower_bound = -20.\n",
    "            \n",
    "def rpmi(model):\n",
    "    for reaction in model.reactions:\n",
    "        if 'EX_' in  reaction.id:\n",
    "            reaction.lower_bound=0\n",
    "        if reaction.id in rpmi_req:\n",
    "            reaction.lower_bound = -10.\n",
    "        if reaction.id == 'EX_o2_e_':\n",
    "            reaction.lower_bound = -20.\n",
    "        if reaction.id == 'EX_glc_D_e_':\n",
    "            reaction.lower_bound = -10.\n"
   ]
  },
  {
   "cell_type": "code",
   "execution_count": 6,
   "id": "a5c08228-791b-4027-aac1-59258c3954a3",
   "metadata": {},
   "outputs": [
    {
     "data": {
      "text/html": [
       "<strong><em>Optimal</em> solution with objective value 4.216</strong><br><div>\n",
       "<style scoped>\n",
       "    .dataframe tbody tr th:only-of-type {\n",
       "        vertical-align: middle;\n",
       "    }\n",
       "\n",
       "    .dataframe tbody tr th {\n",
       "        vertical-align: top;\n",
       "    }\n",
       "\n",
       "    .dataframe thead th {\n",
       "        text-align: right;\n",
       "    }\n",
       "</style>\n",
       "<table border=\"1\" class=\"dataframe\">\n",
       "  <thead>\n",
       "    <tr style=\"text-align: right;\">\n",
       "      <th></th>\n",
       "      <th>fluxes</th>\n",
       "      <th>reduced_costs</th>\n",
       "    </tr>\n",
       "  </thead>\n",
       "  <tbody>\n",
       "    <tr>\n",
       "      <th>12DGR120tipp</th>\n",
       "      <td>0.000000</td>\n",
       "      <td>0.000000e+00</td>\n",
       "    </tr>\n",
       "    <tr>\n",
       "      <th>12DGR140tipp</th>\n",
       "      <td>0.000000</td>\n",
       "      <td>0.000000e+00</td>\n",
       "    </tr>\n",
       "    <tr>\n",
       "      <th>12DGR141tipp</th>\n",
       "      <td>0.000000</td>\n",
       "      <td>0.000000e+00</td>\n",
       "    </tr>\n",
       "    <tr>\n",
       "      <th>12DGR160tipp</th>\n",
       "      <td>0.000000</td>\n",
       "      <td>0.000000e+00</td>\n",
       "    </tr>\n",
       "    <tr>\n",
       "      <th>12DGR161tipp</th>\n",
       "      <td>0.000000</td>\n",
       "      <td>0.000000e+00</td>\n",
       "    </tr>\n",
       "    <tr>\n",
       "      <th>...</th>\n",
       "      <td>...</td>\n",
       "      <td>...</td>\n",
       "    </tr>\n",
       "    <tr>\n",
       "      <th>XTSNtex</th>\n",
       "      <td>0.000000</td>\n",
       "      <td>0.000000e+00</td>\n",
       "    </tr>\n",
       "    <tr>\n",
       "      <th>XYLtex</th>\n",
       "      <td>0.000000</td>\n",
       "      <td>0.000000e+00</td>\n",
       "    </tr>\n",
       "    <tr>\n",
       "      <th>XYLUtex</th>\n",
       "      <td>0.000000</td>\n",
       "      <td>0.000000e+00</td>\n",
       "    </tr>\n",
       "    <tr>\n",
       "      <th>ZN2abcpp</th>\n",
       "      <td>0.013314</td>\n",
       "      <td>-1.951564e-18</td>\n",
       "    </tr>\n",
       "    <tr>\n",
       "      <th>Zn2tex</th>\n",
       "      <td>0.013314</td>\n",
       "      <td>0.000000e+00</td>\n",
       "    </tr>\n",
       "  </tbody>\n",
       "</table>\n",
       "<p>1484 rows × 2 columns</p>\n",
       "</div>"
      ],
      "text/plain": [
       "<Solution 4.216 at 0x20f4d7a20d0>"
      ]
     },
     "execution_count": 6,
     "metadata": {},
     "output_type": "execute_result"
    }
   ],
   "source": [
    "complete(model)\n",
    "model.optimize()"
   ]
  },
  {
   "cell_type": "markdown",
   "id": "678b93ec-7da8-486a-ab2d-f451c94fd3cb",
   "metadata": {},
   "source": [
    "## 2a. Identify Genes and Reactions to Add from CarveME"
   ]
  },
  {
   "cell_type": "code",
   "execution_count": 7,
   "id": "efa507e4-e9d4-471a-8836-299016a75c30",
   "metadata": {},
   "outputs": [
    {
     "name": "stdout",
     "output_type": "stream",
     "text": [
      "['NGO0057', 'NGO0059', 'NGO0063', 'NGO0084', 'NGO0085', 'NGO0114', 'NGO0176', 'NGO0177', 'NGO0186', 'NGO0188', 'NGO0189', 'NGO0199', 'NGO0231', 'NGO0294', 'NGO0351', 'NGO0382', 'NGO0387', 'NGO0388', 'NGO0541', 'NGO0567', 'NGO0571', 'NGO0604', 'NGO0608', 'NGO0632', 'NGO0633', 'NGO0652', 'NGO0653', 'NGO0659', 'NGO0676', 'NGO0718', 'NGO0763', 'NGO0829', 'NGO0830', 'NGO0842', 'NGO0858', 'NGO0886', 'NGO0902', 'NGO0904', 'NGO0905', 'NGO0906', 'NGO0934', 'NGO0941', 'NGO0974', 'NGO1032', 'NGO1033', 'NGO1047', 'NGO1052', 'NGO1055', 'NGO1154', 'NGO1204', 'NGO1207', 'NGO1226', 'NGO1227', 'NGO1243', 'NGO1298', 'NGO1323', 'NGO1325', 'NGO1334', 'NGO1364', 'NGO1365', 'NGO1381', 'NGO1404', 'NGO1432', 'NGO1433', 'NGO1434', 'NGO1454', 'NGO1530', 'NGO1559', 'NGO1577', 'NGO1684', 'NGO1686', 'NGO1692', 'NGO1722', 'NGO1732', 'NGO1733', 'NGO1753', 'NGO1769', 'NGO1858', 'NGO1866', 'NGO1922', 'NGO1930', 'NGO1963', 'NGO1977', 'NGO1990', 'NGO2011', 'NGO2012', 'NGO2013', 'NGO2014', 'NGO2015', 'NGO2027', 'NGO2033', 'NGO2040', 'NGO2055', 'NGO2100', 'NGO2113', 'NGO2135', 'NGO2171', 'NGO2172']\n"
     ]
    },
    {
     "name": "stderr",
     "output_type": "stream",
     "text": [
      "<ipython-input-7-1829916bf6eb>:18: FutureWarning: The default value of regex will change from True to False in a future version. In addition, single character regular expressions will*not* be treated as literal strings when regex=True.\n",
      "  annotation_table['ProteinID'] = annotation_table['ProteinID'].str.replace('.', '_')\n"
     ]
    }
   ],
   "source": [
    "#Identify genes/reactions to add to the model from carveme\n",
    "model_genes  = []\n",
    "for gene in model.genes:\n",
    "    model_genes.append(gene.id)\n",
    "\n",
    "#Get list of genes from Carveme model for FA1090 in NGO format\n",
    "carveme_model_genes= list()\n",
    "for gene in carveme_model.genes:\n",
    "    carveme_model_genes.append(gene.id)\n",
    "carveme_model_genes\n",
    "\n",
    "#Use look_back table of annotations from https://www.ncbi.nlm.nih.gov/pmc/articles/PMC5399841/\n",
    "annotation_table = pd.read_csv (cwd+'/Gc_GENRE_2022/Curate_Gc_Model/Annotation_resources/look_back_table.csv', usecols= ['Locus Tag ID','Protein.ID'])\n",
    "annotation_table=annotation_table.rename(columns={'Protein.ID': 'ProteinID', 'Locus Tag ID': \"NGO_ID\"})\n",
    "annotation_table\n",
    "                        \n",
    "#Match id format between kegg and model\n",
    "annotation_table['ProteinID'] = annotation_table['ProteinID'].str.replace('.', '_')\n",
    "\n",
    "annotatedgenes= annotation_table[annotation_table.ProteinID.isin(carveme_model_genes)]\n",
    "converted_carveme_model_genes= list()\n",
    "for tag in annotatedgenes['NGO_ID']:\n",
    "        converted_carveme_model_genes.append(tag)\n",
    "        \n",
    "unique_genes_carveme = set(converted_carveme_model_genes) - set(model_genes) # correct elements, but not yet in sorted order\n",
    "print(sorted(unique_genes_carveme)) # sort and print\n",
    "\n"
   ]
  },
  {
   "cell_type": "code",
   "execution_count": 8,
   "id": "4ee5b23f-6c59-4eb7-8b27-1585980a8dee",
   "metadata": {},
   "outputs": [],
   "source": [
    "#Add NGOIDs to the carveme model as an annotation\n",
    "for gene in annotatedgenes['ProteinID']:\n",
    "    if gene in carveme_model.genes:\n",
    "        row=annotatedgenes.index[annotatedgenes['ProteinID']==gene]\n",
    "        id=annotatedgenes['NGO_ID']\n",
    "        annotation =id.loc[row].item()\n",
    "        carveme_model.genes.get_by_id(gene).annotation['NGO_ID']= annotation"
   ]
  },
  {
   "cell_type": "code",
   "execution_count": 9,
   "id": "18802025-aec1-4f4b-a3c5-0ac9d4d59345",
   "metadata": {},
   "outputs": [
    {
     "data": {
      "text/html": [
       "<div>\n",
       "<style scoped>\n",
       "    .dataframe tbody tr th:only-of-type {\n",
       "        vertical-align: middle;\n",
       "    }\n",
       "\n",
       "    .dataframe tbody tr th {\n",
       "        vertical-align: top;\n",
       "    }\n",
       "\n",
       "    .dataframe thead th {\n",
       "        text-align: right;\n",
       "    }\n",
       "</style>\n",
       "<table border=\"1\" class=\"dataframe\">\n",
       "  <thead>\n",
       "    <tr style=\"text-align: right;\">\n",
       "      <th></th>\n",
       "      <th>carvemegenes</th>\n",
       "      <th>NGO_IDs</th>\n",
       "      <th>carvemereactions</th>\n",
       "    </tr>\n",
       "  </thead>\n",
       "  <tbody>\n",
       "    <tr>\n",
       "      <th>0</th>\n",
       "      <td>YP_208072_1</td>\n",
       "      <td>{'NGO_ID': 'NGO0974'}</td>\n",
       "      <td>[2AGPGAT120: 2agpg120_c + atp_c + ddca_c --&gt; a...</td>\n",
       "    </tr>\n",
       "    <tr>\n",
       "      <th>1</th>\n",
       "      <td>YP_208834_1</td>\n",
       "      <td>{'NGO_ID': 'NGO1804'}</td>\n",
       "      <td>[C160SN: actACP_c + 20.0 h_c + 6.0 malACP_c + ...</td>\n",
       "    </tr>\n",
       "    <tr>\n",
       "      <th>2</th>\n",
       "      <td>YP_209169_1</td>\n",
       "      <td>{'NGO_ID': 'NGO2163'}</td>\n",
       "      <td>[C160SN: actACP_c + 20.0 h_c + 6.0 malACP_c + ...</td>\n",
       "    </tr>\n",
       "    <tr>\n",
       "      <th>3</th>\n",
       "      <td>YP_208796_1</td>\n",
       "      <td>{'NGO_ID': 'NGO1763'}</td>\n",
       "      <td>[C160SN: actACP_c + 20.0 h_c + 6.0 malACP_c + ...</td>\n",
       "    </tr>\n",
       "    <tr>\n",
       "      <th>4</th>\n",
       "      <td>YP_209174_1</td>\n",
       "      <td>{'NGO_ID': 'NGO2168'}</td>\n",
       "      <td>[3OAS160: h_c + malACP_c + myrsACP_c --&gt; 3opal...</td>\n",
       "    </tr>\n",
       "    <tr>\n",
       "      <th>...</th>\n",
       "      <td>...</td>\n",
       "      <td>...</td>\n",
       "      <td>...</td>\n",
       "    </tr>\n",
       "    <tr>\n",
       "      <th>505</th>\n",
       "      <td>YP_207518_1</td>\n",
       "      <td>{'NGO_ID': 'NGO0362'}</td>\n",
       "      <td>[UPPDC1: 4.0 h_c + uppg3_c --&gt; 4.0 co2_c + cpp...</td>\n",
       "    </tr>\n",
       "    <tr>\n",
       "      <th>506</th>\n",
       "      <td>YP_207509_1</td>\n",
       "      <td>{'NGO_ID': 'NGO0353'}</td>\n",
       "      <td>[UPPRT: prpp_c + ura_c --&gt; ppi_c + ump_c]</td>\n",
       "    </tr>\n",
       "    <tr>\n",
       "      <th>507</th>\n",
       "      <td>YP_207732_1</td>\n",
       "      <td>{'NGO_ID': 'NGO0589'}</td>\n",
       "      <td>[URAt: ura_e &lt;=&gt; ura_c, URAt2: h_e + ura_e --&gt;...</td>\n",
       "    </tr>\n",
       "    <tr>\n",
       "      <th>508</th>\n",
       "      <td>YP_208502_1</td>\n",
       "      <td>{'NGO_ID': 'NGO1448'}</td>\n",
       "      <td>[USHD: h2o_c + u23ga_c --&gt; 2.0 h_c + lipidX_c ...</td>\n",
       "    </tr>\n",
       "    <tr>\n",
       "      <th>509</th>\n",
       "      <td>YP_207255_1</td>\n",
       "      <td>{'NGO_ID': 'NGO0082'}</td>\n",
       "      <td>[VPAMTr: 3mob_c + ala__L_c --&gt; pyr_c + val__L_c]</td>\n",
       "    </tr>\n",
       "  </tbody>\n",
       "</table>\n",
       "<p>510 rows × 3 columns</p>\n",
       "</div>"
      ],
      "text/plain": [
       "    carvemegenes                NGO_IDs  \\\n",
       "0    YP_208072_1  {'NGO_ID': 'NGO0974'}   \n",
       "1    YP_208834_1  {'NGO_ID': 'NGO1804'}   \n",
       "2    YP_209169_1  {'NGO_ID': 'NGO2163'}   \n",
       "3    YP_208796_1  {'NGO_ID': 'NGO1763'}   \n",
       "4    YP_209174_1  {'NGO_ID': 'NGO2168'}   \n",
       "..           ...                    ...   \n",
       "505  YP_207518_1  {'NGO_ID': 'NGO0362'}   \n",
       "506  YP_207509_1  {'NGO_ID': 'NGO0353'}   \n",
       "507  YP_207732_1  {'NGO_ID': 'NGO0589'}   \n",
       "508  YP_208502_1  {'NGO_ID': 'NGO1448'}   \n",
       "509  YP_207255_1  {'NGO_ID': 'NGO0082'}   \n",
       "\n",
       "                                      carvemereactions  \n",
       "0    [2AGPGAT120: 2agpg120_c + atp_c + ddca_c --> a...  \n",
       "1    [C160SN: actACP_c + 20.0 h_c + 6.0 malACP_c + ...  \n",
       "2    [C160SN: actACP_c + 20.0 h_c + 6.0 malACP_c + ...  \n",
       "3    [C160SN: actACP_c + 20.0 h_c + 6.0 malACP_c + ...  \n",
       "4    [3OAS160: h_c + malACP_c + myrsACP_c --> 3opal...  \n",
       "..                                                 ...  \n",
       "505  [UPPDC1: 4.0 h_c + uppg3_c --> 4.0 co2_c + cpp...  \n",
       "506          [UPPRT: prpp_c + ura_c --> ppi_c + ump_c]  \n",
       "507  [URAt: ura_e <=> ura_c, URAt2: h_e + ura_e -->...  \n",
       "508  [USHD: h2o_c + u23ga_c --> 2.0 h_c + lipidX_c ...  \n",
       "509   [VPAMTr: 3mob_c + ala__L_c --> pyr_c + val__L_c]  \n",
       "\n",
       "[510 rows x 3 columns]"
      ]
     },
     "execution_count": 9,
     "metadata": {},
     "output_type": "execute_result"
    }
   ],
   "source": [
    "carvemegenes = []\n",
    "carvemengoids=[]\n",
    "carvemereactions = []\n",
    "\n",
    "\n",
    "for gene in carveme_model.genes:\n",
    "    carvemegenes.append(gene.id)\n",
    "    carvemengoids.append(gene.annotation)\n",
    "    sets=list(gene.reactions)\n",
    "    rxnlist=[]\n",
    "    for x in sets:\n",
    "        rxnlist.append(x)\n",
    "    carvemereactions.append(rxnlist)\n",
    "\n",
    "dict = {'carvemegenes': carvemegenes, 'NGO_IDs':carvemengoids,'carvemereactions':carvemereactions}\n",
    "carvemegenes_reactions_DF = pandas.DataFrame(dict)\n",
    "carvemegenes_reactions_DF.to_csv(cwd+'/Gc_GENRE_2022/Curate_Gc_Model/Annotation_resources/carveme_genes_reactions.csv')\n",
    "carvemegenes_reactions_DF"
   ]
  },
  {
   "cell_type": "code",
   "execution_count": 10,
   "id": "6aef0c34-c1db-4088-9a48-a4093525693a",
   "metadata": {},
   "outputs": [],
   "source": [
    "carveme_model.metabolites.ala__L_c.id ='ala_L_c'\n",
    "carveme_model.metabolites.glu__L_c.id ='glu_L_c'"
   ]
  },
  {
   "cell_type": "code",
   "execution_count": 11,
   "id": "c5339d48-ade9-4466-a11d-f66a7c8763ca",
   "metadata": {},
   "outputs": [
    {
     "data": {
      "text/html": [
       "\n",
       "        <table>\n",
       "            <tr>\n",
       "                <td><strong>Reaction identifier</strong></td><td>ALATA_L</td>\n",
       "            </tr><tr>\n",
       "                <td><strong>Name</strong></td><td>L-alanine transaminase</td>\n",
       "            </tr><tr>\n",
       "                <td><strong>Memory address</strong></td>\n",
       "                <td>0x020f4c812c40</td>\n",
       "            </tr><tr>\n",
       "                <td><strong>Stoichiometry</strong></td>\n",
       "                <td>\n",
       "                    <p style='text-align:right'>akg_c + ala_L_c <=> glu_L_c + pyr_c</p>\n",
       "                    <p style='text-align:right'>2-Oxoglutarate + L-Alanine <=> L-Glutamate + Pyruvate</p>\n",
       "                </td>\n",
       "            </tr><tr>\n",
       "                <td><strong>GPR</strong></td><td>NGO1047</td>\n",
       "            </tr><tr>\n",
       "                <td><strong>Lower bound</strong></td><td>-1000.0</td>\n",
       "            </tr><tr>\n",
       "                <td><strong>Upper bound</strong></td><td>1000.0</td>\n",
       "            </tr>\n",
       "        </table>\n",
       "        "
      ],
      "text/plain": [
       "<Reaction ALATA_L at 0x20f4c812c40>"
      ]
     },
     "execution_count": 11,
     "metadata": {},
     "output_type": "execute_result"
    }
   ],
   "source": [
    "ALATA_L =carvememodel.reactions.get_by_id('ALATA_L')\n",
    "carvememodel.reactions.get_by_id('ALATA_L').gene_reaction_rule='NGO1047'\n",
    "model.add_reactions([ALATA_L])\n",
    "model.reactions.get_by_id('ALATA_L')"
   ]
  },
  {
   "cell_type": "code",
   "execution_count": 12,
   "id": "d9dd3cb2-db17-47b5-95a1-977c31b5a0ce",
   "metadata": {},
   "outputs": [
    {
     "data": {
      "text/html": [
       "\n",
       "        <table>\n",
       "            <tr>\n",
       "                <td><strong>Reaction identifier</strong></td><td>AP4AH</td>\n",
       "            </tr><tr>\n",
       "                <td><strong>Name</strong></td><td>Ap4A hydrolase</td>\n",
       "            </tr><tr>\n",
       "                <td><strong>Memory address</strong></td>\n",
       "                <td>0x020f4cf2ad30</td>\n",
       "            </tr><tr>\n",
       "                <td><strong>Stoichiometry</strong></td>\n",
       "                <td>\n",
       "                    <p style='text-align:right'>ap4a_c + h2o_c --> 2.0 adp_c + 2.0 h_c</p>\n",
       "                    <p style='text-align:right'>P1,P4-Bis(5'-adenosyl) tetraphosphate + H2O --> 2.0 ADP + 2.0 H</p>\n",
       "                </td>\n",
       "            </tr><tr>\n",
       "                <td><strong>GPR</strong></td><td>NGO0231</td>\n",
       "            </tr><tr>\n",
       "                <td><strong>Lower bound</strong></td><td>0.0</td>\n",
       "            </tr><tr>\n",
       "                <td><strong>Upper bound</strong></td><td>1000.0</td>\n",
       "            </tr>\n",
       "        </table>\n",
       "        "
      ],
      "text/plain": [
       "<Reaction AP4AH at 0x20f4cf2ad30>"
      ]
     },
     "execution_count": 12,
     "metadata": {},
     "output_type": "execute_result"
    }
   ],
   "source": [
    "AP4AH =carvememodel.reactions.get_by_id('AP4AH')\n",
    "carvememodel.reactions.get_by_id('AP4AH').gene_reaction_rule='NGO0231'\n",
    "model.add_reactions([AP4AH])\n",
    "model.reactions.get_by_id('AP4AH')\n"
   ]
  },
  {
   "cell_type": "code",
   "execution_count": 13,
   "id": "8d1c535c-e2f6-402b-83e9-64ab757f012f",
   "metadata": {},
   "outputs": [
    {
     "name": "stdout",
     "output_type": "stream",
     "text": [
      "NGO0872\n",
      "NGO0872 and NGO1204\n"
     ]
    }
   ],
   "source": [
    "#ANS already exists in annotated Gc model, the model GPR should require NGO9872 and NGO1204\n",
    "print (model.reactions.get_by_id('ANS').gene_reaction_rule)\n",
    "model.reactions.get_by_id('ANS').gene_reaction_rule='NGO0872 and NGO1204'\n",
    "print (model.reactions.get_by_id('ANS').gene_reaction_rule)"
   ]
  },
  {
   "cell_type": "code",
   "execution_count": 14,
   "id": "b3336b5f-5920-40c0-9270-98aa47c05a08",
   "metadata": {},
   "outputs": [
    {
     "data": {
      "text/html": [
       "\n",
       "        <table>\n",
       "            <tr>\n",
       "                <td><strong>Reaction identifier</strong></td><td>BTDD_RR</td>\n",
       "            </tr><tr>\n",
       "                <td><strong>Name</strong></td><td>R R butanediol dehydrogenase</td>\n",
       "            </tr><tr>\n",
       "                <td><strong>Memory address</strong></td>\n",
       "                <td>0x020f4d204ac0</td>\n",
       "            </tr><tr>\n",
       "                <td><strong>Stoichiometry</strong></td>\n",
       "                <td>\n",
       "                    <p style='text-align:right'>btd_RR_c + nad_c <=> actn__R_c + h_c + nadh_c</p>\n",
       "                    <p style='text-align:right'>R R 2 3 Butanediol C4H10O2 + Nicotinamide-adenine-dinucleotide <=> R Acetoin C4H8O2 + H + Nicotinamide-adenine-dinucleotide--reduced</p>\n",
       "                </td>\n",
       "            </tr><tr>\n",
       "                <td><strong>GPR</strong></td><td>NGO0186</td>\n",
       "            </tr><tr>\n",
       "                <td><strong>Lower bound</strong></td><td>-1000.0</td>\n",
       "            </tr><tr>\n",
       "                <td><strong>Upper bound</strong></td><td>1000.0</td>\n",
       "            </tr>\n",
       "        </table>\n",
       "        "
      ],
      "text/plain": [
       "<Reaction BTDD_RR at 0x20f4d204ac0>"
      ]
     },
     "execution_count": 14,
     "metadata": {},
     "output_type": "execute_result"
    }
   ],
   "source": [
    "BTDD_RR =carvememodel.reactions.get_by_id('BTDD_RR')\n",
    "carvememodel.reactions.get_by_id('BTDD_RR').gene_reaction_rule='NGO0186'\n",
    "model.add_reactions([BTDD_RR])\n",
    "model.reactions.get_by_id('BTDD_RR')"
   ]
  },
  {
   "cell_type": "code",
   "execution_count": 15,
   "id": "d599c509-c695-46aa-afc9-7dfe6174af82",
   "metadata": {},
   "outputs": [
    {
     "data": {
      "text/html": [
       "\n",
       "        <table>\n",
       "            <tr>\n",
       "                <td><strong>Reaction identifier</strong></td><td>CYTOM</td>\n",
       "            </tr><tr>\n",
       "                <td><strong>Name</strong></td><td>Cytosine 5 methyltransferase</td>\n",
       "            </tr><tr>\n",
       "                <td><strong>Memory address</strong></td>\n",
       "                <td>0x020f4aeeaa00</td>\n",
       "            </tr><tr>\n",
       "                <td><strong>Stoichiometry</strong></td>\n",
       "                <td>\n",
       "                    <p style='text-align:right'>amet_c + csn_c <=> 5mcsn_c + ahcys_c + h_c</p>\n",
       "                    <p style='text-align:right'>S-Adenosyl-L-methionine + Cytosine <=> 5-Methylcytosine + S-Adenosyl-L-homocysteine + H</p>\n",
       "                </td>\n",
       "            </tr><tr>\n",
       "                <td><strong>GPR</strong></td><td>NGO0676</td>\n",
       "            </tr><tr>\n",
       "                <td><strong>Lower bound</strong></td><td>-1000.0</td>\n",
       "            </tr><tr>\n",
       "                <td><strong>Upper bound</strong></td><td>1000.0</td>\n",
       "            </tr>\n",
       "        </table>\n",
       "        "
      ],
      "text/plain": [
       "<Reaction CYTOM at 0x20f4aeeaa00>"
      ]
     },
     "execution_count": 15,
     "metadata": {},
     "output_type": "execute_result"
    }
   ],
   "source": [
    "CYTOM =carvememodel.reactions.get_by_id('CYTOM')\n",
    "carvememodel.reactions.get_by_id('CYTOM').gene_reaction_rule='NGO0676'\n",
    "model.add_reactions([CYTOM])\n",
    "model.reactions.get_by_id('CYTOM')"
   ]
  },
  {
   "cell_type": "code",
   "execution_count": 16,
   "id": "e5454a17-a94e-44ca-9da6-26ea5f3927e1",
   "metadata": {},
   "outputs": [
    {
     "data": {
      "text/html": [
       "\n",
       "        <table>\n",
       "            <tr>\n",
       "                <td><strong>Reaction identifier</strong></td><td>DNTPPA</td>\n",
       "            </tr><tr>\n",
       "                <td><strong>Name</strong></td><td>R_DNTPPA</td>\n",
       "            </tr><tr>\n",
       "                <td><strong>Memory address</strong></td>\n",
       "                <td>0x020f45d0aeb0</td>\n",
       "            </tr><tr>\n",
       "                <td><strong>Stoichiometry</strong></td>\n",
       "                <td>\n",
       "                    <p style='text-align:right'>ahdt_c + h2o_c --> dhpmp_c + h_c + ppi_c</p>\n",
       "                    <p style='text-align:right'>2-Amino-4-hydroxy-6-erythro-1-2-3-trihydroxypropyl-dihydropteridine-triphosphate + H2O --> Dihydroneopterin-monophosphate + H + Diphosphate</p>\n",
       "                </td>\n",
       "            </tr><tr>\n",
       "                <td><strong>GPR</strong></td><td>NGO0224</td>\n",
       "            </tr><tr>\n",
       "                <td><strong>Lower bound</strong></td><td>0.0</td>\n",
       "            </tr><tr>\n",
       "                <td><strong>Upper bound</strong></td><td>999999.0</td>\n",
       "            </tr>\n",
       "        </table>\n",
       "        "
      ],
      "text/plain": [
       "<Reaction DNTPPA at 0x20f45d0aeb0>"
      ]
     },
     "execution_count": 16,
     "metadata": {},
     "output_type": "execute_result"
    }
   ],
   "source": [
    "#The gene currently indicated for this reaction is NGO1506 - however KEGG annotates this gene as a 8-oxo-dGTP diphosphatase (MutT), KEGG reaction \t R09832\n",
    "#CARVEME indicates this reactions is produced by NGO1334. However this gene is annotated as a putative RNA pyrophosphohydrolase. The function isn't clear. \n",
    "# Replacing with the KEGG annotated gene for this reaction NGO0224\n",
    "\n",
    "DNTPPA =carvememodel.reactions.get_by_id('DNTPPA')\n",
    "model.reactions.get_by_id('DNTPPA').gene_reaction_rule='NGO0224'\n",
    "model.reactions.get_by_id('DNTPPA')\n"
   ]
  },
  {
   "cell_type": "code",
   "execution_count": 17,
   "id": "89cc2187-e7e2-42a1-b47e-c4e09f75f24f",
   "metadata": {},
   "outputs": [
    {
     "data": {
      "text/html": [
       "\n",
       "        <table>\n",
       "            <tr>\n",
       "                <td><strong>Reaction identifier</strong></td><td>DNMPPA</td>\n",
       "            </tr><tr>\n",
       "                <td><strong>Name</strong></td><td>R_DNMPPA</td>\n",
       "            </tr><tr>\n",
       "                <td><strong>Memory address</strong></td>\n",
       "                <td>0x020f45d0a940</td>\n",
       "            </tr><tr>\n",
       "                <td><strong>Stoichiometry</strong></td>\n",
       "                <td>\n",
       "                    <p style='text-align:right'>dhpmp_c + h2o_c --> dhnpt_c + pi_c</p>\n",
       "                    <p style='text-align:right'>Dihydroneopterin-monophosphate + H2O --> Dihydroneopterin + Phosphate</p>\n",
       "                </td>\n",
       "            </tr><tr>\n",
       "                <td><strong>GPR</strong></td><td>NGO1334</td>\n",
       "            </tr><tr>\n",
       "                <td><strong>Lower bound</strong></td><td>0.0</td>\n",
       "            </tr><tr>\n",
       "                <td><strong>Upper bound</strong></td><td>999999.0</td>\n",
       "            </tr>\n",
       "        </table>\n",
       "        "
      ],
      "text/plain": [
       "<Reaction DNMPPA at 0x20f45d0a940>"
      ]
     },
     "execution_count": 17,
     "metadata": {},
     "output_type": "execute_result"
    }
   ],
   "source": [
    "#DNMPPA is not annotated in KEGG, but is predicted to use an enzyme with E.C. number 3.6.1-, and is listed as an orphan gene in the current model. \n",
    "#I am tentatively de-orphaning the gene by adding the annotation from CARVEME for NGO1334\n",
    "\n",
    "DNMPPA =carvememodel.reactions.get_by_id('DNMPPA')\n",
    "model.reactions.get_by_id('DNMPPA').gene_reaction_rule='NGO1334'\n",
    "model.reactions.get_by_id('DNMPPA')"
   ]
  },
  {
   "cell_type": "code",
   "execution_count": 18,
   "id": "b916baf7-c05d-4e30-b33a-ff671ca05cb7",
   "metadata": {},
   "outputs": [
    {
     "data": {
      "text/html": [
       "\n",
       "        <table>\n",
       "            <tr>\n",
       "                <td><strong>Reaction identifier</strong></td><td>FADRx</td>\n",
       "            </tr><tr>\n",
       "                <td><strong>Name</strong></td><td>FAD reductase</td>\n",
       "            </tr><tr>\n",
       "                <td><strong>Memory address</strong></td>\n",
       "                <td>0x020f4b077760</td>\n",
       "            </tr><tr>\n",
       "                <td><strong>Stoichiometry</strong></td>\n",
       "                <td>\n",
       "                    <p style='text-align:right'>fad_c + h_c + nadh_c --> fadh2_c + nad_c</p>\n",
       "                    <p style='text-align:right'>Flavin-adenine-dinucleotide-oxidized + H + Nicotinamide-adenine-dinucleotide--reduced --> Flavin-adenine-dinucleotide-reduced + Nicotinamide-adenine-dinucleotide</p>\n",
       "                </td>\n",
       "            </tr><tr>\n",
       "                <td><strong>GPR</strong></td><td>NGO0059</td>\n",
       "            </tr><tr>\n",
       "                <td><strong>Lower bound</strong></td><td>0.0</td>\n",
       "            </tr><tr>\n",
       "                <td><strong>Upper bound</strong></td><td>1000.0</td>\n",
       "            </tr>\n",
       "        </table>\n",
       "        "
      ],
      "text/plain": [
       "<Reaction FADRx at 0x20f4b077760>"
      ]
     },
     "execution_count": 18,
     "metadata": {},
     "output_type": "execute_result"
    }
   ],
   "source": [
    "#CARVEME indicates FADRx uses NGO0059 or NGO0659. However NGO0659 has different annotations in KEGG that do not match this function. Removed NGO0659. \n",
    "FADRx =carvememodel.reactions.get_by_id('FADRx')\n",
    "carvememodel.reactions.get_by_id('FADRx').gene_reaction_rule='NGO0059'\n",
    "model.add_reactions([FADRx])\n",
    "model.reactions.get_by_id('FADRx')"
   ]
  },
  {
   "cell_type": "code",
   "execution_count": 19,
   "id": "c1f70d1f-e1c5-4326-95f2-2a330b2094d9",
   "metadata": {},
   "outputs": [
    {
     "data": {
      "text/html": [
       "\n",
       "        <table>\n",
       "            <tr>\n",
       "                <td><strong>Reaction identifier</strong></td><td>HPA3MO</td>\n",
       "            </tr><tr>\n",
       "                <td><strong>Name</strong></td><td>4 hydroxyphenylacetate 3 monooxygenase nadh</td>\n",
       "            </tr><tr>\n",
       "                <td><strong>Memory address</strong></td>\n",
       "                <td>0x020f5366b4f0</td>\n",
       "            </tr><tr>\n",
       "                <td><strong>Stoichiometry</strong></td>\n",
       "                <td>\n",
       "                    <p style='text-align:right'>4hphac_c + h_c + nadh_c + o2_c --> 34dhpha_c + h2o_c + nad_c</p>\n",
       "                    <p style='text-align:right'>4-Hydroxyphenylacetate + H + Nicotinamide-adenine-dinucleotide--reduced + O2 --> 3-4-Dihydroxyphenylacetate + H2O + Nicotinamide-adenine-dinucleotide</p>\n",
       "                </td>\n",
       "            </tr><tr>\n",
       "                <td><strong>GPR</strong></td><td>NGO0059</td>\n",
       "            </tr><tr>\n",
       "                <td><strong>Lower bound</strong></td><td>0.0</td>\n",
       "            </tr><tr>\n",
       "                <td><strong>Upper bound</strong></td><td>1000.0</td>\n",
       "            </tr>\n",
       "        </table>\n",
       "        "
      ],
      "text/plain": [
       "<Reaction HPA3MO at 0x20f5366b4f0>"
      ]
     },
     "execution_count": 19,
     "metadata": {},
     "output_type": "execute_result"
    }
   ],
   "source": [
    "#CARVEME and KEGG indicate presence of this reaction\n",
    "HPA3MO =carvememodel.reactions.get_by_id('HPA3MO')\n",
    "carvememodel.reactions.get_by_id('HPA3MO').gene_reaction_rule='NGO0059'\n",
    "model.add_reactions([HPA3MO])\n",
    "model.reactions.get_by_id('HPA3MO')"
   ]
  },
  {
   "cell_type": "code",
   "execution_count": 20,
   "id": "814ad6e8-da3e-4dac-8f40-4bf236237086",
   "metadata": {},
   "outputs": [
    {
     "data": {
      "text/html": [
       "\n",
       "        <table>\n",
       "            <tr>\n",
       "                <td><strong>Reaction identifier</strong></td><td>GLYCL</td>\n",
       "            </tr><tr>\n",
       "                <td><strong>Name</strong></td><td>R_GLYCL</td>\n",
       "            </tr><tr>\n",
       "                <td><strong>Memory address</strong></td>\n",
       "                <td>0x020f45e02eb0</td>\n",
       "            </tr><tr>\n",
       "                <td><strong>Stoichiometry</strong></td>\n",
       "                <td>\n",
       "                    <p style='text-align:right'>gly_c + nad_c + thf_c <=> co2_c + mlthf_c + nadh_c + nh4_c</p>\n",
       "                    <p style='text-align:right'>Glycine + Nicotinamide-adenine-dinucleotide + 5-6-7-8-Tetrahydrofolate <=> CO2 + 5-10-Methylenetetrahydrofolate + Nicotinamide-adenine-dinucleotide--reduced + Ammonium</p>\n",
       "                </td>\n",
       "            </tr><tr>\n",
       "                <td><strong>GPR</strong></td><td>NGO0562 and NGO0915 and NGO0925 and NGO1325 and NGO1404 and NGO1406</td>\n",
       "            </tr><tr>\n",
       "                <td><strong>Lower bound</strong></td><td>-999999.0</td>\n",
       "            </tr><tr>\n",
       "                <td><strong>Upper bound</strong></td><td>999999.0</td>\n",
       "            </tr>\n",
       "        </table>\n",
       "        "
      ],
      "text/plain": [
       "<Reaction GLYCL at 0x20f45e02eb0>"
      ]
     },
     "execution_count": 20,
     "metadata": {},
     "output_type": "execute_result"
    }
   ],
   "source": [
    "#Model has NGO1406 annotated for GLYCL. CARVEME has NGO1325 annotated. \n",
    "#The Glycine cleavage system is a functional system composed of 4 different components *H, P, T, and L. https://www.biocyc.org/GCF_000006845/NEW-IMAGE?type=PATHWAY&object=GLYCLEAV-PWY\n",
    "#All 4 components should be required for function of this system. As such, I am listing ALL 6 genes, indicated in KEGG, for this reaction. \n",
    "\n",
    "GLYCL =carvememodel.reactions.get_by_id('GLYCL')\n",
    "model.reactions.get_by_id('GLYCL').gene_reaction_rule='NGO0562 and NGO0915 and NGO0925 and NGO1325 and NGO1404 and NGO1406'\n",
    "model.reactions.get_by_id('GLYCL')"
   ]
  },
  {
   "cell_type": "code",
   "execution_count": 21,
   "id": "596df2f9-453d-4052-aca0-d91bc94672fd",
   "metadata": {},
   "outputs": [
    {
     "data": {
      "text/html": [
       "\n",
       "        <table>\n",
       "            <tr>\n",
       "                <td><strong>Reaction identifier</strong></td><td>GLYOX</td>\n",
       "            </tr><tr>\n",
       "                <td><strong>Name</strong></td><td>Hydroxyacylglutathione hydrolase</td>\n",
       "            </tr><tr>\n",
       "                <td><strong>Memory address</strong></td>\n",
       "                <td>0x020f4eff9d60</td>\n",
       "            </tr><tr>\n",
       "                <td><strong>Stoichiometry</strong></td>\n",
       "                <td>\n",
       "                    <p style='text-align:right'>h2o_c + lgt__S_c --> gthrd_c + h_c + lac__D_c</p>\n",
       "                    <p style='text-align:right'>H2O + (R)-S-Lactoylglutathione --> Reduced glutathione + H+ + D-Lactate</p>\n",
       "                </td>\n",
       "            </tr><tr>\n",
       "                <td><strong>GPR</strong></td><td>YP_208259_1 or YP_209053_1</td>\n",
       "            </tr><tr>\n",
       "                <td><strong>Lower bound</strong></td><td>0.0</td>\n",
       "            </tr><tr>\n",
       "                <td><strong>Upper bound</strong></td><td>1000.0</td>\n",
       "            </tr>\n",
       "        </table>\n",
       "        "
      ],
      "text/plain": [
       "<Reaction GLYOX at 0x20f4eff9d60>"
      ]
     },
     "execution_count": 21,
     "metadata": {},
     "output_type": "execute_result"
    }
   ],
   "source": [
    "#CARVEME indicated NGO2033\n",
    "#KEGG indicates NGO1187 AND NGO2033 participate in this reaction https://www.genome.jp/entry/ngo:NGO_1187+ngo:NGO_2033\n",
    "\n",
    "\n",
    "GLYOX =carvememodel.reactions.get_by_id('GLYOX')\n",
    "carvememodel.reactions.get_by_id('GLYOX')"
   ]
  },
  {
   "cell_type": "code",
   "execution_count": 22,
   "id": "7997a5f6-e58b-405b-b875-98fbf8ad9605",
   "metadata": {},
   "outputs": [
    {
     "data": {
      "text/html": [
       "\n",
       "        <table>\n",
       "            <tr>\n",
       "                <td><strong>Reaction identifier</strong></td><td>GLYOX</td>\n",
       "            </tr><tr>\n",
       "                <td><strong>Name</strong></td><td>R_GLYOX</td>\n",
       "            </tr><tr>\n",
       "                <td><strong>Memory address</strong></td>\n",
       "                <td>0x020f45e0e7f0</td>\n",
       "            </tr><tr>\n",
       "                <td><strong>Stoichiometry</strong></td>\n",
       "                <td>\n",
       "                    <p style='text-align:right'>h2o_c + lgt_S_c <=> gthrd_c + h_c + lac_D_c</p>\n",
       "                    <p style='text-align:right'>H2O + R-S-Lactoylglutathione <=> Reduced-glutathione + H + D-Lactate</p>\n",
       "                </td>\n",
       "            </tr><tr>\n",
       "                <td><strong>GPR</strong></td><td>NGO1187</td>\n",
       "            </tr><tr>\n",
       "                <td><strong>Lower bound</strong></td><td>-999999.0</td>\n",
       "            </tr><tr>\n",
       "                <td><strong>Upper bound</strong></td><td>999999.0</td>\n",
       "            </tr>\n",
       "        </table>\n",
       "        "
      ],
      "text/plain": [
       "<Reaction GLYOX at 0x20f45e0e7f0>"
      ]
     },
     "execution_count": 22,
     "metadata": {},
     "output_type": "execute_result"
    }
   ],
   "source": [
    "model.reactions.get_by_id('HPA3MO').gene_reaction_rule='NGO1187 and NGO2033'\n",
    "model.reactions.get_by_id('GLYOX')"
   ]
  },
  {
   "cell_type": "code",
   "execution_count": 23,
   "id": "e46c0c19-9bdc-441c-9d6e-4cb002663f0f",
   "metadata": {},
   "outputs": [
    {
     "data": {
      "text/html": [
       "\n",
       "        <table>\n",
       "            <tr>\n",
       "                <td><strong>Reaction identifier</strong></td><td>GTPCI</td>\n",
       "            </tr><tr>\n",
       "                <td><strong>Name</strong></td><td>R_GTPCI</td>\n",
       "            </tr><tr>\n",
       "                <td><strong>Memory address</strong></td>\n",
       "                <td>0x020f45e1bca0</td>\n",
       "            </tr><tr>\n",
       "                <td><strong>Stoichiometry</strong></td>\n",
       "                <td>\n",
       "                    <p style='text-align:right'>gtp_c + h2o_c --> ahdt_c + for_c + h_c</p>\n",
       "                    <p style='text-align:right'>GTP + H2O --> 2-Amino-4-hydroxy-6-erythro-1-2-3-trihydroxypropyl-dihydropteridine-triphosphate + Formate + H</p>\n",
       "                </td>\n",
       "            </tr><tr>\n",
       "                <td><strong>GPR</strong></td><td>NGO0387</td>\n",
       "            </tr><tr>\n",
       "                <td><strong>Lower bound</strong></td><td>0.0</td>\n",
       "            </tr><tr>\n",
       "                <td><strong>Upper bound</strong></td><td>999999.0</td>\n",
       "            </tr>\n",
       "        </table>\n",
       "        "
      ],
      "text/plain": [
       "<Reaction GTPCI at 0x20f45e1bca0>"
      ]
     },
     "execution_count": 23,
     "metadata": {},
     "output_type": "execute_result"
    }
   ],
   "source": [
    "#CARVEME indicates NGO0387 as performing this reaction, and so does KEGG. https://www.genome.jp/entry/ngo:NGO_0387\n",
    "GTPCI =carvememodel.reactions.get_by_id('GTPCI')\n",
    "model.reactions.get_by_id('GTPCI').gene_reaction_rule='NGO0387'\n",
    "model.reactions.get_by_id('GTPCI')"
   ]
  },
  {
   "cell_type": "code",
   "execution_count": 24,
   "id": "3f5b7273-3e11-4167-a0c1-5c17ce7697f7",
   "metadata": {},
   "outputs": [
    {
     "name": "stderr",
     "output_type": "stream",
     "text": [
      "Ignoring reaction 'G3PAT120' since it already exists.\n",
      "Ignoring reaction 'G3PAT180' since it already exists.\n",
      "Ignoring reaction 'G3PAT181' since it already exists.\n",
      "Ignoring reaction 'G3PAT140' since it already exists.\n",
      "Ignoring reaction 'G3PAT160' since it already exists.\n"
     ]
    }
   ],
   "source": [
    "#Adding reactions according to PMCID: PMC4697154/PMID: 26567338 which are conducted by plsX (Ngo2151)\n",
    "x = ['ACPPAT161' , 'G3PAT120' , 'ACPPAT181' , 'G3PAT180' , 'ACPPAT120' , 'G3PAT181' , 'ACPPAT141' , 'G3PAT140' , 'ACPPAT160' , 'G3PAT161' , 'G3PAT160' , 'ACPPAT140' , 'ACPPAT180']\n",
    "for r in x:\n",
    "    reaction =carvememodel.reactions.get_by_id(r)\n",
    "    reaction.gene_reaction_rule='NGO2171'\n",
    "    model.add_reactions([reaction])"
   ]
  },
  {
   "cell_type": "code",
   "execution_count": 25,
   "id": "afce3792-710a-44a9-b308-6787ce13ae23",
   "metadata": {},
   "outputs": [],
   "source": [
    "#providing gene for orphan reactions according to PMCID: PMC4697154/PMID: 26567338 which are conducted by plsX (Ngo2151)\n",
    "x = ['G3PAT120' , 'G3PAT180' , 'G3PAT181' , 'G3PAT140' , 'G3PAT161' , 'G3PAT160' ]\n",
    "for r in x:\n",
    "    reaction =model.reactions.get_by_id(r)\n",
    "    reaction.gene_reaction_rule='NGO2171'\n"
   ]
  },
  {
   "cell_type": "code",
   "execution_count": 26,
   "id": "5f91ac1e-5fc9-48ba-a2f9-6ed1e7d0d62c",
   "metadata": {},
   "outputs": [],
   "source": [
    "#Adding reactions according to PMCID: PMC4697154/PMID: 26567338 which are conducted by plsY (Ngo2151)\n",
    "x = ['APG3PAT181' , 'APG3PAT160' , 'APG3PAT180' , 'APG3PAT120' , 'APG3PAT141' , 'APG3PAT161' , 'APG3PAT140']\n",
    "for r in x:\n",
    "    reaction =carvememodel.reactions.get_by_id(r)\n",
    "    reaction.gene_reaction_rule='NGO0858'\n",
    "    model.add_reactions([reaction])\n"
   ]
  },
  {
   "cell_type": "code",
   "execution_count": 27,
   "id": "ec7a676a-d761-4f72-89d0-ea28940a5ec6",
   "metadata": {},
   "outputs": [],
   "source": [
    "#Adding peptidase reaction\n",
    "x = ['AMPTASEPG']\n",
    "for r in x:\n",
    "    reaction =carvememodel.reactions.get_by_id(r)\n",
    "    reaction.gene_reaction_rule='NGO1227'\n",
    "    model.add_reactions([reaction])"
   ]
  },
  {
   "cell_type": "code",
   "execution_count": 28,
   "id": "51a15203-a6d4-4747-90d8-7a78ec04c1ef",
   "metadata": {},
   "outputs": [],
   "source": [
    "#cardiolipin has been in cultures of Gc PMCID: PMC235958/ PMID: 810478\n",
    "x = ['CLPNS181pp' , 'CLPNS141pp' , 'CLPNS140pp' , 'CLPNS160pp' , 'CLPNS120pp' , 'CLPNS161pp' , 'CLPNS180pp']\n",
    "for r in x:\n",
    "    reaction =carvememodel.reactions.get_by_id(r)\n",
    "    reaction.gene_reaction_rule='NGO0902'\n",
    "    model.add_reactions([reaction])"
   ]
  },
  {
   "cell_type": "code",
   "execution_count": 29,
   "id": "94f1d290-d806-4c51-8585-616a406e5db2",
   "metadata": {},
   "outputs": [
    {
     "name": "stdout",
     "output_type": "stream",
     "text": [
      "CYPOX: h2o2_c + 2.0 h_c --> 2.0 h2o_c\n",
      "{}\n"
     ]
    }
   ],
   "source": [
    "#reduction of H2O2 to water facilitated by cytochrome c peroxidase, with Laz as an electron donor. Laz is encoded by NGO0994\n",
    "reaction = cobra.Reaction('CYPOX')\n",
    "reaction.name = 'Cytochrome C Peroxidase'\n",
    "reaction.lower_bound = 0.  \n",
    "reaction.upper_bound = 1000.  \n",
    "reaction.gene_reaction_rule='NGO1769 and NGO0994'\n",
    "\n",
    "\n",
    "\n",
    "h_c=model.metabolites.get_by_id('h_c')\n",
    "h2o2= model.metabolites.get_by_id('h2o2_c')\n",
    "h2o_c=model.metabolites.get_by_id('h2o_c')\n",
    "\n",
    "reaction.add_metabolites({\n",
    "    h2o2: -1.0,\n",
    "    h_c: -2.0,\n",
    "    h2o_c: 2.0,\n",
    "})\n",
    "\n",
    "model.add_reactions([reaction])\n",
    "print(model.reactions.CYPOX)\n",
    "print(model.reactions.CYPOX.check_mass_balance())"
   ]
  },
  {
   "cell_type": "code",
   "execution_count": 30,
   "id": "bf69e346-07f9-40f8-b96e-fa8306c35c0f",
   "metadata": {},
   "outputs": [],
   "source": [
    "x = ['FLVR', 'FLVRx']\n",
    "for r in x:\n",
    "    reaction =carvememodel.reactions.get_by_id(r)\n",
    "    reaction.gene_reaction_rule='NGO0388'\n",
    "    model.add_reactions([reaction])"
   ]
  },
  {
   "cell_type": "code",
   "execution_count": 31,
   "id": "f0c4b073-07e7-4bf8-89e6-506a3f695918",
   "metadata": {},
   "outputs": [],
   "source": [
    "#This reaction is indicated as a bidirectional reaction in Bigg. However Kegg indicates it is \n",
    "#unidirection with NGO1977 performing the forward reaction and NGO1406 the reverse reaction (https://www.kegg.jp/pathway/ngo00670+NGO_1977)\n",
    "x = ['FOMETRi']\n",
    "for r in x:\n",
    "    reaction =carvememodel.reactions.get_by_id(r)\n",
    "    reaction.gene_reaction_rule='NGO1977 and NGO1406'\n",
    "    model.add_reactions([reaction])"
   ]
  },
  {
   "cell_type": "code",
   "execution_count": 32,
   "id": "d1ec5923-e846-4ce1-93e2-138b306d9052",
   "metadata": {},
   "outputs": [],
   "source": [
    "model.reactions.GLYCLTDx.gene_reaction_rule='NGO2043 or NGO1243'"
   ]
  },
  {
   "cell_type": "code",
   "execution_count": 33,
   "id": "ce651e2d-c6cc-4882-a290-3ac6694630d8",
   "metadata": {},
   "outputs": [],
   "source": [
    "x = ['GRXR']\n",
    "for r in x:\n",
    "    reaction =carvememodel.reactions.get_by_id(r)\n",
    "    reaction.gene_reaction_rule='NGO0114 or NGO1381 or NGO0351'\n",
    "    model.add_reactions([reaction])"
   ]
  },
  {
   "cell_type": "code",
   "execution_count": 34,
   "id": "bd2f687e-a99d-40ec-bbc7-e265b9c7d31f",
   "metadata": {},
   "outputs": [],
   "source": [
    "#Carveme did not correctly annotate NGO1684, (its Not GTPCI) but it does perform a reaction just downstream. \n",
    "#Involved in folate biosynthesis. Corrected and added the full pathway.\n",
    "#To include NGO0387 (GTPCI), NGO0131, NGO00720, NGO0129, NGO1684 (https://www.genome.jp/pathway/ngo00790+NGO_1684)\n",
    "x = ['PTHPS']\n",
    "for r in x:\n",
    "    reaction =universalmodel.reactions.get_by_id(r)\n",
    "    reaction.gene_reaction_rule='NGO0131'\n",
    "    model.add_reactions([reaction])\n",
    "x = ['CPH4S']\n",
    "for r in x:\n",
    "    reaction =universalmodel.reactions.get_by_id(r)\n",
    "    reaction.gene_reaction_rule='NGO0131'\n",
    "    model.add_reactions([reaction])\n",
    "x = ['CDGS']\n",
    "for r in x:\n",
    "    reaction =universalmodel.reactions.get_by_id(r)\n",
    "    reaction.gene_reaction_rule='NGO00720'\n",
    "    model.add_reactions([reaction])\n",
    "x = ['CDGR']\n",
    "for r in x:\n",
    "    reaction =universalmodel.reactions.get_by_id(r)\n",
    "    reaction.gene_reaction_rule='NGO1684'\n",
    "    model.add_reactions([reaction])\n",
    "x = ['CCGS']\n",
    "for r in x:\n",
    "    reaction =universalmodel.reactions.get_by_id(r)\n",
    "    reaction.gene_reaction_rule='NGO0129'\n",
    "    model.add_reactions([reaction])"
   ]
  },
  {
   "cell_type": "code",
   "execution_count": 35,
   "id": "9303e481-9063-44c9-9f81-a8254aa6ac30",
   "metadata": {},
   "outputs": [],
   "source": [
    "model.reactions.Kt2pp.gene_reaction_rule='NGO1774 or NGO1154'"
   ]
  },
  {
   "cell_type": "code",
   "execution_count": 36,
   "id": "3ac03e45-636a-4889-bcb8-a2a8a3555292",
   "metadata": {},
   "outputs": [],
   "source": [
    "x = ['MLDEP2pp']\n",
    "for r in x:\n",
    "    reaction =carvememodel.reactions.get_by_id(r)\n",
    "    reaction.gene_reaction_rule='NGO0571 or NGO1686'\n",
    "    model.add_reactions([reaction])\n",
    "#ltgD (0626) and ltgC (2048) ltgB (1033) and ltgE(0608) are all murein lytic transcglycosylases. PMCID: PMC3412582/PMID: 22432703\n",
    "#Adding all of them as potential genes \n",
    "x = ['MLTGY3pp']\n",
    "for r in x:\n",
    "    reaction =carvememodel.reactions.get_by_id(r)\n",
    "    reaction.gene_reaction_rule='NGO0608 or NGO1033 or NGO0626 or NGO2048'\n",
    "    model.add_reactions([reaction])\n",
    "\n",
    "x = ['MLTGY1pp' ,'MLTGY4pp' , 'MLTGY2pp']\n",
    "for r in x:\n",
    "    reaction =model.reactions.get_by_id(r)\n",
    "    reaction.gene_reaction_rule='NGO0608 or NGO1033 or NGO0626 or NGO2048'"
   ]
  },
  {
   "cell_type": "code",
   "execution_count": 37,
   "id": "1f85749c-ce56-4ae0-9252-752c8cad4575",
   "metadata": {},
   "outputs": [],
   "source": [
    "#Deorphan PPPGO\n",
    "model.reactions.PPPGO.gene_reaction_rule= 'NGO1692'"
   ]
  },
  {
   "cell_type": "code",
   "execution_count": 38,
   "id": "c92b07e0-a53c-408f-b3b0-da3995a318e0",
   "metadata": {},
   "outputs": [],
   "source": [
    "#Add additional thioredoxin proteins\n",
    "model.reactions.THIORDXi.gene_reaction_rule=  'NGO0328 or NGO1923 or NGO0652 or NGO0057'"
   ]
  },
  {
   "cell_type": "code",
   "execution_count": 39,
   "id": "f8bf32f2-b46f-4f9e-8372-ecfda7cd2804",
   "metadata": {},
   "outputs": [
    {
     "data": {
      "text/html": [
       "\n",
       "        <table>\n",
       "            <tr>\n",
       "                <td><strong>Reaction identifier</strong></td><td>PGLYCP</td>\n",
       "            </tr><tr>\n",
       "                <td><strong>Name</strong></td><td>R_PGLYCP</td>\n",
       "            </tr><tr>\n",
       "                <td><strong>Memory address</strong></td>\n",
       "                <td>0x020f45f77c70</td>\n",
       "            </tr><tr>\n",
       "                <td><strong>Stoichiometry</strong></td>\n",
       "                <td>\n",
       "                    <p style='text-align:right'>2pglyc_c + h2o_c --> glyclt_c + pi_c</p>\n",
       "                    <p style='text-align:right'>2-Phosphoglycolate + H2O --> Glycolate + Phosphate</p>\n",
       "                </td>\n",
       "            </tr><tr>\n",
       "                <td><strong>GPR</strong></td><td>NGO0073 or NGO1052</td>\n",
       "            </tr><tr>\n",
       "                <td><strong>Lower bound</strong></td><td>0.0</td>\n",
       "            </tr><tr>\n",
       "                <td><strong>Upper bound</strong></td><td>999999.0</td>\n",
       "            </tr>\n",
       "        </table>\n",
       "        "
      ],
      "text/plain": [
       "<Reaction PGLYCP at 0x20f45f77c70>"
      ]
     },
     "execution_count": 39,
     "metadata": {},
     "output_type": "execute_result"
    }
   ],
   "source": [
    "#CARVEME indicates NGO1052\n",
    "#KEGG indicates NGO0073 and NGO1052\n",
    "#NGO0203 has a different EC number - EC 3.1.3.105 . I am replacing with the KEGG/CARVEME gene annotations\n",
    "\n",
    "PGLYCP =carvememodel.reactions.get_by_id('PGLYCP')\n",
    "\n",
    "model.reactions.get_by_id('PGLYCP').gene_reaction_rule='NGO0073 or NGO1052'\n",
    "model.reactions.get_by_id('PGLYCP')"
   ]
  },
  {
   "cell_type": "code",
   "execution_count": 40,
   "id": "4aea1c1d-7fc1-4a03-b665-f9c995ff7cbd",
   "metadata": {},
   "outputs": [
    {
     "data": {
      "text/html": [
       "\n",
       "        <table>\n",
       "            <tr>\n",
       "                <td><strong>Reaction identifier</strong></td><td>SPMS</td>\n",
       "            </tr><tr>\n",
       "                <td><strong>Name</strong></td><td>R_SPMS</td>\n",
       "            </tr><tr>\n",
       "                <td><strong>Memory address</strong></td>\n",
       "                <td>0x020f46060a60</td>\n",
       "            </tr><tr>\n",
       "                <td><strong>Stoichiometry</strong></td>\n",
       "                <td>\n",
       "                    <p style='text-align:right'>ametam_c + ptrc_c --> 5mta_c + h_c + spmd_c</p>\n",
       "                    <p style='text-align:right'>S-Adenosylmethioninamine + Putrescine --> 5-Methylthioadenosine + H + Spermidine</p>\n",
       "                </td>\n",
       "            </tr><tr>\n",
       "                <td><strong>GPR</strong></td><td>NGO0435 or NGO1752</td>\n",
       "            </tr><tr>\n",
       "                <td><strong>Lower bound</strong></td><td>0.0</td>\n",
       "            </tr><tr>\n",
       "                <td><strong>Upper bound</strong></td><td>999999.0</td>\n",
       "            </tr>\n",
       "        </table>\n",
       "        "
      ],
      "text/plain": [
       "<Reaction SPMS at 0x20f46060a60>"
      ]
     },
     "execution_count": 40,
     "metadata": {},
     "output_type": "execute_result"
    }
   ],
   "source": [
    "#CARVEME indicates NGO0435 or NGO1752. Model has mislabeled NGO number with an underscore. Replacing.\n",
    "SPMS =carvememodel.reactions.get_by_id('SPMS')\n",
    "model.reactions.get_by_id('SPMS').gene_reaction_rule='NGO0435 or NGO1752'\n",
    "model.reactions.get_by_id('SPMS')"
   ]
  },
  {
   "cell_type": "code",
   "execution_count": 41,
   "id": "02318a81-7f37-49ee-8e7d-9e919b75eb23",
   "metadata": {},
   "outputs": [],
   "source": [
    "#Model contains ethanol production - however Gc does not produce ethanol. Removing this reaction.\n",
    "ALCD2x =model.reactions.get_by_id('ALCD2x')\n",
    "model.remove_reactions([ALCD2x])\n",
    "\n"
   ]
  },
  {
   "cell_type": "code",
   "execution_count": 42,
   "id": "9c638b6d-032b-4efa-9b3c-16b3511115b9",
   "metadata": {},
   "outputs": [],
   "source": [
    "#Similarly, the mening model had added acetylaldehyde production, without genetic evidence, to support the production of ethanol observed in mening. \n",
    "#Because Gc does not produce ethanol or acetylaldehyde, removing these associated reaction.\n",
    "ALDD2y =model.reactions.get_by_id('ALDD2y')\n",
    "model.remove_reactions([ALDD2y])\n",
    "\n",
    "ACALDtpp =model.reactions.get_by_id('ACALDtpp')\n",
    "model.remove_reactions([ACALDtpp])\n",
    "\n",
    "EX_acald_e_ =model.reactions.get_by_id('EX_acald_e_')\n",
    "model.remove_reactions([EX_acald_e_])"
   ]
  },
  {
   "cell_type": "code",
   "execution_count": 43,
   "id": "0e740874-8545-4137-b872-b3f0b124f814",
   "metadata": {},
   "outputs": [
    {
     "data": {
      "text/html": [
       "<h3>Objective</h3><p>1.0 Nm_Ess_biomass = 0.8582335068802733</p><h4>Uptake</h4><table border=\"1\" class=\"dataframe\">\n",
       "  <thead>\n",
       "    <tr style=\"text-align: right;\">\n",
       "      <th>Metabolite</th>\n",
       "      <th>Reaction</th>\n",
       "      <th>Flux</th>\n",
       "      <th>C-Number</th>\n",
       "      <th>C-Flux</th>\n",
       "    </tr>\n",
       "  </thead>\n",
       "  <tbody>\n",
       "    <tr>\n",
       "      <td>arg_L_e</td>\n",
       "      <td>EX_arg_L_e_</td>\n",
       "      <td>0.2866</td>\n",
       "      <td>6</td>\n",
       "      <td>1.19%</td>\n",
       "    </tr>\n",
       "    <tr>\n",
       "      <td>asn_L_e</td>\n",
       "      <td>EX_asn_L_e_</td>\n",
       "      <td>0.2159</td>\n",
       "      <td>4</td>\n",
       "      <td>0.60%</td>\n",
       "    </tr>\n",
       "    <tr>\n",
       "      <td>asp_L_e</td>\n",
       "      <td>EX_asp_L_e_</td>\n",
       "      <td>3.727</td>\n",
       "      <td>4</td>\n",
       "      <td>10.35%</td>\n",
       "    </tr>\n",
       "    <tr>\n",
       "      <td>ca2_e</td>\n",
       "      <td>EX_ca2_e_</td>\n",
       "      <td>0.004065</td>\n",
       "      <td>0</td>\n",
       "      <td>0.00%</td>\n",
       "    </tr>\n",
       "    <tr>\n",
       "      <td>cl_e</td>\n",
       "      <td>EX_cl_e_</td>\n",
       "      <td>0.004065</td>\n",
       "      <td>0</td>\n",
       "      <td>0.00%</td>\n",
       "    </tr>\n",
       "    <tr>\n",
       "      <td>cobalt2_e</td>\n",
       "      <td>EX_cobalt2_e_</td>\n",
       "      <td>0.00271</td>\n",
       "      <td>0</td>\n",
       "      <td>0.00%</td>\n",
       "    </tr>\n",
       "    <tr>\n",
       "      <td>cu2_e</td>\n",
       "      <td>EX_cu2_e_</td>\n",
       "      <td>0.00271</td>\n",
       "      <td>0</td>\n",
       "      <td>0.00%</td>\n",
       "    </tr>\n",
       "    <tr>\n",
       "      <td>cys_L_e</td>\n",
       "      <td>EX_cys_L_e_</td>\n",
       "      <td>3.235</td>\n",
       "      <td>3</td>\n",
       "      <td>6.74%</td>\n",
       "    </tr>\n",
       "    <tr>\n",
       "      <td>fe3_e</td>\n",
       "      <td>EX_fe3_e_</td>\n",
       "      <td>0.01258</td>\n",
       "      <td>0</td>\n",
       "      <td>0.00%</td>\n",
       "    </tr>\n",
       "    <tr>\n",
       "      <td>glc_D_e</td>\n",
       "      <td>EX_glc_D_e_</td>\n",
       "      <td>10</td>\n",
       "      <td>6</td>\n",
       "      <td>41.64%</td>\n",
       "    </tr>\n",
       "    <tr>\n",
       "      <td>glu_L_e</td>\n",
       "      <td>EX_glu_L_e_</td>\n",
       "      <td>0.6094</td>\n",
       "      <td>5</td>\n",
       "      <td>2.11%</td>\n",
       "    </tr>\n",
       "    <tr>\n",
       "      <td>gly_e</td>\n",
       "      <td>EX_gly_e_</td>\n",
       "      <td>5.134</td>\n",
       "      <td>2</td>\n",
       "      <td>7.13%</td>\n",
       "    </tr>\n",
       "    <tr>\n",
       "      <td>his_L_e</td>\n",
       "      <td>EX_his_L_e_</td>\n",
       "      <td>0.08679</td>\n",
       "      <td>6</td>\n",
       "      <td>0.36%</td>\n",
       "    </tr>\n",
       "    <tr>\n",
       "      <td>ile_L_e</td>\n",
       "      <td>EX_ile_L_e_</td>\n",
       "      <td>0.2505</td>\n",
       "      <td>6</td>\n",
       "      <td>1.04%</td>\n",
       "    </tr>\n",
       "    <tr>\n",
       "      <td>k_e</td>\n",
       "      <td>EX_k_e_</td>\n",
       "      <td>0.1524</td>\n",
       "      <td>0</td>\n",
       "      <td>0.00%</td>\n",
       "    </tr>\n",
       "    <tr>\n",
       "      <td>leu_L_e</td>\n",
       "      <td>EX_leu_L_e_</td>\n",
       "      <td>0.4056</td>\n",
       "      <td>6</td>\n",
       "      <td>1.69%</td>\n",
       "    </tr>\n",
       "    <tr>\n",
       "      <td>lys_L_e</td>\n",
       "      <td>EX_lys_L_e_</td>\n",
       "      <td>0.3013</td>\n",
       "      <td>6</td>\n",
       "      <td>1.25%</td>\n",
       "    </tr>\n",
       "    <tr>\n",
       "      <td>mg2_e</td>\n",
       "      <td>EX_mg2_e_</td>\n",
       "      <td>0.006776</td>\n",
       "      <td>0</td>\n",
       "      <td>0.00%</td>\n",
       "    </tr>\n",
       "    <tr>\n",
       "      <td>mn2_e</td>\n",
       "      <td>EX_mn2_e_</td>\n",
       "      <td>0.00271</td>\n",
       "      <td>0</td>\n",
       "      <td>0.00%</td>\n",
       "    </tr>\n",
       "    <tr>\n",
       "      <td>mobd_e</td>\n",
       "      <td>EX_mobd_e_</td>\n",
       "      <td>0.00271</td>\n",
       "      <td>0</td>\n",
       "      <td>0.00%</td>\n",
       "    </tr>\n",
       "    <tr>\n",
       "      <td>o2_e</td>\n",
       "      <td>EX_o2_e_</td>\n",
       "      <td>20</td>\n",
       "      <td>0</td>\n",
       "      <td>0.00%</td>\n",
       "    </tr>\n",
       "    <tr>\n",
       "      <td>phe_L_e</td>\n",
       "      <td>EX_phe_L_e_</td>\n",
       "      <td>0.1708</td>\n",
       "      <td>9</td>\n",
       "      <td>1.07%</td>\n",
       "    </tr>\n",
       "    <tr>\n",
       "      <td>pi_e</td>\n",
       "      <td>EX_pi_e_</td>\n",
       "      <td>0.6282</td>\n",
       "      <td>0</td>\n",
       "      <td>0.00%</td>\n",
       "    </tr>\n",
       "    <tr>\n",
       "      <td>pro_L_e</td>\n",
       "      <td>EX_pro_L_e_</td>\n",
       "      <td>0.2115</td>\n",
       "      <td>5</td>\n",
       "      <td>0.73%</td>\n",
       "    </tr>\n",
       "    <tr>\n",
       "      <td>ser_L_e</td>\n",
       "      <td>EX_ser_L_e_</td>\n",
       "      <td>10</td>\n",
       "      <td>3</td>\n",
       "      <td>20.82%</td>\n",
       "    </tr>\n",
       "    <tr>\n",
       "      <td>so4_e</td>\n",
       "      <td>EX_so4_e_</td>\n",
       "      <td>0.003388</td>\n",
       "      <td>0</td>\n",
       "      <td>0.00%</td>\n",
       "    </tr>\n",
       "    <tr>\n",
       "      <td>thr_L_e</td>\n",
       "      <td>EX_thr_L_e_</td>\n",
       "      <td>0.248</td>\n",
       "      <td>4</td>\n",
       "      <td>0.69%</td>\n",
       "    </tr>\n",
       "    <tr>\n",
       "      <td>trp_L_e</td>\n",
       "      <td>EX_trp_L_e_</td>\n",
       "      <td>0.05917</td>\n",
       "      <td>11</td>\n",
       "      <td>0.45%</td>\n",
       "    </tr>\n",
       "    <tr>\n",
       "      <td>tyr_L_e</td>\n",
       "      <td>EX_tyr_L_e_</td>\n",
       "      <td>0.1227</td>\n",
       "      <td>9</td>\n",
       "      <td>0.77%</td>\n",
       "    </tr>\n",
       "    <tr>\n",
       "      <td>val_L_e</td>\n",
       "      <td>EX_val_L_e_</td>\n",
       "      <td>0.3924</td>\n",
       "      <td>5</td>\n",
       "      <td>1.36%</td>\n",
       "    </tr>\n",
       "    <tr>\n",
       "      <td>zn2_e</td>\n",
       "      <td>EX_zn2_e_</td>\n",
       "      <td>0.002711</td>\n",
       "      <td>0</td>\n",
       "      <td>0.00%</td>\n",
       "    </tr>\n",
       "  </tbody>\n",
       "</table><h4>Secretion</h4><table border=\"1\" class=\"dataframe\">\n",
       "  <thead>\n",
       "    <tr style=\"text-align: right;\">\n",
       "      <th>Metabolite</th>\n",
       "      <th>Reaction</th>\n",
       "      <th>Flux</th>\n",
       "      <th>C-Number</th>\n",
       "      <th>C-Flux</th>\n",
       "    </tr>\n",
       "  </thead>\n",
       "  <tbody>\n",
       "    <tr>\n",
       "      <td>4hba_c</td>\n",
       "      <td>DM_4HBA</td>\n",
       "      <td>-0.0002227</td>\n",
       "      <td>7</td>\n",
       "      <td>0.00%</td>\n",
       "    </tr>\n",
       "    <tr>\n",
       "      <td>5drib_c</td>\n",
       "      <td>DM_5DRIB</td>\n",
       "      <td>-0.0003845</td>\n",
       "      <td>5</td>\n",
       "      <td>0.00%</td>\n",
       "    </tr>\n",
       "    <tr>\n",
       "      <td>amob_c</td>\n",
       "      <td>DM_AMOB</td>\n",
       "      <td>-1.708E-06</td>\n",
       "      <td>15</td>\n",
       "      <td>0.00%</td>\n",
       "    </tr>\n",
       "    <tr>\n",
       "      <td>essbiomass</td>\n",
       "      <td>DM_ESSBIOMASS</td>\n",
       "      <td>-0.8582</td>\n",
       "      <td>0</td>\n",
       "      <td>0.00%</td>\n",
       "    </tr>\n",
       "    <tr>\n",
       "      <td>hmfurn_c</td>\n",
       "      <td>DM_HMFURN</td>\n",
       "      <td>-0.0003828</td>\n",
       "      <td>5</td>\n",
       "      <td>0.00%</td>\n",
       "    </tr>\n",
       "    <tr>\n",
       "      <td>pap_c</td>\n",
       "      <td>DM_PAP</td>\n",
       "      <td>-0.01494</td>\n",
       "      <td>10</td>\n",
       "      <td>0.14%</td>\n",
       "    </tr>\n",
       "    <tr>\n",
       "      <td>urea_c</td>\n",
       "      <td>DM_UREA</td>\n",
       "      <td>-0.006641</td>\n",
       "      <td>1</td>\n",
       "      <td>0.01%</td>\n",
       "    </tr>\n",
       "    <tr>\n",
       "      <td>ac_e</td>\n",
       "      <td>EX_ac_e_</td>\n",
       "      <td>-29.22</td>\n",
       "      <td>2</td>\n",
       "      <td>53.58%</td>\n",
       "    </tr>\n",
       "    <tr>\n",
       "      <td>co2_e</td>\n",
       "      <td>EX_co2_e_</td>\n",
       "      <td>-35.07</td>\n",
       "      <td>1</td>\n",
       "      <td>32.15%</td>\n",
       "    </tr>\n",
       "    <tr>\n",
       "      <td>glyclt_e</td>\n",
       "      <td>EX_glyclt_e_</td>\n",
       "      <td>-0.0005742</td>\n",
       "      <td>2</td>\n",
       "      <td>0.00%</td>\n",
       "    </tr>\n",
       "    <tr>\n",
       "      <td>h2o_e</td>\n",
       "      <td>EX_h2o_e_</td>\n",
       "      <td>-24.7</td>\n",
       "      <td>0</td>\n",
       "      <td>0.00%</td>\n",
       "    </tr>\n",
       "    <tr>\n",
       "      <td>h_e</td>\n",
       "      <td>EX_h_e_</td>\n",
       "      <td>-4.763</td>\n",
       "      <td>0</td>\n",
       "      <td>0.00%</td>\n",
       "    </tr>\n",
       "    <tr>\n",
       "      <td>met_L_e</td>\n",
       "      <td>EX_met_L_e_</td>\n",
       "      <td>-3.079</td>\n",
       "      <td>5</td>\n",
       "      <td>14.12%</td>\n",
       "    </tr>\n",
       "    <tr>\n",
       "      <td>nh4_e</td>\n",
       "      <td>EX_nh4_e_</td>\n",
       "      <td>-14.87</td>\n",
       "      <td>0</td>\n",
       "      <td>0.00%</td>\n",
       "    </tr>\n",
       "  </tbody>\n",
       "</table>"
      ],
      "text/plain": [
       "<cobra.summary.model_summary.ModelSummary at 0x20f45eaf280>"
      ]
     },
     "execution_count": 43,
     "metadata": {},
     "output_type": "execute_result"
    }
   ],
   "source": [
    "rpmi(model)\n",
    "model.summary()"
   ]
  },
  {
   "cell_type": "code",
   "execution_count": 44,
   "id": "c8193dd0-7519-4360-8048-4026383c6e91",
   "metadata": {},
   "outputs": [],
   "source": [
    "#CARVEME revealed that NGO0904-NGO0906 is not present in the Gc model - which was recently discovered as an Gc\n",
    "#lactate dehydrogenase. Additionally other aspects of lactate metabolism are corrected here. \n",
    "\n",
    "#PMCID: PMC4215069\n",
    "#PMCID: PMC7530546"
   ]
  },
  {
   "cell_type": "code",
   "execution_count": 45,
   "id": "dbcf1263-6791-4834-bc50-2f2dda9d8b9c",
   "metadata": {},
   "outputs": [
    {
     "data": {
      "text/html": [
       "\n",
       "        <table>\n",
       "            <tr>\n",
       "                <td><strong>Metabolite identifier</strong></td><td>lac_D_c</td>\n",
       "            </tr><tr>\n",
       "                <td><strong>Name</strong></td><td>D-Lactate</td>\n",
       "            </tr><tr>\n",
       "                <td><strong>Memory address</strong></td>\n",
       "                <td>0x020f3d0c81c0</td>\n",
       "            </tr><tr>\n",
       "                <td><strong>Formula</strong></td><td>C3H5O3</td>\n",
       "            </tr><tr>\n",
       "                <td><strong>Compartment</strong></td><td>Cytosol</td>\n",
       "            </tr><tr>\n",
       "                <td><strong>In 3 reaction(s)</strong></td><td>\n",
       "                    DLACt2pp, LDH_D, GLYOX</td>\n",
       "            </tr>\n",
       "        </table>"
      ],
      "text/plain": [
       "<Metabolite lac_D_c at 0x20f3d0c81c0>"
      ]
     },
     "execution_count": 45,
     "metadata": {},
     "output_type": "execute_result"
    }
   ],
   "source": [
    "model.metabolites.get_by_id('lac_D_c')"
   ]
  },
  {
   "cell_type": "code",
   "execution_count": 46,
   "id": "c259e032-0b64-460d-bd03-3d518cc84fcb",
   "metadata": {},
   "outputs": [],
   "source": [
    "carvememodel.metabolites.get_by_id('lac__D_c').id='lac_D_c'"
   ]
  },
  {
   "cell_type": "code",
   "execution_count": 47,
   "id": "140a2e2b-b889-4b26-81db-20b2bb950b01",
   "metadata": {},
   "outputs": [
    {
     "data": {
      "text/html": [
       "\n",
       "        <table>\n",
       "            <tr>\n",
       "                <td><strong>Reaction identifier</strong></td><td>L_LACD4</td>\n",
       "            </tr><tr>\n",
       "                <td><strong>Name</strong></td><td>R_L_LACD4</td>\n",
       "            </tr><tr>\n",
       "                <td><strong>Memory address</strong></td>\n",
       "                <td>0x020f45e67f40</td>\n",
       "            </tr><tr>\n",
       "                <td><strong>Stoichiometry</strong></td>\n",
       "                <td>\n",
       "                    <p style='text-align:right'>lac_L_c + nad_c --> h_c + nadh_c + pyr_c</p>\n",
       "                    <p style='text-align:right'>L-Lactate + Nicotinamide-adenine-dinucleotide --> H + Nicotinamide-adenine-dinucleotide--reduced + Pyruvate</p>\n",
       "                </td>\n",
       "            </tr><tr>\n",
       "                <td><strong>GPR</strong></td><td>NGO0639 or Orphan</td>\n",
       "            </tr><tr>\n",
       "                <td><strong>Lower bound</strong></td><td>0.0</td>\n",
       "            </tr><tr>\n",
       "                <td><strong>Upper bound</strong></td><td>999999.0</td>\n",
       "            </tr>\n",
       "        </table>\n",
       "        "
      ],
      "text/plain": [
       "<Reaction L_LACD4 at 0x20f45e67f40>"
      ]
     },
     "execution_count": 47,
     "metadata": {},
     "output_type": "execute_result"
    }
   ],
   "source": [
    "model.reactions.get_by_id('L_LACD4')"
   ]
  },
  {
   "cell_type": "code",
   "execution_count": 48,
   "id": "89a77446-81f9-4767-b708-27e4dbeb5f09",
   "metadata": {},
   "outputs": [
    {
     "data": {
      "text/html": [
       "<h3>Objective</h3><p>1.0 Nm_Ess_biomass = 0.4054101760153453</p><h4>Uptake</h4><table border=\"1\" class=\"dataframe\">\n",
       "  <thead>\n",
       "    <tr style=\"text-align: right;\">\n",
       "      <th>Metabolite</th>\n",
       "      <th>Reaction</th>\n",
       "      <th>Flux</th>\n",
       "      <th>C-Number</th>\n",
       "      <th>C-Flux</th>\n",
       "    </tr>\n",
       "  </thead>\n",
       "  <tbody>\n",
       "    <tr>\n",
       "      <td>arg_L_e</td>\n",
       "      <td>EX_arg_L_e_</td>\n",
       "      <td>0.1354</td>\n",
       "      <td>6</td>\n",
       "      <td>1.03%</td>\n",
       "    </tr>\n",
       "    <tr>\n",
       "      <td>asn_L_e</td>\n",
       "      <td>EX_asn_L_e_</td>\n",
       "      <td>0.102</td>\n",
       "      <td>4</td>\n",
       "      <td>0.52%</td>\n",
       "    </tr>\n",
       "    <tr>\n",
       "      <td>asp_L_e</td>\n",
       "      <td>EX_asp_L_e_</td>\n",
       "      <td>0.2643</td>\n",
       "      <td>4</td>\n",
       "      <td>1.34%</td>\n",
       "    </tr>\n",
       "    <tr>\n",
       "      <td>ca2_e</td>\n",
       "      <td>EX_ca2_e_</td>\n",
       "      <td>0.00192</td>\n",
       "      <td>0</td>\n",
       "      <td>0.00%</td>\n",
       "    </tr>\n",
       "    <tr>\n",
       "      <td>cl_e</td>\n",
       "      <td>EX_cl_e_</td>\n",
       "      <td>0.00192</td>\n",
       "      <td>0</td>\n",
       "      <td>0.00%</td>\n",
       "    </tr>\n",
       "    <tr>\n",
       "      <td>cobalt2_e</td>\n",
       "      <td>EX_cobalt2_e_</td>\n",
       "      <td>0.00128</td>\n",
       "      <td>0</td>\n",
       "      <td>0.00%</td>\n",
       "    </tr>\n",
       "    <tr>\n",
       "      <td>cu2_e</td>\n",
       "      <td>EX_cu2_e_</td>\n",
       "      <td>0.00128</td>\n",
       "      <td>0</td>\n",
       "      <td>0.00%</td>\n",
       "    </tr>\n",
       "    <tr>\n",
       "      <td>cys_L_e</td>\n",
       "      <td>EX_cys_L_e_</td>\n",
       "      <td>0.03201</td>\n",
       "      <td>3</td>\n",
       "      <td>0.12%</td>\n",
       "    </tr>\n",
       "    <tr>\n",
       "      <td>fe3_e</td>\n",
       "      <td>EX_fe3_e_</td>\n",
       "      <td>0.005943</td>\n",
       "      <td>0</td>\n",
       "      <td>0.00%</td>\n",
       "    </tr>\n",
       "    <tr>\n",
       "      <td>glu_L_e</td>\n",
       "      <td>EX_glu_L_e_</td>\n",
       "      <td>0.2879</td>\n",
       "      <td>5</td>\n",
       "      <td>1.83%</td>\n",
       "    </tr>\n",
       "    <tr>\n",
       "      <td>gly_e</td>\n",
       "      <td>EX_gly_e_</td>\n",
       "      <td>4.156</td>\n",
       "      <td>2</td>\n",
       "      <td>10.56%</td>\n",
       "    </tr>\n",
       "    <tr>\n",
       "      <td>h_e</td>\n",
       "      <td>EX_h_e_</td>\n",
       "      <td>5.819</td>\n",
       "      <td>0</td>\n",
       "      <td>0.00%</td>\n",
       "    </tr>\n",
       "    <tr>\n",
       "      <td>his_L_e</td>\n",
       "      <td>EX_his_L_e_</td>\n",
       "      <td>0.041</td>\n",
       "      <td>6</td>\n",
       "      <td>0.31%</td>\n",
       "    </tr>\n",
       "    <tr>\n",
       "      <td>ile_L_e</td>\n",
       "      <td>EX_ile_L_e_</td>\n",
       "      <td>0.1183</td>\n",
       "      <td>6</td>\n",
       "      <td>0.90%</td>\n",
       "    </tr>\n",
       "    <tr>\n",
       "      <td>k_e</td>\n",
       "      <td>EX_k_e_</td>\n",
       "      <td>0.072</td>\n",
       "      <td>0</td>\n",
       "      <td>0.00%</td>\n",
       "    </tr>\n",
       "    <tr>\n",
       "      <td>leu_L_e</td>\n",
       "      <td>EX_leu_L_e_</td>\n",
       "      <td>0.1916</td>\n",
       "      <td>6</td>\n",
       "      <td>1.46%</td>\n",
       "    </tr>\n",
       "    <tr>\n",
       "      <td>lys_L_e</td>\n",
       "      <td>EX_lys_L_e_</td>\n",
       "      <td>0.1423</td>\n",
       "      <td>6</td>\n",
       "      <td>1.08%</td>\n",
       "    </tr>\n",
       "    <tr>\n",
       "      <td>met_L_e</td>\n",
       "      <td>EX_met_L_e_</td>\n",
       "      <td>0.04157</td>\n",
       "      <td>5</td>\n",
       "      <td>0.26%</td>\n",
       "    </tr>\n",
       "    <tr>\n",
       "      <td>mg2_e</td>\n",
       "      <td>EX_mg2_e_</td>\n",
       "      <td>0.003201</td>\n",
       "      <td>0</td>\n",
       "      <td>0.00%</td>\n",
       "    </tr>\n",
       "    <tr>\n",
       "      <td>mn2_e</td>\n",
       "      <td>EX_mn2_e_</td>\n",
       "      <td>0.00128</td>\n",
       "      <td>0</td>\n",
       "      <td>0.00%</td>\n",
       "    </tr>\n",
       "    <tr>\n",
       "      <td>mobd_e</td>\n",
       "      <td>EX_mobd_e_</td>\n",
       "      <td>0.00128</td>\n",
       "      <td>0</td>\n",
       "      <td>0.00%</td>\n",
       "    </tr>\n",
       "    <tr>\n",
       "      <td>o2_e</td>\n",
       "      <td>EX_o2_e_</td>\n",
       "      <td>10</td>\n",
       "      <td>0</td>\n",
       "      <td>0.00%</td>\n",
       "    </tr>\n",
       "    <tr>\n",
       "      <td>phe_L_e</td>\n",
       "      <td>EX_phe_L_e_</td>\n",
       "      <td>0.08069</td>\n",
       "      <td>9</td>\n",
       "      <td>0.92%</td>\n",
       "    </tr>\n",
       "    <tr>\n",
       "      <td>pi_e</td>\n",
       "      <td>EX_pi_e_</td>\n",
       "      <td>0.2967</td>\n",
       "      <td>0</td>\n",
       "      <td>0.00%</td>\n",
       "    </tr>\n",
       "    <tr>\n",
       "      <td>pro_L_e</td>\n",
       "      <td>EX_pro_L_e_</td>\n",
       "      <td>0.09991</td>\n",
       "      <td>5</td>\n",
       "      <td>0.63%</td>\n",
       "    </tr>\n",
       "    <tr>\n",
       "      <td>ser_L_e</td>\n",
       "      <td>EX_ser_L_e_</td>\n",
       "      <td>20</td>\n",
       "      <td>3</td>\n",
       "      <td>76.20%</td>\n",
       "    </tr>\n",
       "    <tr>\n",
       "      <td>so4_e</td>\n",
       "      <td>EX_so4_e_</td>\n",
       "      <td>0.001601</td>\n",
       "      <td>0</td>\n",
       "      <td>0.00%</td>\n",
       "    </tr>\n",
       "    <tr>\n",
       "      <td>thr_L_e</td>\n",
       "      <td>EX_thr_L_e_</td>\n",
       "      <td>0.1172</td>\n",
       "      <td>4</td>\n",
       "      <td>0.60%</td>\n",
       "    </tr>\n",
       "    <tr>\n",
       "      <td>trp_L_e</td>\n",
       "      <td>EX_trp_L_e_</td>\n",
       "      <td>0.02795</td>\n",
       "      <td>11</td>\n",
       "      <td>0.39%</td>\n",
       "    </tr>\n",
       "    <tr>\n",
       "      <td>tyr_L_e</td>\n",
       "      <td>EX_tyr_L_e_</td>\n",
       "      <td>0.05798</td>\n",
       "      <td>9</td>\n",
       "      <td>0.66%</td>\n",
       "    </tr>\n",
       "    <tr>\n",
       "      <td>val_L_e</td>\n",
       "      <td>EX_val_L_e_</td>\n",
       "      <td>0.1854</td>\n",
       "      <td>5</td>\n",
       "      <td>1.18%</td>\n",
       "    </tr>\n",
       "    <tr>\n",
       "      <td>zn2_e</td>\n",
       "      <td>EX_zn2_e_</td>\n",
       "      <td>0.00128</td>\n",
       "      <td>0</td>\n",
       "      <td>0.00%</td>\n",
       "    </tr>\n",
       "  </tbody>\n",
       "</table><h4>Secretion</h4><table border=\"1\" class=\"dataframe\">\n",
       "  <thead>\n",
       "    <tr style=\"text-align: right;\">\n",
       "      <th>Metabolite</th>\n",
       "      <th>Reaction</th>\n",
       "      <th>Flux</th>\n",
       "      <th>C-Number</th>\n",
       "      <th>C-Flux</th>\n",
       "    </tr>\n",
       "  </thead>\n",
       "  <tbody>\n",
       "    <tr>\n",
       "      <td>4hba_c</td>\n",
       "      <td>DM_4HBA</td>\n",
       "      <td>-0.0001111</td>\n",
       "      <td>7</td>\n",
       "      <td>0.00%</td>\n",
       "    </tr>\n",
       "    <tr>\n",
       "      <td>5drib_c</td>\n",
       "      <td>DM_5DRIB</td>\n",
       "      <td>-0.0001816</td>\n",
       "      <td>5</td>\n",
       "      <td>0.00%</td>\n",
       "    </tr>\n",
       "    <tr>\n",
       "      <td>amob_c</td>\n",
       "      <td>DM_AMOB</td>\n",
       "      <td>-8.067E-07</td>\n",
       "      <td>15</td>\n",
       "      <td>0.00%</td>\n",
       "    </tr>\n",
       "    <tr>\n",
       "      <td>essbiomass</td>\n",
       "      <td>DM_ESSBIOMASS</td>\n",
       "      <td>-0.4054</td>\n",
       "      <td>0</td>\n",
       "      <td>0.00%</td>\n",
       "    </tr>\n",
       "    <tr>\n",
       "      <td>hmfurn_c</td>\n",
       "      <td>DM_HMFURN</td>\n",
       "      <td>-0.0001808</td>\n",
       "      <td>5</td>\n",
       "      <td>0.00%</td>\n",
       "    </tr>\n",
       "    <tr>\n",
       "      <td>pap_c</td>\n",
       "      <td>DM_PAP</td>\n",
       "      <td>-0.007056</td>\n",
       "      <td>10</td>\n",
       "      <td>0.11%</td>\n",
       "    </tr>\n",
       "    <tr>\n",
       "      <td>urea_c</td>\n",
       "      <td>DM_UREA</td>\n",
       "      <td>-0.003137</td>\n",
       "      <td>1</td>\n",
       "      <td>0.01%</td>\n",
       "    </tr>\n",
       "    <tr>\n",
       "      <td>ac_e</td>\n",
       "      <td>EX_ac_e_</td>\n",
       "      <td>-19.75</td>\n",
       "      <td>2</td>\n",
       "      <td>63.50%</td>\n",
       "    </tr>\n",
       "    <tr>\n",
       "      <td>co2_e</td>\n",
       "      <td>EX_co2_e_</td>\n",
       "      <td>-22.63</td>\n",
       "      <td>1</td>\n",
       "      <td>36.38%</td>\n",
       "    </tr>\n",
       "    <tr>\n",
       "      <td>glyclt_e</td>\n",
       "      <td>EX_glyclt_e_</td>\n",
       "      <td>-0.0002712</td>\n",
       "      <td>2</td>\n",
       "      <td>0.00%</td>\n",
       "    </tr>\n",
       "    <tr>\n",
       "      <td>h2o_e</td>\n",
       "      <td>EX_h2o_e_</td>\n",
       "      <td>-3.718</td>\n",
       "      <td>0</td>\n",
       "      <td>0.00%</td>\n",
       "    </tr>\n",
       "    <tr>\n",
       "      <td>nh4_e</td>\n",
       "      <td>EX_nh4_e_</td>\n",
       "      <td>-22.54</td>\n",
       "      <td>0</td>\n",
       "      <td>0.00%</td>\n",
       "    </tr>\n",
       "  </tbody>\n",
       "</table>"
      ],
      "text/plain": [
       "<cobra.summary.model_summary.ModelSummary at 0x20f45ff1cd0>"
      ]
     },
     "execution_count": 48,
     "metadata": {},
     "output_type": "execute_result"
    }
   ],
   "source": [
    "#NGO0639 is a quinone depdendent L-lactate dehydrogenase. There are no known NAD/NADH dependent L-lactate dehydrogenases in Gc.\n",
    "LACD4 =model.reactions.get_by_id('L_LACD4')\n",
    "model.remove_reactions([LACD4])\n",
    "rpmi_with_lactate_only(model)\n",
    "model.summary()"
   ]
  },
  {
   "cell_type": "code",
   "execution_count": 49,
   "id": "db5afbf6-92ca-4d79-aa8b-a27c0041650e",
   "metadata": {},
   "outputs": [
    {
     "data": {
      "text/html": [
       "\n",
       "        <table>\n",
       "            <tr>\n",
       "                <td><strong>Reaction identifier</strong></td><td>LDH_D</td>\n",
       "            </tr><tr>\n",
       "                <td><strong>Name</strong></td><td>R_LDH_D</td>\n",
       "            </tr><tr>\n",
       "                <td><strong>Memory address</strong></td>\n",
       "                <td>0x020f45e73760</td>\n",
       "            </tr><tr>\n",
       "                <td><strong>Stoichiometry</strong></td>\n",
       "                <td>\n",
       "                    <p style='text-align:right'>lac_D_c + nad_c <=> h_c + nadh_c + pyr_c</p>\n",
       "                    <p style='text-align:right'>D-Lactate + Nicotinamide-adenine-dinucleotide <=> H + Nicotinamide-adenine-dinucleotide--reduced + Pyruvate</p>\n",
       "                </td>\n",
       "            </tr><tr>\n",
       "                <td><strong>GPR</strong></td><td>NGO1336</td>\n",
       "            </tr><tr>\n",
       "                <td><strong>Lower bound</strong></td><td>-1000.0</td>\n",
       "            </tr><tr>\n",
       "                <td><strong>Upper bound</strong></td><td>999999.0</td>\n",
       "            </tr>\n",
       "        </table>\n",
       "        "
      ],
      "text/plain": [
       "<Reaction LDH_D at 0x20f45e73760>"
      ]
     },
     "execution_count": 49,
     "metadata": {},
     "output_type": "execute_result"
    }
   ],
   "source": [
    "#The reaction LDH_D is a the NAD dependent conversion of D_lac to pyruvate. It is completed by ldhA (NGO1336). \n",
    "#This reaction should be bidirectional. \n",
    "\n",
    "model.reactions.get_by_id('LDH_D')\n",
    "model.reactions.get_by_id('LDH_D').gene_reaction_rule='NGO1336'\n",
    "model.reactions.get_by_id('LDH_D').lower_bound =-1000.\n",
    "model.reactions.get_by_id('LDH_D')"
   ]
  },
  {
   "cell_type": "code",
   "execution_count": 50,
   "id": "15b55af9-1c5a-4b11-8878-c1c59ea5fc7d",
   "metadata": {},
   "outputs": [
    {
     "data": {
      "text/html": [
       "<h3>Objective</h3><p>1.0 Nm_Ess_biomass = 0.40541016811719427</p><h4>Uptake</h4><table border=\"1\" class=\"dataframe\">\n",
       "  <thead>\n",
       "    <tr style=\"text-align: right;\">\n",
       "      <th>Metabolite</th>\n",
       "      <th>Reaction</th>\n",
       "      <th>Flux</th>\n",
       "      <th>C-Number</th>\n",
       "      <th>C-Flux</th>\n",
       "    </tr>\n",
       "  </thead>\n",
       "  <tbody>\n",
       "    <tr>\n",
       "      <td>arg_L_e</td>\n",
       "      <td>EX_arg_L_e_</td>\n",
       "      <td>0.1354</td>\n",
       "      <td>6</td>\n",
       "      <td>1.03%</td>\n",
       "    </tr>\n",
       "    <tr>\n",
       "      <td>asn_L_e</td>\n",
       "      <td>EX_asn_L_e_</td>\n",
       "      <td>0.102</td>\n",
       "      <td>4</td>\n",
       "      <td>0.52%</td>\n",
       "    </tr>\n",
       "    <tr>\n",
       "      <td>asp_L_e</td>\n",
       "      <td>EX_asp_L_e_</td>\n",
       "      <td>0.2643</td>\n",
       "      <td>4</td>\n",
       "      <td>1.34%</td>\n",
       "    </tr>\n",
       "    <tr>\n",
       "      <td>ca2_e</td>\n",
       "      <td>EX_ca2_e_</td>\n",
       "      <td>0.00192</td>\n",
       "      <td>0</td>\n",
       "      <td>0.00%</td>\n",
       "    </tr>\n",
       "    <tr>\n",
       "      <td>cl_e</td>\n",
       "      <td>EX_cl_e_</td>\n",
       "      <td>0.00192</td>\n",
       "      <td>0</td>\n",
       "      <td>0.00%</td>\n",
       "    </tr>\n",
       "    <tr>\n",
       "      <td>cobalt2_e</td>\n",
       "      <td>EX_cobalt2_e_</td>\n",
       "      <td>0.00128</td>\n",
       "      <td>0</td>\n",
       "      <td>0.00%</td>\n",
       "    </tr>\n",
       "    <tr>\n",
       "      <td>cu2_e</td>\n",
       "      <td>EX_cu2_e_</td>\n",
       "      <td>0.00128</td>\n",
       "      <td>0</td>\n",
       "      <td>0.00%</td>\n",
       "    </tr>\n",
       "    <tr>\n",
       "      <td>cys_L_e</td>\n",
       "      <td>EX_cys_L_e_</td>\n",
       "      <td>0.03201</td>\n",
       "      <td>3</td>\n",
       "      <td>0.12%</td>\n",
       "    </tr>\n",
       "    <tr>\n",
       "      <td>fe3_e</td>\n",
       "      <td>EX_fe3_e_</td>\n",
       "      <td>0.005943</td>\n",
       "      <td>0</td>\n",
       "      <td>0.00%</td>\n",
       "    </tr>\n",
       "    <tr>\n",
       "      <td>glu_L_e</td>\n",
       "      <td>EX_glu_L_e_</td>\n",
       "      <td>0.2879</td>\n",
       "      <td>5</td>\n",
       "      <td>1.83%</td>\n",
       "    </tr>\n",
       "    <tr>\n",
       "      <td>gly_e</td>\n",
       "      <td>EX_gly_e_</td>\n",
       "      <td>4.156</td>\n",
       "      <td>2</td>\n",
       "      <td>10.56%</td>\n",
       "    </tr>\n",
       "    <tr>\n",
       "      <td>h_e</td>\n",
       "      <td>EX_h_e_</td>\n",
       "      <td>5.819</td>\n",
       "      <td>0</td>\n",
       "      <td>0.00%</td>\n",
       "    </tr>\n",
       "    <tr>\n",
       "      <td>his_L_e</td>\n",
       "      <td>EX_his_L_e_</td>\n",
       "      <td>0.041</td>\n",
       "      <td>6</td>\n",
       "      <td>0.31%</td>\n",
       "    </tr>\n",
       "    <tr>\n",
       "      <td>ile_L_e</td>\n",
       "      <td>EX_ile_L_e_</td>\n",
       "      <td>0.1183</td>\n",
       "      <td>6</td>\n",
       "      <td>0.90%</td>\n",
       "    </tr>\n",
       "    <tr>\n",
       "      <td>k_e</td>\n",
       "      <td>EX_k_e_</td>\n",
       "      <td>0.072</td>\n",
       "      <td>0</td>\n",
       "      <td>0.00%</td>\n",
       "    </tr>\n",
       "    <tr>\n",
       "      <td>leu_L_e</td>\n",
       "      <td>EX_leu_L_e_</td>\n",
       "      <td>0.1916</td>\n",
       "      <td>6</td>\n",
       "      <td>1.46%</td>\n",
       "    </tr>\n",
       "    <tr>\n",
       "      <td>lys_L_e</td>\n",
       "      <td>EX_lys_L_e_</td>\n",
       "      <td>0.1423</td>\n",
       "      <td>6</td>\n",
       "      <td>1.08%</td>\n",
       "    </tr>\n",
       "    <tr>\n",
       "      <td>met_L_e</td>\n",
       "      <td>EX_met_L_e_</td>\n",
       "      <td>0.04157</td>\n",
       "      <td>5</td>\n",
       "      <td>0.26%</td>\n",
       "    </tr>\n",
       "    <tr>\n",
       "      <td>mg2_e</td>\n",
       "      <td>EX_mg2_e_</td>\n",
       "      <td>0.003201</td>\n",
       "      <td>0</td>\n",
       "      <td>0.00%</td>\n",
       "    </tr>\n",
       "    <tr>\n",
       "      <td>mn2_e</td>\n",
       "      <td>EX_mn2_e_</td>\n",
       "      <td>0.00128</td>\n",
       "      <td>0</td>\n",
       "      <td>0.00%</td>\n",
       "    </tr>\n",
       "    <tr>\n",
       "      <td>mobd_e</td>\n",
       "      <td>EX_mobd_e_</td>\n",
       "      <td>0.00128</td>\n",
       "      <td>0</td>\n",
       "      <td>0.00%</td>\n",
       "    </tr>\n",
       "    <tr>\n",
       "      <td>o2_e</td>\n",
       "      <td>EX_o2_e_</td>\n",
       "      <td>10</td>\n",
       "      <td>0</td>\n",
       "      <td>0.00%</td>\n",
       "    </tr>\n",
       "    <tr>\n",
       "      <td>phe_L_e</td>\n",
       "      <td>EX_phe_L_e_</td>\n",
       "      <td>0.08069</td>\n",
       "      <td>9</td>\n",
       "      <td>0.92%</td>\n",
       "    </tr>\n",
       "    <tr>\n",
       "      <td>pi_e</td>\n",
       "      <td>EX_pi_e_</td>\n",
       "      <td>0.2967</td>\n",
       "      <td>0</td>\n",
       "      <td>0.00%</td>\n",
       "    </tr>\n",
       "    <tr>\n",
       "      <td>pro_L_e</td>\n",
       "      <td>EX_pro_L_e_</td>\n",
       "      <td>0.09991</td>\n",
       "      <td>5</td>\n",
       "      <td>0.63%</td>\n",
       "    </tr>\n",
       "    <tr>\n",
       "      <td>ser_L_e</td>\n",
       "      <td>EX_ser_L_e_</td>\n",
       "      <td>20</td>\n",
       "      <td>3</td>\n",
       "      <td>76.20%</td>\n",
       "    </tr>\n",
       "    <tr>\n",
       "      <td>so4_e</td>\n",
       "      <td>EX_so4_e_</td>\n",
       "      <td>0.001601</td>\n",
       "      <td>0</td>\n",
       "      <td>0.00%</td>\n",
       "    </tr>\n",
       "    <tr>\n",
       "      <td>thr_L_e</td>\n",
       "      <td>EX_thr_L_e_</td>\n",
       "      <td>0.1172</td>\n",
       "      <td>4</td>\n",
       "      <td>0.60%</td>\n",
       "    </tr>\n",
       "    <tr>\n",
       "      <td>trp_L_e</td>\n",
       "      <td>EX_trp_L_e_</td>\n",
       "      <td>0.02795</td>\n",
       "      <td>11</td>\n",
       "      <td>0.39%</td>\n",
       "    </tr>\n",
       "    <tr>\n",
       "      <td>tyr_L_e</td>\n",
       "      <td>EX_tyr_L_e_</td>\n",
       "      <td>0.05798</td>\n",
       "      <td>9</td>\n",
       "      <td>0.66%</td>\n",
       "    </tr>\n",
       "    <tr>\n",
       "      <td>val_L_e</td>\n",
       "      <td>EX_val_L_e_</td>\n",
       "      <td>0.1854</td>\n",
       "      <td>5</td>\n",
       "      <td>1.18%</td>\n",
       "    </tr>\n",
       "    <tr>\n",
       "      <td>zn2_e</td>\n",
       "      <td>EX_zn2_e_</td>\n",
       "      <td>0.00128</td>\n",
       "      <td>0</td>\n",
       "      <td>0.00%</td>\n",
       "    </tr>\n",
       "  </tbody>\n",
       "</table><h4>Secretion</h4><table border=\"1\" class=\"dataframe\">\n",
       "  <thead>\n",
       "    <tr style=\"text-align: right;\">\n",
       "      <th>Metabolite</th>\n",
       "      <th>Reaction</th>\n",
       "      <th>Flux</th>\n",
       "      <th>C-Number</th>\n",
       "      <th>C-Flux</th>\n",
       "    </tr>\n",
       "  </thead>\n",
       "  <tbody>\n",
       "    <tr>\n",
       "      <td>4hba_c</td>\n",
       "      <td>DM_4HBA</td>\n",
       "      <td>-0.0001111</td>\n",
       "      <td>7</td>\n",
       "      <td>0.00%</td>\n",
       "    </tr>\n",
       "    <tr>\n",
       "      <td>5drib_c</td>\n",
       "      <td>DM_5DRIB</td>\n",
       "      <td>-0.0001816</td>\n",
       "      <td>5</td>\n",
       "      <td>0.00%</td>\n",
       "    </tr>\n",
       "    <tr>\n",
       "      <td>amob_c</td>\n",
       "      <td>DM_AMOB</td>\n",
       "      <td>-8.067E-07</td>\n",
       "      <td>15</td>\n",
       "      <td>0.00%</td>\n",
       "    </tr>\n",
       "    <tr>\n",
       "      <td>essbiomass</td>\n",
       "      <td>DM_ESSBIOMASS</td>\n",
       "      <td>-0.4054</td>\n",
       "      <td>0</td>\n",
       "      <td>0.00%</td>\n",
       "    </tr>\n",
       "    <tr>\n",
       "      <td>hmfurn_c</td>\n",
       "      <td>DM_HMFURN</td>\n",
       "      <td>-0.0001808</td>\n",
       "      <td>5</td>\n",
       "      <td>0.00%</td>\n",
       "    </tr>\n",
       "    <tr>\n",
       "      <td>pap_c</td>\n",
       "      <td>DM_PAP</td>\n",
       "      <td>-0.007056</td>\n",
       "      <td>10</td>\n",
       "      <td>0.11%</td>\n",
       "    </tr>\n",
       "    <tr>\n",
       "      <td>urea_c</td>\n",
       "      <td>DM_UREA</td>\n",
       "      <td>-0.003137</td>\n",
       "      <td>1</td>\n",
       "      <td>0.01%</td>\n",
       "    </tr>\n",
       "    <tr>\n",
       "      <td>ac_e</td>\n",
       "      <td>EX_ac_e_</td>\n",
       "      <td>-19.75</td>\n",
       "      <td>2</td>\n",
       "      <td>63.50%</td>\n",
       "    </tr>\n",
       "    <tr>\n",
       "      <td>co2_e</td>\n",
       "      <td>EX_co2_e_</td>\n",
       "      <td>-22.63</td>\n",
       "      <td>1</td>\n",
       "      <td>36.38%</td>\n",
       "    </tr>\n",
       "    <tr>\n",
       "      <td>glyclt_e</td>\n",
       "      <td>EX_glyclt_e_</td>\n",
       "      <td>-0.0002712</td>\n",
       "      <td>2</td>\n",
       "      <td>0.00%</td>\n",
       "    </tr>\n",
       "    <tr>\n",
       "      <td>h2o_e</td>\n",
       "      <td>EX_h2o_e_</td>\n",
       "      <td>-3.718</td>\n",
       "      <td>0</td>\n",
       "      <td>0.00%</td>\n",
       "    </tr>\n",
       "    <tr>\n",
       "      <td>nh4_e</td>\n",
       "      <td>EX_nh4_e_</td>\n",
       "      <td>-22.54</td>\n",
       "      <td>0</td>\n",
       "      <td>0.00%</td>\n",
       "    </tr>\n",
       "  </tbody>\n",
       "</table>"
      ],
      "text/plain": [
       "<cobra.summary.model_summary.ModelSummary at 0x20f4d69bb80>"
      ]
     },
     "execution_count": 50,
     "metadata": {},
     "output_type": "execute_result"
    }
   ],
   "source": [
    "rpmi_with_lactate_only(model)\n",
    "model.summary()"
   ]
  },
  {
   "cell_type": "code",
   "execution_count": 51,
   "id": "2e7a57d9-593f-45f7-a552-f585c0c3b241",
   "metadata": {},
   "outputs": [
    {
     "data": {
      "text/html": [
       "\n",
       "        <table>\n",
       "            <tr>\n",
       "                <td><strong>Reaction identifier</strong></td><td>LDH_D2</td>\n",
       "            </tr><tr>\n",
       "                <td><strong>Name</strong></td><td>D-lactate dehydrogenase</td>\n",
       "            </tr><tr>\n",
       "                <td><strong>Memory address</strong></td>\n",
       "                <td>0x020f5a320be0</td>\n",
       "            </tr><tr>\n",
       "                <td><strong>Stoichiometry</strong></td>\n",
       "                <td>\n",
       "                    <p style='text-align:right'>lac_D_c + q8_c --> pyr_c + q8h2_c</p>\n",
       "                    <p style='text-align:right'>D-Lactate + Ubiquinone-8 --> Pyruvate + Ubiquinol-8</p>\n",
       "                </td>\n",
       "            </tr><tr>\n",
       "                <td><strong>GPR</strong></td><td>NGO0890</td>\n",
       "            </tr><tr>\n",
       "                <td><strong>Lower bound</strong></td><td>0.0</td>\n",
       "            </tr><tr>\n",
       "                <td><strong>Upper bound</strong></td><td>1000.0</td>\n",
       "            </tr>\n",
       "        </table>\n",
       "        "
      ],
      "text/plain": [
       "<Reaction LDH_D2 at 0x20f5a320be0>"
      ]
     },
     "execution_count": 51,
     "metadata": {},
     "output_type": "execute_result"
    }
   ],
   "source": [
    "#The reaction LDH_D2 is competed by ldhD (NGO0890), a Quinone dependent D-lactate dehydrogenase.\n",
    "LDH_D2=carvememodel.reactions.get_by_id('LDH_D2')\n",
    "carvememodel.reactions.get_by_id('LDH_D2').gene_reaction_rule='NGO0890'\n",
    "model.add_reactions([LDH_D2])\n",
    "model.reactions.get_by_id('LDH_D2')\n"
   ]
  },
  {
   "cell_type": "code",
   "execution_count": 52,
   "id": "d0e4eb9e-6d42-4ab9-8851-81670f13c966",
   "metadata": {},
   "outputs": [
    {
     "data": {
      "text/html": [
       "<h3>Objective</h3><p>1.0 Nm_Ess_biomass = 0.4054097879672639</p><h4>Uptake</h4><table border=\"1\" class=\"dataframe\">\n",
       "  <thead>\n",
       "    <tr style=\"text-align: right;\">\n",
       "      <th>Metabolite</th>\n",
       "      <th>Reaction</th>\n",
       "      <th>Flux</th>\n",
       "      <th>C-Number</th>\n",
       "      <th>C-Flux</th>\n",
       "    </tr>\n",
       "  </thead>\n",
       "  <tbody>\n",
       "    <tr>\n",
       "      <td>arg_L_e</td>\n",
       "      <td>EX_arg_L_e_</td>\n",
       "      <td>0.1354</td>\n",
       "      <td>6</td>\n",
       "      <td>1.03%</td>\n",
       "    </tr>\n",
       "    <tr>\n",
       "      <td>asn_L_e</td>\n",
       "      <td>EX_asn_L_e_</td>\n",
       "      <td>0.102</td>\n",
       "      <td>4</td>\n",
       "      <td>0.52%</td>\n",
       "    </tr>\n",
       "    <tr>\n",
       "      <td>asp_L_e</td>\n",
       "      <td>EX_asp_L_e_</td>\n",
       "      <td>0.2643</td>\n",
       "      <td>4</td>\n",
       "      <td>1.34%</td>\n",
       "    </tr>\n",
       "    <tr>\n",
       "      <td>ca2_e</td>\n",
       "      <td>EX_ca2_e_</td>\n",
       "      <td>0.00192</td>\n",
       "      <td>0</td>\n",
       "      <td>0.00%</td>\n",
       "    </tr>\n",
       "    <tr>\n",
       "      <td>cl_e</td>\n",
       "      <td>EX_cl_e_</td>\n",
       "      <td>0.00192</td>\n",
       "      <td>0</td>\n",
       "      <td>0.00%</td>\n",
       "    </tr>\n",
       "    <tr>\n",
       "      <td>cobalt2_e</td>\n",
       "      <td>EX_cobalt2_e_</td>\n",
       "      <td>0.00128</td>\n",
       "      <td>0</td>\n",
       "      <td>0.00%</td>\n",
       "    </tr>\n",
       "    <tr>\n",
       "      <td>cu2_e</td>\n",
       "      <td>EX_cu2_e_</td>\n",
       "      <td>0.00128</td>\n",
       "      <td>0</td>\n",
       "      <td>0.00%</td>\n",
       "    </tr>\n",
       "    <tr>\n",
       "      <td>cys_L_e</td>\n",
       "      <td>EX_cys_L_e_</td>\n",
       "      <td>0.03201</td>\n",
       "      <td>3</td>\n",
       "      <td>0.12%</td>\n",
       "    </tr>\n",
       "    <tr>\n",
       "      <td>fe3_e</td>\n",
       "      <td>EX_fe3_e_</td>\n",
       "      <td>0.005942</td>\n",
       "      <td>0</td>\n",
       "      <td>0.00%</td>\n",
       "    </tr>\n",
       "    <tr>\n",
       "      <td>glu_L_e</td>\n",
       "      <td>EX_glu_L_e_</td>\n",
       "      <td>0.2879</td>\n",
       "      <td>5</td>\n",
       "      <td>1.83%</td>\n",
       "    </tr>\n",
       "    <tr>\n",
       "      <td>gly_e</td>\n",
       "      <td>EX_gly_e_</td>\n",
       "      <td>4.156</td>\n",
       "      <td>2</td>\n",
       "      <td>10.56%</td>\n",
       "    </tr>\n",
       "    <tr>\n",
       "      <td>h_e</td>\n",
       "      <td>EX_h_e_</td>\n",
       "      <td>5.819</td>\n",
       "      <td>0</td>\n",
       "      <td>0.00%</td>\n",
       "    </tr>\n",
       "    <tr>\n",
       "      <td>his_L_e</td>\n",
       "      <td>EX_his_L_e_</td>\n",
       "      <td>0.041</td>\n",
       "      <td>6</td>\n",
       "      <td>0.31%</td>\n",
       "    </tr>\n",
       "    <tr>\n",
       "      <td>ile_L_e</td>\n",
       "      <td>EX_ile_L_e_</td>\n",
       "      <td>0.1183</td>\n",
       "      <td>6</td>\n",
       "      <td>0.90%</td>\n",
       "    </tr>\n",
       "    <tr>\n",
       "      <td>k_e</td>\n",
       "      <td>EX_k_e_</td>\n",
       "      <td>0.072</td>\n",
       "      <td>0</td>\n",
       "      <td>0.00%</td>\n",
       "    </tr>\n",
       "    <tr>\n",
       "      <td>leu_L_e</td>\n",
       "      <td>EX_leu_L_e_</td>\n",
       "      <td>0.1916</td>\n",
       "      <td>6</td>\n",
       "      <td>1.46%</td>\n",
       "    </tr>\n",
       "    <tr>\n",
       "      <td>lys_L_e</td>\n",
       "      <td>EX_lys_L_e_</td>\n",
       "      <td>0.1423</td>\n",
       "      <td>6</td>\n",
       "      <td>1.08%</td>\n",
       "    </tr>\n",
       "    <tr>\n",
       "      <td>met_L_e</td>\n",
       "      <td>EX_met_L_e_</td>\n",
       "      <td>0.04157</td>\n",
       "      <td>5</td>\n",
       "      <td>0.26%</td>\n",
       "    </tr>\n",
       "    <tr>\n",
       "      <td>mg2_e</td>\n",
       "      <td>EX_mg2_e_</td>\n",
       "      <td>0.003201</td>\n",
       "      <td>0</td>\n",
       "      <td>0.00%</td>\n",
       "    </tr>\n",
       "    <tr>\n",
       "      <td>mn2_e</td>\n",
       "      <td>EX_mn2_e_</td>\n",
       "      <td>0.00128</td>\n",
       "      <td>0</td>\n",
       "      <td>0.00%</td>\n",
       "    </tr>\n",
       "    <tr>\n",
       "      <td>mobd_e</td>\n",
       "      <td>EX_mobd_e_</td>\n",
       "      <td>0.00128</td>\n",
       "      <td>0</td>\n",
       "      <td>0.00%</td>\n",
       "    </tr>\n",
       "    <tr>\n",
       "      <td>o2_e</td>\n",
       "      <td>EX_o2_e_</td>\n",
       "      <td>10</td>\n",
       "      <td>0</td>\n",
       "      <td>0.00%</td>\n",
       "    </tr>\n",
       "    <tr>\n",
       "      <td>phe_L_e</td>\n",
       "      <td>EX_phe_L_e_</td>\n",
       "      <td>0.08069</td>\n",
       "      <td>9</td>\n",
       "      <td>0.92%</td>\n",
       "    </tr>\n",
       "    <tr>\n",
       "      <td>pi_e</td>\n",
       "      <td>EX_pi_e_</td>\n",
       "      <td>0.2967</td>\n",
       "      <td>0</td>\n",
       "      <td>0.00%</td>\n",
       "    </tr>\n",
       "    <tr>\n",
       "      <td>pro_L_e</td>\n",
       "      <td>EX_pro_L_e_</td>\n",
       "      <td>0.09991</td>\n",
       "      <td>5</td>\n",
       "      <td>0.63%</td>\n",
       "    </tr>\n",
       "    <tr>\n",
       "      <td>ser_L_e</td>\n",
       "      <td>EX_ser_L_e_</td>\n",
       "      <td>20</td>\n",
       "      <td>3</td>\n",
       "      <td>76.20%</td>\n",
       "    </tr>\n",
       "    <tr>\n",
       "      <td>so4_e</td>\n",
       "      <td>EX_so4_e_</td>\n",
       "      <td>0.001601</td>\n",
       "      <td>0</td>\n",
       "      <td>0.00%</td>\n",
       "    </tr>\n",
       "    <tr>\n",
       "      <td>thr_L_e</td>\n",
       "      <td>EX_thr_L_e_</td>\n",
       "      <td>0.1172</td>\n",
       "      <td>4</td>\n",
       "      <td>0.60%</td>\n",
       "    </tr>\n",
       "    <tr>\n",
       "      <td>trp_L_e</td>\n",
       "      <td>EX_trp_L_e_</td>\n",
       "      <td>0.02795</td>\n",
       "      <td>11</td>\n",
       "      <td>0.39%</td>\n",
       "    </tr>\n",
       "    <tr>\n",
       "      <td>tyr_L_e</td>\n",
       "      <td>EX_tyr_L_e_</td>\n",
       "      <td>0.05798</td>\n",
       "      <td>9</td>\n",
       "      <td>0.66%</td>\n",
       "    </tr>\n",
       "    <tr>\n",
       "      <td>val_L_e</td>\n",
       "      <td>EX_val_L_e_</td>\n",
       "      <td>0.1854</td>\n",
       "      <td>5</td>\n",
       "      <td>1.18%</td>\n",
       "    </tr>\n",
       "    <tr>\n",
       "      <td>zn2_e</td>\n",
       "      <td>EX_zn2_e_</td>\n",
       "      <td>0.00128</td>\n",
       "      <td>0</td>\n",
       "      <td>0.00%</td>\n",
       "    </tr>\n",
       "  </tbody>\n",
       "</table><h4>Secretion</h4><table border=\"1\" class=\"dataframe\">\n",
       "  <thead>\n",
       "    <tr style=\"text-align: right;\">\n",
       "      <th>Metabolite</th>\n",
       "      <th>Reaction</th>\n",
       "      <th>Flux</th>\n",
       "      <th>C-Number</th>\n",
       "      <th>C-Flux</th>\n",
       "    </tr>\n",
       "  </thead>\n",
       "  <tbody>\n",
       "    <tr>\n",
       "      <td>4hba_c</td>\n",
       "      <td>DM_4HBA</td>\n",
       "      <td>-0.0001111</td>\n",
       "      <td>7</td>\n",
       "      <td>0.00%</td>\n",
       "    </tr>\n",
       "    <tr>\n",
       "      <td>5drib_c</td>\n",
       "      <td>DM_5DRIB</td>\n",
       "      <td>-0.0001816</td>\n",
       "      <td>5</td>\n",
       "      <td>0.00%</td>\n",
       "    </tr>\n",
       "    <tr>\n",
       "      <td>amob_c</td>\n",
       "      <td>DM_AMOB</td>\n",
       "      <td>-8.067E-07</td>\n",
       "      <td>15</td>\n",
       "      <td>0.00%</td>\n",
       "    </tr>\n",
       "    <tr>\n",
       "      <td>essbiomass</td>\n",
       "      <td>DM_ESSBIOMASS</td>\n",
       "      <td>-0.4054</td>\n",
       "      <td>0</td>\n",
       "      <td>0.00%</td>\n",
       "    </tr>\n",
       "    <tr>\n",
       "      <td>hmfurn_c</td>\n",
       "      <td>DM_HMFURN</td>\n",
       "      <td>-0.0001808</td>\n",
       "      <td>5</td>\n",
       "      <td>0.00%</td>\n",
       "    </tr>\n",
       "    <tr>\n",
       "      <td>pap_c</td>\n",
       "      <td>DM_PAP</td>\n",
       "      <td>-0.007056</td>\n",
       "      <td>10</td>\n",
       "      <td>0.11%</td>\n",
       "    </tr>\n",
       "    <tr>\n",
       "      <td>urea_c</td>\n",
       "      <td>DM_UREA</td>\n",
       "      <td>-0.003137</td>\n",
       "      <td>1</td>\n",
       "      <td>0.01%</td>\n",
       "    </tr>\n",
       "    <tr>\n",
       "      <td>ac_e</td>\n",
       "      <td>EX_ac_e_</td>\n",
       "      <td>-19.75</td>\n",
       "      <td>2</td>\n",
       "      <td>63.50%</td>\n",
       "    </tr>\n",
       "    <tr>\n",
       "      <td>co2_e</td>\n",
       "      <td>EX_co2_e_</td>\n",
       "      <td>-22.63</td>\n",
       "      <td>1</td>\n",
       "      <td>36.38%</td>\n",
       "    </tr>\n",
       "    <tr>\n",
       "      <td>glyclt_e</td>\n",
       "      <td>EX_glyclt_e_</td>\n",
       "      <td>-0.0002712</td>\n",
       "      <td>2</td>\n",
       "      <td>0.00%</td>\n",
       "    </tr>\n",
       "    <tr>\n",
       "      <td>h2o_e</td>\n",
       "      <td>EX_h2o_e_</td>\n",
       "      <td>-3.718</td>\n",
       "      <td>0</td>\n",
       "      <td>0.00%</td>\n",
       "    </tr>\n",
       "    <tr>\n",
       "      <td>nh4_e</td>\n",
       "      <td>EX_nh4_e_</td>\n",
       "      <td>-22.54</td>\n",
       "      <td>0</td>\n",
       "      <td>0.00%</td>\n",
       "    </tr>\n",
       "  </tbody>\n",
       "</table>"
      ],
      "text/plain": [
       "<cobra.summary.model_summary.ModelSummary at 0x20f4d69bdc0>"
      ]
     },
     "execution_count": 52,
     "metadata": {},
     "output_type": "execute_result"
    }
   ],
   "source": [
    "rpmi_with_lactate_only(model)\n",
    "model.summary()"
   ]
  },
  {
   "cell_type": "code",
   "execution_count": 53,
   "id": "530fc7dd-f431-4e27-a12e-9ecb18b91eb1",
   "metadata": {},
   "outputs": [
    {
     "data": {
      "text/html": [
       "\n",
       "        <table>\n",
       "            <tr>\n",
       "                <td><strong>Reaction identifier</strong></td><td>L_LACD2</td>\n",
       "            </tr><tr>\n",
       "                <td><strong>Name</strong></td><td>R_L_LACD2</td>\n",
       "            </tr><tr>\n",
       "                <td><strong>Memory address</strong></td>\n",
       "                <td>0x020f45e67fd0</td>\n",
       "            </tr><tr>\n",
       "                <td><strong>Stoichiometry</strong></td>\n",
       "                <td>\n",
       "                    <p style='text-align:right'>lac_L_c + q8_c --> pyr_c + q8h2_c</p>\n",
       "                    <p style='text-align:right'>L-Lactate + Ubiquinone-8 --> Pyruvate + Ubiquinol-8</p>\n",
       "                </td>\n",
       "            </tr><tr>\n",
       "                <td><strong>GPR</strong></td><td>NGO0639 or (NGO0904 and NGO0905 and NGO0906)</td>\n",
       "            </tr><tr>\n",
       "                <td><strong>Lower bound</strong></td><td>0.0</td>\n",
       "            </tr><tr>\n",
       "                <td><strong>Upper bound</strong></td><td>999999.0</td>\n",
       "            </tr>\n",
       "        </table>\n",
       "        "
      ],
      "text/plain": [
       "<Reaction L_LACD2 at 0x20f45e67fd0>"
      ]
     },
     "execution_count": 53,
     "metadata": {},
     "output_type": "execute_result"
    }
   ],
   "source": [
    "#L_LACD2 is done by lldD (NGO0639), and l-lactate dehydrogenase that is quinone dependent. \n",
    "#IT was also found that lutCAB (NGO0904-NGO0906) are also L-lactate dehydrogenases, predicted to be quinone dependent.\n",
    "# These are added here. \n",
    "model.reactions.get_by_id('L_LACD2').gene_reaction_rule='NGO0639 or (NGO0904 and NGO0905 and NGO0906)'\n",
    "model.reactions.get_by_id('L_LACD2')\n",
    "\n"
   ]
  },
  {
   "cell_type": "code",
   "execution_count": 54,
   "id": "65f6fafe-d016-40e6-a5cd-4220ab42438f",
   "metadata": {},
   "outputs": [
    {
     "data": {
      "text/html": [
       "<h3>Objective</h3><p>1.0 Nm_Ess_biomass = 0.4054097879672639</p><h4>Uptake</h4><table border=\"1\" class=\"dataframe\">\n",
       "  <thead>\n",
       "    <tr style=\"text-align: right;\">\n",
       "      <th>Metabolite</th>\n",
       "      <th>Reaction</th>\n",
       "      <th>Flux</th>\n",
       "      <th>C-Number</th>\n",
       "      <th>C-Flux</th>\n",
       "    </tr>\n",
       "  </thead>\n",
       "  <tbody>\n",
       "    <tr>\n",
       "      <td>arg_L_e</td>\n",
       "      <td>EX_arg_L_e_</td>\n",
       "      <td>0.1354</td>\n",
       "      <td>6</td>\n",
       "      <td>1.03%</td>\n",
       "    </tr>\n",
       "    <tr>\n",
       "      <td>asn_L_e</td>\n",
       "      <td>EX_asn_L_e_</td>\n",
       "      <td>0.102</td>\n",
       "      <td>4</td>\n",
       "      <td>0.52%</td>\n",
       "    </tr>\n",
       "    <tr>\n",
       "      <td>asp_L_e</td>\n",
       "      <td>EX_asp_L_e_</td>\n",
       "      <td>0.2643</td>\n",
       "      <td>4</td>\n",
       "      <td>1.34%</td>\n",
       "    </tr>\n",
       "    <tr>\n",
       "      <td>ca2_e</td>\n",
       "      <td>EX_ca2_e_</td>\n",
       "      <td>0.00192</td>\n",
       "      <td>0</td>\n",
       "      <td>0.00%</td>\n",
       "    </tr>\n",
       "    <tr>\n",
       "      <td>cl_e</td>\n",
       "      <td>EX_cl_e_</td>\n",
       "      <td>0.00192</td>\n",
       "      <td>0</td>\n",
       "      <td>0.00%</td>\n",
       "    </tr>\n",
       "    <tr>\n",
       "      <td>cobalt2_e</td>\n",
       "      <td>EX_cobalt2_e_</td>\n",
       "      <td>0.00128</td>\n",
       "      <td>0</td>\n",
       "      <td>0.00%</td>\n",
       "    </tr>\n",
       "    <tr>\n",
       "      <td>cu2_e</td>\n",
       "      <td>EX_cu2_e_</td>\n",
       "      <td>0.00128</td>\n",
       "      <td>0</td>\n",
       "      <td>0.00%</td>\n",
       "    </tr>\n",
       "    <tr>\n",
       "      <td>cys_L_e</td>\n",
       "      <td>EX_cys_L_e_</td>\n",
       "      <td>0.03201</td>\n",
       "      <td>3</td>\n",
       "      <td>0.12%</td>\n",
       "    </tr>\n",
       "    <tr>\n",
       "      <td>fe3_e</td>\n",
       "      <td>EX_fe3_e_</td>\n",
       "      <td>0.005942</td>\n",
       "      <td>0</td>\n",
       "      <td>0.00%</td>\n",
       "    </tr>\n",
       "    <tr>\n",
       "      <td>glu_L_e</td>\n",
       "      <td>EX_glu_L_e_</td>\n",
       "      <td>0.2879</td>\n",
       "      <td>5</td>\n",
       "      <td>1.83%</td>\n",
       "    </tr>\n",
       "    <tr>\n",
       "      <td>gly_e</td>\n",
       "      <td>EX_gly_e_</td>\n",
       "      <td>4.156</td>\n",
       "      <td>2</td>\n",
       "      <td>10.56%</td>\n",
       "    </tr>\n",
       "    <tr>\n",
       "      <td>h_e</td>\n",
       "      <td>EX_h_e_</td>\n",
       "      <td>5.819</td>\n",
       "      <td>0</td>\n",
       "      <td>0.00%</td>\n",
       "    </tr>\n",
       "    <tr>\n",
       "      <td>his_L_e</td>\n",
       "      <td>EX_his_L_e_</td>\n",
       "      <td>0.041</td>\n",
       "      <td>6</td>\n",
       "      <td>0.31%</td>\n",
       "    </tr>\n",
       "    <tr>\n",
       "      <td>ile_L_e</td>\n",
       "      <td>EX_ile_L_e_</td>\n",
       "      <td>0.1183</td>\n",
       "      <td>6</td>\n",
       "      <td>0.90%</td>\n",
       "    </tr>\n",
       "    <tr>\n",
       "      <td>k_e</td>\n",
       "      <td>EX_k_e_</td>\n",
       "      <td>0.072</td>\n",
       "      <td>0</td>\n",
       "      <td>0.00%</td>\n",
       "    </tr>\n",
       "    <tr>\n",
       "      <td>leu_L_e</td>\n",
       "      <td>EX_leu_L_e_</td>\n",
       "      <td>0.1916</td>\n",
       "      <td>6</td>\n",
       "      <td>1.46%</td>\n",
       "    </tr>\n",
       "    <tr>\n",
       "      <td>lys_L_e</td>\n",
       "      <td>EX_lys_L_e_</td>\n",
       "      <td>0.1423</td>\n",
       "      <td>6</td>\n",
       "      <td>1.08%</td>\n",
       "    </tr>\n",
       "    <tr>\n",
       "      <td>met_L_e</td>\n",
       "      <td>EX_met_L_e_</td>\n",
       "      <td>0.04157</td>\n",
       "      <td>5</td>\n",
       "      <td>0.26%</td>\n",
       "    </tr>\n",
       "    <tr>\n",
       "      <td>mg2_e</td>\n",
       "      <td>EX_mg2_e_</td>\n",
       "      <td>0.003201</td>\n",
       "      <td>0</td>\n",
       "      <td>0.00%</td>\n",
       "    </tr>\n",
       "    <tr>\n",
       "      <td>mn2_e</td>\n",
       "      <td>EX_mn2_e_</td>\n",
       "      <td>0.00128</td>\n",
       "      <td>0</td>\n",
       "      <td>0.00%</td>\n",
       "    </tr>\n",
       "    <tr>\n",
       "      <td>mobd_e</td>\n",
       "      <td>EX_mobd_e_</td>\n",
       "      <td>0.00128</td>\n",
       "      <td>0</td>\n",
       "      <td>0.00%</td>\n",
       "    </tr>\n",
       "    <tr>\n",
       "      <td>o2_e</td>\n",
       "      <td>EX_o2_e_</td>\n",
       "      <td>10</td>\n",
       "      <td>0</td>\n",
       "      <td>0.00%</td>\n",
       "    </tr>\n",
       "    <tr>\n",
       "      <td>phe_L_e</td>\n",
       "      <td>EX_phe_L_e_</td>\n",
       "      <td>0.08069</td>\n",
       "      <td>9</td>\n",
       "      <td>0.92%</td>\n",
       "    </tr>\n",
       "    <tr>\n",
       "      <td>pi_e</td>\n",
       "      <td>EX_pi_e_</td>\n",
       "      <td>0.2967</td>\n",
       "      <td>0</td>\n",
       "      <td>0.00%</td>\n",
       "    </tr>\n",
       "    <tr>\n",
       "      <td>pro_L_e</td>\n",
       "      <td>EX_pro_L_e_</td>\n",
       "      <td>0.09991</td>\n",
       "      <td>5</td>\n",
       "      <td>0.63%</td>\n",
       "    </tr>\n",
       "    <tr>\n",
       "      <td>ser_L_e</td>\n",
       "      <td>EX_ser_L_e_</td>\n",
       "      <td>20</td>\n",
       "      <td>3</td>\n",
       "      <td>76.20%</td>\n",
       "    </tr>\n",
       "    <tr>\n",
       "      <td>so4_e</td>\n",
       "      <td>EX_so4_e_</td>\n",
       "      <td>0.001601</td>\n",
       "      <td>0</td>\n",
       "      <td>0.00%</td>\n",
       "    </tr>\n",
       "    <tr>\n",
       "      <td>thr_L_e</td>\n",
       "      <td>EX_thr_L_e_</td>\n",
       "      <td>0.1172</td>\n",
       "      <td>4</td>\n",
       "      <td>0.60%</td>\n",
       "    </tr>\n",
       "    <tr>\n",
       "      <td>trp_L_e</td>\n",
       "      <td>EX_trp_L_e_</td>\n",
       "      <td>0.02795</td>\n",
       "      <td>11</td>\n",
       "      <td>0.39%</td>\n",
       "    </tr>\n",
       "    <tr>\n",
       "      <td>tyr_L_e</td>\n",
       "      <td>EX_tyr_L_e_</td>\n",
       "      <td>0.05798</td>\n",
       "      <td>9</td>\n",
       "      <td>0.66%</td>\n",
       "    </tr>\n",
       "    <tr>\n",
       "      <td>val_L_e</td>\n",
       "      <td>EX_val_L_e_</td>\n",
       "      <td>0.1854</td>\n",
       "      <td>5</td>\n",
       "      <td>1.18%</td>\n",
       "    </tr>\n",
       "    <tr>\n",
       "      <td>zn2_e</td>\n",
       "      <td>EX_zn2_e_</td>\n",
       "      <td>0.00128</td>\n",
       "      <td>0</td>\n",
       "      <td>0.00%</td>\n",
       "    </tr>\n",
       "  </tbody>\n",
       "</table><h4>Secretion</h4><table border=\"1\" class=\"dataframe\">\n",
       "  <thead>\n",
       "    <tr style=\"text-align: right;\">\n",
       "      <th>Metabolite</th>\n",
       "      <th>Reaction</th>\n",
       "      <th>Flux</th>\n",
       "      <th>C-Number</th>\n",
       "      <th>C-Flux</th>\n",
       "    </tr>\n",
       "  </thead>\n",
       "  <tbody>\n",
       "    <tr>\n",
       "      <td>4hba_c</td>\n",
       "      <td>DM_4HBA</td>\n",
       "      <td>-0.0001111</td>\n",
       "      <td>7</td>\n",
       "      <td>0.00%</td>\n",
       "    </tr>\n",
       "    <tr>\n",
       "      <td>5drib_c</td>\n",
       "      <td>DM_5DRIB</td>\n",
       "      <td>-0.0001816</td>\n",
       "      <td>5</td>\n",
       "      <td>0.00%</td>\n",
       "    </tr>\n",
       "    <tr>\n",
       "      <td>amob_c</td>\n",
       "      <td>DM_AMOB</td>\n",
       "      <td>-8.067E-07</td>\n",
       "      <td>15</td>\n",
       "      <td>0.00%</td>\n",
       "    </tr>\n",
       "    <tr>\n",
       "      <td>essbiomass</td>\n",
       "      <td>DM_ESSBIOMASS</td>\n",
       "      <td>-0.4054</td>\n",
       "      <td>0</td>\n",
       "      <td>0.00%</td>\n",
       "    </tr>\n",
       "    <tr>\n",
       "      <td>hmfurn_c</td>\n",
       "      <td>DM_HMFURN</td>\n",
       "      <td>-0.0001808</td>\n",
       "      <td>5</td>\n",
       "      <td>0.00%</td>\n",
       "    </tr>\n",
       "    <tr>\n",
       "      <td>pap_c</td>\n",
       "      <td>DM_PAP</td>\n",
       "      <td>-0.007056</td>\n",
       "      <td>10</td>\n",
       "      <td>0.11%</td>\n",
       "    </tr>\n",
       "    <tr>\n",
       "      <td>urea_c</td>\n",
       "      <td>DM_UREA</td>\n",
       "      <td>-0.003137</td>\n",
       "      <td>1</td>\n",
       "      <td>0.01%</td>\n",
       "    </tr>\n",
       "    <tr>\n",
       "      <td>ac_e</td>\n",
       "      <td>EX_ac_e_</td>\n",
       "      <td>-19.75</td>\n",
       "      <td>2</td>\n",
       "      <td>63.50%</td>\n",
       "    </tr>\n",
       "    <tr>\n",
       "      <td>co2_e</td>\n",
       "      <td>EX_co2_e_</td>\n",
       "      <td>-22.63</td>\n",
       "      <td>1</td>\n",
       "      <td>36.38%</td>\n",
       "    </tr>\n",
       "    <tr>\n",
       "      <td>glyclt_e</td>\n",
       "      <td>EX_glyclt_e_</td>\n",
       "      <td>-0.0002712</td>\n",
       "      <td>2</td>\n",
       "      <td>0.00%</td>\n",
       "    </tr>\n",
       "    <tr>\n",
       "      <td>h2o_e</td>\n",
       "      <td>EX_h2o_e_</td>\n",
       "      <td>-3.718</td>\n",
       "      <td>0</td>\n",
       "      <td>0.00%</td>\n",
       "    </tr>\n",
       "    <tr>\n",
       "      <td>nh4_e</td>\n",
       "      <td>EX_nh4_e_</td>\n",
       "      <td>-22.54</td>\n",
       "      <td>0</td>\n",
       "      <td>0.00%</td>\n",
       "    </tr>\n",
       "  </tbody>\n",
       "</table>"
      ],
      "text/plain": [
       "<cobra.summary.model_summary.ModelSummary at 0x20f4d69be20>"
      ]
     },
     "execution_count": 54,
     "metadata": {},
     "output_type": "execute_result"
    }
   ],
   "source": [
    "rpmi_with_lactate_only(model)\n",
    "model.summary()"
   ]
  },
  {
   "cell_type": "code",
   "execution_count": 55,
   "id": "2be51370-26ed-4edc-8395-9b49a39db525",
   "metadata": {},
   "outputs": [
    {
     "data": {
      "text/html": [
       "\n",
       "        <table>\n",
       "            <tr>\n",
       "                <td><strong>Gene identifier</strong></td><td>NGO1449</td>\n",
       "            </tr><tr>\n",
       "                <td><strong>Name</strong></td><td></td>\n",
       "            </tr><tr>\n",
       "                <td><strong>Memory address</strong></td>\n",
       "                <td>0x020f45b8b430</td>\n",
       "            </tr><tr>\n",
       "                <td><strong>Functional</strong></td><td>True</td>\n",
       "            </tr><tr>\n",
       "                <td><strong>In 3 reaction(s)</strong></td><td>\n",
       "                    DLACt2pp, GLYCLTt2rpp, LLACt3pp</td>\n",
       "            </tr>\n",
       "        </table>"
      ],
      "text/plain": [
       "<Gene NGO1449 at 0x20f45b8b430>"
      ]
     },
     "execution_count": 55,
     "metadata": {},
     "output_type": "execute_result"
    }
   ],
   "source": [
    "model.genes.get_by_id('NGO1449')"
   ]
  },
  {
   "cell_type": "code",
   "execution_count": 56,
   "id": "ba9810e3-3443-446c-9b5e-7342b61cb4f7",
   "metadata": {},
   "outputs": [
    {
     "data": {
      "text/html": [
       "\n",
       "        <table>\n",
       "            <tr>\n",
       "                <td><strong>Reaction identifier</strong></td><td>DLACt2pp</td>\n",
       "            </tr><tr>\n",
       "                <td><strong>Name</strong></td><td>R_DLACt2pp</td>\n",
       "            </tr><tr>\n",
       "                <td><strong>Memory address</strong></td>\n",
       "                <td>0x020f45cff310</td>\n",
       "            </tr><tr>\n",
       "                <td><strong>Stoichiometry</strong></td>\n",
       "                <td>\n",
       "                    <p style='text-align:right'>h_p + lac_D_p <=> h_c + lac_D_c</p>\n",
       "                    <p style='text-align:right'>H + D-Lactate <=> H + D-Lactate</p>\n",
       "                </td>\n",
       "            </tr><tr>\n",
       "                <td><strong>GPR</strong></td><td>NGO1449</td>\n",
       "            </tr><tr>\n",
       "                <td><strong>Lower bound</strong></td><td>-999999.0</td>\n",
       "            </tr><tr>\n",
       "                <td><strong>Upper bound</strong></td><td>999999.0</td>\n",
       "            </tr>\n",
       "        </table>\n",
       "        "
      ],
      "text/plain": [
       "<Reaction DLACt2pp at 0x20f45cff310>"
      ]
     },
     "execution_count": 56,
     "metadata": {},
     "output_type": "execute_result"
    }
   ],
   "source": [
    "#L-LActate transport is abolished in an lctP (NGO1449) mutant, therefore, removing NGO1361 from L-lactate transport.\n",
    "#NGO1361 is homologous to the L-lactate transporter lldP from E. coli, however it is much shorter in Gc, only 71 amino acids. It appears to be truncated/nonfunctioal. \n",
    "# So I am removing it also from DLACt2pp transport.\n",
    "\n",
    "model.reactions.get_by_id('LLACt3pp')\n",
    "model.reactions.get_by_id('LLACt3pp').gene_reaction_rule='NGO1449'\n",
    "model.reactions.get_by_id('LLACt3pp')\n",
    "\n",
    "model.reactions.get_by_id('DLACt2pp')\n",
    "model.reactions.get_by_id('DLACt2pp').gene_reaction_rule='NGO1449'\n",
    "model.reactions.get_by_id('DLACt2pp')\n",
    "\n"
   ]
  },
  {
   "cell_type": "code",
   "execution_count": 57,
   "id": "2c3ac8ea-7e44-4ba1-8f00-d50b9f6a71cd",
   "metadata": {},
   "outputs": [
    {
     "data": {
      "text/html": [
       "<h3>Objective</h3><p>1.0 Nm_Ess_biomass = 0.8582334451809464</p><h4>Uptake</h4><table border=\"1\" class=\"dataframe\">\n",
       "  <thead>\n",
       "    <tr style=\"text-align: right;\">\n",
       "      <th>Metabolite</th>\n",
       "      <th>Reaction</th>\n",
       "      <th>Flux</th>\n",
       "      <th>C-Number</th>\n",
       "      <th>C-Flux</th>\n",
       "    </tr>\n",
       "  </thead>\n",
       "  <tbody>\n",
       "    <tr>\n",
       "      <td>arg_L_e</td>\n",
       "      <td>EX_arg_L_e_</td>\n",
       "      <td>0.2866</td>\n",
       "      <td>6</td>\n",
       "      <td>1.19%</td>\n",
       "    </tr>\n",
       "    <tr>\n",
       "      <td>asn_L_e</td>\n",
       "      <td>EX_asn_L_e_</td>\n",
       "      <td>0.2159</td>\n",
       "      <td>4</td>\n",
       "      <td>0.60%</td>\n",
       "    </tr>\n",
       "    <tr>\n",
       "      <td>asp_L_e</td>\n",
       "      <td>EX_asp_L_e_</td>\n",
       "      <td>3.727</td>\n",
       "      <td>4</td>\n",
       "      <td>10.35%</td>\n",
       "    </tr>\n",
       "    <tr>\n",
       "      <td>ca2_e</td>\n",
       "      <td>EX_ca2_e_</td>\n",
       "      <td>0.004065</td>\n",
       "      <td>0</td>\n",
       "      <td>0.00%</td>\n",
       "    </tr>\n",
       "    <tr>\n",
       "      <td>cl_e</td>\n",
       "      <td>EX_cl_e_</td>\n",
       "      <td>0.004065</td>\n",
       "      <td>0</td>\n",
       "      <td>0.00%</td>\n",
       "    </tr>\n",
       "    <tr>\n",
       "      <td>cobalt2_e</td>\n",
       "      <td>EX_cobalt2_e_</td>\n",
       "      <td>0.00271</td>\n",
       "      <td>0</td>\n",
       "      <td>0.00%</td>\n",
       "    </tr>\n",
       "    <tr>\n",
       "      <td>cu2_e</td>\n",
       "      <td>EX_cu2_e_</td>\n",
       "      <td>0.00271</td>\n",
       "      <td>0</td>\n",
       "      <td>0.00%</td>\n",
       "    </tr>\n",
       "    <tr>\n",
       "      <td>cys_L_e</td>\n",
       "      <td>EX_cys_L_e_</td>\n",
       "      <td>3.235</td>\n",
       "      <td>3</td>\n",
       "      <td>6.74%</td>\n",
       "    </tr>\n",
       "    <tr>\n",
       "      <td>fe3_e</td>\n",
       "      <td>EX_fe3_e_</td>\n",
       "      <td>0.01258</td>\n",
       "      <td>0</td>\n",
       "      <td>0.00%</td>\n",
       "    </tr>\n",
       "    <tr>\n",
       "      <td>glc_D_e</td>\n",
       "      <td>EX_glc_D_e_</td>\n",
       "      <td>10</td>\n",
       "      <td>6</td>\n",
       "      <td>41.64%</td>\n",
       "    </tr>\n",
       "    <tr>\n",
       "      <td>glu_L_e</td>\n",
       "      <td>EX_glu_L_e_</td>\n",
       "      <td>0.6094</td>\n",
       "      <td>5</td>\n",
       "      <td>2.11%</td>\n",
       "    </tr>\n",
       "    <tr>\n",
       "      <td>gly_e</td>\n",
       "      <td>EX_gly_e_</td>\n",
       "      <td>5.134</td>\n",
       "      <td>2</td>\n",
       "      <td>7.13%</td>\n",
       "    </tr>\n",
       "    <tr>\n",
       "      <td>his_L_e</td>\n",
       "      <td>EX_his_L_e_</td>\n",
       "      <td>0.08679</td>\n",
       "      <td>6</td>\n",
       "      <td>0.36%</td>\n",
       "    </tr>\n",
       "    <tr>\n",
       "      <td>ile_L_e</td>\n",
       "      <td>EX_ile_L_e_</td>\n",
       "      <td>0.2505</td>\n",
       "      <td>6</td>\n",
       "      <td>1.04%</td>\n",
       "    </tr>\n",
       "    <tr>\n",
       "      <td>k_e</td>\n",
       "      <td>EX_k_e_</td>\n",
       "      <td>0.1524</td>\n",
       "      <td>0</td>\n",
       "      <td>0.00%</td>\n",
       "    </tr>\n",
       "    <tr>\n",
       "      <td>leu_L_e</td>\n",
       "      <td>EX_leu_L_e_</td>\n",
       "      <td>0.4056</td>\n",
       "      <td>6</td>\n",
       "      <td>1.69%</td>\n",
       "    </tr>\n",
       "    <tr>\n",
       "      <td>lys_L_e</td>\n",
       "      <td>EX_lys_L_e_</td>\n",
       "      <td>0.3013</td>\n",
       "      <td>6</td>\n",
       "      <td>1.25%</td>\n",
       "    </tr>\n",
       "    <tr>\n",
       "      <td>mg2_e</td>\n",
       "      <td>EX_mg2_e_</td>\n",
       "      <td>0.006776</td>\n",
       "      <td>0</td>\n",
       "      <td>0.00%</td>\n",
       "    </tr>\n",
       "    <tr>\n",
       "      <td>mn2_e</td>\n",
       "      <td>EX_mn2_e_</td>\n",
       "      <td>0.00271</td>\n",
       "      <td>0</td>\n",
       "      <td>0.00%</td>\n",
       "    </tr>\n",
       "    <tr>\n",
       "      <td>mobd_e</td>\n",
       "      <td>EX_mobd_e_</td>\n",
       "      <td>0.00271</td>\n",
       "      <td>0</td>\n",
       "      <td>0.00%</td>\n",
       "    </tr>\n",
       "    <tr>\n",
       "      <td>o2_e</td>\n",
       "      <td>EX_o2_e_</td>\n",
       "      <td>20</td>\n",
       "      <td>0</td>\n",
       "      <td>0.00%</td>\n",
       "    </tr>\n",
       "    <tr>\n",
       "      <td>phe_L_e</td>\n",
       "      <td>EX_phe_L_e_</td>\n",
       "      <td>0.1708</td>\n",
       "      <td>9</td>\n",
       "      <td>1.07%</td>\n",
       "    </tr>\n",
       "    <tr>\n",
       "      <td>pi_e</td>\n",
       "      <td>EX_pi_e_</td>\n",
       "      <td>0.6282</td>\n",
       "      <td>0</td>\n",
       "      <td>0.00%</td>\n",
       "    </tr>\n",
       "    <tr>\n",
       "      <td>pro_L_e</td>\n",
       "      <td>EX_pro_L_e_</td>\n",
       "      <td>0.2115</td>\n",
       "      <td>5</td>\n",
       "      <td>0.73%</td>\n",
       "    </tr>\n",
       "    <tr>\n",
       "      <td>ser_L_e</td>\n",
       "      <td>EX_ser_L_e_</td>\n",
       "      <td>10</td>\n",
       "      <td>3</td>\n",
       "      <td>20.82%</td>\n",
       "    </tr>\n",
       "    <tr>\n",
       "      <td>so4_e</td>\n",
       "      <td>EX_so4_e_</td>\n",
       "      <td>0.003388</td>\n",
       "      <td>0</td>\n",
       "      <td>0.00%</td>\n",
       "    </tr>\n",
       "    <tr>\n",
       "      <td>thr_L_e</td>\n",
       "      <td>EX_thr_L_e_</td>\n",
       "      <td>0.248</td>\n",
       "      <td>4</td>\n",
       "      <td>0.69%</td>\n",
       "    </tr>\n",
       "    <tr>\n",
       "      <td>trp_L_e</td>\n",
       "      <td>EX_trp_L_e_</td>\n",
       "      <td>0.05917</td>\n",
       "      <td>11</td>\n",
       "      <td>0.45%</td>\n",
       "    </tr>\n",
       "    <tr>\n",
       "      <td>tyr_L_e</td>\n",
       "      <td>EX_tyr_L_e_</td>\n",
       "      <td>0.1227</td>\n",
       "      <td>9</td>\n",
       "      <td>0.77%</td>\n",
       "    </tr>\n",
       "    <tr>\n",
       "      <td>val_L_e</td>\n",
       "      <td>EX_val_L_e_</td>\n",
       "      <td>0.3924</td>\n",
       "      <td>5</td>\n",
       "      <td>1.36%</td>\n",
       "    </tr>\n",
       "    <tr>\n",
       "      <td>zn2_e</td>\n",
       "      <td>EX_zn2_e_</td>\n",
       "      <td>0.002711</td>\n",
       "      <td>0</td>\n",
       "      <td>0.00%</td>\n",
       "    </tr>\n",
       "  </tbody>\n",
       "</table><h4>Secretion</h4><table border=\"1\" class=\"dataframe\">\n",
       "  <thead>\n",
       "    <tr style=\"text-align: right;\">\n",
       "      <th>Metabolite</th>\n",
       "      <th>Reaction</th>\n",
       "      <th>Flux</th>\n",
       "      <th>C-Number</th>\n",
       "      <th>C-Flux</th>\n",
       "    </tr>\n",
       "  </thead>\n",
       "  <tbody>\n",
       "    <tr>\n",
       "      <td>4hba_c</td>\n",
       "      <td>DM_4HBA</td>\n",
       "      <td>-0.0002227</td>\n",
       "      <td>7</td>\n",
       "      <td>0.00%</td>\n",
       "    </tr>\n",
       "    <tr>\n",
       "      <td>5drib_c</td>\n",
       "      <td>DM_5DRIB</td>\n",
       "      <td>-0.0003845</td>\n",
       "      <td>5</td>\n",
       "      <td>0.00%</td>\n",
       "    </tr>\n",
       "    <tr>\n",
       "      <td>amob_c</td>\n",
       "      <td>DM_AMOB</td>\n",
       "      <td>-1.708E-06</td>\n",
       "      <td>15</td>\n",
       "      <td>0.00%</td>\n",
       "    </tr>\n",
       "    <tr>\n",
       "      <td>essbiomass</td>\n",
       "      <td>DM_ESSBIOMASS</td>\n",
       "      <td>-0.8582</td>\n",
       "      <td>0</td>\n",
       "      <td>0.00%</td>\n",
       "    </tr>\n",
       "    <tr>\n",
       "      <td>hmfurn_c</td>\n",
       "      <td>DM_HMFURN</td>\n",
       "      <td>-0.0003828</td>\n",
       "      <td>5</td>\n",
       "      <td>0.00%</td>\n",
       "    </tr>\n",
       "    <tr>\n",
       "      <td>pap_c</td>\n",
       "      <td>DM_PAP</td>\n",
       "      <td>-0.01494</td>\n",
       "      <td>10</td>\n",
       "      <td>0.14%</td>\n",
       "    </tr>\n",
       "    <tr>\n",
       "      <td>urea_c</td>\n",
       "      <td>DM_UREA</td>\n",
       "      <td>-0.006641</td>\n",
       "      <td>1</td>\n",
       "      <td>0.01%</td>\n",
       "    </tr>\n",
       "    <tr>\n",
       "      <td>ac_e</td>\n",
       "      <td>EX_ac_e_</td>\n",
       "      <td>-29.22</td>\n",
       "      <td>2</td>\n",
       "      <td>53.58%</td>\n",
       "    </tr>\n",
       "    <tr>\n",
       "      <td>co2_e</td>\n",
       "      <td>EX_co2_e_</td>\n",
       "      <td>-35.07</td>\n",
       "      <td>1</td>\n",
       "      <td>32.15%</td>\n",
       "    </tr>\n",
       "    <tr>\n",
       "      <td>glyclt_e</td>\n",
       "      <td>EX_glyclt_e_</td>\n",
       "      <td>-0.0005742</td>\n",
       "      <td>2</td>\n",
       "      <td>0.00%</td>\n",
       "    </tr>\n",
       "    <tr>\n",
       "      <td>h2o_e</td>\n",
       "      <td>EX_h2o_e_</td>\n",
       "      <td>-24.7</td>\n",
       "      <td>0</td>\n",
       "      <td>0.00%</td>\n",
       "    </tr>\n",
       "    <tr>\n",
       "      <td>h_e</td>\n",
       "      <td>EX_h_e_</td>\n",
       "      <td>-4.763</td>\n",
       "      <td>0</td>\n",
       "      <td>0.00%</td>\n",
       "    </tr>\n",
       "    <tr>\n",
       "      <td>met_L_e</td>\n",
       "      <td>EX_met_L_e_</td>\n",
       "      <td>-3.079</td>\n",
       "      <td>5</td>\n",
       "      <td>14.12%</td>\n",
       "    </tr>\n",
       "    <tr>\n",
       "      <td>nh4_e</td>\n",
       "      <td>EX_nh4_e_</td>\n",
       "      <td>-14.87</td>\n",
       "      <td>0</td>\n",
       "      <td>0.00%</td>\n",
       "    </tr>\n",
       "  </tbody>\n",
       "</table>"
      ],
      "text/plain": [
       "<cobra.summary.model_summary.ModelSummary at 0x20f4c170d30>"
      ]
     },
     "execution_count": 57,
     "metadata": {},
     "output_type": "execute_result"
    }
   ],
   "source": [
    "rpmi(model)\n",
    "model.summary()"
   ]
  },
  {
   "cell_type": "code",
   "execution_count": 58,
   "id": "76c312c7-8a78-4f1d-8a78-ce36d4d0e6bb",
   "metadata": {},
   "outputs": [
    {
     "data": {
      "text/html": [
       "\n",
       "        <table>\n",
       "            <tr>\n",
       "                <td><strong>Reaction identifier</strong></td><td>UCYR</td>\n",
       "            </tr><tr>\n",
       "                <td><strong>Name</strong></td><td>R_UCYR</td>\n",
       "            </tr><tr>\n",
       "                <td><strong>Memory address</strong></td>\n",
       "                <td>0x020f460aadc0</td>\n",
       "            </tr><tr>\n",
       "                <td><strong>Stoichiometry</strong></td>\n",
       "                <td>\n",
       "                    <p style='text-align:right'>2.0 focytC_p + q8h2_c <=> 2.0 ficytC_p + 2.0 h_p + q8_c</p>\n",
       "                    <p style='text-align:right'>2.0 ferrocytochrome, cytc + Ubiquinol-8 <=> 2.0 ferricytochrome, cytc + 2.0 H + Ubiquinone-8</p>\n",
       "                </td>\n",
       "            </tr><tr>\n",
       "                <td><strong>GPR</strong></td><td>NGO2031 and NGO2030 and NGO2029 and (NGO1080 or NGO0101 or Orphan)</td>\n",
       "            </tr><tr>\n",
       "                <td><strong>Lower bound</strong></td><td>-999999.0</td>\n",
       "            </tr><tr>\n",
       "                <td><strong>Upper bound</strong></td><td>999999.0</td>\n",
       "            </tr>\n",
       "        </table>\n",
       "        "
      ],
      "text/plain": [
       "<Reaction UCYR at 0x20f460aadc0>"
      ]
     },
     "execution_count": 58,
     "metadata": {},
     "output_type": "execute_result"
    }
   ],
   "source": [
    "model.reactions.get_by_id('UCYR')"
   ]
  },
  {
   "cell_type": "code",
   "execution_count": 59,
   "id": "910eab6a-ad25-448b-9900-f9065b1f4a91",
   "metadata": {},
   "outputs": [
    {
     "data": {
      "text/html": [
       "\n",
       "        <table>\n",
       "            <tr>\n",
       "                <td><strong>Metabolite identifier</strong></td><td>q8_c</td>\n",
       "            </tr><tr>\n",
       "                <td><strong>Name</strong></td><td>Ubiquinone-8</td>\n",
       "            </tr><tr>\n",
       "                <td><strong>Memory address</strong></td>\n",
       "                <td>0x020f45aa3ee0</td>\n",
       "            </tr><tr>\n",
       "                <td><strong>Formula</strong></td><td>C49H74O4</td>\n",
       "            </tr><tr>\n",
       "                <td><strong>Compartment</strong></td><td>Cytosol</td>\n",
       "            </tr><tr>\n",
       "                <td><strong>In 12 reaction(s)</strong></td><td>\n",
       "                    FUMR, NADHQNa, NADH5, MDH2, NADPHQR2, NADH16pp, DHORD2, SUCD1, ASPO3, UCYR, L_LACD2, LDH_D2</td>\n",
       "            </tr>\n",
       "        </table>"
      ],
      "text/plain": [
       "<Metabolite q8_c at 0x20f45aa3ee0>"
      ]
     },
     "execution_count": 59,
     "metadata": {},
     "output_type": "execute_result"
    }
   ],
   "source": [
    "model.metabolites.get_by_id('q8_c')"
   ]
  },
  {
   "cell_type": "code",
   "execution_count": 60,
   "id": "de9ffd20-e7c1-4937-bd6d-d593c82ac336",
   "metadata": {},
   "outputs": [],
   "source": [
    "rpmi_req=set(['EX_apoACP_c_', 'EX_trdrd_c_','EX_cobalt2_e_','EX_cu2_e_','EX_fe3_e_','EX_mn2_e_','EX_mobd_e_','EX_zn2_e_','EX_ca2_e_','EX_no3_e_','EX_h2o_e_','EX_k_e_','EX_cl_e_','EX_mg2_e_','EX_so4_e_','EX_na1_e_','EX_pi_e_','EX_h_e_','EX_arg_L_e_','EX_asn_L_e_','EX_asp_L_e_','EX_cys_L_e_','EX_glu_L_e_','EX_gly_e_','EX_his_L_e_','EX_ile_L_e_','EX_leu_L_e_','EX_lys_L_e_','EX_met_L_e_','EX_phe_L_e_','EX_pro_L_e_','EX_ser_L_e_','EX_thr_L_e_','EX_trp_L_e_','EX_tyr_L_e_','EX_val_L_e_','EX_pnto_R_e_','EX_chol_e_','EX_inost_e_','EX_glc_D_e_','EX_gthrd_e_','EX_co2_e_'])\n",
    "\n",
    "def rpmi(model):\n",
    "    for reaction in model.reactions:\n",
    "        if 'EX_' in  reaction.id:\n",
    "            reaction.lower_bound=0\n",
    "        if reaction.id in rpmi_req:\n",
    "            reaction.lower_bound = -20.\n",
    "        if reaction.id == 'EX_o2_e_':\n",
    "            reaction.lower_bound = -20.\n",
    "        if reaction.id == 'EX_glc_D_e_':\n",
    "            reaction.lower_bound = -20.\n",
    "        if reaction.id == 'EX_lac_L_e_':\n",
    "            reaction.lower_bound = -0. \n",
    "\n",
    "\n",
    "\n",
    "mdm_req=set(['EX_apoACP_c_', 'EX_trdrd_c_','EX_co2_e_', 'EX_cobalt2_e_', 'EX_cu2_e_' , 'EX_h_e_', 'EX_h2o_e_','EX_mn2_e_','EX_mobd_e_','EX_tungs_e_', 'EX_zn2_e_','EX_na1_e_','EX_cl_e_','EX_k_e_','EX_so4_e_','EX_nh4_e_','EX_mg2_e_','EX_pi_e_','EX_ca2_e_','EX_fe3_e_','EX_no3_e_','EX_asp_L_e_','EX_glu_L_e_','EX_arg_L_e_','EX_gly_e_','EX_ser_L_e_','EX_leu_L_e_','EX_ile_L_e_','EX_val_L_e_','EX_tyr_L_e_','EX_cys_L_e_','EX_pro_L_e_','EX_trp_L_e_','EX_thr_L_e_','EX_phe_L_e_','EX_asn_L_e_','EX_gln_L_e_','EX_his_L_e_','EX_met_L_e_','EX_ala_L_e_','EX_lys_L_e_','EX_gthrd_e_','EX_thm_e_','EX_pnto_R_e_','EX_glc_D_e_','EX_hxan_e_','EX_ura_e_'])\n",
    "\n",
    "def mdm(model):\n",
    "    for reaction in model.reactions:\n",
    "        if 'EX_' in  reaction.id:\n",
    "            reaction.lower_bound=0\n",
    "        if reaction.id in mdm_req:\n",
    "            reaction.lower_bound = -10.\n",
    "        if reaction.id == 'EX_o2_e_':\n",
    "            reaction.lower_bound = -20.\n",
    "        if reaction.id == 'EX_glc_D_e_':\n",
    "            reaction.lower_bound = -10.\n",
    "        if reaction.id == 'EX_lac_L_e_':\n",
    "            reaction.lower_bound = -0.        \n",
    "\n",
    "def mdm_with_lactate(model):\n",
    "    for reaction in model.reactions:\n",
    "        if 'EX_' in  reaction.id:\n",
    "            reaction.lower_bound=0\n",
    "        if reaction.id in mdm_req:\n",
    "            reaction.lower_bound = -10.\n",
    "        if reaction.id == 'EX_o2_e_':\n",
    "            reaction.lower_bound = -1000.\n",
    "        if reaction.id == 'EX_glc_D_e_':\n",
    "            reaction.lower_bound = -10.\n",
    "        if reaction.id == 'EX_lac_L_e_':\n",
    "            reaction.lower_bound = -10.              \n",
    "\n",
    "def mdm_with_lactate_only(model):\n",
    "    for reaction in model.reactions:\n",
    "        if 'EX_' in  reaction.id:\n",
    "            reaction.lower_bound=0\n",
    "        if reaction.id in mdm_req:\n",
    "            reaction.lower_bound = -10.\n",
    "        if reaction.id == 'EX_o2_e_':\n",
    "            reaction.lower_bound = -1000.\n",
    "        if reaction.id == 'EX_glc_D_e_':\n",
    "            reaction.lower_bound = -0.\n",
    "        if reaction.id == 'EX_lac_L_e_':\n",
    "            reaction.lower_bound = -10. \n",
    "            \n",
    "            \n",
    "def mdm_molarity_with_lactate(model):\n",
    "    for reaction in model.reactions:\n",
    "        if 'EX_' in  reaction.id:\n",
    "            reaction.lower_bound=0\n",
    "        if reaction.id in mdm_req:\n",
    "            reaction.lower_bound = -1000.\n",
    "        if 'EX_glc_D_e_' in reaction.id:\n",
    "            reaction.lower_bound = -27.8\n",
    "        if 'EX_ser_L_e_' in reaction.id:\n",
    "            reaction.lower_bound = -0.48\n",
    "        if 'EX_asp_L_e_' in reaction.id:\n",
    "            reaction.lower_bound = -3.76\n",
    "        if 'EX_asn_L_e_' in reaction.id:\n",
    "            reaction.lower_bound = -0.17\n",
    "        if 'EX_glu_L_e_' in reaction.id:\n",
    "            reaction.lower_bound = -8.84\n",
    "        if 'EX_gly_e_' in reaction.id:\n",
    "            reaction.lower_bound = -0.33\n",
    "        if 'EX_ala_L_e_' in reaction.id:\n",
    "            reaction.lower_bound = -1.12\n",
    "        if 'EX_val_L_e_' in reaction.id:\n",
    "            reaction.lower_bound = -0.51\n",
    "        if 'EX_leu_L_e_' in reaction.id:\n",
    "            reaction.lower_bound = -0.69\n",
    "        if 'EX_gln_L_e_' in reaction.id:\n",
    "            reaction.lower_bound = -0.34\n",
    "        if 'EX_pro_L_e_' in reaction.id:\n",
    "            reaction.lower_bound = -0.43\n",
    "        if 'EX_phe_L_e_' in reaction.id:\n",
    "            reaction.lower_bound = -0.15\n",
    "        if 'EX_lys_L_e_' in reaction.id:\n",
    "            reaction.lower_bound = -0.27\n",
    "        if 'EX_cl_e_' in reaction.id:\n",
    "            reaction.lower_bound = -107.94697\n",
    "        if 'EX_k_e_' in reaction.id:\n",
    "            reaction.lower_bound = -11.48\n",
    "        if 'EX_so4_e_' in reaction.id:\n",
    "            reaction.lower_bound = -5.74\n",
    "        if 'EX_nh4_e_' in reaction.id:\n",
    "            reaction.lower_bound = -4.11\n",
    "        if 'EX_mg2_e_' in reaction.id:\n",
    "            reaction.lower_bound = -1.07\n",
    "        if 'EX_lys_L_e_' in reaction.id:\n",
    "            reaction.lower_bound = -0.27\n",
    "        if 'EX_pi_e_' in reaction.id:\n",
    "            reaction.lower_bound = -40\n",
    "        if 'EX_ca2_e_' in reaction.id:\n",
    "            reaction.lower_bound = -0.254\n",
    "        if 'EX_no3_e_' in reaction.id:\n",
    "            reaction.lower_bound = -0.051\n",
    "        if 'EX_arg_L_e_' in reaction.id:\n",
    "            reaction.lower_bound = -0.71\n",
    "        if 'EX_ile_L_e_' in reaction.id:\n",
    "            reaction.lower_bound = -0.23\n",
    "        if 'EX_tyr_L_e_' in reaction.id:\n",
    "            reaction.lower_bound = -0.39\n",
    "        if 'EX_cys_L_e_' in reaction.id:\n",
    "            reaction.lower_bound = -0.65\n",
    "        if 'EX_trp_L_e_' in reaction.id:\n",
    "            reaction.lower_bound = -0.39\n",
    "        if 'EX_thr_L_e_' in reaction.id:\n",
    "            reaction.lower_bound = -0.42\n",
    "        if 'EX_his_L_e_' in reaction.id:\n",
    "            reaction.lower_bound = -0.13\n",
    "        if 'EX_met_L_e_' in reaction.id:\n",
    "            reaction.lower_bound = -0.1\n",
    "        if 'EX_gthrd_e_' in reaction.id:\n",
    "            reaction.lower_bound = -0.15\n",
    "        if 'EX_thm_e_' in reaction.id:\n",
    "            reaction.lower_bound = -0.00697\n",
    "        if 'EX_pnto_R_e_' in reaction.id:\n",
    "            reaction.lower_bound = -0.004\n",
    "        if 'EX_hxan_e_' in reaction.id:\n",
    "            reaction.lower_bound = -0.37\n",
    "        if 'EX_ura_e_' in reaction.id:\n",
    "            reaction.lower_bound = -0.45  \n",
    "        if 'EX_na1_e_' in reaction.id:\n",
    "            reaction.lower_bound = -105.018\n",
    "        if reaction.id == 'EX_o2_e_':\n",
    "            reaction.lower_bound = -1000.\n",
    "        if reaction.id == 'EX_lac_L_e_':\n",
    "            reaction.lower_bound = -20\n",
    "    \n",
    "\n",
    "def mdm_molarity_with_lactate_only(model):\n",
    "    for reaction in model.reactions:\n",
    "        if 'EX_' in  reaction.id:\n",
    "            reaction.lower_bound=0\n",
    "        if reaction.id in mdm_req:\n",
    "            reaction.lower_bound = -1000.\n",
    "        if 'EX_glc_D_e_' in reaction.id:\n",
    "            reaction.lower_bound = -0\n",
    "        if 'EX_ser_L_e_' in reaction.id:\n",
    "            reaction.lower_bound = -0.48\n",
    "        if 'EX_asp_L_e_' in reaction.id:\n",
    "            reaction.lower_bound = -3.76\n",
    "        if 'EX_asn_L_e_' in reaction.id:\n",
    "            reaction.lower_bound = -0.17\n",
    "        if 'EX_glu_L_e_' in reaction.id:\n",
    "            reaction.lower_bound = -8.84\n",
    "        if 'EX_gly_e_' in reaction.id:\n",
    "            reaction.lower_bound = -0.33\n",
    "        if 'EX_ala_L_e_' in reaction.id:\n",
    "            reaction.lower_bound = -1.12\n",
    "        if 'EX_val_L_e_' in reaction.id:\n",
    "            reaction.lower_bound = -0.51\n",
    "        if 'EX_leu_L_e_' in reaction.id:\n",
    "            reaction.lower_bound = -0.69\n",
    "        if 'EX_gln_L_e_' in reaction.id:\n",
    "            reaction.lower_bound = -0.34\n",
    "        if 'EX_pro_L_e_' in reaction.id:\n",
    "            reaction.lower_bound = -0.43\n",
    "        if 'EX_phe_L_e_' in reaction.id:\n",
    "            reaction.lower_bound = -0.15\n",
    "        if 'EX_lys_L_e_' in reaction.id:\n",
    "            reaction.lower_bound = -0.27\n",
    "        if 'EX_cl_e_' in reaction.id:\n",
    "            reaction.lower_bound = -107.94697\n",
    "        if 'EX_k_e_' in reaction.id:\n",
    "            reaction.lower_bound = -11.48\n",
    "        if 'EX_so4_e_' in reaction.id:\n",
    "            reaction.lower_bound = -5.74\n",
    "        if 'EX_nh4_e_' in reaction.id:\n",
    "            reaction.lower_bound = -4.11\n",
    "        if 'EX_mg2_e_' in reaction.id:\n",
    "            reaction.lower_bound = -1.07\n",
    "        if 'EX_lys_L_e_' in reaction.id:\n",
    "            reaction.lower_bound = -0.27\n",
    "        if 'EX_pi_e_' in reaction.id:\n",
    "            reaction.lower_bound = -40\n",
    "        if 'EX_ca2_e_' in reaction.id:\n",
    "            reaction.lower_bound = -0.254\n",
    "        if 'EX_no3_e_' in reaction.id:\n",
    "            reaction.lower_bound = -0.051\n",
    "        if 'EX_arg_L_e_' in reaction.id:\n",
    "            reaction.lower_bound = -0.71\n",
    "        if 'EX_ile_L_e_' in reaction.id:\n",
    "            reaction.lower_bound = -0.23\n",
    "        if 'EX_tyr_L_e_' in reaction.id:\n",
    "            reaction.lower_bound = -0.39\n",
    "        if 'EX_cys_L_e_' in reaction.id:\n",
    "            reaction.lower_bound = -0.65\n",
    "        if 'EX_trp_L_e_' in reaction.id:\n",
    "            reaction.lower_bound = -0.39\n",
    "        if 'EX_thr_L_e_' in reaction.id:\n",
    "            reaction.lower_bound = -0.42\n",
    "        if 'EX_his_L_e_' in reaction.id:\n",
    "            reaction.lower_bound = -0.13\n",
    "        if 'EX_met_L_e_' in reaction.id:\n",
    "            reaction.lower_bound = -0.1\n",
    "        if 'EX_gthrd_e_' in reaction.id:\n",
    "            reaction.lower_bound = -0.15\n",
    "        if 'EX_thm_e_' in reaction.id:\n",
    "            reaction.lower_bound = -0.00697\n",
    "        if 'EX_pnto_R_e_' in reaction.id:\n",
    "            reaction.lower_bound = -0.004\n",
    "        if 'EX_hxan_e_' in reaction.id:\n",
    "            reaction.lower_bound = -0.37\n",
    "        if 'EX_ura_e_' in reaction.id:\n",
    "            reaction.lower_bound = -0.45  \n",
    "        if 'EX_na1_e_' in reaction.id:\n",
    "            reaction.lower_bound = -105.018\n",
    "        if reaction.id == 'EX_o2_e_':\n",
    "            reaction.lower_bound = -1000.\n",
    "        if reaction.id == 'EX_lac_L_e_':\n",
    "            reaction.lower_bound = -20\n",
    "               \n",
    "def mdm_molarity(model):\n",
    "    for reaction in model.reactions:\n",
    "        if 'EX_' in  reaction.id:\n",
    "            reaction.lower_bound=0\n",
    "        if reaction.id in mdm_req:\n",
    "            reaction.lower_bound = -1000.\n",
    "        if 'EX_glc_D_e_' in reaction.id:\n",
    "            reaction.lower_bound = -27.8\n",
    "        if 'EX_ser_L_e_' in reaction.id:\n",
    "            reaction.lower_bound = -0.48\n",
    "        if 'EX_asp_L_e_' in reaction.id:\n",
    "            reaction.lower_bound = -3.76\n",
    "        if 'EX_asn_L_e_' in reaction.id:\n",
    "            reaction.lower_bound = -0.17\n",
    "        if 'EX_glu_L_e_' in reaction.id:\n",
    "            reaction.lower_bound = -8.84\n",
    "        if 'EX_gly_e_' in reaction.id:\n",
    "            reaction.lower_bound = -0.33\n",
    "        if 'EX_ala_L_e_' in reaction.id:\n",
    "            reaction.lower_bound = -1.12\n",
    "        if 'EX_val_L_e_' in reaction.id:\n",
    "            reaction.lower_bound = -0.51\n",
    "        if 'EX_leu_L_e_' in reaction.id:\n",
    "            reaction.lower_bound = -0.69\n",
    "        if 'EX_gln_L_e_' in reaction.id:\n",
    "            reaction.lower_bound = -0.34\n",
    "        if 'EX_pro_L_e_' in reaction.id:\n",
    "            reaction.lower_bound = -0.43\n",
    "        if 'EX_phe_L_e_' in reaction.id:\n",
    "            reaction.lower_bound = -0.15\n",
    "        if 'EX_lys_L_e_' in reaction.id:\n",
    "            reaction.lower_bound = -0.27\n",
    "        if 'EX_cl_e_' in reaction.id:\n",
    "            reaction.lower_bound = -107.94697\n",
    "        if 'EX_k_e_' in reaction.id:\n",
    "            reaction.lower_bound = -11.48\n",
    "        if 'EX_so4_e_' in reaction.id:\n",
    "            reaction.lower_bound = -5.74\n",
    "        if 'EX_nh4_e_' in reaction.id:\n",
    "            reaction.lower_bound = -4.11\n",
    "        if 'EX_mg2_e_' in reaction.id:\n",
    "            reaction.lower_bound = -1.07\n",
    "        if 'EX_lys_L_e_' in reaction.id:\n",
    "            reaction.lower_bound = -0.27\n",
    "        if 'EX_pi_e_' in reaction.id:\n",
    "            reaction.lower_bound = -40\n",
    "        if 'EX_ca2_e_' in reaction.id:\n",
    "            reaction.lower_bound = -0.254\n",
    "        if 'EX_no3_e_' in reaction.id:\n",
    "            reaction.lower_bound = -0.051\n",
    "        if 'EX_arg_L_e_' in reaction.id:\n",
    "            reaction.lower_bound = -0.71\n",
    "        if 'EX_ile_L_e_' in reaction.id:\n",
    "            reaction.lower_bound = -0.23\n",
    "        if 'EX_tyr_L_e_' in reaction.id:\n",
    "            reaction.lower_bound = -0.39\n",
    "        if 'EX_cys_L_e_' in reaction.id:\n",
    "            reaction.lower_bound = -0.65\n",
    "        if 'EX_trp_L_e_' in reaction.id:\n",
    "            reaction.lower_bound = -0.39\n",
    "        if 'EX_thr_L_e_' in reaction.id:\n",
    "            reaction.lower_bound = -0.42\n",
    "        if 'EX_his_L_e_' in reaction.id:\n",
    "            reaction.lower_bound = -0.13\n",
    "        if 'EX_met_L_e_' in reaction.id:\n",
    "            reaction.lower_bound = -0.1\n",
    "        if 'EX_gthrd_e_' in reaction.id:\n",
    "            reaction.lower_bound = -0.15\n",
    "        if 'EX_thm_e_' in reaction.id:\n",
    "            reaction.lower_bound = -0.00697\n",
    "        if 'EX_pnto_R_e_' in reaction.id:\n",
    "            reaction.lower_bound = -0.004\n",
    "        if 'EX_hxan_e_' in reaction.id:\n",
    "            reaction.lower_bound = -0.37\n",
    "        if 'EX_ura_e_' in reaction.id:\n",
    "            reaction.lower_bound = -0.45  \n",
    "        if 'EX_na1_e_' in reaction.id:\n",
    "            reaction.lower_bound = -105.018\n",
    "        if reaction.id == 'EX_o2_e_':\n",
    "            reaction.lower_bound = -1000.\n",
    "        if reaction.id == 'EX_lac_L_e_':\n",
    "            reaction.lower_bound = -0\n",
    "                         \n",
    "        "
   ]
  },
  {
   "cell_type": "code",
   "execution_count": 61,
   "id": "e9835af0-27dd-4373-9512-7206b7ebd544",
   "metadata": {},
   "outputs": [],
   "source": [
    "for reaction in model.reactions:\n",
    "     if reaction.lower_bound < -4:\n",
    "            reaction.lower_bound=-1000.\n",
    "for reaction in model.reactions:\n",
    "     if reaction.upper_bound > 4:\n",
    "            reaction.upper_bound=1000."
   ]
  },
  {
   "cell_type": "code",
   "execution_count": 62,
   "id": "084164cc-5886-4176-a4ce-ef7698aa354e",
   "metadata": {},
   "outputs": [
    {
     "data": {
      "text/html": [
       "<h3>Objective</h3><p>1.0 Nm_Ess_biomass = 0.9413618951043721</p><h4>Uptake</h4><table border=\"1\" class=\"dataframe\">\n",
       "  <thead>\n",
       "    <tr style=\"text-align: right;\">\n",
       "      <th>Metabolite</th>\n",
       "      <th>Reaction</th>\n",
       "      <th>Flux</th>\n",
       "      <th>C-Number</th>\n",
       "      <th>C-Flux</th>\n",
       "    </tr>\n",
       "  </thead>\n",
       "  <tbody>\n",
       "    <tr>\n",
       "      <td>ala_L_e</td>\n",
       "      <td>EX_ala_L_e_</td>\n",
       "      <td>10</td>\n",
       "      <td>3</td>\n",
       "      <td>14.86%</td>\n",
       "    </tr>\n",
       "    <tr>\n",
       "      <td>arg_L_e</td>\n",
       "      <td>EX_arg_L_e_</td>\n",
       "      <td>0.3144</td>\n",
       "      <td>6</td>\n",
       "      <td>0.93%</td>\n",
       "    </tr>\n",
       "    <tr>\n",
       "      <td>asn_L_e</td>\n",
       "      <td>EX_asn_L_e_</td>\n",
       "      <td>0.2369</td>\n",
       "      <td>4</td>\n",
       "      <td>0.47%</td>\n",
       "    </tr>\n",
       "    <tr>\n",
       "      <td>asp_L_e</td>\n",
       "      <td>EX_asp_L_e_</td>\n",
       "      <td>8.49</td>\n",
       "      <td>4</td>\n",
       "      <td>16.82%</td>\n",
       "    </tr>\n",
       "    <tr>\n",
       "      <td>ca2_e</td>\n",
       "      <td>EX_ca2_e_</td>\n",
       "      <td>0.004459</td>\n",
       "      <td>0</td>\n",
       "      <td>0.00%</td>\n",
       "    </tr>\n",
       "    <tr>\n",
       "      <td>cl_e</td>\n",
       "      <td>EX_cl_e_</td>\n",
       "      <td>0.004459</td>\n",
       "      <td>0</td>\n",
       "      <td>0.00%</td>\n",
       "    </tr>\n",
       "    <tr>\n",
       "      <td>cobalt2_e</td>\n",
       "      <td>EX_cobalt2_e_</td>\n",
       "      <td>0.002973</td>\n",
       "      <td>0</td>\n",
       "      <td>0.00%</td>\n",
       "    </tr>\n",
       "    <tr>\n",
       "      <td>cu2_e</td>\n",
       "      <td>EX_cu2_e_</td>\n",
       "      <td>0.002973</td>\n",
       "      <td>0</td>\n",
       "      <td>0.00%</td>\n",
       "    </tr>\n",
       "    <tr>\n",
       "      <td>cys_L_e</td>\n",
       "      <td>EX_cys_L_e_</td>\n",
       "      <td>8.197</td>\n",
       "      <td>3</td>\n",
       "      <td>12.18%</td>\n",
       "    </tr>\n",
       "    <tr>\n",
       "      <td>fe3_e</td>\n",
       "      <td>EX_fe3_e_</td>\n",
       "      <td>0.0138</td>\n",
       "      <td>0</td>\n",
       "      <td>0.00%</td>\n",
       "    </tr>\n",
       "    <tr>\n",
       "      <td>glc_D_e</td>\n",
       "      <td>EX_glc_D_e_</td>\n",
       "      <td>10</td>\n",
       "      <td>6</td>\n",
       "      <td>29.71%</td>\n",
       "    </tr>\n",
       "    <tr>\n",
       "      <td>gln_L_e</td>\n",
       "      <td>EX_gln_L_e_</td>\n",
       "      <td>0.4391</td>\n",
       "      <td>5</td>\n",
       "      <td>1.09%</td>\n",
       "    </tr>\n",
       "    <tr>\n",
       "      <td>glu_L_e</td>\n",
       "      <td>EX_glu_L_e_</td>\n",
       "      <td>0.2293</td>\n",
       "      <td>5</td>\n",
       "      <td>0.57%</td>\n",
       "    </tr>\n",
       "    <tr>\n",
       "      <td>h_e</td>\n",
       "      <td>EX_h_e_</td>\n",
       "      <td>1.003</td>\n",
       "      <td>0</td>\n",
       "      <td>0.00%</td>\n",
       "    </tr>\n",
       "    <tr>\n",
       "      <td>his_L_e</td>\n",
       "      <td>EX_his_L_e_</td>\n",
       "      <td>0.0952</td>\n",
       "      <td>6</td>\n",
       "      <td>0.28%</td>\n",
       "    </tr>\n",
       "    <tr>\n",
       "      <td>hxan_e</td>\n",
       "      <td>EX_hxan_e_</td>\n",
       "      <td>0.2659</td>\n",
       "      <td>5</td>\n",
       "      <td>0.66%</td>\n",
       "    </tr>\n",
       "    <tr>\n",
       "      <td>ile_L_e</td>\n",
       "      <td>EX_ile_L_e_</td>\n",
       "      <td>0.2747</td>\n",
       "      <td>6</td>\n",
       "      <td>0.82%</td>\n",
       "    </tr>\n",
       "    <tr>\n",
       "      <td>k_e</td>\n",
       "      <td>EX_k_e_</td>\n",
       "      <td>0.1672</td>\n",
       "      <td>0</td>\n",
       "      <td>0.00%</td>\n",
       "    </tr>\n",
       "    <tr>\n",
       "      <td>leu_L_e</td>\n",
       "      <td>EX_leu_L_e_</td>\n",
       "      <td>0.4449</td>\n",
       "      <td>6</td>\n",
       "      <td>1.32%</td>\n",
       "    </tr>\n",
       "    <tr>\n",
       "      <td>lys_L_e</td>\n",
       "      <td>EX_lys_L_e_</td>\n",
       "      <td>0.3305</td>\n",
       "      <td>6</td>\n",
       "      <td>0.98%</td>\n",
       "    </tr>\n",
       "    <tr>\n",
       "      <td>mg2_e</td>\n",
       "      <td>EX_mg2_e_</td>\n",
       "      <td>0.007432</td>\n",
       "      <td>0</td>\n",
       "      <td>0.00%</td>\n",
       "    </tr>\n",
       "    <tr>\n",
       "      <td>mn2_e</td>\n",
       "      <td>EX_mn2_e_</td>\n",
       "      <td>0.002973</td>\n",
       "      <td>0</td>\n",
       "      <td>0.00%</td>\n",
       "    </tr>\n",
       "    <tr>\n",
       "      <td>mobd_e</td>\n",
       "      <td>EX_mobd_e_</td>\n",
       "      <td>0.002973</td>\n",
       "      <td>0</td>\n",
       "      <td>0.00%</td>\n",
       "    </tr>\n",
       "    <tr>\n",
       "      <td>o2_e</td>\n",
       "      <td>EX_o2_e_</td>\n",
       "      <td>20</td>\n",
       "      <td>0</td>\n",
       "      <td>0.00%</td>\n",
       "    </tr>\n",
       "    <tr>\n",
       "      <td>phe_L_e</td>\n",
       "      <td>EX_phe_L_e_</td>\n",
       "      <td>0.1874</td>\n",
       "      <td>9</td>\n",
       "      <td>0.84%</td>\n",
       "    </tr>\n",
       "    <tr>\n",
       "      <td>pi_e</td>\n",
       "      <td>EX_pi_e_</td>\n",
       "      <td>0.6888</td>\n",
       "      <td>0</td>\n",
       "      <td>0.00%</td>\n",
       "    </tr>\n",
       "    <tr>\n",
       "      <td>pro_L_e</td>\n",
       "      <td>EX_pro_L_e_</td>\n",
       "      <td>0.232</td>\n",
       "      <td>5</td>\n",
       "      <td>0.57%</td>\n",
       "    </tr>\n",
       "    <tr>\n",
       "      <td>ser_L_e</td>\n",
       "      <td>EX_ser_L_e_</td>\n",
       "      <td>10</td>\n",
       "      <td>3</td>\n",
       "      <td>14.86%</td>\n",
       "    </tr>\n",
       "    <tr>\n",
       "      <td>so4_e</td>\n",
       "      <td>EX_so4_e_</td>\n",
       "      <td>0.003716</td>\n",
       "      <td>0</td>\n",
       "      <td>0.00%</td>\n",
       "    </tr>\n",
       "    <tr>\n",
       "      <td>thm_e</td>\n",
       "      <td>EX_thm_e_</td>\n",
       "      <td>0.0002489</td>\n",
       "      <td>12</td>\n",
       "      <td>0.00%</td>\n",
       "    </tr>\n",
       "    <tr>\n",
       "      <td>thr_L_e</td>\n",
       "      <td>EX_thr_L_e_</td>\n",
       "      <td>0.2722</td>\n",
       "      <td>4</td>\n",
       "      <td>0.54%</td>\n",
       "    </tr>\n",
       "    <tr>\n",
       "      <td>trp_L_e</td>\n",
       "      <td>EX_trp_L_e_</td>\n",
       "      <td>0.06491</td>\n",
       "      <td>11</td>\n",
       "      <td>0.35%</td>\n",
       "    </tr>\n",
       "    <tr>\n",
       "      <td>tyr_L_e</td>\n",
       "      <td>EX_tyr_L_e_</td>\n",
       "      <td>0.1344</td>\n",
       "      <td>9</td>\n",
       "      <td>0.60%</td>\n",
       "    </tr>\n",
       "    <tr>\n",
       "      <td>ura_e</td>\n",
       "      <td>EX_ura_e_</td>\n",
       "      <td>0.2462</td>\n",
       "      <td>4</td>\n",
       "      <td>0.49%</td>\n",
       "    </tr>\n",
       "    <tr>\n",
       "      <td>val_L_e</td>\n",
       "      <td>EX_val_L_e_</td>\n",
       "      <td>0.4304</td>\n",
       "      <td>5</td>\n",
       "      <td>1.07%</td>\n",
       "    </tr>\n",
       "    <tr>\n",
       "      <td>zn2_e</td>\n",
       "      <td>EX_zn2_e_</td>\n",
       "      <td>0.002974</td>\n",
       "      <td>0</td>\n",
       "      <td>0.00%</td>\n",
       "    </tr>\n",
       "  </tbody>\n",
       "</table><h4>Secretion</h4><table border=\"1\" class=\"dataframe\">\n",
       "  <thead>\n",
       "    <tr style=\"text-align: right;\">\n",
       "      <th>Metabolite</th>\n",
       "      <th>Reaction</th>\n",
       "      <th>Flux</th>\n",
       "      <th>C-Number</th>\n",
       "      <th>C-Flux</th>\n",
       "    </tr>\n",
       "  </thead>\n",
       "  <tbody>\n",
       "    <tr>\n",
       "      <td>5drib_c</td>\n",
       "      <td>DM_5DRIB</td>\n",
       "      <td>-0.0004217</td>\n",
       "      <td>5</td>\n",
       "      <td>0.00%</td>\n",
       "    </tr>\n",
       "    <tr>\n",
       "      <td>amob_c</td>\n",
       "      <td>DM_AMOB</td>\n",
       "      <td>-1.873E-06</td>\n",
       "      <td>15</td>\n",
       "      <td>0.00%</td>\n",
       "    </tr>\n",
       "    <tr>\n",
       "      <td>essbiomass</td>\n",
       "      <td>DM_ESSBIOMASS</td>\n",
       "      <td>-0.9414</td>\n",
       "      <td>0</td>\n",
       "      <td>0.00%</td>\n",
       "    </tr>\n",
       "    <tr>\n",
       "      <td>hmfurn_c</td>\n",
       "      <td>DM_HMFURN</td>\n",
       "      <td>-0.0004198</td>\n",
       "      <td>5</td>\n",
       "      <td>0.00%</td>\n",
       "    </tr>\n",
       "    <tr>\n",
       "      <td>pap_c</td>\n",
       "      <td>DM_PAP</td>\n",
       "      <td>-0.01638</td>\n",
       "      <td>10</td>\n",
       "      <td>0.10%</td>\n",
       "    </tr>\n",
       "    <tr>\n",
       "      <td>urea_c</td>\n",
       "      <td>DM_UREA</td>\n",
       "      <td>-0.007284</td>\n",
       "      <td>1</td>\n",
       "      <td>0.00%</td>\n",
       "    </tr>\n",
       "    <tr>\n",
       "      <td>ac_e</td>\n",
       "      <td>EX_ac_e_</td>\n",
       "      <td>-36.73</td>\n",
       "      <td>2</td>\n",
       "      <td>44.92%</td>\n",
       "    </tr>\n",
       "    <tr>\n",
       "      <td>co2_e</td>\n",
       "      <td>EX_co2_e_</td>\n",
       "      <td>-42.78</td>\n",
       "      <td>1</td>\n",
       "      <td>26.16%</td>\n",
       "    </tr>\n",
       "    <tr>\n",
       "      <td>glyclt_e</td>\n",
       "      <td>EX_glyclt_e_</td>\n",
       "      <td>-0.0006298</td>\n",
       "      <td>2</td>\n",
       "      <td>0.00%</td>\n",
       "    </tr>\n",
       "    <tr>\n",
       "      <td>h2o_e</td>\n",
       "      <td>EX_h2o_e_</td>\n",
       "      <td>-15.67</td>\n",
       "      <td>0</td>\n",
       "      <td>0.00%</td>\n",
       "    </tr>\n",
       "    <tr>\n",
       "      <td>lac_D_e</td>\n",
       "      <td>EX_lac_D_e_</td>\n",
       "      <td>-2.328</td>\n",
       "      <td>3</td>\n",
       "      <td>4.27%</td>\n",
       "    </tr>\n",
       "    <tr>\n",
       "      <td>met_L_e</td>\n",
       "      <td>EX_met_L_e_</td>\n",
       "      <td>-8.026</td>\n",
       "      <td>5</td>\n",
       "      <td>24.54%</td>\n",
       "    </tr>\n",
       "    <tr>\n",
       "      <td>nh4_e</td>\n",
       "      <td>EX_nh4_e_</td>\n",
       "      <td>-26.11</td>\n",
       "      <td>0</td>\n",
       "      <td>0.00%</td>\n",
       "    </tr>\n",
       "  </tbody>\n",
       "</table>"
      ],
      "text/plain": [
       "<cobra.summary.model_summary.ModelSummary at 0x20f4b6759a0>"
      ]
     },
     "execution_count": 62,
     "metadata": {},
     "output_type": "execute_result"
    }
   ],
   "source": [
    "mdm(model)\n",
    "model.summary()"
   ]
  },
  {
   "cell_type": "code",
   "execution_count": 63,
   "id": "66f50d96-aa9a-46ca-b3f8-cabff234e7cd",
   "metadata": {},
   "outputs": [
    {
     "data": {
      "text/html": [
       "<h3>Objective</h3><p>1.0 Nm_Ess_biomass = 2.287793744474097</p><h4>Uptake</h4><table border=\"1\" class=\"dataframe\">\n",
       "  <thead>\n",
       "    <tr style=\"text-align: right;\">\n",
       "      <th>Metabolite</th>\n",
       "      <th>Reaction</th>\n",
       "      <th>Flux</th>\n",
       "      <th>C-Number</th>\n",
       "      <th>C-Flux</th>\n",
       "    </tr>\n",
       "  </thead>\n",
       "  <tbody>\n",
       "    <tr>\n",
       "      <td>ala_L_e</td>\n",
       "      <td>EX_ala_L_e_</td>\n",
       "      <td>10</td>\n",
       "      <td>3</td>\n",
       "      <td>9.75%</td>\n",
       "    </tr>\n",
       "    <tr>\n",
       "      <td>arg_L_e</td>\n",
       "      <td>EX_arg_L_e_</td>\n",
       "      <td>0.764</td>\n",
       "      <td>6</td>\n",
       "      <td>1.49%</td>\n",
       "    </tr>\n",
       "    <tr>\n",
       "      <td>asn_L_e</td>\n",
       "      <td>EX_asn_L_e_</td>\n",
       "      <td>0.5756</td>\n",
       "      <td>4</td>\n",
       "      <td>0.75%</td>\n",
       "    </tr>\n",
       "    <tr>\n",
       "      <td>ca2_e</td>\n",
       "      <td>EX_ca2_e_</td>\n",
       "      <td>0.01084</td>\n",
       "      <td>0</td>\n",
       "      <td>0.00%</td>\n",
       "    </tr>\n",
       "    <tr>\n",
       "      <td>cl_e</td>\n",
       "      <td>EX_cl_e_</td>\n",
       "      <td>0.01084</td>\n",
       "      <td>0</td>\n",
       "      <td>0.00%</td>\n",
       "    </tr>\n",
       "    <tr>\n",
       "      <td>cobalt2_e</td>\n",
       "      <td>EX_cobalt2_e_</td>\n",
       "      <td>0.007225</td>\n",
       "      <td>0</td>\n",
       "      <td>0.00%</td>\n",
       "    </tr>\n",
       "    <tr>\n",
       "      <td>cu2_e</td>\n",
       "      <td>EX_cu2_e_</td>\n",
       "      <td>0.007225</td>\n",
       "      <td>0</td>\n",
       "      <td>0.00%</td>\n",
       "    </tr>\n",
       "    <tr>\n",
       "      <td>cys_L_e</td>\n",
       "      <td>EX_cys_L_e_</td>\n",
       "      <td>0.18</td>\n",
       "      <td>3</td>\n",
       "      <td>0.18%</td>\n",
       "    </tr>\n",
       "    <tr>\n",
       "      <td>fe3_e</td>\n",
       "      <td>EX_fe3_e_</td>\n",
       "      <td>0.03354</td>\n",
       "      <td>0</td>\n",
       "      <td>0.00%</td>\n",
       "    </tr>\n",
       "    <tr>\n",
       "      <td>gln_L_e</td>\n",
       "      <td>EX_gln_L_e_</td>\n",
       "      <td>10</td>\n",
       "      <td>5</td>\n",
       "      <td>16.26%</td>\n",
       "    </tr>\n",
       "    <tr>\n",
       "      <td>glu_L_e</td>\n",
       "      <td>EX_glu_L_e_</td>\n",
       "      <td>10</td>\n",
       "      <td>5</td>\n",
       "      <td>16.26%</td>\n",
       "    </tr>\n",
       "    <tr>\n",
       "      <td>gly_e</td>\n",
       "      <td>EX_gly_e_</td>\n",
       "      <td>10</td>\n",
       "      <td>2</td>\n",
       "      <td>6.50%</td>\n",
       "    </tr>\n",
       "    <tr>\n",
       "      <td>h_e</td>\n",
       "      <td>EX_h_e_</td>\n",
       "      <td>10</td>\n",
       "      <td>0</td>\n",
       "      <td>0.00%</td>\n",
       "    </tr>\n",
       "    <tr>\n",
       "      <td>his_L_e</td>\n",
       "      <td>EX_his_L_e_</td>\n",
       "      <td>0.2314</td>\n",
       "      <td>6</td>\n",
       "      <td>0.45%</td>\n",
       "    </tr>\n",
       "    <tr>\n",
       "      <td>hxan_e</td>\n",
       "      <td>EX_hxan_e_</td>\n",
       "      <td>0.6464</td>\n",
       "      <td>5</td>\n",
       "      <td>1.05%</td>\n",
       "    </tr>\n",
       "    <tr>\n",
       "      <td>ile_L_e</td>\n",
       "      <td>EX_ile_L_e_</td>\n",
       "      <td>0.6678</td>\n",
       "      <td>6</td>\n",
       "      <td>1.30%</td>\n",
       "    </tr>\n",
       "    <tr>\n",
       "      <td>k_e</td>\n",
       "      <td>EX_k_e_</td>\n",
       "      <td>0.4063</td>\n",
       "      <td>0</td>\n",
       "      <td>0.00%</td>\n",
       "    </tr>\n",
       "    <tr>\n",
       "      <td>lac_L_e</td>\n",
       "      <td>EX_lac_L_e_</td>\n",
       "      <td>10</td>\n",
       "      <td>3</td>\n",
       "      <td>9.75%</td>\n",
       "    </tr>\n",
       "    <tr>\n",
       "      <td>leu_L_e</td>\n",
       "      <td>EX_leu_L_e_</td>\n",
       "      <td>1.081</td>\n",
       "      <td>6</td>\n",
       "      <td>2.11%</td>\n",
       "    </tr>\n",
       "    <tr>\n",
       "      <td>lys_L_e</td>\n",
       "      <td>EX_lys_L_e_</td>\n",
       "      <td>0.8031</td>\n",
       "      <td>6</td>\n",
       "      <td>1.57%</td>\n",
       "    </tr>\n",
       "    <tr>\n",
       "      <td>met_L_e</td>\n",
       "      <td>EX_met_L_e_</td>\n",
       "      <td>0.2346</td>\n",
       "      <td>5</td>\n",
       "      <td>0.38%</td>\n",
       "    </tr>\n",
       "    <tr>\n",
       "      <td>mg2_e</td>\n",
       "      <td>EX_mg2_e_</td>\n",
       "      <td>0.01806</td>\n",
       "      <td>0</td>\n",
       "      <td>0.00%</td>\n",
       "    </tr>\n",
       "    <tr>\n",
       "      <td>mn2_e</td>\n",
       "      <td>EX_mn2_e_</td>\n",
       "      <td>0.007225</td>\n",
       "      <td>0</td>\n",
       "      <td>0.00%</td>\n",
       "    </tr>\n",
       "    <tr>\n",
       "      <td>mobd_e</td>\n",
       "      <td>EX_mobd_e_</td>\n",
       "      <td>0.007225</td>\n",
       "      <td>0</td>\n",
       "      <td>0.00%</td>\n",
       "    </tr>\n",
       "    <tr>\n",
       "      <td>o2_e</td>\n",
       "      <td>EX_o2_e_</td>\n",
       "      <td>147</td>\n",
       "      <td>0</td>\n",
       "      <td>0.00%</td>\n",
       "    </tr>\n",
       "    <tr>\n",
       "      <td>phe_L_e</td>\n",
       "      <td>EX_phe_L_e_</td>\n",
       "      <td>0.4553</td>\n",
       "      <td>9</td>\n",
       "      <td>1.33%</td>\n",
       "    </tr>\n",
       "    <tr>\n",
       "      <td>pi_e</td>\n",
       "      <td>EX_pi_e_</td>\n",
       "      <td>1.674</td>\n",
       "      <td>0</td>\n",
       "      <td>0.00%</td>\n",
       "    </tr>\n",
       "    <tr>\n",
       "      <td>pro_L_e</td>\n",
       "      <td>EX_pro_L_e_</td>\n",
       "      <td>10</td>\n",
       "      <td>5</td>\n",
       "      <td>16.26%</td>\n",
       "    </tr>\n",
       "    <tr>\n",
       "      <td>ser_L_e</td>\n",
       "      <td>EX_ser_L_e_</td>\n",
       "      <td>10</td>\n",
       "      <td>3</td>\n",
       "      <td>9.75%</td>\n",
       "    </tr>\n",
       "    <tr>\n",
       "      <td>so4_e</td>\n",
       "      <td>EX_so4_e_</td>\n",
       "      <td>0.009032</td>\n",
       "      <td>0</td>\n",
       "      <td>0.00%</td>\n",
       "    </tr>\n",
       "    <tr>\n",
       "      <td>thm_e</td>\n",
       "      <td>EX_thm_e_</td>\n",
       "      <td>0.000603</td>\n",
       "      <td>12</td>\n",
       "      <td>0.00%</td>\n",
       "    </tr>\n",
       "    <tr>\n",
       "      <td>thr_L_e</td>\n",
       "      <td>EX_thr_L_e_</td>\n",
       "      <td>0.6612</td>\n",
       "      <td>4</td>\n",
       "      <td>0.86%</td>\n",
       "    </tr>\n",
       "    <tr>\n",
       "      <td>trp_L_e</td>\n",
       "      <td>EX_trp_L_e_</td>\n",
       "      <td>0.1577</td>\n",
       "      <td>11</td>\n",
       "      <td>0.56%</td>\n",
       "    </tr>\n",
       "    <tr>\n",
       "      <td>tyr_L_e</td>\n",
       "      <td>EX_tyr_L_e_</td>\n",
       "      <td>0.3265</td>\n",
       "      <td>9</td>\n",
       "      <td>0.96%</td>\n",
       "    </tr>\n",
       "    <tr>\n",
       "      <td>ura_e</td>\n",
       "      <td>EX_ura_e_</td>\n",
       "      <td>0.5984</td>\n",
       "      <td>4</td>\n",
       "      <td>0.78%</td>\n",
       "    </tr>\n",
       "    <tr>\n",
       "      <td>val_L_e</td>\n",
       "      <td>EX_val_L_e_</td>\n",
       "      <td>1.046</td>\n",
       "      <td>5</td>\n",
       "      <td>1.70%</td>\n",
       "    </tr>\n",
       "    <tr>\n",
       "      <td>zn2_e</td>\n",
       "      <td>EX_zn2_e_</td>\n",
       "      <td>0.007225</td>\n",
       "      <td>0</td>\n",
       "      <td>0.00%</td>\n",
       "    </tr>\n",
       "  </tbody>\n",
       "</table><h4>Secretion</h4><table border=\"1\" class=\"dataframe\">\n",
       "  <thead>\n",
       "    <tr style=\"text-align: right;\">\n",
       "      <th>Metabolite</th>\n",
       "      <th>Reaction</th>\n",
       "      <th>Flux</th>\n",
       "      <th>C-Number</th>\n",
       "      <th>C-Flux</th>\n",
       "    </tr>\n",
       "  </thead>\n",
       "  <tbody>\n",
       "    <tr>\n",
       "      <td>5drib_c</td>\n",
       "      <td>DM_5DRIB</td>\n",
       "      <td>-0.001025</td>\n",
       "      <td>5</td>\n",
       "      <td>0.00%</td>\n",
       "    </tr>\n",
       "    <tr>\n",
       "      <td>amob_c</td>\n",
       "      <td>DM_AMOB</td>\n",
       "      <td>-4.552E-06</td>\n",
       "      <td>15</td>\n",
       "      <td>0.00%</td>\n",
       "    </tr>\n",
       "    <tr>\n",
       "      <td>essbiomass</td>\n",
       "      <td>DM_ESSBIOMASS</td>\n",
       "      <td>-2.288</td>\n",
       "      <td>0</td>\n",
       "      <td>0.00%</td>\n",
       "    </tr>\n",
       "    <tr>\n",
       "      <td>hmfurn_c</td>\n",
       "      <td>DM_HMFURN</td>\n",
       "      <td>-0.00102</td>\n",
       "      <td>5</td>\n",
       "      <td>0.00%</td>\n",
       "    </tr>\n",
       "    <tr>\n",
       "      <td>pap_c</td>\n",
       "      <td>DM_PAP</td>\n",
       "      <td>-0.03982</td>\n",
       "      <td>10</td>\n",
       "      <td>0.19%</td>\n",
       "    </tr>\n",
       "    <tr>\n",
       "      <td>urea_c</td>\n",
       "      <td>DM_UREA</td>\n",
       "      <td>-0.0177</td>\n",
       "      <td>1</td>\n",
       "      <td>0.01%</td>\n",
       "    </tr>\n",
       "    <tr>\n",
       "      <td>ade_e</td>\n",
       "      <td>EX_ade_e_</td>\n",
       "      <td>-0.0001177</td>\n",
       "      <td>5</td>\n",
       "      <td>0.00%</td>\n",
       "    </tr>\n",
       "    <tr>\n",
       "      <td>asp_L_e</td>\n",
       "      <td>EX_asp_L_e_</td>\n",
       "      <td>-6.065</td>\n",
       "      <td>4</td>\n",
       "      <td>11.32%</td>\n",
       "    </tr>\n",
       "    <tr>\n",
       "      <td>co2_e</td>\n",
       "      <td>EX_co2_e_</td>\n",
       "      <td>-147.9</td>\n",
       "      <td>1</td>\n",
       "      <td>69.01%</td>\n",
       "    </tr>\n",
       "    <tr>\n",
       "      <td>glyclt_e</td>\n",
       "      <td>EX_glyclt_e_</td>\n",
       "      <td>-20.85</td>\n",
       "      <td>2</td>\n",
       "      <td>19.47%</td>\n",
       "    </tr>\n",
       "    <tr>\n",
       "      <td>h2o_e</td>\n",
       "      <td>EX_h2o_e_</td>\n",
       "      <td>-89.43</td>\n",
       "      <td>0</td>\n",
       "      <td>0.00%</td>\n",
       "    </tr>\n",
       "    <tr>\n",
       "      <td>nh4_e</td>\n",
       "      <td>EX_nh4_e_</td>\n",
       "      <td>-54.9</td>\n",
       "      <td>0</td>\n",
       "      <td>0.00%</td>\n",
       "    </tr>\n",
       "  </tbody>\n",
       "</table>"
      ],
      "text/plain": [
       "<cobra.summary.model_summary.ModelSummary at 0x20f5639e6a0>"
      ]
     },
     "execution_count": 63,
     "metadata": {},
     "output_type": "execute_result"
    }
   ],
   "source": [
    "mdm_with_lactate_only(model)\n",
    "model.summary()"
   ]
  },
  {
   "cell_type": "code",
   "execution_count": 64,
   "id": "a8bf2a83-85a4-49c2-8936-4bf0590bcbfc",
   "metadata": {},
   "outputs": [
    {
     "data": {
      "text/html": [
       "\n",
       "        <table>\n",
       "            <tr>\n",
       "                <td><strong>Name</strong></td>\n",
       "                <td>AE004969.1</td>\n",
       "            </tr><tr>\n",
       "                <td><strong>Memory address</strong></td>\n",
       "                <td>0x020f3d096130</td>\n",
       "            </tr><tr>\n",
       "                <td><strong>Number of metabolites</strong></td>\n",
       "                <td>1334</td>\n",
       "            </tr><tr>\n",
       "                <td><strong>Number of reactions</strong></td>\n",
       "                <td>1521</td>\n",
       "            </tr><tr>\n",
       "                <td><strong>Number of groups</strong></td>\n",
       "                <td>0</td>\n",
       "            </tr><tr>\n",
       "                <td><strong>Objective expression</strong></td>\n",
       "                <td>1.0*Nm_Ess_biomass - 1.0*Nm_Ess_biomass_reverse_46af5</td>\n",
       "            </tr><tr>\n",
       "                <td><strong>Compartments</strong></td>\n",
       "                <td>Cytosol, C_c, C_p, c</td>\n",
       "            </tr>\n",
       "          </table>"
      ],
      "text/plain": [
       "<Model AE004969.1 at 0x20f3d096130>"
      ]
     },
     "execution_count": 64,
     "metadata": {},
     "output_type": "execute_result"
    }
   ],
   "source": [
    "model"
   ]
  },
  {
   "cell_type": "code",
   "execution_count": 65,
   "id": "fa1c8783-5fe6-43cc-8127-725578ceb4f5",
   "metadata": {},
   "outputs": [
    {
     "data": {
      "text/plain": [
       "554"
      ]
     },
     "execution_count": 65,
     "metadata": {},
     "output_type": "execute_result"
    }
   ],
   "source": [
    "len(model.genes)"
   ]
  },
  {
   "cell_type": "code",
   "execution_count": 66,
   "id": "832524d0-6c8d-4f38-9656-5d9f1ff0e4a5",
   "metadata": {},
   "outputs": [
    {
     "data": {
      "text/html": [
       "\n",
       "        <table>\n",
       "            <tr>\n",
       "                <td><strong>Name</strong></td>\n",
       "                <td>AE004969.1</td>\n",
       "            </tr><tr>\n",
       "                <td><strong>Memory address</strong></td>\n",
       "                <td>0x020f3d096130</td>\n",
       "            </tr><tr>\n",
       "                <td><strong>Number of metabolites</strong></td>\n",
       "                <td>1334</td>\n",
       "            </tr><tr>\n",
       "                <td><strong>Number of reactions</strong></td>\n",
       "                <td>1521</td>\n",
       "            </tr><tr>\n",
       "                <td><strong>Number of groups</strong></td>\n",
       "                <td>0</td>\n",
       "            </tr><tr>\n",
       "                <td><strong>Objective expression</strong></td>\n",
       "                <td>1.0*Nm_Ess_biomass - 1.0*Nm_Ess_biomass_reverse_46af5</td>\n",
       "            </tr><tr>\n",
       "                <td><strong>Compartments</strong></td>\n",
       "                <td>Cytosol, C_c, C_p, c</td>\n",
       "            </tr>\n",
       "          </table>"
      ],
      "text/plain": [
       "<Model AE004969.1 at 0x20f3d096130>"
      ]
     },
     "execution_count": 66,
     "metadata": {},
     "output_type": "execute_result"
    }
   ],
   "source": [
    "model"
   ]
  },
  {
   "cell_type": "markdown",
   "id": "8399449e-2b9e-4328-8f9b-306d59ee3338",
   "metadata": {},
   "source": [
    "## Add Additional Curation from literature for Gc"
   ]
  },
  {
   "cell_type": "code",
   "execution_count": 67,
   "id": "fb115241-6d8b-43fa-9903-779f8f6f0391",
   "metadata": {},
   "outputs": [
    {
     "name": "stdout",
     "output_type": "stream",
     "text": [
      "{'charge': 4.0}\n"
     ]
    },
    {
     "data": {
      "text/html": [
       "\n",
       "        <table>\n",
       "            <tr>\n",
       "                <td><strong>Reaction identifier</strong></td><td>CYOX</td>\n",
       "            </tr><tr>\n",
       "                <td><strong>Name</strong></td><td>R_CYOX</td>\n",
       "            </tr><tr>\n",
       "                <td><strong>Memory address</strong></td>\n",
       "                <td>0x020f45cc5fd0</td>\n",
       "            </tr><tr>\n",
       "                <td><strong>Stoichiometry</strong></td>\n",
       "                <td>\n",
       "                    <p style='text-align:right'>4.0 focytC_p + 8.0 h_c + o2_c <=> 4.0 ficytC_p + 2.0 h2o_c + 4.0 h_p</p>\n",
       "                    <p style='text-align:right'>4.0 ferrocytochrome, cytc + 8.0 H + O2 <=> 4.0 ferricytochrome, cytc + 2.0 H2O + 4.0 H</p>\n",
       "                </td>\n",
       "            </tr><tr>\n",
       "                <td><strong>GPR</strong></td><td>NGO1371 and NGO1373 and NGO1374 and (NGO1080 or NGO0101)</td>\n",
       "            </tr><tr>\n",
       "                <td><strong>Lower bound</strong></td><td>-1000.0</td>\n",
       "            </tr><tr>\n",
       "                <td><strong>Upper bound</strong></td><td>1000.0</td>\n",
       "            </tr>\n",
       "        </table>\n",
       "        "
      ],
      "text/plain": [
       "<Reaction CYOX at 0x20f45cc5fd0>"
      ]
     },
     "execution_count": 67,
     "metadata": {},
     "output_type": "execute_result"
    }
   ],
   "source": [
    "#The cytochrome oxidation was flipped in the original CYOX reaction. Correcting here. \n",
    "#based on other examples from Bigg http://bigg.ucsd.edu/models/iAF987/reactions/CYOO2pp\n",
    "#Additionally, no hydrogens were exported to the periplasm. This is also corrected here. \n",
    "r=model.reactions.get_by_id('CYOX')\n",
    "model.metabolites.ficytC_p.charge=3\n",
    "model.metabolites.focytC_p.charge=2\n",
    "h_p=model.metabolites.h_p\n",
    "ficytC_p =model.metabolites.ficytC_p\n",
    "focytC_p=model.metabolites.focytC_p\n",
    "\n",
    "r.add_metabolites({\n",
    "    focytC_p:-8,\n",
    "    ficytC_p: 8,\n",
    "    h_c: -4.0,\n",
    "    h_p: 4.0,\n",
    "      })\n",
    "\n",
    "print(r.check_mass_balance())\n",
    "r\n"
   ]
  },
  {
   "cell_type": "code",
   "execution_count": 68,
   "id": "82457aff-bbc4-42e5-b1d0-b7b0edc4fbbe",
   "metadata": {},
   "outputs": [
    {
     "data": {
      "text/html": [
       "\n",
       "        <table>\n",
       "            <tr>\n",
       "                <td><strong>Reaction identifier</strong></td><td>CYOX</td>\n",
       "            </tr><tr>\n",
       "                <td><strong>Name</strong></td><td>R_CYOX</td>\n",
       "            </tr><tr>\n",
       "                <td><strong>Memory address</strong></td>\n",
       "                <td>0x020f45cc5fd0</td>\n",
       "            </tr><tr>\n",
       "                <td><strong>Stoichiometry</strong></td>\n",
       "                <td>\n",
       "                    <p style='text-align:right'>4.0 focytC_p + 8.0 h_c + o2_c --> 4.0 ficytC_p + 2.0 h2o_c + 4.0 h_p</p>\n",
       "                    <p style='text-align:right'>4.0 ferrocytochrome, cytc + 8.0 H + O2 --> 4.0 ferricytochrome, cytc + 2.0 H2O + 4.0 H</p>\n",
       "                </td>\n",
       "            </tr><tr>\n",
       "                <td><strong>GPR</strong></td><td>NGO1371 and NGO1373 and NGO1374 and (NGO1080 or NGO0101)</td>\n",
       "            </tr><tr>\n",
       "                <td><strong>Lower bound</strong></td><td>0</td>\n",
       "            </tr><tr>\n",
       "                <td><strong>Upper bound</strong></td><td>1000.0</td>\n",
       "            </tr>\n",
       "        </table>\n",
       "        "
      ],
      "text/plain": [
       "<Reaction CYOX at 0x20f45cc5fd0>"
      ]
     },
     "execution_count": 68,
     "metadata": {},
     "output_type": "execute_result"
    }
   ],
   "source": [
    "r=model.reactions.get_by_id('CYOX')\n",
    "model.reactions.CYOX.lower_bound=0\n",
    "r"
   ]
  },
  {
   "cell_type": "code",
   "execution_count": 69,
   "id": "a865d0aa-350f-46d6-a364-b5cb77724145",
   "metadata": {},
   "outputs": [
    {
     "name": "stdout",
     "output_type": "stream",
     "text": [
      "{'charge': -2.0}\n"
     ]
    },
    {
     "data": {
      "text/html": [
       "\n",
       "        <table>\n",
       "            <tr>\n",
       "                <td><strong>Reaction identifier</strong></td><td>UCYR</td>\n",
       "            </tr><tr>\n",
       "                <td><strong>Name</strong></td><td>R_UCYR</td>\n",
       "            </tr><tr>\n",
       "                <td><strong>Memory address</strong></td>\n",
       "                <td>0x020f460aadc0</td>\n",
       "            </tr><tr>\n",
       "                <td><strong>Stoichiometry</strong></td>\n",
       "                <td>\n",
       "                    <p style='text-align:right'>2.0 ficytC_p + q8h2_c <=> 2.0 focytC_p + 2.0 h_p + q8_c</p>\n",
       "                    <p style='text-align:right'>2.0 ferricytochrome, cytc + Ubiquinol-8 <=> 2.0 ferrocytochrome, cytc + 2.0 H + Ubiquinone-8</p>\n",
       "                </td>\n",
       "            </tr><tr>\n",
       "                <td><strong>GPR</strong></td><td>NGO2031 and NGO2030 and NGO2029 and (NGO1080 or NGO0101 or Orphan)</td>\n",
       "            </tr><tr>\n",
       "                <td><strong>Lower bound</strong></td><td>-1000.0</td>\n",
       "            </tr><tr>\n",
       "                <td><strong>Upper bound</strong></td><td>1000.0</td>\n",
       "            </tr>\n",
       "        </table>\n",
       "        "
      ],
      "text/plain": [
       "<Reaction UCYR at 0x20f460aadc0>"
      ]
     },
     "execution_count": 69,
     "metadata": {},
     "output_type": "execute_result"
    }
   ],
   "source": [
    "#Cytochrome oxidation was also flipped in the original UCYR reaction. Corrected here. \n",
    "#based on other examples from Bigg http://bigg.ucsd.edu/models/iAF987/reactions/CYTMQOR3pp\n",
    "r=model.reactions.UCYR\n",
    "r.add_metabolites({\n",
    "    focytC_p:4,\n",
    "    ficytC_p: -4,\n",
    "      })\n",
    "\n",
    "print(r.check_mass_balance())\n",
    "r\n"
   ]
  },
  {
   "cell_type": "code",
   "execution_count": 70,
   "id": "81262a28-0f31-46c7-ae54-26d52d2966e0",
   "metadata": {},
   "outputs": [
    {
     "name": "stdout",
     "output_type": "stream",
     "text": [
      "0.0913683192189419\n",
      "no_p\n",
      "====\n",
      "Formula: NO\n",
      "\n",
      "Producing Reactions\n",
      "-------------------\n",
      "Percent  Flux Reaction                                                         Definition\n",
      " 17.91%    10     NO2R             ficytC_p + h2o_p + no_p <=> focytC_p + 2.0 h_p + no2_p\n",
      " 82.09% 45.84      NOR 2.0 ficytC_p + 2.0 h_c + 2.0 no_p <=> 2.0 focytC_p + h2o_p + n2o_p\n",
      "\n",
      "Consuming Reactions\n",
      "-------------------\n",
      "Percent   Flux Reaction    Definition\n",
      "100.00% -55.84    NOtpp no_p <=> no_c\n"
     ]
    }
   ],
   "source": [
    "#Check Gc model ability to grow anaerobically on nitrite. \n",
    "def anaerobic_rpmi(model):\n",
    "    for reaction in model.reactions:\n",
    "        if 'EX_' in  reaction.id:\n",
    "            reaction.lower_bound=0\n",
    "        if reaction.id in rpmi_req:\n",
    "            reaction.lower_bound = -10.\n",
    "        if reaction.id == 'EX_o2_e_':\n",
    "            reaction.lower_bound = -0.\n",
    "        if reaction.id == 'EX_glc_D_e_':\n",
    "            reaction.lower_bound = -10.\n",
    "        if reaction.id == 'EX_lac_L_e_':\n",
    "            reaction.lower_bound = -10.\n",
    "        if reaction.id == 'EX_no2_e_':\n",
    "            reaction.lower_bound = -10. \n",
    "\n",
    "anaerobic_rpmi(model)\n",
    "print(model.slim_optimize())\n",
    "print(model.metabolites.no_p.summary())"
   ]
  },
  {
   "cell_type": "code",
   "execution_count": 71,
   "id": "10aa3b22-ad58-42ae-8b00-b6899875c3e7",
   "metadata": {},
   "outputs": [
    {
     "data": {
      "text/html": [
       "\n",
       "        <table>\n",
       "            <tr>\n",
       "                <td><strong>Reaction identifier</strong></td><td>NOR</td>\n",
       "            </tr><tr>\n",
       "                <td><strong>Name</strong></td><td>R_NOR</td>\n",
       "            </tr><tr>\n",
       "                <td><strong>Memory address</strong></td>\n",
       "                <td>0x020f45f07850</td>\n",
       "            </tr><tr>\n",
       "                <td><strong>Stoichiometry</strong></td>\n",
       "                <td>\n",
       "                    <p style='text-align:right'>2.0 ficytC_p + 2.0 h_c + 2.0 no_p <=> 2.0 focytC_p + h2o_p + n2o_p</p>\n",
       "                    <p style='text-align:right'>2.0 ferricytochrome, cytc + 2.0 H + 2.0 Nitric-oxide <=> 2.0 ferrocytochrome, cytc + H2O + Nitrous-oxide</p>\n",
       "                </td>\n",
       "            </tr><tr>\n",
       "                <td><strong>GPR</strong></td><td>NGO1275 and NGO1328</td>\n",
       "            </tr><tr>\n",
       "                <td><strong>Lower bound</strong></td><td>-1000.0</td>\n",
       "            </tr><tr>\n",
       "                <td><strong>Upper bound</strong></td><td>1000.0</td>\n",
       "            </tr>\n",
       "        </table>\n",
       "        "
      ],
      "text/plain": [
       "<Reaction NOR at 0x20f45f07850>"
      ]
     },
     "execution_count": 71,
     "metadata": {},
     "output_type": "execute_result"
    }
   ],
   "source": [
    "model.reactions.NOR"
   ]
  },
  {
   "cell_type": "code",
   "execution_count": 72,
   "id": "37bffaa8-fce3-4ecf-8180-d4164f2188e9",
   "metadata": {},
   "outputs": [
    {
     "name": "stdout",
     "output_type": "stream",
     "text": [
      "{'charge': 2.0}\n"
     ]
    },
    {
     "data": {
      "text/html": [
       "\n",
       "        <table>\n",
       "            <tr>\n",
       "                <td><strong>Reaction identifier</strong></td><td>NOR</td>\n",
       "            </tr><tr>\n",
       "                <td><strong>Name</strong></td><td>nitrous-oxide:ferricytochrome-c oxidoreductase</td>\n",
       "            </tr><tr>\n",
       "                <td><strong>Memory address</strong></td>\n",
       "                <td>0x020f45f07850</td>\n",
       "            </tr><tr>\n",
       "                <td><strong>Stoichiometry</strong></td>\n",
       "                <td>\n",
       "                    <p style='text-align:right'>2.0 focytC_p + 2.0 h_c + 2.0 no_p <=> 2.0 ficytC_p + h2o_p + n2o_p</p>\n",
       "                    <p style='text-align:right'>2.0 ferrocytochrome, cytc + 2.0 H + 2.0 Nitric-oxide <=> 2.0 ferricytochrome, cytc + H2O + Nitrous-oxide</p>\n",
       "                </td>\n",
       "            </tr><tr>\n",
       "                <td><strong>GPR</strong></td><td>NGO1275 and NGO1328</td>\n",
       "            </tr><tr>\n",
       "                <td><strong>Lower bound</strong></td><td>-1000.0</td>\n",
       "            </tr><tr>\n",
       "                <td><strong>Upper bound</strong></td><td>1000.0</td>\n",
       "            </tr>\n",
       "        </table>\n",
       "        "
      ],
      "text/plain": [
       "<Reaction NOR at 0x20f45f07850>"
      ]
     },
     "execution_count": 72,
     "metadata": {},
     "output_type": "execute_result"
    }
   ],
   "source": [
    "#The original NOR was cytochrome oxidations were flipped. Corrected here. \n",
    "\n",
    "r=model.reactions.get_by_id('NOR')\n",
    "r.name='nitrous-oxide:ferricytochrome-c oxidoreductase'\n",
    "ficytC_p =model.metabolites.ficytC_p\n",
    "focytC_p=model.metabolites.focytC_p\n",
    "r.add_metabolites({\n",
    "    focytC_p:-4,\n",
    "    ficytC_p: 4,\n",
    "      })\n",
    "\n",
    "print(r.check_mass_balance())\n",
    "r"
   ]
  },
  {
   "cell_type": "code",
   "execution_count": 73,
   "id": "577cf917-7fb4-4852-bb10-729d7efea397",
   "metadata": {},
   "outputs": [
    {
     "name": "stdout",
     "output_type": "stream",
     "text": [
      "0.06422017543764391\n"
     ]
    },
    {
     "data": {
      "text/html": [
       "<h3>no_p</h3><p>NO</p><h4>Producing Reactions</h4><table border=\"1\" class=\"dataframe\">\n",
       "  <thead>\n",
       "    <tr style=\"text-align: right;\">\n",
       "      <th>Percent</th>\n",
       "      <th>Flux</th>\n",
       "      <th>Reaction</th>\n",
       "      <th>Definition</th>\n",
       "    </tr>\n",
       "  </thead>\n",
       "  <tbody>\n",
       "    <tr>\n",
       "      <td>100.00%</td>\n",
       "      <td>10</td>\n",
       "      <td>NO2R</td>\n",
       "      <td>ficytC_p + h2o_p + no_p &lt;=&gt; focytC_p + 2.0 h_p + no2_p</td>\n",
       "    </tr>\n",
       "  </tbody>\n",
       "</table><h4>Consuming Reactions</h4><table border=\"1\" class=\"dataframe\">\n",
       "  <thead>\n",
       "    <tr style=\"text-align: right;\">\n",
       "      <th>Percent</th>\n",
       "      <th>Flux</th>\n",
       "      <th>Reaction</th>\n",
       "      <th>Definition</th>\n",
       "    </tr>\n",
       "  </thead>\n",
       "  <tbody>\n",
       "    <tr>\n",
       "      <td>100.00%</td>\n",
       "      <td>-10</td>\n",
       "      <td>NOR</td>\n",
       "      <td>2.0 focytC_p + 2.0 h_c + 2.0 no_p &lt;=&gt; 2.0 ficytC_p + h2o_p + n2o_p</td>\n",
       "    </tr>\n",
       "  </tbody>\n",
       "</table>"
      ],
      "text/plain": [
       "<cobra.summary.metabolite_summary.MetaboliteSummary at 0x20f4cf5cd30>"
      ]
     },
     "execution_count": 73,
     "metadata": {},
     "output_type": "execute_result"
    }
   ],
   "source": [
    "#Model now grows anaerobically on nitrite. \n",
    "anaerobic_rpmi(model)\n",
    "print(model.slim_optimize())\n",
    "model.metabolites.no_p.summary()"
   ]
  },
  {
   "cell_type": "code",
   "execution_count": 74,
   "id": "1a261087-eab7-4d51-a0e8-1c591faf3c16",
   "metadata": {},
   "outputs": [
    {
     "data": {
      "text/html": [
       "\n",
       "        <table>\n",
       "            <tr>\n",
       "                <td><strong>Reaction identifier</strong></td><td>CYSabcpp</td>\n",
       "            </tr><tr>\n",
       "                <td><strong>Name</strong></td><td>R_CYSabcpp</td>\n",
       "            </tr><tr>\n",
       "                <td><strong>Memory address</strong></td>\n",
       "                <td>0x020f45cc53a0</td>\n",
       "            </tr><tr>\n",
       "                <td><strong>Stoichiometry</strong></td>\n",
       "                <td>\n",
       "                    <p style='text-align:right'>atp_c + cys_L_p + h2o_c --> adp_c + cys_L_c + h_c + pi_c</p>\n",
       "                    <p style='text-align:right'>ATP + L-Cysteine + H2O --> ADP + L-Cysteine + H + Phosphate</p>\n",
       "                </td>\n",
       "            </tr><tr>\n",
       "                <td><strong>GPR</strong></td><td>(NGO0374 and NGO0373 and NGO0372) or (NGO0968 and NGO0269 and NGO1152)</td>\n",
       "            </tr><tr>\n",
       "                <td><strong>Lower bound</strong></td><td>0.0</td>\n",
       "            </tr><tr>\n",
       "                <td><strong>Upper bound</strong></td><td>1000.0</td>\n",
       "            </tr>\n",
       "        </table>\n",
       "        "
      ],
      "text/plain": [
       "<Reaction CYSabcpp at 0x20f45cc53a0>"
      ]
     },
     "execution_count": 74,
     "metadata": {},
     "output_type": "execute_result"
    }
   ],
   "source": [
    "model.reactions.get_by_id('CYSabcpp')"
   ]
  },
  {
   "cell_type": "code",
   "execution_count": 75,
   "id": "246d72f6-e1c2-4f52-9498-801f505ffbe2",
   "metadata": {
    "scrolled": true,
    "tags": []
   },
   "outputs": [
    {
     "name": "stdout",
     "output_type": "stream",
     "text": [
      "{}\n"
     ]
    }
   ],
   "source": [
    "#NGO2011, NGO2012, NGO2013, and NGO2014 are a cysteine (cys_L_) transporter. PMID: 22138345\n",
    "#NGO0372, NGO373, NGO0374 are a cystine (cystine_L_) transporter. PMID: 22138345. In the current model, this is annotated as a cysteine importer \n",
    "#and no reaction for cystine import exists, or for breakdown of cystine. \n",
    "#Adding that transport and breakdown reaction here and correcting the gene annotations.\n",
    "\n",
    "#NGO0968 and NGO0269 and NGO1152 is listed for lots of different transport reactions - its not very well annotated. Removing it from cystine and cysteine import. \n",
    "\n",
    "CYSabcpp = model.reactions.get_by_id('CYSabcpp')\n",
    "CYSabcpp.gene_reaction_rule='NGO2011 and NGO2012 and NGO2013 and NGO2014'\n",
    "CYSabcpp.notes = {'citations': 'PMID: 22138345', 'type': '', 'annotation': ''}\n",
    "\n",
    "\n",
    "from cobra import Reaction, Metabolite\n",
    "\n",
    "cystine_L_c = Metabolite(\n",
    "    'cystine_L_c',\n",
    "    formula='C6H12N2O4S2',\n",
    "    name='Cystine',\n",
    "    compartment='cytosol')\n",
    "\n",
    "cystine_L_e = Metabolite(\n",
    "    'cystine_L_e',\n",
    "    formula='C6H12N2O4S2',\n",
    "    name='Cystine',\n",
    "    compartment='extracellular')\n",
    "\n",
    "cystine_L_p = Metabolite(\n",
    "    'cystine_L_p',\n",
    "    formula='C6H12N2O4S2',\n",
    "    name='Cystine',\n",
    "    compartment='periplasm')\n",
    "\n",
    "\n",
    "h_c = model.metabolites.get_by_id('h_c')\n",
    "atp_c = model.metabolites.get_by_id('atp_c')\n",
    "h2o_c = model.metabolites.get_by_id('h2o_c')\n",
    "adp_c = model.metabolites.get_by_id('adp_c')\n",
    "pi_c = model.metabolites.get_by_id('pi_c')\n",
    "\n",
    "CYSTINEabcpp = cobra.Reaction('CYSTINEabcpp')\n",
    "CYSTINEabcpp.id = 'CYSTINEabcpp'\n",
    "CYSTINEabcpp.name = 'cystine import'\n",
    "CYSTINEabcpp.gene_reaction_rule = 'NGO0374 and NGO0373 and NGO0372'\n",
    "CYSTINEabcpp.lower_bound = -1000.\n",
    "CYSTINEabcpp.upper_bound = 1000.\n",
    "CYSTINEabcpp.add_metabolites({\n",
    "        atp_c: -1.0,\n",
    "        cystine_L_p: -1.,\n",
    "        h2o_c: -1. ,\n",
    "        adp_c:  1.,\n",
    "        cystine_L_c: 1. ,\n",
    "        h_c: 1.,\n",
    "        pi_c: 1.,\n",
    "        })\n",
    "\n",
    "model.add_reactions([CYSTINEabcpp])\n",
    "\n",
    "\n",
    "\n",
    "\n",
    "\n",
    "\n",
    "EX_cystine_L_ = cobra.Reaction('EX_cystine_L_')\n",
    "EX_cystine_L_.notes = {'citations': 'PMID: 22138345', 'type': '', 'annotation': ''}\n",
    "EX_cystine_L_.name = 'exchange of cystine'\n",
    "EX_cystine_L_.gene_reaction_rule = ''\n",
    "EX_cystine_L_.lower_bound = 0.\n",
    "EX_cystine_L_.upper_bound = 1000.\n",
    "EX_cystine_L_.add_metabolites({\n",
    "    cystine_L_e: -1.0,})\n",
    "\n",
    "\n",
    "model.add_reactions([EX_cystine_L_])\n",
    "\n",
    "\n",
    "h_c = model.metabolites.get_by_id('h_c')\n",
    "nadh_c = model.metabolites.get_by_id('nadh_c')\n",
    "nad_c = model.metabolites.get_by_id('nad_c')\n",
    "cys_L_c = model.metabolites.get_by_id('cys_L_c')\n",
    "\n",
    "CYSR = cobra.Reaction('CYSR')\n",
    "CYSR.notes = {'citations': 'PMCID: PMC2323225', 'type': '', 'annotation': ''}\n",
    "CYSR.name = 'cystine reductase'\n",
    "CYSR.gene_reaction_rule = 'Orphan'\n",
    "CYSR.lower_bound = -1000.\n",
    "CYSR.upper_bound = 1000.\n",
    "CYSR.add_metabolites({\n",
    "    cys_L_c: -2.0,\n",
    "    nad_c: -1.0, \n",
    "    cystine_L_c: 1.0,\n",
    "    h_c: 1.0,\n",
    "    nadh_c: 1.0,\n",
    "    })\n",
    "\n",
    "\n",
    "model.add_reactions([CYSR])\n",
    "print(CYSR.check_mass_balance())\n",
    "\n",
    "\n",
    "\n"
   ]
  },
  {
   "cell_type": "code",
   "execution_count": 76,
   "id": "bc165495-4d10-4588-93e8-03e2a0454242",
   "metadata": {},
   "outputs": [
    {
     "name": "stderr",
     "output_type": "stream",
     "text": [
      "C:\\Users\\Aimee\\anaconda3\\lib\\site-packages\\cobra\\core\\model.py:727: UserWarning: need to pass in a list\n",
      "  warn(\"need to pass in a list\")\n"
     ]
    }
   ],
   "source": [
    "#Neisseria, like many other proteobacteria, lack the permease portion of the phosphotransferase. \n",
    "#And therefore do not use it for carbohydrate transport.\n",
    "#The remaining portions of the system are thought to perform regulatory roles, related to virulence. \n",
    "#PMID: 26858137\n",
    "\n",
    "model.remove_reactions(model.reactions.GLCptspp)\n",
    "model.remove_reactions(model.reactions.FRUpts2pp)\n",
    "model.remove_reactions(model.reactions.ASCBptspp)\n",
    "model.remove_reactions(model.reactions.MALTptspp)\n",
    "model.remove_reactions(model.reactions.MANptspp)\n",
    "model.remove_reactions(model.reactions.SUCptspp)"
   ]
  },
  {
   "cell_type": "code",
   "execution_count": 77,
   "id": "b8c4a284-2f51-4854-ab22-d4520a609ed3",
   "metadata": {},
   "outputs": [],
   "source": [
    "#NADPH does not catalyze the FabI reaction, only NADH. Therefore all of the NADPH dependent reactions were removed. \n",
    "#PMID: 26567338   \n",
    "model.remove_reactions(model.reactions.EAR120y)\n",
    "model.remove_reactions(model.reactions.EAR100y)\n",
    "model.remove_reactions(model.reactions.EAR121y)\n",
    "model.remove_reactions(model.reactions.EAR140y)\n",
    "model.remove_reactions(model.reactions.EAR141y)\n",
    "model.remove_reactions(model.reactions.EAR160y)\n",
    "model.remove_reactions(model.reactions.EAR161y)\n",
    "model.remove_reactions(model.reactions.EAR180y)\n",
    "model.remove_reactions(model.reactions.EAR181y)\n",
    "model.remove_reactions(model.reactions.EAR40y)\n",
    "model.remove_reactions(model.reactions.EAR60y)\n",
    "model.remove_reactions(model.reactions.EAR80y)\n",
    "\n",
    "    "
   ]
  },
  {
   "cell_type": "code",
   "execution_count": 78,
   "id": "742ec91e-0534-4664-8d64-242dec8ce30d",
   "metadata": {},
   "outputs": [],
   "source": [
    "#Gc can only grow on glucose, lactate, and pyruvate. It cannot grow on gluconate. \n",
    "#Despite similarities to gluconate transporters and gluconate kinase, Nm also can't grow on gluconate so this should be removed. \n",
    "#PMID: 27454890\n",
    "model.remove_reactions(model.reactions.GLCNtex)\n",
    "model.remove_reactions(model.reactions.EX_glcn_e_)\n"
   ]
  },
  {
   "cell_type": "code",
   "execution_count": 79,
   "id": "d0d331c9-da9a-470c-ac73-64454581fc3d",
   "metadata": {},
   "outputs": [
    {
     "data": {
      "text/html": [
       "\n",
       "        <table>\n",
       "            <tr>\n",
       "                <td><strong>Name</strong></td>\n",
       "                <td>AE004969.1</td>\n",
       "            </tr><tr>\n",
       "                <td><strong>Memory address</strong></td>\n",
       "                <td>0x020f3d096130</td>\n",
       "            </tr><tr>\n",
       "                <td><strong>Number of metabolites</strong></td>\n",
       "                <td>1337</td>\n",
       "            </tr><tr>\n",
       "                <td><strong>Number of reactions</strong></td>\n",
       "                <td>1504</td>\n",
       "            </tr><tr>\n",
       "                <td><strong>Number of groups</strong></td>\n",
       "                <td>0</td>\n",
       "            </tr><tr>\n",
       "                <td><strong>Objective expression</strong></td>\n",
       "                <td>1.0*Nm_Ess_biomass - 1.0*Nm_Ess_biomass_reverse_46af5</td>\n",
       "            </tr><tr>\n",
       "                <td><strong>Compartments</strong></td>\n",
       "                <td>Cytosol, C_c, C_p, c, periplasm, cytosol, extracellular</td>\n",
       "            </tr>\n",
       "          </table>"
      ],
      "text/plain": [
       "<Model AE004969.1 at 0x20f3d096130>"
      ]
     },
     "execution_count": 79,
     "metadata": {},
     "output_type": "execute_result"
    }
   ],
   "source": [
    "model"
   ]
  },
  {
   "cell_type": "code",
   "execution_count": 80,
   "id": "dd74a367-69cc-4e36-9a6c-7a1fade6f140",
   "metadata": {},
   "outputs": [],
   "source": [
    "for metabolite in model.metabolites:\n",
    "    if '_c' in metabolite.id:\n",
    "        metabolite.compartment = 'cytosol'\n",
    "    if '_p' in metabolite.id:\n",
    "        metabolite.compartment = 'periplasm'\n",
    "    if '_e' in metabolite.id:\n",
    "        metabolite.compartment = 'extracellular'"
   ]
  },
  {
   "cell_type": "code",
   "execution_count": 81,
   "id": "a02fb7da-08af-4abf-85c2-a397adbee591",
   "metadata": {},
   "outputs": [],
   "source": [
    "cobra.io.save_json_model(model, cwd+'/Gc_GENRE_2022/Curate_Gc_Model/In_progress_curation/test.json')"
   ]
  },
  {
   "cell_type": "markdown",
   "id": "1d94021d-c5d3-4e96-a388-83357b695424",
   "metadata": {},
   "source": [
    "## 2b. Correct Reaction Mass/Charge Balances"
   ]
  },
  {
   "cell_type": "code",
   "execution_count": 82,
   "id": "6700dbf4-08ee-48d4-bbfa-d05a932d08f6",
   "metadata": {},
   "outputs": [],
   "source": [
    "#After adding genes and associated reactions from CarveMe FA1090 model, ensure all reactions are charge and mass balanced.\n",
    "#All formulas and charges are pulled from bigg unless indicated\n"
   ]
  },
  {
   "cell_type": "code",
   "execution_count": 83,
   "id": "730f73a3-4b5b-47e1-87b9-26bfcb78d8db",
   "metadata": {},
   "outputs": [
    {
     "name": "stdout",
     "output_type": "stream",
     "text": [
      "158 158 158\n"
     ]
    },
    {
     "data": {
      "text/html": [
       "<div>\n",
       "<style scoped>\n",
       "    .dataframe tbody tr th:only-of-type {\n",
       "        vertical-align: middle;\n",
       "    }\n",
       "\n",
       "    .dataframe tbody tr th {\n",
       "        vertical-align: top;\n",
       "    }\n",
       "\n",
       "    .dataframe thead th {\n",
       "        text-align: right;\n",
       "    }\n",
       "</style>\n",
       "<table border=\"1\" class=\"dataframe\">\n",
       "  <thead>\n",
       "    <tr style=\"text-align: right;\">\n",
       "      <th></th>\n",
       "      <th>Reactions</th>\n",
       "      <th>Charge</th>\n",
       "      <th>Masses</th>\n",
       "    </tr>\n",
       "  </thead>\n",
       "  <tbody>\n",
       "    <tr>\n",
       "      <th>0</th>\n",
       "      <td>3HAD161x</td>\n",
       "      <td></td>\n",
       "      <td>{'H': 96.0, 'O': 17.0, 'Ab': 1.0, 'A': 2.0, 'C...</td>\n",
       "    </tr>\n",
       "    <tr>\n",
       "      <th>1</th>\n",
       "      <td>3OAR161x</td>\n",
       "      <td></td>\n",
       "      <td>{'C': -27.0, 'H': -49.0, 'N': -2.0, 'O': -9.0,...</td>\n",
       "    </tr>\n",
       "    <tr>\n",
       "      <th>2</th>\n",
       "      <td>3OAS161a</td>\n",
       "      <td></td>\n",
       "      <td>{'C': -12.0, 'H': -21.0, 'N': -2.0, 'O': -9.0,...</td>\n",
       "    </tr>\n",
       "    <tr>\n",
       "      <th>3</th>\n",
       "      <td>ACCOAC</td>\n",
       "      <td></td>\n",
       "      <td>{'C': -9.999999999621423e-06, 'H': -1.49999999...</td>\n",
       "    </tr>\n",
       "    <tr>\n",
       "      <th>4</th>\n",
       "      <td>ACHBS</td>\n",
       "      <td></td>\n",
       "      <td>{'C': -1.2e-06, 'H': -1.6e-06, 'O': -7e-07, 'N...</td>\n",
       "    </tr>\n",
       "    <tr>\n",
       "      <th>...</th>\n",
       "      <td>...</td>\n",
       "      <td>...</td>\n",
       "      <td>...</td>\n",
       "    </tr>\n",
       "    <tr>\n",
       "      <th>153</th>\n",
       "      <td>PTHPS</td>\n",
       "      <td></td>\n",
       "      <td>{'C': -9.0, 'H': -11.0, 'N': -5.0, 'O': -3.0}</td>\n",
       "    </tr>\n",
       "    <tr>\n",
       "      <th>154</th>\n",
       "      <td>CPH4S</td>\n",
       "      <td></td>\n",
       "      <td>{'C': -7.0, 'H': -8.0, 'O': -3.0, 'N': -5.0}</td>\n",
       "    </tr>\n",
       "    <tr>\n",
       "      <th>155</th>\n",
       "      <td>CDGS</td>\n",
       "      <td></td>\n",
       "      <td>{'H': 3.0, 'N': 1.0}</td>\n",
       "    </tr>\n",
       "    <tr>\n",
       "      <th>156</th>\n",
       "      <td>CDGR</td>\n",
       "      <td></td>\n",
       "      <td>{'H': -5.0}</td>\n",
       "    </tr>\n",
       "    <tr>\n",
       "      <th>157</th>\n",
       "      <td>CCGS</td>\n",
       "      <td></td>\n",
       "      <td>{'N': -1.0, 'O': 2.0}</td>\n",
       "    </tr>\n",
       "  </tbody>\n",
       "</table>\n",
       "<p>158 rows × 3 columns</p>\n",
       "</div>"
      ],
      "text/plain": [
       "    Reactions Charge                                             Masses\n",
       "0    3HAD161x         {'H': 96.0, 'O': 17.0, 'Ab': 1.0, 'A': 2.0, 'C...\n",
       "1    3OAR161x         {'C': -27.0, 'H': -49.0, 'N': -2.0, 'O': -9.0,...\n",
       "2    3OAS161a         {'C': -12.0, 'H': -21.0, 'N': -2.0, 'O': -9.0,...\n",
       "3      ACCOAC         {'C': -9.999999999621423e-06, 'H': -1.49999999...\n",
       "4       ACHBS         {'C': -1.2e-06, 'H': -1.6e-06, 'O': -7e-07, 'N...\n",
       "..        ...    ...                                                ...\n",
       "153     PTHPS             {'C': -9.0, 'H': -11.0, 'N': -5.0, 'O': -3.0}\n",
       "154     CPH4S              {'C': -7.0, 'H': -8.0, 'O': -3.0, 'N': -5.0}\n",
       "155      CDGS                                      {'H': 3.0, 'N': 1.0}\n",
       "156      CDGR                                               {'H': -5.0}\n",
       "157      CCGS                                     {'N': -1.0, 'O': 2.0}\n",
       "\n",
       "[158 rows x 3 columns]"
      ]
     },
     "execution_count": 83,
     "metadata": {},
     "output_type": "execute_result"
    }
   ],
   "source": [
    "#Define biomass reactions to exclude from imbalance check\n",
    "biomass_reactions = set(['PLIPIDS', 'PLIPIDS_ESS', 'PROTS', 'PEPGLY','RNAS', 'DNAS' ])\n",
    "\n",
    "\n",
    "#After bulk removing cofactors, what reaction imbalances remain?\n",
    "reactions = []\n",
    "charge = []\n",
    "mass = []\n",
    "for react in model.reactions:\n",
    "    result = react.check_mass_balance()\n",
    "    if 'EX_' in  react.id:\n",
    "        continue\n",
    "    if 'Nm_' in  react.id:\n",
    "        continue\n",
    "    if 'DM_' in  react.id:\n",
    "        continue \n",
    "    if react.id in biomass_reactions:\n",
    "        continue\n",
    "    if len(result) == 0:\n",
    "        continue\n",
    "    else: \n",
    "        reactions.append(react.id)\n",
    "        masses = {}\n",
    "        for key in result.keys():\n",
    "            if key == 'charge':\n",
    "                charge.append(result['charge'])\n",
    "            else:\n",
    "                masses[key] = result[key]\n",
    "        if 'charge' not in result.keys():\n",
    "            charge.append('')\n",
    "        mass.append(masses)\n",
    "print(len(reactions), len(charge), len(mass))\n",
    "\n",
    "mass_charge_dict = {'Reactions': reactions, 'Charge': charge, 'Masses': mass}\n",
    "mass_charge = pandas.DataFrame(mass_charge_dict)\n",
    "mass_charge"
   ]
  },
  {
   "cell_type": "code",
   "execution_count": 84,
   "id": "882d5591-a554-47fd-a9dd-61a999e2cdd5",
   "metadata": {},
   "outputs": [
    {
     "data": {
      "text/html": [
       "<div>\n",
       "<style scoped>\n",
       "    .dataframe tbody tr th:only-of-type {\n",
       "        vertical-align: middle;\n",
       "    }\n",
       "\n",
       "    .dataframe tbody tr th {\n",
       "        vertical-align: top;\n",
       "    }\n",
       "\n",
       "    .dataframe thead th {\n",
       "        text-align: right;\n",
       "    }\n",
       "</style>\n",
       "<table border=\"1\" class=\"dataframe\">\n",
       "  <thead>\n",
       "    <tr style=\"text-align: right;\">\n",
       "      <th></th>\n",
       "      <th>formula</th>\n",
       "      <th>charge</th>\n",
       "    </tr>\n",
       "    <tr>\n",
       "      <th>Name</th>\n",
       "      <th></th>\n",
       "      <th></th>\n",
       "    </tr>\n",
       "  </thead>\n",
       "  <tbody>\n",
       "    <tr>\n",
       "      <th>10fthf_c</th>\n",
       "      <td>C20H21N7O7</td>\n",
       "      <td>-2</td>\n",
       "    </tr>\n",
       "    <tr>\n",
       "      <th>12dgr120_c</th>\n",
       "      <td>C27H52O5</td>\n",
       "      <td>0</td>\n",
       "    </tr>\n",
       "    <tr>\n",
       "      <th>12dgr120_p</th>\n",
       "      <td>C27H52O5</td>\n",
       "      <td>0</td>\n",
       "    </tr>\n",
       "    <tr>\n",
       "      <th>12dgr140_c</th>\n",
       "      <td>C31H60O5</td>\n",
       "      <td>0</td>\n",
       "    </tr>\n",
       "    <tr>\n",
       "      <th>12dgr140_p</th>\n",
       "      <td>C31H60O5</td>\n",
       "      <td>0</td>\n",
       "    </tr>\n",
       "    <tr>\n",
       "      <th>...</th>\n",
       "      <td>...</td>\n",
       "      <td>...</td>\n",
       "    </tr>\n",
       "    <tr>\n",
       "      <th>xylu_L_e</th>\n",
       "      <td>C5H10O5</td>\n",
       "      <td>0</td>\n",
       "    </tr>\n",
       "    <tr>\n",
       "      <th>xylu_L_p</th>\n",
       "      <td>C5H10O5</td>\n",
       "      <td>0</td>\n",
       "    </tr>\n",
       "    <tr>\n",
       "      <th>zn2_c</th>\n",
       "      <td>Zn</td>\n",
       "      <td>2</td>\n",
       "    </tr>\n",
       "    <tr>\n",
       "      <th>zn2_e</th>\n",
       "      <td>Zn</td>\n",
       "      <td>2</td>\n",
       "    </tr>\n",
       "    <tr>\n",
       "      <th>zn2_p</th>\n",
       "      <td>Zn</td>\n",
       "      <td>2</td>\n",
       "    </tr>\n",
       "  </tbody>\n",
       "</table>\n",
       "<p>1263 rows × 2 columns</p>\n",
       "</div>"
      ],
      "text/plain": [
       "               formula  charge\n",
       "Name                          \n",
       "10fthf_c    C20H21N7O7      -2\n",
       "12dgr120_c    C27H52O5       0\n",
       "12dgr120_p    C27H52O5       0\n",
       "12dgr140_c    C31H60O5       0\n",
       "12dgr140_p    C31H60O5       0\n",
       "...                ...     ...\n",
       "xylu_L_e       C5H10O5       0\n",
       "xylu_L_p       C5H10O5       0\n",
       "zn2_c               Zn       2\n",
       "zn2_e               Zn       2\n",
       "zn2_p               Zn       2\n",
       "\n",
       "[1263 rows x 2 columns]"
      ]
     },
     "execution_count": 84,
     "metadata": {},
     "output_type": "execute_result"
    }
   ],
   "source": [
    "#Model does not have charges associated with metabolites. Adding charges and formulas.\n",
    "#load metabolite annotation table\n",
    "metabolites= list()\n",
    "for mets in model.metabolites:\n",
    "    metabolites.append(mets.id)\n",
    "metabolites\n",
    "\n",
    "#Use Mendum 2011 metabolite formulas\n",
    "annotation_table = pd.read_csv (cwd+'/Gc_GENRE_2022/Curate_Gc_Model/Annotation_resources/Metabolite_charges.csv', usecols= ['Name','formula', 'charge'],index_col=0)\n",
    "annotation_table = annotation_table.fillna('')\n",
    "annotation_table                       \n"
   ]
  },
  {
   "cell_type": "code",
   "execution_count": 85,
   "id": "1d336a78-3f92-4d2c-b92b-4aec2754cc58",
   "metadata": {},
   "outputs": [],
   "source": [
    "cobra.io.save_json_model(model, cwd+'/Gc_GENRE_2022/Curate_Gc_Model/In_progress_curation/test.json')"
   ]
  },
  {
   "cell_type": "code",
   "execution_count": 86,
   "id": "5d613d8c-8028-4e3b-8fcf-625ba3ff0832",
   "metadata": {},
   "outputs": [],
   "source": [
    "#Add metabolite charges to model from annotation table\n",
    "for x in model.metabolites:\n",
    "    metid=x.id\n",
    "    if metid in annotation_table.index:\n",
    "        charge=annotation_table['charge'].loc[metid]\n",
    "        model.metabolites.get_by_id(metid).charge= int(charge)\n",
    "        formula=annotation_table['formula'].loc[metid]\n",
    "        model.metabolites.get_by_id(metid).formula= str(formula)\n",
    "    else:\n",
    "        pass"
   ]
  },
  {
   "cell_type": "code",
   "execution_count": 87,
   "id": "a7104fd0-a8fd-442b-80bd-33377038d5d9",
   "metadata": {},
   "outputs": [],
   "source": [
    "cobra.io.save_json_model(model, cwd+'/Gc_GENRE_2022/Curate_Gc_Model/In_progress_curation/test.json')"
   ]
  },
  {
   "cell_type": "code",
   "execution_count": 88,
   "id": "99c32238-c42f-4802-8350-cc85bc2bd099",
   "metadata": {},
   "outputs": [
    {
     "name": "stdout",
     "output_type": "stream",
     "text": [
      "164 164 164\n"
     ]
    },
    {
     "data": {
      "text/html": [
       "<div>\n",
       "<style scoped>\n",
       "    .dataframe tbody tr th:only-of-type {\n",
       "        vertical-align: middle;\n",
       "    }\n",
       "\n",
       "    .dataframe tbody tr th {\n",
       "        vertical-align: top;\n",
       "    }\n",
       "\n",
       "    .dataframe thead th {\n",
       "        text-align: right;\n",
       "    }\n",
       "</style>\n",
       "<table border=\"1\" class=\"dataframe\">\n",
       "  <thead>\n",
       "    <tr style=\"text-align: right;\">\n",
       "      <th></th>\n",
       "      <th>Reactions</th>\n",
       "      <th>Charge</th>\n",
       "      <th>Masses</th>\n",
       "    </tr>\n",
       "  </thead>\n",
       "  <tbody>\n",
       "    <tr>\n",
       "      <th>0</th>\n",
       "      <td>3OAS161a</td>\n",
       "      <td>1.0</td>\n",
       "      <td>{'C': -12.0, 'H': -21.0, 'N': -2.0, 'O': -9.0,...</td>\n",
       "    </tr>\n",
       "    <tr>\n",
       "      <th>1</th>\n",
       "      <td>ACCOAC</td>\n",
       "      <td>0.000001</td>\n",
       "      <td>{'C': -9.999999999621423e-06, 'H': -1.49999999...</td>\n",
       "    </tr>\n",
       "    <tr>\n",
       "      <th>2</th>\n",
       "      <td>ACHBS</td>\n",
       "      <td>0.0</td>\n",
       "      <td>{'C': -1.2e-06, 'H': -1.6e-06, 'O': -7e-07, 'N...</td>\n",
       "    </tr>\n",
       "    <tr>\n",
       "      <th>3</th>\n",
       "      <td>ACLS</td>\n",
       "      <td>0.0</td>\n",
       "      <td>{'C': -1.2e-06, 'H': -1.6e-06, 'O': -7e-07, 'N...</td>\n",
       "    </tr>\n",
       "    <tr>\n",
       "      <th>4</th>\n",
       "      <td>ACPH</td>\n",
       "      <td>-1.0</td>\n",
       "      <td>{'H': -2.0, 'O': -1.0, 'R': -1.0}</td>\n",
       "    </tr>\n",
       "    <tr>\n",
       "      <th>...</th>\n",
       "      <td>...</td>\n",
       "      <td>...</td>\n",
       "      <td>...</td>\n",
       "    </tr>\n",
       "    <tr>\n",
       "      <th>159</th>\n",
       "      <td>UAPGR</td>\n",
       "      <td>0.0</td>\n",
       "      <td>{'C': -2.69999999957804e-06, 'H': -3.100000000...</td>\n",
       "    </tr>\n",
       "    <tr>\n",
       "      <th>160</th>\n",
       "      <td>UPPRT</td>\n",
       "      <td>-1.0</td>\n",
       "      <td>{'H': -1.0}</td>\n",
       "    </tr>\n",
       "    <tr>\n",
       "      <th>161</th>\n",
       "      <td>XPPT</td>\n",
       "      <td>-1.0</td>\n",
       "      <td>{'H': -1.0}</td>\n",
       "    </tr>\n",
       "    <tr>\n",
       "      <th>162</th>\n",
       "      <td>XPRT</td>\n",
       "      <td>-1.0</td>\n",
       "      <td>{'H': -1.0}</td>\n",
       "    </tr>\n",
       "    <tr>\n",
       "      <th>163</th>\n",
       "      <td>CYPOX</td>\n",
       "      <td>-2.0</td>\n",
       "      <td>{}</td>\n",
       "    </tr>\n",
       "  </tbody>\n",
       "</table>\n",
       "<p>164 rows × 3 columns</p>\n",
       "</div>"
      ],
      "text/plain": [
       "    Reactions    Charge                                             Masses\n",
       "0    3OAS161a       1.0  {'C': -12.0, 'H': -21.0, 'N': -2.0, 'O': -9.0,...\n",
       "1      ACCOAC  0.000001  {'C': -9.999999999621423e-06, 'H': -1.49999999...\n",
       "2       ACHBS       0.0  {'C': -1.2e-06, 'H': -1.6e-06, 'O': -7e-07, 'N...\n",
       "3        ACLS       0.0  {'C': -1.2e-06, 'H': -1.6e-06, 'O': -7e-07, 'N...\n",
       "4        ACPH      -1.0                  {'H': -2.0, 'O': -1.0, 'R': -1.0}\n",
       "..        ...       ...                                                ...\n",
       "159     UAPGR       0.0  {'C': -2.69999999957804e-06, 'H': -3.100000000...\n",
       "160     UPPRT      -1.0                                        {'H': -1.0}\n",
       "161      XPPT      -1.0                                        {'H': -1.0}\n",
       "162      XPRT      -1.0                                        {'H': -1.0}\n",
       "163     CYPOX      -2.0                                                 {}\n",
       "\n",
       "[164 rows x 3 columns]"
      ]
     },
     "execution_count": 88,
     "metadata": {},
     "output_type": "execute_result"
    }
   ],
   "source": [
    "#Define biomass reactions to exclude from imbalance check\n",
    "biomass_reactions = set(['PLIPIDS', 'PLIPIDS_ESS', 'PROTS', 'PEPGLY','RNAS', 'DNAS' ])\n",
    "\n",
    "\n",
    "#After bulk removing cofactors, what reaction imbalances remain?\n",
    "reactions = []\n",
    "charge = []\n",
    "mass = []\n",
    "for react in model.reactions:\n",
    "    result = react.check_mass_balance()\n",
    "    if 'EX_' in  react.id:\n",
    "        continue\n",
    "    if 'Nm_' in  react.id:\n",
    "        continue\n",
    "    if 'DM_' in  react.id:\n",
    "        continue \n",
    "    if react.id in biomass_reactions:\n",
    "        continue\n",
    "    if len(result) == 0:\n",
    "        continue\n",
    "    else: \n",
    "        reactions.append(react.id)\n",
    "        masses = {}\n",
    "        for key in result.keys():\n",
    "            if key == 'charge':\n",
    "                charge.append(result['charge'])\n",
    "            else:\n",
    "                masses[key] = result[key]\n",
    "        if 'charge' not in result.keys():\n",
    "            charge.append('')\n",
    "        mass.append(masses)\n",
    "print(len(reactions), len(charge), len(mass))\n",
    "\n",
    "mass_charge_dict = {'Reactions': reactions, 'Charge': charge, 'Masses': mass}\n",
    "mass_charge = pandas.DataFrame(mass_charge_dict)\n",
    "mass_charge"
   ]
  },
  {
   "cell_type": "markdown",
   "id": "db1da5e7-e12a-470a-a6ef-afd655fdae07",
   "metadata": {},
   "source": [
    "### Remove Cofactors"
   ]
  },
  {
   "cell_type": "code",
   "execution_count": 89,
   "id": "3a809663-a74d-447e-bcb4-72e10dfefe14",
   "metadata": {
    "tags": []
   },
   "outputs": [
    {
     "name": "stdout",
     "output_type": "stream",
     "text": [
      "   ACCOAC :  btn_c : -1e-06\n",
      "     BTS4 :  btn_c : 1.0\n"
     ]
    }
   ],
   "source": [
    "#Remove biotin as a cofactor\n",
    "cofactor_rxns =[]\n",
    "for react in model.reactions:\n",
    "    result = react.check_mass_balance()\n",
    "    if 'EX_' in  react.id:\n",
    "        continue\n",
    "    if 'Nm_' in react.id:\n",
    "        continue\n",
    "    if \"DM_\" in react.id:\n",
    "        continue\n",
    "    if react.id in biomass_reactions:\n",
    "        continue\n",
    "    if len(result) == 0:\n",
    "        continue\n",
    "    else: \n",
    "        if \"btn_c\" in react.reaction:\n",
    "            cofactor_rxns.append(react.id)\n",
    "            print('%9s :  btn_c : %s' % (react.id, react._metabolites[model.metabolites.get_by_id('btn_c')]))\n",
    "            original_coefficient = react._metabolites[model.metabolites.get_by_id('btn_c')]\n",
    "            if abs(original_coefficient) >100:\n",
    "                react.subtract_metabolites({model.metabolites.btn_c: original_coefficient})\n",
    "            if abs(original_coefficient) <0.001:\n",
    "                react.subtract_metabolites({model.metabolites.btn_c: original_coefficient})\n",
    "            \n",
    "            \n",
    "if len(cofactor_rxns) == 0:\n",
    "        print ('No reactions')"
   ]
  },
  {
   "cell_type": "code",
   "execution_count": 90,
   "id": "0ea56154-21da-436c-a925-4f46f84de613",
   "metadata": {
    "scrolled": true
   },
   "outputs": [
    {
     "data": {
      "text/html": [
       "\n",
       "        <table>\n",
       "            <tr>\n",
       "                <td><strong>Reaction identifier</strong></td><td>ACCOAC</td>\n",
       "            </tr><tr>\n",
       "                <td><strong>Name</strong></td><td>R_ACCOAC</td>\n",
       "            </tr><tr>\n",
       "                <td><strong>Memory address</strong></td>\n",
       "                <td>0x020f45c0c850</td>\n",
       "            </tr><tr>\n",
       "                <td><strong>Stoichiometry</strong></td>\n",
       "                <td>\n",
       "                    <p style='text-align:right'>accoa_c + atp_c + hco3_c --> adp_c + h_c + malcoa_c + pi_c</p>\n",
       "                    <p style='text-align:right'>Acetyl-CoA + ATP + Bicarbonate --> ADP + H + Malonyl-CoA + Phosphate</p>\n",
       "                </td>\n",
       "            </tr><tr>\n",
       "                <td><strong>GPR</strong></td><td>(NGO0821 or NGO0821) and NGO0044 and NGO0249 and NGO0045 and NGO2001</td>\n",
       "            </tr><tr>\n",
       "                <td><strong>Lower bound</strong></td><td>0.0</td>\n",
       "            </tr><tr>\n",
       "                <td><strong>Upper bound</strong></td><td>1000.0</td>\n",
       "            </tr>\n",
       "        </table>\n",
       "        "
      ],
      "text/plain": [
       "<Reaction ACCOAC at 0x20f45c0c850>"
      ]
     },
     "execution_count": 90,
     "metadata": {},
     "output_type": "execute_result"
    }
   ],
   "source": [
    "#Biotin has been removed as a cofactor all reactions\n",
    "#example\n",
    "model.reactions.ACCOAC"
   ]
  },
  {
   "cell_type": "code",
   "execution_count": 91,
   "id": "676772de-08db-4f4d-9360-eac32c029762",
   "metadata": {
    "scrolled": true
   },
   "outputs": [
    {
     "data": {
      "text/html": [
       "\n",
       "        <table>\n",
       "            <tr>\n",
       "                <td><strong>Reaction identifier</strong></td><td>BTS4</td>\n",
       "            </tr><tr>\n",
       "                <td><strong>Name</strong></td><td>R_BTS4</td>\n",
       "            </tr><tr>\n",
       "                <td><strong>Memory address</strong></td>\n",
       "                <td>0x020f45c9ef10</td>\n",
       "            </tr><tr>\n",
       "                <td><strong>Stoichiometry</strong></td>\n",
       "                <td>\n",
       "                    <p style='text-align:right'>amet_c + dtbt_c + h_c --> btn_c + dad_5_c + h2o_c + met_L_c + o2_c</p>\n",
       "                    <p style='text-align:right'>S-Adenosyl-L-methionine + Dethiobiotin + H --> Biotin + 5-Deoxyadenosine + H2O + L-Methionine + O2</p>\n",
       "                </td>\n",
       "            </tr><tr>\n",
       "                <td><strong>GPR</strong></td><td>NGO0813 or NGO0813</td>\n",
       "            </tr><tr>\n",
       "                <td><strong>Lower bound</strong></td><td>0.0</td>\n",
       "            </tr><tr>\n",
       "                <td><strong>Upper bound</strong></td><td>1000.0</td>\n",
       "            </tr>\n",
       "        </table>\n",
       "        "
      ],
      "text/plain": [
       "<Reaction BTS4 at 0x20f45c9ef10>"
      ]
     },
     "execution_count": 91,
     "metadata": {},
     "output_type": "execute_result"
    }
   ],
   "source": [
    "#But Biotin has not been removed if it is an actual reactant\n",
    "#example\n",
    "model.reactions.BTS4"
   ]
  },
  {
   "cell_type": "code",
   "execution_count": 92,
   "id": "7da681e6-5552-4163-a29c-25090fad176f",
   "metadata": {},
   "outputs": [
    {
     "data": {
      "text/plain": [
       "-1.0917825069055096e-19"
      ]
     },
     "execution_count": 92,
     "metadata": {},
     "output_type": "execute_result"
    }
   ],
   "source": [
    "model.slim_optimize()"
   ]
  },
  {
   "cell_type": "code",
   "execution_count": 93,
   "id": "ae9018d5-82d7-4466-ad08-62aa14c3115c",
   "metadata": {
    "scrolled": true
   },
   "outputs": [
    {
     "name": "stdout",
     "output_type": "stream",
     "text": [
      "    ACHBS :  thmpp_c : -1e-07\n",
      "     ACLS :  thmpp_c : -1e-07\n",
      "       CS :  thmpp_c : -1e-06\n",
      "     DXPS :  thmpp_c : -1e-07\n",
      "      PDH :  thmpp_c : -1e-06\n"
     ]
    }
   ],
   "source": [
    "#Remove thmpp_c\n",
    "cofactor_rxns =[]\n",
    "for react in model.reactions:\n",
    "    result = react.check_mass_balance()\n",
    "    if 'EX_' in  react.id:\n",
    "        continue\n",
    "    if 'Nm_' in react.id:\n",
    "        continue\n",
    "    if \"DM_\" in react.id:\n",
    "        continue\n",
    "    if react.id in biomass_reactions:\n",
    "        continue\n",
    "    if len(result) == 0:\n",
    "        continue\n",
    "    else: \n",
    "        if \"thmpp_c\" in react.reaction:\n",
    "            cofactor_rxns.append(react.id)\n",
    "            print('%9s :  thmpp_c : %s' % (react.id, react._metabolites[model.metabolites.get_by_id('thmpp_c')]))\n",
    "            original_coefficient = react._metabolites[model.metabolites.get_by_id('thmpp_c')]\n",
    "            if abs(original_coefficient) >100:\n",
    "                react.subtract_metabolites({model.metabolites.thmpp_c: original_coefficient})\n",
    "            if abs(original_coefficient) <0.001:\n",
    "                react.subtract_metabolites({model.metabolites.thmpp_c: original_coefficient})\n",
    "            \n",
    "            \n",
    "if len(cofactor_rxns) == 0:\n",
    "        print ('No reactions')"
   ]
  },
  {
   "cell_type": "code",
   "execution_count": 94,
   "id": "06416681-9565-43f7-be95-6dd32f4fc876",
   "metadata": {
    "scrolled": true
   },
   "outputs": [
    {
     "data": {
      "text/html": [
       "\n",
       "        <table>\n",
       "            <tr>\n",
       "                <td><strong>Reaction identifier</strong></td><td>ACHBS</td>\n",
       "            </tr><tr>\n",
       "                <td><strong>Name</strong></td><td>R_ACHBS</td>\n",
       "            </tr><tr>\n",
       "                <td><strong>Memory address</strong></td>\n",
       "                <td>0x020f45c10970</td>\n",
       "            </tr><tr>\n",
       "                <td><strong>Stoichiometry</strong></td>\n",
       "                <td>\n",
       "                    <p style='text-align:right'>2obut_c + h_c + pyr_c --> 2ahbut_c + co2_c</p>\n",
       "                    <p style='text-align:right'>2-Oxobutanoate + H + Pyruvate --> S-2-Aceto-2-hydroxybutanoate + CO2</p>\n",
       "                </td>\n",
       "            </tr><tr>\n",
       "                <td><strong>GPR</strong></td><td>NGO1236 and (Blank or NGO1235)</td>\n",
       "            </tr><tr>\n",
       "                <td><strong>Lower bound</strong></td><td>0.0</td>\n",
       "            </tr><tr>\n",
       "                <td><strong>Upper bound</strong></td><td>1000.0</td>\n",
       "            </tr>\n",
       "        </table>\n",
       "        "
      ],
      "text/plain": [
       "<Reaction ACHBS at 0x20f45c10970>"
      ]
     },
     "execution_count": 94,
     "metadata": {},
     "output_type": "execute_result"
    }
   ],
   "source": [
    "#example\n",
    "model.reactions.ACHBS"
   ]
  },
  {
   "cell_type": "code",
   "execution_count": 95,
   "id": "8c3017bb-4e39-4985-bb95-4e3a47ea3696",
   "metadata": {
    "scrolled": true
   },
   "outputs": [
    {
     "name": "stdout",
     "output_type": "stream",
     "text": [
      "    ASPO3 :  fad_c : -1e-07\n",
      "    ASPO5 :  fad_c : -1e-07\n",
      "    ASPO6 :  fad_c : -1e-07\n",
      "    CHORS :  fad_c : -1e-07\n",
      "   DHORD2 :  fad_c : -1e-07\n",
      "     FUMR :  fad_c : -1e-08\n",
      "   MTHFR2 :  fad_c : -1e-07\n",
      " NADH16pp :  fad_c : -1e-07\n",
      "    NADH5 :  fad_c : -1e-07\n",
      "  NADHQNa :  fad_c : -1e-07\n",
      " NADPHQR2 :  fad_c : -1e-07\n",
      "    PPPGO :  fad_c : -1e-07\n",
      "    SUCD1 :  fad_c : -1e-08\n",
      "    UAPGR :  fad_c : -1e-07\n"
     ]
    }
   ],
   "source": [
    "#Remove fad_c\n",
    "cofactor_rxns =[]\n",
    "for react in model.reactions:\n",
    "    result = react.check_mass_balance()\n",
    "    if 'EX_' in  react.id:\n",
    "        continue\n",
    "    if 'Nm_' in react.id:\n",
    "        continue\n",
    "    if \"DM_\" in react.id:\n",
    "        continue\n",
    "    if react.id in biomass_reactions:\n",
    "        continue\n",
    "    if len(result) == 0:\n",
    "        continue\n",
    "    else: \n",
    "        if \"fad_c\" in react.reaction:\n",
    "            cofactor_rxns.append(react.id)\n",
    "            print('%9s :  fad_c : %s' % (react.id, react._metabolites[model.metabolites.get_by_id('fad_c')]))\n",
    "            original_coefficient = react._metabolites[model.metabolites.get_by_id('fad_c')]\n",
    "            if abs(original_coefficient) >100:\n",
    "                react.subtract_metabolites({model.metabolites.fad_c: original_coefficient})\n",
    "            if abs(original_coefficient) <0.001:\n",
    "                react.subtract_metabolites({model.metabolites.fad_c: original_coefficient})\n",
    "            \n",
    "            \n",
    "if len(cofactor_rxns) == 0:\n",
    "        print ('No reactions')"
   ]
  },
  {
   "cell_type": "code",
   "execution_count": 96,
   "id": "64ca49ba-b6d9-4c11-8537-3424e9779f06",
   "metadata": {
    "tags": []
   },
   "outputs": [
    {
     "name": "stdout",
     "output_type": "stream",
     "text": [
      "     ADCL :  pydx5p_c : -1e-07\n",
      "     ADCS :  pydx5p_c : -1e-07\n",
      "   AMAOTr :  pydx5p_c : -1e-07\n",
      "    ARGDC :  pydx5p_c : -1e-07\n",
      "     CYSS :  pydx5p_c : -1e-07\n",
      "    DAPDC :  pydx5p_c : -1e-07\n",
      "     PGCD :  pydx5p_c : -1e-07\n",
      "   PSD120 :  pydx5p_c : -1e-07\n",
      "   PSD140 :  pydx5p_c : -1e-07\n",
      "   PSD141 :  pydx5p_c : -1e-07\n",
      "  PSD141b :  pydx5p_c : -1e-07\n",
      "   PSD160 :  pydx5p_c : -1e-07\n",
      "  PSD160a :  pydx5p_c : -1e-07\n",
      "  PSD160b :  pydx5p_c : -1e-07\n",
      "  PSD160c :  pydx5p_c : -1e-07\n",
      "  PSD160e :  pydx5p_c : -1e-07\n",
      "  PSD161a :  pydx5p_c : -1e-07\n",
      "   PSD180 :  pydx5p_c : -1e-07\n",
      "   PSD181 :  pydx5p_c : -1e-07\n",
      "    PSERT :  pydx5p_c : -1e-07\n",
      "   SERD_L :  pydx5p_c : -1e-07\n",
      "    SHSL5 :  pydx5p_c : -1e-07\n",
      "   THRD_L :  pydx5p_c : -1e-07\n",
      "     THRS :  pydx5p_c : -1e-07\n"
     ]
    }
   ],
   "source": [
    "#Remove pydx5p_c\n",
    "cofactor_rxns =[]\n",
    "for react in model.reactions:\n",
    "    result = react.check_mass_balance()\n",
    "    if 'EX_' in  react.id:\n",
    "        continue\n",
    "    if 'Nm_' in react.id:\n",
    "        continue\n",
    "    if \"DM_\" in react.id:\n",
    "        continue\n",
    "    if react.id in biomass_reactions:\n",
    "        continue\n",
    "    if len(result) == 0:\n",
    "        continue\n",
    "    else: \n",
    "        if \"pydx5p_c\" in react.reaction:\n",
    "            cofactor_rxns.append(react.id)\n",
    "            print('%9s :  pydx5p_c : %s' % (react.id, react._metabolites[model.metabolites.get_by_id('pydx5p_c')]))\n",
    "            original_coefficient = react._metabolites[model.metabolites.get_by_id('pydx5p_c')]\n",
    "            if abs(original_coefficient) >100:\n",
    "                react.subtract_metabolites({model.metabolites.pydx5p_c: original_coefficient})\n",
    "            if abs(original_coefficient) <0.001:\n",
    "                react.subtract_metabolites({model.metabolites.pydx5p_c: original_coefficient})\n",
    "            \n",
    "            \n",
    "if len(cofactor_rxns) == 0:\n",
    "        print ('No reactions')"
   ]
  },
  {
   "cell_type": "code",
   "execution_count": 97,
   "id": "069df149-2f1d-494d-91e4-7e5b230640ce",
   "metadata": {
    "scrolled": true
   },
   "outputs": [
    {
     "name": "stdout",
     "output_type": "stream",
     "text": [
      "    AGMHE :  nad_c : -1e-07\n",
      "   AMPMS2 :  nad_c : -1.0\n",
      "     DHQS :  nad_c : -1e-07\n",
      " GLYCLTDx :  nad_c : 1.0\n",
      "     IPPS :  nad_c : -1e-07\n",
      "   MTHFR2 :  nad_c : 1.0\n",
      "  NADHQNa :  nad_c : 1.0\n"
     ]
    }
   ],
   "source": [
    "#Remove nad_c\n",
    "cofactor_rxns =[]\n",
    "for react in model.reactions:\n",
    "    result = react.check_mass_balance()\n",
    "    if 'EX_' in  react.id:\n",
    "        continue\n",
    "    if 'Nm_' in react.id:\n",
    "        continue\n",
    "    if \"DM_\" in react.id:\n",
    "        continue\n",
    "    if react.id in biomass_reactions:\n",
    "        continue\n",
    "    if len(result) == 0:\n",
    "        continue\n",
    "    else: \n",
    "        if \"nad_c\" in react.reaction:\n",
    "            cofactor_rxns.append(react.id)\n",
    "            print('%9s :  nad_c : %s' % (react.id, react._metabolites[model.metabolites.get_by_id('nad_c')]))\n",
    "            original_coefficient = react._metabolites[model.metabolites.get_by_id('nad_c')]\n",
    "            if abs(original_coefficient) >100:\n",
    "                react.subtract_metabolites({model.metabolites.nad_c: original_coefficient})\n",
    "            if abs(original_coefficient) <0.001:\n",
    "                react.subtract_metabolites({model.metabolites.nad_c: original_coefficient})\n",
    "            \n",
    "            \n",
    "if len(cofactor_rxns) == 0:\n",
    "        print ('No reactions')"
   ]
  },
  {
   "cell_type": "code",
   "execution_count": 98,
   "id": "a445b13a-4a2e-4786-a9d8-58b5643a8d5e",
   "metadata": {
    "scrolled": true
   },
   "outputs": [
    {
     "name": "stdout",
     "output_type": "stream",
     "text": [
      "AMPTASECG :  zn2_c : -1e-07\n",
      "     METS :  zn2_c : -1e-07\n",
      "   PPBNGS :  zn2_c : -1e-07\n"
     ]
    }
   ],
   "source": [
    "#Remove zn2_c\n",
    "cofactor_rxns =[]\n",
    "for react in model.reactions:\n",
    "    result = react.check_mass_balance()\n",
    "    if 'EX_' in  react.id:\n",
    "        continue\n",
    "    if 'Nm_' in react.id:\n",
    "        continue\n",
    "    if \"DM_\" in react.id:\n",
    "        continue\n",
    "    if react.id in biomass_reactions:\n",
    "        continue\n",
    "    if len(result) == 0:\n",
    "        continue\n",
    "    else: \n",
    "        if \"zn2_c\" in react.reaction:\n",
    "            cofactor_rxns.append(react.id)\n",
    "            print('%9s :  zn2_c : %s' % (react.id, react._metabolites[model.metabolites.get_by_id('zn2_c')]))\n",
    "            original_coefficient = react._metabolites[model.metabolites.get_by_id('zn2_c')]\n",
    "            if abs(original_coefficient) >100:\n",
    "                react.subtract_metabolites({model.metabolites.zn2_c: original_coefficient})\n",
    "            if abs(original_coefficient) <0.001:\n",
    "                react.subtract_metabolites({model.metabolites.zn2_c: original_coefficient})\n",
    "            \n",
    "            \n",
    "if len(cofactor_rxns) == 0:\n",
    "        print ('No reactions')"
   ]
  },
  {
   "cell_type": "code",
   "execution_count": 99,
   "id": "3552f7a9-14a6-4cbf-8f2d-25a919609845",
   "metadata": {
    "scrolled": true
   },
   "outputs": [
    {
     "name": "stdout",
     "output_type": "stream",
     "text": [
      "PLIPA1A120pp :  ca2_c : -1e-07\n",
      "PLIPA1A140pp :  ca2_c : -1e-07\n",
      "PLIPA1A141b :  ca2_c : -1e-07\n",
      "PLIPA1A141pp :  ca2_c : -1e-07\n",
      "PLIPA1A160a :  ca2_c : -1e-07\n",
      "PLIPA1A160b :  ca2_c : -1e-07\n",
      "PLIPA1A160c :  ca2_c : -1e-07\n",
      "PLIPA1A160e :  ca2_c : -1e-07\n",
      "PLIPA1A160pp :  ca2_c : -1e-07\n",
      "PLIPA1A161a :  ca2_c : -1e-07\n",
      "PLIPA1A180pp :  ca2_c : -1e-07\n",
      "PLIPA1A181pp :  ca2_c : -1e-07\n",
      "PLIPA1E120pp :  ca2_c : -1e-07\n",
      "PLIPA1E140pp :  ca2_c : -1e-07\n",
      "PLIPA1E141b :  ca2_c : -1e-07\n",
      "PLIPA1E141pp :  ca2_c : -1e-07\n",
      "PLIPA1E160a :  ca2_c : -1e-07\n",
      "PLIPA1E160b :  ca2_c : -1e-07\n",
      "PLIPA1E160c :  ca2_c : -1e-07\n",
      "PLIPA1E160e :  ca2_c : -1e-07\n",
      "PLIPA1E160pp :  ca2_c : -1e-07\n",
      "PLIPA1E161a :  ca2_c : -1e-07\n",
      "PLIPA1E180pp :  ca2_c : -1e-07\n",
      "PLIPA1E181pp :  ca2_c : -1e-07\n",
      "PLIPA1G120pp :  ca2_c : -1e-07\n",
      "PLIPA1G140pp :  ca2_c : -1e-07\n",
      "PLIPA1G141b :  ca2_c : -1e-07\n",
      "PLIPA1G141pp :  ca2_c : -1e-07\n",
      "PLIPA1G160a :  ca2_c : -1e-07\n",
      "PLIPA1G160b :  ca2_c : -1e-07\n",
      "PLIPA1G160c :  ca2_c : -1e-07\n",
      "PLIPA1G160e :  ca2_c : -1e-07\n",
      "PLIPA1G160pp :  ca2_c : -1e-07\n",
      "PLIPA1G161a :  ca2_c : -1e-07\n",
      "PLIPA1G180pp :  ca2_c : -1e-07\n",
      "PLIPA1G181pp :  ca2_c : -1e-07\n"
     ]
    }
   ],
   "source": [
    "#Remove ca2_c\n",
    "cofactor_rxns =[]\n",
    "for react in model.reactions:\n",
    "    result = react.check_mass_balance()\n",
    "    if 'EX_' in  react.id:\n",
    "        continue\n",
    "    if 'Nm_' in react.id:\n",
    "        continue\n",
    "    if \"DM_\" in react.id:\n",
    "        continue\n",
    "    if react.id in biomass_reactions:\n",
    "        continue\n",
    "    if len(result) == 0:\n",
    "        continue\n",
    "    else: \n",
    "        if \"ca2_c\" in react.reaction:\n",
    "            cofactor_rxns.append(react.id)\n",
    "            print('%9s :  ca2_c : %s' % (react.id, react._metabolites[model.metabolites.get_by_id('ca2_c')]))\n",
    "            original_coefficient = react._metabolites[model.metabolites.get_by_id('ca2_c')]\n",
    "            if abs(original_coefficient) >100:\n",
    "                react.subtract_metabolites({model.metabolites.ca2_c: original_coefficient})\n",
    "            if abs(original_coefficient) <0.001:\n",
    "                react.subtract_metabolites({model.metabolites.ca2_c: original_coefficient})\n",
    "            \n",
    "            \n",
    "if len(cofactor_rxns) == 0:\n",
    "        print ('No reactions')"
   ]
  },
  {
   "cell_type": "code",
   "execution_count": 100,
   "id": "e1c7f51c-16fc-4ba8-b1a3-01bed702cb76",
   "metadata": {
    "scrolled": true
   },
   "outputs": [
    {
     "name": "stdout",
     "output_type": "stream",
     "text": [
      "  SPODMMn :  mn2_c : -1e-07\n"
     ]
    }
   ],
   "source": [
    "#Remove mn2_c\n",
    "cofactor_rxns =[]\n",
    "for react in model.reactions:\n",
    "    result = react.check_mass_balance()\n",
    "    if 'EX_' in  react.id:\n",
    "        continue\n",
    "    if 'Nm_' in react.id:\n",
    "        continue\n",
    "    if \"DM_\" in react.id:\n",
    "        continue\n",
    "    if react.id in biomass_reactions:\n",
    "        continue\n",
    "    if len(result) == 0:\n",
    "        continue\n",
    "    else: \n",
    "        if \"mn2_c\" in react.reaction:\n",
    "            cofactor_rxns.append(react.id)\n",
    "            print('%9s :  mn2_c : %s' % (react.id, react._metabolites[model.metabolites.get_by_id('mn2_c')]))\n",
    "            original_coefficient = react._metabolites[model.metabolites.get_by_id('mn2_c')]\n",
    "            if abs(original_coefficient) >100:\n",
    "                react.subtract_metabolites({model.metabolites.mn2_c: original_coefficient})\n",
    "            if abs(original_coefficient) <0.001:\n",
    "                react.subtract_metabolites({model.metabolites.mn2_c: original_coefficient})\n",
    "            \n",
    "            \n",
    "if len(cofactor_rxns) == 0:\n",
    "        print ('No reactions')"
   ]
  },
  {
   "cell_type": "code",
   "execution_count": 101,
   "id": "bbefd4cf-90a2-4c29-b985-4be8b51bad74",
   "metadata": {
    "scrolled": true
   },
   "outputs": [
    {
     "name": "stdout",
     "output_type": "stream",
     "text": [
      "PHEMEFErel :  fe2_c : 1.0\n",
      "    PROHX :  fe2_c : -1e-07\n"
     ]
    }
   ],
   "source": [
    "#Remove fe2_c\n",
    "cofactor_rxns =[]\n",
    "for react in model.reactions:\n",
    "    result = react.check_mass_balance()\n",
    "    if 'EX_' in  react.id:\n",
    "        continue\n",
    "    if 'Nm_' in react.id:\n",
    "        continue\n",
    "    if \"DM_\" in react.id:\n",
    "        continue\n",
    "    if react.id in biomass_reactions:\n",
    "        continue\n",
    "    if len(result) == 0:\n",
    "        continue\n",
    "    else: \n",
    "        if \"fe2_c\" in react.reaction:\n",
    "            cofactor_rxns.append(react.id)\n",
    "            print('%9s :  fe2_c : %s' % (react.id, react._metabolites[model.metabolites.get_by_id('fe2_c')]))\n",
    "            original_coefficient = react._metabolites[model.metabolites.get_by_id('fe2_c')]\n",
    "            if abs(original_coefficient) >100:\n",
    "                react.subtract_metabolites({model.metabolites.fe2_c: original_coefficient})\n",
    "            if abs(original_coefficient) <0.001:\n",
    "                react.subtract_metabolites({model.metabolites.fe2_c: original_coefficient})\n",
    "            \n",
    "            \n",
    "if len(cofactor_rxns) == 0:\n",
    "        print ('No reactions')"
   ]
  },
  {
   "cell_type": "code",
   "execution_count": 102,
   "id": "ef5236cd-9c91-45fb-9f88-24945034b3a8",
   "metadata": {
    "scrolled": true
   },
   "outputs": [
    {
     "name": "stdout",
     "output_type": "stream",
     "text": [
      "104 104 104\n"
     ]
    },
    {
     "data": {
      "text/html": [
       "<div>\n",
       "<style scoped>\n",
       "    .dataframe tbody tr th:only-of-type {\n",
       "        vertical-align: middle;\n",
       "    }\n",
       "\n",
       "    .dataframe tbody tr th {\n",
       "        vertical-align: top;\n",
       "    }\n",
       "\n",
       "    .dataframe thead th {\n",
       "        text-align: right;\n",
       "    }\n",
       "</style>\n",
       "<table border=\"1\" class=\"dataframe\">\n",
       "  <thead>\n",
       "    <tr style=\"text-align: right;\">\n",
       "      <th></th>\n",
       "      <th>Reactions</th>\n",
       "      <th>Charge</th>\n",
       "      <th>Masses</th>\n",
       "    </tr>\n",
       "  </thead>\n",
       "  <tbody>\n",
       "    <tr>\n",
       "      <th>0</th>\n",
       "      <td>3OAS161a</td>\n",
       "      <td>1.0</td>\n",
       "      <td>{'C': -12.0, 'H': -21.0, 'N': -2.0, 'O': -9.0,...</td>\n",
       "    </tr>\n",
       "    <tr>\n",
       "      <th>1</th>\n",
       "      <td>ACPH</td>\n",
       "      <td>-1.0</td>\n",
       "      <td>{'H': -2.0, 'O': -1.0, 'R': -1.0}</td>\n",
       "    </tr>\n",
       "    <tr>\n",
       "      <th>2</th>\n",
       "      <td>ACPS1</td>\n",
       "      <td></td>\n",
       "      <td>{'H': 1.0, 'O': 1.0, 'R': 1.0}</td>\n",
       "    </tr>\n",
       "    <tr>\n",
       "      <th>3</th>\n",
       "      <td>ADPT</td>\n",
       "      <td>-1.0</td>\n",
       "      <td>{'H': -1.0}</td>\n",
       "    </tr>\n",
       "    <tr>\n",
       "      <th>4</th>\n",
       "      <td>AGPAT141b</td>\n",
       "      <td>2.0</td>\n",
       "      <td>{}</td>\n",
       "    </tr>\n",
       "    <tr>\n",
       "      <th>...</th>\n",
       "      <td>...</td>\n",
       "      <td>...</td>\n",
       "      <td>...</td>\n",
       "    </tr>\n",
       "    <tr>\n",
       "      <th>99</th>\n",
       "      <td>TSULST</td>\n",
       "      <td>-2.0</td>\n",
       "      <td>{'H': -2.0}</td>\n",
       "    </tr>\n",
       "    <tr>\n",
       "      <th>100</th>\n",
       "      <td>UPPRT</td>\n",
       "      <td>-1.0</td>\n",
       "      <td>{'H': -1.0}</td>\n",
       "    </tr>\n",
       "    <tr>\n",
       "      <th>101</th>\n",
       "      <td>XPPT</td>\n",
       "      <td>-1.0</td>\n",
       "      <td>{'H': -1.0}</td>\n",
       "    </tr>\n",
       "    <tr>\n",
       "      <th>102</th>\n",
       "      <td>XPRT</td>\n",
       "      <td>-1.0</td>\n",
       "      <td>{'H': -1.0}</td>\n",
       "    </tr>\n",
       "    <tr>\n",
       "      <th>103</th>\n",
       "      <td>CYPOX</td>\n",
       "      <td>-2.0</td>\n",
       "      <td>{}</td>\n",
       "    </tr>\n",
       "  </tbody>\n",
       "</table>\n",
       "<p>104 rows × 3 columns</p>\n",
       "</div>"
      ],
      "text/plain": [
       "     Reactions Charge                                             Masses\n",
       "0     3OAS161a    1.0  {'C': -12.0, 'H': -21.0, 'N': -2.0, 'O': -9.0,...\n",
       "1         ACPH   -1.0                  {'H': -2.0, 'O': -1.0, 'R': -1.0}\n",
       "2        ACPS1                            {'H': 1.0, 'O': 1.0, 'R': 1.0}\n",
       "3         ADPT   -1.0                                        {'H': -1.0}\n",
       "4    AGPAT141b    2.0                                                 {}\n",
       "..         ...    ...                                                ...\n",
       "99      TSULST   -2.0                                        {'H': -2.0}\n",
       "100      UPPRT   -1.0                                        {'H': -1.0}\n",
       "101       XPPT   -1.0                                        {'H': -1.0}\n",
       "102       XPRT   -1.0                                        {'H': -1.0}\n",
       "103      CYPOX   -2.0                                                 {}\n",
       "\n",
       "[104 rows x 3 columns]"
      ]
     },
     "execution_count": 102,
     "metadata": {},
     "output_type": "execute_result"
    }
   ],
   "source": [
    "#After bulk removing cofactors, what reaction imbalances remain?\n",
    "reactions = []\n",
    "charge = []\n",
    "mass = []\n",
    "for react in model.reactions:\n",
    "    result = react.check_mass_balance()\n",
    "    if 'EX_' in  react.id:\n",
    "        continue\n",
    "    if 'Nm_' in  react.id:\n",
    "        continue\n",
    "    if 'DM_' in  react.id:\n",
    "        continue \n",
    "    if react.id in biomass_reactions:\n",
    "        continue\n",
    "    if len(result) == 0:\n",
    "        continue\n",
    "    else: \n",
    "        reactions.append(react.id)\n",
    "        masses = {}\n",
    "        for key in result.keys():\n",
    "            if key == 'charge':\n",
    "                charge.append(result['charge'])\n",
    "            else:\n",
    "                masses[key] = result[key]\n",
    "        if 'charge' not in result.keys():\n",
    "            charge.append('')\n",
    "        mass.append(masses)\n",
    "print(len(reactions), len(charge), len(mass))\n",
    "\n",
    "mass_charge_dict = {'Reactions': reactions, 'Charge': charge, 'Masses': mass}\n",
    "mass_charge = pandas.DataFrame(mass_charge_dict)\n",
    "mass_charge"
   ]
  },
  {
   "cell_type": "markdown",
   "id": "2544998b-27b0-42b4-9be7-410e43b5bfa9",
   "metadata": {},
   "source": [
    "### Additional Mass/Charge Curation"
   ]
  },
  {
   "cell_type": "code",
   "execution_count": 103,
   "id": "ae7b7bfb-5288-4dbf-967a-44cb51040f58",
   "metadata": {
    "scrolled": true
   },
   "outputs": [
    {
     "name": "stdout",
     "output_type": "stream",
     "text": [
      "{'charge': -1.0, 'H': -2.0, 'O': -1.0, 'R': -1.0}\n"
     ]
    },
    {
     "data": {
      "text/html": [
       "\n",
       "        <table>\n",
       "            <tr>\n",
       "                <td><strong>Reaction identifier</strong></td><td>ACPH</td>\n",
       "            </tr><tr>\n",
       "                <td><strong>Name</strong></td><td>R_ACPH</td>\n",
       "            </tr><tr>\n",
       "                <td><strong>Memory address</strong></td>\n",
       "                <td>0x020f45c215b0</td>\n",
       "            </tr><tr>\n",
       "                <td><strong>Stoichiometry</strong></td>\n",
       "                <td>\n",
       "                    <p style='text-align:right'>ACP_c + h2o_c --> pan4p_c</p>\n",
       "                    <p style='text-align:right'>acyl-carrier-protein + H2O --> Pantetheine-4-phosphate</p>\n",
       "                </td>\n",
       "            </tr><tr>\n",
       "                <td><strong>GPR</strong></td><td>Orphan</td>\n",
       "            </tr><tr>\n",
       "                <td><strong>Lower bound</strong></td><td>0.0</td>\n",
       "            </tr><tr>\n",
       "                <td><strong>Upper bound</strong></td><td>1000.0</td>\n",
       "            </tr>\n",
       "        </table>\n",
       "        "
      ],
      "text/plain": [
       "<Reaction ACPH at 0x20f45c215b0>"
      ]
     },
     "execution_count": 103,
     "metadata": {},
     "output_type": "execute_result"
    }
   ],
   "source": [
    "#Correct Imbalances for ACP reactions\n",
    "#ACPH\n",
    "r = model.reactions.get_by_id('ACPH')\n",
    "print(r.check_mass_balance())\n",
    "r\n"
   ]
  },
  {
   "cell_type": "code",
   "execution_count": 104,
   "id": "b4f737d2-212e-4a12-86f4-40f7f1890705",
   "metadata": {
    "scrolled": true
   },
   "outputs": [
    {
     "name": "stdout",
     "output_type": "stream",
     "text": [
      "ACPH: ACP_c + h2o_c --> apoACP_c + h_c + pan4p_c\n",
      "{}\n"
     ]
    }
   ],
   "source": [
    "apoACP_c = Metabolite(\n",
    "    'apoACP_c',\n",
    "    formula='HOR',\n",
    "    name='apo acyl-carrier-protein',\n",
    "    compartment='cytosol')\n",
    "\n",
    "h_c = model.metabolites.get_by_id('h_c')\n",
    "\n",
    "r.add_metabolites({\n",
    "    apoACP_c: 1.0,\n",
    "    h_c: 1.0})\n",
    "\n",
    "print(r)\n",
    "print(r.check_mass_balance())"
   ]
  },
  {
   "cell_type": "code",
   "execution_count": 105,
   "id": "781d3efb-8505-4a58-8e06-9a1e6bbc59fd",
   "metadata": {},
   "outputs": [
    {
     "data": {
      "text/plain": [
       "0.0"
      ]
     },
     "execution_count": 105,
     "metadata": {},
     "output_type": "execute_result"
    }
   ],
   "source": [
    "model.slim_optimize()"
   ]
  },
  {
   "cell_type": "code",
   "execution_count": 106,
   "id": "c0bec9a5-6929-410b-a06a-4cb6aac5d415",
   "metadata": {
    "scrolled": true
   },
   "outputs": [
    {
     "name": "stdout",
     "output_type": "stream",
     "text": [
      "{'H': 1.0, 'O': 1.0, 'R': 1.0}\n"
     ]
    },
    {
     "data": {
      "text/html": [
       "\n",
       "        <table>\n",
       "            <tr>\n",
       "                <td><strong>Reaction identifier</strong></td><td>ACPS1</td>\n",
       "            </tr><tr>\n",
       "                <td><strong>Name</strong></td><td>R_ACPS1</td>\n",
       "            </tr><tr>\n",
       "                <td><strong>Memory address</strong></td>\n",
       "                <td>0x020f45c21850</td>\n",
       "            </tr><tr>\n",
       "                <td><strong>Stoichiometry</strong></td>\n",
       "                <td>\n",
       "                    <p style='text-align:right'>coa_c --> ACP_c + h_c + pap_c</p>\n",
       "                    <p style='text-align:right'>Coenzyme-A --> acyl-carrier-protein + H + Adenosine-3-5-bisphosphate</p>\n",
       "                </td>\n",
       "            </tr><tr>\n",
       "                <td><strong>GPR</strong></td><td>NGO1507</td>\n",
       "            </tr><tr>\n",
       "                <td><strong>Lower bound</strong></td><td>0.0</td>\n",
       "            </tr><tr>\n",
       "                <td><strong>Upper bound</strong></td><td>1000.0</td>\n",
       "            </tr>\n",
       "        </table>\n",
       "        "
      ],
      "text/plain": [
       "<Reaction ACPS1 at 0x20f45c21850>"
      ]
     },
     "execution_count": 106,
     "metadata": {},
     "output_type": "execute_result"
    }
   ],
   "source": [
    "#ACPS1\n",
    "r = model.reactions.get_by_id('ACPS1')\n",
    "print(r.check_mass_balance())\n",
    "r\n"
   ]
  },
  {
   "cell_type": "code",
   "execution_count": 107,
   "id": "a8f9cd23-30a0-4c90-a896-3c18e828b533",
   "metadata": {
    "scrolled": true
   },
   "outputs": [
    {
     "name": "stdout",
     "output_type": "stream",
     "text": [
      "ACPS1: apoACP_c + coa_c --> ACP_c + h_c + pap_c\n",
      "{}\n"
     ]
    }
   ],
   "source": [
    "r.add_metabolites({\n",
    "    apoACP_c: -1.0})\n",
    "\n",
    "print(r)\n",
    "print(r.check_mass_balance())"
   ]
  },
  {
   "cell_type": "code",
   "execution_count": 108,
   "id": "4c303edb-d170-44b9-b71a-6bb8b0227ec7",
   "metadata": {
    "scrolled": true
   },
   "outputs": [],
   "source": [
    "#Add apoACP import reaction. This is required to show \"synthesis\" of a protein based cofactor. \n",
    "#Integration of Biomass Formulations of Genome-Scale Metabolic Models with Experimental Data Reveals Universally Essential Cofactors in Prokaryotes\n",
    "#Joana C Xavier, Kiran Raosaheb Patil, Isabel Rocha\n",
    "#PMID: 27939572 PMCID: PMC5249239\n",
    "\n",
    "apoACP_c = model.metabolites.get_by_id('apoACP_c')\n",
    "\n",
    "EX_apoACP_c_ = cobra.Reaction('EX_apoACP_c_')\n",
    "EX_apoACP_c_.notes = {'citations': 'PMCID: PMC5249239', 'type': 'essential cofactor', 'annotation': ''}\n",
    "EX_apoACP_c_.name = 'exchange of apoACP'\n",
    "EX_apoACP_c_.gene_reaction_rule = ''\n",
    "EX_apoACP_c_.lower_bound = 0.\n",
    "EX_apoACP_c_.upper_bound = 1000.\n",
    "EX_apoACP_c_.add_metabolites({\n",
    "    apoACP_c: -1.0,\n",
    "  \n",
    "})\n",
    "\n",
    "model.add_reactions([EX_apoACP_c_])"
   ]
  },
  {
   "cell_type": "code",
   "execution_count": 109,
   "id": "b06ef71e-0edb-4253-a3e2-fb9b1a3173a5",
   "metadata": {
    "scrolled": true
   },
   "outputs": [
    {
     "data": {
      "text/html": [
       "\n",
       "        <table>\n",
       "            <tr>\n",
       "                <td><strong>Reaction identifier</strong></td><td>EX_apoACP_c_</td>\n",
       "            </tr><tr>\n",
       "                <td><strong>Name</strong></td><td>exchange of apoACP</td>\n",
       "            </tr><tr>\n",
       "                <td><strong>Memory address</strong></td>\n",
       "                <td>0x020f4d19ce80</td>\n",
       "            </tr><tr>\n",
       "                <td><strong>Stoichiometry</strong></td>\n",
       "                <td>\n",
       "                    <p style='text-align:right'>apoACP_c --></p>\n",
       "                    <p style='text-align:right'>apo acyl-carrier-protein --></p>\n",
       "                </td>\n",
       "            </tr><tr>\n",
       "                <td><strong>GPR</strong></td><td></td>\n",
       "            </tr><tr>\n",
       "                <td><strong>Lower bound</strong></td><td>0.0</td>\n",
       "            </tr><tr>\n",
       "                <td><strong>Upper bound</strong></td><td>1000.0</td>\n",
       "            </tr>\n",
       "        </table>\n",
       "        "
      ],
      "text/plain": [
       "<Reaction EX_apoACP_c_ at 0x20f4d19ce80>"
      ]
     },
     "execution_count": 109,
     "metadata": {},
     "output_type": "execute_result"
    }
   ],
   "source": [
    "r=model.reactions.get_by_id('EX_apoACP_c_')\n",
    "r"
   ]
  },
  {
   "cell_type": "code",
   "execution_count": 110,
   "id": "df15e837-2ec6-4ab2-86d4-971c8e3920ce",
   "metadata": {},
   "outputs": [
    {
     "data": {
      "text/plain": [
       "2.234503239508173"
      ]
     },
     "execution_count": 110,
     "metadata": {},
     "output_type": "execute_result"
    }
   ],
   "source": [
    "complete(model)\n",
    "model.slim_optimize()"
   ]
  },
  {
   "cell_type": "code",
   "execution_count": 111,
   "id": "342f915a-3185-465d-b2a1-2eed0f5c4e82",
   "metadata": {
    "scrolled": true
   },
   "outputs": [
    {
     "name": "stdout",
     "output_type": "stream",
     "text": [
      "{'charge': 2.0, 'H': 1.0, 'O': -3.0, 'P': -1.0}\n"
     ]
    },
    {
     "data": {
      "text/html": [
       "\n",
       "        <table>\n",
       "            <tr>\n",
       "                <td><strong>Reaction identifier</strong></td><td>AMPMS2</td>\n",
       "            </tr><tr>\n",
       "                <td><strong>Name</strong></td><td>R_AMPMS2</td>\n",
       "            </tr><tr>\n",
       "                <td><strong>Memory address</strong></td>\n",
       "                <td>0x020f45c699a0</td>\n",
       "            </tr><tr>\n",
       "                <td><strong>Stoichiometry</strong></td>\n",
       "                <td>\n",
       "                    <p style='text-align:right'>air_c + h2o_c + nad_c --> 4ahmmp_c + 2.0 for_c + 3.0 h_c + nadh_c</p>\n",
       "                    <p style='text-align:right'>5-amino-1-5-phospho-D-ribosyl-imidazole + H2O + Nicotinamide-adenine-dinucleotide --> 4-Amino-5-hydroxymethyl-2-methylpyrimidine + 2.0 Formate + 3.0 H + Nicotinamide-adenine-dinucleotide--reduced</p>\n",
       "                </td>\n",
       "            </tr><tr>\n",
       "                <td><strong>GPR</strong></td><td>NGO2041</td>\n",
       "            </tr><tr>\n",
       "                <td><strong>Lower bound</strong></td><td>0.0</td>\n",
       "            </tr><tr>\n",
       "                <td><strong>Upper bound</strong></td><td>1000.0</td>\n",
       "            </tr>\n",
       "        </table>\n",
       "        "
      ],
      "text/plain": [
       "<Reaction AMPMS2 at 0x20f45c699a0>"
      ]
     },
     "execution_count": 111,
     "metadata": {},
     "output_type": "execute_result"
    }
   ],
   "source": [
    "#AMPMS2\n",
    "r = model.reactions.get_by_id('AMPMS2')\n",
    "print(r.check_mass_balance())\n",
    "r"
   ]
  },
  {
   "cell_type": "code",
   "execution_count": 112,
   "id": "7c8976cd-1c8c-4463-874d-9c273dbe15d8",
   "metadata": {
    "scrolled": true
   },
   "outputs": [],
   "source": [
    "#The reaction AMPMS2 should use 4ampm rather than 4ahmmp according to BIGG and KEGG. Replaced this metabolite in the reaction.\n"
   ]
  },
  {
   "cell_type": "code",
   "execution_count": 113,
   "id": "1c901725-dd14-4b6e-bbbd-89c25fc53d5f",
   "metadata": {},
   "outputs": [
    {
     "name": "stdout",
     "output_type": "stream",
     "text": [
      "{}\n"
     ]
    },
    {
     "data": {
      "text/html": [
       "\n",
       "        <table>\n",
       "            <tr>\n",
       "                <td><strong>Reaction identifier</strong></td><td>AMPMS2</td>\n",
       "            </tr><tr>\n",
       "                <td><strong>Name</strong></td><td>R_AMPMS2</td>\n",
       "            </tr><tr>\n",
       "                <td><strong>Memory address</strong></td>\n",
       "                <td>0x020f45c699a0</td>\n",
       "            </tr><tr>\n",
       "                <td><strong>Stoichiometry</strong></td>\n",
       "                <td>\n",
       "                    <p style='text-align:right'>air_c + h2o_c + nad_c --> 4ampm_c + 2.0 for_c + 3.0 h_c + nadh_c</p>\n",
       "                    <p style='text-align:right'>5-amino-1-5-phospho-D-ribosyl-imidazole + H2O + Nicotinamide-adenine-dinucleotide --> 4-Amino-2-methyl-5-phosphomethylpyrimidine + 2.0 Formate + 3.0 H + Nicotinamide-adenine-dinucleotide--reduced</p>\n",
       "                </td>\n",
       "            </tr><tr>\n",
       "                <td><strong>GPR</strong></td><td>NGO2041</td>\n",
       "            </tr><tr>\n",
       "                <td><strong>Lower bound</strong></td><td>0.0</td>\n",
       "            </tr><tr>\n",
       "                <td><strong>Upper bound</strong></td><td>1000.0</td>\n",
       "            </tr>\n",
       "        </table>\n",
       "        "
      ],
      "text/plain": [
       "<Reaction AMPMS2 at 0x20f45c699a0>"
      ]
     },
     "execution_count": 113,
     "metadata": {},
     "output_type": "execute_result"
    }
   ],
   "source": [
    "met1=model.metabolites.get_by_id('4ampm_c')\n",
    "met2 = model.metabolites.get_by_id('4ahmmp_c')\n",
    "\n",
    "r.subtract_metabolites({\n",
    "    met2: 1.0})\n",
    "r.add_metabolites({\n",
    "    met1: 1.0})\n",
    "\n",
    "print(r.check_mass_balance())\n",
    "r"
   ]
  },
  {
   "cell_type": "code",
   "execution_count": 114,
   "id": "f48edad6-1e44-430f-a2d1-a81b88e796bb",
   "metadata": {},
   "outputs": [
    {
     "data": {
      "text/plain": [
       "2.234503239386048"
      ]
     },
     "execution_count": 114,
     "metadata": {},
     "output_type": "execute_result"
    }
   ],
   "source": [
    "#However, now model doesn't grow in RPMI which doesn't contain added thiamine. Thiamine synthesis seems to have been disrupted by changing the metabolite. \n",
    "model.slim_optimize()"
   ]
  },
  {
   "cell_type": "code",
   "execution_count": 115,
   "id": "31657967-fa0f-498a-a918-1e4a0bcef73a",
   "metadata": {
    "scrolled": true
   },
   "outputs": [
    {
     "name": "stdout",
     "output_type": "stream",
     "text": [
      "{'charge': -2.0, 'H': 2.0, 'O': 2.0}\n"
     ]
    },
    {
     "data": {
      "text/html": [
       "\n",
       "        <table>\n",
       "            <tr>\n",
       "                <td><strong>Reaction identifier</strong></td><td>ASNSYN</td>\n",
       "            </tr><tr>\n",
       "                <td><strong>Name</strong></td><td>R_ASNSYN</td>\n",
       "            </tr><tr>\n",
       "                <td><strong>Memory address</strong></td>\n",
       "                <td>0x020f45c81f70</td>\n",
       "            </tr><tr>\n",
       "                <td><strong>Stoichiometry</strong></td>\n",
       "                <td>\n",
       "                    <p style='text-align:right'>asp_L_c + atp_c + gln_L_c + h_c --> adp_c + asn_L_c + glu_L_c + h2o_c + pi_c</p>\n",
       "                    <p style='text-align:right'>L-Aspartate + ATP + L-Glutamine + H --> ADP + L-Asparagine + L-Glutamate + H2O + Phosphate</p>\n",
       "                </td>\n",
       "            </tr><tr>\n",
       "                <td><strong>GPR</strong></td><td>NGO1489 and NGO0663 and NGO0662 and NGO0660</td>\n",
       "            </tr><tr>\n",
       "                <td><strong>Lower bound</strong></td><td>0.0</td>\n",
       "            </tr><tr>\n",
       "                <td><strong>Upper bound</strong></td><td>1000.0</td>\n",
       "            </tr>\n",
       "        </table>\n",
       "        "
      ],
      "text/plain": [
       "<Reaction ASNSYN at 0x20f45c81f70>"
      ]
     },
     "execution_count": 115,
     "metadata": {},
     "output_type": "execute_result"
    }
   ],
   "source": [
    "#ASNSYN\n",
    "r = model.reactions.get_by_id('ASNSYN')\n",
    "print(r.check_mass_balance())\n",
    "r"
   ]
  },
  {
   "cell_type": "code",
   "execution_count": 116,
   "id": "f4dee9a9-e4f7-4b0c-9b7a-ef8657f5f819",
   "metadata": {},
   "outputs": [
    {
     "name": "stdout",
     "output_type": "stream",
     "text": [
      "ASNSYN: asp_L_c + atp_c + gln_L_c + h2o_c --> adp_c + asn_L_c + glu_L_c + h_c + pi_c\n",
      "{}\n"
     ]
    }
   ],
   "source": [
    "h_c = model.metabolites.get_by_id('h_c')\n",
    "h2o_c = model.metabolites.get_by_id('h2o_c')\n",
    "\n",
    "r.add_metabolites({\n",
    "    h2o_c: -2.0,\n",
    "    h_c: 2.0})\n",
    "\n",
    "print(r)\n",
    "print(r.check_mass_balance())"
   ]
  },
  {
   "cell_type": "code",
   "execution_count": 117,
   "id": "1b725b46-e687-494e-81e5-3a6fbfd6e077",
   "metadata": {
    "scrolled": true
   },
   "outputs": [
    {
     "name": "stdout",
     "output_type": "stream",
     "text": [
      "{'charge': -2.0, 'O': 3.0, 'S': 1.0}\n"
     ]
    },
    {
     "data": {
      "text/html": [
       "\n",
       "        <table>\n",
       "            <tr>\n",
       "                <td><strong>Reaction identifier</strong></td><td>BTS4</td>\n",
       "            </tr><tr>\n",
       "                <td><strong>Name</strong></td><td>R_BTS4</td>\n",
       "            </tr><tr>\n",
       "                <td><strong>Memory address</strong></td>\n",
       "                <td>0x020f45c9ef10</td>\n",
       "            </tr><tr>\n",
       "                <td><strong>Stoichiometry</strong></td>\n",
       "                <td>\n",
       "                    <p style='text-align:right'>amet_c + dtbt_c + h_c --> btn_c + dad_5_c + h2o_c + met_L_c + o2_c</p>\n",
       "                    <p style='text-align:right'>S-Adenosyl-L-methionine + Dethiobiotin + H --> Biotin + 5-Deoxyadenosine + H2O + L-Methionine + O2</p>\n",
       "                </td>\n",
       "            </tr><tr>\n",
       "                <td><strong>GPR</strong></td><td>NGO0813 or NGO0813</td>\n",
       "            </tr><tr>\n",
       "                <td><strong>Lower bound</strong></td><td>0.0</td>\n",
       "            </tr><tr>\n",
       "                <td><strong>Upper bound</strong></td><td>1000.0</td>\n",
       "            </tr>\n",
       "        </table>\n",
       "        "
      ],
      "text/plain": [
       "<Reaction BTS4 at 0x20f45c9ef10>"
      ]
     },
     "execution_count": 117,
     "metadata": {},
     "output_type": "execute_result"
    }
   ],
   "source": [
    "#BTS4\n",
    "r = model.reactions.get_by_id('BTS4')\n",
    "print(r.check_mass_balance())\n",
    "r"
   ]
  },
  {
   "cell_type": "code",
   "execution_count": 118,
   "id": "659b93f4-b30c-41ba-b387-21b7e8a7c8d6",
   "metadata": {
    "scrolled": true
   },
   "outputs": [
    {
     "name": "stdout",
     "output_type": "stream",
     "text": [
      "BTS4: amet_c + dtbt_c --> btn_c + dad_5_c + h_c + met_L_c\n",
      "{'S': 1.0}\n"
     ]
    }
   ],
   "source": [
    "#Reaction will remain imbalanced for Sulfer. The sulfer is donated by the enzyme itself and not by a metabolite.\n",
    "h_c = model.metabolites.get_by_id('h_c')\n",
    "h2o_c = model.metabolites.get_by_id('h2o_c')\n",
    "o2_c = model.metabolites.get_by_id('o2_c')\n",
    "\n",
    "r.add_metabolites({\n",
    "    h2o_c: -1.0,\n",
    "    h_c: 2.0,\n",
    "    o2_c: -1.0\n",
    "})\n",
    "\n",
    "print(r)\n",
    "print(r.check_mass_balance())"
   ]
  },
  {
   "cell_type": "code",
   "execution_count": 119,
   "id": "e855af12-5f54-4acb-a462-5d22966f4f27",
   "metadata": {
    "scrolled": true
   },
   "outputs": [
    {
     "name": "stdout",
     "output_type": "stream",
     "text": [
      "{'charge': 1.0, 'H': 1.0}\n"
     ]
    },
    {
     "data": {
      "text/html": [
       "\n",
       "        <table>\n",
       "            <tr>\n",
       "                <td><strong>Reaction identifier</strong></td><td>CTPS3</td>\n",
       "            </tr><tr>\n",
       "                <td><strong>Name</strong></td><td>R_CTPS3</td>\n",
       "            </tr><tr>\n",
       "                <td><strong>Memory address</strong></td>\n",
       "                <td>0x020f45cc1b50</td>\n",
       "            </tr><tr>\n",
       "                <td><strong>Stoichiometry</strong></td>\n",
       "                <td>\n",
       "                    <p style='text-align:right'>ctp_c + h2o_c <=> nh4_c + utp_c</p>\n",
       "                    <p style='text-align:right'>CTP + H2O <=> Ammonium + UTP</p>\n",
       "                </td>\n",
       "            </tr><tr>\n",
       "                <td><strong>GPR</strong></td><td>NGO0421</td>\n",
       "            </tr><tr>\n",
       "                <td><strong>Lower bound</strong></td><td>-1000.0</td>\n",
       "            </tr><tr>\n",
       "                <td><strong>Upper bound</strong></td><td>1000.0</td>\n",
       "            </tr>\n",
       "        </table>\n",
       "        "
      ],
      "text/plain": [
       "<Reaction CTPS3 at 0x20f45cc1b50>"
      ]
     },
     "execution_count": 119,
     "metadata": {},
     "output_type": "execute_result"
    }
   ],
   "source": [
    "#CTPS3\n",
    "r = model.reactions.get_by_id('CTPS3')\n",
    "print(r.check_mass_balance())\n",
    "r"
   ]
  },
  {
   "cell_type": "code",
   "execution_count": 120,
   "id": "2e063981-5f77-4929-b1ca-2f9d8be5a168",
   "metadata": {
    "tags": []
   },
   "outputs": [
    {
     "name": "stdout",
     "output_type": "stream",
     "text": [
      "CTPS3: ctp_c + h2o_c + h_c <=> nh4_c + utp_c\n",
      "{}\n"
     ]
    }
   ],
   "source": [
    "r.add_metabolites({\n",
    "    h_c:-1\n",
    "})\n",
    "\n",
    "print(r)\n",
    "print(r.check_mass_balance())"
   ]
  },
  {
   "cell_type": "code",
   "execution_count": 121,
   "id": "9f71daed-63b2-4ca6-a58b-2ade26b128ea",
   "metadata": {
    "scrolled": true
   },
   "outputs": [
    {
     "name": "stdout",
     "output_type": "stream",
     "text": [
      "{'charge': 1.9999999989472883e-07, 'C': -1.6999999985500835e-06, 'H': -1.900000000887303e-06, 'N': -3.9999999978945766e-07, 'O': -8.999999998593466e-07, 'P': -1e-07}\n"
     ]
    },
    {
     "data": {
      "text/html": [
       "\n",
       "        <table>\n",
       "            <tr>\n",
       "                <td><strong>Reaction identifier</strong></td><td>DHORD2</td>\n",
       "            </tr><tr>\n",
       "                <td><strong>Name</strong></td><td>R_DHORD2</td>\n",
       "            </tr><tr>\n",
       "                <td><strong>Memory address</strong></td>\n",
       "                <td>0x020f45cff760</td>\n",
       "            </tr><tr>\n",
       "                <td><strong>Stoichiometry</strong></td>\n",
       "                <td>\n",
       "                    <p style='text-align:right'>dhor_S_c + 1e-07 fmn_c + q8_c --> orot_c + q8h2_c</p>\n",
       "                    <p style='text-align:right'>S-Dihydroorotate + 1e-07 FMN + Ubiquinone-8 --> Orotate + Ubiquinol-8</p>\n",
       "                </td>\n",
       "            </tr><tr>\n",
       "                <td><strong>GPR</strong></td><td>NGO1761</td>\n",
       "            </tr><tr>\n",
       "                <td><strong>Lower bound</strong></td><td>0.0</td>\n",
       "            </tr><tr>\n",
       "                <td><strong>Upper bound</strong></td><td>1000.0</td>\n",
       "            </tr>\n",
       "        </table>\n",
       "        "
      ],
      "text/plain": [
       "<Reaction DHORD2 at 0x20f45cff760>"
      ]
     },
     "execution_count": 121,
     "metadata": {},
     "output_type": "execute_result"
    }
   ],
   "source": [
    "#DHORD2\n",
    "r = model.reactions.get_by_id('DHORD2')\n",
    "print(r.check_mass_balance())\n",
    "r"
   ]
  },
  {
   "cell_type": "code",
   "execution_count": 122,
   "id": "a7434ea4-9d4e-47cc-9061-c32dac9b09ab",
   "metadata": {
    "scrolled": true
   },
   "outputs": [
    {
     "name": "stdout",
     "output_type": "stream",
     "text": [
      "DHORD2: dhor_S_c + q8_c --> orot_c + q8h2_c\n",
      "{}\n"
     ]
    }
   ],
   "source": [
    "fmn_c = model.metabolites.get_by_id('fmn_c')\n",
    "\n",
    "r.add_metabolites({\n",
    "    fmn_c: 1e-07,\n",
    "})\n",
    "\n",
    "print(r)\n",
    "print(r.check_mass_balance())"
   ]
  },
  {
   "cell_type": "code",
   "execution_count": 123,
   "id": "788f4e26-c4f9-4e89-a5a8-6dc136c6ae0e",
   "metadata": {
    "scrolled": true
   },
   "outputs": [
    {
     "name": "stdout",
     "output_type": "stream",
     "text": [
      "{'charge': -1.9999999989472883e-07, 'Co': -1e-07}\n"
     ]
    },
    {
     "data": {
      "text/html": [
       "\n",
       "        <table>\n",
       "            <tr>\n",
       "                <td><strong>Reaction identifier</strong></td><td>DHQS</td>\n",
       "            </tr><tr>\n",
       "                <td><strong>Name</strong></td><td>R_DHQS</td>\n",
       "            </tr><tr>\n",
       "                <td><strong>Memory address</strong></td>\n",
       "                <td>0x020f45cfff70</td>\n",
       "            </tr><tr>\n",
       "                <td><strong>Stoichiometry</strong></td>\n",
       "                <td>\n",
       "                    <p style='text-align:right'>2dda7p_c + 1e-07 cobalt2_c --> 3dhq_c + pi_c</p>\n",
       "                    <p style='text-align:right'>2-Dehydro-3-deoxy-D-arabino-heptonate-7-phosphate + 1e-07 Co2 --> 3-Dehydroquinate + Phosphate</p>\n",
       "                </td>\n",
       "            </tr><tr>\n",
       "                <td><strong>GPR</strong></td><td>NGO0092</td>\n",
       "            </tr><tr>\n",
       "                <td><strong>Lower bound</strong></td><td>0.0</td>\n",
       "            </tr><tr>\n",
       "                <td><strong>Upper bound</strong></td><td>1000.0</td>\n",
       "            </tr>\n",
       "        </table>\n",
       "        "
      ],
      "text/plain": [
       "<Reaction DHQS at 0x20f45cfff70>"
      ]
     },
     "execution_count": 123,
     "metadata": {},
     "output_type": "execute_result"
    }
   ],
   "source": [
    "#DHQS\n",
    "r = model.reactions.get_by_id('DHQS')\n",
    "print(r.check_mass_balance())\n",
    "r"
   ]
  },
  {
   "cell_type": "code",
   "execution_count": 124,
   "id": "5e923de5-9182-4877-a267-40b76fe32ccd",
   "metadata": {
    "scrolled": true
   },
   "outputs": [
    {
     "name": "stdout",
     "output_type": "stream",
     "text": [
      "DHQS: 2dda7p_c --> 3dhq_c + pi_c\n",
      "{}\n"
     ]
    }
   ],
   "source": [
    "cobalt2_c = model.metabolites.get_by_id('cobalt2_c')\n",
    "\n",
    "r.add_metabolites({\n",
    "    cobalt2_c: 1e-07,\n",
    "})\n",
    "\n",
    "print(r)\n",
    "print(r.check_mass_balance())"
   ]
  },
  {
   "cell_type": "code",
   "execution_count": 125,
   "id": "7fb19bae-6723-4c9f-aa4d-702e37136a8f",
   "metadata": {},
   "outputs": [
    {
     "data": {
      "text/plain": [
       "2.2345032345098805"
      ]
     },
     "execution_count": 125,
     "metadata": {},
     "output_type": "execute_result"
    }
   ],
   "source": [
    "model.slim_optimize()"
   ]
  },
  {
   "cell_type": "code",
   "execution_count": 126,
   "id": "36c3c17b-0fe7-4b23-abaa-3bd14d95efa0",
   "metadata": {
    "scrolled": true
   },
   "outputs": [
    {
     "name": "stdout",
     "output_type": "stream",
     "text": [
      "{'charge': 1.0, 'H': 1.0}\n"
     ]
    },
    {
     "data": {
      "text/html": [
       "\n",
       "        <table>\n",
       "            <tr>\n",
       "                <td><strong>Reaction identifier</strong></td><td>GLYCLTDx</td>\n",
       "            </tr><tr>\n",
       "                <td><strong>Name</strong></td><td>R_GLYCLTDx</td>\n",
       "            </tr><tr>\n",
       "                <td><strong>Memory address</strong></td>\n",
       "                <td>0x020f45e02970</td>\n",
       "            </tr><tr>\n",
       "                <td><strong>Stoichiometry</strong></td>\n",
       "                <td>\n",
       "                    <p style='text-align:right'>glx_c + nadh_c --> glyclt_c + nad_c</p>\n",
       "                    <p style='text-align:right'>Glyoxylate + Nicotinamide-adenine-dinucleotide--reduced --> Glycolate + Nicotinamide-adenine-dinucleotide</p>\n",
       "                </td>\n",
       "            </tr><tr>\n",
       "                <td><strong>GPR</strong></td><td>NGO2043 or NGO1243</td>\n",
       "            </tr><tr>\n",
       "                <td><strong>Lower bound</strong></td><td>0.0</td>\n",
       "            </tr><tr>\n",
       "                <td><strong>Upper bound</strong></td><td>1000.0</td>\n",
       "            </tr>\n",
       "        </table>\n",
       "        "
      ],
      "text/plain": [
       "<Reaction GLYCLTDx at 0x20f45e02970>"
      ]
     },
     "execution_count": 126,
     "metadata": {},
     "output_type": "execute_result"
    }
   ],
   "source": [
    "#GLYCLTDx\n",
    "r = model.reactions.get_by_id('GLYCLTDx')\n",
    "print(r.check_mass_balance())\n",
    "r"
   ]
  },
  {
   "cell_type": "code",
   "execution_count": 127,
   "id": "194ab4e3-40d3-45a1-ba43-59c375f12d63",
   "metadata": {
    "scrolled": true
   },
   "outputs": [
    {
     "name": "stdout",
     "output_type": "stream",
     "text": [
      "GLYCLTDx: glx_c + h_c + nadh_c --> glyclt_c + nad_c\n",
      "{}\n"
     ]
    }
   ],
   "source": [
    "h_c = model.metabolites.get_by_id('h_c')\n",
    "\n",
    "\n",
    "\n",
    "r.add_metabolites({\n",
    "    h_c: -1,\n",
    "})\n",
    "\n",
    "print(r)\n",
    "print(r.check_mass_balance())"
   ]
  },
  {
   "cell_type": "code",
   "execution_count": 128,
   "id": "a9d68340-b34a-438c-baae-46e46326afdb",
   "metadata": {
    "scrolled": true
   },
   "outputs": [
    {
     "name": "stdout",
     "output_type": "stream",
     "text": [
      "{'charge': 1.0, 'H': 1.0}\n"
     ]
    },
    {
     "data": {
      "text/html": [
       "\n",
       "        <table>\n",
       "            <tr>\n",
       "                <td><strong>Reaction identifier</strong></td><td>GLYCLTDy</td>\n",
       "            </tr><tr>\n",
       "                <td><strong>Name</strong></td><td>R_GLYCLTDy</td>\n",
       "            </tr><tr>\n",
       "                <td><strong>Memory address</strong></td>\n",
       "                <td>0x020f45e022e0</td>\n",
       "            </tr><tr>\n",
       "                <td><strong>Stoichiometry</strong></td>\n",
       "                <td>\n",
       "                    <p style='text-align:right'>glx_c + nadph_c --> glyclt_c + nadp_c</p>\n",
       "                    <p style='text-align:right'>Glyoxylate + Nicotinamide-adenine-dinucleotide-phosphate--reduced --> Glycolate + Nicotinamide-adenine-dinucleotide-phosphate</p>\n",
       "                </td>\n",
       "            </tr><tr>\n",
       "                <td><strong>GPR</strong></td><td>NGO2043</td>\n",
       "            </tr><tr>\n",
       "                <td><strong>Lower bound</strong></td><td>0.0</td>\n",
       "            </tr><tr>\n",
       "                <td><strong>Upper bound</strong></td><td>1000.0</td>\n",
       "            </tr>\n",
       "        </table>\n",
       "        "
      ],
      "text/plain": [
       "<Reaction GLYCLTDy at 0x20f45e022e0>"
      ]
     },
     "execution_count": 128,
     "metadata": {},
     "output_type": "execute_result"
    }
   ],
   "source": [
    "#GLYCLTDy\n",
    "r = model.reactions.get_by_id('GLYCLTDy')\n",
    "print(r.check_mass_balance())\n",
    "r"
   ]
  },
  {
   "cell_type": "code",
   "execution_count": 129,
   "id": "09cca48d-adbc-4693-bffc-599e89a464ff",
   "metadata": {
    "scrolled": true
   },
   "outputs": [
    {
     "name": "stdout",
     "output_type": "stream",
     "text": [
      "GLYCLTDy: glx_c + h_c + nadph_c --> glyclt_c + nadp_c\n",
      "{}\n"
     ]
    }
   ],
   "source": [
    "h_c = model.metabolites.get_by_id('h_c')\n",
    "\n",
    "\n",
    "\n",
    "r.add_metabolites({\n",
    "    h_c: -1,\n",
    "})\n",
    "\n",
    "print(r)\n",
    "print(r.check_mass_balance())"
   ]
  },
  {
   "cell_type": "code",
   "execution_count": 130,
   "id": "6732cb75-a238-4187-9e64-225019c9f0f2",
   "metadata": {
    "scrolled": true
   },
   "outputs": [
    {
     "name": "stdout",
     "output_type": "stream",
     "text": [
      "{'charge': 1.0, 'H': 1.0}\n"
     ]
    },
    {
     "data": {
      "text/html": [
       "\n",
       "        <table>\n",
       "            <tr>\n",
       "                <td><strong>Reaction identifier</strong></td><td>H2AKGAL</td>\n",
       "            </tr><tr>\n",
       "                <td><strong>Name</strong></td><td>R_H2AKGAL</td>\n",
       "            </tr><tr>\n",
       "                <td><strong>Memory address</strong></td>\n",
       "                <td>0x020f45e288e0</td>\n",
       "            </tr><tr>\n",
       "                <td><strong>Stoichiometry</strong></td>\n",
       "                <td>\n",
       "                    <p style='text-align:right'>4h2oglt_c --> glx_c + h_c + pyr_c</p>\n",
       "                    <p style='text-align:right'>D-4-Hydroxy-2-oxoglutarate --> Glyoxylate + H + Pyruvate</p>\n",
       "                </td>\n",
       "            </tr><tr>\n",
       "                <td><strong>GPR</strong></td><td>NGO0713</td>\n",
       "            </tr><tr>\n",
       "                <td><strong>Lower bound</strong></td><td>0.0</td>\n",
       "            </tr><tr>\n",
       "                <td><strong>Upper bound</strong></td><td>1000.0</td>\n",
       "            </tr>\n",
       "        </table>\n",
       "        "
      ],
      "text/plain": [
       "<Reaction H2AKGAL at 0x20f45e288e0>"
      ]
     },
     "execution_count": 130,
     "metadata": {},
     "output_type": "execute_result"
    }
   ],
   "source": [
    "#H2AKGAL\n",
    "r = model.reactions.get_by_id('H2AKGAL')\n",
    "print(r.check_mass_balance())\n",
    "r"
   ]
  },
  {
   "cell_type": "code",
   "execution_count": 131,
   "id": "63de901d-9a53-4bc4-8b69-b07ff1a11c30",
   "metadata": {
    "scrolled": true
   },
   "outputs": [
    {
     "name": "stdout",
     "output_type": "stream",
     "text": [
      "DDPGA: 4h2oglt_c --> glx_c + 2.0 h_c + pyr_c\n",
      "{'charge': 2.0, 'H': 2.0}\n"
     ]
    }
   ],
   "source": [
    "#H2AKGAL is not consistent with the bigg name for this same reaction. Corrected name to DDPGA. \n",
    "#Similarly, the protenation of 4h2oglt_c was used from kegg, which is incorrect for neutral ph.\n",
    "#corrected to the formula from bigg. And removed the now unnecessary hydrogens from the reaction.\n",
    "r.id  ='DDPGA'\n",
    "r.name ='R_DDPGA'\n",
    "model.metabolites.get_by_id('4h2oglt_c').formula = 'C5H4O6'\n",
    "h_c = model.metabolites.get_by_id('h_c')\n",
    "\n",
    "r.add_metabolites({\n",
    "    h_c: 1.0,\n",
    "})\n",
    "\n",
    "print(r)\n",
    "print(r.check_mass_balance())"
   ]
  },
  {
   "cell_type": "code",
   "execution_count": 132,
   "id": "635d0468-f2fd-48b0-847c-368e51164dd9",
   "metadata": {
    "scrolled": true
   },
   "outputs": [
    {
     "name": "stdout",
     "output_type": "stream",
     "text": [
      "{'charge': 1.0, 'H': 1.0}\n"
     ]
    },
    {
     "data": {
      "text/html": [
       "\n",
       "        <table>\n",
       "            <tr>\n",
       "                <td><strong>Reaction identifier</strong></td><td>HGTA</td>\n",
       "            </tr><tr>\n",
       "                <td><strong>Name</strong></td><td>R_HGTA</td>\n",
       "            </tr><tr>\n",
       "                <td><strong>Memory address</strong></td>\n",
       "                <td>0x020f45e34a90</td>\n",
       "            </tr><tr>\n",
       "                <td><strong>Stoichiometry</strong></td>\n",
       "                <td>\n",
       "                    <p style='text-align:right'>akg_c + e4hglu_c <=> 4h2oglt_c + glu_L_c + h_c</p>\n",
       "                    <p style='text-align:right'>2-Oxoglutarate + L-erythro-4-Hydroxyglutamate <=> D-4-Hydroxy-2-oxoglutarate + L-Glutamate + H</p>\n",
       "                </td>\n",
       "            </tr><tr>\n",
       "                <td><strong>GPR</strong></td><td>NGO1452</td>\n",
       "            </tr><tr>\n",
       "                <td><strong>Lower bound</strong></td><td>-1000.0</td>\n",
       "            </tr><tr>\n",
       "                <td><strong>Upper bound</strong></td><td>1000.0</td>\n",
       "            </tr>\n",
       "        </table>\n",
       "        "
      ],
      "text/plain": [
       "<Reaction HGTA at 0x20f45e34a90>"
      ]
     },
     "execution_count": 132,
     "metadata": {},
     "output_type": "execute_result"
    }
   ],
   "source": [
    "#HGTA\n",
    "r = model.reactions.get_by_id('HGTA')\n",
    "print(r.check_mass_balance())\n",
    "r"
   ]
  },
  {
   "cell_type": "code",
   "execution_count": 133,
   "id": "d4e42868-66c4-4a44-9651-1c11e44c60a2",
   "metadata": {
    "scrolled": true
   },
   "outputs": [
    {
     "name": "stdout",
     "output_type": "stream",
     "text": [
      "EHGLAT: akg_c + e4hglu_c <=> 4h2oglt_c + glu_L_c\n",
      "{}\n"
     ]
    }
   ],
   "source": [
    "#HGTA is not consistent with the bigg name for this same reaction. Corrected name to EHGLAT. \n",
    "#Similarly, the protenation of e4hglu_c was used from kegg, which is incorrect for neutral ph.\n",
    "#corrected to the formula from bigg. And removed the now unnecessary hydrogens from the reaction.\n",
    "r.id  ='EHGLAT'\n",
    "r.name ='R_EHGLAT'\n",
    "model.metabolites.get_by_id('e4hglu_c').formula = 'C5H8NO5'\n",
    "h_c = model.metabolites.get_by_id('h_c')\n",
    "\n",
    "\n",
    "\n",
    "r.add_metabolites({\n",
    "    h_c: -1.0,\n",
    "})\n",
    "\n",
    "print(r)\n",
    "print(r.check_mass_balance())"
   ]
  },
  {
   "cell_type": "code",
   "execution_count": 134,
   "id": "b2dd7b9c-7b7a-45c4-a292-0e1f93bb3158",
   "metadata": {},
   "outputs": [
    {
     "data": {
      "text/plain": [
       "2.2345032345098805"
      ]
     },
     "execution_count": 134,
     "metadata": {},
     "output_type": "execute_result"
    }
   ],
   "source": [
    "model.slim_optimize()"
   ]
  },
  {
   "cell_type": "code",
   "execution_count": 135,
   "id": "cb0ce81c-e100-489f-b782-b86b60c6344d",
   "metadata": {
    "scrolled": true
   },
   "outputs": [
    {
     "name": "stdout",
     "output_type": "stream",
     "text": [
      "{'charge': -1.0, 'H': -1.0}\n"
     ]
    },
    {
     "data": {
      "text/html": [
       "\n",
       "        <table>\n",
       "            <tr>\n",
       "                <td><strong>Reaction identifier</strong></td><td>HMT</td>\n",
       "            </tr><tr>\n",
       "                <td><strong>Name</strong></td><td>R_HMT</td>\n",
       "            </tr><tr>\n",
       "                <td><strong>Memory address</strong></td>\n",
       "                <td>0x020f45e41880</td>\n",
       "            </tr><tr>\n",
       "                <td><strong>Stoichiometry</strong></td>\n",
       "                <td>\n",
       "                    <p style='text-align:right'>amet_c + his_L_c --> ahcys_c + mhis_c</p>\n",
       "                    <p style='text-align:right'>S-Adenosyl-L-methionine + L-Histidine --> S-Adenosyl-L-homocysteine + N(pi)-Methyl-L-histidine</p>\n",
       "                </td>\n",
       "            </tr><tr>\n",
       "                <td><strong>GPR</strong></td><td>NGO0746</td>\n",
       "            </tr><tr>\n",
       "                <td><strong>Lower bound</strong></td><td>0.0</td>\n",
       "            </tr><tr>\n",
       "                <td><strong>Upper bound</strong></td><td>1000.0</td>\n",
       "            </tr>\n",
       "        </table>\n",
       "        "
      ],
      "text/plain": [
       "<Reaction HMT at 0x20f45e41880>"
      ]
     },
     "execution_count": 135,
     "metadata": {},
     "output_type": "execute_result"
    }
   ],
   "source": [
    "#HMT\n",
    "r = model.reactions.get_by_id('HMT')\n",
    "print(r.check_mass_balance())\n",
    "r"
   ]
  },
  {
   "cell_type": "code",
   "execution_count": 136,
   "id": "4aa57f89-8a9d-497a-b89f-cc5c11507b89",
   "metadata": {
    "scrolled": true
   },
   "outputs": [
    {
     "name": "stderr",
     "output_type": "stream",
     "text": [
      "C:\\Users\\Aimee\\anaconda3\\lib\\site-packages\\cobra\\core\\model.py:727: UserWarning: need to pass in a list\n",
      "  warn(\"need to pass in a list\")\n",
      "C:\\Users\\Aimee\\anaconda3\\lib\\site-packages\\cobra\\core\\model.py:738: UserWarning: r not in AE004969.1\n",
      "  warn(\"%s not in %s\" % (reaction, self))\n"
     ]
    }
   ],
   "source": [
    "model.remove_reactions('r')"
   ]
  },
  {
   "cell_type": "code",
   "execution_count": 137,
   "id": "6437a327-07b8-4d72-bcb8-ef02faf7c31d",
   "metadata": {
    "scrolled": true
   },
   "outputs": [
    {
     "name": "stdout",
     "output_type": "stream",
     "text": [
      "{'charge': -3.0, 'H': -3.0}\n"
     ]
    },
    {
     "data": {
      "text/html": [
       "\n",
       "        <table>\n",
       "            <tr>\n",
       "                <td><strong>Reaction identifier</strong></td><td>MCITS</td>\n",
       "            </tr><tr>\n",
       "                <td><strong>Name</strong></td><td>R_MCITS</td>\n",
       "            </tr><tr>\n",
       "                <td><strong>Memory address</strong></td>\n",
       "                <td>0x020f45e98a30</td>\n",
       "            </tr><tr>\n",
       "                <td><strong>Stoichiometry</strong></td>\n",
       "                <td>\n",
       "                    <p style='text-align:right'>h2o_c + 2.0 h_c + oaa_c + ppcoa_c --> 2mcit_c + coa_c</p>\n",
       "                    <p style='text-align:right'>H2O + 2.0 H + Oxaloacetate + Propanoyl-CoA --> 2-Methylcitrate + Coenzyme-A</p>\n",
       "                </td>\n",
       "            </tr><tr>\n",
       "                <td><strong>GPR</strong></td><td>NGO1525</td>\n",
       "            </tr><tr>\n",
       "                <td><strong>Lower bound</strong></td><td>0.0</td>\n",
       "            </tr><tr>\n",
       "                <td><strong>Upper bound</strong></td><td>1000.0</td>\n",
       "            </tr>\n",
       "        </table>\n",
       "        "
      ],
      "text/plain": [
       "<Reaction MCITS at 0x20f45e98a30>"
      ]
     },
     "execution_count": 137,
     "metadata": {},
     "output_type": "execute_result"
    }
   ],
   "source": [
    "#MCITS\n",
    "r = model.reactions.get_by_id('MCITS')\n",
    "print(r.check_mass_balance())\n",
    "r"
   ]
  },
  {
   "cell_type": "code",
   "execution_count": 138,
   "id": "fb227882-5ee6-4fd8-b060-9e5350d4bb06",
   "metadata": {
    "scrolled": true
   },
   "outputs": [
    {
     "name": "stdout",
     "output_type": "stream",
     "text": [
      "MCITS: h2o_c + oaa_c + ppcoa_c --> 2mcit_c + coa_c + h_c\n",
      "{}\n"
     ]
    }
   ],
   "source": [
    "h_c = model.metabolites.get_by_id('h_c')\n",
    "\n",
    "r.add_metabolites({\n",
    "    h_c: 3.0,\n",
    "})\n",
    "\n",
    "print(r)\n",
    "print(r.check_mass_balance())"
   ]
  },
  {
   "cell_type": "code",
   "execution_count": 139,
   "id": "8311bd51-2992-4812-99a7-3861de6cdfa1",
   "metadata": {
    "scrolled": true
   },
   "outputs": [
    {
     "name": "stdout",
     "output_type": "stream",
     "text": [
      "{'H': -2.0, 'O': 1.0}\n"
     ]
    },
    {
     "data": {
      "text/html": [
       "\n",
       "        <table>\n",
       "            <tr>\n",
       "                <td><strong>Reaction identifier</strong></td><td>MTHF</td>\n",
       "            </tr><tr>\n",
       "                <td><strong>Name</strong></td><td>R_MTHF</td>\n",
       "            </tr><tr>\n",
       "                <td><strong>Memory address</strong></td>\n",
       "                <td>0x020f45ecbc70</td>\n",
       "            </tr><tr>\n",
       "                <td><strong>Stoichiometry</strong></td>\n",
       "                <td>\n",
       "                    <p style='text-align:right'>5mthf_c --> 10fthf_c</p>\n",
       "                    <p style='text-align:right'>5-Methyltetrahydrofolate --> 10-Formyltetrahydrofolate</p>\n",
       "                </td>\n",
       "            </tr><tr>\n",
       "                <td><strong>GPR</strong></td><td>Sgene</td>\n",
       "            </tr><tr>\n",
       "                <td><strong>Lower bound</strong></td><td>0.0</td>\n",
       "            </tr><tr>\n",
       "                <td><strong>Upper bound</strong></td><td>1000.0</td>\n",
       "            </tr>\n",
       "        </table>\n",
       "        "
      ],
      "text/plain": [
       "<Reaction MTHF at 0x20f45ecbc70>"
      ]
     },
     "execution_count": 139,
     "metadata": {},
     "output_type": "execute_result"
    }
   ],
   "source": [
    "#MTHF\n",
    "r = model.reactions.get_by_id('MTHF')\n",
    "print(r.check_mass_balance())\n",
    "r"
   ]
  },
  {
   "cell_type": "code",
   "execution_count": 140,
   "id": "0ea67e24-e3cb-4797-b6bc-0f189bcf3472",
   "metadata": {
    "scrolled": true
   },
   "outputs": [
    {
     "name": "stdout",
     "output_type": "stream",
     "text": [
      "MTHF: 5mthf_c + h2o_c + 2.0 nad_c --> 10fthf_c + 2.0 h_c + 2.0 nadh_c\n",
      "{}\n"
     ]
    }
   ],
   "source": [
    "##MTHF is a spontaneous reaction. Uncertain how frequently this occurs in nature. \n",
    "#Typically found in carbon fixation pathways in KEGG and in multistep, requiring NADH. https://www.kegg.jp/pathway/map00720+C00234\n",
    "#Added NADH here for mass and charge balance. \n",
    "#Corrected h2o and hydrogens.\n",
    "h_c = model.metabolites.get_by_id('h_c')\n",
    "h2o_c = model.metabolites.get_by_id('h2o_c')\n",
    "nad_c = model.metabolites.get_by_id('nad_c')\n",
    "nadh_c=model.metabolites.get_by_id('nadh_c')\n",
    "\n",
    "model.metabolites.get_by_id('5mthf_c').charge=-2\n",
    "model.metabolites.get_by_id('5mthf_c').formula= 'C20H23N7O6'\n",
    "\n",
    "r.add_metabolites({\n",
    "    h2o_c: -1.0,\n",
    "    h_c: 2.0,\n",
    "    nad_c: -2.0,\n",
    "    nadh_c: 2.0,\n",
    "})\n",
    "\n",
    "print(r)\n",
    "print(r.check_mass_balance())\n",
    "\n",
    "#Charge balance is off"
   ]
  },
  {
   "cell_type": "code",
   "execution_count": 141,
   "id": "d97a060c-e608-47cd-ad96-201d8a2fd56e",
   "metadata": {
    "scrolled": true
   },
   "outputs": [
    {
     "name": "stdout",
     "output_type": "stream",
     "text": [
      "{'charge': 2.0000000011677344e-07, 'C': -1.6999999985500835e-06, 'H': -1.900000000887303e-06, 'N': -4.0000000023354687e-07, 'O': -8.999999998593466e-07, 'P': -1.0000000005838672e-07}\n"
     ]
    },
    {
     "data": {
      "text/html": [
       "\n",
       "        <table>\n",
       "            <tr>\n",
       "                <td><strong>Reaction identifier</strong></td><td>NADHQNa</td>\n",
       "            </tr><tr>\n",
       "                <td><strong>Name</strong></td><td>R_NADHQNa</td>\n",
       "            </tr><tr>\n",
       "                <td><strong>Memory address</strong></td>\n",
       "                <td>0x020f45ed6820</td>\n",
       "            </tr><tr>\n",
       "                <td><strong>Stoichiometry</strong></td>\n",
       "                <td>\n",
       "                    <p style='text-align:right'>1e-07 fmn_c + h_c + 2.0 na1_c + nadh_c + q8_c --> 2.0 na1_p + nad_c + q8h2_c</p>\n",
       "                    <p style='text-align:right'>1e-07 FMN + H + 2.0 Sodium + Nicotinamide-adenine-dinucleotide--reduced + Ubiquinone-8 --> 2.0 Sodium + Nicotinamide-adenine-dinucleotide + Ubiquinol-8</p>\n",
       "                </td>\n",
       "            </tr><tr>\n",
       "                <td><strong>GPR</strong></td><td>NGO1418 and NGO1417 and NGO1416 and NGO1415 and NGO1414 and NGO1413</td>\n",
       "            </tr><tr>\n",
       "                <td><strong>Lower bound</strong></td><td>0.0</td>\n",
       "            </tr><tr>\n",
       "                <td><strong>Upper bound</strong></td><td>1000.0</td>\n",
       "            </tr>\n",
       "        </table>\n",
       "        "
      ],
      "text/plain": [
       "<Reaction NADHQNa at 0x20f45ed6820>"
      ]
     },
     "execution_count": 141,
     "metadata": {},
     "output_type": "execute_result"
    }
   ],
   "source": [
    "#NADHQNa\n",
    "r = model.reactions.get_by_id('NADHQNa')\n",
    "print(r.check_mass_balance())\n",
    "r"
   ]
  },
  {
   "cell_type": "code",
   "execution_count": 142,
   "id": "e57d2c36-b403-4658-98ef-9861c61693fe",
   "metadata": {
    "scrolled": true
   },
   "outputs": [
    {
     "name": "stdout",
     "output_type": "stream",
     "text": [
      "NADHQNa: h_c + 2.0 na1_c + nadh_c + q8_c --> 2.0 na1_p + nad_c + q8h2_c\n",
      "{}\n"
     ]
    }
   ],
   "source": [
    "fmn_c = model.metabolites.get_by_id('fmn_c')\n",
    "\n",
    "\n",
    "r.add_metabolites({\n",
    "    fmn_c: 1e-07,\n",
    "})\n",
    "\n",
    "print(r)\n",
    "print(r.check_mass_balance())"
   ]
  },
  {
   "cell_type": "code",
   "execution_count": 143,
   "id": "f6ca6673-dd54-45f8-828a-3747b8017fbe",
   "metadata": {
    "scrolled": true
   },
   "outputs": [
    {
     "name": "stdout",
     "output_type": "stream",
     "text": [
      "91 91 91\n"
     ]
    },
    {
     "data": {
      "text/html": [
       "<div>\n",
       "<style scoped>\n",
       "    .dataframe tbody tr th:only-of-type {\n",
       "        vertical-align: middle;\n",
       "    }\n",
       "\n",
       "    .dataframe tbody tr th {\n",
       "        vertical-align: top;\n",
       "    }\n",
       "\n",
       "    .dataframe thead th {\n",
       "        text-align: right;\n",
       "    }\n",
       "</style>\n",
       "<table border=\"1\" class=\"dataframe\">\n",
       "  <thead>\n",
       "    <tr style=\"text-align: right;\">\n",
       "      <th></th>\n",
       "      <th>Reactions</th>\n",
       "      <th>Charge</th>\n",
       "      <th>Masses</th>\n",
       "    </tr>\n",
       "  </thead>\n",
       "  <tbody>\n",
       "    <tr>\n",
       "      <th>0</th>\n",
       "      <td>3OAS161a</td>\n",
       "      <td>1.0</td>\n",
       "      <td>{'C': -12.0, 'H': -21.0, 'N': -2.0, 'O': -9.0,...</td>\n",
       "    </tr>\n",
       "    <tr>\n",
       "      <th>1</th>\n",
       "      <td>ADPT</td>\n",
       "      <td>-1.0</td>\n",
       "      <td>{'H': -1.0}</td>\n",
       "    </tr>\n",
       "    <tr>\n",
       "      <th>2</th>\n",
       "      <td>AGPAT141b</td>\n",
       "      <td>2.0</td>\n",
       "      <td>{}</td>\n",
       "    </tr>\n",
       "    <tr>\n",
       "      <th>3</th>\n",
       "      <td>AGPAT160b</td>\n",
       "      <td>2.0</td>\n",
       "      <td>{}</td>\n",
       "    </tr>\n",
       "    <tr>\n",
       "      <th>4</th>\n",
       "      <td>AGPAT160c</td>\n",
       "      <td>2.0</td>\n",
       "      <td>{}</td>\n",
       "    </tr>\n",
       "    <tr>\n",
       "      <th>...</th>\n",
       "      <td>...</td>\n",
       "      <td>...</td>\n",
       "      <td>...</td>\n",
       "    </tr>\n",
       "    <tr>\n",
       "      <th>86</th>\n",
       "      <td>TSULST</td>\n",
       "      <td>-2.0</td>\n",
       "      <td>{'H': -2.0}</td>\n",
       "    </tr>\n",
       "    <tr>\n",
       "      <th>87</th>\n",
       "      <td>UPPRT</td>\n",
       "      <td>-1.0</td>\n",
       "      <td>{'H': -1.0}</td>\n",
       "    </tr>\n",
       "    <tr>\n",
       "      <th>88</th>\n",
       "      <td>XPPT</td>\n",
       "      <td>-1.0</td>\n",
       "      <td>{'H': -1.0}</td>\n",
       "    </tr>\n",
       "    <tr>\n",
       "      <th>89</th>\n",
       "      <td>XPRT</td>\n",
       "      <td>-1.0</td>\n",
       "      <td>{'H': -1.0}</td>\n",
       "    </tr>\n",
       "    <tr>\n",
       "      <th>90</th>\n",
       "      <td>CYPOX</td>\n",
       "      <td>-2.0</td>\n",
       "      <td>{}</td>\n",
       "    </tr>\n",
       "  </tbody>\n",
       "</table>\n",
       "<p>91 rows × 3 columns</p>\n",
       "</div>"
      ],
      "text/plain": [
       "    Reactions Charge                                             Masses\n",
       "0    3OAS161a    1.0  {'C': -12.0, 'H': -21.0, 'N': -2.0, 'O': -9.0,...\n",
       "1        ADPT   -1.0                                        {'H': -1.0}\n",
       "2   AGPAT141b    2.0                                                 {}\n",
       "3   AGPAT160b    2.0                                                 {}\n",
       "4   AGPAT160c    2.0                                                 {}\n",
       "..        ...    ...                                                ...\n",
       "86     TSULST   -2.0                                        {'H': -2.0}\n",
       "87      UPPRT   -1.0                                        {'H': -1.0}\n",
       "88       XPPT   -1.0                                        {'H': -1.0}\n",
       "89       XPRT   -1.0                                        {'H': -1.0}\n",
       "90      CYPOX   -2.0                                                 {}\n",
       "\n",
       "[91 rows x 3 columns]"
      ]
     },
     "execution_count": 143,
     "metadata": {},
     "output_type": "execute_result"
    }
   ],
   "source": [
    "#Imbalance progress\n",
    "reactions = []\n",
    "charge = []\n",
    "mass = []\n",
    "for react in model.reactions:\n",
    "    result = react.check_mass_balance()\n",
    "    if 'EX_' in  react.id:\n",
    "        continue\n",
    "    if 'Nm_' in  react.id:\n",
    "        continue\n",
    "    if 'DM_' in  react.id:\n",
    "        continue \n",
    "    if react.id in biomass_reactions:\n",
    "        continue\n",
    "    if len(result) == 0:\n",
    "        continue\n",
    "    else: \n",
    "        reactions.append(react.id)\n",
    "        masses = {}\n",
    "        for key in result.keys():\n",
    "            if key == 'charge':\n",
    "                charge.append(result['charge'])\n",
    "            else:\n",
    "                masses[key] = result[key]\n",
    "        if 'charge' not in result.keys():\n",
    "            charge.append('')\n",
    "        mass.append(masses)\n",
    "print(len(reactions), len(charge), len(mass))\n",
    "\n",
    "mass_charge_dict = {'Reactions': reactions, 'Charge': charge, 'Masses': mass}\n",
    "mass_charge = pandas.DataFrame(mass_charge_dict)\n",
    "mass_charge"
   ]
  },
  {
   "cell_type": "code",
   "execution_count": 144,
   "id": "36bb568f-cfa9-41c8-85d3-52e0ff385f99",
   "metadata": {},
   "outputs": [
    {
     "data": {
      "text/plain": [
       "2.2345042552092766"
      ]
     },
     "execution_count": 144,
     "metadata": {},
     "output_type": "execute_result"
    }
   ],
   "source": [
    "model.slim_optimize()"
   ]
  },
  {
   "cell_type": "code",
   "execution_count": 145,
   "id": "c1cbf619-956a-4758-bd26-f06c17a91b02",
   "metadata": {
    "scrolled": true
   },
   "outputs": [
    {
     "name": "stdout",
     "output_type": "stream",
     "text": [
      "PLIPIDS: 0.001857 pa120_p + 0.001157 pa140_p + 0.001202 pa141_p + 0.003838 pa160_p + 0.006675 pa161_p + 0.000484 pa180_p + 0.0008971 pa181_p + 0.004466 pe120_p + 0.010539 pe140_p + 0.002913 pe141_p + 0.004721 pe141b_p + 0.009371 pe160_p + 0.01007 pe160a_p + 0.02591 pe160c_p + 0.0186 pe160e_p + 0.01562 pe161_p + 0.001189 pe180_p + 0.022 pe181_p + 0.001551 pg120_p + 0.001283 pg140_p + 0.001016 pg141_p + 0.001668 pg141b_p + 0.003285 pg160_p + 0.002712 pg160a_p + 0.001644 pg160b_p + 0.006129 pg160c_p + 0.006099 pg161_p + 0.000418 pg180_p + 0.000774 pg181_p <=> 0.1483 lipid_NM_p\n"
     ]
    }
   ],
   "source": [
    "r= model.reactions.get_by_id('PLIPIDS')\n",
    "print(r)"
   ]
  },
  {
   "cell_type": "code",
   "execution_count": 146,
   "id": "f5700dbe-8459-413a-bf94-6e9947303492",
   "metadata": {
    "scrolled": true
   },
   "outputs": [
    {
     "name": "stdout",
     "output_type": "stream",
     "text": [
      "PLIPIDS: 0.000503555042155509 pa120_p + 0.000371731800974898 pa141_p + 0.00207597350252432 pa160_p + 0.00564538392418283 pa161_p + 0.000290080640591335 pa180_p + 0.00216477129604764 pa181_p + 0.00234345993674653 pe120_p + 0.0025598346977071 pe140_p + 0.00821977537556325 pe141_p + 0.055748823259178 pe160_p + 0.0255682154771119 pe161_p + 0.00137834776769998 pe180_p + 0.0102822273478348 pe181_p + 0.000703620745734723 pg120_p + 3.03207570481577e-05 pg140_p + 0.00290595573235281 pg141_p + 0.0122303684865845 pg160_p + 0.00862596402374158 pg161_p + 0.000418944804169265 pg180_p + 0.00312454317572049 pg181_p <=> 0.1483 lipid_NM_p\n"
     ]
    }
   ],
   "source": [
    "#Phospholipids adjusted for Gc specific values based on \"Biomass composition from nmb_itm560 updated for Gc\" spreadsheet\n",
    "r= model.reactions.get_by_id('PLIPIDS')\n",
    "\n",
    "pe141b_p= model.metabolites.get_by_id('pe141b_p')\n",
    "pe160a_p= model.metabolites.get_by_id('pe160a_p')\n",
    "pe160c_p= model.metabolites.get_by_id('pe160c_p')\n",
    "pe160e_p= model.metabolites.get_by_id('pe160e_p')\n",
    "pg141b_p= model.metabolites.get_by_id('pg141b_p')\n",
    "pg160a_p= model.metabolites.get_by_id('pg160a_p')\n",
    "pg160b_p= model.metabolites.get_by_id('pg160b_p')\n",
    "pg160c_p= model.metabolites.get_by_id('pg160c_p')\n",
    "\n",
    "pa120_p= model.metabolites.get_by_id('pa120_p')\n",
    "pa140_p= model.metabolites.get_by_id('pa140_p')\n",
    "pa141_p= model.metabolites.get_by_id('pa141_p')\n",
    "pa160_p= model.metabolites.get_by_id('pa160_p')\n",
    "pa161_p= model.metabolites.get_by_id('pa161_p')\n",
    "pa180_p= model.metabolites.get_by_id('pa180_p')\n",
    "pa181_p= model.metabolites.get_by_id('pa181_p')\n",
    "\n",
    "pe120_p= model.metabolites.get_by_id('pe120_p')\n",
    "pe140_p= model.metabolites.get_by_id('pe140_p')\n",
    "pe141_p= model.metabolites.get_by_id('pe141_p')\n",
    "pe160_p= model.metabolites.get_by_id('pe160_p')\n",
    "pe161_p= model.metabolites.get_by_id('pe161_p')\n",
    "pe180_p= model.metabolites.get_by_id('pe180_p')\n",
    "pe181_p= model.metabolites.get_by_id('pe181_p')\n",
    "\n",
    "pg120_p= model.metabolites.get_by_id('pg120_p')\n",
    "pg140_p= model.metabolites.get_by_id('pg140_p')\n",
    "pg141_p= model.metabolites.get_by_id('pg141_p')\n",
    "pg160_p= model.metabolites.get_by_id('pg160_p')\n",
    "pg161_p= model.metabolites.get_by_id('pg161_p')\n",
    "pg180_p= model.metabolites.get_by_id('pg180_p')\n",
    "pg181_p= model.metabolites.get_by_id('pg181_p')\n",
    "\n",
    "\n",
    "r.add_metabolites({\n",
    " \n",
    "    pa120_p:  0.001857, \n",
    "    pa140_p: 0.001157 ,\n",
    "    pa160_p: 0.003838,\n",
    "    pa180_p:  0.000484,\n",
    "    pa141_p: 0.001202 ,\n",
    "    pa161_p: 0.006675,\n",
    "    pa181_p: 0.0008971, \n",
    "    pe120_p: 0.004466 ,\n",
    "    pe140_p: 0.010539 ,\n",
    "    pe141b_p: 0.004721, \n",
    "    pe160_p: 0.009371 ,\n",
    "    pe160a_p: 0.01007 ,\n",
    "    pe160c_p: 0.02591 ,\n",
    "    pe160e_p: 0.0186,\n",
    "    pe180_p: 0.001189, \n",
    "    pe141_p: 0.002913 ,\n",
    "    pe161_p: 0.01562 ,\n",
    "    pe181_p:  0.022 ,\n",
    "    pg120_p: 0.001551 ,\n",
    "    pg140_p: 0.001283 ,\n",
    "    pg160_p: 0.003285 ,\n",
    "    pg160a_p:  0.002712, \n",
    "    pg160b_p: 0.001644 ,\n",
    "    pg160c_p:  0.006129, \n",
    "    pg161_p: 0.006099 ,\n",
    "    pg181_p: 0.000774 ,\n",
    "    pg180_p: 0.000418 ,\n",
    "    pg141_p: 0.001016 ,\n",
    "    pg141b_p: 0.001668, })\n",
    "\n",
    "  \n",
    "r.add_metabolites({   \n",
    "    pa120_p: -0.000503555042155509,\n",
    "    pa160_p: -0.00207597350252432 ,\n",
    "    pa180_p: -0.000290080640591335,\n",
    "    pa141_p: -0.000371731800974898 ,\n",
    "    pa161_p: -0.00564538392418283 ,\n",
    "    pa181_p: -0.00216477129604764 ,\n",
    "    pe120_p: -0.00234345993674653 ,\n",
    "    pe140_p: -0.0025598346977071 ,\n",
    "    pe160_p: -0.055748823259178,\n",
    "    pe180_p: -0.00137834776769998,\n",
    "    pe141_p: -0.00821977537556325,\n",
    "    pe161_p: -0.0255682154771119,\n",
    "    pe181_p: -0.0102822273478348 ,\n",
    "    pg120_p: -0.000703620745734723,\n",
    "    pg140_p: -3.03207570481577E-05,\n",
    "    pg160_p: -0.0122303684865845,\n",
    "    pg180_p: -0.000418944804169265,\n",
    "    pg141_p: -0.00290595573235281,\n",
    "    pg161_p: -0.00862596402374158,\n",
    "    pg181_p: -0.00312454317572049,\n",
    "})\n",
    "\n",
    "print(r)"
   ]
  },
  {
   "cell_type": "code",
   "execution_count": 147,
   "id": "1ec1df17-565c-4296-8d30-7f1121605c46",
   "metadata": {},
   "outputs": [
    {
     "data": {
      "text/plain": [
       "2.2345042552092766"
      ]
     },
     "execution_count": 147,
     "metadata": {},
     "output_type": "execute_result"
    }
   ],
   "source": [
    "model.slim_optimize()"
   ]
  },
  {
   "cell_type": "code",
   "execution_count": 148,
   "id": "729ebd86-1a38-49df-b4ac-6e4d438f0830",
   "metadata": {},
   "outputs": [
    {
     "name": "stdout",
     "output_type": "stream",
     "text": [
      "PLIPIDS_ESS: 0.001857 pa120_p + 0.001157 pa140_p + 0.001202 pa141_p + 0.003838 pa160_p + 0.006675 pa161_p + 0.000484 pa180_p + 0.0008971 pa181_p + 0.001551 pg120_p + 0.001283 pg140_p + 0.001016 pg141_p + 0.001668 pg141b_p + 0.003285 pg160_p + 0.002712 pg160a_p + 0.001644 pg160b_p + 0.006129 pg160c_p + 0.006099 pg161_p + 0.000418 pg180_p + 0.000774 pg181_p <=> 0.04269 esslipid_NM_p\n"
     ]
    }
   ],
   "source": [
    "r=model.reactions.get_by_id('PLIPIDS_ESS')\n",
    "print(r)"
   ]
  },
  {
   "cell_type": "code",
   "execution_count": 149,
   "id": "41809232-fd6d-4405-8ab3-b393190f0888",
   "metadata": {
    "scrolled": true
   },
   "outputs": [
    {
     "name": "stdout",
     "output_type": "stream",
     "text": [
      "PLIPIDS_ESS: 0.000503555042155509 pa120_p + 0.000371731800974898 pa141_p + 0.00207597350252432 pa160_p + 0.00564538392418283 pa161_p + 0.000290080640591335 pa180_p + 0.00216477129604764 pa181_p + 0.000703620745734723 pg120_p + 3.03207570481577e-05 pg140_p + 0.00290595573235281 pg141_p + 0.0122303684865845 pg160_p + 0.00862596402374158 pg161_p + 0.000418944804169265 pg180_p + 0.00312454317572049 pg181_p <=> 0.04269 esslipid_NM_p\n"
     ]
    }
   ],
   "source": [
    "r= model.reactions.get_by_id('PLIPIDS_ESS')\n",
    "\n",
    "pg141b_p= model.metabolites.get_by_id('pg141b_p')\n",
    "pg160a_p= model.metabolites.get_by_id('pg160a_p')\n",
    "pg160b_p= model.metabolites.get_by_id('pg160b_p')\n",
    "pg160c_p= model.metabolites.get_by_id('pg160c_p')\n",
    "\n",
    "pe141b_p= model.metabolites.get_by_id('pe141b_p')\n",
    "pe160a_p= model.metabolites.get_by_id('pe160a_p')\n",
    "pe160c_p= model.metabolites.get_by_id('pe160c_p')\n",
    "pe160e_p= model.metabolites.get_by_id('pe160e_p')\n",
    "pg141b_p= model.metabolites.get_by_id('pg141b_p')\n",
    "pg160a_p= model.metabolites.get_by_id('pg160a_p')\n",
    "pg160b_p= model.metabolites.get_by_id('pg160b_p')\n",
    "pg160c_p= model.metabolites.get_by_id('pg160c_p')\n",
    "\n",
    "pa120_p= model.metabolites.get_by_id('pa120_p')\n",
    "pa140_p= model.metabolites.get_by_id('pa140_p')\n",
    "pa141_p= model.metabolites.get_by_id('pa141_p')\n",
    "pa160_p= model.metabolites.get_by_id('pa160_p')\n",
    "pa161_p= model.metabolites.get_by_id('pa161_p')\n",
    "pa180_p= model.metabolites.get_by_id('pa180_p')\n",
    "pa181_p= model.metabolites.get_by_id('pa181_p')\n",
    "\n",
    "pe120_p= model.metabolites.get_by_id('pe120_p')\n",
    "pe140_p= model.metabolites.get_by_id('pe140_p')\n",
    "pe141_p= model.metabolites.get_by_id('pe141_p')\n",
    "pe160_p= model.metabolites.get_by_id('pe160_p')\n",
    "pe161_p= model.metabolites.get_by_id('pe161_p')\n",
    "pe180_p= model.metabolites.get_by_id('pe180_p')\n",
    "pe181_p= model.metabolites.get_by_id('pe181_p')\n",
    "\n",
    "pg120_p= model.metabolites.get_by_id('pg120_p')\n",
    "pg140_p= model.metabolites.get_by_id('pg140_p')\n",
    "pg141_p= model.metabolites.get_by_id('pg141_p')\n",
    "pg160_p= model.metabolites.get_by_id('pg160_p')\n",
    "pg161_p= model.metabolites.get_by_id('pg161_p')\n",
    "pg180_p= model.metabolites.get_by_id('pg180_p')\n",
    "pg181_p= model.metabolites.get_by_id('pg181_p')\n",
    "\n",
    "\n",
    "r.add_metabolites({\n",
    " \n",
    "    pa120_p:  0.001857, \n",
    "    pa140_p: 0.001157 ,\n",
    "    pa141_p: 0.001202 ,\n",
    "    pa160_p: 0.003838,\n",
    "    pa161_p: 0.006675,\n",
    "    pa180_p:  0.000484,\n",
    "    pa181_p: 0.0008971, \n",
    "\n",
    "    pg120_p: 0.001551 ,\n",
    "    pg140_p: 0.001283 ,\n",
    "    pg160_p: 0.003285 ,\n",
    "    pg160a_p:  0.002712, \n",
    "    pg160b_p: 0.001644 ,\n",
    "    pg160c_p:  0.006129, \n",
    "    pg161_p: 0.006099 ,\n",
    "    pg181_p: 0.000774 ,\n",
    "    pg180_p: 0.000418 ,\n",
    "    pg141_p: 0.001016 ,\n",
    "    pg141b_p: 0.001668, })\n",
    "\n",
    "  \n",
    "r.add_metabolites({ \n",
    "    pa120_p: -0.000503555042155509,\n",
    "    \n",
    "    pa141_p: -0.000371731800974898 ,\n",
    "    pa160_p: -0.00207597350252432 ,\n",
    "    pa161_p: -0.00564538392418283 ,\n",
    "    pa180_p: -0.000290080640591335,\n",
    "    pa181_p: -0.00216477129604764 ,\n",
    "  \n",
    "    pg120_p: -0.000703620745734723,\n",
    "    pg140_p: -3.03207570481577E-05,\n",
    "    pg141_p: -0.00290595573235281,\n",
    "    pg160_p: -0.0122303684865845,\n",
    "    pg161_p: -0.00862596402374158,\n",
    "    pg180_p: -0.000418944804169265,\n",
    "    pg181_p: -0.00312454317572049, })\n",
    "\n",
    "print(r)"
   ]
  },
  {
   "cell_type": "code",
   "execution_count": 150,
   "id": "811471e8-1dbe-428f-9ef7-031b758d2251",
   "metadata": {},
   "outputs": [
    {
     "data": {
      "text/plain": [
       "2.2335018198084726"
      ]
     },
     "execution_count": 150,
     "metadata": {},
     "output_type": "execute_result"
    }
   ],
   "source": [
    "model.slim_optimize()"
   ]
  },
  {
   "cell_type": "code",
   "execution_count": 151,
   "id": "5d7acc30-e3e6-4cca-b7d9-7eb2f55154dd",
   "metadata": {
    "scrolled": true
   },
   "outputs": [
    {
     "name": "stderr",
     "output_type": "stream",
     "text": [
      "C:\\Users\\Aimee\\anaconda3\\lib\\site-packages\\cobra\\core\\model.py:727: UserWarning: need to pass in a list\n",
      "  warn(\"need to pass in a list\")\n"
     ]
    }
   ],
   "source": [
    "model.remove_reactions('AGPAT141b')\n",
    "model.remove_reactions('AGPAT160b')\n",
    "model.remove_reactions('AGPAT160c')\n",
    "model.remove_reactions('AGPAT160e')\n",
    "\n",
    "\n"
   ]
  },
  {
   "cell_type": "code",
   "execution_count": 152,
   "id": "73b4b2ca-e5ba-4fe7-9a57-805e4e6e2c91",
   "metadata": {},
   "outputs": [
    {
     "data": {
      "text/plain": [
       "2.233501819808473"
      ]
     },
     "execution_count": 152,
     "metadata": {},
     "output_type": "execute_result"
    }
   ],
   "source": [
    "model.slim_optimize()"
   ]
  },
  {
   "cell_type": "code",
   "execution_count": 153,
   "id": "94d2f1d1-f912-4c27-a764-a2c8c61493dd",
   "metadata": {},
   "outputs": [],
   "source": [
    "model.remove_reactions('DASYN160a')\n",
    "model.remove_reactions('DASYN160b')\n",
    "model.remove_reactions('DASYN160c')\n",
    "model.remove_reactions('DASYN160e')\n",
    "model.remove_reactions('DASYN141b')"
   ]
  },
  {
   "cell_type": "code",
   "execution_count": 154,
   "id": "66eb2c4f-5ca4-4826-a576-9a9a0ccadd3d",
   "metadata": {},
   "outputs": [
    {
     "data": {
      "text/plain": [
       "2.2335018198084695"
      ]
     },
     "execution_count": 154,
     "metadata": {},
     "output_type": "execute_result"
    }
   ],
   "source": [
    "model.slim_optimize()"
   ]
  },
  {
   "cell_type": "code",
   "execution_count": 155,
   "id": "bb405845-f003-46bf-a59a-d5b4f8b0ebf3",
   "metadata": {},
   "outputs": [],
   "source": [
    "model.remove_reactions('PGPP141b')\n",
    "model.remove_reactions('PGPP160a')\n",
    "model.remove_reactions('PGPP160b')\n",
    "model.remove_reactions('PGPP160c')\n",
    "model.remove_reactions('PGPP160e')"
   ]
  },
  {
   "cell_type": "code",
   "execution_count": 156,
   "id": "57bfa245-ac58-4370-bc35-ec4c3badbc04",
   "metadata": {},
   "outputs": [
    {
     "data": {
      "text/plain": [
       "2.233501819808467"
      ]
     },
     "execution_count": 156,
     "metadata": {},
     "output_type": "execute_result"
    }
   ],
   "source": [
    "model.slim_optimize()"
   ]
  },
  {
   "cell_type": "code",
   "execution_count": 157,
   "id": "3505755a-e51d-483c-b0f4-c222338ae95d",
   "metadata": {},
   "outputs": [],
   "source": [
    "model.remove_reactions('PGPP160app')\n",
    "model.remove_reactions('PGPP160bpp')\n",
    "model.remove_reactions('PGPP160cpp')\n",
    "model.remove_reactions('PGPP160epp')\n",
    "model.remove_reactions('PGPP141bpp')"
   ]
  },
  {
   "cell_type": "code",
   "execution_count": 158,
   "id": "faf939a7-aaaf-4c8f-a8b2-4116b6abeb7b",
   "metadata": {},
   "outputs": [
    {
     "data": {
      "text/plain": [
       "2.2335018198084664"
      ]
     },
     "execution_count": 158,
     "metadata": {},
     "output_type": "execute_result"
    }
   ],
   "source": [
    "model.slim_optimize()"
   ]
  },
  {
   "cell_type": "code",
   "execution_count": 159,
   "id": "41450e09-4b44-44d3-bfe3-3b1e51a1357d",
   "metadata": {},
   "outputs": [],
   "source": [
    "model.remove_reactions('PGSA160a')\n",
    "model.remove_reactions('PGSA160b')\n",
    "model.remove_reactions('PGSA160c')\n",
    "model.remove_reactions('PGSA160e')\n",
    "model.remove_reactions('PGSA141b')"
   ]
  },
  {
   "cell_type": "code",
   "execution_count": 160,
   "id": "98fed24a-48ff-4b84-8f2f-a736f9fb4a20",
   "metadata": {},
   "outputs": [
    {
     "data": {
      "text/plain": [
       "2.2335018198084677"
      ]
     },
     "execution_count": 160,
     "metadata": {},
     "output_type": "execute_result"
    }
   ],
   "source": [
    "model.slim_optimize()"
   ]
  },
  {
   "cell_type": "code",
   "execution_count": 161,
   "id": "7481452a-c91c-4a90-a743-6f5cc2ea5b8e",
   "metadata": {},
   "outputs": [],
   "source": [
    "model.remove_reactions('PLIPA1A160a')\n",
    "model.remove_reactions('PLIPA1A160b')\n",
    "model.remove_reactions('PLIPA1A160c')\n",
    "model.remove_reactions('PLIPA1A160e')\n",
    "model.remove_reactions('PLIPA1A141b')"
   ]
  },
  {
   "cell_type": "code",
   "execution_count": 162,
   "id": "793b78fb-f4ea-4a14-8d79-052e46a901dc",
   "metadata": {},
   "outputs": [
    {
     "data": {
      "text/plain": [
       "2.2335018198084744"
      ]
     },
     "execution_count": 162,
     "metadata": {},
     "output_type": "execute_result"
    }
   ],
   "source": [
    "model.slim_optimize()"
   ]
  },
  {
   "cell_type": "code",
   "execution_count": 163,
   "id": "f0de067f-3191-413a-992d-e436800481fd",
   "metadata": {},
   "outputs": [],
   "source": [
    "model.remove_reactions('PLIPA1E160a')\n",
    "model.remove_reactions('PLIPA1E160b')\n",
    "model.remove_reactions('PLIPA1E160c')\n",
    "model.remove_reactions('PLIPA1E160e')\n",
    "model.remove_reactions('PLIPA1E141b')"
   ]
  },
  {
   "cell_type": "code",
   "execution_count": 164,
   "id": "d15ce3e4-0c72-42ba-85b9-dd492bbb820d",
   "metadata": {},
   "outputs": [
    {
     "data": {
      "text/plain": [
       "2.233501819808475"
      ]
     },
     "execution_count": 164,
     "metadata": {},
     "output_type": "execute_result"
    }
   ],
   "source": [
    "model.slim_optimize()"
   ]
  },
  {
   "cell_type": "code",
   "execution_count": 165,
   "id": "e0ccf82b-1821-4562-b96e-6f8d2a1307d5",
   "metadata": {},
   "outputs": [],
   "source": [
    "model.remove_reactions('PLIPA1G160a')\n",
    "model.remove_reactions('PLIPA1G160b')\n",
    "model.remove_reactions('PLIPA1G160c')\n",
    "model.remove_reactions('PLIPA1G160e')\n",
    "model.remove_reactions('PLIPA1G141b')"
   ]
  },
  {
   "cell_type": "code",
   "execution_count": 166,
   "id": "1885ac49-9388-433a-9eb7-5aa4ae86a586",
   "metadata": {},
   "outputs": [
    {
     "data": {
      "text/plain": [
       "2.2335018198084593"
      ]
     },
     "execution_count": 166,
     "metadata": {},
     "output_type": "execute_result"
    }
   ],
   "source": [
    "model.slim_optimize()"
   ]
  },
  {
   "cell_type": "code",
   "execution_count": 167,
   "id": "6704e2c4-b37b-405f-9793-4b1757d2a635",
   "metadata": {},
   "outputs": [],
   "source": [
    "model.remove_reactions('PSD160a')\n",
    "model.remove_reactions('PSD160b')\n",
    "model.remove_reactions('PSD160c')\n",
    "model.remove_reactions('PSD160e')\n",
    "model.remove_reactions('PSD141b')"
   ]
  },
  {
   "cell_type": "code",
   "execution_count": 168,
   "id": "496f2669-3b12-422f-8033-93ef485dc049",
   "metadata": {},
   "outputs": [
    {
     "data": {
      "text/plain": [
       "2.2335018198084695"
      ]
     },
     "execution_count": 168,
     "metadata": {},
     "output_type": "execute_result"
    }
   ],
   "source": [
    "model.slim_optimize()"
   ]
  },
  {
   "cell_type": "code",
   "execution_count": 169,
   "id": "862063dc-c5bb-4d29-91d0-3ed6c301d40c",
   "metadata": {},
   "outputs": [],
   "source": [
    "model.remove_reactions('PSSA160a')\n",
    "model.remove_reactions('PSSA160b')\n",
    "model.remove_reactions('PSSA160c')\n",
    "model.remove_reactions('PSSA160e')\n",
    "model.remove_reactions('PSSA141b')"
   ]
  },
  {
   "cell_type": "code",
   "execution_count": 170,
   "id": "5899a227-7f3e-4bf0-accc-f03930f0822c",
   "metadata": {},
   "outputs": [
    {
     "data": {
      "text/plain": [
       "2.2335018198084753"
      ]
     },
     "execution_count": 170,
     "metadata": {},
     "output_type": "execute_result"
    }
   ],
   "source": [
    "model.slim_optimize()"
   ]
  },
  {
   "cell_type": "code",
   "execution_count": 171,
   "id": "4cdb11f7-0890-4ec0-b9dd-16a29bebea3b",
   "metadata": {},
   "outputs": [],
   "source": [
    "model.remove_reactions('2AGPA181atipp')"
   ]
  },
  {
   "cell_type": "code",
   "execution_count": 172,
   "id": "5a1ae1ac-e502-49bf-9de8-05788de1a732",
   "metadata": {},
   "outputs": [
    {
     "data": {
      "text/plain": [
       "2.233501819808475"
      ]
     },
     "execution_count": 172,
     "metadata": {},
     "output_type": "execute_result"
    }
   ],
   "source": [
    "model.slim_optimize()"
   ]
  },
  {
   "cell_type": "code",
   "execution_count": 173,
   "id": "f354618a-b24d-4c05-97b4-0cb94260989d",
   "metadata": {},
   "outputs": [],
   "source": [
    "model.remove_reactions('PA141babcpp')\n",
    "model.remove_reactions('PA160aabcpp')\n",
    "model.remove_reactions('PA160babcpp')\n",
    "model.remove_reactions('PA160cabcpp')\n",
    "model.remove_reactions('PA160eabcpp')\n",
    "model.remove_reactions('PE160aabcpp')\n",
    "model.remove_reactions('PE160babcpp')\n",
    "model.remove_reactions('PE160cabcpp')\n",
    "model.remove_reactions('PE160eabcpp')\n",
    "model.remove_reactions('PG141babcpp')\n",
    "model.remove_reactions('PG160aabcpp')\n",
    "model.remove_reactions('PG160babcpp')\n",
    "model.remove_reactions('PG160cabcpp')\n",
    "model.remove_reactions('PG160eabcpp')"
   ]
  },
  {
   "cell_type": "code",
   "execution_count": 174,
   "id": "8339a780-c85d-4074-9d81-8fdc9faab98c",
   "metadata": {},
   "outputs": [],
   "source": [
    "model.remove_reactions('PGP141babcpp')\n",
    "model.remove_reactions('PGP160aabcpp')\n",
    "model.remove_reactions('PGP160babcpp')\n",
    "model.remove_reactions('PGP160cabcpp')\n",
    "model.remove_reactions('PGP160eabcpp')"
   ]
  },
  {
   "cell_type": "code",
   "execution_count": 175,
   "id": "385f133f-2d89-4dfe-87f3-408f9542deee",
   "metadata": {},
   "outputs": [
    {
     "data": {
      "text/plain": [
       "2.233501819808467"
      ]
     },
     "execution_count": 175,
     "metadata": {},
     "output_type": "execute_result"
    }
   ],
   "source": [
    "model.slim_optimize()"
   ]
  },
  {
   "cell_type": "code",
   "execution_count": 176,
   "id": "0c9fb6a6-5911-4fea-b11d-28a35b17ea9f",
   "metadata": {
    "scrolled": true
   },
   "outputs": [
    {
     "name": "stdout",
     "output_type": "stream",
     "text": [
      "{'charge': -2.0, 'H': -2.0}\n"
     ]
    },
    {
     "data": {
      "text/html": [
       "\n",
       "        <table>\n",
       "            <tr>\n",
       "                <td><strong>Reaction identifier</strong></td><td>GARFT2</td>\n",
       "            </tr><tr>\n",
       "                <td><strong>Name</strong></td><td>R_GARFT2</td>\n",
       "            </tr><tr>\n",
       "                <td><strong>Memory address</strong></td>\n",
       "                <td>0x020f45ddd7c0</td>\n",
       "            </tr><tr>\n",
       "                <td><strong>Stoichiometry</strong></td>\n",
       "                <td>\n",
       "                    <p style='text-align:right'>gar_c + h2o_c + methf_c --> fgam_c + thf_c</p>\n",
       "                    <p style='text-align:right'>N1-5-Phospho-D-ribosyl-glycinamide + H2O + 5-10-Methenyltetrahydrofolate --> N2-Formyl-N1-5-phospho-D-ribosyl-glycinamide + 5-6-7-8-Tetrahydrofolate</p>\n",
       "                </td>\n",
       "            </tr><tr>\n",
       "                <td><strong>GPR</strong></td><td>NGO1224</td>\n",
       "            </tr><tr>\n",
       "                <td><strong>Lower bound</strong></td><td>0.0</td>\n",
       "            </tr><tr>\n",
       "                <td><strong>Upper bound</strong></td><td>1000.0</td>\n",
       "            </tr>\n",
       "        </table>\n",
       "        "
      ],
      "text/plain": [
       "<Reaction GARFT2 at 0x20f45ddd7c0>"
      ]
     },
     "execution_count": 176,
     "metadata": {},
     "output_type": "execute_result"
    }
   ],
   "source": [
    "#GARFT2\n",
    "r = model.reactions.get_by_id('GARFT2')\n",
    "print(r.check_mass_balance())\n",
    "r"
   ]
  },
  {
   "cell_type": "code",
   "execution_count": 177,
   "id": "60e2a131-5b6f-4f84-adb4-3cdb35adea02",
   "metadata": {
    "scrolled": true
   },
   "outputs": [
    {
     "name": "stdout",
     "output_type": "stream",
     "text": [
      "GARFT2: gar_c + h2o_c + methf_c --> fgam_c + 2.0 h_c + thf_c\n",
      "{}\n"
     ]
    }
   ],
   "source": [
    "h_c = model.metabolites.get_by_id('h_c')\n",
    "\n",
    "r.add_metabolites({\n",
    "    h_c: 2.0,\n",
    "})\n",
    "\n",
    "print(r)\n",
    "print(r.check_mass_balance())"
   ]
  },
  {
   "cell_type": "markdown",
   "id": "a0ecc511-df45-451d-ac6b-6bb3b2b40e71",
   "metadata": {},
   "source": [
    "### Curate LOS synthesis"
   ]
  },
  {
   "cell_type": "code",
   "execution_count": 178,
   "id": "65e73251-9c9d-4300-b6eb-9556d6b350b8",
   "metadata": {
    "scrolled": true
   },
   "outputs": [],
   "source": [
    "#rename LPS_NM to LOS_gc\n",
    "\n",
    "model.metabolites.get_by_id('lps_NM_c').id='los_GC_c'"
   ]
  },
  {
   "cell_type": "code",
   "execution_count": 179,
   "id": "173f3b75-2852-44ec-9eed-be9605b7fd97",
   "metadata": {
    "scrolled": true
   },
   "outputs": [],
   "source": [
    "model.metabolites.get_by_id('los_GC_c').name='los_GC_c'"
   ]
  },
  {
   "cell_type": "code",
   "execution_count": 180,
   "id": "d1675310-3bbb-4d28-b74f-db8cf2ed1c71",
   "metadata": {
    "scrolled": true
   },
   "outputs": [],
   "source": [
    "#rename LPS_NM to LOS_GC\n",
    "#Siaylation is not required for synthesis of LOS. Changed the \"LOS\" \n",
    "# designation to the the final unsialylated component. Renamed the sialylated LOS to \"Sialylated LOS\".\n",
    "model.metabolites.get_by_id('los_GC_c').id='sialylated_los_GC_c'\n",
    "model.metabolites.get_by_id('sialylated_los_GC_c').name='sialylated_los_GC_c'\n",
    "\n",
    "model.metabolites.get_by_id('galgnagalicolipa_c').id='los_GC_c'\n",
    "model.metabolites.get_by_id('los_GC_c').name='los_GC_c'"
   ]
  },
  {
   "cell_type": "code",
   "execution_count": 181,
   "id": "45d99b2d-96cf-4143-a2b4-a17aacf6b34b",
   "metadata": {
    "scrolled": true
   },
   "outputs": [],
   "source": [
    "#Remove export of LOS and associated extracellular LOS components.\n",
    "model.remove_reactions('LPS3tex')\n",
    "model.remove_reactions('LPS8tex')\n",
    "\n",
    "model.remove_metabolites(model.metabolites.get_by_id('galicolipa_e'))\n",
    "model.remove_metabolites(model.metabolites.get_by_id('lps_NM_e'))"
   ]
  },
  {
   "cell_type": "code",
   "execution_count": 182,
   "id": "58b71f73-904c-4c27-bc31-31021e3473a2",
   "metadata": {
    "scrolled": true
   },
   "outputs": [
    {
     "name": "stdout",
     "output_type": "stream",
     "text": [
      "GLCTR1: peagnahhlipa_c + udpg_c --> h_c + icolipa_c + udp_c\n",
      "{'charge': -5.0, 'H': 2.0, 'C': 2.0, 'N': -1.0, 'O': 7.0, 'P': -1.0}\n",
      "SIALT1: cmpacna_c + los_GC_c --> cmp_c + sialylated_los_GC_c\n",
      "{'C': -11.0, 'H': -18.0, 'N': -1.0, 'O': -8.0}\n"
     ]
    }
   ],
   "source": [
    "#For GLCTR1 - Formula for icolipa_c is incorrect. When glc is added to peagnahhlipa_c, the previous reaction did not add the oxygens. \n",
    "#The corresponding reactions in LOS synthesis all are also missing these 5 oxygens. This is corrected here.\n",
    "#Used structure diagrams here PMID: 11496013 and here PMID: 30873172 to determine proper formulas. \n",
    "\n",
    "#The reaction GLCTR1 corresponds to a bigg ID for a slightly different reaction in E.coli LPS biosynthesis. \n",
    "#This was left in place, but may need to be changed at a later time to avoid confusion.\n",
    "\n",
    "#Additionally for SIALT1 - LPS is sialylated, the NeuAC was not actually added to the structure for LPS.  \n",
    "#This is corrected here. Note this sialylation is on the alpha chain of LOS only, which is more common. Not on the beta chain.\n",
    "\n",
    "r1 = model.reactions.get_by_id('GLCTR1')\n",
    "r2 = model.reactions.get_by_id('SIALT1')\n",
    "print(r1)\n",
    "print(r1.check_mass_balance())\n",
    "print(r2)\n",
    "print(r2.check_mass_balance())"
   ]
  },
  {
   "cell_type": "code",
   "execution_count": 183,
   "id": "9030eada-647c-40a1-8f5e-d9594a484926",
   "metadata": {
    "scrolled": true
   },
   "outputs": [
    {
     "name": "stdout",
     "output_type": "stream",
     "text": [
      "GLCTR2: gnahhlipa_c + udpg_c --> glcgnahhlipa_c + h_c + udp_c\n",
      "{'charge': 5.0}\n"
     ]
    }
   ],
   "source": [
    "#The more common isoform for Gc is 4HEXG. This has the addition of a glc on both the alpha and the beta chain.\n",
    "#The NM model did not have this glc on the beta chain and instead has a PEA. The PEA and glc on the beta chain are mutually exclusive. \n",
    "# Added reaction GLCTR2 to add a glc to the beta chain. \n",
    "\n",
    "glcgnahhlipa_c= Metabolite(\n",
    "    'glcgnahhlipa_c',\n",
    "    formula='C132H232N3O61P2',\n",
    "    name='M_glcgnahhlipa_c',\n",
    "    compartment='cytosol')\n",
    "\n",
    "udpg_c= model.metabolites.get_by_id('udpg_c')\n",
    "udp_c = model.metabolites.get_by_id('udp_c')\n",
    "h_c = model.metabolites.get_by_id('h_c')\n",
    "gnahhlipa_c=model.metabolites.get_by_id('gnahhlipa_c')\n",
    "\n",
    "\n",
    "\n",
    "GLCTR2 = cobra.Reaction('GLCTR2')\n",
    "GLCTR2.notes = {}\n",
    "GLCTR2.name = 'R_GLCTR2'\n",
    "GLCTR2.gene_reaction_rule = 'NGO2072'\n",
    "GLCTR2.lower_bound = 0.\n",
    "GLCTR2.upper_bound = 1000.\n",
    "GLCTR2.add_metabolites({\n",
    "    gnahhlipa_c: -1.0,\n",
    "    glcgnahhlipa_c: 1.0,\n",
    "    udpg_c: -1.0,\n",
    "    udp_c: 1.0,\n",
    "    h_c: 1,\n",
    "})\n",
    "\n",
    "model.add_reactions([GLCTR2])\n",
    "\n",
    "r= model.reactions.get_by_id('GLCTR2')\n",
    "print(r)\n",
    "print(r.check_mass_balance())"
   ]
  },
  {
   "cell_type": "code",
   "execution_count": 184,
   "id": "5a38e2c4-66c3-4b10-a1d0-120ae37da73b",
   "metadata": {
    "scrolled": true
   },
   "outputs": [],
   "source": [
    "#Remove reaction for addition of phosphoethanolamine to beta chain\n",
    "model.remove_reactions('PEAT1')"
   ]
  },
  {
   "cell_type": "code",
   "execution_count": 185,
   "id": "0e1dcb3e-a3f1-4c8b-8af5-e9918539a6fe",
   "metadata": {
    "scrolled": true,
    "tags": []
   },
   "outputs": [],
   "source": [
    "#Add Gal to end of Beta chain to complete that segment of 4HEXG by adding reaction \n",
    "galglcgnahhlipa_c= Metabolite(\n",
    "    'galglcgnahhlipa_c',\n",
    "    formula='C138H242N3O66P2',\n",
    "    name='M_galglcgnahhlipa_c',\n",
    "    compartment='cytosol')\n",
    "\n",
    "udpgal_c= model.metabolites.get_by_id('udpgal_c')\n",
    "udp_c = model.metabolites.get_by_id('udp_c')\n",
    "h_c = model.metabolites.get_by_id('h_c')\n",
    "glcgnahhlipa_c=model.metabolites.get_by_id('glcgnahhlipa_c')\n",
    "\n",
    "\n",
    "\n",
    "GALT3 = cobra.Reaction('GALT3')\n",
    "GALT3.notes = {}\n",
    "GALT3.name = 'R_GALT3'\n",
    "GALT3.gene_reaction_rule = 'NGO2072'\n",
    "GALT3.lower_bound = 0.\n",
    "GALT3.upper_bound = 1000.\n",
    "GALT3.add_metabolites({\n",
    "    glcgnahhlipa_c: -1.0,\n",
    "    galglcgnahhlipa_c: 1.0,\n",
    "    udpg_c: -1.0,\n",
    "    udp_c: 1.0,\n",
    "    h_c: 1,\n",
    "})\n",
    "\n",
    "model.add_reactions([GALT3])\n",
    "\n"
   ]
  },
  {
   "cell_type": "code",
   "execution_count": 186,
   "id": "5153537e-ec51-4688-80ab-940cb8beb854",
   "metadata": {
    "scrolled": true
   },
   "outputs": [
    {
     "name": "stdout",
     "output_type": "stream",
     "text": [
      "GALT3: glcgnahhlipa_c + udpg_c --> galglcgnahhlipa_c + h_c + udp_c\n",
      "{}\n"
     ]
    }
   ],
   "source": [
    "r=model.reactions.get_by_id('GALT3')\n",
    "print(r)\n",
    "print(r.check_mass_balance())"
   ]
  },
  {
   "cell_type": "code",
   "execution_count": 187,
   "id": "07e97738-430f-49cd-9ff2-17584563b1ea",
   "metadata": {
    "scrolled": true
   },
   "outputs": [],
   "source": [
    "#Create icolipa from the newly created 4HEXG Beta chain.\n",
    "r = model.reactions.get_by_id('GLCTR1')\n",
    "\n",
    "peagnahhlipa_c=model.metabolites.get_by_id('peagnahhlipa_c')\n",
    "\n",
    "r.add_metabolites({\n",
    "    peagnahhlipa_c: 1.0,\n",
    "    galglcgnahhlipa_c: -1.0,\n",
    "})\n"
   ]
  },
  {
   "cell_type": "code",
   "execution_count": 188,
   "id": "d01f47ac-4798-40ae-91cb-9ff83dfd19b8",
   "metadata": {
    "scrolled": true
   },
   "outputs": [
    {
     "name": "stdout",
     "output_type": "stream",
     "text": [
      "GLCTR1: galglcgnahhlipa_c + udpg_c --> h_c + icolipa_c + udp_c\n",
      "{'charge': -5.0}\n"
     ]
    }
   ],
   "source": [
    "#Correct the icolipa formula and formulas for the alphachain components to reflect the new 4HEXG beta chain\n",
    "model.metabolites.get_by_id('icolipa_c').formula= 'C144H252N3O71P2'   \n",
    "model.metabolites.get_by_id('galicolipa_c').formula= 'C150H262N3O76P2'\n",
    "model.metabolites.get_by_id('gnagalicolipa_c').formula= 'C158H276N4O81P2'\n",
    "model.metabolites.get_by_id('los_GC_c').formula= 'C164H286N4O86P2'\n",
    "\n",
    "model.metabolites.get_by_id('sialylated_los_GC_c').formula= 'C175H304N5O94P2'\n",
    "\n",
    "print(r)\n",
    "print(r.check_mass_balance())\n"
   ]
  },
  {
   "cell_type": "code",
   "execution_count": 189,
   "id": "7358041a-9e98-4e5d-9c87-041ed1ac11af",
   "metadata": {},
   "outputs": [],
   "source": [
    "#Add metabolite charges for los synthesis\n",
    "model.metabolites.galglcgnahhlipa_c.charge=-5\n",
    "model.metabolites.peagnahhlipa_c.charge=-10\n",
    "model.metabolites.sialylated_los_GC_c.charge=-4\n",
    "model.metabolites.los_GC_c.charge=-4\n",
    "model.metabolites.galicolipa_c.charge=-5\n",
    "model.metabolites.gnagalicolipa_c.charge=-4\n",
    "model.metabolites.icolipa_c.charge=-5\n",
    "model.metabolites.glcgnahhlipa_c.charge=-5\n",
    "model.metabolites.gnahhlipa_c.charge=-5\n",
    "model.metabolites.glcgnahhlipa_c.charge=-5\n",
    "\n",
    "model.metabolites.gnahhlipa_c.charge=-5"
   ]
  },
  {
   "cell_type": "code",
   "execution_count": 190,
   "id": "5a42e6ca-9cd3-4e9b-a3be-e02104e906e6",
   "metadata": {
    "scrolled": true
   },
   "outputs": [
    {
     "name": "stdout",
     "output_type": "stream",
     "text": [
      "{}\n"
     ]
    },
    {
     "data": {
      "text/html": [
       "\n",
       "        <table>\n",
       "            <tr>\n",
       "                <td><strong>Reaction identifier</strong></td><td>SIALT1</td>\n",
       "            </tr><tr>\n",
       "                <td><strong>Name</strong></td><td>R_SIALT1</td>\n",
       "            </tr><tr>\n",
       "                <td><strong>Memory address</strong></td>\n",
       "                <td>0x020f46053fd0</td>\n",
       "            </tr><tr>\n",
       "                <td><strong>Stoichiometry</strong></td>\n",
       "                <td>\n",
       "                    <p style='text-align:right'>cmpacna_c + los_GC_c --> cmp_c + sialylated_los_GC_c</p>\n",
       "                    <p style='text-align:right'>CMP-N-acetyl neuraminate + los_GC_c --> CMP + sialylated_los_GC_c</p>\n",
       "                </td>\n",
       "            </tr><tr>\n",
       "                <td><strong>GPR</strong></td><td>NGO1081</td>\n",
       "            </tr><tr>\n",
       "                <td><strong>Lower bound</strong></td><td>0.0</td>\n",
       "            </tr><tr>\n",
       "                <td><strong>Upper bound</strong></td><td>1000.0</td>\n",
       "            </tr>\n",
       "        </table>\n",
       "        "
      ],
      "text/plain": [
       "<Reaction SIALT1 at 0x20f46053fd0>"
      ]
     },
     "execution_count": 190,
     "metadata": {},
     "output_type": "execute_result"
    }
   ],
   "source": [
    "#Check all the steps of LOS synthesis to ensure its balanced properly. \n",
    "#SIALT1\n",
    "r = model.reactions.get_by_id('SIALT1')\n",
    "print(r.check_mass_balance())\n",
    "r"
   ]
  },
  {
   "cell_type": "code",
   "execution_count": 191,
   "id": "f03a498e-6685-4f1d-af69-8103f63981e6",
   "metadata": {
    "scrolled": true
   },
   "outputs": [
    {
     "name": "stdout",
     "output_type": "stream",
     "text": [
      "{}\n"
     ]
    },
    {
     "data": {
      "text/html": [
       "\n",
       "        <table>\n",
       "            <tr>\n",
       "                <td><strong>Reaction identifier</strong></td><td>GALT2</td>\n",
       "            </tr><tr>\n",
       "                <td><strong>Name</strong></td><td>R_GALT2</td>\n",
       "            </tr><tr>\n",
       "                <td><strong>Memory address</strong></td>\n",
       "                <td>0x020f45dd0bb0</td>\n",
       "            </tr><tr>\n",
       "                <td><strong>Stoichiometry</strong></td>\n",
       "                <td>\n",
       "                    <p style='text-align:right'>gnagalicolipa_c + udpgal_c --> h_c + los_GC_c + udp_c</p>\n",
       "                    <p style='text-align:right'>glcNAc-galactosyl-inner-core-oligosaccharide-lipid-A + UDPgalactose --> H + los_GC_c + UDP</p>\n",
       "                </td>\n",
       "            </tr><tr>\n",
       "                <td><strong>GPR</strong></td><td>NGO2156</td>\n",
       "            </tr><tr>\n",
       "                <td><strong>Lower bound</strong></td><td>0.0</td>\n",
       "            </tr><tr>\n",
       "                <td><strong>Upper bound</strong></td><td>1000.0</td>\n",
       "            </tr>\n",
       "        </table>\n",
       "        "
      ],
      "text/plain": [
       "<Reaction GALT2 at 0x20f45dd0bb0>"
      ]
     },
     "execution_count": 191,
     "metadata": {},
     "output_type": "execute_result"
    }
   ],
   "source": [
    "#GALT2\n",
    "r = model.reactions.get_by_id('GALT2')\n",
    "print(r.check_mass_balance())\n",
    "r"
   ]
  },
  {
   "cell_type": "code",
   "execution_count": 192,
   "id": "08c805ce-b43a-46fb-944c-2991eb7f9076",
   "metadata": {
    "scrolled": true
   },
   "outputs": [
    {
     "name": "stdout",
     "output_type": "stream",
     "text": [
      "{}\n"
     ]
    },
    {
     "data": {
      "text/html": [
       "\n",
       "        <table>\n",
       "            <tr>\n",
       "                <td><strong>Reaction identifier</strong></td><td>GNAT2</td>\n",
       "            </tr><tr>\n",
       "                <td><strong>Name</strong></td><td>R_GNAT2</td>\n",
       "            </tr><tr>\n",
       "                <td><strong>Memory address</strong></td>\n",
       "                <td>0x020f45e0e310</td>\n",
       "            </tr><tr>\n",
       "                <td><strong>Stoichiometry</strong></td>\n",
       "                <td>\n",
       "                    <p style='text-align:right'>galicolipa_c + uacgam_c --> gnagalicolipa_c + udp_c</p>\n",
       "                    <p style='text-align:right'>galactosyl-inner-core-oligosaccharide-lipid-A, also mature lps, immunotype 8 + UDP-N-acetyl-D-glucosamine --> glcNAc-galactosyl-inner-core-oligosaccharide-lipid-A + UDP</p>\n",
       "                </td>\n",
       "            </tr><tr>\n",
       "                <td><strong>GPR</strong></td><td>NGO2158</td>\n",
       "            </tr><tr>\n",
       "                <td><strong>Lower bound</strong></td><td>0.0</td>\n",
       "            </tr><tr>\n",
       "                <td><strong>Upper bound</strong></td><td>1000.0</td>\n",
       "            </tr>\n",
       "        </table>\n",
       "        "
      ],
      "text/plain": [
       "<Reaction GNAT2 at 0x20f45e0e310>"
      ]
     },
     "execution_count": 192,
     "metadata": {},
     "output_type": "execute_result"
    }
   ],
   "source": [
    "#GNAT2\n",
    "r = model.reactions.get_by_id('GNAT2')\n",
    "print(r.check_mass_balance())\n",
    "r"
   ]
  },
  {
   "cell_type": "code",
   "execution_count": 193,
   "id": "fbde3c66-76e1-4a58-aaf2-1fe1d5d7913e",
   "metadata": {
    "scrolled": true
   },
   "outputs": [
    {
     "name": "stdout",
     "output_type": "stream",
     "text": [
      "{}\n"
     ]
    },
    {
     "data": {
      "text/html": [
       "\n",
       "        <table>\n",
       "            <tr>\n",
       "                <td><strong>Reaction identifier</strong></td><td>GALT1</td>\n",
       "            </tr><tr>\n",
       "                <td><strong>Name</strong></td><td>R_GALT1</td>\n",
       "            </tr><tr>\n",
       "                <td><strong>Memory address</strong></td>\n",
       "                <td>0x020f45dd0af0</td>\n",
       "            </tr><tr>\n",
       "                <td><strong>Stoichiometry</strong></td>\n",
       "                <td>\n",
       "                    <p style='text-align:right'>icolipa_c + udpgal_c --> galicolipa_c + h_c + udp_c</p>\n",
       "                    <p style='text-align:right'>inner-core-oligosaccharide-lipid-A + UDPgalactose --> galactosyl-inner-core-oligosaccharide-lipid-A, also mature lps, immunotype 8 + H + UDP</p>\n",
       "                </td>\n",
       "            </tr><tr>\n",
       "                <td><strong>GPR</strong></td><td>NGO2159</td>\n",
       "            </tr><tr>\n",
       "                <td><strong>Lower bound</strong></td><td>0.0</td>\n",
       "            </tr><tr>\n",
       "                <td><strong>Upper bound</strong></td><td>1000.0</td>\n",
       "            </tr>\n",
       "        </table>\n",
       "        "
      ],
      "text/plain": [
       "<Reaction GALT1 at 0x20f45dd0af0>"
      ]
     },
     "execution_count": 193,
     "metadata": {},
     "output_type": "execute_result"
    }
   ],
   "source": [
    "#GALT1\n",
    "r = model.reactions.get_by_id('GALT1')\n",
    "print(r.check_mass_balance())\n",
    "r"
   ]
  },
  {
   "cell_type": "code",
   "execution_count": 194,
   "id": "e761f48f-3589-4506-ad02-6e7e96f442b6",
   "metadata": {
    "scrolled": true
   },
   "outputs": [
    {
     "name": "stdout",
     "output_type": "stream",
     "text": [
      "{}\n"
     ]
    },
    {
     "data": {
      "text/html": [
       "\n",
       "        <table>\n",
       "            <tr>\n",
       "                <td><strong>Reaction identifier</strong></td><td>GALT3</td>\n",
       "            </tr><tr>\n",
       "                <td><strong>Name</strong></td><td>R_GALT3</td>\n",
       "            </tr><tr>\n",
       "                <td><strong>Memory address</strong></td>\n",
       "                <td>0x020f45b2a670</td>\n",
       "            </tr><tr>\n",
       "                <td><strong>Stoichiometry</strong></td>\n",
       "                <td>\n",
       "                    <p style='text-align:right'>glcgnahhlipa_c + udpg_c --> galglcgnahhlipa_c + h_c + udp_c</p>\n",
       "                    <p style='text-align:right'>M_glcgnahhlipa_c + UDPglucose --> M_galglcgnahhlipa_c + H + UDP</p>\n",
       "                </td>\n",
       "            </tr><tr>\n",
       "                <td><strong>GPR</strong></td><td>NGO2072</td>\n",
       "            </tr><tr>\n",
       "                <td><strong>Lower bound</strong></td><td>0.0</td>\n",
       "            </tr><tr>\n",
       "                <td><strong>Upper bound</strong></td><td>1000.0</td>\n",
       "            </tr>\n",
       "        </table>\n",
       "        "
      ],
      "text/plain": [
       "<Reaction GALT3 at 0x20f45b2a670>"
      ]
     },
     "execution_count": 194,
     "metadata": {},
     "output_type": "execute_result"
    }
   ],
   "source": [
    "#GALT3\n",
    "r = model.reactions.get_by_id('GALT3')\n",
    "print(r.check_mass_balance())\n",
    "r"
   ]
  },
  {
   "cell_type": "code",
   "execution_count": 195,
   "id": "2578d5a8-9326-484a-8a1a-9be3f9f80dec",
   "metadata": {
    "scrolled": true
   },
   "outputs": [
    {
     "name": "stdout",
     "output_type": "stream",
     "text": [
      "{}\n"
     ]
    },
    {
     "data": {
      "text/html": [
       "\n",
       "        <table>\n",
       "            <tr>\n",
       "                <td><strong>Reaction identifier</strong></td><td>GLCTR2</td>\n",
       "            </tr><tr>\n",
       "                <td><strong>Name</strong></td><td>R_GLCTR2</td>\n",
       "            </tr><tr>\n",
       "                <td><strong>Memory address</strong></td>\n",
       "                <td>0x020f45b2a730</td>\n",
       "            </tr><tr>\n",
       "                <td><strong>Stoichiometry</strong></td>\n",
       "                <td>\n",
       "                    <p style='text-align:right'>gnahhlipa_c + udpg_c --> glcgnahhlipa_c + h_c + udp_c</p>\n",
       "                    <p style='text-align:right'>glcNAc-heptosyl-heptosyl-kdo2-lipidA + UDPglucose --> M_glcgnahhlipa_c + H + UDP</p>\n",
       "                </td>\n",
       "            </tr><tr>\n",
       "                <td><strong>GPR</strong></td><td>NGO2072</td>\n",
       "            </tr><tr>\n",
       "                <td><strong>Lower bound</strong></td><td>0.0</td>\n",
       "            </tr><tr>\n",
       "                <td><strong>Upper bound</strong></td><td>1000.0</td>\n",
       "            </tr>\n",
       "        </table>\n",
       "        "
      ],
      "text/plain": [
       "<Reaction GLCTR2 at 0x20f45b2a730>"
      ]
     },
     "execution_count": 195,
     "metadata": {},
     "output_type": "execute_result"
    }
   ],
   "source": [
    "#GLCTR2\n",
    "r = model.reactions.get_by_id('GLCTR2')\n",
    "print(r.check_mass_balance())\n",
    "r"
   ]
  },
  {
   "cell_type": "code",
   "execution_count": 196,
   "id": "adfaf173-3ff8-4c75-b5d3-ea4f5b48bd22",
   "metadata": {
    "scrolled": true
   },
   "outputs": [
    {
     "name": "stdout",
     "output_type": "stream",
     "text": [
      "{}\n"
     ]
    },
    {
     "data": {
      "text/html": [
       "\n",
       "        <table>\n",
       "            <tr>\n",
       "                <td><strong>Reaction identifier</strong></td><td>GLCTR1</td>\n",
       "            </tr><tr>\n",
       "                <td><strong>Name</strong></td><td>R_GLCTR1</td>\n",
       "            </tr><tr>\n",
       "                <td><strong>Memory address</strong></td>\n",
       "                <td>0x020f45dea850</td>\n",
       "            </tr><tr>\n",
       "                <td><strong>Stoichiometry</strong></td>\n",
       "                <td>\n",
       "                    <p style='text-align:right'>galglcgnahhlipa_c + udpg_c --> h_c + icolipa_c + udp_c</p>\n",
       "                    <p style='text-align:right'>M_galglcgnahhlipa_c + UDPglucose --> H + inner-core-oligosaccharide-lipid-A + UDP</p>\n",
       "                </td>\n",
       "            </tr><tr>\n",
       "                <td><strong>GPR</strong></td><td>NGO1353</td>\n",
       "            </tr><tr>\n",
       "                <td><strong>Lower bound</strong></td><td>0.0</td>\n",
       "            </tr><tr>\n",
       "                <td><strong>Upper bound</strong></td><td>1000.0</td>\n",
       "            </tr>\n",
       "        </table>\n",
       "        "
      ],
      "text/plain": [
       "<Reaction GLCTR1 at 0x20f45dea850>"
      ]
     },
     "execution_count": 196,
     "metadata": {},
     "output_type": "execute_result"
    }
   ],
   "source": [
    "#GLCTR1\n",
    "r = model.reactions.get_by_id('GLCTR1')\n",
    "print(r.check_mass_balance())\n",
    "r"
   ]
  },
  {
   "cell_type": "code",
   "execution_count": 197,
   "id": "7b95e28b-7050-4726-8713-b18064093933",
   "metadata": {
    "scrolled": true
   },
   "outputs": [
    {
     "name": "stdout",
     "output_type": "stream",
     "text": [
      "{}\n"
     ]
    },
    {
     "data": {
      "text/html": [
       "\n",
       "        <table>\n",
       "            <tr>\n",
       "                <td><strong>Reaction identifier</strong></td><td>GNAT1</td>\n",
       "            </tr><tr>\n",
       "                <td><strong>Name</strong></td><td>R_GNAT1</td>\n",
       "            </tr><tr>\n",
       "                <td><strong>Memory address</strong></td>\n",
       "                <td>0x020f45e0ef70</td>\n",
       "            </tr><tr>\n",
       "                <td><strong>Stoichiometry</strong></td>\n",
       "                <td>\n",
       "                    <p style='text-align:right'>hhlipa_c + uacgam_c --> gnahhlipa_c + udp_c</p>\n",
       "                    <p style='text-align:right'>heptosyl-heptosyl-kdo2-lipidA + UDP-N-acetyl-D-glucosamine --> glcNAc-heptosyl-heptosyl-kdo2-lipidA + UDP</p>\n",
       "                </td>\n",
       "            </tr><tr>\n",
       "                <td><strong>GPR</strong></td><td>NGO1354</td>\n",
       "            </tr><tr>\n",
       "                <td><strong>Lower bound</strong></td><td>0.0</td>\n",
       "            </tr><tr>\n",
       "                <td><strong>Upper bound</strong></td><td>1000.0</td>\n",
       "            </tr>\n",
       "        </table>\n",
       "        "
      ],
      "text/plain": [
       "<Reaction GNAT1 at 0x20f45e0ef70>"
      ]
     },
     "execution_count": 197,
     "metadata": {},
     "output_type": "execute_result"
    }
   ],
   "source": [
    "#GNAT1\n",
    "r = model.reactions.get_by_id('GNAT1')\n",
    "print(r.check_mass_balance())\n",
    "r"
   ]
  },
  {
   "cell_type": "code",
   "execution_count": 198,
   "id": "a3f53233-6bcc-468d-988b-424605907fc7",
   "metadata": {
    "scrolled": true
   },
   "outputs": [
    {
     "name": "stdout",
     "output_type": "stream",
     "text": [
      "{}\n"
     ]
    },
    {
     "data": {
      "text/html": [
       "\n",
       "        <table>\n",
       "            <tr>\n",
       "                <td><strong>Reaction identifier</strong></td><td>HEPT2</td>\n",
       "            </tr><tr>\n",
       "                <td><strong>Name</strong></td><td>R_HEPT2</td>\n",
       "            </tr><tr>\n",
       "                <td><strong>Memory address</strong></td>\n",
       "                <td>0x020f45e34610</td>\n",
       "            </tr><tr>\n",
       "                <td><strong>Stoichiometry</strong></td>\n",
       "                <td>\n",
       "                    <p style='text-align:right'>adphep_LD_c + hlipa_c --> adp_c + h_c + hhlipa_c</p>\n",
       "                    <p style='text-align:right'>ADP-L-glycero-D-manno-heptose + heptosyl-kdo2-lipidA --> ADP + H + heptosyl-heptosyl-kdo2-lipidA</p>\n",
       "                </td>\n",
       "            </tr><tr>\n",
       "                <td><strong>GPR</strong></td><td>NGO0987</td>\n",
       "            </tr><tr>\n",
       "                <td><strong>Lower bound</strong></td><td>0.0</td>\n",
       "            </tr><tr>\n",
       "                <td><strong>Upper bound</strong></td><td>1000.0</td>\n",
       "            </tr>\n",
       "        </table>\n",
       "        "
      ],
      "text/plain": [
       "<Reaction HEPT2 at 0x20f45e34610>"
      ]
     },
     "execution_count": 198,
     "metadata": {},
     "output_type": "execute_result"
    }
   ],
   "source": [
    "#HEPT2\n",
    "r = model.reactions.get_by_id('HEPT2')\n",
    "print(r.check_mass_balance())\n",
    "r"
   ]
  },
  {
   "cell_type": "code",
   "execution_count": 199,
   "id": "1c462301-195c-438c-bbaa-e5bdf368f9ba",
   "metadata": {
    "scrolled": true
   },
   "outputs": [
    {
     "name": "stdout",
     "output_type": "stream",
     "text": [
      "{}\n"
     ]
    },
    {
     "data": {
      "text/html": [
       "\n",
       "        <table>\n",
       "            <tr>\n",
       "                <td><strong>Reaction identifier</strong></td><td>HEPT1</td>\n",
       "            </tr><tr>\n",
       "                <td><strong>Name</strong></td><td>R_HEPT1</td>\n",
       "            </tr><tr>\n",
       "                <td><strong>Memory address</strong></td>\n",
       "                <td>0x020f45e34550</td>\n",
       "            </tr><tr>\n",
       "                <td><strong>Stoichiometry</strong></td>\n",
       "                <td>\n",
       "                    <p style='text-align:right'>adphep_LD_c + lipa_c --> adp_c + h_c + hlipa_c</p>\n",
       "                    <p style='text-align:right'>ADP-L-glycero-D-manno-heptose + KDO-2-lipid-A --> ADP + H + heptosyl-kdo2-lipidA</p>\n",
       "                </td>\n",
       "            </tr><tr>\n",
       "                <td><strong>GPR</strong></td><td>NGO1934</td>\n",
       "            </tr><tr>\n",
       "                <td><strong>Lower bound</strong></td><td>0.0</td>\n",
       "            </tr><tr>\n",
       "                <td><strong>Upper bound</strong></td><td>1000.0</td>\n",
       "            </tr>\n",
       "        </table>\n",
       "        "
      ],
      "text/plain": [
       "<Reaction HEPT1 at 0x20f45e34550>"
      ]
     },
     "execution_count": 199,
     "metadata": {},
     "output_type": "execute_result"
    }
   ],
   "source": [
    "#HEPT1\n",
    "r = model.reactions.get_by_id('HEPT1')\n",
    "print(r.check_mass_balance())\n",
    "r"
   ]
  },
  {
   "cell_type": "code",
   "execution_count": 200,
   "id": "e8ecd40c-249a-413e-b208-549a6464f4f6",
   "metadata": {
    "scrolled": true
   },
   "outputs": [],
   "source": [
    "#All of LOS synthesis looks correct. Continue checking/ correcting other reactions. "
   ]
  },
  {
   "cell_type": "markdown",
   "id": "1022056a-2b5f-4b9e-aeae-e0cc79d17f4e",
   "metadata": {},
   "source": [
    "### Additional Curation of mass/charge balance"
   ]
  },
  {
   "cell_type": "code",
   "execution_count": 201,
   "id": "a3e388fd-ab2c-43fa-b734-8516f0869987",
   "metadata": {},
   "outputs": [
    {
     "data": {
      "text/plain": [
       "2.2335018198084664"
      ]
     },
     "execution_count": 201,
     "metadata": {},
     "output_type": "execute_result"
    }
   ],
   "source": [
    "model.slim_optimize()"
   ]
  },
  {
   "cell_type": "code",
   "execution_count": 202,
   "id": "8712f02a-9154-4e09-94d4-72624992f546",
   "metadata": {
    "scrolled": true
   },
   "outputs": [
    {
     "name": "stdout",
     "output_type": "stream",
     "text": [
      "{'charge': -1.0, 'H': -1.0}\n"
     ]
    },
    {
     "data": {
      "text/html": [
       "\n",
       "        <table>\n",
       "            <tr>\n",
       "                <td><strong>Reaction identifier</strong></td><td>HMT</td>\n",
       "            </tr><tr>\n",
       "                <td><strong>Name</strong></td><td>R_HMT</td>\n",
       "            </tr><tr>\n",
       "                <td><strong>Memory address</strong></td>\n",
       "                <td>0x020f45e41880</td>\n",
       "            </tr><tr>\n",
       "                <td><strong>Stoichiometry</strong></td>\n",
       "                <td>\n",
       "                    <p style='text-align:right'>amet_c + his_L_c --> ahcys_c + mhis_c</p>\n",
       "                    <p style='text-align:right'>S-Adenosyl-L-methionine + L-Histidine --> S-Adenosyl-L-homocysteine + N(pi)-Methyl-L-histidine</p>\n",
       "                </td>\n",
       "            </tr><tr>\n",
       "                <td><strong>GPR</strong></td><td>NGO0746</td>\n",
       "            </tr><tr>\n",
       "                <td><strong>Lower bound</strong></td><td>0.0</td>\n",
       "            </tr><tr>\n",
       "                <td><strong>Upper bound</strong></td><td>1000.0</td>\n",
       "            </tr>\n",
       "        </table>\n",
       "        "
      ],
      "text/plain": [
       "<Reaction HMT at 0x20f45e41880>"
      ]
     },
     "execution_count": 202,
     "metadata": {},
     "output_type": "execute_result"
    }
   ],
   "source": [
    "#HMT\n",
    "r = model.reactions.get_by_id('HMT')\n",
    "print(r.check_mass_balance())\n",
    "r"
   ]
  },
  {
   "cell_type": "code",
   "execution_count": 203,
   "id": "3f57665f-ea04-41dc-a4d3-38457d30aefa",
   "metadata": {
    "scrolled": true
   },
   "outputs": [],
   "source": [
    "#No evidence that this reaction exists in Gc. \n",
    "#It forms a dead end metabolite that is not used elsewhere in the network.\n",
    "#The gene (ngo0746) does possibly encode a methyltransferase, but this specific reaction doesn't appear to be found in any other models of bacteria, and isn't included in the CARVEME model for Gc. \n",
    "#As such, I am deleting the reaction. \n",
    "\n",
    "model.remove_reactions('HMT')"
   ]
  },
  {
   "cell_type": "code",
   "execution_count": 204,
   "id": "c8222baf-fbf9-412a-907a-c34e4d2b3c82",
   "metadata": {
    "scrolled": true
   },
   "outputs": [
    {
     "name": "stdout",
     "output_type": "stream",
     "text": [
      "{}\n"
     ]
    },
    {
     "data": {
      "text/html": [
       "\n",
       "        <table>\n",
       "            <tr>\n",
       "                <td><strong>Reaction identifier</strong></td><td>MAc3</td>\n",
       "            </tr><tr>\n",
       "                <td><strong>Name</strong></td><td>R_MAc3</td>\n",
       "            </tr><tr>\n",
       "                <td><strong>Memory address</strong></td>\n",
       "                <td>0x020f45e80370</td>\n",
       "            </tr><tr>\n",
       "                <td><strong>Stoichiometry</strong></td>\n",
       "                <td>\n",
       "                    <p style='text-align:right'>accoa_c + h2o_p + murein5p4p_p --> coa_c + murein5p4pOAc_p</p>\n",
       "                    <p style='text-align:right'>Acetyl-CoA + H2O + two-linked-disacharide-pentapeptide-and-tetrapeptide-murein-units-uncrosslinked-middle-of-chain --> Coenzyme-A + two-linked-disacharide-pentapeptide-and-tetrapeptide-murein-...</p>\n",
       "                </td>\n",
       "            </tr><tr>\n",
       "                <td><strong>GPR</strong></td><td>NGO0533 and NGO0534 and Orphan</td>\n",
       "            </tr><tr>\n",
       "                <td><strong>Lower bound</strong></td><td>0.0</td>\n",
       "            </tr><tr>\n",
       "                <td><strong>Upper bound</strong></td><td>1000.0</td>\n",
       "            </tr>\n",
       "        </table>\n",
       "        "
      ],
      "text/plain": [
       "<Reaction MAc3 at 0x20f45e80370>"
      ]
     },
     "execution_count": 204,
     "metadata": {},
     "output_type": "execute_result"
    }
   ],
   "source": [
    "#MAc3\n",
    "r = model.reactions.get_by_id('MAc3')\n",
    "print(r.check_mass_balance())\n",
    "r"
   ]
  },
  {
   "cell_type": "code",
   "execution_count": 205,
   "id": "27c65cee-d276-459d-b960-4d1fd91e4cd6",
   "metadata": {
    "scrolled": true
   },
   "outputs": [
    {
     "name": "stdout",
     "output_type": "stream",
     "text": [
      "C77H119N15O41\n",
      "C79H123N15O43\n"
     ]
    }
   ],
   "source": [
    "# Both Gc and Nm acylate their peptidoglycan. PMCID: PMC1231103\n",
    "print(model.metabolites.get_by_id('murein5p4p_p').formula)\n",
    "print(model.metabolites.get_by_id('murein5p4pOAc_p').formula)\n"
   ]
  },
  {
   "cell_type": "code",
   "execution_count": 206,
   "id": "ac76060e-2008-48ff-97c9-5a91fa4879f8",
   "metadata": {
    "scrolled": true
   },
   "outputs": [],
   "source": [
    "#In the formula for murein5p4pOAc, the oxygen that gets added during acylation was forgotten. This is added here. \n",
    "model.metabolites.get_by_id('murein5p4pOAc_p').formula= 'C79H123N15O43'  \n"
   ]
  },
  {
   "cell_type": "code",
   "execution_count": 207,
   "id": "6214eecf-df8d-4adb-b200-b916fccea244",
   "metadata": {
    "scrolled": true
   },
   "outputs": [
    {
     "name": "stdout",
     "output_type": "stream",
     "text": [
      "{}\n"
     ]
    },
    {
     "data": {
      "text/html": [
       "\n",
       "        <table>\n",
       "            <tr>\n",
       "                <td><strong>Reaction identifier</strong></td><td>MAc3</td>\n",
       "            </tr><tr>\n",
       "                <td><strong>Name</strong></td><td>R_MAc3</td>\n",
       "            </tr><tr>\n",
       "                <td><strong>Memory address</strong></td>\n",
       "                <td>0x020f45e80370</td>\n",
       "            </tr><tr>\n",
       "                <td><strong>Stoichiometry</strong></td>\n",
       "                <td>\n",
       "                    <p style='text-align:right'>accoa_c + h2o_p + murein5p4p_p --> coa_c + murein5p4pOAc_p</p>\n",
       "                    <p style='text-align:right'>Acetyl-CoA + H2O + two-linked-disacharide-pentapeptide-and-tetrapeptide-murein-units-uncrosslinked-middle-of-chain --> Coenzyme-A + two-linked-disacharide-pentapeptide-and-tetrapeptide-murein-...</p>\n",
       "                </td>\n",
       "            </tr><tr>\n",
       "                <td><strong>GPR</strong></td><td>NGO0533 and NGO0534 and Orphan</td>\n",
       "            </tr><tr>\n",
       "                <td><strong>Lower bound</strong></td><td>0.0</td>\n",
       "            </tr><tr>\n",
       "                <td><strong>Upper bound</strong></td><td>1000.0</td>\n",
       "            </tr>\n",
       "        </table>\n",
       "        "
      ],
      "text/plain": [
       "<Reaction MAc3 at 0x20f45e80370>"
      ]
     },
     "execution_count": 207,
     "metadata": {},
     "output_type": "execute_result"
    }
   ],
   "source": [
    "print(r.check_mass_balance())\n",
    "r"
   ]
  },
  {
   "cell_type": "code",
   "execution_count": 208,
   "id": "afe0ea01-4f69-442d-abf6-d6ab02ff427a",
   "metadata": {
    "scrolled": true
   },
   "outputs": [
    {
     "data": {
      "text/html": [
       "\n",
       "        <table>\n",
       "            <tr>\n",
       "                <td><strong>Reaction identifier</strong></td><td>MAc3</td>\n",
       "            </tr><tr>\n",
       "                <td><strong>Name</strong></td><td>R_MAc3</td>\n",
       "            </tr><tr>\n",
       "                <td><strong>Memory address</strong></td>\n",
       "                <td>0x020f45e80370</td>\n",
       "            </tr><tr>\n",
       "                <td><strong>Stoichiometry</strong></td>\n",
       "                <td>\n",
       "                    <p style='text-align:right'>accoa_c + h2o_p + murein5p4p_p --> coa_c + murein5p4pOAc_p</p>\n",
       "                    <p style='text-align:right'>Acetyl-CoA + H2O + two-linked-disacharide-pentapeptide-and-tetrapeptide-murein-units-uncrosslinked-middle-of-chain --> Coenzyme-A + two-linked-disacharide-pentapeptide-and-tetrapeptide-murein-...</p>\n",
       "                </td>\n",
       "            </tr><tr>\n",
       "                <td><strong>GPR</strong></td><td>NGO0533 and NGO0534</td>\n",
       "            </tr><tr>\n",
       "                <td><strong>Lower bound</strong></td><td>0.0</td>\n",
       "            </tr><tr>\n",
       "                <td><strong>Upper bound</strong></td><td>1000.0</td>\n",
       "            </tr>\n",
       "        </table>\n",
       "        "
      ],
      "text/plain": [
       "<Reaction MAc3 at 0x20f45e80370>"
      ]
     },
     "execution_count": 208,
     "metadata": {},
     "output_type": "execute_result"
    }
   ],
   "source": [
    "#peptidoglycan acylation has been shown to occur due to NGO0533 and NGO0534 (NMB1274 and NMB1273) aka PatA and PatB aka PacA and PacB. \n",
    "#THe third protein, proposed as an orphan, is apeI which actually is an esterase. \n",
    "#(PMID: 23373517)\n",
    "#I correct the GPR rules for the MAc1 - MAc8 reactions here. \n",
    "\n",
    "NGO0533 =model.genes.get_by_id('NGO0533')\n",
    "NGO0534= model.genes.get_by_id('NGO0534')\n",
    "model.reactions.get_by_id('MAc1').gene_reaction_rule ='NGO0533 and NGO0534'\n",
    "model.reactions.get_by_id('MAc2').gene_reaction_rule ='NGO0533 and NGO0534'\n",
    "model.reactions.get_by_id('MAc3').gene_reaction_rule ='NGO0533 and NGO0534'\n",
    "model.reactions.get_by_id('MAc4').gene_reaction_rule ='NGO0533 and NGO0534'\n",
    "model.reactions.get_by_id('MAc5').gene_reaction_rule ='NGO0533 and NGO0534'\n",
    "model.reactions.get_by_id('MAc6').gene_reaction_rule ='NGO0533 and NGO0534'\n",
    "model.reactions.get_by_id('MAc7').gene_reaction_rule ='NGO0533 and NGO0534'\n",
    "model.reactions.get_by_id('MAc8').gene_reaction_rule ='NGO0533 and NGO0534'\n",
    "r"
   ]
  },
  {
   "cell_type": "code",
   "execution_count": 209,
   "id": "befaec2a-1a9c-450d-83e8-5294134a2612",
   "metadata": {
    "scrolled": true
   },
   "outputs": [
    {
     "name": "stdout",
     "output_type": "stream",
     "text": [
      "{'charge': 0.033336000000000005, 'C': -1.5695700000000001, 'H': -2.433528, 'N': -0.24168599999999998, 'O': -0.8500679999999999}\n",
      "{'charge': 0.08334, 'C': -1.552902, 'H': -2.341854, 'N': -0.29169, 'O': -0.816732}\n"
     ]
    },
    {
     "data": {
      "text/html": [
       "\n",
       "        <table>\n",
       "            <tr>\n",
       "                <td><strong>Reaction identifier</strong></td><td>PEPGLY</td>\n",
       "            </tr><tr>\n",
       "                <td><strong>Name</strong></td><td>R_PEPGLY</td>\n",
       "            </tr><tr>\n",
       "                <td><strong>Memory address</strong></td>\n",
       "                <td>0x020f45f5fdc0</td>\n",
       "            </tr><tr>\n",
       "                <td><strong>Stoichiometry</strong></td>\n",
       "                <td>\n",
       "                    <p style='text-align:right'>0.005556 murein4px4px4pOAc_p + 0.008334 murein4px4px4p_p <=> 0.1389 pepglycan_NM_p</p>\n",
       "                    <p style='text-align:right'>0.005556 three-disacharide-linked-murein-units-tetrapeptide-crosslinked-tetrapeptide-A2pm-D-ala--tetrapeptide-corsslinked-tetrapeptide-A2pm-D-ala--middle-of-chain-O_acytelated + 0.008334 three-...</p>\n",
       "                </td>\n",
       "            </tr><tr>\n",
       "                <td><strong>GPR</strong></td><td></td>\n",
       "            </tr><tr>\n",
       "                <td><strong>Lower bound</strong></td><td>-1000.0</td>\n",
       "            </tr><tr>\n",
       "                <td><strong>Upper bound</strong></td><td>1000.0</td>\n",
       "            </tr>\n",
       "        </table>\n",
       "        "
      ],
      "text/plain": [
       "<Reaction PEPGLY at 0x20f45f5fdc0>"
      ]
     },
     "execution_count": 209,
     "metadata": {},
     "output_type": "execute_result"
    }
   ],
   "source": [
    "#Most of the PG in the cell wall is tetrapeptide in Gc PMCID: PMC551031 and is O-acytelated. \n",
    "#However tripeptide monomer gets released extracellularly and can cause immune responses through NOD1.\n",
    "#Cleavage of the tetrapeptide to tripeptide, is driven by ldcA (NGO1274) (PMCID: PMC5646250)\n",
    "\n",
    "#Confirmed, that tripeptide monomer is produced in the model (anhgm3p_p).\n",
    "\n",
    "\n",
    "\n",
    "# Gc and neisseria in general use tetrapeptide PG in the cell wall, rather than tripeptide which is used in E.coli. \n",
    "# This model uses the \"most common\" o-acetylated tetrapeptide trimer to make PG for biomass. (murein4px4px4pOAc and murein 4p4p4pOAc).\n",
    "#The model uses murein5p5p5p to make murein 4p4p4p (MDDCP6pp) which is then acetylated (MAc1).\n",
    "#Its not clear how this would happen in nature since these reactions typically work on crosslinked peptidoglycan, not on uncrosslinked. \n",
    "\n",
    "\n",
    "r = model.reactions.get_by_id('PEPGLY')\n",
    "print(r.check_mass_balance())\n",
    "r\n",
    "\n",
    "murein4p4p4pOAc_p=model.metabolites.get_by_id('murein4p4p4pOAc_p')\n",
    "murein4px4px4p_p = model.metabolites.get_by_id('murein4px4px4p_p')\n",
    "\n",
    "r.add_metabolites({\n",
    "    murein4p4p4pOAc_p: 0.008334,\n",
    "    murein4px4px4p_p : -0.008334,\n",
    "})\n",
    "\n",
    "print(r.check_mass_balance())\n",
    "r\n",
    "\n",
    "\n",
    "\n",
    "\n"
   ]
  },
  {
   "cell_type": "code",
   "execution_count": 210,
   "id": "d130aeeb-76aa-4629-b5c6-9da81f0082c7",
   "metadata": {},
   "outputs": [
    {
     "name": "stdout",
     "output_type": "stream",
     "text": [
      "{}\n",
      "{'charge': 6.0}\n"
     ]
    },
    {
     "data": {
      "text/html": [
       "\n",
       "        <table>\n",
       "            <tr>\n",
       "                <td><strong>Reaction identifier</strong></td><td>MAc7</td>\n",
       "            </tr><tr>\n",
       "                <td><strong>Name</strong></td><td>R_MAc7</td>\n",
       "            </tr><tr>\n",
       "                <td><strong>Memory address</strong></td>\n",
       "                <td>0x020f45e8c370</td>\n",
       "            </tr><tr>\n",
       "                <td><strong>Stoichiometry</strong></td>\n",
       "                <td>\n",
       "                    <p style='text-align:right'>accoa_c + h2o_p + murein4px4px4pOAc_p --> coa_c + murein4px4px4pdOAc_p</p>\n",
       "                    <p style='text-align:right'>Acetyl-CoA + H2O + three-disacharide-linked-murein-units-tetrapeptide-crosslinked-tetrapeptide-A2pm-D-ala--tetrapeptide-corsslinked-tetrapeptide-A2pm-D-ala--middle-of-chain-O_acytelated -->...</p>\n",
       "                </td>\n",
       "            </tr><tr>\n",
       "                <td><strong>GPR</strong></td><td>NGO0533 and NGO0534</td>\n",
       "            </tr><tr>\n",
       "                <td><strong>Lower bound</strong></td><td>0.0</td>\n",
       "            </tr><tr>\n",
       "                <td><strong>Upper bound</strong></td><td>1000.0</td>\n",
       "            </tr>\n",
       "        </table>\n",
       "        "
      ],
      "text/plain": [
       "<Reaction MAc7 at 0x20f45e8c370>"
      ]
     },
     "execution_count": 210,
     "metadata": {},
     "output_type": "execute_result"
    }
   ],
   "source": [
    "#MAc7 and MAc8 which produces murein4p4p4pdOac and murein 4p4p4ptOAc respectively, where altered to use murein 4px4px4p as the base instead.\n",
    "r = model.reactions.get_by_id('MAc7')\n",
    "print(r.check_mass_balance())\n",
    "r\n",
    "\n",
    "\n",
    "murein4px4px4pdOAc_p= Metabolite(\n",
    "    'murein4px4px4pdOAc_p',\n",
    "    formula='C115H175N21O62',\n",
    "    name='M_murein4px4px4pdOAc_p',\n",
    "    compartment='periplasm')\n",
    "\n",
    "murein4px4px4ptOAc_p= Metabolite(\n",
    "    'murein4px4px4ptOAc_p',\n",
    "    formula='C117H179N21O64',\n",
    "    name='M_murein4px4px4ptOAc_p',\n",
    "    compartment='periplasm')\n",
    "\n",
    "murein4p4p4pOAC_p=model.metabolites.get_by_id('murein4p4p4pOAc_p')\n",
    "murein4px4px4pOAc_p = model.metabolites.get_by_id('murein4px4px4pOAc_p')\n",
    "murein4p4p4pdOAc_p=model.metabolites.get_by_id('murein4p4p4pdOAc_p')\n",
    "\n",
    "murein4p4p4ptOAc_p=model.metabolites.get_by_id('murein4p4p4ptOAc_p')\n",
    "\n",
    "\n",
    "r.add_metabolites({\n",
    "    murein4p4p4pOAc_p: 1,\n",
    "    murein4px4px4pOAc_p : -1,\n",
    "    murein4p4p4pdOAc_p: -1,\n",
    "    murein4px4px4pdOAc_p : 1,\n",
    "})\n",
    "\n",
    "print(r.check_mass_balance())\n",
    "r\n",
    "\n"
   ]
  },
  {
   "cell_type": "code",
   "execution_count": 211,
   "id": "dd1a89e1-0a1e-43dc-b571-5eec9628cc68",
   "metadata": {},
   "outputs": [
    {
     "name": "stdout",
     "output_type": "stream",
     "text": [
      "{}\n"
     ]
    }
   ],
   "source": [
    "r = model.reactions.get_by_id('MAc8')\n",
    "print(r.check_mass_balance())\n",
    "r\n",
    "\n",
    "r.add_metabolites({\n",
    "\n",
    "    murein4p4p4pdOAc_p: 1,\n",
    "    murein4px4px4pdOAc_p : -1,\n",
    "    murein4p4p4ptOAc_p: -1,\n",
    "    murein4px4px4ptOAc_p : 1,\n",
    "})\n",
    "\n",
    "\n"
   ]
  },
  {
   "cell_type": "code",
   "execution_count": 212,
   "id": "44c0e54a-a142-4b89-8a6a-ebcb934aca35",
   "metadata": {},
   "outputs": [],
   "source": [
    "#And I am deleting MLTGY5pp as the lytic transglycosylase should also only work on crosslinked peptidoglycan, since its catalytic activity is to remove those crosslinks.\n",
    "model.remove_reactions('MLTGY5pp')"
   ]
  },
  {
   "cell_type": "code",
   "execution_count": 213,
   "id": "ca44429c-3f32-4e84-8403-ef087ca7d9ed",
   "metadata": {},
   "outputs": [],
   "source": [
    "#Rename pepglycan metabolite\n",
    "model.metabolites.pepglycan_NM_p.id=\"pepglycan_p\"\n",
    "model.metabolites.pepglycan_p.name='M_pepglycan_p'\n"
   ]
  },
  {
   "cell_type": "code",
   "execution_count": 214,
   "id": "aa3a73d7-3372-4a76-924a-a7f8a3781ec7",
   "metadata": {},
   "outputs": [
    {
     "data": {
      "text/html": [
       "<strong><em>Optimal</em> solution with objective value 2.234</strong><br><div>\n",
       "<style scoped>\n",
       "    .dataframe tbody tr th:only-of-type {\n",
       "        vertical-align: middle;\n",
       "    }\n",
       "\n",
       "    .dataframe tbody tr th {\n",
       "        vertical-align: top;\n",
       "    }\n",
       "\n",
       "    .dataframe thead th {\n",
       "        text-align: right;\n",
       "    }\n",
       "</style>\n",
       "<table border=\"1\" class=\"dataframe\">\n",
       "  <thead>\n",
       "    <tr style=\"text-align: right;\">\n",
       "      <th></th>\n",
       "      <th>fluxes</th>\n",
       "      <th>reduced_costs</th>\n",
       "    </tr>\n",
       "  </thead>\n",
       "  <tbody>\n",
       "    <tr>\n",
       "      <th>12DGR120tipp</th>\n",
       "      <td>0.000000</td>\n",
       "      <td>0.0</td>\n",
       "    </tr>\n",
       "    <tr>\n",
       "      <th>12DGR140tipp</th>\n",
       "      <td>0.000000</td>\n",
       "      <td>0.0</td>\n",
       "    </tr>\n",
       "    <tr>\n",
       "      <th>12DGR141tipp</th>\n",
       "      <td>0.000000</td>\n",
       "      <td>0.0</td>\n",
       "    </tr>\n",
       "    <tr>\n",
       "      <th>12DGR160tipp</th>\n",
       "      <td>0.000000</td>\n",
       "      <td>0.0</td>\n",
       "    </tr>\n",
       "    <tr>\n",
       "      <th>12DGR161tipp</th>\n",
       "      <td>0.000000</td>\n",
       "      <td>0.0</td>\n",
       "    </tr>\n",
       "    <tr>\n",
       "      <th>...</th>\n",
       "      <td>...</td>\n",
       "      <td>...</td>\n",
       "    </tr>\n",
       "    <tr>\n",
       "      <th>EX_cystine_L_</th>\n",
       "      <td>0.000000</td>\n",
       "      <td>0.0</td>\n",
       "    </tr>\n",
       "    <tr>\n",
       "      <th>CYSR</th>\n",
       "      <td>0.000000</td>\n",
       "      <td>-0.0</td>\n",
       "    </tr>\n",
       "    <tr>\n",
       "      <th>EX_apoACP_c_</th>\n",
       "      <td>-0.082089</td>\n",
       "      <td>0.0</td>\n",
       "    </tr>\n",
       "    <tr>\n",
       "      <th>GLCTR2</th>\n",
       "      <td>0.000000</td>\n",
       "      <td>0.0</td>\n",
       "    </tr>\n",
       "    <tr>\n",
       "      <th>GALT3</th>\n",
       "      <td>0.000000</td>\n",
       "      <td>0.0</td>\n",
       "    </tr>\n",
       "  </tbody>\n",
       "</table>\n",
       "<p>1433 rows × 2 columns</p>\n",
       "</div>"
      ],
      "text/plain": [
       "<Solution 2.234 at 0x20f4c12d700>"
      ]
     },
     "execution_count": 214,
     "metadata": {},
     "output_type": "execute_result"
    }
   ],
   "source": [
    "model.optimize()"
   ]
  },
  {
   "cell_type": "code",
   "execution_count": 215,
   "id": "cfdf5dd0-9cb2-4268-80a8-06ede89568a0",
   "metadata": {},
   "outputs": [],
   "source": [
    "#The third protein encoded in the operon is ApeI which de-O-acetylates and has broad acting esterase activity. \n",
    "#(PMID: 23373517)\n",
    "#The original model removed the esterase activity to prevent futile cycling. \n",
    "#The reactions are kept the same here. \n"
   ]
  },
  {
   "cell_type": "code",
   "execution_count": 216,
   "id": "0e9d66b2-4e53-4612-b0ab-fd28299a80ca",
   "metadata": {},
   "outputs": [
    {
     "data": {
      "text/plain": [
       "2.2337742792060107"
      ]
     },
     "execution_count": 216,
     "metadata": {},
     "output_type": "execute_result"
    }
   ],
   "source": [
    "model.slim_optimize()"
   ]
  },
  {
   "cell_type": "code",
   "execution_count": 217,
   "id": "4409d84d-ad6e-44d7-9e23-60cccaf45545",
   "metadata": {
    "scrolled": true
   },
   "outputs": [
    {
     "name": "stdout",
     "output_type": "stream",
     "text": [
      "{}\n"
     ]
    },
    {
     "data": {
      "text/html": [
       "\n",
       "        <table>\n",
       "            <tr>\n",
       "                <td><strong>Reaction identifier</strong></td><td>NDPK9</td>\n",
       "            </tr><tr>\n",
       "                <td><strong>Name</strong></td><td>R_NDPK9</td>\n",
       "            </tr><tr>\n",
       "                <td><strong>Memory address</strong></td>\n",
       "                <td>0x020f45ee3fd0</td>\n",
       "            </tr><tr>\n",
       "                <td><strong>Stoichiometry</strong></td>\n",
       "                <td>\n",
       "                    <p style='text-align:right'>atp_c + didp_c <=> adp_c + ditp_c</p>\n",
       "                    <p style='text-align:right'>ATP + dIDP <=> ADP + dITP</p>\n",
       "                </td>\n",
       "            </tr><tr>\n",
       "                <td><strong>GPR</strong></td><td>NGO0597</td>\n",
       "            </tr><tr>\n",
       "                <td><strong>Lower bound</strong></td><td>-1000.0</td>\n",
       "            </tr><tr>\n",
       "                <td><strong>Upper bound</strong></td><td>1000.0</td>\n",
       "            </tr>\n",
       "        </table>\n",
       "        "
      ],
      "text/plain": [
       "<Reaction NDPK9 at 0x20f45ee3fd0>"
      ]
     },
     "execution_count": 217,
     "metadata": {},
     "output_type": "execute_result"
    }
   ],
   "source": [
    "r = model.reactions.get_by_id('NDPK9')\n",
    "print(r.check_mass_balance())\n",
    "r"
   ]
  },
  {
   "cell_type": "code",
   "execution_count": 218,
   "id": "a327ceaf-855a-43f8-89a7-8802d11f75be",
   "metadata": {
    "scrolled": true
   },
   "outputs": [
    {
     "name": "stdout",
     "output_type": "stream",
     "text": [
      "{}\n"
     ]
    },
    {
     "data": {
      "text/html": [
       "\n",
       "        <table>\n",
       "            <tr>\n",
       "                <td><strong>Reaction identifier</strong></td><td>NADPK10</td>\n",
       "            </tr><tr>\n",
       "                <td><strong>Name</strong></td><td>NADPK10</td>\n",
       "            </tr><tr>\n",
       "                <td><strong>Memory address</strong></td>\n",
       "                <td>0x020f45ee3fd0</td>\n",
       "            </tr><tr>\n",
       "                <td><strong>Stoichiometry</strong></td>\n",
       "                <td>\n",
       "                    <p style='text-align:right'>atp_c + didp_c <=> adp_c + ditp_c</p>\n",
       "                    <p style='text-align:right'>ATP + dIDP <=> ADP + dITP</p>\n",
       "                </td>\n",
       "            </tr><tr>\n",
       "                <td><strong>GPR</strong></td><td>NGO0597</td>\n",
       "            </tr><tr>\n",
       "                <td><strong>Lower bound</strong></td><td>-1000.0</td>\n",
       "            </tr><tr>\n",
       "                <td><strong>Upper bound</strong></td><td>1000.0</td>\n",
       "            </tr>\n",
       "        </table>\n",
       "        "
      ],
      "text/plain": [
       "<Reaction NADPK10 at 0x20f45ee3fd0>"
      ]
     },
     "execution_count": 218,
     "metadata": {},
     "output_type": "execute_result"
    }
   ],
   "source": [
    "r.name = 'NADPK10'\n",
    "r.id ='NADPK10'\n",
    "\n",
    "model.metabolites.get_by_id('didp_c').formula= 'C10H11N4O10P2'\n",
    "\n",
    "print(r.check_mass_balance())\n",
    "r\n"
   ]
  },
  {
   "cell_type": "code",
   "execution_count": 219,
   "id": "54ed24e3-1333-47c0-ab11-68764e974732",
   "metadata": {},
   "outputs": [],
   "source": [
    "#No evidence for NGO1881 performing this reaction or for the mening homolog performing the reaction. \n",
    "model.reactions.NDPK1.gene_reaction_rule= 'NGO0597'\n",
    "model.reactions.NDPK5.gene_reaction_rule= 'NGO0597'\n",
    "model.reactions.NDPK8.gene_reaction_rule= 'NGO0597'"
   ]
  },
  {
   "cell_type": "code",
   "execution_count": 220,
   "id": "5e2c957c-b624-41d5-80bc-a49072693d74",
   "metadata": {},
   "outputs": [
    {
     "name": "stdout",
     "output_type": "stream",
     "text": [
      "{}\n"
     ]
    },
    {
     "data": {
      "text/html": [
       "\n",
       "        <table>\n",
       "            <tr>\n",
       "                <td><strong>Reaction identifier</strong></td><td>NTD13</td>\n",
       "            </tr><tr>\n",
       "                <td><strong>Name</strong></td><td>R_NTD13</td>\n",
       "            </tr><tr>\n",
       "                <td><strong>Memory address</strong></td>\n",
       "                <td>0x020f45f07e50</td>\n",
       "            </tr><tr>\n",
       "                <td><strong>Stoichiometry</strong></td>\n",
       "                <td>\n",
       "                    <p style='text-align:right'>h2o_c + nicrnt_c --> nicrns_c + pi_c</p>\n",
       "                    <p style='text-align:right'>H2O + Nicotinate-D-ribonucleotide --> Nicotinate D-ribonucleoside + Phosphate</p>\n",
       "                </td>\n",
       "            </tr><tr>\n",
       "                <td><strong>GPR</strong></td><td>NGO1058</td>\n",
       "            </tr><tr>\n",
       "                <td><strong>Lower bound</strong></td><td>0.0</td>\n",
       "            </tr><tr>\n",
       "                <td><strong>Upper bound</strong></td><td>1000.0</td>\n",
       "            </tr>\n",
       "        </table>\n",
       "        "
      ],
      "text/plain": [
       "<Reaction NTD13 at 0x20f45f07e50>"
      ]
     },
     "execution_count": 220,
     "metadata": {},
     "output_type": "execute_result"
    }
   ],
   "source": [
    "#NTD13\n",
    "r = model.reactions.get_by_id('NTD13')\n",
    "print(r.check_mass_balance())\n",
    "r\n"
   ]
  },
  {
   "cell_type": "code",
   "execution_count": 221,
   "id": "7ec3eb80-276c-4a12-8088-2119ad9a83c3",
   "metadata": {},
   "outputs": [],
   "source": [
    "#changed nicrns_c formula based on Bigg metabolite formula. \n",
    "model.metabolites.get_by_id('nicrns_c').formula= 'C11H13NO6'"
   ]
  },
  {
   "cell_type": "code",
   "execution_count": 222,
   "id": "0ba9b5a0-5165-4844-9997-0c83db127319",
   "metadata": {},
   "outputs": [
    {
     "name": "stdout",
     "output_type": "stream",
     "text": [
      "{}\n"
     ]
    },
    {
     "data": {
      "text/html": [
       "\n",
       "        <table>\n",
       "            <tr>\n",
       "                <td><strong>Reaction identifier</strong></td><td>NTD13</td>\n",
       "            </tr><tr>\n",
       "                <td><strong>Name</strong></td><td>R_NTD13</td>\n",
       "            </tr><tr>\n",
       "                <td><strong>Memory address</strong></td>\n",
       "                <td>0x020f45f07e50</td>\n",
       "            </tr><tr>\n",
       "                <td><strong>Stoichiometry</strong></td>\n",
       "                <td>\n",
       "                    <p style='text-align:right'>h2o_c + nicrnt_c --> nicrns_c + pi_c</p>\n",
       "                    <p style='text-align:right'>H2O + Nicotinate-D-ribonucleotide --> Nicotinate D-ribonucleoside + Phosphate</p>\n",
       "                </td>\n",
       "            </tr><tr>\n",
       "                <td><strong>GPR</strong></td><td>NGO1058</td>\n",
       "            </tr><tr>\n",
       "                <td><strong>Lower bound</strong></td><td>0.0</td>\n",
       "            </tr><tr>\n",
       "                <td><strong>Upper bound</strong></td><td>1000.0</td>\n",
       "            </tr>\n",
       "        </table>\n",
       "        "
      ],
      "text/plain": [
       "<Reaction NTD13 at 0x20f45f07e50>"
      ]
     },
     "execution_count": 222,
     "metadata": {},
     "output_type": "execute_result"
    }
   ],
   "source": [
    "print(r.check_mass_balance())\n",
    "r"
   ]
  },
  {
   "cell_type": "code",
   "execution_count": 223,
   "id": "5e6707d5-2b6e-461d-8008-6994530aa5b6",
   "metadata": {},
   "outputs": [
    {
     "name": "stdout",
     "output_type": "stream",
     "text": [
      "{'charge': 4.0, 'H': 3.0}\n"
     ]
    },
    {
     "data": {
      "text/html": [
       "\n",
       "        <table>\n",
       "            <tr>\n",
       "                <td><strong>Reaction identifier</strong></td><td>PHEMEFErel</td>\n",
       "            </tr><tr>\n",
       "                <td><strong>Name</strong></td><td>R_PHEMEFErel</td>\n",
       "            </tr><tr>\n",
       "                <td><strong>Memory address</strong></td>\n",
       "                <td>0x020f45fa8370</td>\n",
       "            </tr><tr>\n",
       "                <td><strong>Stoichiometry</strong></td>\n",
       "                <td>\n",
       "                    <p style='text-align:right'>3.0 h_c + 3.0 nadph_c + 3.0 o2_c + pheme_c --> biliverd_c + co_c + fe2_c + 3.0 h2o_c + 3.0 nadp_c</p>\n",
       "                    <p style='text-align:right'>3.0 H + 3.0 Nicotinamide-adenine-dinucleotide-phosphate--reduced + 3.0 O2 + Protoheme --> Biliverdin + Carbon monoxide + Fe2 + 3.0 H2O + 3.0 Nicotinamide-adenine-dinucleotide-phosphate</p>\n",
       "                </td>\n",
       "            </tr><tr>\n",
       "                <td><strong>GPR</strong></td><td>NGO1318</td>\n",
       "            </tr><tr>\n",
       "                <td><strong>Lower bound</strong></td><td>0.0</td>\n",
       "            </tr><tr>\n",
       "                <td><strong>Upper bound</strong></td><td>1000.0</td>\n",
       "            </tr>\n",
       "        </table>\n",
       "        "
      ],
      "text/plain": [
       "<Reaction PHEMEFErel at 0x20f45fa8370>"
      ]
     },
     "execution_count": 223,
     "metadata": {},
     "output_type": "execute_result"
    }
   ],
   "source": [
    "#PHEMEFErel\n",
    "r = model.reactions.get_by_id('PHEMEFErel')\n",
    "print(r.check_mass_balance())\n",
    "r"
   ]
  },
  {
   "cell_type": "code",
   "execution_count": 224,
   "id": "461023ea-fda0-4d64-9e83-d2f950ab7c86",
   "metadata": {},
   "outputs": [
    {
     "name": "stdout",
     "output_type": "stream",
     "text": [
      "{'charge': 7.0}\n"
     ]
    },
    {
     "data": {
      "text/html": [
       "\n",
       "        <table>\n",
       "            <tr>\n",
       "                <td><strong>Reaction identifier</strong></td><td>PHEMEFErel</td>\n",
       "            </tr><tr>\n",
       "                <td><strong>Name</strong></td><td>R_PHEMEFErel</td>\n",
       "            </tr><tr>\n",
       "                <td><strong>Memory address</strong></td>\n",
       "                <td>0x020f45fa8370</td>\n",
       "            </tr><tr>\n",
       "                <td><strong>Stoichiometry</strong></td>\n",
       "                <td>\n",
       "                    <p style='text-align:right'>3.0 h_c + 6.0 nadph_c + 3.0 o2_c + pheme_c --> biliverd_c + co_c + fe2_c + 3.0 h2o_c + 6.0 nadp_c</p>\n",
       "                    <p style='text-align:right'>3.0 H + 6.0 Nicotinamide-adenine-dinucleotide-phosphate--reduced + 3.0 O2 + Protoheme --> Biliverdin + Carbon monoxide + Fe2 + 3.0 H2O + 6.0 Nicotinamide-adenine-dinucleotide-phosphate</p>\n",
       "                </td>\n",
       "            </tr><tr>\n",
       "                <td><strong>GPR</strong></td><td>NGO1318</td>\n",
       "            </tr><tr>\n",
       "                <td><strong>Lower bound</strong></td><td>0.0</td>\n",
       "            </tr><tr>\n",
       "                <td><strong>Upper bound</strong></td><td>1000.0</td>\n",
       "            </tr>\n",
       "        </table>\n",
       "        "
      ],
      "text/plain": [
       "<Reaction PHEMEFErel at 0x20f45fa8370>"
      ]
     },
     "execution_count": 224,
     "metadata": {},
     "output_type": "execute_result"
    }
   ],
   "source": [
    "#Product of a simplified, 3 step reaction that requires 2 NADPHs. PMCID: PMC111422. \n",
    "#This reaction is described in kegg as requiring 3 \"electron donors\" and 3\"electron acceptors, which is likely the cause of the error. https://www.genome.jp/entry/R11816\n",
    "\n",
    "\n",
    "model.metabolites.get_by_id('biliverd_c').formula= 'C33H33N4O6'\n",
    "NADPH_c =model.metabolites.get_by_id('nadph_c')\n",
    "nadp_c =model.metabolites.get_by_id('nadp_c')\n",
    "\n",
    "r.add_metabolites({\n",
    "    NADPH_c: -3,\n",
    "    nadp_c: 3.0\n",
    "})\n",
    "\n",
    "print(r.check_mass_balance())\n",
    "r"
   ]
  },
  {
   "cell_type": "code",
   "execution_count": 225,
   "id": "2a55e58d-248d-4b56-8d6e-a2cd0c681092",
   "metadata": {},
   "outputs": [
    {
     "name": "stdout",
     "output_type": "stream",
     "text": [
      "{'charge': -1.0, 'C': 7.0, 'H': 9.0, 'O': 3.0}\n"
     ]
    },
    {
     "data": {
      "text/html": [
       "\n",
       "        <table>\n",
       "            <tr>\n",
       "                <td><strong>Reaction identifier</strong></td><td>PMCOAS</td>\n",
       "            </tr><tr>\n",
       "                <td><strong>Name</strong></td><td>R_PMCOAS</td>\n",
       "            </tr><tr>\n",
       "                <td><strong>Memory address</strong></td>\n",
       "                <td>0x020f45fd9f10</td>\n",
       "            </tr><tr>\n",
       "                <td><strong>Stoichiometry</strong></td>\n",
       "                <td>\n",
       "                    <p style='text-align:right'>coa_c --> pmcoa_c</p>\n",
       "                    <p style='text-align:right'>Coenzyme-A --> Pimeloyl-CoA</p>\n",
       "                </td>\n",
       "            </tr><tr>\n",
       "                <td><strong>GPR</strong></td><td>NGO1481 and NGO1725</td>\n",
       "            </tr><tr>\n",
       "                <td><strong>Lower bound</strong></td><td>0.0</td>\n",
       "            </tr><tr>\n",
       "                <td><strong>Upper bound</strong></td><td>1000.0</td>\n",
       "            </tr>\n",
       "        </table>\n",
       "        "
      ],
      "text/plain": [
       "<Reaction PMCOAS at 0x20f45fd9f10>"
      ]
     },
     "execution_count": 225,
     "metadata": {},
     "output_type": "execute_result"
    }
   ],
   "source": [
    "#PMCOAS\n",
    "r = model.reactions.get_by_id('PMCOAS')\n",
    "print(r.check_mass_balance())\n",
    "r\n",
    "#Okay to leave unbalanced. THis reaction is a simplification of a multistep ACP dependent reaction that isn't well understood. "
   ]
  },
  {
   "cell_type": "code",
   "execution_count": 226,
   "id": "a5d731b4-90bc-4c20-bc49-6fecdc675892",
   "metadata": {},
   "outputs": [
    {
     "name": "stdout",
     "output_type": "stream",
     "text": [
      "{'charge': 1.0, 'H': 1.0}\n"
     ]
    },
    {
     "data": {
      "text/html": [
       "\n",
       "        <table>\n",
       "            <tr>\n",
       "                <td><strong>Reaction identifier</strong></td><td>SAMC</td>\n",
       "            </tr><tr>\n",
       "                <td><strong>Name</strong></td><td>R_SAMC</td>\n",
       "            </tr><tr>\n",
       "                <td><strong>Memory address</strong></td>\n",
       "                <td>0x020f46047940</td>\n",
       "            </tr><tr>\n",
       "                <td><strong>Stoichiometry</strong></td>\n",
       "                <td>\n",
       "                    <p style='text-align:right'>amet_c --> ametam_c + co2_c</p>\n",
       "                    <p style='text-align:right'>S-Adenosyl-L-methionine --> S-Adenosylmethioninamine + CO2</p>\n",
       "                </td>\n",
       "            </tr><tr>\n",
       "                <td><strong>GPR</strong></td><td>Orphan</td>\n",
       "            </tr><tr>\n",
       "                <td><strong>Lower bound</strong></td><td>0.0</td>\n",
       "            </tr><tr>\n",
       "                <td><strong>Upper bound</strong></td><td>1000.0</td>\n",
       "            </tr>\n",
       "        </table>\n",
       "        "
      ],
      "text/plain": [
       "<Reaction SAMC at 0x20f46047940>"
      ]
     },
     "execution_count": 226,
     "metadata": {},
     "output_type": "execute_result"
    }
   ],
   "source": [
    "#SAMC\n",
    "r = model.reactions.get_by_id('SAMC')\n",
    "print(r.check_mass_balance())\n",
    "r\n",
    "\n"
   ]
  },
  {
   "cell_type": "code",
   "execution_count": 227,
   "id": "6c5cc4ba-04c2-4718-a535-71d9d5a8495c",
   "metadata": {},
   "outputs": [
    {
     "name": "stdout",
     "output_type": "stream",
     "text": [
      "{}\n"
     ]
    },
    {
     "data": {
      "text/html": [
       "\n",
       "        <table>\n",
       "            <tr>\n",
       "                <td><strong>Reaction identifier</strong></td><td>SAMC</td>\n",
       "            </tr><tr>\n",
       "                <td><strong>Name</strong></td><td>R_SAMC</td>\n",
       "            </tr><tr>\n",
       "                <td><strong>Memory address</strong></td>\n",
       "                <td>0x020f46047940</td>\n",
       "            </tr><tr>\n",
       "                <td><strong>Stoichiometry</strong></td>\n",
       "                <td>\n",
       "                    <p style='text-align:right'>amet_c + h_c --> ametam_c + co2_c</p>\n",
       "                    <p style='text-align:right'>S-Adenosyl-L-methionine + H --> S-Adenosylmethioninamine + CO2</p>\n",
       "                </td>\n",
       "            </tr><tr>\n",
       "                <td><strong>GPR</strong></td><td>Orphan</td>\n",
       "            </tr><tr>\n",
       "                <td><strong>Lower bound</strong></td><td>0.0</td>\n",
       "            </tr><tr>\n",
       "                <td><strong>Upper bound</strong></td><td>1000.0</td>\n",
       "            </tr>\n",
       "        </table>\n",
       "        "
      ],
      "text/plain": [
       "<Reaction SAMC at 0x20f46047940>"
      ]
     },
     "execution_count": 227,
     "metadata": {},
     "output_type": "execute_result"
    }
   ],
   "source": [
    "h_c =model.metabolites.get_by_id('h_c')\n",
    "\n",
    "r.add_metabolites({\n",
    "    h_c: -1,\n",
    "})\n",
    "\n",
    "print(r.check_mass_balance())\n",
    "r"
   ]
  },
  {
   "cell_type": "code",
   "execution_count": 228,
   "id": "31ebb9b6-02eb-4344-bba9-b64398136055",
   "metadata": {},
   "outputs": [
    {
     "name": "stdout",
     "output_type": "stream",
     "text": [
      "{'charge': -1.0, 'H': -1.0}\n"
     ]
    },
    {
     "data": {
      "text/html": [
       "\n",
       "        <table>\n",
       "            <tr>\n",
       "                <td><strong>Reaction identifier</strong></td><td>SHSL2</td>\n",
       "            </tr><tr>\n",
       "                <td><strong>Name</strong></td><td>R_SHSL2</td>\n",
       "            </tr><tr>\n",
       "                <td><strong>Memory address</strong></td>\n",
       "                <td>0x020f46053bb0</td>\n",
       "            </tr><tr>\n",
       "                <td><strong>Stoichiometry</strong></td>\n",
       "                <td>\n",
       "                    <p style='text-align:right'>h2s_c + suchms_c --> hcys_L_c + succ_c</p>\n",
       "                    <p style='text-align:right'>Hydrogen-sulfide + O-Succinyl-L-homoserine --> L-Homocysteine + Succinate</p>\n",
       "                </td>\n",
       "            </tr><tr>\n",
       "                <td><strong>GPR</strong></td><td>NGO1149</td>\n",
       "            </tr><tr>\n",
       "                <td><strong>Lower bound</strong></td><td>0.0</td>\n",
       "            </tr><tr>\n",
       "                <td><strong>Upper bound</strong></td><td>1000.0</td>\n",
       "            </tr>\n",
       "        </table>\n",
       "        "
      ],
      "text/plain": [
       "<Reaction SHSL2 at 0x20f46053bb0>"
      ]
     },
     "execution_count": 228,
     "metadata": {},
     "output_type": "execute_result"
    }
   ],
   "source": [
    "#SHSL2\n",
    "r = model.reactions.get_by_id('SHSL2')\n",
    "print(r.check_mass_balance())\n",
    "r\n"
   ]
  },
  {
   "cell_type": "code",
   "execution_count": 229,
   "id": "1d6fa231-975a-4782-abda-1b680e4d5c7e",
   "metadata": {},
   "outputs": [
    {
     "name": "stdout",
     "output_type": "stream",
     "text": [
      "{}\n"
     ]
    },
    {
     "data": {
      "text/html": [
       "\n",
       "        <table>\n",
       "            <tr>\n",
       "                <td><strong>Reaction identifier</strong></td><td>SHSL2</td>\n",
       "            </tr><tr>\n",
       "                <td><strong>Name</strong></td><td>R_SHSL2</td>\n",
       "            </tr><tr>\n",
       "                <td><strong>Memory address</strong></td>\n",
       "                <td>0x020f46053bb0</td>\n",
       "            </tr><tr>\n",
       "                <td><strong>Stoichiometry</strong></td>\n",
       "                <td>\n",
       "                    <p style='text-align:right'>h2s_c + suchms_c --> h_c + hcys_L_c + succ_c</p>\n",
       "                    <p style='text-align:right'>Hydrogen-sulfide + O-Succinyl-L-homoserine --> H + L-Homocysteine + Succinate</p>\n",
       "                </td>\n",
       "            </tr><tr>\n",
       "                <td><strong>GPR</strong></td><td>NGO1149</td>\n",
       "            </tr><tr>\n",
       "                <td><strong>Lower bound</strong></td><td>0.0</td>\n",
       "            </tr><tr>\n",
       "                <td><strong>Upper bound</strong></td><td>1000.0</td>\n",
       "            </tr>\n",
       "        </table>\n",
       "        "
      ],
      "text/plain": [
       "<Reaction SHSL2 at 0x20f46053bb0>"
      ]
     },
     "execution_count": 229,
     "metadata": {},
     "output_type": "execute_result"
    }
   ],
   "source": [
    "h_c =model.metabolites.get_by_id('h_c')\n",
    "\n",
    "r.add_metabolites({\n",
    "    h_c: 1,\n",
    "})\n",
    "\n",
    "print(r.check_mass_balance())\n",
    "r"
   ]
  },
  {
   "cell_type": "code",
   "execution_count": 230,
   "id": "de0d026c-9fd0-44bb-9f8d-657b620db9c6",
   "metadata": {},
   "outputs": [
    {
     "name": "stdout",
     "output_type": "stream",
     "text": [
      "{'charge': -1.0, 'H': -1.0}\n"
     ]
    },
    {
     "data": {
      "text/html": [
       "\n",
       "        <table>\n",
       "            <tr>\n",
       "                <td><strong>Reaction identifier</strong></td><td>SHSL3</td>\n",
       "            </tr><tr>\n",
       "                <td><strong>Name</strong></td><td>R_SHSL3</td>\n",
       "            </tr><tr>\n",
       "                <td><strong>Memory address</strong></td>\n",
       "                <td>0x020f46053d00</td>\n",
       "            </tr><tr>\n",
       "                <td><strong>Stoichiometry</strong></td>\n",
       "                <td>\n",
       "                    <p style='text-align:right'>achms_c + cys_L_c --> ac_c + cyst_L_c</p>\n",
       "                    <p style='text-align:right'>O-acetyl-L-homoserine + L-Cysteine --> Acetate + L-Cystathionine</p>\n",
       "                </td>\n",
       "            </tr><tr>\n",
       "                <td><strong>GPR</strong></td><td>NGO0386</td>\n",
       "            </tr><tr>\n",
       "                <td><strong>Lower bound</strong></td><td>0.0</td>\n",
       "            </tr><tr>\n",
       "                <td><strong>Upper bound</strong></td><td>1000.0</td>\n",
       "            </tr>\n",
       "        </table>\n",
       "        "
      ],
      "text/plain": [
       "<Reaction SHSL3 at 0x20f46053d00>"
      ]
     },
     "execution_count": 230,
     "metadata": {},
     "output_type": "execute_result"
    }
   ],
   "source": [
    "#SHLS3\n",
    "r = model.reactions.get_by_id('SHSL3')\n",
    "print(r.check_mass_balance())\n",
    "r\n"
   ]
  },
  {
   "cell_type": "code",
   "execution_count": 231,
   "id": "f2db7cef-739c-4e39-b382-ea19b7f26958",
   "metadata": {
    "scrolled": true
   },
   "outputs": [
    {
     "name": "stdout",
     "output_type": "stream",
     "text": [
      "{}\n"
     ]
    },
    {
     "data": {
      "text/html": [
       "\n",
       "        <table>\n",
       "            <tr>\n",
       "                <td><strong>Reaction identifier</strong></td><td>SHSL3</td>\n",
       "            </tr><tr>\n",
       "                <td><strong>Name</strong></td><td>R_SHSL3</td>\n",
       "            </tr><tr>\n",
       "                <td><strong>Memory address</strong></td>\n",
       "                <td>0x020f46053d00</td>\n",
       "            </tr><tr>\n",
       "                <td><strong>Stoichiometry</strong></td>\n",
       "                <td>\n",
       "                    <p style='text-align:right'>achms_c + cys_L_c --> ac_c + cyst_L_c + h_c</p>\n",
       "                    <p style='text-align:right'>O-acetyl-L-homoserine + L-Cysteine --> Acetate + L-Cystathionine + H</p>\n",
       "                </td>\n",
       "            </tr><tr>\n",
       "                <td><strong>GPR</strong></td><td>NGO0386</td>\n",
       "            </tr><tr>\n",
       "                <td><strong>Lower bound</strong></td><td>0.0</td>\n",
       "            </tr><tr>\n",
       "                <td><strong>Upper bound</strong></td><td>1000.0</td>\n",
       "            </tr>\n",
       "        </table>\n",
       "        "
      ],
      "text/plain": [
       "<Reaction SHSL3 at 0x20f46053d00>"
      ]
     },
     "execution_count": 231,
     "metadata": {},
     "output_type": "execute_result"
    }
   ],
   "source": [
    "h_c =model.metabolites.get_by_id('h_c')\n",
    "\n",
    "r.add_metabolites({\n",
    "    h_c: 1,\n",
    "})\n",
    "\n",
    "print(r.check_mass_balance())\n",
    "r"
   ]
  },
  {
   "cell_type": "code",
   "execution_count": 232,
   "id": "f8b1fa18-d265-4464-9974-39cf7b86ff1f",
   "metadata": {
    "scrolled": true
   },
   "outputs": [
    {
     "name": "stdout",
     "output_type": "stream",
     "text": [
      "{'charge': -1.0, 'H': -1.0}\n"
     ]
    },
    {
     "data": {
      "text/html": [
       "\n",
       "        <table>\n",
       "            <tr>\n",
       "                <td><strong>Reaction identifier</strong></td><td>SHSL5</td>\n",
       "            </tr><tr>\n",
       "                <td><strong>Name</strong></td><td>R_SHSL5</td>\n",
       "            </tr><tr>\n",
       "                <td><strong>Memory address</strong></td>\n",
       "                <td>0x020f46053f40</td>\n",
       "            </tr><tr>\n",
       "                <td><strong>Stoichiometry</strong></td>\n",
       "                <td>\n",
       "                    <p style='text-align:right'>h2o_c + suchms_c --> 2obut_c + nh4_c + succ_c</p>\n",
       "                    <p style='text-align:right'>H2O + O-Succinyl-L-homoserine --> 2-Oxobutanoate + Ammonium + Succinate</p>\n",
       "                </td>\n",
       "            </tr><tr>\n",
       "                <td><strong>GPR</strong></td><td>NGO0386</td>\n",
       "            </tr><tr>\n",
       "                <td><strong>Lower bound</strong></td><td>0.0</td>\n",
       "            </tr><tr>\n",
       "                <td><strong>Upper bound</strong></td><td>1000.0</td>\n",
       "            </tr>\n",
       "        </table>\n",
       "        "
      ],
      "text/plain": [
       "<Reaction SHSL5 at 0x20f46053f40>"
      ]
     },
     "execution_count": 232,
     "metadata": {},
     "output_type": "execute_result"
    }
   ],
   "source": [
    "#SHLS5\n",
    "r = model.reactions.get_by_id('SHSL5')\n",
    "print(r.check_mass_balance())\n",
    "r\n"
   ]
  },
  {
   "cell_type": "code",
   "execution_count": 233,
   "id": "c0f8a380-e428-4e28-8130-b69f5cc4d595",
   "metadata": {
    "scrolled": true
   },
   "outputs": [
    {
     "name": "stdout",
     "output_type": "stream",
     "text": [
      "{}\n"
     ]
    },
    {
     "data": {
      "text/html": [
       "\n",
       "        <table>\n",
       "            <tr>\n",
       "                <td><strong>Reaction identifier</strong></td><td>SHSL5</td>\n",
       "            </tr><tr>\n",
       "                <td><strong>Name</strong></td><td>R_SHSL5</td>\n",
       "            </tr><tr>\n",
       "                <td><strong>Memory address</strong></td>\n",
       "                <td>0x020f46053f40</td>\n",
       "            </tr><tr>\n",
       "                <td><strong>Stoichiometry</strong></td>\n",
       "                <td>\n",
       "                    <p style='text-align:right'>h2o_c + suchms_c --> 2obut_c + h_c + nh4_c + succ_c</p>\n",
       "                    <p style='text-align:right'>H2O + O-Succinyl-L-homoserine --> 2-Oxobutanoate + H + Ammonium + Succinate</p>\n",
       "                </td>\n",
       "            </tr><tr>\n",
       "                <td><strong>GPR</strong></td><td>NGO0386</td>\n",
       "            </tr><tr>\n",
       "                <td><strong>Lower bound</strong></td><td>0.0</td>\n",
       "            </tr><tr>\n",
       "                <td><strong>Upper bound</strong></td><td>1000.0</td>\n",
       "            </tr>\n",
       "        </table>\n",
       "        "
      ],
      "text/plain": [
       "<Reaction SHSL5 at 0x20f46053f40>"
      ]
     },
     "execution_count": 233,
     "metadata": {},
     "output_type": "execute_result"
    }
   ],
   "source": [
    "h_c =model.metabolites.get_by_id('h_c')\n",
    "\n",
    "r.add_metabolites({\n",
    "    h_c: 1,\n",
    "})\n",
    "\n",
    "print(r.check_mass_balance())\n",
    "r"
   ]
  },
  {
   "cell_type": "code",
   "execution_count": 234,
   "id": "736ef58d-a8a1-4f71-870b-b19e6015754d",
   "metadata": {
    "scrolled": true
   },
   "outputs": [
    {
     "name": "stdout",
     "output_type": "stream",
     "text": [
      "{'charge': -2.0, 'H': -2.0}\n"
     ]
    },
    {
     "data": {
      "text/html": [
       "\n",
       "        <table>\n",
       "            <tr>\n",
       "                <td><strong>Reaction identifier</strong></td><td>SHSL4</td>\n",
       "            </tr><tr>\n",
       "                <td><strong>Name</strong></td><td>R_SHSL4</td>\n",
       "            </tr><tr>\n",
       "                <td><strong>Memory address</strong></td>\n",
       "                <td>0x020f46053e20</td>\n",
       "            </tr><tr>\n",
       "                <td><strong>Stoichiometry</strong></td>\n",
       "                <td>\n",
       "                    <p style='text-align:right'>achms_c + h_c + trdrd_c + tsul_c --> ac_c + hcys_L_c + so3_c + trdox_c</p>\n",
       "                    <p style='text-align:right'>O-acetyl-L-homoserine + H + Reduced-thioredoxin + Thiosulfate --> Acetate + L-Homocysteine + Sulfite + Oxidized-thioredoxin</p>\n",
       "                </td>\n",
       "            </tr><tr>\n",
       "                <td><strong>GPR</strong></td><td>NGO0386</td>\n",
       "            </tr><tr>\n",
       "                <td><strong>Lower bound</strong></td><td>0.0</td>\n",
       "            </tr><tr>\n",
       "                <td><strong>Upper bound</strong></td><td>1000.0</td>\n",
       "            </tr>\n",
       "        </table>\n",
       "        "
      ],
      "text/plain": [
       "<Reaction SHSL4 at 0x20f46053e20>"
      ]
     },
     "execution_count": 234,
     "metadata": {},
     "output_type": "execute_result"
    }
   ],
   "source": [
    "#SHLS4\n",
    "r = model.reactions.get_by_id('SHSL4')\n",
    "print(r.check_mass_balance())\n",
    "r\n"
   ]
  },
  {
   "cell_type": "code",
   "execution_count": 235,
   "id": "68731c26-bc50-4594-94fd-e9f4e581321b",
   "metadata": {
    "scrolled": true
   },
   "outputs": [
    {
     "name": "stdout",
     "output_type": "stream",
     "text": [
      "{}\n"
     ]
    },
    {
     "data": {
      "text/html": [
       "\n",
       "        <table>\n",
       "            <tr>\n",
       "                <td><strong>Reaction identifier</strong></td><td>SHSL4</td>\n",
       "            </tr><tr>\n",
       "                <td><strong>Name</strong></td><td>R_SHSL4</td>\n",
       "            </tr><tr>\n",
       "                <td><strong>Memory address</strong></td>\n",
       "                <td>0x020f46053e20</td>\n",
       "            </tr><tr>\n",
       "                <td><strong>Stoichiometry</strong></td>\n",
       "                <td>\n",
       "                    <p style='text-align:right'>achms_c + trdrd_c + tsul_c --> ac_c + h_c + hcys_L_c + so3_c + trdox_c</p>\n",
       "                    <p style='text-align:right'>O-acetyl-L-homoserine + Reduced-thioredoxin + Thiosulfate --> Acetate + H + L-Homocysteine + Sulfite + Oxidized-thioredoxin</p>\n",
       "                </td>\n",
       "            </tr><tr>\n",
       "                <td><strong>GPR</strong></td><td>NGO0386</td>\n",
       "            </tr><tr>\n",
       "                <td><strong>Lower bound</strong></td><td>0.0</td>\n",
       "            </tr><tr>\n",
       "                <td><strong>Upper bound</strong></td><td>1000.0</td>\n",
       "            </tr>\n",
       "        </table>\n",
       "        "
      ],
      "text/plain": [
       "<Reaction SHSL4 at 0x20f46053e20>"
      ]
     },
     "execution_count": 235,
     "metadata": {},
     "output_type": "execute_result"
    }
   ],
   "source": [
    "h_c =model.metabolites.get_by_id('h_c')\n",
    "\n",
    "r.add_metabolites({\n",
    "    h_c: 2,\n",
    "})\n",
    "\n",
    "print(r.check_mass_balance())\n",
    "r"
   ]
  },
  {
   "cell_type": "code",
   "execution_count": 236,
   "id": "80cd69bb-03ea-43dc-a522-b3e90a2cb056",
   "metadata": {},
   "outputs": [
    {
     "name": "stdout",
     "output_type": "stream",
     "text": [
      "{'charge': 3.0, 'Fe': 1.0}\n"
     ]
    },
    {
     "data": {
      "text/html": [
       "\n",
       "        <table>\n",
       "            <tr>\n",
       "                <td><strong>Reaction identifier</strong></td><td>TFFE</td>\n",
       "            </tr><tr>\n",
       "                <td><strong>Name</strong></td><td>R_TFFE</td>\n",
       "            </tr><tr>\n",
       "                <td><strong>Memory address</strong></td>\n",
       "                <td>0x020f460796a0</td>\n",
       "            </tr><tr>\n",
       "                <td><strong>Stoichiometry</strong></td>\n",
       "                <td>\n",
       "                    <p style='text-align:right'>TfFe3_e --> Tf_e + 2.0 fe3_p</p>\n",
       "                    <p style='text-align:right'>Transferrin --> Transferrin residue + 2.0 Fe3</p>\n",
       "                </td>\n",
       "            </tr><tr>\n",
       "                <td><strong>GPR</strong></td><td>NGO1496 and NGO1495 and NGO1379 and NGO1378 and (Blank or NGO1377) and NGO0217 and NGO0216 and...</td>\n",
       "            </tr><tr>\n",
       "                <td><strong>Lower bound</strong></td><td>0.0</td>\n",
       "            </tr><tr>\n",
       "                <td><strong>Upper bound</strong></td><td>1000.0</td>\n",
       "            </tr>\n",
       "        </table>\n",
       "        "
      ],
      "text/plain": [
       "<Reaction TFFE at 0x20f460796a0>"
      ]
     },
     "execution_count": 236,
     "metadata": {},
     "output_type": "execute_result"
    }
   ],
   "source": [
    "#TFFE\n",
    "r = model.reactions.get_by_id('TFFE')\n",
    "print(r.check_mass_balance())\n",
    "r\n"
   ]
  },
  {
   "cell_type": "code",
   "execution_count": 237,
   "id": "5dc21b21-934f-45fa-b32c-172f930921cd",
   "metadata": {},
   "outputs": [
    {
     "name": "stdout",
     "output_type": "stream",
     "text": [
      "{}\n"
     ]
    },
    {
     "data": {
      "text/html": [
       "\n",
       "        <table>\n",
       "            <tr>\n",
       "                <td><strong>Reaction identifier</strong></td><td>TFFE</td>\n",
       "            </tr><tr>\n",
       "                <td><strong>Name</strong></td><td>R_TFFE</td>\n",
       "            </tr><tr>\n",
       "                <td><strong>Memory address</strong></td>\n",
       "                <td>0x020f460796a0</td>\n",
       "            </tr><tr>\n",
       "                <td><strong>Stoichiometry</strong></td>\n",
       "                <td>\n",
       "                    <p style='text-align:right'>TfFe3_e --> Tf_e + fe3_p</p>\n",
       "                    <p style='text-align:right'>Transferrin --> Transferrin residue + Fe3</p>\n",
       "                </td>\n",
       "            </tr><tr>\n",
       "                <td><strong>GPR</strong></td><td>NGO1496 and NGO1495 and NGO1379 and NGO1378 and (Blank or NGO1377) and NGO0217 and NGO0216 and...</td>\n",
       "            </tr><tr>\n",
       "                <td><strong>Lower bound</strong></td><td>0.0</td>\n",
       "            </tr><tr>\n",
       "                <td><strong>Upper bound</strong></td><td>1000.0</td>\n",
       "            </tr>\n",
       "        </table>\n",
       "        "
      ],
      "text/plain": [
       "<Reaction TFFE at 0x20f460796a0>"
      ]
     },
     "execution_count": 237,
     "metadata": {},
     "output_type": "execute_result"
    }
   ],
   "source": [
    "#Although transferrin holds two irons, Gc is only capable of stripping one off at a time. So transferrin is made to produce a single iron here. \n",
    "fe3_p =model.metabolites.get_by_id('fe3_p')\n",
    "\n",
    "r.add_metabolites({\n",
    "    fe3_p: -1,\n",
    "})\n",
    "\n",
    "print(r.check_mass_balance())\n",
    "r"
   ]
  },
  {
   "cell_type": "code",
   "execution_count": 238,
   "id": "609a58b5-dfbf-42bc-aad5-e442a5931c9e",
   "metadata": {},
   "outputs": [
    {
     "name": "stdout",
     "output_type": "stream",
     "text": [
      "{'X': 1.0}\n"
     ]
    },
    {
     "data": {
      "text/html": [
       "\n",
       "        <table>\n",
       "            <tr>\n",
       "                <td><strong>Reaction identifier</strong></td><td>TRDR1</td>\n",
       "            </tr><tr>\n",
       "                <td><strong>Name</strong></td><td>R_TRDR1</td>\n",
       "            </tr><tr>\n",
       "                <td><strong>Memory address</strong></td>\n",
       "                <td>0x020f46093b50</td>\n",
       "            </tr><tr>\n",
       "                <td><strong>Stoichiometry</strong></td>\n",
       "                <td>\n",
       "                    <p style='text-align:right'>h_c + nadph_c --> nadp_c + trdrd_c</p>\n",
       "                    <p style='text-align:right'>H + Nicotinamide-adenine-dinucleotide-phosphate--reduced --> Nicotinamide-adenine-dinucleotide-phosphate + Reduced-thioredoxin</p>\n",
       "                </td>\n",
       "            </tr><tr>\n",
       "                <td><strong>GPR</strong></td><td>NGO0580 and NGO2124</td>\n",
       "            </tr><tr>\n",
       "                <td><strong>Lower bound</strong></td><td>0.0</td>\n",
       "            </tr><tr>\n",
       "                <td><strong>Upper bound</strong></td><td>1000.0</td>\n",
       "            </tr>\n",
       "        </table>\n",
       "        "
      ],
      "text/plain": [
       "<Reaction TRDR1 at 0x20f46093b50>"
      ]
     },
     "execution_count": 238,
     "metadata": {},
     "output_type": "execute_result"
    }
   ],
   "source": [
    "#TRDR1\n",
    "#synthesis of thioredoxin. Protein based component.\n",
    "r = model.reactions.get_by_id('TRDR1')\n",
    "print(r.check_mass_balance())\n",
    "r\n"
   ]
  },
  {
   "cell_type": "code",
   "execution_count": 239,
   "id": "c2592dd4-6847-4bca-a3f6-b7cc3af8598d",
   "metadata": {},
   "outputs": [
    {
     "name": "stdout",
     "output_type": "stream",
     "text": [
      "{}\n"
     ]
    },
    {
     "data": {
      "text/html": [
       "\n",
       "        <table>\n",
       "            <tr>\n",
       "                <td><strong>Reaction identifier</strong></td><td>TRDR1</td>\n",
       "            </tr><tr>\n",
       "                <td><strong>Name</strong></td><td>R_TRDR1</td>\n",
       "            </tr><tr>\n",
       "                <td><strong>Memory address</strong></td>\n",
       "                <td>0x020f46093b50</td>\n",
       "            </tr><tr>\n",
       "                <td><strong>Stoichiometry</strong></td>\n",
       "                <td>\n",
       "                    <p style='text-align:right'>h_c + nadph_c + trdox_c --> nadp_c + trdrd_c</p>\n",
       "                    <p style='text-align:right'>H + Nicotinamide-adenine-dinucleotide-phosphate--reduced + Oxidized-thioredoxin --> Nicotinamide-adenine-dinucleotide-phosphate + Reduced-thioredoxin</p>\n",
       "                </td>\n",
       "            </tr><tr>\n",
       "                <td><strong>GPR</strong></td><td>NGO0580 and NGO2124</td>\n",
       "            </tr><tr>\n",
       "                <td><strong>Lower bound</strong></td><td>0.0</td>\n",
       "            </tr><tr>\n",
       "                <td><strong>Upper bound</strong></td><td>1000.0</td>\n",
       "            </tr>\n",
       "        </table>\n",
       "        "
      ],
      "text/plain": [
       "<Reaction TRDR1 at 0x20f46093b50>"
      ]
     },
     "execution_count": 239,
     "metadata": {},
     "output_type": "execute_result"
    }
   ],
   "source": [
    "trdox_c =model.metabolites.get_by_id('trdox_c')\n",
    "\n",
    "r.add_metabolites({\n",
    "    trdox_c: -1,\n",
    "})\n",
    "\n",
    "print(r.check_mass_balance())\n",
    "r"
   ]
  },
  {
   "cell_type": "code",
   "execution_count": 240,
   "id": "ad29703f-8d55-4ea9-bf56-637acbcb7f3a",
   "metadata": {},
   "outputs": [],
   "source": [
    "#Add thioredoxin import reaction. This is required to show \"synthesis\" of a protein based component. \n",
    "#Integration of Biomass Formulations of Genome-Scale Metabolic Models with Experimental Data Reveals Universally Essential Cofactors in Prokaryotes\n",
    "#Joana C Xavier, Kiran Raosaheb Patil, Isabel Rocha\n",
    "#PMID: 27939572 PMCID: PMC5249239\n",
    "\n",
    "trdrd_c = model.metabolites.get_by_id('trdrd_c')\n",
    "\n",
    "EX_trdrd_c_ = cobra.Reaction('EX_trdrd_c_')\n",
    "EX_trdrd_c_.gene_reaction_rule = ''\n",
    "EX_trdrd_c_.lower_bound = 0.\n",
    "EX_trdrd_c_.upper_bound = 1000.\n",
    "EX_trdrd_c_.add_metabolites({\n",
    "    trdrd_c: -1.0,\n",
    "})\n",
    "\n",
    "model.add_reactions([EX_trdrd_c_])\n"
   ]
  },
  {
   "cell_type": "code",
   "execution_count": 241,
   "id": "b50ae99c-4d08-4c83-bc06-d30f0617d513",
   "metadata": {},
   "outputs": [
    {
     "name": "stdout",
     "output_type": "stream",
     "text": [
      "{'charge': -2.0, 'H': -2.0}\n"
     ]
    },
    {
     "data": {
      "text/html": [
       "\n",
       "        <table>\n",
       "            <tr>\n",
       "                <td><strong>Reaction identifier</strong></td><td>TSULST</td>\n",
       "            </tr><tr>\n",
       "                <td><strong>Name</strong></td><td>R_TSULST</td>\n",
       "            </tr><tr>\n",
       "                <td><strong>Memory address</strong></td>\n",
       "                <td>0x020f4609fa00</td>\n",
       "            </tr><tr>\n",
       "                <td><strong>Stoichiometry</strong></td>\n",
       "                <td>\n",
       "                    <p style='text-align:right'>acser_c + h_c + trdrd_c + tsul_c <=> ac_c + cys_L_c + so3_c + trdox_c</p>\n",
       "                    <p style='text-align:right'>O-Acetyl-L-serine + H + Reduced-thioredoxin + Thiosulfate <=> Acetate + L-Cysteine + Sulfite + Oxidized-thioredoxin</p>\n",
       "                </td>\n",
       "            </tr><tr>\n",
       "                <td><strong>GPR</strong></td><td>NGO0340</td>\n",
       "            </tr><tr>\n",
       "                <td><strong>Lower bound</strong></td><td>-1000.0</td>\n",
       "            </tr><tr>\n",
       "                <td><strong>Upper bound</strong></td><td>1000.0</td>\n",
       "            </tr>\n",
       "        </table>\n",
       "        "
      ],
      "text/plain": [
       "<Reaction TSULST at 0x20f4609fa00>"
      ]
     },
     "execution_count": 241,
     "metadata": {},
     "output_type": "execute_result"
    }
   ],
   "source": [
    "#TSULST\n",
    "#synthesis of thioredoxin. Protein based component. \n",
    "r = model.reactions.get_by_id('TSULST')\n",
    "print(r.check_mass_balance())\n",
    "r\n"
   ]
  },
  {
   "cell_type": "code",
   "execution_count": 242,
   "id": "c392615b-a10f-4fad-8835-abdbf7706a5e",
   "metadata": {},
   "outputs": [
    {
     "name": "stdout",
     "output_type": "stream",
     "text": [
      "{}\n"
     ]
    },
    {
     "data": {
      "text/html": [
       "\n",
       "        <table>\n",
       "            <tr>\n",
       "                <td><strong>Reaction identifier</strong></td><td>TSULST</td>\n",
       "            </tr><tr>\n",
       "                <td><strong>Name</strong></td><td>R_TSULST</td>\n",
       "            </tr><tr>\n",
       "                <td><strong>Memory address</strong></td>\n",
       "                <td>0x020f4609fa00</td>\n",
       "            </tr><tr>\n",
       "                <td><strong>Stoichiometry</strong></td>\n",
       "                <td>\n",
       "                    <p style='text-align:right'>acser_c + trdrd_c + tsul_c <=> ac_c + cys_L_c + h_c + so3_c + trdox_c</p>\n",
       "                    <p style='text-align:right'>O-Acetyl-L-serine + Reduced-thioredoxin + Thiosulfate <=> Acetate + L-Cysteine + H + Sulfite + Oxidized-thioredoxin</p>\n",
       "                </td>\n",
       "            </tr><tr>\n",
       "                <td><strong>GPR</strong></td><td>NGO0340</td>\n",
       "            </tr><tr>\n",
       "                <td><strong>Lower bound</strong></td><td>-1000.0</td>\n",
       "            </tr><tr>\n",
       "                <td><strong>Upper bound</strong></td><td>1000.0</td>\n",
       "            </tr>\n",
       "        </table>\n",
       "        "
      ],
      "text/plain": [
       "<Reaction TSULST at 0x20f4609fa00>"
      ]
     },
     "execution_count": 242,
     "metadata": {},
     "output_type": "execute_result"
    }
   ],
   "source": [
    "h_c =model.metabolites.get_by_id('h_c')\n",
    "\n",
    "r.add_metabolites({\n",
    "    h_c: 2,\n",
    "})\n",
    "\n",
    "print(r.check_mass_balance())\n",
    "r"
   ]
  },
  {
   "cell_type": "code",
   "execution_count": 243,
   "id": "297963a6-2f9e-43d5-ba93-88d6afad2ff3",
   "metadata": {},
   "outputs": [
    {
     "name": "stdout",
     "output_type": "stream",
     "text": [
      "28 28 28\n"
     ]
    },
    {
     "data": {
      "text/html": [
       "<div>\n",
       "<style scoped>\n",
       "    .dataframe tbody tr th:only-of-type {\n",
       "        vertical-align: middle;\n",
       "    }\n",
       "\n",
       "    .dataframe tbody tr th {\n",
       "        vertical-align: top;\n",
       "    }\n",
       "\n",
       "    .dataframe thead th {\n",
       "        text-align: right;\n",
       "    }\n",
       "</style>\n",
       "<table border=\"1\" class=\"dataframe\">\n",
       "  <thead>\n",
       "    <tr style=\"text-align: right;\">\n",
       "      <th></th>\n",
       "      <th>Reactions</th>\n",
       "      <th>Charge</th>\n",
       "      <th>Masses</th>\n",
       "    </tr>\n",
       "  </thead>\n",
       "  <tbody>\n",
       "    <tr>\n",
       "      <th>0</th>\n",
       "      <td>3OAS161a</td>\n",
       "      <td>1.0</td>\n",
       "      <td>{'C': -12.0, 'H': -21.0, 'N': -2.0, 'O': -9.0,...</td>\n",
       "    </tr>\n",
       "    <tr>\n",
       "      <th>1</th>\n",
       "      <td>ADPT</td>\n",
       "      <td>-1.0</td>\n",
       "      <td>{'H': -1.0}</td>\n",
       "    </tr>\n",
       "    <tr>\n",
       "      <th>2</th>\n",
       "      <td>ANPRT</td>\n",
       "      <td>-1.0</td>\n",
       "      <td>{'H': -1.0}</td>\n",
       "    </tr>\n",
       "    <tr>\n",
       "      <th>3</th>\n",
       "      <td>ATPPRT</td>\n",
       "      <td>-1.0</td>\n",
       "      <td>{'H': -1.0}</td>\n",
       "    </tr>\n",
       "    <tr>\n",
       "      <th>4</th>\n",
       "      <td>BTS4</td>\n",
       "      <td></td>\n",
       "      <td>{'S': 1.0}</td>\n",
       "    </tr>\n",
       "    <tr>\n",
       "      <th>5</th>\n",
       "      <td>CYTCS</td>\n",
       "      <td>5.0</td>\n",
       "      <td>{'C': 8.0, 'H': 14.0, 'N': 4.0, 'O': 4.0, 'S':...</td>\n",
       "    </tr>\n",
       "    <tr>\n",
       "      <th>6</th>\n",
       "      <td>GLUPRT</td>\n",
       "      <td>-1.0</td>\n",
       "      <td>{'H': -1.0}</td>\n",
       "    </tr>\n",
       "    <tr>\n",
       "      <th>7</th>\n",
       "      <td>GUAPRT</td>\n",
       "      <td>-1.0</td>\n",
       "      <td>{'H': -1.0}</td>\n",
       "    </tr>\n",
       "    <tr>\n",
       "      <th>8</th>\n",
       "      <td>DDPGA</td>\n",
       "      <td>2.0</td>\n",
       "      <td>{'H': 2.0}</td>\n",
       "    </tr>\n",
       "    <tr>\n",
       "      <th>9</th>\n",
       "      <td>HGFE</td>\n",
       "      <td>-8.0</td>\n",
       "      <td>{}</td>\n",
       "    </tr>\n",
       "    <tr>\n",
       "      <th>10</th>\n",
       "      <td>HXPRT</td>\n",
       "      <td>-1.0</td>\n",
       "      <td>{'H': -1.0}</td>\n",
       "    </tr>\n",
       "    <tr>\n",
       "      <th>11</th>\n",
       "      <td>MAc7</td>\n",
       "      <td>6.0</td>\n",
       "      <td>{}</td>\n",
       "    </tr>\n",
       "    <tr>\n",
       "      <th>12</th>\n",
       "      <td>MDDCP6pp</td>\n",
       "      <td>6.0</td>\n",
       "      <td>{'H': 3.0, 'N': -6.0}</td>\n",
       "    </tr>\n",
       "    <tr>\n",
       "      <th>13</th>\n",
       "      <td>METS</td>\n",
       "      <td>1.0</td>\n",
       "      <td>{'H': 1.0}</td>\n",
       "    </tr>\n",
       "    <tr>\n",
       "      <th>14</th>\n",
       "      <td>MTHFR2</td>\n",
       "      <td>-1.0</td>\n",
       "      <td>{'H': -1.0}</td>\n",
       "    </tr>\n",
       "    <tr>\n",
       "      <th>15</th>\n",
       "      <td>NAMNPP</td>\n",
       "      <td>-1.0</td>\n",
       "      <td>{'H': -1.0}</td>\n",
       "    </tr>\n",
       "    <tr>\n",
       "      <th>16</th>\n",
       "      <td>NNDPR</td>\n",
       "      <td>-1.0</td>\n",
       "      <td>{'H': -1.0}</td>\n",
       "    </tr>\n",
       "    <tr>\n",
       "      <th>17</th>\n",
       "      <td>ORPT</td>\n",
       "      <td>1.0</td>\n",
       "      <td>{'H': 1.0}</td>\n",
       "    </tr>\n",
       "    <tr>\n",
       "      <th>18</th>\n",
       "      <td>P3H5CD</td>\n",
       "      <td>-1.0</td>\n",
       "      <td>{'H': -1.0}</td>\n",
       "    </tr>\n",
       "    <tr>\n",
       "      <th>19</th>\n",
       "      <td>PHEMEFErel</td>\n",
       "      <td>7.0</td>\n",
       "      <td>{}</td>\n",
       "    </tr>\n",
       "    <tr>\n",
       "      <th>20</th>\n",
       "      <td>PLIPA1E161a</td>\n",
       "      <td>-1.0</td>\n",
       "      <td>{'H': -1.0}</td>\n",
       "    </tr>\n",
       "    <tr>\n",
       "      <th>21</th>\n",
       "      <td>PLIPA1G161a</td>\n",
       "      <td>-1.0</td>\n",
       "      <td>{'H': -1.0}</td>\n",
       "    </tr>\n",
       "    <tr>\n",
       "      <th>22</th>\n",
       "      <td>PMCOAS</td>\n",
       "      <td>-1.0</td>\n",
       "      <td>{'C': 7.0, 'H': 9.0, 'O': 3.0}</td>\n",
       "    </tr>\n",
       "    <tr>\n",
       "      <th>23</th>\n",
       "      <td>PRPPS</td>\n",
       "      <td>1.0</td>\n",
       "      <td>{'H': 1.0}</td>\n",
       "    </tr>\n",
       "    <tr>\n",
       "      <th>24</th>\n",
       "      <td>UPPRT</td>\n",
       "      <td>-1.0</td>\n",
       "      <td>{'H': -1.0}</td>\n",
       "    </tr>\n",
       "    <tr>\n",
       "      <th>25</th>\n",
       "      <td>XPPT</td>\n",
       "      <td>-1.0</td>\n",
       "      <td>{'H': -1.0}</td>\n",
       "    </tr>\n",
       "    <tr>\n",
       "      <th>26</th>\n",
       "      <td>XPRT</td>\n",
       "      <td>-1.0</td>\n",
       "      <td>{'H': -1.0}</td>\n",
       "    </tr>\n",
       "    <tr>\n",
       "      <th>27</th>\n",
       "      <td>CYPOX</td>\n",
       "      <td>-2.0</td>\n",
       "      <td>{}</td>\n",
       "    </tr>\n",
       "  </tbody>\n",
       "</table>\n",
       "</div>"
      ],
      "text/plain": [
       "      Reactions Charge                                             Masses\n",
       "0      3OAS161a    1.0  {'C': -12.0, 'H': -21.0, 'N': -2.0, 'O': -9.0,...\n",
       "1          ADPT   -1.0                                        {'H': -1.0}\n",
       "2         ANPRT   -1.0                                        {'H': -1.0}\n",
       "3        ATPPRT   -1.0                                        {'H': -1.0}\n",
       "4          BTS4                                                {'S': 1.0}\n",
       "5         CYTCS    5.0  {'C': 8.0, 'H': 14.0, 'N': 4.0, 'O': 4.0, 'S':...\n",
       "6        GLUPRT   -1.0                                        {'H': -1.0}\n",
       "7        GUAPRT   -1.0                                        {'H': -1.0}\n",
       "8         DDPGA    2.0                                         {'H': 2.0}\n",
       "9          HGFE   -8.0                                                 {}\n",
       "10        HXPRT   -1.0                                        {'H': -1.0}\n",
       "11         MAc7    6.0                                                 {}\n",
       "12     MDDCP6pp    6.0                              {'H': 3.0, 'N': -6.0}\n",
       "13         METS    1.0                                         {'H': 1.0}\n",
       "14       MTHFR2   -1.0                                        {'H': -1.0}\n",
       "15       NAMNPP   -1.0                                        {'H': -1.0}\n",
       "16        NNDPR   -1.0                                        {'H': -1.0}\n",
       "17         ORPT    1.0                                         {'H': 1.0}\n",
       "18       P3H5CD   -1.0                                        {'H': -1.0}\n",
       "19   PHEMEFErel    7.0                                                 {}\n",
       "20  PLIPA1E161a   -1.0                                        {'H': -1.0}\n",
       "21  PLIPA1G161a   -1.0                                        {'H': -1.0}\n",
       "22       PMCOAS   -1.0                     {'C': 7.0, 'H': 9.0, 'O': 3.0}\n",
       "23        PRPPS    1.0                                         {'H': 1.0}\n",
       "24        UPPRT   -1.0                                        {'H': -1.0}\n",
       "25         XPPT   -1.0                                        {'H': -1.0}\n",
       "26         XPRT   -1.0                                        {'H': -1.0}\n",
       "27        CYPOX   -2.0                                                 {}"
      ]
     },
     "execution_count": 243,
     "metadata": {},
     "output_type": "execute_result"
    }
   ],
   "source": [
    "#After bulk removing cofactors, what reaction imbalances remain?\n",
    "reactions = []\n",
    "charge = []\n",
    "mass = []\n",
    "for react in model.reactions:\n",
    "    result = react.check_mass_balance()\n",
    "    if 'EX_' in  react.id:\n",
    "        continue\n",
    "    if 'Nm_' in  react.id:\n",
    "        continue\n",
    "    if 'DM_' in  react.id:\n",
    "        continue \n",
    "    if react.id in biomass_reactions:\n",
    "        continue\n",
    "    if len(result) == 0:\n",
    "        continue\n",
    "    else: \n",
    "        reactions.append(react.id)\n",
    "        masses = {}\n",
    "        for key in result.keys():\n",
    "            if key == 'charge':\n",
    "                charge.append(result['charge'])\n",
    "            else:\n",
    "                masses[key] = result[key]\n",
    "        if 'charge' not in result.keys():\n",
    "            charge.append('')\n",
    "        mass.append(masses)\n",
    "print(len(reactions), len(charge), len(mass))\n",
    "\n",
    "mass_charge_dict = {'Reactions': reactions, 'Charge': charge, 'Masses': mass}\n",
    "mass_charge = pandas.DataFrame(mass_charge_dict)\n",
    "mass_charge"
   ]
  },
  {
   "cell_type": "code",
   "execution_count": 244,
   "id": "2031731e-3d6a-400e-a3fc-a583a4cb0cdd",
   "metadata": {},
   "outputs": [
    {
     "name": "stdout",
     "output_type": "stream",
     "text": [
      "{'charge': 2.0, 'H': 2.0}\n"
     ]
    },
    {
     "data": {
      "text/html": [
       "\n",
       "        <table>\n",
       "            <tr>\n",
       "                <td><strong>Reaction identifier</strong></td><td>DDPGA</td>\n",
       "            </tr><tr>\n",
       "                <td><strong>Name</strong></td><td>R_DDPGA</td>\n",
       "            </tr><tr>\n",
       "                <td><strong>Memory address</strong></td>\n",
       "                <td>0x020f45e288e0</td>\n",
       "            </tr><tr>\n",
       "                <td><strong>Stoichiometry</strong></td>\n",
       "                <td>\n",
       "                    <p style='text-align:right'>4h2oglt_c --> glx_c + 2.0 h_c + pyr_c</p>\n",
       "                    <p style='text-align:right'>D-4-Hydroxy-2-oxoglutarate --> Glyoxylate + 2.0 H + Pyruvate</p>\n",
       "                </td>\n",
       "            </tr><tr>\n",
       "                <td><strong>GPR</strong></td><td>NGO0713</td>\n",
       "            </tr><tr>\n",
       "                <td><strong>Lower bound</strong></td><td>0.0</td>\n",
       "            </tr><tr>\n",
       "                <td><strong>Upper bound</strong></td><td>1000.0</td>\n",
       "            </tr>\n",
       "        </table>\n",
       "        "
      ],
      "text/plain": [
       "<Reaction DDPGA at 0x20f45e288e0>"
      ]
     },
     "execution_count": 244,
     "metadata": {},
     "output_type": "execute_result"
    }
   ],
   "source": [
    "#DDPGA\n",
    "r = model.reactions.get_by_id('DDPGA')\n",
    "print(r.check_mass_balance())\n",
    "r"
   ]
  },
  {
   "cell_type": "code",
   "execution_count": 245,
   "id": "110c60c8-2fa2-437e-a947-3fae3fbe14ea",
   "metadata": {},
   "outputs": [
    {
     "name": "stdout",
     "output_type": "stream",
     "text": [
      "{}\n"
     ]
    },
    {
     "data": {
      "text/html": [
       "\n",
       "        <table>\n",
       "            <tr>\n",
       "                <td><strong>Reaction identifier</strong></td><td>DDPGA</td>\n",
       "            </tr><tr>\n",
       "                <td><strong>Name</strong></td><td>R_DDPGA</td>\n",
       "            </tr><tr>\n",
       "                <td><strong>Memory address</strong></td>\n",
       "                <td>0x020f45e288e0</td>\n",
       "            </tr><tr>\n",
       "                <td><strong>Stoichiometry</strong></td>\n",
       "                <td>\n",
       "                    <p style='text-align:right'>4h2oglt_c --> glx_c + pyr_c</p>\n",
       "                    <p style='text-align:right'>D-4-Hydroxy-2-oxoglutarate --> Glyoxylate + Pyruvate</p>\n",
       "                </td>\n",
       "            </tr><tr>\n",
       "                <td><strong>GPR</strong></td><td>NGO0713</td>\n",
       "            </tr><tr>\n",
       "                <td><strong>Lower bound</strong></td><td>0.0</td>\n",
       "            </tr><tr>\n",
       "                <td><strong>Upper bound</strong></td><td>1000.0</td>\n",
       "            </tr>\n",
       "        </table>\n",
       "        "
      ],
      "text/plain": [
       "<Reaction DDPGA at 0x20f45e288e0>"
      ]
     },
     "execution_count": 245,
     "metadata": {},
     "output_type": "execute_result"
    }
   ],
   "source": [
    "#There are two extra Hs produced in this reaction due to changes in protonation for h2oglt/glx. \n",
    "#Bigg does not indicate hydrogens are produced in this reaction. Correcting to match bigg. \n",
    "h_c =model.metabolites.get_by_id('h_c')\n",
    "\n",
    "r.add_metabolites({\n",
    "    h_c: -2,\n",
    "})\n",
    "\n",
    "print(r.check_mass_balance())\n",
    "r"
   ]
  },
  {
   "cell_type": "code",
   "execution_count": 246,
   "id": "35a5c6da-0c3d-4d75-8a7b-8bd3c480ff5b",
   "metadata": {},
   "outputs": [
    {
     "name": "stdout",
     "output_type": "stream",
     "text": [
      "{'charge': -1.0, 'H': -1.0}\n"
     ]
    },
    {
     "data": {
      "text/html": [
       "\n",
       "        <table>\n",
       "            <tr>\n",
       "                <td><strong>Reaction identifier</strong></td><td>P3H5CD</td>\n",
       "            </tr><tr>\n",
       "                <td><strong>Name</strong></td><td>R_P3H5CD</td>\n",
       "            </tr><tr>\n",
       "                <td><strong>Memory address</strong></td>\n",
       "                <td>0x020f45f2ddc0</td>\n",
       "            </tr><tr>\n",
       "                <td><strong>Stoichiometry</strong></td>\n",
       "                <td>\n",
       "                    <p style='text-align:right'>1p3h5c_c + 2.0 h2o_c + nadp_c <=> e4hglu_c + h_c + nadph_c</p>\n",
       "                    <p style='text-align:right'>L-1-Pyrroline-3-hydroxy-5-carboxylate + 2.0 H2O + Nicotinamide-adenine-dinucleotide-phosphate <=> L-erythro-4-Hydroxyglutamate + H + Nicotinamide-adenine-dinucleotide-phosphate--reduced</p>\n",
       "                </td>\n",
       "            </tr><tr>\n",
       "                <td><strong>GPR</strong></td><td>NGO08225</td>\n",
       "            </tr><tr>\n",
       "                <td><strong>Lower bound</strong></td><td>-1000.0</td>\n",
       "            </tr><tr>\n",
       "                <td><strong>Upper bound</strong></td><td>1000.0</td>\n",
       "            </tr>\n",
       "        </table>\n",
       "        "
      ],
      "text/plain": [
       "<Reaction P3H5CD at 0x20f45f2ddc0>"
      ]
     },
     "execution_count": 246,
     "metadata": {},
     "output_type": "execute_result"
    }
   ],
   "source": [
    "#P3H5CD\n",
    "r = model.reactions.get_by_id('P3H5CD')\n",
    "print(r.check_mass_balance())\n",
    "r"
   ]
  },
  {
   "cell_type": "code",
   "execution_count": 247,
   "id": "00e17984-0f69-437f-b814-05301765cc16",
   "metadata": {},
   "outputs": [
    {
     "name": "stdout",
     "output_type": "stream",
     "text": [
      "{}\n"
     ]
    },
    {
     "data": {
      "text/html": [
       "\n",
       "        <table>\n",
       "            <tr>\n",
       "                <td><strong>Reaction identifier</strong></td><td>P3H5CD</td>\n",
       "            </tr><tr>\n",
       "                <td><strong>Name</strong></td><td>R_P3H5CD</td>\n",
       "            </tr><tr>\n",
       "                <td><strong>Memory address</strong></td>\n",
       "                <td>0x020f45f2ddc0</td>\n",
       "            </tr><tr>\n",
       "                <td><strong>Stoichiometry</strong></td>\n",
       "                <td>\n",
       "                    <p style='text-align:right'>1p3h5c_c + 2.0 h2o_c + nadp_c <=> e4hglu_c + 2.0 h_c + nadph_c</p>\n",
       "                    <p style='text-align:right'>L-1-Pyrroline-3-hydroxy-5-carboxylate + 2.0 H2O + Nicotinamide-adenine-dinucleotide-phosphate <=> L-erythro-4-Hydroxyglutamate + 2.0 H + Nicotinamide-adenine-dinucleotide-phosphate--reduced</p>\n",
       "                </td>\n",
       "            </tr><tr>\n",
       "                <td><strong>GPR</strong></td><td>NGO08225</td>\n",
       "            </tr><tr>\n",
       "                <td><strong>Lower bound</strong></td><td>-1000.0</td>\n",
       "            </tr><tr>\n",
       "                <td><strong>Upper bound</strong></td><td>1000.0</td>\n",
       "            </tr>\n",
       "        </table>\n",
       "        "
      ],
      "text/plain": [
       "<Reaction P3H5CD at 0x20f45f2ddc0>"
      ]
     },
     "execution_count": 247,
     "metadata": {},
     "output_type": "execute_result"
    }
   ],
   "source": [
    "#The protonation of e4hglu was changed when correcting HGTA. This results in having an extra h consumed in P3H5CD.\n",
    "#This is corrected here. \n",
    "h_c =model.metabolites.get_by_id('h_c')\n",
    "\n",
    "r.add_metabolites({\n",
    "    h_c: 1.0,\n",
    "})\n",
    "\n",
    "print(r.check_mass_balance())\n",
    "r"
   ]
  },
  {
   "cell_type": "code",
   "execution_count": 248,
   "id": "93b8b3d9-5d11-4962-9ae3-02c352e6d561",
   "metadata": {},
   "outputs": [
    {
     "data": {
      "text/html": [
       "\n",
       "        <table>\n",
       "            <tr>\n",
       "                <td><strong>Reaction identifier</strong></td><td>3HAD161x</td>\n",
       "            </tr><tr>\n",
       "                <td><strong>Name</strong></td><td>R_3HAD161x</td>\n",
       "            </tr><tr>\n",
       "                <td><strong>Memory address</strong></td>\n",
       "                <td>0x020f45bdae80</td>\n",
       "            </tr><tr>\n",
       "                <td><strong>Stoichiometry</strong></td>\n",
       "                <td>\n",
       "                    <p style='text-align:right'>3hcpalm5eACP_c --> h2o_c + t3c5palmeACP_c</p>\n",
       "                    <p style='text-align:right'>M_3hcpalm5eACP_c --> H2O + Abbreviated name t3c5palmeACP_c trans-3-cis-5-palmitoleoyl-acyl-carrier-protein t3c5palmeACP_c trans-3-cis-5-palmitoleoyl-acyl-carrier-protein Name: Full name, dtype: object</p>\n",
       "                </td>\n",
       "            </tr><tr>\n",
       "                <td><strong>GPR</strong></td><td>NGO1804</td>\n",
       "            </tr><tr>\n",
       "                <td><strong>Lower bound</strong></td><td>0.0</td>\n",
       "            </tr><tr>\n",
       "                <td><strong>Upper bound</strong></td><td>1000.0</td>\n",
       "            </tr>\n",
       "        </table>\n",
       "        "
      ],
      "text/plain": [
       "<Reaction 3HAD161x at 0x20f45bdae80>"
      ]
     },
     "execution_count": 248,
     "metadata": {},
     "output_type": "execute_result"
    }
   ],
   "source": [
    "model.reactions.get_by_id('3HAD161x')"
   ]
  },
  {
   "cell_type": "code",
   "execution_count": 249,
   "id": "9bfa236a-a37a-4473-a686-029a7d612a69",
   "metadata": {},
   "outputs": [],
   "source": [
    "model.metabolites.get_by_id('t3c5palmeACP_c').formula= 'C27H47N2O8PRS'"
   ]
  },
  {
   "cell_type": "code",
   "execution_count": 250,
   "id": "a8e07e22-3809-49e1-bf48-cd86d27c98c2",
   "metadata": {},
   "outputs": [
    {
     "name": "stdout",
     "output_type": "stream",
     "text": [
      "26 26 26\n"
     ]
    },
    {
     "data": {
      "text/html": [
       "<div>\n",
       "<style scoped>\n",
       "    .dataframe tbody tr th:only-of-type {\n",
       "        vertical-align: middle;\n",
       "    }\n",
       "\n",
       "    .dataframe tbody tr th {\n",
       "        vertical-align: top;\n",
       "    }\n",
       "\n",
       "    .dataframe thead th {\n",
       "        text-align: right;\n",
       "    }\n",
       "</style>\n",
       "<table border=\"1\" class=\"dataframe\">\n",
       "  <thead>\n",
       "    <tr style=\"text-align: right;\">\n",
       "      <th></th>\n",
       "      <th>Reactions</th>\n",
       "      <th>Charge</th>\n",
       "      <th>Masses</th>\n",
       "    </tr>\n",
       "  </thead>\n",
       "  <tbody>\n",
       "    <tr>\n",
       "      <th>0</th>\n",
       "      <td>3OAS161a</td>\n",
       "      <td>1.0</td>\n",
       "      <td>{'C': -12.0, 'H': -21.0, 'N': -2.0, 'O': -9.0,...</td>\n",
       "    </tr>\n",
       "    <tr>\n",
       "      <th>1</th>\n",
       "      <td>ADPT</td>\n",
       "      <td>-1.0</td>\n",
       "      <td>{'H': -1.0}</td>\n",
       "    </tr>\n",
       "    <tr>\n",
       "      <th>2</th>\n",
       "      <td>ANPRT</td>\n",
       "      <td>-1.0</td>\n",
       "      <td>{'H': -1.0}</td>\n",
       "    </tr>\n",
       "    <tr>\n",
       "      <th>3</th>\n",
       "      <td>ATPPRT</td>\n",
       "      <td>-1.0</td>\n",
       "      <td>{'H': -1.0}</td>\n",
       "    </tr>\n",
       "    <tr>\n",
       "      <th>4</th>\n",
       "      <td>BTS4</td>\n",
       "      <td></td>\n",
       "      <td>{'S': 1.0}</td>\n",
       "    </tr>\n",
       "    <tr>\n",
       "      <th>5</th>\n",
       "      <td>CYTCS</td>\n",
       "      <td>5.0</td>\n",
       "      <td>{'C': 8.0, 'H': 14.0, 'N': 4.0, 'O': 4.0, 'S':...</td>\n",
       "    </tr>\n",
       "    <tr>\n",
       "      <th>6</th>\n",
       "      <td>GLUPRT</td>\n",
       "      <td>-1.0</td>\n",
       "      <td>{'H': -1.0}</td>\n",
       "    </tr>\n",
       "    <tr>\n",
       "      <th>7</th>\n",
       "      <td>GUAPRT</td>\n",
       "      <td>-1.0</td>\n",
       "      <td>{'H': -1.0}</td>\n",
       "    </tr>\n",
       "    <tr>\n",
       "      <th>8</th>\n",
       "      <td>HGFE</td>\n",
       "      <td>-8.0</td>\n",
       "      <td>{}</td>\n",
       "    </tr>\n",
       "    <tr>\n",
       "      <th>9</th>\n",
       "      <td>HXPRT</td>\n",
       "      <td>-1.0</td>\n",
       "      <td>{'H': -1.0}</td>\n",
       "    </tr>\n",
       "    <tr>\n",
       "      <th>10</th>\n",
       "      <td>MAc7</td>\n",
       "      <td>6.0</td>\n",
       "      <td>{}</td>\n",
       "    </tr>\n",
       "    <tr>\n",
       "      <th>11</th>\n",
       "      <td>MDDCP6pp</td>\n",
       "      <td>6.0</td>\n",
       "      <td>{'H': 3.0, 'N': -6.0}</td>\n",
       "    </tr>\n",
       "    <tr>\n",
       "      <th>12</th>\n",
       "      <td>METS</td>\n",
       "      <td>1.0</td>\n",
       "      <td>{'H': 1.0}</td>\n",
       "    </tr>\n",
       "    <tr>\n",
       "      <th>13</th>\n",
       "      <td>MTHFR2</td>\n",
       "      <td>-1.0</td>\n",
       "      <td>{'H': -1.0}</td>\n",
       "    </tr>\n",
       "    <tr>\n",
       "      <th>14</th>\n",
       "      <td>NAMNPP</td>\n",
       "      <td>-1.0</td>\n",
       "      <td>{'H': -1.0}</td>\n",
       "    </tr>\n",
       "    <tr>\n",
       "      <th>15</th>\n",
       "      <td>NNDPR</td>\n",
       "      <td>-1.0</td>\n",
       "      <td>{'H': -1.0}</td>\n",
       "    </tr>\n",
       "    <tr>\n",
       "      <th>16</th>\n",
       "      <td>ORPT</td>\n",
       "      <td>1.0</td>\n",
       "      <td>{'H': 1.0}</td>\n",
       "    </tr>\n",
       "    <tr>\n",
       "      <th>17</th>\n",
       "      <td>PHEMEFErel</td>\n",
       "      <td>7.0</td>\n",
       "      <td>{}</td>\n",
       "    </tr>\n",
       "    <tr>\n",
       "      <th>18</th>\n",
       "      <td>PLIPA1E161a</td>\n",
       "      <td>-1.0</td>\n",
       "      <td>{'H': -1.0}</td>\n",
       "    </tr>\n",
       "    <tr>\n",
       "      <th>19</th>\n",
       "      <td>PLIPA1G161a</td>\n",
       "      <td>-1.0</td>\n",
       "      <td>{'H': -1.0}</td>\n",
       "    </tr>\n",
       "    <tr>\n",
       "      <th>20</th>\n",
       "      <td>PMCOAS</td>\n",
       "      <td>-1.0</td>\n",
       "      <td>{'C': 7.0, 'H': 9.0, 'O': 3.0}</td>\n",
       "    </tr>\n",
       "    <tr>\n",
       "      <th>21</th>\n",
       "      <td>PRPPS</td>\n",
       "      <td>1.0</td>\n",
       "      <td>{'H': 1.0}</td>\n",
       "    </tr>\n",
       "    <tr>\n",
       "      <th>22</th>\n",
       "      <td>UPPRT</td>\n",
       "      <td>-1.0</td>\n",
       "      <td>{'H': -1.0}</td>\n",
       "    </tr>\n",
       "    <tr>\n",
       "      <th>23</th>\n",
       "      <td>XPPT</td>\n",
       "      <td>-1.0</td>\n",
       "      <td>{'H': -1.0}</td>\n",
       "    </tr>\n",
       "    <tr>\n",
       "      <th>24</th>\n",
       "      <td>XPRT</td>\n",
       "      <td>-1.0</td>\n",
       "      <td>{'H': -1.0}</td>\n",
       "    </tr>\n",
       "    <tr>\n",
       "      <th>25</th>\n",
       "      <td>CYPOX</td>\n",
       "      <td>-2.0</td>\n",
       "      <td>{}</td>\n",
       "    </tr>\n",
       "  </tbody>\n",
       "</table>\n",
       "</div>"
      ],
      "text/plain": [
       "      Reactions Charge                                             Masses\n",
       "0      3OAS161a    1.0  {'C': -12.0, 'H': -21.0, 'N': -2.0, 'O': -9.0,...\n",
       "1          ADPT   -1.0                                        {'H': -1.0}\n",
       "2         ANPRT   -1.0                                        {'H': -1.0}\n",
       "3        ATPPRT   -1.0                                        {'H': -1.0}\n",
       "4          BTS4                                                {'S': 1.0}\n",
       "5         CYTCS    5.0  {'C': 8.0, 'H': 14.0, 'N': 4.0, 'O': 4.0, 'S':...\n",
       "6        GLUPRT   -1.0                                        {'H': -1.0}\n",
       "7        GUAPRT   -1.0                                        {'H': -1.0}\n",
       "8          HGFE   -8.0                                                 {}\n",
       "9         HXPRT   -1.0                                        {'H': -1.0}\n",
       "10         MAc7    6.0                                                 {}\n",
       "11     MDDCP6pp    6.0                              {'H': 3.0, 'N': -6.0}\n",
       "12         METS    1.0                                         {'H': 1.0}\n",
       "13       MTHFR2   -1.0                                        {'H': -1.0}\n",
       "14       NAMNPP   -1.0                                        {'H': -1.0}\n",
       "15        NNDPR   -1.0                                        {'H': -1.0}\n",
       "16         ORPT    1.0                                         {'H': 1.0}\n",
       "17   PHEMEFErel    7.0                                                 {}\n",
       "18  PLIPA1E161a   -1.0                                        {'H': -1.0}\n",
       "19  PLIPA1G161a   -1.0                                        {'H': -1.0}\n",
       "20       PMCOAS   -1.0                     {'C': 7.0, 'H': 9.0, 'O': 3.0}\n",
       "21        PRPPS    1.0                                         {'H': 1.0}\n",
       "22        UPPRT   -1.0                                        {'H': -1.0}\n",
       "23         XPPT   -1.0                                        {'H': -1.0}\n",
       "24         XPRT   -1.0                                        {'H': -1.0}\n",
       "25        CYPOX   -2.0                                                 {}"
      ]
     },
     "execution_count": 250,
     "metadata": {},
     "output_type": "execute_result"
    }
   ],
   "source": [
    "#After bulk removing cofactors, what reaction imbalances remain?\n",
    "reactions = []\n",
    "charge = []\n",
    "mass = []\n",
    "for react in model.reactions:\n",
    "    result = react.check_mass_balance()\n",
    "    if 'EX_' in  react.id:\n",
    "        continue\n",
    "    if 'Nm_' in  react.id:\n",
    "        continue\n",
    "    if 'DM_' in  react.id:\n",
    "        continue \n",
    "    if react.id in biomass_reactions:\n",
    "        continue\n",
    "    if len(result) == 0:\n",
    "        continue\n",
    "    else: \n",
    "        reactions.append(react.id)\n",
    "        masses = {}\n",
    "        for key in result.keys():\n",
    "            if key == 'charge':\n",
    "                charge.append(result['charge'])\n",
    "            else:\n",
    "                masses[key] = result[key]\n",
    "        if 'charge' not in result.keys():\n",
    "            charge.append('')\n",
    "        mass.append(masses)\n",
    "print(len(reactions), len(charge), len(mass))\n",
    "\n",
    "mass_charge_dict = {'Reactions': reactions, 'Charge': charge, 'Masses': mass}\n",
    "mass_charge = pandas.DataFrame(mass_charge_dict)\n",
    "mass_charge"
   ]
  },
  {
   "cell_type": "code",
   "execution_count": null,
   "id": "026a6d7e-c21a-4add-9d7f-90ec68e5e647",
   "metadata": {},
   "outputs": [],
   "source": []
  },
  {
   "cell_type": "code",
   "execution_count": 251,
   "id": "f1b54ab1-d916-4e55-bcba-8e4690ccd093",
   "metadata": {},
   "outputs": [
    {
     "name": "stdout",
     "output_type": "stream",
     "text": [
      "{}\n"
     ]
    },
    {
     "data": {
      "text/html": [
       "\n",
       "        <table>\n",
       "            <tr>\n",
       "                <td><strong>Reaction identifier</strong></td><td>MAc2</td>\n",
       "            </tr><tr>\n",
       "                <td><strong>Name</strong></td><td>R_MAc2</td>\n",
       "            </tr><tr>\n",
       "                <td><strong>Memory address</strong></td>\n",
       "                <td>0x020f45e80fa0</td>\n",
       "            </tr><tr>\n",
       "                <td><strong>Stoichiometry</strong></td>\n",
       "                <td>\n",
       "                    <p style='text-align:right'>accoa_c + h2o_p + murein4px4px4p_p --> coa_c + murein4px4px4pOAc_p</p>\n",
       "                    <p style='text-align:right'>Acetyl-CoA + H2O + three-disacharide-linked-murein-units-tetrapeptide-crosslinked-tetrapeptide-A2pm-D-ala--tetrapeptide-corsslinked-tetrapeptide-A2pm-D-ala--middle-of-chain --> Coenzyme-A + three-...</p>\n",
       "                </td>\n",
       "            </tr><tr>\n",
       "                <td><strong>GPR</strong></td><td>NGO0533 and NGO0534</td>\n",
       "            </tr><tr>\n",
       "                <td><strong>Lower bound</strong></td><td>0.0</td>\n",
       "            </tr><tr>\n",
       "                <td><strong>Upper bound</strong></td><td>1000.0</td>\n",
       "            </tr>\n",
       "        </table>\n",
       "        "
      ],
      "text/plain": [
       "<Reaction MAc2 at 0x20f45e80fa0>"
      ]
     },
     "execution_count": 251,
     "metadata": {},
     "output_type": "execute_result"
    }
   ],
   "source": [
    "r=model.reactions.get_by_id('MAc2')\n",
    "model.metabolites.murein4px4px4pOAc_p.charge=-6\n",
    "print(r.check_mass_balance())\n",
    "r"
   ]
  },
  {
   "cell_type": "code",
   "execution_count": 252,
   "id": "6f67e10a-5c38-40b8-a039-5945b9c12977",
   "metadata": {},
   "outputs": [
    {
     "name": "stdout",
     "output_type": "stream",
     "text": [
      "{}\n"
     ]
    },
    {
     "data": {
      "text/html": [
       "\n",
       "        <table>\n",
       "            <tr>\n",
       "                <td><strong>Reaction identifier</strong></td><td>MAc4</td>\n",
       "            </tr><tr>\n",
       "                <td><strong>Name</strong></td><td>R_MAc4</td>\n",
       "            </tr><tr>\n",
       "                <td><strong>Memory address</strong></td>\n",
       "                <td>0x020f45e808b0</td>\n",
       "            </tr><tr>\n",
       "                <td><strong>Stoichiometry</strong></td>\n",
       "                <td>\n",
       "                    <p style='text-align:right'>accoa_c + h2o_p + murein4p4p_p --> coa_c + murein4p4pOAc_p</p>\n",
       "                    <p style='text-align:right'>Acetyl-CoA + H2O + two-linked-disacharide-tetrapeptide-murein-units-uncrosslinked-middle-of-chain --> Coenzyme-A + two-linked-disacharide-tetrapeptide-murein-units-uncrosslinked-middle-of-chain-O-...</p>\n",
       "                </td>\n",
       "            </tr><tr>\n",
       "                <td><strong>GPR</strong></td><td>NGO0533 and NGO0534</td>\n",
       "            </tr><tr>\n",
       "                <td><strong>Lower bound</strong></td><td>0.0</td>\n",
       "            </tr><tr>\n",
       "                <td><strong>Upper bound</strong></td><td>1000.0</td>\n",
       "            </tr>\n",
       "        </table>\n",
       "        "
      ],
      "text/plain": [
       "<Reaction MAc4 at 0x20f45e808b0>"
      ]
     },
     "execution_count": 252,
     "metadata": {},
     "output_type": "execute_result"
    }
   ],
   "source": [
    "r=model.reactions.get_by_id('MAc4')\n",
    "model.metabolites.murein4p4pOAc_p.charge=-4\n",
    "print(r.check_mass_balance())\n",
    "r"
   ]
  },
  {
   "cell_type": "code",
   "execution_count": 253,
   "id": "da56708f-efd7-492d-8f3b-667494b0da39",
   "metadata": {},
   "outputs": [
    {
     "name": "stdout",
     "output_type": "stream",
     "text": [
      "{}\n"
     ]
    },
    {
     "data": {
      "text/html": [
       "\n",
       "        <table>\n",
       "            <tr>\n",
       "                <td><strong>Reaction identifier</strong></td><td>MAc5</td>\n",
       "            </tr><tr>\n",
       "                <td><strong>Name</strong></td><td>R_MAc5</td>\n",
       "            </tr><tr>\n",
       "                <td><strong>Memory address</strong></td>\n",
       "                <td>0x020f45e80eb0</td>\n",
       "            </tr><tr>\n",
       "                <td><strong>Stoichiometry</strong></td>\n",
       "                <td>\n",
       "                    <p style='text-align:right'>accoa_c + h2o_p + murein4p4pOAc_p --> coa_c + murein4p4pdOAc_p</p>\n",
       "                    <p style='text-align:right'>Acetyl-CoA + H2O + two-linked-disacharide-tetrapeptide-murein-units-uncrosslinked-middle-of-chain-O-acytelated --> Coenzyme-A + two-linked-disacharide-tetrapeptide-murein-units-uncrosslinked-...</p>\n",
       "                </td>\n",
       "            </tr><tr>\n",
       "                <td><strong>GPR</strong></td><td>NGO0533 and NGO0534</td>\n",
       "            </tr><tr>\n",
       "                <td><strong>Lower bound</strong></td><td>0.0</td>\n",
       "            </tr><tr>\n",
       "                <td><strong>Upper bound</strong></td><td>1000.0</td>\n",
       "            </tr>\n",
       "        </table>\n",
       "        "
      ],
      "text/plain": [
       "<Reaction MAc5 at 0x20f45e80eb0>"
      ]
     },
     "execution_count": 253,
     "metadata": {},
     "output_type": "execute_result"
    }
   ],
   "source": [
    "r=model.reactions.get_by_id('MAc5')\n",
    "model.metabolites.murein4p4pdOAc_p.charge=-4\n",
    "print(r.check_mass_balance())\n",
    "r"
   ]
  },
  {
   "cell_type": "code",
   "execution_count": 254,
   "id": "f0316477-7746-43be-baf6-3d08d0e363e9",
   "metadata": {},
   "outputs": [
    {
     "name": "stdout",
     "output_type": "stream",
     "text": [
      "{}\n"
     ]
    },
    {
     "data": {
      "text/html": [
       "\n",
       "        <table>\n",
       "            <tr>\n",
       "                <td><strong>Reaction identifier</strong></td><td>MAc6</td>\n",
       "            </tr><tr>\n",
       "                <td><strong>Name</strong></td><td>R_MAc6</td>\n",
       "            </tr><tr>\n",
       "                <td><strong>Memory address</strong></td>\n",
       "                <td>0x020f45e80d30</td>\n",
       "            </tr><tr>\n",
       "                <td><strong>Stoichiometry</strong></td>\n",
       "                <td>\n",
       "                    <p style='text-align:right'>accoa_c + h2o_p + murein4p3p_p --> coa_c + murein4p3pOAc_p</p>\n",
       "                    <p style='text-align:right'>Acetyl-CoA + H2O + two-linked-disacharide-tetrapeptide-and-tripeptide-murein-units-uncrosslinked-middle-of-chain --> Coenzyme-A + two-linked-disacharide-tetrapeptide-and-tripeptide-murein-units-...</p>\n",
       "                </td>\n",
       "            </tr><tr>\n",
       "                <td><strong>GPR</strong></td><td>NGO0533 and NGO0534</td>\n",
       "            </tr><tr>\n",
       "                <td><strong>Lower bound</strong></td><td>0.0</td>\n",
       "            </tr><tr>\n",
       "                <td><strong>Upper bound</strong></td><td>1000.0</td>\n",
       "            </tr>\n",
       "        </table>\n",
       "        "
      ],
      "text/plain": [
       "<Reaction MAc6 at 0x20f45e80d30>"
      ]
     },
     "execution_count": 254,
     "metadata": {},
     "output_type": "execute_result"
    }
   ],
   "source": [
    "r=model.reactions.get_by_id('MAc6')\n",
    "model.metabolites.murein4p3pOAc_p.charge=-4\n",
    "print(r.check_mass_balance())\n",
    "r"
   ]
  },
  {
   "cell_type": "code",
   "execution_count": 255,
   "id": "5133955e-d9ab-4761-bc09-d6340e6303ee",
   "metadata": {},
   "outputs": [
    {
     "name": "stdout",
     "output_type": "stream",
     "text": [
      "{}\n"
     ]
    },
    {
     "data": {
      "text/html": [
       "\n",
       "        <table>\n",
       "            <tr>\n",
       "                <td><strong>Reaction identifier</strong></td><td>MAc7</td>\n",
       "            </tr><tr>\n",
       "                <td><strong>Name</strong></td><td>R_MAc7</td>\n",
       "            </tr><tr>\n",
       "                <td><strong>Memory address</strong></td>\n",
       "                <td>0x020f45e8c370</td>\n",
       "            </tr><tr>\n",
       "                <td><strong>Stoichiometry</strong></td>\n",
       "                <td>\n",
       "                    <p style='text-align:right'>accoa_c + h2o_p + murein4px4px4pOAc_p --> coa_c + murein4px4px4pdOAc_p</p>\n",
       "                    <p style='text-align:right'>Acetyl-CoA + H2O + three-disacharide-linked-murein-units-tetrapeptide-crosslinked-tetrapeptide-A2pm-D-ala--tetrapeptide-corsslinked-tetrapeptide-A2pm-D-ala--middle-of-chain-O_acytelated -->...</p>\n",
       "                </td>\n",
       "            </tr><tr>\n",
       "                <td><strong>GPR</strong></td><td>NGO0533 and NGO0534</td>\n",
       "            </tr><tr>\n",
       "                <td><strong>Lower bound</strong></td><td>0.0</td>\n",
       "            </tr><tr>\n",
       "                <td><strong>Upper bound</strong></td><td>1000.0</td>\n",
       "            </tr>\n",
       "        </table>\n",
       "        "
      ],
      "text/plain": [
       "<Reaction MAc7 at 0x20f45e8c370>"
      ]
     },
     "execution_count": 255,
     "metadata": {},
     "output_type": "execute_result"
    }
   ],
   "source": [
    "r=model.reactions.get_by_id('MAc7')\n",
    "model.metabolites.murein4px4px4pdOAc_p.charge=-6\n",
    "print(r.check_mass_balance())\n",
    "r"
   ]
  },
  {
   "cell_type": "code",
   "execution_count": 256,
   "id": "e52fdd3c-6ade-4183-9d9c-a8c57409103d",
   "metadata": {},
   "outputs": [
    {
     "name": "stdout",
     "output_type": "stream",
     "text": [
      "{}\n"
     ]
    },
    {
     "data": {
      "text/html": [
       "\n",
       "        <table>\n",
       "            <tr>\n",
       "                <td><strong>Reaction identifier</strong></td><td>MAc8</td>\n",
       "            </tr><tr>\n",
       "                <td><strong>Name</strong></td><td>R_MAc8</td>\n",
       "            </tr><tr>\n",
       "                <td><strong>Memory address</strong></td>\n",
       "                <td>0x020f45e8c520</td>\n",
       "            </tr><tr>\n",
       "                <td><strong>Stoichiometry</strong></td>\n",
       "                <td>\n",
       "                    <p style='text-align:right'>accoa_c + h2o_p + murein4px4px4pdOAc_p --> coa_c + murein4px4px4ptOAc_p</p>\n",
       "                    <p style='text-align:right'>Acetyl-CoA + H2O + M_murein4px4px4pdOAc_p --> Coenzyme-A + M_murein4px4px4ptOAc_p</p>\n",
       "                </td>\n",
       "            </tr><tr>\n",
       "                <td><strong>GPR</strong></td><td>NGO0533 and NGO0534</td>\n",
       "            </tr><tr>\n",
       "                <td><strong>Lower bound</strong></td><td>0.0</td>\n",
       "            </tr><tr>\n",
       "                <td><strong>Upper bound</strong></td><td>1000.0</td>\n",
       "            </tr>\n",
       "        </table>\n",
       "        "
      ],
      "text/plain": [
       "<Reaction MAc8 at 0x20f45e8c520>"
      ]
     },
     "execution_count": 256,
     "metadata": {},
     "output_type": "execute_result"
    }
   ],
   "source": [
    "r=model.reactions.get_by_id('MAc8')\n",
    "model.metabolites.murein4px4px4ptOAc_p.charge=-6\n",
    "print(r.check_mass_balance())\n",
    "r"
   ]
  },
  {
   "cell_type": "code",
   "execution_count": 257,
   "id": "365a8406-0911-4aac-aaf0-5fd4d0482a36",
   "metadata": {},
   "outputs": [
    {
     "name": "stdout",
     "output_type": "stream",
     "text": [
      "{}\n"
     ]
    },
    {
     "data": {
      "text/html": [
       "\n",
       "        <table>\n",
       "            <tr>\n",
       "                <td><strong>Reaction identifier</strong></td><td>3OAS161a</td>\n",
       "            </tr><tr>\n",
       "                <td><strong>Name</strong></td><td>R_3OAS161a</td>\n",
       "            </tr><tr>\n",
       "                <td><strong>Memory address</strong></td>\n",
       "                <td>0x020f45bfaf70</td>\n",
       "            </tr><tr>\n",
       "                <td><strong>Stoichiometry</strong></td>\n",
       "                <td>\n",
       "                    <p style='text-align:right'>cmrs3eACP_c + h_c + malACP_c --> 3ocpalm5eACP_c + ACP_c + co2_c</p>\n",
       "                    <p style='text-align:right'>cis-Tetradec-3-enoyl-acyl-carrier-protein + H + Malonyl-acyl-carrier-protein --> 3-oxo-cis-palm-5-eoyl-acyl-carrier-protein + acyl-carrier-protein + CO2</p>\n",
       "                </td>\n",
       "            </tr><tr>\n",
       "                <td><strong>GPR</strong></td><td>NGO1763</td>\n",
       "            </tr><tr>\n",
       "                <td><strong>Lower bound</strong></td><td>0.0</td>\n",
       "            </tr><tr>\n",
       "                <td><strong>Upper bound</strong></td><td>1000.0</td>\n",
       "            </tr>\n",
       "        </table>\n",
       "        "
      ],
      "text/plain": [
       "<Reaction 3OAS161a at 0x20f45bfaf70>"
      ]
     },
     "execution_count": 257,
     "metadata": {},
     "output_type": "execute_result"
    }
   ],
   "source": [
    "r=model.reactions.get_by_id('3OAS161a')\n",
    "r\n",
    "\n",
    "#Added ACP and co2 to this reaction, as is seen in 3OAS161 for mass balance. \n",
    "r=model.reactions.get_by_id('3OAS161a')\n",
    "ACP_c=model.metabolites.get_by_id('ACP_c')\n",
    "co2_c=model.metabolites.get_by_id('co2_c')\n",
    "r.add_metabolites({\n",
    "    ACP_c:1,\n",
    "    co2_c:1\n",
    "      })\n",
    "model.metabolites.get_by_id('3ocpalm5eACP_c').charge=-1\n",
    "print(r.check_mass_balance())\n",
    "r\n"
   ]
  },
  {
   "cell_type": "code",
   "execution_count": 258,
   "id": "a1dfcd8f-e5d0-43eb-b4a7-2c8a1e9680bc",
   "metadata": {},
   "outputs": [],
   "source": [
    "# Fix hydrogen balances"
   ]
  },
  {
   "cell_type": "code",
   "execution_count": 259,
   "id": "b184eca8-5502-4460-be50-022c05cbb9a6",
   "metadata": {},
   "outputs": [
    {
     "name": "stdout",
     "output_type": "stream",
     "text": [
      "24 24 24\n"
     ]
    },
    {
     "data": {
      "text/html": [
       "<div>\n",
       "<style scoped>\n",
       "    .dataframe tbody tr th:only-of-type {\n",
       "        vertical-align: middle;\n",
       "    }\n",
       "\n",
       "    .dataframe tbody tr th {\n",
       "        vertical-align: top;\n",
       "    }\n",
       "\n",
       "    .dataframe thead th {\n",
       "        text-align: right;\n",
       "    }\n",
       "</style>\n",
       "<table border=\"1\" class=\"dataframe\">\n",
       "  <thead>\n",
       "    <tr style=\"text-align: right;\">\n",
       "      <th></th>\n",
       "      <th>Reactions</th>\n",
       "      <th>Charge</th>\n",
       "      <th>Masses</th>\n",
       "    </tr>\n",
       "  </thead>\n",
       "  <tbody>\n",
       "    <tr>\n",
       "      <th>0</th>\n",
       "      <td>ADPT</td>\n",
       "      <td>-1.0</td>\n",
       "      <td>{'H': -1.0}</td>\n",
       "    </tr>\n",
       "    <tr>\n",
       "      <th>1</th>\n",
       "      <td>ANPRT</td>\n",
       "      <td>-1.0</td>\n",
       "      <td>{'H': -1.0}</td>\n",
       "    </tr>\n",
       "    <tr>\n",
       "      <th>2</th>\n",
       "      <td>ATPPRT</td>\n",
       "      <td>-1.0</td>\n",
       "      <td>{'H': -1.0}</td>\n",
       "    </tr>\n",
       "    <tr>\n",
       "      <th>3</th>\n",
       "      <td>BTS4</td>\n",
       "      <td></td>\n",
       "      <td>{'S': 1.0}</td>\n",
       "    </tr>\n",
       "    <tr>\n",
       "      <th>4</th>\n",
       "      <td>CYTCS</td>\n",
       "      <td>5.0</td>\n",
       "      <td>{'C': 8.0, 'H': 14.0, 'N': 4.0, 'O': 4.0, 'S':...</td>\n",
       "    </tr>\n",
       "    <tr>\n",
       "      <th>5</th>\n",
       "      <td>GLUPRT</td>\n",
       "      <td>-1.0</td>\n",
       "      <td>{'H': -1.0}</td>\n",
       "    </tr>\n",
       "    <tr>\n",
       "      <th>6</th>\n",
       "      <td>GUAPRT</td>\n",
       "      <td>-1.0</td>\n",
       "      <td>{'H': -1.0}</td>\n",
       "    </tr>\n",
       "    <tr>\n",
       "      <th>7</th>\n",
       "      <td>HGFE</td>\n",
       "      <td>-8.0</td>\n",
       "      <td>{}</td>\n",
       "    </tr>\n",
       "    <tr>\n",
       "      <th>8</th>\n",
       "      <td>HXPRT</td>\n",
       "      <td>-1.0</td>\n",
       "      <td>{'H': -1.0}</td>\n",
       "    </tr>\n",
       "    <tr>\n",
       "      <th>9</th>\n",
       "      <td>MDDCP6pp</td>\n",
       "      <td>6.0</td>\n",
       "      <td>{'H': 3.0, 'N': -6.0}</td>\n",
       "    </tr>\n",
       "    <tr>\n",
       "      <th>10</th>\n",
       "      <td>METS</td>\n",
       "      <td>1.0</td>\n",
       "      <td>{'H': 1.0}</td>\n",
       "    </tr>\n",
       "    <tr>\n",
       "      <th>11</th>\n",
       "      <td>MTHFR2</td>\n",
       "      <td>-1.0</td>\n",
       "      <td>{'H': -1.0}</td>\n",
       "    </tr>\n",
       "    <tr>\n",
       "      <th>12</th>\n",
       "      <td>NAMNPP</td>\n",
       "      <td>-1.0</td>\n",
       "      <td>{'H': -1.0}</td>\n",
       "    </tr>\n",
       "    <tr>\n",
       "      <th>13</th>\n",
       "      <td>NNDPR</td>\n",
       "      <td>-1.0</td>\n",
       "      <td>{'H': -1.0}</td>\n",
       "    </tr>\n",
       "    <tr>\n",
       "      <th>14</th>\n",
       "      <td>ORPT</td>\n",
       "      <td>1.0</td>\n",
       "      <td>{'H': 1.0}</td>\n",
       "    </tr>\n",
       "    <tr>\n",
       "      <th>15</th>\n",
       "      <td>PHEMEFErel</td>\n",
       "      <td>7.0</td>\n",
       "      <td>{}</td>\n",
       "    </tr>\n",
       "    <tr>\n",
       "      <th>16</th>\n",
       "      <td>PLIPA1E161a</td>\n",
       "      <td>-1.0</td>\n",
       "      <td>{'H': -1.0}</td>\n",
       "    </tr>\n",
       "    <tr>\n",
       "      <th>17</th>\n",
       "      <td>PLIPA1G161a</td>\n",
       "      <td>-1.0</td>\n",
       "      <td>{'H': -1.0}</td>\n",
       "    </tr>\n",
       "    <tr>\n",
       "      <th>18</th>\n",
       "      <td>PMCOAS</td>\n",
       "      <td>-1.0</td>\n",
       "      <td>{'C': 7.0, 'H': 9.0, 'O': 3.0}</td>\n",
       "    </tr>\n",
       "    <tr>\n",
       "      <th>19</th>\n",
       "      <td>PRPPS</td>\n",
       "      <td>1.0</td>\n",
       "      <td>{'H': 1.0}</td>\n",
       "    </tr>\n",
       "    <tr>\n",
       "      <th>20</th>\n",
       "      <td>UPPRT</td>\n",
       "      <td>-1.0</td>\n",
       "      <td>{'H': -1.0}</td>\n",
       "    </tr>\n",
       "    <tr>\n",
       "      <th>21</th>\n",
       "      <td>XPPT</td>\n",
       "      <td>-1.0</td>\n",
       "      <td>{'H': -1.0}</td>\n",
       "    </tr>\n",
       "    <tr>\n",
       "      <th>22</th>\n",
       "      <td>XPRT</td>\n",
       "      <td>-1.0</td>\n",
       "      <td>{'H': -1.0}</td>\n",
       "    </tr>\n",
       "    <tr>\n",
       "      <th>23</th>\n",
       "      <td>CYPOX</td>\n",
       "      <td>-2.0</td>\n",
       "      <td>{}</td>\n",
       "    </tr>\n",
       "  </tbody>\n",
       "</table>\n",
       "</div>"
      ],
      "text/plain": [
       "      Reactions Charge                                             Masses\n",
       "0          ADPT   -1.0                                        {'H': -1.0}\n",
       "1         ANPRT   -1.0                                        {'H': -1.0}\n",
       "2        ATPPRT   -1.0                                        {'H': -1.0}\n",
       "3          BTS4                                                {'S': 1.0}\n",
       "4         CYTCS    5.0  {'C': 8.0, 'H': 14.0, 'N': 4.0, 'O': 4.0, 'S':...\n",
       "5        GLUPRT   -1.0                                        {'H': -1.0}\n",
       "6        GUAPRT   -1.0                                        {'H': -1.0}\n",
       "7          HGFE   -8.0                                                 {}\n",
       "8         HXPRT   -1.0                                        {'H': -1.0}\n",
       "9      MDDCP6pp    6.0                              {'H': 3.0, 'N': -6.0}\n",
       "10         METS    1.0                                         {'H': 1.0}\n",
       "11       MTHFR2   -1.0                                        {'H': -1.0}\n",
       "12       NAMNPP   -1.0                                        {'H': -1.0}\n",
       "13        NNDPR   -1.0                                        {'H': -1.0}\n",
       "14         ORPT    1.0                                         {'H': 1.0}\n",
       "15   PHEMEFErel    7.0                                                 {}\n",
       "16  PLIPA1E161a   -1.0                                        {'H': -1.0}\n",
       "17  PLIPA1G161a   -1.0                                        {'H': -1.0}\n",
       "18       PMCOAS   -1.0                     {'C': 7.0, 'H': 9.0, 'O': 3.0}\n",
       "19        PRPPS    1.0                                         {'H': 1.0}\n",
       "20        UPPRT   -1.0                                        {'H': -1.0}\n",
       "21         XPPT   -1.0                                        {'H': -1.0}\n",
       "22         XPRT   -1.0                                        {'H': -1.0}\n",
       "23        CYPOX   -2.0                                                 {}"
      ]
     },
     "execution_count": 259,
     "metadata": {},
     "output_type": "execute_result"
    }
   ],
   "source": [
    "#After bulk removing cofactors, what reaction imbalances remain?\n",
    "reactions = []\n",
    "charge = []\n",
    "mass = []\n",
    "for react in model.reactions:\n",
    "    result = react.check_mass_balance()\n",
    "    if 'EX_' in  react.id:\n",
    "        continue\n",
    "    if 'Nm_' in  react.id:\n",
    "        continue\n",
    "    if 'DM_' in  react.id:\n",
    "        continue \n",
    "    if react.id in biomass_reactions:\n",
    "        continue\n",
    "    if len(result) == 0:\n",
    "        continue\n",
    "    else: \n",
    "        reactions.append(react.id)\n",
    "        masses = {}\n",
    "        for key in result.keys():\n",
    "            if key == 'charge':\n",
    "                charge.append(result['charge'])\n",
    "            else:\n",
    "                masses[key] = result[key]\n",
    "        if 'charge' not in result.keys():\n",
    "            charge.append('')\n",
    "        mass.append(masses)\n",
    "print(len(reactions), len(charge), len(mass))\n",
    "\n",
    "mass_charge_dict = {'Reactions': reactions, 'Charge': charge, 'Masses': mass}\n",
    "mass_charge = pandas.DataFrame(mass_charge_dict)\n",
    "mass_charge"
   ]
  },
  {
   "cell_type": "code",
   "execution_count": 260,
   "id": "d7c7a5e6-6088-47ac-a120-a9ceacaaa8db",
   "metadata": {},
   "outputs": [
    {
     "name": "stdout",
     "output_type": "stream",
     "text": [
      "{}\n",
      "{}\n",
      "{}\n",
      "{}\n",
      "{}\n",
      "{}\n",
      "{}\n",
      "{}\n",
      "{}\n",
      "{}\n",
      "{}\n",
      "{}\n",
      "{}\n",
      "{}\n",
      "{}\n",
      "{}\n",
      "{}\n"
     ]
    }
   ],
   "source": [
    "#Bulk correct hydrogens\n",
    "rxns=('METS', 'ORPT', 'PRPPS')\n",
    "\n",
    "for rxn in rxns:\n",
    "    r=model.reactions.get_by_id(rxn)\n",
    "    r.add_metabolites({\n",
    "        h_c: -1.0,\n",
    "            })\n",
    "    print(r.check_mass_balance())\n",
    "\n",
    "\n",
    "\n",
    "#Bulk correct hydrogens\n",
    "rxns=('ADPT', 'ANPRT','ATPPRT','GLUPRT','GUAPRT','HXPRT','MTHFR2','NAMNPP','NNDPR', 'PLIPA1E161a', 'PLIPA1G161a', 'UPPRT','XPPT','XPRT')\n",
    "\n",
    "for rxn in rxns:\n",
    "    r=model.reactions.get_by_id(rxn)\n",
    "    r.add_metabolites({\n",
    "       h_c: 1.0,\n",
    "           })\n",
    "    print(r.check_mass_balance())  "
   ]
  },
  {
   "cell_type": "code",
   "execution_count": 261,
   "id": "c045a176-b114-4743-8a4d-9bae89bc0a64",
   "metadata": {},
   "outputs": [
    {
     "name": "stdout",
     "output_type": "stream",
     "text": [
      "7 7 7\n"
     ]
    },
    {
     "data": {
      "text/html": [
       "<div>\n",
       "<style scoped>\n",
       "    .dataframe tbody tr th:only-of-type {\n",
       "        vertical-align: middle;\n",
       "    }\n",
       "\n",
       "    .dataframe tbody tr th {\n",
       "        vertical-align: top;\n",
       "    }\n",
       "\n",
       "    .dataframe thead th {\n",
       "        text-align: right;\n",
       "    }\n",
       "</style>\n",
       "<table border=\"1\" class=\"dataframe\">\n",
       "  <thead>\n",
       "    <tr style=\"text-align: right;\">\n",
       "      <th></th>\n",
       "      <th>Reactions</th>\n",
       "      <th>Charge</th>\n",
       "      <th>Masses</th>\n",
       "    </tr>\n",
       "  </thead>\n",
       "  <tbody>\n",
       "    <tr>\n",
       "      <th>0</th>\n",
       "      <td>BTS4</td>\n",
       "      <td></td>\n",
       "      <td>{'S': 1.0}</td>\n",
       "    </tr>\n",
       "    <tr>\n",
       "      <th>1</th>\n",
       "      <td>CYTCS</td>\n",
       "      <td>5.0</td>\n",
       "      <td>{'C': 8.0, 'H': 14.0, 'N': 4.0, 'O': 4.0, 'S':...</td>\n",
       "    </tr>\n",
       "    <tr>\n",
       "      <th>2</th>\n",
       "      <td>HGFE</td>\n",
       "      <td>-8.0</td>\n",
       "      <td>{}</td>\n",
       "    </tr>\n",
       "    <tr>\n",
       "      <th>3</th>\n",
       "      <td>MDDCP6pp</td>\n",
       "      <td>6.0</td>\n",
       "      <td>{'H': 3.0, 'N': -6.0}</td>\n",
       "    </tr>\n",
       "    <tr>\n",
       "      <th>4</th>\n",
       "      <td>PHEMEFErel</td>\n",
       "      <td>7.0</td>\n",
       "      <td>{}</td>\n",
       "    </tr>\n",
       "    <tr>\n",
       "      <th>5</th>\n",
       "      <td>PMCOAS</td>\n",
       "      <td>-1.0</td>\n",
       "      <td>{'C': 7.0, 'H': 9.0, 'O': 3.0}</td>\n",
       "    </tr>\n",
       "    <tr>\n",
       "      <th>6</th>\n",
       "      <td>CYPOX</td>\n",
       "      <td>-2.0</td>\n",
       "      <td>{}</td>\n",
       "    </tr>\n",
       "  </tbody>\n",
       "</table>\n",
       "</div>"
      ],
      "text/plain": [
       "    Reactions Charge                                             Masses\n",
       "0        BTS4                                                {'S': 1.0}\n",
       "1       CYTCS    5.0  {'C': 8.0, 'H': 14.0, 'N': 4.0, 'O': 4.0, 'S':...\n",
       "2        HGFE   -8.0                                                 {}\n",
       "3    MDDCP6pp    6.0                              {'H': 3.0, 'N': -6.0}\n",
       "4  PHEMEFErel    7.0                                                 {}\n",
       "5      PMCOAS   -1.0                     {'C': 7.0, 'H': 9.0, 'O': 3.0}\n",
       "6       CYPOX   -2.0                                                 {}"
      ]
     },
     "execution_count": 261,
     "metadata": {},
     "output_type": "execute_result"
    }
   ],
   "source": [
    "#what reaction imbalances remain?\n",
    "reactions = []\n",
    "charge = []\n",
    "mass = []\n",
    "for react in model.reactions:\n",
    "    result = react.check_mass_balance()\n",
    "    if 'EX_' in  react.id:\n",
    "        continue\n",
    "    if 'Nm_' in  react.id:\n",
    "        continue\n",
    "    if 'DM_' in  react.id:\n",
    "        continue \n",
    "    if react.id in biomass_reactions:\n",
    "        continue\n",
    "    if len(result) == 0:\n",
    "        continue\n",
    "    else: \n",
    "        reactions.append(react.id)\n",
    "        masses = {}\n",
    "        for key in result.keys():\n",
    "            if key == 'charge':\n",
    "                charge.append(result['charge'])\n",
    "            else:\n",
    "                masses[key] = result[key]\n",
    "        if 'charge' not in result.keys():\n",
    "            charge.append('')\n",
    "        mass.append(masses)\n",
    "print(len(reactions), len(charge), len(mass))\n",
    "\n",
    "mass_charge_dict = {'Reactions': reactions, 'Charge': charge, 'Masses': mass}\n",
    "mass_charge = pandas.DataFrame(mass_charge_dict)\n",
    "mass_charge"
   ]
  },
  {
   "cell_type": "code",
   "execution_count": 262,
   "id": "1d86bb47-8e79-4da5-9672-db8069598dd6",
   "metadata": {},
   "outputs": [],
   "source": [
    "#All remaining imbalances are okay, due to either proteinaceous components, or respiratory functions"
   ]
  },
  {
   "cell_type": "code",
   "execution_count": 263,
   "id": "ffe0c01c-ef51-4286-adaa-81d99739e007",
   "metadata": {},
   "outputs": [
    {
     "name": "stdout",
     "output_type": "stream",
     "text": [
      "RPMI 1.2426654074373995\n",
      "MDM 1.156350324146482\n",
      "Complete media 2.244317436496072\n"
     ]
    }
   ],
   "source": [
    "rpmi(model)\n",
    "print ('RPMI',model.slim_optimize())\n",
    "mdm(model)\n",
    "print ('MDM', model.slim_optimize())\n",
    "complete(model)\n",
    "print('Complete media', model.slim_optimize())"
   ]
  },
  {
   "cell_type": "markdown",
   "id": "ada42093-55d5-4b5b-a37e-b9cecd086a12",
   "metadata": {},
   "source": [
    "## 2c. New Biomass equation for Gc"
   ]
  },
  {
   "cell_type": "code",
   "execution_count": 264,
   "id": "e004c1c3-efc0-4e29-955c-a59f5049ae38",
   "metadata": {
    "scrolled": true
   },
   "outputs": [],
   "source": [
    "r=model.reactions.get_by_id('Nm_Ess_biomass')\n",
    "pa120_p=model.metabolites.get_by_id('pa120_p')\n",
    "pa140_p=model.metabolites.get_by_id('pa140_p')\n",
    "pa160_p=model.metabolites.get_by_id('pa160_p')\n",
    "pa180_p=model.metabolites.get_by_id('pa180_p')\n",
    "pa141_p=model.metabolites.get_by_id('pa141_p')\n",
    "pa161_p=model.metabolites.get_by_id('pa161_p')\n",
    "pa181_p=model.metabolites.get_by_id('pa181_p')\n",
    "pe120_p=model.metabolites.get_by_id('pe120_p')\n",
    "pe140_p=model.metabolites.get_by_id('pe140_p')\n",
    "pe160_p=model.metabolites.get_by_id('pe160_p')\n",
    "pe180_p=model.metabolites.get_by_id('pe180_p')\n",
    "pe141_p=model.metabolites.get_by_id('pe141_p')\n",
    "pe161_p=model.metabolites.get_by_id('pe161_p')\n",
    "pe181_p=model.metabolites.get_by_id('pe181_p')\n",
    "pg120_p=model.metabolites.get_by_id('pg120_p')\n",
    "pg140_p=model.metabolites.get_by_id('pg140_p')\n",
    "pg160_p=model.metabolites.get_by_id('pg160_p')\n",
    "pg180_p=model.metabolites.get_by_id('pg180_p')\n",
    "pg141_p=model.metabolites.get_by_id('pg141_p')\n",
    "pg161a_p=model.metabolites.get_by_id('pg161_p')\n",
    "pg181c_p=model.metabolites.get_by_id('pg181_p')\n",
    "los_GC_c=model.metabolites.get_by_id('los_GC_c')\n",
    "murein4px4px4pOAc_p=model.metabolites.get_by_id('murein4px4px4pOAc_p')\n",
    "murein4p4p4pOAc_p=model.metabolites.get_by_id('murein4p4p4pOAc_p')\n",
    "asp_L_c=model.metabolites.get_by_id('asp_L_c')\n",
    "glu_L_c=model.metabolites.get_by_id('glu_L_c')\n",
    "ser_L_c=model.metabolites.get_by_id('ser_L_c')\n",
    "his_L_c=model.metabolites.get_by_id('his_L_c')\n",
    "gly_c=model.metabolites.get_by_id('gly_c')\n",
    "thr_L_c=model.metabolites.get_by_id('thr_L_c')\n",
    "ala_L_c=model.metabolites.get_by_id('ala_L_c')\n",
    "arg_L_c=model.metabolites.get_by_id('arg_L_c')\n",
    "tyr_L_c=model.metabolites.get_by_id('tyr_L_c')\n",
    "val_L_c=model.metabolites.get_by_id('val_L_c')\n",
    "met_L_c=model.metabolites.get_by_id('met_L_c')\n",
    "phe_L_c=model.metabolites.get_by_id('phe_L_c')\n",
    "ile_L_c=model.metabolites.get_by_id('ile_L_c')\n",
    "leu_L_c=model.metabolites.get_by_id('leu_L_c')\n",
    "lys_L_c=model.metabolites.get_by_id('lys_L_c')\n",
    "pro_L_c=model.metabolites.get_by_id('pro_L_c')\n",
    "asn_L_c=model.metabolites.get_by_id('asn_L_c')\n",
    "trp_L_c=model.metabolites.get_by_id('trp_L_c')\n",
    "cys_L_c=model.metabolites.get_by_id('cys_L_c')\n",
    "gln_L_c=model.metabolites.get_by_id('gln_L_c')\n",
    "datp_c=model.metabolites.get_by_id('datp_c')\n",
    "dttp_c=model.metabolites.get_by_id('dttp_c')\n",
    "dgtp_c=model.metabolites.get_by_id('dgtp_c')\n",
    "dctp_c=model.metabolites.get_by_id('dctp_c')\n",
    "atp_c=model.metabolites.get_by_id('atp_c')\n",
    "utp_c=model.metabolites.get_by_id('utp_c')\n",
    "gtp_c=model.metabolites.get_by_id('gtp_c')\n",
    "ctp_c=model.metabolites.get_by_id('ctp_c')\n",
    "fthf_c=model.metabolites.get_by_id('10fthf_c')\n",
    "ohph_c=model.metabolites.get_by_id('2ohph_c')\n",
    "amet_c=model.metabolites.get_by_id('amet_c')\n",
    "ca2_c=model.metabolites.get_by_id('ca2_c')\n",
    "cl_c=model.metabolites.get_by_id('cl_c')\n",
    "coa_c=model.metabolites.get_by_id('coa_c')\n",
    "cobalt2_c=model.metabolites.get_by_id('cobalt2_c')\n",
    "cu2_c=model.metabolites.get_by_id('cu2_c')\n",
    "fad_c=model.metabolites.get_by_id('fad_c')\n",
    "fe2_c=model.metabolites.get_by_id('fe2_c')\n",
    "fe3_c=model.metabolites.get_by_id('fe3_c')\n",
    "k_c=model.metabolites.get_by_id('k_c')\n",
    "mg2_c=model.metabolites.get_by_id('mg2_c')\n",
    "mlthf_c=model.metabolites.get_by_id('mlthf_c')\n",
    "mn2_c=model.metabolites.get_by_id('mn2_c')\n",
    "mobd_c=model.metabolites.get_by_id('mobd_c')\n",
    "nad_c=model.metabolites.get_by_id('nad_c')\n",
    "nadp_c=model.metabolites.get_by_id('nadp_c')\n",
    "nh4_c=model.metabolites.get_by_id('nh4_c')\n",
    "pheme_c=model.metabolites.get_by_id('pheme_c')\n",
    "pydx5p_c=model.metabolites.get_by_id('pydx5p_c')\n",
    "ribflv_c=model.metabolites.get_by_id('ribflv_c')\n",
    "sheme_c=model.metabolites.get_by_id('sheme_c')\n",
    "so4_c=model.metabolites.get_by_id('so4_c')\n",
    "thf_c=model.metabolites.get_by_id('thf_c')\n",
    "thmpp_c=model.metabolites.get_by_id('thmpp_c')\n",
    "udcpdp_c=model.metabolites.get_by_id('udcpdp_c')\n",
    "zn2_c=model.metabolites.get_by_id('zn2_c')\n",
    "h_c=model.metabolites.get_by_id('h_c')\n",
    "pi_c=model.metabolites.get_by_id('pi_c')\n",
    "adp_c=model.metabolites.get_by_id('adp_c')\n",
    "biomass=model.metabolites.get_by_id('biomass')\n",
    "capsule_NM_e=model.metabolites.get_by_id('capsule_NM_e')\n",
    "dna_c=model.metabolites.get_by_id('dna_c')\n",
    "rna_c=model.metabolites.get_by_id('rna_c')\n",
    "pepglycan_p=model.metabolites.get_by_id('pepglycan_p')\n",
    "protein=model.metabolites.get_by_id('protein')\n",
    "lipid_NM_p=model.metabolites.get_by_id('lipid_NM_p')\n",
    "ptrc_c=model.metabolites.get_by_id('ptrc_c')\n"
   ]
  },
  {
   "cell_type": "code",
   "execution_count": 265,
   "id": "bd95ca02-0a41-4558-ae6b-d8781f0728d2",
   "metadata": {},
   "outputs": [],
   "source": [
    "#remove Nm_biomass components\n",
    "r=model.reactions.Nm_biomass\n",
    "r.add_metabolites({\n",
    "    fthf_c:0.000223,\n",
    "    ohph_c:0.000223,\n",
    "    amet_c:0.000223,\n",
    "    atp_c:52.84,\n",
    "    ca2_c:0.004737,\n",
    "    capsule_NM_e:0.00146,\n",
    "    cl_c:0.004737,\n",
    "    coa_c:0.000576,\n",
    "    cobalt2_c:0.003158,\n",
    "    cu2_c:0.003158,\n",
    "    dna_c:0.0798,\n",
    "    fad_c:0.000223,\n",
    "    fe2_c:0.007106,\n",
    "    fe3_c:0.007106,\n",
    "    h2o_c:52.84,\n",
    "    k_c:0.1776,\n",
    "    lipid_NM_p:0.1483,\n",
    "    mg2_c:0.007895,\n",
    "    mlthf_c:0.000223,\n",
    "    mn2_c:0.003158,\n",
    "    mobd_c:0.003158,\n",
    "    nad_c:0.001831,\n",
    "    nadp_c:0.000447,\n",
    "    nh4_c:0.011843,\n",
    "    pepglycan_p:0.1389,\n",
    "    pheme_c:0.000223,\n",
    "    protein:5.55,\n",
    "    ptrc_c:0.0077376,\n",
    "    pydx5p_c:0.000223,\n",
    "    ribflv_c:0.000223,\n",
    "    rna_c:0.4432,\n",
    "    sheme_c:0.000223,\n",
    "    so4_c:0.003948,\n",
    "    thf_c:0.000223,\n",
    "    thmpp_c:0.000223,\n",
    "    udcpdp_c:0.000055,\n",
    "    zn2_c:0.003158,\n",
    "    h_c:-52.84,\n",
    "    pi_c:-52.84,\n",
    "    adp_c:-52.84,\n",
    "    biomass:-1,})\n",
    "\n"
   ]
  },
  {
   "cell_type": "code",
   "execution_count": 266,
   "id": "5aa07cd4-6d77-4c0a-b0f5-7d0ede8e0f2b",
   "metadata": {},
   "outputs": [
    {
     "data": {
      "text/plain": [
       "2.997637024061464"
      ]
     },
     "execution_count": 266,
     "metadata": {},
     "output_type": "execute_result"
    }
   ],
   "source": [
    "#New biomass equation for Gc\n",
    "\n",
    "r=model.reactions.Nm_biomass\n",
    "r.add_metabolites({\n",
    "    pa120_p:-0.000503555042155509,\n",
    "    pa140_p:-0,\n",
    "    pa160_p:-0.00207597350252432,\n",
    "    pa180_p:-0.000290080640591335,\n",
    "    pa141_p:-0.000371731800974898,\n",
    "    pa161_p:-0.00564538392418283,\n",
    "    pa181_p:-0.00216477129604764,\n",
    "    pe120_p:-0.00234345993674653,\n",
    "    pe140_p:-0.0025598346977071,\n",
    "    pe160_p:-0.055748823259178,\n",
    "    pe180_p:-0.00137834776769998,\n",
    "    pe141_p:-0.00821977537556325,\n",
    "    pe161_p:-0.0255682154771119,\n",
    "    pe181_p:-0.0102822273478348,\n",
    "    pg120_p:-0.000703620745734723,\n",
    "    pg140_p:-3.03207570481577E-05,\n",
    "    pg160_p:-0.0122303684865845,\n",
    "    pg180_p:-0.000418944804169265,\n",
    "    pg141_p:-0.00290595573235281,\n",
    "    pg161a_p:-0.00862596402374158,\n",
    "    pg181c_p:-0.00312454317572049,\n",
    "    los_GC_c:-0.0129924495638587,\n",
    "    murein4px4px4pOAc_p:-0.005556,\n",
    "    murein4p4p4pOAc_p:-0.008334,\n",
    "    asp_L_c:-0.328506488951245,\n",
    "    glu_L_c:-0.417926718513411,\n",
    "    ser_L_c:-0.298519204391151,\n",
    "    his_L_c:-0.101130783859868,\n",
    "    gly_c:-0.63200279142024,\n",
    "    thr_L_c:-0.289017233514768,\n",
    "    ala_L_c:-0.801362443841416,\n",
    "    arg_L_c:-0.326223794247415,\n",
    "    tyr_L_c:-0.142730093324994,\n",
    "    val_L_c:-0.43926986171134,\n",
    "    met_L_c:-0.102311261238582,\n",
    "    phe_L_c:-0.199024522901412,\n",
    "    ile_L_c:-0.291900141026265,\n",
    "    leu_L_c:-0.472627376778854,\n",
    "    lys_L_c:-0.351058182823571,\n",
    "    pro_L_c:-0.246449661470245,\n",
    "    asn_L_c:-0.251609961417047,\n",
    "    trp_L_c:-0.0689480779843109,\n",
    "    cys_L_c:-0.0606915932106025,\n",
    "    gln_L_c:-0.246224295606094,\n",
    "    datp_c:-0.0193660372420178,\n",
    "    dttp_c:-0.0193660372420178,\n",
    "    dgtp_c:-0.0205433507259598,\n",
    "    dctp_c:-0.0205433507259598,\n",
    "    atp_c:-0.108889121528625,\n",
    "    utp_c:-0.108889121528625,\n",
    "    gtp_c:-0.112753363956914,\n",
    "    ctp_c:-0.112753363956914,\n",
    "    fthf_c:-0.000223,\n",
    "    ohph_c:-0.000223,\n",
    "    amet_c:-0.000223,\n",
    "    ca2_c:-0.004737,\n",
    "    cl_c:-0.004737,\n",
    "    coa_c:-0.000576,\n",
    "    cobalt2_c:-0.003158,\n",
    "    cu2_c:-0.003158,\n",
    "    fad_c:-0.000223,\n",
    "    fe2_c:-0.007106,\n",
    "    fe3_c:-0.007106,\n",
    "    k_c:-0.1776,\n",
    "    mg2_c:-0.007895,\n",
    "    mlthf_c:-0.000223,\n",
    "    mn2_c:-0.003158,\n",
    "    mobd_c:-0.003158,\n",
    "    nad_c:-0.001831,\n",
    "    nadp_c:-0.000447,\n",
    "    nh4_c:-0.11843,\n",
    "    pheme_c:-0.000223,\n",
    "    pydx5p_c:-0.000223,\n",
    "    ribflv_c:-0.000223,\n",
    "    sheme_c:-0.000223,\n",
    "    so4_c:-0.003948,\n",
    "    thf_c:-0.000223,\n",
    "    thmpp_c:-0.000223,\n",
    "    udcpdp_c:-0.000055,\n",
    "    zn2_c:-0.003158,\n",
    "    atp_c: -52.84,\n",
    "    h_c:52.84,\n",
    "    pi_c:52.84,\n",
    "    adp_c:52.84,\n",
    "    biomass:1,\n",
    "    })\n",
    "model.slim_optimize()\n",
    "\n",
    "r.name='biomass'\n",
    "r.id='biomass'\n",
    "model.objective='biomass'\n",
    "model.slim_optimize()"
   ]
  },
  {
   "cell_type": "code",
   "execution_count": 267,
   "id": "3c9f540c-2189-4998-8980-ca3f05c86b3a",
   "metadata": {},
   "outputs": [
    {
     "name": "stdout",
     "output_type": "stream",
     "text": [
      "RPMI 1.6424778652469958\n",
      "MDM 1.5275729448161122\n",
      "Complete media 2.9976370240617043\n"
     ]
    }
   ],
   "source": [
    "rpmi(model)\n",
    "print ('RPMI',model.slim_optimize())\n",
    "mdm(model)\n",
    "print ('MDM', model.slim_optimize())\n",
    "complete(model)\n",
    "print('Complete media', model.slim_optimize())"
   ]
  },
  {
   "cell_type": "code",
   "execution_count": 268,
   "id": "64ac14ef-c620-4261-b16b-08c79650dcd8",
   "metadata": {},
   "outputs": [
    {
     "name": "stderr",
     "output_type": "stream",
     "text": [
      "C:\\Users\\Aimee\\anaconda3\\lib\\site-packages\\cobra\\core\\model.py:727: UserWarning: need to pass in a list\n",
      "  warn(\"need to pass in a list\")\n"
     ]
    }
   ],
   "source": [
    "model.remove_reactions('PLIPIDS')\n",
    "model.remove_reactions('PLIPIDS_ESS')\n",
    "model.remove_reactions('PEPGLY')\n",
    "model.remove_reactions('PROTS')\n",
    "model.remove_reactions('DNAS')\n",
    "model.remove_reactions('RNAS')\n",
    "model.remove_reactions('Nm_Ess_biomass')\n",
    "model.remove_reactions('Nm_Baart_biomass')\n",
    "model.remove_reactions('DM_CAPBIOMASS')\n",
    "model.remove_reactions('DM_ESSBIOMASS')"
   ]
  },
  {
   "cell_type": "code",
   "execution_count": 269,
   "id": "a23574b8-cefc-417a-a344-7b62e594c745",
   "metadata": {
    "scrolled": true
   },
   "outputs": [],
   "source": [
    "model.metabolites.trp_L_c.annotation['bigg.metabolite'] = 'trp__L'"
   ]
  },
  {
   "cell_type": "code",
   "execution_count": 270,
   "id": "074b9a98-5ce3-4bff-bc88-4c53f02a6a03",
   "metadata": {
    "scrolled": true,
    "tags": []
   },
   "outputs": [],
   "source": [
    "#Add exchange reactions for extracellular reactions that are missing, or delete metabolites as appropriate\n",
    "exchanges=[]\n",
    "exchanges_mets=[]\n",
    "extracellular=[]\n",
    "for metabolite in model.metabolites:\n",
    "    if metabolite.compartment == 'extracellular':\n",
    "        extracellular.append(metabolite.id)\n",
    "    else :\n",
    "        pass\n",
    "\n",
    "for reaction in model.reactions:\n",
    "    if \"EX_\" in reaction.id:\n",
    "        exchanges.append(reaction.id)\n",
    "\n",
    "for x in exchanges:\n",
    "    for metabolites in model.reactions.get_by_id(x).metabolites:\n",
    "        exchanges_mets.append(metabolites.id)"
   ]
  },
  {
   "cell_type": "code",
   "execution_count": 271,
   "id": "6dea350d-c3e1-4fb3-92b2-141a869b519e",
   "metadata": {},
   "outputs": [
    {
     "name": "stdout",
     "output_type": "stream",
     "text": [
      "ag_e\n",
      "capsule_NM_e\n",
      "glcn_e\n",
      "acald_e\n"
     ]
    }
   ],
   "source": [
    "for x in extracellular:\n",
    "    if x in exchanges_mets:\n",
    "        pass\n",
    "    else:\n",
    "        print(x)"
   ]
  },
  {
   "cell_type": "code",
   "execution_count": 272,
   "id": "805cefec-0513-49c4-9581-e9ad2b2e382e",
   "metadata": {},
   "outputs": [],
   "source": [
    "#acald export was previously deleted as it is not detected extracellularly in Gc cultures. removed extracellular acald as a metabolite.  \n",
    "acald_e = model.metabolites.acald_e\n",
    "model.remove_metabolites(acald_e)\n",
    "ACALDtex=model.reactions.ACALDtex\n",
    "model.remove_reactions(ACALDtex)\n",
    "\n",
    "#gluconate is not thought to be imported/used as a carbon source by neisseria (https://www.karger.com/Article/FullText/447093)\n",
    "glcn_e=model.metabolites.glcn_e\n",
    "model.remove_metabolites(glcn_e)\n",
    "\n",
    "#delete capsule metabolite, which is not produced by Gc\n",
    "capsule=model.metabolites.capsule_NM_e\n",
    "model.remove_metabolites(capsule)\n",
    "\n",
    "#add exchange reaction for silver\n",
    "reaction = Reaction('EX_ag_e')\n",
    "reaction.name = 'EX of Ag_e'\n",
    "reaction.subsystem = 'Exchange'\n",
    "reaction.lower_bound = -1000\n",
    "reaction.upper_bound = 1000\n",
    "reaction.annotation = {'sbo': 'SBO:0000627'}\n",
    "reaction.add_metabolites({model.metabolites.ag_e: -1.0})\n",
    "reaction.notes['NOTES'] = 'Added exchange reaction that was missing'\n",
    "model.add_reactions([reaction])"
   ]
  },
  {
   "cell_type": "code",
   "execution_count": 273,
   "id": "79a72da4-4b7b-46bb-9850-802b67224aa0",
   "metadata": {},
   "outputs": [],
   "source": [
    "#delete orphan metabolties left over from reconstruction curation process\n",
    "orphan_mets=[]\n",
    "for metabolite in model.metabolites:\n",
    "    if len(metabolite.reactions) == 0:\n",
    "        orphan_mets.append(metabolite.id)\n",
    "\n",
    "for mets in orphan_mets:\n",
    "    m=model.metabolites.get_by_id(mets)\n",
    "    model.remove_metabolites(m)"
   ]
  },
  {
   "cell_type": "code",
   "execution_count": 274,
   "id": "526339f7-4c21-4aa1-a776-ecaa956d7280",
   "metadata": {},
   "outputs": [
    {
     "data": {
      "text/html": [
       "\n",
       "        <table>\n",
       "            <tr>\n",
       "                <td><strong>Metabolite identifier</strong></td><td>pro_L_c</td>\n",
       "            </tr><tr>\n",
       "                <td><strong>Name</strong></td><td>L-Proline</td>\n",
       "            </tr><tr>\n",
       "                <td><strong>Memory address</strong></td>\n",
       "                <td>0x020f45ae7280</td>\n",
       "            </tr><tr>\n",
       "                <td><strong>Formula</strong></td><td>C5H9NO2</td>\n",
       "            </tr><tr>\n",
       "                <td><strong>Compartment</strong></td><td>cytosol</td>\n",
       "            </tr><tr>\n",
       "                <td><strong>In 7 reaction(s)</strong></td><td>\n",
       "                    PROHX, PROD2, PROt2rpp, P5CR, biomass, PROabcpp, PROt1pp</td>\n",
       "            </tr>\n",
       "        </table>"
      ],
      "text/plain": [
       "<Metabolite pro_L_c at 0x20f45ae7280>"
      ]
     },
     "execution_count": 274,
     "metadata": {},
     "output_type": "execute_result"
    }
   ],
   "source": [
    "pro_L_c"
   ]
  },
  {
   "cell_type": "code",
   "execution_count": 275,
   "id": "1d814ba0-9434-4ae6-be7e-5ee5b7d8538c",
   "metadata": {},
   "outputs": [
    {
     "data": {
      "text/html": [
       "\n",
       "        <table>\n",
       "            <tr>\n",
       "                <td><strong>Reaction identifier</strong></td><td>AMPTASEPG</td>\n",
       "            </tr><tr>\n",
       "                <td><strong>Name</strong></td><td>Aminopeptidase (pro-gly)</td>\n",
       "            </tr><tr>\n",
       "                <td><strong>Memory address</strong></td>\n",
       "                <td>0x020f4c8127f0</td>\n",
       "            </tr><tr>\n",
       "                <td><strong>Stoichiometry</strong></td>\n",
       "                <td>\n",
       "                    <p style='text-align:right'>h2o_c + progly_c --> gly_c + pro_L_c</p>\n",
       "                    <p style='text-align:right'>H2O + L-Prolinylglycine --> Glycine + L-Proline</p>\n",
       "                </td>\n",
       "            </tr><tr>\n",
       "                <td><strong>GPR</strong></td><td>NGO1227</td>\n",
       "            </tr><tr>\n",
       "                <td><strong>Lower bound</strong></td><td>0.0</td>\n",
       "            </tr><tr>\n",
       "                <td><strong>Upper bound</strong></td><td>1000.0</td>\n",
       "            </tr>\n",
       "        </table>\n",
       "        "
      ],
      "text/plain": [
       "<Reaction AMPTASEPG at 0x20f4c8127f0>"
      ]
     },
     "execution_count": 275,
     "metadata": {},
     "output_type": "execute_result"
    }
   ],
   "source": [
    "r=model.reactions.AMPTASEPG\n",
    "pro__L_c = model.metabolites.pro__L_c\n",
    "\n",
    "r.add_metabolites({\n",
    "    pro_L_c: 1.0,\n",
    "    pro__L_c: -1.0})\n",
    "\n",
    "\n",
    "r"
   ]
  },
  {
   "cell_type": "code",
   "execution_count": 276,
   "id": "718b2441-46ca-462d-a821-f83970aa3cce",
   "metadata": {},
   "outputs": [],
   "source": [
    "model.remove_metabolites(pro__L_c)"
   ]
  },
  {
   "cell_type": "markdown",
   "id": "c31d8e5a-d0c6-421c-8df9-5e759d21832b",
   "metadata": {},
   "source": [
    "## 2d. Remove loops"
   ]
  },
  {
   "cell_type": "code",
   "execution_count": 277,
   "id": "0f28d3c4-b0ee-4945-abb4-f3bf041332b4",
   "metadata": {},
   "outputs": [],
   "source": [
    "#To remove an infeasible loop, where gln is exchanged infinitely between the two Na+ and h+ dependent transporters, limited these to import only.\n",
    "\n",
    "model.reactions.GLNt2pp.lower_bound =0\n",
    "model.reactions.GLNt1pp.lower_bound =0  "
   ]
  },
  {
   "cell_type": "code",
   "execution_count": 278,
   "id": "fd1e03da-d129-44aa-ab7e-c7c8c828b4e2",
   "metadata": {},
   "outputs": [
    {
     "name": "stdout",
     "output_type": "stream",
     "text": [
      "{}\n",
      "{}\n"
     ]
    }
   ],
   "source": [
    "#D_ala import is predicted to occur through an orphan reaction and spontaneously\n",
    "#Linking D_ala import to L_ala import genetically and na+ and h+ according to the transporters as appropriate\n",
    "\n",
    "\n",
    "ALADt2pp =model.reactions.ALADt\n",
    "\n",
    "ALADt2pp.id = 'ALADt2pp'\n",
    "ALADt2pp.gene_reaction_rule = 'NGO1807 or NGO1787 or NGO1290 or NGO1957'\n",
    "\n",
    "h_p = model.metabolites.get_by_id('h_p')\n",
    "h_c = model.metabolites.get_by_id('h_c')\n",
    "na1_c = model.metabolites.get_by_id('na1_c')\n",
    "na1_p = model.metabolites.get_by_id('na1_p')\n",
    "ala_D_p = model.metabolites.get_by_id('ala_D_p')\n",
    "ala_D_c = model.metabolites.get_by_id('ala_D_c')\n",
    "\n",
    "ALADt2pp.add_metabolites({\n",
    "        na1_p: -1.0,\n",
    "        na1_c: 1.0\n",
    "        })\n",
    "\n",
    "print(ALADt2pp.check_mass_balance())\n",
    "\n",
    "ALADt1pp = cobra.Reaction('ALADt1pp')\n",
    "ALADt1pp.name = 'D_ala import'\n",
    "ALADt1pp.gene_reaction_rule = 'NGO1290 or NGO1787'\n",
    "ALADt1pp.lower_bound = -1000.\n",
    "ALADt1pp.upper_bound = 1000.\n",
    "ALADt1pp.add_metabolites({\n",
    "    ala_D_p: -1.0,\n",
    "    h_p: -1.0,\n",
    "    ala_D_c: 1.0,\n",
    "    h_c: 1.0\n",
    "    })\n",
    "\n",
    "\n",
    "print(ALADt1pp.check_mass_balance())\n"
   ]
  },
  {
   "cell_type": "code",
   "execution_count": 279,
   "id": "e8ef62df-e935-4f1f-b4d2-5ec341297048",
   "metadata": {},
   "outputs": [],
   "source": [
    "#Remove looping reactions\n",
    "model.reactions.ALAt1pp.lower_bound = 0\n",
    "model.reactions.ALAt2pp.lower_bound = 0\n",
    "model.reactions.ARGt1pp.lower_bound = 0\n",
    "model.reactions.ARGt2pp.lower_bound = 0\n",
    "model.reactions.ASNt1pp.lower_bound = 0\n",
    "model.reactions.ASNt2pp.lower_bound = 0\n",
    "model.reactions.ASPt1pp.lower_bound = 0\n",
    "model.reactions.ASPt2pp.lower_bound = 0\n",
    "model.reactions.CYSt1pp.lower_bound = 0\n",
    "model.reactions.CYSt2pp.lower_bound = 0\n",
    "model.reactions.GLUt1pp.lower_bound = 0\n",
    "model.reactions.GLUt2pp.lower_bound = 0\n",
    "model.reactions.HISt1pp.lower_bound = 0\n",
    "model.reactions.HISt2pp.lower_bound = 0\n",
    "model.reactions.ILEt1pp.lower_bound = 0\n",
    "model.reactions.ILEt3pp.lower_bound = 0\n",
    "model.reactions.LEUt1pp.lower_bound = 0\n",
    "model.reactions.LEUt3pp.lower_bound = 0\n",
    "model.reactions.LYSt1pp.lower_bound = 0\n",
    "model.reactions.LYSt2pp.lower_bound = 0\n",
    "model.reactions.METt1pp.lower_bound = 0\n",
    "model.reactions.METt2pp.lower_bound = 0\n",
    "model.reactions.PHEt1pp.lower_bound = 0\n",
    "model.reactions.PHEt2pp.lower_bound = 0\n",
    "model.reactions.PROt1pp.lower_bound = 0\n",
    "model.reactions.PROt2rpp.lower_bound = 0\n",
    "model.reactions.SERt1rpp.lower_bound = 0\n",
    "model.reactions.SERt2pp.lower_bound = 0\n",
    "model.reactions.THRt1rpp.lower_bound = 0\n",
    "model.reactions.THRt2pp.lower_bound = 0\n",
    "model.reactions.VALt1pp.lower_bound = 0\n",
    "model.reactions.VALt3pp.lower_bound = 0\n",
    "model.reactions.TRPS1.lower_bound=0\n",
    "model.reactions.ADK1.lower_bound=0\n",
    "model.reactions.NDPK1.lower_bound=0\n",
    "model.reactions.VALTA.upper_bound=0\n",
    "model.reactions.VPAMT.upper_bound=0"
   ]
  },
  {
   "cell_type": "code",
   "execution_count": 280,
   "id": "1b5302ab-9101-4b55-95e4-88e9888eedb1",
   "metadata": {},
   "outputs": [],
   "source": [
    "#This gene catalyzes a bidirection conversion of alanine into pyruvate. However, although the enzyme is technically birectional,\n",
    "#in e.coli alanine transaminase expretion is supressed in the presence of alanine and the downstream product leucine. \n",
    "#Additionally, Gc is not capable of growing on alanine as a carbon source. https://www.ncbi.nlm.nih.gov/pmc/articles/PMC2950514/\n",
    "#As such, this is likely not a catabolic enzyme. I am limiting it to the synthesis of alanine only. \n",
    "model.reactions.ALATA_L.upper_bound=0"
   ]
  },
  {
   "cell_type": "code",
   "execution_count": 281,
   "id": "af7c0df4-bfbe-4fe1-a0f3-db9119d31b0d",
   "metadata": {},
   "outputs": [
    {
     "name": "stdout",
     "output_type": "stream",
     "text": [
      "RPMI 1.5748164611774687\n",
      "MDM 1.4529034642314562\n",
      "Complete media 2.4998508320954755\n"
     ]
    }
   ],
   "source": [
    "rpmi(model)\n",
    "print ('RPMI',model.slim_optimize())\n",
    "mdm(model)\n",
    "print ('MDM', model.slim_optimize())\n",
    "complete(model)\n",
    "print('Complete media', model.slim_optimize())"
   ]
  },
  {
   "cell_type": "code",
   "execution_count": 282,
   "id": "8c2f920c-b2c4-4df1-bf2d-5e7981075685",
   "metadata": {},
   "outputs": [],
   "source": [
    "for metabolite in model.metabolites:\n",
    "    if 'Cytosol' in metabolite.compartment:\n",
    "        metabolite.compartment == 'cytosol'\n",
    "    if '_c' in metabolite.id:\n",
    "        metabolite.compartment == 'cytosol'\n",
    "    if '_e' in metabolite.id:\n",
    "        metabolite.compartment == 'extracellular'\n",
    "    if '_p' in metabolite.id:\n",
    "        metabolite.compartment == 'periplasm'"
   ]
  },
  {
   "cell_type": "code",
   "execution_count": 283,
   "id": "6777f8d5-c9f0-429c-8bf8-4dc24d48641e",
   "metadata": {},
   "outputs": [
    {
     "data": {
      "text/plain": [
       "'periplasm'"
      ]
     },
     "execution_count": 283,
     "metadata": {},
     "output_type": "execute_result"
    }
   ],
   "source": [
    "model.metabolites.dms_p.compartment"
   ]
  },
  {
   "cell_type": "code",
   "execution_count": 284,
   "id": "eb3b490e-f888-48a5-80f4-5ee0a192b798",
   "metadata": {
    "scrolled": true,
    "tags": []
   },
   "outputs": [
    {
     "name": "stdout",
     "output_type": "stream",
     "text": [
      "dms_p\n",
      "pg161_c\n",
      "12dgr181_p\n",
      "3hcmrs7eACP_c\n",
      "12dgr181_c\n",
      "dms_e\n",
      "dhor_S_c\n",
      "2agpe140_p\n",
      "dttp_c\n",
      "thym_e\n",
      "spmd_c\n",
      "f6p_e\n",
      "f6p_c\n",
      "adp_c\n",
      "aso3_p\n",
      "aso3_e\n",
      "lac_D_p\n",
      "lyx_L_p\n",
      "gcald_c\n",
      "2ombzl_c\n",
      "3hmrsACP_c\n",
      "lac_D_c\n",
      "lac_D_e\n",
      "lyx_L_e\n",
      "mal_L_p\n",
      "galicolipa_c\n",
      "pe160_p\n",
      "pg161_p\n",
      "mal_L_c\n",
      "mal_L_e\n",
      "lgt_S_c\n",
      "pe160_c\n",
      "2ommbl_c\n",
      "hcys_L_c\n",
      "glcur1p_p\n",
      "anth_c\n",
      "cmp_e\n",
      "anhgm4p_p\n",
      "5dglcn_p\n",
      "methf_c\n",
      "ps161_c\n",
      "anhgm4p_c\n",
      "thf_c\n",
      "ade_c\n",
      "rhcys_c\n",
      "ade_e\n",
      "ps120_c\n",
      "ade_p\n",
      "h2o2_p\n",
      "tyr_L_p\n",
      "4h2oglt_c\n",
      "h2o2_e\n",
      "din_e\n",
      "h2o2_c\n",
      "tyr_L_c\n",
      "tyr_L_e\n",
      "ahdt_c\n",
      "ala_L_c\n",
      "ala_L_e\n",
      "3php_c\n",
      "cmrs3eACP_c\n",
      "cdp161_c\n",
      "ala_L_p\n",
      "murein5p5p5p_p\n",
      "n2o_p\n",
      "thm_p\n",
      "u3hga_c\n",
      "thm_c\n",
      "thm_e\n",
      "thym_p\n",
      "acon_C_c\n",
      "cit_p\n",
      "hxan_c\n",
      "hxan_e\n",
      "progly_e\n",
      "cit_c\n",
      "hxan_p\n",
      "val_L_c\n",
      "val_L_e\n",
      "udpg_c\n",
      "murein4px4px4p_p\n",
      "udpg_e\n",
      "val_L_p\n",
      "udpg_p\n",
      "ACP_c\n",
      "hmbil_c\n",
      "udpacgal_p\n",
      "3hhexACP_c\n",
      "udpacgal_e\n",
      "gnagalicolipa_c\n",
      "3mob_c\n",
      "iasp_c\n",
      "LalaDgluMdap_p\n",
      "fmn_c\n",
      "LalaDgluMdap_c\n",
      "LalaDgluMdap_e\n",
      "ac_c\n",
      "ac_e\n",
      "lald_L_c\n",
      "no3_p\n",
      "ac_p\n",
      "ocACP_c\n",
      "no3_e\n",
      "ag_e\n",
      "ag_c\n",
      "h2s_p\n",
      "cu2_p\n",
      "glx_c\n",
      "2oph_c\n",
      "h2s_e\n",
      "h2s_c\n",
      "1odecg3p_c\n",
      "cu2_c\n",
      "cu2_e\n",
      "2agpg140_p\n",
      "tmao_e\n",
      "2agpg140_c\n",
      "dtdp_c\n",
      "tmao_p\n",
      "2agpg180_c\n",
      "cys_D_p\n",
      "succ_p\n",
      "glu5sa_c\n",
      "succ_e\n",
      "cys_D_e\n",
      "succ_c\n",
      "dgmp_c\n",
      "dgmp_e\n",
      "dgmp_p\n",
      "2agpe180_c\n",
      "unaga_c\n",
      "thymd_p\n",
      "ctp_c\n",
      "2agpe180_p\n",
      "cdpdodec7eg_c\n",
      "thymd_c\n",
      "thymd_e\n",
      "pi_p\n",
      "pi_c\n",
      "pi_e\n",
      "gal_p\n",
      "h_p\n",
      "btn_c\n",
      "gthrd_c\n",
      "gthrd_e\n",
      "gal_c\n",
      "gal_e\n",
      "gthrd_p\n",
      "h_c\n",
      "h_e\n",
      "3hdecACP_c\n",
      "ppcoa_c\n",
      "murein4p4p4p_p\n",
      "ddcacoa_c\n",
      "uacgam_c\n",
      "sucr_e\n",
      "ugmda_c\n",
      "uacgam_p\n",
      "sucr_p\n",
      "hom_L_e\n",
      "glyb_p\n",
      "hom_L_c\n",
      "6hmhpt_c\n",
      "glyb_c\n",
      "glyb_e\n",
      "hom_L_p\n",
      "2agpe161_c\n",
      "ser_L_p\n",
      "2agpe161_p\n",
      "phom_c\n",
      "ser_L_c\n",
      "2obut_c\n",
      "ser_L_e\n",
      "cd2_p\n",
      "cd2_e\n",
      "cd2_c\n",
      "2pglyc_c\n",
      "biliverd_c\n",
      "cgly_c\n",
      "h2o_p\n",
      "2mcit_c\n",
      "cgly_e\n",
      "h2o_c\n",
      "cgly_p\n",
      "myrsACP_c\n",
      "h2o_e\n",
      "his_L_p\n",
      "his_L_e\n",
      "his_L_c\n",
      "2agpe120_c\n",
      "malACP_c\n",
      "ura_p\n",
      "2agpe120_p\n",
      "ura_c\n",
      "ura_e\n",
      "pg120_c\n",
      "gal_bD_p\n",
      "ugmd_c\n",
      "gal_bD_e\n",
      "5dglcn_e\n",
      "didp_c\n",
      "frulys_p\n",
      "3ig3p_c\n",
      "ppp9_c\n",
      "frulys_e\n",
      "glyclt_p\n",
      "2dda7p_c\n",
      "pg120_p\n",
      "2hdect9g3p_c\n",
      "thex2eACP_c\n",
      "2hdect9g3p_p\n",
      "ppbng_c\n",
      "uaagmda_c\n",
      "1pyr5c_c\n",
      "5mtr_c\n",
      "cmp_p\n",
      "amet_c\n",
      "acmana_e\n",
      "12dgr140_c\n",
      "u23ga_c\n",
      "1hdect9eg3p_c\n",
      "acmana_p\n",
      "skm5p_c\n",
      "12dgr140_p\n",
      "arg_L_c\n",
      "pppg9_c\n",
      "arg_L_e\n",
      "pa181_c\n",
      "indole_e\n",
      "tartr_L_p\n",
      "indole_c\n",
      "arg_L_p\n",
      "tartr_L_e\n",
      "pa181_p\n",
      "indole_p\n",
      "colipa_e\n",
      "sbt_D_p\n",
      "dmlz_c\n",
      "sl26da_c\n",
      "sbt_D_e\n",
      "etoh_p\n",
      "gmhep7p_c\n",
      "hmfurn_c\n",
      "tdcoa_c\n",
      "hg2_p\n",
      "gar_c\n",
      "fadh2_c\n",
      "hg2_e\n",
      "fum_c\n",
      "fum_e\n",
      "fum_p\n",
      "acg5sa_c\n",
      "glyc_R_p\n",
      "2ddecg3p_c\n",
      "stcoa_c\n",
      "glyc_R_c\n",
      "glyc_R_e\n",
      "hmgth_c\n",
      "nh4_c\n",
      "5mta_c\n",
      "pgp161_p\n",
      "galct_D_e\n",
      "4ampm_c\n",
      "xylu_L_p\n",
      "pa141_p\n",
      "pgp161_c\n",
      "galct_D_p\n",
      "xylu_L_e\n",
      "pa141_c\n",
      "thmpp_c\n",
      "ckdo_c\n",
      "nh4_p\n",
      "octa_e\n",
      "nh4_e\n",
      "5caiz_c\n",
      "octa_p\n",
      "icit_c\n",
      "3hoctACP_c\n",
      "ppal_e\n",
      "ppal_c\n",
      "dtdprmn_c\n",
      "ppal_p\n",
      "dca_e\n",
      "2dhp_c\n",
      "dca_p\n",
      "ptrc_e\n",
      "ptrc_c\n",
      "LalaDgluMdapDala_p\n",
      "udpglcur_p\n",
      "LalaDgluMdapDala_e\n",
      "dutp_c\n",
      "LalaDgluMdapDala_c\n",
      "pg141_c\n",
      "xu5p_D_c\n",
      "idp_c\n",
      "pg141_p\n",
      "dtdp4d6dm_c\n",
      "3psme_c\n",
      "na1_p\n",
      "na1_c\n",
      "na1_e\n",
      "dtdp4d6dg_c\n",
      "dcmp_e\n",
      "dcmp_c\n",
      "anhgm_c\n",
      "anhgm_e\n",
      "cdpdhdecg_c\n",
      "dcmp_p\n",
      "hdeACP_c\n",
      "inost_c\n",
      "inost_e\n",
      "fgam_c\n",
      "uagmda_c\n",
      "inost_p\n",
      "1tdecg3p_c\n",
      "5aop_c\n",
      "so4_p\n",
      "dhf_c\n",
      "toctd2eACP_c\n",
      "so4_c\n",
      "so4_e\n",
      "murein4p4pOAc_p\n",
      "2tdecg3p_c\n",
      "arab_L_e\n",
      "2tdecg3p_p\n",
      "3hcddec5eACP_c\n",
      "6pgc_c\n",
      "cdpdddecg_c\n",
      "galur_e\n",
      "ocdcea_e\n",
      "8aonn_c\n",
      "galur_p\n",
      "chol_e\n",
      "murein4p4p_p\n",
      "chol_c\n",
      "cdpdtdecg_c\n",
      "chor_c\n",
      "chol_p\n",
      "5drib_c\n",
      "dgdp_c\n",
      "ni2_e\n",
      "g3pi_e\n",
      "ni2_c\n",
      "26dap_M_c\n",
      "ni2_p\n",
      "murein4px4p4p_p\n",
      "galctn_D_e\n",
      "g3pe_e\n",
      "toct2eACP_c\n",
      "g3pg_e\n",
      "g3pe_p\n",
      "g3pc_p\n",
      "progly_p\n",
      "glu1sa_c\n",
      "pran_c\n",
      "4mop_c\n",
      "3c3hmp_c\n",
      "g3pc_e\n",
      "ddcaACP_c\n",
      "pppn_p\n",
      "2agpg120_p\n",
      "cu_e\n",
      "cu_c\n",
      "12dgr141_c\n",
      "fprica_c\n",
      "2agpg120_c\n",
      "fdp_c\n",
      "cu_p\n",
      "so3_c\n",
      "12dgr161_c\n",
      "so3_e\n",
      "cit_e\n",
      "pap_c\n",
      "gg4abut_c\n",
      "so3_p\n",
      "12dgr161_p\n",
      "thmmp_c\n",
      "h5deACP_c\n",
      "ttdca_p\n",
      "acgal_p\n",
      "4c2me_c\n",
      "q8_c\n",
      "acgal_e\n",
      "ttdca_e\n",
      "o2_p\n",
      "man1p_c\n",
      "o2_c\n",
      "o2_e\n",
      "ptrc_p\n",
      "mthgxl_c\n",
      "pydxn_c\n",
      "murein5p4pOAc_p\n",
      "pg181_c\n",
      "udcpdp_p\n",
      "pg181_p\n",
      "gmp_e\n",
      "10fthf_c\n",
      "co_p\n",
      "tungs_p\n",
      "2agpg181_c\n",
      "co_c\n",
      "co_e\n",
      "tungs_e\n",
      "sulfac_p\n",
      "pnto_R_c\n",
      "pnto_R_e\n",
      "pnto_R_p\n",
      "eig3p_c\n",
      "sulfac_e\n",
      "hpyr_c\n",
      "3hcinnm_e\n",
      "ps180_c\n",
      "uaccg_c\n",
      "3hcinnm_p\n",
      "suchms_c\n",
      "u3aga_c\n",
      "amp_p\n",
      "tddec2eACP_c\n",
      "ocdca_p\n",
      "1tdec7eg3p_c\n",
      "h2mb4p_c\n",
      "anhgm3p_c\n",
      "ocdca_e\n",
      "ppap_c\n",
      "anhgm3p_p\n",
      "ump_c\n",
      "g6p_p\n",
      "g6p_c\n",
      "tmrs2eACP_c\n",
      "g6p_e\n",
      "amob_c\n",
      "glu_L_c\n",
      "nac_p\n",
      "glu_L_e\n",
      "nac_e\n",
      "glu_L_p\n",
      "nac_c\n",
      "dcaACP_c\n",
      "cynt_p\n",
      "um4p_c\n",
      "alaala_p\n",
      "alaala_e\n",
      "alaala_c\n",
      "xyl_D_p\n",
      "gdptp_c\n",
      "dtbt_c\n",
      "12dgr160_p\n",
      "12dgr160_c\n",
      "4ppcys_c\n",
      "oxa_c\n",
      "oxa_p\n",
      "athr_L_c\n",
      "crn_p\n",
      "pydam_c\n",
      "xtp_c\n",
      "cpppg3_c\n",
      "sucsal_c\n",
      "focytC_p\n",
      "ethso3_e\n",
      "ethso3_p\n",
      "pmtcoa_c\n",
      "odecoa_c\n",
      "pep_c\n",
      "5aprbu_c\n",
      "murein4p3p_p\n",
      "r5p_p\n",
      "udpgal_p\n",
      "r5p_c\n",
      "r5p_e\n",
      "2me4p_c\n",
      "udpgal_c\n",
      "udpgal_e\n",
      "murein4p4p4pOAc_p\n",
      "dtmp_p\n",
      "dump_c\n",
      "dump_e\n",
      "dtmp_e\n",
      "dtmp_c\n",
      "dump_p\n",
      "rmn_p\n",
      "2agpg160_p\n",
      "pmcoa_c\n",
      "rmn_e\n",
      "imacp_c\n",
      "2agpg160_c\n",
      "pphn_c\n",
      "adphep_DD_c\n",
      "arab_L_p\n",
      "man_p\n",
      "man_e\n",
      "murein4px4px4pOAc_p\n",
      "Hg2_p\n",
      "r1p_c\n",
      "Hg2_c\n",
      "orot5p_c\n",
      "csn_c\n",
      "csn_e\n",
      "2agpe141_c\n",
      "csn_p\n",
      "2agpe141_p\n",
      "anhgm_p\n",
      "2odecg3p_p\n",
      "crn_e\n",
      "2odecg3p_c\n",
      "micit_c\n",
      "dhap_e\n",
      "dhap_c\n",
      "orot_p\n",
      "dhap_p\n",
      "kdo2lipid4_c\n",
      "pgp141_c\n",
      "pgp141_p\n",
      "adphep_LD_c\n",
      "pe141_p\n",
      "gam1p_c\n",
      "pe141_c\n",
      "dscl_c\n",
      "pa161_c\n",
      "pa161_p\n",
      "tym_e\n",
      "nmn_p\n",
      "argsuc_c\n",
      "nmn_e\n",
      "tym_p\n",
      "nmn_c\n",
      "mi1p_D_c\n",
      "pan4p_c\n",
      "ficytC_p\n",
      "pe181_c\n",
      "pe181_p\n",
      "tdec2eACP_c\n",
      "25drapp_c\n",
      "cdpdodecg_c\n",
      "dimp_p\n",
      "dimp_e\n",
      "dimp_c\n",
      "hhlipa_c\n",
      "mn2_c\n",
      "mn2_e\n",
      "isetac_e\n",
      "1ddecg3p_c\n",
      "3hddecACP_c\n",
      "dsbgox_p\n",
      "mn2_p\n",
      "isetac_p\n",
      "acmum6p_c\n",
      "dsbdrd_c\n",
      "3c2hmp_c\n",
      "lipidA_c\n",
      "1p3h5c_e\n",
      "4hpro_LT_c\n",
      "1p3h5c_c\n",
      "manglyc_p\n",
      "gmhep1p_c\n",
      "manglyc_e\n",
      "dgtp_c\n",
      "4ppan_c\n",
      "ncam_c\n",
      "pgp181_p\n",
      "2omph_c\n",
      "3ooctdACP_c\n",
      "phthr_c\n",
      "murein5p5p_p\n",
      "aicar_c\n",
      "4abz_c\n",
      "pg160_p\n",
      "pg180_c\n",
      "pe161_p\n",
      "e4hglu_c\n",
      "pg160_c\n",
      "dmso_e\n",
      "dcacoa_c\n",
      "34dhpac_e\n",
      "3ocpalm5eACP_c\n",
      "dmso_p\n",
      "34dhpac_p\n",
      "e4hglu_e\n",
      "2pg_c\n",
      "ppt_e\n",
      "ppt_p\n",
      "4mpetz_c\n",
      "t3c5palmeACP_c\n",
      "glcur_p\n",
      "mmet_p\n",
      "4r5au_c\n",
      "mmet_e\n",
      "cytd_e\n",
      "cytd_c\n",
      "cyst_L_c\n",
      "cytd_p\n",
      "pdx5p_c\n",
      "tyrp_p\n",
      "oaa_p\n",
      "ps160_c\n",
      "oaa_e\n",
      "tyrp_e\n",
      "ala_B_e\n",
      "26dap_LL_c\n",
      "ipdp_c\n",
      "mlthf_c\n",
      "glcr_p\n",
      "phpyr_c\n",
      "trdox_c\n",
      "dmpp_c\n",
      "glcr_e\n",
      "3opalmACP_c\n",
      "met_L_p\n",
      "met_L_e\n",
      "3mop_c\n",
      "met_L_c\n",
      "nicrns_c\n",
      "4hbz_c\n",
      "ocdcea_p\n",
      "hlipa_c\n",
      "asp_L_e\n",
      "3ophb_c\n",
      "dxyl5p_c\n",
      "prbamp_c\n",
      "13dpg_c\n",
      "2omhmbl_c\n",
      "gdpmann_c\n",
      "gtp_e\n",
      "gtp_c\n",
      "2agpg180_p\n",
      "glcur1p_e\n",
      "alac_S_c\n",
      "din_p\n",
      "gtp_p\n",
      "2mecdp_c\n",
      "3hcpalm5eACP_c\n",
      "palmACP_c\n",
      "glc_D_p\n",
      "glcn_p\n",
      "dhpmp_c\n",
      "ins_c\n",
      "glc_D_e\n",
      "glcn_c\n",
      "glc_D_c\n",
      "t3c7vaceACP_c\n",
      "fe2_c\n",
      "trdrd_c\n",
      "fe2_e\n",
      "all_D_p\n",
      "3hoctaACP_c\n",
      "fe2_p\n",
      "all_D_e\n",
      "no2_p\n",
      "no2_e\n",
      "Tf_e\n",
      "tma_e\n",
      "ggptrc_c\n",
      "fald_c\n",
      "gsn_e\n",
      "gsn_c\n",
      "mal_D_e\n",
      "fald_e\n",
      "tma_p\n",
      "udpglcur_e\n",
      "fald_p\n",
      "mal_D_p\n",
      "gsn_p\n",
      "t3c9palmeACP_c\n",
      "2agpg141_p\n",
      "psclys_p\n",
      "icolipa_c\n",
      "2agpg141_c\n",
      "mnl_p\n",
      "acgam1p_p\n",
      "acgam1p_e\n",
      "mnl_e\n",
      "acgam1p_c\n",
      "g3pi_p\n",
      "lac_L_c\n",
      "lac_L_e\n",
      "psclys_e\n",
      "lac_L_p\n",
      "3c4mop_c\n",
      "4pasp_c\n",
      "uppg3_c\n",
      "fad_c\n",
      "3cmp_p\n",
      "2agpe181_c\n",
      "3cmp_e\n",
      "2agpe181_p\n",
      "gmp_c\n",
      "12dgr180_p\n",
      "acACP_c\n",
      "histd_c\n",
      "g3pg_p\n",
      "gmp_p\n",
      "12dgr180_c\n",
      "ala_B_c\n",
      "k_e\n",
      "k_c\n",
      "2hdecg3p_p\n",
      "acon_T_c\n",
      "kdo8p_c\n",
      "ala_B_p\n",
      "2hdecg3p_c\n",
      "k_p\n",
      "orot_c\n",
      "occoa_c\n",
      "orot_e\n",
      "ala_D_p\n",
      "dpcoa_c\n",
      "anhm3p_c\n",
      "ala_D_c\n",
      "ala_D_e\n",
      "galctn_D_p\n",
      "pe161_c\n",
      "cys_L_e\n",
      "cys_L_c\n",
      "hexACP_c\n",
      "f6p_p\n",
      "dctp_c\n",
      "cys_L_p\n",
      "acac_e\n",
      "pydx_c\n",
      "TfFe3_e\n",
      "3hcpalm9eACP_c\n",
      "2ddglcn_e\n",
      "2ddglcn_p\n",
      "frdp_c\n",
      "pa120_c\n",
      "murein4p3pOAc_p\n",
      "pa120_p\n",
      "uamag_c\n",
      "pppn_e\n",
      "pydx5p_c\n",
      "glyald_p\n",
      "tpalm2eACP_c\n",
      "melib_e\n",
      "glyc3p_p\n",
      "glyald_e\n",
      "glyald_c\n",
      "glyc3p_c\n",
      "3pg_c\n",
      "glyc3p_e\n",
      "melib_p\n",
      "galt_p\n",
      "galt_e\n",
      "grdp_c\n",
      "25aics_c\n",
      "ps140_c\n",
      "fruur_e\n",
      "rib_D_c\n",
      "glyc2p_p\n",
      "rib_D_e\n",
      "fruur_p\n",
      "glyc2p_e\n",
      "rib_D_p\n",
      "Hg_e\n",
      "anhm_c\n",
      "acac_p\n",
      "citr_L_c\n",
      "actACP_c\n",
      "5apru_c\n",
      "2tdec7eg3p_c\n",
      "orn_e\n",
      "orn_c\n",
      "2tdec7eg3p_p\n",
      "orn_p\n",
      "3ohexACP_c\n",
      "g1p_p\n",
      "g1p_e\n",
      "gdp_p\n",
      "damp_p\n",
      "gdp_e\n",
      "damp_e\n",
      "damp_c\n",
      "gdp_c\n",
      "dopa_p\n",
      "pacald_p\n",
      "nadph_c\n",
      "dopa_e\n",
      "pacald_e\n",
      "pa180_c\n",
      "gly_p\n",
      "xan_p\n",
      "gly_e\n",
      "pa180_p\n",
      "3hcvac7eACP_c\n",
      "gly_c\n",
      "xan_e\n",
      "xan_c\n",
      "3dhq_c\n",
      "tdeACP_c\n",
      "fpram_c\n",
      "ser_D_c\n",
      "butso3_p\n",
      "ser_D_e\n",
      "pyam5p_c\n",
      "23dhdp_c\n",
      "pro_L_c\n",
      "ser_D_p\n",
      "butso3_e\n",
      "ribflv_c\n",
      "enlipa_e\n",
      "2agpg181_p\n",
      "pro_L_p\n",
      "gln_L_p\n",
      "gln_L_c\n",
      "gln_L_e\n",
      "dhmptp_c\n",
      "pe141b_c\n",
      "pe141b_p\n",
      "ametam_c\n",
      "LalaDglu_c\n",
      "dsbdox_c\n",
      "pgp160_c\n",
      "uacgam_e\n",
      "pgp160_p\n",
      "pa140_p\n",
      "phe_L_c\n",
      "15dap_p\n",
      "gam_e\n",
      "pa140_c\n",
      "15dap_e\n",
      "gam_p\n",
      "cdec3eACP_c\n",
      "taur_p\n",
      "leu_L_p\n",
      "ggbutal_c\n",
      "leu_L_c\n",
      "taur_e\n",
      "leu_L_e\n",
      "3hpppn_e\n",
      "cbasp_c\n",
      "g1p_c\n",
      "3hpppn_p\n",
      "malcoa_c\n",
      "glyc_c\n",
      "glyc_e\n",
      "udp_c\n",
      "glyc_p\n",
      "kdolipid4_c\n",
      "ile_L_p\n",
      "tsul_p\n",
      "1odec7eg3p_c\n",
      "2agpe160_p\n",
      "ile_L_e\n",
      "cdpdtdec7eg_c\n",
      "ile_L_c\n",
      "2agpe160_c\n",
      "tsul_c\n",
      "tsul_e\n",
      "gnahhlipa_c\n",
      "dtdpglu_c\n",
      "prfp_c\n",
      "Lf_e\n",
      "2ahbut_c\n",
      "pgp120_c\n",
      "pgp120_p\n",
      "pg140_c\n",
      "hdca_p\n",
      "pg140_p\n",
      "hdca_e\n",
      "lipa_c\n",
      "lipa_e\n",
      "lipa_p\n",
      "23dhmb_c\n",
      "ahcys_c\n",
      "4abut_p\n",
      "LfFe3_e\n",
      "nicrnt_c\n",
      "4abut_e\n",
      "malt_e\n",
      "malt_c\n",
      "malt_p\n",
      "q8h2_c\n",
      "2ddecg3p_p\n",
      "5mthf_c\n",
      "o2s_e\n",
      "dcyt_c\n",
      "dha_p\n",
      "xmp_p\n",
      "o2s_p\n",
      "dha_e\n",
      "rnam_c\n",
      "xmp_c\n",
      "xmp_e\n",
      "dad_2_c\n",
      "but2eACP_c\n",
      "etha_p\n",
      "uri_c\n",
      "etha_e\n",
      "thr_L_p\n",
      "ditp_c\n",
      "4hthr_c\n",
      "thr_L_c\n",
      "thr_L_e\n",
      "glutrna_c\n",
      "gua_c\n",
      "gua_e\n",
      "12dgr141_p\n",
      "murein5p4p_p\n",
      "gua_p\n",
      "dad_5_c\n",
      "ppa_p\n",
      "pppi_c\n",
      "5aizc_c\n",
      "pram_c\n",
      "pgp181_c\n",
      "6hmhptpp_c\n",
      "gthox_c\n",
      "gthox_e\n",
      "gthox_p\n",
      "so2_p\n",
      "so2_c\n",
      "so2_e\n",
      "mobd_c\n",
      "mobd_e\n",
      "tcynt_p\n",
      "mobd_p\n",
      "quln_c\n",
      "tcynt_e\n",
      "acgam_e\n",
      "acgam_c\n",
      "dhptd_c\n",
      "actp_c\n",
      "acgam_p\n",
      "itp_c\n",
      "akg_c\n",
      "akg_e\n",
      "akg_p\n",
      "imp_p\n",
      "t3c5ddeceACP_c\n",
      "s7p_c\n",
      "imp_e\n",
      "3ocddec5eACP_c\n",
      "imp_c\n",
      "glcur_e\n",
      "cl_e\n",
      "cl_c\n",
      "pg180_p\n",
      "kdo_c\n",
      "2p4c2me_c\n",
      "cl_p\n",
      "co2_c\n",
      "gmhep17bp_c\n",
      "hdcea_p\n",
      "co2_e\n",
      "hdcea_e\n",
      "co2_p\n",
      "trnaglu_c\n",
      "cbp_c\n",
      "3ocmrs7eACP_c\n",
      "acorn_c\n",
      "butACP_c\n",
      "tdecoa_c\n",
      "pser_L_p\n",
      "pser_L_c\n",
      "pser_L_e\n",
      "ddca_p\n",
      "ddca_e\n",
      "agm_p\n",
      "ps181_c\n",
      "agm_c\n",
      "pant_R_c\n",
      "agm_e\n",
      "3odecACP_c\n",
      "gbbtn_p\n",
      "cobalt2_e\n",
      "cobalt2_c\n",
      "gbbtn_e\n",
      "cobalt2_p\n",
      "cmpacna_c\n",
      "3oddecACP_c\n",
      "o2s_c\n",
      "peamn_p\n",
      "peamn_e\n",
      "asn_L_c\n",
      "skm_e\n",
      "sl2a6o_c\n",
      "asn_L_e\n",
      "sheme_c\n",
      "galctn_L_e\n",
      "asn_L_p\n",
      "galctn_L_p\n",
      "db4p_c\n",
      "skm_c\n",
      "dudp_c\n",
      "pro_L_e\n",
      "oct7eACP_c\n",
      "g3ps_e\n",
      "xtsn_p\n",
      "fuc_L_e\n",
      "g3ps_p\n",
      "xtsn_c\n",
      "fuc_L_p\n",
      "xtsn_e\n",
      "skm_p\n",
      "dann_c\n",
      "udcpp_c\n",
      "acg5p_c\n",
      "6pgl_c\n",
      "udcpp_p\n",
      "lys_L_p\n",
      "lys_L_c\n",
      "lys_L_e\n",
      "ru5p_D_c\n",
      "murein5px4p_p\n",
      "dsbcrd_p\n",
      "glu_D_c\n",
      "ttdcea_p\n",
      "no_p\n",
      "for_p\n",
      "ttdcea_e\n",
      "for_e\n",
      "no_e\n",
      "for_c\n",
      "no_c\n",
      "4ahmmp_c\n",
      "nadh_c\n",
      "man6p_e\n",
      "dcamp_c\n",
      "alltn_e\n",
      "murein4px4p_p\n",
      "2cpr5p_c\n",
      "man6p_p\n",
      "alltn_p\n",
      "anhm4p_c\n",
      "2agpg161_c\n",
      "2agpg161_p\n",
      "nadp_c\n",
      "thdp_c\n",
      "gal1p_p\n",
      "murein5px4px4p_p\n",
      "gal1p_e\n",
      "ocdcaACP_c\n",
      "prpp_c\n",
      "lipidAds_c\n",
      "coa_c\n",
      "mg2_e\n",
      "2agpe140_c\n",
      "mg2_c\n",
      "lcts_e\n",
      "3omrsACP_c\n",
      "glucys_c\n",
      "spmd_e\n",
      "mg2_p\n",
      "lcts_p\n",
      "mso3_e\n",
      "t3c7mrseACP_c\n",
      "mso3_p\n",
      "octdp_c\n",
      "3ump_p\n",
      "n2o_c\n",
      "n2o_e\n",
      "kdo2lipid4L_c\n",
      "3ump_e\n",
      "g3p_c\n",
      "metsox_R_L_p\n",
      "metsox_R_L_e\n",
      "metsox_R_L_c\n",
      "uamr_c\n",
      "prbatp_c\n",
      "ps141_c\n",
      "uama_c\n",
      "murein4p4pdOAc_p\n",
      "3ocvac7eACP_c\n",
      "pa160a_c\n",
      "dsbgrd_p\n",
      "utp_c\n",
      "pa160_p\n",
      "pa160_c\n",
      "gam6p_e\n",
      "gam6p_c\n",
      "23dhmp_c\n",
      "gam6p_p\n",
      "nad_c\n",
      "phe_L_e\n",
      "hisp_c\n",
      "ascb_L_e\n",
      "but_e\n",
      "2ddg6p_c\n",
      "oaa_c\n",
      "udcpdp_c\n",
      "ascb_L_p\n",
      "but_p\n",
      "ohpb_c\n",
      "cynt_e\n",
      "urea_e\n",
      "urea_c\n",
      "phe_L_p\n",
      "urea_p\n",
      "tdec3eACP_c\n",
      "acald_c\n",
      "2ohph_c\n",
      "pyr_p\n",
      "4per_c\n",
      "dadp_c\n",
      "pyr_c\n",
      "sialylated_los_GC_c\n",
      "pyr_e\n",
      "34hpp_c\n",
      "glyclt_c\n",
      "fru_p\n",
      "aspsa_c\n",
      "fru_e\n",
      "glyclt_e\n",
      "fru_c\n",
      "3haACP_c\n",
      "hxa_e\n",
      "hxa_p\n",
      "los_GC_c\n",
      "dsbcox_p\n",
      "dhnpt_c\n",
      "metsox_S_L_p\n",
      "metsox_S_L_e\n",
      "atp_c\n",
      "metsox_S_L_c\n",
      "dgsn_p\n",
      "pheme_c\n",
      "pheme_e\n",
      "dgsn_e\n",
      "dgsn_c\n",
      "pheme_p\n",
      "3ooctACP_c\n",
      "Sfglutth_c\n",
      "asp_L_p\n",
      "accoa_c\n",
      "asp_L_c\n",
      "2odec7eg3p_c\n",
      "2odec7eg3p_p\n",
      "3ocpalm9eACP_c\n",
      "lipidX_c\n",
      "acser_p\n",
      "hxcoa_c\n",
      "acser_e\n",
      "acser_c\n",
      "ppa_c\n",
      "ppa_e\n",
      "ara5p_c\n",
      "3dhsk_c\n",
      "etoh_c\n",
      "cyan_e\n",
      "etoh_e\n",
      "cyan_p\n",
      "xyl_D_e\n",
      "zn2_p\n",
      "2ippm_c\n",
      "h2_p\n",
      "zn2_e\n",
      "hdcat9_p\n",
      "zn2_c\n",
      "h2_e\n",
      "ppgpp_c\n",
      "h2_c\n",
      "cmp_c\n",
      "2aobut_c\n",
      "pgp140_c\n",
      "biomass\n",
      "ump_e\n",
      "2amsa_c\n",
      "pgp140_p\n",
      "ump_p\n",
      "12dgr120_c\n",
      "dcdp_c\n",
      "12dgr120_p\n",
      "succoa_c\n",
      "amp_e\n",
      "prlp_c\n",
      "amp_c\n",
      "pe140_p\n",
      "achms_c\n",
      "4adcho_c\n",
      "ca2_p\n",
      "ppi_c\n",
      "pe140_c\n",
      "ca2_e\n",
      "ca2_c\n",
      "4hba_c\n",
      "HgFe3_e\n",
      "dnad_c\n",
      "acglu_c\n",
      "hco3_c\n",
      "hdcoa_c\n",
      "trp_L_p\n",
      "tre_e\n",
      "trp_L_e\n",
      "trp_L_c\n",
      "tre_p\n",
      "pe180_c\n",
      "thrp_e\n",
      "idon_L_e\n",
      "thrp_p\n",
      "pe180_p\n",
      "idon_L_p\n",
      "met_D_p\n",
      "glu5p_c\n",
      "fe3_c\n",
      "fe3_e\n",
      "met_D_e\n",
      "met_D_c\n",
      "fe3_p\n",
      "dhpt_c\n",
      "4hoxpacd_e\n",
      "4hoxpacd_p\n",
      "pgp180_p\n",
      "2mahmp_c\n",
      "hdet9ACP_c\n",
      "cdp_c\n",
      "1hdecg3p_c\n",
      "cddec5eACP_c\n",
      "adn_c\n",
      "3amp_p\n",
      "e4p_c\n",
      "acmum_e\n",
      "3amp_e\n",
      "acmum_p\n",
      "pe120_p\n",
      "3hpalmACP_c\n",
      "spmd_p\n",
      "air_c\n",
      "2dh3dgal6p_c\n",
      "pgp180_c\n",
      "pe120_c\n",
      "datp_c\n",
      "ap4a_c\n",
      "btd_RR_c\n",
      "actn__R_c\n",
      "5mcsn_c\n",
      "4hphac_c\n",
      "34dhpha_c\n",
      "hdceap_c\n",
      "octeACP_c\n",
      "ocdceap_c\n",
      "ddcap_c\n",
      "ttdceap_c\n",
      "hdcap_c\n",
      "1hdec9eg3p_c\n",
      "ttdcap_c\n",
      "ocdcap_c\n",
      "1odec11eg3p_c\n",
      "progly_c\n",
      "clpn181_p\n",
      "clpn141_p\n",
      "clpn140_p\n",
      "clpn160_p\n",
      "clpn120_p\n",
      "clpn161_p\n",
      "clpn180_p\n",
      "rbflvrd_c\n",
      "5fthf_c\n",
      "grxox_c\n",
      "grxrd_c\n",
      "6pthp_c\n",
      "cph4_c\n",
      "cdg_c\n",
      "preq0_c\n",
      "preq1_c\n",
      "murein5px3p_p\n",
      "murein5p3p_p\n",
      "murein3p3p_p\n",
      "cystine_L_p\n",
      "cystine_L_c\n",
      "cystine_L_e\n",
      "apoACP_c\n",
      "glcgnahhlipa_c\n",
      "galglcgnahhlipa_c\n",
      "murein4px4px4pdOAc_p\n",
      "murein4px4px4ptOAc_p\n"
     ]
    }
   ],
   "source": [
    "for metabolite in model.metabolites:\n",
    "    if '' in metabolite.compartment:\n",
    "        print(metabolite.id)"
   ]
  },
  {
   "cell_type": "code",
   "execution_count": 285,
   "id": "b35b816c-89f6-4755-bb73-ed61545b012a",
   "metadata": {},
   "outputs": [
    {
     "data": {
      "text/plain": [
       "559"
      ]
     },
     "execution_count": 285,
     "metadata": {},
     "output_type": "execute_result"
    }
   ],
   "source": [
    "len(model.genes)\n",
    "#Subtract 2 for \"Sgene, and orphan\" "
   ]
  },
  {
   "cell_type": "code",
   "execution_count": 286,
   "id": "e7217b66-313d-4bca-ad63-95b2e65d2d58",
   "metadata": {},
   "outputs": [],
   "source": [
    "model.id='iNGO_557'"
   ]
  },
  {
   "cell_type": "code",
   "execution_count": 287,
   "id": "7bdf988f-be79-403a-9be1-bc9bc0673605",
   "metadata": {},
   "outputs": [
    {
     "data": {
      "text/html": [
       "\n",
       "        <table>\n",
       "            <tr>\n",
       "                <td><strong>Name</strong></td>\n",
       "                <td>iNGO_557</td>\n",
       "            </tr><tr>\n",
       "                <td><strong>Memory address</strong></td>\n",
       "                <td>0x020f3d096130</td>\n",
       "            </tr><tr>\n",
       "                <td><strong>Number of metabolites</strong></td>\n",
       "                <td>1263</td>\n",
       "            </tr><tr>\n",
       "                <td><strong>Number of reactions</strong></td>\n",
       "                <td>1424</td>\n",
       "            </tr><tr>\n",
       "                <td><strong>Number of groups</strong></td>\n",
       "                <td>0</td>\n",
       "            </tr><tr>\n",
       "                <td><strong>Objective expression</strong></td>\n",
       "                <td>1.0*biomass - 1.0*biomass_reverse_01e59</td>\n",
       "            </tr><tr>\n",
       "                <td><strong>Compartments</strong></td>\n",
       "                <td>periplasm, cytosol, extracellular, Cytosol</td>\n",
       "            </tr>\n",
       "          </table>"
      ],
      "text/plain": [
       "<Model iNGO_557 at 0x20f3d096130>"
      ]
     },
     "execution_count": 287,
     "metadata": {},
     "output_type": "execute_result"
    }
   ],
   "source": [
    "model"
   ]
  },
  {
   "cell_type": "markdown",
   "id": "9cd6a48b-44e3-4f48-9fe6-b91940e03bcd",
   "metadata": {},
   "source": [
    "## Add Model Annotations"
   ]
  },
  {
   "cell_type": "code",
   "execution_count": null,
   "id": "bbbe6f46-2e3a-49fe-899d-15a3bb16ca82",
   "metadata": {},
   "outputs": [],
   "source": []
  },
  {
   "cell_type": "code",
   "execution_count": 288,
   "id": "0e08c09e-ba28-4acb-b8b5-71dfd3c2e282",
   "metadata": {},
   "outputs": [],
   "source": [
    "#Add Kegg annotations\n",
    "for gene in model.genes:\n",
    "    gene.annotation['kegg.genes']='ngo:'+ str(gene)"
   ]
  },
  {
   "cell_type": "code",
   "execution_count": 289,
   "id": "0cf6b41b-d0af-4581-8470-881a395628bf",
   "metadata": {},
   "outputs": [
    {
     "data": {
      "text/html": [
       "<div>\n",
       "<style scoped>\n",
       "    .dataframe tbody tr th:only-of-type {\n",
       "        vertical-align: middle;\n",
       "    }\n",
       "\n",
       "    .dataframe tbody tr th {\n",
       "        vertical-align: top;\n",
       "    }\n",
       "\n",
       "    .dataframe thead th {\n",
       "        text-align: right;\n",
       "    }\n",
       "</style>\n",
       "<table border=\"1\" class=\"dataframe\">\n",
       "  <thead>\n",
       "    <tr style=\"text-align: right;\">\n",
       "      <th></th>\n",
       "      <th>Protein_ID</th>\n",
       "      <th>Gene_ID</th>\n",
       "      <th>Uniprot_ID</th>\n",
       "      <th>BVBRC_ID</th>\n",
       "      <th>PUBMLST_locus</th>\n",
       "    </tr>\n",
       "    <tr>\n",
       "      <th>RefSeq_ID</th>\n",
       "      <th></th>\n",
       "      <th></th>\n",
       "      <th></th>\n",
       "      <th></th>\n",
       "      <th></th>\n",
       "    </tr>\n",
       "  </thead>\n",
       "  <tbody>\n",
       "    <tr>\n",
       "      <th>NGO0001</th>\n",
       "      <td>YP_207186.1</td>\n",
       "      <td>3283049</td>\n",
       "      <td>Q5FAJ2</td>\n",
       "      <td>fig|242231.10.peg.1</td>\n",
       "      <td>NEIS0320</td>\n",
       "    </tr>\n",
       "    <tr>\n",
       "      <th>NGO0002</th>\n",
       "      <td>YP_207187.1</td>\n",
       "      <td>3283050</td>\n",
       "      <td>Q5FAJ1</td>\n",
       "      <td>fig|242231.10.peg.2</td>\n",
       "      <td>NEIS0321</td>\n",
       "    </tr>\n",
       "    <tr>\n",
       "      <th>NGO0003</th>\n",
       "      <td>YP_207188.1</td>\n",
       "      <td>3283051</td>\n",
       "      <td>Q5FAJ0</td>\n",
       "      <td>fig|242231.10.peg.3</td>\n",
       "      <td>NEIS0323</td>\n",
       "    </tr>\n",
       "    <tr>\n",
       "      <th>NGO0004</th>\n",
       "      <td>YP_207189.1</td>\n",
       "      <td>3283052</td>\n",
       "      <td></td>\n",
       "      <td>fig|242231.10.peg.4</td>\n",
       "      <td>NEIS0324</td>\n",
       "    </tr>\n",
       "    <tr>\n",
       "      <th>NGO0006</th>\n",
       "      <td>YP_207190.1</td>\n",
       "      <td>3283053</td>\n",
       "      <td></td>\n",
       "      <td>fig|242231.10.peg.7</td>\n",
       "      <td>NEIS0326</td>\n",
       "    </tr>\n",
       "    <tr>\n",
       "      <th>...</th>\n",
       "      <td>...</td>\n",
       "      <td>...</td>\n",
       "      <td>...</td>\n",
       "      <td>...</td>\n",
       "      <td>...</td>\n",
       "    </tr>\n",
       "    <tr>\n",
       "      <th>NGO2178</th>\n",
       "      <td>YP_209183.1</td>\n",
       "      <td>3282747</td>\n",
       "      <td>Q5F4W6</td>\n",
       "      <td>fig|242231.10.peg.2631</td>\n",
       "      <td>NEIS0316</td>\n",
       "    </tr>\n",
       "    <tr>\n",
       "      <th>NGO2179</th>\n",
       "      <td>YP_209184.1</td>\n",
       "      <td>3282746</td>\n",
       "      <td>Q5F4W5</td>\n",
       "      <td>fig|242231.10.peg.2632</td>\n",
       "      <td></td>\n",
       "    </tr>\n",
       "    <tr>\n",
       "      <th>NGO2180</th>\n",
       "      <td>YP_209185.1</td>\n",
       "      <td>3282745</td>\n",
       "      <td>Q5F4W4</td>\n",
       "      <td>fig|242231.10.peg.2633</td>\n",
       "      <td>NEIS0317</td>\n",
       "    </tr>\n",
       "    <tr>\n",
       "      <th>NGO2182</th>\n",
       "      <td>YP_209187.1</td>\n",
       "      <td>3282743</td>\n",
       "      <td>Q5F4W2</td>\n",
       "      <td>fig|242231.10.peg.2635</td>\n",
       "      <td>NEIS0319</td>\n",
       "    </tr>\n",
       "    <tr>\n",
       "      <th>NGO2181</th>\n",
       "      <td>YP_209186.1</td>\n",
       "      <td>3282744</td>\n",
       "      <td>Q5F4W3</td>\n",
       "      <td>fig|242231.10.peg.2634</td>\n",
       "      <td>NEIS0318</td>\n",
       "    </tr>\n",
       "  </tbody>\n",
       "</table>\n",
       "<p>2002 rows × 5 columns</p>\n",
       "</div>"
      ],
      "text/plain": [
       "            Protein_ID  Gene_ID Uniprot_ID                BVBRC_ID  \\\n",
       "RefSeq_ID                                                            \n",
       "NGO0001    YP_207186.1  3283049     Q5FAJ2     fig|242231.10.peg.1   \n",
       "NGO0002    YP_207187.1  3283050     Q5FAJ1     fig|242231.10.peg.2   \n",
       "NGO0003    YP_207188.1  3283051     Q5FAJ0     fig|242231.10.peg.3   \n",
       "NGO0004    YP_207189.1  3283052                fig|242231.10.peg.4   \n",
       "NGO0006    YP_207190.1  3283053                fig|242231.10.peg.7   \n",
       "...                ...      ...        ...                     ...   \n",
       "NGO2178    YP_209183.1  3282747     Q5F4W6  fig|242231.10.peg.2631   \n",
       "NGO2179    YP_209184.1  3282746     Q5F4W5  fig|242231.10.peg.2632   \n",
       "NGO2180    YP_209185.1  3282745     Q5F4W4  fig|242231.10.peg.2633   \n",
       "NGO2182    YP_209187.1  3282743     Q5F4W2  fig|242231.10.peg.2635   \n",
       "NGO2181    YP_209186.1  3282744     Q5F4W3  fig|242231.10.peg.2634   \n",
       "\n",
       "          PUBMLST_locus  \n",
       "RefSeq_ID                \n",
       "NGO0001        NEIS0320  \n",
       "NGO0002        NEIS0321  \n",
       "NGO0003        NEIS0323  \n",
       "NGO0004        NEIS0324  \n",
       "NGO0006        NEIS0326  \n",
       "...                 ...  \n",
       "NGO2178        NEIS0316  \n",
       "NGO2179                  \n",
       "NGO2180        NEIS0317  \n",
       "NGO2182        NEIS0319  \n",
       "NGO2181        NEIS0318  \n",
       "\n",
       "[2002 rows x 5 columns]"
      ]
     },
     "execution_count": 289,
     "metadata": {},
     "output_type": "execute_result"
    }
   ],
   "source": [
    "#load gene annotation table\n",
    "genes= list()\n",
    "for gene in model.genes:\n",
    "    genes.append(gene.id)\n",
    "genes\n",
    "\n",
    "#Use PATRIC/BVBRC database, uniprot database, and PubMLST\n",
    "annotation_table = pd.read_csv (cwd+'/Gc_GENRE_2022/Curate_Gc_Model/annotation_resources/refseq_gene_annotations.csv', usecols= ['RefSeq_ID', 'Protein_ID', 'Gene_ID', 'Uniprot_ID', 'BVBRC_ID','PUBMLST_locus' ],index_col=0)\n",
    "annotation_table = annotation_table.fillna('')\n",
    "annotation_table                       \n"
   ]
  },
  {
   "cell_type": "code",
   "execution_count": 290,
   "id": "60241fc6-59a2-4319-a980-14cbd9b6664d",
   "metadata": {},
   "outputs": [],
   "source": [
    "#Add gene annotations to model from annotation table\n",
    "for x in model.genes:\n",
    "    geneid=x.id\n",
    "    if geneid in annotation_table.index:\n",
    "        protein_id=annotation_table['Protein_ID'].loc[geneid]\n",
    "        model.genes.get_by_id(geneid).annotation['ncbiprotein']=protein_id\n",
    "        ncbigene_id=annotation_table['Gene_ID'].loc[geneid]\n",
    "        model.genes.get_by_id(geneid).annotation['ncbigene']= str(ncbigene_id)\n",
    "        uniprot_id=annotation_table['Uniprot_ID'].loc[geneid]\n",
    "        model.genes.get_by_id(geneid).annotation['UNIPROT']= uniprot_id\n",
    "        patric_id=annotation_table['BVBRC_ID'].loc[geneid]\n",
    "        model.genes.get_by_id(geneid).annotation['PATRIC']=patric_id\n",
    "        pubmlst_id=annotation_table['PUBMLST_locus'].loc[geneid]\n",
    "        model.genes.get_by_id(geneid).annotation['PUBMLST_Locus']=pubmlst_id\n",
    "    else:\n",
    "        pass"
   ]
  },
  {
   "cell_type": "code",
   "execution_count": 291,
   "id": "b2e642bc-4cb0-4447-ae56-3e0eb004a3b3",
   "metadata": {
    "scrolled": true,
    "tags": []
   },
   "outputs": [],
   "source": [
    "# Add SBOs\n",
    "\n",
    "# Metabolites\n",
    "for cpd in model.metabolites:\n",
    "    cpd.annotation['sbo'] = 'SBO:0000247'\n",
    "\n",
    "# Reactions\n",
    "for rxn in model.reactions:\n",
    "    substrates = list(rxn.metabolites)\n",
    "    compartments = set([x.compartment for x in substrates])\n",
    "    \n",
    "    if 'EX_' in rxn.id:\n",
    "        rxn.annotation['sbo'] = 'SBO:0000627' # exchange\n",
    "    elif len(compartments) > 1:\n",
    "        rxn.annotation['sbo'] = 'SBO:0000185' # transport\n",
    "    else:\n",
    "        rxn.annotation['sbo'] = 'SBO:0000176' # metabolic\n",
    "\n",
    "# Biomass\n",
    "model.reactions.biomass.annotation['sbo'] = 'SBO:0000629'  \n",
    "\n",
    "#Demand reactions\n",
    "model.reactions.DM_BIOMASS.annotation['sbo'] = 'SBO:0000628'  \n",
    "model.reactions.DM_4HBA.annotation['sbo'] = 'SBO:0000628'  \n",
    "model.reactions.DM_5DRIB.annotation['sbo'] = 'SBO:0000628' \n",
    "model.reactions.DM_AMOB.annotation['sbo'] = 'SBO:0000628'  \n",
    "model.reactions.DM_BIOMASS.annotation['sbo'] = 'SBO:0000628'  \n",
    "model.reactions.DM_BV.annotation['sbo'] = 'SBO:0000628'  \n",
    "model.reactions.DM_HMFURN.annotation['sbo'] = 'SBO:0000628'\n",
    "model.reactions.DM_PAP.annotation['sbo'] = 'SBO:0000628'\n",
    "model.reactions.DM_UREA.annotation['sbo'] = 'SBO:0000628'\n",
    "\n",
    "\n",
    "# Genes\n",
    "for gene in model.genes:\n",
    "    gene.annotation['sbo'] = 'SBO:0000243'"
   ]
  },
  {
   "cell_type": "code",
   "execution_count": 292,
   "id": "6c22a82d-4009-42ab-a758-c3f5e5021208",
   "metadata": {},
   "outputs": [
    {
     "data": {
      "text/plain": [
       "{'kegg.genes': 'ngo:NGO1881',\n",
       " 'ncbiprotein': 'YP_208914.1',\n",
       " 'ncbigene': '3282312',\n",
       " 'UNIPROT': 'Q5F5N5',\n",
       " 'PATRIC': 'fig|242231.10.peg.2264',\n",
       " 'PUBMLST_Locus': 'NEIS0074',\n",
       " 'sbo': 'SBO:0000243'}"
      ]
     },
     "execution_count": 292,
     "metadata": {},
     "output_type": "execute_result"
    }
   ],
   "source": [
    "model.genes.NGO1881.annotation"
   ]
  },
  {
   "cell_type": "code",
   "execution_count": 293,
   "id": "c1dc5019-b924-4e51-a5c0-d9ae5f7cddb4",
   "metadata": {
    "scrolled": true,
    "tags": []
   },
   "outputs": [
    {
     "name": "stderr",
     "output_type": "stream",
     "text": [
      "https://identifiers.org/UNIPROT/ does not conform to 'http(s)://identifiers.org/collection/id' or'http(s)://identifiers.org/COLLECTION:id\n",
      "https://identifiers.org/UNIPROT/ does not conform to 'http(s)://identifiers.org/collection/id' or'http(s)://identifiers.org/COLLECTION:id\n",
      "https://identifiers.org/UNIPROT/ does not conform to 'http(s)://identifiers.org/collection/id' or'http(s)://identifiers.org/COLLECTION:id\n",
      "https://identifiers.org/UNIPROT/ does not conform to 'http(s)://identifiers.org/collection/id' or'http(s)://identifiers.org/COLLECTION:id\n",
      "https://identifiers.org/UNIPROT/ does not conform to 'http(s)://identifiers.org/collection/id' or'http(s)://identifiers.org/COLLECTION:id\n",
      "https://identifiers.org/UNIPROT/ does not conform to 'http(s)://identifiers.org/collection/id' or'http(s)://identifiers.org/COLLECTION:id\n",
      "https://identifiers.org/UNIPROT/ does not conform to 'http(s)://identifiers.org/collection/id' or'http(s)://identifiers.org/COLLECTION:id\n",
      "https://identifiers.org/PUBMLST_Locus/ does not conform to 'http(s)://identifiers.org/collection/id' or'http(s)://identifiers.org/COLLECTION:id\n",
      "https://identifiers.org/UNIPROT/ does not conform to 'http(s)://identifiers.org/collection/id' or'http(s)://identifiers.org/COLLECTION:id\n",
      "https://identifiers.org/UNIPROT/ does not conform to 'http(s)://identifiers.org/collection/id' or'http(s)://identifiers.org/COLLECTION:id\n",
      "https://identifiers.org/PUBMLST_Locus/ does not conform to 'http(s)://identifiers.org/collection/id' or'http(s)://identifiers.org/COLLECTION:id\n",
      "https://identifiers.org/PUBMLST_Locus/ does not conform to 'http(s)://identifiers.org/collection/id' or'http(s)://identifiers.org/COLLECTION:id\n",
      "https://identifiers.org/UNIPROT/ does not conform to 'http(s)://identifiers.org/collection/id' or'http(s)://identifiers.org/COLLECTION:id\n",
      "https://identifiers.org/UNIPROT/ does not conform to 'http(s)://identifiers.org/collection/id' or'http(s)://identifiers.org/COLLECTION:id\n",
      "https://identifiers.org/UNIPROT/ does not conform to 'http(s)://identifiers.org/collection/id' or'http(s)://identifiers.org/COLLECTION:id\n",
      "https://identifiers.org/UNIPROT/ does not conform to 'http(s)://identifiers.org/collection/id' or'http(s)://identifiers.org/COLLECTION:id\n",
      "https://identifiers.org/UNIPROT/ does not conform to 'http(s)://identifiers.org/collection/id' or'http(s)://identifiers.org/COLLECTION:id\n",
      "https://identifiers.org/UNIPROT/ does not conform to 'http(s)://identifiers.org/collection/id' or'http(s)://identifiers.org/COLLECTION:id\n",
      "https://identifiers.org/PUBMLST_Locus/ does not conform to 'http(s)://identifiers.org/collection/id' or'http(s)://identifiers.org/COLLECTION:id\n",
      "https://identifiers.org/UNIPROT/ does not conform to 'http(s)://identifiers.org/collection/id' or'http(s)://identifiers.org/COLLECTION:id\n",
      "https://identifiers.org/PUBMLST_Locus/ does not conform to 'http(s)://identifiers.org/collection/id' or'http(s)://identifiers.org/COLLECTION:id\n",
      "https://identifiers.org/UNIPROT/ does not conform to 'http(s)://identifiers.org/collection/id' or'http(s)://identifiers.org/COLLECTION:id\n",
      "https://identifiers.org/PUBMLST_Locus/ does not conform to 'http(s)://identifiers.org/collection/id' or'http(s)://identifiers.org/COLLECTION:id\n",
      "https://identifiers.org/UNIPROT/ does not conform to 'http(s)://identifiers.org/collection/id' or'http(s)://identifiers.org/COLLECTION:id\n",
      "https://identifiers.org/UNIPROT/ does not conform to 'http(s)://identifiers.org/collection/id' or'http(s)://identifiers.org/COLLECTION:id\n",
      "https://identifiers.org/UNIPROT/ does not conform to 'http(s)://identifiers.org/collection/id' or'http(s)://identifiers.org/COLLECTION:id\n",
      "https://identifiers.org/UNIPROT/ does not conform to 'http(s)://identifiers.org/collection/id' or'http(s)://identifiers.org/COLLECTION:id\n",
      "https://identifiers.org/PUBMLST_Locus/ does not conform to 'http(s)://identifiers.org/collection/id' or'http(s)://identifiers.org/COLLECTION:id\n",
      "https://identifiers.org/UNIPROT/ does not conform to 'http(s)://identifiers.org/collection/id' or'http(s)://identifiers.org/COLLECTION:id\n",
      "https://identifiers.org/UNIPROT/ does not conform to 'http(s)://identifiers.org/collection/id' or'http(s)://identifiers.org/COLLECTION:id\n",
      "https://identifiers.org/UNIPROT/ does not conform to 'http(s)://identifiers.org/collection/id' or'http(s)://identifiers.org/COLLECTION:id\n",
      "https://identifiers.org/PUBMLST_Locus/ does not conform to 'http(s)://identifiers.org/collection/id' or'http(s)://identifiers.org/COLLECTION:id\n",
      "https://identifiers.org/PUBMLST_Locus/ does not conform to 'http(s)://identifiers.org/collection/id' or'http(s)://identifiers.org/COLLECTION:id\n",
      "https://identifiers.org/UNIPROT/ does not conform to 'http(s)://identifiers.org/collection/id' or'http(s)://identifiers.org/COLLECTION:id\n",
      "https://identifiers.org/PUBMLST_Locus/ does not conform to 'http(s)://identifiers.org/collection/id' or'http(s)://identifiers.org/COLLECTION:id\n",
      "https://identifiers.org/UNIPROT/ does not conform to 'http(s)://identifiers.org/collection/id' or'http(s)://identifiers.org/COLLECTION:id\n",
      "https://identifiers.org/UNIPROT/ does not conform to 'http(s)://identifiers.org/collection/id' or'http(s)://identifiers.org/COLLECTION:id\n",
      "https://identifiers.org/UNIPROT/ does not conform to 'http(s)://identifiers.org/collection/id' or'http(s)://identifiers.org/COLLECTION:id\n",
      "https://identifiers.org/PUBMLST_Locus/ does not conform to 'http(s)://identifiers.org/collection/id' or'http(s)://identifiers.org/COLLECTION:id\n",
      "https://identifiers.org/PUBMLST_Locus/ does not conform to 'http(s)://identifiers.org/collection/id' or'http(s)://identifiers.org/COLLECTION:id\n",
      "https://identifiers.org/UNIPROT/ does not conform to 'http(s)://identifiers.org/collection/id' or'http(s)://identifiers.org/COLLECTION:id\n",
      "https://identifiers.org/UNIPROT/ does not conform to 'http(s)://identifiers.org/collection/id' or'http(s)://identifiers.org/COLLECTION:id\n",
      "https://identifiers.org/UNIPROT/ does not conform to 'http(s)://identifiers.org/collection/id' or'http(s)://identifiers.org/COLLECTION:id\n",
      "https://identifiers.org/UNIPROT/ does not conform to 'http(s)://identifiers.org/collection/id' or'http(s)://identifiers.org/COLLECTION:id\n",
      "https://identifiers.org/UNIPROT/ does not conform to 'http(s)://identifiers.org/collection/id' or'http(s)://identifiers.org/COLLECTION:id\n",
      "https://identifiers.org/UNIPROT/ does not conform to 'http(s)://identifiers.org/collection/id' or'http(s)://identifiers.org/COLLECTION:id\n",
      "https://identifiers.org/UNIPROT/ does not conform to 'http(s)://identifiers.org/collection/id' or'http(s)://identifiers.org/COLLECTION:id\n",
      "https://identifiers.org/UNIPROT/ does not conform to 'http(s)://identifiers.org/collection/id' or'http(s)://identifiers.org/COLLECTION:id\n",
      "https://identifiers.org/UNIPROT/ does not conform to 'http(s)://identifiers.org/collection/id' or'http(s)://identifiers.org/COLLECTION:id\n",
      "https://identifiers.org/UNIPROT/ does not conform to 'http(s)://identifiers.org/collection/id' or'http(s)://identifiers.org/COLLECTION:id\n",
      "https://identifiers.org/UNIPROT/ does not conform to 'http(s)://identifiers.org/collection/id' or'http(s)://identifiers.org/COLLECTION:id\n",
      "https://identifiers.org/UNIPROT/ does not conform to 'http(s)://identifiers.org/collection/id' or'http(s)://identifiers.org/COLLECTION:id\n",
      "https://identifiers.org/UNIPROT/ does not conform to 'http(s)://identifiers.org/collection/id' or'http(s)://identifiers.org/COLLECTION:id\n",
      "https://identifiers.org/UNIPROT/ does not conform to 'http(s)://identifiers.org/collection/id' or'http(s)://identifiers.org/COLLECTION:id\n",
      "https://identifiers.org/UNIPROT/ does not conform to 'http(s)://identifiers.org/collection/id' or'http(s)://identifiers.org/COLLECTION:id\n",
      "https://identifiers.org/UNIPROT/ does not conform to 'http(s)://identifiers.org/collection/id' or'http(s)://identifiers.org/COLLECTION:id\n",
      "https://identifiers.org/UNIPROT/ does not conform to 'http(s)://identifiers.org/collection/id' or'http(s)://identifiers.org/COLLECTION:id\n",
      "https://identifiers.org/UNIPROT/ does not conform to 'http(s)://identifiers.org/collection/id' or'http(s)://identifiers.org/COLLECTION:id\n",
      "https://identifiers.org/UNIPROT/ does not conform to 'http(s)://identifiers.org/collection/id' or'http(s)://identifiers.org/COLLECTION:id\n",
      "https://identifiers.org/UNIPROT/ does not conform to 'http(s)://identifiers.org/collection/id' or'http(s)://identifiers.org/COLLECTION:id\n",
      "https://identifiers.org/UNIPROT/ does not conform to 'http(s)://identifiers.org/collection/id' or'http(s)://identifiers.org/COLLECTION:id\n",
      "https://identifiers.org/UNIPROT/ does not conform to 'http(s)://identifiers.org/collection/id' or'http(s)://identifiers.org/COLLECTION:id\n",
      "https://identifiers.org/UNIPROT/ does not conform to 'http(s)://identifiers.org/collection/id' or'http(s)://identifiers.org/COLLECTION:id\n",
      "https://identifiers.org/UNIPROT/ does not conform to 'http(s)://identifiers.org/collection/id' or'http(s)://identifiers.org/COLLECTION:id\n",
      "https://identifiers.org/UNIPROT/ does not conform to 'http(s)://identifiers.org/collection/id' or'http(s)://identifiers.org/COLLECTION:id\n",
      "https://identifiers.org/UNIPROT/ does not conform to 'http(s)://identifiers.org/collection/id' or'http(s)://identifiers.org/COLLECTION:id\n",
      "https://identifiers.org/UNIPROT/ does not conform to 'http(s)://identifiers.org/collection/id' or'http(s)://identifiers.org/COLLECTION:id\n",
      "https://identifiers.org/UNIPROT/ does not conform to 'http(s)://identifiers.org/collection/id' or'http(s)://identifiers.org/COLLECTION:id\n",
      "https://identifiers.org/UNIPROT/ does not conform to 'http(s)://identifiers.org/collection/id' or'http(s)://identifiers.org/COLLECTION:id\n",
      "https://identifiers.org/UNIPROT/ does not conform to 'http(s)://identifiers.org/collection/id' or'http(s)://identifiers.org/COLLECTION:id\n",
      "https://identifiers.org/UNIPROT/ does not conform to 'http(s)://identifiers.org/collection/id' or'http(s)://identifiers.org/COLLECTION:id\n",
      "https://identifiers.org/UNIPROT/ does not conform to 'http(s)://identifiers.org/collection/id' or'http(s)://identifiers.org/COLLECTION:id\n",
      "https://identifiers.org/PUBMLST_Locus/ does not conform to 'http(s)://identifiers.org/collection/id' or'http(s)://identifiers.org/COLLECTION:id\n",
      "https://identifiers.org/UNIPROT/ does not conform to 'http(s)://identifiers.org/collection/id' or'http(s)://identifiers.org/COLLECTION:id\n",
      "https://identifiers.org/UNIPROT/ does not conform to 'http(s)://identifiers.org/collection/id' or'http(s)://identifiers.org/COLLECTION:id\n",
      "https://identifiers.org/UNIPROT/ does not conform to 'http(s)://identifiers.org/collection/id' or'http(s)://identifiers.org/COLLECTION:id\n",
      "https://identifiers.org/UNIPROT/ does not conform to 'http(s)://identifiers.org/collection/id' or'http(s)://identifiers.org/COLLECTION:id\n",
      "https://identifiers.org/UNIPROT/ does not conform to 'http(s)://identifiers.org/collection/id' or'http(s)://identifiers.org/COLLECTION:id\n",
      "https://identifiers.org/PUBMLST_Locus/ does not conform to 'http(s)://identifiers.org/collection/id' or'http(s)://identifiers.org/COLLECTION:id\n",
      "https://identifiers.org/PUBMLST_Locus/ does not conform to 'http(s)://identifiers.org/collection/id' or'http(s)://identifiers.org/COLLECTION:id\n",
      "MNXR96131 does not conform to 'http(s)://identifiers.org/collection/id' or'http(s)://identifiers.org/COLLECTION:id\n",
      "MNXR97995 does not conform to 'http(s)://identifiers.org/collection/id' or'http(s)://identifiers.org/COLLECTION:id\n",
      "MNXR98011 does not conform to 'http(s)://identifiers.org/collection/id' or'http(s)://identifiers.org/COLLECTION:id\n",
      "MNXR98027 does not conform to 'http(s)://identifiers.org/collection/id' or'http(s)://identifiers.org/COLLECTION:id\n",
      "MNXR98034 does not conform to 'http(s)://identifiers.org/collection/id' or'http(s)://identifiers.org/COLLECTION:id\n",
      "MNXR98037 does not conform to 'http(s)://identifiers.org/collection/id' or'http(s)://identifiers.org/COLLECTION:id\n",
      "MNXR98041 does not conform to 'http(s)://identifiers.org/collection/id' or'http(s)://identifiers.org/COLLECTION:id\n",
      "MNXR98045 does not conform to 'http(s)://identifiers.org/collection/id' or'http(s)://identifiers.org/COLLECTION:id\n",
      "MNXR98057 does not conform to 'http(s)://identifiers.org/collection/id' or'http(s)://identifiers.org/COLLECTION:id\n",
      "MNXR98058 does not conform to 'http(s)://identifiers.org/collection/id' or'http(s)://identifiers.org/COLLECTION:id\n",
      "MNXR98065 does not conform to 'http(s)://identifiers.org/collection/id' or'http(s)://identifiers.org/COLLECTION:id\n",
      "MNXR98078 does not conform to 'http(s)://identifiers.org/collection/id' or'http(s)://identifiers.org/COLLECTION:id\n",
      "MNXR98196 does not conform to 'http(s)://identifiers.org/collection/id' or'http(s)://identifiers.org/COLLECTION:id\n",
      "MNXR98197 does not conform to 'http(s)://identifiers.org/collection/id' or'http(s)://identifiers.org/COLLECTION:id\n",
      "MNXR98202 does not conform to 'http(s)://identifiers.org/collection/id' or'http(s)://identifiers.org/COLLECTION:id\n",
      "MNXR98208 does not conform to 'http(s)://identifiers.org/collection/id' or'http(s)://identifiers.org/COLLECTION:id\n",
      "MNXR98207 does not conform to 'http(s)://identifiers.org/collection/id' or'http(s)://identifiers.org/COLLECTION:id\n",
      "MNXR98210 does not conform to 'http(s)://identifiers.org/collection/id' or'http(s)://identifiers.org/COLLECTION:id\n",
      "MNXR98211 does not conform to 'http(s)://identifiers.org/collection/id' or'http(s)://identifiers.org/COLLECTION:id\n",
      "MNXR98225 does not conform to 'http(s)://identifiers.org/collection/id' or'http(s)://identifiers.org/COLLECTION:id\n",
      "MNXR98229 does not conform to 'http(s)://identifiers.org/collection/id' or'http(s)://identifiers.org/COLLECTION:id\n",
      "MNXR98239 does not conform to 'http(s)://identifiers.org/collection/id' or'http(s)://identifiers.org/COLLECTION:id\n",
      "MNXR98247 does not conform to 'http(s)://identifiers.org/collection/id' or'http(s)://identifiers.org/COLLECTION:id\n",
      "MNXR98248 does not conform to 'http(s)://identifiers.org/collection/id' or'http(s)://identifiers.org/COLLECTION:id\n",
      "MNXR98257 does not conform to 'http(s)://identifiers.org/collection/id' or'http(s)://identifiers.org/COLLECTION:id\n",
      "MNXR98261 does not conform to 'http(s)://identifiers.org/collection/id' or'http(s)://identifiers.org/COLLECTION:id\n",
      "MNXR98264 does not conform to 'http(s)://identifiers.org/collection/id' or'http(s)://identifiers.org/COLLECTION:id\n",
      "MNXR98269 does not conform to 'http(s)://identifiers.org/collection/id' or'http(s)://identifiers.org/COLLECTION:id\n",
      "MNXR98293 does not conform to 'http(s)://identifiers.org/collection/id' or'http(s)://identifiers.org/COLLECTION:id\n",
      "MNXR98306 does not conform to 'http(s)://identifiers.org/collection/id' or'http(s)://identifiers.org/COLLECTION:id\n",
      "MNXR98307 does not conform to 'http(s)://identifiers.org/collection/id' or'http(s)://identifiers.org/COLLECTION:id\n",
      "MNXR98318 does not conform to 'http(s)://identifiers.org/collection/id' or'http(s)://identifiers.org/COLLECTION:id\n",
      "MNXR98330 does not conform to 'http(s)://identifiers.org/collection/id' or'http(s)://identifiers.org/COLLECTION:id\n",
      "MNXR98336 does not conform to 'http(s)://identifiers.org/collection/id' or'http(s)://identifiers.org/COLLECTION:id\n",
      "MNXR98339 does not conform to 'http(s)://identifiers.org/collection/id' or'http(s)://identifiers.org/COLLECTION:id\n",
      "MNXR98346 does not conform to 'http(s)://identifiers.org/collection/id' or'http(s)://identifiers.org/COLLECTION:id\n",
      "MNXR98349 does not conform to 'http(s)://identifiers.org/collection/id' or'http(s)://identifiers.org/COLLECTION:id\n",
      "MNXR98352 does not conform to 'http(s)://identifiers.org/collection/id' or'http(s)://identifiers.org/COLLECTION:id\n",
      "MNXR98354 does not conform to 'http(s)://identifiers.org/collection/id' or'http(s)://identifiers.org/COLLECTION:id\n",
      "MNXR98353 does not conform to 'http(s)://identifiers.org/collection/id' or'http(s)://identifiers.org/COLLECTION:id\n",
      "MNXR98356 does not conform to 'http(s)://identifiers.org/collection/id' or'http(s)://identifiers.org/COLLECTION:id\n",
      "MNXR98359 does not conform to 'http(s)://identifiers.org/collection/id' or'http(s)://identifiers.org/COLLECTION:id\n",
      "MNXR98371 does not conform to 'http(s)://identifiers.org/collection/id' or'http(s)://identifiers.org/COLLECTION:id\n",
      "MNXR98376 does not conform to 'http(s)://identifiers.org/collection/id' or'http(s)://identifiers.org/COLLECTION:id\n",
      "MNXR98385 does not conform to 'http(s)://identifiers.org/collection/id' or'http(s)://identifiers.org/COLLECTION:id\n",
      "MNXR98384 does not conform to 'http(s)://identifiers.org/collection/id' or'http(s)://identifiers.org/COLLECTION:id\n",
      "MNXR98386 does not conform to 'http(s)://identifiers.org/collection/id' or'http(s)://identifiers.org/COLLECTION:id\n",
      "MNXR98387 does not conform to 'http(s)://identifiers.org/collection/id' or'http(s)://identifiers.org/COLLECTION:id\n",
      "MNXR98392 does not conform to 'http(s)://identifiers.org/collection/id' or'http(s)://identifiers.org/COLLECTION:id\n",
      "MNXR98396 does not conform to 'http(s)://identifiers.org/collection/id' or'http(s)://identifiers.org/COLLECTION:id\n",
      "MNXR98398 does not conform to 'http(s)://identifiers.org/collection/id' or'http(s)://identifiers.org/COLLECTION:id\n",
      "MNXR98400 does not conform to 'http(s)://identifiers.org/collection/id' or'http(s)://identifiers.org/COLLECTION:id\n",
      "MNXR98403 does not conform to 'http(s)://identifiers.org/collection/id' or'http(s)://identifiers.org/COLLECTION:id\n",
      "MNXR98407 does not conform to 'http(s)://identifiers.org/collection/id' or'http(s)://identifiers.org/COLLECTION:id\n",
      "MNXR98408 does not conform to 'http(s)://identifiers.org/collection/id' or'http(s)://identifiers.org/COLLECTION:id\n",
      "MNXR98409 does not conform to 'http(s)://identifiers.org/collection/id' or'http(s)://identifiers.org/COLLECTION:id\n",
      "MNXR98410 does not conform to 'http(s)://identifiers.org/collection/id' or'http(s)://identifiers.org/COLLECTION:id\n",
      "MNXR98417 does not conform to 'http(s)://identifiers.org/collection/id' or'http(s)://identifiers.org/COLLECTION:id\n",
      "MNXR98418 does not conform to 'http(s)://identifiers.org/collection/id' or'http(s)://identifiers.org/COLLECTION:id\n",
      "MNXR98424 does not conform to 'http(s)://identifiers.org/collection/id' or'http(s)://identifiers.org/COLLECTION:id\n",
      "MNXR98425 does not conform to 'http(s)://identifiers.org/collection/id' or'http(s)://identifiers.org/COLLECTION:id\n",
      "MNXR98427 does not conform to 'http(s)://identifiers.org/collection/id' or'http(s)://identifiers.org/COLLECTION:id\n",
      "MNXR98433 does not conform to 'http(s)://identifiers.org/collection/id' or'http(s)://identifiers.org/COLLECTION:id\n",
      "MNXR98434 does not conform to 'http(s)://identifiers.org/collection/id' or'http(s)://identifiers.org/COLLECTION:id\n",
      "MNXR98448 does not conform to 'http(s)://identifiers.org/collection/id' or'http(s)://identifiers.org/COLLECTION:id\n",
      "MNXR98459 does not conform to 'http(s)://identifiers.org/collection/id' or'http(s)://identifiers.org/COLLECTION:id\n",
      "MNXR98460 does not conform to 'http(s)://identifiers.org/collection/id' or'http(s)://identifiers.org/COLLECTION:id\n",
      "MNXR98461 does not conform to 'http(s)://identifiers.org/collection/id' or'http(s)://identifiers.org/COLLECTION:id\n",
      "MNXR98462 does not conform to 'http(s)://identifiers.org/collection/id' or'http(s)://identifiers.org/COLLECTION:id\n",
      "MNXR97582 does not conform to 'http(s)://identifiers.org/collection/id' or'http(s)://identifiers.org/COLLECTION:id\n",
      "MNXR98464 does not conform to 'http(s)://identifiers.org/collection/id' or'http(s)://identifiers.org/COLLECTION:id\n",
      "MNXR98465 does not conform to 'http(s)://identifiers.org/collection/id' or'http(s)://identifiers.org/COLLECTION:id\n",
      "MNXR98490 does not conform to 'http(s)://identifiers.org/collection/id' or'http(s)://identifiers.org/COLLECTION:id\n",
      "MNXR98492 does not conform to 'http(s)://identifiers.org/collection/id' or'http(s)://identifiers.org/COLLECTION:id\n",
      "MNXR98493 does not conform to 'http(s)://identifiers.org/collection/id' or'http(s)://identifiers.org/COLLECTION:id\n",
      "MNXR98494 does not conform to 'http(s)://identifiers.org/collection/id' or'http(s)://identifiers.org/COLLECTION:id\n",
      "MNXR98523 does not conform to 'http(s)://identifiers.org/collection/id' or'http(s)://identifiers.org/COLLECTION:id\n",
      "MNXR98525 does not conform to 'http(s)://identifiers.org/collection/id' or'http(s)://identifiers.org/COLLECTION:id\n",
      "MNXR98526 does not conform to 'http(s)://identifiers.org/collection/id' or'http(s)://identifiers.org/COLLECTION:id\n",
      "MNXR98527 does not conform to 'http(s)://identifiers.org/collection/id' or'http(s)://identifiers.org/COLLECTION:id\n",
      "MNXR98528 does not conform to 'http(s)://identifiers.org/collection/id' or'http(s)://identifiers.org/COLLECTION:id\n",
      "MNXR98529 does not conform to 'http(s)://identifiers.org/collection/id' or'http(s)://identifiers.org/COLLECTION:id\n",
      "MNXR98530 does not conform to 'http(s)://identifiers.org/collection/id' or'http(s)://identifiers.org/COLLECTION:id\n",
      "MNXR98531 does not conform to 'http(s)://identifiers.org/collection/id' or'http(s)://identifiers.org/COLLECTION:id\n",
      "MNXR98534 does not conform to 'http(s)://identifiers.org/collection/id' or'http(s)://identifiers.org/COLLECTION:id\n",
      "MNXR98535 does not conform to 'http(s)://identifiers.org/collection/id' or'http(s)://identifiers.org/COLLECTION:id\n",
      "MNXR98533 does not conform to 'http(s)://identifiers.org/collection/id' or'http(s)://identifiers.org/COLLECTION:id\n",
      "MNXR98554 does not conform to 'http(s)://identifiers.org/collection/id' or'http(s)://identifiers.org/COLLECTION:id\n",
      "MNXR98555 does not conform to 'http(s)://identifiers.org/collection/id' or'http(s)://identifiers.org/COLLECTION:id\n",
      "MNXR98557 does not conform to 'http(s)://identifiers.org/collection/id' or'http(s)://identifiers.org/COLLECTION:id\n",
      "MNXR98556 does not conform to 'http(s)://identifiers.org/collection/id' or'http(s)://identifiers.org/COLLECTION:id\n",
      "MNXR98558 does not conform to 'http(s)://identifiers.org/collection/id' or'http(s)://identifiers.org/COLLECTION:id\n",
      "MNXR98568 does not conform to 'http(s)://identifiers.org/collection/id' or'http(s)://identifiers.org/COLLECTION:id\n",
      "MNXR98575 does not conform to 'http(s)://identifiers.org/collection/id' or'http(s)://identifiers.org/COLLECTION:id\n",
      "MNXR98577 does not conform to 'http(s)://identifiers.org/collection/id' or'http(s)://identifiers.org/COLLECTION:id\n",
      "MNXR98576 does not conform to 'http(s)://identifiers.org/collection/id' or'http(s)://identifiers.org/COLLECTION:id\n",
      "MNXR98591 does not conform to 'http(s)://identifiers.org/collection/id' or'http(s)://identifiers.org/COLLECTION:id\n",
      "MNXR98596 does not conform to 'http(s)://identifiers.org/collection/id' or'http(s)://identifiers.org/COLLECTION:id\n",
      "MNXR98597 does not conform to 'http(s)://identifiers.org/collection/id' or'http(s)://identifiers.org/COLLECTION:id\n",
      "MNXR98602 does not conform to 'http(s)://identifiers.org/collection/id' or'http(s)://identifiers.org/COLLECTION:id\n",
      "MNXR98598 does not conform to 'http(s)://identifiers.org/collection/id' or'http(s)://identifiers.org/COLLECTION:id\n",
      "MNXR98599 does not conform to 'http(s)://identifiers.org/collection/id' or'http(s)://identifiers.org/COLLECTION:id\n",
      "MNXR98603 does not conform to 'http(s)://identifiers.org/collection/id' or'http(s)://identifiers.org/COLLECTION:id\n",
      "MNXR98617 does not conform to 'http(s)://identifiers.org/collection/id' or'http(s)://identifiers.org/COLLECTION:id\n",
      "MNXR98626 does not conform to 'http(s)://identifiers.org/collection/id' or'http(s)://identifiers.org/COLLECTION:id\n",
      "MNXR98629 does not conform to 'http(s)://identifiers.org/collection/id' or'http(s)://identifiers.org/COLLECTION:id\n",
      "MNXR98630 does not conform to 'http(s)://identifiers.org/collection/id' or'http(s)://identifiers.org/COLLECTION:id\n",
      "MNXR98631 does not conform to 'http(s)://identifiers.org/collection/id' or'http(s)://identifiers.org/COLLECTION:id\n",
      "MNXR98632 does not conform to 'http(s)://identifiers.org/collection/id' or'http(s)://identifiers.org/COLLECTION:id\n",
      "MNXR98643 does not conform to 'http(s)://identifiers.org/collection/id' or'http(s)://identifiers.org/COLLECTION:id\n",
      "MNXR98638 does not conform to 'http(s)://identifiers.org/collection/id' or'http(s)://identifiers.org/COLLECTION:id\n",
      "MNXR98641 does not conform to 'http(s)://identifiers.org/collection/id' or'http(s)://identifiers.org/COLLECTION:id\n",
      "MNXR98640 does not conform to 'http(s)://identifiers.org/collection/id' or'http(s)://identifiers.org/COLLECTION:id\n",
      "MNXR98642 does not conform to 'http(s)://identifiers.org/collection/id' or'http(s)://identifiers.org/COLLECTION:id\n",
      "MNXR98650 does not conform to 'http(s)://identifiers.org/collection/id' or'http(s)://identifiers.org/COLLECTION:id\n",
      "MNXR98651 does not conform to 'http(s)://identifiers.org/collection/id' or'http(s)://identifiers.org/COLLECTION:id\n",
      "MNXR98655 does not conform to 'http(s)://identifiers.org/collection/id' or'http(s)://identifiers.org/COLLECTION:id\n",
      "MNXR98664 does not conform to 'http(s)://identifiers.org/collection/id' or'http(s)://identifiers.org/COLLECTION:id\n",
      "MNXR98665 does not conform to 'http(s)://identifiers.org/collection/id' or'http(s)://identifiers.org/COLLECTION:id\n",
      "MNXR98678 does not conform to 'http(s)://identifiers.org/collection/id' or'http(s)://identifiers.org/COLLECTION:id\n",
      "MNXR98681 does not conform to 'http(s)://identifiers.org/collection/id' or'http(s)://identifiers.org/COLLECTION:id\n",
      "MNXR98682 does not conform to 'http(s)://identifiers.org/collection/id' or'http(s)://identifiers.org/COLLECTION:id\n",
      "MNXR98684 does not conform to 'http(s)://identifiers.org/collection/id' or'http(s)://identifiers.org/COLLECTION:id\n",
      "MNXR98686 does not conform to 'http(s)://identifiers.org/collection/id' or'http(s)://identifiers.org/COLLECTION:id\n",
      "MNXR98181 does not conform to 'http(s)://identifiers.org/collection/id' or'http(s)://identifiers.org/COLLECTION:id\n",
      "MNXR98180 does not conform to 'http(s)://identifiers.org/collection/id' or'http(s)://identifiers.org/COLLECTION:id\n",
      "MNXR98699 does not conform to 'http(s)://identifiers.org/collection/id' or'http(s)://identifiers.org/COLLECTION:id\n",
      "MNXR98713 does not conform to 'http(s)://identifiers.org/collection/id' or'http(s)://identifiers.org/COLLECTION:id\n",
      "MNXR98733 does not conform to 'http(s)://identifiers.org/collection/id' or'http(s)://identifiers.org/COLLECTION:id\n",
      "MNXR98741 does not conform to 'http(s)://identifiers.org/collection/id' or'http(s)://identifiers.org/COLLECTION:id\n",
      "MNXR98740 does not conform to 'http(s)://identifiers.org/collection/id' or'http(s)://identifiers.org/COLLECTION:id\n",
      "MNXR98743 does not conform to 'http(s)://identifiers.org/collection/id' or'http(s)://identifiers.org/COLLECTION:id\n",
      "MNXR98747 does not conform to 'http(s)://identifiers.org/collection/id' or'http(s)://identifiers.org/COLLECTION:id\n",
      "MNXR98756 does not conform to 'http(s)://identifiers.org/collection/id' or'http(s)://identifiers.org/COLLECTION:id\n",
      "MNXR98760 does not conform to 'http(s)://identifiers.org/collection/id' or'http(s)://identifiers.org/COLLECTION:id\n",
      "MNXR98761 does not conform to 'http(s)://identifiers.org/collection/id' or'http(s)://identifiers.org/COLLECTION:id\n",
      "MNXR98763 does not conform to 'http(s)://identifiers.org/collection/id' or'http(s)://identifiers.org/COLLECTION:id\n",
      "MNXR98764 does not conform to 'http(s)://identifiers.org/collection/id' or'http(s)://identifiers.org/COLLECTION:id\n",
      "MNXR98766 does not conform to 'http(s)://identifiers.org/collection/id' or'http(s)://identifiers.org/COLLECTION:id\n",
      "MNXR98781 does not conform to 'http(s)://identifiers.org/collection/id' or'http(s)://identifiers.org/COLLECTION:id\n",
      "MNXR97601 does not conform to 'http(s)://identifiers.org/collection/id' or'http(s)://identifiers.org/COLLECTION:id\n",
      "MNXR98782 does not conform to 'http(s)://identifiers.org/collection/id' or'http(s)://identifiers.org/COLLECTION:id\n",
      "MNXR98786 does not conform to 'http(s)://identifiers.org/collection/id' or'http(s)://identifiers.org/COLLECTION:id\n",
      "MNXR98787 does not conform to 'http(s)://identifiers.org/collection/id' or'http(s)://identifiers.org/COLLECTION:id\n",
      "MNXR98789 does not conform to 'http(s)://identifiers.org/collection/id' or'http(s)://identifiers.org/COLLECTION:id\n",
      "MNXR97603 does not conform to 'http(s)://identifiers.org/collection/id' or'http(s)://identifiers.org/COLLECTION:id\n",
      "MNXR98790 does not conform to 'http(s)://identifiers.org/collection/id' or'http(s)://identifiers.org/COLLECTION:id\n",
      "MNXR98791 does not conform to 'http(s)://identifiers.org/collection/id' or'http(s)://identifiers.org/COLLECTION:id\n",
      "MNXR98799 does not conform to 'http(s)://identifiers.org/collection/id' or'http(s)://identifiers.org/COLLECTION:id\n",
      "MNXR98800 does not conform to 'http(s)://identifiers.org/collection/id' or'http(s)://identifiers.org/COLLECTION:id\n",
      "MNXR98802 does not conform to 'http(s)://identifiers.org/collection/id' or'http(s)://identifiers.org/COLLECTION:id\n",
      "MNXR98807 does not conform to 'http(s)://identifiers.org/collection/id' or'http(s)://identifiers.org/COLLECTION:id\n",
      "MNXR98808 does not conform to 'http(s)://identifiers.org/collection/id' or'http(s)://identifiers.org/COLLECTION:id\n",
      "MNXR98810 does not conform to 'http(s)://identifiers.org/collection/id' or'http(s)://identifiers.org/COLLECTION:id\n",
      "MNXR98813 does not conform to 'http(s)://identifiers.org/collection/id' or'http(s)://identifiers.org/COLLECTION:id\n",
      "MNXR98814 does not conform to 'http(s)://identifiers.org/collection/id' or'http(s)://identifiers.org/COLLECTION:id\n",
      "MNXR98818 does not conform to 'http(s)://identifiers.org/collection/id' or'http(s)://identifiers.org/COLLECTION:id\n",
      "MNXR98830 does not conform to 'http(s)://identifiers.org/collection/id' or'http(s)://identifiers.org/COLLECTION:id\n",
      "MNXR98848 does not conform to 'http(s)://identifiers.org/collection/id' or'http(s)://identifiers.org/COLLECTION:id\n",
      "MNXR98854 does not conform to 'http(s)://identifiers.org/collection/id' or'http(s)://identifiers.org/COLLECTION:id\n",
      "MNXR98857 does not conform to 'http(s)://identifiers.org/collection/id' or'http(s)://identifiers.org/COLLECTION:id\n",
      "MNXR98858 does not conform to 'http(s)://identifiers.org/collection/id' or'http(s)://identifiers.org/COLLECTION:id\n",
      "MNXR98862 does not conform to 'http(s)://identifiers.org/collection/id' or'http(s)://identifiers.org/COLLECTION:id\n",
      "MNXR98863 does not conform to 'http(s)://identifiers.org/collection/id' or'http(s)://identifiers.org/COLLECTION:id\n",
      "MNXR98867 does not conform to 'http(s)://identifiers.org/collection/id' or'http(s)://identifiers.org/COLLECTION:id\n",
      "MNXR98878 does not conform to 'http(s)://identifiers.org/collection/id' or'http(s)://identifiers.org/COLLECTION:id\n",
      "MNXR98888 does not conform to 'http(s)://identifiers.org/collection/id' or'http(s)://identifiers.org/COLLECTION:id\n",
      "MNXR98895 does not conform to 'http(s)://identifiers.org/collection/id' or'http(s)://identifiers.org/COLLECTION:id\n",
      "MNXR98899 does not conform to 'http(s)://identifiers.org/collection/id' or'http(s)://identifiers.org/COLLECTION:id\n",
      "MNXR98913 does not conform to 'http(s)://identifiers.org/collection/id' or'http(s)://identifiers.org/COLLECTION:id\n",
      "MNXR98931 does not conform to 'http(s)://identifiers.org/collection/id' or'http(s)://identifiers.org/COLLECTION:id\n",
      "MNXR98934 does not conform to 'http(s)://identifiers.org/collection/id' or'http(s)://identifiers.org/COLLECTION:id\n",
      "MNXR98661 does not conform to 'http(s)://identifiers.org/collection/id' or'http(s)://identifiers.org/COLLECTION:id\n",
      "MNXR98935 does not conform to 'http(s)://identifiers.org/collection/id' or'http(s)://identifiers.org/COLLECTION:id\n",
      "MNXR98940 does not conform to 'http(s)://identifiers.org/collection/id' or'http(s)://identifiers.org/COLLECTION:id\n",
      "MNXR97619 does not conform to 'http(s)://identifiers.org/collection/id' or'http(s)://identifiers.org/COLLECTION:id\n",
      "MNXR98949 does not conform to 'http(s)://identifiers.org/collection/id' or'http(s)://identifiers.org/COLLECTION:id\n",
      "MNXR98950 does not conform to 'http(s)://identifiers.org/collection/id' or'http(s)://identifiers.org/COLLECTION:id\n",
      "MNXR98956 does not conform to 'http(s)://identifiers.org/collection/id' or'http(s)://identifiers.org/COLLECTION:id\n",
      "MNXR98962 does not conform to 'http(s)://identifiers.org/collection/id' or'http(s)://identifiers.org/COLLECTION:id\n",
      "MNXR98974 does not conform to 'http(s)://identifiers.org/collection/id' or'http(s)://identifiers.org/COLLECTION:id\n",
      "MNXR98978 does not conform to 'http(s)://identifiers.org/collection/id' or'http(s)://identifiers.org/COLLECTION:id\n",
      "MNXR98979 does not conform to 'http(s)://identifiers.org/collection/id' or'http(s)://identifiers.org/COLLECTION:id\n",
      "MNXR98980 does not conform to 'http(s)://identifiers.org/collection/id' or'http(s)://identifiers.org/COLLECTION:id\n",
      "MNXR98982 does not conform to 'http(s)://identifiers.org/collection/id' or'http(s)://identifiers.org/COLLECTION:id\n",
      "MNXR98983 does not conform to 'http(s)://identifiers.org/collection/id' or'http(s)://identifiers.org/COLLECTION:id\n",
      "MNXR98988 does not conform to 'http(s)://identifiers.org/collection/id' or'http(s)://identifiers.org/COLLECTION:id\n",
      "MNXR98995 does not conform to 'http(s)://identifiers.org/collection/id' or'http(s)://identifiers.org/COLLECTION:id\n",
      "MNXR98996 does not conform to 'http(s)://identifiers.org/collection/id' or'http(s)://identifiers.org/COLLECTION:id\n",
      "MNXR98997 does not conform to 'http(s)://identifiers.org/collection/id' or'http(s)://identifiers.org/COLLECTION:id\n",
      "MNXR99001 does not conform to 'http(s)://identifiers.org/collection/id' or'http(s)://identifiers.org/COLLECTION:id\n",
      "MNXR99003 does not conform to 'http(s)://identifiers.org/collection/id' or'http(s)://identifiers.org/COLLECTION:id\n",
      "MNXR99006 does not conform to 'http(s)://identifiers.org/collection/id' or'http(s)://identifiers.org/COLLECTION:id\n",
      "MNXR99010 does not conform to 'http(s)://identifiers.org/collection/id' or'http(s)://identifiers.org/COLLECTION:id\n",
      "MNXR99016 does not conform to 'http(s)://identifiers.org/collection/id' or'http(s)://identifiers.org/COLLECTION:id\n",
      "MNXR99017 does not conform to 'http(s)://identifiers.org/collection/id' or'http(s)://identifiers.org/COLLECTION:id\n",
      "MNXR99018 does not conform to 'http(s)://identifiers.org/collection/id' or'http(s)://identifiers.org/COLLECTION:id\n",
      "MNXR99019 does not conform to 'http(s)://identifiers.org/collection/id' or'http(s)://identifiers.org/COLLECTION:id\n",
      "MNXR99020 does not conform to 'http(s)://identifiers.org/collection/id' or'http(s)://identifiers.org/COLLECTION:id\n",
      "MNXR99023 does not conform to 'http(s)://identifiers.org/collection/id' or'http(s)://identifiers.org/COLLECTION:id\n",
      "MNXR99025 does not conform to 'http(s)://identifiers.org/collection/id' or'http(s)://identifiers.org/COLLECTION:id\n",
      "MNXR99041 does not conform to 'http(s)://identifiers.org/collection/id' or'http(s)://identifiers.org/COLLECTION:id\n",
      "MNXR99042 does not conform to 'http(s)://identifiers.org/collection/id' or'http(s)://identifiers.org/COLLECTION:id\n",
      "MNXR99049 does not conform to 'http(s)://identifiers.org/collection/id' or'http(s)://identifiers.org/COLLECTION:id\n",
      "MNXR98152 does not conform to 'http(s)://identifiers.org/collection/id' or'http(s)://identifiers.org/COLLECTION:id\n",
      "MNXR98238 does not conform to 'http(s)://identifiers.org/collection/id' or'http(s)://identifiers.org/COLLECTION:id\n"
     ]
    }
   ],
   "source": [
    "polisher=read_model(cwd+'/Gc_GENRE_2022/Curate_Gc_Model/In_progress_curation/NGO_557_polished.sbml')"
   ]
  },
  {
   "cell_type": "code",
   "execution_count": 294,
   "id": "494b746b-16f4-411b-b6a8-dcc7e83bccb4",
   "metadata": {},
   "outputs": [],
   "source": [
    "for rxn in model.reactions:\n",
    "    if rxn.id in polisher.reactions:\n",
    "        rxn.annotation = polisher.reactions.get_by_id(str(rxn.id)).annotation"
   ]
  },
  {
   "cell_type": "code",
   "execution_count": 295,
   "id": "1f7676f5-13b8-405c-996c-4b2e85c5f6da",
   "metadata": {},
   "outputs": [],
   "source": [
    "for met in model.metabolites:\n",
    "    if met.id in polisher.metabolites:\n",
    "        met.annotation = polisher.metabolites.get_by_id(str(met.id)).annotation"
   ]
  },
  {
   "cell_type": "code",
   "execution_count": null,
   "id": "141236f2-5154-4eff-b95e-daf854beadca",
   "metadata": {},
   "outputs": [],
   "source": []
  },
  {
   "cell_type": "code",
   "execution_count": null,
   "id": "b57a3b98-e753-46d9-b625-1684ed5de312",
   "metadata": {},
   "outputs": [],
   "source": []
  },
  {
   "cell_type": "code",
   "execution_count": null,
   "id": "b48d6f85-a6a9-494f-af1a-1c00bc8d4d60",
   "metadata": {},
   "outputs": [],
   "source": []
  },
  {
   "cell_type": "markdown",
   "id": "52525ec9-8fe8-4d62-86b1-e8e5c8b3f9ab",
   "metadata": {},
   "source": [
    "## Save Finalized Model"
   ]
  },
  {
   "cell_type": "code",
   "execution_count": 296,
   "id": "f6b49f8f-17ff-4f11-9a75-4e8131075f0a",
   "metadata": {},
   "outputs": [],
   "source": [
    "cobra.io.save_json_model(model, cwd+'/Gc_GENRE_2022/Models/NGO_557.json')"
   ]
  },
  {
   "cell_type": "code",
   "execution_count": 297,
   "id": "acf998a1-d2a9-4997-9b08-4a4a554595c4",
   "metadata": {},
   "outputs": [],
   "source": [
    "cobra.io.write_sbml_model(model, cwd+'/Gc_GENRE_2022/Models/NGO_557.sbml')"
   ]
  },
  {
   "cell_type": "code",
   "execution_count": 298,
   "id": "06e9439c-faf8-47e3-ad9e-e53bea496ad7",
   "metadata": {},
   "outputs": [
    {
     "data": {
      "text/html": [
       "\n",
       "        <table>\n",
       "            <tr>\n",
       "                <td><strong>Name</strong></td>\n",
       "                <td>iNGO_557</td>\n",
       "            </tr><tr>\n",
       "                <td><strong>Memory address</strong></td>\n",
       "                <td>0x020f3d096130</td>\n",
       "            </tr><tr>\n",
       "                <td><strong>Number of metabolites</strong></td>\n",
       "                <td>1263</td>\n",
       "            </tr><tr>\n",
       "                <td><strong>Number of reactions</strong></td>\n",
       "                <td>1424</td>\n",
       "            </tr><tr>\n",
       "                <td><strong>Number of groups</strong></td>\n",
       "                <td>0</td>\n",
       "            </tr><tr>\n",
       "                <td><strong>Objective expression</strong></td>\n",
       "                <td>1.0*biomass - 1.0*biomass_reverse_01e59</td>\n",
       "            </tr><tr>\n",
       "                <td><strong>Compartments</strong></td>\n",
       "                <td>periplasm, cytosol, extracellular, Cytosol</td>\n",
       "            </tr>\n",
       "          </table>"
      ],
      "text/plain": [
       "<Model iNGO_557 at 0x20f3d096130>"
      ]
     },
     "execution_count": 298,
     "metadata": {},
     "output_type": "execute_result"
    }
   ],
   "source": [
    "model"
   ]
  },
  {
   "cell_type": "code",
   "execution_count": null,
   "id": "179a9865-1daf-4d57-a2b5-3a50735f4421",
   "metadata": {},
   "outputs": [],
   "source": []
  }
 ],
 "metadata": {
  "kernelspec": {
   "display_name": "Python 3",
   "language": "python",
   "name": "python3"
  },
  "language_info": {
   "codemirror_mode": {
    "name": "ipython",
    "version": 3
   },
   "file_extension": ".py",
   "mimetype": "text/x-python",
   "name": "python",
   "nbconvert_exporter": "python",
   "pygments_lexer": "ipython3",
   "version": "3.8.8"
  }
 },
 "nbformat": 4,
 "nbformat_minor": 5
}
