{
 "cells": [
  {
   "cell_type": "code",
   "execution_count": 138,
   "id": "adc8ee9d-df91-404b-a602-4bded8bdf414",
   "metadata": {
    "scrolled": true
   },
   "outputs": [],
   "source": [
    "# Import libraries - REQUIRES pip version 9.0.3\n",
    "import pandas\n",
    "import os\n",
    "from os.path import join\n",
    "import sys\n",
    "import scipy.stats\n",
    "import numpy\n",
    "import math\n",
    "import pickle\n",
    "import copy\n",
    "import time\n",
    "import warnings\n",
    "import gc\n",
    "\n",
    "#Simplify reading/writing files\n",
    "cwd=os.path.realpath(os.path.join(os.path.dirname(os.getcwd()),\"..\",\"..\"))\n",
    "\n",
    "# Using Cobrapy 0.13.0\n",
    "import cobra\n",
    "import cobra.test\n",
    "import cobra.flux_analysis.gapfilling\n",
    "from cobra import Reaction, Metabolite\n",
    "from cobra.io import write_sbml_model\n",
    "from cobra.flux_analysis import  flux_variability_analysis\n",
    "from cobra.flux_analysis.reaction import assess_component\n",
    "from cobra.manipulation.delete import *\n",
    "from cobra.flux_analysis.parsimonious import add_pfba\n",
    "from cobra.medium import find_boundary_types\n",
    "from cobra.util import solver as sutil\n",
    "\n"
   ]
  },
  {
   "cell_type": "code",
   "execution_count": 139,
   "id": "366e8171-c485-4fb5-a6c3-57f76082f3e1",
   "metadata": {
    "scrolled": true
   },
   "outputs": [],
   "source": [
    "# Quicker way to read in models\n",
    "import pickle\n",
    "def read_model(fileName, obj='none'):\n",
    "    \n",
    "    fileType = fileName.split('.')[-1]\n",
    "    \n",
    "    if fileType == 'sbml' or fileType == 'xml':\n",
    "        model = cobra.io.read_sbml_model(fileName)\n",
    "    elif fileType == 'json':\n",
    "        model = cobra.io.load_json_model(fileName)\n",
    "    elif fileType == 'yaml':\n",
    "        model = cobra.io.load_yaml_model(fileName)\n",
    "    elif fileType == 'mat':\n",
    "        model = cobra.io.load_matlab_model(fileName)\n",
    "    elif fileType == 'pkl':\n",
    "        model = pickle.load(open(fileName, 'rb'))\n",
    "    else:\n",
    "        raise TypeError('Unrecognized file extension')\n",
    "    \n",
    "    if obj != 'none': model.objective = obj\n",
    "    for rxn in model.boundary: rxn.bounds = (-1000., 1000.)\n",
    "        \n",
    "    return model"
   ]
  },
  {
   "cell_type": "code",
   "execution_count": 140,
   "id": "d2dbad7c-ff80-4d1c-bfe6-b34a483371d5",
   "metadata": {},
   "outputs": [],
   "source": [
    "#Set medias\n",
    "rpmi_req=set(['EX_apoACP_c_', 'EX_trdrd_c_','EX_cobalt2_e_','EX_cu2_e_','EX_fe3_e_','EX_mn2_e_','EX_mobd_e_','EX_zn2_e_','EX_ca2_e_','EX_no3_e_','EX_h2o_e_','EX_k_e_','EX_cl_e_','EX_mg2_e_','EX_so4_e_','EX_na1_e_','EX_pi_e_','EX_h_e_','EX_arg_L_e_','EX_asn_L_e_','EX_asp_L_e_','EX_cys_L_e_','EX_glu_L_e_','EX_gly_e_','EX_his_L_e_','EX_ile_L_e_','EX_leu_L_e_','EX_lys_L_e_','EX_met_L_e_','EX_phe_L_e_','EX_pro_L_e_','EX_ser_L_e_','EX_thr_L_e_','EX_trp_L_e_','EX_tyr_L_e_','EX_val_L_e_','EX_pnto_R_e_','EX_chol_e_','EX_inost_e_','EX_glc_D_e_','EX_gthrd_e_','EX_co2_e_'])\n",
    "mdm_req=set(['EX_apoACP_c_', 'EX_trdrd_c_','EX_co2_e_', 'EX_cobalt2_e_', 'EX_cu2_e_' , 'EX_h_e_', 'EX_h2o_e_','EX_mn2_e_','EX_mobd_e_','EX_tungs_e_', 'EX_zn2_e_','EX_na1_e_','EX_cl_e_','EX_k_e_','EX_so4_e_','EX_nh4_e_','EX_mg2_e_','EX_pi_e_','EX_ca2_e_','EX_fe3_e_','EX_no3_e_','EX_asp_L_e_','EX_glu_L_e_','EX_arg_L_e_','EX_gly_e_','EX_ser_L_e_','EX_leu_L_e_','EX_ile_L_e_','EX_val_L_e_','EX_tyr_L_e_','EX_cys_L_e_','EX_pro_L_e_','EX_trp_L_e_','EX_thr_L_e_','EX_phe_L_e_','EX_asn_L_e_','EX_gln_L_e_','EX_his_L_e_','EX_met_L_e_','EX_ala_L_e_','EX_lys_L_e_','EX_gthrd_e_','EX_thm_e_','EX_pnto_R_e_','EX_glc_D_e_','EX_hxan_e_','EX_ura_e_'])\n",
    "\n",
    "def rpmi(model):\n",
    "    for reaction in model.reactions:\n",
    "        if 'EX_' in  reaction.id:\n",
    "            reaction.lower_bound=0\n",
    "        if reaction.id in rpmi_req:\n",
    "            reaction.lower_bound = -20.\n",
    "        if reaction.id == 'EX_o2_e_':\n",
    "            reaction.lower_bound = -20.\n",
    "        if reaction.id == 'EX_glc_D_e_':\n",
    "            reaction.lower_bound = -20.\n",
    "\n",
    "def complete(model):\n",
    "    for reaction in model.reactions:\n",
    "        if 'EX_' in  reaction.id:\n",
    "            reaction.lower_bound=-20.\n",
    "\n",
    "def mdm(model):\n",
    "    for reaction in model.reactions:\n",
    "        if 'EX_' in  reaction.id:\n",
    "            reaction.lower_bound=0\n",
    "        if reaction.id in mdm_req:\n",
    "            reaction.lower_bound = -20.\n",
    "        elif reaction.id == 'EX_o2_e_':\n",
    "            reaction.lower_bound = -20.\n",
    "        elif reaction.id == 'EX_glc_D_e_':\n",
    "            reaction.lower_bound = -20.\n",
    "\n",
    "def rpmi_molarity(model):\n",
    "    for reaction in model.reactions:\n",
    "        if 'EX_' in  reaction.id:\n",
    "            reaction.lower_bound=0\n",
    "        if reaction.id in rpmi_req:\n",
    "            reaction.lower_bound = -20. \n",
    "        if 'EX_glc_D_e_' in reaction.id:\n",
    "            reaction.lower_bound = -11.1012\n",
    "        if 'EX_ser_L_e_' in reaction.id:\n",
    "            reaction.lower_bound = -0.2855\n",
    "        if 'EX_asp_L_e_' in reaction.id:\n",
    "            reaction.lower_bound = -0.1503\n",
    "        if 'EX_asn_L_e_' in reaction.id:\n",
    "            reaction.lower_bound = -0.3784\n",
    "        if 'EX_glu_L_e_' in reaction.id:\n",
    "            reaction.lower_bound = -0.1359\n",
    "        if 'EX_gly_e_' in reaction.id:\n",
    "            reaction.lower_bound = -0.1332\n",
    "        if 'EX_val_L_e_' in reaction.id:\n",
    "            reaction.lower_bound = -0.1707\n",
    "        if 'EX_leu_L_e_' in reaction.id:\n",
    "            reaction.lower_bound = -0.3812\n",
    "        if 'EX_pro_L_e_' in reaction.id:\n",
    "            reaction.lower_bound = -0.1737\n",
    "        if 'EX_phe_L_e_' in reaction.id:\n",
    "            reaction.lower_bound = -0.0908\n",
    "        if 'EX_lys_L_e_' in reaction.id:\n",
    "            reaction.lower_bound = -0.219\n",
    "        if 'EX_ca2_e_' in reaction.id:\n",
    "            reaction.lower_bound = -0.424\n",
    "        if 'EX_no3_e_' in reaction.id:\n",
    "            reaction.lower_bound = -0.847\n",
    "        if 'EX_k_e_' in reaction.id:\n",
    "            reaction.lower_bound = -5.3655\n",
    "        if 'EX_cl_e_' in reaction.id:\n",
    "            reaction.lower_bound = -108.6993\n",
    "        if 'EX_mg2_e_' in reaction.id:\n",
    "            reaction.lower_bound = -0.4056\n",
    "        if 'EX_so4_e_' in reaction.id:\n",
    "            reaction.lower_bound = -0.4056\n",
    "        if 'EX_na1_e_' in reaction.id:\n",
    "            reaction.lower_bound = -137.9818\n",
    "        if 'EX_pi_e_' in reaction.id:\n",
    "            reaction.lower_bound = -6.354\n",
    "        if 'EX_arg_L_e_' in reaction.id:\n",
    "            reaction.lower_bound = -1.1481\n",
    "        if 'EX_cys_L_e_' in reaction.id:\n",
    "            reaction.lower_bound = -10.416\n",
    "        if 'EX_his_L_e_' in reaction.id:\n",
    "            reaction.lower_bound = -0.0967\n",
    "        if 'EX_ile_L_e_' in reaction.id:\n",
    "            reaction.lower_bound = -0.3812\n",
    "        if 'EX_met_L_e_' in reaction.id:\n",
    "            reaction.lower_bound = -0.1005\n",
    "        if 'EX_thr_L_e_' in reaction.id:\n",
    "            reaction.lower_bound = -0.1679\n",
    "        if 'EX_trp_L_e_' in reaction.id:\n",
    "            reaction.lower_bound = -0.0245\n",
    "        if 'EX_lys_L_e_' in reaction.id:\n",
    "            reaction.lower_bound = -0.219\n",
    "        if 'EX_tyr_L_e_' in reaction.id:\n",
    "            reaction.lower_bound = -0.1104\n",
    "        if 'EX_pnto_R_e_' in reaction.id:\n",
    "            reaction.lower_bound = -0.001\n",
    "        if 'EX_chol_e_' in reaction.id:\n",
    "            reaction.lower_bound = -0.0215\n",
    "        if 'EX_inost_e_' in reaction.id:\n",
    "            reaction.lower_bound = -0.1943\n",
    "        if 'EX_gthrd_e_' in reaction.id:\n",
    "            reaction.lower_bound = -0.0033\n",
    "        if reaction.id == 'EX_o2_e_':\n",
    "            reaction.lower_bound = -20."
   ]
  },
  {
   "cell_type": "code",
   "execution_count": 141,
   "id": "04f30e1c-7fae-496c-b661-d95c883414e5",
   "metadata": {
    "scrolled": true,
    "tags": []
   },
   "outputs": [
    {
     "data": {
      "text/html": [
       "\n",
       "        <table>\n",
       "            <tr>\n",
       "                <td><strong>Name</strong></td>\n",
       "                <td>iNGO_557</td>\n",
       "            </tr><tr>\n",
       "                <td><strong>Memory address</strong></td>\n",
       "                <td>0x01487834f400</td>\n",
       "            </tr><tr>\n",
       "                <td><strong>Number of metabolites</strong></td>\n",
       "                <td>1341</td>\n",
       "            </tr><tr>\n",
       "                <td><strong>Number of reactions</strong></td>\n",
       "                <td>1433</td>\n",
       "            </tr><tr>\n",
       "                <td><strong>Number of groups</strong></td>\n",
       "                <td>0</td>\n",
       "            </tr><tr>\n",
       "                <td><strong>Objective expression</strong></td>\n",
       "                <td>1.0*Nm_Ess_biomass - 1.0*Nm_Ess_biomass_reverse_46af5</td>\n",
       "            </tr><tr>\n",
       "                <td><strong>Compartments</strong></td>\n",
       "                <td>periplasm, cytosol, extracellular</td>\n",
       "            </tr>\n",
       "          </table>"
      ],
      "text/plain": [
       "<Model iNGO_557 at 0x1487834f400>"
      ]
     },
     "execution_count": 141,
     "metadata": {},
     "output_type": "execute_result"
    }
   ],
   "source": [
    "# Read in  model\n",
    "import cobra\n",
    "\n",
    "model=read_model(cwd+'/Gc_GENRE_2022/Curate_Gc_Model/In_progress_curation/NGO_557.sbml')\n",
    "model\n",
    "\n"
   ]
  },
  {
   "cell_type": "code",
   "execution_count": 142,
   "id": "fb6e0b56-feb0-4ac5-83ad-457238504330",
   "metadata": {
    "scrolled": true
   },
   "outputs": [
    {
     "name": "stdout",
     "output_type": "stream",
     "text": [
      "291 291 291\n"
     ]
    },
    {
     "data": {
      "text/html": [
       "<div>\n",
       "<style scoped>\n",
       "    .dataframe tbody tr th:only-of-type {\n",
       "        vertical-align: middle;\n",
       "    }\n",
       "\n",
       "    .dataframe tbody tr th {\n",
       "        vertical-align: top;\n",
       "    }\n",
       "\n",
       "    .dataframe thead th {\n",
       "        text-align: right;\n",
       "    }\n",
       "</style>\n",
       "<table border=\"1\" class=\"dataframe\">\n",
       "  <thead>\n",
       "    <tr style=\"text-align: right;\">\n",
       "      <th></th>\n",
       "      <th>Reactions</th>\n",
       "      <th>Charge</th>\n",
       "      <th>Masses</th>\n",
       "    </tr>\n",
       "  </thead>\n",
       "  <tbody>\n",
       "    <tr>\n",
       "      <th>0</th>\n",
       "      <td>3OAS161a</td>\n",
       "      <td></td>\n",
       "      <td>{'C': -12.0, 'H': -21.0, 'N': -2.0, 'O': -9.0,...</td>\n",
       "    </tr>\n",
       "    <tr>\n",
       "      <th>1</th>\n",
       "      <td>ASNSYN</td>\n",
       "      <td></td>\n",
       "      <td>{'H': 2.0, 'O': 2.0}</td>\n",
       "    </tr>\n",
       "    <tr>\n",
       "      <th>2</th>\n",
       "      <td>BTS4</td>\n",
       "      <td></td>\n",
       "      <td>{'S': 1.0}</td>\n",
       "    </tr>\n",
       "    <tr>\n",
       "      <th>3</th>\n",
       "      <td>CYTCS</td>\n",
       "      <td></td>\n",
       "      <td>{'C': 8.0, 'H': 14.0, 'N': 4.0, 'O': 4.0, 'S':...</td>\n",
       "    </tr>\n",
       "    <tr>\n",
       "      <th>4</th>\n",
       "      <td>DASYN161a</td>\n",
       "      <td></td>\n",
       "      <td>{'H': -1.0}</td>\n",
       "    </tr>\n",
       "    <tr>\n",
       "      <th>...</th>\n",
       "      <td>...</td>\n",
       "      <td>...</td>\n",
       "      <td>...</td>\n",
       "    </tr>\n",
       "    <tr>\n",
       "      <th>286</th>\n",
       "      <td>CPH4S</td>\n",
       "      <td></td>\n",
       "      <td>{'C': -7.0, 'H': -8.0, 'N': -5.0, 'O': -3.0}</td>\n",
       "    </tr>\n",
       "    <tr>\n",
       "      <th>287</th>\n",
       "      <td>CDGS</td>\n",
       "      <td></td>\n",
       "      <td>{'H': 3.0, 'N': 1.0}</td>\n",
       "    </tr>\n",
       "    <tr>\n",
       "      <th>288</th>\n",
       "      <td>CDGR</td>\n",
       "      <td></td>\n",
       "      <td>{'H': -5.0}</td>\n",
       "    </tr>\n",
       "    <tr>\n",
       "      <th>289</th>\n",
       "      <td>CCGS</td>\n",
       "      <td></td>\n",
       "      <td>{'N': -1.0, 'O': 2.0}</td>\n",
       "    </tr>\n",
       "    <tr>\n",
       "      <th>290</th>\n",
       "      <td>EX_cystine_L_</td>\n",
       "      <td></td>\n",
       "      <td>{'C': -6.0, 'H': -12.0, 'N': -2.0, 'O': -4.0, ...</td>\n",
       "    </tr>\n",
       "  </tbody>\n",
       "</table>\n",
       "<p>291 rows × 3 columns</p>\n",
       "</div>"
      ],
      "text/plain": [
       "         Reactions Charge                                             Masses\n",
       "0         3OAS161a         {'C': -12.0, 'H': -21.0, 'N': -2.0, 'O': -9.0,...\n",
       "1           ASNSYN                                      {'H': 2.0, 'O': 2.0}\n",
       "2             BTS4                                                {'S': 1.0}\n",
       "3            CYTCS         {'C': 8.0, 'H': 14.0, 'N': 4.0, 'O': 4.0, 'S':...\n",
       "4        DASYN161a                                               {'H': -1.0}\n",
       "..             ...    ...                                                ...\n",
       "286          CPH4S              {'C': -7.0, 'H': -8.0, 'N': -5.0, 'O': -3.0}\n",
       "287           CDGS                                      {'H': 3.0, 'N': 1.0}\n",
       "288           CDGR                                               {'H': -5.0}\n",
       "289           CCGS                                     {'N': -1.0, 'O': 2.0}\n",
       "290  EX_cystine_L_         {'C': -6.0, 'H': -12.0, 'N': -2.0, 'O': -4.0, ...\n",
       "\n",
       "[291 rows x 3 columns]"
      ]
     },
     "execution_count": 142,
     "metadata": {},
     "output_type": "execute_result"
    }
   ],
   "source": [
    "#Count number of imbalances\n",
    "reactions = []\n",
    "charge = []\n",
    "mass = []\n",
    "for react in model.reactions:\n",
    "    result = react.check_mass_balance()\n",
    "    if len(result) == 0:\n",
    "        continue\n",
    "    else: \n",
    "        reactions.append(react.id)\n",
    "        masses = {}\n",
    "        for key in result.keys():\n",
    "            if key == 'charge':\n",
    "                charge.append(result['charge'])\n",
    "            else:\n",
    "                masses[key] = result[key]\n",
    "        if 'charge' not in result.keys():\n",
    "            charge.append('')\n",
    "        mass.append(masses)\n",
    "print(len(reactions), len(charge), len(mass))\n",
    "\n",
    "mass_charge_dict = {'Reactions': reactions, 'Charge': charge, 'Masses': mass}\n",
    "mass_charge = pandas.DataFrame(mass_charge_dict)\n",
    "mass_charge.to_csv(cwd+ '/Gc_GENRE_2022/Curate_Gc_Model/totalimbalances.csv')\n",
    "mass_charge"
   ]
  },
  {
   "cell_type": "code",
   "execution_count": 143,
   "id": "417df0ae-80bd-40f5-8d98-b9ca7d394332",
   "metadata": {
    "scrolled": true
   },
   "outputs": [
    {
     "name": "stdout",
     "output_type": "stream",
     "text": [
      "essbiomass\n",
      "protein\n",
      "pepglycan_NM_p\n",
      "capminusbiomass\n",
      "lipid_NM_p\n",
      "esslipid_NM_p\n",
      "rna_c\n",
      "biomass\n",
      "dna_c\n",
      "6pthp_c\n",
      "cph4_c\n",
      "cdg_c\n",
      "preq0_c\n",
      "preq1_c\n"
     ]
    }
   ],
   "source": [
    "#Several imbalances are due to missing formulas. \n",
    "#Find missing formulas\n",
    "no_formula = (\"\")\n",
    "for metabolites in model.metabolites:\n",
    "        if metabolites.formula == no_formula:\n",
    "            print (metabolites.id)"
   ]
  },
  {
   "cell_type": "code",
   "execution_count": 144,
   "id": "9146528b-4009-4285-aa83-a42b6a0bbac0",
   "metadata": {},
   "outputs": [],
   "source": [
    "#Many Imbalances are due to lack of charges. Adding charges from the Bigg Ecoli model (what the NM model was based on)\n",
    "ecoli = read_model(cwd+ '/Gc_GENRE_2022/Models/ecoli.json')"
   ]
  },
  {
   "cell_type": "code",
   "execution_count": 145,
   "id": "345cd293-de37-4f14-9850-a4983b57440f",
   "metadata": {},
   "outputs": [],
   "source": [
    "#for x in model.metabolites:\n",
    "#    if x in ecoli.metabolites:\n",
    "#        x.charge=ecoli.metabolites.get_by_id(str(x)).charge\n",
    "#    else:\n",
    "#        pass"
   ]
  },
  {
   "cell_type": "code",
   "execution_count": 146,
   "id": "9c3e1f9a-c229-4c43-a9ce-9e0618467f9c",
   "metadata": {},
   "outputs": [],
   "source": [
    "model.metabolites.get_by_id('2agpg161_c').charge=-1\n",
    "model.metabolites.get_by_id('2agpg161_p').charge=-1\n",
    "model.metabolites.get_by_id('2agpg180_c').charge=-1\n",
    "model.metabolites.get_by_id('2agpg180_p').charge=-1\n",
    "model.metabolites.get_by_id('2agpg181_c').charge=-1\n",
    "model.metabolites.get_by_id('2agpg181_p').charge=-1\n",
    "model.metabolites.get_by_id('2ahbut_c').charge=-1\n",
    "model.metabolites.get_by_id('2amsa_c').charge=0\n",
    "model.metabolites.get_by_id('2aobut_c').charge=0\n",
    "model.metabolites.get_by_id('2cpr5p_c').charge=-3\n",
    "model.metabolites.get_by_id('2dda7p_c').charge=-3\n",
    "model.metabolites.get_by_id('2ddecg3p_c').charge=-1\n",
    "model.metabolites.get_by_id('2ddecg3p_p').charge=-1\n",
    "model.metabolites.get_by_id('2ddg6p_c').charge=-3\n",
    "model.metabolites.get_by_id('2ddglcn_e').charge=-1\n",
    "model.metabolites.get_by_id('2ddglcn_p').charge=-1\n",
    "model.metabolites.get_by_id('2dh3dgal6p_c').charge=-3\n",
    "model.metabolites.get_by_id('12dgr181_c').charge=0\n",
    "model.metabolites.get_by_id('10fthf_c').charge=-2\n",
    "model.metabolites.get_by_id('12dgr120_c').charge=0\n",
    "model.metabolites.get_by_id('2dhp_c').charge=-1\n",
    "model.metabolites.get_by_id('12dgr181_p').charge=0\n",
    "model.metabolites.get_by_id('12dgr120_p').charge=0\n",
    "model.metabolites.get_by_id('12dgr140_c').charge=0\n",
    "model.metabolites.get_by_id('12dgr140_p').charge=0\n",
    "model.metabolites.get_by_id('12dgr141_c').charge=0\n",
    "model.metabolites.get_by_id('12dgr141_p').charge=0\n",
    "model.metabolites.get_by_id('12dgr160_c').charge=0\n",
    "model.metabolites.get_by_id('12dgr160_p').charge=0\n",
    "model.metabolites.get_by_id('2hdecg3p_c').charge=-1\n",
    "model.metabolites.get_by_id('13dpg_c').charge=-4\n",
    "model.metabolites.get_by_id('12dgr161_c').charge=0\n",
    "model.metabolites.get_by_id('2hdecg3p_p').charge=-1\n",
    "model.metabolites.get_by_id('12dgr161_p').charge=0\n",
    "model.metabolites.get_by_id('2ippm_c').charge=-2\n",
    "model.metabolites.get_by_id('12dgr180_c').charge=0\n",
    "model.metabolites.get_by_id('12dgr180_p').charge=0\n",
    "model.metabolites.get_by_id('2mahmp_c').charge=-3\n",
    "model.metabolites.get_by_id('15dap_e').charge=2\n",
    "model.metabolites.get_by_id('15dap_p').charge=2\n",
    "model.metabolites.get_by_id('2mcit_c').charge=-3\n",
    "model.metabolites.get_by_id('2me4p_c').charge=-2\n",
    "model.metabolites.get_by_id('2mecdp_c').charge=-2\n",
    "model.metabolites.get_by_id('2obut_c').charge=-1\n",
    "model.metabolites.get_by_id('3hoctaACP_c').charge=-1\n",
    "model.metabolites.get_by_id('2odecg3p_c').charge=-1\n",
    "model.metabolites.get_by_id('2odecg3p_p').charge=-1\n",
    "model.metabolites.get_by_id('3hpalmACP_c').charge=-1\n",
    "model.metabolites.get_by_id('2ohph_c').charge=0\n",
    "model.metabolites.get_by_id('3hpppn_e').charge=-1\n",
    "model.metabolites.get_by_id('3hpppn_p').charge=-1\n",
    "model.metabolites.get_by_id('2ombzl_c').charge=0\n",
    "model.metabolites.get_by_id('2omhmbl_c').charge=0\n",
    "model.metabolites.get_by_id('1ddecg3p_c').charge=-2\n",
    "model.metabolites.get_by_id('3ig3p_c').charge=-2\n",
    "model.metabolites.get_by_id('3mob_c').charge=-1\n",
    "model.metabolites.get_by_id('2ommbl_c').charge=0\n",
    "model.metabolites.get_by_id('3mop_c').charge=-1\n",
    "model.metabolites.get_by_id('2omph_c').charge=0\n",
    "model.metabolites.get_by_id('1hdec9eg3p_c').charge=-2\n",
    "model.metabolites.get_by_id('3ocddec5eACP_c').charge=-1\n",
    "model.metabolites.get_by_id('2oph_c').charge=0\n",
    "model.metabolites.get_by_id('1hdecg3p_c').charge=-2\n",
    "model.metabolites.get_by_id('2p4c2me_c').charge=-4\n",
    "model.metabolites.get_by_id('1odec11eg3p_c').charge=-2\n",
    "model.metabolites.get_by_id('2pg_c').charge=-3\n",
    "model.metabolites.get_by_id('1odecg3p_c').charge=-2\n",
    "model.metabolites.get_by_id('3ocmrs7eACP_c').charge=-1\n",
    "model.metabolites.get_by_id('3ocpalm9eACP_c').charge=-1\n",
    "model.metabolites.get_by_id('1pyr5c_c').charge=-1\n",
    "model.metabolites.get_by_id('2pglyc_c').charge=-3\n",
    "model.metabolites.get_by_id('1tdec7eg3p_c').charge=-2\n",
    "model.metabolites.get_by_id('2tdec7eg3p_c').charge=-1\n",
    "model.metabolites.get_by_id('1tdecg3p_c').charge=-2\n",
    "model.metabolites.get_by_id('3oddecACP_c').charge=-1\n",
    "model.metabolites.get_by_id('2tdec7eg3p_p').charge=-1\n",
    "model.metabolites.get_by_id('3odecACP_c').charge=-1\n",
    "model.metabolites.get_by_id('2tdecg3p_c').charge=-1\n",
    "model.metabolites.get_by_id('2tdecg3p_p').charge=-1\n",
    "model.metabolites.get_by_id('3ohexACP_c').charge=-1\n",
    "model.metabolites.get_by_id('3omrsACP_c').charge=-1\n",
    "model.metabolites.get_by_id('34dhpac_e').charge=0\n",
    "model.metabolites.get_by_id('3ooctACP_c').charge=-1\n",
    "model.metabolites.get_by_id('34dhpac_p').charge=0\n",
    "model.metabolites.get_by_id('3ooctdACP_c').charge=-1\n",
    "model.metabolites.get_by_id('34hpp_c').charge=-1\n",
    "model.metabolites.get_by_id('3amp_e').charge=-2\n",
    "model.metabolites.get_by_id('3opalmACP_c').charge=-1\n",
    "model.metabolites.get_by_id('3ophb_c').charge=-1\n",
    "model.metabolites.get_by_id('3amp_p').charge=-2\n",
    "model.metabolites.get_by_id('3c2hmp_c').charge=-2\n",
    "model.metabolites.get_by_id('3pg_c').charge=-3\n",
    "model.metabolites.get_by_id('3c3hmp_c').charge=-2\n",
    "model.metabolites.get_by_id('3php_c').charge=-3\n",
    "model.metabolites.get_by_id('3psme_c').charge=-4\n",
    "model.metabolites.get_by_id('3c4mop_c').charge=-2\n",
    "model.metabolites.get_by_id('3cmp_e').charge=-2\n",
    "model.metabolites.get_by_id('3cmp_p').charge=-2\n",
    "model.metabolites.get_by_id('3ump_e').charge=-2\n",
    "model.metabolites.get_by_id('3ump_p').charge=-2\n",
    "model.metabolites.get_by_id('4abut_e').charge=0\n",
    "model.metabolites.get_by_id('23dhdp_c').charge=-2\n",
    "model.metabolites.get_by_id('23dhmb_c').charge=-1\n",
    "model.metabolites.get_by_id('23dhmp_c').charge=-1\n",
    "model.metabolites.get_by_id('4abut_p').charge=0\n",
    "model.metabolites.get_by_id('4abz_c').charge=-1\n",
    "model.metabolites.get_by_id('3dhq_c').charge=-1\n",
    "model.metabolites.get_by_id('4adcho_c').charge=-1\n",
    "model.metabolites.get_by_id('3dhsk_c').charge=-1\n",
    "model.metabolites.get_by_id('25aics_c').charge=-4\n",
    "model.metabolites.get_by_id('4ahmmp_c').charge=0\n",
    "model.metabolites.get_by_id('4ampm_c').charge=-2\n",
    "model.metabolites.get_by_id('4c2me_c').charge=-2\n",
    "model.metabolites.get_by_id('25drapp_c').charge=-2\n",
    "model.metabolites.get_by_id('3haACP_c').charge=-1\n",
    "model.metabolites.get_by_id('26dap_LL_c').charge=0\n",
    "model.metabolites.get_by_id('3hcddec5eACP_c').charge=-1\n",
    "model.metabolites.get_by_id('4hba_c').charge=0\n",
    "model.metabolites.get_by_id('4hbz_c').charge=-1\n",
    "model.metabolites.get_by_id('3hcinnm_e').charge=-1\n",
    "model.metabolites.get_by_id('2agpe120_c').charge=0\n",
    "model.metabolites.get_by_id('4hoxpacd_e').charge=0\n",
    "model.metabolites.get_by_id('3hcinnm_p').charge=-1\n",
    "model.metabolites.get_by_id('4hoxpacd_p').charge=0\n",
    "model.metabolites.get_by_id('2agpe120_p').charge=0\n",
    "model.metabolites.get_by_id('4hthr_c').charge=0\n",
    "model.metabolites.get_by_id('3hcmrs7eACP_c').charge=-1\n",
    "model.metabolites.get_by_id('2agpe140_c').charge=0\n",
    "model.metabolites.get_by_id('3hcpalm9eACP_c').charge=-1\n",
    "model.metabolites.get_by_id('2agpe140_p').charge=0\n",
    "model.metabolites.get_by_id('4mop_c').charge=-1\n",
    "model.metabolites.get_by_id('4mpetz_c').charge=-2\n",
    "model.metabolites.get_by_id('2agpe141_c').charge=0\n",
    "model.metabolites.get_by_id('2agpe141_p').charge=0\n",
    "model.metabolites.get_by_id('2agpe160_c').charge=0\n",
    "model.metabolites.get_by_id('4pasp_c').charge=-2\n",
    "model.metabolites.get_by_id('4per_c').charge=-3\n",
    "model.metabolites.get_by_id('4ppan_c').charge=-3\n",
    "model.metabolites.get_by_id('2agpe160_p').charge=0\n",
    "model.metabolites.get_by_id('3hddecACP_c').charge=-1\n",
    "model.metabolites.get_by_id('2agpe161_c').charge=0\n",
    "model.metabolites.get_by_id('4ppcys_c').charge=-3\n",
    "model.metabolites.get_by_id('3hdecACP_c').charge=-1\n",
    "model.metabolites.get_by_id('4r5au_c').charge=0\n",
    "model.metabolites.get_by_id('2agpe161_p').charge=0\n",
    "model.metabolites.get_by_id('2agpe180_c').charge=0\n",
    "model.metabolites.get_by_id('2agpe180_p').charge=0\n",
    "model.metabolites.get_by_id('5aizc_c').charge=-3\n",
    "model.metabolites.get_by_id('5aop_c').charge=0\n",
    "model.metabolites.get_by_id('5aprbu_c').charge=-2\n",
    "model.metabolites.get_by_id('2agpe181_c').charge=0\n",
    "model.metabolites.get_by_id('3hhexACP_c').charge=-1\n",
    "model.metabolites.get_by_id('2agpe181_p').charge=0\n",
    "model.metabolites.get_by_id('5apru_c').charge=-2\n",
    "model.metabolites.get_by_id('3hmrsACP_c').charge=-1\n",
    "model.metabolites.get_by_id('2agpg120_c').charge=-1\n",
    "model.metabolites.get_by_id('2agpg120_p').charge=-1\n",
    "model.metabolites.get_by_id('5caiz_c').charge=-3\n",
    "model.metabolites.get_by_id('3hoctACP_c').charge=-1\n",
    "model.metabolites.get_by_id('2agpg140_c').charge=-1\n",
    "model.metabolites.get_by_id('2agpg140_p').charge=-1\n",
    "model.metabolites.get_by_id('5dglcn_e').charge=-1\n",
    "model.metabolites.get_by_id('5dglcn_p').charge=-1\n",
    "model.metabolites.get_by_id('5drib_c').charge=0\n",
    "model.metabolites.get_by_id('2agpg141_c').charge=-1\n",
    "model.metabolites.get_by_id('2agpg141_p').charge=-1\n",
    "model.metabolites.get_by_id('2agpg160_c').charge=-1\n",
    "model.metabolites.get_by_id('2agpg160_p').charge=-1\n",
    "model.metabolites.get_by_id('acACP_c').charge=-1\n",
    "model.metabolites.get_by_id('5mta_c').charge=0\n",
    "model.metabolites.get_by_id('ac_c').charge=-1\n",
    "model.metabolites.get_by_id('5mthf_c').charge=-1\n",
    "model.metabolites.get_by_id('ac_e').charge=-1\n",
    "model.metabolites.get_by_id('5mtr_c').charge=0\n",
    "model.metabolites.get_by_id('ac_p').charge=-1\n",
    "model.metabolites.get_by_id('6hmhpt_c').charge=0\n",
    "model.metabolites.get_by_id('6hmhptpp_c').charge=-3\n",
    "model.metabolites.get_by_id('acac_e').charge=-1\n",
    "model.metabolites.get_by_id('6pgc_c').charge=-3\n",
    "model.metabolites.get_by_id('acac_p').charge=-1\n",
    "model.metabolites.get_by_id('6pgl_c').charge=-2\n",
    "model.metabolites.get_by_id('acald_c').charge=0\n",
    "model.metabolites.get_by_id('8aonn_c').charge=0\n",
    "model.metabolites.get_by_id('acald_e').charge=0\n",
    "model.metabolites.get_by_id('ACP_c').charge=-1\n",
    "model.metabolites.get_by_id('acald_p').charge=0\n",
    "model.metabolites.get_by_id('LalaDgluMdapDala_c').charge=-1\n",
    "model.metabolites.get_by_id('LalaDgluMdapDala_e').charge=-1\n",
    "model.metabolites.get_by_id('accoa_c').charge=-4\n",
    "model.metabolites.get_by_id('alltn_e').charge=0\n",
    "model.metabolites.get_by_id('LalaDgluMdapDala_p').charge=-1\n",
    "model.metabolites.get_by_id('LalaDgluMdap_c').charge=-1\n",
    "model.metabolites.get_by_id('alltn_p').charge=0\n",
    "model.metabolites.get_by_id('LalaDgluMdap_e').charge=-1\n",
    "model.metabolites.get_by_id('acg5p_c').charge=-3\n",
    "model.metabolites.get_by_id('LalaDgluMdap_p').charge=-1\n",
    "model.metabolites.get_by_id('acg5sa_c').charge=-1\n",
    "model.metabolites.get_by_id('LalaDglu_c').charge=-1\n",
    "model.metabolites.get_by_id('amet_c').charge=1\n",
    "model.metabolites.get_by_id('acgal_e').charge=0\n",
    "model.metabolites.get_by_id('Sfglutth_c').charge=-1\n",
    "model.metabolites.get_by_id('ametam_c').charge=2\n",
    "model.metabolites.get_by_id('acgal_p').charge=0\n",
    "model.metabolites.get_by_id('amob_c').charge=0\n",
    "model.metabolites.get_by_id('amp_c').charge=-2\n",
    "model.metabolites.get_by_id('acgam1p_c').charge=-2\n",
    "model.metabolites.get_by_id('amp_e').charge=-2\n",
    "model.metabolites.get_by_id('acgam1p_e').charge=-2\n",
    "model.metabolites.get_by_id('amp_p').charge=-2\n",
    "model.metabolites.get_by_id('acgam1p_p').charge=-2\n",
    "model.metabolites.get_by_id('anhgm3p_c').charge=-2\n",
    "model.metabolites.get_by_id('ca2_c').charge=2\n",
    "model.metabolites.get_by_id('ca2_e').charge=2\n",
    "model.metabolites.get_by_id('anhgm3p_p').charge=-2\n",
    "model.metabolites.get_by_id('acgam_c').charge=0\n",
    "model.metabolites.get_by_id('anhgm4p_c').charge=-2\n",
    "model.metabolites.get_by_id('ca2_p').charge=2\n",
    "model.metabolites.get_by_id('acgam_e').charge=0\n",
    "model.metabolites.get_by_id('anhgm4p_p').charge=-2\n",
    "model.metabolites.get_by_id('acgam_p').charge=0\n",
    "model.metabolites.get_by_id('anhgm_c').charge=-1\n",
    "model.metabolites.get_by_id('cbasp_c').charge=-2\n",
    "model.metabolites.get_by_id('anhgm_e').charge=-1\n",
    "model.metabolites.get_by_id('acglu_c').charge=-2\n",
    "model.metabolites.get_by_id('anhgm_p').charge=-1\n",
    "model.metabolites.get_by_id('anhm3p_c').charge=-2\n",
    "model.metabolites.get_by_id('anhm4p_c').charge=-2\n",
    "model.metabolites.get_by_id('acmana_c').charge=0\n",
    "model.metabolites.get_by_id('anhm_c').charge=-1\n",
    "model.metabolites.get_by_id('cbp_c').charge=-2\n",
    "model.metabolites.get_by_id('anth_c').charge=-1\n",
    "model.metabolites.get_by_id('acmana_e').charge=0\n",
    "model.metabolites.get_by_id('cd2_c').charge=2\n",
    "model.metabolites.get_by_id('acmana_p').charge=0\n",
    "model.metabolites.get_by_id('cd2_e').charge=2\n",
    "model.metabolites.get_by_id('cd2_p').charge=2\n",
    "model.metabolites.get_by_id('ap4a_c').charge=-4\n",
    "model.metabolites.get_by_id('cddec5eACP_c').charge=-1\n",
    "model.metabolites.get_by_id('acmum6p_c').charge=-3\n",
    "model.metabolites.get_by_id('cdec3eACP_c').charge=-1\n",
    "model.metabolites.get_by_id('acmum_e').charge=-1\n",
    "model.metabolites.get_by_id('cdp_c').charge=-3\n",
    "model.metabolites.get_by_id('acmum_p').charge=-1\n",
    "model.metabolites.get_by_id('cdpdddecg_c').charge=-2\n",
    "model.metabolites.get_by_id('acnam_c').charge=-1\n",
    "model.metabolites.get_by_id('cdpdhdecg_c').charge=-2\n",
    "model.metabolites.get_by_id('cdpdodecg_c').charge=-2\n",
    "model.metabolites.get_by_id('cdpdtdec7eg_c').charge=-2\n",
    "model.metabolites.get_by_id('cdpdtdecg_c').charge=-2\n",
    "model.metabolites.get_by_id('acon_C_c').charge=-3\n",
    "model.metabolites.get_by_id('acon_T_c').charge=-3\n",
    "model.metabolites.get_by_id('aps_c').charge=-2\n",
    "model.metabolites.get_by_id('cgly_c').charge=0\n",
    "model.metabolites.get_by_id('ara5p_c').charge=-2\n",
    "model.metabolites.get_by_id('acorn_c').charge=0\n",
    "model.metabolites.get_by_id('cgly_e').charge=0\n",
    "model.metabolites.get_by_id('acser_c').charge=0\n",
    "model.metabolites.get_by_id('cgly_p').charge=0\n",
    "model.metabolites.get_by_id('acser_e').charge=0\n",
    "model.metabolites.get_by_id('chol_c').charge=1\n",
    "model.metabolites.get_by_id('acser_p').charge=0\n",
    "model.metabolites.get_by_id('chol_e').charge=1\n",
    "model.metabolites.get_by_id('chol_p').charge=1\n",
    "model.metabolites.get_by_id('actACP_c').charge=-1\n",
    "model.metabolites.get_by_id('chor_c').charge=-2\n",
    "model.metabolites.get_by_id('actp_c').charge=-2\n",
    "model.metabolites.get_by_id('ade_c').charge=0\n",
    "model.metabolites.get_by_id('cit_c').charge=-3\n",
    "model.metabolites.get_by_id('ade_e').charge=0\n",
    "model.metabolites.get_by_id('cit_e').charge=-3\n",
    "model.metabolites.get_by_id('ade_p').charge=0\n",
    "model.metabolites.get_by_id('cit_p').charge=-3\n",
    "model.metabolites.get_by_id('adn_c').charge=0\n",
    "model.metabolites.get_by_id('ckdo_c').charge=-2\n",
    "model.metabolites.get_by_id('cl_c').charge=-1\n",
    "model.metabolites.get_by_id('cl_e').charge=-1\n",
    "model.metabolites.get_by_id('cl_p').charge=-1\n",
    "model.metabolites.get_by_id('clpn120_p').charge=-2\n",
    "model.metabolites.get_by_id('argsuc_c').charge=-1\n",
    "model.metabolites.get_by_id('clpn140_p').charge=-2\n",
    "model.metabolites.get_by_id('clpn141_p').charge=-2\n",
    "model.metabolites.get_by_id('ascb6p_c').charge=-2\n",
    "model.metabolites.get_by_id('clpn160_p').charge=-2\n",
    "model.metabolites.get_by_id('adp_c').charge=-3\n",
    "model.metabolites.get_by_id('clpn161_p').charge=-2\n",
    "model.metabolites.get_by_id('clpn180_p').charge=-2\n",
    "model.metabolites.get_by_id('clpn181_p').charge=-2\n",
    "model.metabolites.get_by_id('cmp_c').charge=-2\n",
    "model.metabolites.get_by_id('cmp_e').charge=-2\n",
    "model.metabolites.get_by_id('adphep_DD_c').charge=-2\n",
    "model.metabolites.get_by_id('cmp_p').charge=-2\n",
    "model.metabolites.get_by_id('adphep_LD_c').charge=-2\n",
    "model.metabolites.get_by_id('aso3_e').charge=-3\n",
    "model.metabolites.get_by_id('co2_c').charge=0\n",
    "model.metabolites.get_by_id('adprib_c').charge=-2\n",
    "model.metabolites.get_by_id('co2_e').charge=0\n",
    "model.metabolites.get_by_id('aso3_p').charge=-3\n",
    "model.metabolites.get_by_id('ag_c').charge=1\n",
    "model.metabolites.get_by_id('co2_p').charge=0\n",
    "model.metabolites.get_by_id('ag_e').charge=1\n",
    "model.metabolites.get_by_id('coa_c').charge=-4\n",
    "model.metabolites.get_by_id('cobalt2_c').charge=2\n",
    "model.metabolites.get_by_id('cobalt2_e').charge=2\n",
    "model.metabolites.get_by_id('agm_c').charge=2\n",
    "model.metabolites.get_by_id('cobalt2_p').charge=2\n",
    "model.metabolites.get_by_id('aspsa_c').charge=0\n",
    "model.metabolites.get_by_id('agm_e').charge=2\n",
    "model.metabolites.get_by_id('agm_p').charge=2\n",
    "model.metabolites.get_by_id('colipa_e').charge=-11\n",
    "model.metabolites.get_by_id('ahcys_c').charge=0\n",
    "model.metabolites.get_by_id('atp_c').charge=-4\n",
    "model.metabolites.get_by_id('ahdt_c').charge=-4\n",
    "model.metabolites.get_by_id('aicar_c').charge=-2\n",
    "model.metabolites.get_by_id('air_c').charge=-2\n",
    "model.metabolites.get_by_id('akg_c').charge=-2\n",
    "model.metabolites.get_by_id('akg_e').charge=-2\n",
    "model.metabolites.get_by_id('akg_p').charge=-2\n",
    "model.metabolites.get_by_id('ala_B_c').charge=0\n",
    "model.metabolites.get_by_id('btn_c').charge=-1\n",
    "model.metabolites.get_by_id('ala_B_e').charge=0\n",
    "model.metabolites.get_by_id('ala_B_p').charge=0\n",
    "model.metabolites.get_by_id('but2eACP_c').charge=-1\n",
    "model.metabolites.get_by_id('butACP_c').charge=-1\n",
    "model.metabolites.get_by_id('cpppg3_c').charge=-4\n",
    "model.metabolites.get_by_id('but_e').charge=-1\n",
    "model.metabolites.get_by_id('but_p').charge=-1\n",
    "model.metabolites.get_by_id('butso3_e').charge=-1\n",
    "model.metabolites.get_by_id('crn_e').charge=0\n",
    "model.metabolites.get_by_id('butso3_p').charge=-1\n",
    "model.metabolites.get_by_id('crn_p').charge=0\n",
    "model.metabolites.get_by_id('alaala_c').charge=0\n",
    "model.metabolites.get_by_id('alaala_e').charge=0\n",
    "model.metabolites.get_by_id('csn_c').charge=0\n",
    "model.metabolites.get_by_id('alaala_p').charge=0\n",
    "model.metabolites.get_by_id('csn_e').charge=0\n",
    "model.metabolites.get_by_id('dopa_p').charge=1\n",
    "model.metabolites.get_by_id('csn_p').charge=0\n",
    "model.metabolites.get_by_id('cu_p').charge=1\n",
    "model.metabolites.get_by_id('dpcoa_c').charge=-2\n",
    "model.metabolites.get_by_id('cyan_e').charge=0\n",
    "model.metabolites.get_by_id('ctp_c').charge=-4\n",
    "model.metabolites.get_by_id('dsbcox_p').charge=0\n",
    "model.metabolites.get_by_id('cyan_p').charge=0\n",
    "model.metabolites.get_by_id('dsbcrd_p').charge=0\n",
    "model.metabolites.get_by_id('cynt_e').charge=-1\n",
    "model.metabolites.get_by_id('cu2_c').charge=2\n",
    "model.metabolites.get_by_id('cu2_e').charge=2\n",
    "model.metabolites.get_by_id('dsbdox_c').charge=0\n",
    "model.metabolites.get_by_id('cu2_p').charge=2\n",
    "model.metabolites.get_by_id('cu_c').charge=1\n",
    "model.metabolites.get_by_id('cynt_p').charge=-1\n",
    "model.metabolites.get_by_id('dsbdrd_c').charge=0\n",
    "model.metabolites.get_by_id('cu_e').charge=1\n",
    "model.metabolites.get_by_id('dsbgox_p').charge=0\n",
    "model.metabolites.get_by_id('dsbgrd_p').charge=0\n",
    "model.metabolites.get_by_id('dscl_c').charge=-7\n",
    "model.metabolites.get_by_id('dtbt_c').charge=-1\n",
    "model.metabolites.get_by_id('cytd_c').charge=0\n",
    "model.metabolites.get_by_id('dtdp4d6dg_c').charge=-2\n",
    "model.metabolites.get_by_id('cytd_e').charge=0\n",
    "model.metabolites.get_by_id('dtdp4d6dm_c').charge=-2\n",
    "model.metabolites.get_by_id('fgam_c').charge=-2\n",
    "model.metabolites.get_by_id('cytd_p').charge=0\n",
    "model.metabolites.get_by_id('dtdp_c').charge=-3\n",
    "model.metabolites.get_by_id('dad_2_c').charge=0\n",
    "model.metabolites.get_by_id('dtdpglu_c').charge=-2\n",
    "model.metabolites.get_by_id('dtdprmn_c').charge=-2\n",
    "model.metabolites.get_by_id('dad_5_c').charge=0\n",
    "model.metabolites.get_by_id('dtmp_c').charge=-2\n",
    "model.metabolites.get_by_id('fmn_c').charge=-2\n",
    "model.metabolites.get_by_id('dadp_c').charge=-3\n",
    "model.metabolites.get_by_id('dtmp_e').charge=-2\n",
    "model.metabolites.get_by_id('damp_c').charge=-2\n",
    "model.metabolites.get_by_id('for_c').charge=-1\n",
    "model.metabolites.get_by_id('dtmp_p').charge=-2\n",
    "model.metabolites.get_by_id('for_e').charge=-1\n",
    "model.metabolites.get_by_id('damp_e').charge=-2\n",
    "model.metabolites.get_by_id('dttp_c').charge=-4\n",
    "model.metabolites.get_by_id('damp_p').charge=-2\n",
    "model.metabolites.get_by_id('for_p').charge=-1\n",
    "model.metabolites.get_by_id('dudp_c').charge=-3\n",
    "model.metabolites.get_by_id('fpram_c').charge=-1\n",
    "model.metabolites.get_by_id('dann_c').charge=1\n",
    "model.metabolites.get_by_id('dump_c').charge=-2\n",
    "model.metabolites.get_by_id('datp_c').charge=-4\n",
    "model.metabolites.get_by_id('fprica_c').charge=-2\n",
    "model.metabolites.get_by_id('dump_e').charge=-2\n",
    "model.metabolites.get_by_id('frdp_c').charge=-3\n",
    "model.metabolites.get_by_id('db4p_c').charge=-2\n",
    "model.metabolites.get_by_id('dump_p').charge=-2\n",
    "model.metabolites.get_by_id('fru_c').charge=0\n",
    "model.metabolites.get_by_id('fru_e').charge=0\n",
    "model.metabolites.get_by_id('dcaACP_c').charge=-1\n",
    "model.metabolites.get_by_id('fru_p').charge=0\n",
    "model.metabolites.get_by_id('dca_e').charge=-1\n",
    "model.metabolites.get_by_id('dca_p').charge=-1\n",
    "model.metabolites.get_by_id('dutp_c').charge=-4\n",
    "model.metabolites.get_by_id('frulys_e').charge=1\n",
    "model.metabolites.get_by_id('dxyl5p_c').charge=-2\n",
    "model.metabolites.get_by_id('frulys_p').charge=1\n",
    "model.metabolites.get_by_id('dcacoa_c').charge=-4\n",
    "model.metabolites.get_by_id('dcamp_c').charge=-4\n",
    "model.metabolites.get_by_id('e4p_c').charge=-2\n",
    "model.metabolites.get_by_id('fruur_e').charge=-1\n",
    "model.metabolites.get_by_id('dcdp_c').charge=-3\n",
    "model.metabolites.get_by_id('dcmp_c').charge=-2\n",
    "model.metabolites.get_by_id('fruur_p').charge=-1\n",
    "model.metabolites.get_by_id('dcmp_e').charge=-2\n",
    "model.metabolites.get_by_id('dcmp_p').charge=-2\n",
    "model.metabolites.get_by_id('dctp_c').charge=-4\n",
    "model.metabolites.get_by_id('dcyt_c').charge=0\n",
    "model.metabolites.get_by_id('fum_c').charge=-2\n",
    "model.metabolites.get_by_id('fum_e').charge=-2\n",
    "model.metabolites.get_by_id('fum_p').charge=-2\n",
    "model.metabolites.get_by_id('eig3p_c').charge=-2\n",
    "model.metabolites.get_by_id('g1p_c').charge=-2\n",
    "model.metabolites.get_by_id('enlipa_e').charge=-6\n",
    "model.metabolites.get_by_id('ddcaACP_c').charge=-1\n",
    "model.metabolites.get_by_id('g1p_e').charge=-2\n",
    "model.metabolites.get_by_id('enlipa_p').charge=-6\n",
    "model.metabolites.get_by_id('g1p_p').charge=-2\n",
    "model.metabolites.get_by_id('g3p_c').charge=-2\n",
    "model.metabolites.get_by_id('ddca_e').charge=-1\n",
    "model.metabolites.get_by_id('ddca_p').charge=-1\n",
    "model.metabolites.get_by_id('g3pc_e').charge=0\n",
    "model.metabolites.get_by_id('ddcacoa_c').charge=-4\n",
    "model.metabolites.get_by_id('dgdp_c').charge=-3\n",
    "model.metabolites.get_by_id('g3pc_p').charge=0\n",
    "model.metabolites.get_by_id('dgmp_c').charge=-2\n",
    "model.metabolites.get_by_id('etha_e').charge=1\n",
    "model.metabolites.get_by_id('dgmp_e').charge=-2\n",
    "model.metabolites.get_by_id('g3pe_e').charge=0\n",
    "model.metabolites.get_by_id('g3pe_p').charge=0\n",
    "model.metabolites.get_by_id('etha_p').charge=1\n",
    "model.metabolites.get_by_id('dgmp_p').charge=-2\n",
    "model.metabolites.get_by_id('dgsn_c').charge=0\n",
    "model.metabolites.get_by_id('g3pg_e').charge=-1\n",
    "model.metabolites.get_by_id('ethso3_e').charge=-1\n",
    "model.metabolites.get_by_id('g3pg_p').charge=-1\n",
    "model.metabolites.get_by_id('dgsn_e').charge=0\n",
    "model.metabolites.get_by_id('ethso3_p').charge=-1\n",
    "model.metabolites.get_by_id('dgsn_p').charge=0\n",
    "model.metabolites.get_by_id('dgtp_c').charge=-4\n",
    "model.metabolites.get_by_id('etoh_c').charge=0\n",
    "model.metabolites.get_by_id('g3pi_e').charge=-1\n",
    "model.metabolites.get_by_id('g3pi_p').charge=-1\n",
    "model.metabolites.get_by_id('etoh_e').charge=0\n",
    "model.metabolites.get_by_id('dha_e').charge=0\n",
    "model.metabolites.get_by_id('etoh_p').charge=0\n",
    "model.metabolites.get_by_id('g3ps_e').charge=-1\n",
    "model.metabolites.get_by_id('dha_p').charge=0\n",
    "model.metabolites.get_by_id('dhap_c').charge=-2\n",
    "model.metabolites.get_by_id('g3ps_p').charge=-1\n",
    "model.metabolites.get_by_id('f6p_c').charge=-2\n",
    "model.metabolites.get_by_id('g6p_c').charge=-2\n",
    "model.metabolites.get_by_id('dhf_c').charge=-2\n",
    "model.metabolites.get_by_id('f6p_e').charge=-2\n",
    "model.metabolites.get_by_id('g6p_e').charge=-2\n",
    "model.metabolites.get_by_id('f6p_p').charge=-2\n",
    "model.metabolites.get_by_id('g6p_p').charge=-2\n",
    "model.metabolites.get_by_id('dhmptp_c').charge=-4\n",
    "model.metabolites.get_by_id('fad_c').charge=-2\n",
    "model.metabolites.get_by_id('fadh2_c').charge=-2\n",
    "model.metabolites.get_by_id('dhnpt_c').charge=0\n",
    "model.metabolites.get_by_id('fald_c').charge=0\n",
    "model.metabolites.get_by_id('gal1p_e').charge=-2\n",
    "model.metabolites.get_by_id('fald_e').charge=0\n",
    "model.metabolites.get_by_id('gal1p_p').charge=-2\n",
    "model.metabolites.get_by_id('dhpmp_c').charge=-2\n",
    "model.metabolites.get_by_id('fald_p').charge=0\n",
    "model.metabolites.get_by_id('gal_bD_e').charge=0\n",
    "model.metabolites.get_by_id('gal_bD_p').charge=0\n",
    "model.metabolites.get_by_id('dhpt_c').charge=-1\n",
    "model.metabolites.get_by_id('dhptd_c').charge=0\n",
    "model.metabolites.get_by_id('gal_c').charge=0\n",
    "model.metabolites.get_by_id('gal_e').charge=0\n",
    "model.metabolites.get_by_id('didp_c').charge=-3\n",
    "model.metabolites.get_by_id('fdp_c').charge=-4\n",
    "model.metabolites.get_by_id('dimp_c').charge=-2\n",
    "model.metabolites.get_by_id('gal_p').charge=0\n",
    "model.metabolites.get_by_id('fe2_c').charge=2\n",
    "model.metabolites.get_by_id('dimp_e').charge=-2\n",
    "model.metabolites.get_by_id('fe2_e').charge=2\n",
    "model.metabolites.get_by_id('dimp_p').charge=-2\n",
    "model.metabolites.get_by_id('fe2_p').charge=2\n",
    "model.metabolites.get_by_id('fe3_c').charge=3\n",
    "model.metabolites.get_by_id('din_e').charge=0\n",
    "model.metabolites.get_by_id('fe3_e').charge=3\n",
    "model.metabolites.get_by_id('din_p').charge=0\n",
    "model.metabolites.get_by_id('fe3_p').charge=3\n",
    "model.metabolites.get_by_id('ditp_c').charge=-4\n",
    "model.metabolites.get_by_id('galt_e').charge=0\n",
    "model.metabolites.get_by_id('galt_p').charge=0\n",
    "model.metabolites.get_by_id('galur_e').charge=-1\n",
    "model.metabolites.get_by_id('dmlz_c').charge=0\n",
    "model.metabolites.get_by_id('dmpp_c').charge=-3\n",
    "model.metabolites.get_by_id('galur_p').charge=-1\n",
    "model.metabolites.get_by_id('dms_e').charge=0\n",
    "model.metabolites.get_by_id('gam1p_c').charge=-1\n",
    "model.metabolites.get_by_id('gam6p_c').charge=-1\n",
    "model.metabolites.get_by_id('gam6p_e').charge=-1\n",
    "model.metabolites.get_by_id('dms_p').charge=0\n",
    "model.metabolites.get_by_id('gam6p_p').charge=-1\n",
    "model.metabolites.get_by_id('gam_e').charge=1\n",
    "model.metabolites.get_by_id('dmso_e').charge=0\n",
    "model.metabolites.get_by_id('dmso_p').charge=0\n",
    "model.metabolites.get_by_id('gam_p').charge=1\n",
    "model.metabolites.get_by_id('gar_c').charge=-1\n",
    "model.metabolites.get_by_id('dnad_c').charge=-2\n",
    "model.metabolites.get_by_id('dopa_e').charge=1\n",
    "model.metabolites.get_by_id('gbbtn_e').charge=0\n",
    "model.metabolites.get_by_id('gbbtn_p').charge=0\n",
    "model.metabolites.get_by_id('gcald_c').charge=0\n",
    "model.metabolites.get_by_id('gdp_e').charge=-3\n",
    "model.metabolites.get_by_id('gdp_p').charge=-3\n",
    "model.metabolites.get_by_id('gdp_c').charge=-3\n",
    "model.metabolites.get_by_id('gdpmann_c').charge=-2\n",
    "model.metabolites.get_by_id('h2_c').charge=0\n",
    "model.metabolites.get_by_id('h2_e').charge=0\n",
    "model.metabolites.get_by_id('h2_p').charge=0\n",
    "model.metabolites.get_by_id('gdptp_c').charge=-7\n",
    "model.metabolites.get_by_id('h2mb4p_c').charge=-3\n",
    "model.metabolites.get_by_id('k_e').charge=1\n",
    "model.metabolites.get_by_id('h2o2_c').charge=0\n",
    "model.metabolites.get_by_id('h2o2_e').charge=0\n",
    "model.metabolites.get_by_id('gg4abut_c').charge=-1\n",
    "model.metabolites.get_by_id('k_p').charge=1\n",
    "model.metabolites.get_by_id('ggbutal_c').charge=0\n",
    "model.metabolites.get_by_id('h2o2_p').charge=0\n",
    "model.metabolites.get_by_id('h2o_c').charge=0\n",
    "model.metabolites.get_by_id('kdo2lipid4L_c').charge=-6\n",
    "model.metabolites.get_by_id('h2o_e').charge=0\n",
    "model.metabolites.get_by_id('ggptrc_c').charge=1\n",
    "model.metabolites.get_by_id('kdo2lipid4_c').charge=-6\n",
    "model.metabolites.get_by_id('h2o_p').charge=0\n",
    "model.metabolites.get_by_id('h2s_c').charge=0\n",
    "model.metabolites.get_by_id('h2s_e').charge=0\n",
    "model.metabolites.get_by_id('h2s_p').charge=0\n",
    "model.metabolites.get_by_id('h_c').charge=1\n",
    "model.metabolites.get_by_id('kdo8p_c').charge=-3\n",
    "model.metabolites.get_by_id('glcn_c').charge=-1\n",
    "model.metabolites.get_by_id('h_e').charge=1\n",
    "model.metabolites.get_by_id('kdo_c').charge=-1\n",
    "model.metabolites.get_by_id('h_p').charge=1\n",
    "model.metabolites.get_by_id('glcn_e').charge=-1\n",
    "model.metabolites.get_by_id('glcn_p').charge=-1\n",
    "model.metabolites.get_by_id('kdolipid4_c').charge=-5\n",
    "model.metabolites.get_by_id('hco3_c').charge=-1\n",
    "model.metabolites.get_by_id('glcr_e').charge=-2\n",
    "model.metabolites.get_by_id('glcr_p').charge=-2\n",
    "model.metabolites.get_by_id('glcur1p_e').charge=-3\n",
    "model.metabolites.get_by_id('glcur1p_p').charge=-3\n",
    "model.metabolites.get_by_id('hdca_e').charge=-1\n",
    "model.metabolites.get_by_id('glcur_e').charge=-1\n",
    "model.metabolites.get_by_id('hdca_p').charge=-1\n",
    "model.metabolites.get_by_id('glcur_p').charge=-1\n",
    "model.metabolites.get_by_id('hdcea_e').charge=-1\n",
    "model.metabolites.get_by_id('hdcea_p').charge=-1\n",
    "model.metabolites.get_by_id('hdcoa_c').charge=-4\n",
    "model.metabolites.get_by_id('glu1sa_c').charge=0\n",
    "model.metabolites.get_by_id('glu5p_c').charge=-2\n",
    "model.metabolites.get_by_id('hdeACP_c').charge=-1\n",
    "model.metabolites.get_by_id('lcts_e').charge=0\n",
    "model.metabolites.get_by_id('glu5sa_c').charge=0\n",
    "model.metabolites.get_by_id('lcts_p').charge=0\n",
    "model.metabolites.get_by_id('hexACP_c').charge=-1\n",
    "model.metabolites.get_by_id('hg2_e').charge=2\n",
    "model.metabolites.get_by_id('hg2_p').charge=2\n",
    "model.metabolites.get_by_id('hhlipa_c').charge=-6\n",
    "model.metabolites.get_by_id('glucys_c').charge=-1\n",
    "model.metabolites.get_by_id('glutrna_c').charge=0\n",
    "model.metabolites.get_by_id('glx_c').charge=-1\n",
    "model.metabolites.get_by_id('lipa_c').charge=-6\n",
    "model.metabolites.get_by_id('gly_c').charge=0\n",
    "model.metabolites.get_by_id('hisp_c').charge=-1\n",
    "model.metabolites.get_by_id('gly_e').charge=0\n",
    "model.metabolites.get_by_id('gly_p').charge=0\n",
    "model.metabolites.get_by_id('glyald_c').charge=0\n",
    "model.metabolites.get_by_id('histd_c').charge=1\n",
    "model.metabolites.get_by_id('glyald_e').charge=0\n",
    "model.metabolites.get_by_id('lipa_e').charge=-6\n",
    "model.metabolites.get_by_id('glyald_p').charge=0\n",
    "model.metabolites.get_by_id('lipa_p').charge=-6\n",
    "model.metabolites.get_by_id('hlipa_c').charge=-6\n",
    "model.metabolites.get_by_id('glyb_c').charge=0\n",
    "model.metabolites.get_by_id('lipidA_c').charge=-4\n",
    "model.metabolites.get_by_id('glyb_e').charge=0\n",
    "model.metabolites.get_by_id('hmbil_c').charge=-8\n",
    "model.metabolites.get_by_id('lipidAds_c').charge=-2\n",
    "model.metabolites.get_by_id('hmfurn_c').charge=0\n",
    "model.metabolites.get_by_id('glyb_p').charge=0\n",
    "model.metabolites.get_by_id('lipidX_c').charge=-2\n",
    "model.metabolites.get_by_id('glyc2p_e').charge=-2\n",
    "model.metabolites.get_by_id('hmgth_c').charge=-1\n",
    "model.metabolites.get_by_id('glyc2p_p').charge=-2\n",
    "model.metabolites.get_by_id('glyc3p_c').charge=-2\n",
    "model.metabolites.get_by_id('glyc3p_e').charge=-2\n",
    "model.metabolites.get_by_id('glyc3p_p').charge=-2\n",
    "model.metabolites.get_by_id('hpyr_c').charge=-1\n",
    "model.metabolites.get_by_id('glyc_c').charge=0\n",
    "model.metabolites.get_by_id('glyc_e').charge=0\n",
    "model.metabolites.get_by_id('hxa_e').charge=-1\n",
    "model.metabolites.get_by_id('hxa_p').charge=-1\n",
    "model.metabolites.get_by_id('glyc_p').charge=0\n",
    "model.metabolites.get_by_id('malACP_c').charge=-2\n",
    "model.metabolites.get_by_id('glyclt_c').charge=-1\n",
    "model.metabolites.get_by_id('glyclt_e').charge=-1\n",
    "model.metabolites.get_by_id('hxan_c').charge=0\n",
    "model.metabolites.get_by_id('hxan_e').charge=0\n",
    "model.metabolites.get_by_id('hxan_p').charge=0\n",
    "model.metabolites.get_by_id('glyclt_p').charge=-1\n",
    "model.metabolites.get_by_id('hxcoa_c').charge=-4\n",
    "model.metabolites.get_by_id('iasp_c').charge=-2\n",
    "model.metabolites.get_by_id('gmhep17bp_c').charge=-4\n",
    "model.metabolites.get_by_id('gmhep1p_c').charge=-2\n",
    "model.metabolites.get_by_id('icit_c').charge=-3\n",
    "model.metabolites.get_by_id('icolipa_c').charge=-11\n",
    "model.metabolites.get_by_id('gmhep7p_c').charge=-2\n",
    "model.metabolites.get_by_id('gmp_c').charge=-2\n",
    "model.metabolites.get_by_id('gmp_e').charge=-2\n",
    "model.metabolites.get_by_id('malcoa_c').charge=-5\n",
    "model.metabolites.get_by_id('gmp_p').charge=-2\n",
    "model.metabolites.get_by_id('malt6p_c').charge=-2\n",
    "model.metabolites.get_by_id('idp_c').charge=-3\n",
    "model.metabolites.get_by_id('grdp_c').charge=-3\n",
    "model.metabolites.get_by_id('malt_c').charge=0\n",
    "model.metabolites.get_by_id('grxox_c').charge=0\n",
    "model.metabolites.get_by_id('malt_e').charge=0\n",
    "model.metabolites.get_by_id('grxrd_c').charge=0\n",
    "model.metabolites.get_by_id('malt_p').charge=0\n",
    "model.metabolites.get_by_id('gsn_c').charge=0\n",
    "model.metabolites.get_by_id('imacp_c').charge=-2\n",
    "model.metabolites.get_by_id('gsn_e').charge=0\n",
    "model.metabolites.get_by_id('imp_c').charge=-2\n",
    "model.metabolites.get_by_id('imp_e').charge=-2\n",
    "model.metabolites.get_by_id('gsn_p').charge=0\n",
    "model.metabolites.get_by_id('gthox_c').charge=-2\n",
    "model.metabolites.get_by_id('imp_p').charge=-2\n",
    "model.metabolites.get_by_id('indole_c').charge=0\n",
    "model.metabolites.get_by_id('gthox_e').charge=-2\n",
    "model.metabolites.get_by_id('gthox_p').charge=-2\n",
    "model.metabolites.get_by_id('indole_e').charge=0\n",
    "model.metabolites.get_by_id('indole_p').charge=0\n",
    "model.metabolites.get_by_id('gthrd_c').charge=-1\n",
    "model.metabolites.get_by_id('gthrd_e').charge=-1\n",
    "model.metabolites.get_by_id('inost_c').charge=0\n",
    "model.metabolites.get_by_id('inost_e').charge=0\n",
    "model.metabolites.get_by_id('gthrd_p').charge=-1\n",
    "model.metabolites.get_by_id('gtp_c').charge=-4\n",
    "model.metabolites.get_by_id('inost_p').charge=0\n",
    "model.metabolites.get_by_id('ins_c').charge=0\n",
    "model.metabolites.get_by_id('gtp_e').charge=-4\n",
    "model.metabolites.get_by_id('gtp_p').charge=-4\n",
    "model.metabolites.get_by_id('ipdp_c').charge=-3\n",
    "model.metabolites.get_by_id('gua_c').charge=0\n",
    "model.metabolites.get_by_id('man1p_c').charge=-2\n",
    "model.metabolites.get_by_id('gua_e').charge=0\n",
    "model.metabolites.get_by_id('isetac_e').charge=-1\n",
    "model.metabolites.get_by_id('man6p_c').charge=-2\n",
    "model.metabolites.get_by_id('isetac_p').charge=-1\n",
    "model.metabolites.get_by_id('gua_p').charge=0\n",
    "model.metabolites.get_by_id('man6p_e').charge=-2\n",
    "model.metabolites.get_by_id('itp_c').charge=-4\n",
    "model.metabolites.get_by_id('man6p_p').charge=-2\n",
    "model.metabolites.get_by_id('k_c').charge=1\n",
    "model.metabolites.get_by_id('man_e').charge=0\n",
    "model.metabolites.get_by_id('o2_p').charge=0\n",
    "model.metabolites.get_by_id('man_p').charge=0\n",
    "model.metabolites.get_by_id('o2s_c').charge=-1\n",
    "model.metabolites.get_by_id('manglyc_e').charge=-1\n",
    "model.metabolites.get_by_id('o2s_e').charge=-1\n",
    "model.metabolites.get_by_id('manglyc_p').charge=-1\n",
    "model.metabolites.get_by_id('mg2_c').charge=2\n",
    "model.metabolites.get_by_id('o2s_p').charge=-1\n",
    "model.metabolites.get_by_id('oaa_c').charge=-2\n",
    "model.metabolites.get_by_id('mg2_e').charge=2\n",
    "model.metabolites.get_by_id('melib_e').charge=0\n",
    "model.metabolites.get_by_id('mg2_p').charge=2\n",
    "model.metabolites.get_by_id('micit_c').charge=-3\n",
    "model.metabolites.get_by_id('ocACP_c').charge=-1\n",
    "model.metabolites.get_by_id('melib_p').charge=0\n",
    "model.metabolites.get_by_id('occoa_c').charge=-4\n",
    "model.metabolites.get_by_id('ocdcaACP_c').charge=-1\n",
    "model.metabolites.get_by_id('ocdca_e').charge=-1\n",
    "model.metabolites.get_by_id('mlthf_c').charge=-2\n",
    "model.metabolites.get_by_id('ocdca_p').charge=-1\n",
    "model.metabolites.get_by_id('ocdcea_e').charge=-1\n",
    "model.metabolites.get_by_id('mmet_e').charge=1\n",
    "model.metabolites.get_by_id('ocdcea_p').charge=-1\n",
    "model.metabolites.get_by_id('octa_e').charge=-1\n",
    "model.metabolites.get_by_id('mmet_p').charge=1\n",
    "model.metabolites.get_by_id('mn2_c').charge=2\n",
    "model.metabolites.get_by_id('octa_p').charge=-1\n",
    "model.metabolites.get_by_id('methf_c').charge=-1\n",
    "model.metabolites.get_by_id('octdp_c').charge=-3\n",
    "model.metabolites.get_by_id('mn2_e').charge=2\n",
    "model.metabolites.get_by_id('mn2_p').charge=2\n",
    "model.metabolites.get_by_id('octeACP_c').charge=-1\n",
    "model.metabolites.get_by_id('pgp141_p').charge=-3\n",
    "model.metabolites.get_by_id('mnl_e').charge=0\n",
    "model.metabolites.get_by_id('mnl_p').charge=0\n",
    "model.metabolites.get_by_id('mobd_c').charge=-2\n",
    "model.metabolites.get_by_id('odecoa_c').charge=-4\n",
    "model.metabolites.get_by_id('ohpb_c').charge=-3\n",
    "model.metabolites.get_by_id('pgp160_c').charge=-3\n",
    "model.metabolites.get_by_id('orn_c').charge=1\n",
    "model.metabolites.get_by_id('mobd_e').charge=-2\n",
    "model.metabolites.get_by_id('pgp160_p').charge=-3\n",
    "model.metabolites.get_by_id('mobd_p').charge=-2\n",
    "model.metabolites.get_by_id('orn_e').charge=1\n",
    "model.metabolites.get_by_id('pgp161_c').charge=-3\n",
    "model.metabolites.get_by_id('orn_p').charge=1\n",
    "model.metabolites.get_by_id('pgp161_p').charge=-3\n",
    "model.metabolites.get_by_id('orot5p_c').charge=-3\n",
    "model.metabolites.get_by_id('pgp180_c').charge=-3\n",
    "model.metabolites.get_by_id('orot_c').charge=-1\n",
    "model.metabolites.get_by_id('orot_e').charge=-1\n",
    "model.metabolites.get_by_id('mso3_e').charge=-1\n",
    "model.metabolites.get_by_id('pgp180_p').charge=-3\n",
    "model.metabolites.get_by_id('mso3_p').charge=-1\n",
    "model.metabolites.get_by_id('orot_p').charge=-1\n",
    "model.metabolites.get_by_id('pgp181_c').charge=-3\n",
    "model.metabolites.get_by_id('mthgxl_c').charge=0\n",
    "model.metabolites.get_by_id('pgp181_p').charge=-3\n",
    "model.metabolites.get_by_id('murein3p3p_p').charge=-4\n",
    "model.metabolites.get_by_id('pa120_c').charge=-2\n",
    "model.metabolites.get_by_id('pa120_p').charge=-2\n",
    "model.metabolites.get_by_id('pa140_c').charge=-2\n",
    "model.metabolites.get_by_id('murein4p3p_p').charge=-4\n",
    "model.metabolites.get_by_id('murein4p4p_p').charge=-4\n",
    "model.metabolites.get_by_id('pa140_p').charge=-2\n",
    "model.metabolites.get_by_id('pa141_c').charge=-2\n",
    "model.metabolites.get_by_id('pheme_c').charge=-2\n",
    "model.metabolites.get_by_id('pa141_p').charge=-2\n",
    "model.metabolites.get_by_id('murein4px4p4p_p').charge=-6\n",
    "model.metabolites.get_by_id('pheme_e').charge=-2\n",
    "model.metabolites.get_by_id('murein4px4p_p').charge=-4\n",
    "model.metabolites.get_by_id('pa160_c').charge=-2\n",
    "model.metabolites.get_by_id('pa160_p').charge=-2\n",
    "model.metabolites.get_by_id('murein4px4px4p_p').charge=-6\n",
    "model.metabolites.get_by_id('pheme_p').charge=-2\n",
    "model.metabolites.get_by_id('murein5p3p_p').charge=-4\n",
    "model.metabolites.get_by_id('pa161_c').charge=-2\n",
    "model.metabolites.get_by_id('pa161_p').charge=-2\n",
    "model.metabolites.get_by_id('pa180_c').charge=-2\n",
    "model.metabolites.get_by_id('murein5p4p_p').charge=-4\n",
    "model.metabolites.get_by_id('murein5p5p5p_p').charge=-6\n",
    "model.metabolites.get_by_id('pa180_p').charge=-2\n",
    "model.metabolites.get_by_id('murein5p5p_p').charge=-4\n",
    "model.metabolites.get_by_id('pa181_c').charge=-2\n",
    "model.metabolites.get_by_id('phom_c').charge=-2\n",
    "model.metabolites.get_by_id('pa181_p').charge=-2\n",
    "model.metabolites.get_by_id('murein5px3p_p').charge=-4\n",
    "model.metabolites.get_by_id('murein5px4p_p').charge=-4\n",
    "model.metabolites.get_by_id('phpyr_c').charge=-1\n",
    "model.metabolites.get_by_id('murein5px4px4p_p').charge=-6\n",
    "model.metabolites.get_by_id('phthr_c').charge=-2\n",
    "model.metabolites.get_by_id('myrsACP_c').charge=-1\n",
    "model.metabolites.get_by_id('n2o_c').charge=0\n",
    "model.metabolites.get_by_id('pacald_e').charge=0\n",
    "model.metabolites.get_by_id('pi_c').charge=-2\n",
    "model.metabolites.get_by_id('pacald_p').charge=0\n",
    "model.metabolites.get_by_id('n2o_e').charge=0\n",
    "model.metabolites.get_by_id('pi_e').charge=-2\n",
    "model.metabolites.get_by_id('n2o_p').charge=0\n",
    "model.metabolites.get_by_id('palmACP_c').charge=-1\n",
    "model.metabolites.get_by_id('pi_p').charge=-2\n",
    "model.metabolites.get_by_id('pan4p_c').charge=-2\n",
    "model.metabolites.get_by_id('pmcoa_c').charge=-5\n",
    "model.metabolites.get_by_id('na1_c').charge=1\n",
    "model.metabolites.get_by_id('pap_c').charge=-4\n",
    "model.metabolites.get_by_id('pmtcoa_c').charge=-4\n",
    "model.metabolites.get_by_id('paps_c').charge=-4\n",
    "model.metabolites.get_by_id('na1_e').charge=1\n",
    "model.metabolites.get_by_id('na1_p').charge=1\n",
    "model.metabolites.get_by_id('pdx5p_c').charge=-2\n",
    "model.metabolites.get_by_id('pe120_c').charge=0\n",
    "model.metabolites.get_by_id('nac_c').charge=-1\n",
    "model.metabolites.get_by_id('nac_e').charge=-1\n",
    "model.metabolites.get_by_id('pe120_p').charge=0\n",
    "model.metabolites.get_by_id('ppa_c').charge=-1\n",
    "model.metabolites.get_by_id('pe140_c').charge=0\n",
    "model.metabolites.get_by_id('nac_p').charge=-1\n",
    "model.metabolites.get_by_id('ppa_e').charge=-1\n",
    "model.metabolites.get_by_id('nad_c').charge=-1\n",
    "model.metabolites.get_by_id('pe140_p').charge=0\n",
    "model.metabolites.get_by_id('ppa_p').charge=-1\n",
    "model.metabolites.get_by_id('pe141_c').charge=0\n",
    "model.metabolites.get_by_id('nadh_c').charge=-2\n",
    "model.metabolites.get_by_id('ppal_c').charge=0\n",
    "model.metabolites.get_by_id('nadp_c').charge=-3\n",
    "model.metabolites.get_by_id('nadph_c').charge=-4\n",
    "model.metabolites.get_by_id('pe141_p').charge=0\n",
    "model.metabolites.get_by_id('pe160_c').charge=0\n",
    "model.metabolites.get_by_id('ppal_e').charge=0\n",
    "model.metabolites.get_by_id('pe160_p').charge=0\n",
    "model.metabolites.get_by_id('ncam_c').charge=0\n",
    "model.metabolites.get_by_id('ppal_p').charge=0\n",
    "model.metabolites.get_by_id('nh4_c').charge=1\n",
    "model.metabolites.get_by_id('ppap_c').charge=-2\n",
    "model.metabolites.get_by_id('nh4_e').charge=1\n",
    "model.metabolites.get_by_id('pe161_c').charge=0\n",
    "model.metabolites.get_by_id('ppbng_c').charge=-1\n",
    "model.metabolites.get_by_id('pe161_p').charge=0\n",
    "model.metabolites.get_by_id('pe180_c').charge=0\n",
    "model.metabolites.get_by_id('nh4_p').charge=1\n",
    "model.metabolites.get_by_id('ppcoa_c').charge=-4\n",
    "model.metabolites.get_by_id('ni2_c').charge=2\n",
    "model.metabolites.get_by_id('pe180_p').charge=0\n",
    "model.metabolites.get_by_id('ppgpp_c').charge=-6\n",
    "model.metabolites.get_by_id('pe181_c').charge=0\n",
    "model.metabolites.get_by_id('ni2_e').charge=2\n",
    "model.metabolites.get_by_id('pphn_c').charge=-2\n",
    "model.metabolites.get_by_id('ni2_p').charge=2\n",
    "model.metabolites.get_by_id('pe181_p').charge=0\n",
    "model.metabolites.get_by_id('nicrnt_c').charge=-2\n",
    "model.metabolites.get_by_id('ppi_c').charge=-3\n",
    "model.metabolites.get_by_id('peamn_e').charge=1\n",
    "model.metabolites.get_by_id('ppp9_c').charge=-2\n",
    "model.metabolites.get_by_id('peamn_p').charge=1\n",
    "model.metabolites.get_by_id('nmn_c').charge=-1\n",
    "model.metabolites.get_by_id('nmn_e').charge=-1\n",
    "model.metabolites.get_by_id('nmn_p').charge=-1\n",
    "model.metabolites.get_by_id('pep_c').charge=-3\n",
    "model.metabolites.get_by_id('pg120_c').charge=-1\n",
    "model.metabolites.get_by_id('pppg9_c').charge=-2\n",
    "model.metabolites.get_by_id('pg120_p').charge=-1\n",
    "model.metabolites.get_by_id('pppi_c').charge=-4\n",
    "model.metabolites.get_by_id('no2_e').charge=-1\n",
    "model.metabolites.get_by_id('pg140_c').charge=-1\n",
    "model.metabolites.get_by_id('pg140_p').charge=-1\n",
    "model.metabolites.get_by_id('pg141_c').charge=-1\n",
    "model.metabolites.get_by_id('no2_p').charge=-1\n",
    "model.metabolites.get_by_id('pppn_e').charge=-1\n",
    "model.metabolites.get_by_id('pg141_p').charge=-1\n",
    "model.metabolites.get_by_id('pppn_p').charge=-1\n",
    "model.metabolites.get_by_id('pg160_c').charge=-1\n",
    "model.metabolites.get_by_id('no3_e').charge=-1\n",
    "model.metabolites.get_by_id('ppt_e').charge=-2\n",
    "model.metabolites.get_by_id('no3_p').charge=-1\n",
    "model.metabolites.get_by_id('pg160_p').charge=-1\n",
    "model.metabolites.get_by_id('ppt_p').charge=-2\n",
    "model.metabolites.get_by_id('pg161_c').charge=-1\n",
    "model.metabolites.get_by_id('no_c').charge=0\n",
    "model.metabolites.get_by_id('pram_c').charge=-1\n",
    "model.metabolites.get_by_id('no_e').charge=0\n",
    "model.metabolites.get_by_id('pg161_p').charge=-1\n",
    "model.metabolites.get_by_id('pran_c').charge=-3\n",
    "model.metabolites.get_by_id('pg180_c').charge=-1\n",
    "model.metabolites.get_by_id('pg180_p').charge=-1\n",
    "model.metabolites.get_by_id('no_p').charge=0\n",
    "model.metabolites.get_by_id('prbamp_c').charge=-4\n",
    "model.metabolites.get_by_id('prbatp_c').charge=-6\n",
    "model.metabolites.get_by_id('pg181_c').charge=-1\n",
    "model.metabolites.get_by_id('pg181_p').charge=-1\n",
    "model.metabolites.get_by_id('prfp_c').charge=-4\n",
    "model.metabolites.get_by_id('pgp120_c').charge=-3\n",
    "model.metabolites.get_by_id('prlp_c').charge=-4\n",
    "model.metabolites.get_by_id('pgp120_p').charge=-3\n",
    "model.metabolites.get_by_id('pro__L_c').charge=0\n",
    "model.metabolites.get_by_id('pgp140_c').charge=-3\n",
    "model.metabolites.get_by_id('pgp140_p').charge=-3\n",
    "model.metabolites.get_by_id('pgp141_c').charge=-3\n",
    "model.metabolites.get_by_id('progly_c').charge=0\n",
    "model.metabolites.get_by_id('o2_c').charge=0\n",
    "model.metabolites.get_by_id('progly_e').charge=0\n",
    "model.metabolites.get_by_id('o2_e').charge=0\n",
    "model.metabolites.get_by_id('r1p_c').charge=-2\n",
    "model.metabolites.get_by_id('progly_p').charge=0\n",
    "model.metabolites.get_by_id('r5p_c').charge=-2\n",
    "model.metabolites.get_by_id('r5p_e').charge=-2\n",
    "model.metabolites.get_by_id('prpp_c').charge=-5\n",
    "model.metabolites.get_by_id('r5p_p').charge=-2\n",
    "model.metabolites.get_by_id('ps120_c').charge=-1\n",
    "model.metabolites.get_by_id('tcynt_p').charge=-1\n",
    "model.metabolites.get_by_id('ps140_c').charge=-1\n",
    "model.metabolites.get_by_id('rbflvrd_c').charge=0\n",
    "model.metabolites.get_by_id('ps141_c').charge=-1\n",
    "model.metabolites.get_by_id('tdcoa_c').charge=-4\n",
    "model.metabolites.get_by_id('ps160_c').charge=-1\n",
    "model.metabolites.get_by_id('tddec2eACP_c').charge=-1\n",
    "model.metabolites.get_by_id('rhcys_c').charge=0\n",
    "model.metabolites.get_by_id('ps161_c').charge=-1\n",
    "model.metabolites.get_by_id('tdeACP_c').charge=-1\n",
    "model.metabolites.get_by_id('ps180_c').charge=-1\n",
    "model.metabolites.get_by_id('tdec2eACP_c').charge=-1\n",
    "model.metabolites.get_by_id('ps181_c').charge=-1\n",
    "model.metabolites.get_by_id('tdecoa_c').charge=-4\n",
    "model.metabolites.get_by_id('thdp_c').charge=-2\n",
    "model.metabolites.get_by_id('ribflv_c').charge=0\n",
    "model.metabolites.get_by_id('psclys_e').charge=1\n",
    "model.metabolites.get_by_id('thex2eACP_c').charge=-1\n",
    "model.metabolites.get_by_id('psclys_p').charge=1\n",
    "model.metabolites.get_by_id('thf_c').charge=-2\n",
    "model.metabolites.get_by_id('thm_c').charge=1\n",
    "model.metabolites.get_by_id('rmn_e').charge=0\n",
    "model.metabolites.get_by_id('rmn_p').charge=0\n",
    "model.metabolites.get_by_id('thm_e').charge=1\n",
    "model.metabolites.get_by_id('thm_p').charge=1\n",
    "model.metabolites.get_by_id('thmmp_c').charge=-1\n",
    "model.metabolites.get_by_id('thmpp_c').charge=-2\n",
    "model.metabolites.get_by_id('s7p_c').charge=-2\n",
    "model.metabolites.get_by_id('ptrc_c').charge=2\n",
    "model.metabolites.get_by_id('ptrc_e').charge=2\n",
    "model.metabolites.get_by_id('ptrc_p').charge=2\n",
    "model.metabolites.get_by_id('pyam5p_c').charge=-1\n",
    "model.metabolites.get_by_id('pydam_c').charge=1\n",
    "model.metabolites.get_by_id('thrp_e').charge=-2\n",
    "model.metabolites.get_by_id('pydx5p_c').charge=-2\n",
    "model.metabolites.get_by_id('thrp_p').charge=-2\n",
    "model.metabolites.get_by_id('pydx_c').charge=0\n",
    "model.metabolites.get_by_id('pydxn_c').charge=0\n",
    "model.metabolites.get_by_id('pyr_c').charge=-1\n",
    "model.metabolites.get_by_id('pyr_e').charge=-1\n",
    "model.metabolites.get_by_id('thym_e').charge=0\n",
    "model.metabolites.get_by_id('thym_p').charge=0\n",
    "model.metabolites.get_by_id('pyr_p').charge=-1\n",
    "model.metabolites.get_by_id('thymd_c').charge=0\n",
    "model.metabolites.get_by_id('q8_c').charge=0\n",
    "model.metabolites.get_by_id('thymd_e').charge=0\n",
    "model.metabolites.get_by_id('q8h2_c').charge=0\n",
    "model.metabolites.get_by_id('thymd_p').charge=0\n",
    "model.metabolites.get_by_id('quln_c').charge=-2\n",
    "model.metabolites.get_by_id('tma_e').charge=1\n",
    "model.metabolites.get_by_id('tma_p').charge=1\n",
    "model.metabolites.get_by_id('tmao_e').charge=0\n",
    "model.metabolites.get_by_id('sheme_c').charge=-8\n",
    "model.metabolites.get_by_id('skm5p_c').charge=-3\n",
    "model.metabolites.get_by_id('tmao_p').charge=0\n",
    "model.metabolites.get_by_id('uaagmda_c').charge=-4\n",
    "model.metabolites.get_by_id('tmrs2eACP_c').charge=-1\n",
    "model.metabolites.get_by_id('skm_c').charge=-1\n",
    "model.metabolites.get_by_id('toct2eACP_c').charge=-1\n",
    "model.metabolites.get_by_id('uaccg_c').charge=-3\n",
    "model.metabolites.get_by_id('toctd2eACP_c').charge=-1\n",
    "model.metabolites.get_by_id('skm_e').charge=-1\n",
    "model.metabolites.get_by_id('uacgam_c').charge=-2\n",
    "model.metabolites.get_by_id('skm_p').charge=-1\n",
    "model.metabolites.get_by_id('sl26da_c').charge=-2\n",
    "model.metabolites.get_by_id('tpalm2eACP_c').charge=-1\n",
    "model.metabolites.get_by_id('uacgam_e').charge=-2\n",
    "model.metabolites.get_by_id('trdox_c').charge=0\n",
    "model.metabolites.get_by_id('sl2a6o_c').charge=-3\n",
    "model.metabolites.get_by_id('uacgam_p').charge=-2\n",
    "model.metabolites.get_by_id('so2_c').charge=0\n",
    "model.metabolites.get_by_id('trdrd_c').charge=0\n",
    "model.metabolites.get_by_id('so2_e').charge=0\n",
    "model.metabolites.get_by_id('so2_p').charge=0\n",
    "model.metabolites.get_by_id('uagmda_c').charge=-4\n",
    "model.metabolites.get_by_id('tre_e').charge=0\n",
    "model.metabolites.get_by_id('so3_c').charge=-2\n",
    "model.metabolites.get_by_id('so3_e').charge=-2\n",
    "model.metabolites.get_by_id('uama_c').charge=-3\n",
    "model.metabolites.get_by_id('so3_p').charge=-2\n",
    "model.metabolites.get_by_id('tre_p').charge=0\n",
    "model.metabolites.get_by_id('uamag_c').charge=-4\n",
    "model.metabolites.get_by_id('so4_c').charge=-2\n",
    "model.metabolites.get_by_id('uamr_c').charge=-3\n",
    "model.metabolites.get_by_id('so4_e').charge=-2\n",
    "model.metabolites.get_by_id('udcpdp_c').charge=-3\n",
    "model.metabolites.get_by_id('so4_p').charge=-2\n",
    "model.metabolites.get_by_id('spmd_c').charge=3\n",
    "model.metabolites.get_by_id('spmd_e').charge=3\n",
    "model.metabolites.get_by_id('udcpdp_p').charge=-3\n",
    "model.metabolites.get_by_id('spmd_p').charge=3\n",
    "model.metabolites.get_by_id('udcpp_c').charge=-2\n",
    "model.metabolites.get_by_id('stcoa_c').charge=-4\n",
    "model.metabolites.get_by_id('trnaglu_c').charge=0\n",
    "model.metabolites.get_by_id('udcpp_p').charge=-2\n",
    "model.metabolites.get_by_id('suc6p_c').charge=-2\n",
    "model.metabolites.get_by_id('succ_c').charge=-2\n",
    "model.metabolites.get_by_id('succ_e').charge=-2\n",
    "model.metabolites.get_by_id('udp_c').charge=-3\n",
    "model.metabolites.get_by_id('succ_p').charge=-2\n",
    "model.metabolites.get_by_id('udpacgal_e').charge=-2\n",
    "model.metabolites.get_by_id('succoa_c').charge=-5\n",
    "model.metabolites.get_by_id('udpacgal_p').charge=-2\n",
    "model.metabolites.get_by_id('udpg_c').charge=-2\n",
    "model.metabolites.get_by_id('suchms_c').charge=-1\n",
    "model.metabolites.get_by_id('udpg_e').charge=-2\n",
    "model.metabolites.get_by_id('udpg_p').charge=-2\n",
    "model.metabolites.get_by_id('sucr_e').charge=0\n",
    "model.metabolites.get_by_id('udpgal_c').charge=-2\n",
    "model.metabolites.get_by_id('udpgal_e').charge=-2\n",
    "model.metabolites.get_by_id('sucr_p').charge=0\n",
    "model.metabolites.get_by_id('sucsal_c').charge=-1\n",
    "model.metabolites.get_by_id('udpgal_p').charge=-2\n",
    "model.metabolites.get_by_id('sulfac_e').charge=-2\n",
    "model.metabolites.get_by_id('sulfac_p').charge=-2\n",
    "model.metabolites.get_by_id('udpglcur_e').charge=-3\n",
    "model.metabolites.get_by_id('t3c5ddeceACP_c').charge=-1\n",
    "model.metabolites.get_by_id('udpglcur_p').charge=-3\n",
    "model.metabolites.get_by_id('tsul_c').charge=-2\n",
    "model.metabolites.get_by_id('t3c7mrseACP_c').charge=-1\n",
    "model.metabolites.get_by_id('ugmd_c').charge=-4\n",
    "model.metabolites.get_by_id('t3c9palmeACP_c').charge=-1\n",
    "model.metabolites.get_by_id('tsul_e').charge=-2\n",
    "model.metabolites.get_by_id('ugmda_c').charge=-4\n",
    "model.metabolites.get_by_id('tsul_p').charge=-2\n",
    "model.metabolites.get_by_id('um4p_c').charge=-4\n",
    "model.metabolites.get_by_id('ump_c').charge=-2\n",
    "model.metabolites.get_by_id('ttdca_e').charge=-1\n",
    "model.metabolites.get_by_id('ttdca_p').charge=-1\n",
    "model.metabolites.get_by_id('ump_e').charge=-2\n",
    "model.metabolites.get_by_id('ump_p').charge=-2\n",
    "model.metabolites.get_by_id('ttdcea_e').charge=-1\n",
    "model.metabolites.get_by_id('unaga_c').charge=-2\n",
    "model.metabolites.get_by_id('ttdcea_p').charge=-1\n",
    "model.metabolites.get_by_id('taur_e').charge=0\n",
    "model.metabolites.get_by_id('tungs_e').charge=-2\n",
    "model.metabolites.get_by_id('taur_p').charge=0\n",
    "model.metabolites.get_by_id('tungs_p').charge=-2\n",
    "model.metabolites.get_by_id('uppg3_c').charge=-8\n",
    "model.metabolites.get_by_id('tym_e').charge=1\n",
    "model.metabolites.get_by_id('tcynt_e').charge=-1\n",
    "model.metabolites.get_by_id('ura_c').charge=0\n",
    "model.metabolites.get_by_id('tym_p').charge=1\n",
    "model.metabolites.get_by_id('ura_e').charge=0\n",
    "model.metabolites.get_by_id('ura_p').charge=0\n",
    "model.metabolites.get_by_id('tyrp_e').charge=-2\n",
    "model.metabolites.get_by_id('tyrp_p').charge=-2\n",
    "model.metabolites.get_by_id('u23ga_c').charge=-2\n",
    "model.metabolites.get_by_id('urea_c').charge=0\n",
    "model.metabolites.get_by_id('u3aga_c').charge=-2\n",
    "model.metabolites.get_by_id('urea_e').charge=0\n",
    "model.metabolites.get_by_id('u3hga_c').charge=-1\n",
    "model.metabolites.get_by_id('urea_p').charge=0\n",
    "model.metabolites.get_by_id('uri_c').charge=0\n",
    "model.metabolites.get_by_id('utp_c').charge=-4\n",
    "model.metabolites.get_by_id('xan_c').charge=0\n",
    "model.metabolites.get_by_id('xan_e').charge=0\n",
    "model.metabolites.get_by_id('xan_p').charge=0\n",
    "model.metabolites.get_by_id('xmp_c').charge=-2\n",
    "model.metabolites.get_by_id('xmp_e').charge=-2\n",
    "model.metabolites.get_by_id('xmp_p').charge=-2\n",
    "model.metabolites.get_by_id('xtp_c').charge=-4\n",
    "model.metabolites.get_by_id('xtsn_c').charge=0\n",
    "model.metabolites.get_by_id('xtsn_e').charge=0\n",
    "model.metabolites.get_by_id('xtsn_p').charge=0\n",
    "model.metabolites.get_by_id('zn2_c').charge=2\n",
    "model.metabolites.get_by_id('zn2_e').charge=2\n",
    "model.metabolites.get_by_id('zn2_p').charge=2"
   ]
  },
  {
   "cell_type": "code",
   "execution_count": 148,
   "id": "754bf55f-f4b3-4070-a3d9-274d2ee8ade9",
   "metadata": {
    "scrolled": true
   },
   "outputs": [],
   "source": [
    "#Define biomass reactions to exclude from imbalance check\n",
    "biomass_reactions = set(['PLIPIDS', 'PLIPIDS_ESS', 'PROTS', 'PEPGLY','RNAS', 'DNAS' ])\n"
   ]
  },
  {
   "cell_type": "code",
   "execution_count": 149,
   "id": "50b6f10c-c3c3-4ef3-b747-fd7340da4be8",
   "metadata": {
    "scrolled": true
   },
   "outputs": [
    {
     "name": "stdout",
     "output_type": "stream",
     "text": [
      "121 121 121\n"
     ]
    },
    {
     "data": {
      "text/html": [
       "<div>\n",
       "<style scoped>\n",
       "    .dataframe tbody tr th:only-of-type {\n",
       "        vertical-align: middle;\n",
       "    }\n",
       "\n",
       "    .dataframe tbody tr th {\n",
       "        vertical-align: top;\n",
       "    }\n",
       "\n",
       "    .dataframe thead th {\n",
       "        text-align: right;\n",
       "    }\n",
       "</style>\n",
       "<table border=\"1\" class=\"dataframe\">\n",
       "  <thead>\n",
       "    <tr style=\"text-align: right;\">\n",
       "      <th></th>\n",
       "      <th>Reactions</th>\n",
       "      <th>Charge</th>\n",
       "      <th>Masses</th>\n",
       "    </tr>\n",
       "  </thead>\n",
       "  <tbody>\n",
       "    <tr>\n",
       "      <th>0</th>\n",
       "      <td>3HAD140</td>\n",
       "      <td>-1.0</td>\n",
       "      <td>{}</td>\n",
       "    </tr>\n",
       "    <tr>\n",
       "      <th>1</th>\n",
       "      <td>3OAS161a</td>\n",
       "      <td>2.0</td>\n",
       "      <td>{'C': -12.0, 'H': -21.0, 'N': -2.0, 'O': -9.0,...</td>\n",
       "    </tr>\n",
       "    <tr>\n",
       "      <th>2</th>\n",
       "      <td>ACLS</td>\n",
       "      <td>1.0</td>\n",
       "      <td>{}</td>\n",
       "    </tr>\n",
       "    <tr>\n",
       "      <th>3</th>\n",
       "      <td>ADPT</td>\n",
       "      <td>-1.0</td>\n",
       "      <td>{}</td>\n",
       "    </tr>\n",
       "    <tr>\n",
       "      <th>4</th>\n",
       "      <td>ADSS</td>\n",
       "      <td>-1.0</td>\n",
       "      <td>{}</td>\n",
       "    </tr>\n",
       "    <tr>\n",
       "      <th>...</th>\n",
       "      <td>...</td>\n",
       "      <td>...</td>\n",
       "      <td>...</td>\n",
       "    </tr>\n",
       "    <tr>\n",
       "      <th>116</th>\n",
       "      <td>CPH4S</td>\n",
       "      <td>1.0</td>\n",
       "      <td>{'C': -7.0, 'H': -8.0, 'N': -5.0, 'O': -3.0}</td>\n",
       "    </tr>\n",
       "    <tr>\n",
       "      <th>117</th>\n",
       "      <td>CDGS</td>\n",
       "      <td></td>\n",
       "      <td>{'H': 3.0, 'N': 1.0}</td>\n",
       "    </tr>\n",
       "    <tr>\n",
       "      <th>118</th>\n",
       "      <td>CDGR</td>\n",
       "      <td>-1.0</td>\n",
       "      <td>{'H': -5.0}</td>\n",
       "    </tr>\n",
       "    <tr>\n",
       "      <th>119</th>\n",
       "      <td>CCGS</td>\n",
       "      <td>-1.0</td>\n",
       "      <td>{'N': -1.0, 'O': 2.0}</td>\n",
       "    </tr>\n",
       "    <tr>\n",
       "      <th>120</th>\n",
       "      <td>LDH_D2</td>\n",
       "      <td>-1.0</td>\n",
       "      <td>{}</td>\n",
       "    </tr>\n",
       "  </tbody>\n",
       "</table>\n",
       "<p>121 rows × 3 columns</p>\n",
       "</div>"
      ],
      "text/plain": [
       "    Reactions Charge                                             Masses\n",
       "0     3HAD140   -1.0                                                 {}\n",
       "1    3OAS161a    2.0  {'C': -12.0, 'H': -21.0, 'N': -2.0, 'O': -9.0,...\n",
       "2        ACLS    1.0                                                 {}\n",
       "3        ADPT   -1.0                                                 {}\n",
       "4        ADSS   -1.0                                                 {}\n",
       "..        ...    ...                                                ...\n",
       "116     CPH4S    1.0       {'C': -7.0, 'H': -8.0, 'N': -5.0, 'O': -3.0}\n",
       "117      CDGS                                      {'H': 3.0, 'N': 1.0}\n",
       "118      CDGR   -1.0                                        {'H': -5.0}\n",
       "119      CCGS   -1.0                              {'N': -1.0, 'O': 2.0}\n",
       "120    LDH_D2   -1.0                                                 {}\n",
       "\n",
       "[121 rows x 3 columns]"
      ]
     },
     "execution_count": 149,
     "metadata": {},
     "output_type": "execute_result"
    }
   ],
   "source": [
    "#Define remaining imbalances\n",
    "#Many of these are due to the presence of cofactors in the reaction equation. In favor of correct stoichiometries, these cofactors are removed. \n",
    "reactions = []\n",
    "charge = []\n",
    "mass = []\n",
    "for react in model.reactions:\n",
    "    result = react.check_mass_balance()\n",
    "    if 'EX_' in  react.id:\n",
    "        continue\n",
    "    if 'Nm_' in  react.id:\n",
    "        continue\n",
    "    if 'DM_' in  react.id:\n",
    "        continue \n",
    "    if react.id in biomass_reactions:\n",
    "        continue\n",
    "    if len(result) == 0:\n",
    "        continue\n",
    "    else: \n",
    "        reactions.append(react.id)\n",
    "        masses = {}\n",
    "        for key in result.keys():\n",
    "            if key == 'charge':\n",
    "                charge.append(result['charge'])\n",
    "            else:\n",
    "                masses[key] = result[key]\n",
    "        if 'charge' not in result.keys():\n",
    "            charge.append('')\n",
    "        mass.append(masses)\n",
    "print(len(reactions), len(charge), len(mass))\n",
    "\n",
    "mass_charge_dict = {'Reactions': reactions, 'Charge': charge, 'Masses': mass}\n",
    "mass_charge = pandas.DataFrame(mass_charge_dict)\n",
    "mass_charge.to_csv('imbalancesinitial.csv')\n",
    "mass_charge"
   ]
  },
  {
   "cell_type": "code",
   "execution_count": 150,
   "id": "326ece3c-66d0-4bd6-b05a-947821d8d806",
   "metadata": {
    "scrolled": true
   },
   "outputs": [
    {
     "name": "stdout",
     "output_type": "stream",
     "text": [
      "{'charge': -3.0, 'H': 2.0, 'O': 2.0}\n"
     ]
    },
    {
     "data": {
      "text/html": [
       "\n",
       "        <table>\n",
       "            <tr>\n",
       "                <td><strong>Reaction identifier</strong></td><td>ASNSYN</td>\n",
       "            </tr><tr>\n",
       "                <td><strong>Name</strong></td><td>R_ASNSYN</td>\n",
       "            </tr><tr>\n",
       "                <td><strong>Memory address</strong></td>\n",
       "                <td>0x014878d38cd0</td>\n",
       "            </tr><tr>\n",
       "                <td><strong>Stoichiometry</strong></td>\n",
       "                <td>\n",
       "                    <p style='text-align:right'>asp_L_c + atp_c + gln_L_c + h_c --> adp_c + asn_L_c + glu_L_c + h2o_c + pi_c</p>\n",
       "                    <p style='text-align:right'>L-Aspartate + ATP + L-Glutamine + H --> ADP + L-Asparagine + L-Glutamate + H2O + Phosphate</p>\n",
       "                </td>\n",
       "            </tr><tr>\n",
       "                <td><strong>GPR</strong></td><td>NGO1489 and NGO0663 and NGO0662 and NGO0660</td>\n",
       "            </tr><tr>\n",
       "                <td><strong>Lower bound</strong></td><td>0.0</td>\n",
       "            </tr><tr>\n",
       "                <td><strong>Upper bound</strong></td><td>1000.0</td>\n",
       "            </tr>\n",
       "        </table>\n",
       "        "
      ],
      "text/plain": [
       "<Reaction ASNSYN at 0x14878d38cd0>"
      ]
     },
     "execution_count": 150,
     "metadata": {},
     "output_type": "execute_result"
    }
   ],
   "source": [
    "#ASNSYN\n",
    "r = model.reactions.get_by_id('ASNSYN')\n",
    "print(r.check_mass_balance())\n",
    "r"
   ]
  },
  {
   "cell_type": "code",
   "execution_count": 151,
   "id": "c2e2ff49-4ec6-433f-9745-86809eca384d",
   "metadata": {},
   "outputs": [
    {
     "name": "stdout",
     "output_type": "stream",
     "text": [
      "ASNSYN: asp_L_c + atp_c + gln_L_c + h2o_c --> adp_c + asn_L_c + glu_L_c + h_c + pi_c\n",
      "{}\n"
     ]
    }
   ],
   "source": [
    "h_c = model.metabolites.get_by_id('h_c')\n",
    "h2o_c = model.metabolites.get_by_id('h2o_c')\n",
    "\n",
    "r.add_metabolites({\n",
    "    h2o_c: -2.0,\n",
    "    h_c: 2.0})\n",
    "\n",
    "model.metabolites.asp_L_c.charge=-1\n",
    "print(r)\n",
    "print(r.check_mass_balance())"
   ]
  },
  {
   "cell_type": "code",
   "execution_count": 152,
   "id": "1f0b8255-3e22-4633-b450-a0b9fc0b3632",
   "metadata": {
    "scrolled": true
   },
   "outputs": [
    {
     "name": "stdout",
     "output_type": "stream",
     "text": [
      "{'charge': -11.0}\n"
     ]
    },
    {
     "data": {
      "text/html": [
       "\n",
       "        <table>\n",
       "            <tr>\n",
       "                <td><strong>Reaction identifier</strong></td><td>GLCTR1</td>\n",
       "            </tr><tr>\n",
       "                <td><strong>Name</strong></td><td>R_GLCTR1</td>\n",
       "            </tr><tr>\n",
       "                <td><strong>Memory address</strong></td>\n",
       "                <td>0x01487aae4130</td>\n",
       "            </tr><tr>\n",
       "                <td><strong>Stoichiometry</strong></td>\n",
       "                <td>\n",
       "                    <p style='text-align:right'>galglcgnahhlipa_c + udpg_c --> h_c + icolipa_c + udp_c</p>\n",
       "                    <p style='text-align:right'>M_galglcgnahhlipa_c + UDPglucose --> H + inner-core-oligosaccharide-lipid-A + UDP</p>\n",
       "                </td>\n",
       "            </tr><tr>\n",
       "                <td><strong>GPR</strong></td><td>NGO1353</td>\n",
       "            </tr><tr>\n",
       "                <td><strong>Lower bound</strong></td><td>0.0</td>\n",
       "            </tr><tr>\n",
       "                <td><strong>Upper bound</strong></td><td>1000.0</td>\n",
       "            </tr>\n",
       "        </table>\n",
       "        "
      ],
      "text/plain": [
       "<Reaction GLCTR1 at 0x1487aae4130>"
      ]
     },
     "execution_count": 152,
     "metadata": {},
     "output_type": "execute_result"
    }
   ],
   "source": [
    "#GLCTR1\n",
    "r1 = model.reactions.get_by_id('GLCTR1')\n",
    "print(r1.check_mass_balance())\n",
    "r1"
   ]
  },
  {
   "cell_type": "code",
   "execution_count": 153,
   "id": "70c6a0fc-f233-4648-89f5-b2f36f352915",
   "metadata": {
    "scrolled": true
   },
   "outputs": [
    {
     "name": "stdout",
     "output_type": "stream",
     "text": [
      "{'charge': -2.0}\n"
     ]
    },
    {
     "data": {
      "text/html": [
       "\n",
       "        <table>\n",
       "            <tr>\n",
       "                <td><strong>Reaction identifier</strong></td><td>SIALT1</td>\n",
       "            </tr><tr>\n",
       "                <td><strong>Name</strong></td><td>R_SIALT1</td>\n",
       "            </tr><tr>\n",
       "                <td><strong>Memory address</strong></td>\n",
       "                <td>0x01487abbd820</td>\n",
       "            </tr><tr>\n",
       "                <td><strong>Stoichiometry</strong></td>\n",
       "                <td>\n",
       "                    <p style='text-align:right'>cmpacna_c + los_GC_c --> cmp_c + sialylated_los_GC_c</p>\n",
       "                    <p style='text-align:right'>CMP-N-acetyl neuraminate + los_GC_c --> CMP + sialylated_los_GC_c</p>\n",
       "                </td>\n",
       "            </tr><tr>\n",
       "                <td><strong>GPR</strong></td><td>NGO1081</td>\n",
       "            </tr><tr>\n",
       "                <td><strong>Lower bound</strong></td><td>0.0</td>\n",
       "            </tr><tr>\n",
       "                <td><strong>Upper bound</strong></td><td>1000.0</td>\n",
       "            </tr>\n",
       "        </table>\n",
       "        "
      ],
      "text/plain": [
       "<Reaction SIALT1 at 0x1487abbd820>"
      ]
     },
     "execution_count": 153,
     "metadata": {},
     "output_type": "execute_result"
    }
   ],
   "source": [
    "#SIALT1\n",
    "r2 = model.reactions.get_by_id('SIALT1')\n",
    "print(r2.check_mass_balance())\n",
    "r2"
   ]
  },
  {
   "cell_type": "code",
   "execution_count": 154,
   "id": "e99b8065-7814-49a9-a198-807fdd293a35",
   "metadata": {
    "scrolled": true
   },
   "outputs": [
    {
     "name": "stdout",
     "output_type": "stream",
     "text": [
      "GLCTR1: galglcgnahhlipa_c + udpg_c --> h_c + icolipa_c + udp_c\n",
      "{}\n",
      "GLCTR1: galglcgnahhlipa_c + udpg_c --> h_c + icolipa_c + udp_c\n",
      "{}\n",
      "SIALT1: cmpacna_c + los_GC_c --> cmp_c + sialylated_los_GC_c\n",
      "{'charge': -2.0}\n"
     ]
    }
   ],
   "source": [
    "#For GLCTR1 - Formula for icolipa_c is incorrect. When glc is added to peagnahhlipa_c, the previous reaction did not add the oxygens. \n",
    "#The corresponding reactions in LOS synthesis all are also missing these 5 oxygens. This is corrected here.\n",
    "#Used structure diagrams here PMID: 11496013 and here PMID: 30873172 to determine proper formulas. \n",
    "\n",
    "#The reaction GLCTR1 corresponds to a bigg ID for a slightly different reaction in E.coli LPS biosynthesis. \n",
    "#This was left in place, but may need to be changed at a later time to avoid confusion.\n",
    "\n",
    "#Additionally for SIALT1 - LPS is sialylated, the NeuAC was not actually added to the structure for LPS.  \n",
    "#This is corrected here. Note this sialylation is on the alpha chain of LOS only, which is more common. Not on the beta chain.\n",
    "\n",
    "\n",
    "#Correct the icolipa formula and formulas for the alphachain components to reflect the new 4HEXG beta chain\n",
    "r = model.reactions.get_by_id('GLCTR1')\n",
    "model.metabolites.get_by_id('icolipa_c').formula= 'C144H252N3O71P2'   \n",
    "model.metabolites.get_by_id('galicolipa_c').formula= 'C150H262N3O76P2'\n",
    "model.metabolites.get_by_id('gnagalicolipa_c').formula= 'C158H276N4O81P2'\n",
    "model.metabolites.get_by_id('los_GC_c').formula= 'C164H286N4O86P2'\n",
    "\n",
    "model.metabolites.get_by_id('sialylated_los_GC_c').formula= 'C175H304N5O94P2'\n",
    "model.metabolites.galglcgnahhlipa_c.charge=-5\n",
    "model.metabolites.peagnahhlipa_c.charge=-10\n",
    "model.metabolites.sialylated_los_GC_c.charge=-4\n",
    "model.metabolites.los_GC_c.charge=-4\n",
    "model.metabolites.galicolipa_c.charge=-5\n",
    "model.metabolites.gnagalicolipa_c.charge=-4\n",
    "model.metabolites.icolipa_c.charge=-5\n",
    "model.metabolites.glcgnahhlipa_c.charge=-5\n",
    "model.metabolites.gnahhlipa_c.charge=-5\n",
    "model.metabolites.glcgnahhlipa_c.charge=-5\n",
    "\n",
    "model.metabolites.gnahhlipa_c.charge=-5\n",
    "print(r)\n",
    "print(r.check_mass_balance())\n",
    "print(r1)\n",
    "print(r1.check_mass_balance())\n",
    "print(r2)\n",
    "print(r2.check_mass_balance())"
   ]
  },
  {
   "cell_type": "code",
   "execution_count": 155,
   "id": "63f07512-034c-4b86-b12b-a7a032c07642",
   "metadata": {
    "scrolled": true
   },
   "outputs": [
    {
     "name": "stdout",
     "output_type": "stream",
     "text": [
      "GALT3: glcgnahhlipa_c + udpg_c --> galglcgnahhlipa_c + h_c + udp_c\n",
      "{}\n"
     ]
    }
   ],
   "source": [
    "r=model.reactions.get_by_id('GALT3')\n",
    "print(r)\n",
    "print(r.check_mass_balance())"
   ]
  },
  {
   "cell_type": "code",
   "execution_count": 156,
   "id": "d1de6fdc-a8f8-4638-be8a-698ec5a1a666",
   "metadata": {
    "scrolled": true
   },
   "outputs": [
    {
     "name": "stdout",
     "output_type": "stream",
     "text": [
      "{'charge': -2.0}\n"
     ]
    },
    {
     "data": {
      "text/html": [
       "\n",
       "        <table>\n",
       "            <tr>\n",
       "                <td><strong>Reaction identifier</strong></td><td>SIALT1</td>\n",
       "            </tr><tr>\n",
       "                <td><strong>Name</strong></td><td>R_SIALT1</td>\n",
       "            </tr><tr>\n",
       "                <td><strong>Memory address</strong></td>\n",
       "                <td>0x01487abbd820</td>\n",
       "            </tr><tr>\n",
       "                <td><strong>Stoichiometry</strong></td>\n",
       "                <td>\n",
       "                    <p style='text-align:right'>cmpacna_c + los_GC_c --> cmp_c + sialylated_los_GC_c</p>\n",
       "                    <p style='text-align:right'>CMP-N-acetyl neuraminate + los_GC_c --> CMP + sialylated_los_GC_c</p>\n",
       "                </td>\n",
       "            </tr><tr>\n",
       "                <td><strong>GPR</strong></td><td>NGO1081</td>\n",
       "            </tr><tr>\n",
       "                <td><strong>Lower bound</strong></td><td>0.0</td>\n",
       "            </tr><tr>\n",
       "                <td><strong>Upper bound</strong></td><td>1000.0</td>\n",
       "            </tr>\n",
       "        </table>\n",
       "        "
      ],
      "text/plain": [
       "<Reaction SIALT1 at 0x1487abbd820>"
      ]
     },
     "execution_count": 156,
     "metadata": {},
     "output_type": "execute_result"
    }
   ],
   "source": [
    "#Check all the steps of LOS synthesis to ensure its balanced properly. \n",
    "#SIALT1\n",
    "r = model.reactions.get_by_id('SIALT1')\n",
    "print(r.check_mass_balance())\n",
    "r"
   ]
  },
  {
   "cell_type": "code",
   "execution_count": 157,
   "id": "e9592b13-a77b-4c1b-af87-0fdc893369c3",
   "metadata": {
    "scrolled": true
   },
   "outputs": [
    {
     "name": "stdout",
     "output_type": "stream",
     "text": [
      "{}\n"
     ]
    },
    {
     "data": {
      "text/html": [
       "\n",
       "        <table>\n",
       "            <tr>\n",
       "                <td><strong>Reaction identifier</strong></td><td>GALT2</td>\n",
       "            </tr><tr>\n",
       "                <td><strong>Name</strong></td><td>R_GALT2</td>\n",
       "            </tr><tr>\n",
       "                <td><strong>Memory address</strong></td>\n",
       "                <td>0x01487aadca00</td>\n",
       "            </tr><tr>\n",
       "                <td><strong>Stoichiometry</strong></td>\n",
       "                <td>\n",
       "                    <p style='text-align:right'>gnagalicolipa_c + udpgal_c --> h_c + los_GC_c + udp_c</p>\n",
       "                    <p style='text-align:right'>glcNAc-galactosyl-inner-core-oligosaccharide-lipid-A + UDPgalactose --> H + los_GC_c + UDP</p>\n",
       "                </td>\n",
       "            </tr><tr>\n",
       "                <td><strong>GPR</strong></td><td>NGO2156</td>\n",
       "            </tr><tr>\n",
       "                <td><strong>Lower bound</strong></td><td>0.0</td>\n",
       "            </tr><tr>\n",
       "                <td><strong>Upper bound</strong></td><td>1000.0</td>\n",
       "            </tr>\n",
       "        </table>\n",
       "        "
      ],
      "text/plain": [
       "<Reaction GALT2 at 0x1487aadca00>"
      ]
     },
     "execution_count": 157,
     "metadata": {},
     "output_type": "execute_result"
    }
   ],
   "source": [
    "#GALT2\n",
    "r = model.reactions.get_by_id('GALT2')\n",
    "print(r.check_mass_balance())\n",
    "r"
   ]
  },
  {
   "cell_type": "code",
   "execution_count": 158,
   "id": "39d33efa-3b13-4750-8fb2-1392e00bd517",
   "metadata": {
    "scrolled": true
   },
   "outputs": [
    {
     "name": "stdout",
     "output_type": "stream",
     "text": [
      "{}\n"
     ]
    },
    {
     "data": {
      "text/html": [
       "\n",
       "        <table>\n",
       "            <tr>\n",
       "                <td><strong>Reaction identifier</strong></td><td>GNAT2</td>\n",
       "            </tr><tr>\n",
       "                <td><strong>Name</strong></td><td>R_GNAT2</td>\n",
       "            </tr><tr>\n",
       "                <td><strong>Memory address</strong></td>\n",
       "                <td>0x01487aaf5f10</td>\n",
       "            </tr><tr>\n",
       "                <td><strong>Stoichiometry</strong></td>\n",
       "                <td>\n",
       "                    <p style='text-align:right'>galicolipa_c + uacgam_c --> gnagalicolipa_c + udp_c</p>\n",
       "                    <p style='text-align:right'>galactosyl-inner-core-oligosaccharide-lipid-A, also mature lps, immunotype 8 + UDP-N-acetyl-D-glucosamine --> glcNAc-galactosyl-inner-core-oligosaccharide-lipid-A + UDP</p>\n",
       "                </td>\n",
       "            </tr><tr>\n",
       "                <td><strong>GPR</strong></td><td>NGO2158</td>\n",
       "            </tr><tr>\n",
       "                <td><strong>Lower bound</strong></td><td>0.0</td>\n",
       "            </tr><tr>\n",
       "                <td><strong>Upper bound</strong></td><td>1000.0</td>\n",
       "            </tr>\n",
       "        </table>\n",
       "        "
      ],
      "text/plain": [
       "<Reaction GNAT2 at 0x1487aaf5f10>"
      ]
     },
     "execution_count": 158,
     "metadata": {},
     "output_type": "execute_result"
    }
   ],
   "source": [
    "#GNAT2\n",
    "r = model.reactions.get_by_id('GNAT2')\n",
    "\n",
    "print(r.check_mass_balance())\n",
    "r"
   ]
  },
  {
   "cell_type": "code",
   "execution_count": 159,
   "id": "dae23f9b-aa92-4cab-8416-3bdc60af6b08",
   "metadata": {
    "scrolled": true
   },
   "outputs": [
    {
     "name": "stdout",
     "output_type": "stream",
     "text": [
      "{}\n"
     ]
    },
    {
     "data": {
      "text/html": [
       "\n",
       "        <table>\n",
       "            <tr>\n",
       "                <td><strong>Reaction identifier</strong></td><td>GALT1</td>\n",
       "            </tr><tr>\n",
       "                <td><strong>Name</strong></td><td>R_GALT1</td>\n",
       "            </tr><tr>\n",
       "                <td><strong>Memory address</strong></td>\n",
       "                <td>0x01487aadcd30</td>\n",
       "            </tr><tr>\n",
       "                <td><strong>Stoichiometry</strong></td>\n",
       "                <td>\n",
       "                    <p style='text-align:right'>icolipa_c + udpgal_c --> galicolipa_c + h_c + udp_c</p>\n",
       "                    <p style='text-align:right'>inner-core-oligosaccharide-lipid-A + UDPgalactose --> galactosyl-inner-core-oligosaccharide-lipid-A, also mature lps, immunotype 8 + H + UDP</p>\n",
       "                </td>\n",
       "            </tr><tr>\n",
       "                <td><strong>GPR</strong></td><td>NGO2159</td>\n",
       "            </tr><tr>\n",
       "                <td><strong>Lower bound</strong></td><td>0.0</td>\n",
       "            </tr><tr>\n",
       "                <td><strong>Upper bound</strong></td><td>1000.0</td>\n",
       "            </tr>\n",
       "        </table>\n",
       "        "
      ],
      "text/plain": [
       "<Reaction GALT1 at 0x1487aadcd30>"
      ]
     },
     "execution_count": 159,
     "metadata": {},
     "output_type": "execute_result"
    }
   ],
   "source": [
    "#GALT1\n",
    "r = model.reactions.get_by_id('GALT1')\n",
    "print(r.check_mass_balance())\n",
    "r"
   ]
  },
  {
   "cell_type": "code",
   "execution_count": 160,
   "id": "ff8441db-d7dd-4267-82c4-d63f61b4e86f",
   "metadata": {
    "scrolled": true
   },
   "outputs": [
    {
     "name": "stdout",
     "output_type": "stream",
     "text": [
      "{}\n"
     ]
    },
    {
     "data": {
      "text/html": [
       "\n",
       "        <table>\n",
       "            <tr>\n",
       "                <td><strong>Reaction identifier</strong></td><td>GALT3</td>\n",
       "            </tr><tr>\n",
       "                <td><strong>Name</strong></td><td>R_GLCTR2</td>\n",
       "            </tr><tr>\n",
       "                <td><strong>Memory address</strong></td>\n",
       "                <td>0x01487ac26b50</td>\n",
       "            </tr><tr>\n",
       "                <td><strong>Stoichiometry</strong></td>\n",
       "                <td>\n",
       "                    <p style='text-align:right'>glcgnahhlipa_c + udpg_c --> galglcgnahhlipa_c + h_c + udp_c</p>\n",
       "                    <p style='text-align:right'>M_glcgnahhlipa_c + UDPglucose --> M_galglcgnahhlipa_c + H + UDP</p>\n",
       "                </td>\n",
       "            </tr><tr>\n",
       "                <td><strong>GPR</strong></td><td>NGO2072</td>\n",
       "            </tr><tr>\n",
       "                <td><strong>Lower bound</strong></td><td>0.0</td>\n",
       "            </tr><tr>\n",
       "                <td><strong>Upper bound</strong></td><td>1000.0</td>\n",
       "            </tr>\n",
       "        </table>\n",
       "        "
      ],
      "text/plain": [
       "<Reaction GALT3 at 0x1487ac26b50>"
      ]
     },
     "execution_count": 160,
     "metadata": {},
     "output_type": "execute_result"
    }
   ],
   "source": [
    "#GALT3\n",
    "r = model.reactions.get_by_id('GALT3')\n",
    "print(r.check_mass_balance())\n",
    "r"
   ]
  },
  {
   "cell_type": "code",
   "execution_count": 161,
   "id": "4b777d8d-b8a0-4945-a338-8af9829a3429",
   "metadata": {
    "scrolled": true
   },
   "outputs": [
    {
     "name": "stdout",
     "output_type": "stream",
     "text": [
      "{}\n"
     ]
    },
    {
     "data": {
      "text/html": [
       "\n",
       "        <table>\n",
       "            <tr>\n",
       "                <td><strong>Reaction identifier</strong></td><td>GLCTR2</td>\n",
       "            </tr><tr>\n",
       "                <td><strong>Name</strong></td><td>R_GLCTR2</td>\n",
       "            </tr><tr>\n",
       "                <td><strong>Memory address</strong></td>\n",
       "                <td>0x01487ac26fd0</td>\n",
       "            </tr><tr>\n",
       "                <td><strong>Stoichiometry</strong></td>\n",
       "                <td>\n",
       "                    <p style='text-align:right'>gnahhlipa_c + udpg_c --> glcgnahhlipa_c + h_c + udp_c</p>\n",
       "                    <p style='text-align:right'>glcNAc-heptosyl-heptosyl-kdo2-lipidA + UDPglucose --> M_glcgnahhlipa_c + H + UDP</p>\n",
       "                </td>\n",
       "            </tr><tr>\n",
       "                <td><strong>GPR</strong></td><td>NGO2072</td>\n",
       "            </tr><tr>\n",
       "                <td><strong>Lower bound</strong></td><td>0.0</td>\n",
       "            </tr><tr>\n",
       "                <td><strong>Upper bound</strong></td><td>1000.0</td>\n",
       "            </tr>\n",
       "        </table>\n",
       "        "
      ],
      "text/plain": [
       "<Reaction GLCTR2 at 0x1487ac26fd0>"
      ]
     },
     "execution_count": 161,
     "metadata": {},
     "output_type": "execute_result"
    }
   ],
   "source": [
    "#GLCTR2\n",
    "r = model.reactions.get_by_id('GLCTR2')\n",
    "print(r.check_mass_balance())\n",
    "r"
   ]
  },
  {
   "cell_type": "code",
   "execution_count": 162,
   "id": "cc066840-d124-4f5d-a75e-c82f89414321",
   "metadata": {
    "scrolled": true
   },
   "outputs": [
    {
     "name": "stdout",
     "output_type": "stream",
     "text": [
      "{}\n"
     ]
    },
    {
     "data": {
      "text/html": [
       "\n",
       "        <table>\n",
       "            <tr>\n",
       "                <td><strong>Reaction identifier</strong></td><td>GLCTR1</td>\n",
       "            </tr><tr>\n",
       "                <td><strong>Name</strong></td><td>R_GLCTR1</td>\n",
       "            </tr><tr>\n",
       "                <td><strong>Memory address</strong></td>\n",
       "                <td>0x01487aae4130</td>\n",
       "            </tr><tr>\n",
       "                <td><strong>Stoichiometry</strong></td>\n",
       "                <td>\n",
       "                    <p style='text-align:right'>galglcgnahhlipa_c + udpg_c --> h_c + icolipa_c + udp_c</p>\n",
       "                    <p style='text-align:right'>M_galglcgnahhlipa_c + UDPglucose --> H + inner-core-oligosaccharide-lipid-A + UDP</p>\n",
       "                </td>\n",
       "            </tr><tr>\n",
       "                <td><strong>GPR</strong></td><td>NGO1353</td>\n",
       "            </tr><tr>\n",
       "                <td><strong>Lower bound</strong></td><td>0.0</td>\n",
       "            </tr><tr>\n",
       "                <td><strong>Upper bound</strong></td><td>1000.0</td>\n",
       "            </tr>\n",
       "        </table>\n",
       "        "
      ],
      "text/plain": [
       "<Reaction GLCTR1 at 0x1487aae4130>"
      ]
     },
     "execution_count": 162,
     "metadata": {},
     "output_type": "execute_result"
    }
   ],
   "source": [
    "#GLCTR1\n",
    "r = model.reactions.get_by_id('GLCTR1')\n",
    "print(r.check_mass_balance())\n",
    "r"
   ]
  },
  {
   "cell_type": "code",
   "execution_count": 163,
   "id": "4dd7de8c-b2cd-40b8-82a7-6545e93ad23b",
   "metadata": {
    "scrolled": true
   },
   "outputs": [
    {
     "name": "stdout",
     "output_type": "stream",
     "text": [
      "{}\n"
     ]
    },
    {
     "data": {
      "text/html": [
       "\n",
       "        <table>\n",
       "            <tr>\n",
       "                <td><strong>Reaction identifier</strong></td><td>GNAT1</td>\n",
       "            </tr><tr>\n",
       "                <td><strong>Name</strong></td><td>R_GNAT1</td>\n",
       "            </tr><tr>\n",
       "                <td><strong>Memory address</strong></td>\n",
       "                <td>0x01487aaf58e0</td>\n",
       "            </tr><tr>\n",
       "                <td><strong>Stoichiometry</strong></td>\n",
       "                <td>\n",
       "                    <p style='text-align:right'>hhlipa_c + uacgam_c --> gnahhlipa_c + udp_c</p>\n",
       "                    <p style='text-align:right'>heptosyl-heptosyl-kdo2-lipidA + UDP-N-acetyl-D-glucosamine --> glcNAc-heptosyl-heptosyl-kdo2-lipidA + UDP</p>\n",
       "                </td>\n",
       "            </tr><tr>\n",
       "                <td><strong>GPR</strong></td><td>NGO1354</td>\n",
       "            </tr><tr>\n",
       "                <td><strong>Lower bound</strong></td><td>0.0</td>\n",
       "            </tr><tr>\n",
       "                <td><strong>Upper bound</strong></td><td>1000.0</td>\n",
       "            </tr>\n",
       "        </table>\n",
       "        "
      ],
      "text/plain": [
       "<Reaction GNAT1 at 0x1487aaf58e0>"
      ]
     },
     "execution_count": 163,
     "metadata": {},
     "output_type": "execute_result"
    }
   ],
   "source": [
    "#GNAT1\n",
    "r = model.reactions.get_by_id('GNAT1')\n",
    "print(r.check_mass_balance())\n",
    "r"
   ]
  },
  {
   "cell_type": "code",
   "execution_count": 164,
   "id": "c5c7439a-fe42-4fb2-882f-db3213403d53",
   "metadata": {
    "scrolled": true
   },
   "outputs": [
    {
     "name": "stdout",
     "output_type": "stream",
     "text": [
      "{}\n"
     ]
    },
    {
     "data": {
      "text/html": [
       "\n",
       "        <table>\n",
       "            <tr>\n",
       "                <td><strong>Reaction identifier</strong></td><td>HEPT2</td>\n",
       "            </tr><tr>\n",
       "                <td><strong>Name</strong></td><td>R_HEPT2</td>\n",
       "            </tr><tr>\n",
       "                <td><strong>Memory address</strong></td>\n",
       "                <td>0x01487aafde20</td>\n",
       "            </tr><tr>\n",
       "                <td><strong>Stoichiometry</strong></td>\n",
       "                <td>\n",
       "                    <p style='text-align:right'>adphep_LD_c + hlipa_c --> adp_c + h_c + hhlipa_c</p>\n",
       "                    <p style='text-align:right'>ADP-L-glycero-D-manno-heptose + heptosyl-kdo2-lipidA --> ADP + H + heptosyl-heptosyl-kdo2-lipidA</p>\n",
       "                </td>\n",
       "            </tr><tr>\n",
       "                <td><strong>GPR</strong></td><td>NGO0987</td>\n",
       "            </tr><tr>\n",
       "                <td><strong>Lower bound</strong></td><td>0.0</td>\n",
       "            </tr><tr>\n",
       "                <td><strong>Upper bound</strong></td><td>1000.0</td>\n",
       "            </tr>\n",
       "        </table>\n",
       "        "
      ],
      "text/plain": [
       "<Reaction HEPT2 at 0x1487aafde20>"
      ]
     },
     "execution_count": 164,
     "metadata": {},
     "output_type": "execute_result"
    }
   ],
   "source": [
    "#HEPT2\n",
    "r = model.reactions.get_by_id('HEPT2')\n",
    "print(r.check_mass_balance())\n",
    "r"
   ]
  },
  {
   "cell_type": "code",
   "execution_count": 165,
   "id": "9cca4439-7772-4185-8bf4-6fd6216910bb",
   "metadata": {
    "scrolled": true
   },
   "outputs": [
    {
     "name": "stdout",
     "output_type": "stream",
     "text": [
      "{}\n"
     ]
    },
    {
     "data": {
      "text/html": [
       "\n",
       "        <table>\n",
       "            <tr>\n",
       "                <td><strong>Reaction identifier</strong></td><td>HEPT1</td>\n",
       "            </tr><tr>\n",
       "                <td><strong>Name</strong></td><td>R_HEPT1</td>\n",
       "            </tr><tr>\n",
       "                <td><strong>Memory address</strong></td>\n",
       "                <td>0x01487aafdf10</td>\n",
       "            </tr><tr>\n",
       "                <td><strong>Stoichiometry</strong></td>\n",
       "                <td>\n",
       "                    <p style='text-align:right'>adphep_LD_c + lipa_c --> adp_c + h_c + hlipa_c</p>\n",
       "                    <p style='text-align:right'>ADP-L-glycero-D-manno-heptose + KDO-2-lipid-A --> ADP + H + heptosyl-kdo2-lipidA</p>\n",
       "                </td>\n",
       "            </tr><tr>\n",
       "                <td><strong>GPR</strong></td><td>NGO1934</td>\n",
       "            </tr><tr>\n",
       "                <td><strong>Lower bound</strong></td><td>0.0</td>\n",
       "            </tr><tr>\n",
       "                <td><strong>Upper bound</strong></td><td>1000.0</td>\n",
       "            </tr>\n",
       "        </table>\n",
       "        "
      ],
      "text/plain": [
       "<Reaction HEPT1 at 0x1487aafdf10>"
      ]
     },
     "execution_count": 165,
     "metadata": {},
     "output_type": "execute_result"
    }
   ],
   "source": [
    "#HEPT1\n",
    "r = model.reactions.get_by_id('HEPT1')\n",
    "print(r.check_mass_balance())\n",
    "r"
   ]
  },
  {
   "cell_type": "code",
   "execution_count": 166,
   "id": "26cb4b3f-cd2e-404f-a831-83a23a89372d",
   "metadata": {
    "scrolled": true
   },
   "outputs": [],
   "source": [
    "#All of LOS synthesis looks correct. Continue checking/ correcting other reactions. "
   ]
  },
  {
   "cell_type": "code",
   "execution_count": 167,
   "id": "6c5594ea-e310-4f2c-8606-c55f47120e3d",
   "metadata": {},
   "outputs": [
    {
     "data": {
      "text/plain": [
       "35.34588087861347"
      ]
     },
     "execution_count": 167,
     "metadata": {},
     "output_type": "execute_result"
    }
   ],
   "source": [
    "model.slim_optimize()"
   ]
  },
  {
   "cell_type": "code",
   "execution_count": 168,
   "id": "49ef9ec9-9cf7-4b87-b25f-957d148a0c73",
   "metadata": {
    "scrolled": true
   },
   "outputs": [
    {
     "name": "stdout",
     "output_type": "stream",
     "text": [
      "{'charge': 4.0}\n"
     ]
    },
    {
     "data": {
      "text/html": [
       "\n",
       "        <table>\n",
       "            <tr>\n",
       "                <td><strong>Reaction identifier</strong></td><td>MAc3</td>\n",
       "            </tr><tr>\n",
       "                <td><strong>Name</strong></td><td>R_MAc3</td>\n",
       "            </tr><tr>\n",
       "                <td><strong>Memory address</strong></td>\n",
       "                <td>0x01487ab14b80</td>\n",
       "            </tr><tr>\n",
       "                <td><strong>Stoichiometry</strong></td>\n",
       "                <td>\n",
       "                    <p style='text-align:right'>accoa_c + h2o_p + murein5p4p_p --> coa_c + murein5p4pOAc_p</p>\n",
       "                    <p style='text-align:right'>Acetyl-CoA + H2O + two-linked-disacharide-pentapeptide-and-tetrapeptide-murein-units-uncrosslinked-middle-of-chain --> Coenzyme-A + two-linked-disacharide-pentapeptide-and-tetrapeptide-murein-...</p>\n",
       "                </td>\n",
       "            </tr><tr>\n",
       "                <td><strong>GPR</strong></td><td>NGO0533 and NGO0534</td>\n",
       "            </tr><tr>\n",
       "                <td><strong>Lower bound</strong></td><td>0.0</td>\n",
       "            </tr><tr>\n",
       "                <td><strong>Upper bound</strong></td><td>1000.0</td>\n",
       "            </tr>\n",
       "        </table>\n",
       "        "
      ],
      "text/plain": [
       "<Reaction MAc3 at 0x1487ab14b80>"
      ]
     },
     "execution_count": 168,
     "metadata": {},
     "output_type": "execute_result"
    }
   ],
   "source": [
    "#MAc3\n",
    "r = model.reactions.get_by_id('MAc3')\n",
    "print(r.check_mass_balance())\n",
    "r"
   ]
  },
  {
   "cell_type": "code",
   "execution_count": 169,
   "id": "ae3e6e80-6e1a-41bf-a32b-ac6ca9684689",
   "metadata": {
    "scrolled": true
   },
   "outputs": [
    {
     "name": "stdout",
     "output_type": "stream",
     "text": [
      "C77H119N15O41\n",
      "C79H123N15O43\n"
     ]
    }
   ],
   "source": [
    "# Both Gc and Nm acylate their peptidoglycan. PMCID: PMC1231103\n",
    "print(model.metabolites.get_by_id('murein5p4p_p').formula)\n",
    "print(model.metabolites.get_by_id('murein5p4pOAc_p').formula)\n"
   ]
  },
  {
   "cell_type": "code",
   "execution_count": 170,
   "id": "e6244e57-c602-4859-9247-85b19c4344fd",
   "metadata": {
    "scrolled": true
   },
   "outputs": [],
   "source": [
    "#In the formula for murein5p4pOAc, the oxygen that gets added during acylation was forgotten. This is added here. \n",
    "model.metabolites.get_by_id('murein5p4pOAc_p').formula= 'C79H123N15O43'  \n",
    "model.metabolites.murein5p4pOAc_p.charge=-4"
   ]
  },
  {
   "cell_type": "code",
   "execution_count": 171,
   "id": "19f4cc71-e40d-49fe-bbd1-ef9922d0b4ea",
   "metadata": {
    "scrolled": true
   },
   "outputs": [
    {
     "name": "stdout",
     "output_type": "stream",
     "text": [
      "{}\n"
     ]
    },
    {
     "data": {
      "text/html": [
       "\n",
       "        <table>\n",
       "            <tr>\n",
       "                <td><strong>Reaction identifier</strong></td><td>MAc3</td>\n",
       "            </tr><tr>\n",
       "                <td><strong>Name</strong></td><td>R_MAc3</td>\n",
       "            </tr><tr>\n",
       "                <td><strong>Memory address</strong></td>\n",
       "                <td>0x01487ab14b80</td>\n",
       "            </tr><tr>\n",
       "                <td><strong>Stoichiometry</strong></td>\n",
       "                <td>\n",
       "                    <p style='text-align:right'>accoa_c + h2o_p + murein5p4p_p --> coa_c + murein5p4pOAc_p</p>\n",
       "                    <p style='text-align:right'>Acetyl-CoA + H2O + two-linked-disacharide-pentapeptide-and-tetrapeptide-murein-units-uncrosslinked-middle-of-chain --> Coenzyme-A + two-linked-disacharide-pentapeptide-and-tetrapeptide-murein-...</p>\n",
       "                </td>\n",
       "            </tr><tr>\n",
       "                <td><strong>GPR</strong></td><td>NGO0533 and NGO0534</td>\n",
       "            </tr><tr>\n",
       "                <td><strong>Lower bound</strong></td><td>0.0</td>\n",
       "            </tr><tr>\n",
       "                <td><strong>Upper bound</strong></td><td>1000.0</td>\n",
       "            </tr>\n",
       "        </table>\n",
       "        "
      ],
      "text/plain": [
       "<Reaction MAc3 at 0x1487ab14b80>"
      ]
     },
     "execution_count": 171,
     "metadata": {},
     "output_type": "execute_result"
    }
   ],
   "source": [
    "print(r.check_mass_balance())\n",
    "r"
   ]
  },
  {
   "cell_type": "code",
   "execution_count": 172,
   "id": "f1f338c4-9f9f-4bde-9118-54141d5efab9",
   "metadata": {},
   "outputs": [
    {
     "name": "stdout",
     "output_type": "stream",
     "text": [
      "{'charge': 7.0}\n"
     ]
    },
    {
     "data": {
      "text/html": [
       "\n",
       "        <table>\n",
       "            <tr>\n",
       "                <td><strong>Reaction identifier</strong></td><td>PHEMEFErel</td>\n",
       "            </tr><tr>\n",
       "                <td><strong>Name</strong></td><td>R_PHEMEFErel</td>\n",
       "            </tr><tr>\n",
       "                <td><strong>Memory address</strong></td>\n",
       "                <td>0x01487ab62970</td>\n",
       "            </tr><tr>\n",
       "                <td><strong>Stoichiometry</strong></td>\n",
       "                <td>\n",
       "                    <p style='text-align:right'>3.0 h_c + 6.0 nadph_c + 3.0 o2_c + pheme_c --> biliverd_c + co_c + fe2_c + 3.0 h2o_c + 6.0 nadp_c</p>\n",
       "                    <p style='text-align:right'>3.0 H + 6.0 Nicotinamide-adenine-dinucleotide-phosphate--reduced + 3.0 O2 + Protoheme --> Biliverdin + Carbon monoxide + Fe2 + 3.0 H2O + 6.0 Nicotinamide-adenine-dinucleotide-phosphate</p>\n",
       "                </td>\n",
       "            </tr><tr>\n",
       "                <td><strong>GPR</strong></td><td>NGO1318</td>\n",
       "            </tr><tr>\n",
       "                <td><strong>Lower bound</strong></td><td>0.0</td>\n",
       "            </tr><tr>\n",
       "                <td><strong>Upper bound</strong></td><td>1000.0</td>\n",
       "            </tr>\n",
       "        </table>\n",
       "        "
      ],
      "text/plain": [
       "<Reaction PHEMEFErel at 0x1487ab62970>"
      ]
     },
     "execution_count": 172,
     "metadata": {},
     "output_type": "execute_result"
    }
   ],
   "source": [
    "#PHEMEFErel\n",
    "r = model.reactions.get_by_id('PHEMEFErel')\n",
    "print(r.check_mass_balance())\n",
    "r"
   ]
  },
  {
   "cell_type": "code",
   "execution_count": 173,
   "id": "bb95135d-ad64-4050-9acb-73834f3f1ddc",
   "metadata": {},
   "outputs": [
    {
     "name": "stdout",
     "output_type": "stream",
     "text": [
      "{'charge': 7.0}\n"
     ]
    },
    {
     "data": {
      "text/html": [
       "\n",
       "        <table>\n",
       "            <tr>\n",
       "                <td><strong>Reaction identifier</strong></td><td>PHEMEFErel</td>\n",
       "            </tr><tr>\n",
       "                <td><strong>Name</strong></td><td>R_PHEMEFErel</td>\n",
       "            </tr><tr>\n",
       "                <td><strong>Memory address</strong></td>\n",
       "                <td>0x01487ab62970</td>\n",
       "            </tr><tr>\n",
       "                <td><strong>Stoichiometry</strong></td>\n",
       "                <td>\n",
       "                    <p style='text-align:right'>3.0 h_c + 6.0 nadph_c + 3.0 o2_c + pheme_c --> biliverd_c + co_c + fe2_c + 3.0 h2o_c + 6.0 nadp_c</p>\n",
       "                    <p style='text-align:right'>3.0 H + 6.0 Nicotinamide-adenine-dinucleotide-phosphate--reduced + 3.0 O2 + Protoheme --> Biliverdin + Carbon monoxide + Fe2 + 3.0 H2O + 6.0 Nicotinamide-adenine-dinucleotide-phosphate</p>\n",
       "                </td>\n",
       "            </tr><tr>\n",
       "                <td><strong>GPR</strong></td><td>NGO1318</td>\n",
       "            </tr><tr>\n",
       "                <td><strong>Lower bound</strong></td><td>0.0</td>\n",
       "            </tr><tr>\n",
       "                <td><strong>Upper bound</strong></td><td>1000.0</td>\n",
       "            </tr>\n",
       "        </table>\n",
       "        "
      ],
      "text/plain": [
       "<Reaction PHEMEFErel at 0x1487ab62970>"
      ]
     },
     "execution_count": 173,
     "metadata": {},
     "output_type": "execute_result"
    }
   ],
   "source": [
    "#Product of a simplified, 3 step reaction that requires 2 NADPHs. PMCID: PMC111422. \n",
    "#This reaction is described in kegg as requiring 3 \"electron donors\" and 3\"electron acceptors\", which is likely the cause of the error. https://www.genome.jp/entry/R11816\n",
    "\n",
    "print(r.check_mass_balance())\n",
    "r\n",
    "#Leaving charge imbalanced as its a simplified reaction"
   ]
  },
  {
   "cell_type": "code",
   "execution_count": 174,
   "id": "b4711957-de2d-4cff-9bfa-0b826d85a44b",
   "metadata": {},
   "outputs": [
    {
     "name": "stdout",
     "output_type": "stream",
     "text": [
      "{'charge': -1.0, 'C': 7.0, 'H': 9.0, 'O': 3.0}\n"
     ]
    },
    {
     "data": {
      "text/html": [
       "\n",
       "        <table>\n",
       "            <tr>\n",
       "                <td><strong>Reaction identifier</strong></td><td>PMCOAS</td>\n",
       "            </tr><tr>\n",
       "                <td><strong>Name</strong></td><td>R_PMCOAS</td>\n",
       "            </tr><tr>\n",
       "                <td><strong>Memory address</strong></td>\n",
       "                <td>0x01487ab6edf0</td>\n",
       "            </tr><tr>\n",
       "                <td><strong>Stoichiometry</strong></td>\n",
       "                <td>\n",
       "                    <p style='text-align:right'>coa_c --> pmcoa_c</p>\n",
       "                    <p style='text-align:right'>Coenzyme-A --> Pimeloyl-CoA</p>\n",
       "                </td>\n",
       "            </tr><tr>\n",
       "                <td><strong>GPR</strong></td><td>NGO1481 and NGO1725</td>\n",
       "            </tr><tr>\n",
       "                <td><strong>Lower bound</strong></td><td>0.0</td>\n",
       "            </tr><tr>\n",
       "                <td><strong>Upper bound</strong></td><td>1000.0</td>\n",
       "            </tr>\n",
       "        </table>\n",
       "        "
      ],
      "text/plain": [
       "<Reaction PMCOAS at 0x1487ab6edf0>"
      ]
     },
     "execution_count": 174,
     "metadata": {},
     "output_type": "execute_result"
    }
   ],
   "source": [
    "#PMCOAS\n",
    "r = model.reactions.get_by_id('PMCOAS')\n",
    "print(r.check_mass_balance())\n",
    "r\n",
    "#Okay to leave unbalanced. THis reaction is a simplification of a multistep ACP dependent reaction that isn't well understood. "
   ]
  },
  {
   "cell_type": "code",
   "execution_count": 175,
   "id": "c9e706fe-5b73-4022-a772-7ca3a99dd6dc",
   "metadata": {},
   "outputs": [
    {
     "name": "stdout",
     "output_type": "stream",
     "text": [
      "{'charge': 3.0}\n"
     ]
    },
    {
     "data": {
      "text/html": [
       "\n",
       "        <table>\n",
       "            <tr>\n",
       "                <td><strong>Reaction identifier</strong></td><td>TFFE</td>\n",
       "            </tr><tr>\n",
       "                <td><strong>Name</strong></td><td>R_TFFE</td>\n",
       "            </tr><tr>\n",
       "                <td><strong>Memory address</strong></td>\n",
       "                <td>0x01487abd3eb0</td>\n",
       "            </tr><tr>\n",
       "                <td><strong>Stoichiometry</strong></td>\n",
       "                <td>\n",
       "                    <p style='text-align:right'>TfFe3_e --> Tf_e + fe3_p</p>\n",
       "                    <p style='text-align:right'>Transferrin --> Transferrin residue + Fe3</p>\n",
       "                </td>\n",
       "            </tr><tr>\n",
       "                <td><strong>GPR</strong></td><td>NGO1496 and NGO1495 and NGO1379 and NGO1378 and ( Blank or NGO1377 ) and NGO0217 and NGO0216 and...</td>\n",
       "            </tr><tr>\n",
       "                <td><strong>Lower bound</strong></td><td>0.0</td>\n",
       "            </tr><tr>\n",
       "                <td><strong>Upper bound</strong></td><td>1000.0</td>\n",
       "            </tr>\n",
       "        </table>\n",
       "        "
      ],
      "text/plain": [
       "<Reaction TFFE at 0x1487abd3eb0>"
      ]
     },
     "execution_count": 175,
     "metadata": {},
     "output_type": "execute_result"
    }
   ],
   "source": [
    "#TFFE\n",
    "r = model.reactions.get_by_id('TFFE')\n",
    "print(r.check_mass_balance())\n",
    "r\n"
   ]
  },
  {
   "cell_type": "code",
   "execution_count": 176,
   "id": "2101474e-438a-45ba-8fea-b227551991f2",
   "metadata": {},
   "outputs": [
    {
     "name": "stdout",
     "output_type": "stream",
     "text": [
      "{}\n"
     ]
    },
    {
     "data": {
      "text/html": [
       "\n",
       "        <table>\n",
       "            <tr>\n",
       "                <td><strong>Reaction identifier</strong></td><td>TFFE</td>\n",
       "            </tr><tr>\n",
       "                <td><strong>Name</strong></td><td>R_TFFE</td>\n",
       "            </tr><tr>\n",
       "                <td><strong>Memory address</strong></td>\n",
       "                <td>0x01487abd3eb0</td>\n",
       "            </tr><tr>\n",
       "                <td><strong>Stoichiometry</strong></td>\n",
       "                <td>\n",
       "                    <p style='text-align:right'>TfFe3_e --> Tf_e + fe3_p</p>\n",
       "                    <p style='text-align:right'>Transferrin --> Transferrin residue + Fe3</p>\n",
       "                </td>\n",
       "            </tr><tr>\n",
       "                <td><strong>GPR</strong></td><td>NGO1496 and NGO1495 and NGO1379 and NGO1378 and ( Blank or NGO1377 ) and NGO0217 and NGO0216 and...</td>\n",
       "            </tr><tr>\n",
       "                <td><strong>Lower bound</strong></td><td>0.0</td>\n",
       "            </tr><tr>\n",
       "                <td><strong>Upper bound</strong></td><td>1000.0</td>\n",
       "            </tr>\n",
       "        </table>\n",
       "        "
      ],
      "text/plain": [
       "<Reaction TFFE at 0x1487abd3eb0>"
      ]
     },
     "execution_count": 176,
     "metadata": {},
     "output_type": "execute_result"
    }
   ],
   "source": [
    "#Although transferrin holds two irons, Gc is only capable of stripping one off at a time. So transferrin is made to produce a single iron here. \n",
    "fe3_p =model.metabolites.get_by_id('fe3_p')\n",
    "\n",
    "model.metabolites.TfFe3_e.charge=3\n",
    "\n",
    "print(r.check_mass_balance())\n",
    "r"
   ]
  },
  {
   "cell_type": "code",
   "execution_count": 177,
   "id": "96165552-fc1a-4041-bf58-1c6f482fc068",
   "metadata": {},
   "outputs": [
    {
     "name": "stderr",
     "output_type": "stream",
     "text": [
      "Ignoring reaction 'EX_trdrd_c_' since it already exists.\n"
     ]
    }
   ],
   "source": [
    "#Add thioredoxin import reaction. This is required to show \"synthesis\" of a protein based component. \n",
    "#Integration of Biomass Formulations of Genome-Scale Metabolic Models with Experimental Data Reveals Universally Essential Cofactors in Prokaryotes\n",
    "#Joana C Xavier, Kiran Raosaheb Patil, Isabel Rocha\n",
    "#PMID: 27939572 PMCID: PMC5249239\n",
    "\n",
    "trdrd_c = model.metabolites.get_by_id('trdrd_c')\n",
    "\n",
    "EX_trdrd_c_ = cobra.Reaction('EX_trdrd_c_')\n",
    "EX_trdrd_c_.gene_reaction_rule = ''\n",
    "EX_trdrd_c_.lower_bound = 0.\n",
    "EX_trdrd_c_.upper_bound = 1000.\n",
    "EX_trdrd_c_.add_metabolites({\n",
    "    trdrd_c: -1.0,\n",
    "})\n",
    "\n",
    "model.add_reactions([EX_trdrd_c_])\n"
   ]
  },
  {
   "cell_type": "code",
   "execution_count": 178,
   "id": "ac614754-e355-4c9a-9aab-d54019fb18bf",
   "metadata": {},
   "outputs": [
    {
     "name": "stdout",
     "output_type": "stream",
     "text": [
      "{}\n"
     ]
    },
    {
     "data": {
      "text/html": [
       "\n",
       "        <table>\n",
       "            <tr>\n",
       "                <td><strong>Reaction identifier</strong></td><td>TSULST</td>\n",
       "            </tr><tr>\n",
       "                <td><strong>Name</strong></td><td>R_TSULST</td>\n",
       "            </tr><tr>\n",
       "                <td><strong>Memory address</strong></td>\n",
       "                <td>0x01487abf0dc0</td>\n",
       "            </tr><tr>\n",
       "                <td><strong>Stoichiometry</strong></td>\n",
       "                <td>\n",
       "                    <p style='text-align:right'>acser_c + trdrd_c + tsul_c <=> ac_c + cys_L_c + h_c + so3_c + trdox_c</p>\n",
       "                    <p style='text-align:right'>O-Acetyl-L-serine + Reduced-thioredoxin + Thiosulfate <=> Acetate + L-Cysteine + H + Sulfite + Oxidized-thioredoxin</p>\n",
       "                </td>\n",
       "            </tr><tr>\n",
       "                <td><strong>GPR</strong></td><td>NGO0340</td>\n",
       "            </tr><tr>\n",
       "                <td><strong>Lower bound</strong></td><td>-1000.0</td>\n",
       "            </tr><tr>\n",
       "                <td><strong>Upper bound</strong></td><td>1000.0</td>\n",
       "            </tr>\n",
       "        </table>\n",
       "        "
      ],
      "text/plain": [
       "<Reaction TSULST at 0x1487abf0dc0>"
      ]
     },
     "execution_count": 178,
     "metadata": {},
     "output_type": "execute_result"
    }
   ],
   "source": [
    "#TSULST\n",
    "#synthesis of thioredoxin. Protein based component. \n",
    "r = model.reactions.get_by_id('TSULST')\n",
    "print(r.check_mass_balance())\n",
    "r\n"
   ]
  },
  {
   "cell_type": "code",
   "execution_count": 179,
   "id": "f82949ec-2440-4f0c-b711-873f030440a2",
   "metadata": {},
   "outputs": [
    {
     "name": "stdout",
     "output_type": "stream",
     "text": [
      "{'charge': 2.0, 'H': 2.0}\n"
     ]
    },
    {
     "data": {
      "text/html": [
       "\n",
       "        <table>\n",
       "            <tr>\n",
       "                <td><strong>Reaction identifier</strong></td><td>TSULST</td>\n",
       "            </tr><tr>\n",
       "                <td><strong>Name</strong></td><td>R_TSULST</td>\n",
       "            </tr><tr>\n",
       "                <td><strong>Memory address</strong></td>\n",
       "                <td>0x01487abf0dc0</td>\n",
       "            </tr><tr>\n",
       "                <td><strong>Stoichiometry</strong></td>\n",
       "                <td>\n",
       "                    <p style='text-align:right'>acser_c + trdrd_c + tsul_c <=> ac_c + cys_L_c + 3.0 h_c + so3_c + trdox_c</p>\n",
       "                    <p style='text-align:right'>O-Acetyl-L-serine + Reduced-thioredoxin + Thiosulfate <=> Acetate + L-Cysteine + 3.0 H + Sulfite + Oxidized-thioredoxin</p>\n",
       "                </td>\n",
       "            </tr><tr>\n",
       "                <td><strong>GPR</strong></td><td>NGO0340</td>\n",
       "            </tr><tr>\n",
       "                <td><strong>Lower bound</strong></td><td>-1000.0</td>\n",
       "            </tr><tr>\n",
       "                <td><strong>Upper bound</strong></td><td>1000.0</td>\n",
       "            </tr>\n",
       "        </table>\n",
       "        "
      ],
      "text/plain": [
       "<Reaction TSULST at 0x1487abf0dc0>"
      ]
     },
     "execution_count": 179,
     "metadata": {},
     "output_type": "execute_result"
    }
   ],
   "source": [
    "h_c =model.metabolites.get_by_id('h_c')\n",
    "\n",
    "r.add_metabolites({\n",
    "    h_c: 2,\n",
    "})\n",
    "\n",
    "print(r.check_mass_balance())\n",
    "r"
   ]
  },
  {
   "cell_type": "code",
   "execution_count": 180,
   "id": "bd0bad0c-3d01-4f83-ab8a-a981bea12a59",
   "metadata": {},
   "outputs": [
    {
     "name": "stdout",
     "output_type": "stream",
     "text": [
      "106 106 106\n"
     ]
    },
    {
     "data": {
      "text/html": [
       "<div>\n",
       "<style scoped>\n",
       "    .dataframe tbody tr th:only-of-type {\n",
       "        vertical-align: middle;\n",
       "    }\n",
       "\n",
       "    .dataframe tbody tr th {\n",
       "        vertical-align: top;\n",
       "    }\n",
       "\n",
       "    .dataframe thead th {\n",
       "        text-align: right;\n",
       "    }\n",
       "</style>\n",
       "<table border=\"1\" class=\"dataframe\">\n",
       "  <thead>\n",
       "    <tr style=\"text-align: right;\">\n",
       "      <th></th>\n",
       "      <th>Reactions</th>\n",
       "      <th>Charge</th>\n",
       "      <th>Masses</th>\n",
       "    </tr>\n",
       "  </thead>\n",
       "  <tbody>\n",
       "    <tr>\n",
       "      <th>0</th>\n",
       "      <td>3HAD140</td>\n",
       "      <td>-1.0</td>\n",
       "      <td>{}</td>\n",
       "    </tr>\n",
       "    <tr>\n",
       "      <th>1</th>\n",
       "      <td>3OAS161a</td>\n",
       "      <td>2.0</td>\n",
       "      <td>{'C': -12.0, 'H': -21.0, 'N': -2.0, 'O': -9.0,...</td>\n",
       "    </tr>\n",
       "    <tr>\n",
       "      <th>2</th>\n",
       "      <td>ACLS</td>\n",
       "      <td>1.0</td>\n",
       "      <td>{}</td>\n",
       "    </tr>\n",
       "    <tr>\n",
       "      <th>3</th>\n",
       "      <td>ADPT</td>\n",
       "      <td>-1.0</td>\n",
       "      <td>{}</td>\n",
       "    </tr>\n",
       "    <tr>\n",
       "      <th>4</th>\n",
       "      <td>AGPAT160a</td>\n",
       "      <td>1.0</td>\n",
       "      <td>{}</td>\n",
       "    </tr>\n",
       "    <tr>\n",
       "      <th>...</th>\n",
       "      <td>...</td>\n",
       "      <td>...</td>\n",
       "      <td>...</td>\n",
       "    </tr>\n",
       "    <tr>\n",
       "      <th>101</th>\n",
       "      <td>CPH4S</td>\n",
       "      <td>1.0</td>\n",
       "      <td>{'C': -7.0, 'H': -8.0, 'N': -5.0, 'O': -3.0}</td>\n",
       "    </tr>\n",
       "    <tr>\n",
       "      <th>102</th>\n",
       "      <td>CDGS</td>\n",
       "      <td></td>\n",
       "      <td>{'H': 3.0, 'N': 1.0}</td>\n",
       "    </tr>\n",
       "    <tr>\n",
       "      <th>103</th>\n",
       "      <td>CDGR</td>\n",
       "      <td>-1.0</td>\n",
       "      <td>{'H': -5.0}</td>\n",
       "    </tr>\n",
       "    <tr>\n",
       "      <th>104</th>\n",
       "      <td>CCGS</td>\n",
       "      <td>-1.0</td>\n",
       "      <td>{'N': -1.0, 'O': 2.0}</td>\n",
       "    </tr>\n",
       "    <tr>\n",
       "      <th>105</th>\n",
       "      <td>LDH_D2</td>\n",
       "      <td>-1.0</td>\n",
       "      <td>{}</td>\n",
       "    </tr>\n",
       "  </tbody>\n",
       "</table>\n",
       "<p>106 rows × 3 columns</p>\n",
       "</div>"
      ],
      "text/plain": [
       "     Reactions Charge                                             Masses\n",
       "0      3HAD140   -1.0                                                 {}\n",
       "1     3OAS161a    2.0  {'C': -12.0, 'H': -21.0, 'N': -2.0, 'O': -9.0,...\n",
       "2         ACLS    1.0                                                 {}\n",
       "3         ADPT   -1.0                                                 {}\n",
       "4    AGPAT160a    1.0                                                 {}\n",
       "..         ...    ...                                                ...\n",
       "101      CPH4S    1.0       {'C': -7.0, 'H': -8.0, 'N': -5.0, 'O': -3.0}\n",
       "102       CDGS                                      {'H': 3.0, 'N': 1.0}\n",
       "103       CDGR   -1.0                                        {'H': -5.0}\n",
       "104       CCGS   -1.0                              {'N': -1.0, 'O': 2.0}\n",
       "105     LDH_D2   -1.0                                                 {}\n",
       "\n",
       "[106 rows x 3 columns]"
      ]
     },
     "execution_count": 180,
     "metadata": {},
     "output_type": "execute_result"
    }
   ],
   "source": [
    "#After bulk removing cofactors, what reaction imbalances remain?\n",
    "reactions = []\n",
    "charge = []\n",
    "mass = []\n",
    "for react in model.reactions:\n",
    "    result = react.check_mass_balance()\n",
    "    if 'EX_' in  react.id:\n",
    "        continue\n",
    "    if 'Nm_' in  react.id:\n",
    "        continue\n",
    "    if 'DM_' in  react.id:\n",
    "        continue \n",
    "    if react.id in biomass_reactions:\n",
    "        continue\n",
    "    if len(result) == 0:\n",
    "        continue\n",
    "    else: \n",
    "        reactions.append(react.id)\n",
    "        masses = {}\n",
    "        for key in result.keys():\n",
    "            if key == 'charge':\n",
    "                charge.append(result['charge'])\n",
    "            else:\n",
    "                masses[key] = result[key]\n",
    "        if 'charge' not in result.keys():\n",
    "            charge.append('')\n",
    "        mass.append(masses)\n",
    "print(len(reactions), len(charge), len(mass))\n",
    "\n",
    "mass_charge_dict = {'Reactions': reactions, 'Charge': charge, 'Masses': mass}\n",
    "mass_charge = pandas.DataFrame(mass_charge_dict)\n",
    "mass_charge.to_csv('imbalancesremaining.csv')\n",
    "mass_charge"
   ]
  },
  {
   "cell_type": "markdown",
   "id": "0124cd63-232c-498d-a2d5-a5e40b55f528",
   "metadata": {},
   "source": [
    "#DDPGA\n",
    "r = model.reactions.get_by_id('DDPGA')\n",
    "print(r.check_mass_balance())\n",
    "r"
   ]
  },
  {
   "cell_type": "code",
   "execution_count": 181,
   "id": "bb0d6cfb-e5ce-4b4b-a582-2fbcc38f80b2",
   "metadata": {},
   "outputs": [
    {
     "name": "stdout",
     "output_type": "stream",
     "text": [
      "{'charge': 1.0}\n"
     ]
    },
    {
     "data": {
      "text/html": [
       "\n",
       "        <table>\n",
       "            <tr>\n",
       "                <td><strong>Reaction identifier</strong></td><td>P3H5CD</td>\n",
       "            </tr><tr>\n",
       "                <td><strong>Name</strong></td><td>R_P3H5CD</td>\n",
       "            </tr><tr>\n",
       "                <td><strong>Memory address</strong></td>\n",
       "                <td>0x01487ab47a60</td>\n",
       "            </tr><tr>\n",
       "                <td><strong>Stoichiometry</strong></td>\n",
       "                <td>\n",
       "                    <p style='text-align:right'>1p3h5c_c + 2.0 h2o_c + nadp_c <=> e4hglu_c + 2.0 h_c + nadph_c</p>\n",
       "                    <p style='text-align:right'>L-1-Pyrroline-3-hydroxy-5-carboxylate + 2.0 H2O + Nicotinamide-adenine-dinucleotide-phosphate <=> L-erythro-4-Hydroxyglutamate + 2.0 H + Nicotinamide-adenine-dinucleotide-phosphate--reduced</p>\n",
       "                </td>\n",
       "            </tr><tr>\n",
       "                <td><strong>GPR</strong></td><td>NGO08225</td>\n",
       "            </tr><tr>\n",
       "                <td><strong>Lower bound</strong></td><td>-1000.0</td>\n",
       "            </tr><tr>\n",
       "                <td><strong>Upper bound</strong></td><td>1000.0</td>\n",
       "            </tr>\n",
       "        </table>\n",
       "        "
      ],
      "text/plain": [
       "<Reaction P3H5CD at 0x1487ab47a60>"
      ]
     },
     "execution_count": 181,
     "metadata": {},
     "output_type": "execute_result"
    }
   ],
   "source": [
    "#P3H5CD\n",
    "r = model.reactions.get_by_id('P3H5CD')\n",
    "print(r.check_mass_balance())\n",
    "r"
   ]
  },
  {
   "cell_type": "code",
   "execution_count": 182,
   "id": "5b9e1bd2-8321-4237-bd24-1f83249d97db",
   "metadata": {},
   "outputs": [
    {
     "name": "stdout",
     "output_type": "stream",
     "text": [
      "{'charge': 1.0}\n"
     ]
    },
    {
     "data": {
      "text/html": [
       "\n",
       "        <table>\n",
       "            <tr>\n",
       "                <td><strong>Reaction identifier</strong></td><td>P3H5CD</td>\n",
       "            </tr><tr>\n",
       "                <td><strong>Name</strong></td><td>R_P3H5CD</td>\n",
       "            </tr><tr>\n",
       "                <td><strong>Memory address</strong></td>\n",
       "                <td>0x01487ab47a60</td>\n",
       "            </tr><tr>\n",
       "                <td><strong>Stoichiometry</strong></td>\n",
       "                <td>\n",
       "                    <p style='text-align:right'>1p3h5c_c + 2.0 h2o_c + nadp_c <=> e4hglu_c + 2.0 h_c + nadph_c</p>\n",
       "                    <p style='text-align:right'>L-1-Pyrroline-3-hydroxy-5-carboxylate + 2.0 H2O + Nicotinamide-adenine-dinucleotide-phosphate <=> L-erythro-4-Hydroxyglutamate + 2.0 H + Nicotinamide-adenine-dinucleotide-phosphate--reduced</p>\n",
       "                </td>\n",
       "            </tr><tr>\n",
       "                <td><strong>GPR</strong></td><td>NGO08225</td>\n",
       "            </tr><tr>\n",
       "                <td><strong>Lower bound</strong></td><td>-1000.0</td>\n",
       "            </tr><tr>\n",
       "                <td><strong>Upper bound</strong></td><td>1000.0</td>\n",
       "            </tr>\n",
       "        </table>\n",
       "        "
      ],
      "text/plain": [
       "<Reaction P3H5CD at 0x1487ab47a60>"
      ]
     },
     "execution_count": 182,
     "metadata": {},
     "output_type": "execute_result"
    }
   ],
   "source": [
    "#The protonation of e4hglu was changed when correcting HGTA. This results in having an extra h consumed in P3H5CD.\n",
    "#This is corrected here. \n",
    "h_c =model.metabolites.get_by_id('h_c')\n",
    "model.metabolites.get_by_id('1p3h5c_c').charge=0\n",
    "\n",
    "print(r.check_mass_balance())\n",
    "r"
   ]
  },
  {
   "cell_type": "code",
   "execution_count": 183,
   "id": "be68a2ab-9dae-4611-b684-26a8eecf6d59",
   "metadata": {},
   "outputs": [
    {
     "name": "stdout",
     "output_type": "stream",
     "text": [
      "106 106 106\n"
     ]
    },
    {
     "data": {
      "text/html": [
       "<div>\n",
       "<style scoped>\n",
       "    .dataframe tbody tr th:only-of-type {\n",
       "        vertical-align: middle;\n",
       "    }\n",
       "\n",
       "    .dataframe tbody tr th {\n",
       "        vertical-align: top;\n",
       "    }\n",
       "\n",
       "    .dataframe thead th {\n",
       "        text-align: right;\n",
       "    }\n",
       "</style>\n",
       "<table border=\"1\" class=\"dataframe\">\n",
       "  <thead>\n",
       "    <tr style=\"text-align: right;\">\n",
       "      <th></th>\n",
       "      <th>Reactions</th>\n",
       "      <th>Charge</th>\n",
       "      <th>Masses</th>\n",
       "    </tr>\n",
       "  </thead>\n",
       "  <tbody>\n",
       "    <tr>\n",
       "      <th>0</th>\n",
       "      <td>3HAD140</td>\n",
       "      <td>-1.0</td>\n",
       "      <td>{}</td>\n",
       "    </tr>\n",
       "    <tr>\n",
       "      <th>1</th>\n",
       "      <td>3OAS161a</td>\n",
       "      <td>2.0</td>\n",
       "      <td>{'C': -12.0, 'H': -21.0, 'N': -2.0, 'O': -9.0,...</td>\n",
       "    </tr>\n",
       "    <tr>\n",
       "      <th>2</th>\n",
       "      <td>ACLS</td>\n",
       "      <td>1.0</td>\n",
       "      <td>{}</td>\n",
       "    </tr>\n",
       "    <tr>\n",
       "      <th>3</th>\n",
       "      <td>ADPT</td>\n",
       "      <td>-1.0</td>\n",
       "      <td>{}</td>\n",
       "    </tr>\n",
       "    <tr>\n",
       "      <th>4</th>\n",
       "      <td>AGPAT160a</td>\n",
       "      <td>1.0</td>\n",
       "      <td>{}</td>\n",
       "    </tr>\n",
       "    <tr>\n",
       "      <th>...</th>\n",
       "      <td>...</td>\n",
       "      <td>...</td>\n",
       "      <td>...</td>\n",
       "    </tr>\n",
       "    <tr>\n",
       "      <th>101</th>\n",
       "      <td>CPH4S</td>\n",
       "      <td>1.0</td>\n",
       "      <td>{'C': -7.0, 'H': -8.0, 'N': -5.0, 'O': -3.0}</td>\n",
       "    </tr>\n",
       "    <tr>\n",
       "      <th>102</th>\n",
       "      <td>CDGS</td>\n",
       "      <td></td>\n",
       "      <td>{'H': 3.0, 'N': 1.0}</td>\n",
       "    </tr>\n",
       "    <tr>\n",
       "      <th>103</th>\n",
       "      <td>CDGR</td>\n",
       "      <td>-1.0</td>\n",
       "      <td>{'H': -5.0}</td>\n",
       "    </tr>\n",
       "    <tr>\n",
       "      <th>104</th>\n",
       "      <td>CCGS</td>\n",
       "      <td>-1.0</td>\n",
       "      <td>{'N': -1.0, 'O': 2.0}</td>\n",
       "    </tr>\n",
       "    <tr>\n",
       "      <th>105</th>\n",
       "      <td>LDH_D2</td>\n",
       "      <td>-1.0</td>\n",
       "      <td>{}</td>\n",
       "    </tr>\n",
       "  </tbody>\n",
       "</table>\n",
       "<p>106 rows × 3 columns</p>\n",
       "</div>"
      ],
      "text/plain": [
       "     Reactions Charge                                             Masses\n",
       "0      3HAD140   -1.0                                                 {}\n",
       "1     3OAS161a    2.0  {'C': -12.0, 'H': -21.0, 'N': -2.0, 'O': -9.0,...\n",
       "2         ACLS    1.0                                                 {}\n",
       "3         ADPT   -1.0                                                 {}\n",
       "4    AGPAT160a    1.0                                                 {}\n",
       "..         ...    ...                                                ...\n",
       "101      CPH4S    1.0       {'C': -7.0, 'H': -8.0, 'N': -5.0, 'O': -3.0}\n",
       "102       CDGS                                      {'H': 3.0, 'N': 1.0}\n",
       "103       CDGR   -1.0                                        {'H': -5.0}\n",
       "104       CCGS   -1.0                              {'N': -1.0, 'O': 2.0}\n",
       "105     LDH_D2   -1.0                                                 {}\n",
       "\n",
       "[106 rows x 3 columns]"
      ]
     },
     "execution_count": 183,
     "metadata": {},
     "output_type": "execute_result"
    }
   ],
   "source": [
    "#After bulk removing cofactors, what reaction imbalances remain?\n",
    "reactions = []\n",
    "charge = []\n",
    "mass = []\n",
    "for react in model.reactions:\n",
    "    result = react.check_mass_balance()\n",
    "    if 'EX_' in  react.id:\n",
    "        continue\n",
    "    if 'Nm_' in  react.id:\n",
    "        continue\n",
    "    if 'DM_' in  react.id:\n",
    "        continue \n",
    "    if react.id in biomass_reactions:\n",
    "        continue\n",
    "    if len(result) == 0:\n",
    "        continue\n",
    "    else: \n",
    "        reactions.append(react.id)\n",
    "        masses = {}\n",
    "        for key in result.keys():\n",
    "            if key == 'charge':\n",
    "                charge.append(result['charge'])\n",
    "            else:\n",
    "                masses[key] = result[key]\n",
    "        if 'charge' not in result.keys():\n",
    "            charge.append('')\n",
    "        mass.append(masses)\n",
    "print(len(reactions), len(charge), len(mass))\n",
    "\n",
    "mass_charge_dict = {'Reactions': reactions, 'Charge': charge, 'Masses': mass}\n",
    "mass_charge = pandas.DataFrame(mass_charge_dict)\n",
    "mass_charge.to_csv('imbalancesremaining.csv')\n",
    "mass_charge"
   ]
  },
  {
   "cell_type": "code",
   "execution_count": 184,
   "id": "928a6820-5415-4e90-b1b7-466e6af4f1c6",
   "metadata": {},
   "outputs": [
    {
     "name": "stdout",
     "output_type": "stream",
     "text": [
      "{'charge': 1.0}\n",
      "{}\n"
     ]
    },
    {
     "data": {
      "text/html": [
       "\n",
       "        <table>\n",
       "            <tr>\n",
       "                <td><strong>Reaction identifier</strong></td><td>AGPAT160a</td>\n",
       "            </tr><tr>\n",
       "                <td><strong>Name</strong></td><td>R_AGPAT160a</td>\n",
       "            </tr><tr>\n",
       "                <td><strong>Memory address</strong></td>\n",
       "                <td>0x014878d37b80</td>\n",
       "            </tr><tr>\n",
       "                <td><strong>Stoichiometry</strong></td>\n",
       "                <td>\n",
       "                    <p style='text-align:right'>1hdecg3p_c + ddcaACP_c --> ACP_c + pa160a_c</p>\n",
       "                    <p style='text-align:right'>1-hexadecanoyl-sn-glycerol-3-phosphate + Dodecanoyl-ACP-n-C120ACP --> acyl-carrier-protein + 1-hexadecanoyl-2-dodecanoyl-sn-glycerol-3-phosphate</p>\n",
       "                </td>\n",
       "            </tr><tr>\n",
       "                <td><strong>GPR</strong></td><td>NGO2069 or NGO0611</td>\n",
       "            </tr><tr>\n",
       "                <td><strong>Lower bound</strong></td><td>0.0</td>\n",
       "            </tr><tr>\n",
       "                <td><strong>Upper bound</strong></td><td>1000.0</td>\n",
       "            </tr>\n",
       "        </table>\n",
       "        "
      ],
      "text/plain": [
       "<Reaction AGPAT160a at 0x14878d37b80>"
      ]
     },
     "execution_count": 184,
     "metadata": {},
     "output_type": "execute_result"
    }
   ],
   "source": [
    "r=model.reactions.AGPAT160a\n",
    "print(r.check_mass_balance())\n",
    "model.metabolites.get_by_id('pa160a_c').charge=-2\n",
    "print(r.check_mass_balance())\n",
    "r"
   ]
  },
  {
   "cell_type": "code",
   "execution_count": 185,
   "id": "64fb9a8e-f10b-4b47-8866-424052bb8303",
   "metadata": {},
   "outputs": [],
   "source": [
    "model.metabolites.get_by_id('pa161_c').charge=-2\n",
    "model.metabolites.get_by_id('pa181_c').charge=-2"
   ]
  },
  {
   "cell_type": "code",
   "execution_count": 186,
   "id": "047fbeb7-c283-4508-aaac-31d36327a14d",
   "metadata": {},
   "outputs": [
    {
     "name": "stdout",
     "output_type": "stream",
     "text": [
      "106 106 106\n"
     ]
    },
    {
     "data": {
      "text/html": [
       "<div>\n",
       "<style scoped>\n",
       "    .dataframe tbody tr th:only-of-type {\n",
       "        vertical-align: middle;\n",
       "    }\n",
       "\n",
       "    .dataframe tbody tr th {\n",
       "        vertical-align: top;\n",
       "    }\n",
       "\n",
       "    .dataframe thead th {\n",
       "        text-align: right;\n",
       "    }\n",
       "</style>\n",
       "<table border=\"1\" class=\"dataframe\">\n",
       "  <thead>\n",
       "    <tr style=\"text-align: right;\">\n",
       "      <th></th>\n",
       "      <th>Reactions</th>\n",
       "      <th>Charge</th>\n",
       "      <th>Masses</th>\n",
       "    </tr>\n",
       "  </thead>\n",
       "  <tbody>\n",
       "    <tr>\n",
       "      <th>0</th>\n",
       "      <td>3HAD140</td>\n",
       "      <td>-1.0</td>\n",
       "      <td>{}</td>\n",
       "    </tr>\n",
       "    <tr>\n",
       "      <th>1</th>\n",
       "      <td>3OAS161a</td>\n",
       "      <td>2.0</td>\n",
       "      <td>{'C': -12.0, 'H': -21.0, 'N': -2.0, 'O': -9.0,...</td>\n",
       "    </tr>\n",
       "    <tr>\n",
       "      <th>2</th>\n",
       "      <td>ACLS</td>\n",
       "      <td>1.0</td>\n",
       "      <td>{}</td>\n",
       "    </tr>\n",
       "    <tr>\n",
       "      <th>3</th>\n",
       "      <td>ADPT</td>\n",
       "      <td>-1.0</td>\n",
       "      <td>{}</td>\n",
       "    </tr>\n",
       "    <tr>\n",
       "      <th>4</th>\n",
       "      <td>AGPAT161a</td>\n",
       "      <td>-2.0</td>\n",
       "      <td>{}</td>\n",
       "    </tr>\n",
       "    <tr>\n",
       "      <th>...</th>\n",
       "      <td>...</td>\n",
       "      <td>...</td>\n",
       "      <td>...</td>\n",
       "    </tr>\n",
       "    <tr>\n",
       "      <th>101</th>\n",
       "      <td>CPH4S</td>\n",
       "      <td>1.0</td>\n",
       "      <td>{'C': -7.0, 'H': -8.0, 'N': -5.0, 'O': -3.0}</td>\n",
       "    </tr>\n",
       "    <tr>\n",
       "      <th>102</th>\n",
       "      <td>CDGS</td>\n",
       "      <td></td>\n",
       "      <td>{'H': 3.0, 'N': 1.0}</td>\n",
       "    </tr>\n",
       "    <tr>\n",
       "      <th>103</th>\n",
       "      <td>CDGR</td>\n",
       "      <td>-1.0</td>\n",
       "      <td>{'H': -5.0}</td>\n",
       "    </tr>\n",
       "    <tr>\n",
       "      <th>104</th>\n",
       "      <td>CCGS</td>\n",
       "      <td>-1.0</td>\n",
       "      <td>{'N': -1.0, 'O': 2.0}</td>\n",
       "    </tr>\n",
       "    <tr>\n",
       "      <th>105</th>\n",
       "      <td>LDH_D2</td>\n",
       "      <td>-1.0</td>\n",
       "      <td>{}</td>\n",
       "    </tr>\n",
       "  </tbody>\n",
       "</table>\n",
       "<p>106 rows × 3 columns</p>\n",
       "</div>"
      ],
      "text/plain": [
       "     Reactions Charge                                             Masses\n",
       "0      3HAD140   -1.0                                                 {}\n",
       "1     3OAS161a    2.0  {'C': -12.0, 'H': -21.0, 'N': -2.0, 'O': -9.0,...\n",
       "2         ACLS    1.0                                                 {}\n",
       "3         ADPT   -1.0                                                 {}\n",
       "4    AGPAT161a   -2.0                                                 {}\n",
       "..         ...    ...                                                ...\n",
       "101      CPH4S    1.0       {'C': -7.0, 'H': -8.0, 'N': -5.0, 'O': -3.0}\n",
       "102       CDGS                                      {'H': 3.0, 'N': 1.0}\n",
       "103       CDGR   -1.0                                        {'H': -5.0}\n",
       "104       CCGS   -1.0                              {'N': -1.0, 'O': 2.0}\n",
       "105     LDH_D2   -1.0                                                 {}\n",
       "\n",
       "[106 rows x 3 columns]"
      ]
     },
     "execution_count": 186,
     "metadata": {},
     "output_type": "execute_result"
    }
   ],
   "source": [
    "#After bulk removing cofactors, what reaction imbalances remain?\n",
    "reactions = []\n",
    "charge = []\n",
    "mass = []\n",
    "for react in model.reactions:\n",
    "    result = react.check_mass_balance()\n",
    "    if 'EX_' in  react.id:\n",
    "        continue\n",
    "    if 'Nm_' in  react.id:\n",
    "        continue\n",
    "    if 'DM_' in  react.id:\n",
    "        continue \n",
    "    if react.id in biomass_reactions:\n",
    "        continue\n",
    "    if len(result) == 0:\n",
    "        continue\n",
    "    else: \n",
    "        reactions.append(react.id)\n",
    "        masses = {}\n",
    "        for key in result.keys():\n",
    "            if key == 'charge':\n",
    "                charge.append(result['charge'])\n",
    "            else:\n",
    "                masses[key] = result[key]\n",
    "        if 'charge' not in result.keys():\n",
    "            charge.append('')\n",
    "        mass.append(masses)\n",
    "print(len(reactions), len(charge), len(mass))\n",
    "\n",
    "mass_charge_dict = {'Reactions': reactions, 'Charge': charge, 'Masses': mass}\n",
    "mass_charge = pandas.DataFrame(mass_charge_dict)\n",
    "mass_charge.to_csv('imbalancesremaining.csv')\n",
    "mass_charge"
   ]
  },
  {
   "cell_type": "code",
   "execution_count": 187,
   "id": "91732070-4198-4983-b77c-eeba0f033710",
   "metadata": {},
   "outputs": [
    {
     "name": "stdout",
     "output_type": "stream",
     "text": [
      "{}\n"
     ]
    },
    {
     "data": {
      "text/html": [
       "\n",
       "        <table>\n",
       "            <tr>\n",
       "                <td><strong>Reaction identifier</strong></td><td>ACLS</td>\n",
       "            </tr><tr>\n",
       "                <td><strong>Name</strong></td><td>R_ACLS</td>\n",
       "            </tr><tr>\n",
       "                <td><strong>Memory address</strong></td>\n",
       "                <td>0x014878d1ff10</td>\n",
       "            </tr><tr>\n",
       "                <td><strong>Stoichiometry</strong></td>\n",
       "                <td>\n",
       "                    <p style='text-align:right'>h_c + 2.0 pyr_c --> alac_S_c + co2_c</p>\n",
       "                    <p style='text-align:right'>H + 2.0 Pyruvate --> S-2-Acetolactate + CO2</p>\n",
       "                </td>\n",
       "            </tr><tr>\n",
       "                <td><strong>GPR</strong></td><td>NGO1236 and ( Blank or NGO1235 )</td>\n",
       "            </tr><tr>\n",
       "                <td><strong>Lower bound</strong></td><td>0.0</td>\n",
       "            </tr><tr>\n",
       "                <td><strong>Upper bound</strong></td><td>1000.0</td>\n",
       "            </tr>\n",
       "        </table>\n",
       "        "
      ],
      "text/plain": [
       "<Reaction ACLS at 0x14878d1ff10>"
      ]
     },
     "execution_count": 187,
     "metadata": {},
     "output_type": "execute_result"
    }
   ],
   "source": [
    "r=model.reactions.ACLS\n",
    "model.metabolites.alac_S_c.charge=-1\n",
    "print(r.check_mass_balance())\n",
    "r"
   ]
  },
  {
   "cell_type": "code",
   "execution_count": 188,
   "id": "31bce829-e379-40db-9438-8462ddddb4f6",
   "metadata": {},
   "outputs": [
    {
     "name": "stdout",
     "output_type": "stream",
     "text": [
      "{'charge': -1.0, 'H': -1.0}\n"
     ]
    },
    {
     "data": {
      "text/html": [
       "\n",
       "        <table>\n",
       "            <tr>\n",
       "                <td><strong>Reaction identifier</strong></td><td>ADPT</td>\n",
       "            </tr><tr>\n",
       "                <td><strong>Name</strong></td><td>R_ADPT</td>\n",
       "            </tr><tr>\n",
       "                <td><strong>Memory address</strong></td>\n",
       "                <td>0x014878cf3700</td>\n",
       "            </tr><tr>\n",
       "                <td><strong>Stoichiometry</strong></td>\n",
       "                <td>\n",
       "                    <p style='text-align:right'>ade_c + prpp_c <=> amp_c + ppi_c</p>\n",
       "                    <p style='text-align:right'>Adenine + 5-Phospho-alpha-D-ribose-1-diphosphate <=> AMP + Diphosphate</p>\n",
       "                </td>\n",
       "            </tr><tr>\n",
       "                <td><strong>GPR</strong></td><td>NGO1311</td>\n",
       "            </tr><tr>\n",
       "                <td><strong>Lower bound</strong></td><td>-1000.0</td>\n",
       "            </tr><tr>\n",
       "                <td><strong>Upper bound</strong></td><td>1000.0</td>\n",
       "            </tr>\n",
       "        </table>\n",
       "        "
      ],
      "text/plain": [
       "<Reaction ADPT at 0x14878cf3700>"
      ]
     },
     "execution_count": 188,
     "metadata": {},
     "output_type": "execute_result"
    }
   ],
   "source": [
    "r=model.reactions.ADPT\n",
    "r.add_metabolites({\n",
    "    h_c: 1.0,\n",
    "})\n",
    "model.metabolites.prpp_c.formula='C5H9O14P3'\n",
    "print(r.check_mass_balance())\n",
    "r"
   ]
  },
  {
   "cell_type": "code",
   "execution_count": 189,
   "id": "1450cf2e-d2eb-4e71-99d2-6fb14c014af3",
   "metadata": {},
   "outputs": [
    {
     "name": "stdout",
     "output_type": "stream",
     "text": [
      "{}\n"
     ]
    },
    {
     "data": {
      "text/html": [
       "\n",
       "        <table>\n",
       "            <tr>\n",
       "                <td><strong>Reaction identifier</strong></td><td>AMPTASEAGl</td>\n",
       "            </tr><tr>\n",
       "                <td><strong>Name</strong></td><td>R_AMPTASEAGl</td>\n",
       "            </tr><tr>\n",
       "                <td><strong>Memory address</strong></td>\n",
       "                <td>0x014878d5ef70</td>\n",
       "            </tr><tr>\n",
       "                <td><strong>Stoichiometry</strong></td>\n",
       "                <td>\n",
       "                    <p style='text-align:right'>LalaDglu_c + h2o_c --> ala_L_c + glu_D_c</p>\n",
       "                    <p style='text-align:right'>L-alanine-D-glutamate + H2O --> L-Alanine + D-Glutamate</p>\n",
       "                </td>\n",
       "            </tr><tr>\n",
       "                <td><strong>GPR</strong></td><td>NGO0158</td>\n",
       "            </tr><tr>\n",
       "                <td><strong>Lower bound</strong></td><td>0.0</td>\n",
       "            </tr><tr>\n",
       "                <td><strong>Upper bound</strong></td><td>1000.0</td>\n",
       "            </tr>\n",
       "        </table>\n",
       "        "
      ],
      "text/plain": [
       "<Reaction AMPTASEAGl at 0x14878d5ef70>"
      ]
     },
     "execution_count": 189,
     "metadata": {},
     "output_type": "execute_result"
    }
   ],
   "source": [
    "r=model.reactions.AMPTASEAGl\n",
    "model.metabolites.glu_D_c.charge=-1\n",
    "print(r.check_mass_balance())\n",
    "r"
   ]
  },
  {
   "cell_type": "code",
   "execution_count": 190,
   "id": "e0046b47-3de1-4a4d-8481-ab7c0814ba80",
   "metadata": {},
   "outputs": [
    {
     "name": "stdout",
     "output_type": "stream",
     "text": [
      "{}\n"
     ]
    },
    {
     "data": {
      "text/html": [
       "\n",
       "        <table>\n",
       "            <tr>\n",
       "                <td><strong>Reaction identifier</strong></td><td>ANPRT</td>\n",
       "            </tr><tr>\n",
       "                <td><strong>Name</strong></td><td>R_ANPRT</td>\n",
       "            </tr><tr>\n",
       "                <td><strong>Memory address</strong></td>\n",
       "                <td>0x014878d5cdf0</td>\n",
       "            </tr><tr>\n",
       "                <td><strong>Stoichiometry</strong></td>\n",
       "                <td>\n",
       "                    <p style='text-align:right'>anth_c + prpp_c --> h_c + ppi_c + pran_c</p>\n",
       "                    <p style='text-align:right'>Anthranilate + 5-Phospho-alpha-D-ribose-1-diphosphate --> H + Diphosphate + N-5-Phospho-D-ribosyl-anthranilate</p>\n",
       "                </td>\n",
       "            </tr><tr>\n",
       "                <td><strong>GPR</strong></td><td>NGO1203</td>\n",
       "            </tr><tr>\n",
       "                <td><strong>Lower bound</strong></td><td>0.0</td>\n",
       "            </tr><tr>\n",
       "                <td><strong>Upper bound</strong></td><td>1000.0</td>\n",
       "            </tr>\n",
       "        </table>\n",
       "        "
      ],
      "text/plain": [
       "<Reaction ANPRT at 0x14878d5cdf0>"
      ]
     },
     "execution_count": 190,
     "metadata": {},
     "output_type": "execute_result"
    }
   ],
   "source": [
    "r=model.reactions.ANPRT\n",
    "r.add_metabolites({\n",
    "    h_c: 1.0,\n",
    "})\n",
    "print(r.check_mass_balance())\n",
    "r"
   ]
  },
  {
   "cell_type": "code",
   "execution_count": 191,
   "id": "4c449e29-861d-43df-bf8c-9749dccf2b99",
   "metadata": {},
   "outputs": [
    {
     "name": "stdout",
     "output_type": "stream",
     "text": [
      "{}\n"
     ]
    },
    {
     "data": {
      "text/html": [
       "\n",
       "        <table>\n",
       "            <tr>\n",
       "                <td><strong>Reaction identifier</strong></td><td>ARGDC</td>\n",
       "            </tr><tr>\n",
       "                <td><strong>Name</strong></td><td>R_ARGDC</td>\n",
       "            </tr><tr>\n",
       "                <td><strong>Memory address</strong></td>\n",
       "                <td>0x014878d3e940</td>\n",
       "            </tr><tr>\n",
       "                <td><strong>Stoichiometry</strong></td>\n",
       "                <td>\n",
       "                    <p style='text-align:right'>arg_L_c + h_c --> agm_c + co2_c</p>\n",
       "                    <p style='text-align:right'>L-Arginine + H --> Agmatine + CO2</p>\n",
       "                </td>\n",
       "            </tr><tr>\n",
       "                <td><strong>GPR</strong></td><td>NGO1487</td>\n",
       "            </tr><tr>\n",
       "                <td><strong>Lower bound</strong></td><td>0.0</td>\n",
       "            </tr><tr>\n",
       "                <td><strong>Upper bound</strong></td><td>1000.0</td>\n",
       "            </tr>\n",
       "        </table>\n",
       "        "
      ],
      "text/plain": [
       "<Reaction ARGDC at 0x14878d3e940>"
      ]
     },
     "execution_count": 191,
     "metadata": {},
     "output_type": "execute_result"
    }
   ],
   "source": [
    "r=model.reactions.ARGDC\n",
    "model.metabolites.arg_L_c.charge=1\n",
    "model.metabolites.arg_L_p.charge=1\n",
    "model.metabolites.arg_L_e.charge=1\n",
    "print(r.check_mass_balance())\n",
    "r"
   ]
  },
  {
   "cell_type": "code",
   "execution_count": 192,
   "id": "3cc13e83-a96f-4b08-be2d-d36629cbb130",
   "metadata": {},
   "outputs": [
    {
     "name": "stdout",
     "output_type": "stream",
     "text": [
      "{}\n"
     ]
    },
    {
     "data": {
      "text/html": [
       "\n",
       "        <table>\n",
       "            <tr>\n",
       "                <td><strong>Reaction identifier</strong></td><td>ASPtex</td>\n",
       "            </tr><tr>\n",
       "                <td><strong>Name</strong></td><td>R_ASPtex</td>\n",
       "            </tr><tr>\n",
       "                <td><strong>Memory address</strong></td>\n",
       "                <td>0x014878cd0e80</td>\n",
       "            </tr><tr>\n",
       "                <td><strong>Stoichiometry</strong></td>\n",
       "                <td>\n",
       "                    <p style='text-align:right'>asp_L_e <=> asp_L_p</p>\n",
       "                    <p style='text-align:right'>L-Aspartate <=> L-Aspartate</p>\n",
       "                </td>\n",
       "            </tr><tr>\n",
       "                <td><strong>GPR</strong></td><td>NGO1812</td>\n",
       "            </tr><tr>\n",
       "                <td><strong>Lower bound</strong></td><td>-1000.0</td>\n",
       "            </tr><tr>\n",
       "                <td><strong>Upper bound</strong></td><td>1000.0</td>\n",
       "            </tr>\n",
       "        </table>\n",
       "        "
      ],
      "text/plain": [
       "<Reaction ASPtex at 0x14878cd0e80>"
      ]
     },
     "execution_count": 192,
     "metadata": {},
     "output_type": "execute_result"
    }
   ],
   "source": [
    "r=model.reactions.ASPtex\n",
    "model.metabolites.asp_L_c.charge=-1\n",
    "model.metabolites.asp_L_p.charge=-1\n",
    "model.metabolites.asp_L_e.charge=-1\n",
    "model.metabolites.glu_L_c.charge=-1\n",
    "model.metabolites.glu_L_p.charge=-1\n",
    "model.metabolites.glu_L_e.charge=-1\n",
    "print(r.check_mass_balance())\n",
    "r"
   ]
  },
  {
   "cell_type": "code",
   "execution_count": 193,
   "id": "ab1a2b33-7cb3-40b6-b46b-5864a02eada2",
   "metadata": {},
   "outputs": [
    {
     "name": "stdout",
     "output_type": "stream",
     "text": [
      "91 91 91\n"
     ]
    },
    {
     "data": {
      "text/html": [
       "<div>\n",
       "<style scoped>\n",
       "    .dataframe tbody tr th:only-of-type {\n",
       "        vertical-align: middle;\n",
       "    }\n",
       "\n",
       "    .dataframe tbody tr th {\n",
       "        vertical-align: top;\n",
       "    }\n",
       "\n",
       "    .dataframe thead th {\n",
       "        text-align: right;\n",
       "    }\n",
       "</style>\n",
       "<table border=\"1\" class=\"dataframe\">\n",
       "  <thead>\n",
       "    <tr style=\"text-align: right;\">\n",
       "      <th></th>\n",
       "      <th>Reactions</th>\n",
       "      <th>Charge</th>\n",
       "      <th>Masses</th>\n",
       "    </tr>\n",
       "  </thead>\n",
       "  <tbody>\n",
       "    <tr>\n",
       "      <th>0</th>\n",
       "      <td>3HAD140</td>\n",
       "      <td>-1.0</td>\n",
       "      <td>{}</td>\n",
       "    </tr>\n",
       "    <tr>\n",
       "      <th>1</th>\n",
       "      <td>3OAS161a</td>\n",
       "      <td>2.0</td>\n",
       "      <td>{'C': -12.0, 'H': -21.0, 'N': -2.0, 'O': -9.0,...</td>\n",
       "    </tr>\n",
       "    <tr>\n",
       "      <th>2</th>\n",
       "      <td>ADPT</td>\n",
       "      <td>-1.0</td>\n",
       "      <td>{'H': -1.0}</td>\n",
       "    </tr>\n",
       "    <tr>\n",
       "      <th>3</th>\n",
       "      <td>AGPAT161a</td>\n",
       "      <td>-2.0</td>\n",
       "      <td>{}</td>\n",
       "    </tr>\n",
       "    <tr>\n",
       "      <th>4</th>\n",
       "      <td>AGPAT181</td>\n",
       "      <td>-2.0</td>\n",
       "      <td>{}</td>\n",
       "    </tr>\n",
       "    <tr>\n",
       "      <th>...</th>\n",
       "      <td>...</td>\n",
       "      <td>...</td>\n",
       "      <td>...</td>\n",
       "    </tr>\n",
       "    <tr>\n",
       "      <th>86</th>\n",
       "      <td>CPH4S</td>\n",
       "      <td>1.0</td>\n",
       "      <td>{'C': -7.0, 'H': -8.0, 'N': -5.0, 'O': -3.0}</td>\n",
       "    </tr>\n",
       "    <tr>\n",
       "      <th>87</th>\n",
       "      <td>CDGS</td>\n",
       "      <td></td>\n",
       "      <td>{'H': 3.0, 'N': 1.0}</td>\n",
       "    </tr>\n",
       "    <tr>\n",
       "      <th>88</th>\n",
       "      <td>CDGR</td>\n",
       "      <td>-1.0</td>\n",
       "      <td>{'H': -5.0}</td>\n",
       "    </tr>\n",
       "    <tr>\n",
       "      <th>89</th>\n",
       "      <td>CCGS</td>\n",
       "      <td>-1.0</td>\n",
       "      <td>{'N': -1.0, 'O': 2.0}</td>\n",
       "    </tr>\n",
       "    <tr>\n",
       "      <th>90</th>\n",
       "      <td>LDH_D2</td>\n",
       "      <td>-1.0</td>\n",
       "      <td>{}</td>\n",
       "    </tr>\n",
       "  </tbody>\n",
       "</table>\n",
       "<p>91 rows × 3 columns</p>\n",
       "</div>"
      ],
      "text/plain": [
       "    Reactions Charge                                             Masses\n",
       "0     3HAD140   -1.0                                                 {}\n",
       "1    3OAS161a    2.0  {'C': -12.0, 'H': -21.0, 'N': -2.0, 'O': -9.0,...\n",
       "2        ADPT   -1.0                                        {'H': -1.0}\n",
       "3   AGPAT161a   -2.0                                                 {}\n",
       "4    AGPAT181   -2.0                                                 {}\n",
       "..        ...    ...                                                ...\n",
       "86      CPH4S    1.0       {'C': -7.0, 'H': -8.0, 'N': -5.0, 'O': -3.0}\n",
       "87       CDGS                                      {'H': 3.0, 'N': 1.0}\n",
       "88       CDGR   -1.0                                        {'H': -5.0}\n",
       "89       CCGS   -1.0                              {'N': -1.0, 'O': 2.0}\n",
       "90     LDH_D2   -1.0                                                 {}\n",
       "\n",
       "[91 rows x 3 columns]"
      ]
     },
     "execution_count": 193,
     "metadata": {},
     "output_type": "execute_result"
    }
   ],
   "source": [
    "#After bulk removing cofactors, what reaction imbalances remain?\n",
    "reactions = []\n",
    "charge = []\n",
    "mass = []\n",
    "for react in model.reactions:\n",
    "    result = react.check_mass_balance()\n",
    "    if 'EX_' in  react.id:\n",
    "        continue\n",
    "    if 'Nm_' in  react.id:\n",
    "        continue\n",
    "    if 'DM_' in  react.id:\n",
    "        continue \n",
    "    if react.id in biomass_reactions:\n",
    "        continue\n",
    "    if len(result) == 0:\n",
    "        continue\n",
    "    else: \n",
    "        reactions.append(react.id)\n",
    "        masses = {}\n",
    "        for key in result.keys():\n",
    "            if key == 'charge':\n",
    "                charge.append(result['charge'])\n",
    "            else:\n",
    "                masses[key] = result[key]\n",
    "        if 'charge' not in result.keys():\n",
    "            charge.append('')\n",
    "        mass.append(masses)\n",
    "print(len(reactions), len(charge), len(mass))\n",
    "\n",
    "mass_charge_dict = {'Reactions': reactions, 'Charge': charge, 'Masses': mass}\n",
    "mass_charge = pandas.DataFrame(mass_charge_dict)\n",
    "mass_charge.to_csv('imbalancesremaining.csv')\n",
    "mass_charge"
   ]
  },
  {
   "cell_type": "code",
   "execution_count": 194,
   "id": "1b53e822-b38c-4c0c-b0af-4a575bea80f5",
   "metadata": {},
   "outputs": [
    {
     "name": "stdout",
     "output_type": "stream",
     "text": [
      "{}\n"
     ]
    },
    {
     "data": {
      "text/html": [
       "\n",
       "        <table>\n",
       "            <tr>\n",
       "                <td><strong>Reaction identifier</strong></td><td>ARGt1pp</td>\n",
       "            </tr><tr>\n",
       "                <td><strong>Name</strong></td><td>R_ARGt1pp</td>\n",
       "            </tr><tr>\n",
       "                <td><strong>Memory address</strong></td>\n",
       "                <td>0x014878d62eb0</td>\n",
       "            </tr><tr>\n",
       "                <td><strong>Stoichiometry</strong></td>\n",
       "                <td>\n",
       "                    <p style='text-align:right'>arg_L_p + h_p --> arg_L_c + h_c</p>\n",
       "                    <p style='text-align:right'>L-Arginine + H --> L-Arginine + H</p>\n",
       "                </td>\n",
       "            </tr><tr>\n",
       "                <td><strong>GPR</strong></td><td>NGO1290 or NGO1787</td>\n",
       "            </tr><tr>\n",
       "                <td><strong>Lower bound</strong></td><td>0.0</td>\n",
       "            </tr><tr>\n",
       "                <td><strong>Upper bound</strong></td><td>1000.0</td>\n",
       "            </tr>\n",
       "        </table>\n",
       "        "
      ],
      "text/plain": [
       "<Reaction ARGt1pp at 0x14878d62eb0>"
      ]
     },
     "execution_count": 194,
     "metadata": {},
     "output_type": "execute_result"
    }
   ],
   "source": [
    "r=model.reactions.get_by_id('ARGt1pp')\n",
    "model.metabolites.arg_L_p.charge=1\n",
    "print(r.check_mass_balance())\n",
    "r"
   ]
  },
  {
   "cell_type": "code",
   "execution_count": 195,
   "id": "7e202067-0891-402c-91ca-2d7c142885e3",
   "metadata": {},
   "outputs": [
    {
     "name": "stdout",
     "output_type": "stream",
     "text": [
      "{}\n"
     ]
    },
    {
     "data": {
      "text/html": [
       "\n",
       "        <table>\n",
       "            <tr>\n",
       "                <td><strong>Reaction identifier</strong></td><td>CTPS2</td>\n",
       "            </tr><tr>\n",
       "                <td><strong>Name</strong></td><td>R_CTPS2</td>\n",
       "            </tr><tr>\n",
       "                <td><strong>Memory address</strong></td>\n",
       "                <td>0x014878cea880</td>\n",
       "            </tr><tr>\n",
       "                <td><strong>Stoichiometry</strong></td>\n",
       "                <td>\n",
       "                    <p style='text-align:right'>atp_c + gln_L_c + h2o_c + utp_c --> adp_c + ctp_c + glu_L_c + 2.0 h_c + pi_c</p>\n",
       "                    <p style='text-align:right'>ATP + L-Glutamine + H2O + UTP --> ADP + CTP + L-Glutamate + 2.0 H + Phosphate</p>\n",
       "                </td>\n",
       "            </tr><tr>\n",
       "                <td><strong>GPR</strong></td><td>NGO1212</td>\n",
       "            </tr><tr>\n",
       "                <td><strong>Lower bound</strong></td><td>0.0</td>\n",
       "            </tr><tr>\n",
       "                <td><strong>Upper bound</strong></td><td>1000.0</td>\n",
       "            </tr>\n",
       "        </table>\n",
       "        "
      ],
      "text/plain": [
       "<Reaction CTPS2 at 0x14878cea880>"
      ]
     },
     "execution_count": 195,
     "metadata": {},
     "output_type": "execute_result"
    }
   ],
   "source": [
    "#There is a descrepancy between bigg and model seed for the charge/formula of atp. Using the bigg charges here. \n",
    "#These requires a charge imbalance to remain. \n",
    "r=model.reactions.get_by_id('CTPS2')\n",
    "model.metabolites.atp_c.charge=-4\n",
    "model.metabolites.atp_c.formula='C10H12N5O13P3'\n",
    "model.metabolites.adp_c.charge=-3\n",
    "model.metabolites.adp_c.formula='C10H12N5O10P2'\n",
    "model.metabolites.amp_c.charge=-2\n",
    "model.metabolites.amp_c.formula='C10H12N5O7P'\n",
    "model.metabolites.ctp_c.charge=-4\n",
    "model.metabolites.ctp_c.formula='C9H12N3O14P3'\n",
    "print(r.check_mass_balance())\n",
    "r"
   ]
  },
  {
   "cell_type": "code",
   "execution_count": 202,
   "id": "1142aa5d-6f51-40ed-9f0d-430480c4067a",
   "metadata": {},
   "outputs": [
    {
     "name": "stdout",
     "output_type": "stream",
     "text": [
      "91 91 91\n"
     ]
    },
    {
     "data": {
      "text/html": [
       "<div>\n",
       "<style scoped>\n",
       "    .dataframe tbody tr th:only-of-type {\n",
       "        vertical-align: middle;\n",
       "    }\n",
       "\n",
       "    .dataframe tbody tr th {\n",
       "        vertical-align: top;\n",
       "    }\n",
       "\n",
       "    .dataframe thead th {\n",
       "        text-align: right;\n",
       "    }\n",
       "</style>\n",
       "<table border=\"1\" class=\"dataframe\">\n",
       "  <thead>\n",
       "    <tr style=\"text-align: right;\">\n",
       "      <th></th>\n",
       "      <th>Reactions</th>\n",
       "      <th>Charge</th>\n",
       "      <th>Masses</th>\n",
       "    </tr>\n",
       "  </thead>\n",
       "  <tbody>\n",
       "    <tr>\n",
       "      <th>0</th>\n",
       "      <td>3HAD140</td>\n",
       "      <td>-1.0</td>\n",
       "      <td>{}</td>\n",
       "    </tr>\n",
       "    <tr>\n",
       "      <th>1</th>\n",
       "      <td>3OAS161a</td>\n",
       "      <td>2.0</td>\n",
       "      <td>{'C': -12.0, 'H': -21.0, 'N': -2.0, 'O': -9.0,...</td>\n",
       "    </tr>\n",
       "    <tr>\n",
       "      <th>2</th>\n",
       "      <td>ADPT</td>\n",
       "      <td>-1.0</td>\n",
       "      <td>{'H': -1.0}</td>\n",
       "    </tr>\n",
       "    <tr>\n",
       "      <th>3</th>\n",
       "      <td>AGPAT161a</td>\n",
       "      <td>-2.0</td>\n",
       "      <td>{}</td>\n",
       "    </tr>\n",
       "    <tr>\n",
       "      <th>4</th>\n",
       "      <td>AGPAT181</td>\n",
       "      <td>-2.0</td>\n",
       "      <td>{}</td>\n",
       "    </tr>\n",
       "    <tr>\n",
       "      <th>...</th>\n",
       "      <td>...</td>\n",
       "      <td>...</td>\n",
       "      <td>...</td>\n",
       "    </tr>\n",
       "    <tr>\n",
       "      <th>86</th>\n",
       "      <td>CPH4S</td>\n",
       "      <td>1.0</td>\n",
       "      <td>{'C': -7.0, 'H': -8.0, 'N': -5.0, 'O': -3.0}</td>\n",
       "    </tr>\n",
       "    <tr>\n",
       "      <th>87</th>\n",
       "      <td>CDGS</td>\n",
       "      <td></td>\n",
       "      <td>{'H': 3.0, 'N': 1.0}</td>\n",
       "    </tr>\n",
       "    <tr>\n",
       "      <th>88</th>\n",
       "      <td>CDGR</td>\n",
       "      <td>-1.0</td>\n",
       "      <td>{'H': -5.0}</td>\n",
       "    </tr>\n",
       "    <tr>\n",
       "      <th>89</th>\n",
       "      <td>CCGS</td>\n",
       "      <td>-1.0</td>\n",
       "      <td>{'N': -1.0, 'O': 2.0}</td>\n",
       "    </tr>\n",
       "    <tr>\n",
       "      <th>90</th>\n",
       "      <td>LDH_D2</td>\n",
       "      <td>-1.0</td>\n",
       "      <td>{}</td>\n",
       "    </tr>\n",
       "  </tbody>\n",
       "</table>\n",
       "<p>91 rows × 3 columns</p>\n",
       "</div>"
      ],
      "text/plain": [
       "    Reactions Charge                                             Masses\n",
       "0     3HAD140   -1.0                                                 {}\n",
       "1    3OAS161a    2.0  {'C': -12.0, 'H': -21.0, 'N': -2.0, 'O': -9.0,...\n",
       "2        ADPT   -1.0                                        {'H': -1.0}\n",
       "3   AGPAT161a   -2.0                                                 {}\n",
       "4    AGPAT181   -2.0                                                 {}\n",
       "..        ...    ...                                                ...\n",
       "86      CPH4S    1.0       {'C': -7.0, 'H': -8.0, 'N': -5.0, 'O': -3.0}\n",
       "87       CDGS                                      {'H': 3.0, 'N': 1.0}\n",
       "88       CDGR   -1.0                                        {'H': -5.0}\n",
       "89       CCGS   -1.0                              {'N': -1.0, 'O': 2.0}\n",
       "90     LDH_D2   -1.0                                                 {}\n",
       "\n",
       "[91 rows x 3 columns]"
      ]
     },
     "execution_count": 202,
     "metadata": {},
     "output_type": "execute_result"
    }
   ],
   "source": [
    "#After bulk removing cofactors, what reaction imbalances remain?\n",
    "reactions = []\n",
    "charge = []\n",
    "mass = []\n",
    "for react in model.reactions:\n",
    "    result = react.check_mass_balance()\n",
    "    if 'EX_' in  react.id:\n",
    "        continue\n",
    "    if 'Nm_' in  react.id:\n",
    "        continue\n",
    "    if 'DM_' in  react.id:\n",
    "        continue \n",
    "    if react.id in biomass_reactions:\n",
    "        continue\n",
    "    if len(result) == 0:\n",
    "        continue\n",
    "    else: \n",
    "        reactions.append(react.id)\n",
    "        masses = {}\n",
    "        for key in result.keys():\n",
    "            if key == 'charge':\n",
    "                charge.append(result['charge'])\n",
    "            else:\n",
    "                masses[key] = result[key]\n",
    "        if 'charge' not in result.keys():\n",
    "            charge.append('')\n",
    "        mass.append(masses)\n",
    "print(len(reactions), len(charge), len(mass))\n",
    "\n",
    "mass_charge_dict = {'Reactions': reactions, 'Charge': charge, 'Masses': mass}\n",
    "mass_charge = pandas.DataFrame(mass_charge_dict)\n",
    "mass_charge.to_csv('imbalancesremaining.csv')\n",
    "mass_charge"
   ]
  },
  {
   "cell_type": "markdown",
   "id": "f12e8615-bc64-43d9-97de-bf6b10cf6629",
   "metadata": {},
   "source": [
    "#Bulk correct hydrogens\n",
    "rxns=( 'METS','ORPT')\n",
    "\n",
    "for rxn in rxns:\n",
    "    r=model.reactions.get_by_id(rxn)\n",
    "    r.add_metabolites({\n",
    "        h_c: -1.0,\n",
    "            })\n",
    "    print(r.check_mass_balance())\n",
    "\n"
   ]
  },
  {
   "cell_type": "code",
   "execution_count": 205,
   "id": "68af4629-fb0c-4079-9125-eff13169da28",
   "metadata": {},
   "outputs": [
    {
     "name": "stdout",
     "output_type": "stream",
     "text": [
      "{}\n",
      "{}\n",
      "{}\n",
      "{}\n",
      "{}\n",
      "{}\n",
      "{}\n",
      "{}\n"
     ]
    }
   ],
   "source": [
    "#Bulk correct hydrogens\n",
    "rxns=('GLUPRT','GUAPRT','HXPRT','NAMNPP','NNDPR','UPPRT','XPPT','XPRT')\n",
    "\n",
    "for rxn in rxns:\n",
    "    r=model.reactions.get_by_id(rxn)\n",
    "    r.add_metabolites({\n",
    "        h_c: 1.0,\n",
    "           })\n",
    "    print(r.check_mass_balance())  "
   ]
  },
  {
   "cell_type": "code",
   "execution_count": 206,
   "id": "53669fdb-7bee-4b37-8586-cece316e436c",
   "metadata": {},
   "outputs": [
    {
     "name": "stdout",
     "output_type": "stream",
     "text": [
      "83 83 83\n"
     ]
    },
    {
     "data": {
      "text/html": [
       "<div>\n",
       "<style scoped>\n",
       "    .dataframe tbody tr th:only-of-type {\n",
       "        vertical-align: middle;\n",
       "    }\n",
       "\n",
       "    .dataframe tbody tr th {\n",
       "        vertical-align: top;\n",
       "    }\n",
       "\n",
       "    .dataframe thead th {\n",
       "        text-align: right;\n",
       "    }\n",
       "</style>\n",
       "<table border=\"1\" class=\"dataframe\">\n",
       "  <thead>\n",
       "    <tr style=\"text-align: right;\">\n",
       "      <th></th>\n",
       "      <th>Reactions</th>\n",
       "      <th>Charge</th>\n",
       "      <th>Masses</th>\n",
       "    </tr>\n",
       "  </thead>\n",
       "  <tbody>\n",
       "    <tr>\n",
       "      <th>0</th>\n",
       "      <td>3HAD140</td>\n",
       "      <td>-1.0</td>\n",
       "      <td>{}</td>\n",
       "    </tr>\n",
       "    <tr>\n",
       "      <th>1</th>\n",
       "      <td>3OAS161a</td>\n",
       "      <td>2.0</td>\n",
       "      <td>{'C': -12.0, 'H': -21.0, 'N': -2.0, 'O': -9.0,...</td>\n",
       "    </tr>\n",
       "    <tr>\n",
       "      <th>2</th>\n",
       "      <td>ADPT</td>\n",
       "      <td>-1.0</td>\n",
       "      <td>{'H': -1.0}</td>\n",
       "    </tr>\n",
       "    <tr>\n",
       "      <th>3</th>\n",
       "      <td>AGPAT161a</td>\n",
       "      <td>-2.0</td>\n",
       "      <td>{}</td>\n",
       "    </tr>\n",
       "    <tr>\n",
       "      <th>4</th>\n",
       "      <td>AGPAT181</td>\n",
       "      <td>-2.0</td>\n",
       "      <td>{}</td>\n",
       "    </tr>\n",
       "    <tr>\n",
       "      <th>...</th>\n",
       "      <td>...</td>\n",
       "      <td>...</td>\n",
       "      <td>...</td>\n",
       "    </tr>\n",
       "    <tr>\n",
       "      <th>78</th>\n",
       "      <td>CPH4S</td>\n",
       "      <td>1.0</td>\n",
       "      <td>{'C': -7.0, 'H': -8.0, 'N': -5.0, 'O': -3.0}</td>\n",
       "    </tr>\n",
       "    <tr>\n",
       "      <th>79</th>\n",
       "      <td>CDGS</td>\n",
       "      <td></td>\n",
       "      <td>{'H': 3.0, 'N': 1.0}</td>\n",
       "    </tr>\n",
       "    <tr>\n",
       "      <th>80</th>\n",
       "      <td>CDGR</td>\n",
       "      <td>-1.0</td>\n",
       "      <td>{'H': -5.0}</td>\n",
       "    </tr>\n",
       "    <tr>\n",
       "      <th>81</th>\n",
       "      <td>CCGS</td>\n",
       "      <td>-1.0</td>\n",
       "      <td>{'N': -1.0, 'O': 2.0}</td>\n",
       "    </tr>\n",
       "    <tr>\n",
       "      <th>82</th>\n",
       "      <td>LDH_D2</td>\n",
       "      <td>-1.0</td>\n",
       "      <td>{}</td>\n",
       "    </tr>\n",
       "  </tbody>\n",
       "</table>\n",
       "<p>83 rows × 3 columns</p>\n",
       "</div>"
      ],
      "text/plain": [
       "    Reactions Charge                                             Masses\n",
       "0     3HAD140   -1.0                                                 {}\n",
       "1    3OAS161a    2.0  {'C': -12.0, 'H': -21.0, 'N': -2.0, 'O': -9.0,...\n",
       "2        ADPT   -1.0                                        {'H': -1.0}\n",
       "3   AGPAT161a   -2.0                                                 {}\n",
       "4    AGPAT181   -2.0                                                 {}\n",
       "..        ...    ...                                                ...\n",
       "78      CPH4S    1.0       {'C': -7.0, 'H': -8.0, 'N': -5.0, 'O': -3.0}\n",
       "79       CDGS                                      {'H': 3.0, 'N': 1.0}\n",
       "80       CDGR   -1.0                                        {'H': -5.0}\n",
       "81       CCGS   -1.0                              {'N': -1.0, 'O': 2.0}\n",
       "82     LDH_D2   -1.0                                                 {}\n",
       "\n",
       "[83 rows x 3 columns]"
      ]
     },
     "execution_count": 206,
     "metadata": {},
     "output_type": "execute_result"
    }
   ],
   "source": [
    "#After bulk removing cofactors, what reaction imbalances remain?\n",
    "reactions = []\n",
    "charge = []\n",
    "mass = []\n",
    "for react in model.reactions:\n",
    "    result = react.check_mass_balance()\n",
    "    if 'EX_' in  react.id:\n",
    "        continue\n",
    "    if 'Nm_' in  react.id:\n",
    "        continue\n",
    "    if 'DM_' in  react.id:\n",
    "        continue \n",
    "    if react.id in biomass_reactions:\n",
    "        continue\n",
    "    if len(result) == 0:\n",
    "        continue\n",
    "    else: \n",
    "        reactions.append(react.id)\n",
    "        masses = {}\n",
    "        for key in result.keys():\n",
    "            if key == 'charge':\n",
    "                charge.append(result['charge'])\n",
    "            else:\n",
    "                masses[key] = result[key]\n",
    "        if 'charge' not in result.keys():\n",
    "            charge.append('')\n",
    "        mass.append(masses)\n",
    "print(len(reactions), len(charge), len(mass))\n",
    "\n",
    "mass_charge_dict = {'Reactions': reactions, 'Charge': charge, 'Masses': mass}\n",
    "mass_charge = pandas.DataFrame(mass_charge_dict)\n",
    "mass_charge.to_csv('imbalancesremaining.csv')\n",
    "mass_charge"
   ]
  },
  {
   "cell_type": "code",
   "execution_count": 207,
   "id": "b2ab7cae-c0c3-41a4-a026-3dcf4f6ddc1e",
   "metadata": {},
   "outputs": [
    {
     "name": "stdout",
     "output_type": "stream",
     "text": [
      "{}\n"
     ]
    },
    {
     "data": {
      "text/html": [
       "\n",
       "        <table>\n",
       "            <tr>\n",
       "                <td><strong>Reaction identifier</strong></td><td>DAPDC</td>\n",
       "            </tr><tr>\n",
       "                <td><strong>Name</strong></td><td>R_DAPDC</td>\n",
       "            </tr><tr>\n",
       "                <td><strong>Memory address</strong></td>\n",
       "                <td>0x014879ad9df0</td>\n",
       "            </tr><tr>\n",
       "                <td><strong>Stoichiometry</strong></td>\n",
       "                <td>\n",
       "                    <p style='text-align:right'>26dap_M_c + h_c --> co2_c + lys_L_c</p>\n",
       "                    <p style='text-align:right'>meso-2-6-Diaminoheptanedioate + H --> CO2 + L-Lysine</p>\n",
       "                </td>\n",
       "            </tr><tr>\n",
       "                <td><strong>GPR</strong></td><td>NGO2098</td>\n",
       "            </tr><tr>\n",
       "                <td><strong>Lower bound</strong></td><td>0.0</td>\n",
       "            </tr><tr>\n",
       "                <td><strong>Upper bound</strong></td><td>1000.0</td>\n",
       "            </tr>\n",
       "        </table>\n",
       "        "
      ],
      "text/plain": [
       "<Reaction DAPDC at 0x14879ad9df0>"
      ]
     },
     "execution_count": 207,
     "metadata": {},
     "output_type": "execute_result"
    }
   ],
   "source": [
    "r=model.reactions.get_by_id('DAPDC')\n",
    "model.metabolites.get_by_id('lys_L_c').charge=1\n",
    "model.metabolites.get_by_id('lys_L_p').charge=1\n",
    "model.metabolites.get_by_id('lys_L_e').charge=1\n",
    "print(r.check_mass_balance())\n",
    "r"
   ]
  },
  {
   "cell_type": "code",
   "execution_count": 208,
   "id": "1068708d-2579-4fc9-9cbc-a402665a3c67",
   "metadata": {},
   "outputs": [
    {
     "name": "stdout",
     "output_type": "stream",
     "text": [
      "{}\n"
     ]
    },
    {
     "data": {
      "text/html": [
       "\n",
       "        <table>\n",
       "            <tr>\n",
       "                <td><strong>Reaction identifier</strong></td><td>GALUi</td>\n",
       "            </tr><tr>\n",
       "                <td><strong>Name</strong></td><td>R_GALUi</td>\n",
       "            </tr><tr>\n",
       "                <td><strong>Memory address</strong></td>\n",
       "                <td>0x01487aadc820</td>\n",
       "            </tr><tr>\n",
       "                <td><strong>Stoichiometry</strong></td>\n",
       "                <td>\n",
       "                    <p style='text-align:right'>g1p_c + h_c + utp_c --> ppi_c + udpg_c</p>\n",
       "                    <p style='text-align:right'>D-Glucose-1-phosphate + H + UTP --> Diphosphate + UDPglucose</p>\n",
       "                </td>\n",
       "            </tr><tr>\n",
       "                <td><strong>GPR</strong></td><td>NGO0220</td>\n",
       "            </tr><tr>\n",
       "                <td><strong>Lower bound</strong></td><td>0.0</td>\n",
       "            </tr><tr>\n",
       "                <td><strong>Upper bound</strong></td><td>1000.0</td>\n",
       "            </tr>\n",
       "        </table>\n",
       "        "
      ],
      "text/plain": [
       "<Reaction GALUi at 0x1487aadc820>"
      ]
     },
     "execution_count": 208,
     "metadata": {},
     "output_type": "execute_result"
    }
   ],
   "source": [
    "r=model.reactions.get_by_id('GALUi')\n",
    "model.metabolites.utp_c.formula='C9H11N2O15P3'\n",
    "model.metabolites.utp_c.charge=-4\n",
    "print(r.check_mass_balance())\n",
    "r"
   ]
  },
  {
   "cell_type": "code",
   "execution_count": 209,
   "id": "1c1beef2-1b7c-4d7c-83de-31d0ff6ac1a5",
   "metadata": {},
   "outputs": [
    {
     "name": "stdout",
     "output_type": "stream",
     "text": [
      "82 82 82\n"
     ]
    },
    {
     "data": {
      "text/html": [
       "<div>\n",
       "<style scoped>\n",
       "    .dataframe tbody tr th:only-of-type {\n",
       "        vertical-align: middle;\n",
       "    }\n",
       "\n",
       "    .dataframe tbody tr th {\n",
       "        vertical-align: top;\n",
       "    }\n",
       "\n",
       "    .dataframe thead th {\n",
       "        text-align: right;\n",
       "    }\n",
       "</style>\n",
       "<table border=\"1\" class=\"dataframe\">\n",
       "  <thead>\n",
       "    <tr style=\"text-align: right;\">\n",
       "      <th></th>\n",
       "      <th>Reactions</th>\n",
       "      <th>Charge</th>\n",
       "      <th>Masses</th>\n",
       "    </tr>\n",
       "  </thead>\n",
       "  <tbody>\n",
       "    <tr>\n",
       "      <th>0</th>\n",
       "      <td>3HAD140</td>\n",
       "      <td>-1.0</td>\n",
       "      <td>{}</td>\n",
       "    </tr>\n",
       "    <tr>\n",
       "      <th>1</th>\n",
       "      <td>3OAS161a</td>\n",
       "      <td>2.0</td>\n",
       "      <td>{'C': -12.0, 'H': -21.0, 'N': -2.0, 'O': -9.0,...</td>\n",
       "    </tr>\n",
       "    <tr>\n",
       "      <th>2</th>\n",
       "      <td>ADPT</td>\n",
       "      <td>-1.0</td>\n",
       "      <td>{'H': -1.0}</td>\n",
       "    </tr>\n",
       "    <tr>\n",
       "      <th>3</th>\n",
       "      <td>AGPAT161a</td>\n",
       "      <td>-2.0</td>\n",
       "      <td>{}</td>\n",
       "    </tr>\n",
       "    <tr>\n",
       "      <th>4</th>\n",
       "      <td>AGPAT181</td>\n",
       "      <td>-2.0</td>\n",
       "      <td>{}</td>\n",
       "    </tr>\n",
       "    <tr>\n",
       "      <th>...</th>\n",
       "      <td>...</td>\n",
       "      <td>...</td>\n",
       "      <td>...</td>\n",
       "    </tr>\n",
       "    <tr>\n",
       "      <th>77</th>\n",
       "      <td>CPH4S</td>\n",
       "      <td>1.0</td>\n",
       "      <td>{'C': -7.0, 'H': -8.0, 'N': -5.0, 'O': -3.0}</td>\n",
       "    </tr>\n",
       "    <tr>\n",
       "      <th>78</th>\n",
       "      <td>CDGS</td>\n",
       "      <td></td>\n",
       "      <td>{'H': 3.0, 'N': 1.0}</td>\n",
       "    </tr>\n",
       "    <tr>\n",
       "      <th>79</th>\n",
       "      <td>CDGR</td>\n",
       "      <td>-1.0</td>\n",
       "      <td>{'H': -5.0}</td>\n",
       "    </tr>\n",
       "    <tr>\n",
       "      <th>80</th>\n",
       "      <td>CCGS</td>\n",
       "      <td>-1.0</td>\n",
       "      <td>{'N': -1.0, 'O': 2.0}</td>\n",
       "    </tr>\n",
       "    <tr>\n",
       "      <th>81</th>\n",
       "      <td>LDH_D2</td>\n",
       "      <td>-1.0</td>\n",
       "      <td>{}</td>\n",
       "    </tr>\n",
       "  </tbody>\n",
       "</table>\n",
       "<p>82 rows × 3 columns</p>\n",
       "</div>"
      ],
      "text/plain": [
       "    Reactions Charge                                             Masses\n",
       "0     3HAD140   -1.0                                                 {}\n",
       "1    3OAS161a    2.0  {'C': -12.0, 'H': -21.0, 'N': -2.0, 'O': -9.0,...\n",
       "2        ADPT   -1.0                                        {'H': -1.0}\n",
       "3   AGPAT161a   -2.0                                                 {}\n",
       "4    AGPAT181   -2.0                                                 {}\n",
       "..        ...    ...                                                ...\n",
       "77      CPH4S    1.0       {'C': -7.0, 'H': -8.0, 'N': -5.0, 'O': -3.0}\n",
       "78       CDGS                                      {'H': 3.0, 'N': 1.0}\n",
       "79       CDGR   -1.0                                        {'H': -5.0}\n",
       "80       CCGS   -1.0                              {'N': -1.0, 'O': 2.0}\n",
       "81     LDH_D2   -1.0                                                 {}\n",
       "\n",
       "[82 rows x 3 columns]"
      ]
     },
     "execution_count": 209,
     "metadata": {},
     "output_type": "execute_result"
    }
   ],
   "source": [
    "#After bulk removing cofactors, what reaction imbalances remain?\n",
    "reactions = []\n",
    "charge = []\n",
    "mass = []\n",
    "for react in model.reactions:\n",
    "    result = react.check_mass_balance()\n",
    "    if 'EX_' in  react.id:\n",
    "        continue\n",
    "    if 'Nm_' in  react.id:\n",
    "        continue\n",
    "    if 'DM_' in  react.id:\n",
    "        continue \n",
    "    if react.id in biomass_reactions:\n",
    "        continue\n",
    "    if len(result) == 0:\n",
    "        continue\n",
    "    else: \n",
    "        reactions.append(react.id)\n",
    "        masses = {}\n",
    "        for key in result.keys():\n",
    "            if key == 'charge':\n",
    "                charge.append(result['charge'])\n",
    "            else:\n",
    "                masses[key] = result[key]\n",
    "        if 'charge' not in result.keys():\n",
    "            charge.append('')\n",
    "        mass.append(masses)\n",
    "print(len(reactions), len(charge), len(mass))\n",
    "\n",
    "mass_charge_dict = {'Reactions': reactions, 'Charge': charge, 'Masses': mass}\n",
    "mass_charge = pandas.DataFrame(mass_charge_dict)\n",
    "mass_charge.to_csv('imbalancesremaining.csv')\n",
    "mass_charge"
   ]
  },
  {
   "cell_type": "code",
   "execution_count": 210,
   "id": "4af52d50-dbcf-45b8-9079-76b59ed0506b",
   "metadata": {},
   "outputs": [
    {
     "name": "stdout",
     "output_type": "stream",
     "text": [
      "{}\n"
     ]
    }
   ],
   "source": [
    "r=model.reactions.get_by_id('ATPPRT')\n",
    "r.add_metabolites({\n",
    "    h_c: 1.0,\n",
    "      })\n",
    "\n",
    "print(r.check_mass_balance())  "
   ]
  },
  {
   "cell_type": "code",
   "execution_count": 215,
   "id": "e01dd34d-55e3-414e-8ef3-6634dc12c3d2",
   "metadata": {},
   "outputs": [
    {
     "name": "stdout",
     "output_type": "stream",
     "text": [
      "{'charge': -2.0}\n"
     ]
    }
   ],
   "source": [
    "r=model.reactions.get_by_id('PGSA161a')\n",
    "r.add_metabolites({\n",
    "    h_c: -1.0,\n",
    "      })\n",
    "\n",
    "print(r.check_mass_balance())"
   ]
  },
  {
   "cell_type": "code",
   "execution_count": 216,
   "id": "4fad9657-6b01-40b2-89f2-52be168b3bf4",
   "metadata": {},
   "outputs": [
    {
     "name": "stdout",
     "output_type": "stream",
     "text": [
      "{'charge': 1.0}\n"
     ]
    }
   ],
   "source": [
    "r=model.reactions.get_by_id('PLIPA1G161a')\n",
    "r.add_metabolites({\n",
    "    h_c: 1.0,\n",
    "      })\n",
    "\n",
    "print(r.check_mass_balance())"
   ]
  },
  {
   "cell_type": "code",
   "execution_count": 218,
   "id": "0640e5f4-1ef8-4883-a751-c8ca4451d02d",
   "metadata": {},
   "outputs": [
    {
     "name": "stdout",
     "output_type": "stream",
     "text": [
      "{}\n"
     ]
    }
   ],
   "source": [
    "r=model.reactions.get_by_id('PRPPS')\n",
    "r.add_metabolites({\n",
    "    h_c: -1.0,\n",
    "      })\n",
    "\n",
    "print(r.check_mass_balance())"
   ]
  },
  {
   "cell_type": "code",
   "execution_count": 219,
   "id": "40327b00-4d54-41ff-885e-cfd2594202ea",
   "metadata": {},
   "outputs": [
    {
     "name": "stdout",
     "output_type": "stream",
     "text": [
      "{'charge': -8.0}\n"
     ]
    },
    {
     "data": {
      "text/html": [
       "\n",
       "        <table>\n",
       "            <tr>\n",
       "                <td><strong>Reaction identifier</strong></td><td>HGFE</td>\n",
       "            </tr><tr>\n",
       "                <td><strong>Name</strong></td><td>R_HGFE</td>\n",
       "            </tr><tr>\n",
       "                <td><strong>Memory address</strong></td>\n",
       "                <td>0x01487aafdd30</td>\n",
       "            </tr><tr>\n",
       "                <td><strong>Stoichiometry</strong></td>\n",
       "                <td>\n",
       "                    <p style='text-align:right'>HgFe3_e --> Hg_e + 4.0 pheme_p</p>\n",
       "                    <p style='text-align:right'>Hemoglobin --> Hemoglobin residue + 4.0 Protoheme</p>\n",
       "                </td>\n",
       "            </tr><tr>\n",
       "                <td><strong>GPR</strong></td><td>NGO2110 and NGO2109</td>\n",
       "            </tr><tr>\n",
       "                <td><strong>Lower bound</strong></td><td>0.0</td>\n",
       "            </tr><tr>\n",
       "                <td><strong>Upper bound</strong></td><td>1000.0</td>\n",
       "            </tr>\n",
       "        </table>\n",
       "        "
      ],
      "text/plain": [
       "<Reaction HGFE at 0x1487aafdd30>"
      ]
     },
     "execution_count": 219,
     "metadata": {},
     "output_type": "execute_result"
    }
   ],
   "source": [
    "r=model.reactions.get_by_id('HGFE')\n",
    "\n",
    "print(r.check_mass_balance())\n",
    "r\n",
    "#okay to leave imbalanced"
   ]
  },
  {
   "cell_type": "code",
   "execution_count": 220,
   "id": "6217a599-4a33-42f8-9c7b-3b3b870d01bc",
   "metadata": {},
   "outputs": [
    {
     "name": "stdout",
     "output_type": "stream",
     "text": [
      "{}\n"
     ]
    },
    {
     "data": {
      "text/html": [
       "\n",
       "        <table>\n",
       "            <tr>\n",
       "                <td><strong>Reaction identifier</strong></td><td>L_LACD2</td>\n",
       "            </tr><tr>\n",
       "                <td><strong>Name</strong></td><td>R_L_LACD2</td>\n",
       "            </tr><tr>\n",
       "                <td><strong>Memory address</strong></td>\n",
       "                <td>0x01487ab0bdf0</td>\n",
       "            </tr><tr>\n",
       "                <td><strong>Stoichiometry</strong></td>\n",
       "                <td>\n",
       "                    <p style='text-align:right'>lac_L_c + q8_c --> pyr_c + q8h2_c</p>\n",
       "                    <p style='text-align:right'>L-Lactate + Ubiquinone-8 --> Pyruvate + Ubiquinol-8</p>\n",
       "                </td>\n",
       "            </tr><tr>\n",
       "                <td><strong>GPR</strong></td><td>NGO0639 or ( NGO0904 and NGO0905 and NGO0906 )</td>\n",
       "            </tr><tr>\n",
       "                <td><strong>Lower bound</strong></td><td>0.0</td>\n",
       "            </tr><tr>\n",
       "                <td><strong>Upper bound</strong></td><td>1000.0</td>\n",
       "            </tr>\n",
       "        </table>\n",
       "        "
      ],
      "text/plain": [
       "<Reaction L_LACD2 at 0x1487ab0bdf0>"
      ]
     },
     "execution_count": 220,
     "metadata": {},
     "output_type": "execute_result"
    }
   ],
   "source": [
    "r=model.reactions.get_by_id('L_LACD2')\n",
    "model.metabolites.lac_L_c.charge=-1\n",
    "model.metabolites.lac_L_e.charge=-1\n",
    "model.metabolites.lac_L_p.charge=-1\n",
    "print(r.check_mass_balance())\n",
    "r\n"
   ]
  },
  {
   "cell_type": "code",
   "execution_count": 221,
   "id": "bdaffa69-ecea-4acb-8f7b-06aa760d3242",
   "metadata": {},
   "outputs": [
    {
     "name": "stdout",
     "output_type": "stream",
     "text": [
      "{}\n"
     ]
    },
    {
     "data": {
      "text/html": [
       "\n",
       "        <table>\n",
       "            <tr>\n",
       "                <td><strong>Reaction identifier</strong></td><td>LDH_D</td>\n",
       "            </tr><tr>\n",
       "                <td><strong>Name</strong></td><td>R_LDH_D</td>\n",
       "            </tr><tr>\n",
       "                <td><strong>Memory address</strong></td>\n",
       "                <td>0x01487ab11ee0</td>\n",
       "            </tr><tr>\n",
       "                <td><strong>Stoichiometry</strong></td>\n",
       "                <td>\n",
       "                    <p style='text-align:right'>lac_D_c + nad_c <=> h_c + nadh_c + pyr_c</p>\n",
       "                    <p style='text-align:right'>D-Lactate + Nicotinamide-adenine-dinucleotide <=> H + Nicotinamide-adenine-dinucleotide--reduced + Pyruvate</p>\n",
       "                </td>\n",
       "            </tr><tr>\n",
       "                <td><strong>GPR</strong></td><td>NGO1336</td>\n",
       "            </tr><tr>\n",
       "                <td><strong>Lower bound</strong></td><td>-1000.0</td>\n",
       "            </tr><tr>\n",
       "                <td><strong>Upper bound</strong></td><td>1000.0</td>\n",
       "            </tr>\n",
       "        </table>\n",
       "        "
      ],
      "text/plain": [
       "<Reaction LDH_D at 0x1487ab11ee0>"
      ]
     },
     "execution_count": 221,
     "metadata": {},
     "output_type": "execute_result"
    }
   ],
   "source": [
    "r=model.reactions.get_by_id('LDH_D')\n",
    "model.metabolites.lac_D_c.charge=-1\n",
    "model.metabolites.lac_D_e.charge=-1\n",
    "model.metabolites.lac_D_p.charge=-1\n",
    "print(r.check_mass_balance())\n",
    "r"
   ]
  },
  {
   "cell_type": "code",
   "execution_count": 222,
   "id": "a4fd742f-f6f5-43fe-9e0e-8187893669fb",
   "metadata": {},
   "outputs": [
    {
     "name": "stdout",
     "output_type": "stream",
     "text": [
      "{}\n"
     ]
    },
    {
     "data": {
      "text/html": [
       "\n",
       "        <table>\n",
       "            <tr>\n",
       "                <td><strong>Reaction identifier</strong></td><td>LGTHL</td>\n",
       "            </tr><tr>\n",
       "                <td><strong>Name</strong></td><td>R_LGTHL</td>\n",
       "            </tr><tr>\n",
       "                <td><strong>Memory address</strong></td>\n",
       "                <td>0x01487ab11d90</td>\n",
       "            </tr><tr>\n",
       "                <td><strong>Stoichiometry</strong></td>\n",
       "                <td>\n",
       "                    <p style='text-align:right'>gthrd_c + mthgxl_c --> lgt_S_c</p>\n",
       "                    <p style='text-align:right'>Reduced-glutathione + Methylglyoxal --> R-S-Lactoylglutathione</p>\n",
       "                </td>\n",
       "            </tr><tr>\n",
       "                <td><strong>GPR</strong></td><td>NGO08805</td>\n",
       "            </tr><tr>\n",
       "                <td><strong>Lower bound</strong></td><td>0.0</td>\n",
       "            </tr><tr>\n",
       "                <td><strong>Upper bound</strong></td><td>1000.0</td>\n",
       "            </tr>\n",
       "        </table>\n",
       "        "
      ],
      "text/plain": [
       "<Reaction LGTHL at 0x1487ab11d90>"
      ]
     },
     "execution_count": 222,
     "metadata": {},
     "output_type": "execute_result"
    }
   ],
   "source": [
    "r=model.reactions.get_by_id('LGTHL')\n",
    "model.metabolites.lgt_S_c.charge=-1\n",
    "print(r.check_mass_balance())\n",
    "r\n"
   ]
  },
  {
   "cell_type": "code",
   "execution_count": 224,
   "id": "2cdaeaf9-c376-484f-bb9a-312aaf6ba7f6",
   "metadata": {},
   "outputs": [
    {
     "name": "stdout",
     "output_type": "stream",
     "text": [
      "{}\n"
     ]
    },
    {
     "data": {
      "text/html": [
       "\n",
       "        <table>\n",
       "            <tr>\n",
       "                <td><strong>Reaction identifier</strong></td><td>CYOX</td>\n",
       "            </tr><tr>\n",
       "                <td><strong>Name</strong></td><td>R_CYOX</td>\n",
       "            </tr><tr>\n",
       "                <td><strong>Memory address</strong></td>\n",
       "                <td>0x014878ceebe0</td>\n",
       "            </tr><tr>\n",
       "                <td><strong>Stoichiometry</strong></td>\n",
       "                <td>\n",
       "                    <p style='text-align:right'>4.0 focytC_p + 8.0 h_c + o2_c <=> 4.0 ficytC_p + 2.0 h2o_c + 4.0 h_p</p>\n",
       "                    <p style='text-align:right'>4.0 ferrocytochrome, cytc + 8.0 H + O2 <=> 4.0 ferricytochrome, cytc + 2.0 H2O + 4.0 H</p>\n",
       "                </td>\n",
       "            </tr><tr>\n",
       "                <td><strong>GPR</strong></td><td>NGO1371 and NGO1373 and NGO1374 and ( NGO1080 or NGO0101 )</td>\n",
       "            </tr><tr>\n",
       "                <td><strong>Lower bound</strong></td><td>-1000.0</td>\n",
       "            </tr><tr>\n",
       "                <td><strong>Upper bound</strong></td><td>1000.0</td>\n",
       "            </tr>\n",
       "        </table>\n",
       "        "
      ],
      "text/plain": [
       "<Reaction CYOX at 0x14878ceebe0>"
      ]
     },
     "execution_count": 224,
     "metadata": {},
     "output_type": "execute_result"
    }
   ],
   "source": [
    "#The cytochrome oxidation was flipped in the original CYOX reaction. Correcting here. \n",
    "#based on other examples from Bigg http://bigg.ucsd.edu/models/iAF987/reactions/CYOO2pp\n",
    "#Additionally, no hydrogens were exported to the periplasm. This is also corrected here. \n",
    "r=model.reactions.get_by_id('CYOX')\n",
    "model.metabolites.ficytC_p.charge=3\n",
    "model.metabolites.focytC_p.charge=2\n",
    "h_p=model.metabolites.h_p\n",
    "ficytC_p =model.metabolites.ficytC_p\n",
    "focytC_p=model.metabolites.focytC_p\n",
    "\n",
    "r.add_metabolites({\n",
    "    focytC_p:-8,\n",
    "    ficytC_p: 8,\n",
    "    h_c: -4.0,\n",
    "    h_p: 4.0,\n",
    "      })\n",
    "\n",
    "print(r.check_mass_balance())\n",
    "r\n"
   ]
  },
  {
   "cell_type": "code",
   "execution_count": 225,
   "id": "5a5e80c3-1cc8-4775-ae36-4a49f686a74f",
   "metadata": {},
   "outputs": [
    {
     "data": {
      "text/html": [
       "\n",
       "        <table>\n",
       "            <tr>\n",
       "                <td><strong>Reaction identifier</strong></td><td>CYOX</td>\n",
       "            </tr><tr>\n",
       "                <td><strong>Name</strong></td><td>R_CYOX</td>\n",
       "            </tr><tr>\n",
       "                <td><strong>Memory address</strong></td>\n",
       "                <td>0x014878ceebe0</td>\n",
       "            </tr><tr>\n",
       "                <td><strong>Stoichiometry</strong></td>\n",
       "                <td>\n",
       "                    <p style='text-align:right'>4.0 focytC_p + 8.0 h_c + o2_c --> 4.0 ficytC_p + 2.0 h2o_c + 4.0 h_p</p>\n",
       "                    <p style='text-align:right'>4.0 ferrocytochrome, cytc + 8.0 H + O2 --> 4.0 ferricytochrome, cytc + 2.0 H2O + 4.0 H</p>\n",
       "                </td>\n",
       "            </tr><tr>\n",
       "                <td><strong>GPR</strong></td><td>NGO1371 and NGO1373 and NGO1374 and ( NGO1080 or NGO0101 )</td>\n",
       "            </tr><tr>\n",
       "                <td><strong>Lower bound</strong></td><td>0</td>\n",
       "            </tr><tr>\n",
       "                <td><strong>Upper bound</strong></td><td>1000.0</td>\n",
       "            </tr>\n",
       "        </table>\n",
       "        "
      ],
      "text/plain": [
       "<Reaction CYOX at 0x14878ceebe0>"
      ]
     },
     "execution_count": 225,
     "metadata": {},
     "output_type": "execute_result"
    }
   ],
   "source": [
    "r=model.reactions.get_by_id('CYOX')\n",
    "model.reactions.CYOX.lower_bound=0\n",
    "r"
   ]
  },
  {
   "cell_type": "code",
   "execution_count": 227,
   "id": "2ae9ab71-4ab6-43ac-9cff-77a9dc24265e",
   "metadata": {},
   "outputs": [
    {
     "name": "stdout",
     "output_type": "stream",
     "text": [
      "{}\n"
     ]
    },
    {
     "data": {
      "text/html": [
       "\n",
       "        <table>\n",
       "            <tr>\n",
       "                <td><strong>Reaction identifier</strong></td><td>UCYR</td>\n",
       "            </tr><tr>\n",
       "                <td><strong>Name</strong></td><td>R_UCYR</td>\n",
       "            </tr><tr>\n",
       "                <td><strong>Memory address</strong></td>\n",
       "                <td>0x01487ac06880</td>\n",
       "            </tr><tr>\n",
       "                <td><strong>Stoichiometry</strong></td>\n",
       "                <td>\n",
       "                    <p style='text-align:right'>2.0 ficytC_p + q8h2_c <=> 2.0 focytC_p + 2.0 h_p + q8_c</p>\n",
       "                    <p style='text-align:right'>2.0 ferricytochrome, cytc + Ubiquinol-8 <=> 2.0 ferrocytochrome, cytc + 2.0 H + Ubiquinone-8</p>\n",
       "                </td>\n",
       "            </tr><tr>\n",
       "                <td><strong>GPR</strong></td><td>NGO2031 and NGO2030 and NGO2029 and ( NGO1080 or NGO0101 or Orphan )</td>\n",
       "            </tr><tr>\n",
       "                <td><strong>Lower bound</strong></td><td>-1000.0</td>\n",
       "            </tr><tr>\n",
       "                <td><strong>Upper bound</strong></td><td>1000.0</td>\n",
       "            </tr>\n",
       "        </table>\n",
       "        "
      ],
      "text/plain": [
       "<Reaction UCYR at 0x1487ac06880>"
      ]
     },
     "execution_count": 227,
     "metadata": {},
     "output_type": "execute_result"
    }
   ],
   "source": [
    "#Cytochrome oxidation was also flipped in the original UCYR reaction. Corrected here. \n",
    "#based on other examples from Bigg http://bigg.ucsd.edu/models/iAF987/reactions/CYTMQOR3pp\n",
    "r=model.reactions.UCYR\n",
    "r.add_metabolites({\n",
    "    focytC_p:4,\n",
    "    ficytC_p: -4,\n",
    "      })\n",
    "\n",
    "print(r.check_mass_balance())\n",
    "r\n"
   ]
  },
  {
   "cell_type": "code",
   "execution_count": 228,
   "id": "be807378-1bfa-40bc-b4bf-25c57dc03299",
   "metadata": {},
   "outputs": [
    {
     "name": "stdout",
     "output_type": "stream",
     "text": [
      "{}\n"
     ]
    },
    {
     "data": {
      "text/html": [
       "\n",
       "        <table>\n",
       "            <tr>\n",
       "                <td><strong>Reaction identifier</strong></td><td>IGPDH</td>\n",
       "            </tr><tr>\n",
       "                <td><strong>Name</strong></td><td>R_IGPDH</td>\n",
       "            </tr><tr>\n",
       "                <td><strong>Memory address</strong></td>\n",
       "                <td>0x01487ab04490</td>\n",
       "            </tr><tr>\n",
       "                <td><strong>Stoichiometry</strong></td>\n",
       "                <td>\n",
       "                    <p style='text-align:right'>eig3p_c --> h2o_c + imacp_c</p>\n",
       "                    <p style='text-align:right'>D-erythro-1-Imidazol-4-yl-glycerol-3-phosphate --> H2O + 3-Imidazol-4-yl-2-oxopropyl-phosphate</p>\n",
       "                </td>\n",
       "            </tr><tr>\n",
       "                <td><strong>GPR</strong></td><td>NGO1242</td>\n",
       "            </tr><tr>\n",
       "                <td><strong>Lower bound</strong></td><td>0.0</td>\n",
       "            </tr><tr>\n",
       "                <td><strong>Upper bound</strong></td><td>1000.0</td>\n",
       "            </tr>\n",
       "        </table>\n",
       "        "
      ],
      "text/plain": [
       "<Reaction IGPDH at 0x1487ab04490>"
      ]
     },
     "execution_count": 228,
     "metadata": {},
     "output_type": "execute_result"
    }
   ],
   "source": [
    "r=model.reactions.get_by_id('IGPDH')\n",
    "model.metabolites.imacp_c.charge=-2\n",
    "print(r.check_mass_balance())\n",
    "r"
   ]
  },
  {
   "cell_type": "code",
   "execution_count": 229,
   "id": "084d15f8-b117-4d75-bab5-24ff93a0909c",
   "metadata": {},
   "outputs": [
    {
     "name": "stdout",
     "output_type": "stream",
     "text": [
      "{}\n"
     ]
    },
    {
     "data": {
      "text/html": [
       "\n",
       "        <table>\n",
       "            <tr>\n",
       "                <td><strong>Reaction identifier</strong></td><td>NO2R</td>\n",
       "            </tr><tr>\n",
       "                <td><strong>Name</strong></td><td>nitric-oxide:ferricytochrome-c oxidoreductase</td>\n",
       "            </tr><tr>\n",
       "                <td><strong>Memory address</strong></td>\n",
       "                <td>0x01487ab38970</td>\n",
       "            </tr><tr>\n",
       "                <td><strong>Stoichiometry</strong></td>\n",
       "                <td>\n",
       "                    <p style='text-align:right'>ficytC_p + h2o_p + no_p <=> focytC_p + 2.0 h_p + no2_p</p>\n",
       "                    <p style='text-align:right'>ferricytochrome, cytc + H2O + Nitric-oxide <=> ferrocytochrome, cytc + 2.0 H + Nitrite</p>\n",
       "                </td>\n",
       "            </tr><tr>\n",
       "                <td><strong>GPR</strong></td><td>NGO1276 and NGO1328</td>\n",
       "            </tr><tr>\n",
       "                <td><strong>Lower bound</strong></td><td>-1000.0</td>\n",
       "            </tr><tr>\n",
       "                <td><strong>Upper bound</strong></td><td>1000.0</td>\n",
       "            </tr>\n",
       "        </table>\n",
       "        "
      ],
      "text/plain": [
       "<Reaction NO2R at 0x1487ab38970>"
      ]
     },
     "execution_count": 229,
     "metadata": {},
     "output_type": "execute_result"
    }
   ],
   "source": [
    "#The original NO2R was cytochrome oxidations were flipped. Corrected here. \n",
    "r=model.reactions.get_by_id('NO2R')\n",
    "r.name='nitric-oxide:ferricytochrome-c oxidoreductase'\n",
    "ficytC_p =model.metabolites.ficytC_p\n",
    "focytC_p=model.metabolites.focytC_p\n",
    "\n",
    "r.add_metabolites({\n",
    "    focytC_p:2,\n",
    "    ficytC_p: -2,\n",
    "      })\n",
    "\n",
    "print(r.check_mass_balance())\n",
    "r"
   ]
  },
  {
   "cell_type": "code",
   "execution_count": 230,
   "id": "ab5442f5-4775-4c58-bd49-275e8105774c",
   "metadata": {},
   "outputs": [
    {
     "name": "stdout",
     "output_type": "stream",
     "text": [
      "{}\n"
     ]
    },
    {
     "data": {
      "text/html": [
       "\n",
       "        <table>\n",
       "            <tr>\n",
       "                <td><strong>Reaction identifier</strong></td><td>NOR</td>\n",
       "            </tr><tr>\n",
       "                <td><strong>Name</strong></td><td>nitrous-oxide:ferricytochrome-c oxidoreductase</td>\n",
       "            </tr><tr>\n",
       "                <td><strong>Memory address</strong></td>\n",
       "                <td>0x01487ab381f0</td>\n",
       "            </tr><tr>\n",
       "                <td><strong>Stoichiometry</strong></td>\n",
       "                <td>\n",
       "                    <p style='text-align:right'>2.0 focytC_p + 2.0 h_c + 2.0 no_p <=> 2.0 ficytC_p + h2o_p + n2o_p</p>\n",
       "                    <p style='text-align:right'>2.0 ferrocytochrome, cytc + 2.0 H + 2.0 Nitric-oxide <=> 2.0 ferricytochrome, cytc + H2O + Nitrous-oxide</p>\n",
       "                </td>\n",
       "            </tr><tr>\n",
       "                <td><strong>GPR</strong></td><td>NGO1275 and NGO1328</td>\n",
       "            </tr><tr>\n",
       "                <td><strong>Lower bound</strong></td><td>-1000.0</td>\n",
       "            </tr><tr>\n",
       "                <td><strong>Upper bound</strong></td><td>1000.0</td>\n",
       "            </tr>\n",
       "        </table>\n",
       "        "
      ],
      "text/plain": [
       "<Reaction NOR at 0x1487ab381f0>"
      ]
     },
     "execution_count": 230,
     "metadata": {},
     "output_type": "execute_result"
    }
   ],
   "source": [
    "#The original NOR was cytochrome oxidations were flipped. Corrected here. \n",
    "\n",
    "r=model.reactions.get_by_id('NOR')\n",
    "r.name='nitrous-oxide:ferricytochrome-c oxidoreductase'\n",
    "ficytC_p =model.metabolites.ficytC_p\n",
    "focytC_p=model.metabolites.focytC_p\n",
    "r.add_metabolites({\n",
    "    focytC_p:-4,\n",
    "    ficytC_p: 4,\n",
    "      })\n",
    "\n",
    "print(r.check_mass_balance())\n",
    "r"
   ]
  },
  {
   "cell_type": "code",
   "execution_count": 231,
   "id": "4444bd39-d054-4cf2-9e89-dce1dbbace2c",
   "metadata": {},
   "outputs": [
    {
     "name": "stdout",
     "output_type": "stream",
     "text": [
      "0.7097088373083901\n",
      "no_c\n",
      "====\n",
      "Formula: NO\n",
      "\n",
      "Producing Reactions\n",
      "-------------------\n",
      "Empty DataFrame\n",
      "Columns: [Percent, Flux, Reaction, Definition]\n",
      "Index: []\n",
      "\n",
      "Consuming Reactions\n",
      "-------------------\n",
      "Empty DataFrame\n",
      "Columns: [Percent, Flux, Reaction, Definition]\n",
      "Index: []\n"
     ]
    }
   ],
   "source": [
    "#Check Gc model ability to grow anaerobically on nitrite. \n",
    "def anaerobic_rpmi(model):\n",
    "    for reaction in model.reactions:\n",
    "        if 'EX_' in  reaction.id:\n",
    "            reaction.lower_bound=0\n",
    "        if reaction.id in rpmi_req:\n",
    "            reaction.lower_bound = -10.\n",
    "        if reaction.id == 'EX_o2_e_':\n",
    "            reaction.lower_bound = -10.\n",
    "        if reaction.id == 'EX_glc_D_e_':\n",
    "            reaction.lower_bound = -10.\n",
    "        if reaction.id == 'EX_lac_L_e_':\n",
    "            reaction.lower_bound = -10.\n",
    "        if reaction.id == 'EX_no2_e_':\n",
    "            reaction.lower_bound = -10. \n",
    "\n",
    "anaerobic_rpmi(model)\n",
    "print(model.slim_optimize())\n",
    "print(model.metabolites.no_c.summary())"
   ]
  },
  {
   "cell_type": "code",
   "execution_count": 232,
   "id": "69fcbd52-a0db-4908-ab3f-c04189986b56",
   "metadata": {},
   "outputs": [
    {
     "name": "stdout",
     "output_type": "stream",
     "text": [
      "{'charge': -2.0}\n"
     ]
    },
    {
     "data": {
      "text/html": [
       "\n",
       "        <table>\n",
       "            <tr>\n",
       "                <td><strong>Reaction identifier</strong></td><td>CYPOX</td>\n",
       "            </tr><tr>\n",
       "                <td><strong>Name</strong></td><td>Cytochrome C Peroxidase</td>\n",
       "            </tr><tr>\n",
       "                <td><strong>Memory address</strong></td>\n",
       "                <td>0x01487ac3adc0</td>\n",
       "            </tr><tr>\n",
       "                <td><strong>Stoichiometry</strong></td>\n",
       "                <td>\n",
       "                    <p style='text-align:right'>h2o2_c + 2.0 h_c --> 2.0 h2o_c</p>\n",
       "                    <p style='text-align:right'>Hydrogen-peroxide + 2.0 H --> 2.0 H2O</p>\n",
       "                </td>\n",
       "            </tr><tr>\n",
       "                <td><strong>GPR</strong></td><td>NGO1769 and NGO0994</td>\n",
       "            </tr><tr>\n",
       "                <td><strong>Lower bound</strong></td><td>0.0</td>\n",
       "            </tr><tr>\n",
       "                <td><strong>Upper bound</strong></td><td>1000.0</td>\n",
       "            </tr>\n",
       "        </table>\n",
       "        "
      ],
      "text/plain": [
       "<Reaction CYPOX at 0x1487ac3adc0>"
      ]
     },
     "execution_count": 232,
     "metadata": {},
     "output_type": "execute_result"
    }
   ],
   "source": [
    "r=model.reactions.CYPOX\n",
    "print(r.check_mass_balance())\n",
    "r\n",
    "#Requires a cytochrome so as reactants, so can't be balanced here. "
   ]
  },
  {
   "cell_type": "code",
   "execution_count": 233,
   "id": "9df41fd4-92a0-4215-adb8-3ab4b064f844",
   "metadata": {},
   "outputs": [
    {
     "name": "stdout",
     "output_type": "stream",
     "text": [
      "{}\n"
     ]
    },
    {
     "data": {
      "text/html": [
       "\n",
       "        <table>\n",
       "            <tr>\n",
       "                <td><strong>Reaction identifier</strong></td><td>HPYRRx</td>\n",
       "            </tr><tr>\n",
       "                <td><strong>Name</strong></td><td>R_HPYRRx</td>\n",
       "            </tr><tr>\n",
       "                <td><strong>Memory address</strong></td>\n",
       "                <td>0x01487aafd460</td>\n",
       "            </tr><tr>\n",
       "                <td><strong>Stoichiometry</strong></td>\n",
       "                <td>\n",
       "                    <p style='text-align:right'>h_c + hpyr_c + nadh_c --> glyc_R_c + nad_c</p>\n",
       "                    <p style='text-align:right'>H + Hydroxypyruvate + Nicotinamide-adenine-dinucleotide--reduced --> R-Glycerate + Nicotinamide-adenine-dinucleotide</p>\n",
       "                </td>\n",
       "            </tr><tr>\n",
       "                <td><strong>GPR</strong></td><td>NGO2043</td>\n",
       "            </tr><tr>\n",
       "                <td><strong>Lower bound</strong></td><td>0.0</td>\n",
       "            </tr><tr>\n",
       "                <td><strong>Upper bound</strong></td><td>1000.0</td>\n",
       "            </tr>\n",
       "        </table>\n",
       "        "
      ],
      "text/plain": [
       "<Reaction HPYRRx at 0x1487aafd460>"
      ]
     },
     "execution_count": 233,
     "metadata": {},
     "output_type": "execute_result"
    }
   ],
   "source": [
    "r=model.reactions.HPYRRx\n",
    "model.metabolites.glyc_R_c.charge=-1\n",
    "print(r.check_mass_balance())\n",
    "r"
   ]
  },
  {
   "cell_type": "code",
   "execution_count": 234,
   "id": "a12871a4-3ef1-47bd-bbd1-55f4796bd131",
   "metadata": {},
   "outputs": [
    {
     "name": "stdout",
     "output_type": "stream",
     "text": [
      "{}\n"
     ]
    },
    {
     "data": {
      "text/html": [
       "\n",
       "        <table>\n",
       "            <tr>\n",
       "                <td><strong>Reaction identifier</strong></td><td>Malt1pp</td>\n",
       "            </tr><tr>\n",
       "                <td><strong>Name</strong></td><td>R_Malt1pp</td>\n",
       "            </tr><tr>\n",
       "                <td><strong>Memory address</strong></td>\n",
       "                <td>0x01487ab18dc0</td>\n",
       "            </tr><tr>\n",
       "                <td><strong>Stoichiometry</strong></td>\n",
       "                <td>\n",
       "                    <p style='text-align:right'>mal_L_p + na1_p --> mal_L_c + na1_c</p>\n",
       "                    <p style='text-align:right'>L-Malate + Sodium --> L-Malate + Sodium</p>\n",
       "                </td>\n",
       "            </tr><tr>\n",
       "                <td><strong>GPR</strong></td><td>NGO1485 or NGO0377 or NGO1957</td>\n",
       "            </tr><tr>\n",
       "                <td><strong>Lower bound</strong></td><td>0.0</td>\n",
       "            </tr><tr>\n",
       "                <td><strong>Upper bound</strong></td><td>1000.0</td>\n",
       "            </tr>\n",
       "        </table>\n",
       "        "
      ],
      "text/plain": [
       "<Reaction Malt1pp at 0x1487ab18dc0>"
      ]
     },
     "execution_count": 234,
     "metadata": {},
     "output_type": "execute_result"
    }
   ],
   "source": [
    "r=model.reactions.Malt1pp\n",
    "model.metabolites.mal_L_p.charge=-2\n",
    "print(r.check_mass_balance())\n",
    "r"
   ]
  },
  {
   "cell_type": "code",
   "execution_count": 235,
   "id": "b80be453-9afc-41a4-9f91-f29507531976",
   "metadata": {},
   "outputs": [
    {
     "name": "stdout",
     "output_type": "stream",
     "text": [
      "{}\n"
     ]
    },
    {
     "data": {
      "text/html": [
       "\n",
       "        <table>\n",
       "            <tr>\n",
       "                <td><strong>Reaction identifier</strong></td><td>MI1PP</td>\n",
       "            </tr><tr>\n",
       "                <td><strong>Name</strong></td><td>R_MI1PP</td>\n",
       "            </tr><tr>\n",
       "                <td><strong>Memory address</strong></td>\n",
       "                <td>0x01487ab24f70</td>\n",
       "            </tr><tr>\n",
       "                <td><strong>Stoichiometry</strong></td>\n",
       "                <td>\n",
       "                    <p style='text-align:right'>h2o_c + mi1p_D_c --> inost_c + pi_c</p>\n",
       "                    <p style='text-align:right'>H2O + 1D-myo-Inositol-1-phosphate --> myo-Inositol + Phosphate</p>\n",
       "                </td>\n",
       "            </tr><tr>\n",
       "                <td><strong>GPR</strong></td><td>NGO2161 or NGO0671</td>\n",
       "            </tr><tr>\n",
       "                <td><strong>Lower bound</strong></td><td>0.0</td>\n",
       "            </tr><tr>\n",
       "                <td><strong>Upper bound</strong></td><td>1000.0</td>\n",
       "            </tr>\n",
       "        </table>\n",
       "        "
      ],
      "text/plain": [
       "<Reaction MI1PP at 0x1487ab24f70>"
      ]
     },
     "execution_count": 235,
     "metadata": {},
     "output_type": "execute_result"
    }
   ],
   "source": [
    "r=model.reactions.MI1PP\n",
    "model.metabolites.mi1p_D_c.charge=-2\n",
    "print(r.check_mass_balance())\n",
    "r"
   ]
  },
  {
   "cell_type": "code",
   "execution_count": 236,
   "id": "928712f6-4fe0-42a6-9d91-c54246b55dd6",
   "metadata": {},
   "outputs": [
    {
     "name": "stdout",
     "output_type": "stream",
     "text": [
      "{}\n"
     ]
    },
    {
     "data": {
      "text/html": [
       "\n",
       "        <table>\n",
       "            <tr>\n",
       "                <td><strong>Reaction identifier</strong></td><td>3HAD140</td>\n",
       "            </tr><tr>\n",
       "                <td><strong>Name</strong></td><td>R_3HAD140</td>\n",
       "            </tr><tr>\n",
       "                <td><strong>Memory address</strong></td>\n",
       "                <td>0x014879582670</td>\n",
       "            </tr><tr>\n",
       "                <td><strong>Stoichiometry</strong></td>\n",
       "                <td>\n",
       "                    <p style='text-align:right'>3hmrsACP_c --> h2o_c + tmrs2eACP_c</p>\n",
       "                    <p style='text-align:right'>R-3-Hydroxytetradecanoyl-acyl-carrier-protein --> H2O + trans-Tetradec-2-enoyl-acyl-carrier-protein</p>\n",
       "                </td>\n",
       "            </tr><tr>\n",
       "                <td><strong>GPR</strong></td><td>NGO1804</td>\n",
       "            </tr><tr>\n",
       "                <td><strong>Lower bound</strong></td><td>0.0</td>\n",
       "            </tr><tr>\n",
       "                <td><strong>Upper bound</strong></td><td>1000.0</td>\n",
       "            </tr>\n",
       "        </table>\n",
       "        "
      ],
      "text/plain": [
       "<Reaction 3HAD140 at 0x14879582670>"
      ]
     },
     "execution_count": 236,
     "metadata": {},
     "output_type": "execute_result"
    }
   ],
   "source": [
    "r=model.reactions.get_by_id('3HAD140')\n",
    "#Update charge from bigg\n",
    "model.metabolites.get_by_id('tmrs2eACP_c').charge=-1\n",
    "print(r.check_mass_balance())\n",
    "r\n"
   ]
  },
  {
   "cell_type": "code",
   "execution_count": 237,
   "id": "e6082900-44cc-4ae6-bcc0-f16b74c5a3b1",
   "metadata": {},
   "outputs": [
    {
     "name": "stdout",
     "output_type": "stream",
     "text": [
      "63 63 63\n"
     ]
    },
    {
     "data": {
      "text/html": [
       "<div>\n",
       "<style scoped>\n",
       "    .dataframe tbody tr th:only-of-type {\n",
       "        vertical-align: middle;\n",
       "    }\n",
       "\n",
       "    .dataframe tbody tr th {\n",
       "        vertical-align: top;\n",
       "    }\n",
       "\n",
       "    .dataframe thead th {\n",
       "        text-align: right;\n",
       "    }\n",
       "</style>\n",
       "<table border=\"1\" class=\"dataframe\">\n",
       "  <thead>\n",
       "    <tr style=\"text-align: right;\">\n",
       "      <th></th>\n",
       "      <th>Reactions</th>\n",
       "      <th>Charge</th>\n",
       "      <th>Masses</th>\n",
       "    </tr>\n",
       "  </thead>\n",
       "  <tbody>\n",
       "    <tr>\n",
       "      <th>0</th>\n",
       "      <td>3OAS161a</td>\n",
       "      <td>2.0</td>\n",
       "      <td>{'C': -12.0, 'H': -21.0, 'N': -2.0, 'O': -9.0,...</td>\n",
       "    </tr>\n",
       "    <tr>\n",
       "      <th>1</th>\n",
       "      <td>ADPT</td>\n",
       "      <td>-1.0</td>\n",
       "      <td>{'H': -1.0}</td>\n",
       "    </tr>\n",
       "    <tr>\n",
       "      <th>2</th>\n",
       "      <td>AGPAT161a</td>\n",
       "      <td>-2.0</td>\n",
       "      <td>{}</td>\n",
       "    </tr>\n",
       "    <tr>\n",
       "      <th>3</th>\n",
       "      <td>AGPAT181</td>\n",
       "      <td>-2.0</td>\n",
       "      <td>{}</td>\n",
       "    </tr>\n",
       "    <tr>\n",
       "      <th>4</th>\n",
       "      <td>BTS4</td>\n",
       "      <td></td>\n",
       "      <td>{'S': 1.0}</td>\n",
       "    </tr>\n",
       "    <tr>\n",
       "      <th>...</th>\n",
       "      <td>...</td>\n",
       "      <td>...</td>\n",
       "      <td>...</td>\n",
       "    </tr>\n",
       "    <tr>\n",
       "      <th>58</th>\n",
       "      <td>PTHPS</td>\n",
       "      <td></td>\n",
       "      <td>{'C': -9.0, 'H': -11.0, 'N': -5.0, 'O': -3.0}</td>\n",
       "    </tr>\n",
       "    <tr>\n",
       "      <th>59</th>\n",
       "      <td>CPH4S</td>\n",
       "      <td>1.0</td>\n",
       "      <td>{'C': -7.0, 'H': -8.0, 'N': -5.0, 'O': -3.0}</td>\n",
       "    </tr>\n",
       "    <tr>\n",
       "      <th>60</th>\n",
       "      <td>CDGS</td>\n",
       "      <td></td>\n",
       "      <td>{'H': 3.0, 'N': 1.0}</td>\n",
       "    </tr>\n",
       "    <tr>\n",
       "      <th>61</th>\n",
       "      <td>CDGR</td>\n",
       "      <td>-1.0</td>\n",
       "      <td>{'H': -5.0}</td>\n",
       "    </tr>\n",
       "    <tr>\n",
       "      <th>62</th>\n",
       "      <td>CCGS</td>\n",
       "      <td>-1.0</td>\n",
       "      <td>{'N': -1.0, 'O': 2.0}</td>\n",
       "    </tr>\n",
       "  </tbody>\n",
       "</table>\n",
       "<p>63 rows × 3 columns</p>\n",
       "</div>"
      ],
      "text/plain": [
       "    Reactions Charge                                             Masses\n",
       "0    3OAS161a    2.0  {'C': -12.0, 'H': -21.0, 'N': -2.0, 'O': -9.0,...\n",
       "1        ADPT   -1.0                                        {'H': -1.0}\n",
       "2   AGPAT161a   -2.0                                                 {}\n",
       "3    AGPAT181   -2.0                                                 {}\n",
       "4        BTS4                                                {'S': 1.0}\n",
       "..        ...    ...                                                ...\n",
       "58      PTHPS             {'C': -9.0, 'H': -11.0, 'N': -5.0, 'O': -3.0}\n",
       "59      CPH4S    1.0       {'C': -7.0, 'H': -8.0, 'N': -5.0, 'O': -3.0}\n",
       "60       CDGS                                      {'H': 3.0, 'N': 1.0}\n",
       "61       CDGR   -1.0                                        {'H': -5.0}\n",
       "62       CCGS   -1.0                              {'N': -1.0, 'O': 2.0}\n",
       "\n",
       "[63 rows x 3 columns]"
      ]
     },
     "execution_count": 237,
     "metadata": {},
     "output_type": "execute_result"
    }
   ],
   "source": [
    "#After bulk removing cofactors, what reaction imbalances remain?\n",
    "reactions = []\n",
    "charge = []\n",
    "mass = []\n",
    "for react in model.reactions:\n",
    "    result = react.check_mass_balance()\n",
    "    if 'EX_' in  react.id:\n",
    "        continue\n",
    "    if 'Nm_' in  react.id:\n",
    "        continue\n",
    "    if 'DM_' in  react.id:\n",
    "        continue \n",
    "    if react.id in biomass_reactions:\n",
    "        continue\n",
    "    if len(result) == 0:\n",
    "        continue\n",
    "    else: \n",
    "        reactions.append(react.id)\n",
    "        masses = {}\n",
    "        for key in result.keys():\n",
    "            if key == 'charge':\n",
    "                charge.append(result['charge'])\n",
    "            else:\n",
    "                masses[key] = result[key]\n",
    "        if 'charge' not in result.keys():\n",
    "            charge.append('')\n",
    "        mass.append(masses)\n",
    "print(len(reactions), len(charge), len(mass))\n",
    "\n",
    "mass_charge_dict = {'Reactions': reactions, 'Charge': charge, 'Masses': mass}\n",
    "mass_charge = pandas.DataFrame(mass_charge_dict)\n",
    "mass_charge.to_csv('imbalancesremaining.csv')\n",
    "mass_charge"
   ]
  },
  {
   "cell_type": "code",
   "execution_count": 238,
   "id": "40714c75-aee7-43c6-a934-dbec7fdefd30",
   "metadata": {},
   "outputs": [
    {
     "name": "stdout",
     "output_type": "stream",
     "text": [
      "{}\n"
     ]
    },
    {
     "data": {
      "text/html": [
       "\n",
       "        <table>\n",
       "            <tr>\n",
       "                <td><strong>Reaction identifier</strong></td><td>3OAS161a</td>\n",
       "            </tr><tr>\n",
       "                <td><strong>Name</strong></td><td>R_3OAS161a</td>\n",
       "            </tr><tr>\n",
       "                <td><strong>Memory address</strong></td>\n",
       "                <td>0x014878d20ee0</td>\n",
       "            </tr><tr>\n",
       "                <td><strong>Stoichiometry</strong></td>\n",
       "                <td>\n",
       "                    <p style='text-align:right'>cmrs3eACP_c + h_c + malACP_c --> 3ocpalm5eACP_c + ACP_c + co2_c</p>\n",
       "                    <p style='text-align:right'>cis-Tetradec-3-enoyl-acyl-carrier-protein + H + Malonyl-acyl-carrier-protein --> 3-oxo-cis-palm-5-eoyl-acyl-carrier-protein + acyl-carrier-protein + CO2</p>\n",
       "                </td>\n",
       "            </tr><tr>\n",
       "                <td><strong>GPR</strong></td><td>NGO1763</td>\n",
       "            </tr><tr>\n",
       "                <td><strong>Lower bound</strong></td><td>0.0</td>\n",
       "            </tr><tr>\n",
       "                <td><strong>Upper bound</strong></td><td>1000.0</td>\n",
       "            </tr>\n",
       "        </table>\n",
       "        "
      ],
      "text/plain": [
       "<Reaction 3OAS161a at 0x14878d20ee0>"
      ]
     },
     "execution_count": 238,
     "metadata": {},
     "output_type": "execute_result"
    }
   ],
   "source": [
    "#Added ACP and co2 to this reaction, as is seen in 3OAS161 for mass balance. \n",
    "r=model.reactions.get_by_id('3OAS161a')\n",
    "ACP_c=model.metabolites.get_by_id('ACP_c')\n",
    "co2_c=model.metabolites.get_by_id('co2_c')\n",
    "r.add_metabolites({\n",
    "    ACP_c:1,\n",
    "    co2_c:1\n",
    "      })\n",
    "model.metabolites.get_by_id('3ocpalm5eACP_c').charge=-1\n",
    "print(r.check_mass_balance())\n",
    "r\n"
   ]
  },
  {
   "cell_type": "code",
   "execution_count": 239,
   "id": "dd5c5ddc-0265-4e6f-aa8f-7b2c56f06aef",
   "metadata": {},
   "outputs": [
    {
     "name": "stdout",
     "output_type": "stream",
     "text": [
      "{}\n"
     ]
    },
    {
     "data": {
      "text/html": [
       "\n",
       "        <table>\n",
       "            <tr>\n",
       "                <td><strong>Reaction identifier</strong></td><td>3OAR161x</td>\n",
       "            </tr><tr>\n",
       "                <td><strong>Name</strong></td><td>R_3OAR161x</td>\n",
       "            </tr><tr>\n",
       "                <td><strong>Memory address</strong></td>\n",
       "                <td>0x014879573f70</td>\n",
       "            </tr><tr>\n",
       "                <td><strong>Stoichiometry</strong></td>\n",
       "                <td>\n",
       "                    <p style='text-align:right'>3ocpalm5eACP_c + h_c + nadph_c --> 3hcpalm5eACP_c + nadp_c</p>\n",
       "                    <p style='text-align:right'>3-oxo-cis-palm-5-eoyl-acyl-carrier-protein + H + Nicotinamide-adenine-dinucleotide-phosphate--reduced --> M_3hcpalm5eACP_c + Nicotinamide-adenine-dinucleotide-phosphate</p>\n",
       "                </td>\n",
       "            </tr><tr>\n",
       "                <td><strong>GPR</strong></td><td>NGO2163 or NGO2163</td>\n",
       "            </tr><tr>\n",
       "                <td><strong>Lower bound</strong></td><td>0.0</td>\n",
       "            </tr><tr>\n",
       "                <td><strong>Upper bound</strong></td><td>1000.0</td>\n",
       "            </tr>\n",
       "        </table>\n",
       "        "
      ],
      "text/plain": [
       "<Reaction 3OAR161x at 0x14879573f70>"
      ]
     },
     "execution_count": 239,
     "metadata": {},
     "output_type": "execute_result"
    }
   ],
   "source": [
    "r=model.reactions.get_by_id('3OAR161x')\n",
    "model.metabolites.get_by_id('3hcpalm5eACP_c').charge=-1\n",
    "print(r.check_mass_balance())\n",
    "r"
   ]
  },
  {
   "cell_type": "code",
   "execution_count": 240,
   "id": "98da7d9a-8b2d-4121-b39d-e3805d2319b6",
   "metadata": {},
   "outputs": [
    {
     "name": "stdout",
     "output_type": "stream",
     "text": [
      "{}\n"
     ]
    },
    {
     "data": {
      "text/html": [
       "\n",
       "        <table>\n",
       "            <tr>\n",
       "                <td><strong>Reaction identifier</strong></td><td>3HAD161x</td>\n",
       "            </tr><tr>\n",
       "                <td><strong>Name</strong></td><td>R_3HAD161x</td>\n",
       "            </tr><tr>\n",
       "                <td><strong>Memory address</strong></td>\n",
       "                <td>0x014879597550</td>\n",
       "            </tr><tr>\n",
       "                <td><strong>Stoichiometry</strong></td>\n",
       "                <td>\n",
       "                    <p style='text-align:right'>3hcpalm5eACP_c --> h2o_c + t3c5palmeACP_c</p>\n",
       "                    <p style='text-align:right'>M_3hcpalm5eACP_c --> H2O + Abbreviated name t3c5palmeACP_c trans-3-cis-5-palmitoleoyl-acyl-carrier-protein t3c5palmeACP_c trans-3-cis-5-palmitoleoyl-acyl-carrier-protein Name: Full name, dtype: object</p>\n",
       "                </td>\n",
       "            </tr><tr>\n",
       "                <td><strong>GPR</strong></td><td>NGO1804</td>\n",
       "            </tr><tr>\n",
       "                <td><strong>Lower bound</strong></td><td>0.0</td>\n",
       "            </tr><tr>\n",
       "                <td><strong>Upper bound</strong></td><td>1000.0</td>\n",
       "            </tr>\n",
       "        </table>\n",
       "        "
      ],
      "text/plain": [
       "<Reaction 3HAD161x at 0x14879597550>"
      ]
     },
     "execution_count": 240,
     "metadata": {},
     "output_type": "execute_result"
    }
   ],
   "source": [
    "r=model.reactions.get_by_id('3HAD161x')\n",
    "model.metabolites.get_by_id('t3c5palmeACP_c').charge=-1\n",
    "print(r.check_mass_balance())\n",
    "r"
   ]
  },
  {
   "cell_type": "code",
   "execution_count": 241,
   "id": "a0b7e87e-6294-4d76-a13f-347dd78df7d0",
   "metadata": {},
   "outputs": [
    {
     "name": "stdout",
     "output_type": "stream",
     "text": [
      "{}\n"
     ]
    },
    {
     "data": {
      "text/html": [
       "\n",
       "        <table>\n",
       "            <tr>\n",
       "                <td><strong>Reaction identifier</strong></td><td>AGPAT161a</td>\n",
       "            </tr><tr>\n",
       "                <td><strong>Name</strong></td><td>R_AGPAT161a</td>\n",
       "            </tr><tr>\n",
       "                <td><strong>Memory address</strong></td>\n",
       "                <td>0x014878d37ca0</td>\n",
       "            </tr><tr>\n",
       "                <td><strong>Stoichiometry</strong></td>\n",
       "                <td>\n",
       "                    <p style='text-align:right'>1hdect9eg3p_c + hdet9ACP_c --> ACP_c + pa161_c</p>\n",
       "                    <p style='text-align:right'>1-hexadec-trans-9-enoyl-sn-glycerol-3-phosphate + trans-hexadec-9-enoyl-acyl-carrier-protein-n-C161 --> acyl-carrier-protein + 1-2-dihexadec-trans-9-enoyl-sn-glycerol-3-phosphate</p>\n",
       "                </td>\n",
       "            </tr><tr>\n",
       "                <td><strong>GPR</strong></td><td>NGO2069 or NGO0611</td>\n",
       "            </tr><tr>\n",
       "                <td><strong>Lower bound</strong></td><td>0.0</td>\n",
       "            </tr><tr>\n",
       "                <td><strong>Upper bound</strong></td><td>1000.0</td>\n",
       "            </tr>\n",
       "        </table>\n",
       "        "
      ],
      "text/plain": [
       "<Reaction AGPAT161a at 0x14878d37ca0>"
      ]
     },
     "execution_count": 241,
     "metadata": {},
     "output_type": "execute_result"
    }
   ],
   "source": [
    "r=model.reactions.get_by_id('AGPAT161a')\n",
    "model.metabolites.get_by_id('1hdect9eg3p_c').charge=-2\n",
    "print(r.check_mass_balance())\n",
    "r"
   ]
  },
  {
   "cell_type": "code",
   "execution_count": 242,
   "id": "5c7fc606-d5c5-42f2-aeee-5bde77a137b5",
   "metadata": {},
   "outputs": [
    {
     "name": "stdout",
     "output_type": "stream",
     "text": [
      "{}\n"
     ]
    },
    {
     "data": {
      "text/html": [
       "\n",
       "        <table>\n",
       "            <tr>\n",
       "                <td><strong>Reaction identifier</strong></td><td>AGPAT181</td>\n",
       "            </tr><tr>\n",
       "                <td><strong>Name</strong></td><td>R_AGPAT181</td>\n",
       "            </tr><tr>\n",
       "                <td><strong>Memory address</strong></td>\n",
       "                <td>0x014878cf5760</td>\n",
       "            </tr><tr>\n",
       "                <td><strong>Stoichiometry</strong></td>\n",
       "                <td>\n",
       "                    <p style='text-align:right'>1odec7eg3p_c + oct7eACP_c --> ACP_c + pa181_c</p>\n",
       "                    <p style='text-align:right'>1-octadec-7-enoyl-sn-glycerol-3-phosphate + cis-octadec-7-enoyl-acyl-carrier-protein-n-C181 --> acyl-carrier-protein + 1-2-dioctadec-7-enoyl-sn-glycerol-3-phosphate</p>\n",
       "                </td>\n",
       "            </tr><tr>\n",
       "                <td><strong>GPR</strong></td><td>NGO2069 or NGO0611</td>\n",
       "            </tr><tr>\n",
       "                <td><strong>Lower bound</strong></td><td>0.0</td>\n",
       "            </tr><tr>\n",
       "                <td><strong>Upper bound</strong></td><td>1000.0</td>\n",
       "            </tr>\n",
       "        </table>\n",
       "        "
      ],
      "text/plain": [
       "<Reaction AGPAT181 at 0x14878cf5760>"
      ]
     },
     "execution_count": 242,
     "metadata": {},
     "output_type": "execute_result"
    }
   ],
   "source": [
    "r=model.reactions.get_by_id('AGPAT181')\n",
    "model.metabolites.get_by_id('1odec7eg3p_c').charge= -2\n",
    "print(r.check_mass_balance())\n",
    "r"
   ]
  },
  {
   "cell_type": "code",
   "execution_count": 243,
   "id": "9b9eb750-96b6-4e2e-a24e-d0f40242de2d",
   "metadata": {},
   "outputs": [
    {
     "name": "stdout",
     "output_type": "stream",
     "text": [
      "{}\n"
     ]
    },
    {
     "data": {
      "text/html": [
       "\n",
       "        <table>\n",
       "            <tr>\n",
       "                <td><strong>Reaction identifier</strong></td><td>DASYN161a</td>\n",
       "            </tr><tr>\n",
       "                <td><strong>Name</strong></td><td>R_DASYN161a</td>\n",
       "            </tr><tr>\n",
       "                <td><strong>Memory address</strong></td>\n",
       "                <td>0x014878cbfac0</td>\n",
       "            </tr><tr>\n",
       "                <td><strong>Stoichiometry</strong></td>\n",
       "                <td>\n",
       "                    <p style='text-align:right'>ctp_c + h_c + pa161_c --> cdp161_c + ppi_c</p>\n",
       "                    <p style='text-align:right'>CTP + H + 1-2-dihexadec-trans-9-enoyl-sn-glycerol-3-phosphate --> cdp-1-hexadec-trans-9-enoyl-2-octadeca-cis-7-enoyl-sn-glycerol + Diphosphate</p>\n",
       "                </td>\n",
       "            </tr><tr>\n",
       "                <td><strong>GPR</strong></td><td>NGO1798</td>\n",
       "            </tr><tr>\n",
       "                <td><strong>Lower bound</strong></td><td>0.0</td>\n",
       "            </tr><tr>\n",
       "                <td><strong>Upper bound</strong></td><td>1000.0</td>\n",
       "            </tr>\n",
       "        </table>\n",
       "        "
      ],
      "text/plain": [
       "<Reaction DASYN161a at 0x14878cbfac0>"
      ]
     },
     "execution_count": 243,
     "metadata": {},
     "output_type": "execute_result"
    }
   ],
   "source": [
    "#From Bigg for DASYN161\n",
    "r=model.reactions.get_by_id('DASYN161a')\n",
    "model.metabolites.get_by_id('cdp161_c').charge=-2\n",
    "model.metabolites.get_by_id('cdp161_c').formula= 'C44H75N3O15P2'\n",
    "print(r.check_mass_balance())\n",
    "r"
   ]
  },
  {
   "cell_type": "code",
   "execution_count": 244,
   "id": "01000cf4-a7c5-4f21-989e-1b1bc878a2ee",
   "metadata": {},
   "outputs": [
    {
     "name": "stdout",
     "output_type": "stream",
     "text": [
      "{}\n"
     ]
    },
    {
     "data": {
      "text/html": [
       "\n",
       "        <table>\n",
       "            <tr>\n",
       "                <td><strong>Reaction identifier</strong></td><td>DASYN181</td>\n",
       "            </tr><tr>\n",
       "                <td><strong>Name</strong></td><td>R_DASYN181</td>\n",
       "            </tr><tr>\n",
       "                <td><strong>Memory address</strong></td>\n",
       "                <td>0x014879ad6df0</td>\n",
       "            </tr><tr>\n",
       "                <td><strong>Stoichiometry</strong></td>\n",
       "                <td>\n",
       "                    <p style='text-align:right'>ctp_c + h_c + pa181_c --> cdpdodec7eg_c + ppi_c</p>\n",
       "                    <p style='text-align:right'>CTP + H + 1-2-dioctadec-7-enoyl-sn-glycerol-3-phosphate --> CDP-1-2-dioctadec-7-enoylglycerol + Diphosphate</p>\n",
       "                </td>\n",
       "            </tr><tr>\n",
       "                <td><strong>GPR</strong></td><td>NGO1798</td>\n",
       "            </tr><tr>\n",
       "                <td><strong>Lower bound</strong></td><td>0.0</td>\n",
       "            </tr><tr>\n",
       "                <td><strong>Upper bound</strong></td><td>1000.0</td>\n",
       "            </tr>\n",
       "        </table>\n",
       "        "
      ],
      "text/plain": [
       "<Reaction DASYN181 at 0x14879ad6df0>"
      ]
     },
     "execution_count": 244,
     "metadata": {},
     "output_type": "execute_result"
    }
   ],
   "source": [
    "r=model.reactions.get_by_id('DASYN181')\n",
    "model.metabolites.get_by_id('cdpdodec7eg_c').charge=-2\n",
    "print(r.check_mass_balance())\n",
    "r"
   ]
  },
  {
   "cell_type": "code",
   "execution_count": 245,
   "id": "0798ef02-1994-420d-86cf-9d75fc5654ab",
   "metadata": {},
   "outputs": [
    {
     "name": "stdout",
     "output_type": "stream",
     "text": [
      "{}\n"
     ]
    },
    {
     "data": {
      "text/html": [
       "\n",
       "        <table>\n",
       "            <tr>\n",
       "                <td><strong>Reaction identifier</strong></td><td>EAR161a</td>\n",
       "            </tr><tr>\n",
       "                <td><strong>Name</strong></td><td>R_EAR161a</td>\n",
       "            </tr><tr>\n",
       "                <td><strong>Memory address</strong></td>\n",
       "                <td>0x014879ab0a60</td>\n",
       "            </tr><tr>\n",
       "                <td><strong>Stoichiometry</strong></td>\n",
       "                <td>\n",
       "                    <p style='text-align:right'>h_c + nadh_c + t3c5palmeACP_c --> h5deACP_c + nad_c</p>\n",
       "                    <p style='text-align:right'>H + Nicotinamide-adenine-dinucleotide--reduced + Abbreviated name t3c5palmeACP_c trans-3-cis-5-palmitoleoyl-acyl-carrier-protein t3c5palmeACP_c trans-3-cis-5-palmitoleoyl-acyl-carrier-protein Name:...</p>\n",
       "                </td>\n",
       "            </tr><tr>\n",
       "                <td><strong>GPR</strong></td><td>NGO1666</td>\n",
       "            </tr><tr>\n",
       "                <td><strong>Lower bound</strong></td><td>0.0</td>\n",
       "            </tr><tr>\n",
       "                <td><strong>Upper bound</strong></td><td>1000.0</td>\n",
       "            </tr>\n",
       "        </table>\n",
       "        "
      ],
      "text/plain": [
       "<Reaction EAR161a at 0x14879ab0a60>"
      ]
     },
     "execution_count": 245,
     "metadata": {},
     "output_type": "execute_result"
    }
   ],
   "source": [
    "r=model.reactions.get_by_id('EAR161a')\n",
    "#Based on Bigg charge for similar molecules in EAR161\n",
    "model.metabolites.get_by_id('h5deACP_c').charge=-1\n",
    "print(r.check_mass_balance())\n",
    "r"
   ]
  },
  {
   "cell_type": "code",
   "execution_count": 246,
   "id": "685af55a-b4a4-4a5f-9e7b-435ffd7f4d78",
   "metadata": {},
   "outputs": [
    {
     "name": "stdout",
     "output_type": "stream",
     "text": [
      "{}\n"
     ]
    },
    {
     "data": {
      "text/html": [
       "\n",
       "        <table>\n",
       "            <tr>\n",
       "                <td><strong>Reaction identifier</strong></td><td>3OAS181a</td>\n",
       "            </tr><tr>\n",
       "                <td><strong>Name</strong></td><td>R_3OAS181a</td>\n",
       "            </tr><tr>\n",
       "                <td><strong>Memory address</strong></td>\n",
       "                <td>0x014879573610</td>\n",
       "            </tr><tr>\n",
       "                <td><strong>Stoichiometry</strong></td>\n",
       "                <td>\n",
       "                    <p style='text-align:right'>h5deACP_c + h_c + malACP_c --> 3ocvac7eACP_c + ACP_c + co2_c</p>\n",
       "                    <p style='text-align:right'>cis-hexadec-5-enoyl-acyl-carrier-protein-n-C161 + H + Malonyl-acyl-carrier-protein --> 3-oxo-cis-vacc-7-enoyl-acyl-carrier-protein + acyl-carrier-protein + CO2</p>\n",
       "                </td>\n",
       "            </tr><tr>\n",
       "                <td><strong>GPR</strong></td><td>NGO1763</td>\n",
       "            </tr><tr>\n",
       "                <td><strong>Lower bound</strong></td><td>0.0</td>\n",
       "            </tr><tr>\n",
       "                <td><strong>Upper bound</strong></td><td>1000.0</td>\n",
       "            </tr>\n",
       "        </table>\n",
       "        "
      ],
      "text/plain": [
       "<Reaction 3OAS181a at 0x14879573610>"
      ]
     },
     "execution_count": 246,
     "metadata": {},
     "output_type": "execute_result"
    }
   ],
   "source": [
    "r=model.reactions.get_by_id('3OAS181a')\n",
    "#Based on Bigg charge for similar molecules in 3OAS181\n",
    "model.metabolites.get_by_id('3ocvac7eACP_c').charge=-1\n",
    "print(r.check_mass_balance())\n",
    "r\n"
   ]
  },
  {
   "cell_type": "code",
   "execution_count": 247,
   "id": "11f51e68-48eb-4f50-9f9c-5d2e90457b79",
   "metadata": {},
   "outputs": [
    {
     "name": "stdout",
     "output_type": "stream",
     "text": [
      "{}\n"
     ]
    },
    {
     "data": {
      "text/html": [
       "\n",
       "        <table>\n",
       "            <tr>\n",
       "                <td><strong>Reaction identifier</strong></td><td>3OAR181x</td>\n",
       "            </tr><tr>\n",
       "                <td><strong>Name</strong></td><td>R_3OAR181x</td>\n",
       "            </tr><tr>\n",
       "                <td><strong>Memory address</strong></td>\n",
       "                <td>0x014879577f10</td>\n",
       "            </tr><tr>\n",
       "                <td><strong>Stoichiometry</strong></td>\n",
       "                <td>\n",
       "                    <p style='text-align:right'>3ocvac7eACP_c + h_c + nadph_c --> 3hcvac7eACP_c + nadp_c</p>\n",
       "                    <p style='text-align:right'>3-oxo-cis-vacc-7-enoyl-acyl-carrier-protein + H + Nicotinamide-adenine-dinucleotide-phosphate--reduced --> R-3-hydroxy-cis-vacc-7-enoyl-acyl-carrier-protein + Nicotinamide-adenine-dinucleotide-...</p>\n",
       "                </td>\n",
       "            </tr><tr>\n",
       "                <td><strong>GPR</strong></td><td>NGO2163 or NGO2163</td>\n",
       "            </tr><tr>\n",
       "                <td><strong>Lower bound</strong></td><td>0.0</td>\n",
       "            </tr><tr>\n",
       "                <td><strong>Upper bound</strong></td><td>1000.0</td>\n",
       "            </tr>\n",
       "        </table>\n",
       "        "
      ],
      "text/plain": [
       "<Reaction 3OAR181x at 0x14879577f10>"
      ]
     },
     "execution_count": 247,
     "metadata": {},
     "output_type": "execute_result"
    }
   ],
   "source": [
    "r=model.reactions.get_by_id('3OAR181x')\n",
    "#Based on Bigg charge for similar molecules in 3OAR181x\n",
    "model.metabolites.get_by_id('3hcvac7eACP_c').charge=-1\n",
    "print(r.check_mass_balance())\n",
    "r"
   ]
  },
  {
   "cell_type": "code",
   "execution_count": 248,
   "id": "661f5b30-4eb4-45d6-a72d-8d9fc93d9e2a",
   "metadata": {},
   "outputs": [
    {
     "name": "stdout",
     "output_type": "stream",
     "text": [
      "{}\n"
     ]
    },
    {
     "data": {
      "text/html": [
       "\n",
       "        <table>\n",
       "            <tr>\n",
       "                <td><strong>Reaction identifier</strong></td><td>3HAD181a</td>\n",
       "            </tr><tr>\n",
       "                <td><strong>Name</strong></td><td>R_3HAD181a</td>\n",
       "            </tr><tr>\n",
       "                <td><strong>Memory address</strong></td>\n",
       "                <td>0x014879597ee0</td>\n",
       "            </tr><tr>\n",
       "                <td><strong>Stoichiometry</strong></td>\n",
       "                <td>\n",
       "                    <p style='text-align:right'>3hcvac7eACP_c --> h2o_c + t3c7vaceACP_c</p>\n",
       "                    <p style='text-align:right'>R-3-hydroxy-cis-vacc-7-enoyl-acyl-carrier-protein --> H2O + trans-3-cis-7-vacceoyl-acyl-carrier-protein</p>\n",
       "                </td>\n",
       "            </tr><tr>\n",
       "                <td><strong>GPR</strong></td><td>NGO1804</td>\n",
       "            </tr><tr>\n",
       "                <td><strong>Lower bound</strong></td><td>0.0</td>\n",
       "            </tr><tr>\n",
       "                <td><strong>Upper bound</strong></td><td>1000.0</td>\n",
       "            </tr>\n",
       "        </table>\n",
       "        "
      ],
      "text/plain": [
       "<Reaction 3HAD181a at 0x14879597ee0>"
      ]
     },
     "execution_count": 248,
     "metadata": {},
     "output_type": "execute_result"
    }
   ],
   "source": [
    "r=model.reactions.get_by_id('3HAD181a')\n",
    "#Based on Bigg charge for similar molecules in 3HAD181\n",
    "model.metabolites.get_by_id('t3c7vaceACP_c').charge=-1\n",
    "print(r.check_mass_balance())\n",
    "r\n"
   ]
  },
  {
   "cell_type": "code",
   "execution_count": 249,
   "id": "5825fa7f-cc9f-4391-b578-64e704fc0c72",
   "metadata": {},
   "outputs": [
    {
     "name": "stdout",
     "output_type": "stream",
     "text": [
      "{}\n"
     ]
    },
    {
     "data": {
      "text/html": [
       "\n",
       "        <table>\n",
       "            <tr>\n",
       "                <td><strong>Reaction identifier</strong></td><td>MALtex</td>\n",
       "            </tr><tr>\n",
       "                <td><strong>Name</strong></td><td>R_MALtex</td>\n",
       "            </tr><tr>\n",
       "                <td><strong>Memory address</strong></td>\n",
       "                <td>0x01487ab18f10</td>\n",
       "            </tr><tr>\n",
       "                <td><strong>Stoichiometry</strong></td>\n",
       "                <td>\n",
       "                    <p style='text-align:right'>mal_L_e <=> mal_L_p</p>\n",
       "                    <p style='text-align:right'>L-Malate <=> L-Malate</p>\n",
       "                </td>\n",
       "            </tr><tr>\n",
       "                <td><strong>GPR</strong></td><td>NGO1812</td>\n",
       "            </tr><tr>\n",
       "                <td><strong>Lower bound</strong></td><td>-1000.0</td>\n",
       "            </tr><tr>\n",
       "                <td><strong>Upper bound</strong></td><td>1000.0</td>\n",
       "            </tr>\n",
       "        </table>\n",
       "        "
      ],
      "text/plain": [
       "<Reaction MALtex at 0x1487ab18f10>"
      ]
     },
     "execution_count": 249,
     "metadata": {},
     "output_type": "execute_result"
    }
   ],
   "source": [
    "r=model.reactions.get_by_id('MALtex')\n",
    "model.metabolites.get_by_id('mal_L_e').charge=-2\n",
    "print(r.check_mass_balance())\n",
    "r"
   ]
  },
  {
   "cell_type": "code",
   "execution_count": 250,
   "id": "27f3fb44-61da-4930-8c25-42309615125f",
   "metadata": {},
   "outputs": [
    {
     "name": "stdout",
     "output_type": "stream",
     "text": [
      "{}\n"
     ]
    },
    {
     "data": {
      "text/html": [
       "\n",
       "        <table>\n",
       "            <tr>\n",
       "                <td><strong>Reaction identifier</strong></td><td>pa161abcpp</td>\n",
       "            </tr><tr>\n",
       "                <td><strong>Name</strong></td><td>R_pa161abcpp</td>\n",
       "            </tr><tr>\n",
       "                <td><strong>Memory address</strong></td>\n",
       "                <td>0x01487ab4bc10</td>\n",
       "            </tr><tr>\n",
       "                <td><strong>Stoichiometry</strong></td>\n",
       "                <td>\n",
       "                    <p style='text-align:right'>atp_c + h2o_c + pa161_c --> adp_c + h_c + pa161_p + pi_c</p>\n",
       "                    <p style='text-align:right'>ATP + H2O + 1-2-dihexadec-trans-9-enoyl-sn-glycerol-3-phosphate --> ADP + H + 1-2-dihexadec-trans-9-enoyl-sn-glycerol-3-phosphate + Phosphate</p>\n",
       "                </td>\n",
       "            </tr><tr>\n",
       "                <td><strong>GPR</strong></td><td>NGO1682 and NGO1801</td>\n",
       "            </tr><tr>\n",
       "                <td><strong>Lower bound</strong></td><td>0.0</td>\n",
       "            </tr><tr>\n",
       "                <td><strong>Upper bound</strong></td><td>1000.0</td>\n",
       "            </tr>\n",
       "        </table>\n",
       "        "
      ],
      "text/plain": [
       "<Reaction pa161abcpp at 0x1487ab4bc10>"
      ]
     },
     "execution_count": 250,
     "metadata": {},
     "output_type": "execute_result"
    }
   ],
   "source": [
    "r=model.reactions.get_by_id('pa161abcpp')\n",
    "model.metabolites.get_by_id('pa161_p').charge=-2\n",
    "print(r.check_mass_balance())\n",
    "r\n",
    "\n"
   ]
  },
  {
   "cell_type": "code",
   "execution_count": 251,
   "id": "a95e583a-4a89-4030-9d2f-6f82b89968aa",
   "metadata": {},
   "outputs": [
    {
     "name": "stdout",
     "output_type": "stream",
     "text": [
      "{}\n"
     ]
    },
    {
     "data": {
      "text/html": [
       "\n",
       "        <table>\n",
       "            <tr>\n",
       "                <td><strong>Reaction identifier</strong></td><td>pa181abcpp</td>\n",
       "            </tr><tr>\n",
       "                <td><strong>Name</strong></td><td>R_pa181abcpp</td>\n",
       "            </tr><tr>\n",
       "                <td><strong>Memory address</strong></td>\n",
       "                <td>0x01487ab4b6a0</td>\n",
       "            </tr><tr>\n",
       "                <td><strong>Stoichiometry</strong></td>\n",
       "                <td>\n",
       "                    <p style='text-align:right'>atp_c + h2o_c + pa181_c --> adp_c + h_c + pa181_p + pi_c</p>\n",
       "                    <p style='text-align:right'>ATP + H2O + 1-2-dioctadec-7-enoyl-sn-glycerol-3-phosphate --> ADP + H + 1-2-dioctadec-7-enoyl-sn-glycerol-3-phosphate + Phosphate</p>\n",
       "                </td>\n",
       "            </tr><tr>\n",
       "                <td><strong>GPR</strong></td><td>NGO1682 and NGO1801</td>\n",
       "            </tr><tr>\n",
       "                <td><strong>Lower bound</strong></td><td>0.0</td>\n",
       "            </tr><tr>\n",
       "                <td><strong>Upper bound</strong></td><td>1000.0</td>\n",
       "            </tr>\n",
       "        </table>\n",
       "        "
      ],
      "text/plain": [
       "<Reaction pa181abcpp at 0x1487ab4b6a0>"
      ]
     },
     "execution_count": 251,
     "metadata": {},
     "output_type": "execute_result"
    }
   ],
   "source": [
    "r=model.reactions.get_by_id('pa181abcpp')\n",
    "model.metabolites.get_by_id('pa181_p').charge=-2\n",
    "print(r.check_mass_balance())\n",
    "r"
   ]
  },
  {
   "cell_type": "code",
   "execution_count": 252,
   "id": "bbc06083-0551-4896-9b62-2f3d427dac61",
   "metadata": {},
   "outputs": [
    {
     "name": "stdout",
     "output_type": "stream",
     "text": [
      "{}\n"
     ]
    },
    {
     "data": {
      "text/html": [
       "\n",
       "        <table>\n",
       "            <tr>\n",
       "                <td><strong>Reaction identifier</strong></td><td>pgp161abcpp</td>\n",
       "            </tr><tr>\n",
       "                <td><strong>Name</strong></td><td>R_pgp161abcpp</td>\n",
       "            </tr><tr>\n",
       "                <td><strong>Memory address</strong></td>\n",
       "                <td>0x01487ab56d60</td>\n",
       "            </tr><tr>\n",
       "                <td><strong>Stoichiometry</strong></td>\n",
       "                <td>\n",
       "                    <p style='text-align:right'>atp_c + h2o_c + pgp161_c --> adp_c + h_c + pgp161_p + pi_c</p>\n",
       "                    <p style='text-align:right'>ATP + H2O + Phosphatidylglycerophosphate-1-hexadec-trans-9-enoyl-2-octadeca-cis-7-enoyl-n-161a --> ADP + H + Phosphatidylglycerophosphate-1-hexadec-trans-9-enoyl-2-octadeca-cis-7-enoyl-n-161a +...</p>\n",
       "                </td>\n",
       "            </tr><tr>\n",
       "                <td><strong>GPR</strong></td><td>NGO1682 and NGO1801</td>\n",
       "            </tr><tr>\n",
       "                <td><strong>Lower bound</strong></td><td>0.0</td>\n",
       "            </tr><tr>\n",
       "                <td><strong>Upper bound</strong></td><td>1000.0</td>\n",
       "            </tr>\n",
       "        </table>\n",
       "        "
      ],
      "text/plain": [
       "<Reaction pgp161abcpp at 0x1487ab56d60>"
      ]
     },
     "execution_count": 252,
     "metadata": {},
     "output_type": "execute_result"
    }
   ],
   "source": [
    "r=model.reactions.get_by_id('pgp161abcpp')\n",
    "model.metabolites.get_by_id('pgp161_p').charge=-3\n",
    "model.metabolites.get_by_id('pgp161_c').charge=-3\n",
    "print(r.check_mass_balance())\n",
    "r\n",
    "\n"
   ]
  },
  {
   "cell_type": "code",
   "execution_count": 253,
   "id": "3246f3fd-6e0e-4c46-8418-cc479c57f74a",
   "metadata": {},
   "outputs": [
    {
     "name": "stdout",
     "output_type": "stream",
     "text": [
      "{}\n"
     ]
    },
    {
     "data": {
      "text/html": [
       "\n",
       "        <table>\n",
       "            <tr>\n",
       "                <td><strong>Reaction identifier</strong></td><td>pgp181abcpp</td>\n",
       "            </tr><tr>\n",
       "                <td><strong>Name</strong></td><td>R_pgp181abcpp</td>\n",
       "            </tr><tr>\n",
       "                <td><strong>Memory address</strong></td>\n",
       "                <td>0x01487ab59820</td>\n",
       "            </tr><tr>\n",
       "                <td><strong>Stoichiometry</strong></td>\n",
       "                <td>\n",
       "                    <p style='text-align:right'>atp_c + h2o_c + pgp181_c --> adp_c + h_c + pgp181_p + pi_c</p>\n",
       "                    <p style='text-align:right'>ATP + H2O + Phosphatidylglycerophosphate-dioctadec-7-enoyl-n-C181 --> ADP + H + Phosphatidylglycerophosphate-dioctadec-7-enoyl-n-C181 + Phosphate</p>\n",
       "                </td>\n",
       "            </tr><tr>\n",
       "                <td><strong>GPR</strong></td><td>NGO1682 and NGO1801</td>\n",
       "            </tr><tr>\n",
       "                <td><strong>Lower bound</strong></td><td>0.0</td>\n",
       "            </tr><tr>\n",
       "                <td><strong>Upper bound</strong></td><td>1000.0</td>\n",
       "            </tr>\n",
       "        </table>\n",
       "        "
      ],
      "text/plain": [
       "<Reaction pgp181abcpp at 0x1487ab59820>"
      ]
     },
     "execution_count": 253,
     "metadata": {},
     "output_type": "execute_result"
    }
   ],
   "source": [
    "r=model.reactions.get_by_id('pgp181abcpp')\n",
    "model.metabolites.get_by_id('pgp181_p').charge=-3\n",
    "model.metabolites.get_by_id('pgp181_c').charge=-3\n",
    "print(r.check_mass_balance())\n",
    "r"
   ]
  },
  {
   "cell_type": "code",
   "execution_count": 254,
   "id": "d678e43a-6263-4009-a247-a16995d3b473",
   "metadata": {},
   "outputs": [
    {
     "name": "stdout",
     "output_type": "stream",
     "text": [
      "{}\n"
     ]
    },
    {
     "data": {
      "text/html": [
       "\n",
       "        <table>\n",
       "            <tr>\n",
       "                <td><strong>Reaction identifier</strong></td><td>PGSA161a</td>\n",
       "            </tr><tr>\n",
       "                <td><strong>Name</strong></td><td>R_PGSA161a</td>\n",
       "            </tr><tr>\n",
       "                <td><strong>Memory address</strong></td>\n",
       "                <td>0x01487ab62b50</td>\n",
       "            </tr><tr>\n",
       "                <td><strong>Stoichiometry</strong></td>\n",
       "                <td>\n",
       "                    <p style='text-align:right'>cdp161_c + glyc3p_c --> cmp_c + h_c + pgp161_c</p>\n",
       "                    <p style='text-align:right'>cdp-1-hexadec-trans-9-enoyl-2-octadeca-cis-7-enoyl-sn-glycerol + Glycerol-3-phosphate --> CMP + H + Phosphatidylglycerophosphate-1-hexadec-trans-9-enoyl-2-octadeca-cis-7-enoyl-n-161a</p>\n",
       "                </td>\n",
       "            </tr><tr>\n",
       "                <td><strong>GPR</strong></td><td>NGO1247</td>\n",
       "            </tr><tr>\n",
       "                <td><strong>Lower bound</strong></td><td>0.0</td>\n",
       "            </tr><tr>\n",
       "                <td><strong>Upper bound</strong></td><td>1000.0</td>\n",
       "            </tr>\n",
       "        </table>\n",
       "        "
      ],
      "text/plain": [
       "<Reaction PGSA161a at 0x1487ab62b50>"
      ]
     },
     "execution_count": 254,
     "metadata": {},
     "output_type": "execute_result"
    }
   ],
   "source": [
    "r=model.reactions.get_by_id('PGSA161a')\n",
    "r.add_metabolites({\n",
    "    h_c:1,\n",
    "      })\n",
    "print(r.check_mass_balance())\n",
    "r\n"
   ]
  },
  {
   "cell_type": "code",
   "execution_count": 255,
   "id": "51ee83cd-927f-478a-a7ab-e3814bc281f5",
   "metadata": {},
   "outputs": [
    {
     "name": "stdout",
     "output_type": "stream",
     "text": [
      "{}\n"
     ]
    },
    {
     "data": {
      "text/html": [
       "\n",
       "        <table>\n",
       "            <tr>\n",
       "                <td><strong>Reaction identifier</strong></td><td>PLIPA1A161a</td>\n",
       "            </tr><tr>\n",
       "                <td><strong>Name</strong></td><td>R_PLIPA1A161a</td>\n",
       "            </tr><tr>\n",
       "                <td><strong>Memory address</strong></td>\n",
       "                <td>0x01487ab66a00</td>\n",
       "            </tr><tr>\n",
       "                <td><strong>Stoichiometry</strong></td>\n",
       "                <td>\n",
       "                    <p style='text-align:right'>h2o_p + pa161_p --> 2hdect9g3p_p + hdcat9_p</p>\n",
       "                    <p style='text-align:right'>H2O + 1-2-dihexadec-trans-9-enoyl-sn-glycerol-3-phosphate --> 2-hexadec-trans-9-enoyl-sn-glycerol-3-phosphate + Hexadeca-trans-9-enoyloate-n-C161</p>\n",
       "                </td>\n",
       "            </tr><tr>\n",
       "                <td><strong>GPR</strong></td><td>NGO1492</td>\n",
       "            </tr><tr>\n",
       "                <td><strong>Lower bound</strong></td><td>0.0</td>\n",
       "            </tr><tr>\n",
       "                <td><strong>Upper bound</strong></td><td>1000.0</td>\n",
       "            </tr>\n",
       "        </table>\n",
       "        "
      ],
      "text/plain": [
       "<Reaction PLIPA1A161a at 0x1487ab66a00>"
      ]
     },
     "execution_count": 255,
     "metadata": {},
     "output_type": "execute_result"
    }
   ],
   "source": [
    "r=model.reactions.get_by_id('PLIPA1A161a')\n",
    "model.metabolites.get_by_id('hdcat9_p').charge=-1\n",
    "model.metabolites.get_by_id('2hdect9g3p_p').charge=-1\n",
    "print(r.check_mass_balance())\n",
    "r\n",
    "\n"
   ]
  },
  {
   "cell_type": "code",
   "execution_count": 256,
   "id": "c2a11591-6bfe-4a1a-8e0f-0a31c24f3386",
   "metadata": {},
   "outputs": [
    {
     "name": "stdout",
     "output_type": "stream",
     "text": [
      "{}\n"
     ]
    },
    {
     "data": {
      "text/html": [
       "\n",
       "        <table>\n",
       "            <tr>\n",
       "                <td><strong>Reaction identifier</strong></td><td>PLIPA1A181pp</td>\n",
       "            </tr><tr>\n",
       "                <td><strong>Name</strong></td><td>R_PLIPA1A181pp</td>\n",
       "            </tr><tr>\n",
       "                <td><strong>Memory address</strong></td>\n",
       "                <td>0x01487ab66e50</td>\n",
       "            </tr><tr>\n",
       "                <td><strong>Stoichiometry</strong></td>\n",
       "                <td>\n",
       "                    <p style='text-align:right'>h2o_p + pa181_p --> 2odec7eg3p_p + ocdcea_p</p>\n",
       "                    <p style='text-align:right'>H2O + 1-2-dioctadec-7-enoyl-sn-glycerol-3-phosphate --> 2-octadec-7-enoyl-sn-glycerol-3-phosphate + octadecenoate-n-C181</p>\n",
       "                </td>\n",
       "            </tr><tr>\n",
       "                <td><strong>GPR</strong></td><td>NGO1492</td>\n",
       "            </tr><tr>\n",
       "                <td><strong>Lower bound</strong></td><td>0.0</td>\n",
       "            </tr><tr>\n",
       "                <td><strong>Upper bound</strong></td><td>1000.0</td>\n",
       "            </tr>\n",
       "        </table>\n",
       "        "
      ],
      "text/plain": [
       "<Reaction PLIPA1A181pp at 0x1487ab66e50>"
      ]
     },
     "execution_count": 256,
     "metadata": {},
     "output_type": "execute_result"
    }
   ],
   "source": [
    "r=model.reactions.get_by_id('PLIPA1A181pp')\n",
    "model.metabolites.get_by_id('2odec7eg3p_p').charge=-1\n",
    "print(r.check_mass_balance())\n",
    "r\n"
   ]
  },
  {
   "cell_type": "code",
   "execution_count": 257,
   "id": "4240a524-9a87-4f7e-9da6-a943c0f7ce32",
   "metadata": {},
   "outputs": [
    {
     "name": "stdout",
     "output_type": "stream",
     "text": [
      "{}\n"
     ]
    },
    {
     "name": "stderr",
     "output_type": "stream",
     "text": [
      "C:\\Users\\Aimee\\anaconda3\\lib\\site-packages\\cobra\\core\\model.py:727: UserWarning: need to pass in a list\n",
      "  warn(\"need to pass in a list\")\n"
     ]
    }
   ],
   "source": [
    "r=model.reactions.get_by_id('2AGpa161tipp')\n",
    "model.metabolites.get_by_id('2hdect9g3p_c').charge=-1\n",
    "print(r.check_mass_balance())\n",
    "r\n",
    "#Duplicate reaction with 2AGPA161tipp. Removing\n",
    "model.remove_reactions('2AGpa161tipp')"
   ]
  },
  {
   "cell_type": "code",
   "execution_count": 258,
   "id": "5a3d9ed0-fba7-46e4-b84e-9006f2c7fc1c",
   "metadata": {},
   "outputs": [
    {
     "name": "stdout",
     "output_type": "stream",
     "text": [
      "{}\n"
     ]
    },
    {
     "data": {
      "text/html": [
       "\n",
       "        <table>\n",
       "            <tr>\n",
       "                <td><strong>Reaction identifier</strong></td><td>2AGPA161tipp</td>\n",
       "            </tr><tr>\n",
       "                <td><strong>Name</strong></td><td>R_2AGPA161tipp</td>\n",
       "            </tr><tr>\n",
       "                <td><strong>Memory address</strong></td>\n",
       "                <td>0x014879582070</td>\n",
       "            </tr><tr>\n",
       "                <td><strong>Stoichiometry</strong></td>\n",
       "                <td>\n",
       "                    <p style='text-align:right'>2hdect9g3p_p --> 2hdect9g3p_c</p>\n",
       "                    <p style='text-align:right'>2-hexadec-trans-9-enoyl-sn-glycerol-3-phosphate --> 2-hexadec-trans-9-enoyl-sn-glycerol-3-phosphate</p>\n",
       "                </td>\n",
       "            </tr><tr>\n",
       "                <td><strong>GPR</strong></td><td>NGO1682 and NGO1801</td>\n",
       "            </tr><tr>\n",
       "                <td><strong>Lower bound</strong></td><td>0.0</td>\n",
       "            </tr><tr>\n",
       "                <td><strong>Upper bound</strong></td><td>1000.0</td>\n",
       "            </tr>\n",
       "        </table>\n",
       "        "
      ],
      "text/plain": [
       "<Reaction 2AGPA161tipp at 0x14879582070>"
      ]
     },
     "execution_count": 258,
     "metadata": {},
     "output_type": "execute_result"
    }
   ],
   "source": [
    "r=model.reactions.get_by_id('2AGPA161tipp')\n",
    "model.metabolites.get_by_id('2hdect9g3p_c').charge=-1\n",
    "print(r.check_mass_balance())\n",
    "r"
   ]
  },
  {
   "cell_type": "code",
   "execution_count": 259,
   "id": "f0a94a2f-13f9-4ebb-a83e-452311abb03e",
   "metadata": {},
   "outputs": [
    {
     "name": "stdout",
     "output_type": "stream",
     "text": [
      "{}\n"
     ]
    },
    {
     "data": {
      "text/html": [
       "\n",
       "        <table>\n",
       "            <tr>\n",
       "                <td><strong>Reaction identifier</strong></td><td>2AGPA181tipp</td>\n",
       "            </tr><tr>\n",
       "                <td><strong>Name</strong></td><td>R_2AGPA181tipp</td>\n",
       "            </tr><tr>\n",
       "                <td><strong>Memory address</strong></td>\n",
       "                <td>0x014879596fa0</td>\n",
       "            </tr><tr>\n",
       "                <td><strong>Stoichiometry</strong></td>\n",
       "                <td>\n",
       "                    <p style='text-align:right'>2odec7eg3p_p --> 2odec7eg3p_c</p>\n",
       "                    <p style='text-align:right'>2-octadec-7-enoyl-sn-glycerol-3-phosphate --> 2-octadec-7-enoyl-sn-glycerol-3-phosphate</p>\n",
       "                </td>\n",
       "            </tr><tr>\n",
       "                <td><strong>GPR</strong></td><td>NGO1682 and NGO1801</td>\n",
       "            </tr><tr>\n",
       "                <td><strong>Lower bound</strong></td><td>0.0</td>\n",
       "            </tr><tr>\n",
       "                <td><strong>Upper bound</strong></td><td>1000.0</td>\n",
       "            </tr>\n",
       "        </table>\n",
       "        "
      ],
      "text/plain": [
       "<Reaction 2AGPA181tipp at 0x14879596fa0>"
      ]
     },
     "execution_count": 259,
     "metadata": {},
     "output_type": "execute_result"
    }
   ],
   "source": [
    "r=model.reactions.get_by_id('2AGPA181tipp')\n",
    "model.metabolites.get_by_id('2odec7eg3p_c').charge=-1\n",
    "print(r.check_mass_balance())\n",
    "r"
   ]
  },
  {
   "cell_type": "code",
   "execution_count": 260,
   "id": "572dabdf-6e90-453e-bd32-5b6832a31fc5",
   "metadata": {},
   "outputs": [
    {
     "name": "stdout",
     "output_type": "stream",
     "text": [
      "44 44 44\n"
     ]
    },
    {
     "data": {
      "text/html": [
       "<div>\n",
       "<style scoped>\n",
       "    .dataframe tbody tr th:only-of-type {\n",
       "        vertical-align: middle;\n",
       "    }\n",
       "\n",
       "    .dataframe tbody tr th {\n",
       "        vertical-align: top;\n",
       "    }\n",
       "\n",
       "    .dataframe thead th {\n",
       "        text-align: right;\n",
       "    }\n",
       "</style>\n",
       "<table border=\"1\" class=\"dataframe\">\n",
       "  <thead>\n",
       "    <tr style=\"text-align: right;\">\n",
       "      <th></th>\n",
       "      <th>Reactions</th>\n",
       "      <th>Charge</th>\n",
       "      <th>Masses</th>\n",
       "    </tr>\n",
       "  </thead>\n",
       "  <tbody>\n",
       "    <tr>\n",
       "      <th>0</th>\n",
       "      <td>ADPT</td>\n",
       "      <td>-1.0</td>\n",
       "      <td>{'H': -1.0}</td>\n",
       "    </tr>\n",
       "    <tr>\n",
       "      <th>1</th>\n",
       "      <td>BTS4</td>\n",
       "      <td></td>\n",
       "      <td>{'S': 1.0}</td>\n",
       "    </tr>\n",
       "    <tr>\n",
       "      <th>2</th>\n",
       "      <td>CYTCS</td>\n",
       "      <td>5.0</td>\n",
       "      <td>{'C': 8.0, 'H': 14.0, 'N': 4.0, 'O': 4.0, 'S':...</td>\n",
       "    </tr>\n",
       "    <tr>\n",
       "      <th>3</th>\n",
       "      <td>DHAPtex</td>\n",
       "      <td>-2.0</td>\n",
       "      <td>{}</td>\n",
       "    </tr>\n",
       "    <tr>\n",
       "      <th>4</th>\n",
       "      <td>DHORD2</td>\n",
       "      <td>-1.0</td>\n",
       "      <td>{}</td>\n",
       "    </tr>\n",
       "    <tr>\n",
       "      <th>5</th>\n",
       "      <td>DHORTS</td>\n",
       "      <td>-1.0</td>\n",
       "      <td>{}</td>\n",
       "    </tr>\n",
       "    <tr>\n",
       "      <th>6</th>\n",
       "      <td>DDPGA</td>\n",
       "      <td>-2.0</td>\n",
       "      <td>{}</td>\n",
       "    </tr>\n",
       "    <tr>\n",
       "      <th>7</th>\n",
       "      <td>HGFE</td>\n",
       "      <td>-8.0</td>\n",
       "      <td>{}</td>\n",
       "    </tr>\n",
       "    <tr>\n",
       "      <th>8</th>\n",
       "      <td>EHGLAT</td>\n",
       "      <td>1.0</td>\n",
       "      <td>{}</td>\n",
       "    </tr>\n",
       "    <tr>\n",
       "      <th>9</th>\n",
       "      <td>MAc2</td>\n",
       "      <td>6.0</td>\n",
       "      <td>{}</td>\n",
       "    </tr>\n",
       "    <tr>\n",
       "      <th>10</th>\n",
       "      <td>MAc4</td>\n",
       "      <td>4.0</td>\n",
       "      <td>{}</td>\n",
       "    </tr>\n",
       "    <tr>\n",
       "      <th>11</th>\n",
       "      <td>MAc6</td>\n",
       "      <td>4.0</td>\n",
       "      <td>{}</td>\n",
       "    </tr>\n",
       "    <tr>\n",
       "      <th>12</th>\n",
       "      <td>METS</td>\n",
       "      <td>-1.0</td>\n",
       "      <td>{'H': -1.0}</td>\n",
       "    </tr>\n",
       "    <tr>\n",
       "      <th>13</th>\n",
       "      <td>MTHF</td>\n",
       "      <td>4.0</td>\n",
       "      <td>{}</td>\n",
       "    </tr>\n",
       "    <tr>\n",
       "      <th>14</th>\n",
       "      <td>NT14</td>\n",
       "      <td>-1.0</td>\n",
       "      <td>{}</td>\n",
       "    </tr>\n",
       "    <tr>\n",
       "      <th>15</th>\n",
       "      <td>OAAt1pp</td>\n",
       "      <td>-2.0</td>\n",
       "      <td>{}</td>\n",
       "    </tr>\n",
       "    <tr>\n",
       "      <th>16</th>\n",
       "      <td>P3H5CD</td>\n",
       "      <td>1.0</td>\n",
       "      <td>{}</td>\n",
       "    </tr>\n",
       "    <tr>\n",
       "      <th>17</th>\n",
       "      <td>PHEMEFErel</td>\n",
       "      <td>7.0</td>\n",
       "      <td>{}</td>\n",
       "    </tr>\n",
       "    <tr>\n",
       "      <th>18</th>\n",
       "      <td>PLIPA1E161a</td>\n",
       "      <td>-1.0</td>\n",
       "      <td>{}</td>\n",
       "    </tr>\n",
       "    <tr>\n",
       "      <th>19</th>\n",
       "      <td>PMCOAS</td>\n",
       "      <td>-1.0</td>\n",
       "      <td>{'C': 7.0, 'H': 9.0, 'O': 3.0}</td>\n",
       "    </tr>\n",
       "    <tr>\n",
       "      <th>20</th>\n",
       "      <td>PSSA161a</td>\n",
       "      <td></td>\n",
       "      <td>{'H': -1.0}</td>\n",
       "    </tr>\n",
       "    <tr>\n",
       "      <th>21</th>\n",
       "      <td>SIALT1</td>\n",
       "      <td>-2.0</td>\n",
       "      <td>{}</td>\n",
       "    </tr>\n",
       "    <tr>\n",
       "      <th>22</th>\n",
       "      <td>TSULST</td>\n",
       "      <td>2.0</td>\n",
       "      <td>{'H': 2.0}</td>\n",
       "    </tr>\n",
       "    <tr>\n",
       "      <th>23</th>\n",
       "      <td>ACPPAT161</td>\n",
       "      <td>1.0</td>\n",
       "      <td>{}</td>\n",
       "    </tr>\n",
       "    <tr>\n",
       "      <th>24</th>\n",
       "      <td>ACPPAT181</td>\n",
       "      <td>1.0</td>\n",
       "      <td>{}</td>\n",
       "    </tr>\n",
       "    <tr>\n",
       "      <th>25</th>\n",
       "      <td>ACPPAT120</td>\n",
       "      <td>1.0</td>\n",
       "      <td>{}</td>\n",
       "    </tr>\n",
       "    <tr>\n",
       "      <th>26</th>\n",
       "      <td>ACPPAT141</td>\n",
       "      <td>1.0</td>\n",
       "      <td>{}</td>\n",
       "    </tr>\n",
       "    <tr>\n",
       "      <th>27</th>\n",
       "      <td>ACPPAT160</td>\n",
       "      <td>1.0</td>\n",
       "      <td>{}</td>\n",
       "    </tr>\n",
       "    <tr>\n",
       "      <th>28</th>\n",
       "      <td>ACPPAT140</td>\n",
       "      <td>1.0</td>\n",
       "      <td>{}</td>\n",
       "    </tr>\n",
       "    <tr>\n",
       "      <th>29</th>\n",
       "      <td>ACPPAT180</td>\n",
       "      <td>1.0</td>\n",
       "      <td>{}</td>\n",
       "    </tr>\n",
       "    <tr>\n",
       "      <th>30</th>\n",
       "      <td>APG3PAT181</td>\n",
       "      <td>-1.0</td>\n",
       "      <td>{}</td>\n",
       "    </tr>\n",
       "    <tr>\n",
       "      <th>31</th>\n",
       "      <td>APG3PAT160</td>\n",
       "      <td>-1.0</td>\n",
       "      <td>{}</td>\n",
       "    </tr>\n",
       "    <tr>\n",
       "      <th>32</th>\n",
       "      <td>APG3PAT180</td>\n",
       "      <td>-1.0</td>\n",
       "      <td>{}</td>\n",
       "    </tr>\n",
       "    <tr>\n",
       "      <th>33</th>\n",
       "      <td>APG3PAT120</td>\n",
       "      <td>-1.0</td>\n",
       "      <td>{}</td>\n",
       "    </tr>\n",
       "    <tr>\n",
       "      <th>34</th>\n",
       "      <td>APG3PAT141</td>\n",
       "      <td>-1.0</td>\n",
       "      <td>{}</td>\n",
       "    </tr>\n",
       "    <tr>\n",
       "      <th>35</th>\n",
       "      <td>APG3PAT161</td>\n",
       "      <td>-1.0</td>\n",
       "      <td>{}</td>\n",
       "    </tr>\n",
       "    <tr>\n",
       "      <th>36</th>\n",
       "      <td>APG3PAT140</td>\n",
       "      <td>-1.0</td>\n",
       "      <td>{}</td>\n",
       "    </tr>\n",
       "    <tr>\n",
       "      <th>37</th>\n",
       "      <td>CYPOX</td>\n",
       "      <td>-2.0</td>\n",
       "      <td>{}</td>\n",
       "    </tr>\n",
       "    <tr>\n",
       "      <th>38</th>\n",
       "      <td>FOMETRi</td>\n",
       "      <td>-2.0</td>\n",
       "      <td>{}</td>\n",
       "    </tr>\n",
       "    <tr>\n",
       "      <th>39</th>\n",
       "      <td>PTHPS</td>\n",
       "      <td></td>\n",
       "      <td>{'C': -9.0, 'H': -11.0, 'N': -5.0, 'O': -3.0}</td>\n",
       "    </tr>\n",
       "    <tr>\n",
       "      <th>40</th>\n",
       "      <td>CPH4S</td>\n",
       "      <td>1.0</td>\n",
       "      <td>{'C': -7.0, 'H': -8.0, 'N': -5.0, 'O': -3.0}</td>\n",
       "    </tr>\n",
       "    <tr>\n",
       "      <th>41</th>\n",
       "      <td>CDGS</td>\n",
       "      <td></td>\n",
       "      <td>{'H': 3.0, 'N': 1.0}</td>\n",
       "    </tr>\n",
       "    <tr>\n",
       "      <th>42</th>\n",
       "      <td>CDGR</td>\n",
       "      <td>-1.0</td>\n",
       "      <td>{'H': -5.0}</td>\n",
       "    </tr>\n",
       "    <tr>\n",
       "      <th>43</th>\n",
       "      <td>CCGS</td>\n",
       "      <td>-1.0</td>\n",
       "      <td>{'N': -1.0, 'O': 2.0}</td>\n",
       "    </tr>\n",
       "  </tbody>\n",
       "</table>\n",
       "</div>"
      ],
      "text/plain": [
       "      Reactions Charge                                             Masses\n",
       "0          ADPT   -1.0                                        {'H': -1.0}\n",
       "1          BTS4                                                {'S': 1.0}\n",
       "2         CYTCS    5.0  {'C': 8.0, 'H': 14.0, 'N': 4.0, 'O': 4.0, 'S':...\n",
       "3       DHAPtex   -2.0                                                 {}\n",
       "4        DHORD2   -1.0                                                 {}\n",
       "5        DHORTS   -1.0                                                 {}\n",
       "6         DDPGA   -2.0                                                 {}\n",
       "7          HGFE   -8.0                                                 {}\n",
       "8        EHGLAT    1.0                                                 {}\n",
       "9          MAc2    6.0                                                 {}\n",
       "10         MAc4    4.0                                                 {}\n",
       "11         MAc6    4.0                                                 {}\n",
       "12         METS   -1.0                                        {'H': -1.0}\n",
       "13         MTHF    4.0                                                 {}\n",
       "14         NT14   -1.0                                                 {}\n",
       "15      OAAt1pp   -2.0                                                 {}\n",
       "16       P3H5CD    1.0                                                 {}\n",
       "17   PHEMEFErel    7.0                                                 {}\n",
       "18  PLIPA1E161a   -1.0                                                 {}\n",
       "19       PMCOAS   -1.0                     {'C': 7.0, 'H': 9.0, 'O': 3.0}\n",
       "20     PSSA161a                                               {'H': -1.0}\n",
       "21       SIALT1   -2.0                                                 {}\n",
       "22       TSULST    2.0                                         {'H': 2.0}\n",
       "23    ACPPAT161    1.0                                                 {}\n",
       "24    ACPPAT181    1.0                                                 {}\n",
       "25    ACPPAT120    1.0                                                 {}\n",
       "26    ACPPAT141    1.0                                                 {}\n",
       "27    ACPPAT160    1.0                                                 {}\n",
       "28    ACPPAT140    1.0                                                 {}\n",
       "29    ACPPAT180    1.0                                                 {}\n",
       "30   APG3PAT181   -1.0                                                 {}\n",
       "31   APG3PAT160   -1.0                                                 {}\n",
       "32   APG3PAT180   -1.0                                                 {}\n",
       "33   APG3PAT120   -1.0                                                 {}\n",
       "34   APG3PAT141   -1.0                                                 {}\n",
       "35   APG3PAT161   -1.0                                                 {}\n",
       "36   APG3PAT140   -1.0                                                 {}\n",
       "37        CYPOX   -2.0                                                 {}\n",
       "38      FOMETRi   -2.0                                                 {}\n",
       "39        PTHPS             {'C': -9.0, 'H': -11.0, 'N': -5.0, 'O': -3.0}\n",
       "40        CPH4S    1.0       {'C': -7.0, 'H': -8.0, 'N': -5.0, 'O': -3.0}\n",
       "41         CDGS                                      {'H': 3.0, 'N': 1.0}\n",
       "42         CDGR   -1.0                                        {'H': -5.0}\n",
       "43         CCGS   -1.0                              {'N': -1.0, 'O': 2.0}"
      ]
     },
     "execution_count": 260,
     "metadata": {},
     "output_type": "execute_result"
    }
   ],
   "source": [
    "#After bulk removing cofactors, what reaction imbalances remain?\n",
    "reactions = []\n",
    "charge = []\n",
    "mass = []\n",
    "for react in model.reactions:\n",
    "    result = react.check_mass_balance()\n",
    "    if 'EX_' in  react.id:\n",
    "        continue\n",
    "    if 'Nm_' in  react.id:\n",
    "        continue\n",
    "    if 'DM_' in  react.id:\n",
    "        continue \n",
    "    if react.id in biomass_reactions:\n",
    "        continue\n",
    "    if len(result) == 0:\n",
    "        continue\n",
    "    else: \n",
    "        reactions.append(react.id)\n",
    "        masses = {}\n",
    "        for key in result.keys():\n",
    "            if key == 'charge':\n",
    "                charge.append(result['charge'])\n",
    "            else:\n",
    "                masses[key] = result[key]\n",
    "        if 'charge' not in result.keys():\n",
    "            charge.append('')\n",
    "        mass.append(masses)\n",
    "print(len(reactions), len(charge), len(mass))\n",
    "\n",
    "mass_charge_dict = {'Reactions': reactions, 'Charge': charge, 'Masses': mass}\n",
    "mass_charge = pandas.DataFrame(mass_charge_dict)\n",
    "mass_charge.to_csv('imbalancesremaining.csv')\n",
    "mass_charge"
   ]
  },
  {
   "cell_type": "code",
   "execution_count": 261,
   "id": "d6834458-2fdd-4c0e-aeb2-b927efc0a6c3",
   "metadata": {},
   "outputs": [
    {
     "name": "stdout",
     "output_type": "stream",
     "text": [
      "{}\n"
     ]
    },
    {
     "data": {
      "text/html": [
       "\n",
       "        <table>\n",
       "            <tr>\n",
       "                <td><strong>Reaction identifier</strong></td><td>PLIPA1E161a</td>\n",
       "            </tr><tr>\n",
       "                <td><strong>Name</strong></td><td>R_PLIPA1E161a</td>\n",
       "            </tr><tr>\n",
       "                <td><strong>Memory address</strong></td>\n",
       "                <td>0x01487ab6afd0</td>\n",
       "            </tr><tr>\n",
       "                <td><strong>Stoichiometry</strong></td>\n",
       "                <td>\n",
       "                    <p style='text-align:right'>h2o_p + pe161_p --> 2agpe161_p + h_c + hdcat9_p</p>\n",
       "                    <p style='text-align:right'>H2O + M_pe161_p --> 2-Acyl-sn-glycero-3-phosphoethanolamine-n-C161(t9) + H + Hexadeca-trans-9-enoyloate-n-C161</p>\n",
       "                </td>\n",
       "            </tr><tr>\n",
       "                <td><strong>GPR</strong></td><td>NGO1492</td>\n",
       "            </tr><tr>\n",
       "                <td><strong>Lower bound</strong></td><td>0.0</td>\n",
       "            </tr><tr>\n",
       "                <td><strong>Upper bound</strong></td><td>1000.0</td>\n",
       "            </tr>\n",
       "        </table>\n",
       "        "
      ],
      "text/plain": [
       "<Reaction PLIPA1E161a at 0x1487ab6afd0>"
      ]
     },
     "execution_count": 261,
     "metadata": {},
     "output_type": "execute_result"
    }
   ],
   "source": [
    "r=model.reactions.get_by_id('PLIPA1E161a')\n",
    "model.metabolites.get_by_id('pe161_p').formula='C37H70N1O8P1'\n",
    "r.add_metabolites({\n",
    "    h_c:1,\n",
    "      })\n",
    "print(r.check_mass_balance())\n",
    "r"
   ]
  },
  {
   "cell_type": "code",
   "execution_count": 262,
   "id": "10a60470-4a0b-4f89-b34b-3913570b3f50",
   "metadata": {},
   "outputs": [
    {
     "name": "stdout",
     "output_type": "stream",
     "text": [
      "{}\n"
     ]
    },
    {
     "data": {
      "text/html": [
       "\n",
       "        <table>\n",
       "            <tr>\n",
       "                <td><strong>Reaction identifier</strong></td><td>pe161abcpp</td>\n",
       "            </tr><tr>\n",
       "                <td><strong>Name</strong></td><td>R_pe161abcpp</td>\n",
       "            </tr><tr>\n",
       "                <td><strong>Memory address</strong></td>\n",
       "                <td>0x01487ab52fd0</td>\n",
       "            </tr><tr>\n",
       "                <td><strong>Stoichiometry</strong></td>\n",
       "                <td>\n",
       "                    <p style='text-align:right'>atp_c + h2o_c + pe161_c --> adp_c + h_c + pe161_p + pi_c</p>\n",
       "                    <p style='text-align:right'>ATP + H2O + M_pe161_c --> ADP + H + M_pe161_p + Phosphate</p>\n",
       "                </td>\n",
       "            </tr><tr>\n",
       "                <td><strong>GPR</strong></td><td>NGO1682 and NGO1801</td>\n",
       "            </tr><tr>\n",
       "                <td><strong>Lower bound</strong></td><td>0.0</td>\n",
       "            </tr><tr>\n",
       "                <td><strong>Upper bound</strong></td><td>1000.0</td>\n",
       "            </tr>\n",
       "        </table>\n",
       "        "
      ],
      "text/plain": [
       "<Reaction pe161abcpp at 0x1487ab52fd0>"
      ]
     },
     "execution_count": 262,
     "metadata": {},
     "output_type": "execute_result"
    }
   ],
   "source": [
    "r=model.reactions.get_by_id('pe161abcpp')\n",
    "model.metabolites.get_by_id('pe161_c').formula='C37H70N1O8P1'\n",
    "\n",
    "print(r.check_mass_balance())\n",
    "r\n"
   ]
  },
  {
   "cell_type": "code",
   "execution_count": 263,
   "id": "5d74427d-80a1-4963-a299-e6aadec9cdb3",
   "metadata": {},
   "outputs": [
    {
     "name": "stdout",
     "output_type": "stream",
     "text": [
      "{}\n"
     ]
    },
    {
     "data": {
      "text/html": [
       "\n",
       "        <table>\n",
       "            <tr>\n",
       "                <td><strong>Reaction identifier</strong></td><td>PSD161a</td>\n",
       "            </tr><tr>\n",
       "                <td><strong>Name</strong></td><td>R_PSD161a</td>\n",
       "            </tr><tr>\n",
       "                <td><strong>Memory address</strong></td>\n",
       "                <td>0x01487ab8a8b0</td>\n",
       "            </tr><tr>\n",
       "                <td><strong>Stoichiometry</strong></td>\n",
       "                <td>\n",
       "                    <p style='text-align:right'>h_c + ps161_c --> co2_c + pe161_c</p>\n",
       "                    <p style='text-align:right'>H + M_ps161_c --> CO2 + M_pe161_c</p>\n",
       "                </td>\n",
       "            </tr><tr>\n",
       "                <td><strong>GPR</strong></td><td>NGO1206</td>\n",
       "            </tr><tr>\n",
       "                <td><strong>Lower bound</strong></td><td>0.0</td>\n",
       "            </tr><tr>\n",
       "                <td><strong>Upper bound</strong></td><td>1000.0</td>\n",
       "            </tr>\n",
       "        </table>\n",
       "        "
      ],
      "text/plain": [
       "<Reaction PSD161a at 0x1487ab8a8b0>"
      ]
     },
     "execution_count": 263,
     "metadata": {},
     "output_type": "execute_result"
    }
   ],
   "source": [
    "r=model.reactions.get_by_id('PSD161a')\n",
    "model.metabolites.get_by_id('ps161_c').formula='C38H69N1O10P1'\n",
    "\n",
    "print(r.check_mass_balance())\n",
    "r\n",
    "\n"
   ]
  },
  {
   "cell_type": "code",
   "execution_count": 264,
   "id": "b45f29b2-268a-4a2b-bb57-8c9f951888ce",
   "metadata": {},
   "outputs": [
    {
     "name": "stdout",
     "output_type": "stream",
     "text": [
      "{}\n"
     ]
    },
    {
     "data": {
      "text/html": [
       "\n",
       "        <table>\n",
       "            <tr>\n",
       "                <td><strong>Reaction identifier</strong></td><td>MAc2</td>\n",
       "            </tr><tr>\n",
       "                <td><strong>Name</strong></td><td>R_MAc2</td>\n",
       "            </tr><tr>\n",
       "                <td><strong>Memory address</strong></td>\n",
       "                <td>0x01487ab14be0</td>\n",
       "            </tr><tr>\n",
       "                <td><strong>Stoichiometry</strong></td>\n",
       "                <td>\n",
       "                    <p style='text-align:right'>accoa_c + h2o_p + murein4px4px4p_p --> coa_c + murein4px4px4pOAc_p</p>\n",
       "                    <p style='text-align:right'>Acetyl-CoA + H2O + three-disacharide-linked-murein-units-tetrapeptide-crosslinked-tetrapeptide-A2pm-D-ala--tetrapeptide-corsslinked-tetrapeptide-A2pm-D-ala--middle-of-chain --> Coenzyme-A + three-...</p>\n",
       "                </td>\n",
       "            </tr><tr>\n",
       "                <td><strong>GPR</strong></td><td>NGO0533 and NGO0534</td>\n",
       "            </tr><tr>\n",
       "                <td><strong>Lower bound</strong></td><td>0.0</td>\n",
       "            </tr><tr>\n",
       "                <td><strong>Upper bound</strong></td><td>1000.0</td>\n",
       "            </tr>\n",
       "        </table>\n",
       "        "
      ],
      "text/plain": [
       "<Reaction MAc2 at 0x1487ab14be0>"
      ]
     },
     "execution_count": 264,
     "metadata": {},
     "output_type": "execute_result"
    }
   ],
   "source": [
    "r=model.reactions.get_by_id('MAc2')\n",
    "model.metabolites.murein4px4px4pOAc_p.charge=-6\n",
    "print(r.check_mass_balance())\n",
    "r"
   ]
  },
  {
   "cell_type": "code",
   "execution_count": 265,
   "id": "63655ab2-3943-4278-8be1-658eb7611900",
   "metadata": {},
   "outputs": [
    {
     "name": "stdout",
     "output_type": "stream",
     "text": [
      "{}\n"
     ]
    },
    {
     "data": {
      "text/html": [
       "\n",
       "        <table>\n",
       "            <tr>\n",
       "                <td><strong>Reaction identifier</strong></td><td>MAc4</td>\n",
       "            </tr><tr>\n",
       "                <td><strong>Name</strong></td><td>R_MAc4</td>\n",
       "            </tr><tr>\n",
       "                <td><strong>Memory address</strong></td>\n",
       "                <td>0x01487ab14fa0</td>\n",
       "            </tr><tr>\n",
       "                <td><strong>Stoichiometry</strong></td>\n",
       "                <td>\n",
       "                    <p style='text-align:right'>accoa_c + h2o_p + murein4p4p_p --> coa_c + murein4p4pOAc_p</p>\n",
       "                    <p style='text-align:right'>Acetyl-CoA + H2O + two-linked-disacharide-tetrapeptide-murein-units-uncrosslinked-middle-of-chain --> Coenzyme-A + two-linked-disacharide-tetrapeptide-murein-units-uncrosslinked-middle-of-chain-O-...</p>\n",
       "                </td>\n",
       "            </tr><tr>\n",
       "                <td><strong>GPR</strong></td><td>NGO0533 and NGO0534</td>\n",
       "            </tr><tr>\n",
       "                <td><strong>Lower bound</strong></td><td>0.0</td>\n",
       "            </tr><tr>\n",
       "                <td><strong>Upper bound</strong></td><td>1000.0</td>\n",
       "            </tr>\n",
       "        </table>\n",
       "        "
      ],
      "text/plain": [
       "<Reaction MAc4 at 0x1487ab14fa0>"
      ]
     },
     "execution_count": 265,
     "metadata": {},
     "output_type": "execute_result"
    }
   ],
   "source": [
    "r=model.reactions.get_by_id('MAc4')\n",
    "model.metabolites.murein4p4pOAc_p.charge=-4\n",
    "print(r.check_mass_balance())\n",
    "r"
   ]
  },
  {
   "cell_type": "code",
   "execution_count": 266,
   "id": "35d8c7a8-c1ce-4a38-b9f0-0ee199fe483c",
   "metadata": {},
   "outputs": [
    {
     "name": "stdout",
     "output_type": "stream",
     "text": [
      "{}\n"
     ]
    },
    {
     "data": {
      "text/html": [
       "\n",
       "        <table>\n",
       "            <tr>\n",
       "                <td><strong>Reaction identifier</strong></td><td>MAc5</td>\n",
       "            </tr><tr>\n",
       "                <td><strong>Name</strong></td><td>R_MAc5</td>\n",
       "            </tr><tr>\n",
       "                <td><strong>Memory address</strong></td>\n",
       "                <td>0x01487ab14970</td>\n",
       "            </tr><tr>\n",
       "                <td><strong>Stoichiometry</strong></td>\n",
       "                <td>\n",
       "                    <p style='text-align:right'>accoa_c + h2o_p + murein4p4pOAc_p --> coa_c + murein4p4pdOAc_p</p>\n",
       "                    <p style='text-align:right'>Acetyl-CoA + H2O + two-linked-disacharide-tetrapeptide-murein-units-uncrosslinked-middle-of-chain-O-acytelated --> Coenzyme-A + two-linked-disacharide-tetrapeptide-murein-units-uncrosslinked-...</p>\n",
       "                </td>\n",
       "            </tr><tr>\n",
       "                <td><strong>GPR</strong></td><td>NGO0533 and NGO0534</td>\n",
       "            </tr><tr>\n",
       "                <td><strong>Lower bound</strong></td><td>0.0</td>\n",
       "            </tr><tr>\n",
       "                <td><strong>Upper bound</strong></td><td>1000.0</td>\n",
       "            </tr>\n",
       "        </table>\n",
       "        "
      ],
      "text/plain": [
       "<Reaction MAc5 at 0x1487ab14970>"
      ]
     },
     "execution_count": 266,
     "metadata": {},
     "output_type": "execute_result"
    }
   ],
   "source": [
    "r=model.reactions.get_by_id('MAc5')\n",
    "model.metabolites.murein4p4pdOAc_p.charge=-4\n",
    "print(r.check_mass_balance())\n",
    "r"
   ]
  },
  {
   "cell_type": "code",
   "execution_count": 267,
   "id": "18b83ef6-0ace-44ee-8970-ed1f9bdd3ff7",
   "metadata": {},
   "outputs": [
    {
     "name": "stdout",
     "output_type": "stream",
     "text": [
      "{}\n"
     ]
    },
    {
     "data": {
      "text/html": [
       "\n",
       "        <table>\n",
       "            <tr>\n",
       "                <td><strong>Reaction identifier</strong></td><td>MAc6</td>\n",
       "            </tr><tr>\n",
       "                <td><strong>Name</strong></td><td>R_MAc6</td>\n",
       "            </tr><tr>\n",
       "                <td><strong>Memory address</strong></td>\n",
       "                <td>0x01487ab14d00</td>\n",
       "            </tr><tr>\n",
       "                <td><strong>Stoichiometry</strong></td>\n",
       "                <td>\n",
       "                    <p style='text-align:right'>accoa_c + h2o_p + murein4p3p_p --> coa_c + murein4p3pOAc_p</p>\n",
       "                    <p style='text-align:right'>Acetyl-CoA + H2O + two-linked-disacharide-tetrapeptide-and-tripeptide-murein-units-uncrosslinked-middle-of-chain --> Coenzyme-A + two-linked-disacharide-tetrapeptide-and-tripeptide-murein-units-...</p>\n",
       "                </td>\n",
       "            </tr><tr>\n",
       "                <td><strong>GPR</strong></td><td>NGO0533 and NGO0534</td>\n",
       "            </tr><tr>\n",
       "                <td><strong>Lower bound</strong></td><td>0.0</td>\n",
       "            </tr><tr>\n",
       "                <td><strong>Upper bound</strong></td><td>1000.0</td>\n",
       "            </tr>\n",
       "        </table>\n",
       "        "
      ],
      "text/plain": [
       "<Reaction MAc6 at 0x1487ab14d00>"
      ]
     },
     "execution_count": 267,
     "metadata": {},
     "output_type": "execute_result"
    }
   ],
   "source": [
    "r=model.reactions.get_by_id('MAc6')\n",
    "model.metabolites.murein4p3pOAc_p.charge=-4\n",
    "print(r.check_mass_balance())\n",
    "r"
   ]
  },
  {
   "cell_type": "code",
   "execution_count": 268,
   "id": "2029b6b9-65ef-4043-b650-17781a33cef6",
   "metadata": {},
   "outputs": [
    {
     "name": "stdout",
     "output_type": "stream",
     "text": [
      "{}\n"
     ]
    },
    {
     "data": {
      "text/html": [
       "\n",
       "        <table>\n",
       "            <tr>\n",
       "                <td><strong>Reaction identifier</strong></td><td>MAc7</td>\n",
       "            </tr><tr>\n",
       "                <td><strong>Name</strong></td><td>R_MAc7</td>\n",
       "            </tr><tr>\n",
       "                <td><strong>Memory address</strong></td>\n",
       "                <td>0x01487ab11e50</td>\n",
       "            </tr><tr>\n",
       "                <td><strong>Stoichiometry</strong></td>\n",
       "                <td>\n",
       "                    <p style='text-align:right'>accoa_c + h2o_p + murein4px4px4pOAc_p --> coa_c + murein4px4px4pdOAc_p</p>\n",
       "                    <p style='text-align:right'>Acetyl-CoA + H2O + three-disacharide-linked-murein-units-tetrapeptide-crosslinked-tetrapeptide-A2pm-D-ala--tetrapeptide-corsslinked-tetrapeptide-A2pm-D-ala--middle-of-chain-O_acytelated -->...</p>\n",
       "                </td>\n",
       "            </tr><tr>\n",
       "                <td><strong>GPR</strong></td><td>NGO0533 and NGO0534</td>\n",
       "            </tr><tr>\n",
       "                <td><strong>Lower bound</strong></td><td>0.0</td>\n",
       "            </tr><tr>\n",
       "                <td><strong>Upper bound</strong></td><td>1000.0</td>\n",
       "            </tr>\n",
       "        </table>\n",
       "        "
      ],
      "text/plain": [
       "<Reaction MAc7 at 0x1487ab11e50>"
      ]
     },
     "execution_count": 268,
     "metadata": {},
     "output_type": "execute_result"
    }
   ],
   "source": [
    "r=model.reactions.get_by_id('MAc7')\n",
    "model.metabolites.murein4px4px4pdOAc_p.charge=-6\n",
    "print(r.check_mass_balance())\n",
    "r"
   ]
  },
  {
   "cell_type": "code",
   "execution_count": 269,
   "id": "99bf55c6-4328-4d57-ab58-f398cb51c53b",
   "metadata": {},
   "outputs": [
    {
     "name": "stdout",
     "output_type": "stream",
     "text": [
      "{}\n"
     ]
    },
    {
     "data": {
      "text/html": [
       "\n",
       "        <table>\n",
       "            <tr>\n",
       "                <td><strong>Reaction identifier</strong></td><td>MAc8</td>\n",
       "            </tr><tr>\n",
       "                <td><strong>Name</strong></td><td>R_MAc8</td>\n",
       "            </tr><tr>\n",
       "                <td><strong>Memory address</strong></td>\n",
       "                <td>0x01487ab14e80</td>\n",
       "            </tr><tr>\n",
       "                <td><strong>Stoichiometry</strong></td>\n",
       "                <td>\n",
       "                    <p style='text-align:right'>accoa_c + h2o_p + murein4px4px4pdOAc_p --> coa_c + murein4px4px4ptOAc_p</p>\n",
       "                    <p style='text-align:right'>Acetyl-CoA + H2O + M_murein4px4px4pdOAc_p --> Coenzyme-A + M_murein4px4px4ptOAc_p</p>\n",
       "                </td>\n",
       "            </tr><tr>\n",
       "                <td><strong>GPR</strong></td><td>NGO0533 and NGO0534</td>\n",
       "            </tr><tr>\n",
       "                <td><strong>Lower bound</strong></td><td>0.0</td>\n",
       "            </tr><tr>\n",
       "                <td><strong>Upper bound</strong></td><td>1000.0</td>\n",
       "            </tr>\n",
       "        </table>\n",
       "        "
      ],
      "text/plain": [
       "<Reaction MAc8 at 0x1487ab14e80>"
      ]
     },
     "execution_count": 269,
     "metadata": {},
     "output_type": "execute_result"
    }
   ],
   "source": [
    "r=model.reactions.get_by_id('MAc8')\n",
    "model.metabolites.murein4px4px4ptOAc_p.charge=-6\n",
    "print(r.check_mass_balance())\n",
    "r"
   ]
  },
  {
   "cell_type": "code",
   "execution_count": 293,
   "id": "5e79f3f2-dd9c-4356-903b-05d51e0ed61d",
   "metadata": {},
   "outputs": [],
   "source": [
    "model.metabolites.hdceap_c.charge=-1\n",
    "model.metabolites.ocdceap_c.charge=-1"
   ]
  },
  {
   "cell_type": "code",
   "execution_count": 270,
   "id": "06b6786d-a53f-430e-b1ff-5ee8063da906",
   "metadata": {},
   "outputs": [],
   "source": [
    "#Remaining imbalances are ok and due to proteinaceous components or reaction simplifications. "
   ]
  },
  {
   "cell_type": "code",
   "execution_count": 294,
   "id": "a57f38bb-89b6-4f6e-849f-9929e58f56c9",
   "metadata": {},
   "outputs": [
    {
     "name": "stdout",
     "output_type": "stream",
     "text": [
      "35 35 35\n"
     ]
    },
    {
     "data": {
      "text/html": [
       "<div>\n",
       "<style scoped>\n",
       "    .dataframe tbody tr th:only-of-type {\n",
       "        vertical-align: middle;\n",
       "    }\n",
       "\n",
       "    .dataframe tbody tr th {\n",
       "        vertical-align: top;\n",
       "    }\n",
       "\n",
       "    .dataframe thead th {\n",
       "        text-align: right;\n",
       "    }\n",
       "</style>\n",
       "<table border=\"1\" class=\"dataframe\">\n",
       "  <thead>\n",
       "    <tr style=\"text-align: right;\">\n",
       "      <th></th>\n",
       "      <th>Reactions</th>\n",
       "      <th>Charge</th>\n",
       "      <th>Masses</th>\n",
       "    </tr>\n",
       "  </thead>\n",
       "  <tbody>\n",
       "    <tr>\n",
       "      <th>0</th>\n",
       "      <td>ADPT</td>\n",
       "      <td>-1.0</td>\n",
       "      <td>{'H': -1.0}</td>\n",
       "    </tr>\n",
       "    <tr>\n",
       "      <th>1</th>\n",
       "      <td>BTS4</td>\n",
       "      <td></td>\n",
       "      <td>{'S': 1.0}</td>\n",
       "    </tr>\n",
       "    <tr>\n",
       "      <th>2</th>\n",
       "      <td>CYTCS</td>\n",
       "      <td>5.0</td>\n",
       "      <td>{'C': 8.0, 'H': 14.0, 'N': 4.0, 'O': 4.0, 'S':...</td>\n",
       "    </tr>\n",
       "    <tr>\n",
       "      <th>3</th>\n",
       "      <td>DHAPtex</td>\n",
       "      <td>-2.0</td>\n",
       "      <td>{}</td>\n",
       "    </tr>\n",
       "    <tr>\n",
       "      <th>4</th>\n",
       "      <td>DHORD2</td>\n",
       "      <td>-1.0</td>\n",
       "      <td>{}</td>\n",
       "    </tr>\n",
       "    <tr>\n",
       "      <th>5</th>\n",
       "      <td>DHORTS</td>\n",
       "      <td>-1.0</td>\n",
       "      <td>{}</td>\n",
       "    </tr>\n",
       "    <tr>\n",
       "      <th>6</th>\n",
       "      <td>DDPGA</td>\n",
       "      <td>-2.0</td>\n",
       "      <td>{}</td>\n",
       "    </tr>\n",
       "    <tr>\n",
       "      <th>7</th>\n",
       "      <td>HGFE</td>\n",
       "      <td>-8.0</td>\n",
       "      <td>{}</td>\n",
       "    </tr>\n",
       "    <tr>\n",
       "      <th>8</th>\n",
       "      <td>EHGLAT</td>\n",
       "      <td>1.0</td>\n",
       "      <td>{}</td>\n",
       "    </tr>\n",
       "    <tr>\n",
       "      <th>9</th>\n",
       "      <td>METS</td>\n",
       "      <td>-1.0</td>\n",
       "      <td>{'H': -1.0}</td>\n",
       "    </tr>\n",
       "    <tr>\n",
       "      <th>10</th>\n",
       "      <td>MTHF</td>\n",
       "      <td>4.0</td>\n",
       "      <td>{}</td>\n",
       "    </tr>\n",
       "    <tr>\n",
       "      <th>11</th>\n",
       "      <td>NT14</td>\n",
       "      <td>-1.0</td>\n",
       "      <td>{}</td>\n",
       "    </tr>\n",
       "    <tr>\n",
       "      <th>12</th>\n",
       "      <td>OAAt1pp</td>\n",
       "      <td>-2.0</td>\n",
       "      <td>{}</td>\n",
       "    </tr>\n",
       "    <tr>\n",
       "      <th>13</th>\n",
       "      <td>P3H5CD</td>\n",
       "      <td>1.0</td>\n",
       "      <td>{}</td>\n",
       "    </tr>\n",
       "    <tr>\n",
       "      <th>14</th>\n",
       "      <td>PHEMEFErel</td>\n",
       "      <td>7.0</td>\n",
       "      <td>{}</td>\n",
       "    </tr>\n",
       "    <tr>\n",
       "      <th>15</th>\n",
       "      <td>PMCOAS</td>\n",
       "      <td>-1.0</td>\n",
       "      <td>{'C': 7.0, 'H': 9.0, 'O': 3.0}</td>\n",
       "    </tr>\n",
       "    <tr>\n",
       "      <th>16</th>\n",
       "      <td>SIALT1</td>\n",
       "      <td>-2.0</td>\n",
       "      <td>{}</td>\n",
       "    </tr>\n",
       "    <tr>\n",
       "      <th>17</th>\n",
       "      <td>TSULST</td>\n",
       "      <td>2.0</td>\n",
       "      <td>{'H': 2.0}</td>\n",
       "    </tr>\n",
       "    <tr>\n",
       "      <th>18</th>\n",
       "      <td>ACPPAT120</td>\n",
       "      <td>1.0</td>\n",
       "      <td>{}</td>\n",
       "    </tr>\n",
       "    <tr>\n",
       "      <th>19</th>\n",
       "      <td>ACPPAT141</td>\n",
       "      <td>1.0</td>\n",
       "      <td>{}</td>\n",
       "    </tr>\n",
       "    <tr>\n",
       "      <th>20</th>\n",
       "      <td>ACPPAT160</td>\n",
       "      <td>1.0</td>\n",
       "      <td>{}</td>\n",
       "    </tr>\n",
       "    <tr>\n",
       "      <th>21</th>\n",
       "      <td>ACPPAT140</td>\n",
       "      <td>1.0</td>\n",
       "      <td>{}</td>\n",
       "    </tr>\n",
       "    <tr>\n",
       "      <th>22</th>\n",
       "      <td>ACPPAT180</td>\n",
       "      <td>1.0</td>\n",
       "      <td>{}</td>\n",
       "    </tr>\n",
       "    <tr>\n",
       "      <th>23</th>\n",
       "      <td>APG3PAT160</td>\n",
       "      <td>-1.0</td>\n",
       "      <td>{}</td>\n",
       "    </tr>\n",
       "    <tr>\n",
       "      <th>24</th>\n",
       "      <td>APG3PAT180</td>\n",
       "      <td>-1.0</td>\n",
       "      <td>{}</td>\n",
       "    </tr>\n",
       "    <tr>\n",
       "      <th>25</th>\n",
       "      <td>APG3PAT120</td>\n",
       "      <td>-1.0</td>\n",
       "      <td>{}</td>\n",
       "    </tr>\n",
       "    <tr>\n",
       "      <th>26</th>\n",
       "      <td>APG3PAT141</td>\n",
       "      <td>-1.0</td>\n",
       "      <td>{}</td>\n",
       "    </tr>\n",
       "    <tr>\n",
       "      <th>27</th>\n",
       "      <td>APG3PAT140</td>\n",
       "      <td>-1.0</td>\n",
       "      <td>{}</td>\n",
       "    </tr>\n",
       "    <tr>\n",
       "      <th>28</th>\n",
       "      <td>CYPOX</td>\n",
       "      <td>-2.0</td>\n",
       "      <td>{}</td>\n",
       "    </tr>\n",
       "    <tr>\n",
       "      <th>29</th>\n",
       "      <td>FOMETRi</td>\n",
       "      <td>-2.0</td>\n",
       "      <td>{}</td>\n",
       "    </tr>\n",
       "    <tr>\n",
       "      <th>30</th>\n",
       "      <td>PTHPS</td>\n",
       "      <td></td>\n",
       "      <td>{'C': -9.0, 'H': -11.0, 'N': -5.0, 'O': -3.0}</td>\n",
       "    </tr>\n",
       "    <tr>\n",
       "      <th>31</th>\n",
       "      <td>CPH4S</td>\n",
       "      <td>1.0</td>\n",
       "      <td>{'C': -7.0, 'H': -8.0, 'N': -5.0, 'O': -3.0}</td>\n",
       "    </tr>\n",
       "    <tr>\n",
       "      <th>32</th>\n",
       "      <td>CDGS</td>\n",
       "      <td></td>\n",
       "      <td>{'H': 3.0, 'N': 1.0}</td>\n",
       "    </tr>\n",
       "    <tr>\n",
       "      <th>33</th>\n",
       "      <td>CDGR</td>\n",
       "      <td>-1.0</td>\n",
       "      <td>{'H': -5.0}</td>\n",
       "    </tr>\n",
       "    <tr>\n",
       "      <th>34</th>\n",
       "      <td>CCGS</td>\n",
       "      <td>-1.0</td>\n",
       "      <td>{'N': -1.0, 'O': 2.0}</td>\n",
       "    </tr>\n",
       "  </tbody>\n",
       "</table>\n",
       "</div>"
      ],
      "text/plain": [
       "     Reactions Charge                                             Masses\n",
       "0         ADPT   -1.0                                        {'H': -1.0}\n",
       "1         BTS4                                                {'S': 1.0}\n",
       "2        CYTCS    5.0  {'C': 8.0, 'H': 14.0, 'N': 4.0, 'O': 4.0, 'S':...\n",
       "3      DHAPtex   -2.0                                                 {}\n",
       "4       DHORD2   -1.0                                                 {}\n",
       "5       DHORTS   -1.0                                                 {}\n",
       "6        DDPGA   -2.0                                                 {}\n",
       "7         HGFE   -8.0                                                 {}\n",
       "8       EHGLAT    1.0                                                 {}\n",
       "9         METS   -1.0                                        {'H': -1.0}\n",
       "10        MTHF    4.0                                                 {}\n",
       "11        NT14   -1.0                                                 {}\n",
       "12     OAAt1pp   -2.0                                                 {}\n",
       "13      P3H5CD    1.0                                                 {}\n",
       "14  PHEMEFErel    7.0                                                 {}\n",
       "15      PMCOAS   -1.0                     {'C': 7.0, 'H': 9.0, 'O': 3.0}\n",
       "16      SIALT1   -2.0                                                 {}\n",
       "17      TSULST    2.0                                         {'H': 2.0}\n",
       "18   ACPPAT120    1.0                                                 {}\n",
       "19   ACPPAT141    1.0                                                 {}\n",
       "20   ACPPAT160    1.0                                                 {}\n",
       "21   ACPPAT140    1.0                                                 {}\n",
       "22   ACPPAT180    1.0                                                 {}\n",
       "23  APG3PAT160   -1.0                                                 {}\n",
       "24  APG3PAT180   -1.0                                                 {}\n",
       "25  APG3PAT120   -1.0                                                 {}\n",
       "26  APG3PAT141   -1.0                                                 {}\n",
       "27  APG3PAT140   -1.0                                                 {}\n",
       "28       CYPOX   -2.0                                                 {}\n",
       "29     FOMETRi   -2.0                                                 {}\n",
       "30       PTHPS             {'C': -9.0, 'H': -11.0, 'N': -5.0, 'O': -3.0}\n",
       "31       CPH4S    1.0       {'C': -7.0, 'H': -8.0, 'N': -5.0, 'O': -3.0}\n",
       "32        CDGS                                      {'H': 3.0, 'N': 1.0}\n",
       "33        CDGR   -1.0                                        {'H': -5.0}\n",
       "34        CCGS   -1.0                              {'N': -1.0, 'O': 2.0}"
      ]
     },
     "execution_count": 294,
     "metadata": {},
     "output_type": "execute_result"
    }
   ],
   "source": [
    "#After bulk removing cofactors, what reaction imbalances remain?\n",
    "reactions = []\n",
    "charge = []\n",
    "mass = []\n",
    "for react in model.reactions:\n",
    "    result = react.check_mass_balance()\n",
    "    if 'EX_' in  react.id:\n",
    "        continue\n",
    "    if 'Nm_' in  react.id:\n",
    "        continue\n",
    "    if 'DM_' in  react.id:\n",
    "        continue \n",
    "    if react.id in biomass_reactions:\n",
    "        continue\n",
    "    if len(result) == 0:\n",
    "        continue\n",
    "    else: \n",
    "        reactions.append(react.id)\n",
    "        masses = {}\n",
    "        for key in result.keys():\n",
    "            if key == 'charge':\n",
    "                charge.append(result['charge'])\n",
    "            else:\n",
    "                masses[key] = result[key]\n",
    "        if 'charge' not in result.keys():\n",
    "            charge.append('')\n",
    "        mass.append(masses)\n",
    "print(len(reactions), len(charge), len(mass))\n",
    "\n",
    "mass_charge_dict = {'Reactions': reactions, 'Charge': charge, 'Masses': mass}\n",
    "mass_charge = pandas.DataFrame(mass_charge_dict)\n",
    "mass_charge.to_csv('imbalancesremaining.csv')\n",
    "mass_charge"
   ]
  },
  {
   "cell_type": "code",
   "execution_count": 303,
   "id": "c033bb0c-5116-4fb9-a522-2b2428b471f8",
   "metadata": {},
   "outputs": [
    {
     "data": {
      "text/plain": [
       "{'charge': -1.0, 'H': -1.0}"
      ]
     },
     "execution_count": 303,
     "metadata": {},
     "output_type": "execute_result"
    }
   ],
   "source": [
    "r=model.reactions.ADPT\n",
    "r.check_mass_balance()"
   ]
  },
  {
   "cell_type": "code",
   "execution_count": 302,
   "id": "03326d4f-0120-4467-a1fa-79331d6de292",
   "metadata": {},
   "outputs": [
    {
     "data": {
      "text/plain": [
       "{}"
      ]
     },
     "execution_count": 302,
     "metadata": {},
     "output_type": "execute_result"
    }
   ],
   "source": [
    "r=test.reactions.ADPT\n",
    "r.check_mass_balance()"
   ]
  },
  {
   "cell_type": "code",
   "execution_count": 301,
   "id": "bdd325f9-9dc5-421b-8175-c2bfd1d4db38",
   "metadata": {},
   "outputs": [
    {
     "name": "stdout",
     "output_type": "stream",
     "text": [
      "-3\n",
      "-3\n",
      "HO7P2\n",
      "HO7P2\n"
     ]
    }
   ],
   "source": [
    "print(model.metabolites.ppi_c.charge)\n",
    "print(test.metabolites.ppi_c.charge)\n",
    "print(model.metabolites.ppi_c.formula)\n",
    "print(test.metabolites.ppi_c.formula)"
   ]
  },
  {
   "cell_type": "code",
   "execution_count": 273,
   "id": "3c0bcb83-b439-455d-963e-0f6ae3e151ca",
   "metadata": {},
   "outputs": [],
   "source": [
    "test=read_model('C:/Users/Aimee/Documents/Metabolic_Modeling/organized/models/annotatedGCmodel.json')"
   ]
  },
  {
   "cell_type": "code",
   "execution_count": 274,
   "id": "ac66ab66-4315-445a-be7a-a5e343ec8b03",
   "metadata": {},
   "outputs": [
    {
     "data": {
      "text/html": [
       "\n",
       "        <table>\n",
       "            <tr>\n",
       "                <td><strong>Name</strong></td>\n",
       "                <td>NGO_558</td>\n",
       "            </tr><tr>\n",
       "                <td><strong>Memory address</strong></td>\n",
       "                <td>0x01487c59bee0</td>\n",
       "            </tr><tr>\n",
       "                <td><strong>Number of metabolites</strong></td>\n",
       "                <td>1263</td>\n",
       "            </tr><tr>\n",
       "                <td><strong>Number of reactions</strong></td>\n",
       "                <td>1423</td>\n",
       "            </tr><tr>\n",
       "                <td><strong>Number of groups</strong></td>\n",
       "                <td>0</td>\n",
       "            </tr><tr>\n",
       "                <td><strong>Objective expression</strong></td>\n",
       "                <td>1.0*biomass - 1.0*biomass_reverse_01e59</td>\n",
       "            </tr><tr>\n",
       "                <td><strong>Compartments</strong></td>\n",
       "                <td>periplasm, cytoplasm, extracellular</td>\n",
       "            </tr>\n",
       "          </table>"
      ],
      "text/plain": [
       "<Model NGO_558 at 0x1487c59bee0>"
      ]
     },
     "execution_count": 274,
     "metadata": {},
     "output_type": "execute_result"
    }
   ],
   "source": [
    "test"
   ]
  },
  {
   "cell_type": "code",
   "execution_count": 275,
   "id": "00b1305e-d8f0-4582-a8fb-580cf270574f",
   "metadata": {},
   "outputs": [
    {
     "name": "stdout",
     "output_type": "stream",
     "text": [
      "8 8 8\n"
     ]
    },
    {
     "data": {
      "text/html": [
       "<div>\n",
       "<style scoped>\n",
       "    .dataframe tbody tr th:only-of-type {\n",
       "        vertical-align: middle;\n",
       "    }\n",
       "\n",
       "    .dataframe tbody tr th {\n",
       "        vertical-align: top;\n",
       "    }\n",
       "\n",
       "    .dataframe thead th {\n",
       "        text-align: right;\n",
       "    }\n",
       "</style>\n",
       "<table border=\"1\" class=\"dataframe\">\n",
       "  <thead>\n",
       "    <tr style=\"text-align: right;\">\n",
       "      <th></th>\n",
       "      <th>Reactions</th>\n",
       "      <th>Charge</th>\n",
       "      <th>Masses</th>\n",
       "    </tr>\n",
       "  </thead>\n",
       "  <tbody>\n",
       "    <tr>\n",
       "      <th>0</th>\n",
       "      <td>BTS4</td>\n",
       "      <td></td>\n",
       "      <td>{'S': 1.0}</td>\n",
       "    </tr>\n",
       "    <tr>\n",
       "      <th>1</th>\n",
       "      <td>CYTCS</td>\n",
       "      <td>5.0</td>\n",
       "      <td>{'C': 8.0, 'H': 14.0, 'N': 4.0, 'O': 4.0, 'S':...</td>\n",
       "    </tr>\n",
       "    <tr>\n",
       "      <th>2</th>\n",
       "      <td>HGFE</td>\n",
       "      <td>-8.0</td>\n",
       "      <td>{}</td>\n",
       "    </tr>\n",
       "    <tr>\n",
       "      <th>3</th>\n",
       "      <td>MDDCP6pp</td>\n",
       "      <td>6.0</td>\n",
       "      <td>{'H': 3.0, 'N': -6.0}</td>\n",
       "    </tr>\n",
       "    <tr>\n",
       "      <th>4</th>\n",
       "      <td>biomass</td>\n",
       "      <td>1.508643</td>\n",
       "      <td>{'C': -41.660179302281534, 'H': 26.21141557175...</td>\n",
       "    </tr>\n",
       "    <tr>\n",
       "      <th>5</th>\n",
       "      <td>PHEMEFErel</td>\n",
       "      <td>7.0</td>\n",
       "      <td>{}</td>\n",
       "    </tr>\n",
       "    <tr>\n",
       "      <th>6</th>\n",
       "      <td>PMCOAS</td>\n",
       "      <td>-1.0</td>\n",
       "      <td>{'C': 7.0, 'H': 9.0, 'O': 3.0}</td>\n",
       "    </tr>\n",
       "    <tr>\n",
       "      <th>7</th>\n",
       "      <td>CYPOX</td>\n",
       "      <td>-2.0</td>\n",
       "      <td>{}</td>\n",
       "    </tr>\n",
       "  </tbody>\n",
       "</table>\n",
       "</div>"
      ],
      "text/plain": [
       "    Reactions    Charge                                             Masses\n",
       "0        BTS4                                                   {'S': 1.0}\n",
       "1       CYTCS       5.0  {'C': 8.0, 'H': 14.0, 'N': 4.0, 'O': 4.0, 'S':...\n",
       "2        HGFE      -8.0                                                 {}\n",
       "3    MDDCP6pp       6.0                              {'H': 3.0, 'N': -6.0}\n",
       "4     biomass  1.508643  {'C': -41.660179302281534, 'H': 26.21141557175...\n",
       "5  PHEMEFErel       7.0                                                 {}\n",
       "6      PMCOAS      -1.0                     {'C': 7.0, 'H': 9.0, 'O': 3.0}\n",
       "7       CYPOX      -2.0                                                 {}"
      ]
     },
     "execution_count": 275,
     "metadata": {},
     "output_type": "execute_result"
    }
   ],
   "source": [
    "#After bulk removing cofactors, what reaction imbalances remain?\n",
    "reactions = []\n",
    "charge = []\n",
    "mass = []\n",
    "for react in test.reactions:\n",
    "    result = react.check_mass_balance()\n",
    "    if 'EX_' in  react.id:\n",
    "        continue\n",
    "    if 'Nm_' in  react.id:\n",
    "        continue\n",
    "    if 'DM_' in  react.id:\n",
    "        continue \n",
    "    if react.id in biomass_reactions:\n",
    "        continue\n",
    "    if len(result) == 0:\n",
    "        continue\n",
    "    else: \n",
    "        reactions.append(react.id)\n",
    "        masses = {}\n",
    "        for key in result.keys():\n",
    "            if key == 'charge':\n",
    "                charge.append(result['charge'])\n",
    "            else:\n",
    "                masses[key] = result[key]\n",
    "        if 'charge' not in result.keys():\n",
    "            charge.append('')\n",
    "        mass.append(masses)\n",
    "print(len(reactions), len(charge), len(mass))\n",
    "\n",
    "mass_charge_dict = {'Reactions': reactions, 'Charge': charge, 'Masses': mass}\n",
    "mass_charge = pandas.DataFrame(mass_charge_dict)\n",
    "mass_charge.to_csv('imbalancesremaining.csv')\n",
    "mass_charge"
   ]
  },
  {
   "cell_type": "code",
   "execution_count": 137,
   "id": "a7c61f00-f295-4f97-ba4c-0ae0f60e4b4b",
   "metadata": {},
   "outputs": [
    {
     "name": "stdout",
     "output_type": "stream",
     "text": [
      "Ngo_533- metabolites : 1341\n",
      "Ngo_533- reactions : 1432\n",
      "Ngo_533- genes : 559\n"
     ]
    }
   ],
   "source": [
    "print(\"Ngo_533- metabolites :\", len(model.metabolites))\n",
    "print(\"Ngo_533- reactions :\", len(model.reactions))\n",
    "print(\"Ngo_533- genes :\", len(model.genes))"
   ]
  },
  {
   "cell_type": "code",
   "execution_count": null,
   "id": "e3840327-f7cf-4ec7-8ea9-e595ba76734e",
   "metadata": {},
   "outputs": [],
   "source": []
  },
  {
   "cell_type": "code",
   "execution_count": 285,
   "id": "0a03a46c-f7ed-4b31-8056-0ed63ec9985e",
   "metadata": {},
   "outputs": [
    {
     "name": "stdout",
     "output_type": "stream",
     "text": [
      "RPMI 1.1805315902906208\n",
      "MDM 1.241330539428735\n",
      "RPMI_molarity 0.27174347285720757\n",
      "Complete media 1.8729354491783996\n"
     ]
    }
   ],
   "source": [
    "model.objective='Nm_Ess_biomass'\n",
    "rpmi(model)\n",
    "print ('RPMI',model.slim_optimize())\n",
    "mdm(model)\n",
    "print ('MDM', model.slim_optimize())\n",
    "rpmi_molarity(model)\n",
    "print ('RPMI_molarity', model.slim_optimize())\n",
    "complete(model)\n",
    "print('Complete media', model.slim_optimize())"
   ]
  },
  {
   "cell_type": "code",
   "execution_count": 286,
   "id": "b64ccf2c-054d-4ef9-8bf7-52a16e9e4a0a",
   "metadata": {
    "scrolled": true
   },
   "outputs": [],
   "source": [
    "r=model.reactions.get_by_id('Nm_Ess_biomass')\n",
    "pa120_p=model.metabolites.get_by_id('pa120_p')\n",
    "pa140_p=model.metabolites.get_by_id('pa140_p')\n",
    "pa160_p=model.metabolites.get_by_id('pa160_p')\n",
    "pa180_p=model.metabolites.get_by_id('pa180_p')\n",
    "pa141_p=model.metabolites.get_by_id('pa141_p')\n",
    "pa161_p=model.metabolites.get_by_id('pa161_p')\n",
    "pa181_p=model.metabolites.get_by_id('pa181_p')\n",
    "pe120_p=model.metabolites.get_by_id('pe120_p')\n",
    "pe140_p=model.metabolites.get_by_id('pe140_p')\n",
    "pe160_p=model.metabolites.get_by_id('pe160_p')\n",
    "pe180_p=model.metabolites.get_by_id('pe180_p')\n",
    "pe141_p=model.metabolites.get_by_id('pe141_p')\n",
    "pe161_p=model.metabolites.get_by_id('pe161_p')\n",
    "pe181_p=model.metabolites.get_by_id('pe181_p')\n",
    "pg120_p=model.metabolites.get_by_id('pg120_p')\n",
    "pg140_p=model.metabolites.get_by_id('pg140_p')\n",
    "pg160_p=model.metabolites.get_by_id('pg160_p')\n",
    "pg180_p=model.metabolites.get_by_id('pg180_p')\n",
    "pg141_p=model.metabolites.get_by_id('pg141_p')\n",
    "pg161a_p=model.metabolites.get_by_id('pg161_p')\n",
    "pg181c_p=model.metabolites.get_by_id('pg181_p')\n",
    "los_GC_c=model.metabolites.get_by_id('los_GC_c')\n",
    "murein4px4px4pOAc_p=model.metabolites.get_by_id('murein4px4px4pOAc_p')\n",
    "murein4p4p4pOAc_p=model.metabolites.get_by_id('murein4p4p4pOAc_p')\n",
    "asp_L_c=model.metabolites.get_by_id('asp_L_c')\n",
    "glu_L_c=model.metabolites.get_by_id('glu_L_c')\n",
    "ser_L_c=model.metabolites.get_by_id('ser_L_c')\n",
    "his_L_c=model.metabolites.get_by_id('his_L_c')\n",
    "gly_c=model.metabolites.get_by_id('gly_c')\n",
    "thr_L_c=model.metabolites.get_by_id('thr_L_c')\n",
    "ala_L_c=model.metabolites.get_by_id('ala_L_c')\n",
    "arg_L_c=model.metabolites.get_by_id('arg_L_c')\n",
    "tyr_L_c=model.metabolites.get_by_id('tyr_L_c')\n",
    "val_L_c=model.metabolites.get_by_id('val_L_c')\n",
    "met_L_c=model.metabolites.get_by_id('met_L_c')\n",
    "phe_L_c=model.metabolites.get_by_id('phe_L_c')\n",
    "ile_L_c=model.metabolites.get_by_id('ile_L_c')\n",
    "leu_L_c=model.metabolites.get_by_id('leu_L_c')\n",
    "lys_L_c=model.metabolites.get_by_id('lys_L_c')\n",
    "pro_L_c=model.metabolites.get_by_id('pro_L_c')\n",
    "asn_L_c=model.metabolites.get_by_id('asn_L_c')\n",
    "trp_L_c=model.metabolites.get_by_id('trp_L_c')\n",
    "cys_L_c=model.metabolites.get_by_id('cys_L_c')\n",
    "gln_L_c=model.metabolites.get_by_id('gln_L_c')\n",
    "datp_c=model.metabolites.get_by_id('datp_c')\n",
    "dttp_c=model.metabolites.get_by_id('dttp_c')\n",
    "dgtp_c=model.metabolites.get_by_id('dgtp_c')\n",
    "dctp_c=model.metabolites.get_by_id('dctp_c')\n",
    "atp_c=model.metabolites.get_by_id('atp_c')\n",
    "utp_c=model.metabolites.get_by_id('utp_c')\n",
    "gtp_c=model.metabolites.get_by_id('gtp_c')\n",
    "ctp_c=model.metabolites.get_by_id('ctp_c')\n",
    "fthf_c=model.metabolites.get_by_id('10fthf_c')\n",
    "ohph_c=model.metabolites.get_by_id('2ohph_c')\n",
    "amet_c=model.metabolites.get_by_id('amet_c')\n",
    "ca2_c=model.metabolites.get_by_id('ca2_c')\n",
    "cl_c=model.metabolites.get_by_id('cl_c')\n",
    "coa_c=model.metabolites.get_by_id('coa_c')\n",
    "cobalt2_c=model.metabolites.get_by_id('cobalt2_c')\n",
    "cu2_c=model.metabolites.get_by_id('cu2_c')\n",
    "fad_c=model.metabolites.get_by_id('fad_c')\n",
    "fe2_c=model.metabolites.get_by_id('fe2_c')\n",
    "fe3_c=model.metabolites.get_by_id('fe3_c')\n",
    "k_c=model.metabolites.get_by_id('k_c')\n",
    "mg2_c=model.metabolites.get_by_id('mg2_c')\n",
    "mlthf_c=model.metabolites.get_by_id('mlthf_c')\n",
    "mn2_c=model.metabolites.get_by_id('mn2_c')\n",
    "mobd_c=model.metabolites.get_by_id('mobd_c')\n",
    "nad_c=model.metabolites.get_by_id('nad_c')\n",
    "nadp_c=model.metabolites.get_by_id('nadp_c')\n",
    "nh4_c=model.metabolites.get_by_id('nh4_c')\n",
    "pheme_c=model.metabolites.get_by_id('pheme_c')\n",
    "pydx5p_c=model.metabolites.get_by_id('pydx5p_c')\n",
    "ribflv_c=model.metabolites.get_by_id('ribflv_c')\n",
    "sheme_c=model.metabolites.get_by_id('sheme_c')\n",
    "so4_c=model.metabolites.get_by_id('so4_c')\n",
    "thf_c=model.metabolites.get_by_id('thf_c')\n",
    "thmpp_c=model.metabolites.get_by_id('thmpp_c')\n",
    "udcpdp_c=model.metabolites.get_by_id('udcpdp_c')\n",
    "zn2_c=model.metabolites.get_by_id('zn2_c')\n",
    "h_c=model.metabolites.get_by_id('h_c')\n",
    "pi_c=model.metabolites.get_by_id('pi_c')\n",
    "adp_c=model.metabolites.get_by_id('adp_c')\n",
    "biomass=model.metabolites.get_by_id('biomass')\n",
    "capsule_NM_e=model.metabolites.get_by_id('capsule_NM_e')\n",
    "dna_c=model.metabolites.get_by_id('dna_c')\n",
    "rna_c=model.metabolites.get_by_id('rna_c')\n",
    "pepglycan_p=model.metabolites.get_by_id('pepglycan_p')\n",
    "protein=model.metabolites.get_by_id('protein')\n",
    "lipid_NM_p=model.metabolites.get_by_id('lipid_NM_p')\n",
    "ptrc_c=model.metabolites.get_by_id('ptrc_c')\n"
   ]
  },
  {
   "cell_type": "code",
   "execution_count": 287,
   "id": "4de895ad-5fc9-47b8-b9f0-191edda4fbb5",
   "metadata": {},
   "outputs": [],
   "source": [
    "#remove Nm_biomass components\n",
    "r=model.reactions.Nm_biomass\n",
    "r.add_metabolites({\n",
    "    fthf_c:0.000223,\n",
    "    ohph_c:0.000223,\n",
    "    amet_c:0.000223,\n",
    "    atp_c:52.84,\n",
    "    ca2_c:0.004737,\n",
    "    capsule_NM_e:0.00146,\n",
    "    cl_c:0.004737,\n",
    "    coa_c:0.000576,\n",
    "    cobalt2_c:0.003158,\n",
    "    cu2_c:0.003158,\n",
    "    dna_c:0.0798,\n",
    "    fad_c:0.000223,\n",
    "    fe2_c:0.007106,\n",
    "    fe3_c:0.007106,\n",
    "    h2o_c:52.84,\n",
    "    k_c:0.1776,\n",
    "    lipid_NM_p:0.1483,\n",
    "    mg2_c:0.007895,\n",
    "    mlthf_c:0.000223,\n",
    "    mn2_c:0.003158,\n",
    "    mobd_c:0.003158,\n",
    "    nad_c:0.001831,\n",
    "    nadp_c:0.000447,\n",
    "    nh4_c:0.011843,\n",
    "    pepglycan_p:0.1389,\n",
    "    pheme_c:0.000223,\n",
    "    protein:5.55,\n",
    "    ptrc_c:0.0077376,\n",
    "    pydx5p_c:0.000223,\n",
    "    ribflv_c:0.000223,\n",
    "    rna_c:0.4432,\n",
    "    sheme_c:0.000223,\n",
    "    so4_c:0.003948,\n",
    "    thf_c:0.000223,\n",
    "    thmpp_c:0.000223,\n",
    "    udcpdp_c:0.000055,\n",
    "    zn2_c:0.003158,\n",
    "    h_c:-52.84,\n",
    "    pi_c:-52.84,\n",
    "    adp_c:-52.84,\n",
    "    biomass:-1,})\n"
   ]
  },
  {
   "cell_type": "code",
   "execution_count": 288,
   "id": "0362e7e5-da65-425d-8de7-7ca9a9837979",
   "metadata": {},
   "outputs": [],
   "source": [
    "#New biomass equation for Gc\n",
    "r=model.reactions.Nm_biomass\n",
    "r.add_metabolites({\n",
    "    pa120_p:-0.000503555042155509,\n",
    "    pa140_p:-0,\n",
    "    pa160_p:-0.00207597350252432,\n",
    "    pa180_p:-0.000290080640591335,\n",
    "    pa141_p:-0.000371731800974898,\n",
    "    pa161_p:-0.00564538392418283,\n",
    "    pa181_p:-0.00216477129604764,\n",
    "    pe120_p:-0.00234345993674653,\n",
    "    pe140_p:-0.0025598346977071,\n",
    "    pe160_p:-0.055748823259178,\n",
    "    pe180_p:-0.00137834776769998,\n",
    "    pe141_p:-0.00821977537556325,\n",
    "    pe161_p:-0.0255682154771119,\n",
    "    pe181_p:-0.0102822273478348,\n",
    "    pg120_p:-0.000703620745734723,\n",
    "    pg140_p:-3.03207570481577E-05,\n",
    "    pg160_p:-0.0122303684865845,\n",
    "    pg180_p:-0.000418944804169265,\n",
    "    pg141_p:-0.00290595573235281,\n",
    "    pg161a_p:-0.00862596402374158,\n",
    "    pg181c_p:-0.00312454317572049,\n",
    "    los_GC_c:-0.0129924495638587,\n",
    "    murein4px4px4pOAc_p:-0.005556,\n",
    "    murein4p4p4pOAc_p:-0.008334,\n",
    "    asp_L_c:-0.328506488951245,\n",
    "    glu_L_c:-0.417926718513411,\n",
    "    ser_L_c:-0.298519204391151,\n",
    "    his_L_c:-0.101130783859868,\n",
    "    gly_c:-0.63200279142024,\n",
    "    thr_L_c:-0.289017233514768,\n",
    "    ala_L_c:-0.801362443841416,\n",
    "    arg_L_c:-0.326223794247415,\n",
    "    tyr_L_c:-0.142730093324994,\n",
    "    val_L_c:-0.43926986171134,\n",
    "    met_L_c:-0.102311261238582,\n",
    "    phe_L_c:-0.199024522901412,\n",
    "    ile_L_c:-0.291900141026265,\n",
    "    leu_L_c:-0.472627376778854,\n",
    "    lys_L_c:-0.351058182823571,\n",
    "    pro_L_c:-0.246449661470245,\n",
    "    asn_L_c:-0.251609961417047,\n",
    "    trp_L_c:-0.0689480779843109,\n",
    "    cys_L_c:-0.0606915932106025,\n",
    "    gln_L_c:-0.246224295606094,\n",
    "    datp_c:-0.0193660372420178,\n",
    "    dttp_c:-0.0193660372420178,\n",
    "    dgtp_c:-0.0205433507259598,\n",
    "    dctp_c:-0.0205433507259598,\n",
    "    atp_c:-0.108889121528625,\n",
    "    utp_c:-0.108889121528625,\n",
    "    gtp_c:-0.112753363956914,\n",
    "    ctp_c:-0.112753363956914,\n",
    "    fthf_c:-0.000223,\n",
    "    ohph_c:-0.000223,\n",
    "    amet_c:-0.000223,\n",
    "    ca2_c:-0.004737,\n",
    "    cl_c:-0.004737,\n",
    "    coa_c:-0.000576,\n",
    "    cobalt2_c:-0.003158,\n",
    "    cu2_c:-0.003158,\n",
    "    fad_c:-0.000223,\n",
    "    fe2_c:-0.007106,\n",
    "    fe3_c:-0.007106,\n",
    "    k_c:-0.1776,\n",
    "    mg2_c:-0.007895,\n",
    "    mlthf_c:-0.000223,\n",
    "    mn2_c:-0.003158,\n",
    "    mobd_c:-0.003158,\n",
    "    nad_c:-0.001831,\n",
    "    nadp_c:-0.000447,\n",
    "    nh4_c:-0.11843,\n",
    "    pheme_c:-0.000223,\n",
    "    pydx5p_c:-0.000223,\n",
    "    ribflv_c:-0.000223,\n",
    "    sheme_c:-0.000223,\n",
    "    so4_c:-0.003948,\n",
    "    thf_c:-0.000223,\n",
    "    thmpp_c:-0.000223,\n",
    "    udcpdp_c:-0.000055,\n",
    "    zn2_c:-0.003158,\n",
    "    atp_c: -52.84,\n",
    "    h_c:52.84,\n",
    "    pi_c:52.84,\n",
    "    adp_c:52.84,\n",
    "    biomass:1,\n",
    "    })\n",
    "\n",
    "r.name='biomass'\n",
    "r.id='biomass'"
   ]
  },
  {
   "cell_type": "code",
   "execution_count": 289,
   "id": "c105e664-e4f0-4622-bdec-81d8d0e4b068",
   "metadata": {},
   "outputs": [],
   "source": [
    "model.objective='biomass'"
   ]
  },
  {
   "cell_type": "code",
   "execution_count": 290,
   "id": "73d8be69-50e9-45b8-bc71-60f0298da845",
   "metadata": {},
   "outputs": [
    {
     "name": "stdout",
     "output_type": "stream",
     "text": [
      "RPMI 1.5748164611774584\n",
      "MDM 1.6558002724411476\n",
      "RPMI_molarity 0.2849964780785233\n",
      "Complete media 2.4998508320954747\n"
     ]
    }
   ],
   "source": [
    "rpmi(model)\n",
    "print ('RPMI',model.slim_optimize())\n",
    "mdm(model)\n",
    "print ('MDM', model.slim_optimize())\n",
    "rpmi_molarity(model)\n",
    "print ('RPMI_molarity', model.slim_optimize())\n",
    "complete(model)\n",
    "print('Complete media', model.slim_optimize())"
   ]
  },
  {
   "cell_type": "code",
   "execution_count": 291,
   "id": "24606480-4364-4907-9738-2cc911291751",
   "metadata": {},
   "outputs": [
    {
     "name": "stdout",
     "output_type": "stream",
     "text": [
      "Complete media 2.499850832095472\n"
     ]
    },
    {
     "name": "stderr",
     "output_type": "stream",
     "text": [
      "C:\\Users\\Aimee\\anaconda3\\lib\\site-packages\\cobra\\core\\model.py:727: UserWarning: need to pass in a list\n",
      "  warn(\"need to pass in a list\")\n"
     ]
    }
   ],
   "source": [
    "model.remove_reactions('PLIPIDS')\n",
    "model.remove_reactions('PLIPIDS_ESS')\n",
    "model.remove_reactions('PEPGLY')\n",
    "model.remove_reactions('PROTS')\n",
    "model.remove_reactions('DNAS')\n",
    "model.remove_reactions('RNAS')\n",
    "model.remove_reactions('Nm_Ess_biomass')\n",
    "model.remove_reactions('Nm_Baart_biomass')\n",
    "model.remove_reactions('DM_CAPBIOMASS')\n",
    "model.remove_reactions('DM_ESSBIOMASS')\n",
    "\n",
    "print('Complete media', model.slim_optimize())"
   ]
  },
  {
   "cell_type": "code",
   "execution_count": 292,
   "id": "05b4483e-9b1c-4965-87c3-d31d4d57a54e",
   "metadata": {
    "scrolled": true
   },
   "outputs": [],
   "source": [
    "model.metabolites.trp_L_c.annotation['bigg.metabolite'] = 'trp__L'"
   ]
  },
  {
   "cell_type": "code",
   "execution_count": 293,
   "id": "31fdcb62-a0a4-4913-9a58-d3d8b259efd3",
   "metadata": {},
   "outputs": [
    {
     "name": "stdout",
     "output_type": "stream",
     "text": [
      "RPMI 1.5748164611774143\n",
      "MDM 1.6558002724413403\n",
      "RPMI_molarity 0.28499647807840733\n",
      "Complete media 2.4998508320953516\n"
     ]
    }
   ],
   "source": [
    "rpmi(model)\n",
    "print ('RPMI',model.slim_optimize())\n",
    "mdm(model)\n",
    "print ('MDM', model.slim_optimize())\n",
    "rpmi_molarity(model)\n",
    "print ('RPMI_molarity', model.slim_optimize())\n",
    "complete(model)\n",
    "print('Complete media', model.slim_optimize())"
   ]
  },
  {
   "cell_type": "code",
   "execution_count": 294,
   "id": "106c6e54-1a4b-4c2a-9f32-c6a2bfd1d4b5",
   "metadata": {
    "scrolled": true,
    "tags": []
   },
   "outputs": [],
   "source": [
    "#Add exchange reactions for extracellular reactions that are missing, or delete metabolites as appropriate\n",
    "exchanges=[]\n",
    "exchanges_mets=[]\n",
    "extracellular=[]\n",
    "for metabolite in model.metabolites:\n",
    "    if metabolite.compartment == 'extracellular':\n",
    "        extracellular.append(metabolite.id)\n",
    "    else :\n",
    "        pass\n",
    "\n",
    "for reaction in model.reactions:\n",
    "    if \"EX_\" in reaction.id:\n",
    "        exchanges.append(reaction.id)\n",
    "\n",
    "for x in exchanges:\n",
    "    for metabolites in model.reactions.get_by_id(x).metabolites:\n",
    "        exchanges_mets.append(metabolites.id)"
   ]
  },
  {
   "cell_type": "code",
   "execution_count": 295,
   "id": "79dde88e-4709-4ee5-bb79-fb46be95eda2",
   "metadata": {},
   "outputs": [
    {
     "name": "stdout",
     "output_type": "stream",
     "text": [
      "ag_e\n",
      "capsule_NM_e\n",
      "glcn_e\n",
      "acald_e\n"
     ]
    }
   ],
   "source": [
    "for x in extracellular:\n",
    "    if x in exchanges_mets:\n",
    "        pass\n",
    "    else:\n",
    "        print(x)"
   ]
  },
  {
   "cell_type": "code",
   "execution_count": 298,
   "id": "49557d3d-40e7-4c34-9b37-39691c5aa41a",
   "metadata": {},
   "outputs": [],
   "source": [
    "#acald export was previously deleted as it is not detected extracellularly in Gc cultures. removed extracellular acald as a metabolite.  \n",
    "acald_e = model.metabolites.acald_e\n",
    "model.remove_metabolites(acald_e)\n",
    "ACALDtex=model.reactions.ACALDtex\n",
    "model.remove_reactions(ACALDtex)\n",
    "\n",
    "#gluconate is not thought to be imported/used as a carbon source by neisseria (https://www.karger.com/Article/FullText/447093)\n",
    "glcn_e=model.metabolites.glcn_e\n",
    "model.remove_metabolites(glcn_e)\n",
    "\n",
    "#delete capsule metabolite, which is not produced by Gc\n",
    "capsule=model.metabolites.capsule_NM_e\n",
    "model.remove_metabolites(capsule)\n",
    "\n",
    "#add exchange reaction for silver\n",
    "reaction = Reaction('EX_ag_e')\n",
    "reaction.name = 'EX of Ag_e'\n",
    "reaction.subsystem = 'Exchange'\n",
    "reaction.lower_bound = 0\n",
    "reaction.upper_bound = 0\n",
    "reaction.annotation = {'sbo': 'SBO:0000627'}\n",
    "reaction.add_metabolites({model.metabolites.ag_e: -1.0})\n",
    "reaction.notes['NOTES'] = 'Added exchange reaction that was missing'\n",
    "model.add_reactions([reaction])"
   ]
  },
  {
   "cell_type": "code",
   "execution_count": 299,
   "id": "79e1d4a5-f1bd-40bd-b09b-ca126877a599",
   "metadata": {},
   "outputs": [],
   "source": [
    "#delete orphan metabolties left over from reconstruction curation process\n",
    "orphan_mets=[]\n",
    "for metabolite in model.metabolites:\n",
    "    if len(metabolite.reactions) == 0:\n",
    "        orphan_mets.append(metabolite.id)\n",
    "\n",
    "for mets in orphan_mets:\n",
    "    m=model.metabolites.get_by_id(mets)\n",
    "    model.remove_metabolites(m)"
   ]
  },
  {
   "cell_type": "code",
   "execution_count": 300,
   "id": "d3e6b769-445e-4738-94f5-5ef552ee6696",
   "metadata": {},
   "outputs": [
    {
     "data": {
      "text/html": [
       "\n",
       "        <table>\n",
       "            <tr>\n",
       "                <td><strong>Metabolite identifier</strong></td><td>pro_L_c</td>\n",
       "            </tr><tr>\n",
       "                <td><strong>Name</strong></td><td>M_pro_L_c</td>\n",
       "            </tr><tr>\n",
       "                <td><strong>Memory address</strong></td>\n",
       "                <td>0x01783dbba1f0</td>\n",
       "            </tr><tr>\n",
       "                <td><strong>Formula</strong></td><td>C5H9NO2</td>\n",
       "            </tr><tr>\n",
       "                <td><strong>Compartment</strong></td><td>cytoplasm</td>\n",
       "            </tr><tr>\n",
       "                <td><strong>In 7 reaction(s)</strong></td><td>\n",
       "                    biomass, PROabcpp, P5CR, PROt2rpp, PROt1pp, PROD2, PROHX</td>\n",
       "            </tr>\n",
       "        </table>"
      ],
      "text/plain": [
       "<Metabolite pro_L_c at 0x1783dbba1f0>"
      ]
     },
     "execution_count": 300,
     "metadata": {},
     "output_type": "execute_result"
    }
   ],
   "source": [
    "pro_L_c"
   ]
  },
  {
   "cell_type": "code",
   "execution_count": 301,
   "id": "4f608f7a-33a7-4524-ab14-6383c41ada7d",
   "metadata": {},
   "outputs": [
    {
     "data": {
      "text/html": [
       "\n",
       "        <table>\n",
       "            <tr>\n",
       "                <td><strong>Reaction identifier</strong></td><td>AMPTASEPG</td>\n",
       "            </tr><tr>\n",
       "                <td><strong>Name</strong></td><td>Aminopeptidase (pro-gly)</td>\n",
       "            </tr><tr>\n",
       "                <td><strong>Memory address</strong></td>\n",
       "                <td>0x01783e3a8ee0</td>\n",
       "            </tr><tr>\n",
       "                <td><strong>Stoichiometry</strong></td>\n",
       "                <td>\n",
       "                    <p style='text-align:right'>h2o_c + progly_c --> gly_c + pro_L_c</p>\n",
       "                    <p style='text-align:right'>M_h2o_c + L-Prolinylglycine --> M_gly_c + M_pro_L_c</p>\n",
       "                </td>\n",
       "            </tr><tr>\n",
       "                <td><strong>GPR</strong></td><td>NGO1227</td>\n",
       "            </tr><tr>\n",
       "                <td><strong>Lower bound</strong></td><td>0.0</td>\n",
       "            </tr><tr>\n",
       "                <td><strong>Upper bound</strong></td><td>1000.0</td>\n",
       "            </tr>\n",
       "        </table>\n",
       "        "
      ],
      "text/plain": [
       "<Reaction AMPTASEPG at 0x1783e3a8ee0>"
      ]
     },
     "execution_count": 301,
     "metadata": {},
     "output_type": "execute_result"
    }
   ],
   "source": [
    "r=model.reactions.AMPTASEPG\n",
    "pro__L_c = model.metabolites.pro__L_c\n",
    "\n",
    "r.add_metabolites({\n",
    "    pro_L_c: 1.0,\n",
    "    pro__L_c: -1.0})\n",
    "\n",
    "\n",
    "r"
   ]
  },
  {
   "cell_type": "code",
   "execution_count": 303,
   "id": "7d5e0e3a-6749-437f-8af9-571888fc2637",
   "metadata": {},
   "outputs": [],
   "source": [
    "model.remove_metabolites(pro__L_c)"
   ]
  },
  {
   "cell_type": "code",
   "execution_count": 302,
   "id": "6529ea85-5a70-49ee-b162-b64663dfa043",
   "metadata": {},
   "outputs": [],
   "source": [
    "#This gene catalyzes a bidirection conversion of alanine into pyruvate. However, although the enzyme is technically birectional,\n",
    "#in e.coli alanine transaminase expretion is supressed in the presence of alanine and the downstream product leucine. \n",
    "#Additionally, Gc is not capable of growing on alanine as a carbon source. https://www.ncbi.nlm.nih.gov/pmc/articles/PMC2950514/\n",
    "#As such, this is likely not a catabolic enzyme. I am limiting it to the synthesis of alanine only. \n",
    "model.reactions.ALATA_L.upper_bound=0"
   ]
  },
  {
   "cell_type": "code",
   "execution_count": 304,
   "id": "89359888-4185-4799-ac0c-b4c79925c865",
   "metadata": {},
   "outputs": [
    {
     "data": {
      "text/plain": [
       "560"
      ]
     },
     "execution_count": 304,
     "metadata": {},
     "output_type": "execute_result"
    }
   ],
   "source": [
    "len(model.genes)"
   ]
  },
  {
   "cell_type": "code",
   "execution_count": null,
   "id": "e8e5e45a-f5b8-4b6b-8b8b-acfdb7ecda32",
   "metadata": {},
   "outputs": [],
   "source": []
  },
  {
   "cell_type": "code",
   "execution_count": 305,
   "id": "08d81dde-9856-4e8e-9281-40e5a6f5a17a",
   "metadata": {},
   "outputs": [],
   "source": [
    "#Subtract Sgene and Orphan gene for naming\n",
    "model.id ='NGO_558'"
   ]
  },
  {
   "cell_type": "code",
   "execution_count": 306,
   "id": "57c364f5-d147-4ffb-98a2-0b5615e6b267",
   "metadata": {},
   "outputs": [
    {
     "data": {
      "text/html": [
       "\n",
       "        <table>\n",
       "            <tr>\n",
       "                <td><strong>Name</strong></td>\n",
       "                <td>NGO_558</td>\n",
       "            </tr><tr>\n",
       "                <td><strong>Memory address</strong></td>\n",
       "                <td>0x01783cb76460</td>\n",
       "            </tr><tr>\n",
       "                <td><strong>Number of metabolites</strong></td>\n",
       "                <td>1263</td>\n",
       "            </tr><tr>\n",
       "                <td><strong>Number of reactions</strong></td>\n",
       "                <td>1423</td>\n",
       "            </tr><tr>\n",
       "                <td><strong>Number of groups</strong></td>\n",
       "                <td>0</td>\n",
       "            </tr><tr>\n",
       "                <td><strong>Objective expression</strong></td>\n",
       "                <td>1.0*biomass - 1.0*biomass_reverse_01e59</td>\n",
       "            </tr><tr>\n",
       "                <td><strong>Compartments</strong></td>\n",
       "                <td>periplasm, cytoplasm, extracellular</td>\n",
       "            </tr>\n",
       "          </table>"
      ],
      "text/plain": [
       "<Model NGO_558 at 0x1783cb76460>"
      ]
     },
     "execution_count": 306,
     "metadata": {},
     "output_type": "execute_result"
    }
   ],
   "source": [
    "model"
   ]
  },
  {
   "cell_type": "code",
   "execution_count": 307,
   "id": "b7462d06-d139-4361-9852-c0b0e9bad799",
   "metadata": {
    "scrolled": true
   },
   "outputs": [],
   "source": [
    "cobra.io.write_sbml_model(model, 'C:/Users/Aimee/Documents/UVA/Metabolic_Modeling/organized/models/annotatedGCmodel.xml')"
   ]
  },
  {
   "cell_type": "code",
   "execution_count": 308,
   "id": "a80b0163-2a16-492f-bd59-03d646b80c16",
   "metadata": {
    "scrolled": true
   },
   "outputs": [],
   "source": [
    "cobra.io.save_json_model(model, 'C:/Users/Aimee/Documents/UVA/Metabolic_Modeling/organized/models/annotatedGCmodel.json')"
   ]
  },
  {
   "cell_type": "code",
   "execution_count": null,
   "id": "eb40b6a8-fa61-4128-b889-c078816da027",
   "metadata": {},
   "outputs": [],
   "source": [
    "#Send model to modelPolisher\n",
    "\n",
    "#Cd ModelPolisher\n",
    "#docker-compose run -v C:\\Users\\Aimee\\models:/models/ polisher java -jar /ModelPolisher-2.1-beta.jar --input=/models/NGO_557.sbml --output=/models/output/NGO_557_polished.sbml --annotate-with-bigg=true --add-adb-annotations=true --output-combine=true\n",
    "\n",
    "#Extract from Zip file (Users-->Aimee-->models)\n",
    "#Save model to \"cwd+'/Gc_GENRE_2022/Curate_Gc_Model/In_progress_curation/NGO_557_polished.sbml\"\n"
   ]
  }
 ],
 "metadata": {
  "kernelspec": {
   "display_name": "Python 3",
   "language": "python",
   "name": "python3"
  },
  "language_info": {
   "codemirror_mode": {
    "name": "ipython",
    "version": 3
   },
   "file_extension": ".py",
   "mimetype": "text/x-python",
   "name": "python",
   "nbconvert_exporter": "python",
   "pygments_lexer": "ipython3",
   "version": "3.8.8"
  }
 },
 "nbformat": 4,
 "nbformat_minor": 5
}
