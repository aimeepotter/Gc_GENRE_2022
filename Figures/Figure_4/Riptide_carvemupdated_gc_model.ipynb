{
 "cells": [
  {
   "cell_type": "code",
   "execution_count": null,
   "id": "56816407-e873-40c6-92a3-7b8ffe6871c6",
   "metadata": {},
   "outputs": [],
   "source": [
    "#MUST RUN THIS WITH COBRA 0220 jupyter notebook!"
   ]
  },
  {
   "cell_type": "code",
   "execution_count": 1,
   "id": "41f76624-6205-468a-8d35-14746f6d348d",
   "metadata": {},
   "outputs": [],
   "source": [
    "import cobra\n",
    "import pandas as pd\n",
    "import seaborn as sns\n",
    "from seaborn import clustermap\n",
    "from cobra.io import read_sbml_model, load_json_model\n",
    "from cobra.flux_analysis import gapfill\n",
    "from cobra.flux_analysis import single_gene_deletion\n",
    "from glob import glob\n",
    "import riptide\n",
    "import numpy\n",
    "\n",
    "import math\n",
    "nlog2 = math.log(2)\n",
    "\n",
    "def doubling_time(model):\n",
    "    with model as m:\n",
    "        ov = m.slim_optimize()\n",
    "        if ov < 1e-6:\n",
    "            growth = 'No growth'\n",
    "        else:  \n",
    "            growth = nlog2*60/ov\n",
    "            growth = str(round(growth, 3))\n",
    "        \n",
    "    return growth"
   ]
  },
  {
   "cell_type": "code",
   "execution_count": 4,
   "id": "84550572-6cfa-4f44-86df-6b7e902678e1",
   "metadata": {},
   "outputs": [
    {
     "name": "stdout",
     "output_type": "stream",
     "text": [
      "Set parameter Username\n",
      "Academic license - for non-commercial use only - expires 2023-08-15\n"
     ]
    }
   ],
   "source": [
    "riptidemodel=load_json_model(\"C://Users/Aimee/Documents/Metabolic_Modeling/Gc_GENRE_2022/Models/NGO_557.json\")"
   ]
  },
  {
   "cell_type": "code",
   "execution_count": 7,
   "id": "c45daad0",
   "metadata": {},
   "outputs": [
    {
     "data": {
      "text/html": [
       "\n",
       "        <table>\n",
       "            <tr>\n",
       "                <td><strong>Name</strong></td>\n",
       "                <td>iNGO_557</td>\n",
       "            </tr><tr>\n",
       "                <td><strong>Memory address</strong></td>\n",
       "                <td>0x018fdf57cd90</td>\n",
       "            </tr><tr>\n",
       "                <td><strong>Number of metabolites</strong></td>\n",
       "                <td>1263</td>\n",
       "            </tr><tr>\n",
       "                <td><strong>Number of reactions</strong></td>\n",
       "                <td>1424</td>\n",
       "            </tr><tr>\n",
       "                <td><strong>Number of groups</strong></td>\n",
       "                <td>0</td>\n",
       "            </tr><tr>\n",
       "                <td><strong>Objective expression</strong></td>\n",
       "                <td>1.0*biomass - 1.0*biomass_reverse_01e59</td>\n",
       "            </tr><tr>\n",
       "                <td><strong>Compartments</strong></td>\n",
       "                <td>periplasm, cytosol, extracellular, Cytosol</td>\n",
       "            </tr>\n",
       "          </table>"
      ],
      "text/plain": [
       "<Model iNGO_557 at 0x18fdf57cd90>"
      ]
     },
     "execution_count": 7,
     "metadata": {},
     "output_type": "execute_result"
    }
   ],
   "source": [
    "riptidemodel"
   ]
  },
  {
   "cell_type": "code",
   "execution_count": 8,
   "id": "985e1a4c-5b76-429b-81a8-13477993b222",
   "metadata": {},
   "outputs": [
    {
     "name": "stdout",
     "output_type": "stream",
     "text": [
      "22.124\n"
     ]
    }
   ],
   "source": [
    "def complete(model):\n",
    "    for reaction in model.reactions:\n",
    "        if 'EX_' in  reaction.id:\n",
    "            reaction.lower_bound=-10.\n",
    "        if 'EX_o2_e_' in  reaction.id:\n",
    "            reaction.lower_bound=-20.                    \n",
    "\n",
    "\n",
    "complete(riptidemodel)            \n",
    "print(doubling_time(riptidemodel))"
   ]
  },
  {
   "cell_type": "code",
   "execution_count": 9,
   "id": "8fa687b3",
   "metadata": {},
   "outputs": [],
   "source": [
    "T1_130alone = riptide.read_transcription_file('130riptidereadcountsT1ba.txt', header=False)\n",
    "T1_130withPMN = riptide.read_transcription_file('130riptidereadcountsT1PMN.txt', header=False)"
   ]
  },
  {
   "cell_type": "code",
   "execution_count": null,
   "id": "939c0c8a",
   "metadata": {},
   "outputs": [
    {
     "name": "stdout",
     "output_type": "stream",
     "text": [
      "\n",
      "Running max fit RIPTiDe for objective fraction range: 0.1 to 0.8 with intervals of 0.05 \n",
      "\n",
      "Testing minimum objective fractions...\n",
      "Read LP format model from file C:\\Users\\Aimee\\AppData\\Local\\Temp\\tmpfzvk7yiw.lp\n",
      "Reading time = 0.02 seconds\n",
      ": 1263 rows, 2848 columns, 10016 nonzeros\n",
      "Read LP format model from file C:\\Users\\Aimee\\AppData\\Local\\Temp\\tmpyy7gvrx5.lp\n",
      "Reading time = 0.02 seconds\n",
      ": 1263 rows, 2848 columns, 10016 nonzeros\n",
      "Read LP format model from file C:\\Users\\Aimee\\AppData\\Local\\Temp\\tmptpu1wmhk.lp\n",
      "Reading time = 0.02 seconds\n",
      ": 1263 rows, 2848 columns, 10016 nonzeros\n",
      "Read LP format model from file C:\\Users\\Aimee\\AppData\\Local\\Temp\\tmpqd3q2mmt.lp\n",
      "Reading time = 0.03 seconds\n",
      ": 1263 rows, 2848 columns, 10016 nonzeros\n",
      "Read LP format model from file C:\\Users\\Aimee\\AppData\\Local\\Temp\\tmp9w4gyh0p.lp\n",
      "Reading time = 0.02 seconds\n",
      ": 1263 rows, 2848 columns, 10016 nonzeros\n",
      "Read LP format model from file C:\\Users\\Aimee\\AppData\\Local\\Temp\\tmpyaw83x06.lp\n",
      "Reading time = 0.02 seconds\n",
      ": 1263 rows, 2848 columns, 10016 nonzeros\n",
      "Read LP format model from file C:\\Users\\Aimee\\AppData\\Local\\Temp\\tmpbhcro6n9.lp\n",
      "Reading time = 0.01 seconds\n",
      ": 504 rows, 1022 columns, 4290 nonzeros\n"
     ]
    },
    {
     "name": "stderr",
     "output_type": "stream",
     "text": [
      "C:\\Users\\Aimee\\anaconda3\\envs\\Cobra 0220\\lib\\site-packages\\optlang\\interface.py:1474: DeprecationWarning: Deprecated, pass a TempConstr or use Model.addLConstr\n",
      "  self._add_constraints(add_constr)\n",
      "C:\\Users\\Aimee\\anaconda3\\envs\\Cobra 0220\\lib\\site-packages\\optlang\\interface.py:1474: DeprecationWarning: Deprecated, pass a TempConstr or use Model.addLConstr\n",
      "  self._add_constraints(add_constr)\n"
     ]
    },
    {
     "name": "stdout",
     "output_type": "stream",
     "text": [
      "Read LP format model from file C:\\Users\\Aimee\\AppData\\Local\\Temp\\tmpsbrmwfhx.lp\n",
      "Reading time = 0.01 seconds\n",
      ": 504 rows, 1022 columns, 4290 nonzeros\n",
      "Fraction = 0.1 | Rho = 0.2194 ; p = 0.0\n",
      "Read LP format model from file C:\\Users\\Aimee\\AppData\\Local\\Temp\\tmpwtgoi4s3.lp\n",
      "Reading time = 0.01 seconds\n",
      ": 504 rows, 1022 columns, 4290 nonzeros\n",
      "Read LP format model from file C:\\Users\\Aimee\\AppData\\Local\\Temp\\tmpb1lhhm2a.lp\n",
      "Reading time = 0.02 seconds\n",
      ": 1263 rows, 2848 columns, 10016 nonzeros\n",
      "Read LP format model from file C:\\Users\\Aimee\\AppData\\Local\\Temp\\tmpjh_px96_.lp\n",
      "Reading time = 0.02 seconds\n",
      ": 1263 rows, 2848 columns, 10016 nonzeros\n",
      "Read LP format model from file C:\\Users\\Aimee\\AppData\\Local\\Temp\\tmprp1z96zo.lp\n",
      "Reading time = 0.02 seconds\n",
      ": 1263 rows, 2848 columns, 10016 nonzeros\n",
      "Read LP format model from file C:\\Users\\Aimee\\AppData\\Local\\Temp\\tmpnb9mlmeg.lp\n",
      "Reading time = 0.02 seconds\n",
      ": 1263 rows, 2848 columns, 10016 nonzeros\n",
      "Read LP format model from file C:\\Users\\Aimee\\AppData\\Local\\Temp\\tmpx1uggg_q.lp\n",
      "Reading time = 0.02 seconds\n",
      ": 1263 rows, 2848 columns, 10016 nonzeros\n",
      "Read LP format model from file C:\\Users\\Aimee\\AppData\\Local\\Temp\\tmp4v7m3ar0.lp\n",
      "Reading time = 0.02 seconds\n",
      ": 1263 rows, 2848 columns, 10016 nonzeros\n",
      "Read LP format model from file C:\\Users\\Aimee\\AppData\\Local\\Temp\\tmpo9ryoznw.lp\n",
      "Reading time = 0.02 seconds\n",
      ": 504 rows, 1022 columns, 4290 nonzeros\n"
     ]
    },
    {
     "name": "stderr",
     "output_type": "stream",
     "text": [
      "C:\\Users\\Aimee\\anaconda3\\envs\\Cobra 0220\\lib\\site-packages\\optlang\\interface.py:1474: DeprecationWarning: Deprecated, pass a TempConstr or use Model.addLConstr\n",
      "  self._add_constraints(add_constr)\n",
      "C:\\Users\\Aimee\\anaconda3\\envs\\Cobra 0220\\lib\\site-packages\\optlang\\interface.py:1474: DeprecationWarning: Deprecated, pass a TempConstr or use Model.addLConstr\n",
      "  self._add_constraints(add_constr)\n"
     ]
    },
    {
     "name": "stdout",
     "output_type": "stream",
     "text": [
      "Fraction = 0.15 | Rho = 0.2084 ; p = 0.0\n",
      "Read LP format model from file C:\\Users\\Aimee\\AppData\\Local\\Temp\\tmpak94vkry.lp\n",
      "Reading time = 0.02 seconds\n",
      ": 1263 rows, 2848 columns, 10016 nonzeros\n",
      "Read LP format model from file C:\\Users\\Aimee\\AppData\\Local\\Temp\\tmps2_hmkcf.lp\n",
      "Reading time = 0.02 seconds\n",
      ": 1263 rows, 2848 columns, 10016 nonzeros\n",
      "Read LP format model from file C:\\Users\\Aimee\\AppData\\Local\\Temp\\tmpoty6q8a_.lp\n",
      "Reading time = 0.03 seconds\n",
      ": 1263 rows, 2848 columns, 10016 nonzeros\n",
      "Read LP format model from file C:\\Users\\Aimee\\AppData\\Local\\Temp\\tmpr9k4vk4s.lp\n",
      "Reading time = 0.02 seconds\n",
      ": 1263 rows, 2848 columns, 10016 nonzeros\n",
      "Read LP format model from file C:\\Users\\Aimee\\AppData\\Local\\Temp\\tmpkp2dvoys.lp\n",
      "Reading time = 0.02 seconds\n",
      ": 1263 rows, 2848 columns, 10016 nonzeros\n",
      "Read LP format model from file C:\\Users\\Aimee\\AppData\\Local\\Temp\\tmpf6h2ykl0.lp\n",
      "Reading time = 0.02 seconds\n",
      ": 1263 rows, 2848 columns, 10016 nonzeros\n",
      "Read LP format model from file C:\\Users\\Aimee\\AppData\\Local\\Temp\\tmp1r2baue_.lp\n",
      "Reading time = 0.02 seconds\n",
      ": 504 rows, 1024 columns, 4298 nonzeros\n"
     ]
    },
    {
     "name": "stderr",
     "output_type": "stream",
     "text": [
      "C:\\Users\\Aimee\\anaconda3\\envs\\Cobra 0220\\lib\\site-packages\\optlang\\interface.py:1474: DeprecationWarning: Deprecated, pass a TempConstr or use Model.addLConstr\n",
      "  self._add_constraints(add_constr)\n",
      "C:\\Users\\Aimee\\anaconda3\\envs\\Cobra 0220\\lib\\site-packages\\optlang\\interface.py:1474: DeprecationWarning: Deprecated, pass a TempConstr or use Model.addLConstr\n",
      "  self._add_constraints(add_constr)\n"
     ]
    },
    {
     "name": "stdout",
     "output_type": "stream",
     "text": [
      "Fraction = 0.2 | Rho = 0.2119 ; p = 0.0\n",
      "Read LP format model from file C:\\Users\\Aimee\\AppData\\Local\\Temp\\tmp4zdwnyxd.lp\n",
      "Reading time = 0.03 seconds\n",
      ": 1263 rows, 2848 columns, 10016 nonzeros\n",
      "Read LP format model from file C:\\Users\\Aimee\\AppData\\Local\\Temp\\tmp83vhjww3.lp\n",
      "Reading time = 0.03 seconds\n",
      ": 1263 rows, 2848 columns, 10016 nonzeros\n",
      "Read LP format model from file C:\\Users\\Aimee\\AppData\\Local\\Temp\\tmpxr5qs43s.lp\n",
      "Reading time = 0.02 seconds\n",
      ": 1263 rows, 2848 columns, 10016 nonzeros\n",
      "Read LP format model from file C:\\Users\\Aimee\\AppData\\Local\\Temp\\tmpuj0qrsyv.lp\n",
      "Reading time = 0.02 seconds\n",
      ": 1263 rows, 2848 columns, 10016 nonzeros\n",
      "Read LP format model from file C:\\Users\\Aimee\\AppData\\Local\\Temp\\tmplfdo220u.lp\n",
      "Reading time = 0.02 seconds\n",
      ": 1263 rows, 2848 columns, 10016 nonzeros\n",
      "Read LP format model from file C:\\Users\\Aimee\\AppData\\Local\\Temp\\tmpvoprayjk.lp\n",
      "Reading time = 0.02 seconds\n",
      ": 1263 rows, 2848 columns, 10016 nonzeros\n",
      "Read LP format model from file C:\\Users\\Aimee\\AppData\\Local\\Temp\\tmpad_incez.lp\n",
      "Reading time = 0.01 seconds\n",
      ": 504 rows, 1030 columns, 4322 nonzeros\n"
     ]
    },
    {
     "name": "stderr",
     "output_type": "stream",
     "text": [
      "C:\\Users\\Aimee\\anaconda3\\envs\\Cobra 0220\\lib\\site-packages\\optlang\\interface.py:1474: DeprecationWarning: Deprecated, pass a TempConstr or use Model.addLConstr\n",
      "  self._add_constraints(add_constr)\n"
     ]
    }
   ],
   "source": [
    "with riptidemodel:\n",
    "    complete(riptidemodel)\n",
    "    T1_130withPMN_riptide_object= riptide.maxfit_contextualize(model=riptidemodel, transcriptome=T1_130withPMN, frac_min=0.1, frac_max=0.8, samples=1000)\n",
    "    riptide.save_output(riptide_obj=T1_130withPMN_riptide_object, path='T1_130withPMN_complete_maxfit')"
   ]
  },
  {
   "cell_type": "code",
   "execution_count": null,
   "id": "54b3a286",
   "metadata": {},
   "outputs": [],
   "source": [
    "with riptidemodel:\n",
    "    complete(riptidemodel)\n",
    "    T1_130alone_riptide_object= riptide.maxfit_contextualize(model=riptidemodel, transcriptome=T1_130alone, frac_min=0.1, frac_max=0.8, samples=1000)\n",
    "    riptide.save_output(riptide_obj=T1_130alone_riptide_object, path='T1_130alone_complete_maxfit')"
   ]
  },
  {
   "cell_type": "code",
   "execution_count": 9,
   "id": "0a851a53",
   "metadata": {},
   "outputs": [
    {
     "name": "stderr",
     "output_type": "stream",
     "text": [
      "https://identifiers.org/UNIPROT/ does not conform to 'http(s)://identifiers.org/collection/id' or'http(s)://identifiers.org/COLLECTION:id\n",
      "https://identifiers.org/UNIPROT/ does not conform to 'http(s)://identifiers.org/collection/id' or'http(s)://identifiers.org/COLLECTION:id\n",
      "https://identifiers.org/UNIPROT/ does not conform to 'http(s)://identifiers.org/collection/id' or'http(s)://identifiers.org/COLLECTION:id\n",
      "https://identifiers.org/UNIPROT/ does not conform to 'http(s)://identifiers.org/collection/id' or'http(s)://identifiers.org/COLLECTION:id\n",
      "https://identifiers.org/UNIPROT/ does not conform to 'http(s)://identifiers.org/collection/id' or'http(s)://identifiers.org/COLLECTION:id\n",
      "https://identifiers.org/UNIPROT/ does not conform to 'http(s)://identifiers.org/collection/id' or'http(s)://identifiers.org/COLLECTION:id\n",
      "https://identifiers.org/UNIPROT/ does not conform to 'http(s)://identifiers.org/collection/id' or'http(s)://identifiers.org/COLLECTION:id\n",
      "https://identifiers.org/UNIPROT/ does not conform to 'http(s)://identifiers.org/collection/id' or'http(s)://identifiers.org/COLLECTION:id\n",
      "https://identifiers.org/PUBMLST_Locus/ does not conform to 'http(s)://identifiers.org/collection/id' or'http(s)://identifiers.org/COLLECTION:id\n",
      "https://identifiers.org/UNIPROT/ does not conform to 'http(s)://identifiers.org/collection/id' or'http(s)://identifiers.org/COLLECTION:id\n",
      "https://identifiers.org/UNIPROT/ does not conform to 'http(s)://identifiers.org/collection/id' or'http(s)://identifiers.org/COLLECTION:id\n",
      "https://identifiers.org/PUBMLST_Locus/ does not conform to 'http(s)://identifiers.org/collection/id' or'http(s)://identifiers.org/COLLECTION:id\n",
      "https://identifiers.org/PUBMLST_Locus/ does not conform to 'http(s)://identifiers.org/collection/id' or'http(s)://identifiers.org/COLLECTION:id\n",
      "https://identifiers.org/UNIPROT/ does not conform to 'http(s)://identifiers.org/collection/id' or'http(s)://identifiers.org/COLLECTION:id\n",
      "https://identifiers.org/UNIPROT/ does not conform to 'http(s)://identifiers.org/collection/id' or'http(s)://identifiers.org/COLLECTION:id\n",
      "https://identifiers.org/UNIPROT/ does not conform to 'http(s)://identifiers.org/collection/id' or'http(s)://identifiers.org/COLLECTION:id\n",
      "https://identifiers.org/PUBMLST_Locus/ does not conform to 'http(s)://identifiers.org/collection/id' or'http(s)://identifiers.org/COLLECTION:id\n",
      "https://identifiers.org/UNIPROT/ does not conform to 'http(s)://identifiers.org/collection/id' or'http(s)://identifiers.org/COLLECTION:id\n",
      "https://identifiers.org/UNIPROT/ does not conform to 'http(s)://identifiers.org/collection/id' or'http(s)://identifiers.org/COLLECTION:id\n",
      "https://identifiers.org/UNIPROT/ does not conform to 'http(s)://identifiers.org/collection/id' or'http(s)://identifiers.org/COLLECTION:id\n",
      "https://identifiers.org/PUBMLST_Locus/ does not conform to 'http(s)://identifiers.org/collection/id' or'http(s)://identifiers.org/COLLECTION:id\n",
      "https://identifiers.org/PUBMLST_Locus/ does not conform to 'http(s)://identifiers.org/collection/id' or'http(s)://identifiers.org/COLLECTION:id\n",
      "https://identifiers.org/UNIPROT/ does not conform to 'http(s)://identifiers.org/collection/id' or'http(s)://identifiers.org/COLLECTION:id\n",
      "https://identifiers.org/PUBMLST_Locus/ does not conform to 'http(s)://identifiers.org/collection/id' or'http(s)://identifiers.org/COLLECTION:id\n",
      "https://identifiers.org/UNIPROT/ does not conform to 'http(s)://identifiers.org/collection/id' or'http(s)://identifiers.org/COLLECTION:id\n",
      "https://identifiers.org/PUBMLST_Locus/ does not conform to 'http(s)://identifiers.org/collection/id' or'http(s)://identifiers.org/COLLECTION:id\n",
      "https://identifiers.org/UNIPROT/ does not conform to 'http(s)://identifiers.org/collection/id' or'http(s)://identifiers.org/COLLECTION:id\n",
      "https://identifiers.org/UNIPROT/ does not conform to 'http(s)://identifiers.org/collection/id' or'http(s)://identifiers.org/COLLECTION:id\n",
      "https://identifiers.org/UNIPROT/ does not conform to 'http(s)://identifiers.org/collection/id' or'http(s)://identifiers.org/COLLECTION:id\n",
      "https://identifiers.org/UNIPROT/ does not conform to 'http(s)://identifiers.org/collection/id' or'http(s)://identifiers.org/COLLECTION:id\n",
      "https://identifiers.org/UNIPROT/ does not conform to 'http(s)://identifiers.org/collection/id' or'http(s)://identifiers.org/COLLECTION:id\n",
      "https://identifiers.org/UNIPROT/ does not conform to 'http(s)://identifiers.org/collection/id' or'http(s)://identifiers.org/COLLECTION:id\n",
      "https://identifiers.org/UNIPROT/ does not conform to 'http(s)://identifiers.org/collection/id' or'http(s)://identifiers.org/COLLECTION:id\n",
      "https://identifiers.org/UNIPROT/ does not conform to 'http(s)://identifiers.org/collection/id' or'http(s)://identifiers.org/COLLECTION:id\n",
      "https://identifiers.org/UNIPROT/ does not conform to 'http(s)://identifiers.org/collection/id' or'http(s)://identifiers.org/COLLECTION:id\n",
      "https://identifiers.org/UNIPROT/ does not conform to 'http(s)://identifiers.org/collection/id' or'http(s)://identifiers.org/COLLECTION:id\n",
      "https://identifiers.org/UNIPROT/ does not conform to 'http(s)://identifiers.org/collection/id' or'http(s)://identifiers.org/COLLECTION:id\n",
      "https://identifiers.org/UNIPROT/ does not conform to 'http(s)://identifiers.org/collection/id' or'http(s)://identifiers.org/COLLECTION:id\n",
      "https://identifiers.org/UNIPROT/ does not conform to 'http(s)://identifiers.org/collection/id' or'http(s)://identifiers.org/COLLECTION:id\n",
      "https://identifiers.org/UNIPROT/ does not conform to 'http(s)://identifiers.org/collection/id' or'http(s)://identifiers.org/COLLECTION:id\n",
      "https://identifiers.org/UNIPROT/ does not conform to 'http(s)://identifiers.org/collection/id' or'http(s)://identifiers.org/COLLECTION:id\n",
      "https://identifiers.org/PUBMLST_Locus/ does not conform to 'http(s)://identifiers.org/collection/id' or'http(s)://identifiers.org/COLLECTION:id\n",
      "https://identifiers.org/UNIPROT/ does not conform to 'http(s)://identifiers.org/collection/id' or'http(s)://identifiers.org/COLLECTION:id\n",
      "https://identifiers.org/UNIPROT/ does not conform to 'http(s)://identifiers.org/collection/id' or'http(s)://identifiers.org/COLLECTION:id\n",
      "https://identifiers.org/PUBMLST_Locus/ does not conform to 'http(s)://identifiers.org/collection/id' or'http(s)://identifiers.org/COLLECTION:id\n",
      "https://identifiers.org/UNIPROT/ does not conform to 'http(s)://identifiers.org/collection/id' or'http(s)://identifiers.org/COLLECTION:id\n",
      "https://identifiers.org/UNIPROT/ does not conform to 'http(s)://identifiers.org/collection/id' or'http(s)://identifiers.org/COLLECTION:id\n",
      "https://identifiers.org/UNIPROT/ does not conform to 'http(s)://identifiers.org/collection/id' or'http(s)://identifiers.org/COLLECTION:id\n",
      "https://identifiers.org/UNIPROT/ does not conform to 'http(s)://identifiers.org/collection/id' or'http(s)://identifiers.org/COLLECTION:id\n",
      "https://identifiers.org/UNIPROT/ does not conform to 'http(s)://identifiers.org/collection/id' or'http(s)://identifiers.org/COLLECTION:id\n",
      "https://identifiers.org/UNIPROT/ does not conform to 'http(s)://identifiers.org/collection/id' or'http(s)://identifiers.org/COLLECTION:id\n",
      "https://identifiers.org/UNIPROT/ does not conform to 'http(s)://identifiers.org/collection/id' or'http(s)://identifiers.org/COLLECTION:id\n",
      "https://identifiers.org/UNIPROT/ does not conform to 'http(s)://identifiers.org/collection/id' or'http(s)://identifiers.org/COLLECTION:id\n",
      "https://identifiers.org/PUBMLST_Locus/ does not conform to 'http(s)://identifiers.org/collection/id' or'http(s)://identifiers.org/COLLECTION:id\n",
      "https://identifiers.org/UNIPROT/ does not conform to 'http(s)://identifiers.org/collection/id' or'http(s)://identifiers.org/COLLECTION:id\n",
      "https://identifiers.org/UNIPROT/ does not conform to 'http(s)://identifiers.org/collection/id' or'http(s)://identifiers.org/COLLECTION:id\n",
      "https://identifiers.org/PUBMLST_Locus/ does not conform to 'http(s)://identifiers.org/collection/id' or'http(s)://identifiers.org/COLLECTION:id\n",
      "https://identifiers.org/PUBMLST_Locus/ does not conform to 'http(s)://identifiers.org/collection/id' or'http(s)://identifiers.org/COLLECTION:id\n",
      "https://identifiers.org/UNIPROT/ does not conform to 'http(s)://identifiers.org/collection/id' or'http(s)://identifiers.org/COLLECTION:id\n",
      "https://identifiers.org/UNIPROT/ does not conform to 'http(s)://identifiers.org/collection/id' or'http(s)://identifiers.org/COLLECTION:id\n",
      "https://identifiers.org/UNIPROT/ does not conform to 'http(s)://identifiers.org/collection/id' or'http(s)://identifiers.org/COLLECTION:id\n",
      "https://identifiers.org/PUBMLST_Locus/ does not conform to 'http(s)://identifiers.org/collection/id' or'http(s)://identifiers.org/COLLECTION:id\n",
      "https://identifiers.org/UNIPROT/ does not conform to 'http(s)://identifiers.org/collection/id' or'http(s)://identifiers.org/COLLECTION:id\n",
      "https://identifiers.org/UNIPROT/ does not conform to 'http(s)://identifiers.org/collection/id' or'http(s)://identifiers.org/COLLECTION:id\n",
      "https://identifiers.org/UNIPROT/ does not conform to 'http(s)://identifiers.org/collection/id' or'http(s)://identifiers.org/COLLECTION:id\n",
      "https://identifiers.org/PUBMLST_Locus/ does not conform to 'http(s)://identifiers.org/collection/id' or'http(s)://identifiers.org/COLLECTION:id\n",
      "https://identifiers.org/PUBMLST_Locus/ does not conform to 'http(s)://identifiers.org/collection/id' or'http(s)://identifiers.org/COLLECTION:id\n",
      "https://identifiers.org/UNIPROT/ does not conform to 'http(s)://identifiers.org/collection/id' or'http(s)://identifiers.org/COLLECTION:id\n",
      "https://identifiers.org/PUBMLST_Locus/ does not conform to 'http(s)://identifiers.org/collection/id' or'http(s)://identifiers.org/COLLECTION:id\n",
      "https://identifiers.org/UNIPROT/ does not conform to 'http(s)://identifiers.org/collection/id' or'http(s)://identifiers.org/COLLECTION:id\n",
      "https://identifiers.org/PUBMLST_Locus/ does not conform to 'http(s)://identifiers.org/collection/id' or'http(s)://identifiers.org/COLLECTION:id\n",
      "https://identifiers.org/UNIPROT/ does not conform to 'http(s)://identifiers.org/collection/id' or'http(s)://identifiers.org/COLLECTION:id\n",
      "https://identifiers.org/UNIPROT/ does not conform to 'http(s)://identifiers.org/collection/id' or'http(s)://identifiers.org/COLLECTION:id\n",
      "https://identifiers.org/UNIPROT/ does not conform to 'http(s)://identifiers.org/collection/id' or'http(s)://identifiers.org/COLLECTION:id\n",
      "https://identifiers.org/UNIPROT/ does not conform to 'http(s)://identifiers.org/collection/id' or'http(s)://identifiers.org/COLLECTION:id\n",
      "https://identifiers.org/UNIPROT/ does not conform to 'http(s)://identifiers.org/collection/id' or'http(s)://identifiers.org/COLLECTION:id\n",
      "https://identifiers.org/UNIPROT/ does not conform to 'http(s)://identifiers.org/collection/id' or'http(s)://identifiers.org/COLLECTION:id\n",
      "https://identifiers.org/UNIPROT/ does not conform to 'http(s)://identifiers.org/collection/id' or'http(s)://identifiers.org/COLLECTION:id\n",
      "https://identifiers.org/UNIPROT/ does not conform to 'http(s)://identifiers.org/collection/id' or'http(s)://identifiers.org/COLLECTION:id\n",
      "https://identifiers.org/UNIPROT/ does not conform to 'http(s)://identifiers.org/collection/id' or'http(s)://identifiers.org/COLLECTION:id\n",
      "https://identifiers.org/UNIPROT/ does not conform to 'http(s)://identifiers.org/collection/id' or'http(s)://identifiers.org/COLLECTION:id\n",
      "https://identifiers.org/UNIPROT/ does not conform to 'http(s)://identifiers.org/collection/id' or'http(s)://identifiers.org/COLLECTION:id\n",
      "https://identifiers.org/UNIPROT/ does not conform to 'http(s)://identifiers.org/collection/id' or'http(s)://identifiers.org/COLLECTION:id\n",
      "https://identifiers.org/UNIPROT/ does not conform to 'http(s)://identifiers.org/collection/id' or'http(s)://identifiers.org/COLLECTION:id\n",
      "https://identifiers.org/UNIPROT/ does not conform to 'http(s)://identifiers.org/collection/id' or'http(s)://identifiers.org/COLLECTION:id\n",
      "https://identifiers.org/UNIPROT/ does not conform to 'http(s)://identifiers.org/collection/id' or'http(s)://identifiers.org/COLLECTION:id\n",
      "https://identifiers.org/PUBMLST_Locus/ does not conform to 'http(s)://identifiers.org/collection/id' or'http(s)://identifiers.org/COLLECTION:id\n",
      "https://identifiers.org/UNIPROT/ does not conform to 'http(s)://identifiers.org/collection/id' or'http(s)://identifiers.org/COLLECTION:id\n",
      "https://identifiers.org/UNIPROT/ does not conform to 'http(s)://identifiers.org/collection/id' or'http(s)://identifiers.org/COLLECTION:id\n",
      "https://identifiers.org/PUBMLST_Locus/ does not conform to 'http(s)://identifiers.org/collection/id' or'http(s)://identifiers.org/COLLECTION:id\n"
     ]
    }
   ],
   "source": [
    "alone=read_sbml_model(\"C://Users/Aimee/Documents/Metabolic_Modeling/Gc_GENRE_2022/Figures/Figure_4/T1_130alone_complete_maxfit/model.sbml\")\n",
    "PMN=read_sbml_model(\"C://Users/Aimee/Documents/Metabolic_Modeling/Gc_GENRE_2022/Figures/Figure_4/T1_130withPMN_complete_maxfit/model.sbml\")"
   ]
  },
  {
   "cell_type": "code",
   "execution_count": null,
   "id": "53779c85",
   "metadata": {},
   "outputs": [],
   "source": []
  },
  {
   "cell_type": "code",
   "execution_count": 23,
   "id": "8dd8ab02",
   "metadata": {},
   "outputs": [
    {
     "ename": "ValueError",
     "evalue": "The truth value of a Series is ambiguous. Use a.empty, a.bool(), a.item(), a.any() or a.all().",
     "output_type": "error",
     "traceback": [
      "\u001b[1;31m---------------------------------------------------------------------------\u001b[0m",
      "\u001b[1;31mValueError\u001b[0m                                Traceback (most recent call last)",
      "\u001b[1;32m<ipython-input-23-782ea9b4a6c1>\u001b[0m in \u001b[0;36m<module>\u001b[1;34m\u001b[0m\n\u001b[0;32m      6\u001b[0m \u001b[1;33m\u001b[0m\u001b[0m\n\u001b[0;32m      7\u001b[0m \u001b[1;32mfor\u001b[0m \u001b[0mx\u001b[0m \u001b[1;32min\u001b[0m \u001b[0maloneKOs\u001b[0m\u001b[1;33m:\u001b[0m\u001b[1;33m\u001b[0m\u001b[1;33m\u001b[0m\u001b[0m\n\u001b[1;32m----> 8\u001b[1;33m     \u001b[1;32mif\u001b[0m \u001b[0maloneKOs\u001b[0m\u001b[1;33m[\u001b[0m\u001b[1;34m'status'\u001b[0m\u001b[1;33m]\u001b[0m\u001b[1;33m==\u001b[0m\u001b[1;34m'infeasible'\u001b[0m\u001b[1;33m:\u001b[0m\u001b[1;33m\u001b[0m\u001b[1;33m\u001b[0m\u001b[0m\n\u001b[0m\u001b[0;32m      9\u001b[0m         \u001b[0mprint\u001b[0m \u001b[1;33m(\u001b[0m\u001b[0maloneKOs\u001b[0m\u001b[1;33m[\u001b[0m\u001b[1;34m'ids'\u001b[0m\u001b[1;33m]\u001b[0m\u001b[1;33m)\u001b[0m\u001b[1;33m\u001b[0m\u001b[1;33m\u001b[0m\u001b[0m\n",
      "\u001b[1;32m~\\anaconda3\\envs\\Cobra 0220\\lib\\site-packages\\pandas\\core\\generic.py\u001b[0m in \u001b[0;36m__nonzero__\u001b[1;34m(self)\u001b[0m\n\u001b[0;32m   1532\u001b[0m     \u001b[1;33m@\u001b[0m\u001b[0mfinal\u001b[0m\u001b[1;33m\u001b[0m\u001b[1;33m\u001b[0m\u001b[0m\n\u001b[0;32m   1533\u001b[0m     \u001b[1;32mdef\u001b[0m \u001b[0m__nonzero__\u001b[0m\u001b[1;33m(\u001b[0m\u001b[0mself\u001b[0m\u001b[1;33m)\u001b[0m\u001b[1;33m:\u001b[0m\u001b[1;33m\u001b[0m\u001b[1;33m\u001b[0m\u001b[0m\n\u001b[1;32m-> 1534\u001b[1;33m         raise ValueError(\n\u001b[0m\u001b[0;32m   1535\u001b[0m             \u001b[1;34mf\"The truth value of a {type(self).__name__} is ambiguous. \"\u001b[0m\u001b[1;33m\u001b[0m\u001b[1;33m\u001b[0m\u001b[0m\n\u001b[0;32m   1536\u001b[0m             \u001b[1;34m\"Use a.empty, a.bool(), a.item(), a.any() or a.all().\"\u001b[0m\u001b[1;33m\u001b[0m\u001b[1;33m\u001b[0m\u001b[0m\n",
      "\u001b[1;31mValueError\u001b[0m: The truth value of a Series is ambiguous. Use a.empty, a.bool(), a.item(), a.any() or a.all()."
     ]
    }
   ],
   "source": [
    "aloneKOs=single_gene_deletion(alone)\n",
    "PMNKOs=single_gene_deletion(PMN)\n",
    "\n",
    "aloneKOs.to_csv('aloneKOs_maxfit.csv')\n",
    "PMNKOs.to_csv('PMNKOs_maxfit.csv')\n"
   ]
  },
  {
   "cell_type": "code",
   "execution_count": null,
   "id": "94280188",
   "metadata": {},
   "outputs": [],
   "source": []
  }
 ],
 "metadata": {
  "kernelspec": {
   "display_name": "Python 3",
   "language": "python",
   "name": "python3"
  },
  "language_info": {
   "codemirror_mode": {
    "name": "ipython",
    "version": 3
   },
   "file_extension": ".py",
   "mimetype": "text/x-python",
   "name": "python",
   "nbconvert_exporter": "python",
   "pygments_lexer": "ipython3",
   "version": "3.8.10"
  }
 },
 "nbformat": 4,
 "nbformat_minor": 5
}
