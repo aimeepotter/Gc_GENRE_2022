{
 "cells": [
  {
   "cell_type": "code",
   "execution_count": null,
   "id": "56816407-e873-40c6-92a3-7b8ffe6871c6",
   "metadata": {},
   "outputs": [],
   "source": [
    "#MUST RUN THIS WITH COBRA 0220 jupyter notebook!"
   ]
  },
  {
   "cell_type": "code",
   "execution_count": 1,
   "id": "41f76624-6205-468a-8d35-14746f6d348d",
   "metadata": {},
   "outputs": [],
   "source": [
    "import cobra\n",
    "import pandas as pd\n",
    "import seaborn as sns\n",
    "from seaborn import clustermap\n",
    "from cobra.io import read_sbml_model, load_json_model\n",
    "from cobra.flux_analysis import gapfill\n",
    "from cobra.flux_analysis import single_gene_deletion\n",
    "from glob import glob\n",
    "import riptide\n",
    "import numpy\n",
    "\n",
    "import math\n",
    "nlog2 = math.log(2)\n",
    "\n",
    "def doubling_time(model):\n",
    "    with model as m:\n",
    "        ov = m.slim_optimize()\n",
    "        if ov < 1e-6:\n",
    "            growth = 'No growth'\n",
    "        else:  \n",
    "            growth = nlog2*60/ov\n",
    "            growth = str(round(growth, 3))\n",
    "        \n",
    "    return growth"
   ]
  },
  {
   "cell_type": "code",
   "execution_count": 4,
   "id": "84550572-6cfa-4f44-86df-6b7e902678e1",
   "metadata": {},
   "outputs": [
    {
     "name": "stdout",
     "output_type": "stream",
     "text": [
      "Set parameter Username\n",
      "Academic license - for non-commercial use only - expires 2023-08-15\n"
     ]
    }
   ],
   "source": [
    "riptidemodel=load_json_model(\"C://Users/Aimee/Documents/Metabolic_Modeling/Gc_GENRE_2022/Models/NGO_557.json\")"
   ]
  },
  {
   "cell_type": "code",
   "execution_count": 7,
   "id": "c45daad0",
   "metadata": {},
   "outputs": [
    {
     "data": {
      "text/html": [
       "\n",
       "        <table>\n",
       "            <tr>\n",
       "                <td><strong>Name</strong></td>\n",
       "                <td>iNGO_557</td>\n",
       "            </tr><tr>\n",
       "                <td><strong>Memory address</strong></td>\n",
       "                <td>0x018fdf57cd90</td>\n",
       "            </tr><tr>\n",
       "                <td><strong>Number of metabolites</strong></td>\n",
       "                <td>1263</td>\n",
       "            </tr><tr>\n",
       "                <td><strong>Number of reactions</strong></td>\n",
       "                <td>1424</td>\n",
       "            </tr><tr>\n",
       "                <td><strong>Number of groups</strong></td>\n",
       "                <td>0</td>\n",
       "            </tr><tr>\n",
       "                <td><strong>Objective expression</strong></td>\n",
       "                <td>1.0*biomass - 1.0*biomass_reverse_01e59</td>\n",
       "            </tr><tr>\n",
       "                <td><strong>Compartments</strong></td>\n",
       "                <td>periplasm, cytosol, extracellular, Cytosol</td>\n",
       "            </tr>\n",
       "          </table>"
      ],
      "text/plain": [
       "<Model iNGO_557 at 0x18fdf57cd90>"
      ]
     },
     "execution_count": 7,
     "metadata": {},
     "output_type": "execute_result"
    }
   ],
   "source": [
    "riptidemodel"
   ]
  },
  {
   "cell_type": "code",
   "execution_count": 8,
   "id": "985e1a4c-5b76-429b-81a8-13477993b222",
   "metadata": {},
   "outputs": [
    {
     "name": "stdout",
     "output_type": "stream",
     "text": [
      "22.124\n"
     ]
    }
   ],
   "source": [
    "def complete(model):\n",
    "    for reaction in model.reactions:\n",
    "        if 'EX_' in  reaction.id:\n",
    "            reaction.lower_bound=-10.\n",
    "        if 'EX_o2_e_' in  reaction.id:\n",
    "            reaction.lower_bound=-20.                    \n",
    "\n",
    "\n",
    "complete(riptidemodel)            \n",
    "print(doubling_time(riptidemodel))"
   ]
  },
  {
   "cell_type": "code",
   "execution_count": 9,
   "id": "8fa687b3",
   "metadata": {},
   "outputs": [],
   "source": [
    "T1_130alone = riptide.read_transcription_file('130riptidereadcountsT1ba.txt', header=False)\n",
    "T1_130withPMN = riptide.read_transcription_file('130riptidereadcountsT1PMN.txt', header=False)"
   ]
  },
  {
   "cell_type": "code",
   "execution_count": 10,
   "id": "939c0c8a",
   "metadata": {},
   "outputs": [
    {
     "name": "stdout",
     "output_type": "stream",
     "text": [
      "\n",
      "Running max fit RIPTiDe for objective fraction range: 0.1 to 0.8 with intervals of 0.05 \n",
      "\n",
      "Testing minimum objective fractions...\n",
      "Read LP format model from file C:\\Users\\Aimee\\AppData\\Local\\Temp\\tmpfzvk7yiw.lp\n",
      "Reading time = 0.02 seconds\n",
      ": 1263 rows, 2848 columns, 10016 nonzeros\n",
      "Read LP format model from file C:\\Users\\Aimee\\AppData\\Local\\Temp\\tmpyy7gvrx5.lp\n",
      "Reading time = 0.02 seconds\n",
      ": 1263 rows, 2848 columns, 10016 nonzeros\n",
      "Read LP format model from file C:\\Users\\Aimee\\AppData\\Local\\Temp\\tmptpu1wmhk.lp\n",
      "Reading time = 0.02 seconds\n",
      ": 1263 rows, 2848 columns, 10016 nonzeros\n",
      "Read LP format model from file C:\\Users\\Aimee\\AppData\\Local\\Temp\\tmpqd3q2mmt.lp\n",
      "Reading time = 0.03 seconds\n",
      ": 1263 rows, 2848 columns, 10016 nonzeros\n",
      "Read LP format model from file C:\\Users\\Aimee\\AppData\\Local\\Temp\\tmp9w4gyh0p.lp\n",
      "Reading time = 0.02 seconds\n",
      ": 1263 rows, 2848 columns, 10016 nonzeros\n",
      "Read LP format model from file C:\\Users\\Aimee\\AppData\\Local\\Temp\\tmpyaw83x06.lp\n",
      "Reading time = 0.02 seconds\n",
      ": 1263 rows, 2848 columns, 10016 nonzeros\n",
      "Read LP format model from file C:\\Users\\Aimee\\AppData\\Local\\Temp\\tmpbhcro6n9.lp\n",
      "Reading time = 0.01 seconds\n",
      ": 504 rows, 1022 columns, 4290 nonzeros\n"
     ]
    },
    {
     "name": "stderr",
     "output_type": "stream",
     "text": [
      "C:\\Users\\Aimee\\anaconda3\\envs\\Cobra 0220\\lib\\site-packages\\optlang\\interface.py:1474: DeprecationWarning: Deprecated, pass a TempConstr or use Model.addLConstr\n",
      "  self._add_constraints(add_constr)\n",
      "C:\\Users\\Aimee\\anaconda3\\envs\\Cobra 0220\\lib\\site-packages\\optlang\\interface.py:1474: DeprecationWarning: Deprecated, pass a TempConstr or use Model.addLConstr\n",
      "  self._add_constraints(add_constr)\n"
     ]
    },
    {
     "name": "stdout",
     "output_type": "stream",
     "text": [
      "Read LP format model from file C:\\Users\\Aimee\\AppData\\Local\\Temp\\tmpsbrmwfhx.lp\n",
      "Reading time = 0.01 seconds\n",
      ": 504 rows, 1022 columns, 4290 nonzeros\n",
      "Fraction = 0.1 | Rho = 0.2194 ; p = 0.0\n",
      "Read LP format model from file C:\\Users\\Aimee\\AppData\\Local\\Temp\\tmpwtgoi4s3.lp\n",
      "Reading time = 0.01 seconds\n",
      ": 504 rows, 1022 columns, 4290 nonzeros\n",
      "Read LP format model from file C:\\Users\\Aimee\\AppData\\Local\\Temp\\tmpb1lhhm2a.lp\n",
      "Reading time = 0.02 seconds\n",
      ": 1263 rows, 2848 columns, 10016 nonzeros\n",
      "Read LP format model from file C:\\Users\\Aimee\\AppData\\Local\\Temp\\tmpjh_px96_.lp\n",
      "Reading time = 0.02 seconds\n",
      ": 1263 rows, 2848 columns, 10016 nonzeros\n",
      "Read LP format model from file C:\\Users\\Aimee\\AppData\\Local\\Temp\\tmprp1z96zo.lp\n",
      "Reading time = 0.02 seconds\n",
      ": 1263 rows, 2848 columns, 10016 nonzeros\n",
      "Read LP format model from file C:\\Users\\Aimee\\AppData\\Local\\Temp\\tmpnb9mlmeg.lp\n",
      "Reading time = 0.02 seconds\n",
      ": 1263 rows, 2848 columns, 10016 nonzeros\n",
      "Read LP format model from file C:\\Users\\Aimee\\AppData\\Local\\Temp\\tmpx1uggg_q.lp\n",
      "Reading time = 0.02 seconds\n",
      ": 1263 rows, 2848 columns, 10016 nonzeros\n",
      "Read LP format model from file C:\\Users\\Aimee\\AppData\\Local\\Temp\\tmp4v7m3ar0.lp\n",
      "Reading time = 0.02 seconds\n",
      ": 1263 rows, 2848 columns, 10016 nonzeros\n",
      "Read LP format model from file C:\\Users\\Aimee\\AppData\\Local\\Temp\\tmpo9ryoznw.lp\n",
      "Reading time = 0.02 seconds\n",
      ": 504 rows, 1022 columns, 4290 nonzeros\n"
     ]
    },
    {
     "name": "stderr",
     "output_type": "stream",
     "text": [
      "C:\\Users\\Aimee\\anaconda3\\envs\\Cobra 0220\\lib\\site-packages\\optlang\\interface.py:1474: DeprecationWarning: Deprecated, pass a TempConstr or use Model.addLConstr\n",
      "  self._add_constraints(add_constr)\n",
      "C:\\Users\\Aimee\\anaconda3\\envs\\Cobra 0220\\lib\\site-packages\\optlang\\interface.py:1474: DeprecationWarning: Deprecated, pass a TempConstr or use Model.addLConstr\n",
      "  self._add_constraints(add_constr)\n"
     ]
    },
    {
     "name": "stdout",
     "output_type": "stream",
     "text": [
      "Fraction = 0.15 | Rho = 0.2084 ; p = 0.0\n",
      "Read LP format model from file C:\\Users\\Aimee\\AppData\\Local\\Temp\\tmpak94vkry.lp\n",
      "Reading time = 0.02 seconds\n",
      ": 1263 rows, 2848 columns, 10016 nonzeros\n",
      "Read LP format model from file C:\\Users\\Aimee\\AppData\\Local\\Temp\\tmps2_hmkcf.lp\n",
      "Reading time = 0.02 seconds\n",
      ": 1263 rows, 2848 columns, 10016 nonzeros\n",
      "Read LP format model from file C:\\Users\\Aimee\\AppData\\Local\\Temp\\tmpoty6q8a_.lp\n",
      "Reading time = 0.03 seconds\n",
      ": 1263 rows, 2848 columns, 10016 nonzeros\n",
      "Read LP format model from file C:\\Users\\Aimee\\AppData\\Local\\Temp\\tmpr9k4vk4s.lp\n",
      "Reading time = 0.02 seconds\n",
      ": 1263 rows, 2848 columns, 10016 nonzeros\n",
      "Read LP format model from file C:\\Users\\Aimee\\AppData\\Local\\Temp\\tmpkp2dvoys.lp\n",
      "Reading time = 0.02 seconds\n",
      ": 1263 rows, 2848 columns, 10016 nonzeros\n",
      "Read LP format model from file C:\\Users\\Aimee\\AppData\\Local\\Temp\\tmpf6h2ykl0.lp\n",
      "Reading time = 0.02 seconds\n",
      ": 1263 rows, 2848 columns, 10016 nonzeros\n",
      "Read LP format model from file C:\\Users\\Aimee\\AppData\\Local\\Temp\\tmp1r2baue_.lp\n",
      "Reading time = 0.02 seconds\n",
      ": 504 rows, 1024 columns, 4298 nonzeros\n"
     ]
    },
    {
     "name": "stderr",
     "output_type": "stream",
     "text": [
      "C:\\Users\\Aimee\\anaconda3\\envs\\Cobra 0220\\lib\\site-packages\\optlang\\interface.py:1474: DeprecationWarning: Deprecated, pass a TempConstr or use Model.addLConstr\n",
      "  self._add_constraints(add_constr)\n",
      "C:\\Users\\Aimee\\anaconda3\\envs\\Cobra 0220\\lib\\site-packages\\optlang\\interface.py:1474: DeprecationWarning: Deprecated, pass a TempConstr or use Model.addLConstr\n",
      "  self._add_constraints(add_constr)\n"
     ]
    },
    {
     "name": "stdout",
     "output_type": "stream",
     "text": [
      "Fraction = 0.2 | Rho = 0.2119 ; p = 0.0\n",
      "Read LP format model from file C:\\Users\\Aimee\\AppData\\Local\\Temp\\tmp4zdwnyxd.lp\n",
      "Reading time = 0.03 seconds\n",
      ": 1263 rows, 2848 columns, 10016 nonzeros\n",
      "Read LP format model from file C:\\Users\\Aimee\\AppData\\Local\\Temp\\tmp83vhjww3.lp\n",
      "Reading time = 0.03 seconds\n",
      ": 1263 rows, 2848 columns, 10016 nonzeros\n",
      "Read LP format model from file C:\\Users\\Aimee\\AppData\\Local\\Temp\\tmpxr5qs43s.lp\n",
      "Reading time = 0.02 seconds\n",
      ": 1263 rows, 2848 columns, 10016 nonzeros\n",
      "Read LP format model from file C:\\Users\\Aimee\\AppData\\Local\\Temp\\tmpuj0qrsyv.lp\n",
      "Reading time = 0.02 seconds\n",
      ": 1263 rows, 2848 columns, 10016 nonzeros\n",
      "Read LP format model from file C:\\Users\\Aimee\\AppData\\Local\\Temp\\tmplfdo220u.lp\n",
      "Reading time = 0.02 seconds\n",
      ": 1263 rows, 2848 columns, 10016 nonzeros\n",
      "Read LP format model from file C:\\Users\\Aimee\\AppData\\Local\\Temp\\tmpvoprayjk.lp\n",
      "Reading time = 0.02 seconds\n",
      ": 1263 rows, 2848 columns, 10016 nonzeros\n",
      "Read LP format model from file C:\\Users\\Aimee\\AppData\\Local\\Temp\\tmpad_incez.lp\n",
      "Reading time = 0.01 seconds\n",
      ": 504 rows, 1030 columns, 4322 nonzeros\n"
     ]
    },
    {
     "name": "stderr",
     "output_type": "stream",
     "text": [
      "C:\\Users\\Aimee\\anaconda3\\envs\\Cobra 0220\\lib\\site-packages\\optlang\\interface.py:1474: DeprecationWarning: Deprecated, pass a TempConstr or use Model.addLConstr\n",
      "  self._add_constraints(add_constr)\n",
      "C:\\Users\\Aimee\\anaconda3\\envs\\Cobra 0220\\lib\\site-packages\\optlang\\interface.py:1474: DeprecationWarning: Deprecated, pass a TempConstr or use Model.addLConstr\n",
      "  self._add_constraints(add_constr)\n"
     ]
    },
    {
     "name": "stdout",
     "output_type": "stream",
     "text": [
      "Fraction = 0.25 | Rho = 0.1939 ; p = 0.0\n",
      "Read LP format model from file C:\\Users\\Aimee\\AppData\\Local\\Temp\\tmpov7qsps5.lp\n",
      "Reading time = 0.02 seconds\n",
      ": 1263 rows, 2848 columns, 10016 nonzeros\n",
      "Read LP format model from file C:\\Users\\Aimee\\AppData\\Local\\Temp\\tmpytmv4pj8.lp\n",
      "Reading time = 0.02 seconds\n",
      ": 1263 rows, 2848 columns, 10016 nonzeros\n",
      "Read LP format model from file C:\\Users\\Aimee\\AppData\\Local\\Temp\\tmp1xrj23zv.lp\n",
      "Reading time = 0.02 seconds\n",
      ": 1263 rows, 2848 columns, 10016 nonzeros\n",
      "Read LP format model from file C:\\Users\\Aimee\\AppData\\Local\\Temp\\tmp8pgpktz8.lp\n",
      "Reading time = 0.02 seconds\n",
      ": 1263 rows, 2848 columns, 10016 nonzeros\n",
      "Read LP format model from file C:\\Users\\Aimee\\AppData\\Local\\Temp\\tmpexxm2oaq.lp\n",
      "Reading time = 0.02 seconds\n",
      ": 1263 rows, 2848 columns, 10016 nonzeros\n",
      "Read LP format model from file C:\\Users\\Aimee\\AppData\\Local\\Temp\\tmplkzxgp62.lp\n",
      "Reading time = 0.02 seconds\n",
      ": 1263 rows, 2848 columns, 10016 nonzeros\n",
      "Read LP format model from file C:\\Users\\Aimee\\AppData\\Local\\Temp\\tmpjroccjqi.lp\n",
      "Reading time = 0.01 seconds\n",
      ": 504 rows, 1022 columns, 4290 nonzeros\n"
     ]
    },
    {
     "name": "stderr",
     "output_type": "stream",
     "text": [
      "C:\\Users\\Aimee\\anaconda3\\envs\\Cobra 0220\\lib\\site-packages\\optlang\\interface.py:1474: DeprecationWarning: Deprecated, pass a TempConstr or use Model.addLConstr\n",
      "  self._add_constraints(add_constr)\n",
      "C:\\Users\\Aimee\\anaconda3\\envs\\Cobra 0220\\lib\\site-packages\\optlang\\interface.py:1474: DeprecationWarning: Deprecated, pass a TempConstr or use Model.addLConstr\n",
      "  self._add_constraints(add_constr)\n"
     ]
    },
    {
     "name": "stdout",
     "output_type": "stream",
     "text": [
      "Fraction = 0.3 | Rho = 0.2246 ; p = 0.0\n",
      "Read LP format model from file C:\\Users\\Aimee\\AppData\\Local\\Temp\\tmpn4ad655h.lp\n",
      "Reading time = 0.01 seconds\n",
      ": 504 rows, 1022 columns, 4290 nonzeros\n",
      "Read LP format model from file C:\\Users\\Aimee\\AppData\\Local\\Temp\\tmp9pu_mj7o.lp\n",
      "Reading time = 0.02 seconds\n",
      ": 1263 rows, 2848 columns, 10016 nonzeros\n",
      "Read LP format model from file C:\\Users\\Aimee\\AppData\\Local\\Temp\\tmpgcq189t0.lp\n",
      "Reading time = 0.02 seconds\n",
      ": 1263 rows, 2848 columns, 10016 nonzeros\n",
      "Read LP format model from file C:\\Users\\Aimee\\AppData\\Local\\Temp\\tmp6a5t5f13.lp\n",
      "Reading time = 0.02 seconds\n",
      ": 1263 rows, 2848 columns, 10016 nonzeros\n",
      "Read LP format model from file C:\\Users\\Aimee\\AppData\\Local\\Temp\\tmpkzdsgcm7.lp\n",
      "Reading time = 0.02 seconds\n",
      ": 1263 rows, 2848 columns, 10016 nonzeros\n",
      "Read LP format model from file C:\\Users\\Aimee\\AppData\\Local\\Temp\\tmp992ahvk6.lp\n",
      "Reading time = 0.02 seconds\n",
      ": 1263 rows, 2848 columns, 10016 nonzeros\n",
      "Read LP format model from file C:\\Users\\Aimee\\AppData\\Local\\Temp\\tmp2yd1femu.lp\n",
      "Reading time = 0.02 seconds\n",
      ": 1263 rows, 2848 columns, 10016 nonzeros\n",
      "Read LP format model from file C:\\Users\\Aimee\\AppData\\Local\\Temp\\tmpcdv8wwkz.lp\n",
      "Reading time = 0.01 seconds\n",
      ": 504 rows, 1024 columns, 4298 nonzeros\n"
     ]
    },
    {
     "name": "stderr",
     "output_type": "stream",
     "text": [
      "C:\\Users\\Aimee\\anaconda3\\envs\\Cobra 0220\\lib\\site-packages\\optlang\\interface.py:1474: DeprecationWarning: Deprecated, pass a TempConstr or use Model.addLConstr\n",
      "  self._add_constraints(add_constr)\n",
      "C:\\Users\\Aimee\\anaconda3\\envs\\Cobra 0220\\lib\\site-packages\\optlang\\interface.py:1474: DeprecationWarning: Deprecated, pass a TempConstr or use Model.addLConstr\n",
      "  self._add_constraints(add_constr)\n"
     ]
    },
    {
     "name": "stdout",
     "output_type": "stream",
     "text": [
      "Fraction = 0.35 | Rho = 0.2078 ; p = 0.0\n",
      "Read LP format model from file C:\\Users\\Aimee\\AppData\\Local\\Temp\\tmp9jvkzct6.lp\n",
      "Reading time = 0.02 seconds\n",
      ": 1263 rows, 2848 columns, 10016 nonzeros\n",
      "Read LP format model from file C:\\Users\\Aimee\\AppData\\Local\\Temp\\tmpl054qrge.lp\n",
      "Reading time = 0.02 seconds\n",
      ": 1263 rows, 2848 columns, 10016 nonzeros\n",
      "Read LP format model from file C:\\Users\\Aimee\\AppData\\Local\\Temp\\tmp8wyuyhc3.lp\n",
      "Reading time = 0.02 seconds\n",
      ": 1263 rows, 2848 columns, 10016 nonzeros\n",
      "Read LP format model from file C:\\Users\\Aimee\\AppData\\Local\\Temp\\tmpiwasg9sb.lp\n",
      "Reading time = 0.02 seconds\n",
      ": 1263 rows, 2848 columns, 10016 nonzeros\n",
      "Read LP format model from file C:\\Users\\Aimee\\AppData\\Local\\Temp\\tmpko8810k4.lp\n",
      "Reading time = 0.02 seconds\n",
      ": 1263 rows, 2848 columns, 10016 nonzeros\n",
      "Read LP format model from file C:\\Users\\Aimee\\AppData\\Local\\Temp\\tmp992po7qq.lp\n",
      "Reading time = 0.02 seconds\n",
      ": 1263 rows, 2848 columns, 10016 nonzeros\n",
      "Read LP format model from file C:\\Users\\Aimee\\AppData\\Local\\Temp\\tmpyz9zivw8.lp\n",
      "Reading time = 0.01 seconds\n",
      ": 504 rows, 1024 columns, 4298 nonzeros\n"
     ]
    },
    {
     "name": "stderr",
     "output_type": "stream",
     "text": [
      "C:\\Users\\Aimee\\anaconda3\\envs\\Cobra 0220\\lib\\site-packages\\optlang\\interface.py:1474: DeprecationWarning: Deprecated, pass a TempConstr or use Model.addLConstr\n",
      "  self._add_constraints(add_constr)\n",
      "C:\\Users\\Aimee\\anaconda3\\envs\\Cobra 0220\\lib\\site-packages\\optlang\\interface.py:1474: DeprecationWarning: Deprecated, pass a TempConstr or use Model.addLConstr\n",
      "  self._add_constraints(add_constr)\n"
     ]
    },
    {
     "name": "stdout",
     "output_type": "stream",
     "text": [
      "Fraction = 0.4 | Rho = 0.2514 ; p = 0.0\n",
      "Read LP format model from file C:\\Users\\Aimee\\AppData\\Local\\Temp\\tmpgcd_e1do.lp\n",
      "Reading time = 0.01 seconds\n",
      ": 504 rows, 1024 columns, 4298 nonzeros\n",
      "Read LP format model from file C:\\Users\\Aimee\\AppData\\Local\\Temp\\tmp5vz7uuie.lp\n",
      "Reading time = 0.02 seconds\n",
      ": 1263 rows, 2848 columns, 10016 nonzeros\n",
      "Read LP format model from file C:\\Users\\Aimee\\AppData\\Local\\Temp\\tmpm2zsvrtb.lp\n",
      "Reading time = 0.02 seconds\n",
      ": 1263 rows, 2848 columns, 10016 nonzeros\n",
      "Read LP format model from file C:\\Users\\Aimee\\AppData\\Local\\Temp\\tmp4viz7ou9.lp\n",
      "Reading time = 0.02 seconds\n",
      ": 1263 rows, 2848 columns, 10016 nonzeros\n",
      "Read LP format model from file C:\\Users\\Aimee\\AppData\\Local\\Temp\\tmpjfnn8hm6.lp\n",
      "Reading time = 0.02 seconds\n",
      ": 1263 rows, 2848 columns, 10016 nonzeros\n",
      "Read LP format model from file C:\\Users\\Aimee\\AppData\\Local\\Temp\\tmpg404k4pe.lp\n",
      "Reading time = 0.02 seconds\n",
      ": 1263 rows, 2848 columns, 10016 nonzeros\n",
      "Read LP format model from file C:\\Users\\Aimee\\AppData\\Local\\Temp\\tmp5imma4t5.lp\n",
      "Reading time = 0.02 seconds\n",
      ": 1263 rows, 2848 columns, 10016 nonzeros\n",
      "Read LP format model from file C:\\Users\\Aimee\\AppData\\Local\\Temp\\tmpdg8g_2bt.lp\n",
      "Reading time = 0.01 seconds\n",
      ": 504 rows, 1024 columns, 4298 nonzeros\n"
     ]
    },
    {
     "name": "stderr",
     "output_type": "stream",
     "text": [
      "C:\\Users\\Aimee\\anaconda3\\envs\\Cobra 0220\\lib\\site-packages\\optlang\\interface.py:1474: DeprecationWarning: Deprecated, pass a TempConstr or use Model.addLConstr\n",
      "  self._add_constraints(add_constr)\n",
      "C:\\Users\\Aimee\\anaconda3\\envs\\Cobra 0220\\lib\\site-packages\\optlang\\interface.py:1474: DeprecationWarning: Deprecated, pass a TempConstr or use Model.addLConstr\n",
      "  self._add_constraints(add_constr)\n"
     ]
    },
    {
     "name": "stdout",
     "output_type": "stream",
     "text": [
      "Fraction = 0.45 | Rho = 0.2457 ; p = 0.0\n",
      "Read LP format model from file C:\\Users\\Aimee\\AppData\\Local\\Temp\\tmpj447aaqo.lp\n",
      "Reading time = 0.02 seconds\n",
      ": 1263 rows, 2848 columns, 10016 nonzeros\n",
      "Read LP format model from file C:\\Users\\Aimee\\AppData\\Local\\Temp\\tmpjntezx2y.lp\n",
      "Reading time = 0.02 seconds\n",
      ": 1263 rows, 2848 columns, 10016 nonzeros\n",
      "Read LP format model from file C:\\Users\\Aimee\\AppData\\Local\\Temp\\tmp_4n1mrdp.lp\n",
      "Reading time = 0.03 seconds\n",
      ": 1263 rows, 2848 columns, 10016 nonzeros\n",
      "Read LP format model from file C:\\Users\\Aimee\\AppData\\Local\\Temp\\tmp2tizppte.lp\n",
      "Reading time = 0.02 seconds\n",
      ": 1263 rows, 2848 columns, 10016 nonzeros\n",
      "Read LP format model from file C:\\Users\\Aimee\\AppData\\Local\\Temp\\tmpfzj93i8i.lp\n",
      "Reading time = 0.02 seconds\n",
      ": 1263 rows, 2848 columns, 10016 nonzeros\n",
      "Read LP format model from file C:\\Users\\Aimee\\AppData\\Local\\Temp\\tmp25udlr5d.lp\n",
      "Reading time = 0.04 seconds\n",
      ": 1263 rows, 2848 columns, 10016 nonzeros\n",
      "Read LP format model from file C:\\Users\\Aimee\\AppData\\Local\\Temp\\tmpqc3monk5.lp\n",
      "Reading time = 0.03 seconds\n",
      ": 504 rows, 1024 columns, 4298 nonzeros\n"
     ]
    },
    {
     "name": "stderr",
     "output_type": "stream",
     "text": [
      "C:\\Users\\Aimee\\anaconda3\\envs\\Cobra 0220\\lib\\site-packages\\optlang\\interface.py:1474: DeprecationWarning: Deprecated, pass a TempConstr or use Model.addLConstr\n",
      "  self._add_constraints(add_constr)\n",
      "C:\\Users\\Aimee\\anaconda3\\envs\\Cobra 0220\\lib\\site-packages\\optlang\\interface.py:1474: DeprecationWarning: Deprecated, pass a TempConstr or use Model.addLConstr\n",
      "  self._add_constraints(add_constr)\n"
     ]
    },
    {
     "name": "stdout",
     "output_type": "stream",
     "text": [
      "Fraction = 0.5 | Rho = 0.2466 ; p = 0.0\n",
      "Read LP format model from file C:\\Users\\Aimee\\AppData\\Local\\Temp\\tmpgef58p5p.lp\n",
      "Reading time = 0.02 seconds\n",
      ": 1263 rows, 2848 columns, 10016 nonzeros\n",
      "Read LP format model from file C:\\Users\\Aimee\\AppData\\Local\\Temp\\tmpbd71koz2.lp\n",
      "Reading time = 0.02 seconds\n",
      ": 1263 rows, 2848 columns, 10016 nonzeros\n",
      "Read LP format model from file C:\\Users\\Aimee\\AppData\\Local\\Temp\\tmpiaf2mo62.lp\n",
      "Reading time = 0.02 seconds\n",
      ": 1263 rows, 2848 columns, 10016 nonzeros\n",
      "Read LP format model from file C:\\Users\\Aimee\\AppData\\Local\\Temp\\tmphu5s32ff.lp\n",
      "Reading time = 0.02 seconds\n",
      ": 1263 rows, 2848 columns, 10016 nonzeros\n",
      "Read LP format model from file C:\\Users\\Aimee\\AppData\\Local\\Temp\\tmp1zatmo0t.lp\n",
      "Reading time = 0.02 seconds\n",
      ": 1263 rows, 2848 columns, 10016 nonzeros\n",
      "Read LP format model from file C:\\Users\\Aimee\\AppData\\Local\\Temp\\tmpivhdubz_.lp\n",
      "Reading time = 0.02 seconds\n",
      ": 1263 rows, 2848 columns, 10016 nonzeros\n",
      "Read LP format model from file C:\\Users\\Aimee\\AppData\\Local\\Temp\\tmpxorfqdsw.lp\n",
      "Reading time = 0.01 seconds\n",
      ": 504 rows, 1024 columns, 4298 nonzeros\n"
     ]
    },
    {
     "name": "stderr",
     "output_type": "stream",
     "text": [
      "C:\\Users\\Aimee\\anaconda3\\envs\\Cobra 0220\\lib\\site-packages\\optlang\\interface.py:1474: DeprecationWarning: Deprecated, pass a TempConstr or use Model.addLConstr\n",
      "  self._add_constraints(add_constr)\n",
      "C:\\Users\\Aimee\\anaconda3\\envs\\Cobra 0220\\lib\\site-packages\\optlang\\interface.py:1474: DeprecationWarning: Deprecated, pass a TempConstr or use Model.addLConstr\n",
      "  self._add_constraints(add_constr)\n"
     ]
    },
    {
     "name": "stdout",
     "output_type": "stream",
     "text": [
      "Fraction = 0.55 | Rho = 0.2386 ; p = 0.0\n",
      "Read LP format model from file C:\\Users\\Aimee\\AppData\\Local\\Temp\\tmpiptm8ilf.lp\n",
      "Reading time = 0.02 seconds\n",
      ": 1263 rows, 2848 columns, 10016 nonzeros\n",
      "Read LP format model from file C:\\Users\\Aimee\\AppData\\Local\\Temp\\tmply6t8274.lp\n",
      "Reading time = 0.02 seconds\n",
      ": 1263 rows, 2848 columns, 10016 nonzeros\n",
      "Read LP format model from file C:\\Users\\Aimee\\AppData\\Local\\Temp\\tmp336s2xlj.lp\n",
      "Reading time = 0.02 seconds\n",
      ": 1263 rows, 2848 columns, 10016 nonzeros\n",
      "Read LP format model from file C:\\Users\\Aimee\\AppData\\Local\\Temp\\tmp1tg3hgbe.lp\n",
      "Reading time = 0.02 seconds\n",
      ": 1263 rows, 2848 columns, 10016 nonzeros\n",
      "Read LP format model from file C:\\Users\\Aimee\\AppData\\Local\\Temp\\tmp6a3nx9jn.lp\n",
      "Reading time = 0.02 seconds\n",
      ": 1263 rows, 2848 columns, 10016 nonzeros\n",
      "Read LP format model from file C:\\Users\\Aimee\\AppData\\Local\\Temp\\tmpgegych_k.lp\n",
      "Reading time = 0.03 seconds\n",
      ": 1263 rows, 2848 columns, 10016 nonzeros\n",
      "Read LP format model from file C:\\Users\\Aimee\\AppData\\Local\\Temp\\tmpw0yc3pfn.lp\n",
      "Reading time = 0.02 seconds\n",
      ": 505 rows, 1028 columns, 4304 nonzeros\n"
     ]
    },
    {
     "name": "stderr",
     "output_type": "stream",
     "text": [
      "C:\\Users\\Aimee\\anaconda3\\envs\\Cobra 0220\\lib\\site-packages\\optlang\\interface.py:1474: DeprecationWarning: Deprecated, pass a TempConstr or use Model.addLConstr\n",
      "  self._add_constraints(add_constr)\n",
      "C:\\Users\\Aimee\\anaconda3\\envs\\Cobra 0220\\lib\\site-packages\\optlang\\interface.py:1474: DeprecationWarning: Deprecated, pass a TempConstr or use Model.addLConstr\n",
      "  self._add_constraints(add_constr)\n"
     ]
    },
    {
     "name": "stdout",
     "output_type": "stream",
     "text": [
      "Fraction = 0.6 | Rho = 0.2136 ; p = 0.0\n",
      "Read LP format model from file C:\\Users\\Aimee\\AppData\\Local\\Temp\\tmp5hewzs5x.lp\n",
      "Reading time = 0.02 seconds\n",
      ": 1263 rows, 2848 columns, 10016 nonzeros\n",
      "Read LP format model from file C:\\Users\\Aimee\\AppData\\Local\\Temp\\tmpc_bwaefv.lp\n",
      "Reading time = 0.02 seconds\n",
      ": 1263 rows, 2848 columns, 10016 nonzeros\n",
      "Read LP format model from file C:\\Users\\Aimee\\AppData\\Local\\Temp\\tmprlbbfv8w.lp\n",
      "Reading time = 0.02 seconds\n",
      ": 1263 rows, 2848 columns, 10016 nonzeros\n",
      "Read LP format model from file C:\\Users\\Aimee\\AppData\\Local\\Temp\\tmp2_kwjolc.lp\n",
      "Reading time = 0.02 seconds\n",
      ": 1263 rows, 2848 columns, 10016 nonzeros\n",
      "Read LP format model from file C:\\Users\\Aimee\\AppData\\Local\\Temp\\tmp2iqxw4lt.lp\n",
      "Reading time = 0.02 seconds\n",
      ": 1263 rows, 2848 columns, 10016 nonzeros\n",
      "Read LP format model from file C:\\Users\\Aimee\\AppData\\Local\\Temp\\tmp_xy9gshj.lp\n",
      "Reading time = 0.03 seconds\n",
      ": 1263 rows, 2848 columns, 10016 nonzeros\n",
      "Read LP format model from file C:\\Users\\Aimee\\AppData\\Local\\Temp\\tmp_y7pf1c5.lp\n",
      "Reading time = 0.02 seconds\n",
      ": 507 rows, 1036 columns, 4322 nonzeros\n"
     ]
    },
    {
     "name": "stderr",
     "output_type": "stream",
     "text": [
      "C:\\Users\\Aimee\\anaconda3\\envs\\Cobra 0220\\lib\\site-packages\\optlang\\interface.py:1474: DeprecationWarning: Deprecated, pass a TempConstr or use Model.addLConstr\n",
      "  self._add_constraints(add_constr)\n",
      "C:\\Users\\Aimee\\anaconda3\\envs\\Cobra 0220\\lib\\site-packages\\optlang\\interface.py:1474: DeprecationWarning: Deprecated, pass a TempConstr or use Model.addLConstr\n",
      "  self._add_constraints(add_constr)\n"
     ]
    },
    {
     "name": "stdout",
     "output_type": "stream",
     "text": [
      "Fraction = 0.65 | Rho = 0.1688 ; p = 0.0001\n",
      "Read LP format model from file C:\\Users\\Aimee\\AppData\\Local\\Temp\\tmpvpkfwi4e.lp\n",
      "Reading time = 0.02 seconds\n",
      ": 1263 rows, 2848 columns, 10016 nonzeros\n",
      "Read LP format model from file C:\\Users\\Aimee\\AppData\\Local\\Temp\\tmpwocjojs8.lp\n",
      "Reading time = 0.02 seconds\n",
      ": 1263 rows, 2848 columns, 10016 nonzeros\n",
      "Read LP format model from file C:\\Users\\Aimee\\AppData\\Local\\Temp\\tmphmzkyzda.lp\n",
      "Reading time = 0.02 seconds\n",
      ": 1263 rows, 2848 columns, 10016 nonzeros\n",
      "Read LP format model from file C:\\Users\\Aimee\\AppData\\Local\\Temp\\tmp94rerh1v.lp\n",
      "Reading time = 0.02 seconds\n",
      ": 1263 rows, 2848 columns, 10016 nonzeros\n",
      "Read LP format model from file C:\\Users\\Aimee\\AppData\\Local\\Temp\\tmpt307e518.lp\n",
      "Reading time = 0.02 seconds\n",
      ": 1263 rows, 2848 columns, 10016 nonzeros\n",
      "Read LP format model from file C:\\Users\\Aimee\\AppData\\Local\\Temp\\tmps4_3t_wv.lp\n",
      "Reading time = 0.02 seconds\n",
      ": 1263 rows, 2848 columns, 10016 nonzeros\n",
      "Read LP format model from file C:\\Users\\Aimee\\AppData\\Local\\Temp\\tmp6tt5kklg.lp\n",
      "Reading time = 0.03 seconds\n",
      ": 503 rows, 1028 columns, 4310 nonzeros\n"
     ]
    },
    {
     "name": "stderr",
     "output_type": "stream",
     "text": [
      "C:\\Users\\Aimee\\anaconda3\\envs\\Cobra 0220\\lib\\site-packages\\optlang\\interface.py:1474: DeprecationWarning: Deprecated, pass a TempConstr or use Model.addLConstr\n",
      "  self._add_constraints(add_constr)\n",
      "C:\\Users\\Aimee\\anaconda3\\envs\\Cobra 0220\\lib\\site-packages\\optlang\\interface.py:1474: DeprecationWarning: Deprecated, pass a TempConstr or use Model.addLConstr\n",
      "  self._add_constraints(add_constr)\n"
     ]
    },
    {
     "name": "stdout",
     "output_type": "stream",
     "text": [
      "Fraction = 0.7 | Rho = 0.1844 ; p = 0.0\n",
      "Read LP format model from file C:\\Users\\Aimee\\AppData\\Local\\Temp\\tmpbgde4l_x.lp\n",
      "Reading time = 0.03 seconds\n",
      ": 1263 rows, 2848 columns, 10016 nonzeros\n",
      "Read LP format model from file C:\\Users\\Aimee\\AppData\\Local\\Temp\\tmpls3334fm.lp\n",
      "Reading time = 0.03 seconds\n",
      ": 1263 rows, 2848 columns, 10016 nonzeros\n",
      "Read LP format model from file C:\\Users\\Aimee\\AppData\\Local\\Temp\\tmpbaie57jr.lp\n",
      "Reading time = 0.02 seconds\n",
      ": 1263 rows, 2848 columns, 10016 nonzeros\n",
      "Read LP format model from file C:\\Users\\Aimee\\AppData\\Local\\Temp\\tmpz6pk2dou.lp\n",
      "Reading time = 0.03 seconds\n",
      ": 1263 rows, 2848 columns, 10016 nonzeros\n",
      "Read LP format model from file C:\\Users\\Aimee\\AppData\\Local\\Temp\\tmpa8992276.lp\n",
      "Reading time = 0.03 seconds\n",
      ": 1263 rows, 2848 columns, 10016 nonzeros\n",
      "Read LP format model from file C:\\Users\\Aimee\\AppData\\Local\\Temp\\tmpmrdm7ymj.lp\n",
      "Reading time = 0.02 seconds\n",
      ": 1263 rows, 2848 columns, 10016 nonzeros\n",
      "Read LP format model from file C:\\Users\\Aimee\\AppData\\Local\\Temp\\tmpuzyo9ixw.lp\n",
      "Reading time = 0.01 seconds\n",
      ": 500 rows, 1022 columns, 4272 nonzeros\n"
     ]
    },
    {
     "name": "stderr",
     "output_type": "stream",
     "text": [
      "C:\\Users\\Aimee\\anaconda3\\envs\\Cobra 0220\\lib\\site-packages\\optlang\\interface.py:1474: DeprecationWarning: Deprecated, pass a TempConstr or use Model.addLConstr\n",
      "  self._add_constraints(add_constr)\n",
      "C:\\Users\\Aimee\\anaconda3\\envs\\Cobra 0220\\lib\\site-packages\\optlang\\interface.py:1474: DeprecationWarning: Deprecated, pass a TempConstr or use Model.addLConstr\n",
      "  self._add_constraints(add_constr)\n"
     ]
    },
    {
     "name": "stdout",
     "output_type": "stream",
     "text": [
      "Fraction = 0.75 | Rho = 0.2104 ; p = 0.0\n",
      "Testing local objective fractions to 0.4...\n",
      "Read LP format model from file C:\\Users\\Aimee\\AppData\\Local\\Temp\\tmp_xow9tah.lp\n",
      "Reading time = 0.03 seconds\n",
      ": 1263 rows, 2848 columns, 10016 nonzeros\n",
      "Read LP format model from file C:\\Users\\Aimee\\AppData\\Local\\Temp\\tmphieyj47k.lp\n",
      "Reading time = 0.02 seconds\n",
      ": 1263 rows, 2848 columns, 10016 nonzeros\n",
      "Read LP format model from file C:\\Users\\Aimee\\AppData\\Local\\Temp\\tmppd7kxad_.lp\n",
      "Reading time = 0.03 seconds\n",
      ": 1263 rows, 2848 columns, 10016 nonzeros\n",
      "Read LP format model from file C:\\Users\\Aimee\\AppData\\Local\\Temp\\tmpmu23892o.lp\n",
      "Reading time = 0.04 seconds\n",
      ": 1263 rows, 2848 columns, 10016 nonzeros\n",
      "Read LP format model from file C:\\Users\\Aimee\\AppData\\Local\\Temp\\tmpy9q78if3.lp\n",
      "Reading time = 0.02 seconds\n",
      ": 1263 rows, 2848 columns, 10016 nonzeros\n",
      "Read LP format model from file C:\\Users\\Aimee\\AppData\\Local\\Temp\\tmpzik1qx6p.lp\n",
      "Reading time = 0.03 seconds\n",
      ": 1263 rows, 2848 columns, 10016 nonzeros\n",
      "Read LP format model from file C:\\Users\\Aimee\\AppData\\Local\\Temp\\tmpbd0ddq8d.lp\n",
      "Reading time = 0.02 seconds\n",
      ": 504 rows, 1026 columns, 4306 nonzeros\n"
     ]
    },
    {
     "name": "stderr",
     "output_type": "stream",
     "text": [
      "C:\\Users\\Aimee\\anaconda3\\envs\\Cobra 0220\\lib\\site-packages\\optlang\\interface.py:1474: DeprecationWarning: Deprecated, pass a TempConstr or use Model.addLConstr\n",
      "  self._add_constraints(add_constr)\n",
      "C:\\Users\\Aimee\\anaconda3\\envs\\Cobra 0220\\lib\\site-packages\\optlang\\interface.py:1474: DeprecationWarning: Deprecated, pass a TempConstr or use Model.addLConstr\n",
      "  self._add_constraints(add_constr)\n"
     ]
    },
    {
     "name": "stdout",
     "output_type": "stream",
     "text": [
      "Fraction = 0.375 | Rho = 0.1975 ; p = 0.0\n",
      "Read LP format model from file C:\\Users\\Aimee\\AppData\\Local\\Temp\\tmpb8jje6j2.lp\n",
      "Reading time = 0.02 seconds\n",
      ": 1263 rows, 2848 columns, 10016 nonzeros\n",
      "Read LP format model from file C:\\Users\\Aimee\\AppData\\Local\\Temp\\tmpy_pwcfoa.lp\n",
      "Reading time = 0.05 seconds\n",
      ": 1263 rows, 2848 columns, 10016 nonzeros\n",
      "Read LP format model from file C:\\Users\\Aimee\\AppData\\Local\\Temp\\tmppzlp6jtf.lp\n",
      "Reading time = 0.02 seconds\n",
      ": 1263 rows, 2848 columns, 10016 nonzeros\n",
      "Read LP format model from file C:\\Users\\Aimee\\AppData\\Local\\Temp\\tmpgamop52t.lp\n",
      "Reading time = 0.02 seconds\n",
      ": 1263 rows, 2848 columns, 10016 nonzeros\n",
      "Read LP format model from file C:\\Users\\Aimee\\AppData\\Local\\Temp\\tmp3r4776kr.lp\n",
      "Reading time = 0.02 seconds\n",
      ": 1263 rows, 2848 columns, 10016 nonzeros\n",
      "Read LP format model from file C:\\Users\\Aimee\\AppData\\Local\\Temp\\tmp3sfvst6v.lp\n",
      "Reading time = 0.02 seconds\n",
      ": 1263 rows, 2848 columns, 10016 nonzeros\n",
      "Read LP format model from file C:\\Users\\Aimee\\AppData\\Local\\Temp\\tmp7dayytx0.lp\n",
      "Reading time = 0.01 seconds\n",
      ": 504 rows, 1024 columns, 4298 nonzeros\n"
     ]
    },
    {
     "name": "stderr",
     "output_type": "stream",
     "text": [
      "C:\\Users\\Aimee\\anaconda3\\envs\\Cobra 0220\\lib\\site-packages\\optlang\\interface.py:1474: DeprecationWarning: Deprecated, pass a TempConstr or use Model.addLConstr\n",
      "  self._add_constraints(add_constr)\n",
      "C:\\Users\\Aimee\\anaconda3\\envs\\Cobra 0220\\lib\\site-packages\\optlang\\interface.py:1474: DeprecationWarning: Deprecated, pass a TempConstr or use Model.addLConstr\n",
      "  self._add_constraints(add_constr)\n"
     ]
    },
    {
     "name": "stdout",
     "output_type": "stream",
     "text": [
      "Fraction = 0.425 | Rho = 0.2433 ; p = 0.0\n",
      "\n",
      "Context-specific metabolism fit with 0.4 of optimal objective flux\n",
      "\n",
      "Reactions pruned to 512 from 1424 (64.04% change)\n",
      "Metabolites pruned to 504 from 1263 (60.1% change)\n",
      "Flux through the objective DECREASED to ~1.64 from ~1.88 (12.77% change)\n",
      "Context-specific metabolism correlates with transcriptome (r=0.251, p<0.001 *)\n",
      "\n",
      "Maxfit RIPTiDe completed in, 30 minutes and 29 seconds \n",
      "\n"
     ]
    }
   ],
   "source": [
    "with riptidemodel:\n",
    "    complete(riptidemodel)\n",
    "    T1_130withPMN_riptide_object= riptide.maxfit_contextualize(model=riptidemodel, transcriptome=T1_130withPMN, frac_min=0.1, frac_max=0.8, samples=1000)\n",
    "    riptide.save_output(riptide_obj=T1_130withPMN_riptide_object, path='T1_130withPMN_complete_maxfit')"
   ]
  },
  {
   "cell_type": "code",
   "execution_count": 11,
   "id": "54b3a286",
   "metadata": {},
   "outputs": [
    {
     "name": "stderr",
     "output_type": "stream",
     "text": [
      "C:\\Users\\Aimee\\anaconda3\\envs\\Cobra 0220\\lib\\site-packages\\ipykernel\\ipkernel.py:287: DeprecationWarning: `should_run_async` will not call `transform_cell` automatically in the future. Please pass the result to `transformed_cell` argument and any exception that happen during thetransform in `preprocessing_exc_tuple` in IPython 7.17 and above.\n",
      "  and should_run_async(code)\n"
     ]
    },
    {
     "name": "stdout",
     "output_type": "stream",
     "text": [
      "\n",
      "Running max fit RIPTiDe for objective fraction range: 0.1 to 0.8 with intervals of 0.05 \n",
      "\n",
      "Testing minimum objective fractions...\n",
      "Read LP format model from file C:\\Users\\Aimee\\AppData\\Local\\Temp\\tmpplhvehbz.lp\n",
      "Reading time = 0.03 seconds\n",
      ": 1263 rows, 2848 columns, 10016 nonzeros\n",
      "Read LP format model from file C:\\Users\\Aimee\\AppData\\Local\\Temp\\tmpn2hi_uqi.lp\n",
      "Reading time = 0.02 seconds\n",
      ": 1263 rows, 2848 columns, 10016 nonzeros\n",
      "Read LP format model from file C:\\Users\\Aimee\\AppData\\Local\\Temp\\tmpjkawjhab.lp\n",
      "Reading time = 0.02 seconds\n",
      ": 1263 rows, 2848 columns, 10016 nonzeros\n",
      "Read LP format model from file C:\\Users\\Aimee\\AppData\\Local\\Temp\\tmppulxiy_i.lp\n",
      "Reading time = 0.02 seconds\n",
      ": 1263 rows, 2848 columns, 10016 nonzeros\n",
      "Read LP format model from file C:\\Users\\Aimee\\AppData\\Local\\Temp\\tmpkwax1u36.lp\n",
      "Reading time = 0.02 seconds\n",
      ": 1263 rows, 2848 columns, 10016 nonzeros\n",
      "Read LP format model from file C:\\Users\\Aimee\\AppData\\Local\\Temp\\tmp6uka58hb.lp\n",
      "Reading time = 0.02 seconds\n",
      ": 1263 rows, 2848 columns, 10016 nonzeros\n",
      "Read LP format model from file C:\\Users\\Aimee\\AppData\\Local\\Temp\\tmp3nn4gwbe.lp\n",
      "Reading time = 0.02 seconds\n",
      ": 1263 rows, 2848 columns, 10016 nonzeros\n",
      "Read LP format model from file C:\\Users\\Aimee\\AppData\\Local\\Temp\\tmpxd6kpxd1.lp\n",
      "Reading time = 0.01 seconds\n",
      ": 492 rows, 1004 columns, 4258 nonzeros\n"
     ]
    },
    {
     "name": "stderr",
     "output_type": "stream",
     "text": [
      "C:\\Users\\Aimee\\anaconda3\\envs\\Cobra 0220\\lib\\site-packages\\optlang\\interface.py:1474: DeprecationWarning: Deprecated, pass a TempConstr or use Model.addLConstr\n",
      "  self._add_constraints(add_constr)\n",
      "C:\\Users\\Aimee\\anaconda3\\envs\\Cobra 0220\\lib\\site-packages\\optlang\\interface.py:1474: DeprecationWarning: Deprecated, pass a TempConstr or use Model.addLConstr\n",
      "  self._add_constraints(add_constr)\n"
     ]
    },
    {
     "name": "stdout",
     "output_type": "stream",
     "text": [
      "Read LP format model from file C:\\Users\\Aimee\\AppData\\Local\\Temp\\tmpmsknpg7m.lp\n",
      "Reading time = 0.01 seconds\n",
      ": 492 rows, 1004 columns, 4258 nonzeros\n",
      "Fraction = 0.1 | Rho = 0.2367 ; p = 0.0\n",
      "Read LP format model from file C:\\Users\\Aimee\\AppData\\Local\\Temp\\tmpflpl8cdx.lp\n",
      "Reading time = 0.02 seconds\n",
      ": 492 rows, 1004 columns, 4258 nonzeros\n",
      "Read LP format model from file C:\\Users\\Aimee\\AppData\\Local\\Temp\\tmpmppa8iws.lp\n",
      "Reading time = 0.02 seconds\n",
      ": 1263 rows, 2848 columns, 10016 nonzeros\n",
      "Read LP format model from file C:\\Users\\Aimee\\AppData\\Local\\Temp\\tmp3_pwe2sk.lp\n",
      "Reading time = 0.04 seconds\n",
      ": 1263 rows, 2848 columns, 10016 nonzeros\n",
      "Read LP format model from file C:\\Users\\Aimee\\AppData\\Local\\Temp\\tmplxx9h4sx.lp\n",
      "Reading time = 0.03 seconds\n",
      ": 1263 rows, 2848 columns, 10016 nonzeros\n",
      "Read LP format model from file C:\\Users\\Aimee\\AppData\\Local\\Temp\\tmp9340flst.lp\n",
      "Reading time = 0.02 seconds\n",
      ": 1263 rows, 2848 columns, 10016 nonzeros\n",
      "Read LP format model from file C:\\Users\\Aimee\\AppData\\Local\\Temp\\tmpudrwam13.lp\n",
      "Reading time = 0.02 seconds\n",
      ": 1263 rows, 2848 columns, 10016 nonzeros\n",
      "Read LP format model from file C:\\Users\\Aimee\\AppData\\Local\\Temp\\tmpzofmhu7i.lp\n",
      "Reading time = 0.02 seconds\n",
      ": 1263 rows, 2848 columns, 10016 nonzeros\n",
      "Read LP format model from file C:\\Users\\Aimee\\AppData\\Local\\Temp\\tmpfflxc2ck.lp\n",
      "Reading time = 0.02 seconds\n",
      ": 1263 rows, 2848 columns, 10016 nonzeros\n",
      "Read LP format model from file C:\\Users\\Aimee\\AppData\\Local\\Temp\\tmpex5c1at4.lp\n",
      "Reading time = 0.02 seconds\n",
      ": 492 rows, 998 columns, 4234 nonzeros\n"
     ]
    },
    {
     "name": "stderr",
     "output_type": "stream",
     "text": [
      "C:\\Users\\Aimee\\anaconda3\\envs\\Cobra 0220\\lib\\site-packages\\optlang\\interface.py:1474: DeprecationWarning: Deprecated, pass a TempConstr or use Model.addLConstr\n",
      "  self._add_constraints(add_constr)\n",
      "C:\\Users\\Aimee\\anaconda3\\envs\\Cobra 0220\\lib\\site-packages\\optlang\\interface.py:1474: DeprecationWarning: Deprecated, pass a TempConstr or use Model.addLConstr\n",
      "  self._add_constraints(add_constr)\n"
     ]
    },
    {
     "name": "stdout",
     "output_type": "stream",
     "text": [
      "Fraction = 0.15 | Rho = 0.2394 ; p = 0.0\n",
      "Read LP format model from file C:\\Users\\Aimee\\AppData\\Local\\Temp\\tmpggo1wcbz.lp\n",
      "Reading time = 0.01 seconds\n",
      ": 492 rows, 998 columns, 4234 nonzeros\n",
      "Read LP format model from file C:\\Users\\Aimee\\AppData\\Local\\Temp\\tmpud62pmxt.lp\n",
      "Reading time = 0.05 seconds\n",
      ": 1263 rows, 2848 columns, 10016 nonzeros\n",
      "Read LP format model from file C:\\Users\\Aimee\\AppData\\Local\\Temp\\tmpvsf7ekkf.lp\n",
      "Reading time = 0.02 seconds\n",
      ": 1263 rows, 2848 columns, 10016 nonzeros\n",
      "Read LP format model from file C:\\Users\\Aimee\\AppData\\Local\\Temp\\tmp966af5d3.lp\n",
      "Reading time = 0.02 seconds\n",
      ": 1263 rows, 2848 columns, 10016 nonzeros\n",
      "Read LP format model from file C:\\Users\\Aimee\\AppData\\Local\\Temp\\tmpff6fpfge.lp\n",
      "Reading time = 0.02 seconds\n",
      ": 1263 rows, 2848 columns, 10016 nonzeros\n",
      "Read LP format model from file C:\\Users\\Aimee\\AppData\\Local\\Temp\\tmpq1624guc.lp\n",
      "Reading time = 0.02 seconds\n",
      ": 1263 rows, 2848 columns, 10016 nonzeros\n",
      "Read LP format model from file C:\\Users\\Aimee\\AppData\\Local\\Temp\\tmp2vea3ewi.lp\n",
      "Reading time = 0.02 seconds\n",
      ": 1263 rows, 2848 columns, 10016 nonzeros\n",
      "Read LP format model from file C:\\Users\\Aimee\\AppData\\Local\\Temp\\tmpf0ghln57.lp\n",
      "Reading time = 0.03 seconds\n",
      ": 1263 rows, 2848 columns, 10016 nonzeros\n",
      "Read LP format model from file C:\\Users\\Aimee\\AppData\\Local\\Temp\\tmp6gfq_u7a.lp\n",
      "Reading time = 0.01 seconds\n",
      ": 492 rows, 1002 columns, 4250 nonzeros\n"
     ]
    },
    {
     "name": "stderr",
     "output_type": "stream",
     "text": [
      "C:\\Users\\Aimee\\anaconda3\\envs\\Cobra 0220\\lib\\site-packages\\optlang\\interface.py:1474: DeprecationWarning: Deprecated, pass a TempConstr or use Model.addLConstr\n",
      "  self._add_constraints(add_constr)\n",
      "C:\\Users\\Aimee\\anaconda3\\envs\\Cobra 0220\\lib\\site-packages\\optlang\\interface.py:1474: DeprecationWarning: Deprecated, pass a TempConstr or use Model.addLConstr\n",
      "  self._add_constraints(add_constr)\n"
     ]
    },
    {
     "name": "stdout",
     "output_type": "stream",
     "text": [
      "Fraction = 0.2 | Rho = 0.2545 ; p = 0.0\n",
      "Read LP format model from file C:\\Users\\Aimee\\AppData\\Local\\Temp\\tmpa2rz5f9r.lp\n",
      "Reading time = 0.03 seconds\n",
      ": 492 rows, 1002 columns, 4250 nonzeros\n",
      "Read LP format model from file C:\\Users\\Aimee\\AppData\\Local\\Temp\\tmpec5by8d7.lp\n",
      "Reading time = 0.04 seconds\n",
      ": 1263 rows, 2848 columns, 10016 nonzeros\n",
      "Read LP format model from file C:\\Users\\Aimee\\AppData\\Local\\Temp\\tmprfdhjgn5.lp\n",
      "Reading time = 0.02 seconds\n",
      ": 1263 rows, 2848 columns, 10016 nonzeros\n",
      "Read LP format model from file C:\\Users\\Aimee\\AppData\\Local\\Temp\\tmpe86htyhb.lp\n",
      "Reading time = 0.04 seconds\n",
      ": 1263 rows, 2848 columns, 10016 nonzeros\n",
      "Read LP format model from file C:\\Users\\Aimee\\AppData\\Local\\Temp\\tmprknrj07b.lp\n",
      "Reading time = 0.04 seconds\n",
      ": 1263 rows, 2848 columns, 10016 nonzeros\n",
      "Read LP format model from file C:\\Users\\Aimee\\AppData\\Local\\Temp\\tmp_16gcnh1.lp\n",
      "Reading time = 0.02 seconds\n",
      ": 1263 rows, 2848 columns, 10016 nonzeros\n",
      "Read LP format model from file C:\\Users\\Aimee\\AppData\\Local\\Temp\\tmp4oujx4ry.lp\n",
      "Reading time = 0.03 seconds\n",
      ": 1263 rows, 2848 columns, 10016 nonzeros\n",
      "Read LP format model from file C:\\Users\\Aimee\\AppData\\Local\\Temp\\tmputb1xvgx.lp\n",
      "Reading time = 0.02 seconds\n",
      ": 1263 rows, 2848 columns, 10016 nonzeros\n",
      "Read LP format model from file C:\\Users\\Aimee\\AppData\\Local\\Temp\\tmph3qknxtf.lp\n",
      "Reading time = 0.02 seconds\n",
      ": 492 rows, 1002 columns, 4250 nonzeros\n"
     ]
    },
    {
     "name": "stderr",
     "output_type": "stream",
     "text": [
      "C:\\Users\\Aimee\\anaconda3\\envs\\Cobra 0220\\lib\\site-packages\\optlang\\interface.py:1474: DeprecationWarning: Deprecated, pass a TempConstr or use Model.addLConstr\n",
      "  self._add_constraints(add_constr)\n",
      "C:\\Users\\Aimee\\anaconda3\\envs\\Cobra 0220\\lib\\site-packages\\optlang\\interface.py:1474: DeprecationWarning: Deprecated, pass a TempConstr or use Model.addLConstr\n",
      "  self._add_constraints(add_constr)\n"
     ]
    },
    {
     "name": "stdout",
     "output_type": "stream",
     "text": [
      "Fraction = 0.25 | Rho = 0.2377 ; p = 0.0\n",
      "Read LP format model from file C:\\Users\\Aimee\\AppData\\Local\\Temp\\tmpw8chrb8_.lp\n",
      "Reading time = 0.02 seconds\n",
      ": 1263 rows, 2848 columns, 10016 nonzeros\n",
      "Read LP format model from file C:\\Users\\Aimee\\AppData\\Local\\Temp\\tmpemm53c42.lp\n",
      "Reading time = 0.02 seconds\n",
      ": 1263 rows, 2848 columns, 10016 nonzeros\n",
      "Read LP format model from file C:\\Users\\Aimee\\AppData\\Local\\Temp\\tmprwvjmwt0.lp\n",
      "Reading time = 0.02 seconds\n",
      ": 1263 rows, 2848 columns, 10016 nonzeros\n",
      "Read LP format model from file C:\\Users\\Aimee\\AppData\\Local\\Temp\\tmpkt5nfaqu.lp\n",
      "Reading time = 0.02 seconds\n",
      ": 1263 rows, 2848 columns, 10016 nonzeros\n",
      "Read LP format model from file C:\\Users\\Aimee\\AppData\\Local\\Temp\\tmpwe0u046w.lp\n",
      "Reading time = 0.02 seconds\n",
      ": 1263 rows, 2848 columns, 10016 nonzeros\n",
      "Read LP format model from file C:\\Users\\Aimee\\AppData\\Local\\Temp\\tmp3v6rc84n.lp\n",
      "Reading time = 0.02 seconds\n",
      ": 1263 rows, 2848 columns, 10016 nonzeros\n",
      "Read LP format model from file C:\\Users\\Aimee\\AppData\\Local\\Temp\\tmpmhlq4at5.lp\n",
      "Reading time = 0.02 seconds\n",
      ": 1263 rows, 2848 columns, 10016 nonzeros\n",
      "Read LP format model from file C:\\Users\\Aimee\\AppData\\Local\\Temp\\tmpvdcfkg7j.lp\n",
      "Reading time = 0.01 seconds\n",
      ": 492 rows, 1002 columns, 4250 nonzeros\n"
     ]
    },
    {
     "name": "stderr",
     "output_type": "stream",
     "text": [
      "C:\\Users\\Aimee\\anaconda3\\envs\\Cobra 0220\\lib\\site-packages\\optlang\\interface.py:1474: DeprecationWarning: Deprecated, pass a TempConstr or use Model.addLConstr\n",
      "  self._add_constraints(add_constr)\n",
      "C:\\Users\\Aimee\\anaconda3\\envs\\Cobra 0220\\lib\\site-packages\\optlang\\interface.py:1474: DeprecationWarning: Deprecated, pass a TempConstr or use Model.addLConstr\n",
      "  self._add_constraints(add_constr)\n"
     ]
    },
    {
     "name": "stdout",
     "output_type": "stream",
     "text": [
      "Fraction = 0.3 | Rho = 0.2272 ; p = 0.0\n",
      "Read LP format model from file C:\\Users\\Aimee\\AppData\\Local\\Temp\\tmp9drnunds.lp\n",
      "Reading time = 0.03 seconds\n",
      ": 1263 rows, 2848 columns, 10016 nonzeros\n",
      "Read LP format model from file C:\\Users\\Aimee\\AppData\\Local\\Temp\\tmpz4l_fh4n.lp\n",
      "Reading time = 0.03 seconds\n",
      ": 1263 rows, 2848 columns, 10016 nonzeros\n",
      "Read LP format model from file C:\\Users\\Aimee\\AppData\\Local\\Temp\\tmpfdrhthb0.lp\n",
      "Reading time = 0.03 seconds\n",
      ": 1263 rows, 2848 columns, 10016 nonzeros\n",
      "Read LP format model from file C:\\Users\\Aimee\\AppData\\Local\\Temp\\tmpuxsh20kx.lp\n",
      "Reading time = 0.02 seconds\n",
      ": 1263 rows, 2848 columns, 10016 nonzeros\n",
      "Read LP format model from file C:\\Users\\Aimee\\AppData\\Local\\Temp\\tmp475p6nwn.lp\n",
      "Reading time = 0.03 seconds\n",
      ": 1263 rows, 2848 columns, 10016 nonzeros\n",
      "Read LP format model from file C:\\Users\\Aimee\\AppData\\Local\\Temp\\tmpq9py2ojm.lp\n",
      "Reading time = 0.02 seconds\n",
      ": 1263 rows, 2848 columns, 10016 nonzeros\n",
      "Read LP format model from file C:\\Users\\Aimee\\AppData\\Local\\Temp\\tmpopqsxr3w.lp\n",
      "Reading time = 0.03 seconds\n",
      ": 1263 rows, 2848 columns, 10016 nonzeros\n",
      "Read LP format model from file C:\\Users\\Aimee\\AppData\\Local\\Temp\\tmpkt_pdx1o.lp\n",
      "Reading time = 0.02 seconds\n",
      ": 492 rows, 1004 columns, 4258 nonzeros\n"
     ]
    },
    {
     "name": "stderr",
     "output_type": "stream",
     "text": [
      "C:\\Users\\Aimee\\anaconda3\\envs\\Cobra 0220\\lib\\site-packages\\optlang\\interface.py:1474: DeprecationWarning: Deprecated, pass a TempConstr or use Model.addLConstr\n",
      "  self._add_constraints(add_constr)\n",
      "C:\\Users\\Aimee\\anaconda3\\envs\\Cobra 0220\\lib\\site-packages\\optlang\\interface.py:1474: DeprecationWarning: Deprecated, pass a TempConstr or use Model.addLConstr\n",
      "  self._add_constraints(add_constr)\n"
     ]
    },
    {
     "name": "stdout",
     "output_type": "stream",
     "text": [
      "Fraction = 0.35 | Rho = 0.251 ; p = 0.0\n",
      "Read LP format model from file C:\\Users\\Aimee\\AppData\\Local\\Temp\\tmp1nquyh3k.lp\n",
      "Reading time = 0.02 seconds\n",
      ": 1263 rows, 2848 columns, 10016 nonzeros\n",
      "Read LP format model from file C:\\Users\\Aimee\\AppData\\Local\\Temp\\tmpg59kn0bh.lp\n",
      "Reading time = 0.02 seconds\n",
      ": 1263 rows, 2848 columns, 10016 nonzeros\n",
      "Read LP format model from file C:\\Users\\Aimee\\AppData\\Local\\Temp\\tmpsn5zkxpa.lp\n",
      "Reading time = 0.02 seconds\n",
      ": 1263 rows, 2848 columns, 10016 nonzeros\n",
      "Read LP format model from file C:\\Users\\Aimee\\AppData\\Local\\Temp\\tmpu8ws8l2b.lp\n",
      "Reading time = 0.02 seconds\n",
      ": 1263 rows, 2848 columns, 10016 nonzeros\n",
      "Read LP format model from file C:\\Users\\Aimee\\AppData\\Local\\Temp\\tmpsuiqzc9a.lp\n",
      "Reading time = 0.02 seconds\n",
      ": 1263 rows, 2848 columns, 10016 nonzeros\n",
      "Read LP format model from file C:\\Users\\Aimee\\AppData\\Local\\Temp\\tmpizxg0vbb.lp\n",
      "Reading time = 0.02 seconds\n",
      ": 1263 rows, 2848 columns, 10016 nonzeros\n",
      "Read LP format model from file C:\\Users\\Aimee\\AppData\\Local\\Temp\\tmpf9ppf4ku.lp\n",
      "Reading time = 0.02 seconds\n",
      ": 1263 rows, 2848 columns, 10016 nonzeros\n",
      "Read LP format model from file C:\\Users\\Aimee\\AppData\\Local\\Temp\\tmpo9tzscba.lp\n",
      "Reading time = 0.01 seconds\n",
      ": 492 rows, 1004 columns, 4258 nonzeros\n"
     ]
    },
    {
     "name": "stderr",
     "output_type": "stream",
     "text": [
      "C:\\Users\\Aimee\\anaconda3\\envs\\Cobra 0220\\lib\\site-packages\\optlang\\interface.py:1474: DeprecationWarning: Deprecated, pass a TempConstr or use Model.addLConstr\n",
      "  self._add_constraints(add_constr)\n",
      "C:\\Users\\Aimee\\anaconda3\\envs\\Cobra 0220\\lib\\site-packages\\optlang\\interface.py:1474: DeprecationWarning: Deprecated, pass a TempConstr or use Model.addLConstr\n",
      "  self._add_constraints(add_constr)\n"
     ]
    },
    {
     "name": "stdout",
     "output_type": "stream",
     "text": [
      "Fraction = 0.4 | Rho = 0.2516 ; p = 0.0\n",
      "Read LP format model from file C:\\Users\\Aimee\\AppData\\Local\\Temp\\tmpvo9qicdp.lp\n",
      "Reading time = 0.02 seconds\n",
      ": 1263 rows, 2848 columns, 10016 nonzeros\n",
      "Read LP format model from file C:\\Users\\Aimee\\AppData\\Local\\Temp\\tmpz8mykqbt.lp\n",
      "Reading time = 0.02 seconds\n",
      ": 1263 rows, 2848 columns, 10016 nonzeros\n",
      "Read LP format model from file C:\\Users\\Aimee\\AppData\\Local\\Temp\\tmp15pk1a1d.lp\n",
      "Reading time = 0.02 seconds\n",
      ": 1263 rows, 2848 columns, 10016 nonzeros\n",
      "Read LP format model from file C:\\Users\\Aimee\\AppData\\Local\\Temp\\tmp4ragucl7.lp\n",
      "Reading time = 0.02 seconds\n",
      ": 1263 rows, 2848 columns, 10016 nonzeros\n",
      "Read LP format model from file C:\\Users\\Aimee\\AppData\\Local\\Temp\\tmpcfrovfly.lp\n",
      "Reading time = 0.02 seconds\n",
      ": 1263 rows, 2848 columns, 10016 nonzeros\n",
      "Read LP format model from file C:\\Users\\Aimee\\AppData\\Local\\Temp\\tmp3v99dxmm.lp\n",
      "Reading time = 0.02 seconds\n",
      ": 1263 rows, 2848 columns, 10016 nonzeros\n",
      "Read LP format model from file C:\\Users\\Aimee\\AppData\\Local\\Temp\\tmpyvir5x_w.lp\n",
      "Reading time = 0.02 seconds\n",
      ": 1263 rows, 2848 columns, 10016 nonzeros\n",
      "Read LP format model from file C:\\Users\\Aimee\\AppData\\Local\\Temp\\tmpgefmbu20.lp\n",
      "Reading time = 0.01 seconds\n",
      ": 492 rows, 1002 columns, 4250 nonzeros\n"
     ]
    },
    {
     "name": "stderr",
     "output_type": "stream",
     "text": [
      "C:\\Users\\Aimee\\anaconda3\\envs\\Cobra 0220\\lib\\site-packages\\optlang\\interface.py:1474: DeprecationWarning: Deprecated, pass a TempConstr or use Model.addLConstr\n",
      "  self._add_constraints(add_constr)\n",
      "C:\\Users\\Aimee\\anaconda3\\envs\\Cobra 0220\\lib\\site-packages\\optlang\\interface.py:1474: DeprecationWarning: Deprecated, pass a TempConstr or use Model.addLConstr\n",
      "  self._add_constraints(add_constr)\n"
     ]
    },
    {
     "name": "stdout",
     "output_type": "stream",
     "text": [
      "Fraction = 0.45 | Rho = 0.2382 ; p = 0.0\n",
      "Read LP format model from file C:\\Users\\Aimee\\AppData\\Local\\Temp\\tmpa79lczsq.lp\n",
      "Reading time = 0.02 seconds\n",
      ": 1263 rows, 2848 columns, 10016 nonzeros\n",
      "Read LP format model from file C:\\Users\\Aimee\\AppData\\Local\\Temp\\tmp6fen_uvi.lp\n",
      "Reading time = 0.02 seconds\n",
      ": 1263 rows, 2848 columns, 10016 nonzeros\n",
      "Read LP format model from file C:\\Users\\Aimee\\AppData\\Local\\Temp\\tmp3ncsj_br.lp\n",
      "Reading time = 0.02 seconds\n",
      ": 1263 rows, 2848 columns, 10016 nonzeros\n",
      "Read LP format model from file C:\\Users\\Aimee\\AppData\\Local\\Temp\\tmpyktstltr.lp\n",
      "Reading time = 0.02 seconds\n",
      ": 1263 rows, 2848 columns, 10016 nonzeros\n",
      "Read LP format model from file C:\\Users\\Aimee\\AppData\\Local\\Temp\\tmppz8l_imc.lp\n",
      "Reading time = 0.02 seconds\n",
      ": 1263 rows, 2848 columns, 10016 nonzeros\n",
      "Read LP format model from file C:\\Users\\Aimee\\AppData\\Local\\Temp\\tmpw1eo96fx.lp\n",
      "Reading time = 0.03 seconds\n",
      ": 1263 rows, 2848 columns, 10016 nonzeros\n",
      "Read LP format model from file C:\\Users\\Aimee\\AppData\\Local\\Temp\\tmptta2xm2w.lp\n",
      "Reading time = 0.02 seconds\n",
      ": 1263 rows, 2848 columns, 10016 nonzeros\n",
      "Read LP format model from file C:\\Users\\Aimee\\AppData\\Local\\Temp\\tmpja4g6adc.lp\n",
      "Reading time = 0.01 seconds\n",
      ": 492 rows, 1000 columns, 4242 nonzeros\n"
     ]
    },
    {
     "name": "stderr",
     "output_type": "stream",
     "text": [
      "C:\\Users\\Aimee\\anaconda3\\envs\\Cobra 0220\\lib\\site-packages\\optlang\\interface.py:1474: DeprecationWarning: Deprecated, pass a TempConstr or use Model.addLConstr\n",
      "  self._add_constraints(add_constr)\n",
      "C:\\Users\\Aimee\\anaconda3\\envs\\Cobra 0220\\lib\\site-packages\\optlang\\interface.py:1474: DeprecationWarning: Deprecated, pass a TempConstr or use Model.addLConstr\n",
      "  self._add_constraints(add_constr)\n"
     ]
    },
    {
     "name": "stdout",
     "output_type": "stream",
     "text": [
      "Fraction = 0.5 | Rho = 0.2465 ; p = 0.0\n",
      "Read LP format model from file C:\\Users\\Aimee\\AppData\\Local\\Temp\\tmprcjua7la.lp\n",
      "Reading time = 0.02 seconds\n",
      ": 1263 rows, 2848 columns, 10016 nonzeros\n",
      "Read LP format model from file C:\\Users\\Aimee\\AppData\\Local\\Temp\\tmpabyv0hhl.lp\n",
      "Reading time = 0.02 seconds\n",
      ": 1263 rows, 2848 columns, 10016 nonzeros\n",
      "Read LP format model from file C:\\Users\\Aimee\\AppData\\Local\\Temp\\tmpaq6mie5p.lp\n",
      "Reading time = 0.02 seconds\n",
      ": 1263 rows, 2848 columns, 10016 nonzeros\n",
      "Read LP format model from file C:\\Users\\Aimee\\AppData\\Local\\Temp\\tmp6yfjah_6.lp\n",
      "Reading time = 0.02 seconds\n",
      ": 1263 rows, 2848 columns, 10016 nonzeros\n",
      "Read LP format model from file C:\\Users\\Aimee\\AppData\\Local\\Temp\\tmpq0147vvi.lp\n",
      "Reading time = 0.02 seconds\n",
      ": 1263 rows, 2848 columns, 10016 nonzeros\n",
      "Read LP format model from file C:\\Users\\Aimee\\AppData\\Local\\Temp\\tmpvlkaaeno.lp\n",
      "Reading time = 0.02 seconds\n",
      ": 1263 rows, 2848 columns, 10016 nonzeros\n",
      "Read LP format model from file C:\\Users\\Aimee\\AppData\\Local\\Temp\\tmp1zlnx0i3.lp\n",
      "Reading time = 0.02 seconds\n",
      ": 1263 rows, 2848 columns, 10016 nonzeros\n",
      "Read LP format model from file C:\\Users\\Aimee\\AppData\\Local\\Temp\\tmpjn6jhc3v.lp\n",
      "Reading time = 0.01 seconds\n",
      ": 495 rows, 1010 columns, 4274 nonzeros\n"
     ]
    },
    {
     "name": "stderr",
     "output_type": "stream",
     "text": [
      "C:\\Users\\Aimee\\anaconda3\\envs\\Cobra 0220\\lib\\site-packages\\optlang\\interface.py:1474: DeprecationWarning: Deprecated, pass a TempConstr or use Model.addLConstr\n",
      "  self._add_constraints(add_constr)\n",
      "C:\\Users\\Aimee\\anaconda3\\envs\\Cobra 0220\\lib\\site-packages\\optlang\\interface.py:1474: DeprecationWarning: Deprecated, pass a TempConstr or use Model.addLConstr\n",
      "  self._add_constraints(add_constr)\n"
     ]
    },
    {
     "name": "stdout",
     "output_type": "stream",
     "text": [
      "Fraction = 0.55 | Rho = 0.239 ; p = 0.0\n",
      "Read LP format model from file C:\\Users\\Aimee\\AppData\\Local\\Temp\\tmpew_pr3dt.lp\n",
      "Reading time = 0.02 seconds\n",
      ": 1263 rows, 2848 columns, 10016 nonzeros\n",
      "Read LP format model from file C:\\Users\\Aimee\\AppData\\Local\\Temp\\tmp6qej5og5.lp\n",
      "Reading time = 0.02 seconds\n",
      ": 1263 rows, 2848 columns, 10016 nonzeros\n",
      "Read LP format model from file C:\\Users\\Aimee\\AppData\\Local\\Temp\\tmplj83htq1.lp\n",
      "Reading time = 0.02 seconds\n",
      ": 1263 rows, 2848 columns, 10016 nonzeros\n",
      "Read LP format model from file C:\\Users\\Aimee\\AppData\\Local\\Temp\\tmprl21vo33.lp\n",
      "Reading time = 0.02 seconds\n",
      ": 1263 rows, 2848 columns, 10016 nonzeros\n",
      "Read LP format model from file C:\\Users\\Aimee\\AppData\\Local\\Temp\\tmpnk8jxhxc.lp\n",
      "Reading time = 0.02 seconds\n",
      ": 1263 rows, 2848 columns, 10016 nonzeros\n",
      "Read LP format model from file C:\\Users\\Aimee\\AppData\\Local\\Temp\\tmpn9040oua.lp\n",
      "Reading time = 0.02 seconds\n",
      ": 1263 rows, 2848 columns, 10016 nonzeros\n",
      "Read LP format model from file C:\\Users\\Aimee\\AppData\\Local\\Temp\\tmpxzmn41w6.lp\n",
      "Reading time = 0.02 seconds\n",
      ": 1263 rows, 2848 columns, 10016 nonzeros\n",
      "Read LP format model from file C:\\Users\\Aimee\\AppData\\Local\\Temp\\tmpxxw1o398.lp\n",
      "Reading time = 0.01 seconds\n",
      ": 495 rows, 1008 columns, 4266 nonzeros\n"
     ]
    },
    {
     "name": "stderr",
     "output_type": "stream",
     "text": [
      "C:\\Users\\Aimee\\anaconda3\\envs\\Cobra 0220\\lib\\site-packages\\optlang\\interface.py:1474: DeprecationWarning: Deprecated, pass a TempConstr or use Model.addLConstr\n",
      "  self._add_constraints(add_constr)\n",
      "C:\\Users\\Aimee\\anaconda3\\envs\\Cobra 0220\\lib\\site-packages\\optlang\\interface.py:1474: DeprecationWarning: Deprecated, pass a TempConstr or use Model.addLConstr\n",
      "  self._add_constraints(add_constr)\n"
     ]
    },
    {
     "name": "stdout",
     "output_type": "stream",
     "text": [
      "Fraction = 0.6 | Rho = 0.2409 ; p = 0.0\n",
      "Read LP format model from file C:\\Users\\Aimee\\AppData\\Local\\Temp\\tmpm80216ed.lp\n",
      "Reading time = 0.02 seconds\n",
      ": 1263 rows, 2848 columns, 10016 nonzeros\n",
      "Read LP format model from file C:\\Users\\Aimee\\AppData\\Local\\Temp\\tmp39y3km_6.lp\n",
      "Reading time = 0.02 seconds\n",
      ": 1263 rows, 2848 columns, 10016 nonzeros\n",
      "Read LP format model from file C:\\Users\\Aimee\\AppData\\Local\\Temp\\tmpfxou4ej4.lp\n",
      "Reading time = 0.02 seconds\n",
      ": 1263 rows, 2848 columns, 10016 nonzeros\n",
      "Read LP format model from file C:\\Users\\Aimee\\AppData\\Local\\Temp\\tmpp47suhki.lp\n",
      "Reading time = 0.02 seconds\n",
      ": 1263 rows, 2848 columns, 10016 nonzeros\n",
      "Read LP format model from file C:\\Users\\Aimee\\AppData\\Local\\Temp\\tmpargglrb8.lp\n",
      "Reading time = 0.02 seconds\n",
      ": 1263 rows, 2848 columns, 10016 nonzeros\n",
      "Read LP format model from file C:\\Users\\Aimee\\AppData\\Local\\Temp\\tmpkdy4n5ly.lp\n",
      "Reading time = 0.02 seconds\n",
      ": 1263 rows, 2848 columns, 10016 nonzeros\n",
      "Read LP format model from file C:\\Users\\Aimee\\AppData\\Local\\Temp\\tmpmnu1o_97.lp\n",
      "Reading time = 0.02 seconds\n",
      ": 1263 rows, 2848 columns, 10016 nonzeros\n",
      "Read LP format model from file C:\\Users\\Aimee\\AppData\\Local\\Temp\\tmpu8ojfdop.lp\n",
      "Reading time = 0.02 seconds\n",
      ": 498 rows, 1026 columns, 4320 nonzeros\n"
     ]
    },
    {
     "name": "stderr",
     "output_type": "stream",
     "text": [
      "C:\\Users\\Aimee\\anaconda3\\envs\\Cobra 0220\\lib\\site-packages\\optlang\\interface.py:1474: DeprecationWarning: Deprecated, pass a TempConstr or use Model.addLConstr\n",
      "  self._add_constraints(add_constr)\n",
      "C:\\Users\\Aimee\\anaconda3\\envs\\Cobra 0220\\lib\\site-packages\\optlang\\interface.py:1474: DeprecationWarning: Deprecated, pass a TempConstr or use Model.addLConstr\n",
      "  self._add_constraints(add_constr)\n"
     ]
    },
    {
     "name": "stdout",
     "output_type": "stream",
     "text": [
      "Fraction = 0.65 | Rho = 0.1678 ; p = 0.0001\n",
      "Read LP format model from file C:\\Users\\Aimee\\AppData\\Local\\Temp\\tmpqgyz_nd4.lp\n",
      "Reading time = 0.02 seconds\n",
      ": 1263 rows, 2848 columns, 10016 nonzeros\n",
      "Read LP format model from file C:\\Users\\Aimee\\AppData\\Local\\Temp\\tmpun1j07bu.lp\n",
      "Reading time = 0.02 seconds\n",
      ": 1263 rows, 2848 columns, 10016 nonzeros\n",
      "Read LP format model from file C:\\Users\\Aimee\\AppData\\Local\\Temp\\tmpk6dnyymq.lp\n",
      "Reading time = 0.02 seconds\n",
      ": 1263 rows, 2848 columns, 10016 nonzeros\n",
      "Read LP format model from file C:\\Users\\Aimee\\AppData\\Local\\Temp\\tmp3hou6k8v.lp\n",
      "Reading time = 0.02 seconds\n",
      ": 1263 rows, 2848 columns, 10016 nonzeros\n",
      "Read LP format model from file C:\\Users\\Aimee\\AppData\\Local\\Temp\\tmpf7qndgx_.lp\n",
      "Reading time = 0.02 seconds\n",
      ": 1263 rows, 2848 columns, 10016 nonzeros\n",
      "Read LP format model from file C:\\Users\\Aimee\\AppData\\Local\\Temp\\tmp5v9a97f1.lp\n",
      "Reading time = 0.02 seconds\n",
      ": 1263 rows, 2848 columns, 10016 nonzeros\n",
      "Read LP format model from file C:\\Users\\Aimee\\AppData\\Local\\Temp\\tmpm06bi8a_.lp\n",
      "Reading time = 0.02 seconds\n",
      ": 1263 rows, 2848 columns, 10016 nonzeros\n",
      "Read LP format model from file C:\\Users\\Aimee\\AppData\\Local\\Temp\\tmpz67j8v2j.lp\n",
      "Reading time = 0.01 seconds\n",
      ": 498 rows, 1024 columns, 4312 nonzeros\n"
     ]
    },
    {
     "name": "stderr",
     "output_type": "stream",
     "text": [
      "C:\\Users\\Aimee\\anaconda3\\envs\\Cobra 0220\\lib\\site-packages\\optlang\\interface.py:1474: DeprecationWarning: Deprecated, pass a TempConstr or use Model.addLConstr\n",
      "  self._add_constraints(add_constr)\n",
      "C:\\Users\\Aimee\\anaconda3\\envs\\Cobra 0220\\lib\\site-packages\\optlang\\interface.py:1474: DeprecationWarning: Deprecated, pass a TempConstr or use Model.addLConstr\n",
      "  self._add_constraints(add_constr)\n"
     ]
    },
    {
     "name": "stdout",
     "output_type": "stream",
     "text": [
      "Fraction = 0.7 | Rho = 0.1827 ; p = 0.0\n",
      "Read LP format model from file C:\\Users\\Aimee\\AppData\\Local\\Temp\\tmp__7pv12q.lp\n",
      "Reading time = 0.02 seconds\n",
      ": 1263 rows, 2848 columns, 10016 nonzeros\n",
      "Read LP format model from file C:\\Users\\Aimee\\AppData\\Local\\Temp\\tmphietctf_.lp\n",
      "Reading time = 0.02 seconds\n",
      ": 1263 rows, 2848 columns, 10016 nonzeros\n",
      "Read LP format model from file C:\\Users\\Aimee\\AppData\\Local\\Temp\\tmpdzal_azp.lp\n",
      "Reading time = 0.02 seconds\n",
      ": 1263 rows, 2848 columns, 10016 nonzeros\n",
      "Read LP format model from file C:\\Users\\Aimee\\AppData\\Local\\Temp\\tmpuciyltc9.lp\n",
      "Reading time = 0.02 seconds\n",
      ": 1263 rows, 2848 columns, 10016 nonzeros\n",
      "Read LP format model from file C:\\Users\\Aimee\\AppData\\Local\\Temp\\tmp03_yee5k.lp\n",
      "Reading time = 0.02 seconds\n",
      ": 1263 rows, 2848 columns, 10016 nonzeros\n",
      "Read LP format model from file C:\\Users\\Aimee\\AppData\\Local\\Temp\\tmpfhbdt6jj.lp\n",
      "Reading time = 0.02 seconds\n",
      ": 1263 rows, 2848 columns, 10016 nonzeros\n",
      "Read LP format model from file C:\\Users\\Aimee\\AppData\\Local\\Temp\\tmpbct2lmat.lp\n",
      "Reading time = 0.02 seconds\n",
      ": 1263 rows, 2848 columns, 10016 nonzeros\n",
      "Read LP format model from file C:\\Users\\Aimee\\AppData\\Local\\Temp\\tmpwbqt6k3g.lp\n",
      "Reading time = 0.01 seconds\n",
      ": 503 rows, 1036 columns, 4328 nonzeros\n"
     ]
    },
    {
     "name": "stderr",
     "output_type": "stream",
     "text": [
      "C:\\Users\\Aimee\\anaconda3\\envs\\Cobra 0220\\lib\\site-packages\\optlang\\interface.py:1474: DeprecationWarning: Deprecated, pass a TempConstr or use Model.addLConstr\n",
      "  self._add_constraints(add_constr)\n",
      "C:\\Users\\Aimee\\anaconda3\\envs\\Cobra 0220\\lib\\site-packages\\optlang\\interface.py:1474: DeprecationWarning: Deprecated, pass a TempConstr or use Model.addLConstr\n",
      "  self._add_constraints(add_constr)\n"
     ]
    },
    {
     "name": "stdout",
     "output_type": "stream",
     "text": [
      "Fraction = 0.75 | Rho = 0.2057 ; p = 0.0\n",
      "Testing local objective fractions to 0.2...\n",
      "Read LP format model from file C:\\Users\\Aimee\\AppData\\Local\\Temp\\tmp1enk92ai.lp\n",
      "Reading time = 0.02 seconds\n",
      ": 1263 rows, 2848 columns, 10016 nonzeros\n",
      "Read LP format model from file C:\\Users\\Aimee\\AppData\\Local\\Temp\\tmpp5pkdpzd.lp\n",
      "Reading time = 0.02 seconds\n",
      ": 1263 rows, 2848 columns, 10016 nonzeros\n",
      "Read LP format model from file C:\\Users\\Aimee\\AppData\\Local\\Temp\\tmp2jpz6go5.lp\n",
      "Reading time = 0.02 seconds\n",
      ": 1263 rows, 2848 columns, 10016 nonzeros\n",
      "Read LP format model from file C:\\Users\\Aimee\\AppData\\Local\\Temp\\tmpo6_ogmv_.lp\n",
      "Reading time = 0.02 seconds\n",
      ": 1263 rows, 2848 columns, 10016 nonzeros\n",
      "Read LP format model from file C:\\Users\\Aimee\\AppData\\Local\\Temp\\tmp0bz06yzw.lp\n",
      "Reading time = 0.02 seconds\n",
      ": 1263 rows, 2848 columns, 10016 nonzeros\n",
      "Read LP format model from file C:\\Users\\Aimee\\AppData\\Local\\Temp\\tmpyghzzlt7.lp\n",
      "Reading time = 0.02 seconds\n",
      ": 1263 rows, 2848 columns, 10016 nonzeros\n",
      "Read LP format model from file C:\\Users\\Aimee\\AppData\\Local\\Temp\\tmp5cn2lwrr.lp\n",
      "Reading time = 0.02 seconds\n",
      ": 1263 rows, 2848 columns, 10016 nonzeros\n",
      "Read LP format model from file C:\\Users\\Aimee\\AppData\\Local\\Temp\\tmpkho7gs_7.lp\n",
      "Reading time = 0.01 seconds\n",
      ": 492 rows, 998 columns, 4234 nonzeros\n"
     ]
    },
    {
     "name": "stderr",
     "output_type": "stream",
     "text": [
      "C:\\Users\\Aimee\\anaconda3\\envs\\Cobra 0220\\lib\\site-packages\\optlang\\interface.py:1474: DeprecationWarning: Deprecated, pass a TempConstr or use Model.addLConstr\n",
      "  self._add_constraints(add_constr)\n",
      "C:\\Users\\Aimee\\anaconda3\\envs\\Cobra 0220\\lib\\site-packages\\optlang\\interface.py:1474: DeprecationWarning: Deprecated, pass a TempConstr or use Model.addLConstr\n",
      "  self._add_constraints(add_constr)\n"
     ]
    },
    {
     "name": "stdout",
     "output_type": "stream",
     "text": [
      "Fraction = 0.175 | Rho = 0.2558 ; p = 0.0\n",
      "Read LP format model from file C:\\Users\\Aimee\\AppData\\Local\\Temp\\tmphni1o9ms.lp\n",
      "Reading time = 0.01 seconds\n",
      ": 492 rows, 998 columns, 4234 nonzeros\n",
      "Read LP format model from file C:\\Users\\Aimee\\AppData\\Local\\Temp\\tmpg6am2jos.lp\n",
      "Reading time = 0.02 seconds\n",
      ": 1263 rows, 2848 columns, 10016 nonzeros\n",
      "Read LP format model from file C:\\Users\\Aimee\\AppData\\Local\\Temp\\tmplpc3vti5.lp\n",
      "Reading time = 0.02 seconds\n",
      ": 1263 rows, 2848 columns, 10016 nonzeros\n",
      "Read LP format model from file C:\\Users\\Aimee\\AppData\\Local\\Temp\\tmpmtforzpv.lp\n",
      "Reading time = 0.02 seconds\n",
      ": 1263 rows, 2848 columns, 10016 nonzeros\n",
      "Read LP format model from file C:\\Users\\Aimee\\AppData\\Local\\Temp\\tmpjqe2ndm3.lp\n",
      "Reading time = 0.02 seconds\n",
      ": 1263 rows, 2848 columns, 10016 nonzeros\n",
      "Read LP format model from file C:\\Users\\Aimee\\AppData\\Local\\Temp\\tmpof6j7f9c.lp\n",
      "Reading time = 0.02 seconds\n",
      ": 1263 rows, 2848 columns, 10016 nonzeros\n",
      "Read LP format model from file C:\\Users\\Aimee\\AppData\\Local\\Temp\\tmpjw_2nd8i.lp\n",
      "Reading time = 0.02 seconds\n",
      ": 1263 rows, 2848 columns, 10016 nonzeros\n",
      "Read LP format model from file C:\\Users\\Aimee\\AppData\\Local\\Temp\\tmpnsqo_bqi.lp\n",
      "Reading time = 0.02 seconds\n",
      ": 1263 rows, 2848 columns, 10016 nonzeros\n",
      "Read LP format model from file C:\\Users\\Aimee\\AppData\\Local\\Temp\\tmp0i94pk0a.lp\n",
      "Reading time = 0.01 seconds\n",
      ": 492 rows, 1002 columns, 4250 nonzeros\n"
     ]
    },
    {
     "name": "stderr",
     "output_type": "stream",
     "text": [
      "C:\\Users\\Aimee\\anaconda3\\envs\\Cobra 0220\\lib\\site-packages\\optlang\\interface.py:1474: DeprecationWarning: Deprecated, pass a TempConstr or use Model.addLConstr\n",
      "  self._add_constraints(add_constr)\n",
      "C:\\Users\\Aimee\\anaconda3\\envs\\Cobra 0220\\lib\\site-packages\\optlang\\interface.py:1474: DeprecationWarning: Deprecated, pass a TempConstr or use Model.addLConstr\n",
      "  self._add_constraints(add_constr)\n"
     ]
    },
    {
     "name": "stdout",
     "output_type": "stream",
     "text": [
      "Fraction = 0.225 | Rho = 0.2334 ; p = 0.0\n",
      "\n",
      "Context-specific metabolism fit with 0.175 of optimal objective flux\n",
      "\n",
      "Reactions pruned to 499 from 1424 (64.96% change)\n",
      "Metabolites pruned to 492 from 1263 (61.05% change)\n",
      "Flux through the objective DECREASED to ~1.02 from ~1.88 (45.74% change)\n",
      "Context-specific metabolism correlates with transcriptome (r=0.256, p<0.001 *)\n",
      "\n",
      "Maxfit RIPTiDe completed in, 28 minutes and 51 seconds \n",
      "\n"
     ]
    }
   ],
   "source": [
    "with riptidemodel:\n",
    "    complete(riptidemodel)\n",
    "    T1_130alone_riptide_object= riptide.maxfit_contextualize(model=riptidemodel, transcriptome=T1_130alone, frac_min=0.1, frac_max=0.8, samples=1000)\n",
    "    riptide.save_output(riptide_obj=T1_130alone_riptide_object, path='T1_130alone_complete_maxfit')"
   ]
  },
  {
   "cell_type": "code",
   "execution_count": 12,
   "id": "0a851a53",
   "metadata": {
    "scrolled": true,
    "tags": []
   },
   "outputs": [
    {
     "name": "stderr",
     "output_type": "stream",
     "text": [
      "C:\\Users\\Aimee\\anaconda3\\envs\\Cobra 0220\\lib\\site-packages\\ipykernel\\ipkernel.py:287: DeprecationWarning: `should_run_async` will not call `transform_cell` automatically in the future. Please pass the result to `transformed_cell` argument and any exception that happen during thetransform in `preprocessing_exc_tuple` in IPython 7.17 and above.\n",
      "  and should_run_async(code)\n",
      "https://identifiers.org/UNIPROT/ does not conform to 'http(s)://identifiers.org/collection/id' or'http(s)://identifiers.org/COLLECTION:id\n",
      "https://identifiers.org/UNIPROT/ does not conform to 'http(s)://identifiers.org/collection/id' or'http(s)://identifiers.org/COLLECTION:id\n",
      "https://identifiers.org/UNIPROT/ does not conform to 'http(s)://identifiers.org/collection/id' or'http(s)://identifiers.org/COLLECTION:id\n",
      "https://identifiers.org/UNIPROT/ does not conform to 'http(s)://identifiers.org/collection/id' or'http(s)://identifiers.org/COLLECTION:id\n",
      "https://identifiers.org/UNIPROT/ does not conform to 'http(s)://identifiers.org/collection/id' or'http(s)://identifiers.org/COLLECTION:id\n",
      "https://identifiers.org/UNIPROT/ does not conform to 'http(s)://identifiers.org/collection/id' or'http(s)://identifiers.org/COLLECTION:id\n",
      "https://identifiers.org/UNIPROT/ does not conform to 'http(s)://identifiers.org/collection/id' or'http(s)://identifiers.org/COLLECTION:id\n",
      "https://identifiers.org/UNIPROT/ does not conform to 'http(s)://identifiers.org/collection/id' or'http(s)://identifiers.org/COLLECTION:id\n",
      "https://identifiers.org/PUBMLST_Locus/ does not conform to 'http(s)://identifiers.org/collection/id' or'http(s)://identifiers.org/COLLECTION:id\n",
      "https://identifiers.org/UNIPROT/ does not conform to 'http(s)://identifiers.org/collection/id' or'http(s)://identifiers.org/COLLECTION:id\n",
      "https://identifiers.org/UNIPROT/ does not conform to 'http(s)://identifiers.org/collection/id' or'http(s)://identifiers.org/COLLECTION:id\n",
      "https://identifiers.org/PUBMLST_Locus/ does not conform to 'http(s)://identifiers.org/collection/id' or'http(s)://identifiers.org/COLLECTION:id\n",
      "https://identifiers.org/PUBMLST_Locus/ does not conform to 'http(s)://identifiers.org/collection/id' or'http(s)://identifiers.org/COLLECTION:id\n",
      "https://identifiers.org/UNIPROT/ does not conform to 'http(s)://identifiers.org/collection/id' or'http(s)://identifiers.org/COLLECTION:id\n",
      "https://identifiers.org/UNIPROT/ does not conform to 'http(s)://identifiers.org/collection/id' or'http(s)://identifiers.org/COLLECTION:id\n",
      "https://identifiers.org/UNIPROT/ does not conform to 'http(s)://identifiers.org/collection/id' or'http(s)://identifiers.org/COLLECTION:id\n",
      "https://identifiers.org/PUBMLST_Locus/ does not conform to 'http(s)://identifiers.org/collection/id' or'http(s)://identifiers.org/COLLECTION:id\n",
      "https://identifiers.org/UNIPROT/ does not conform to 'http(s)://identifiers.org/collection/id' or'http(s)://identifiers.org/COLLECTION:id\n",
      "https://identifiers.org/UNIPROT/ does not conform to 'http(s)://identifiers.org/collection/id' or'http(s)://identifiers.org/COLLECTION:id\n",
      "https://identifiers.org/UNIPROT/ does not conform to 'http(s)://identifiers.org/collection/id' or'http(s)://identifiers.org/COLLECTION:id\n",
      "https://identifiers.org/PUBMLST_Locus/ does not conform to 'http(s)://identifiers.org/collection/id' or'http(s)://identifiers.org/COLLECTION:id\n",
      "https://identifiers.org/PUBMLST_Locus/ does not conform to 'http(s)://identifiers.org/collection/id' or'http(s)://identifiers.org/COLLECTION:id\n",
      "https://identifiers.org/UNIPROT/ does not conform to 'http(s)://identifiers.org/collection/id' or'http(s)://identifiers.org/COLLECTION:id\n",
      "https://identifiers.org/PUBMLST_Locus/ does not conform to 'http(s)://identifiers.org/collection/id' or'http(s)://identifiers.org/COLLECTION:id\n",
      "https://identifiers.org/UNIPROT/ does not conform to 'http(s)://identifiers.org/collection/id' or'http(s)://identifiers.org/COLLECTION:id\n",
      "https://identifiers.org/PUBMLST_Locus/ does not conform to 'http(s)://identifiers.org/collection/id' or'http(s)://identifiers.org/COLLECTION:id\n",
      "https://identifiers.org/UNIPROT/ does not conform to 'http(s)://identifiers.org/collection/id' or'http(s)://identifiers.org/COLLECTION:id\n",
      "https://identifiers.org/UNIPROT/ does not conform to 'http(s)://identifiers.org/collection/id' or'http(s)://identifiers.org/COLLECTION:id\n",
      "https://identifiers.org/UNIPROT/ does not conform to 'http(s)://identifiers.org/collection/id' or'http(s)://identifiers.org/COLLECTION:id\n",
      "https://identifiers.org/UNIPROT/ does not conform to 'http(s)://identifiers.org/collection/id' or'http(s)://identifiers.org/COLLECTION:id\n",
      "https://identifiers.org/UNIPROT/ does not conform to 'http(s)://identifiers.org/collection/id' or'http(s)://identifiers.org/COLLECTION:id\n",
      "https://identifiers.org/UNIPROT/ does not conform to 'http(s)://identifiers.org/collection/id' or'http(s)://identifiers.org/COLLECTION:id\n",
      "https://identifiers.org/UNIPROT/ does not conform to 'http(s)://identifiers.org/collection/id' or'http(s)://identifiers.org/COLLECTION:id\n",
      "https://identifiers.org/UNIPROT/ does not conform to 'http(s)://identifiers.org/collection/id' or'http(s)://identifiers.org/COLLECTION:id\n",
      "https://identifiers.org/UNIPROT/ does not conform to 'http(s)://identifiers.org/collection/id' or'http(s)://identifiers.org/COLLECTION:id\n",
      "https://identifiers.org/UNIPROT/ does not conform to 'http(s)://identifiers.org/collection/id' or'http(s)://identifiers.org/COLLECTION:id\n",
      "https://identifiers.org/UNIPROT/ does not conform to 'http(s)://identifiers.org/collection/id' or'http(s)://identifiers.org/COLLECTION:id\n",
      "https://identifiers.org/UNIPROT/ does not conform to 'http(s)://identifiers.org/collection/id' or'http(s)://identifiers.org/COLLECTION:id\n",
      "https://identifiers.org/UNIPROT/ does not conform to 'http(s)://identifiers.org/collection/id' or'http(s)://identifiers.org/COLLECTION:id\n",
      "https://identifiers.org/PUBMLST_Locus/ does not conform to 'http(s)://identifiers.org/collection/id' or'http(s)://identifiers.org/COLLECTION:id\n",
      "https://identifiers.org/UNIPROT/ does not conform to 'http(s)://identifiers.org/collection/id' or'http(s)://identifiers.org/COLLECTION:id\n",
      "https://identifiers.org/UNIPROT/ does not conform to 'http(s)://identifiers.org/collection/id' or'http(s)://identifiers.org/COLLECTION:id\n",
      "https://identifiers.org/PUBMLST_Locus/ does not conform to 'http(s)://identifiers.org/collection/id' or'http(s)://identifiers.org/COLLECTION:id\n",
      "https://identifiers.org/UNIPROT/ does not conform to 'http(s)://identifiers.org/collection/id' or'http(s)://identifiers.org/COLLECTION:id\n",
      "https://identifiers.org/UNIPROT/ does not conform to 'http(s)://identifiers.org/collection/id' or'http(s)://identifiers.org/COLLECTION:id\n",
      "https://identifiers.org/UNIPROT/ does not conform to 'http(s)://identifiers.org/collection/id' or'http(s)://identifiers.org/COLLECTION:id\n",
      "https://identifiers.org/UNIPROT/ does not conform to 'http(s)://identifiers.org/collection/id' or'http(s)://identifiers.org/COLLECTION:id\n",
      "https://identifiers.org/UNIPROT/ does not conform to 'http(s)://identifiers.org/collection/id' or'http(s)://identifiers.org/COLLECTION:id\n",
      "https://identifiers.org/UNIPROT/ does not conform to 'http(s)://identifiers.org/collection/id' or'http(s)://identifiers.org/COLLECTION:id\n",
      "https://identifiers.org/UNIPROT/ does not conform to 'http(s)://identifiers.org/collection/id' or'http(s)://identifiers.org/COLLECTION:id\n",
      "https://identifiers.org/UNIPROT/ does not conform to 'http(s)://identifiers.org/collection/id' or'http(s)://identifiers.org/COLLECTION:id\n",
      "https://identifiers.org/PUBMLST_Locus/ does not conform to 'http(s)://identifiers.org/collection/id' or'http(s)://identifiers.org/COLLECTION:id\n",
      "https://identifiers.org/UNIPROT/ does not conform to 'http(s)://identifiers.org/collection/id' or'http(s)://identifiers.org/COLLECTION:id\n",
      "https://identifiers.org/UNIPROT/ does not conform to 'http(s)://identifiers.org/collection/id' or'http(s)://identifiers.org/COLLECTION:id\n",
      "https://identifiers.org/PUBMLST_Locus/ does not conform to 'http(s)://identifiers.org/collection/id' or'http(s)://identifiers.org/COLLECTION:id\n",
      "https://identifiers.org/PUBMLST_Locus/ does not conform to 'http(s)://identifiers.org/collection/id' or'http(s)://identifiers.org/COLLECTION:id\n",
      "https://identifiers.org/UNIPROT/ does not conform to 'http(s)://identifiers.org/collection/id' or'http(s)://identifiers.org/COLLECTION:id\n",
      "https://identifiers.org/UNIPROT/ does not conform to 'http(s)://identifiers.org/collection/id' or'http(s)://identifiers.org/COLLECTION:id\n",
      "https://identifiers.org/UNIPROT/ does not conform to 'http(s)://identifiers.org/collection/id' or'http(s)://identifiers.org/COLLECTION:id\n",
      "https://identifiers.org/PUBMLST_Locus/ does not conform to 'http(s)://identifiers.org/collection/id' or'http(s)://identifiers.org/COLLECTION:id\n",
      "https://identifiers.org/UNIPROT/ does not conform to 'http(s)://identifiers.org/collection/id' or'http(s)://identifiers.org/COLLECTION:id\n",
      "https://identifiers.org/UNIPROT/ does not conform to 'http(s)://identifiers.org/collection/id' or'http(s)://identifiers.org/COLLECTION:id\n",
      "https://identifiers.org/UNIPROT/ does not conform to 'http(s)://identifiers.org/collection/id' or'http(s)://identifiers.org/COLLECTION:id\n",
      "https://identifiers.org/PUBMLST_Locus/ does not conform to 'http(s)://identifiers.org/collection/id' or'http(s)://identifiers.org/COLLECTION:id\n",
      "https://identifiers.org/PUBMLST_Locus/ does not conform to 'http(s)://identifiers.org/collection/id' or'http(s)://identifiers.org/COLLECTION:id\n",
      "https://identifiers.org/UNIPROT/ does not conform to 'http(s)://identifiers.org/collection/id' or'http(s)://identifiers.org/COLLECTION:id\n",
      "https://identifiers.org/PUBMLST_Locus/ does not conform to 'http(s)://identifiers.org/collection/id' or'http(s)://identifiers.org/COLLECTION:id\n",
      "https://identifiers.org/UNIPROT/ does not conform to 'http(s)://identifiers.org/collection/id' or'http(s)://identifiers.org/COLLECTION:id\n",
      "https://identifiers.org/PUBMLST_Locus/ does not conform to 'http(s)://identifiers.org/collection/id' or'http(s)://identifiers.org/COLLECTION:id\n",
      "https://identifiers.org/UNIPROT/ does not conform to 'http(s)://identifiers.org/collection/id' or'http(s)://identifiers.org/COLLECTION:id\n",
      "https://identifiers.org/UNIPROT/ does not conform to 'http(s)://identifiers.org/collection/id' or'http(s)://identifiers.org/COLLECTION:id\n",
      "https://identifiers.org/UNIPROT/ does not conform to 'http(s)://identifiers.org/collection/id' or'http(s)://identifiers.org/COLLECTION:id\n",
      "https://identifiers.org/UNIPROT/ does not conform to 'http(s)://identifiers.org/collection/id' or'http(s)://identifiers.org/COLLECTION:id\n",
      "https://identifiers.org/UNIPROT/ does not conform to 'http(s)://identifiers.org/collection/id' or'http(s)://identifiers.org/COLLECTION:id\n",
      "https://identifiers.org/UNIPROT/ does not conform to 'http(s)://identifiers.org/collection/id' or'http(s)://identifiers.org/COLLECTION:id\n",
      "https://identifiers.org/UNIPROT/ does not conform to 'http(s)://identifiers.org/collection/id' or'http(s)://identifiers.org/COLLECTION:id\n",
      "https://identifiers.org/UNIPROT/ does not conform to 'http(s)://identifiers.org/collection/id' or'http(s)://identifiers.org/COLLECTION:id\n",
      "https://identifiers.org/UNIPROT/ does not conform to 'http(s)://identifiers.org/collection/id' or'http(s)://identifiers.org/COLLECTION:id\n",
      "https://identifiers.org/UNIPROT/ does not conform to 'http(s)://identifiers.org/collection/id' or'http(s)://identifiers.org/COLLECTION:id\n",
      "https://identifiers.org/UNIPROT/ does not conform to 'http(s)://identifiers.org/collection/id' or'http(s)://identifiers.org/COLLECTION:id\n",
      "https://identifiers.org/UNIPROT/ does not conform to 'http(s)://identifiers.org/collection/id' or'http(s)://identifiers.org/COLLECTION:id\n",
      "https://identifiers.org/UNIPROT/ does not conform to 'http(s)://identifiers.org/collection/id' or'http(s)://identifiers.org/COLLECTION:id\n",
      "https://identifiers.org/UNIPROT/ does not conform to 'http(s)://identifiers.org/collection/id' or'http(s)://identifiers.org/COLLECTION:id\n",
      "https://identifiers.org/PUBMLST_Locus/ does not conform to 'http(s)://identifiers.org/collection/id' or'http(s)://identifiers.org/COLLECTION:id\n",
      "https://identifiers.org/UNIPROT/ does not conform to 'http(s)://identifiers.org/collection/id' or'http(s)://identifiers.org/COLLECTION:id\n",
      "https://identifiers.org/UNIPROT/ does not conform to 'http(s)://identifiers.org/collection/id' or'http(s)://identifiers.org/COLLECTION:id\n",
      "https://identifiers.org/PUBMLST_Locus/ does not conform to 'http(s)://identifiers.org/collection/id' or'http(s)://identifiers.org/COLLECTION:id\n"
     ]
    }
   ],
   "source": [
    "alone=read_sbml_model(\"C://Users/Aimee/Documents/Metabolic_Modeling/Gc_GENRE_2022/Figures/Figure_4/T1_130alone_complete_maxfit/model.sbml\")\n",
    "PMN=read_sbml_model(\"C://Users/Aimee/Documents/Metabolic_Modeling/Gc_GENRE_2022/Figures/Figure_4/T1_130withPMN_complete_maxfit/model.sbml\")"
   ]
  },
  {
   "cell_type": "code",
   "execution_count": null,
   "id": "53779c85",
   "metadata": {},
   "outputs": [],
   "source": []
  },
  {
   "cell_type": "code",
   "execution_count": 13,
   "id": "8dd8ab02",
   "metadata": {},
   "outputs": [],
   "source": [
    "aloneKOs=single_gene_deletion(alone)\n",
    "PMNKOs=single_gene_deletion(PMN)\n",
    "\n",
    "aloneKOs.to_csv('aloneKOs_maxfit.csv')\n",
    "PMNKOs.to_csv('PMNKOs_maxfit.csv')\n"
   ]
  },
  {
   "cell_type": "code",
   "execution_count": null,
   "id": "94280188",
   "metadata": {},
   "outputs": [],
   "source": []
  }
 ],
 "metadata": {
  "kernelspec": {
   "display_name": "Python 3",
   "language": "python",
   "name": "python3"
  },
  "language_info": {
   "codemirror_mode": {
    "name": "ipython",
    "version": 3
   },
   "file_extension": ".py",
   "mimetype": "text/x-python",
   "name": "python",
   "nbconvert_exporter": "python",
   "pygments_lexer": "ipython3",
   "version": "3.8.8"
  }
 },
 "nbformat": 4,
 "nbformat_minor": 5
}
