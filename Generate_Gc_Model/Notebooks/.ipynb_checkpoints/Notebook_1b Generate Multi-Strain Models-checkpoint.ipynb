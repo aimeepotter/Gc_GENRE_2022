{
 "cells": [
  {
   "cell_type": "markdown",
   "metadata": {},
   "source": [
    "# Notebook 2: Generate multi-strain models\n",
    "\n",
    "This notebook follows Notebook 1 in the tutorial, and continues to work on generating a draft model for Gc. This notebook utilizes the output of notebook 1 (presence/absence matrix (aka ortho_matrix) and geneID matrix) to generate a draft Gc model from the reference model. There are two major steps involved: \n",
    "\n",
    "1. Deletion of missing genes/reaction from reference model to generate draft models\n",
    "2. Update gene-protein-reaction rule in each model"
   ]
  },
  {
   "cell_type": "code",
   "execution_count": 2,
   "metadata": {},
   "outputs": [],
   "source": [
    "#import package needed\n",
    "import cobra\n",
    "import pandas as pd\n",
    "from cobra.io import load_json_model\n",
    "from glob import glob\n",
    "from cobra.manipulation.delete import delete_model_genes, remove_genes\n",
    "import seaborn as sns\n",
    "from cobra.flux_analysis import single_gene_deletion\n",
    "import os\n",
    "\n",
    "#Simplify reading/writing files\n",
    "cwd=os.path.realpath(os.path.join(os.path.dirname(os.getcwd()),\"..\",\"..\"))"
   ]
  },
  {
   "cell_type": "code",
   "execution_count": 3,
   "metadata": {},
   "outputs": [],
   "source": [
    "#From Jenior 2021 C.diff notebooks - benchmarking C. difficile GENRES. https://github.com/csbl/Jenior_CdifficileGENRE_2021\n",
    "def basicCheck(model):\n",
    "    \n",
    "    # Determination\n",
    "    determination = float(len(model.reactions)) / float(len(model.metabolites))\n",
    "    determination = round(determination, 3)\n",
    "    if len(model.reactions) < len(model.metabolites): \n",
    "        statement = ' (overdetermined)'\n",
    "    elif len(model.reactions) > len(model.metabolites):\n",
    "        statement = ' (underdetermined)'\n",
    "    print('Reactions to metabolites ratio: ' + str(determination) + statement)\n",
    "    \n",
    "    # Compartments\n",
    "    print('GENRE has ' + str(len(model.compartments.keys())) + ' compartment(s)')\n",
    "    \n",
    "    # Genes\n",
    "    if len(model.genes) == 0: \n",
    "        print('GENRE has no gene data')\n",
    "    else:\n",
    "        print('GENRE has ' + str(len(model.genes)) + ' genes')\n",
    "    no_rxns = []\n",
    "    for gene in model.genes:\n",
    "          if len(gene.reactions) == 0:\n",
    "                no_rxns.append(gene.id)\n",
    "    if len(no_rxns) > 0:\n",
    "        print('\\t' + str(len(no_rxns)) + ' are not associated with reactions')\n",
    "        \n",
    "    # Growth\n",
    "    ov = model.slim_optimize(error_value=0.)\n",
    "    if ov < 1e-6:\n",
    "        for rxn in model.boundary: rxn.bounds = (-1000., 1000.)\n",
    "        ov = model.slim_optimize(error_value=0.)\n",
    "        if ov < 1e-6:\n",
    "            print('GENRE cannot acheive objective flux')\n",
    "        else:\n",
    "            ov = round(ov, 3)\n",
    "            print(str(ov) + ' objective flux, only in complete media')\n",
    "    else:\n",
    "        ov = round(ov, 3)\n",
    "        print(str(ov) + ' objective flux in current media')\n",
    "\n",
    "# Quicker way to read in models\n",
    "import pickle\n",
    "def read_model(fileName, obj='none'):\n",
    "    \n",
    "    fileType = fileName.split('.')[-1]\n",
    "    \n",
    "    if fileType == 'sbml' or fileType == 'xml':\n",
    "        model = cobra.io.read_sbml_model(fileName)\n",
    "    elif fileType == 'json':\n",
    "        model = cobra.io.load_json_model(fileName)\n",
    "    elif fileType == 'yaml':\n",
    "        model = cobra.io.load_yaml_model(fileName)\n",
    "    elif fileType == 'mat':\n",
    "        model = cobra.io.load_matlab_model(fileName)\n",
    "    elif fileType == 'pkl':\n",
    "        model = pickle.load(open(fileName, 'rb'))\n",
    "    else:\n",
    "        raise TypeError('Unrecognized file extension')\n",
    "    \n",
    "    if obj != 'none': model.objective = obj\n",
    "    for rxn in model.boundary: rxn.bounds = (-1000., 1000.)\n",
    "        \n",
    "    return model\n"
   ]
  },
  {
   "cell_type": "code",
   "execution_count": 4,
   "metadata": {},
   "outputs": [],
   "source": [
    "#Define model medias\n",
    "\n",
    "def complete(model):   \n",
    "    for reaction in model.reactions:\n",
    "        if 'EX_' in  reaction.id:\n",
    "            reaction.lower_bound=-20.\n",
    "\n",
    "\n",
    "\n",
    "mdm_req=set(['EX_co2_e_', 'EX_cobalt2_e_', 'EX_cu2_e_' , 'EX_h_e_', 'EX_h2o_e_','EX_mn2_e_','EX_mobd_e_','EX_tungs_e_', 'EX_zn2_e_','EX_na1_e_','EX_cl_e_','EX_k_e_','EX_so4_e_','EX_nh4_e_','EX_mg2_e_','EX_pi_e_','EX_ca2_e_','EX_fe3_e_','EX_no3_e_','EX_asp_L_e_','EX_glu_L_e_','EX_arg_L_e_','EX_gly_e_','EX_ser_L_e_','EX_leu_L_e_','EX_ile_L_e_','EX_val_L_e_','EX_tyr_L_e_','EX_cys_L_e_','EX_pro_L_e_','EX_trp_L_e_','EX_thr_L_e_','EX_phe_L_e_','EX_asn_L_e_','EX_gln_L_e_','EX_his_L_e_','EX_met_L_e_','EX_ala_L_e_','EX_lys_L_e_','EX_gthrd_e_','EX_thm_e_','EX_pnto_R_e_','EX_glc_D_e_','EX_hxan_e_','EX_ura_e_'])\n",
    "def MDM(model):\n",
    "    for reaction in model.reactions:\n",
    "        if 'EX_' in  reaction.id:\n",
    "            reaction.lower_bound=0\n",
    "        if reaction.id in mdm_req:\n",
    "            reaction.lower_bound = -10.\n",
    "        if reaction.id == 'EX_o2_e_':\n",
    "            reaction.lower_bound = -20.\n",
    "        if reaction.id == 'EX_glc_D_e_':\n",
    "            reaction.lower_bound = -10.\n",
    "\n",
    "            \n"
   ]
  },
  {
   "cell_type": "markdown",
   "metadata": {},
   "source": [
    "## 1. Deletion of missing genes/reaction from reference model \n"
   ]
  },
  {
   "cell_type": "code",
   "execution_count": 5,
   "metadata": {},
   "outputs": [],
   "source": [
    "## Load the previously generated homology matrix for N. gonorrhoeae \n",
    "hom_matrix=pd.read_csv(cwd+'/Gc_GENRE_2022/Generate_Gc_Model/Matrices/ortho_matrix.csv')\n",
    "hom_matrix=hom_matrix.set_index('Unnamed: 0')"
   ]
  },
  {
   "cell_type": "code",
   "execution_count": 6,
   "metadata": {
    "tags": []
   },
   "outputs": [],
   "source": [
    "#Load the base N. meningetidis reconstruction Nmb_iTM560\n",
    "base = read_model(cwd+'/Gc_GENRE_2022/Models/Nmb_iTM560.json')"
   ]
  },
  {
   "cell_type": "code",
   "execution_count": 7,
   "metadata": {
    "tags": []
   },
   "outputs": [
    {
     "name": "stdout",
     "output_type": "stream",
     "text": [
      "Reactions to metabolites ratio: 1.171 (underdetermined)\n",
      "GENRE has 1 compartment(s)\n",
      "GENRE has 562 genes\n",
      "74.215 objective flux in current media\n"
     ]
    },
    {
     "data": {
      "text/html": [
       "\n",
       "        <table>\n",
       "            <tr>\n",
       "                <td><strong>Name</strong></td>\n",
       "                <td>Nmb_iTM560</td>\n",
       "            </tr><tr>\n",
       "                <td><strong>Memory address</strong></td>\n",
       "                <td>0x01a30d7dd190</td>\n",
       "            </tr><tr>\n",
       "                <td><strong>Number of metabolites</strong></td>\n",
       "                <td>1297</td>\n",
       "            </tr><tr>\n",
       "                <td><strong>Number of reactions</strong></td>\n",
       "                <td>1519</td>\n",
       "            </tr><tr>\n",
       "                <td><strong>Number of groups</strong></td>\n",
       "                <td>0</td>\n",
       "            </tr><tr>\n",
       "                <td><strong>Objective expression</strong></td>\n",
       "                <td>1.0*Nm_Ess_biomass - 1.0*Nm_Ess_biomass_reverse_46af5</td>\n",
       "            </tr><tr>\n",
       "                <td><strong>Compartments</strong></td>\n",
       "                <td>Cytosol</td>\n",
       "            </tr>\n",
       "          </table>"
      ],
      "text/plain": [
       "<Model Nmb_iTM560 at 0x1a30d7dd190>"
      ]
     },
     "execution_count": 7,
     "metadata": {},
     "output_type": "execute_result"
    }
   ],
   "source": [
    "#set the model objective\n",
    "base.objective = \"Nm_Ess_biomass\"\n",
    "#report back model info\n",
    "basicCheck(base)\n",
    "base\n",
    "\n"
   ]
  },
  {
   "cell_type": "code",
   "execution_count": 8,
   "metadata": {},
   "outputs": [
    {
     "data": {
      "text/html": [
       "<strong><em>Optimal</em> solution with objective value 6.868</strong><br><div>\n",
       "<style scoped>\n",
       "    .dataframe tbody tr th:only-of-type {\n",
       "        vertical-align: middle;\n",
       "    }\n",
       "\n",
       "    .dataframe tbody tr th {\n",
       "        vertical-align: top;\n",
       "    }\n",
       "\n",
       "    .dataframe thead th {\n",
       "        text-align: right;\n",
       "    }\n",
       "</style>\n",
       "<table border=\"1\" class=\"dataframe\">\n",
       "  <thead>\n",
       "    <tr style=\"text-align: right;\">\n",
       "      <th></th>\n",
       "      <th>fluxes</th>\n",
       "      <th>reduced_costs</th>\n",
       "    </tr>\n",
       "  </thead>\n",
       "  <tbody>\n",
       "    <tr>\n",
       "      <th>12DGR120tipp</th>\n",
       "      <td>0.000000</td>\n",
       "      <td>0.000000</td>\n",
       "    </tr>\n",
       "    <tr>\n",
       "      <th>12DGR140tipp</th>\n",
       "      <td>0.000000</td>\n",
       "      <td>0.000000</td>\n",
       "    </tr>\n",
       "    <tr>\n",
       "      <th>12DGR141tipp</th>\n",
       "      <td>0.000000</td>\n",
       "      <td>0.000000</td>\n",
       "    </tr>\n",
       "    <tr>\n",
       "      <th>12DGR160tipp</th>\n",
       "      <td>0.000000</td>\n",
       "      <td>0.000000</td>\n",
       "    </tr>\n",
       "    <tr>\n",
       "      <th>12DGR161tipp</th>\n",
       "      <td>0.000000</td>\n",
       "      <td>0.000000</td>\n",
       "    </tr>\n",
       "    <tr>\n",
       "      <th>...</th>\n",
       "      <td>...</td>\n",
       "      <td>...</td>\n",
       "    </tr>\n",
       "    <tr>\n",
       "      <th>XYLUtex</th>\n",
       "      <td>0.000000</td>\n",
       "      <td>0.000000</td>\n",
       "    </tr>\n",
       "    <tr>\n",
       "      <th>ZN2abcpp</th>\n",
       "      <td>0.000000</td>\n",
       "      <td>-0.024189</td>\n",
       "    </tr>\n",
       "    <tr>\n",
       "      <th>ZN2t3pp</th>\n",
       "      <td>0.000000</td>\n",
       "      <td>-0.006047</td>\n",
       "    </tr>\n",
       "    <tr>\n",
       "      <th>Zn2tex</th>\n",
       "      <td>0.021687</td>\n",
       "      <td>0.000000</td>\n",
       "    </tr>\n",
       "    <tr>\n",
       "      <th>ZN2tpp</th>\n",
       "      <td>0.021688</td>\n",
       "      <td>0.000000</td>\n",
       "    </tr>\n",
       "  </tbody>\n",
       "</table>\n",
       "<p>1519 rows × 2 columns</p>\n",
       "</div>"
      ],
      "text/plain": [
       "<Solution 6.868 at 0x1a3175d1cd0>"
      ]
     },
     "execution_count": 8,
     "metadata": {},
     "output_type": "execute_result"
    }
   ],
   "source": [
    "complete(base)            \n",
    "base.optimize()"
   ]
  },
  {
   "cell_type": "code",
   "execution_count": 9,
   "metadata": {},
   "outputs": [
    {
     "data": {
      "text/html": [
       "<div>\n",
       "<style scoped>\n",
       "    .dataframe tbody tr th:only-of-type {\n",
       "        vertical-align: middle;\n",
       "    }\n",
       "\n",
       "    .dataframe tbody tr th {\n",
       "        vertical-align: top;\n",
       "    }\n",
       "\n",
       "    .dataframe thead th {\n",
       "        text-align: right;\n",
       "    }\n",
       "</style>\n",
       "<table border=\"1\" class=\"dataframe\">\n",
       "  <thead>\n",
       "    <tr style=\"text-align: right;\">\n",
       "      <th></th>\n",
       "      <th>AE004969.1</th>\n",
       "    </tr>\n",
       "    <tr>\n",
       "      <th>Unnamed: 0</th>\n",
       "      <th></th>\n",
       "    </tr>\n",
       "  </thead>\n",
       "  <tbody>\n",
       "    <tr>\n",
       "      <th>Sgene</th>\n",
       "      <td>0.0</td>\n",
       "    </tr>\n",
       "    <tr>\n",
       "      <th>NMB0319</th>\n",
       "      <td>1.0</td>\n",
       "    </tr>\n",
       "    <tr>\n",
       "      <th>NMB0182</th>\n",
       "      <td>1.0</td>\n",
       "    </tr>\n",
       "    <tr>\n",
       "      <th>NMB0453</th>\n",
       "      <td>1.0</td>\n",
       "    </tr>\n",
       "    <tr>\n",
       "      <th>NMB2039</th>\n",
       "      <td>1.0</td>\n",
       "    </tr>\n",
       "    <tr>\n",
       "      <th>...</th>\n",
       "      <td>...</td>\n",
       "    </tr>\n",
       "    <tr>\n",
       "      <th>NMB0930</th>\n",
       "      <td>1.0</td>\n",
       "    </tr>\n",
       "    <tr>\n",
       "      <th>NMB1315</th>\n",
       "      <td>1.0</td>\n",
       "    </tr>\n",
       "    <tr>\n",
       "      <th>NMB0544</th>\n",
       "      <td>1.0</td>\n",
       "    </tr>\n",
       "    <tr>\n",
       "      <th>NMB1823</th>\n",
       "      <td>1.0</td>\n",
       "    </tr>\n",
       "    <tr>\n",
       "      <th>NMB0175</th>\n",
       "      <td>0.0</td>\n",
       "    </tr>\n",
       "  </tbody>\n",
       "</table>\n",
       "<p>562 rows × 1 columns</p>\n",
       "</div>"
      ],
      "text/plain": [
       "            AE004969.1\n",
       "Unnamed: 0            \n",
       "Sgene              0.0\n",
       "NMB0319            1.0\n",
       "NMB0182            1.0\n",
       "NMB0453            1.0\n",
       "NMB2039            1.0\n",
       "...                ...\n",
       "NMB0930            1.0\n",
       "NMB1315            1.0\n",
       "NMB0544            1.0\n",
       "NMB1823            1.0\n",
       "NMB0175            0.0\n",
       "\n",
       "[562 rows x 1 columns]"
      ]
     },
     "execution_count": 9,
     "metadata": {},
     "output_type": "execute_result"
    }
   ],
   "source": [
    "hom_matrix"
   ]
  },
  {
   "cell_type": "markdown",
   "metadata": {},
   "source": [
    "### Delete missing genes from copies of the nMB_iTM560 model\n",
    "Start with the Nmb_iTM560 model, identify the missing genes from the matrix, and remove them and their associated reactions from the reference model "
   ]
  },
  {
   "cell_type": "code",
   "execution_count": 11,
   "metadata": {},
   "outputs": [],
   "source": [
    "#create strain-specific draft models and save them\n",
    "for strain in hom_matrix.columns:\n",
    "    \n",
    "    #Get the list of Gene IDs from the homology matrix dataframe for the current strain without a homolog\n",
    "    currentStrain=hom_matrix[strain]\n",
    "    nonHomologous=currentStrain[currentStrain==0.0]\n",
    "    nonHomologous=nonHomologous.index.tolist()\n",
    "    \n",
    "    \n",
    "    \n",
    "    #Define a list of Gene objects from the base reconstruction to be deleted from the current strain\n",
    "    toDelete=[]\n",
    "    for gene in nonHomologous:\n",
    "        toDelete.append(base.genes.get_by_id(gene))\n",
    "\n",
    "    #Establish a model copy and use the COBRApy function to remove the appropriate content and save this model\n",
    "    baseCopy=base.copy()\n",
    "    remove_genes(baseCopy, toDelete, remove_reactions=True)\n",
    "    baseCopy.id=str(strain)\n",
    "    cobra.io.json.save_json_model(baseCopy, str(cwd+'/Gc_GENRE_2022/Generate_Gc_Model/DraftModels/'+strain+'.json'), pretty=False)\n",
    "    \n",
    "    "
   ]
  },
  {
   "cell_type": "markdown",
   "metadata": {},
   "source": [
    "## 2. Update Model Gene Product Rules"
   ]
  },
  {
   "cell_type": "code",
   "execution_count": 18,
   "metadata": {},
   "outputs": [
    {
     "data": {
      "text/html": [
       "<div>\n",
       "<style scoped>\n",
       "    .dataframe tbody tr th:only-of-type {\n",
       "        vertical-align: middle;\n",
       "    }\n",
       "\n",
       "    .dataframe tbody tr th {\n",
       "        vertical-align: top;\n",
       "    }\n",
       "\n",
       "    .dataframe thead th {\n",
       "        text-align: right;\n",
       "    }\n",
       "</style>\n",
       "<table border=\"1\" class=\"dataframe\">\n",
       "  <thead>\n",
       "    <tr style=\"text-align: right;\">\n",
       "      <th></th>\n",
       "      <th>AE004969.1</th>\n",
       "    </tr>\n",
       "    <tr>\n",
       "      <th>Unnamed: 0</th>\n",
       "      <th></th>\n",
       "    </tr>\n",
       "  </thead>\n",
       "  <tbody>\n",
       "    <tr>\n",
       "      <th>Sgene</th>\n",
       "      <td>None</td>\n",
       "    </tr>\n",
       "    <tr>\n",
       "      <th>NMB0319</th>\n",
       "      <td>NGO_1682</td>\n",
       "    </tr>\n",
       "    <tr>\n",
       "      <th>NMB0182</th>\n",
       "      <td>NGO_1801</td>\n",
       "    </tr>\n",
       "    <tr>\n",
       "      <th>NMB0453</th>\n",
       "      <td>NGO_1506</td>\n",
       "    </tr>\n",
       "    <tr>\n",
       "      <th>NMB2039</th>\n",
       "      <td>NMB2039_ortholog</td>\n",
       "    </tr>\n",
       "    <tr>\n",
       "      <th>...</th>\n",
       "      <td>...</td>\n",
       "    </tr>\n",
       "    <tr>\n",
       "      <th>NMB0930</th>\n",
       "      <td>NMB0930_ortholog</td>\n",
       "    </tr>\n",
       "    <tr>\n",
       "      <th>NMB1315</th>\n",
       "      <td>NGO_0589</td>\n",
       "    </tr>\n",
       "    <tr>\n",
       "      <th>NMB0544</th>\n",
       "      <td>NGO_1448</td>\n",
       "    </tr>\n",
       "    <tr>\n",
       "      <th>NMB1823</th>\n",
       "      <td>NGO_0082</td>\n",
       "    </tr>\n",
       "    <tr>\n",
       "      <th>NMB0175</th>\n",
       "      <td>None</td>\n",
       "    </tr>\n",
       "  </tbody>\n",
       "</table>\n",
       "<p>562 rows × 1 columns</p>\n",
       "</div>"
      ],
      "text/plain": [
       "                  AE004969.1\n",
       "Unnamed: 0                  \n",
       "Sgene                   None\n",
       "NMB0319             NGO_1682\n",
       "NMB0182             NGO_1801\n",
       "NMB0453             NGO_1506\n",
       "NMB2039     NMB2039_ortholog\n",
       "...                      ...\n",
       "NMB0930     NMB0930_ortholog\n",
       "NMB1315             NGO_0589\n",
       "NMB0544             NGO_1448\n",
       "NMB1823             NGO_0082\n",
       "NMB0175                 None\n",
       "\n",
       "[562 rows x 1 columns]"
      ]
     },
     "execution_count": 18,
     "metadata": {},
     "output_type": "execute_result"
    }
   ],
   "source": [
    "#load the geneID matrix from notebook 1a \n",
    "models=glob('%s/*.json'%cwd+'/Gc_GENRE_2022/Generate_Gc_Model/DraftModels')\n",
    "geneIDs_matrix=pd.read_csv(cwd+'/Gc_GENRE_2022/Generate_Gc_Model/Matrices/geneIDs_matrix.csv')\n",
    "geneIDs_matrix=geneIDs_matrix.set_index('Unnamed: 0')\n",
    "geneIDs_matrix"
   ]
  },
  {
   "cell_type": "code",
   "execution_count": 19,
   "metadata": {},
   "outputs": [],
   "source": [
    "#Utilize the geneIDs matrix to update the GPRs in each of the strain-specific models with the proper gene ID\n",
    "\n",
    "from cobra.manipulation.modify import rename_genes\n",
    "\n",
    "for mod in models:\n",
    "    model=cobra.io.load_json_model(mod)\n",
    "    for column in geneIDs_matrix.columns:\n",
    "        if column in mod:\n",
    "            currentStrain=column\n",
    "    \n",
    "    IDMapping=geneIDs_matrix[currentStrain].to_dict()\n",
    "    IDMappingParsed = {k:v for k,v in IDMapping.items() if v != 'None'}\n",
    "    \n",
    "    rename_genes(model,IDMappingParsed)\n",
    "    cobra.io.json.save_json_model(model,mod, pretty=False)"
   ]
  },
  {
   "cell_type": "markdown",
   "metadata": {},
   "source": [
    "### Examine the draft strain specific model contents"
   ]
  },
  {
   "cell_type": "code",
   "execution_count": 20,
   "metadata": {},
   "outputs": [
    {
     "name": "stdout",
     "output_type": "stream",
     "text": [
      "AE004969.1 Number of Model Genes: 540 Number of Model Reactions: 1417\n"
     ]
    }
   ],
   "source": [
    "# gather the general information on the draft models\n",
    "for strain in hom_matrix.columns:\n",
    "    model=cobra.io.load_json_model(str(cwd+'/Gc_GENRE_2022/Generate_Gc_Model/DraftModels/'+strain+'.json'))\n",
    "    print (model.id,'Number of Model Genes:',len(model.genes),'Number of Model Reactions:',len(model.reactions))"
   ]
  },
  {
   "cell_type": "markdown",
   "metadata": {},
   "source": [
    "Test model for growth compared to the base model"
   ]
  },
  {
   "cell_type": "code",
   "execution_count": 24,
   "metadata": {},
   "outputs": [
    {
     "data": {
      "text/html": [
       "\n",
       "        <table>\n",
       "            <tr>\n",
       "                <td><strong>Name</strong></td>\n",
       "                <td>AE004969.1</td>\n",
       "            </tr><tr>\n",
       "                <td><strong>Memory address</strong></td>\n",
       "                <td>0x01a317050850</td>\n",
       "            </tr><tr>\n",
       "                <td><strong>Number of metabolites</strong></td>\n",
       "                <td>1297</td>\n",
       "            </tr><tr>\n",
       "                <td><strong>Number of reactions</strong></td>\n",
       "                <td>1417</td>\n",
       "            </tr><tr>\n",
       "                <td><strong>Number of groups</strong></td>\n",
       "                <td>0</td>\n",
       "            </tr><tr>\n",
       "                <td><strong>Objective expression</strong></td>\n",
       "                <td>1.0*Nm_Ess_biomass - 1.0*Nm_Ess_biomass_reverse_46af5</td>\n",
       "            </tr><tr>\n",
       "                <td><strong>Compartments</strong></td>\n",
       "                <td>Cytosol</td>\n",
       "            </tr>\n",
       "          </table>"
      ],
      "text/plain": [
       "<Model AE004969.1 at 0x1a317050850>"
      ]
     },
     "execution_count": 24,
     "metadata": {},
     "output_type": "execute_result"
    }
   ],
   "source": [
    "#load the draft models created from Notebook 2\n",
    "model=cobra.io.load_json_model(str(cwd+'/Gc_GENRE_2022/Generate_Gc_Model/DraftModels/'+strain+'.json'))\n",
    "model"
   ]
  },
  {
   "cell_type": "code",
   "execution_count": 26,
   "metadata": {},
   "outputs": [
    {
     "name": "stdout",
     "output_type": "stream",
     "text": [
      "-1.0425707535287215e-17\n"
     ]
    }
   ],
   "source": [
    "#Load each target Strain model, initialize it to Gc minimal media and see if the model can optimize for\n",
    "# biomass production\n",
    "\n",
    "with model:\n",
    "    complete(model)\n",
    "    print (model.slim_optimize())"
   ]
  },
  {
   "cell_type": "code",
   "execution_count": 27,
   "metadata": {},
   "outputs": [
    {
     "data": {
      "text/plain": [
       "6.86768839817138"
      ]
     },
     "execution_count": 27,
     "metadata": {},
     "output_type": "execute_result"
    }
   ],
   "source": [
    "# We see that however the base model can synthesize biomass in this condition\n",
    "complete(base)\n",
    "base.objective =\"Nm_Ess_biomass\"\n",
    "base.slim_optimize()"
   ]
  },
  {
   "cell_type": "code",
   "execution_count": null,
   "metadata": {},
   "outputs": [],
   "source": []
  },
  {
   "cell_type": "markdown",
   "metadata": {},
   "source": [
    "Because no growth occurs for Gc, the model must be curated/gapfilled. Reactions that are essential for running the model must be added, additionally manual curation for gene presence/absence must be conducted. See FA1090 Model Annotation Decision Notes (in Generate Gc Model Folder) for notes on curation choices."
   ]
  },
  {
   "cell_type": "code",
   "execution_count": 28,
   "metadata": {},
   "outputs": [],
   "source": [
    "#Gather the list of base strain genes that have no homolog in strain of interest, an input to the below function\n",
    "hom_matrix=pd.read_csv(cwd+'/Gc_GENRE_2022/Generate_Gc_Model/Matrices/ortho_matrix.csv')\n",
    "hom_matrix=hom_matrix.set_index('Unnamed: 0')\n",
    "strain=hom_matrix['AE004969.1']\n",
    "missingGenes=list(strain[strain==0.0].index)"
   ]
  },
  {
   "cell_type": "code",
   "execution_count": 29,
   "metadata": {},
   "outputs": [],
   "source": [
    "def gapfill_multi(model, missing_genes, **kwargs):\n",
    "    \"\"\"\n",
    "    Generate a list of gapfilling reactions from a list of missing genes for a strain-specific model.\n",
    "    \n",
    "    :param model: COBRA model for the base strain with the objective coefficient for the reaction of interest (e.g. biomass reaction) set to 1.\n",
    "    \n",
    "    :param missing_genes: list of genes with no homologs in the strain of interest.\n",
    "    \n",
    "    :param lower_bound: minimum allowable yield of gapfilled model.\n",
    "    \n",
    "    :param biomass: override the current model settings and temporarily assign the objective coefficient for a function of interest to 1.\n",
    "    \n",
    "    :return: a list of gapfilling reactions.\n",
    "    \n",
    "    \"\"\"\n",
    "    \n",
    "    if 'lower_bound' in kwargs.keys():\n",
    "        lower_bound = kwargs['lower_bound']\n",
    "    else:\n",
    "        lower_bound = model.optimize().objective_value*0.9\n",
    "        \n",
    "    biomass_reactions = [rx.id for rx in model.reactions if rx.objective_coefficient == 1]\n",
    "    if 'biomass' in kwargs.keys():\n",
    "        biomass = kwargs['biomass']\n",
    "        if len(biomass_reactions) > 1:\n",
    "            for rx in set(biomass_reactions) - {biomass}:\n",
    "                model.reactions.get_by_id(rx).objective_coefficient = 0\n",
    "                 \n",
    "    else:\n",
    "        if len(biomass_reactions) > 1:\n",
    "            raise Exception(\"This model has more than one objective. \\n Please adjust the objective coefficient to 1 for the chosen objective reaction (e.g. biomass or ATP) and 0 for the rest of the reactions, \\n or specify the reaction ID to use as an objective.\")\n",
    "        if len(biomass_reactions) > 1:\n",
    "            raise Exception(\"The model doesn't have an objective function. Please set the appropriate objective coefficient to 1, or specify the reaction ID to use as an objective.\")\n",
    "        biomass = biomass_reactions[0]\n",
    "        \n",
    "        \n",
    "    model.solver.configuration.tolerances.feasibility = 1e-9\n",
    "    constraints = []\n",
    "    indicators = []\n",
    "\n",
    "    for rx in cobra.manipulation.find_gene_knockout_reactions(model, missing_genes):\n",
    "\n",
    "        indicator = model.problem.Variable('%s_i'%rx.id , type = 'binary')\n",
    "        indicators.append(indicator)\n",
    "\n",
    "        new_cstr1 = model.problem.Constraint( rx.flux_expression - rx.upper_bound*indicator ,ub = 0)\n",
    "        new_cstr2 = model.problem.Constraint(-rx.flux_expression + rx.lower_bound*indicator ,ub = 0)\n",
    "        constraints += [new_cstr1, new_cstr2]\n",
    "        model.add_cons_vars([new_cstr1, new_cstr2, indicator])\n",
    "\n",
    "    model.reactions.get_by_id(biomass).lower_bound = lower_bound\n",
    "    model.objective = model.problem.Objective(-sum(indicators))\n",
    "    sol = model.optimize()\n",
    "    indicator_results = [ind.name[:-2] for ind in indicators if ind.primal != 0.0]\n",
    "    \n",
    "    # removing changes to model\n",
    "    model.remove_cons_vars(constraints+indicators)\n",
    "    for rx in set(biomass_reactions):\n",
    "        model.reactions.get_by_id(rx).objective_coefficient = 1   \n",
    "        \n",
    "    return indicator_results"
   ]
  },
  {
   "cell_type": "code",
   "execution_count": 30,
   "metadata": {},
   "outputs": [
    {
     "name": "stdout",
     "output_type": "stream",
     "text": [
      "-3.95399142022917e-18\n"
     ]
    }
   ],
   "source": [
    "# We see that in this condition the model cannot synthesize biomass  as per \n",
    "# above analysis\n",
    "model=cobra.io.load_json_model(cwd+'/Gc_GENRE_2022/Generate_Gc_Model/DraftModels/AE004969.1.json')\n",
    "\n",
    "#Set reaction bounds to 1000\n",
    "for reaction in model.reactions:\n",
    "     if reaction.lower_bound < -4:\n",
    "            reaction.lower_bound=-1000.\n",
    "for reaction in model.reactions:\n",
    "     if reaction.upper_bound > 4:\n",
    "            reaction.upper_bound=1000.\n",
    "            \n",
    "MDM(model)\n",
    "model.objective =\"Nm_Ess_biomass\"\n",
    "print (model.slim_optimize())"
   ]
  },
  {
   "cell_type": "code",
   "execution_count": 32,
   "metadata": {
    "tags": []
   },
   "outputs": [
    {
     "name": "stdout",
     "output_type": "stream",
     "text": [
      "1.0557843488117042\n"
     ]
    }
   ],
   "source": [
    "# We see that however the base model can synthesize biomass in this condition\n",
    "base=cobra.io.load_json_model(cwd+'/Gc_GENRE_2022/Models/Nmb_iTM560.json')\n",
    "\n",
    "#Set reaction bounds to 1000\n",
    "for reaction in base.reactions:\n",
    "     if reaction.lower_bound < -4:\n",
    "            reaction.lower_bound=-1000.\n",
    "for reaction in base.reactions:\n",
    "     if reaction.upper_bound > 4:\n",
    "            reaction.upper_bound=1000.\n",
    "\n",
    "MDM(base)\n",
    "base.objective =\"Nm_Ess_biomass\"\n",
    "print (base.slim_optimize())\n"
   ]
  },
  {
   "cell_type": "code",
   "execution_count": 35,
   "metadata": {},
   "outputs": [
    {
     "data": {
      "text/plain": [
       "['DHPTDCs',\n",
       " 'MAc2',\n",
       " 'H2Otpp',\n",
       " 'G3PAT181',\n",
       " 'GTPCI',\n",
       " 'PPPGO3',\n",
       " 'CO2tpp',\n",
       " 'DPR',\n",
       " 'FE3Ri',\n",
       " 'COBALT2t1pp',\n",
       " 'CU2tpp',\n",
       " 'PERD',\n",
       " 'G3PAT120',\n",
       " 'T2DECAI',\n",
       " 'PMDPHT',\n",
       " 'G3PAT180',\n",
       " 'G3PAT140',\n",
       " 'MOBDabcpp',\n",
       " 'ZN2tpp',\n",
       " 'G3PAT141',\n",
       " 'CAt1pp',\n",
       " 'ETOHt2rpp',\n",
       " 'DNMPPA',\n",
       " 'G3PAT161ab',\n",
       " 'THZPSN',\n",
       " 'E4PD',\n",
       " 'FCLT',\n",
       " 'MAc1',\n",
       " 'G3PAT160',\n",
       " 'O2tpp']"
      ]
     },
     "execution_count": 35,
     "metadata": {},
     "output_type": "execute_result"
    }
   ],
   "source": [
    "#By running the above function we obtain the list of candidate reactions\n",
    "base\n",
    "gapfill_multi(base, missingGenes)"
   ]
  },
  {
   "cell_type": "markdown",
   "metadata": {},
   "source": [
    "Output 0.1 MDM media\n",
    "['G3PAT141',\n",
    " 'MOBDabcpp',\n",
    " 'G3PAT140',\n",
    " 'MAc1',\n",
    " 'G3PAT160',\n",
    " 'G3PAT161ab',\n",
    " 'H2Otex',\n",
    " 'G3PAT180',\n",
    " 'MAc2',\n",
    " 'G3PAT181',\n",
    " 'G3PAT120',\n",
    " 'T2DECAI'\n",
    "\n",
    "Output from 0.1 complete media\n",
    "\n",
    "['G3PAT141',\n",
    " 'MOBDabcpp',\n",
    " 'COBALT2t1pp',\n",
    " 'ZN2tpp',\n",
    " 'MAc1',\n",
    " 'G3PAT160',\n",
    " 'O2tpp',\n",
    " 'G3PAT161ab',\n",
    " 'G3PAT180',\n",
    " 'MAc2',\n",
    " 'G3PAT181',\n",
    " 'CAt1pp',\n",
    " 'MALTpp',\n",
    " 'G3PAT140',\n",
    " 'DPR',\n",
    " 'FE3Ri',\n",
    " 'Cuabcpp',\n",
    " 'T2DECAI',\n",
    " 'G3PAT120']\n",
    " \n",
    " \n",
    "Output from 0.9 complete media\n",
    "#['G3PAT141',\n",
    " 'MOBDabcpp',\n",
    " 'COBALT2t1pp',\n",
    " 'ZN2tpp',\n",
    " 'DHPTDCs',\n",
    " 'MAc1',\n",
    " 'G3PAT160',\n",
    " 'O2tpp',\n",
    " 'G3PAT161ab',\n",
    " 'H2Otex',\n",
    " 'DNMPPA',\n",
    " 'G3PAT180',\n",
    " 'H2Otpp',\n",
    " 'MAc2',\n",
    " 'G3PAT181',\n",
    " 'CAt1pp',\n",
    " 'MALTpp',\n",
    " 'GTPCI',\n",
    " 'CO2tpp',\n",
    " 'PMDPHT',\n",
    " 'G3PAT140',\n",
    " 'DPR',\n",
    " 'FE3Ri',\n",
    " 'PHEMEtpp',\n",
    " 'CU2tpp',\n",
    " 'T2DECAI',\n",
    " 'G3PAT120',\n",
    " 'ETOHt2rpp']\n",
    "#ZN2tpp is ZupT in mening. This gene is absent in Gc. \n",
    "#All other genes are orphan or spontaneous reactions.\n"
   ]
  },
  {
   "cell_type": "markdown",
   "metadata": {},
   "source": [
    "Use these reactions to identify reactions that must be added/tailored to Gc model to allow growth. "
   ]
  }
 ],
 "metadata": {
  "kernelspec": {
   "display_name": "Python 3",
   "language": "python",
   "name": "python3"
  },
  "language_info": {
   "codemirror_mode": {
    "name": "ipython",
    "version": 3
   },
   "file_extension": ".py",
   "mimetype": "text/x-python",
   "name": "python",
   "nbconvert_exporter": "python",
   "pygments_lexer": "ipython3",
   "version": "3.8.8"
  }
 },
 "nbformat": 4,
 "nbformat_minor": 4
}
