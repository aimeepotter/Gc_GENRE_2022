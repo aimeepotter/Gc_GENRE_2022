{
 "cells": [
  {
   "cell_type": "markdown",
   "metadata": {},
   "source": [
    "# Notebook 1: Homology matrix generation from genome sequences\n",
    "\n",
    "This notebook is based on the 2020 tutorial published in Nature Protocols (PMID: 31863076). Notebook 1a-d is used to generate a draft GENRE for Gc strain FA1090. This notebook uses a model of Neisseria meningitidis MC58, Nmb_iTM560 (PMID: 22208880), as a scaffold. This notebook generates a homology matrices using the Neisseria meningitidis genome (AE002098.2) and Neisseria gonorrhoeae FA1090 genome (AE004969.1) from NCBI. \n",
    "\n",
    "Code and textual annotations from the 2020 protocol are preserved, and edited as appropriate for this application. \n",
    "\n",
    "This is the the first notebook in the tutorial to create homology matrix from genome sequences.There are four major steps in this notebook\n",
    "1. Download the genome annotation (GenBank files) from NCBI, and generate fasta files (protein &nucleotide) from them\n",
    "2. Perform BLASTp to find homologous proteins in strains of interest\n",
    "3. Use best bidirectional hits to create gene presence/absence matrix\n",
    "4. Supplementary for best practice: use BLASTn to check if we have missed any unannotated open reading frames and retain these genes in orthology matrix as well as guide future manual curation"
   ]
  },
  {
   "cell_type": "code",
   "execution_count": 1,
   "metadata": {},
   "outputs": [],
   "source": [
    "#import packages needed\n",
    "import pandas as pd\n",
    "from glob import glob\n",
    "from Bio import Entrez, SeqIO\n",
    "import os"
   ]
  },
  {
   "cell_type": "code",
   "execution_count": 2,
   "metadata": {},
   "outputs": [],
   "source": [
    "#Simplify reading/writing files\n",
    "cwd=os.path.realpath(os.path.join(os.path.dirname(os.getcwd()),\"..\",\"..\"))"
   ]
  },
  {
   "cell_type": "code",
   "execution_count": 3,
   "metadata": {},
   "outputs": [
    {
     "data": {
      "text/plain": [
       "'C:\\\\Users\\\\Aimee\\\\Documents\\\\Metabolic_Modeling'"
      ]
     },
     "execution_count": 3,
     "metadata": {},
     "output_type": "execute_result"
    }
   ],
   "source": [
    "os.path.realpath(os.path.join(os.path.dirname(os.getcwd()),\"..\",\"..\"))"
   ]
  },
  {
   "cell_type": "code",
   "execution_count": 4,
   "metadata": {},
   "outputs": [
    {
     "data": {
      "text/html": [
       "<div>\n",
       "<style scoped>\n",
       "    .dataframe tbody tr th:only-of-type {\n",
       "        vertical-align: middle;\n",
       "    }\n",
       "\n",
       "    .dataframe tbody tr th {\n",
       "        vertical-align: top;\n",
       "    }\n",
       "\n",
       "    .dataframe thead th {\n",
       "        text-align: right;\n",
       "    }\n",
       "</style>\n",
       "<table border=\"1\" class=\"dataframe\">\n",
       "  <thead>\n",
       "    <tr style=\"text-align: right;\">\n",
       "      <th></th>\n",
       "      <th>Strain</th>\n",
       "      <th>NCBI ID</th>\n",
       "      <th>Pathotype</th>\n",
       "    </tr>\n",
       "  </thead>\n",
       "  <tbody>\n",
       "    <tr>\n",
       "      <th>0</th>\n",
       "      <td>Neisseria gonorrhoeae FA1090</td>\n",
       "      <td>AE004969.1</td>\n",
       "      <td>GC</td>\n",
       "    </tr>\n",
       "  </tbody>\n",
       "</table>\n",
       "</div>"
      ],
      "text/plain": [
       "                         Strain     NCBI ID Pathotype\n",
       "0  Neisseria gonorrhoeae FA1090  AE004969.1        GC"
      ]
     },
     "execution_count": 4,
     "metadata": {},
     "output_type": "execute_result"
    }
   ],
   "source": [
    "# Load the information on the strains we will be working with in this tutorial\n",
    "StrainsOfInterest=pd.read_excel(cwd+\"/Gc_GENRE_2022/Generate_Gc_Model/Strain_Information.xlsx\")\n",
    "StrainsOfInterest"
   ]
  },
  {
   "cell_type": "code",
   "execution_count": 5,
   "metadata": {},
   "outputs": [],
   "source": [
    "#The Reference Genome is as described in Mendum 2011 for Nmb_iTM560 (PMID: 22208880)\n",
    "referenceStrainID='AE002098.2'\n",
    "targetStrainIDs=list(StrainsOfInterest['NCBI ID'])"
   ]
  },
  {
   "cell_type": "markdown",
   "metadata": {},
   "source": [
    "## 1. Download genome annotations (GenBank files) to generate fasta files "
   ]
  },
  {
   "cell_type": "markdown",
   "metadata": {},
   "source": [
    "### Dowload genomes from NCBI\n",
    "Download the genome annotations (GenBank files) from NCBI for strains of interest. "
   ]
  },
  {
   "cell_type": "code",
   "execution_count": 6,
   "metadata": {},
   "outputs": [],
   "source": [
    "# define a function to download the annotated genebank files from NCBI\n",
    "def dl_genome(id, folder=cwd+'/Gc_GENRE_2022/Generate_Gc_Model/genomes'): # be sure get CORRECT ID\n",
    "    files=glob('%s/*.gb'%folder)\n",
    "    out_file = '%s/%s.gb'%(folder, id)\n",
    "\n",
    "    if out_file in files:\n",
    "        print (out_file, 'already downloaded')\n",
    "        return\n",
    "    else:\n",
    "        print ('downloading %s from NCBI'%id)\n",
    "        \n",
    "    from Bio import Entrez\n",
    "    Entrez.email = \"\"     #Insert email here for NCBI\n",
    "    handle = Entrez.efetch(db=\"nucleotide\", id=id, rettype=\"gb\", retmode=\"text\")\n",
    "    fout = open(out_file,'w')\n",
    "    fout.write(handle.read())\n",
    "    fout.close()"
   ]
  },
  {
   "cell_type": "code",
   "execution_count": 7,
   "metadata": {},
   "outputs": [
    {
     "name": "stdout",
     "output_type": "stream",
     "text": [
      "downloading AE004969.1 from NCBI\n"
     ]
    }
   ],
   "source": [
    "# execute the above function, and download the GenBank files for the Gc strain\n",
    "for strain in targetStrainIDs:\n",
    "    dl_genome(strain, folder=cwd+'/Gc_GENRE_2022/Generate_Gc_Model/genomes')"
   ]
  },
  {
   "cell_type": "markdown",
   "metadata": {},
   "source": [
    "### Examine the Downloaded Strains"
   ]
  },
  {
   "cell_type": "code",
   "execution_count": 8,
   "metadata": {},
   "outputs": [],
   "source": [
    "# define a function to gather information of the downloaded strains from the GenBank files\n",
    "def get_strain_info(folder='genomes'):\n",
    "    files = glob('%s/*.gb'%folder)\n",
    "    strain_info = []\n",
    "    \n",
    "    for file in files:\n",
    "        handle = open(file)\n",
    "        record = SeqIO.read(handle, \"genbank\")\n",
    "        \n",
    "        for f in record.features:\n",
    "            if f.type=='source':\n",
    "                info = {}\n",
    "                info['file'] = file\n",
    "                info['id'] = file.split('\\\\')[-1].split('.')[0]\n",
    "                for q in f.qualifiers.keys():\n",
    "                    info[q] = '|'.join(f.qualifiers[q])\n",
    "                strain_info.append(info)\n",
    "    return pd.DataFrame(strain_info)"
   ]
  },
  {
   "cell_type": "code",
   "execution_count": 9,
   "metadata": {},
   "outputs": [
    {
     "data": {
      "text/html": [
       "<div>\n",
       "<style scoped>\n",
       "    .dataframe tbody tr th:only-of-type {\n",
       "        vertical-align: middle;\n",
       "    }\n",
       "\n",
       "    .dataframe tbody tr th {\n",
       "        vertical-align: top;\n",
       "    }\n",
       "\n",
       "    .dataframe thead th {\n",
       "        text-align: right;\n",
       "    }\n",
       "</style>\n",
       "<table border=\"1\" class=\"dataframe\">\n",
       "  <thead>\n",
       "    <tr style=\"text-align: right;\">\n",
       "      <th></th>\n",
       "      <th>file</th>\n",
       "      <th>id</th>\n",
       "      <th>organism</th>\n",
       "      <th>mol_type</th>\n",
       "      <th>strain</th>\n",
       "      <th>db_xref</th>\n",
       "      <th>note</th>\n",
       "    </tr>\n",
       "  </thead>\n",
       "  <tbody>\n",
       "    <tr>\n",
       "      <th>0</th>\n",
       "      <td>C:\\Users\\Aimee\\Documents\\Metabolic_Modeling/Gc...</td>\n",
       "      <td>AE002098</td>\n",
       "      <td>Neisseria meningitidis MC58</td>\n",
       "      <td>genomic DNA</td>\n",
       "      <td>MC58</td>\n",
       "      <td>taxon:122586</td>\n",
       "      <td>serogroup: B</td>\n",
       "    </tr>\n",
       "    <tr>\n",
       "      <th>1</th>\n",
       "      <td>C:\\Users\\Aimee\\Documents\\Metabolic_Modeling/Gc...</td>\n",
       "      <td>AE004969</td>\n",
       "      <td>Neisseria gonorrhoeae FA 1090</td>\n",
       "      <td>genomic DNA</td>\n",
       "      <td>FA 1090</td>\n",
       "      <td>taxon:242231</td>\n",
       "      <td>NaN</td>\n",
       "    </tr>\n",
       "  </tbody>\n",
       "</table>\n",
       "</div>"
      ],
      "text/plain": [
       "                                                file        id  \\\n",
       "0  C:\\Users\\Aimee\\Documents\\Metabolic_Modeling/Gc...  AE002098   \n",
       "1  C:\\Users\\Aimee\\Documents\\Metabolic_Modeling/Gc...  AE004969   \n",
       "\n",
       "                        organism     mol_type   strain       db_xref  \\\n",
       "0    Neisseria meningitidis MC58  genomic DNA     MC58  taxon:122586   \n",
       "1  Neisseria gonorrhoeae FA 1090  genomic DNA  FA 1090  taxon:242231   \n",
       "\n",
       "           note  \n",
       "0  serogroup: B  \n",
       "1           NaN  "
      ]
     },
     "execution_count": 9,
     "metadata": {},
     "output_type": "execute_result"
    }
   ],
   "source": [
    "# information on the downloaded strain\n",
    "get_strain_info(folder=cwd+'/Gc_GENRE_2022/Generate_Gc_Model/genomes')"
   ]
  },
  {
   "cell_type": "markdown",
   "metadata": {},
   "source": [
    "### Generate FASTA files for both Protein and Nucleotide Pipelines\n",
    "From the GenBank file, we can extract sequence and annotation information to generate fasta files for the protein and nucleotide analyses. The resulting fasta files will then be used in step 2 as input for BLAST "
   ]
  },
  {
   "cell_type": "code",
   "execution_count": 10,
   "metadata": {},
   "outputs": [],
   "source": [
    "# define a function to parse the Genbank file to generate fasta files for both protein and nucleotide sequences\n",
    "def parse_genome(id, type='prot', in_folder='genomes', out_folder='prots', overwrite=1):\n",
    "\n",
    "    in_file = '%s/%s.gb'%(in_folder, id)\n",
    "    out_file='%s/%s.fa'%(out_folder, id)\n",
    "    files =glob('%s/*.fa'%out_folder)\n",
    "    \n",
    "    if out_file in files and overwrite==0:\n",
    "        print (out_file, 'already parsed')\n",
    "        return\n",
    "    else:\n",
    "        print ('parsing %s'%id)\n",
    "    \n",
    "    handle = open(in_file)\n",
    "    \n",
    "    fout = open(out_file,'w')\n",
    "    x = 0\n",
    "    \n",
    "    records = SeqIO.parse(handle, \"genbank\")\n",
    "    for record in records:\n",
    "        for f in record.features:\n",
    "            if f.type=='CDS':\n",
    "                seq=f.extract(record.seq)\n",
    "                \n",
    "                if type=='nucl':\n",
    "                    seq=str(seq)\n",
    "                else:\n",
    "                    seq=str(seq.translate())\n",
    "                    \n",
    "                if 'locus_tag' in f.qualifiers.keys():\n",
    "                    locus = f.qualifiers['locus_tag'][0]\n",
    "                elif 'gene' in f.qualifiers.keys():\n",
    "                    locus = f.qualifiers['gene'][0]\n",
    "                else:\n",
    "                    locus = 'gene_%i'%x\n",
    "                    x+=1\n",
    "                fout.write('>%s\\n%s\\n'%(locus, seq))\n",
    "    fout.close()"
   ]
  },
  {
   "cell_type": "code",
   "execution_count": 11,
   "metadata": {},
   "outputs": [
    {
     "name": "stdout",
     "output_type": "stream",
     "text": [
      "parsing AE004969.1\n",
      "parsing AE004969.1\n"
     ]
    }
   ],
   "source": [
    "# Generate fasta files for the Gc strain of interest\n",
    "for strain in targetStrainIDs:\n",
    "    parse_genome(strain, type='prot', in_folder=cwd+'/Gc_GENRE_2022/Generate_Gc_Model/genomes', out_folder=cwd+'/Gc_GENRE_2022/Generate_Gc_Model/prots')\n",
    "    parse_genome(strain, type='nucl', in_folder=cwd+'/Gc_GENRE_2022/Generate_Gc_Model/genomes', out_folder=cwd+'/Gc_GENRE_2022/Generate_Gc_Model/nucl')\n"
   ]
  },
  {
   "cell_type": "code",
   "execution_count": 12,
   "metadata": {},
   "outputs": [
    {
     "name": "stdout",
     "output_type": "stream",
     "text": [
      "parsing AE002098.2\n",
      "parsing AE002098.2\n"
     ]
    }
   ],
   "source": [
    "#Also generate fasta files for the reference strain\n",
    "parse_genome(referenceStrainID, type='nucl', in_folder=cwd+'/Gc_GENRE_2022/Generate_Gc_Model/genomes', out_folder=cwd+'/Gc_GENRE_2022/Generate_Gc_Model/nucl')\n",
    "parse_genome(referenceStrainID, type='prots', in_folder=cwd+'/Gc_GENRE_2022/Generate_Gc_Model/genomes', out_folder=cwd+'/Gc_GENRE_2022/Generate_Gc_Model/prots')"
   ]
  },
  {
   "cell_type": "markdown",
   "metadata": {},
   "source": [
    "## 2. Perform BLAST to find homologous proteins in strains of interest"
   ]
  },
  {
   "cell_type": "markdown",
   "metadata": {},
   "source": [
    "### Make BLAST DB for each of the target strains for both Protein and Nucleotide Pipelines\n",
    "\n",
    "In this tutorial, we will run both BLASTp for proteins and BLSATn for nucleotides. BLASTp will be used as the main approach to identify homologous proteins in reference strain and other strains of interest, while BLASTn will be used as a supplementary method to check for any unannotated genes"
   ]
  },
  {
   "cell_type": "code",
   "execution_count": 13,
   "metadata": {},
   "outputs": [],
   "source": [
    "# Define a function to make blast database for either protein of nucleotide\n",
    "def make_blast_db(id,folder=cwd+'/Gc_GENRE_2022/Generate_Gc_Model/prots',db_type='prot'):\n",
    "    import os\n",
    "    \n",
    "    out_file ='%s/%s.fa.pin'%(folder, id)\n",
    "    files =glob('%s/*.fa.pin'%folder)\n",
    "    \n",
    "    if out_file in files:\n",
    "        print (id, 'already has a blast db')\n",
    "        return\n",
    "    if db_type=='nucl':\n",
    "        ext='fna'\n",
    "    else:\n",
    "        ext='fa'\n",
    "\n",
    "    cmd_line='makeblastdb -in %s/%s.%s -dbtype %s' %(folder, id, ext, db_type)\n",
    "    \n",
    "    print ('making blast db with following command line...')\n",
    "    print (cmd_line)\n",
    "    os.system(cmd_line)"
   ]
  },
  {
   "cell_type": "code",
   "execution_count": 14,
   "metadata": {},
   "outputs": [
    {
     "name": "stdout",
     "output_type": "stream",
     "text": [
      "making blast db with following command line...\n",
      "makeblastdb -in C:\\Users\\Aimee\\Documents\\Metabolic_Modeling/Gc_GENRE_2022/Generate_Gc_Model/prots/AE004969.1.fa -dbtype prot\n",
      "making blast db with following command line...\n",
      "makeblastdb -in C:\\Users\\Aimee\\Documents\\Metabolic_Modeling/Gc_GENRE_2022/Generate_Gc_Model/prots/AE002098.2.fa -dbtype prot\n"
     ]
    }
   ],
   "source": [
    "# make protein sequence databases \n",
    "# Because we are performing bi-directional blast, we make databases from both reference strain and strains of interest\n",
    "for strain in targetStrainIDs:\n",
    "    make_blast_db(strain,folder=cwd+'/Gc_GENRE_2022/Generate_Gc_Model/prots',db_type='prot')\n",
    "make_blast_db(referenceStrainID,folder=cwd+'/Gc_GENRE_2022/Generate_Gc_Model/prots',db_type='prot')"
   ]
  },
  {
   "cell_type": "markdown",
   "metadata": {},
   "source": [
    "### Define functions to run protein BLAST and get sequence lengths\n",
    "- BLASTp will be the main approach used here to identify homologous proteins between strains \n",
    "- Aside from sequence similarity, we also want to ensure the coverage of sequence mapping is sufficient. Therefore, we need to identiy the sequence length for each protein and compare it with the alignment length."
   ]
  },
  {
   "cell_type": "code",
   "execution_count": 15,
   "metadata": {},
   "outputs": [],
   "source": [
    "# define a function to run BLASTp\n",
    "def run_blastp(seq,db,in_folder=cwd+'/Gc_GENRE_2022/Generate_Gc_Model/prots', out_folder=cwd+'/Gc_GENRE_2022/Generate_Gc_Model/bbh', out=None,outfmt=6,evalue=0.001,threads=1):\n",
    "    import os\n",
    "    if out==None:\n",
    "        out='%s/%s_vs_%s.txt'%(out_folder, seq, db)\n",
    "        print(out)\n",
    "    \n",
    "    files =glob('%s/*.txt'%out_folder)\n",
    "    if out in files:\n",
    "        print (seq, 'already blasted')\n",
    "        return\n",
    "    \n",
    "    print ('blasting %s vs %s'%(seq, db))\n",
    "    \n",
    "    db = '%s/%s.fa'%(in_folder, db)\n",
    "    seq = '%s/%s.fa'%(in_folder, seq)\n",
    "    cmd_line='blastp -db %s -query %s -out %s -evalue %s -outfmt %s -num_threads %i' \\\n",
    "    %(db, seq, out, evalue, outfmt, threads)\n",
    "    \n",
    "    print ('running blastp with following command line...')\n",
    "    print (cmd_line)\n",
    "    os.system(cmd_line)\n",
    "    return out"
   ]
  },
  {
   "cell_type": "code",
   "execution_count": 16,
   "metadata": {},
   "outputs": [],
   "source": [
    "# define a function to get sequence length \n",
    "\n",
    "def get_gene_lens(query, in_folder=cwd+'/Gc_GENRE_2022/Generate_Gc_Model/prots'):\n",
    "\n",
    "    file = '%s/%s.fa'%(in_folder, query)\n",
    "    handle = open(file)\n",
    "    records = SeqIO.parse(handle, \"fasta\")\n",
    "    out = []\n",
    "    \n",
    "    for record in records:\n",
    "        out.append({'gene':record.name, 'gene_length':len(record.seq)})\n",
    "    \n",
    "    out = pd.DataFrame(out)\n",
    "    return out"
   ]
  },
  {
   "cell_type": "markdown",
   "metadata": {},
   "source": [
    "## 3. Use Bi-Directional BLASTp Best Hits to create gene presence/absence matrix"
   ]
  },
  {
   "cell_type": "markdown",
   "metadata": {},
   "source": [
    "### Obtain Bi-Directional BLASTp Best Hits\n",
    "\n",
    "From the above BLASTp results, we can obtain Bi-Directional BLASTp Best Hits to identify homologous proteins. Note beside gene similarity score, the coverage of alignment is also used to filter mapping results. "
   ]
  },
  {
   "cell_type": "code",
   "execution_count": 17,
   "metadata": {},
   "outputs": [],
   "source": [
    "# define a function to get Bi-Directional BLASTp Best Hits\n",
    "def get_bbh(query, subject, in_folder=cwd+'/Gc_GENRE_2022/Generate_Gc_Model/bbh'):    \n",
    "    \n",
    "    #Utilize the defined protein BLAST function\n",
    "    run_blastp(query, subject)\n",
    "    run_blastp(subject, query)\n",
    "    \n",
    "    query_lengths = get_gene_lens(query, in_folder=cwd+'/Gc_GENRE_2022/Generate_Gc_Model/prots')\n",
    "    subject_lengths = get_gene_lens(subject, in_folder=cwd+'/Gc_GENRE_2022/Generate_Gc_Model/prots')\n",
    "    \n",
    "    #Define the output file of this BLAST\n",
    "    out_file = '%s/%s_vs_%s_parsed.csv'%(in_folder,query, subject)\n",
    "    files=glob('%s/*_parsed.csv'%in_folder)\n",
    "    \n",
    "    #Combine the results of the protein BLAST into a dataframe\n",
    "    print ('parsing BBHs for', query, subject)\n",
    "    cols = ['gene', 'subject', 'PID', 'alnLength', 'mismatchCount', 'gapOpenCount', 'queryStart', 'queryEnd', 'subjectStart', 'subjectEnd', 'eVal', 'bitScore']\n",
    "    bbh=pd.read_csv('%s/%s_vs_%s.txt'%(in_folder,query, subject), sep='\\t', names=cols)\n",
    "    bbh = pd.merge(bbh, query_lengths) \n",
    "    bbh['COV'] = bbh['alnLength']/bbh['gene_length']\n",
    "    \n",
    "    bbh2=pd.read_csv('%s/%s_vs_%s.txt'%(in_folder,subject, query), sep='\\t', names=cols)\n",
    "    bbh2 = pd.merge(bbh2, subject_lengths) \n",
    "    bbh2['COV'] = bbh2['alnLength']/bbh2['gene_length']\n",
    "    out = pd.DataFrame()\n",
    "    \n",
    "    # Filter the genes based on coverage\n",
    "    bbh = bbh[bbh.COV>=0.25]\n",
    "    bbh2 = bbh2[bbh2.COV>=0.25]\n",
    "    \n",
    "    #Delineate the best hits from the BLAST\n",
    "    for g in bbh.gene.unique():\n",
    "        res = bbh[bbh.gene==g]\n",
    "        if len(res)==0:\n",
    "            continue\n",
    "        best_hit = res.loc[res.PID.idxmax()]\n",
    "        best_gene = best_hit.subject\n",
    "        res2 = bbh2[bbh2.gene==best_gene]\n",
    "        if len(res2)==0:\n",
    "            continue\n",
    "        best_hit2 = res2.loc[res2.PID.idxmax()]\n",
    "        best_gene2 = best_hit2.subject\n",
    "        if g==best_gene2:\n",
    "            best_hit['BBH'] = '<=>'\n",
    "        else:\n",
    "            best_hit['BBH'] = '->'\n",
    "        out=pd.concat([out, pd.DataFrame(best_hit).transpose()])\n",
    "    \n",
    "    #Save the final file to a designated CSV file    \n",
    "    out.to_csv(out_file)"
   ]
  },
  {
   "cell_type": "code",
   "execution_count": 18,
   "metadata": {
    "scrolled": true
   },
   "outputs": [
    {
     "name": "stdout",
     "output_type": "stream",
     "text": [
      "C:\\Users\\Aimee\\Documents\\Metabolic_Modeling/Gc_GENRE_2022/Generate_Gc_Model/bbh/AE002098.2_vs_AE004969.1.txt\n",
      "blasting AE002098.2 vs AE004969.1\n",
      "running blastp with following command line...\n",
      "blastp -db C:\\Users\\Aimee\\Documents\\Metabolic_Modeling/Gc_GENRE_2022/Generate_Gc_Model/prots/AE004969.1.fa -query C:\\Users\\Aimee\\Documents\\Metabolic_Modeling/Gc_GENRE_2022/Generate_Gc_Model/prots/AE002098.2.fa -out C:\\Users\\Aimee\\Documents\\Metabolic_Modeling/Gc_GENRE_2022/Generate_Gc_Model/bbh/AE002098.2_vs_AE004969.1.txt -evalue 0.001 -outfmt 6 -num_threads 1\n",
      "C:\\Users\\Aimee\\Documents\\Metabolic_Modeling/Gc_GENRE_2022/Generate_Gc_Model/bbh/AE004969.1_vs_AE002098.2.txt\n",
      "blasting AE004969.1 vs AE002098.2\n",
      "running blastp with following command line...\n",
      "blastp -db C:\\Users\\Aimee\\Documents\\Metabolic_Modeling/Gc_GENRE_2022/Generate_Gc_Model/prots/AE002098.2.fa -query C:\\Users\\Aimee\\Documents\\Metabolic_Modeling/Gc_GENRE_2022/Generate_Gc_Model/prots/AE004969.1.fa -out C:\\Users\\Aimee\\Documents\\Metabolic_Modeling/Gc_GENRE_2022/Generate_Gc_Model/bbh/AE004969.1_vs_AE002098.2.txt -evalue 0.001 -outfmt 6 -num_threads 1\n",
      "parsing BBHs for AE002098.2 AE004969.1\n"
     ]
    },
    {
     "name": "stderr",
     "output_type": "stream",
     "text": [
      "<ipython-input-17-c33a3115282b>:44: SettingWithCopyWarning: \n",
      "A value is trying to be set on a copy of a slice from a DataFrame\n",
      "\n",
      "See the caveats in the documentation: https://pandas.pydata.org/pandas-docs/stable/user_guide/indexing.html#returning-a-view-versus-a-copy\n",
      "  best_hit['BBH'] = '<=>'\n",
      "C:\\Users\\Aimee\\anaconda3\\lib\\site-packages\\pandas\\core\\indexing.py:692: SettingWithCopyWarning: \n",
      "A value is trying to be set on a copy of a slice from a DataFrame\n",
      "\n",
      "See the caveats in the documentation: https://pandas.pydata.org/pandas-docs/stable/user_guide/indexing.html#returning-a-view-versus-a-copy\n",
      "  iloc._setitem_with_indexer(indexer, value, self.name)\n",
      "<ipython-input-17-c33a3115282b>:46: SettingWithCopyWarning: \n",
      "A value is trying to be set on a copy of a slice from a DataFrame\n",
      "\n",
      "See the caveats in the documentation: https://pandas.pydata.org/pandas-docs/stable/user_guide/indexing.html#returning-a-view-versus-a-copy\n",
      "  best_hit['BBH'] = '->'\n"
     ]
    }
   ],
   "source": [
    "# Execute the BLAST for each target strain against the reference strain, save results to 'bbh' i.e. \"bidirectional best\n",
    "# hits\" folder to create\n",
    "# homology matrix\n",
    "\n",
    "for strain in targetStrainIDs:\n",
    "    get_bbh(referenceStrainID,strain, in_folder=cwd+'/Gc_GENRE_2022/Generate_Gc_Model/bbh')"
   ]
  },
  {
   "cell_type": "markdown",
   "metadata": {},
   "source": [
    "### Parse the BLAST Results into one Homology Matrix of the Reconstruction Genes\n",
    "\n",
    "For the homology matrix, we only focus on genes that are present in the reference model"
   ]
  },
  {
   "cell_type": "code",
   "execution_count": 19,
   "metadata": {},
   "outputs": [
    {
     "name": "stdout",
     "output_type": "stream",
     "text": [
      "C:\\Users\\Aimee\\Documents\\Metabolic_Modeling/Gc_GENRE_2022/Generate_Gc_Model/bbh\\AE002098.2_vs_AE004969.1_parsed.csv (1675, 16)\n"
     ]
    }
   ],
   "source": [
    "#Load all the BLAST files between the reference strain and target strains\n",
    "\n",
    "blast_files=glob('%s/*_parsed.csv'%(cwd+'/Gc_GENRE_2022/Generate_Gc_Model/bbh'))\n",
    "\n",
    "for blast in blast_files:\n",
    "    bbh=pd.read_csv(blast)\n",
    "    print (blast,bbh.shape) "
   ]
  },
  {
   "cell_type": "code",
   "execution_count": 20,
   "metadata": {},
   "outputs": [],
   "source": [
    "#Load the base reconstruction to designate the list of genes within the model\n",
    "import cobra\n",
    "model = cobra.io.load_json_model(cwd+'/Gc_GENRE_2022/Models/Nmb_iTM560.json')\n",
    "listGeneIDs=[]\n",
    "for gene in model.genes:\n",
    "    listGeneIDs.append(gene.id)"
   ]
  },
  {
   "cell_type": "code",
   "execution_count": 21,
   "metadata": {
    "scrolled": true
   },
   "outputs": [],
   "source": [
    "#Create 2 matrices of N, rows where N is the number of model genes and M columns where M is the number of target strains\n",
    "#One matrix will be populated with the PID results from the blasts and another with the mapping of gene locus tags\n",
    "\n",
    "ortho_matrix=pd.DataFrame(index=listGeneIDs,columns=targetStrainIDs)\n",
    "geneIDs_matrix=pd.DataFrame(index=listGeneIDs,columns=targetStrainIDs)"
   ]
  },
  {
   "cell_type": "code",
   "execution_count": 22,
   "metadata": {},
   "outputs": [],
   "source": [
    "#Parse through each blast file and acquire pertinent information for each matrix for each of the base reconstruction genes\n",
    "for blast in blast_files:\n",
    "    bbh=pd.read_csv(blast)\n",
    "    listIDs=[]\n",
    "    listPID=[]\n",
    "    for r,row in ortho_matrix.iterrows():\n",
    "        try:\n",
    "            currentOrtholog=bbh[bbh['gene']==r].reset_index()\n",
    "            listIDs.append(currentOrtholog.iloc[0]['subject'])\n",
    "            listPID.append(currentOrtholog.iloc[0]['PID'])\n",
    "        except:\n",
    "            listIDs.append('None')\n",
    "            listPID.append(0)\n",
    "    for col in ortho_matrix.columns:\n",
    "        if col in blast:\n",
    "            ortho_matrix[col]=listPID\n",
    "            geneIDs_matrix[col]=listIDs"
   ]
  },
  {
   "cell_type": "markdown",
   "metadata": {},
   "source": [
    "### Apply Similarity Threshold to Binarize  Homology Matrix to Presence/Absence Matrix\n",
    "In this step, choose a threshold for the PID to determine if a gene is a absent/present in the strain of interest. We can then convert the homology matrix generated above into a binarized presence/absence matrix"
   ]
  },
  {
   "cell_type": "code",
   "execution_count": 23,
   "metadata": {},
   "outputs": [],
   "source": [
    "# Genes with a greater than 80% PID are considered present in the target strain genome \n",
    "# and consequently less than 80% are considered absent from the target strain genome\n",
    "for column in ortho_matrix:\n",
    "    ortho_matrix.loc[ortho_matrix[column]<=80.0,column]=0\n",
    "    ortho_matrix.loc[ortho_matrix[column]>80.0,column]=1"
   ]
  },
  {
   "cell_type": "code",
   "execution_count": 24,
   "metadata": {
    "scrolled": true
   },
   "outputs": [
    {
     "data": {
      "text/html": [
       "<div>\n",
       "<style scoped>\n",
       "    .dataframe tbody tr th:only-of-type {\n",
       "        vertical-align: middle;\n",
       "    }\n",
       "\n",
       "    .dataframe tbody tr th {\n",
       "        vertical-align: top;\n",
       "    }\n",
       "\n",
       "    .dataframe thead th {\n",
       "        text-align: right;\n",
       "    }\n",
       "</style>\n",
       "<table border=\"1\" class=\"dataframe\">\n",
       "  <thead>\n",
       "    <tr style=\"text-align: right;\">\n",
       "      <th></th>\n",
       "      <th>AE004969.1</th>\n",
       "    </tr>\n",
       "  </thead>\n",
       "  <tbody>\n",
       "    <tr>\n",
       "      <th>Sgene</th>\n",
       "      <td>0.0</td>\n",
       "    </tr>\n",
       "    <tr>\n",
       "      <th>NMB0319</th>\n",
       "      <td>1.0</td>\n",
       "    </tr>\n",
       "    <tr>\n",
       "      <th>NMB0182</th>\n",
       "      <td>1.0</td>\n",
       "    </tr>\n",
       "    <tr>\n",
       "      <th>NMB0453</th>\n",
       "      <td>1.0</td>\n",
       "    </tr>\n",
       "    <tr>\n",
       "      <th>NMB2039</th>\n",
       "      <td>0.0</td>\n",
       "    </tr>\n",
       "    <tr>\n",
       "      <th>...</th>\n",
       "      <td>...</td>\n",
       "    </tr>\n",
       "    <tr>\n",
       "      <th>NMB0930</th>\n",
       "      <td>0.0</td>\n",
       "    </tr>\n",
       "    <tr>\n",
       "      <th>NMB1315</th>\n",
       "      <td>1.0</td>\n",
       "    </tr>\n",
       "    <tr>\n",
       "      <th>NMB0544</th>\n",
       "      <td>1.0</td>\n",
       "    </tr>\n",
       "    <tr>\n",
       "      <th>NMB1823</th>\n",
       "      <td>1.0</td>\n",
       "    </tr>\n",
       "    <tr>\n",
       "      <th>NMB0175</th>\n",
       "      <td>0.0</td>\n",
       "    </tr>\n",
       "  </tbody>\n",
       "</table>\n",
       "<p>562 rows × 1 columns</p>\n",
       "</div>"
      ],
      "text/plain": [
       "         AE004969.1\n",
       "Sgene           0.0\n",
       "NMB0319         1.0\n",
       "NMB0182         1.0\n",
       "NMB0453         1.0\n",
       "NMB2039         0.0\n",
       "...             ...\n",
       "NMB0930         0.0\n",
       "NMB1315         1.0\n",
       "NMB0544         1.0\n",
       "NMB1823         1.0\n",
       "NMB0175         0.0\n",
       "\n",
       "[562 rows x 1 columns]"
      ]
     },
     "execution_count": 24,
     "metadata": {},
     "output_type": "execute_result"
    }
   ],
   "source": [
    "ortho_matrix"
   ]
  },
  {
   "cell_type": "markdown",
   "metadata": {},
   "source": [
    "## 4. Perform BLASTn to check unannotated open reading frames to guide manual curation \n",
    "At this juncture it may be useful to execute a supplementary nucleotide BLAST to check for unannotated genes, results here become candidates for manual curation. In this tutorial we retain unannotated genes that pass the threhsold for\n",
    "similarity and contain no premature stop codons"
   ]
  },
  {
   "cell_type": "code",
   "execution_count": 25,
   "metadata": {},
   "outputs": [],
   "source": [
    "#Define a function to generate FNA from the GBK files\n",
    "def gbk2fasta(gbk_filename):\n",
    "    faa_filename = '.'.join(gbk_filename.split('.')[:-1])+'.fna'\n",
    "    input_handle  = open(gbk_filename, \"r\")\n",
    "    output_handle = open(faa_filename, \"w\")\n",
    "\n",
    "    for seq_record in SeqIO.parse(input_handle, \"genbank\") :\n",
    "        print (\"Converting GenBank record %s\" % seq_record.id)\n",
    "        output_handle.write(\">%s %s\\n%s\\n\" % (\n",
    "               seq_record.id,\n",
    "               seq_record.description,\n",
    "               seq_record.seq))\n",
    "\n",
    "    output_handle.close()\n",
    "    input_handle.close()"
   ]
  },
  {
   "cell_type": "code",
   "execution_count": 26,
   "metadata": {},
   "outputs": [],
   "source": [
    "#Define function to run the BLASTn\n",
    "def run_blastn(seq, db,outfmt=6,evalue=0.001,threads=1):\n",
    "    import os\n",
    "    out = cwd+'/Gc_GENRE_2022/Generate_Gc_Model/nucl/'+seq+'_vs_'+db+'.txt'\n",
    "    seq = cwd+'/Gc_GENRE_2022/Generate_Gc_Model/nucl/'+seq+'.fa'\n",
    "    db = cwd+'/Gc_GENRE_2022/Generate_Gc_Model/genomes/'+db+'.fna'\n",
    "    \n",
    "    cmd_line='blastn -db %s -query %s -out %s -evalue %s -outfmt %s -num_threads %i' \\\n",
    "    %(db, seq, out, evalue, outfmt, threads)\n",
    "    \n",
    "    print ('running blastn with following command line...')\n",
    "    print (cmd_line)\n",
    "    os.system(cmd_line)\n",
    "    return out"
   ]
  },
  {
   "cell_type": "code",
   "execution_count": 27,
   "metadata": {},
   "outputs": [
    {
     "name": "stdout",
     "output_type": "stream",
     "text": [
      "making blast db with following command line...\n",
      "makeblastdb -in C:\\Users\\Aimee\\Documents\\Metabolic_Modeling/Gc_GENRE_2022/Generate_Gc_Model/genomes/AE004969.1.fna -dbtype nucl\n"
     ]
    }
   ],
   "source": [
    "# make nucleotide sequence databases \n",
    "for strain in targetStrainIDs:\n",
    "    make_blast_db(strain,folder=cwd+'/Gc_GENRE_2022/Generate_Gc_Model/genomes',db_type='nucl')"
   ]
  },
  {
   "cell_type": "code",
   "execution_count": 28,
   "metadata": {},
   "outputs": [
    {
     "name": "stdout",
     "output_type": "stream",
     "text": [
      "Converting GenBank record AE004969.1\n"
     ]
    }
   ],
   "source": [
    "# convert genbank files to fna files for strains of interest\n",
    "for strain in targetStrainIDs:\n",
    "    gbk2fasta(cwd+'/Gc_GENRE_2022/Generate_Gc_Model/genomes/'+strain+'.gb')"
   ]
  },
  {
   "cell_type": "code",
   "execution_count": 29,
   "metadata": {},
   "outputs": [
    {
     "name": "stdout",
     "output_type": "stream",
     "text": [
      "running blastn with following command line...\n",
      "blastn -db C:\\Users\\Aimee\\Documents\\Metabolic_Modeling/Gc_GENRE_2022/Generate_Gc_Model/genomes/AE004969.1.fna -query C:\\Users\\Aimee\\Documents\\Metabolic_Modeling/Gc_GENRE_2022/Generate_Gc_Model/nucl/AE002098.2.fa -out C:\\Users\\Aimee\\Documents\\Metabolic_Modeling/Gc_GENRE_2022/Generate_Gc_Model/nucl/AE002098.2_vs_AE004969.1.txt -evalue 0.001 -outfmt 6 -num_threads 1\n"
     ]
    }
   ],
   "source": [
    "# perform uni-directional BLASTn hit\n",
    "genome_blast_res=[]\n",
    "for strain in targetStrainIDs:\n",
    "    res = run_blastn(referenceStrainID,strain)\n",
    "    genome_blast_res.append(res)"
   ]
  },
  {
   "cell_type": "code",
   "execution_count": 30,
   "metadata": {},
   "outputs": [],
   "source": [
    "#define a function to parse through the nucleotide BLAST results and form one matrix of all the results\n",
    "def parse_nucl_blast(infile):\n",
    "    cols = ['gene', 'subject', 'PID', 'alnLength', 'mismatchCount', 'gapOpenCount', 'queryStart', 'queryEnd', 'subjectStart', 'subjectEnd', 'eVal', 'bitScore']\n",
    "    data = pd.read_csv(infile, sep='\\t', names=cols)\n",
    "    data = data[(data['PID']>80) & (data['alnLength']>0.8*data['queryEnd'])]\n",
    "    data2=data.groupby('gene').first()\n",
    "    return data2.reset_index()\n"
   ]
  },
  {
   "cell_type": "code",
   "execution_count": 31,
   "metadata": {
    "scrolled": true
   },
   "outputs": [],
   "source": [
    "# parse the nucleotide blast matrix \n",
    "na_matrix=pd.DataFrame()\n",
    "for file in genome_blast_res:\n",
    "    genes =parse_nucl_blast(file)\n",
    "    name ='.'.join(file.split('_')[-1].split('.')[:-1])\n",
    "    na_matrix = na_matrix.append(genes[['gene','subject','PID']])\n",
    "na_matrix = pd.pivot_table(na_matrix, index='gene', columns='subject',values='PID')"
   ]
  },
  {
   "cell_type": "code",
   "execution_count": 32,
   "metadata": {
    "scrolled": true
   },
   "outputs": [
    {
     "data": {
      "text/html": [
       "<div>\n",
       "<style scoped>\n",
       "    .dataframe tbody tr th:only-of-type {\n",
       "        vertical-align: middle;\n",
       "    }\n",
       "\n",
       "    .dataframe tbody tr th {\n",
       "        vertical-align: top;\n",
       "    }\n",
       "\n",
       "    .dataframe thead th {\n",
       "        text-align: right;\n",
       "    }\n",
       "</style>\n",
       "<table border=\"1\" class=\"dataframe\">\n",
       "  <thead>\n",
       "    <tr style=\"text-align: right;\">\n",
       "      <th>subject</th>\n",
       "      <th>AE004969.1</th>\n",
       "    </tr>\n",
       "    <tr>\n",
       "      <th>gene</th>\n",
       "      <th></th>\n",
       "    </tr>\n",
       "  </thead>\n",
       "  <tbody>\n",
       "    <tr>\n",
       "      <th>NMB0001</th>\n",
       "      <td>97.561</td>\n",
       "    </tr>\n",
       "    <tr>\n",
       "      <th>NMB0002</th>\n",
       "      <td>94.458</td>\n",
       "    </tr>\n",
       "    <tr>\n",
       "      <th>NMB0003</th>\n",
       "      <td>91.911</td>\n",
       "    </tr>\n",
       "    <tr>\n",
       "      <th>NMB0004</th>\n",
       "      <td>97.764</td>\n",
       "    </tr>\n",
       "    <tr>\n",
       "      <th>NMB0005</th>\n",
       "      <td>98.023</td>\n",
       "    </tr>\n",
       "  </tbody>\n",
       "</table>\n",
       "</div>"
      ],
      "text/plain": [
       "subject  AE004969.1\n",
       "gene               \n",
       "NMB0001      97.561\n",
       "NMB0002      94.458\n",
       "NMB0003      91.911\n",
       "NMB0004      97.764\n",
       "NMB0005      98.023"
      ]
     },
     "execution_count": 32,
     "metadata": {},
     "output_type": "execute_result"
    }
   ],
   "source": [
    "na_matrix.head()"
   ]
  },
  {
   "cell_type": "markdown",
   "metadata": {},
   "source": [
    "### Examine unnannotated open reading frames\n",
    "We compare the results from BLASTp and BLASTn and record any inconsistencies between the two matrices due to missing annotation. This result is then saved to guide future manual curation. "
   ]
  },
  {
   "cell_type": "code",
   "execution_count": 33,
   "metadata": {},
   "outputs": [],
   "source": [
    "# define a function to extract the sequence from fna file \n",
    "def extract_seq(g, contig, start, end):\n",
    "    from Bio import SeqIO\n",
    "    handle = open(g)\n",
    "    records = SeqIO.parse(handle, \"fasta\")\n",
    "    \n",
    "    for record in records:\n",
    "        if record.name==contig:\n",
    "            if end>start:\n",
    "                section = record[start:end]\n",
    "            else:\n",
    "                section = record[end-1:start+1].reverse_complement()\n",
    "                \n",
    "            seq = str(section.seq)\n",
    "    return seq"
   ]
  },
  {
   "cell_type": "code",
   "execution_count": 34,
   "metadata": {},
   "outputs": [],
   "source": [
    "#Define updated matrices that will include genes based on sequence evidence that were missing due to lack of annotation\n",
    "ortho_matrix_w_unannotated = ortho_matrix.copy()\n",
    "geneIDs_matrix_w_unannotated = geneIDs_matrix.copy()"
   ]
  },
  {
   "cell_type": "code",
   "execution_count": 35,
   "metadata": {},
   "outputs": [],
   "source": [
    "#Define matrix of the BLASTn results for all the pertinent model genes\n",
    "nonModelGenes=[]\n",
    "for g in na_matrix.index:\n",
    "    if g not in listGeneIDs:\n",
    "        nonModelGenes.append(g)\n",
    "\n",
    "na_model_genes=na_matrix.drop(nonModelGenes)"
   ]
  },
  {
   "cell_type": "code",
   "execution_count": 36,
   "metadata": {
    "scrolled": true
   },
   "outputs": [
    {
     "name": "stdout",
     "output_type": "stream",
     "text": [
      "AE004969.1 {'NMB0460', 'NMB0825', 'NMB2039', 'NMB1069', 'NMB0209', 'NMB0716', 'NMB0884', 'NMB1476', 'NMB1151', 'NMB1395', 'NMB1668', 'NMB0881', 'NMB1268', 'NMB1968', 'NMB1703', 'NMB0466', 'NMB0930', 'NMB0389', 'NMB0671', 'NMB1723', 'NMB1190', 'NMB1540', 'NMB1189', 'NMB0892', 'NMB1730', 'NMB1429', 'NMB1057', 'NMB1304', 'NMB1064'}\n"
     ]
    }
   ],
   "source": [
    "#For each strain in the ortho_matrix, identify genes that meet threshold of SEQ similarity, but missing from\n",
    "#annotated ORFS. Additionally, look at the sequence to ensure that these cases do not have early stop codons indicating\n",
    "#nonfunctional even if the NA seqs meet the threshold\n",
    "\n",
    "pseudogenes = {}\n",
    "\n",
    "for c in ortho_matrix.columns:\n",
    "    \n",
    "    orfs = ortho_matrix[c]\n",
    "    genes = na_model_genes[c]\n",
    "    # All the Model Genes that met the BLASTp Requirements\n",
    "    orfs2 = orfs[orfs==1].index.tolist()\n",
    "    # All the Model Genes based off of BLASTn similarity above threshold of 80\n",
    "    genes2 = genes[genes>=80].index.tolist()\n",
    "    # By Definition find the genes that pass sequence threshold but were NOT in annotated ORFs:\n",
    "    unannotated = set(genes2) -set(orfs2)\n",
    "    \n",
    "    # Obtain sequences of this list to check for premature stop codons:\n",
    "    data = cwd+'/Gc_GENRE_2022/Generate_Gc_Model/nucl/AE002098.2_vs_%s.txt'%c\n",
    "    cols = ['gene', 'subject', 'PID', 'alnLength', 'mismatchCount', 'gapOpenCount', 'queryStart', 'queryEnd', 'subjectStart', 'subjectEnd', 'eVal', 'bitScore']\n",
    "    data = pd.read_csv(data, sep='\\t', names=cols)\n",
    "    #\n",
    "    pseudogenes[c] = {}\n",
    "    unannotated_data = data[data['gene'].isin(list(unannotated))]\n",
    "    for i in unannotated_data.index:\n",
    "        gene = data.loc[i,'gene']\n",
    "        contig = data.loc[i,'subject'] \n",
    "        start = data.loc[i,'subjectStart']\n",
    "        end = data.loc[i,'subjectEnd']\n",
    "        seq = extract_seq(cwd+'/Gc_GENRE_2022/Generate_Gc_Model/genomes/%s.fna'%c,contig, start, end)\n",
    "        # check for early stop codons - these are likely nonfunctional and shouldn't be included\n",
    "        if '*' in seq:\n",
    "            print (seq)\n",
    "            pseudogenes[c][gene]=seq\n",
    "            # Remove the gene from list of unannotated genes\n",
    "            unannotated-set([gene])\n",
    "            \n",
    "    \n",
    "    print (c, unannotated)\n",
    "    \n",
    "    # For pertinent genes, retain those based off of nucleotide similarity within the orthology matrix and geneIDs matrix\n",
    "    ortho_matrix_w_unannotated.loc[unannotated,c]=1\n",
    "    for g in unannotated:\n",
    "        geneIDs_matrix_w_unannotated.loc[g,c] = '%s_ortholog'%g\n",
    "    "
   ]
  },
  {
   "cell_type": "code",
   "execution_count": 37,
   "metadata": {},
   "outputs": [],
   "source": [
    "#Save the Presence/Absence Matrix and geneIDs Matrix for future use\n",
    "ortho_matrix_w_unannotated.to_csv(cwd+'/Gc_GENRE_2022/Generate_Gc_Model/Matrices/ortho_matrix.csv')\n",
    "geneIDs_matrix_w_unannotated.to_csv(cwd+'/Gc_GENRE_2022/Generate_Gc_Model/Matrices/geneIDs_matrix.csv')"
   ]
  },
  {
   "cell_type": "code",
   "execution_count": null,
   "metadata": {},
   "outputs": [],
   "source": []
  },
  {
   "cell_type": "code",
   "execution_count": null,
   "metadata": {},
   "outputs": [],
   "source": []
  }
 ],
 "metadata": {
  "kernelspec": {
   "display_name": "Python 3",
   "language": "python",
   "name": "python3"
  },
  "language_info": {
   "codemirror_mode": {
    "name": "ipython",
    "version": 3
   },
   "file_extension": ".py",
   "mimetype": "text/x-python",
   "name": "python",
   "nbconvert_exporter": "python",
   "pygments_lexer": "ipython3",
   "version": "3.8.8"
  }
 },
 "nbformat": 4,
 "nbformat_minor": 4
}
