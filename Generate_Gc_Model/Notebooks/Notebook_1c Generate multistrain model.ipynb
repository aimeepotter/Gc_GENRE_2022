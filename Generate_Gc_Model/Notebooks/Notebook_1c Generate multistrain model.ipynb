{
 "cells": [
  {
   "cell_type": "code",
   "execution_count": 4,
   "id": "05c7edef-91d0-4bba-a2ee-25fa0b6637ca",
   "metadata": {},
   "outputs": [],
   "source": [
    "#import package needed\n",
    "import cobra\n",
    "import pandas as pd\n",
    "from cobra.io import load_json_model\n",
    "from glob import glob\n",
    "from cobra.manipulation.delete import delete_model_genes, remove_genes\n",
    "import seaborn as sns\n",
    "from cobra.flux_analysis import single_gene_deletion\n",
    "import os\n",
    "\n",
    "#Simplify reading/writing files\n",
    "cwd=os.path.realpath(os.path.join(os.path.dirname(os.getcwd()),\"..\",\"..\"))"
   ]
  },
  {
   "cell_type": "code",
   "execution_count": 2,
   "id": "d2dfec35-d7a0-43de-bea0-ffab35c0d9af",
   "metadata": {},
   "outputs": [],
   "source": [
    "#From Jenior 2021 C.diff notebooks - benchmarking C. difficile GENRES. https://github.com/csbl/Jenior_CdifficileGENRE_2021\n",
    "def basicCheck(model):\n",
    "    \n",
    "    # Determination\n",
    "    determination = float(len(model.reactions)) / float(len(model.metabolites))\n",
    "    determination = round(determination, 3)\n",
    "    if len(model.reactions) < len(model.metabolites): \n",
    "        statement = ' (overdetermined)'\n",
    "    elif len(model.reactions) > len(model.metabolites):\n",
    "        statement = ' (underdetermined)'\n",
    "    print('Reactions to metabolites ratio: ' + str(determination) + statement)\n",
    "    \n",
    "    # Compartments\n",
    "    print('GENRE has ' + str(len(model.compartments.keys())) + ' compartment(s)')\n",
    "    \n",
    "    # Genes\n",
    "    if len(model.genes) == 0: \n",
    "        print('GENRE has no gene data')\n",
    "    else:\n",
    "        print('GENRE has ' + str(len(model.genes)) + ' genes')\n",
    "    no_rxns = []\n",
    "    for gene in model.genes:\n",
    "          if len(gene.reactions) == 0:\n",
    "                no_rxns.append(gene.id)\n",
    "    if len(no_rxns) > 0:\n",
    "        print('\\t' + str(len(no_rxns)) + ' are not associated with reactions')\n",
    "        \n",
    "    # Growth\n",
    "    ov = model.slim_optimize(error_value=0.)\n",
    "    if ov < 1e-6:\n",
    "        for rxn in model.boundary: rxn.bounds = (-1000., 1000.)\n",
    "        ov = model.slim_optimize(error_value=0.)\n",
    "        if ov < 1e-6:\n",
    "            print('GENRE cannot acheive objective flux')\n",
    "        else:\n",
    "            ov = round(ov, 3)\n",
    "            print(str(ov) + ' objective flux, only in complete media')\n",
    "    else:\n",
    "        ov = round(ov, 3)\n",
    "        print(str(ov) + ' objective flux in current media')\n",
    "\n",
    "# Quicker way to read in models\n",
    "import pickle\n",
    "def read_model(fileName, obj='none'):\n",
    "    \n",
    "    fileType = fileName.split('.')[-1]\n",
    "    \n",
    "    if fileType == 'sbml' or fileType == 'xml':\n",
    "        model = cobra.io.read_sbml_model(fileName)\n",
    "    elif fileType == 'json':\n",
    "        model = cobra.io.load_json_model(fileName)\n",
    "    elif fileType == 'yaml':\n",
    "        model = cobra.io.load_yaml_model(fileName)\n",
    "    elif fileType == 'mat':\n",
    "        model = cobra.io.load_matlab_model(fileName)\n",
    "    elif fileType == 'pkl':\n",
    "        model = pickle.load(open(fileName, 'rb'))\n",
    "    else:\n",
    "        raise TypeError('Unrecognized file extension')\n",
    "    \n",
    "    if obj != 'none': model.objective = obj\n",
    "    for rxn in model.boundary: rxn.bounds = (-1000., 1000.)\n",
    "        \n",
    "    return model"
   ]
  },
  {
   "cell_type": "code",
   "execution_count": 28,
   "id": "d9bf623b-8d3d-4e88-aa62-e2bd34705b05",
   "metadata": {},
   "outputs": [],
   "source": [
    "#Define model medias\n",
    "rpmi_req=set(['EX_apoACP_c_', 'EX_trdrd_c_','EX_cobalt2_e_','EX_cu2_e_','EX_fe3_e_','EX_mn2_e_','EX_mobd_e_','EX_zn2_e_','EX_ca2_e_','EX_no3_e_','EX_h2o_e_','EX_k_e_','EX_cl_e_','EX_mg2_e_','EX_so4_e_','EX_na1_e_','EX_pi_e_','EX_h_e_','EX_arg_L_e_','EX_asn_L_e_','EX_asp_L_e_','EX_cys_L_e_','EX_glu_L_e_','EX_gly_e_','EX_his_L_e_','EX_ile_L_e_','EX_leu_L_e_','EX_lys_L_e_','EX_met_L_e_','EX_phe_L_e_','EX_pro_L_e_','EX_ser_L_e_','EX_thr_L_e_','EX_trp_L_e_','EX_tyr_L_e_','EX_val_L_e_','EX_pnto_R_e_','EX_chol_e_','EX_inost_e_','EX_glc_D_e_','EX_gthrd_e_','EX_co2_e_'])\n",
    "mdm_req=set(['EX_co2_e_', 'EX_cobalt2_e_', 'EX_cu2_e_' , 'EX_h_e_', 'EX_h2o_e_','EX_mn2_e_','EX_mobd_e_','EX_tungs_e_', 'EX_zn2_e_','EX_na1_e_','EX_cl_e_','EX_k_e_','EX_so4_e_','EX_nh4_e_','EX_mg2_e_','EX_pi_e_','EX_ca2_e_','EX_fe3_e_','EX_no3_e_','EX_asp_L_e_','EX_glu_L_e_','EX_arg_L_e_','EX_gly_e_','EX_ser_L_e_','EX_leu_L_e_','EX_ile_L_e_','EX_val_L_e_','EX_tyr_L_e_','EX_cys_L_e_','EX_pro_L_e_','EX_trp_L_e_','EX_thr_L_e_','EX_phe_L_e_','EX_asn_L_e_','EX_gln_L_e_','EX_his_L_e_','EX_met_L_e_','EX_ala_L_e_','EX_lys_L_e_','EX_gthrd_e_','EX_thm_e_','EX_pnto_R_e_','EX_glc_D_e_','EX_hxan_e_','EX_ura_e_'])\n",
    "\n",
    "\n",
    "def rpmi(model):\n",
    "    for reaction in model.reactions:\n",
    "        if 'EX_' in  reaction.id:\n",
    "            reaction.lower_bound=0\n",
    "        if reaction.id in rpmi_req:\n",
    "            reaction.lower_bound = -10.\n",
    "        if reaction.id == 'EX_o2_e_':\n",
    "            reaction.lower_bound = -20.\n",
    "        if reaction.id == 'EX_glc_D_e_':\n",
    "            reaction.lower_bound = -10.\n",
    "\n",
    "def MDM(model):\n",
    "    for reaction in model.reactions:\n",
    "        if 'EX_' in  reaction.id:\n",
    "            reaction.lower_bound=0\n",
    "        if reaction.id in mdm_req:\n",
    "            reaction.lower_bound = -10.\n",
    "        if reaction.id == 'EX_o2_e_':\n",
    "            reaction.lower_bound = -20.\n",
    "        if reaction.id == 'EX_glc_D_e_':\n",
    "            reaction.lower_bound = -10.\n",
    "            \n",
    "            \n",
    "def complete(model):\n",
    "    for reaction in model.reactions:\n",
    "        if 'EX_' in  reaction.id:\n",
    "            reaction.lower_bound=-10.\n",
    "        if reaction.id == 'EX_o2_e_':\n",
    "            reaction.lower_bound = -20.\n",
    "\n",
    "\n"
   ]
  },
  {
   "cell_type": "code",
   "execution_count": 5,
   "id": "9bb5a873-36e6-4d41-930d-ddaefbdc6572",
   "metadata": {},
   "outputs": [],
   "source": [
    "base = read_model(cwd+'/Gc_GENRE_2022/Models/Nmb_iTM560.json')"
   ]
  },
  {
   "cell_type": "code",
   "execution_count": 6,
   "id": "3a008d89-2071-4532-ad1b-1205928f2d79",
   "metadata": {},
   "outputs": [],
   "source": [
    "## Load the curated homology matrix for N. gonorrhoeae \n",
    "hom_matrix=pd.read_csv(cwd+'/Gc_GENRE_2022/Generate_Gc_Model/Matrices/ortho_matrixcurated.csv')\n",
    "hom_matrix=hom_matrix.set_index('Unnamed: 0')"
   ]
  },
  {
   "cell_type": "code",
   "execution_count": 7,
   "id": "c46325ca-7af0-4f81-956b-9a18f5163d42",
   "metadata": {},
   "outputs": [
    {
     "data": {
      "text/html": [
       "\n",
       "        <table>\n",
       "            <tr>\n",
       "                <td><strong>Reaction identifier</strong></td><td>ZN2abcpp</td>\n",
       "            </tr><tr>\n",
       "                <td><strong>Name</strong></td><td>R_ZN2abcpp</td>\n",
       "            </tr><tr>\n",
       "                <td><strong>Memory address</strong></td>\n",
       "                <td>0x0180433ada00</td>\n",
       "            </tr><tr>\n",
       "                <td><strong>Stoichiometry</strong></td>\n",
       "                <td>\n",
       "                    <p style='text-align:right'>M_atp_c_c + M_h2o_c_c + M_zn2_c_c --> M_adp_c_c + M_h_c_c + M_pi_c_c + M_zn2_p_c</p>\n",
       "                    <p style='text-align:right'>M_atp_c + M_h2o_c + M_zn2_c --> M_adp_c + M_h_c + M_pi_c + M_zn2_p</p>\n",
       "                </td>\n",
       "            </tr><tr>\n",
       "                <td><strong>GPR</strong></td><td>NMB0586 and NMB0587 and NMB0588</td>\n",
       "            </tr><tr>\n",
       "                <td><strong>Lower bound</strong></td><td>0.0</td>\n",
       "            </tr><tr>\n",
       "                <td><strong>Upper bound</strong></td><td>999999.0</td>\n",
       "            </tr>\n",
       "        </table>\n",
       "        "
      ],
      "text/plain": [
       "<Reaction ZN2abcpp at 0x180433ada00>"
      ]
     },
     "execution_count": 7,
     "metadata": {},
     "output_type": "execute_result"
    }
   ],
   "source": [
    "#Because ZN import is required, but ZupT is not present in Gc, Gc must use another method of aquiring Zn.\n",
    "#Gc uses the ZNU system to aquire zinc. This system is present in the model, however the reaction is incorrect. \n",
    "#Znu moves zinc from the periplasm to the cytosol, but the reaction is written so that Znu is exporting zinc in the NME model.\n",
    "#The following reactions correct this problem. \n",
    "#PMID: 11506909\n",
    "\n",
    "base.reactions.ZN2abcpp"
   ]
  },
  {
   "cell_type": "code",
   "execution_count": 8,
   "id": "f148d778-f371-4ba9-ac15-91c80a0488fd",
   "metadata": {},
   "outputs": [
    {
     "data": {
      "text/plain": [
       "{<Metabolite M_atp_c_c at 0x18042dacca0>: -1.0,\n",
       " <Metabolite M_h2o_c_c at 0x18042d24e80>: -1.0,\n",
       " <Metabolite M_zn2_c_c at 0x18042db7370>: -1.0,\n",
       " <Metabolite M_adp_c_c at 0x18042942b50>: 1.0,\n",
       " <Metabolite M_h_c_c at 0x18042d24820>: 1.0,\n",
       " <Metabolite M_pi_c_c at 0x18042d24640>: 1.0,\n",
       " <Metabolite M_zn2_p_c at 0x18042db7280>: 1.0}"
      ]
     },
     "execution_count": 8,
     "metadata": {},
     "output_type": "execute_result"
    }
   ],
   "source": [
    "ZN2abcpp = base.reactions.ZN2abcpp \n",
    "ZN2abcpp.metabolites"
   ]
  },
  {
   "cell_type": "code",
   "execution_count": 9,
   "id": "6d714bb1-bfa4-48b7-b9c3-c5e2b0c76da8",
   "metadata": {},
   "outputs": [],
   "source": [
    "M_atp_c_c=base.metabolites.get_by_id('M_atp_c_c')\n",
    "M_h2o_c_c=base.metabolites.get_by_id('M_h2o_c_c')\n",
    "M_zn2_c_c=base.metabolites.get_by_id('M_zn2_c_c')\n",
    "M_adp_c_c=base.metabolites.get_by_id('M_adp_c_c')\n",
    "M_h_c_c=base.metabolites.get_by_id('M_h_c_c')\n",
    "M_pi_c_c=base.metabolites.get_by_id('M_pi_c_c')\n",
    "M_zn2_p_c=base.metabolites.get_by_id('M_zn2_p_c')"
   ]
  },
  {
   "cell_type": "code",
   "execution_count": 10,
   "id": "d9cc1f14-a4c7-4fe5-b2a7-a4c3d25c1f28",
   "metadata": {},
   "outputs": [],
   "source": [
    "ZN2abcpp.subtract_metabolites({\n",
    "    M_atp_c_c: -1,\n",
    "    M_h2o_c_c: -1,\n",
    "    M_zn2_c_c: -1,\n",
    "    M_adp_c_c: 1,\n",
    "    M_h_c_c: 1,\n",
    "    M_pi_c_c: 1,\n",
    "    M_zn2_p_c: 1,\n",
    "})\n",
    "\n",
    "\n",
    "ZN2abcpp.add_metabolites({\n",
    "    M_atp_c_c: -1,\n",
    "    M_h2o_c_c: -1,\n",
    "    M_zn2_c_c: 1,\n",
    "    M_adp_c_c: 1,\n",
    "    M_h_c_c: 1,\n",
    "    M_pi_c_c: 1,\n",
    "    M_zn2_p_c: -1,\n",
    "})"
   ]
  },
  {
   "cell_type": "code",
   "execution_count": 11,
   "id": "a7dedb98-f2e8-4008-b1b1-27f9b83a0f09",
   "metadata": {},
   "outputs": [
    {
     "data": {
      "text/html": [
       "\n",
       "        <table>\n",
       "            <tr>\n",
       "                <td><strong>Reaction identifier</strong></td><td>ZN2abcpp</td>\n",
       "            </tr><tr>\n",
       "                <td><strong>Name</strong></td><td>R_ZN2abcpp</td>\n",
       "            </tr><tr>\n",
       "                <td><strong>Memory address</strong></td>\n",
       "                <td>0x0180433ada00</td>\n",
       "            </tr><tr>\n",
       "                <td><strong>Stoichiometry</strong></td>\n",
       "                <td>\n",
       "                    <p style='text-align:right'>M_atp_c_c + M_h2o_c_c + M_zn2_p_c --> M_adp_c_c + M_h_c_c + M_pi_c_c + M_zn2_c_c</p>\n",
       "                    <p style='text-align:right'>M_atp_c + M_h2o_c + M_zn2_p --> M_adp_c + M_h_c + M_pi_c + M_zn2_c</p>\n",
       "                </td>\n",
       "            </tr><tr>\n",
       "                <td><strong>GPR</strong></td><td>NMB0586 and NMB0587 and NMB0588</td>\n",
       "            </tr><tr>\n",
       "                <td><strong>Lower bound</strong></td><td>0.0</td>\n",
       "            </tr><tr>\n",
       "                <td><strong>Upper bound</strong></td><td>999999.0</td>\n",
       "            </tr>\n",
       "        </table>\n",
       "        "
      ],
      "text/plain": [
       "<Reaction ZN2abcpp at 0x180433ada00>"
      ]
     },
     "execution_count": 11,
     "metadata": {},
     "output_type": "execute_result"
    }
   ],
   "source": [
    "base.reactions.ZN2abcpp"
   ]
  },
  {
   "cell_type": "code",
   "execution_count": 12,
   "id": "24e90d9e-f473-4e6f-909e-125ddd353b08",
   "metadata": {},
   "outputs": [
    {
     "data": {
      "text/plain": [
       "'(NGO2110ortholog and NGO2109ortholog)'"
      ]
     },
     "execution_count": 12,
     "metadata": {},
     "output_type": "execute_result"
    }
   ],
   "source": [
    "#Gc uses NGO2110 and NGO2109 (HbuAB) for hemoglobin aquisition instead (see notes in NGO model excel file for more info)\n",
    "base.reactions.HGFE\n",
    "base.reactions.HGFE.gene_reaction_rule = \"(NGO2110ortholog and NGO2109ortholog)\"\n",
    "base.reactions.HGFE.gene_reaction_rule"
   ]
  },
  {
   "cell_type": "code",
   "execution_count": 13,
   "id": "808ae83d-38f6-4954-a36e-fb7623761f69",
   "metadata": {},
   "outputs": [
    {
     "data": {
      "text/plain": [
       "'(NMB0879 and NMB0880 and NMB1017)'"
      ]
     },
     "execution_count": 13,
     "metadata": {},
     "output_type": "execute_result"
    }
   ],
   "source": [
    "#Gc strain FA1090 does not have a functional cysU (NGO0881) but still functionally aquires sulfate (see notes in NGO model excel file for more info)\n",
    "base.reactions.SULabcpp.gene_reaction_rule = \"(NMB0879 and NMB0880 and NMB1017)\"\n",
    "base.reactions.SULabcpp.gene_reaction_rule"
   ]
  },
  {
   "cell_type": "code",
   "execution_count": 14,
   "id": "62c99c50-70dc-41fc-b383-5622831f448d",
   "metadata": {},
   "outputs": [
    {
     "data": {
      "text/plain": [
       "'NMB0879 and NMB0880 and NMB0881 and NMB1017'"
      ]
     },
     "execution_count": 14,
     "metadata": {},
     "output_type": "execute_result"
    }
   ],
   "source": [
    "base.reactions.TSULabcpp.gene_reaction_rule"
   ]
  },
  {
   "cell_type": "code",
   "execution_count": 15,
   "id": "7495ddff-7643-4c75-bee2-08327e4dcd52",
   "metadata": {},
   "outputs": [
    {
     "data": {
      "text/plain": [
       "'(NMB0879 and NMB0880 and NMB1017)'"
      ]
     },
     "execution_count": 15,
     "metadata": {},
     "output_type": "execute_result"
    }
   ],
   "source": [
    "#Gc strain FA1090 does not have a functional cysU (NGO0881) but still functionally aquires thiosulfate (see notes in NGO model excel file for more info)\n",
    "base.reactions.TSULabcpp.gene_reaction_rule = \"(NMB0879 and NMB0880 and NMB1017)\"\n",
    "base.reactions.TSULabcpp.gene_reaction_rule"
   ]
  },
  {
   "cell_type": "code",
   "execution_count": 16,
   "id": "2ecaef26-2792-4d39-a480-b62133e2cbdc",
   "metadata": {},
   "outputs": [
    {
     "name": "stdout",
     "output_type": "stream",
     "text": [
      "Nmb_iTM560 Number of Model Genes: 564 Number of Model Reactions: 1519\n"
     ]
    }
   ],
   "source": [
    "print (base.id,'Number of Model Genes:',len(base.genes),'Number of Model Reactions:',len(base.reactions))"
   ]
  },
  {
   "cell_type": "code",
   "execution_count": 18,
   "id": "d070be90-0d7c-4cb7-a13e-f6d4e83f5363",
   "metadata": {},
   "outputs": [],
   "source": [
    "#create strain-specific draft models and save them\n",
    "for strain in hom_matrix.columns:\n",
    "    \n",
    "    #Get the list of Gene IDs from the homology matrix dataframe for the current strain without a homolog\n",
    "    currentStrain=hom_matrix[strain]\n",
    "    nonHomologous=currentStrain[currentStrain==0.0]\n",
    "    nonHomologous=nonHomologous.index.tolist()\n",
    "    \n",
    "    \n",
    "    \n",
    "    #Define a list of Gene objects from the base reconstruction to be deleted from the current strain\n",
    "    toDelete=[]\n",
    "    for gene in nonHomologous:\n",
    "        toDelete.append(base.genes.get_by_id(gene))\n",
    "\n",
    "    #Establish a model copy and use the COBRApy function to remove the appropriate content and save this model\n",
    "    baseCopy=base.copy()\n",
    "    remove_genes(baseCopy, toDelete, remove_reactions=True)\n",
    "    baseCopy.id=str(strain)\n",
    "    cobra.io.json.save_json_model(baseCopy, str(cwd+'/Gc_GENRE_2022/Generate_Gc_Model/FinalModels/AE004969.1.json'), pretty=False)"
   ]
  },
  {
   "cell_type": "code",
   "execution_count": 19,
   "id": "6f75c984-69c2-4bc2-9ca1-2cedbf56b0ea",
   "metadata": {},
   "outputs": [
    {
     "name": "stdout",
     "output_type": "stream",
     "text": [
      "AE004969.1 Number of Model Genes: 520 Number of Model Reactions: 1484\n"
     ]
    }
   ],
   "source": [
    "print (baseCopy.id,'Number of Model Genes:',len(baseCopy.genes),'Number of Model Reactions:',len(baseCopy.reactions))"
   ]
  },
  {
   "cell_type": "code",
   "execution_count": 24,
   "id": "3b298d05-9436-4519-bc5f-bbecf10fd56d",
   "metadata": {},
   "outputs": [
    {
     "data": {
      "text/html": [
       "<div>\n",
       "<style scoped>\n",
       "    .dataframe tbody tr th:only-of-type {\n",
       "        vertical-align: middle;\n",
       "    }\n",
       "\n",
       "    .dataframe tbody tr th {\n",
       "        vertical-align: top;\n",
       "    }\n",
       "\n",
       "    .dataframe thead th {\n",
       "        text-align: right;\n",
       "    }\n",
       "</style>\n",
       "<table border=\"1\" class=\"dataframe\">\n",
       "  <thead>\n",
       "    <tr style=\"text-align: right;\">\n",
       "      <th></th>\n",
       "      <th>AE004969.1</th>\n",
       "    </tr>\n",
       "    <tr>\n",
       "      <th>Unnamed: 0</th>\n",
       "      <th></th>\n",
       "    </tr>\n",
       "  </thead>\n",
       "  <tbody>\n",
       "    <tr>\n",
       "      <th>Blank</th>\n",
       "      <td>Blank</td>\n",
       "    </tr>\n",
       "    <tr>\n",
       "      <th>NGO2109ortholog</th>\n",
       "      <td>NGO2109</td>\n",
       "    </tr>\n",
       "    <tr>\n",
       "      <th>NGO2110ortholog</th>\n",
       "      <td>NGO2110</td>\n",
       "    </tr>\n",
       "    <tr>\n",
       "      <th>NMB0003</th>\n",
       "      <td>NGO1926</td>\n",
       "    </tr>\n",
       "    <tr>\n",
       "      <th>NMB0006</th>\n",
       "      <td>NGO1923</td>\n",
       "    </tr>\n",
       "    <tr>\n",
       "      <th>...</th>\n",
       "      <td>...</td>\n",
       "    </tr>\n",
       "    <tr>\n",
       "      <th>NMB2156</th>\n",
       "      <td>NGO1934</td>\n",
       "    </tr>\n",
       "    <tr>\n",
       "      <th>NMB2157</th>\n",
       "      <td>NGO1933</td>\n",
       "    </tr>\n",
       "    <tr>\n",
       "      <th>NMB2159</th>\n",
       "      <td>NGO1931</td>\n",
       "    </tr>\n",
       "    <tr>\n",
       "      <th>Orphan</th>\n",
       "      <td>Orphan</td>\n",
       "    </tr>\n",
       "    <tr>\n",
       "      <th>Sgene</th>\n",
       "      <td>Sgene</td>\n",
       "    </tr>\n",
       "  </tbody>\n",
       "</table>\n",
       "<p>564 rows × 1 columns</p>\n",
       "</div>"
      ],
      "text/plain": [
       "                AE004969.1\n",
       "Unnamed: 0                \n",
       "Blank                Blank\n",
       "NGO2109ortholog    NGO2109\n",
       "NGO2110ortholog    NGO2110\n",
       "NMB0003            NGO1926\n",
       "NMB0006            NGO1923\n",
       "...                    ...\n",
       "NMB2156            NGO1934\n",
       "NMB2157            NGO1933\n",
       "NMB2159            NGO1931\n",
       "Orphan              Orphan\n",
       "Sgene                Sgene\n",
       "\n",
       "[564 rows x 1 columns]"
      ]
     },
     "execution_count": 24,
     "metadata": {},
     "output_type": "execute_result"
    }
   ],
   "source": [
    "#load the geneID matrix from the notebook1 \n",
    "models=glob(cwd+'/Gc_GENRE_2022/Generate_Gc_Model/FinalModels/AE004969.1.json')\n",
    "geneIDs_matrix=pd.read_csv(cwd+'/Gc_GENRE_2022/Generate_Gc_Model/Matrices/geneIDs_matrixcurated.csv')\n",
    "geneIDs_matrix=geneIDs_matrix.set_index('Unnamed: 0')\n",
    "geneIDs_matrix"
   ]
  },
  {
   "cell_type": "code",
   "execution_count": 25,
   "id": "c98245b5-df9f-4196-83dd-57943236b607",
   "metadata": {},
   "outputs": [],
   "source": [
    "#Utilize the geneIDs matrix to update the GPRs in each of the strain-specific Final model with the proper gene ID\n",
    "\n",
    "from cobra.manipulation.modify import rename_genes\n",
    "\n",
    "for mod in models:\n",
    "    model=cobra.io.load_json_model(mod)\n",
    "    for column in geneIDs_matrix.columns:\n",
    "        if column in mod:\n",
    "            currentStrain=column\n",
    "    \n",
    "    IDMapping=geneIDs_matrix[currentStrain].to_dict()\n",
    "    IDMappingParsed = {k:v for k,v in IDMapping.items() if v != 'None'}\n",
    "    \n",
    "    rename_genes(model,IDMappingParsed)\n",
    "    cobra.io.json.save_json_model(model,str(cwd+'/Gc_GENRE_2022/Generate_Gc_Model/FinalModels/AE004969.1.json'), pretty=False)"
   ]
  },
  {
   "cell_type": "code",
   "execution_count": 26,
   "id": "1ca142d7-a7dd-47a8-938e-aa8cf6a9d8d5",
   "metadata": {},
   "outputs": [
    {
     "name": "stdout",
     "output_type": "stream",
     "text": [
      "AE004969.1 Number of Model Genes: 514 Number of Model Reactions: 1484\n"
     ]
    }
   ],
   "source": [
    "# gather the general information on the Final Model\n",
    "for strain in hom_matrix.columns:\n",
    "    model=cobra.io.load_json_model(str(cwd+'/Gc_GENRE_2022/Generate_Gc_Model/FinalModels/AE004969.1.json'))\n",
    "    print (model.id, 'Number of Model Genes:',len(model.genes),'Number of Model Reactions:',len(model.reactions))"
   ]
  },
  {
   "cell_type": "code",
   "execution_count": 30,
   "id": "73c5b268-2096-47c4-aa5e-5b23d78fdc65",
   "metadata": {},
   "outputs": [
    {
     "name": "stdout",
     "output_type": "stream",
     "text": [
      "AE004969.1\n",
      "MDM: 0.9886693787246059\n",
      "RPMI: 0.9378805966435457\n",
      "Complete media: 2.3284316745885696\n",
      "Nmb_iTM560\n",
      "MDM: 1.0557843488117042\n",
      "RPMI: 1.0113116219943517\n",
      "Complete media: 3.72664027103791\n"
     ]
    }
   ],
   "source": [
    "#Confirm growth of the Final model on desired in silico media\n",
    "model=read_model(cwd+'/Gc_GENRE_2022/Generate_Gc_Model/FinalModels/AE004969.1.json')\n",
    "base=read_model(cwd+'/Gc_GENRE_2022/Models/Nmb_iTM560.json')\n",
    "model.objective =\"Nm_Ess_biomass\"\n",
    "base.objective =\"Nm_Ess_biomass\"\n",
    "\n",
    "print (model.id)\n",
    "MDM(model)\n",
    "print ('MDM:',model.slim_optimize())\n",
    "rpmi(model)\n",
    "print ('RPMI:', model.slim_optimize())\n",
    "complete(model)\n",
    "print ('Complete media:', model.slim_optimize())\n",
    "\n",
    "print (base.id)\n",
    "MDM(base)\n",
    "print ('MDM:',base.slim_optimize())\n",
    "rpmi(base)\n",
    "print ('RPMI:', base.slim_optimize())\n",
    "complete(base)\n",
    "print ('Complete media:', base.slim_optimize())"
   ]
  },
  {
   "cell_type": "code",
   "execution_count": null,
   "id": "bb604b9e-29ea-4cf6-b1f5-9174dd4d99ae",
   "metadata": {},
   "outputs": [],
   "source": []
  },
  {
   "cell_type": "code",
   "execution_count": null,
   "id": "8fa99b3d-bcc4-4b6a-ab57-6d34dfd75106",
   "metadata": {},
   "outputs": [],
   "source": []
  }
 ],
 "metadata": {
  "kernelspec": {
   "display_name": "Python 3",
   "language": "python",
   "name": "python3"
  },
  "language_info": {
   "codemirror_mode": {
    "name": "ipython",
    "version": 3
   },
   "file_extension": ".py",
   "mimetype": "text/x-python",
   "name": "python",
   "nbconvert_exporter": "python",
   "pygments_lexer": "ipython3",
   "version": "3.8.8"
  }
 },
 "nbformat": 4,
 "nbformat_minor": 5
}
