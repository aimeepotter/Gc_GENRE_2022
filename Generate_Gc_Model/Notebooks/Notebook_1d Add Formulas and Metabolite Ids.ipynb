{
 "cells": [
  {
   "cell_type": "code",
   "execution_count": 13,
   "metadata": {},
   "outputs": [],
   "source": [
    "import cobra\n",
    "from cobra.io import load_json_model, read_sbml_model, write_sbml_model, save_json_model\n",
    "import pandas as pd\n",
    "import os\n",
    "\n",
    "#Simplify reading/writing files\n",
    "cwd=os.path.realpath(os.path.join(os.path.dirname(os.getcwd()),\"..\",\"..\"))\n",
    "\n",
    "# Quicker way to read in models\n",
    "import pickle\n",
    "def read_model(fileName, obj='none'):\n",
    "    \n",
    "    fileType = fileName.split('.')[-1]\n",
    "    \n",
    "    if fileType == 'sbml' or fileType == 'xml':\n",
    "        model = cobra.io.read_sbml_model(fileName)\n",
    "    elif fileType == 'json':\n",
    "        model = cobra.io.load_json_model(fileName)\n",
    "    elif fileType == 'yaml':\n",
    "        model = cobra.io.load_yaml_model(fileName)\n",
    "    elif fileType == 'mat':\n",
    "        model = cobra.io.load_matlab_model(fileName)\n",
    "    elif fileType == 'pkl':\n",
    "        model = pickle.load(open(fileName, 'rb'))\n",
    "    else:\n",
    "        raise TypeError('Unrecognized file extension')\n",
    "    \n",
    "    if obj != 'none': model.objective = obj\n",
    "    for rxn in model.boundary: rxn.bounds = (-1000., 1000.)\n",
    "        \n",
    "    return model"
   ]
  },
  {
   "cell_type": "code",
   "execution_count": 3,
   "metadata": {},
   "outputs": [],
   "source": [
    "model=read_model(cwd+'/Gc_GENRE_2022/Generate_Gc_Model/FinalModels/AE004969.1.json')"
   ]
  },
  {
   "cell_type": "code",
   "execution_count": 4,
   "metadata": {},
   "outputs": [
    {
     "data": {
      "text/html": [
       "\n",
       "        <table>\n",
       "            <tr>\n",
       "                <td><strong>Metabolite identifier</strong></td><td>M_thr_L_c_c</td>\n",
       "            </tr><tr>\n",
       "                <td><strong>Name</strong></td><td>M_thr_L_c</td>\n",
       "            </tr><tr>\n",
       "                <td><strong>Memory address</strong></td>\n",
       "                <td>0x0247660dff10</td>\n",
       "            </tr><tr>\n",
       "                <td><strong>Formula</strong></td><td></td>\n",
       "            </tr><tr>\n",
       "                <td><strong>Compartment</strong></td><td>Cytosol</td>\n",
       "            </tr><tr>\n",
       "                <td><strong>In 6 reaction(s)</strong></td><td>\n",
       "                    THRS, THRD_L, THRt2pp, PROTS, THRabcpp, THRt1rpp</td>\n",
       "            </tr>\n",
       "        </table>"
      ],
      "text/plain": [
       "<Metabolite M_thr_L_c_c at 0x247660dff10>"
      ]
     },
     "execution_count": 4,
     "metadata": {},
     "output_type": "execute_result"
    }
   ],
   "source": [
    "model.metabolites.M_thr_L_c_c"
   ]
  },
  {
   "cell_type": "code",
   "execution_count": 5,
   "metadata": {},
   "outputs": [],
   "source": [
    "#Remove M_ and _c from each metabolite id\n",
    "for metabolite in model.metabolites:\n",
    "    if 'M_' in metabolite.id:\n",
    "        metabolite.id= metabolite.id[2:-2]"
   ]
  },
  {
   "cell_type": "code",
   "execution_count": 6,
   "metadata": {},
   "outputs": [
    {
     "data": {
      "text/html": [
       "\n",
       "        <table>\n",
       "            <tr>\n",
       "                <td><strong>Metabolite identifier</strong></td><td>thr_L_c</td>\n",
       "            </tr><tr>\n",
       "                <td><strong>Name</strong></td><td>M_thr_L_c</td>\n",
       "            </tr><tr>\n",
       "                <td><strong>Memory address</strong></td>\n",
       "                <td>0x0247660dff10</td>\n",
       "            </tr><tr>\n",
       "                <td><strong>Formula</strong></td><td></td>\n",
       "            </tr><tr>\n",
       "                <td><strong>Compartment</strong></td><td>Cytosol</td>\n",
       "            </tr><tr>\n",
       "                <td><strong>In 6 reaction(s)</strong></td><td>\n",
       "                    THRS, THRD_L, THRt2pp, PROTS, THRabcpp, THRt1rpp</td>\n",
       "            </tr>\n",
       "        </table>"
      ],
      "text/plain": [
       "<Metabolite thr_L_c at 0x247660dff10>"
      ]
     },
     "execution_count": 6,
     "metadata": {},
     "output_type": "execute_result"
    }
   ],
   "source": [
    "model.metabolites.thr_L_c"
   ]
  },
  {
   "cell_type": "code",
   "execution_count": 8,
   "metadata": {},
   "outputs": [
    {
     "data": {
      "text/html": [
       "<div>\n",
       "<style scoped>\n",
       "    .dataframe tbody tr th:only-of-type {\n",
       "        vertical-align: middle;\n",
       "    }\n",
       "\n",
       "    .dataframe tbody tr th {\n",
       "        vertical-align: top;\n",
       "    }\n",
       "\n",
       "    .dataframe thead th {\n",
       "        text-align: right;\n",
       "    }\n",
       "</style>\n",
       "<table border=\"1\" class=\"dataframe\">\n",
       "  <thead>\n",
       "    <tr style=\"text-align: right;\">\n",
       "      <th></th>\n",
       "      <th>Full name</th>\n",
       "      <th>Formula</th>\n",
       "    </tr>\n",
       "    <tr>\n",
       "      <th>Abbreviated name</th>\n",
       "      <th></th>\n",
       "      <th></th>\n",
       "    </tr>\n",
       "  </thead>\n",
       "  <tbody>\n",
       "    <tr>\n",
       "      <th>10fthf_c</th>\n",
       "      <td>10-Formyltetrahydrofolate</td>\n",
       "      <td>C20H21N7O7</td>\n",
       "    </tr>\n",
       "    <tr>\n",
       "      <th>12dgr120_c</th>\n",
       "      <td>1-2-Diacyl-sn-glycerol-didodecanoyl-n-C120</td>\n",
       "      <td>C27H52O5</td>\n",
       "    </tr>\n",
       "    <tr>\n",
       "      <th>12dgr120_p</th>\n",
       "      <td>1-2-Diacyl-sn-glycerol-didodecanoyl-n-C120</td>\n",
       "      <td>C27H52O5</td>\n",
       "    </tr>\n",
       "    <tr>\n",
       "      <th>12dgr140_c</th>\n",
       "      <td>1-2-Diacyl-sn-glycerol-ditetradecanoyl-n-C140</td>\n",
       "      <td>C31H60O5</td>\n",
       "    </tr>\n",
       "    <tr>\n",
       "      <th>12dgr140_p</th>\n",
       "      <td>1-2-Diacyl-sn-glycerol-ditetradecanoyl-n-C140</td>\n",
       "      <td>C31H60O5</td>\n",
       "    </tr>\n",
       "    <tr>\n",
       "      <th>...</th>\n",
       "      <td>...</td>\n",
       "      <td>...</td>\n",
       "    </tr>\n",
       "    <tr>\n",
       "      <th>NaN</th>\n",
       "      <td></td>\n",
       "      <td></td>\n",
       "    </tr>\n",
       "    <tr>\n",
       "      <th>NaN</th>\n",
       "      <td></td>\n",
       "      <td></td>\n",
       "    </tr>\n",
       "    <tr>\n",
       "      <th>NaN</th>\n",
       "      <td></td>\n",
       "      <td></td>\n",
       "    </tr>\n",
       "    <tr>\n",
       "      <th>NaN</th>\n",
       "      <td></td>\n",
       "      <td></td>\n",
       "    </tr>\n",
       "    <tr>\n",
       "      <th>NaN</th>\n",
       "      <td></td>\n",
       "      <td></td>\n",
       "    </tr>\n",
       "  </tbody>\n",
       "</table>\n",
       "<p>1637 rows × 2 columns</p>\n",
       "</div>"
      ],
      "text/plain": [
       "                                                      Full name     Formula\n",
       "Abbreviated name                                                           \n",
       "10fthf_c                              10-Formyltetrahydrofolate  C20H21N7O7\n",
       "12dgr120_c           1-2-Diacyl-sn-glycerol-didodecanoyl-n-C120    C27H52O5\n",
       "12dgr120_p           1-2-Diacyl-sn-glycerol-didodecanoyl-n-C120    C27H52O5\n",
       "12dgr140_c        1-2-Diacyl-sn-glycerol-ditetradecanoyl-n-C140    C31H60O5\n",
       "12dgr140_p        1-2-Diacyl-sn-glycerol-ditetradecanoyl-n-C140    C31H60O5\n",
       "...                                                         ...         ...\n",
       "NaN                                                                        \n",
       "NaN                                                                        \n",
       "NaN                                                                        \n",
       "NaN                                                                        \n",
       "NaN                                                                        \n",
       "\n",
       "[1637 rows x 2 columns]"
      ]
     },
     "execution_count": 8,
     "metadata": {},
     "output_type": "execute_result"
    }
   ],
   "source": [
    "#load metabolite annotation table\n",
    "metabolites= list()\n",
    "for mets in model.metabolites:\n",
    "    metabolites.append(mets.id)\n",
    "metabolites\n",
    "\n",
    "#Use Mendum 2011 metabolite formulas\n",
    "annotation_table = pd.read_csv (cwd+'/Gc_GENRE_2022/Generate_Gc_Model/Mendum_2011_annotations/metabolite_annotations.csv', usecols= ['Abbreviated name', 'Full name', 'Formula' ],index_col=0)\n",
    "annotation_table = annotation_table.fillna('')\n",
    "annotation_table                       \n"
   ]
  },
  {
   "cell_type": "code",
   "execution_count": 9,
   "metadata": {},
   "outputs": [],
   "source": [
    "#Add gene annotations to model from annotation table\n",
    "for x in model.metabolites:\n",
    "    metid=x.id\n",
    "    if metid in annotation_table.index:\n",
    "        full_name_id=annotation_table['Full name'].loc[metid]\n",
    "        model.metabolites.get_by_id(metid).name=str(full_name_id)\n",
    "        formula=annotation_table['Formula'].loc[metid]\n",
    "        model.metabolites.get_by_id(metid).formula= str(formula)      \n",
    "    else:\n",
    "        pass"
   ]
  },
  {
   "cell_type": "code",
   "execution_count": 10,
   "metadata": {},
   "outputs": [
    {
     "data": {
      "text/plain": [
       "'C4H9NO3'"
      ]
     },
     "execution_count": 10,
     "metadata": {},
     "output_type": "execute_result"
    }
   ],
   "source": [
    "model.metabolites.thr_L_c.formula"
   ]
  },
  {
   "cell_type": "code",
   "execution_count": 11,
   "metadata": {},
   "outputs": [
    {
     "data": {
      "text/html": [
       "\n",
       "        <table>\n",
       "            <tr>\n",
       "                <td><strong>Name</strong></td>\n",
       "                <td>AE004969.1</td>\n",
       "            </tr><tr>\n",
       "                <td><strong>Memory address</strong></td>\n",
       "                <td>0x02475ed68820</td>\n",
       "            </tr><tr>\n",
       "                <td><strong>Number of metabolites</strong></td>\n",
       "                <td>1297</td>\n",
       "            </tr><tr>\n",
       "                <td><strong>Number of reactions</strong></td>\n",
       "                <td>1484</td>\n",
       "            </tr><tr>\n",
       "                <td><strong>Number of groups</strong></td>\n",
       "                <td>0</td>\n",
       "            </tr><tr>\n",
       "                <td><strong>Objective expression</strong></td>\n",
       "                <td>0</td>\n",
       "            </tr><tr>\n",
       "                <td><strong>Compartments</strong></td>\n",
       "                <td>Cytosol</td>\n",
       "            </tr>\n",
       "          </table>"
      ],
      "text/plain": [
       "<Model AE004969.1 at 0x2475ed68820>"
      ]
     },
     "execution_count": 11,
     "metadata": {},
     "output_type": "execute_result"
    }
   ],
   "source": [
    "model"
   ]
  },
  {
   "cell_type": "code",
   "execution_count": 14,
   "metadata": {},
   "outputs": [],
   "source": [
    "save_json_model(model,cwd+'/Gc_GENRE_2022/Models/AE004969.1.json')"
   ]
  },
  {
   "cell_type": "code",
   "execution_count": null,
   "metadata": {},
   "outputs": [],
   "source": []
  },
  {
   "cell_type": "code",
   "execution_count": null,
   "metadata": {},
   "outputs": [],
   "source": []
  }
 ],
 "metadata": {
  "kernelspec": {
   "display_name": "Python 3",
   "language": "python",
   "name": "python3"
  },
  "language_info": {
   "codemirror_mode": {
    "name": "ipython",
    "version": 3
   },
   "file_extension": ".py",
   "mimetype": "text/x-python",
   "name": "python",
   "nbconvert_exporter": "python",
   "pygments_lexer": "ipython3",
   "version": "3.8.8"
  }
 },
 "nbformat": 4,
 "nbformat_minor": 4
}
